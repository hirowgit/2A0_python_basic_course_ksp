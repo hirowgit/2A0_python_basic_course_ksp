{
 "cells": [
  {
   "cell_type": "code",
   "execution_count": 1,
   "id": "a932f4ee",
   "metadata": {},
   "outputs": [],
   "source": [
    "## Python basics for novice data scientists, supported by Wagatsuma Lab@Kyutech \n",
    "#\n",
    "# The MIT License (MIT): Copyright (c) 2020 Hiroaki Wagatsuma and Wagatsuma Lab@Kyutech\n",
    "# \n",
    "# Permission is hereby granted, free of charge, to any person obtaining a copy of this software and associated documentation files (the \"Software\"), to deal in the Software without restriction, including without limitation the rights to use, copy, modify, merge, publish, distribute, sublicense, and/or sell copies of the Software, and to permit persons to whom the Software is furnished to do so, subject to the following conditions:\n",
    "# The above copyright notice and this permission notice shall be included in all copies or substantial portions of the Software.\n",
    "# THE SOFTWARE IS PROVIDED \"AS IS\", WITHOUT WARRANTY OF ANY KIND, EXPRESS OR IMPLIED, INCLUDING BUT NOT LIMITED TO THE WARRANTIES OF MERCHANTABILITY, FITNESS FOR A PARTICULAR PURPOSE AND NONINFRINGEMENT. IN NO EVENT SHALL THE AUTHORS OR COPYRIGHT HOLDERS BE LIABLE FOR ANY CLAIM, DAMAGES OR OTHER LIABILITY, WHETHER IN AN ACTION OF CONTRACT, TORT OR OTHERWISE, ARISING FROM, OUT OF OR IN CONNECTION WITH THE SOFTWARE OR THE USE OR OTHER DEALINGS IN THE SOFTWARE. */\n",
    "#\n",
    "# # @Time    : 2023-7-1 \n",
    "# # @Author  : Hiroaki Wagatsuma\n",
    "# # @Site    : https://github.com/hirowgit/2A_python_basic_course\n",
    "# # @IDE     : Python 3.10.9 (main, Dec 15 2022, 18:18:30) [Clang 14.0.0 (clang-1400.0.29.202)] on darwin\n",
    "# # @File    : ksp_novice_lec03.py "
   ]
  },
  {
   "cell_type": "code",
   "execution_count": 30,
   "id": "3d5ed2eb",
   "metadata": {},
   "outputs": [],
   "source": [
    "import numpy as np\n",
    "import numpy.matlib\n",
    "import os\n",
    "import sys\n",
    "import codecs\n",
    "import matplotlib.pyplot as plt\n",
    "import pandas as pd\n",
    "from openpyxl import Workbook\n",
    "import pprint\n",
    "import datetime"
   ]
  },
  {
   "cell_type": "code",
   "execution_count": 31,
   "id": "1154a7aa",
   "metadata": {},
   "outputs": [],
   "source": [
    "import seaborn as sns "
   ]
  },
  {
   "cell_type": "code",
   "execution_count": 32,
   "id": "f01d831a",
   "metadata": {},
   "outputs": [],
   "source": [
    "import plotly.offline\n",
    "import plotly.express as px\n",
    "import plotly.graph_objects as go\n",
    "import plotly.subplots\n",
    "import squarify"
   ]
  },
  {
   "cell_type": "code",
   "execution_count": null,
   "id": "1cdbcbf2",
   "metadata": {},
   "outputs": [],
   "source": [
    "!pip install sympy\n",
    "#もし sympyがインストールされてなかったら上述の　コードを実行してください\n",
    "import sympy as sy"
   ]
  },
  {
   "cell_type": "code",
   "execution_count": 4,
   "id": "d5073222",
   "metadata": {},
   "outputs": [],
   "source": [
    "# !pip install sympy\n",
    "#もし sympyがインストールされてあれば、下記だけで結構です\n",
    "import sympy as sy"
   ]
  },
  {
   "cell_type": "code",
   "execution_count": null,
   "id": "6126b12f",
   "metadata": {},
   "outputs": [],
   "source": []
  },
  {
   "cell_type": "markdown",
   "id": "d62ec9ed",
   "metadata": {},
   "source": [
    "### 日時の演算 (参照：https://www.sejuku.net/blog/23606)"
   ]
  },
  {
   "cell_type": "code",
   "execution_count": 33,
   "id": "8a26daaa",
   "metadata": {},
   "outputs": [
    {
     "name": "stdout",
     "output_type": "stream",
     "text": [
      "2023-11-14\n"
     ]
    }
   ],
   "source": [
    "#現在の日付\n",
    "date1 = datetime.date.today()\n",
    "print(date1)"
   ]
  },
  {
   "cell_type": "code",
   "execution_count": 34,
   "id": "15f1ccbd",
   "metadata": {},
   "outputs": [
    {
     "name": "stdout",
     "output_type": "stream",
     "text": [
      "2023-11-14 17:47:54.868627\n"
     ]
    }
   ],
   "source": [
    "#現在の日付と日時\n",
    "date2 = datetime.datetime.now()\n",
    "print(date2)"
   ]
  },
  {
   "cell_type": "code",
   "execution_count": 35,
   "id": "96660318",
   "metadata": {},
   "outputs": [
    {
     "name": "stdout",
     "output_type": "stream",
     "text": [
      "年： 2023\n",
      "月： 11\n",
      "日： 14\n",
      "時： 17\n",
      "分： 47\n",
      "秒： 59\n",
      "マイクロ秒： 380975\n"
     ]
    }
   ],
   "source": [
    "#現在の日付と日時\n",
    "date = datetime.datetime.now()\n",
    "\n",
    "print(\"年：\",date.year) \n",
    "print(\"月：\",date.month)\n",
    "print(\"日：\",date.day) \n",
    "print(\"時：\",date.hour)\n",
    "print(\"分：\",date.minute)\n",
    "print(\"秒：\",date.second)\n",
    "print(\"マイクロ秒：\",date.microsecond)"
   ]
  },
  {
   "cell_type": "code",
   "execution_count": 8,
   "id": "d82e9097",
   "metadata": {},
   "outputs": [
    {
     "name": "stdout",
     "output_type": "stream",
     "text": [
      "2023-11-16\n"
     ]
    }
   ],
   "source": [
    "# 日付の足し算\n",
    "today = datetime.date.today()\n",
    "day_after_tomorrow = datetime.timedelta(days=2)\n",
    "print(today+day_after_tomorrow)"
   ]
  },
  {
   "cell_type": "code",
   "execution_count": 36,
   "id": "5924767a",
   "metadata": {},
   "outputs": [
    {
     "name": "stdout",
     "output_type": "stream",
     "text": [
      "今日は明日よりも後:False\n",
      "昨日は今日よりも前:True\n"
     ]
    }
   ],
   "source": [
    "# today = datetime.date.today()\n",
    "tomorrow = today + datetime.timedelta(days=1)\n",
    "yestarday = today - datetime.timedelta(days=1)\n",
    " \n",
    "print(\"今日は明日よりも後:\"+str(today>tomorrow))\n",
    "print(\"昨日は今日よりも前:\" +str(yestarday<today))"
   ]
  },
  {
   "cell_type": "code",
   "execution_count": 37,
   "id": "70d6544d",
   "metadata": {},
   "outputs": [
    {
     "name": "stdout",
     "output_type": "stream",
     "text": [
      "2023-11-14\n",
      "2023/11/14\n",
      "<class 'datetime.datetime'>\n",
      "<class 'str'>\n"
     ]
    }
   ],
   "source": [
    "#\n",
    "today1= datetime.date.today()\n",
    "today2= \"{0:%Y/%m/%d}\".format(today1)\n",
    "print(today1)\n",
    "print(today2)\n",
    "\n",
    "before = datetime.datetime.now()\n",
    "after = before.strftime('%Y/%m/%d %H:%M:%S')\n",
    "print(type(before))\n",
    "print(type(after))"
   ]
  },
  {
   "cell_type": "code",
   "execution_count": 38,
   "id": "4ece4838",
   "metadata": {},
   "outputs": [
    {
     "name": "stdout",
     "output_type": "stream",
     "text": [
      "<class 'str'>\n",
      "<class 'datetime.datetime'>\n"
     ]
    }
   ],
   "source": [
    "before = '2017-05-23 12:47:23'\n",
    "after = datetime.datetime.strptime(before, '%Y-%m-%d %H:%M:%S')\n",
    " \n",
    "print(type(before))\n",
    "print(type(after))"
   ]
  },
  {
   "cell_type": "code",
   "execution_count": 20,
   "id": "06377516",
   "metadata": {},
   "outputs": [
    {
     "data": {
      "text/plain": [
       "datetime.date(2023, 11, 13)"
      ]
     },
     "execution_count": 20,
     "metadata": {},
     "output_type": "execute_result"
    }
   ],
   "source": [
    "today - datetime.timedelta(days=1, hours=1, minutes=1, seconds=1)"
   ]
  },
  {
   "cell_type": "code",
   "execution_count": 39,
   "id": "3fed4945",
   "metadata": {},
   "outputs": [
    {
     "data": {
      "text/plain": [
       "datetime.datetime(2023, 11, 14, 17, 47, 54, 868627)"
      ]
     },
     "execution_count": 39,
     "metadata": {},
     "output_type": "execute_result"
    }
   ],
   "source": [
    "date2"
   ]
  },
  {
   "cell_type": "code",
   "execution_count": 40,
   "id": "bd2d0913",
   "metadata": {},
   "outputs": [
    {
     "data": {
      "text/plain": [
       "datetime.datetime(2023, 11, 13, 16, 46, 53, 868626)"
      ]
     },
     "execution_count": 40,
     "metadata": {},
     "output_type": "execute_result"
    }
   ],
   "source": [
    "date2- datetime.timedelta(days=1, hours=1, minutes=1, seconds=1,microseconds=1)"
   ]
  },
  {
   "cell_type": "code",
   "execution_count": 26,
   "id": "68898c9b",
   "metadata": {},
   "outputs": [],
   "source": [
    "date3=date2- datetime.timedelta(days=1, hours=1, minutes=1, seconds=1,microseconds=1)"
   ]
  },
  {
   "cell_type": "markdown",
   "id": "4e217d67",
   "metadata": {},
   "source": [
    "## その他の演算例"
   ]
  },
  {
   "cell_type": "markdown",
   "id": "ca8966d8",
   "metadata": {},
   "source": [
    "### 論理演算"
   ]
  },
  {
   "cell_type": "code",
   "execution_count": 29,
   "id": "be4692a4",
   "metadata": {},
   "outputs": [
    {
     "data": {
      "text/plain": [
       "False"
      ]
     },
     "execution_count": 29,
     "metadata": {},
     "output_type": "execute_result"
    }
   ],
   "source": [
    "(date3-date2).days>0"
   ]
  },
  {
   "cell_type": "markdown",
   "id": "5674036e",
   "metadata": {},
   "source": [
    "### その他"
   ]
  },
  {
   "cell_type": "code",
   "execution_count": null,
   "id": "a3d24d8c",
   "metadata": {},
   "outputs": [],
   "source": []
  }
 ],
 "metadata": {
  "kernelspec": {
   "display_name": "Python 3 (ipykernel)",
   "language": "python",
   "name": "python3"
  },
  "language_info": {
   "codemirror_mode": {
    "name": "ipython",
    "version": 3
   },
   "file_extension": ".py",
   "mimetype": "text/x-python",
   "name": "python",
   "nbconvert_exporter": "python",
   "pygments_lexer": "ipython3",
   "version": "3.9.18"
  }
 },
 "nbformat": 4,
 "nbformat_minor": 5
}
