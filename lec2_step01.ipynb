{
 "cells": [
  {
   "cell_type": "code",
   "execution_count": 1,
   "id": "73a97c6c",
   "metadata": {},
   "outputs": [],
   "source": [
    "## Python basics for novice data scientists, supported by Wagatsuma Lab@Kyutech \n",
    "#\n",
    "# The MIT License (MIT): Copyright (c) 2020 Hiroaki Wagatsuma and Wagatsuma Lab@Kyutech\n",
    "# \n",
    "# Permission is hereby granted, free of charge, to any person obtaining a copy of this software and associated documentation files (the \"Software\"), to deal in the Software without restriction, including without limitation the rights to use, copy, modify, merge, publish, distribute, sublicense, and/or sell copies of the Software, and to permit persons to whom the Software is furnished to do so, subject to the following conditions:\n",
    "# The above copyright notice and this permission notice shall be included in all copies or substantial portions of the Software.\n",
    "# THE SOFTWARE IS PROVIDED \"AS IS\", WITHOUT WARRANTY OF ANY KIND, EXPRESS OR IMPLIED, INCLUDING BUT NOT LIMITED TO THE WARRANTIES OF MERCHANTABILITY, FITNESS FOR A PARTICULAR PURPOSE AND NONINFRINGEMENT. IN NO EVENT SHALL THE AUTHORS OR COPYRIGHT HOLDERS BE LIABLE FOR ANY CLAIM, DAMAGES OR OTHER LIABILITY, WHETHER IN AN ACTION OF CONTRACT, TORT OR OTHERWISE, ARISING FROM, OUT OF OR IN CONNECTION WITH THE SOFTWARE OR THE USE OR OTHER DEALINGS IN THE SOFTWARE. */\n",
    "#\n",
    "# # @Time    : 2020-10-14 \n",
    "# # @Author  : Hiroaki Wagatsuma\n",
    "# # @Site    : https://github.com/hirowgit/2A_python_basic_course\n",
    "# # @IDE     : Python 3.7.7 (default, Mar 10 2020, 15:43:27) [Clang 10.0.0 (clang-1000.11.45.5)] on darwin\n",
    "# # @File    : lec2_step01.py "
   ]
  },
  {
   "cell_type": "code",
   "execution_count": 3,
   "id": "fedc35a7",
   "metadata": {},
   "outputs": [
    {
     "data": {
      "text/plain": [
       "[1, 2, 3, 4]"
      ]
     },
     "execution_count": 3,
     "metadata": {},
     "output_type": "execute_result"
    }
   ],
   "source": [
    "# first idea\n",
    "OpenList=[1,2,3,4]\n",
    "OpenList"
   ]
  },
  {
   "cell_type": "code",
   "execution_count": 5,
   "id": "5ae710da",
   "metadata": {},
   "outputs": [],
   "source": [
    "import numpy as np\n",
    "import matplotlib.pyplot as plt"
   ]
  },
  {
   "cell_type": "code",
   "execution_count": 8,
   "id": "5259d021",
   "metadata": {},
   "outputs": [
    {
     "name": "stdout",
     "output_type": "stream",
     "text": [
      "[4 2 5 5 9 4]\n"
     ]
    }
   ],
   "source": [
    "a = np.array([4,2,5,5,9,4])\n",
    "print(a)"
   ]
  },
  {
   "cell_type": "code",
   "execution_count": 15,
   "id": "61101966",
   "metadata": {},
   "outputs": [
    {
     "name": "stdout",
     "output_type": "stream",
     "text": [
      "[4 2 5 5 9 4]\n"
     ]
    }
   ],
   "source": [
    "itemD = np.array([4,2,5,5,9,4])\n",
    "print(itemD)"
   ]
  },
  {
   "cell_type": "code",
   "execution_count": 9,
   "id": "6484247f",
   "metadata": {},
   "outputs": [
    {
     "data": {
      "text/plain": [
       "29"
      ]
     },
     "execution_count": 9,
     "metadata": {},
     "output_type": "execute_result"
    }
   ],
   "source": [
    "np.sum(a)"
   ]
  },
  {
   "cell_type": "code",
   "execution_count": null,
   "id": "a14027d2",
   "metadata": {},
   "outputs": [],
   "source": [
    "spList=1:spN-1;\n",
    "\n",
    "filltSum=cell(length(itemD),1);\n",
    "filltSum(:)={itemD};\n",
    "\n",
    "shiftS=0:length(itemD)-1;\n",
    "shiftCell=num2cell(shiftS)';\n",
    "sMat=cell2mat(cellfun(@(x,y) circshift(x,[0 y]),filltSum,shiftCell,'UniformOutput',false));\n",
    "sMat2=triu(sMat);\n",
    "\n",
    "itemDAll=sum(sMat2);"
   ]
  },
  {
   "cell_type": "code",
   "execution_count": null,
   "id": "ee94c6b1",
   "metadata": {},
   "outputs": [],
   "source": [
    "np.full(itemD)\n",
    "filltSum=np.array\n",
    "\n",
    "import numpy.matlib\n",
    "a0 = np.array(1)\n",
    "np.matlib.repmat(a0, 2, 3)\n",
    "array([[1, 1, 1],\n",
    "       [1, 1, 1]])"
   ]
  },
  {
   "cell_type": "code",
   "execution_count": 27,
   "id": "3bd96e0a",
   "metadata": {},
   "outputs": [
    {
     "name": "stdout",
     "output_type": "stream",
     "text": [
      "[[4 2 5 5 9 4]\n",
      " [4 2 5 5 9 4]\n",
      " [4 2 5 5 9 4]\n",
      " [4 2 5 5 9 4]\n",
      " [4 2 5 5 9 4]\n",
      " [4 2 5 5 9 4]\n",
      " [4 2 5 5 9 4]\n",
      " [4 2 5 5 9 4]\n",
      " [4 2 5 5 9 4]\n",
      " [4 2 5 5 9 4]]\n"
     ]
    }
   ],
   "source": [
    "import numpy.matlib\n",
    "a0 = np.array(1)\n",
    "filltSum=np.matlib.repmat(itemD, 10,1)\n",
    "print(filltSum)"
   ]
  },
  {
   "cell_type": "code",
   "execution_count": 44,
   "id": "46bd7ef5",
   "metadata": {},
   "outputs": [
    {
     "name": "stdout",
     "output_type": "stream",
     "text": [
      "[4 2 5 5 9 4]\n",
      "\n",
      "[0 1 2 3 4 5]\n",
      "\n",
      "[array([4, 2, 5, 5, 9, 4]), array([4, 4, 2, 5, 5, 9]), array([9, 4, 4, 2, 5, 5]), array([5, 9, 4, 4, 2, 5]), array([5, 5, 9, 4, 4, 2]), array([2, 5, 5, 9, 4, 4])]\n",
      "\n",
      "[[4 2 5 5 9 4]\n",
      " [0 4 2 5 5 9]\n",
      " [0 0 4 2 5 5]\n",
      " [0 0 0 4 2 5]\n",
      " [0 0 0 0 4 2]\n",
      " [0 0 0 0 0 4]]\n",
      "\n",
      "[ 4  6 11 16 25 29]\n"
     ]
    }
   ],
   "source": [
    "print(itemD)\n",
    "print('')\n",
    "shiftS=np.arange(0,len(itemD))\n",
    "print(shiftS)\n",
    "# np.roll(filltSum[0],shiftS[0])\n",
    "# np.roll(filltSum[1],shiftS[1])\n",
    "print('')\n",
    "sMat=[np.roll(filltSum[i],shiftS[i]) for i in range(0,len(shiftS)) ]\n",
    "print(sMat)\n",
    "print('')\n",
    "sMat2=np.triu(sMat)\n",
    "print(sMat2)\n",
    "print('')\n",
    "itemDAll=np.sum(sMat2,axis=0)\n",
    "print(itemDAll)"
   ]
  },
  {
   "cell_type": "code",
   "execution_count": 35,
   "id": "e68cf08d",
   "metadata": {},
   "outputs": [
    {
     "ename": "TypeError",
     "evalue": "only integer scalar arrays can be converted to a scalar index",
     "output_type": "error",
     "traceback": [
      "\u001b[0;31m---------------------------------------------------------------------------\u001b[0m",
      "\u001b[0;31mTypeError\u001b[0m                                 Traceback (most recent call last)",
      "\u001b[0;32m/var/folders/mg/w5t8lkhc8xj79f001s7kzpfh0000gp/T/ipykernel_28141/1789563555.py\u001b[0m in \u001b[0;36m<module>\u001b[0;34m\u001b[0m\n\u001b[0;32m----> 1\u001b[0;31m \u001b[0;32mfor\u001b[0m \u001b[0mi\u001b[0m \u001b[0;32min\u001b[0m \u001b[0mrange\u001b[0m\u001b[0;34m(\u001b[0m\u001b[0mshiftS\u001b[0m\u001b[0;34m)\u001b[0m\u001b[0;34m:\u001b[0m\u001b[0;34m\u001b[0m\u001b[0;34m\u001b[0m\u001b[0m\n\u001b[0m\u001b[1;32m      2\u001b[0m     \u001b[0mprint\u001b[0m\u001b[0;34m(\u001b[0m\u001b[0mi\u001b[0m\u001b[0;34m)\u001b[0m\u001b[0;34m\u001b[0m\u001b[0;34m\u001b[0m\u001b[0m\n",
      "\u001b[0;31mTypeError\u001b[0m: only integer scalar arrays can be converted to a scalar index"
     ]
    }
   ],
   "source": [
    "for i in range(shiftS):\n",
    "    print(i)"
   ]
  },
  {
   "cell_type": "code",
   "execution_count": 13,
   "id": "6b991b42",
   "metadata": {},
   "outputs": [
    {
     "name": "stdout",
     "output_type": "stream",
     "text": [
      "[0 1 2 3 4 5 6 7 8 9]\n"
     ]
    },
    {
     "data": {
      "text/plain": [
       "array([8, 9, 0, 1, 2, 3, 4, 5, 6, 7])"
      ]
     },
     "execution_count": 13,
     "metadata": {},
     "output_type": "execute_result"
    }
   ],
   "source": [
    "x = np.arange(10)\n",
    "print(x)\n",
    "np.roll(x, 2)"
   ]
  },
  {
   "cell_type": "code",
   "execution_count": 12,
   "id": "cb860a4c",
   "metadata": {},
   "outputs": [
    {
     "data": {
      "text/plain": [
       "array([2, 3, 4, 5, 6, 7, 8, 9, 0, 1])"
      ]
     },
     "execution_count": 12,
     "metadata": {},
     "output_type": "execute_result"
    }
   ],
   "source": [
    "np.roll(x, -2)"
   ]
  },
  {
   "cell_type": "code",
   "execution_count": 14,
   "id": "3628309b",
   "metadata": {},
   "outputs": [
    {
     "name": "stdout",
     "output_type": "stream",
     "text": [
      "['apple', 'banana', 'mango']\n"
     ]
    }
   ],
   "source": [
    "fruits = [\"apple\", \"banana\", \"cherry\", \"kiwi\", \"mango\"]\n",
    "\n",
    "newlist = [x for x in fruits if \"a\" in x]\n",
    "\n",
    "print(newlist)"
   ]
  }
 ],
 "metadata": {
  "kernelspec": {
   "display_name": "Python 3 (ipykernel)",
   "language": "python",
   "name": "python3"
  },
  "language_info": {
   "codemirror_mode": {
    "name": "ipython",
    "version": 3
   },
   "file_extension": ".py",
   "mimetype": "text/x-python",
   "name": "python",
   "nbconvert_exporter": "python",
   "pygments_lexer": "ipython3",
   "version": "3.9.16"
  }
 },
 "nbformat": 4,
 "nbformat_minor": 5
}
