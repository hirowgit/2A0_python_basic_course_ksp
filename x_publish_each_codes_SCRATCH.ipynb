{
 "cells": [
  {
   "cell_type": "code",
   "execution_count": 3,
   "metadata": {},
   "outputs": [
    {
     "name": "stdout",
     "output_type": "stream",
     "text": [
      "\u001b[34mGUI_python_platform\u001b[m\u001b[m        lec1_step1.mdls\r\n",
      "LICENSE                    lec1_step1.nbconvert.ipynb\r\n",
      "README.md                  lec1_step1.pdf\r\n",
      "gitattributes              lec1_step1.py\r\n",
      "gitignore                  lec1_step1.rst\r\n",
      "lec1_step1.asciidoc        lec1_step1.slides.html\r\n",
      "lec1_step1.html            lec1_step1.tex\r\n",
      "lec1_step1.ipynb           lec1_step1.txt\r\n",
      "lec1_step1.md              x_publish_each_codes.ipynb\r\n"
     ]
    }
   ],
   "source": []
  },
  {
   "cell_type": "code",
   "execution_count": 5,
   "metadata": {},
   "outputs": [
    {
     "name": "stdout",
     "output_type": "stream",
     "text": [
      "[NbConvertApp] Converting notebook lec1_step1.ipynb to slides\n",
      "[NbConvertApp] Writing 279864 bytes to lec1_step1.slides.html\n"
     ]
    }
   ],
   "source": [
    "! jupyter nbconvert lec1_step1.ipynb --to slides"
   ]
  },
  {
   "cell_type": "code",
   "execution_count": 1,
   "metadata": {},
   "outputs": [
    {
     "name": "stdout",
     "output_type": "stream",
     "text": [
      "['strawberry', 'grape', 'tomato']\n"
     ]
    }
   ],
   "source": [
    "fruits = ['strawberry', 'grape', 'tomato'];\n",
    "print(fruits);"
   ]
  },
  {
   "cell_type": "code",
   "execution_count": 4,
   "metadata": {},
   "outputs": [
    {
     "name": "stdout",
     "output_type": "stream",
     "text": [
      "strawberry\n",
      "grape\n",
      "tomato\n"
     ]
    }
   ],
   "source": [
    "fruits = ['strawberry', 'grape', 'tomato'];\n",
    "for x in fruits:\n",
    "  print(x)"
   ]
  },
  {
   "cell_type": "code",
   "execution_count": 6,
   "metadata": {},
   "outputs": [
    {
     "name": "stdout",
     "output_type": "stream",
     "text": [
      "asciidoc\n",
      "html\n",
      "latex\n",
      "markdown\n",
      "notebook\n",
      "pdf\n",
      "python\n",
      "slides\n"
     ]
    }
   ],
   "source": [
    "ftypes=['asciidoc', 'html', 'latex', 'markdown', 'notebook', 'pdf', 'python','slides'];\n",
    "for x in ftypes:\n",
    "  print(x)"
   ]
  },
  {
   "cell_type": "code",
   "execution_count": 9,
   "metadata": {},
   "outputs": [
    {
     "name": "stdout",
     "output_type": "stream",
     "text": [
      "!jupyter nbconvert  lec1_step1.ipynb --to asciidoc\n",
      "!jupyter nbconvert  lec1_step1.ipynb --to html\n",
      "!jupyter nbconvert  lec1_step1.ipynb --to latex\n",
      "!jupyter nbconvert  lec1_step1.ipynb --to markdown\n",
      "!jupyter nbconvert  lec1_step1.ipynb --to notebook\n",
      "!jupyter nbconvert  lec1_step1.ipynb --to pdf\n",
      "!jupyter nbconvert  lec1_step1.ipynb --to python\n",
      "!jupyter nbconvert  lec1_step1.ipynb --to slides\n"
     ]
    }
   ],
   "source": [
    "spT=' ';\n",
    "cmd0='!jupyter nbconvert ';\n",
    "inT='--to';\n",
    "\n",
    "originalF='lec1_step1.ipynb';\n",
    "\n",
    "ftypes=['asciidoc', 'html', 'latex', 'markdown', 'notebook', 'pdf', 'python','slides'];\n",
    "for x in ftypes:\n",
    "  print(cmd0+spT+originalF+spT+inT+spT+x)"
   ]
  },
  {
   "cell_type": "code",
   "execution_count": 18,
   "metadata": {},
   "outputs": [
    {
     "name": "stdout",
     "output_type": "stream",
     "text": [
      "jupyter nbconvert  lec1_step1.ipynb --to asciidoc\n",
      "['jupyter', 'nbconvert', 'lec1_step1.ipynb', '--to', 'asciidoc']\n",
      "jupyter nbconvert  lec1_step1.ipynb --to html\n",
      "['jupyter', 'nbconvert', 'lec1_step1.ipynb', '--to', 'html']\n",
      "jupyter nbconvert  lec1_step1.ipynb --to latex\n",
      "['jupyter', 'nbconvert', 'lec1_step1.ipynb', '--to', 'latex']\n",
      "jupyter nbconvert  lec1_step1.ipynb --to markdown\n",
      "['jupyter', 'nbconvert', 'lec1_step1.ipynb', '--to', 'markdown']\n",
      "jupyter nbconvert  lec1_step1.ipynb --to notebook\n",
      "['jupyter', 'nbconvert', 'lec1_step1.ipynb', '--to', 'notebook']\n",
      "jupyter nbconvert  lec1_step1.ipynb --to pdf\n",
      "['jupyter', 'nbconvert', 'lec1_step1.ipynb', '--to', 'pdf']\n",
      "jupyter nbconvert  lec1_step1.ipynb --to python\n",
      "['jupyter', 'nbconvert', 'lec1_step1.ipynb', '--to', 'python']\n",
      "jupyter nbconvert  lec1_step1.ipynb --to slides\n",
      "['jupyter', 'nbconvert', 'lec1_step1.ipynb', '--to', 'slides']\n",
      "\n",
      " All processes were completed!\n"
     ]
    }
   ],
   "source": [
    "import subprocess\n",
    "\n",
    "ftypes=['asciidoc', 'html', 'latex', 'markdown', 'notebook', 'pdf', 'python','slides'];\n",
    "\n",
    "spT=' ';\n",
    "#cmd0='!jupyter nbconvert ';\n",
    "cmd0='jupyter nbconvert ';\n",
    "inT='--to';\n",
    "\n",
    "originalF='lec1_step1.ipynb';\n",
    "\n",
    "for key in ftypes:\n",
    "  cmd=cmd0+spT+originalF+spT+inT+spT+key;\n",
    "  print(cmd)\n",
    "  print(cmd.split())\n",
    "  subprocess.Popen(cmd.split())\n",
    "\n",
    "print(\"\\n All processes were completed!\")"
   ]
  },
  {
   "cell_type": "code",
   "execution_count": 22,
   "metadata": {},
   "outputs": [
    {
     "name": "stdout",
     "output_type": "stream",
     "text": [
      "['jupyter', 'nbconvert ', 'lec1_step1.ipynb', '--to', 'asciidoc']\n",
      "['jupyter', 'nbconvert ', 'lec1_step1.ipynb', '--to', 'html']\n",
      "['jupyter', 'nbconvert ', 'lec1_step1.ipynb', '--to', 'latex']\n",
      "['jupyter', 'nbconvert ', 'lec1_step1.ipynb', '--to', 'markdown']\n",
      "['jupyter', 'nbconvert ', 'lec1_step1.ipynb', '--to', 'notebook']\n",
      "['jupyter', 'nbconvert ', 'lec1_step1.ipynb', '--to', 'pdf']\n",
      "['jupyter', 'nbconvert ', 'lec1_step1.ipynb', '--to', 'python']\n",
      "['jupyter', 'nbconvert ', 'lec1_step1.ipynb', '--to', 'slides']\n",
      "\n",
      " All processes were completed!\n"
     ]
    }
   ],
   "source": [
    "import subprocess\n",
    "\n",
    "ftypes=['asciidoc', 'html', 'latex', 'markdown', 'notebook', 'pdf', 'python','slides'];\n",
    "\n",
    "spT=' ';\n",
    "#cmd0='!jupyter nbconvert ';\n",
    "cmd0='jupyter';\n",
    "cmd1='nbconvert ';\n",
    "inT='--to';\n",
    "\n",
    "originalF='lec1_step1.ipynb';\n",
    "\n",
    "for key in ftypes:\n",
    "  cmd=[cmd0,cmd1,originalF,inT,key];\n",
    "  print(cmd)\n",
    "  subprocess.Popen(cmd)\n",
    "\n",
    "print(\"\\n All processes were completed!\")"
   ]
  },
  {
   "cell_type": "code",
   "execution_count": 31,
   "metadata": {},
   "outputs": [
    {
     "name": "stdout",
     "output_type": "stream",
     "text": [
      "jupyter nbconvert --to asciidoc lec1_step1.ipynb\n",
      "jupyter nbconvert --to html lec1_step1.ipynb\n",
      "jupyter nbconvert --to latex lec1_step1.ipynb\n",
      "jupyter nbconvert --to markdown lec1_step1.ipynb\n",
      "jupyter nbconvert --to notebook lec1_step1.ipynb\n",
      "jupyter nbconvert --to pdf lec1_step1.ipynb\n",
      "jupyter nbconvert --to python lec1_step1.ipynb\n",
      "jupyter nbconvert --to slides lec1_step1.ipynb\n",
      "\n",
      " All processes were completed!\n"
     ]
    }
   ],
   "source": [
    "import subprocess\n",
    "\n",
    "ftypes=['asciidoc', 'html', 'latex', 'markdown', 'notebook', 'pdf', 'python','slides'];\n",
    "cmd0=['jupyter','nbconvert','--to'];\n",
    "spT=' ';\n",
    "#cmd0='!jupyter nbconvert ';\n",
    "\n",
    "originalF='lec1_step1.ipynb';\n",
    "\n",
    "for key in ftypes:\n",
    "  cmd=cmd0+[key]+[originalF];\n",
    "  Pcmd=' '.join(cmd)\n",
    "  print(Pcmd)\n",
    "  subprocess.Popen(cmd)\n",
    "\n",
    "print(\"\\n All processes were completed!\")"
   ]
  },
  {
   "cell_type": "code",
   "execution_count": 80,
   "metadata": {},
   "outputs": [
    {
     "ename": "TypeError",
     "evalue": "stat: path should be string, bytes, os.PathLike or integer, not list",
     "output_type": "error",
     "traceback": [
      "\u001b[0;31m---------------------------------------------------------------------------\u001b[0m",
      "\u001b[0;31mTypeError\u001b[0m                                 Traceback (most recent call last)",
      "\u001b[0;32m<ipython-input-80-751c5bb87f6f>\u001b[0m in \u001b[0;36m<module>\u001b[0;34m()\u001b[0m\n\u001b[1;32m     13\u001b[0m \u001b[0;34m\u001b[0m\u001b[0m\n\u001b[1;32m     14\u001b[0m \u001b[0moriginalF\u001b[0m\u001b[0;34m=\u001b[0m\u001b[0;34m'lec1_step1.ipynb'\u001b[0m\u001b[0;34m;\u001b[0m\u001b[0;34m\u001b[0m\u001b[0;34m\u001b[0m\u001b[0m\n\u001b[0;32m---> 15\u001b[0;31m \u001b[0mprint\u001b[0m\u001b[0;34m(\u001b[0m\u001b[0mos\u001b[0m\u001b[0;34m.\u001b[0m\u001b[0mpath\u001b[0m\u001b[0;34m.\u001b[0m\u001b[0misdir\u001b[0m\u001b[0;34m(\u001b[0m\u001b[0moriginalF\u001b[0m\u001b[0;34m.\u001b[0m\u001b[0msplit\u001b[0m\u001b[0;34m(\u001b[0m\u001b[0;34m)\u001b[0m\u001b[0;34m)\u001b[0m\u001b[0;34m)\u001b[0m\u001b[0;34m\u001b[0m\u001b[0;34m\u001b[0m\u001b[0m\n\u001b[0m\u001b[1;32m     16\u001b[0m \u001b[0;34m\u001b[0m\u001b[0m\n\u001b[1;32m     17\u001b[0m \u001b[0;32mfor\u001b[0m \u001b[0mkey\u001b[0m \u001b[0;32min\u001b[0m \u001b[0mftypes\u001b[0m\u001b[0;34m:\u001b[0m\u001b[0;34m\u001b[0m\u001b[0;34m\u001b[0m\u001b[0m\n",
      "\u001b[0;32m/usr/local/Cellar/python/3.7.7/Frameworks/Python.framework/Versions/3.7/lib/python3.7/genericpath.py\u001b[0m in \u001b[0;36misdir\u001b[0;34m(s)\u001b[0m\n\u001b[1;32m     40\u001b[0m     \u001b[0;34m\"\"\"Return true if the pathname refers to an existing directory.\"\"\"\u001b[0m\u001b[0;34m\u001b[0m\u001b[0;34m\u001b[0m\u001b[0m\n\u001b[1;32m     41\u001b[0m     \u001b[0;32mtry\u001b[0m\u001b[0;34m:\u001b[0m\u001b[0;34m\u001b[0m\u001b[0;34m\u001b[0m\u001b[0m\n\u001b[0;32m---> 42\u001b[0;31m         \u001b[0mst\u001b[0m \u001b[0;34m=\u001b[0m \u001b[0mos\u001b[0m\u001b[0;34m.\u001b[0m\u001b[0mstat\u001b[0m\u001b[0;34m(\u001b[0m\u001b[0ms\u001b[0m\u001b[0;34m)\u001b[0m\u001b[0;34m\u001b[0m\u001b[0;34m\u001b[0m\u001b[0m\n\u001b[0m\u001b[1;32m     43\u001b[0m     \u001b[0;32mexcept\u001b[0m \u001b[0mOSError\u001b[0m\u001b[0;34m:\u001b[0m\u001b[0;34m\u001b[0m\u001b[0;34m\u001b[0m\u001b[0m\n\u001b[1;32m     44\u001b[0m         \u001b[0;32mreturn\u001b[0m \u001b[0;32mFalse\u001b[0m\u001b[0;34m\u001b[0m\u001b[0;34m\u001b[0m\u001b[0m\n",
      "\u001b[0;31mTypeError\u001b[0m: stat: path should be string, bytes, os.PathLike or integer, not list"
     ]
    }
   ],
   "source": [
    "import subprocess\n",
    "import os\n",
    "\n",
    "#ftypes=['asciidoc', 'html', 'latex', 'markdown', 'notebook', 'pdf', 'python','slides'];\n",
    "#ptypes=['asciidoc', 'html', 'tex', 'md', 'ipynb', 'pdf', 'py','slides.html'];\n",
    "ftypes=['asciidoc', 'html', 'latex', 'markdown', 'pdf', 'python','slides'];\n",
    "ptypes=['asciidoc', 'html', 'tex', 'md', 'ipynb', 'pdf', 'py','slides.html'];\n",
    "\n",
    "\n",
    "cmd0=['jupyter','nbconvert','--to'];\n",
    "spT=' ';\n",
    "#cmd0='!jupyter nbconvert ';\n",
    "\n",
    "originalF='lec1_step1.ipynb';\n",
    "print(os.path.isdir(originalF.split()))\n",
    "\n",
    "for key in ftypes:\n",
    "  cmd=cmd0+[key]+[originalF];\n",
    "  Pcmd=' '.join(cmd)\n",
    "  print(Pcmd)\n",
    "  subprocess.Popen(cmd)\n",
    "\n",
    "print(\"\\n All processes were completed!\")"
   ]
  },
  {
   "cell_type": "code",
   "execution_count": 81,
   "metadata": {},
   "outputs": [
    {
     "data": {
      "text/plain": [
       "['jupyter', 'nbconvert', '--to', 'slides', 'lec1_step1.ipynb']"
      ]
     },
     "execution_count": 81,
     "metadata": {},
     "output_type": "execute_result"
    }
   ],
   "source": [
    "# you need to check whether the target file is existing or not (by using os.path.isfile(originalF)"
   ]
  },
  {
   "cell_type": "code",
   "execution_count": 52,
   "metadata": {},
   "outputs": [
    {
     "name": "stdout",
     "output_type": "stream",
     "text": [
      "['lec1_step1', 'ipynb']\n",
      "The target folder \" lec1_step1 \" does not exist...\n"
     ]
    }
   ],
   "source": [
    "import os\n",
    "\n",
    "originalF='lec1_step1.ipynb';\n",
    "print(originalF.split('.'));\n",
    "ftag=originalF.split('.')[0];\n",
    "\n",
    "#if not os.path.isdir(originalF.split('.')[0]):\n",
    "if  not os.path.isdir(originalF.split('.')[0]):\n",
    "    print(' '.join(['The target folder \\\"',ftag,'\\\" does not exist...']))\n",
    "    os.mkdir(ftag);\n",
    "else:\n",
    "    print(' '.join(['There exists',ftag]));\n",
    "  "
   ]
  },
  {
   "cell_type": "code",
   "execution_count": 55,
   "metadata": {},
   "outputs": [
    {
     "name": "stdout",
     "output_type": "stream",
     "text": [
      "['lec1_step1', 'ipynb']\n",
      "There exists lec1_step1\n"
     ]
    }
   ],
   "source": [
    "import os\n",
    "import shutil\n",
    "\n",
    "originalF='lec1_step1.ipynb';\n",
    "print(originalF.split('.'));\n",
    "ftag=originalF.split('.')[0];\n",
    "\n",
    "#if not os.path.isdir(originalF.split('.')[0]):\n",
    "if  not os.path.isdir(originalF.split('.')[0]):\n",
    "    print(' '.join(['The target folder \\\"',ftag,'\\\" does not exist...']))\n",
    "    os.mkdir(ftag);\n",
    "else:\n",
    "    print(' '.join(['There exists',ftag]));\n",
    "  "
   ]
  },
  {
   "cell_type": "code",
   "execution_count": 54,
   "metadata": {},
   "outputs": [
    {
     "data": {
      "text/plain": [
       "'lec1_step1.txt'"
      ]
     },
     "execution_count": 54,
     "metadata": {},
     "output_type": "execute_result"
    }
   ],
   "source": [
    "import os\n",
    "import shutil\n",
    "\n",
    "oriF='lec1_step1.asciidoc';\n",
    "copyF='lec1_step1.txt';\n",
    "shutil.copyfile(oriF,copyF)"
   ]
  },
  {
   "cell_type": "code",
   "execution_count": 77,
   "metadata": {},
   "outputs": [
    {
     "name": "stdout",
     "output_type": "stream",
     "text": [
      "['lec1_step1', 'ipynb']\n",
      "lec1_step1.asciidoc\n",
      "lec1_step1.txt\n",
      "lec1_step1.html\n",
      "lec1_step1.tex\n",
      "lec1_step1.md\n",
      "lec1_step1.pdf\n",
      "lec1_step1.slides.html\n"
     ]
    }
   ],
   "source": [
    "import os\n",
    "import shutil\n",
    "\n",
    "ptypes=['asciidoc','txt','html', 'tex', 'md','pdf','slides.html'];\n",
    "\n",
    "originalF='lec1_step1.ipynb';\n",
    "print(originalF.split('.'));\n",
    "ftag=originalF.split('.')[0];\n",
    "\n",
    "for key in ptypes:\n",
    "    target='.'.join([ftag,key]);\n",
    "    print(target);\n",
    "    if os.path.isfile(target):\n",
    "        shutil.move(target,os.path.join(ftag,target));"
   ]
  },
  {
   "cell_type": "code",
   "execution_count": 57,
   "metadata": {},
   "outputs": [
    {
     "data": {
      "text/plain": [
       "'lec1_step1.latex'"
      ]
     },
     "execution_count": 57,
     "metadata": {},
     "output_type": "execute_result"
    }
   ],
   "source": [
    "target"
   ]
  },
  {
   "cell_type": "code",
   "execution_count": 58,
   "metadata": {},
   "outputs": [
    {
     "data": {
      "text/plain": [
       "'lec1_step1'"
      ]
     },
     "execution_count": 58,
     "metadata": {},
     "output_type": "execute_result"
    }
   ],
   "source": [
    "ftag"
   ]
  },
  {
   "cell_type": "code",
   "execution_count": 67,
   "metadata": {},
   "outputs": [
    {
     "data": {
      "text/plain": [
       "'lec1_step1/lec1_step1.tex'"
      ]
     },
     "execution_count": 67,
     "metadata": {},
     "output_type": "execute_result"
    }
   ],
   "source": [
    "shutil.move('lec1_step1.tex','lec1_step1/lec1_step1.tex')"
   ]
  },
  {
   "cell_type": "code",
   "execution_count": 63,
   "metadata": {},
   "outputs": [
    {
     "name": "stdout",
     "output_type": "stream",
     "text": [
      "\u001b[34mGUI_python_platform\u001b[m\u001b[m        lec1_step1.nbconvert.ipynb\r\n",
      "LICENSE                    lec1_step1.pdf\r\n",
      "README.md                  lec1_step1.py\r\n",
      "gitattributes              lec1_step1.rst\r\n",
      "gitignore                  lec1_step1.slides.html\r\n",
      "\u001b[34mlec1_step1\u001b[m\u001b[m                 lec1_step1.tex\r\n",
      "lec1_step1.ipynb           lec1_step1.txt\r\n",
      "lec1_step1.md              x_publish_each_codes.ipynb\r\n",
      "lec1_step1.mdls\r\n"
     ]
    }
   ],
   "source": [
    "!ls"
   ]
  },
  {
   "cell_type": "code",
   "execution_count": 69,
   "metadata": {},
   "outputs": [],
   "source": [
    " apos=[ftag,target]"
   ]
  },
  {
   "cell_type": "code",
   "execution_count": 70,
   "metadata": {},
   "outputs": [
    {
     "data": {
      "text/plain": [
       "['lec1_step1', 'lec1_step1.latex']"
      ]
     },
     "execution_count": 70,
     "metadata": {},
     "output_type": "execute_result"
    }
   ],
   "source": [
    "apos"
   ]
  },
  {
   "cell_type": "code",
   "execution_count": 79,
   "metadata": {},
   "outputs": [
    {
     "data": {
      "text/plain": [
       "'lec1_step1/lec1_step1.slides.html'"
      ]
     },
     "execution_count": 79,
     "metadata": {},
     "output_type": "execute_result"
    }
   ],
   "source": [
    "os.path.join(ftag,target)"
   ]
  },
  {
   "cell_type": "code",
   "execution_count": null,
   "metadata": {},
   "outputs": [],
   "source": []
  }
 ],
 "metadata": {
  "kernelspec": {
   "display_name": "Python 3",
   "language": "python",
   "name": "python3"
  },
  "language_info": {
   "codemirror_mode": {
    "name": "ipython",
    "version": 3
   },
   "file_extension": ".py",
   "mimetype": "text/x-python",
   "name": "python",
   "nbconvert_exporter": "python",
   "pygments_lexer": "ipython3",
   "version": "3.7.7"
  }
 },
 "nbformat": 4,
 "nbformat_minor": 2
}
