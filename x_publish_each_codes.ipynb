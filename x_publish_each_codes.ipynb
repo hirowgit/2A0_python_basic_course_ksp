{
 "cells": [
  {
   "cell_type": "code",
   "execution_count": 82,
   "metadata": {},
   "outputs": [],
   "source": [
    "## Python basics for novice data scientists, supported by Wagatsuma Lab@Kyutech \n",
    "#\n",
    "# The MIT License (MIT): Copyright (c) 2020 Hiroaki Wagatsuma and Wagatsuma Lab@Kyutech\n",
    "# \n",
    "# Permission is hereby granted, free of charge, to any person obtaining a copy of this software and associated documentation files (the \"Software\"), to deal in the Software without restriction, including without limitation the rights to use, copy, modify, merge, publish, distribute, sublicense, and/or sell copies of the Software, and to permit persons to whom the Software is furnished to do so, subject to the following conditions:\n",
    "# The above copyright notice and this permission notice shall be included in all copies or substantial portions of the Software.\n",
    "# THE SOFTWARE IS PROVIDED \"AS IS\", WITHOUT WARRANTY OF ANY KIND, EXPRESS OR IMPLIED, INCLUDING BUT NOT LIMITED TO THE WARRANTIES OF MERCHANTABILITY, FITNESS FOR A PARTICULAR PURPOSE AND NONINFRINGEMENT. IN NO EVENT SHALL THE AUTHORS OR COPYRIGHT HOLDERS BE LIABLE FOR ANY CLAIM, DAMAGES OR OTHER LIABILITY, WHETHER IN AN ACTION OF CONTRACT, TORT OR OTHERWISE, ARISING FROM, OUT OF OR IN CONNECTION WITH THE SOFTWARE OR THE USE OR OTHER DEALINGS IN THE SOFTWARE. */\n",
    "#\n",
    "# # @Time    : 2020-4-20 \n",
    "# # @Author  : Hiroaki Wagatsuma\n",
    "# # @Site    : https://github.com/hirowgit/2A_python_basic_course\n",
    "# # @IDE     : Python 3.7.7 (default, Mar 10 2020, 15:43:27) [Clang 10.0.0 (clang-1000.11.45.5)] on darwin\n",
    "# # @File    : x_publish_each_codes.py "
   ]
  },
  {
   "cell_type": "code",
   "execution_count": 4,
   "metadata": {},
   "outputs": [
    {
     "name": "stdout",
     "output_type": "stream",
     "text": [
      "lec1_step7\n",
      "jupyter nbconvert --to asciidoc lec1_step7.ipynb\n",
      "jupyter nbconvert --to html lec1_step7.ipynb\n",
      "jupyter nbconvert --to latex lec1_step7.ipynb\n",
      "jupyter nbconvert --to markdown lec1_step7.ipynb\n",
      "jupyter nbconvert --to pdf lec1_step7.ipynb\n",
      "jupyter nbconvert --to python lec1_step7.ipynb\n",
      "jupyter nbconvert --to slides lec1_step7.ipynb\n",
      "There exists lec1_step7\n",
      "lec1_step7.asciidoc\n",
      "lec1_step7.html\n",
      "lec1_step7.tex\n",
      "lec1_step7.md\n",
      "lec1_step7.pdf\n",
      "lec1_step7.slides.html\n",
      "lec1_step7.asciidoc\n",
      "lec1_step7.html\n",
      "lec1_step7.tex\n",
      "lec1_step7.md\n",
      "lec1_step7.pdf\n",
      "lec1_step7.slides.html\n",
      "\n",
      " All processes were completed!\n"
     ]
    }
   ],
   "source": [
    "import subprocess\n",
    "import shutil\n",
    "import os\n",
    "import time\n",
    "\n",
    "originalF='lec1_step7.ipynb';\n",
    "# originalF='x_publish_all_codes_sub.ipynb';\n",
    "\n",
    "#ftypes=['asciidoc', 'html', 'latex', 'markdown', 'notebook', 'pdf', 'python','slides'];\n",
    "#ptypes=['asciidoc', 'html', 'tex', 'md', 'ipynb', 'pdf', 'py','slides.html'];\n",
    "ftypes=['asciidoc', 'html', 'latex', 'markdown', 'pdf', 'python','slides'];\n",
    "ptypes=['asciidoc', 'html', 'tex', 'md', 'pdf','slides.html'];\n",
    "\n",
    "cmd0=['jupyter','nbconvert','--to'];\n",
    "ftag=originalF.split('.')[0];\n",
    "\n",
    "print(ftag)\n",
    "\n",
    "for key in ftypes:\n",
    "  cmd=cmd0+[key]+[originalF];\n",
    "  Pcmd=' '.join(cmd)\n",
    "  print(Pcmd)\n",
    "  subprocess.Popen(cmd)\n",
    "    \n",
    "if  not os.path.isdir(ftag):\n",
    "    print(' '.join(['The target folder \\\"',ftag,'\\\" does not exist...']))\n",
    "    os.mkdir(ftag);\n",
    "else:\n",
    "    print(' '.join(['There exists',ftag]));    \n",
    "    \n",
    "time.sleep(10);    \n",
    "for key in ptypes:\n",
    "    target='.'.join([ftag,key]);\n",
    "    print(target);\n",
    "    if os.path.isfile(target):\n",
    "        shutil.move(target,os.path.join(ftag,target));\n",
    "\n",
    "# html sub folder remove if it already exists\n",
    "htmlsF='_'.join([ftag,'files']);\n",
    "subF2=os.path.join(ftag,htmlsF);\n",
    "if os.path.isdir(subF2):\n",
    "        shutil.rmtree(subF2);\n",
    "        \n",
    "time.sleep(10);        \n",
    "# html sub folder treatment\n",
    "if os.path.isdir(htmlsF):\n",
    "    shutil.move(htmlsF,ftag)\n",
    "    \n",
    "time.sleep(10);\n",
    "for key in ptypes:\n",
    "    target='.'.join([ftag,key]);\n",
    "    print(target);\n",
    "    if os.path.isfile(target):\n",
    "        os.remove(target);\n",
    "\n",
    "# html sub folder treatment\n",
    "if os.path.isdir(htmlsF):\n",
    "        shutil.rmtree(htmlsF);\n",
    "        \n",
    "target='.'.join([ftag,ptypes[0]]);\n",
    "target2='.'.join([ftag,'txt']);\n",
    "shutil.copy(os.path.join(ftag,target),os.path.join(ftag,target2));\n",
    "\n",
    "print(\"\\n All processes were completed!\")"
   ]
  },
  {
   "cell_type": "code",
   "execution_count": 60,
   "metadata": {},
   "outputs": [
    {
     "data": {
      "text/plain": [
       "'lec1_step3/lec1_step3_files'"
      ]
     },
     "execution_count": 60,
     "metadata": {},
     "output_type": "execute_result"
    }
   ],
   "source": [
    "shutil.move('lec1_step3_files', 'lec1_step3')"
   ]
  },
  {
   "cell_type": "code",
   "execution_count": 77,
   "metadata": {},
   "outputs": [],
   "source": [
    "ftag='lec1_step3';\n",
    "# html sub folder treatment\n",
    "htmlsF='_'.join([ftag,'files']);\n",
    "if os.path.isdir(htmlsF):\n",
    "    shutil.move(htmlsF,ftag)"
   ]
  },
  {
   "cell_type": "code",
   "execution_count": 73,
   "metadata": {},
   "outputs": [],
   "source": [
    "ftag='lec1_step3';\n",
    "htmlsF='_'.join([ftag,'files'])"
   ]
  },
  {
   "cell_type": "code",
   "execution_count": 85,
   "metadata": {},
   "outputs": [
    {
     "data": {
      "text/plain": [
       "'lec1_step3'"
      ]
     },
     "execution_count": 85,
     "metadata": {},
     "output_type": "execute_result"
    }
   ],
   "source": [
    "ftag"
   ]
  },
  {
   "cell_type": "code",
   "execution_count": 86,
   "metadata": {},
   "outputs": [],
   "source": [
    "htmlsF='_'.join([ftag,'files']);\n",
    "subF2=os.path.join(ftag,htmlsF);\n",
    "if os.path.isdir(subF2):\n",
    "        shutil.rmtree(subF2);"
   ]
  },
  {
   "cell_type": "code",
   "execution_count": null,
   "metadata": {},
   "outputs": [],
   "source": []
  }
 ],
 "metadata": {
  "kernelspec": {
   "display_name": "Python 3",
   "language": "python",
   "name": "python3"
  },
  "language_info": {
   "codemirror_mode": {
    "name": "ipython",
    "version": 3
   },
   "file_extension": ".py",
   "mimetype": "text/x-python",
   "name": "python",
   "nbconvert_exporter": "python",
   "pygments_lexer": "ipython3",
   "version": "3.7.7"
  }
 },
 "nbformat": 4,
 "nbformat_minor": 2
}
