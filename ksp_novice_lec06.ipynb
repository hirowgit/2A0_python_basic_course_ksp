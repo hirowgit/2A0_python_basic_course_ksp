{
 "cells": [
  {
   "cell_type": "code",
   "execution_count": null,
   "id": "a932f4ee",
   "metadata": {},
   "outputs": [],
   "source": [
    "## Python basics for novice data scientists, supported by Wagatsuma Lab@Kyutech \n",
    "#\n",
    "# The MIT License (MIT): Copyright (c) 2020 Hiroaki Wagatsuma and Wagatsuma Lab@Kyutech\n",
    "# \n",
    "# Permission is hereby granted, free of charge, to any person obtaining a copy of this software and associated documentation files (the \"Software\"), to deal in the Software without restriction, including without limitation the rights to use, copy, modify, merge, publish, distribute, sublicense, and/or sell copies of the Software, and to permit persons to whom the Software is furnished to do so, subject to the following conditions:\n",
    "# The above copyright notice and this permission notice shall be included in all copies or substantial portions of the Software.\n",
    "# THE SOFTWARE IS PROVIDED \"AS IS\", WITHOUT WARRANTY OF ANY KIND, EXPRESS OR IMPLIED, INCLUDING BUT NOT LIMITED TO THE WARRANTIES OF MERCHANTABILITY, FITNESS FOR A PARTICULAR PURPOSE AND NONINFRINGEMENT. IN NO EVENT SHALL THE AUTHORS OR COPYRIGHT HOLDERS BE LIABLE FOR ANY CLAIM, DAMAGES OR OTHER LIABILITY, WHETHER IN AN ACTION OF CONTRACT, TORT OR OTHERWISE, ARISING FROM, OUT OF OR IN CONNECTION WITH THE SOFTWARE OR THE USE OR OTHER DEALINGS IN THE SOFTWARE. */\n",
    "#\n",
    "# # @Time    : 2023-7-1 \n",
    "# # @Author  : Hiroaki Wagatsuma\n",
    "# # @Site    : https://github.com/hirowgit/2A_python_basic_course\n",
    "# # @IDE     : Python 3.10.9 (main, Dec 15 2022, 18:18:30) [Clang 14.0.0 (clang-1400.0.29.202)] on darwin\n",
    "# # @File    : ksp_novice_lec03.py "
   ]
  },
  {
   "cell_type": "code",
   "execution_count": 2,
   "id": "3d5ed2eb",
   "metadata": {},
   "outputs": [],
   "source": [
    "import numpy as np\n",
    "import numpy.matlib\n",
    "import os\n",
    "import sys\n",
    "import codecs\n",
    "import matplotlib.pyplot as plt\n",
    "import pandas as pd\n",
    "from openpyxl import Workbook\n",
    "import pprint\n",
    "import datetime"
   ]
  },
  {
   "cell_type": "code",
   "execution_count": 3,
   "id": "1154a7aa",
   "metadata": {},
   "outputs": [],
   "source": [
    "import seaborn as sns "
   ]
  },
  {
   "cell_type": "code",
   "execution_count": 4,
   "id": "f01d831a",
   "metadata": {},
   "outputs": [],
   "source": [
    "import plotly.offline\n",
    "import plotly.express as px\n",
    "import plotly.graph_objects as go\n",
    "import plotly.subplots\n",
    "import squarify"
   ]
  },
  {
   "cell_type": "code",
   "execution_count": 18,
   "id": "5f411b11",
   "metadata": {},
   "outputs": [],
   "source": [
    "a = 1 \n",
    "b = a \n",
    "a = 2"
   ]
  },
  {
   "cell_type": "code",
   "execution_count": 3,
   "id": "cd417453",
   "metadata": {},
   "outputs": [
    {
     "data": {
      "text/plain": [
       "(2, 1)"
      ]
     },
     "execution_count": 3,
     "metadata": {},
     "output_type": "execute_result"
    }
   ],
   "source": [
    "a,b"
   ]
  },
  {
   "cell_type": "code",
   "execution_count": 23,
   "id": "d203dcfb",
   "metadata": {},
   "outputs": [],
   "source": [
    "a = [0,0,0] \n",
    "\n",
    "a[0]=1\n",
    "b = a \n",
    "a[0] = 2"
   ]
  },
  {
   "cell_type": "code",
   "execution_count": 22,
   "id": "ba89071d",
   "metadata": {},
   "outputs": [
    {
     "data": {
      "text/plain": [
       "(2, 2)"
      ]
     },
     "execution_count": 22,
     "metadata": {},
     "output_type": "execute_result"
    }
   ],
   "source": [
    "a[0],b[0]"
   ]
  },
  {
   "cell_type": "code",
   "execution_count": 25,
   "id": "1679ee38",
   "metadata": {},
   "outputs": [
    {
     "name": "stdout",
     "output_type": "stream",
     "text": [
      "1 1\n",
      "2 1\n"
     ]
    }
   ],
   "source": [
    "a = 1 \n",
    "b = a \n",
    "print(a,b)\n",
    "a = 2\n",
    "print(a,b)"
   ]
  },
  {
   "cell_type": "code",
   "execution_count": 40,
   "id": "b28bc600",
   "metadata": {},
   "outputs": [
    {
     "name": "stdout",
     "output_type": "stream",
     "text": [
      "1 1\n",
      "2 2\n"
     ]
    }
   ],
   "source": [
    "a = [0] \n",
    "\n",
    "a[0]=1\n",
    "b = a \n",
    "print(a[0],b[0])\n",
    "\n",
    "a[0] = 2\n",
    "print(a[0],b[0])"
   ]
  },
  {
   "cell_type": "code",
   "execution_count": 38,
   "id": "8be70507",
   "metadata": {},
   "outputs": [
    {
     "name": "stdout",
     "output_type": "stream",
     "text": [
      "1 1\n",
      "4519004464, 4519004464\n",
      "2 1\n",
      "4519004496, 4519004464\n"
     ]
    }
   ],
   "source": [
    "a = 1 \n",
    "b = a \n",
    "print(a,b)\n",
    "print(str(id(a))+', '+str(id(b)))\n",
    "a = 2\n",
    "print(a,b)\n",
    "print(str(id(a))+', '+str(id(b)))\n"
   ]
  },
  {
   "cell_type": "code",
   "execution_count": 39,
   "id": "1998f8de",
   "metadata": {},
   "outputs": [
    {
     "name": "stdout",
     "output_type": "stream",
     "text": [
      "1 1\n",
      "4519004464, 4519004464\n",
      "2 2\n",
      "4519004496, 4519004496\n"
     ]
    }
   ],
   "source": [
    "a = [0,0,0] \n",
    "\n",
    "a[0]=1\n",
    "b = a \n",
    "print(a[0],b[0])\n",
    "print(str(id(a[0]))+', '+str(id(b[0])))\n",
    "\n",
    "a[0] = 2\n",
    "print(a[0],b[0])\n",
    "print(str(id(a[0]))+', '+str(id(b[0])))"
   ]
  }
 ],
 "metadata": {
  "kernelspec": {
   "display_name": "Python 3 (ipykernel)",
   "language": "python",
   "name": "python3"
  },
  "language_info": {
   "codemirror_mode": {
    "name": "ipython",
    "version": 3
   },
   "file_extension": ".py",
   "mimetype": "text/x-python",
   "name": "python",
   "nbconvert_exporter": "python",
   "pygments_lexer": "ipython3",
   "version": "3.9.16"
  }
 },
 "nbformat": 4,
 "nbformat_minor": 5
}
