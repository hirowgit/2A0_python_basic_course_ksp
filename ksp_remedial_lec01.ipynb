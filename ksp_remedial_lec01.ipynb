{
 "cells": [
  {
   "cell_type": "code",
   "execution_count": null,
   "id": "a932f4ee",
   "metadata": {},
   "outputs": [],
   "source": [
    "## Python basics for novice data scientists, supported by Wagatsuma Lab@Kyutech \n",
    "#\n",
    "# The MIT License (MIT): Copyright (c) 2020 Hiroaki Wagatsuma and Wagatsuma Lab@Kyutech\n",
    "# \n",
    "# Permission is hereby granted, free of charge, to any person obtaining a copy of this software and associated documentation files (the \"Software\"), to deal in the Software without restriction, including without limitation the rights to use, copy, modify, merge, publish, distribute, sublicense, and/or sell copies of the Software, and to permit persons to whom the Software is furnished to do so, subject to the following conditions:\n",
    "# The above copyright notice and this permission notice shall be included in all copies or substantial portions of the Software.\n",
    "# THE SOFTWARE IS PROVIDED \"AS IS\", WITHOUT WARRANTY OF ANY KIND, EXPRESS OR IMPLIED, INCLUDING BUT NOT LIMITED TO THE WARRANTIES OF MERCHANTABILITY, FITNESS FOR A PARTICULAR PURPOSE AND NONINFRINGEMENT. IN NO EVENT SHALL THE AUTHORS OR COPYRIGHT HOLDERS BE LIABLE FOR ANY CLAIM, DAMAGES OR OTHER LIABILITY, WHETHER IN AN ACTION OF CONTRACT, TORT OR OTHERWISE, ARISING FROM, OUT OF OR IN CONNECTION WITH THE SOFTWARE OR THE USE OR OTHER DEALINGS IN THE SOFTWARE. */\n",
    "#\n",
    "# # @Time    : 2023-7-1 \n",
    "# # @Author  : Hiroaki Wagatsuma\n",
    "# # @Site    : https://github.com/hirowgit/2A_python_basic_course\n",
    "# # @IDE     : Python 3.10.9 (main, Dec 15 2022, 18:18:30) [Clang 14.0.0 (clang-1400.0.29.202)] on darwin\n",
    "# # @File    : ksp_novice_lec03.py "
   ]
  },
  {
   "cell_type": "code",
   "execution_count": 1,
   "id": "3d5ed2eb",
   "metadata": {},
   "outputs": [],
   "source": [
    "import numpy as np\n",
    "import numpy.matlib\n",
    "import os\n",
    "import sys\n",
    "import codecs\n",
    "import matplotlib.pyplot as plt\n",
    "import pandas as pd\n",
    "from openpyxl import Workbook\n",
    "import pprint\n",
    "import datetime"
   ]
  },
  {
   "cell_type": "code",
   "execution_count": 2,
   "id": "1154a7aa",
   "metadata": {},
   "outputs": [],
   "source": [
    "import seaborn as sns "
   ]
  },
  {
   "cell_type": "code",
   "execution_count": 3,
   "id": "f01d831a",
   "metadata": {},
   "outputs": [],
   "source": [
    "import plotly.offline\n",
    "import plotly.express as px\n",
    "import plotly.graph_objects as go\n",
    "import plotly.subplots\n",
    "import squarify"
   ]
  },
  {
   "cell_type": "code",
   "execution_count": null,
   "id": "cda28536",
   "metadata": {},
   "outputs": [],
   "source": [
    "!pip install sympy\n",
    "#もし sympyがインストールされてなかったら上述の　コードを実行してください\n",
    "import sympy as sy"
   ]
  },
  {
   "cell_type": "code",
   "execution_count": 7,
   "id": "94a55a62",
   "metadata": {},
   "outputs": [],
   "source": [
    "# !pip install sympy\n",
    "#もし sympyがインストールされてあれば、下記だけで結構です\n",
    "import sympy as sy"
   ]
  },
  {
   "cell_type": "markdown",
   "id": "18a4dbf8",
   "metadata": {},
   "source": [
    "### 簡単な計算"
   ]
  },
  {
   "cell_type": "code",
   "execution_count": 18,
   "id": "8a26daaa",
   "metadata": {},
   "outputs": [],
   "source": [
    "a = 1 \n",
    "b = a \n",
    "a = 2"
   ]
  },
  {
   "cell_type": "code",
   "execution_count": 3,
   "id": "15f1ccbd",
   "metadata": {},
   "outputs": [
    {
     "data": {
      "text/plain": [
       "(2, 1)"
      ]
     },
     "execution_count": 3,
     "metadata": {},
     "output_type": "execute_result"
    }
   ],
   "source": [
    "a,b"
   ]
  },
  {
   "cell_type": "code",
   "execution_count": 23,
   "id": "96660318",
   "metadata": {},
   "outputs": [],
   "source": [
    "a = [0,0,0] \n",
    "\n",
    "a[0]=1\n",
    "b = a \n",
    "a[0] = 2"
   ]
  },
  {
   "cell_type": "code",
   "execution_count": 22,
   "id": "d82e9097",
   "metadata": {},
   "outputs": [
    {
     "data": {
      "text/plain": [
       "(2, 2)"
      ]
     },
     "execution_count": 22,
     "metadata": {},
     "output_type": "execute_result"
    }
   ],
   "source": [
    "a[0],b[0]"
   ]
  },
  {
   "cell_type": "code",
   "execution_count": 25,
   "id": "5924767a",
   "metadata": {},
   "outputs": [
    {
     "name": "stdout",
     "output_type": "stream",
     "text": [
      "1 1\n",
      "2 1\n"
     ]
    }
   ],
   "source": [
    "a = 1 \n",
    "b = a \n",
    "print(a,b)\n",
    "a = 2\n",
    "print(a,b)"
   ]
  },
  {
   "cell_type": "code",
   "execution_count": 40,
   "id": "70d6544d",
   "metadata": {},
   "outputs": [
    {
     "name": "stdout",
     "output_type": "stream",
     "text": [
      "1 1\n",
      "2 2\n"
     ]
    }
   ],
   "source": [
    "a = [0] \n",
    "\n",
    "a[0]=1\n",
    "b = a \n",
    "print(a[0],b[0])\n",
    "\n",
    "a[0] = 2\n",
    "print(a[0],b[0])"
   ]
  },
  {
   "cell_type": "markdown",
   "id": "290bbeb6",
   "metadata": {},
   "source": [
    "### 確率の計算 (for 文)"
   ]
  },
  {
   "cell_type": "code",
   "execution_count": 25,
   "id": "e4411420",
   "metadata": {},
   "outputs": [
    {
     "data": {
      "text/plain": [
       "False"
      ]
     },
     "execution_count": 25,
     "metadata": {},
     "output_type": "execute_result"
    }
   ],
   "source": [
    "(1 % 2) ==0"
   ]
  },
  {
   "cell_type": "code",
   "execution_count": 26,
   "id": "b82d4689",
   "metadata": {},
   "outputs": [
    {
     "data": {
      "text/plain": [
       "True"
      ]
     },
     "execution_count": 26,
     "metadata": {},
     "output_type": "execute_result"
    }
   ],
   "source": [
    "(2 % 2) ==0"
   ]
  },
  {
   "cell_type": "code",
   "execution_count": 27,
   "id": "5a84c9f4",
   "metadata": {},
   "outputs": [
    {
     "data": {
      "text/plain": [
       "True"
      ]
     },
     "execution_count": 27,
     "metadata": {},
     "output_type": "execute_result"
    }
   ],
   "source": [
    "(1 % 2) !=0"
   ]
  },
  {
   "cell_type": "code",
   "execution_count": 28,
   "id": "3ff3a19f",
   "metadata": {},
   "outputs": [
    {
     "data": {
      "text/plain": [
       "False"
      ]
     },
     "execution_count": 28,
     "metadata": {},
     "output_type": "execute_result"
    }
   ],
   "source": [
    "(2 % 2) !=0"
   ]
  },
  {
   "cell_type": "code",
   "execution_count": 8,
   "id": "3a7218a4",
   "metadata": {},
   "outputs": [
    {
     "data": {
      "text/latex": [
       "$\\displaystyle \\frac{1}{3}$"
      ],
      "text/plain": [
       "1/3"
      ]
     },
     "execution_count": 8,
     "metadata": {},
     "output_type": "execute_result"
    }
   ],
   "source": [
    "sy.Rational(1,3)"
   ]
  },
  {
   "cell_type": "code",
   "execution_count": 9,
   "id": "5d492b93",
   "metadata": {},
   "outputs": [
    {
     "data": {
      "text/latex": [
       "$\\displaystyle \\frac{1}{2}$"
      ],
      "text/plain": [
       "1/2"
      ]
     },
     "execution_count": 9,
     "metadata": {},
     "output_type": "execute_result"
    }
   ],
   "source": [
    "sy.Rational(2,4)"
   ]
  },
  {
   "cell_type": "code",
   "execution_count": 31,
   "id": "74b020f0",
   "metadata": {},
   "outputs": [
    {
     "data": {
      "text/plain": [
       "0.3333333333333333"
      ]
     },
     "execution_count": 31,
     "metadata": {},
     "output_type": "execute_result"
    }
   ],
   "source": [
    "1/3"
   ]
  },
  {
   "cell_type": "code",
   "execution_count": 30,
   "id": "467c76a4",
   "metadata": {},
   "outputs": [
    {
     "data": {
      "text/plain": [
       "0.5"
      ]
     },
     "execution_count": 30,
     "metadata": {},
     "output_type": "execute_result"
    }
   ],
   "source": [
    "2/4"
   ]
  },
  {
   "cell_type": "code",
   "execution_count": 29,
   "id": "b2b860b8",
   "metadata": {},
   "outputs": [
    {
     "name": "stdout",
     "output_type": "stream",
     "text": [
      "[1, 2, 3]\n",
      "合計が偶数である確率は 5/9\n",
      "合計が奇数である確率は 4/9\n",
      "合計が2である確率は      1/9\n"
     ]
    }
   ],
   "source": [
    "r_2=0\n",
    "r_even=0\n",
    "r_odd=0\n",
    "totalN=0\n",
    "print(list(range(1,4)))\n",
    "\n",
    "for i in range(1,4):\n",
    "    for j in range(1,4):\n",
    "        totalN=totalN+1\n",
    "        if ((i+j) %2)==0:\n",
    "            r_even=r_even+1\n",
    "        else:\n",
    "            r_odd=r_odd+1\n",
    "        if (i+j)==2:\n",
    "            r_2=r_2+1\n",
    "        \n",
    "print(f'合計が偶数である確率は {sy.Rational(r_even,totalN)}')\n",
    "print(f'合計が奇数である確率は {sy.Rational(r_odd,totalN)}')\n",
    "print(f'合計が2である確率は      {sy.Rational(r_2,totalN)}')"
   ]
  },
  {
   "cell_type": "markdown",
   "id": "cd8f607d",
   "metadata": {},
   "source": [
    "### 確率の計算 (numpy )"
   ]
  },
  {
   "cell_type": "code",
   "execution_count": 11,
   "id": "cb9d67cc",
   "metadata": {},
   "outputs": [
    {
     "data": {
      "text/plain": [
       "array([1, 2, 3])"
      ]
     },
     "execution_count": 11,
     "metadata": {},
     "output_type": "execute_result"
    }
   ],
   "source": [
    "np.arange(1,4)"
   ]
  },
  {
   "cell_type": "code",
   "execution_count": 12,
   "id": "156fee62",
   "metadata": {},
   "outputs": [
    {
     "data": {
      "text/plain": [
       "[1, 2, 3, 1, 2, 3, 1, 2, 3]"
      ]
     },
     "execution_count": 12,
     "metadata": {},
     "output_type": "execute_result"
    }
   ],
   "source": [
    "list(range(1,4))*3"
   ]
  },
  {
   "cell_type": "code",
   "execution_count": 13,
   "id": "4596a703",
   "metadata": {},
   "outputs": [
    {
     "data": {
      "text/plain": [
       "[1, 1, 1, 2, 2, 2, 3, 3, 3]"
      ]
     },
     "execution_count": 13,
     "metadata": {},
     "output_type": "execute_result"
    }
   ],
   "source": [
    "sum([[i]*3 for i in range(1,4)],[])"
   ]
  },
  {
   "cell_type": "code",
   "execution_count": 14,
   "id": "047e0b26",
   "metadata": {},
   "outputs": [
    {
     "data": {
      "text/plain": [
       "array([[1, 1],\n",
       "       [2, 2]])"
      ]
     },
     "execution_count": 14,
     "metadata": {},
     "output_type": "execute_result"
    }
   ],
   "source": [
    "np.stack([[1,1],[2,2]])"
   ]
  },
  {
   "cell_type": "code",
   "execution_count": 15,
   "id": "128839b9",
   "metadata": {},
   "outputs": [
    {
     "name": "stdout",
     "output_type": "stream",
     "text": [
      "[[1 2 3 1 2 3 1 2 3]\n",
      " [1 1 1 2 2 2 3 3 3]]\n",
      "[0],[0 2 4 6 8],[1 3 5 7]\n",
      "合計が偶数である確率は 5/9\n",
      "合計が奇数である確率は 4/9\n",
      "合計が2である確率は      1/9\n"
     ]
    }
   ],
   "source": [
    "L1=list(range(1,4))*3\n",
    "L2=sum([[i]*3 for i in range(1,4)],[])\n",
    "L3=np.stack([L1,L2])\n",
    "print(L3)\n",
    "\n",
    "print(f'{np.where(sum(L3)==2)[0]},{np.where((sum(L3) % 2)==0)[0]},{np.where((sum(L3) % 2)!=0)[0]}')\n",
    "\n",
    "r_2=len(np.where(sum(L3)==2)[0])\n",
    "r_even=len(np.where((sum(L3) % 2)==0)[0])\n",
    "r_odd=len(np.where((sum(L3) % 2)!=0)[0])\n",
    "totalN=len(L1)\n",
    "\n",
    "print(f'合計が偶数である確率は {sy.Rational(r_even,totalN)}')\n",
    "print(f'合計が奇数である確率は {sy.Rational(r_odd,totalN)}')\n",
    "print(f'合計が2である確率は      {sy.Rational(r_2,totalN)}')"
   ]
  },
  {
   "cell_type": "code",
   "execution_count": 16,
   "id": "cd63be78",
   "metadata": {},
   "outputs": [
    {
     "data": {
      "text/plain": [
       "(array([0, 2, 4, 6, 8]),)"
      ]
     },
     "execution_count": 16,
     "metadata": {},
     "output_type": "execute_result"
    }
   ],
   "source": [
    "(np.where((sum(L3) % 2)==0))"
   ]
  },
  {
   "cell_type": "code",
   "execution_count": 17,
   "id": "ccc191bc",
   "metadata": {},
   "outputs": [
    {
     "data": {
      "text/plain": [
       "1"
      ]
     },
     "execution_count": 17,
     "metadata": {},
     "output_type": "execute_result"
    }
   ],
   "source": [
    "len(np.where(sum(L3)==2))"
   ]
  },
  {
   "cell_type": "code",
   "execution_count": 18,
   "id": "d8941c0b",
   "metadata": {},
   "outputs": [
    {
     "name": "stdout",
     "output_type": "stream",
     "text": [
      "[[1 2 3 4 1 2 3 4 1 2 3 4 1 2 3 4]\n",
      " [1 1 1 1 2 2 2 2 3 3 3 3 4 4 4 4]]\n",
      "[0],[ 0  2  5  7  8 10 13 15],[ 1  3  4  6  9 11 12 14]\n",
      "合計が偶数である確率は 1/2\n",
      "合計が奇数である確率は 1/2\n",
      "合計が2である確率は      1/16\n"
     ]
    }
   ],
   "source": [
    "NofD=4\n",
    "L1=list(range(1,NofD+1))*NofD\n",
    "L2=sum([[i]*NofD for i in range(1,NofD+1)],[])\n",
    "L3=np.stack([L1,L2])\n",
    "print(L3)\n",
    "\n",
    "print(f'{np.where(sum(L3)==2)[0]},{np.where((sum(L3) % 2)==0)[0]},{np.where((sum(L3) % 2)!=0)[0]}')\n",
    "\n",
    "r_2=len(np.where(sum(L3)==2)[0])\n",
    "r_even=len(np.where((sum(L3) % 2)==0)[0])\n",
    "r_odd=len(np.where((sum(L3) % 2)!=0)[0])\n",
    "totalN=len(L1)\n",
    "\n",
    "print(f'合計が偶数である確率は {sy.Rational(r_even,totalN)}')\n",
    "print(f'合計が奇数である確率は {sy.Rational(r_odd,totalN)}')\n",
    "print(f'合計が2である確率は      {sy.Rational(r_2,totalN)}')"
   ]
  },
  {
   "cell_type": "code",
   "execution_count": 19,
   "id": "01a5ff0f",
   "metadata": {},
   "outputs": [
    {
     "name": "stdout",
     "output_type": "stream",
     "text": [
      "[[2 2 2 5 5 5 2 2 2 5 5 5 2 2 2 5 5 5 2 2 2 5 5 5 2 2 2 5 5 5 2 2 2 5 5 5]\n",
      " [1 1 1 1 1 1 2 2 2 2 2 2 3 3 3 3 3 3 4 4 4 4 4 4 5 5 5 5 5 5 6 6 6 6 6 6]]\n",
      "[ 9 10 11 24 25 26],[ 3  4  5  6  7  8 15 16 17 18 19 20 27 28 29 30 31 32],[ 0  1  2  9 10 11 12 13 14 21 22 23 24 25 26 33 34 35]\n",
      "合計が偶数である確率は 1/2\n",
      "合計が奇数である確率は 1/2\n",
      "合計が2である確率は      1/6\n"
     ]
    }
   ],
   "source": [
    "NofD=6\n",
    "targetN=7\n",
    "# L1=list(range(1,NofD+1))*NofD\n",
    "L1=[2,2,2,5,5,5]*NofD\n",
    "\n",
    "L2=sum([[i]*NofD for i in range(1,NofD+1)],[])\n",
    "L3=np.stack([L1,L2])\n",
    "print(L3)\n",
    "\n",
    "print(f'{np.where(sum(L3)==targetN)[0]},{np.where((sum(L3) % 2)==0)[0]},{np.where((sum(L3) % 2)!=0)[0]}')\n",
    "\n",
    "r_2=len(np.where(sum(L3)==targetN)[0])\n",
    "r_even=len(np.where((sum(L3) % 2)==0)[0])\n",
    "r_odd=len(np.where((sum(L3) % 2)!=0)[0])\n",
    "totalN=len(L1)\n",
    "\n",
    "print(f'合計が偶数である確率は {sy.Rational(r_even,totalN)}')\n",
    "print(f'合計が奇数である確率は {sy.Rational(r_odd,totalN)}')\n",
    "print(f'合計が2である確率は      {sy.Rational(r_2,totalN)}')"
   ]
  },
  {
   "cell_type": "code",
   "execution_count": 20,
   "id": "32111ee3",
   "metadata": {},
   "outputs": [
    {
     "name": "stdout",
     "output_type": "stream",
     "text": [
      "[7 7 7 7 7 7]\n",
      "[[5 5 5 2 2 2]\n",
      " [2 2 2 5 5 5]]\n"
     ]
    }
   ],
   "source": [
    "indexD=(np.argwhere(sum(L3)==targetN).T)[0]\n",
    "print(sum(L3)[indexD])\n",
    "print(L3[:,indexD])"
   ]
  },
  {
   "cell_type": "code",
   "execution_count": 21,
   "id": "14f7bb53",
   "metadata": {},
   "outputs": [
    {
     "name": "stdout",
     "output_type": "stream",
     "text": [
      "[[7]\n",
      " [7]\n",
      " [7]\n",
      " [7]\n",
      " [7]\n",
      " [7]]\n",
      "[[[5]\n",
      "  [5]\n",
      "  [5]\n",
      "  [2]\n",
      "  [2]\n",
      "  [2]]\n",
      "\n",
      " [[2]\n",
      "  [2]\n",
      "  [2]\n",
      "  [5]\n",
      "  [5]\n",
      "  [5]]]\n"
     ]
    }
   ],
   "source": [
    "indexD=np.argwhere(sum(L3)==targetN)\n",
    "print(sum(L3)[indexD])\n",
    "print(L3[:,indexD])"
   ]
  },
  {
   "cell_type": "code",
   "execution_count": 23,
   "id": "b3cf9e4f",
   "metadata": {},
   "outputs": [
    {
     "name": "stdout",
     "output_type": "stream",
     "text": [
      "[[2 5 2 5 2 5 2 5 2 5 2 5]\n",
      " [1 1 2 2 3 3 4 4 5 5 6 6]]\n",
      "7\n",
      "2\n",
      "\n",
      "全パターン [(2, 1), (5, 1), (2, 2), (5, 2), (2, 3), (5, 3), (2, 4), (5, 4), (2, 5), (5, 5), (2, 6), (5, 6)]\n",
      "その数は 12\n",
      "\n",
      "L1==5 or L2==5: [(5, 1), (5, 2), (5, 3), (5, 4), (2, 5), (5, 5), (5, 6)]\n",
      "その数は 7\n",
      "\n",
      "L1+L2==7 in the above list: [(5, 2), (2, 5)]\n",
      "その数は 2\n",
      "\n",
      "合計が7である確率は      2/7\n"
     ]
    }
   ],
   "source": [
    "NofD1=6\n",
    "NofD2=2\n",
    "targetN=7\n",
    "# L1=list(range(1,NofD+1))*NofD\n",
    "L1=[2,5]*NofD1\n",
    "\n",
    "L2=sum([[i]*NofD2 for i in range(1,NofD1+1)],[])\n",
    "L3=np.stack([L1,L2])\n",
    "print(L3)\n",
    "\n",
    "baseP=np.where((L3[0,:]==5)|(L3[1,:]==5))[0]\n",
    "sumT=np.where(sum(L3[:,baseP])==targetN)[0]\n",
    "\n",
    "\n",
    "totalN=len(baseP)\n",
    "sN=len(sumT)\n",
    "# print(baseP)\n",
    "print(totalN)\n",
    "\n",
    "# print(sumT)\n",
    "print(sN)\n",
    "\n",
    "pair０=list(zip(L3[0,:],L3[1,:]))\n",
    "pair1=list(zip(L3[0,baseP],L3[1,baseP]))\n",
    "pair2=list(zip(L3[0,baseP[sumT]],L3[1,baseP[sumT]]))\n",
    "\n",
    "print('')\n",
    "print(f'全パターン {pair0}')\n",
    "print(f'その数は {len(pair0)}')\n",
    "print('')\n",
    "print(f'L1==5 or L2==5: {pair1}')\n",
    "print(f'その数は {totalN}')\n",
    "print('')\n",
    "print(f'L1+L2==7 in the above list: {pair2}')\n",
    "print(f'その数は {sN}')\n",
    "print('')\n",
    "print(f'合計が7である確率は      {sy.Rational(sN,totalN)}')"
   ]
  },
  {
   "cell_type": "code",
   "execution_count": 24,
   "id": "3ec35776",
   "metadata": {},
   "outputs": [
    {
     "data": {
      "text/plain": [
       "[1, 1, 2, 2, 3, 3, 4, 4, 5, 5, 6, 6]"
      ]
     },
     "execution_count": 24,
     "metadata": {},
     "output_type": "execute_result"
    }
   ],
   "source": [
    "L2=sum([[i]*NofD2 for i in range(1,NofD1+1)],[])\n",
    "\n",
    "L2"
   ]
  },
  {
   "cell_type": "markdown",
   "id": "80226842",
   "metadata": {},
   "source": [
    "### その他"
   ]
  },
  {
   "cell_type": "code",
   "execution_count": 38,
   "id": "3055ed30",
   "metadata": {},
   "outputs": [
    {
     "name": "stdout",
     "output_type": "stream",
     "text": [
      "1 1\n",
      "4519004464, 4519004464\n",
      "2 1\n",
      "4519004496, 4519004464\n"
     ]
    }
   ],
   "source": [
    "a = 1 \n",
    "b = a \n",
    "print(a,b)\n",
    "print(str(id(a))+', '+str(id(b)))\n",
    "a = 2\n",
    "print(a,b)\n",
    "print(str(id(a))+', '+str(id(b)))\n"
   ]
  },
  {
   "cell_type": "code",
   "execution_count": 39,
   "id": "4b5b5785",
   "metadata": {},
   "outputs": [
    {
     "name": "stdout",
     "output_type": "stream",
     "text": [
      "1 1\n",
      "4519004464, 4519004464\n",
      "2 2\n",
      "4519004496, 4519004496\n"
     ]
    }
   ],
   "source": [
    "a = [0,0,0] \n",
    "\n",
    "a[0]=1\n",
    "b = a \n",
    "print(a[0],b[0])\n",
    "print(str(id(a[0]))+', '+str(id(b[0])))\n",
    "\n",
    "a[0] = 2\n",
    "print(a[0],b[0])\n",
    "print(str(id(a[0]))+', '+str(id(b[0])))"
   ]
  }
 ],
 "metadata": {
  "kernelspec": {
   "display_name": "Python 3 (ipykernel)",
   "language": "python",
   "name": "python3"
  },
  "language_info": {
   "codemirror_mode": {
    "name": "ipython",
    "version": 3
   },
   "file_extension": ".py",
   "mimetype": "text/x-python",
   "name": "python",
   "nbconvert_exporter": "python",
   "pygments_lexer": "ipython3",
   "version": "3.9.18"
  }
 },
 "nbformat": 4,
 "nbformat_minor": 5
}
