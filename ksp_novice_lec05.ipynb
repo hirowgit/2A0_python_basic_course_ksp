{
 "cells": [
  {
   "cell_type": "code",
   "execution_count": null,
   "id": "a932f4ee",
   "metadata": {},
   "outputs": [],
   "source": [
    "## Python basics for novice data scientists, supported by Wagatsuma Lab@Kyutech \n",
    "#\n",
    "# The MIT License (MIT): Copyright (c) 2020 Hiroaki Wagatsuma and Wagatsuma Lab@Kyutech\n",
    "# \n",
    "# Permission is hereby granted, free of charge, to any person obtaining a copy of this software and associated documentation files (the \"Software\"), to deal in the Software without restriction, including without limitation the rights to use, copy, modify, merge, publish, distribute, sublicense, and/or sell copies of the Software, and to permit persons to whom the Software is furnished to do so, subject to the following conditions:\n",
    "# The above copyright notice and this permission notice shall be included in all copies or substantial portions of the Software.\n",
    "# THE SOFTWARE IS PROVIDED \"AS IS\", WITHOUT WARRANTY OF ANY KIND, EXPRESS OR IMPLIED, INCLUDING BUT NOT LIMITED TO THE WARRANTIES OF MERCHANTABILITY, FITNESS FOR A PARTICULAR PURPOSE AND NONINFRINGEMENT. IN NO EVENT SHALL THE AUTHORS OR COPYRIGHT HOLDERS BE LIABLE FOR ANY CLAIM, DAMAGES OR OTHER LIABILITY, WHETHER IN AN ACTION OF CONTRACT, TORT OR OTHERWISE, ARISING FROM, OUT OF OR IN CONNECTION WITH THE SOFTWARE OR THE USE OR OTHER DEALINGS IN THE SOFTWARE. */\n",
    "#\n",
    "# # @Time    : 2023-7-1 \n",
    "# # @Author  : Hiroaki Wagatsuma\n",
    "# # @Site    : https://github.com/hirowgit/2A_python_basic_course\n",
    "# # @IDE     : Python 3.10.9 (main, Dec 15 2022, 18:18:30) [Clang 14.0.0 (clang-1400.0.29.202)] on darwin\n",
    "# # @File    : ksp_novice_lec03.py "
   ]
  },
  {
   "cell_type": "code",
   "execution_count": 2,
   "id": "3d5ed2eb",
   "metadata": {},
   "outputs": [],
   "source": [
    "import numpy as np\n",
    "import numpy.matlib\n",
    "import os\n",
    "import sys\n",
    "import codecs\n",
    "import matplotlib.pyplot as plt\n",
    "import pandas as pd\n",
    "from openpyxl import Workbook\n",
    "import pprint\n",
    "import datetime"
   ]
  },
  {
   "cell_type": "code",
   "execution_count": 3,
   "id": "1154a7aa",
   "metadata": {},
   "outputs": [],
   "source": [
    "import seaborn as sns "
   ]
  },
  {
   "cell_type": "code",
   "execution_count": 4,
   "id": "f01d831a",
   "metadata": {},
   "outputs": [],
   "source": [
    "import plotly.offline\n",
    "import plotly.express as px\n",
    "import plotly.graph_objects as go\n",
    "import plotly.subplots\n",
    "import squarify"
   ]
  },
  {
   "cell_type": "code",
   "execution_count": 92,
   "id": "d0036e33",
   "metadata": {},
   "outputs": [
    {
     "name": "stdout",
     "output_type": "stream",
     "text": [
      "6\n"
     ]
    }
   ],
   "source": [
    "x=1\n",
    "for i in range(5): x = x +1\n",
    "print(x)\n"
   ]
  },
  {
   "cell_type": "code",
   "execution_count": 93,
   "id": "d9a12a87",
   "metadata": {},
   "outputs": [
    {
     "name": "stdout",
     "output_type": "stream",
     "text": [
      "6\n"
     ]
    }
   ],
   "source": [
    "x=1\n",
    "for i in range(5): \n",
    "    x = x +1\n",
    "print(x)\n"
   ]
  },
  {
   "cell_type": "code",
   "execution_count": 94,
   "id": "c1db8547",
   "metadata": {},
   "outputs": [
    {
     "name": "stdout",
     "output_type": "stream",
     "text": [
      "6\n"
     ]
    }
   ],
   "source": [
    "x=1\n",
    "for i in range(5): \n",
    "    x += 1\n",
    "print(x)\n"
   ]
  },
  {
   "cell_type": "code",
   "execution_count": 95,
   "id": "56a5ffa2",
   "metadata": {},
   "outputs": [
    {
     "name": "stdout",
     "output_type": "stream",
     "text": [
      "11\n"
     ]
    }
   ],
   "source": [
    "x=1\n",
    "a=2\n",
    "for i in range(5): \n",
    "    x = x + a\n",
    "print(x)\n"
   ]
  },
  {
   "cell_type": "code",
   "execution_count": 19,
   "id": "d910b5ed",
   "metadata": {},
   "outputs": [
    {
     "name": "stdout",
     "output_type": "stream",
     "text": [
      "11\n"
     ]
    }
   ],
   "source": [
    "x=1\n",
    "a=2\n",
    "for i in range(5): \n",
    "    x += a\n",
    "print(x)\n"
   ]
  },
  {
   "cell_type": "code",
   "execution_count": 96,
   "id": "3265c4d7",
   "metadata": {},
   "outputs": [
    {
     "name": "stdout",
     "output_type": "stream",
     "text": [
      "16\n"
     ]
    }
   ],
   "source": [
    "x=1\n",
    "b=1\n",
    "for i in range(5): \n",
    "    x = x + b\n",
    "    b = b + 1\n",
    "print(x)\n"
   ]
  },
  {
   "cell_type": "code",
   "execution_count": 97,
   "id": "e43c821d",
   "metadata": {},
   "outputs": [
    {
     "name": "stdout",
     "output_type": "stream",
     "text": [
      "1\n",
      "1\n"
     ]
    }
   ],
   "source": [
    "x,b=1,1\n",
    "print(x)\n",
    "print(b)"
   ]
  },
  {
   "cell_type": "code",
   "execution_count": 28,
   "id": "aae678fa",
   "metadata": {},
   "outputs": [
    {
     "name": "stdout",
     "output_type": "stream",
     "text": [
      "6\n"
     ]
    }
   ],
   "source": [
    "x, a=1,1\n",
    "for i in range(5): \n",
    "    x = x + a\n",
    "print(x)\n"
   ]
  },
  {
   "cell_type": "code",
   "execution_count": 30,
   "id": "ab3cbbeb",
   "metadata": {},
   "outputs": [
    {
     "name": "stdout",
     "output_type": "stream",
     "text": [
      "6\n"
     ]
    }
   ],
   "source": [
    "x=1\n",
    "while x<=5: x = x +1\n",
    "print(x)\n"
   ]
  },
  {
   "cell_type": "code",
   "execution_count": 31,
   "id": "5a02380a",
   "metadata": {},
   "outputs": [
    {
     "name": "stdout",
     "output_type": "stream",
     "text": [
      "6\n"
     ]
    }
   ],
   "source": [
    "x=1\n",
    "while x<=5: \n",
    "    x = x +1\n",
    "print(x)"
   ]
  },
  {
   "cell_type": "code",
   "execution_count": 32,
   "id": "206a1d88",
   "metadata": {},
   "outputs": [
    {
     "name": "stdout",
     "output_type": "stream",
     "text": [
      "6\n"
     ]
    }
   ],
   "source": [
    "x=1\n",
    "while x<=5: \n",
    "    x +=1\n",
    "print(x)"
   ]
  },
  {
   "cell_type": "code",
   "execution_count": 113,
   "id": "11eb3b03",
   "metadata": {},
   "outputs": [
    {
     "ename": "SyntaxError",
     "evalue": "cannot assign to set display (1942960602.py, line 1)",
     "output_type": "error",
     "traceback": [
      "\u001b[0;36m  File \u001b[0;32m\"/var/folders/mg/w5t8lkhc8xj79f001s7kzpfh0000gp/T/ipykernel_2588/1942960602.py\"\u001b[0;36m, line \u001b[0;32m1\u001b[0m\n\u001b[0;31m    {x,a}={1,2}\u001b[0m\n\u001b[0m    ^\u001b[0m\n\u001b[0;31mSyntaxError\u001b[0m\u001b[0;31m:\u001b[0m cannot assign to set display\n"
     ]
    }
   ],
   "source": [
    "{x,a}={1,2}\n",
    "while x<=10: \n",
    "    x =x + a\n",
    "print(x)"
   ]
  },
  {
   "cell_type": "code",
   "execution_count": 33,
   "id": "4a29e2c6",
   "metadata": {},
   "outputs": [
    {
     "name": "stdout",
     "output_type": "stream",
     "text": [
      "11\n"
     ]
    }
   ],
   "source": [
    "x,a=1,2\n",
    "while x<=10: \n",
    "    x =x + a\n",
    "print(x)"
   ]
  },
  {
   "cell_type": "code",
   "execution_count": 125,
   "id": "79a99591",
   "metadata": {},
   "outputs": [
    {
     "name": "stdout",
     "output_type": "stream",
     "text": [
      "16\n"
     ]
    }
   ],
   "source": [
    "x,b=1,1\n",
    "while x<15: \n",
    "    x =x + b\n",
    "    b =b + 1\n",
    "print(x)\n"
   ]
  },
  {
   "cell_type": "markdown",
   "id": "5e0133d3",
   "metadata": {},
   "source": [
    "## LIFO1"
   ]
  },
  {
   "cell_type": "code",
   "execution_count": 42,
   "id": "4a82e206",
   "metadata": {},
   "outputs": [
    {
     "name": "stdout",
     "output_type": "stream",
     "text": [
      "[1]\n",
      "[1, 2]\n",
      "[1, 2, 3]\n"
     ]
    }
   ],
   "source": [
    "L=[]\n",
    "a=1\n",
    "L.append(a)\n",
    "print(L)\n",
    "a=2\n",
    "L.append(a)\n",
    "print(L)\n",
    "a=3\n",
    "L.append(a)\n",
    "print(L)"
   ]
  },
  {
   "cell_type": "code",
   "execution_count": 133,
   "id": "0920f2d0",
   "metadata": {},
   "outputs": [
    {
     "data": {
      "text/plain": [
       "[2, 2, 3, 2, 2, 2, 2, 2]"
      ]
     },
     "execution_count": 133,
     "metadata": {},
     "output_type": "execute_result"
    }
   ],
   "source": [
    "L.extend([a])\n",
    "L\n",
    "L.insert(0,a)\n",
    "L"
   ]
  },
  {
   "cell_type": "code",
   "execution_count": 43,
   "id": "0394bc13",
   "metadata": {},
   "outputs": [
    {
     "name": "stdout",
     "output_type": "stream",
     "text": [
      "3\n",
      "[1, 2]\n",
      "2\n",
      "[1]\n"
     ]
    }
   ],
   "source": [
    "b=L.pop()\n",
    "print(b)\n",
    "print(L)\n",
    "b=L.pop()\n",
    "print(b)b=L.pop()\n",
    "print(b)\n",
    "print(L)"
   ]
  },
  {
   "cell_type": "code",
   "execution_count": 134,
   "id": "c9e1aa7d",
   "metadata": {},
   "outputs": [
    {
     "ename": "TypeError",
     "evalue": "'str' object cannot be interpreted as an integer",
     "output_type": "error",
     "traceback": [
      "\u001b[0;31m---------------------------------------------------------------------------\u001b[0m",
      "\u001b[0;31mTypeError\u001b[0m                                 Traceback (most recent call last)",
      "\u001b[0;32m/var/folders/mg/w5t8lkhc8xj79f001s7kzpfh0000gp/T/ipykernel_2588/850379833.py\u001b[0m in \u001b[0;36m<module>\u001b[0;34m\u001b[0m\n\u001b[1;32m      1\u001b[0m \u001b[0mL\u001b[0m\u001b[0;34m=\u001b[0m\u001b[0;34m[\u001b[0m\u001b[0;34m'a'\u001b[0m\u001b[0;34m,\u001b[0m\u001b[0;34m'b'\u001b[0m\u001b[0;34m,\u001b[0m\u001b[0;34m'c'\u001b[0m\u001b[0;34m,\u001b[0m\u001b[0;34m'd'\u001b[0m\u001b[0;34m]\u001b[0m\u001b[0;34m\u001b[0m\u001b[0;34m\u001b[0m\u001b[0m\n\u001b[0;32m----> 2\u001b[0;31m \u001b[0mL\u001b[0m\u001b[0;34m.\u001b[0m\u001b[0mpop\u001b[0m\u001b[0;34m(\u001b[0m\u001b[0;34m'b'\u001b[0m\u001b[0;34m)\u001b[0m\u001b[0;34m\u001b[0m\u001b[0;34m\u001b[0m\u001b[0m\n\u001b[0m\u001b[1;32m      3\u001b[0m \u001b[0mL\u001b[0m\u001b[0;34m\u001b[0m\u001b[0;34m\u001b[0m\u001b[0m\n",
      "\u001b[0;31mTypeError\u001b[0m: 'str' object cannot be interpreted as an integer"
     ]
    }
   ],
   "source": [
    "L=['a','b','c','d']\n",
    "L.pop('b')\n",
    "L"
   ]
  },
  {
   "cell_type": "markdown",
   "id": "24db23df",
   "metadata": {},
   "source": [
    "## FIFO1"
   ]
  },
  {
   "cell_type": "code",
   "execution_count": 44,
   "id": "de6e8321",
   "metadata": {},
   "outputs": [
    {
     "name": "stdout",
     "output_type": "stream",
     "text": [
      "[1]\n",
      "[1, 2]\n",
      "[1, 2, 3]\n"
     ]
    }
   ],
   "source": [
    "L=[]\n",
    "a=1\n",
    "L.append(a)\n",
    "print(L)\n",
    "a=2\n",
    "L.append(a)\n",
    "print(L)\n",
    "a=3\n",
    "L.append(a)\n",
    "print(L)"
   ]
  },
  {
   "cell_type": "code",
   "execution_count": 45,
   "id": "3d02f5c8",
   "metadata": {},
   "outputs": [
    {
     "name": "stdout",
     "output_type": "stream",
     "text": [
      "1\n",
      "[2, 3]\n",
      "2\n",
      "[3]\n"
     ]
    }
   ],
   "source": [
    "b=L.pop(0)\n",
    "print(b)\n",
    "print(L)\n",
    "b=L.pop(0)\n",
    "print(b)\n",
    "print(L)"
   ]
  },
  {
   "cell_type": "markdown",
   "id": "9b2d1610",
   "metadata": {},
   "source": [
    "## LIFO2"
   ]
  },
  {
   "cell_type": "code",
   "execution_count": 49,
   "id": "4fb930e7",
   "metadata": {},
   "outputs": [
    {
     "name": "stdout",
     "output_type": "stream",
     "text": [
      "[1]\n",
      "[2, 1]\n",
      "[3, 2, 1]\n"
     ]
    }
   ],
   "source": [
    "L=[]\n",
    "a=1\n",
    "L.insert(0,a)\n",
    "print(L)\n",
    "a=2\n",
    "L.insert(0,a)\n",
    "print(L)\n",
    "a=3\n",
    "L.insert(0,a)\n",
    "print(L)"
   ]
  },
  {
   "cell_type": "code",
   "execution_count": 51,
   "id": "b36095b5",
   "metadata": {},
   "outputs": [
    {
     "name": "stdout",
     "output_type": "stream",
     "text": [
      "3\n",
      "[2, 1]\n",
      "2\n",
      "[1]\n"
     ]
    }
   ],
   "source": [
    "b=L.pop(0)\n",
    "print(b)\n",
    "print(L)\n",
    "b=L.pop(0)\n",
    "print(b)\n",
    "print(L)"
   ]
  },
  {
   "cell_type": "markdown",
   "id": "0d2c4a2b",
   "metadata": {},
   "source": [
    "## FIFO2"
   ]
  },
  {
   "cell_type": "code",
   "execution_count": 53,
   "id": "884294c9",
   "metadata": {},
   "outputs": [
    {
     "name": "stdout",
     "output_type": "stream",
     "text": [
      "[1]\n",
      "[2, 1]\n",
      "[3, 2, 1]\n"
     ]
    }
   ],
   "source": [
    "L=[]\n",
    "a=1\n",
    "L.insert(0,a)\n",
    "print(L)\n",
    "a=2\n",
    "L.insert(0,a)\n",
    "print(L)\n",
    "a=3\n",
    "L.insert(0,a)\n",
    "print(L)"
   ]
  },
  {
   "cell_type": "code",
   "execution_count": 54,
   "id": "d086648e",
   "metadata": {},
   "outputs": [
    {
     "name": "stdout",
     "output_type": "stream",
     "text": [
      "1\n",
      "[3, 2]\n",
      "2\n",
      "[3]\n"
     ]
    }
   ],
   "source": [
    "b=L.pop()\n",
    "print(b)\n",
    "print(L)\n",
    "b=L.pop()\n",
    "print(b)\n",
    "print(L)"
   ]
  },
  {
   "cell_type": "markdown",
   "id": "bd65ab72",
   "metadata": {},
   "source": [
    "## "
   ]
  },
  {
   "cell_type": "code",
   "execution_count": 98,
   "id": "3a3bbbf6",
   "metadata": {},
   "outputs": [
    {
     "name": "stdout",
     "output_type": "stream",
     "text": [
      "State:S, Open List =[B A ], Closed List = [S ]\n",
      "State:A, Open List =[B D C ], Closed List = [S A ]\n",
      "State:C, Open List =[B D ], Closed List = [S A C ]\n",
      "State:D, Open List =[B ], Closed List = [S A C D ]\n",
      "~~~\n",
      "Completed\n"
     ]
    }
   ],
   "source": [
    "TargetGraph={\n",
    "    'S':['A','B'],\n",
    "    'A':['S','C','D'],\n",
    "    'B':['S','C'],\n",
    "    'C':['A','B','D'],\n",
    "    'D':['A','C']\n",
    "}\n",
    "OpenList=['S']\n",
    "ClosedList=[]\n",
    "while OpenList:\n",
    "    state=OpenList.pop()\n",
    "    ClosedList.append(state)\n",
    "    tmpSt=set(TargetGraph[state]) -set(ClosedList)\n",
    "    activeNodes=list(tmpSt -set(OpenList))    \n",
    "    OpenList=OpenList+activeNodes\n",
    "    print(('State:{:s}, Open List =['+'{:s} '*len(OpenList)+'], Closed List = ['+'{:s} '*len(ClosedList)+']').\n",
    "          format(state, *OpenList,*ClosedList))\n",
    "    if state=='D':\n",
    "        break\n",
    "print('~~~')\n",
    "print('Completed') "
   ]
  },
  {
   "cell_type": "code",
   "execution_count": 110,
   "id": "95d3997e",
   "metadata": {},
   "outputs": [
    {
     "name": "stdout",
     "output_type": "stream",
     "text": [
      "State:S, Open List =[B A ], Closed List = [S ]\n",
      "State:A, Open List =[B D C ], Closed List = [S A ]\n",
      "State:C, Open List =[B D ], Closed List = [S A C ]\n",
      "State:D, Open List =[B ], Closed List = [S A C D ]\n",
      "~~~\n",
      "Completed\n"
     ]
    }
   ],
   "source": [
    "TargetGraph={\n",
    "    'S':['A','B'],\n",
    "    'A':['S','C','D'],\n",
    "    'B':['S','C'],\n",
    "    'C':['A','B','D'],\n",
    "    'D':['A','C']\n",
    "}\n",
    "OpenList=['S']\n",
    "ClosedList=[]\n",
    "while OpenList:\n",
    "    state=OpenList.pop()\n",
    "    ClosedList.append(state)\n",
    "    tmpSt=set(TargetGraph[state]) -set(ClosedList)\n",
    "    activeNodes=list(tmpSt -set(OpenList))    \n",
    "    OpenList=OpenList+activeNodes\n",
    "    print(('State:{:s}, Open List =['+'{:s} '*len(OpenList)+'], Closed List = ['+'{:s} '*len(ClosedList)+']').\n",
    "          format(state, *OpenList,*ClosedList))\n",
    "    if state=='D':\n",
    "        break\n",
    "print('~~~')\n",
    "print('Completed') "
   ]
  },
  {
   "cell_type": "code",
   "execution_count": 100,
   "id": "1f4b649c",
   "metadata": {},
   "outputs": [
    {
     "name": "stdout",
     "output_type": "stream",
     "text": [
      "['A', 'B']\n",
      "['S']\n",
      "[]\n",
      "State:S, Open List =[B A ], Closed List = [S ]\n",
      "['S', 'C', 'D']\n",
      "['S', 'A']\n",
      "['B']\n",
      "State:A, Open List =[B D C ], Closed List = [S A ]\n",
      "['A', 'B', 'D']\n",
      "['S', 'A', 'C']\n",
      "['B', 'D']\n",
      "State:C, Open List =[B D ], Closed List = [S A C ]\n",
      "['A', 'C']\n",
      "['S', 'A', 'C', 'D']\n",
      "['B']\n",
      "State:D, Open List =[B ], Closed List = [S A C D ]\n",
      "~~~\n",
      "Completed\n"
     ]
    }
   ],
   "source": [
    "TargetGraph={\n",
    "    'S':['A','B'],\n",
    "    'A':['S','C','D'],\n",
    "    'B':['S','C'],\n",
    "    'C':['A','B','D'],\n",
    "    'D':['A','C']\n",
    "}\n",
    "OpenList=['S']\n",
    "ClosedList=[]\n",
    "while OpenList:\n",
    "    state=OpenList.pop()\n",
    "    ClosedList.append(state)\n",
    "    activeNodes=list(set(TargetGraph[state]) -set(ClosedList) -set(OpenList))\n",
    "    \n",
    "    print(TargetGraph[state])\n",
    "    print(ClosedList)\n",
    "    print(OpenList)\n",
    "    \n",
    "    OpenList=OpenList+activeNodes\n",
    "    print(('State:{:s}, Open List =['+'{:s} '*len(OpenList)+'], Closed List = ['+'{:s} '*len(ClosedList)+']').\n",
    "          format(state, *OpenList,*ClosedList))\n",
    "    if state=='D':\n",
    "        break\n",
    "print('~~~')\n",
    "print('Completed') "
   ]
  },
  {
   "cell_type": "code",
   "execution_count": 4,
   "id": "ef6d94c5",
   "metadata": {},
   "outputs": [
    {
     "name": "stdout",
     "output_type": "stream",
     "text": [
      "['A', 'B']\n",
      "['S']\n",
      "[]\n",
      "State:S, Open List =[A B ], Closed List = [S ]\n",
      "['S', 'C']\n",
      "['S', 'B']\n",
      "['A']\n",
      "State:B, Open List =[A C ], Closed List = [S B ]\n",
      "['A', 'B', 'D']\n",
      "['S', 'B', 'C']\n",
      "['A']\n",
      "State:C, Open List =[A D ], Closed List = [S B C ]\n",
      "['A', 'C', 'G']\n",
      "['S', 'B', 'C', 'D']\n",
      "['A']\n",
      "State:D, Open List =[A G ], Closed List = [S B C D ]\n",
      "~~~\n",
      "Completed\n"
     ]
    }
   ],
   "source": [
    "TargetGraph={\n",
    "    'S':['A','B'],\n",
    "    'A':['S','C','D'],\n",
    "    'B':['S','C'],\n",
    "    'C':['A','B','D'],\n",
    "    'D':['A','C','G']\n",
    "}\n",
    "OpenList=['S']\n",
    "ClosedList=[]\n",
    "while OpenList:\n",
    "    state=OpenList.pop()\n",
    "    ClosedList.append(state)\n",
    "    activeNodes=list(set(TargetGraph[state]) -set(ClosedList) -set(OpenList))\n",
    "    \n",
    "    print(TargetGraph[state])\n",
    "    print(ClosedList)\n",
    "    print(OpenList)\n",
    "    \n",
    "    OpenList=OpenList+activeNodes\n",
    "    print(('State:{:s}, Open List =['+'{:s} '*len(OpenList)+'], Closed List = ['+'{:s} '*len(ClosedList)+']').\n",
    "          format(state, *OpenList,*ClosedList))\n",
    "    if state=='D':\n",
    "        break\n",
    "print('~~~')\n",
    "print('Completed') "
   ]
  },
  {
   "cell_type": "code",
   "execution_count": 101,
   "id": "3b8a16fc",
   "metadata": {},
   "outputs": [
    {
     "data": {
      "text/plain": [
       "'a '"
      ]
     },
     "execution_count": 101,
     "metadata": {},
     "output_type": "execute_result"
    }
   ],
   "source": [
    "'{:s} '.format('a')"
   ]
  },
  {
   "cell_type": "code",
   "execution_count": 102,
   "id": "53730d21",
   "metadata": {},
   "outputs": [
    {
     "data": {
      "text/plain": [
       "'5 '"
      ]
     },
     "execution_count": 102,
     "metadata": {},
     "output_type": "execute_result"
    }
   ],
   "source": [
    "'{:d} '.format(5)"
   ]
  },
  {
   "cell_type": "code",
   "execution_count": 105,
   "id": "7dd69c35",
   "metadata": {},
   "outputs": [
    {
     "data": {
      "text/plain": [
       "'1.20 '"
      ]
     },
     "execution_count": 105,
     "metadata": {},
     "output_type": "execute_result"
    }
   ],
   "source": [
    "'{:3.2f} '.format(1.2)"
   ]
  },
  {
   "cell_type": "code",
   "execution_count": 61,
   "id": "7e145bf7",
   "metadata": {},
   "outputs": [
    {
     "name": "stdout",
     "output_type": "stream",
     "text": [
      "\n"
     ]
    }
   ],
   "source": [
    "print(('{}, '*len(OpenList)).format(*OpenList))"
   ]
  },
  {
   "cell_type": "code",
   "execution_count": 69,
   "id": "a85667a8",
   "metadata": {},
   "outputs": [
    {
     "name": "stdout",
     "output_type": "stream",
     "text": [
      "S A B C D \n"
     ]
    }
   ],
   "source": [
    "print(('{:s} '*len(ClosedList)).format(*ClosedList))"
   ]
  },
  {
   "cell_type": "code",
   "execution_count": 108,
   "id": "1c6619d0",
   "metadata": {},
   "outputs": [
    {
     "data": {
      "text/plain": [
       "'S A C D '"
      ]
     },
     "execution_count": 108,
     "metadata": {},
     "output_type": "execute_result"
    }
   ],
   "source": [
    "('{:s} '*len(ClosedList)).format(*ClosedList)"
   ]
  },
  {
   "cell_type": "code",
   "execution_count": 107,
   "id": "5db4b38c",
   "metadata": {},
   "outputs": [
    {
     "data": {
      "text/plain": [
       "'{:s} {:s} {:s} {:s} {:s} '"
      ]
     },
     "execution_count": 107,
     "metadata": {},
     "output_type": "execute_result"
    }
   ],
   "source": [
    "'{:s} '*5"
   ]
  },
  {
   "cell_type": "code",
   "execution_count": 91,
   "id": "f0211718",
   "metadata": {},
   "outputs": [
    {
     "data": {
      "text/plain": [
       "'{:s} {:s} {:s} {:s} '"
      ]
     },
     "execution_count": 91,
     "metadata": {},
     "output_type": "execute_result"
    }
   ],
   "source": [
    "('{:s} '*len(ClosedList))"
   ]
  },
  {
   "cell_type": "code",
   "execution_count": 71,
   "id": "2e28e5dd",
   "metadata": {},
   "outputs": [
    {
     "data": {
      "text/plain": [
       "'{:s} {:s} {:s} {:s} {:s} '"
      ]
     },
     "execution_count": 71,
     "metadata": {},
     "output_type": "execute_result"
    }
   ],
   "source": [
    "'{:s} '*len(ClosedList)"
   ]
  },
  {
   "cell_type": "code",
   "execution_count": 74,
   "id": "ddb98462",
   "metadata": {},
   "outputs": [
    {
     "data": {
      "text/plain": [
       "'State:{0}, Open List =, Closed List ={:s} {:s} {:s} {:s} {:s} '"
      ]
     },
     "execution_count": 74,
     "metadata": {},
     "output_type": "execute_result"
    }
   ],
   "source": [
    "('State:{0}, Open List ='+'{:s} '*len(OpenList)+', Closed List ='+'{:s} '*len(ClosedList))"
   ]
  },
  {
   "cell_type": "code",
   "execution_count": 81,
   "id": "c0e5a32f",
   "metadata": {},
   "outputs": [
    {
     "data": {
      "text/plain": [
       "'State:D, Open List =[], Closed List = [S A B C D ]'"
      ]
     },
     "execution_count": 81,
     "metadata": {},
     "output_type": "execute_result"
    }
   ],
   "source": [
    "('State:{:s}, Open List =['+'{:s} '*len(OpenList)+'], Closed List = ['+'{:s} '*len(ClosedList)+']').format(state, *OpenList,*ClosedList)"
   ]
  },
  {
   "cell_type": "code",
   "execution_count": 79,
   "id": "b9bee9be",
   "metadata": {},
   "outputs": [
    {
     "data": {
      "text/plain": [
       "'State:D, Open List =, Closed List =S A B C D '"
      ]
     },
     "execution_count": 79,
     "metadata": {},
     "output_type": "execute_result"
    }
   ],
   "source": [
    "('State:{:s}, Open List ='+', Closed List ='+'{:s} '*len(ClosedList)).format(state, *ClosedList)"
   ]
  },
  {
   "cell_type": "code",
   "execution_count": 78,
   "id": "04f5426c",
   "metadata": {},
   "outputs": [
    {
     "data": {
      "text/plain": [
       "'D'"
      ]
     },
     "execution_count": 78,
     "metadata": {},
     "output_type": "execute_result"
    }
   ],
   "source": [
    "state"
   ]
  },
  {
   "cell_type": "code",
   "execution_count": 5,
   "id": "31e4629d",
   "metadata": {},
   "outputs": [
    {
     "name": "stdout",
     "output_type": "stream",
     "text": [
      "45\n"
     ]
    }
   ],
   "source": [
    "import numpy as np\n",
    "A=np.array([[1,4,7],[2,5,8],[3,6,9]])\n",
    "a=np.array([[1,4,7],[2,5,8],[3,6,9]])\n",
    "s=0\n",
    "for i in range(np.size(A,0)):\n",
    "    for j in range(np.size(A,1)):\n",
    "        s=s+a[i,j]\n",
    "print(s)"
   ]
  }
 ],
 "metadata": {
  "kernelspec": {
   "display_name": "Python 3 (ipykernel)",
   "language": "python",
   "name": "python3"
  },
  "language_info": {
   "codemirror_mode": {
    "name": "ipython",
    "version": 3
   },
   "file_extension": ".py",
   "mimetype": "text/x-python",
   "name": "python",
   "nbconvert_exporter": "python",
   "pygments_lexer": "ipython3",
   "version": "3.9.16"
  }
 },
 "nbformat": 4,
 "nbformat_minor": 5
}
