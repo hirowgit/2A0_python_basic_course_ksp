{
 "cells": [
  {
   "cell_type": "code",
   "execution_count": null,
   "id": "ff880958",
   "metadata": {},
   "outputs": [],
   "source": [
    "## Python basics for novice data scientists, supported by Wagatsuma Lab@Kyutech \n",
    "#\n",
    "# The MIT License (MIT): Copyright (c) 2020 Hiroaki Wagatsuma and Wagatsuma Lab@Kyutech\n",
    "# \n",
    "# Permission is hereby granted, free of charge, to any person obtaining a copy of this software and associated documentation files (the \"Software\"), to deal in the Software without restriction, including without limitation the rights to use, copy, modify, merge, publish, distribute, sublicense, and/or sell copies of the Software, and to permit persons to whom the Software is furnished to do so, subject to the following conditions:\n",
    "# The above copyright notice and this permission notice shall be included in all copies or substantial portions of the Software.\n",
    "# THE SOFTWARE IS PROVIDED \"AS IS\", WITHOUT WARRANTY OF ANY KIND, EXPRESS OR IMPLIED, INCLUDING BUT NOT LIMITED TO THE WARRANTIES OF MERCHANTABILITY, FITNESS FOR A PARTICULAR PURPOSE AND NONINFRINGEMENT. IN NO EVENT SHALL THE AUTHORS OR COPYRIGHT HOLDERS BE LIABLE FOR ANY CLAIM, DAMAGES OR OTHER LIABILITY, WHETHER IN AN ACTION OF CONTRACT, TORT OR OTHERWISE, ARISING FROM, OUT OF OR IN CONNECTION WITH THE SOFTWARE OR THE USE OR OTHER DEALINGS IN THE SOFTWARE. */\n",
    "#\n",
    "# # @Time    : 2023-7-1 \n",
    "# # @Author  : Hiroaki Wagatsuma\n",
    "# # @Site    : https://github.com/hirowgit/2A_python_basic_course\n",
    "# # @IDE     : Python 3.10.9 (main, Dec 15 2022, 18:18:30) [Clang 14.0.0 (clang-1400.0.29.202)] on darwin\n",
    "# # @File    : ksp_novice_lec03.py "
   ]
  },
  {
   "cell_type": "code",
   "execution_count": 2,
   "id": "f8774839",
   "metadata": {},
   "outputs": [],
   "source": [
    "import numpy as np\n",
    "import numpy.matlib\n",
    "import os\n",
    "import sys\n",
    "import codecs\n",
    "import matplotlib.pyplot as plt\n",
    "import pandas as pd\n",
    "from openpyxl import Workbook\n",
    "import pprint\n",
    "import datetime"
   ]
  },
  {
   "cell_type": "code",
   "execution_count": 3,
   "id": "4ff47b84",
   "metadata": {},
   "outputs": [],
   "source": [
    "import seaborn as sns "
   ]
  },
  {
   "cell_type": "code",
   "execution_count": 4,
   "id": "72e5fd69",
   "metadata": {},
   "outputs": [],
   "source": [
    "import plotly.offline\n",
    "import plotly.express as px\n",
    "import plotly.graph_objects as go\n",
    "import plotly.subplots\n",
    "import squarify"
   ]
  },
  {
   "cell_type": "code",
   "execution_count": 11,
   "id": "0d66355e",
   "metadata": {},
   "outputs": [
    {
     "name": "stdout",
     "output_type": "stream",
     "text": [
      "6\n"
     ]
    }
   ],
   "source": [
    "x=1\n",
    "for i in range(5): x = x +1\n",
    "print(x)\n"
   ]
  },
  {
   "cell_type": "code",
   "execution_count": 12,
   "id": "576e681c",
   "metadata": {},
   "outputs": [
    {
     "name": "stdout",
     "output_type": "stream",
     "text": [
      "6\n"
     ]
    }
   ],
   "source": [
    "x=1\n",
    "for i in range(5): \n",
    "    x = x +1\n",
    "print(x)\n"
   ]
  },
  {
   "cell_type": "code",
   "execution_count": 14,
   "id": "8e6a40d0",
   "metadata": {},
   "outputs": [
    {
     "name": "stdout",
     "output_type": "stream",
     "text": [
      "6\n"
     ]
    }
   ],
   "source": [
    "x=1\n",
    "for i in range(5): \n",
    "    x += 1\n",
    "print(x)\n"
   ]
  },
  {
   "cell_type": "code",
   "execution_count": 18,
   "id": "098139d5",
   "metadata": {},
   "outputs": [
    {
     "name": "stdout",
     "output_type": "stream",
     "text": [
      "11\n"
     ]
    }
   ],
   "source": [
    "x=1\n",
    "a=2\n",
    "for i in range(5): \n",
    "    x = x + a\n",
    "print(x)\n"
   ]
  },
  {
   "cell_type": "code",
   "execution_count": 19,
   "id": "949e5924",
   "metadata": {},
   "outputs": [
    {
     "name": "stdout",
     "output_type": "stream",
     "text": [
      "11\n"
     ]
    }
   ],
   "source": [
    "x=1\n",
    "a=2\n",
    "for i in range(5): \n",
    "    x += a\n",
    "print(x)\n"
   ]
  },
  {
   "cell_type": "code",
   "execution_count": 20,
   "id": "b969d643",
   "metadata": {},
   "outputs": [
    {
     "name": "stdout",
     "output_type": "stream",
     "text": [
      "16\n"
     ]
    }
   ],
   "source": [
    "x=1\n",
    "b=1\n",
    "for i in range(5): \n",
    "    x = x + b\n",
    "    b = b + 1\n",
    "print(x)\n"
   ]
  },
  {
   "cell_type": "code",
   "execution_count": 26,
   "id": "43404176",
   "metadata": {},
   "outputs": [
    {
     "name": "stdout",
     "output_type": "stream",
     "text": [
      "1\n",
      "1\n"
     ]
    }
   ],
   "source": [
    "x,b=1,1\n",
    "print(x)\n",
    "print(b)"
   ]
  },
  {
   "cell_type": "code",
   "execution_count": 28,
   "id": "8a9c7575",
   "metadata": {},
   "outputs": [
    {
     "name": "stdout",
     "output_type": "stream",
     "text": [
      "6\n"
     ]
    }
   ],
   "source": [
    "x, a=1,1\n",
    "for i in range(5): \n",
    "    x = x + a\n",
    "print(x)\n"
   ]
  },
  {
   "cell_type": "code",
   "execution_count": 30,
   "id": "a51f882c",
   "metadata": {},
   "outputs": [
    {
     "name": "stdout",
     "output_type": "stream",
     "text": [
      "6\n"
     ]
    }
   ],
   "source": [
    "x=1\n",
    "while x<=5: x = x +1\n",
    "print(x)\n"
   ]
  },
  {
   "cell_type": "code",
   "execution_count": 31,
   "id": "34a7c19c",
   "metadata": {},
   "outputs": [
    {
     "name": "stdout",
     "output_type": "stream",
     "text": [
      "6\n"
     ]
    }
   ],
   "source": [
    "x=1\n",
    "while x<=5: \n",
    "    x = x +1\n",
    "print(x)\n"
   ]
  },
  {
   "cell_type": "code",
   "execution_count": 32,
   "id": "b18e919c",
   "metadata": {},
   "outputs": [
    {
     "name": "stdout",
     "output_type": "stream",
     "text": [
      "6\n"
     ]
    }
   ],
   "source": [
    "x=1\n",
    "while x<=5: \n",
    "    x +=1\n",
    "print(x)\n"
   ]
  },
  {
   "cell_type": "code",
   "execution_count": 33,
   "id": "5b0f0902",
   "metadata": {},
   "outputs": [
    {
     "name": "stdout",
     "output_type": "stream",
     "text": [
      "11\n"
     ]
    }
   ],
   "source": [
    "x,a=1,2\n",
    "while x<=10: \n",
    "    x =x + a\n",
    "print(x)\n"
   ]
  },
  {
   "cell_type": "code",
   "execution_count": 35,
   "id": "d4351c5c",
   "metadata": {},
   "outputs": [
    {
     "name": "stdout",
     "output_type": "stream",
     "text": [
      "17\n"
     ]
    }
   ],
   "source": [
    "x,b=1,1\n",
    "while x<=15: \n",
    "    x =x + a\n",
    "    b =b + 1\n",
    "print(x)\n"
   ]
  },
  {
   "cell_type": "markdown",
   "id": "0ea0a509",
   "metadata": {},
   "source": [
    "## LIFO1"
   ]
  },
  {
   "cell_type": "code",
   "execution_count": 42,
   "id": "3c65b058",
   "metadata": {},
   "outputs": [
    {
     "name": "stdout",
     "output_type": "stream",
     "text": [
      "[1]\n",
      "[1, 2]\n",
      "[1, 2, 3]\n"
     ]
    }
   ],
   "source": [
    "L=[]\n",
    "a=1\n",
    "L.append(a)\n",
    "print(L)\n",
    "a=2\n",
    "L.append(a)\n",
    "print(L)\n",
    "a=3\n",
    "L.append(a)\n",
    "print(L)"
   ]
  },
  {
   "cell_type": "code",
   "execution_count": 43,
   "id": "4c04ab21",
   "metadata": {},
   "outputs": [
    {
     "name": "stdout",
     "output_type": "stream",
     "text": [
      "3\n",
      "[1, 2]\n",
      "2\n",
      "[1]\n"
     ]
    }
   ],
   "source": [
    "b=L.pop()\n",
    "print(b)\n",
    "print(L)\n",
    "b=L.pop()\n",
    "print(b)\n",
    "print(L)"
   ]
  },
  {
   "cell_type": "markdown",
   "id": "eb604bfe",
   "metadata": {},
   "source": [
    "## FIFO1"
   ]
  },
  {
   "cell_type": "code",
   "execution_count": 44,
   "id": "a54b0671",
   "metadata": {},
   "outputs": [
    {
     "name": "stdout",
     "output_type": "stream",
     "text": [
      "[1]\n",
      "[1, 2]\n",
      "[1, 2, 3]\n"
     ]
    }
   ],
   "source": [
    "L=[]\n",
    "a=1\n",
    "L.append(a)\n",
    "print(L)\n",
    "a=2\n",
    "L.append(a)\n",
    "print(L)\n",
    "a=3\n",
    "L.append(a)\n",
    "print(L)"
   ]
  },
  {
   "cell_type": "code",
   "execution_count": 45,
   "id": "372deb41",
   "metadata": {},
   "outputs": [
    {
     "name": "stdout",
     "output_type": "stream",
     "text": [
      "1\n",
      "[2, 3]\n",
      "2\n",
      "[3]\n"
     ]
    }
   ],
   "source": [
    "b=L.pop(0)\n",
    "print(b)\n",
    "print(L)\n",
    "b=L.pop(0)\n",
    "print(b)\n",
    "print(L)"
   ]
  },
  {
   "cell_type": "markdown",
   "id": "7050351d",
   "metadata": {},
   "source": [
    "## LIFO2"
   ]
  },
  {
   "cell_type": "code",
   "execution_count": 49,
   "id": "480a4051",
   "metadata": {},
   "outputs": [
    {
     "name": "stdout",
     "output_type": "stream",
     "text": [
      "[1]\n",
      "[2, 1]\n",
      "[3, 2, 1]\n"
     ]
    }
   ],
   "source": [
    "L=[]\n",
    "a=1\n",
    "L.insert(0,a)\n",
    "print(L)\n",
    "a=2\n",
    "L.insert(0,a)\n",
    "print(L)\n",
    "a=3\n",
    "L.insert(0,a)\n",
    "print(L)"
   ]
  },
  {
   "cell_type": "code",
   "execution_count": 51,
   "id": "4015c49e",
   "metadata": {},
   "outputs": [
    {
     "name": "stdout",
     "output_type": "stream",
     "text": [
      "3\n",
      "[2, 1]\n",
      "2\n",
      "[1]\n"
     ]
    }
   ],
   "source": [
    "b=L.pop(0)\n",
    "print(b)\n",
    "print(L)\n",
    "b=L.pop(0)\n",
    "print(b)\n",
    "print(L)"
   ]
  },
  {
   "cell_type": "markdown",
   "id": "183977c1",
   "metadata": {},
   "source": [
    "## FIFO2"
   ]
  },
  {
   "cell_type": "code",
   "execution_count": 53,
   "id": "1c534ca9",
   "metadata": {},
   "outputs": [
    {
     "name": "stdout",
     "output_type": "stream",
     "text": [
      "[1]\n",
      "[2, 1]\n",
      "[3, 2, 1]\n"
     ]
    }
   ],
   "source": [
    "L=[]\n",
    "a=1\n",
    "L.insert(0,a)\n",
    "print(L)\n",
    "a=2\n",
    "L.insert(0,a)\n",
    "print(L)\n",
    "a=3\n",
    "L.insert(0,a)\n",
    "print(L)"
   ]
  },
  {
   "cell_type": "code",
   "execution_count": 54,
   "id": "fb5404ac",
   "metadata": {},
   "outputs": [
    {
     "name": "stdout",
     "output_type": "stream",
     "text": [
      "1\n",
      "[3, 2]\n",
      "2\n",
      "[3]\n"
     ]
    }
   ],
   "source": [
    "b=L.pop()\n",
    "print(b)\n",
    "print(L)\n",
    "b=L.pop()\n",
    "print(b)\n",
    "print(L)"
   ]
  },
  {
   "cell_type": "markdown",
   "id": "351205fb",
   "metadata": {},
   "source": [
    "## "
   ]
  },
  {
   "cell_type": "code",
   "execution_count": 88,
   "id": "c0b4b26b",
   "metadata": {},
   "outputs": [
    {
     "name": "stdout",
     "output_type": "stream",
     "text": [
      "State:S, Open List =[B A ], Closed List = [S ]\n",
      "State:A, Open List =[B D C ], Closed List = [S A ]\n",
      "State:C, Open List =[B D ], Closed List = [S A C ]\n",
      "State:D, Open List =[B ], Closed List = [S A C D ]\n",
      "~~~\n",
      "Completed\n"
     ]
    }
   ],
   "source": [
    "TargetGraph={\n",
    "    'S':['A','B'],\n",
    "    'A':['S','C','D'],\n",
    "    'B':['S','C'],\n",
    "    'C':['A','B','D'],\n",
    "    'D':['A','C']\n",
    "}\n",
    "OpenList=['S']\n",
    "ClosedList=[]\n",
    "while OpenList:\n",
    "    state=OpenList.pop()\n",
    "    ClosedList.append(state)\n",
    "    tmpSt=set(TargetGraph[state]) -set(ClosedList)\n",
    "    activeNodes=list(tmpSt -set(OpenList))    \n",
    "    OpenList=OpenList+activeNodes\n",
    "    print(('State:{:s}, Open List =['+'{:s} '*len(OpenList)+'], Closed List = ['+'{:s} '*len(ClosedList)+']').\n",
    "          format(state, *OpenList,*ClosedList))\n",
    "    if state=='D':\n",
    "        break\n",
    "print('~~~')\n",
    "print('Completed') "
   ]
  },
  {
   "cell_type": "code",
   "execution_count": 90,
   "id": "ea40cd40",
   "metadata": {},
   "outputs": [
    {
     "name": "stdout",
     "output_type": "stream",
     "text": [
      "State:S, Open List =[B A ], Closed List = [S ]\n",
      "State:A, Open List =[B D C ], Closed List = [S A ]\n",
      "State:C, Open List =[B D ], Closed List = [S A C ]\n",
      "State:D, Open List =[B ], Closed List = [S A C D ]\n",
      "~~~\n",
      "Completed\n"
     ]
    }
   ],
   "source": [
    "TargetGraph={\n",
    "    'S':['A','B'],\n",
    "    'A':['S','C','D'],\n",
    "    'B':['S','C'],\n",
    "    'C':['A','B','D'],\n",
    "    'D':['A','C']\n",
    "}\n",
    "OpenList=['S']\n",
    "ClosedList=[]\n",
    "while OpenList:\n",
    "    state=OpenList.pop()\n",
    "    ClosedList.append(state)\n",
    "    activeNodes=list(set(TargetGraph[state]) -set(ClosedList) -set(OpenList))\n",
    "    OpenList=OpenList+activeNodes\n",
    "    print(('State:{:s}, Open List =['+'{:s} '*len(OpenList)+'], Closed List = ['+'{:s} '*len(ClosedList)+']').\n",
    "          format(state, *OpenList,*ClosedList))\n",
    "    if state=='D':\n",
    "        break\n",
    "print('~~~')\n",
    "print('Completed') "
   ]
  },
  {
   "cell_type": "code",
   "execution_count": 61,
   "id": "38985feb",
   "metadata": {},
   "outputs": [
    {
     "name": "stdout",
     "output_type": "stream",
     "text": [
      "\n"
     ]
    }
   ],
   "source": [
    "print(('{}, '*len(OpenList)).format(*OpenList))"
   ]
  },
  {
   "cell_type": "code",
   "execution_count": 69,
   "id": "1f6ed55e",
   "metadata": {},
   "outputs": [
    {
     "name": "stdout",
     "output_type": "stream",
     "text": [
      "S A B C D \n"
     ]
    }
   ],
   "source": [
    "print(('{:s} '*len(ClosedList)).format(*ClosedList))"
   ]
  },
  {
   "cell_type": "code",
   "execution_count": 70,
   "id": "0e82577b",
   "metadata": {},
   "outputs": [
    {
     "data": {
      "text/plain": [
       "'S A B C D '"
      ]
     },
     "execution_count": 70,
     "metadata": {},
     "output_type": "execute_result"
    }
   ],
   "source": [
    "('{:s} '*len(ClosedList)).format(*ClosedList)"
   ]
  },
  {
   "cell_type": "code",
   "execution_count": 91,
   "id": "27419c78",
   "metadata": {},
   "outputs": [
    {
     "data": {
      "text/plain": [
       "'{:s} {:s} {:s} {:s} '"
      ]
     },
     "execution_count": 91,
     "metadata": {},
     "output_type": "execute_result"
    }
   ],
   "source": [
    "('{:s} '*len(ClosedList))"
   ]
  },
  {
   "cell_type": "code",
   "execution_count": 71,
   "id": "6d25ba0d",
   "metadata": {},
   "outputs": [
    {
     "data": {
      "text/plain": [
       "'{:s} {:s} {:s} {:s} {:s} '"
      ]
     },
     "execution_count": 71,
     "metadata": {},
     "output_type": "execute_result"
    }
   ],
   "source": [
    "'{:s} '*len(ClosedList)"
   ]
  },
  {
   "cell_type": "code",
   "execution_count": 74,
   "id": "4a68a774",
   "metadata": {},
   "outputs": [
    {
     "data": {
      "text/plain": [
       "'State:{0}, Open List =, Closed List ={:s} {:s} {:s} {:s} {:s} '"
      ]
     },
     "execution_count": 74,
     "metadata": {},
     "output_type": "execute_result"
    }
   ],
   "source": [
    "('State:{0}, Open List ='+'{:s} '*len(OpenList)+', Closed List ='+'{:s} '*len(ClosedList))"
   ]
  },
  {
   "cell_type": "code",
   "execution_count": 81,
   "id": "e1d4c1ca",
   "metadata": {},
   "outputs": [
    {
     "data": {
      "text/plain": [
       "'State:D, Open List =[], Closed List = [S A B C D ]'"
      ]
     },
     "execution_count": 81,
     "metadata": {},
     "output_type": "execute_result"
    }
   ],
   "source": [
    "('State:{:s}, Open List =['+'{:s} '*len(OpenList)+'], Closed List = ['+'{:s} '*len(ClosedList)+']').format(state, *OpenList,*ClosedList)"
   ]
  },
  {
   "cell_type": "code",
   "execution_count": 79,
   "id": "c35fe8cf",
   "metadata": {},
   "outputs": [
    {
     "data": {
      "text/plain": [
       "'State:D, Open List =, Closed List =S A B C D '"
      ]
     },
     "execution_count": 79,
     "metadata": {},
     "output_type": "execute_result"
    }
   ],
   "source": [
    "('State:{:s}, Open List ='+', Closed List ='+'{:s} '*len(ClosedList)).format(state, *ClosedList)"
   ]
  },
  {
   "cell_type": "code",
   "execution_count": 78,
   "id": "fcc54e84",
   "metadata": {},
   "outputs": [
    {
     "data": {
      "text/plain": [
       "'D'"
      ]
     },
     "execution_count": 78,
     "metadata": {},
     "output_type": "execute_result"
    }
   ],
   "source": [
    "state"
   ]
  }
 ],
 "metadata": {
  "kernelspec": {
   "display_name": "Python 3 (ipykernel)",
   "language": "python",
   "name": "python3"
  },
  "language_info": {
   "codemirror_mode": {
    "name": "ipython",
    "version": 3
   },
   "file_extension": ".py",
   "mimetype": "text/x-python",
   "name": "python",
   "nbconvert_exporter": "python",
   "pygments_lexer": "ipython3",
   "version": "3.9.16"
  }
 },
 "nbformat": 4,
 "nbformat_minor": 5
}
