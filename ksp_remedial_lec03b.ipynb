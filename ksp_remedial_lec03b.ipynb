{
 "cells": [
  {
   "cell_type": "code",
   "execution_count": 12,
   "id": "be9d51e6",
   "metadata": {},
   "outputs": [],
   "source": [
    "## Python basics for novice data scientists, supported by Wagatsuma Lab@Kyutech \n",
    "#\n",
    "# The MIT License (MIT): Copyright (c) 2020 Hiroaki Wagatsuma and Wagatsuma Lab@Kyutech\n",
    "# \n",
    "# Permission is hereby granted, free of charge, to any person obtaining a copy of this software and associated documentation files (the \"Software\"), to deal in the Software without restriction, including without limitation the rights to use, copy, modify, merge, publish, distribute, sublicense, and/or sell copies of the Software, and to permit persons to whom the Software is furnished to do so, subject to the following conditions:\n",
    "# The above copyright notice and this permission notice shall be included in all copies or substantial portions of the Software.\n",
    "# THE SOFTWARE IS PROVIDED \"AS IS\", WITHOUT WARRANTY OF ANY KIND, EXPRESS OR IMPLIED, INCLUDING BUT NOT LIMITED TO THE WARRANTIES OF MERCHANTABILITY, FITNESS FOR A PARTICULAR PURPOSE AND NONINFRINGEMENT. IN NO EVENT SHALL THE AUTHORS OR COPYRIGHT HOLDERS BE LIABLE FOR ANY CLAIM, DAMAGES OR OTHER LIABILITY, WHETHER IN AN ACTION OF CONTRACT, TORT OR OTHERWISE, ARISING FROM, OUT OF OR IN CONNECTION WITH THE SOFTWARE OR THE USE OR OTHER DEALINGS IN THE SOFTWARE. */\n",
    "#\n",
    "# # @Time    : 2023-7-1 \n",
    "# # @Author  : Hiroaki Wagatsuma\n",
    "# # @Site    : https://github.com/hirowgit/2A_python_basic_course\n",
    "# # @IDE     : Python 3.10.9 (main, Dec 15 2022, 18:18:30) [Clang 14.0.0 (clang-1400.0.29.202)] on darwin\n",
    "# # @File    : ksp_novice_lec03.py "
   ]
  },
  {
   "cell_type": "code",
   "execution_count": 13,
   "id": "4a1d963e",
   "metadata": {},
   "outputs": [],
   "source": [
    "import numpy as np\n",
    "import numpy.matlib\n",
    "import math\n",
    "import os\n",
    "import sys\n",
    "import codecs\n",
    "import matplotlib.pyplot as plt\n",
    "import pandas as pd\n",
    "from openpyxl import Workbook\n",
    "import pprint\n",
    "\n",
    "from dateutil.parser import parse\n",
    "from datetime import timedelta, timezone\n",
    "import calendar\n",
    "\n",
    "import re\n",
    "\n",
    "import datetime\n",
    "import dateutil.parser\n",
    "import dateutil\n",
    "from dateutil.relativedelta import relativedelta"
   ]
  },
  {
   "cell_type": "code",
   "execution_count": 14,
   "id": "90e2b6ce",
   "metadata": {},
   "outputs": [
    {
     "data": {
      "text/plain": [
       "['01サンプル', '02サンプル', '03サンプル']"
      ]
     },
     "metadata": {},
     "output_type": "display_data"
    },
    {
     "data": {
      "text/plain": [
       "['01_logs.csv']"
      ]
     },
     "metadata": {},
     "output_type": "display_data"
    },
    {
     "data": {
      "text/plain": [
       "['02_logs.csv']"
      ]
     },
     "metadata": {},
     "output_type": "display_data"
    },
    {
     "data": {
      "text/plain": [
       "['03_logs.csv']"
      ]
     },
     "metadata": {},
     "output_type": "display_data"
    }
   ],
   "source": [
    "datafol='dataFolder'\n",
    "datafol='dataFolder_csv'\n",
    "\n",
    "# folSelF=lambda F: sorted([v for v in F if not('.' in v)])\n",
    "folSelF=lambda F: sorted([v for v in F if not('.' == v[0])])\n",
    "\n",
    "listFol=os.listdir(path=datafol)\n",
    "listFol=folSelF(listFol)\n",
    "# listFol=sorted(listFol)\n",
    "\n",
    "fnameNP=np.empty(len(listFol),dtype=object)\n",
    "\n",
    "for k in range(len(listFol)):\n",
    "    fv=listFol[k]\n",
    "    ftmp=folSelF(os.listdir(path=os.path.join(datafol, fv)))\n",
    "    fnameNP[k]=ftmp\n",
    "    display(fnameNP[k])\n",
    "    fnameNP_sub=np.empty([len(listFol),len(ftmp)],dtype=object)\n",
    "    for k2 in range(len(ftmp)):\n",
    "        fv2=ftmp[k2]\n",
    "        fnameNP_sub[k,k2]=folSelF(os.listdir(path=os.path.join(datafol, fv,fv2)))\n",
    "        display(fnameNP_sub[k,k2])"
   ]
  },
  {
   "cell_type": "code",
   "execution_count": 15,
   "id": "60c0faaf",
   "metadata": {},
   "outputs": [
    {
     "data": {
      "text/plain": [
       "['data']"
      ]
     },
     "execution_count": 15,
     "metadata": {},
     "output_type": "execute_result"
    }
   ],
   "source": [
    "listFol"
   ]
  },
  {
   "cell_type": "code",
   "execution_count": 16,
   "id": "45218b70",
   "metadata": {},
   "outputs": [
    {
     "data": {
      "text/plain": [
       "1"
      ]
     },
     "execution_count": 16,
     "metadata": {},
     "output_type": "execute_result"
    }
   ],
   "source": [
    "npSize=np.shape(fnameNP_sub)\n",
    "npSize[0]"
   ]
  },
  {
   "cell_type": "code",
   "execution_count": 17,
   "id": "867bc3e9",
   "metadata": {},
   "outputs": [
    {
     "data": {
      "text/plain": [
       "(1, 3)"
      ]
     },
     "execution_count": 17,
     "metadata": {},
     "output_type": "execute_result"
    }
   ],
   "source": [
    "npSize"
   ]
  },
  {
   "cell_type": "code",
   "execution_count": 18,
   "id": "bbe35696",
   "metadata": {},
   "outputs": [
    {
     "data": {
      "text/plain": [
       "(1,)"
      ]
     },
     "execution_count": 18,
     "metadata": {},
     "output_type": "execute_result"
    }
   ],
   "source": [
    "tmp=fnameNP_sub[k,k2]\n",
    "npSize2=np.shape(tmp)\n",
    "npSize2"
   ]
  },
  {
   "cell_type": "code",
   "execution_count": 19,
   "id": "6112874e",
   "metadata": {},
   "outputs": [
    {
     "data": {
      "text/plain": [
       "['dataFolder_csv/data/01サンプル/01_logs.csv']"
      ]
     },
     "metadata": {},
     "output_type": "display_data"
    },
    {
     "data": {
      "text/plain": [
       "['dataFolder_csv/data/02サンプル/02_logs.csv']"
      ]
     },
     "metadata": {},
     "output_type": "display_data"
    },
    {
     "data": {
      "text/plain": [
       "['dataFolder_csv/data/03サンプル/03_logs.csv']"
      ]
     },
     "metadata": {},
     "output_type": "display_data"
    },
    {
     "name": "stdout",
     "output_type": "stream",
     "text": [
      "[['dataFolder_csv/data/01サンプル/01_logs.csv'], ['dataFolder_csv/data/02サンプル/02_logs.csv'], ['dataFolder_csv/data/03サンプル/03_logs.csv']]\n"
     ]
    },
    {
     "data": {
      "text/plain": [
       "array([['dataFolder_csv/data/01サンプル/01_logs.csv'],\n",
       "       ['dataFolder_csv/data/02サンプル/02_logs.csv'],\n",
       "       ['dataFolder_csv/data/03サンプル/03_logs.csv']], dtype='<U39')"
      ]
     },
     "execution_count": 19,
     "metadata": {},
     "output_type": "execute_result"
    }
   ],
   "source": [
    "### listing of log files \n",
    "npSize=np.shape(fnameNP_sub)\n",
    "\n",
    "rfilenameFull=[]\n",
    "\n",
    "for k in range(npSize[0]):\n",
    "    for k2 in range(npSize[1]):\n",
    "        tmp=fnameNP_sub[k,k2]\n",
    "        npSize2=np.shape(tmp)[0]\n",
    "\n",
    "        rfilenameAC=[]\n",
    "        for k3 in range(npSize2):\n",
    "            fnameD=fnameNP_sub[k,k2][k3]\n",
    "            if 'logs' in fnameD:\n",
    "                rfilenameTmp=os.path.join(datafol, listFol[k],fnameNP[k][k2],fnameD)\n",
    "                rfilenameAC=rfilenameAC+[rfilenameTmp]\n",
    "\n",
    "        display(rfilenameAC)\n",
    "        rfilenameFull.append(rfilenameAC)\n",
    "\n",
    "print(rfilenameFull)\n",
    "rfilenameFull_np=np.array(rfilenameFull)\n",
    "rfilenameFull_np"
   ]
  },
  {
   "cell_type": "code",
   "execution_count": 20,
   "id": "58720fae",
   "metadata": {},
   "outputs": [
    {
     "data": {
      "text/plain": [
       "['01サンプル', '02サンプル', '03サンプル']"
      ]
     },
     "execution_count": 20,
     "metadata": {},
     "output_type": "execute_result"
    }
   ],
   "source": [
    "fnameNP[0]\n"
   ]
  },
  {
   "cell_type": "code",
   "execution_count": 21,
   "id": "1eb469d1",
   "metadata": {},
   "outputs": [
    {
     "data": {
      "text/plain": [
       "[['dataFolder_csv/data/01サンプル/01_logs.csv'],\n",
       " ['dataFolder_csv/data/02サンプル/02_logs.csv'],\n",
       " ['dataFolder_csv/data/03サンプル/03_logs.csv']]"
      ]
     },
     "execution_count": 21,
     "metadata": {},
     "output_type": "execute_result"
    }
   ],
   "source": [
    "rfilenameFull"
   ]
  },
  {
   "cell_type": "code",
   "execution_count": 22,
   "id": "5944f4bc",
   "metadata": {},
   "outputs": [
    {
     "name": "stdout",
     "output_type": "stream",
     "text": [
      "dataFolder_csv/data/01サンプル/01_logs.csv\n"
     ]
    }
   ],
   "source": [
    "rfilenameATT=rfilenameFull[0][0]\n",
    "print(rfilenameATT)\n"
   ]
  },
  {
   "cell_type": "code",
   "execution_count": 23,
   "id": "1a55c152",
   "metadata": {},
   "outputs": [],
   "source": [
    "\n",
    "  #  1 ... 顧客全体リストの確認\n",
    "  #  2 ... 担当客リストの確認\n",
    "  #  3 ... チーム連絡帳の確認\n",
    "\n",
    "  # 12 ... 資料作成\n",
    "  # 13 ... 仮報告書の提出\n",
    "  # 14 ... チェックリスト作成\n",
    "\n",
    "  # 20 ... 報告書の提出\n",
    "  # 21 ... 修正依頼\n",
    "  # 22 ... 注意項目の追加\n",
    "\n",
    "  # 31 ... 顧客面談\n",
    "\n",
    "  # 40 ... 契約\n",
    "  # 41 ... 仮契約\n",
    "  # 42 ... 課題分析\n",
    "  # 46 ... 課題解決\n"
   ]
  },
  {
   "cell_type": "code",
   "execution_count": 24,
   "id": "46a33890",
   "metadata": {},
   "outputs": [],
   "source": [
    "dict_ID={1:'顧客全体リストの確認', 2:'担当客リストの確認', 3:'チーム連絡帳の確認',  12:'資料作成', 13:'仮報告書の提出', 14:'チェックリスト作成', 20:'報告書の提出', \n",
    "        21:'修正依頼', 22:'注意項目の追加', 31:'顧客面談', \n",
    "        40:'契約', 41:'仮契約', 42:'課題分析', 43:'質疑記入', 46:'課題解決'}"
   ]
  },
  {
   "cell_type": "code",
   "execution_count": 25,
   "id": "4c20b5c8",
   "metadata": {},
   "outputs": [
    {
     "data": {
      "text/plain": [
       "{1: '顧客全体リストの確認',\n",
       " 2: '担当客リストの確認',\n",
       " 3: 'チーム連絡帳の確認',\n",
       " 12: '資料作成',\n",
       " 13: '仮報告書の提出',\n",
       " 14: 'チェックリスト作成',\n",
       " 20: '報告書の提出',\n",
       " 21: '修正依頼',\n",
       " 22: '注意項目の追加',\n",
       " 31: '顧客面談',\n",
       " 40: '契約',\n",
       " 41: '仮契約',\n",
       " 42: '課題分析',\n",
       " 43: '質疑記入',\n",
       " 46: '課題解決'}"
      ]
     },
     "metadata": {},
     "output_type": "display_data"
    }
   ],
   "source": [
    "display(dict_ID)\n"
   ]
  },
  {
   "cell_type": "code",
   "execution_count": 26,
   "id": "a0eb0f23",
   "metadata": {},
   "outputs": [
    {
     "data": {
      "text/plain": [
       "'dataFolder_csv/data/01サンプル/01_logs.csv'"
      ]
     },
     "execution_count": 26,
     "metadata": {},
     "output_type": "execute_result"
    }
   ],
   "source": [
    "rfilenameATT"
   ]
  },
  {
   "cell_type": "code",
   "execution_count": 27,
   "id": "54c2364a",
   "metadata": {},
   "outputs": [
    {
     "data": {
      "text/html": [
       "<div>\n",
       "<style scoped>\n",
       "    .dataframe tbody tr th:only-of-type {\n",
       "        vertical-align: middle;\n",
       "    }\n",
       "\n",
       "    .dataframe tbody tr th {\n",
       "        vertical-align: top;\n",
       "    }\n",
       "\n",
       "    .dataframe thead th {\n",
       "        text-align: right;\n",
       "    }\n",
       "</style>\n",
       "<table border=\"1\" class=\"dataframe\">\n",
       "  <thead>\n",
       "    <tr style=\"text-align: right;\">\n",
       "      <th></th>\n",
       "      <th>ID</th>\n",
       "      <th>Activity</th>\n",
       "      <th>Date</th>\n",
       "    </tr>\n",
       "  </thead>\n",
       "  <tbody>\n",
       "    <tr>\n",
       "      <th>0</th>\n",
       "      <td>101</td>\n",
       "      <td>21</td>\n",
       "      <td>2023-06-30 18:09:29</td>\n",
       "    </tr>\n",
       "    <tr>\n",
       "      <th>1</th>\n",
       "      <td>101</td>\n",
       "      <td>21</td>\n",
       "      <td>2023-06-30 18:10:42</td>\n",
       "    </tr>\n",
       "    <tr>\n",
       "      <th>2</th>\n",
       "      <td>75</td>\n",
       "      <td>21</td>\n",
       "      <td>2023-06-30 22:24:30</td>\n",
       "    </tr>\n",
       "    <tr>\n",
       "      <th>3</th>\n",
       "      <td>75</td>\n",
       "      <td>21</td>\n",
       "      <td>2023-06-30 22:26:54</td>\n",
       "    </tr>\n",
       "    <tr>\n",
       "      <th>4</th>\n",
       "      <td>75</td>\n",
       "      <td>21</td>\n",
       "      <td>2023-06-30 22:32:25</td>\n",
       "    </tr>\n",
       "    <tr>\n",
       "      <th>...</th>\n",
       "      <td>...</td>\n",
       "      <td>...</td>\n",
       "      <td>...</td>\n",
       "    </tr>\n",
       "    <tr>\n",
       "      <th>318</th>\n",
       "      <td>83</td>\n",
       "      <td>3</td>\n",
       "      <td>2023-08-01 17:09:12</td>\n",
       "    </tr>\n",
       "    <tr>\n",
       "      <th>319</th>\n",
       "      <td>83</td>\n",
       "      <td>1</td>\n",
       "      <td>2023-08-01 17:09:28</td>\n",
       "    </tr>\n",
       "    <tr>\n",
       "      <th>320</th>\n",
       "      <td>83</td>\n",
       "      <td>3</td>\n",
       "      <td>2023-08-01 17:10:52</td>\n",
       "    </tr>\n",
       "    <tr>\n",
       "      <th>321</th>\n",
       "      <td>83</td>\n",
       "      <td>1</td>\n",
       "      <td>2023-08-01 17:10:59</td>\n",
       "    </tr>\n",
       "    <tr>\n",
       "      <th>322</th>\n",
       "      <td>115</td>\n",
       "      <td>3</td>\n",
       "      <td>2023-10-31 11:04:53</td>\n",
       "    </tr>\n",
       "  </tbody>\n",
       "</table>\n",
       "<p>323 rows × 3 columns</p>\n",
       "</div>"
      ],
      "text/plain": [
       "      ID  Activity                 Date\n",
       "0    101        21  2023-06-30 18:09:29\n",
       "1    101        21  2023-06-30 18:10:42\n",
       "2     75        21  2023-06-30 22:24:30\n",
       "3     75        21  2023-06-30 22:26:54\n",
       "4     75        21  2023-06-30 22:32:25\n",
       "..   ...       ...                  ...\n",
       "318   83         3  2023-08-01 17:09:12\n",
       "319   83         1  2023-08-01 17:09:28\n",
       "320   83         3  2023-08-01 17:10:52\n",
       "321   83         1  2023-08-01 17:10:59\n",
       "322  115         3  2023-10-31 11:04:53\n",
       "\n",
       "[323 rows x 3 columns]"
      ]
     },
     "metadata": {},
     "output_type": "display_data"
    }
   ],
   "source": [
    "XLSdatATT = pd.read_table(rfilenameATT, delimiter=',',encoding=\"UTF-8\")\n",
    "# XLSdatATT = pd.read_excel(rfilenameATT)\n",
    "display(XLSdatATT)"
   ]
  },
  {
   "cell_type": "code",
   "execution_count": 28,
   "id": "3bdb9275",
   "metadata": {},
   "outputs": [
    {
     "data": {
      "text/plain": [
       "'2023-06-30 18:09:29'"
      ]
     },
     "execution_count": 28,
     "metadata": {},
     "output_type": "execute_result"
    }
   ],
   "source": [
    "XLSdatATT['Date'][0]"
   ]
  },
  {
   "cell_type": "code",
   "execution_count": 29,
   "id": "696367f1",
   "metadata": {
    "scrolled": true
   },
   "outputs": [
    {
     "ename": "TypeError",
     "evalue": "unsupported operand type(s) for -: 'str' and 'str'",
     "output_type": "error",
     "traceback": [
      "\u001b[0;31m---------------------------------------------------------------------------\u001b[0m",
      "\u001b[0;31mTypeError\u001b[0m                                 Traceback (most recent call last)",
      "\u001b[0;32m/var/folders/mg/w5t8lkhc8xj79f001s7kzpfh0000gp/T/ipykernel_91795/2923430650.py\u001b[0m in \u001b[0;36m<module>\u001b[0;34m\u001b[0m\n\u001b[0;32m----> 1\u001b[0;31m \u001b[0mXLSdatATT\u001b[0m\u001b[0;34m[\u001b[0m\u001b[0;34m'Date'\u001b[0m\u001b[0;34m]\u001b[0m\u001b[0;34m[\u001b[0m\u001b[0;36m0\u001b[0m\u001b[0;34m]\u001b[0m\u001b[0;34m-\u001b[0m\u001b[0mXLSdatATT\u001b[0m\u001b[0;34m[\u001b[0m\u001b[0;34m'Date'\u001b[0m\u001b[0;34m]\u001b[0m\u001b[0;34m[\u001b[0m\u001b[0;36m1\u001b[0m\u001b[0;34m]\u001b[0m\u001b[0;34m\u001b[0m\u001b[0;34m\u001b[0m\u001b[0m\n\u001b[0m",
      "\u001b[0;31mTypeError\u001b[0m: unsupported operand type(s) for -: 'str' and 'str'"
     ]
    }
   ],
   "source": [
    "XLSdatATT['Date'][0]-XLSdatATT['Date'][1]"
   ]
  },
  {
   "cell_type": "code",
   "execution_count": null,
   "id": "98148f80",
   "metadata": {},
   "outputs": [],
   "source": [
    "d1=XLSdatATT['Date'][0]\n",
    "d2=XLSdatATT['Date'][10]\n",
    "d1_dt=parse(d1, fuzzy=True)\n",
    "d2_dt=parse(d2, fuzzy=True)\n",
    "print(d1,\"/\",d2)\n",
    "print(d1_dt,\"/\",d2_dt)\n",
    "print(d1_dt-d2_dt)"
   ]
  },
  {
   "cell_type": "code",
   "execution_count": null,
   "id": "369cec52",
   "metadata": {},
   "outputs": [],
   "source": [
    "d1_dt"
   ]
  },
  {
   "cell_type": "code",
   "execution_count": null,
   "id": "ad806143",
   "metadata": {},
   "outputs": [],
   "source": [
    "print(d1_dt)"
   ]
  },
  {
   "cell_type": "code",
   "execution_count": null,
   "id": "0ac7f749",
   "metadata": {},
   "outputs": [],
   "source": [
    "dTimeL_ATT=XLSdatATT['Date']\n",
    "display(dTimeL_ATT)"
   ]
  },
  {
   "cell_type": "code",
   "execution_count": null,
   "id": "53e75179",
   "metadata": {},
   "outputs": [],
   "source": [
    "# list(XLSdat['Name']).split(',')\n",
    "NameL_ATT=[v for v in XLSdatATT['ID']]\n",
    "display(NameL_ATT)\n",
    "\n",
    "actID_ATT=list(XLSdatATT['Activity'])\n",
    "actIDL_ATT=[dict_ID[k] for k in actID_ATT]\n",
    "display(actID_ATT)\n",
    "display(actIDL_ATT)\n",
    "\n",
    "NameAct_ATT=[str(k)+':'+v for k,v in zip(NameL_ATT,actIDL_ATT)]\n",
    "\n",
    "display(NameAct_ATT)\n"
   ]
  },
  {
   "cell_type": "code",
   "execution_count": null,
   "id": "ce74052d",
   "metadata": {},
   "outputs": [],
   "source": [
    "ikey_ATT=np.argsort(dTimeL_ATT)\n",
    "display(ikey_ATT)\n"
   ]
  },
  {
   "cell_type": "code",
   "execution_count": null,
   "id": "75809bdd",
   "metadata": {},
   "outputs": [],
   "source": [
    "dList_ATT = [parse(tx, fuzzy=True) for tx in XLSdatATT['Date']]\n",
    "dListNP_ATT=np.array(dList_ATT)\n"
   ]
  },
  {
   "cell_type": "code",
   "execution_count": null,
   "id": "f803877a",
   "metadata": {
    "scrolled": true
   },
   "outputs": [],
   "source": [
    "dList_ATT = [parse(tx, fuzzy=True) for tx in dTimeL_ATT]\n",
    "dListNP_ATT=np.array(dList_ATT)\n",
    "display(dListNP_ATT[0].date())\n",
    "\n"
   ]
  },
  {
   "cell_type": "code",
   "execution_count": null,
   "id": "9b1e8cae",
   "metadata": {},
   "outputs": [],
   "source": [
    "EngWL=['Mon','Tue','Wed','Thur','Fri','Sat','Sun']\n",
    "JpnWL=['月曜日','火曜日','水曜日','木曜日','金曜日','土曜日','日曜日']\n",
    "\n",
    "convWK=dict(zip(range(7),EngWL))\n",
    "convWKnum_ATT=[v.weekday() for v in dListNP_ATT[ikey_ATT]]\n",
    "convWKLabel_ATT=[convWK[v.weekday()] for v in dListNP_ATT[ikey_ATT]]\n",
    "display(convWKLabel_ATT)\n"
   ]
  },
  {
   "cell_type": "code",
   "execution_count": null,
   "id": "1adbfeac",
   "metadata": {},
   "outputs": [],
   "source": [
    "print(dListNP_ATT[0].date())\n",
    "print(dListNP_ATT[0].weekday())\n",
    "print(convWK[dListNP_ATT[0].weekday()])"
   ]
  },
  {
   "cell_type": "code",
   "execution_count": null,
   "id": "26b396e0",
   "metadata": {},
   "outputs": [],
   "source": [
    "print(dListNP_ATT[-1].date())\n",
    "print(dListNP_ATT[-1].weekday())\n",
    "print(convWK[dListNP_ATT[-1].weekday()])"
   ]
  },
  {
   "cell_type": "code",
   "execution_count": null,
   "id": "c625acbb",
   "metadata": {},
   "outputs": [],
   "source": [
    "convWK"
   ]
  },
  {
   "cell_type": "code",
   "execution_count": null,
   "id": "8db14f35",
   "metadata": {},
   "outputs": [],
   "source": [
    "dayinc_ATT=6-convWKnum_ATT[-1]\n",
    "display(dListNP_ATT[0])\n",
    "Firstday_ATT=dListNP_ATT[0]-datetime.timedelta(days=convWKnum_ATT[0])\n",
    "Lastday_ATT=dListNP_ATT[-1]+datetime.timedelta(days=dayinc_ATT)\n",
    "Lastday_mon_ATT=Lastday_ATT-datetime.timedelta(days=6)\n"
   ]
  },
  {
   "cell_type": "code",
   "execution_count": null,
   "id": "a54c1ac8",
   "metadata": {},
   "outputs": [],
   "source": [
    "print(dListNP_ATT[0].date())\n",
    "print(dListNP_ATT[0].weekday())\n",
    "print(convWK[dListNP_ATT[0].weekday()])\n",
    "\n",
    "print(Firstday_ATT.date())\n",
    "print(Firstday_ATT.weekday())\n",
    "print(convWK[Firstday_ATT.weekday()])"
   ]
  },
  {
   "cell_type": "code",
   "execution_count": null,
   "id": "c5373496",
   "metadata": {},
   "outputs": [],
   "source": [
    "datetime.timedelta(days=convWKnum_ATT[0])\n",
    "convWKnum_ATT[0]"
   ]
  },
  {
   "cell_type": "code",
   "execution_count": null,
   "id": "48284a47",
   "metadata": {},
   "outputs": [],
   "source": [
    "d1=dListNP_ATT[0]\n",
    "d2=dListNP_ATT[0]+datetime.timedelta(days=1)\n",
    "print(d1)\n",
    "print(d2)"
   ]
  },
  {
   "cell_type": "code",
   "execution_count": null,
   "id": "66c0e3cc",
   "metadata": {},
   "outputs": [],
   "source": [
    "print(dListNP_ATT[0])\n"
   ]
  },
  {
   "cell_type": "code",
   "execution_count": null,
   "id": "96caf8fb",
   "metadata": {},
   "outputs": [],
   "source": [
    "print(Firstday_ATT)\n",
    "print(convWK[Firstday_ATT.weekday()])\n",
    "print(Lastday_ATT)\n",
    "print(convWK[Lastday_ATT.weekday()])\n",
    "print(Lastday_mon_ATT)\n",
    "print(convWK[Lastday_mon_ATT.weekday()])"
   ]
  },
  {
   "cell_type": "code",
   "execution_count": null,
   "id": "b6111de8",
   "metadata": {},
   "outputs": [],
   "source": [
    "Lastday_ATT"
   ]
  },
  {
   "cell_type": "code",
   "execution_count": null,
   "id": "b2ee3ef7",
   "metadata": {},
   "outputs": [],
   "source": [
    "Lastday_ATT-datetime.timedelta(days=6)"
   ]
  },
  {
   "cell_type": "code",
   "execution_count": null,
   "id": "6f218a2e",
   "metadata": {},
   "outputs": [],
   "source": [
    "\n",
    "    \n",
    "Firstday=Firstday_ATT\n",
    "Lastday=Lastday_ATT\n",
    "Last_monday=Lastday-datetime.timedelta(days=6)\n",
    "\n",
    "TotalDays=Lastday.date()-Firstday.date()\n",
    "TotalWeeks=Last_monday.date()-Firstday.date()\n",
    "\n",
    "TotalWeeks=int((TotalDays.days+1)/7)\n",
    "print('TotalDays.days')\n",
    "display(TotalDays.days)\n",
    "print('(TotalDays.days+1)/7')\n",
    "display((TotalDays.days+1)/7)\n",
    "print('TotalWeeks')\n",
    "display((TotalWeeks-1)/7)\n",
    "display(TotalWeeks)\n",
    "\n",
    "SunD=Firstday.date()+datetime.timedelta(days=6)\n",
    "print(JpnWL[Firstday.weekday()])\n",
    "print(JpnWL[SunD.weekday()])"
   ]
  },
  {
   "cell_type": "code",
   "execution_count": null,
   "id": "36675936",
   "metadata": {},
   "outputs": [],
   "source": [
    "print(Firstday)\n",
    "print(Lastday)"
   ]
  },
  {
   "cell_type": "code",
   "execution_count": null,
   "id": "fb4c02cf",
   "metadata": {},
   "outputs": [],
   "source": [
    "2022-2015\n",
    "7*365"
   ]
  },
  {
   "cell_type": "code",
   "execution_count": null,
   "id": "658e3fee",
   "metadata": {},
   "outputs": [],
   "source": [
    "list(range(0,TotalDays.days,7))"
   ]
  },
  {
   "cell_type": "code",
   "execution_count": null,
   "id": "b1fbb747",
   "metadata": {},
   "outputs": [],
   "source": [
    "# keyWK=np.array(list(range(0,TotalDays.days,7))+[TotalDays.days])\n",
    "keyWK=list(range(0,TotalDays.days,7))+[TotalDays.days]\n",
    "display(keyWK)\n",
    "\n",
    "WKst=[Firstday+datetime.timedelta(days=d) for d in keyWK]\n",
    "WKst\n",
    "\n",
    "NPdataMat=np.empty([len(WKst),7],dtype=object)\n",
    "\n",
    "wkL=[d.timetuple() for d in WKst]\n",
    "wkL2=np.array([d2[0:3:1] for d2 in wkL])\n",
    "\n"
   ]
  },
  {
   "cell_type": "code",
   "execution_count": null,
   "id": "b1dd13f8",
   "metadata": {},
   "outputs": [],
   "source": [
    "print(wkL[0])\n",
    "print(wkL2[0])"
   ]
  },
  {
   "cell_type": "code",
   "execution_count": null,
   "id": "9f9f08e2",
   "metadata": {},
   "outputs": [],
   "source": [
    "keyWK"
   ]
  },
  {
   "cell_type": "code",
   "execution_count": null,
   "id": "0ccbc708",
   "metadata": {},
   "outputs": [],
   "source": [
    "NPdataMat"
   ]
  },
  {
   "cell_type": "code",
   "execution_count": null,
   "id": "93422aeb",
   "metadata": {},
   "outputs": [],
   "source": [
    "# keyWK=np.array(list(range(0,TotalDays.days,7))+[TotalDays.days])\n",
    "keyWK=list(range(0,TotalDays.days,7))+[TotalDays.days]\n",
    "WKst=[Firstday+datetime.timedelta(days=d) for d in keyWK]\n",
    "\n",
    "NPdataMatL=np.full([len(WKst),7],['0'],dtype=object)\n",
    "NPdataMat=np.full([len(WKst),7],0,dtype=int)\n",
    "\n",
    "wkL=[d.timetuple() for d in WKst]\n",
    "wkL2=np.array([d2[0:3:1] for d2 in wkL])\n",
    "\n",
    "dList=dList_ATT.copy()\n",
    "NameAct=NameAct_ATT.copy()\n",
    "for k in range(len(dList)):\n",
    "    display(dList[k])\n",
    "    i2=np.where((dList[k].year==wkL2[:,0]) & (dList[k].month==wkL2[:,1]) & (dList[k].day-wkL2[:,2]<=6) & (dList[k].day-wkL2[:,2]>=0))[0]\n",
    "    j2=dList[k].weekday()\n",
    "    if NPdataMatL[i2,j2]==['0']:\n",
    "        NPdataMatL[i2,j2]=NameAct[k]+'('+str(dList[k].time())+')'\n",
    "    else:\n",
    "        NPdataMatL[i2,j2]=NPdataMatL[i2,j2]+','+NameAct[k]+'('+str(dList[k].time())+')'\n",
    "    NPdataMat[i2,j2]=NPdataMat[i2,j2]+1    \n",
    "\n",
    "    \n",
    "display(NPdataMat)\n",
    "display(NPdataMatL)"
   ]
  },
  {
   "cell_type": "code",
   "execution_count": null,
   "id": "6399a414",
   "metadata": {},
   "outputs": [],
   "source": [
    "NPdataMat"
   ]
  },
  {
   "cell_type": "code",
   "execution_count": null,
   "id": "881f33b7",
   "metadata": {},
   "outputs": [],
   "source": [
    "key=np.where(NPdataMatL!='0')\n",
    "print(NPdataMatL[key])\n",
    "\n",
    "for k in range(len(NPdataMatL[key])):\n",
    "    print(NPdataMatL[key][k])\n",
    "    print(r'%d: イベント  %d件' % (k, NPdataMat[key][k]))"
   ]
  },
  {
   "cell_type": "code",
   "execution_count": null,
   "id": "8629fe7f",
   "metadata": {},
   "outputs": [],
   "source": [
    "key"
   ]
  },
  {
   "cell_type": "code",
   "execution_count": null,
   "id": "2c09c991",
   "metadata": {},
   "outputs": [],
   "source": [
    "NPdataMat.shape"
   ]
  },
  {
   "cell_type": "code",
   "execution_count": null,
   "id": "39a9bee3",
   "metadata": {},
   "outputs": [],
   "source": [
    "import re\n",
    "\n",
    "re.split(':|\\(|\\)',eSt2[0])"
   ]
  },
  {
   "cell_type": "code",
   "execution_count": null,
   "id": "0cddfd3d",
   "metadata": {},
   "outputs": [],
   "source": [
    "eSt3_np[0][2:]\n",
    "\n",
    "makeT=lambda v: v[0]+':'+v[1]+':'+v[2]\n",
    "makeT(eSt3_np[0][2:])"
   ]
  },
  {
   "cell_type": "code",
   "execution_count": null,
   "id": "2ba6f34d",
   "metadata": {},
   "outputs": [],
   "source": [
    "eList=np.empty(len(idSet_np),dtype=object)\n",
    "eList"
   ]
  },
  {
   "cell_type": "code",
   "execution_count": null,
   "id": "64565511",
   "metadata": {},
   "outputs": [],
   "source": [
    "eList"
   ]
  },
  {
   "cell_type": "code",
   "execution_count": null,
   "id": "44f994bf",
   "metadata": {},
   "outputs": [],
   "source": [
    "# eList=[]\n",
    "eList=eList+[str(idSet_np[k])+':'+v for v in list(set(eventList[key]))]\n",
    "eList"
   ]
  },
  {
   "cell_type": "code",
   "execution_count": null,
   "id": "0523fb53",
   "metadata": {},
   "outputs": [],
   "source": [
    "idList=[int(d) for d in eSt3_np[:,0]]\n",
    "idSet=set(idList)\n",
    "eventList=eSt3_np[:,1]\n",
    "stT=parse(eSt3_np[0,2],fuzzy=True)\n",
    "timeList=[parse(v,fuzzy=True)-stT for v in eSt3_np[:,2]]\n",
    "\n",
    "print(idList)\n",
    "print(idSet)\n",
    "idSet_np=np.array(list(idSet))\n",
    "eList=[]\n",
    "for k in range(len(idSet_np)):\n",
    "    key2=np.where(np.array(idList)==idSet_np[k])\n",
    "    eList=eList+[str(idSet_np[k])+':'+v for v in list(set(eventList[key2]))]\n",
    "\n",
    "# eList2=np.array(eList)\n",
    "print(eList)"
   ]
  },
  {
   "cell_type": "code",
   "execution_count": null,
   "id": "5b0acc04",
   "metadata": {},
   "outputs": [],
   "source": [
    "NPdataMatL2=np.full([len(WKst),7],['0'],dtype=object)\n",
    "NPdataMat2=np.full([len(WKst),7],0,dtype=int)\n",
    "\n",
    "makeT=lambda v: v[0]+':'+v[1]+':'+v[2]\n",
    "\n",
    "key=np.where(NPdataMatL!='0')\n",
    "# print(NPdataMatL[key])\n",
    "\n",
    "# eSt1=NPdataMatL[key][6]\n",
    "for k2 in range(len(key[0])):\n",
    "    eSt1=NPdataMatL[key][k2]\n",
    "#         print(k2)\n",
    "    eSt2=eSt1.split(',')\n",
    "    eSt3=[re.split(':|\\(|\\)',v)[:2] +[makeT(re.split(':|\\(|\\)',v)[2:-1])] for v in eSt2]\n",
    "    eSt3_np=np.array(eSt3)\n",
    "\n",
    "    idList=[d for d in eSt3_np[:,0]]\n",
    "    idSet=set(idList)\n",
    "    eventList=eSt3_np[:,1]\n",
    "    stT=parse(eSt3_np[0,2],fuzzy=True)\n",
    "    timeList=[parse(v,fuzzy=True)-stT for v in eSt3_np[:,2]]\n",
    "\n",
    "#     print(idList)\n",
    "#     print(idSet)\n",
    "    idSet_np=np.array(list(idSet))\n",
    "    eList=[]\n",
    "    for k in range(len(idSet_np)):\n",
    "        key2=np.where(np.array(idList)==idSet_np[k])\n",
    "        eList=eList+[(idSet_np[k])+':'+v for v in list(set(eventList[key2]))]\n",
    "\n",
    "    NPdataMatL2[key[0][k2],key[1][k2]]=eList\n",
    "    NPdataMat2[key[0][k2],key[1][k2]]=len(idSet_np)\n",
    "    # eList2=np.array(eList)\n",
    "#     print(eList)\n",
    "NPdataMatL2"
   ]
  },
  {
   "cell_type": "code",
   "execution_count": null,
   "id": "8fc5f963",
   "metadata": {},
   "outputs": [],
   "source": [
    "key"
   ]
  },
  {
   "cell_type": "code",
   "execution_count": null,
   "id": "ac6b52a9",
   "metadata": {},
   "outputs": [],
   "source": [
    "k2\n",
    "NPdataMatL2[k2]"
   ]
  },
  {
   "cell_type": "code",
   "execution_count": null,
   "id": "2d92f4c6",
   "metadata": {},
   "outputs": [],
   "source": [
    "eList"
   ]
  },
  {
   "cell_type": "code",
   "execution_count": null,
   "id": "00a2f324",
   "metadata": {},
   "outputs": [],
   "source": [
    "idList=[int(d) for d in eSt3_np[:,0]]\n",
    "idSet=set(idList)\n",
    "eventList=eSt3_np[:,1]\n",
    "stT=parse(eSt3_np[0,2],fuzzy=True)\n",
    "timeList=[parse(v,fuzzy=True)-stT for v in eSt3_np[:,2]]\n",
    "\n",
    "print(idList)\n",
    "print(idSet)\n",
    "idSet_np=np.array(list(idSet))\n",
    "eList=np.empty(len(idSet),dtype=object)\n",
    "for k in range(len(idSet_np)):\n",
    "    key=np.where(np.array(idList)==idSet_np[k])\n",
    "    eList[k]=[str(idSet_np[k])+':'+v for v in list(set(eventList[key]))]\n",
    "\n",
    "eList2=np.array(eList)\n",
    "print(eList2)"
   ]
  },
  {
   "cell_type": "code",
   "execution_count": null,
   "id": "58546fed",
   "metadata": {},
   "outputs": [],
   "source": [
    "eventList=eSt3_np[:,1]\n",
    "print(eventList)"
   ]
  },
  {
   "cell_type": "code",
   "execution_count": null,
   "id": "44b724a9",
   "metadata": {},
   "outputs": [],
   "source": [
    "stT=parse(eSt3_np[0,2],fuzzy=True)\n",
    "timeList=[parse(v,fuzzy=True)-stT for v in eSt3_np[:,2]]\n",
    "print(timeList)\n",
    "# list(map(parse,eSt3_np[0,2]))\n",
    "# datetime.datetime(eSt3_np[:,2])"
   ]
  },
  {
   "cell_type": "code",
   "execution_count": null,
   "id": "f904b58f",
   "metadata": {},
   "outputs": [],
   "source": [
    "eSt1=NPdataMatL[key][6]\n",
    "eSt2=eSt1.split(',')\n",
    "\n",
    "makeT=lambda v: v[0]+':'+v[1]+':'+v[2]\n",
    "\n",
    "eSt3=[re.split(':|\\(|\\)',v)[:2] +[makeT(re.split(':|\\(|\\)',v)[2:-1])] for v in eSt2]\n",
    "eSt3_np=np.array(eSt3)\n",
    "eSt3_np"
   ]
  },
  {
   "cell_type": "code",
   "execution_count": null,
   "id": "892f8945",
   "metadata": {},
   "outputs": [],
   "source": [
    "NPdataMatL[0,1]!='0'"
   ]
  },
  {
   "cell_type": "code",
   "execution_count": null,
   "id": "40977077",
   "metadata": {},
   "outputs": [],
   "source": [
    "NPdataMat"
   ]
  },
  {
   "cell_type": "code",
   "execution_count": null,
   "id": "954c6c83",
   "metadata": {},
   "outputs": [],
   "source": []
  },
  {
   "cell_type": "code",
   "execution_count": null,
   "id": "6b4bf766",
   "metadata": {},
   "outputs": [],
   "source": [
    "MondayList=[str(d.year)+'_'+str(d.month)+'_'+str(d.day) for d in WKst]\n",
    "\n",
    "df_CEP = pd.DataFrame(NPdataMatL, index=MondayList,columns = ['Mon','Tue','Wed','Thu','Fri','Sat','Sun'])\n",
    "display(df_CEP)\n",
    "df_CEP.to_csv('df_CEP.csv',encoding='shift-jis')"
   ]
  },
  {
   "cell_type": "code",
   "execution_count": null,
   "id": "ae2e5552",
   "metadata": {},
   "outputs": [],
   "source": []
  },
  {
   "cell_type": "code",
   "execution_count": null,
   "id": "3cf02762",
   "metadata": {},
   "outputs": [],
   "source": [
    "len(keyWK)"
   ]
  },
  {
   "cell_type": "code",
   "execution_count": null,
   "id": "f08c8713",
   "metadata": {},
   "outputs": [],
   "source": [
    "TotalDays"
   ]
  },
  {
   "cell_type": "code",
   "execution_count": null,
   "id": "4e0b3f80",
   "metadata": {},
   "outputs": [],
   "source": [
    "a=str(WKst[1].year)+'_'+str(WKst[1].month)+'_'+str(WKst[1].day)\n",
    "a\n",
    "# a[1]"
   ]
  },
  {
   "cell_type": "code",
   "execution_count": null,
   "id": "089927aa",
   "metadata": {},
   "outputs": [],
   "source": [
    "[str(d.year)+'_'+str(d.month)+'_'+str(d.day) for d in WKst]"
   ]
  },
  {
   "cell_type": "code",
   "execution_count": null,
   "id": "eae7ba52",
   "metadata": {},
   "outputs": [],
   "source": [
    "# keyWK=np.array(list(range(0,TotalDays.days,7))+[TotalDays.days])\n",
    "keyWK=list(range(0,TotalDays.days,7))+[TotalDays.days]\n",
    "# display(keyWK)\n",
    "\n",
    "WKst=[Firstday+datetime.timedelta(days=d) for d in keyWK]\n",
    "WKst\n",
    "\n",
    "MondayList=[str(d.year)+'_'+str(d.month)+'_'+str(d.day) for d in WKst]\n",
    "\n",
    "NPdataMatL=np.full([len(WKst),7],['0'],dtype=object)\n",
    "NPdataMat=np.full([len(WKst),7],0,dtype=int)\n",
    "\n",
    "\n",
    "wkL=[d.timetuple() for d in WKst]\n",
    "wkL2=np.array([d2[0:3:1] for d2 in wkL])\n",
    "\n",
    "# dtimeL2[1][1]\n",
    "\n",
    "dList=dList_ATT.copy()\n",
    "NameAct=NameAct_ATT.copy()\n",
    "for k in range(len(dList)):\n",
    "    display(dList[k])\n",
    "    i2=np.where((dList[k].year==wkL2[:,0]) & (dList[k].month==wkL2[:,1]) & (dList[k].day-wkL2[:,2]<=6) & (dList[k].day-wkL2[:,2]>=0))[0]\n",
    "#     i2=int(i2)\n",
    "    j2=dList[k].weekday()\n",
    "    if NPdataMatL[i2,j2]==['0']:\n",
    "        NPdataMatL[i2,j2]=NameAct[k]+'('+str(dList[k].time())+')'\n",
    "#         NPdataMatL[i2,j2]=NPdataMatL[i2,j2].tolist()+[NameAct[k]]\n",
    "#     elif len(NPdataMatL[i2,j2])==1:\n",
    "#         NPdataMatL[i2,j2]=NPdataMatL[i2,j2]+','+NameAct[k]\n",
    "    else:\n",
    "#         NPdataMatL[i2,j2]=[np.hstack([NPdataMatL[i2,j2],[NameAct[k]]]).tolist()]\n",
    "#         NPdataMatL[i2,j2]=sum(NPdataMatL[i2,j2].tolist(),[])+NameAct[k]\n",
    "        NPdataMatL[i2,j2]=NPdataMatL[i2,j2]+','+NameAct[k]\n",
    "    NPdataMat[i2,j2]=NPdataMat[i2,j2]+1    \n",
    "\n",
    "dList=dList_COM.copy()\n",
    "NameAct=NameAct_COM.copy()\n",
    "for k in range(len(dList)):\n",
    "    display(dList[k])\n",
    "    i2=np.where((dList[k].year==wkL2[:,0]) & (dList[k].month==wkL2[:,1]) & (dList[k].day-wkL2[:,2]<=6) & (dList[k].day-wkL2[:,2]>=0))[0]\n",
    "#     i2=int(i2)\n",
    "    j2=dList[k].weekday()\n",
    "    if NPdataMatL[i2,j2]==['0']:\n",
    "        NPdataMatL[i2,j2]=NameAct[k]+'('+str(dList[k].time())+')'\n",
    "#         NPdataMatL[i2,j2]=NPdataMatL[i2,j2].tolist()+[NameAct[k]]\n",
    "#     elif len(NPdataMatL[i2,j2])==1:\n",
    "#         NPdataMatL[i2,j2]=NPdataMatL[i2,j2]+','+NameAct[k]\n",
    "    else:\n",
    "#         NPdataMatL[i2,j2]=[np.hstack([NPdataMatL[i2,j2],[NameAct[k]]]).tolist()]\n",
    "#         NPdataMatL[i2,j2]=sum(NPdataMatL[i2,j2].tolist(),[])+NameAct[k]\n",
    "        NPdataMatL[i2,j2]=NPdataMatL[i2,j2]+','+NameAct[k]\n",
    "    NPdataMat[i2,j2]=NPdataMat[i2,j2]+1    \n",
    "    \n",
    "display(NPdataMat)\n",
    "\n",
    "display(NPdataMatL)"
   ]
  },
  {
   "cell_type": "code",
   "execution_count": null,
   "id": "c3963e3e",
   "metadata": {},
   "outputs": [],
   "source": []
  },
  {
   "cell_type": "code",
   "execution_count": null,
   "id": "37385533",
   "metadata": {},
   "outputs": [],
   "source": [
    "len(dList)"
   ]
  },
  {
   "cell_type": "code",
   "execution_count": null,
   "id": "9493e2f8",
   "metadata": {},
   "outputs": [],
   "source": [
    "np.shape(NPdataMatL)"
   ]
  },
  {
   "cell_type": "code",
   "execution_count": null,
   "id": "42121887",
   "metadata": {},
   "outputs": [],
   "source": [
    "df_CEP = pd.DataFrame(NPdataMatL, index=MondayList,columns = ['Mon','Tue','Wed','Thu','Fri','Sat','Sun'])\n",
    "display(df_CEP)\n",
    "df_CEP.to_csv('df_CEP.csv')"
   ]
  },
  {
   "cell_type": "code",
   "execution_count": null,
   "id": "0ff3ac20",
   "metadata": {},
   "outputs": [],
   "source": [
    "df_CEP = pd.DataFrame(NPdataMatL, index=MondayList,columns = ['Mon','Tue','Wed','Thu','Fri','Sat','Sun'])\n",
    "display(df_CEP)\n",
    "df_CEP.to_csv('df_CEP.csv',encoding='shift-jis')"
   ]
  },
  {
   "cell_type": "code",
   "execution_count": null,
   "id": "67e0bf16",
   "metadata": {},
   "outputs": [],
   "source": [
    "df_CEP = pd.DataFrame(NPdataMatL, columns = ['Mon','Tue','Wed','Thu','Fri','Sat','Sun'])"
   ]
  },
  {
   "cell_type": "code",
   "execution_count": null,
   "id": "5660885c",
   "metadata": {},
   "outputs": [],
   "source": [
    "display(df_CEP)"
   ]
  },
  {
   "cell_type": "code",
   "execution_count": null,
   "id": "cc1adfe1",
   "metadata": {},
   "outputs": [],
   "source": []
  },
  {
   "cell_type": "code",
   "execution_count": null,
   "id": "566416b3",
   "metadata": {},
   "outputs": [],
   "source": []
  },
  {
   "cell_type": "code",
   "execution_count": null,
   "id": "5b8378a2",
   "metadata": {},
   "outputs": [],
   "source": [
    "[NPdataMatL[i2,j2].tolist(),[NameAct[k]]]"
   ]
  },
  {
   "cell_type": "code",
   "execution_count": null,
   "id": "518fb47d",
   "metadata": {},
   "outputs": [],
   "source": [
    "NPdataMatL[i2,j2]\n",
    "np.hstack([NPdataMatL[i2,j2],[NameAct[k]]]).tolist()"
   ]
  },
  {
   "cell_type": "code",
   "execution_count": null,
   "id": "beb4df50",
   "metadata": {},
   "outputs": [],
   "source": [
    "NPdataMatL[i2,j2]={'0', '462:KW提出した'}"
   ]
  },
  {
   "cell_type": "code",
   "execution_count": null,
   "id": "06e80092",
   "metadata": {},
   "outputs": [],
   "source": [
    "NPdataMatL[i2,j2].tolist()+[NameAct[k]]"
   ]
  },
  {
   "cell_type": "code",
   "execution_count": null,
   "id": "120012dc",
   "metadata": {},
   "outputs": [],
   "source": [
    "NPdataMatL[i2,j2]"
   ]
  },
  {
   "cell_type": "code",
   "execution_count": null,
   "id": "543b96d5",
   "metadata": {},
   "outputs": [],
   "source": [
    "NPdataMatL[i2,j2]"
   ]
  },
  {
   "cell_type": "code",
   "execution_count": null,
   "id": "592bdab8",
   "metadata": {},
   "outputs": [],
   "source": [
    "NPdataMatL[i2,j2].tolist()+[NameAct[k]]"
   ]
  },
  {
   "cell_type": "code",
   "execution_count": null,
   "id": "1a877582",
   "metadata": {},
   "outputs": [],
   "source": [
    "NPdataMatL[i2,j2].tolist()+[NameAct[k]]"
   ]
  },
  {
   "cell_type": "code",
   "execution_count": null,
   "id": "5ce53a7a",
   "metadata": {},
   "outputs": [],
   "source": [
    "NPdataMatL[i2,j2]"
   ]
  },
  {
   "cell_type": "code",
   "execution_count": null,
   "id": "9c0eabe5",
   "metadata": {},
   "outputs": [],
   "source": [
    "NPdataMatL[i2,j2].tolist()+[NameAct[k]]\n",
    "# [NameAct[k]]"
   ]
  },
  {
   "cell_type": "code",
   "execution_count": null,
   "id": "48fc1be2",
   "metadata": {},
   "outputs": [],
   "source": [
    "len(NPdataMatL[i2,j2])\n",
    "NPdataMatL[i2,j2]\n",
    "NPdataMatL[i2,j2].tolist()"
   ]
  },
  {
   "cell_type": "code",
   "execution_count": null,
   "id": "4d6a53b1",
   "metadata": {},
   "outputs": [],
   "source": [
    "NPdataMatL[i2,j2]"
   ]
  },
  {
   "cell_type": "code",
   "execution_count": null,
   "id": "2d4963c4",
   "metadata": {},
   "outputs": [],
   "source": [
    "g=[NameAct[k]]\n",
    "g+[NameAct[k]]"
   ]
  },
  {
   "cell_type": "code",
   "execution_count": null,
   "id": "76f862dd",
   "metadata": {},
   "outputs": [],
   "source": [
    "k=73\n",
    "dList[k]\n",
    "i2=np.where((dList[k].year==wkL2[:,0]) & (dList[k].month==wkL2[:,1]) & (dList[k].day-wkL2[:,2]<=6) & (dList[k].day-wkL2[:,2]>=0))[0]\n",
    "display(i2)\n",
    "\n",
    "dList[k].day\n",
    "\n",
    "dList[k].day-wkL2[0,2]"
   ]
  },
  {
   "cell_type": "code",
   "execution_count": null,
   "id": "51bfa614",
   "metadata": {},
   "outputs": [],
   "source": [
    "np.shape(NPdataMatL)\n",
    "NPdataMatL[0,0]==''"
   ]
  },
  {
   "cell_type": "code",
   "execution_count": null,
   "id": "be9b1483",
   "metadata": {},
   "outputs": [],
   "source": [
    "int(i2)"
   ]
  },
  {
   "cell_type": "code",
   "execution_count": null,
   "id": "a53012a5",
   "metadata": {},
   "outputs": [],
   "source": [
    "i2\n",
    "j2"
   ]
  },
  {
   "cell_type": "code",
   "execution_count": null,
   "id": "fb4de63f",
   "metadata": {},
   "outputs": [],
   "source": [
    "np.shape(NPdataMat)"
   ]
  },
  {
   "cell_type": "code",
   "execution_count": null,
   "id": "cec70e19",
   "metadata": {},
   "outputs": [],
   "source": [
    "len(NPdataMat[0,0])"
   ]
  },
  {
   "cell_type": "code",
   "execution_count": null,
   "id": "640f0bc2",
   "metadata": {},
   "outputs": [],
   "source": [
    "(WKst[0]-dList[0]).days<6"
   ]
  },
  {
   "cell_type": "code",
   "execution_count": null,
   "id": "ab377805",
   "metadata": {},
   "outputs": [],
   "source": [
    "WKst"
   ]
  },
  {
   "cell_type": "code",
   "execution_count": null,
   "id": "408aa54a",
   "metadata": {},
   "outputs": [],
   "source": [
    "(-dList[0]).days"
   ]
  },
  {
   "cell_type": "code",
   "execution_count": null,
   "id": "1ac4031d",
   "metadata": {},
   "outputs": [],
   "source": [
    "np.arange(0,TotalDays,7)"
   ]
  },
  {
   "cell_type": "code",
   "execution_count": null,
   "id": "f88f353a",
   "metadata": {},
   "outputs": [],
   "source": [
    "dList = [parse(tx, fuzzy=True) for tx in dTimeL]\n",
    "dList"
   ]
  },
  {
   "cell_type": "code",
   "execution_count": null,
   "id": "50efad11",
   "metadata": {},
   "outputs": [],
   "source": [
    "dtimeL=[d.timetuple() for d in dList]\n",
    "dtimeL2=[d2[0:6:2] for d2 in dtimeL]\n",
    "\n",
    "dtimeL2[1][1]"
   ]
  },
  {
   "cell_type": "code",
   "execution_count": null,
   "id": "ea787382",
   "metadata": {},
   "outputs": [],
   "source": [
    "dList[1].minute\n",
    "dStruDst=dList[0].timetuple()\n",
    "dStruDed=dList[-1].timetuple()\n",
    "display(dStruDst)\n",
    "display(dStruDed)\n",
    "Dst=np.array(dStruDst[0:6:2])\n",
    "Ded=np.array(dStruDed[0:6:2])\n",
    "\n",
    "display(list(dStruDst[0:6:2]))\n",
    "display(list(dStruDed[0:6:2]))\n",
    "\n",
    "Ded-Dst"
   ]
  },
  {
   "cell_type": "code",
   "execution_count": null,
   "id": "0d37d113",
   "metadata": {},
   "outputs": [],
   "source": [
    "dListNP=np.array(dList)\n",
    "dListNP"
   ]
  }
 ],
 "metadata": {
  "kernelspec": {
   "display_name": "Python 3 (ipykernel)",
   "language": "python",
   "name": "python3"
  },
  "language_info": {
   "codemirror_mode": {
    "name": "ipython",
    "version": 3
   },
   "file_extension": ".py",
   "mimetype": "text/x-python",
   "name": "python",
   "nbconvert_exporter": "python",
   "pygments_lexer": "ipython3",
   "version": "3.9.18"
  }
 },
 "nbformat": 4,
 "nbformat_minor": 5
}
