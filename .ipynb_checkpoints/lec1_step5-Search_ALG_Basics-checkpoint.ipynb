{
 "cells": [
  {
   "cell_type": "code",
   "execution_count": null,
   "metadata": {},
   "outputs": [],
   "source": [
    "## Python basics for novice data scientists, supported by Wagatsuma Lab@Kyutech \n",
    "#\n",
    "# The MIT License (MIT): Copyright (c) 2020 Hiroaki Wagatsuma and Wagatsuma Lab@Kyutech\n",
    "# \n",
    "# Permission is hereby granted, free of charge, to any person obtaining a copy of this software and associated documentation files (the \"Software\"), to deal in the Software without restriction, including without limitation the rights to use, copy, modify, merge, publish, distribute, sublicense, and/or sell copies of the Software, and to permit persons to whom the Software is furnished to do so, subject to the following conditions:\n",
    "# The above copyright notice and this permission notice shall be included in all copies or substantial portions of the Software.\n",
    "# THE SOFTWARE IS PROVIDED \"AS IS\", WITHOUT WARRANTY OF ANY KIND, EXPRESS OR IMPLIED, INCLUDING BUT NOT LIMITED TO THE WARRANTIES OF MERCHANTABILITY, FITNESS FOR A PARTICULAR PURPOSE AND NONINFRINGEMENT. IN NO EVENT SHALL THE AUTHORS OR COPYRIGHT HOLDERS BE LIABLE FOR ANY CLAIM, DAMAGES OR OTHER LIABILITY, WHETHER IN AN ACTION OF CONTRACT, TORT OR OTHERWISE, ARISING FROM, OUT OF OR IN CONNECTION WITH THE SOFTWARE OR THE USE OR OTHER DEALINGS IN THE SOFTWARE. */\n",
    "#\n",
    "# # @Time    : 2020-10-14 \n",
    "# # @Author  : Hiroaki Wagatsuma\n",
    "# # @Site    : https://github.com/hirowgit/2A_python_basic_course\n",
    "# # @IDE     : Python 3.7.7 (default, Mar 10 2020, 15:43:27) [Clang 10.0.0 (clang-1000.11.45.5)] on darwin\n",
    "# # @File    : lec1_step5.py "
   ]
  },
  {
   "cell_type": "code",
   "execution_count": null,
   "metadata": {},
   "outputs": [],
   "source": [
    "# Practice 2-2 (page 21/28)\n",
    "# https://www.slideshare.net/tadahirotaniguchi0624/2-46861654"
   ]
  },
  {
   "cell_type": "code",
   "execution_count": 8,
   "metadata": {},
   "outputs": [],
   "source": [
    "# open list and closed list"
   ]
  },
  {
   "cell_type": "code",
   "execution_count": 10,
   "metadata": {},
   "outputs": [],
   "source": [
    "# first idea\n",
    "OpenList=[1,2,3,4]"
   ]
  },
  {
   "cell_type": "code",
   "execution_count": 5,
   "metadata": {},
   "outputs": [
    {
     "data": {
      "text/plain": [
       "2"
      ]
     },
     "execution_count": 5,
     "metadata": {},
     "output_type": "execute_result"
    }
   ],
   "source": [
    "OpenList[1]"
   ]
  },
  {
   "cell_type": "code",
   "execution_count": 6,
   "metadata": {},
   "outputs": [
    {
     "data": {
      "text/plain": [
       "1"
      ]
     },
     "execution_count": 6,
     "metadata": {},
     "output_type": "execute_result"
    }
   ],
   "source": [
    "OpenList[0]  # note array start from [0] like C, C++"
   ]
  },
  {
   "cell_type": "code",
   "execution_count": 10,
   "metadata": {},
   "outputs": [
    {
     "ename": "SyntaxError",
     "evalue": "':' expected after dictionary key (2408504064.py, line 5)",
     "output_type": "error",
     "traceback": [
      "\u001b[0;36m  Cell \u001b[0;32mIn [10], line 5\u001b[0;36m\u001b[0m\n\u001b[0;31m    'S':'A','B',\u001b[0m\n\u001b[0m              ^\u001b[0m\n\u001b[0;31mSyntaxError\u001b[0m\u001b[0;31m:\u001b[0m ':' expected after dictionary key\n"
     ]
    }
   ],
   "source": [
    "# As you see in Fig 2.9, open list and closed list should be defined at each node. \n",
    "# Therefore those lists require multiple open and closed lists for each node.\n",
    "# It implies dictionary is a good option.\n",
    "TargetGraph={\n",
    "    'S':'A','B',\n",
    "    'A':'S','C','D',\n",
    "    'B':'S','C',\n",
    "    'C':'A','B','D',\n",
    "    'D':'A','C',\n",
    "#    'G':'unknown now\n",
    "}"
   ]
  },
  {
   "cell_type": "code",
   "execution_count": 21,
   "metadata": {},
   "outputs": [],
   "source": [
    "TargetGraph={\n",
    "    'S':['A','B'],\n",
    "    'A':['S','C','D'],\n",
    "    'B':['S','C'],\n",
    "    'C':['A','B','D'],\n",
    "    'D':['A','C']\n",
    "#    'G':'unknown now\n",
    "}"
   ]
  },
  {
   "cell_type": "code",
   "execution_count": 11,
   "metadata": {},
   "outputs": [
    {
     "data": {
      "text/plain": [
       "['A', 'B']"
      ]
     },
     "execution_count": 11,
     "metadata": {},
     "output_type": "execute_result"
    }
   ],
   "source": [
    "TargetGraph['S']"
   ]
  },
  {
   "cell_type": "code",
   "execution_count": 12,
   "metadata": {},
   "outputs": [
    {
     "data": {
      "text/plain": [
       "'A'"
      ]
     },
     "execution_count": 12,
     "metadata": {},
     "output_type": "execute_result"
    }
   ],
   "source": [
    "TargetGraph['S'][0]"
   ]
  },
  {
   "cell_type": "code",
   "execution_count": 13,
   "metadata": {},
   "outputs": [],
   "source": [
    "TargetGraph['S'].append('G')"
   ]
  },
  {
   "cell_type": "code",
   "execution_count": 8,
   "metadata": {},
   "outputs": [
    {
     "name": "stdout",
     "output_type": "stream",
     "text": [
      "{'S': ['A', 'B', 'G'], 'A': ['S', 'C', 'D'], 'B': ['S', 'C'], 'C': ['A', 'B', 'D'], 'D': ['A', 'C']}\n"
     ]
    }
   ],
   "source": [
    "print(TargetGraph)"
   ]
  },
  {
   "cell_type": "code",
   "execution_count": 14,
   "metadata": {},
   "outputs": [
    {
     "name": "stdout",
     "output_type": "stream",
     "text": [
      "{'S': ['A', 'B'], 'A': ['S', 'C', 'D'], 'B': ['S', 'C'], 'C': ['A', 'B', 'D'], 'D': ['A', 'C']}\n"
     ]
    }
   ],
   "source": [
    "# If you want to delete the last item\n",
    "del TargetGraph['S'][-1]\n",
    "print(TargetGraph)"
   ]
  },
  {
   "cell_type": "code",
   "execution_count": 15,
   "metadata": {},
   "outputs": [
    {
     "name": "stdout",
     "output_type": "stream",
     "text": [
      "Empty\n"
     ]
    }
   ],
   "source": [
    "tList=[]\n",
    "if tList: \n",
    "    print('Not Empty')\n",
    "else:\n",
    "    print('Empty') "
   ]
  },
  {
   "cell_type": "code",
   "execution_count": 16,
   "metadata": {},
   "outputs": [
    {
     "name": "stdout",
     "output_type": "stream",
     "text": [
      "[2, 3, 4, 5]\n",
      "[3, 4, 5]\n",
      "[4, 5]\n",
      "[5]\n",
      "[]\n",
      "completed\n"
     ]
    }
   ],
   "source": [
    "tList=[1,2,3,4,5]\n",
    "while tList:\n",
    "    del tList[0]\n",
    "    print(tList)\n",
    "print('completed') "
   ]
  },
  {
   "cell_type": "code",
   "execution_count": 117,
   "metadata": {},
   "outputs": [
    {
     "name": "stdout",
     "output_type": "stream",
     "text": [
      "[['A', 'B'], 'S']\n"
     ]
    }
   ],
   "source": [
    "OpenList=['S']\n",
    "OpenList.insert(0,['A','B']) \n",
    "print(OpenList)"
   ]
  },
  {
   "cell_type": "code",
   "execution_count": 18,
   "metadata": {},
   "outputs": [
    {
     "name": "stdout",
     "output_type": "stream",
     "text": [
      "['S', ['A', 'B']]\n"
     ]
    }
   ],
   "source": [
    "OpenList=['S']\n",
    "OpenList.append(['A','B']) \n",
    "print(OpenList)"
   ]
  },
  {
   "cell_type": "code",
   "execution_count": 20,
   "metadata": {},
   "outputs": [
    {
     "name": "stdout",
     "output_type": "stream",
     "text": [
      "['S', 'A', 'B']\n"
     ]
    }
   ],
   "source": [
    "OpenList=['S']\n",
    "OpenList.extend(['A','B']) \n",
    "print(OpenList)"
   ]
  },
  {
   "cell_type": "code",
   "execution_count": 22,
   "metadata": {},
   "outputs": [
    {
     "name": "stdout",
     "output_type": "stream",
     "text": [
      "['S', 'A', 'B']\n"
     ]
    }
   ],
   "source": [
    "OpenList=['S']\n",
    "OpenList=OpenList+['A','B']\n",
    "print(OpenList)"
   ]
  },
  {
   "cell_type": "code",
   "execution_count": 23,
   "metadata": {},
   "outputs": [
    {
     "name": "stdout",
     "output_type": "stream",
     "text": [
      "['A', 'B', 'S']\n"
     ]
    }
   ],
   "source": [
    "OpenList=['S']\n",
    "OpenList=['A','B']+OpenList\n",
    "print(OpenList)"
   ]
  },
  {
   "cell_type": "code",
   "execution_count": 118,
   "metadata": {},
   "outputs": [
    {
     "data": {
      "text/plain": [
       "['A', 'B']"
      ]
     },
     "execution_count": 118,
     "metadata": {},
     "output_type": "execute_result"
    }
   ],
   "source": [
    "sList=['A','B']\n",
    "[d for d in sList]"
   ]
  },
  {
   "cell_type": "code",
   "execution_count": 25,
   "metadata": {},
   "outputs": [
    {
     "data": {
      "text/plain": [
       "['A', 'B', 'C']"
      ]
     },
     "execution_count": 25,
     "metadata": {},
     "output_type": "execute_result"
    }
   ],
   "source": [
    "sList+['C']"
   ]
  },
  {
   "cell_type": "code",
   "execution_count": 24,
   "metadata": {},
   "outputs": [
    {
     "data": {
      "text/plain": [
       "['AC', 'BC']"
      ]
     },
     "execution_count": 24,
     "metadata": {},
     "output_type": "execute_result"
    }
   ],
   "source": [
    "sList=['A','B']\n",
    "[d+'C' for d in sList]"
   ]
  },
  {
   "cell_type": "code",
   "execution_count": 119,
   "metadata": {},
   "outputs": [
    {
     "data": {
      "text/plain": [
       "['S', 'C', 'D']"
      ]
     },
     "execution_count": 119,
     "metadata": {},
     "output_type": "execute_result"
    }
   ],
   "source": [
    "TargetGraph['A']"
   ]
  },
  {
   "cell_type": "code",
   "execution_count": 6,
   "metadata": {},
   "outputs": [
    {
     "name": "stdout",
     "output_type": "stream",
     "text": [
      "[['A', 'B'], 'S']\n",
      "['A', 'B', 'S']\n"
     ]
    }
   ],
   "source": [
    "OpenList=['S']\n",
    "sList=['A','B']\n",
    "OpenList.insert(0, sList[:]) \n",
    "OpenList=[d for d in OpenList]\n",
    "print(OpenList)\n",
    "OpenList=[item for i in OpenList for item in i]\n",
    "print(OpenList)"
   ]
  },
  {
   "cell_type": "code",
   "execution_count": 13,
   "metadata": {},
   "outputs": [
    {
     "data": {
      "text/plain": [
       "['S', ['A', 'B']]"
      ]
     },
     "execution_count": 13,
     "metadata": {},
     "output_type": "execute_result"
    }
   ],
   "source": [
    "OpenList=['S']\n",
    "sList=['A','B']\n",
    "OpenList.append(sList)\n",
    "OpenList"
   ]
  },
  {
   "cell_type": "code",
   "execution_count": 12,
   "metadata": {},
   "outputs": [
    {
     "data": {
      "text/plain": [
       "[['A', 'B'], 'S']"
      ]
     },
     "execution_count": 12,
     "metadata": {},
     "output_type": "execute_result"
    }
   ],
   "source": [
    "OpenList=['S']\n",
    "sList=['A','B']\n",
    "OpenList.insert(0, sList)\n",
    "OpenList"
   ]
  },
  {
   "cell_type": "code",
   "execution_count": 14,
   "metadata": {},
   "outputs": [
    {
     "data": {
      "text/plain": [
       "['S', 'A', 'B']"
      ]
     },
     "execution_count": 14,
     "metadata": {},
     "output_type": "execute_result"
    }
   ],
   "source": [
    "OpenList=['S']\n",
    "sList=['A','B']\n",
    "OpenList.extend(sList)\n",
    "OpenList"
   ]
  },
  {
   "cell_type": "code",
   "execution_count": 26,
   "metadata": {},
   "outputs": [
    {
     "name": "stdout",
     "output_type": "stream",
     "text": [
      "Yes\n"
     ]
    }
   ],
   "source": [
    "if 'A' in ['A', 'B', 'S']: \n",
    "    print('Yes')"
   ]
  },
  {
   "cell_type": "code",
   "execution_count": 27,
   "metadata": {},
   "outputs": [],
   "source": [
    "if 'A' not in ['A', 'B', 'S']: \n",
    "    print('Yes')"
   ]
  },
  {
   "cell_type": "code",
   "execution_count": 88,
   "metadata": {},
   "outputs": [
    {
     "data": {
      "text/plain": [
       "['A', 'B']"
      ]
     },
     "execution_count": 88,
     "metadata": {},
     "output_type": "execute_result"
    }
   ],
   "source": [
    "tList=[]\n",
    "addList=['A', 'B', 'S']\n",
    "ClosedList=['S']\n",
    "activeNode=[item for item in addList if item not in ClosedList]\n",
    "activeNode"
   ]
  },
  {
   "cell_type": "code",
   "execution_count": 134,
   "metadata": {},
   "outputs": [
    {
     "name": "stdout",
     "output_type": "stream",
     "text": [
      "[['A', 'B'], 'S']\n",
      "['A', 'B']\n",
      "['A', 'B']\n"
     ]
    }
   ],
   "source": [
    "OpenList=['S']\n",
    "state='S'\n",
    "OpenList.insert(0, TargetGraph[state]) \n",
    "print(OpenList)\n",
    "\n",
    "OpenList=['S']\n",
    "ClosedList=['S']\n",
    "state='S'\n",
    "print(TargetGraph[state])\n",
    "activeNodes=[item for item in TargetGraph[state] if item not in ClosedList]\n",
    "OpenList.insert(0, activeNodes) \n",
    "OpenList=[item for i in OpenList for item in i if item not in ClosedList]\n",
    "print(OpenList)"
   ]
  },
  {
   "cell_type": "code",
   "execution_count": 13,
   "metadata": {},
   "outputs": [
    {
     "name": "stdout",
     "output_type": "stream",
     "text": [
      "S\n",
      "A\n",
      "C\n",
      "B\n",
      "D\n",
      "completed\n"
     ]
    }
   ],
   "source": [
    "OpenList=['S']\n",
    "ClosedList=[]\n",
    "while OpenList:\n",
    "    state=OpenList[0]\n",
    "    del OpenList[0]\n",
    "    ClosedList.append(state)\n",
    "    print(state)\n",
    "    if state=='G':\n",
    "        break\n",
    " #   activeNodes=TargetGraph[state]\n",
    "    activeNodes=[item for item in TargetGraph[state] if item not in ClosedList]\n",
    "    OpenList.insert(0, activeNodes)\n",
    "#    OpenList=[item for i in OpenList for item in i]\n",
    "    OpenList=[item for i in OpenList for item in i if item not in ClosedList]\n",
    "print('completed') "
   ]
  },
  {
   "cell_type": "code",
   "execution_count": 59,
   "metadata": {
    "scrolled": true
   },
   "outputs": [
    {
     "name": "stdout",
     "output_type": "stream",
     "text": [
      "S\n",
      "B\n",
      "A\n",
      "C\n",
      "D\n",
      "C\n",
      "D\n",
      "completed\n"
     ]
    }
   ],
   "source": [
    "OpenList=['S']\n",
    "ClosedList=[]\n",
    "while OpenList:\n",
    "    state=OpenList[0]\n",
    "    del OpenList[0]\n",
    "    ClosedList.extend(state)\n",
    "    print(state)\n",
    "    if state=='G':\n",
    "        break\n",
    " #   activeNodes=TargetGraph[state]\n",
    "    activeNodes=list(set(TargetGraph[state]) -set(ClosedList))\n",
    "    OpenList.extend(activeNodes)\n",
    "#    OpenList=[item for i in OpenList for item in i]\n",
    " #   OpenList=set(OpenList) -set(ClosedList)\n",
    "#    OpenList=[item for i in OpenList for item in i if item not in ClosedList]\n",
    "#print('completed') "
   ]
  },
  {
   "cell_type": "code",
   "execution_count": 7,
   "metadata": {},
   "outputs": [
    {
     "name": "stdout",
     "output_type": "stream",
     "text": [
      "['state', 'S']\n",
      "['OpenList(1)', []]\n",
      "['ClosedList', ['S']]\n",
      "['OpenList(2)', ['A', 'B']]\n",
      "\n",
      "['state', 'B']\n",
      "['OpenList(1)', ['A']]\n",
      "['ClosedList', ['S', 'B']]\n",
      "['OpenList(2)', ['A', 'C']]\n",
      "\n",
      "['state', 'C']\n",
      "['OpenList(1)', ['A']]\n",
      "['ClosedList', ['S', 'C', 'B']]\n",
      "['OpenList(2)', ['A', 'D']]\n",
      "\n",
      "['state', 'D']\n",
      "['OpenList(1)', ['A']]\n",
      "['ClosedList', ['S', 'C', 'D', 'B']]\n",
      "['OpenList(2)', ['A']]\n",
      "\n",
      "['state', 'A']\n",
      "['OpenList(1)', []]\n",
      "['ClosedList', ['B', 'S', 'D', 'C', 'A']]\n",
      "['OpenList(2)', []]\n",
      "\n",
      "Completed\n"
     ]
    }
   ],
   "source": [
    "# completed version of Depth-first search\n",
    "\n",
    "OpenList=['S']\n",
    "ClosedList=[]\n",
    "while OpenList:\n",
    "    state=OpenList[-1]\n",
    "    del OpenList[-1]\n",
    "    ClosedList.extend(state)\n",
    "    ClosedList=list(set(ClosedList))\n",
    "    print(['state',state])\n",
    "    print(['OpenList(1)',OpenList])\n",
    "    print(['ClosedList',ClosedList])\n",
    "    if state=='G':\n",
    "        break\n",
    "    tmpSt=set(TargetGraph[state]) -set(ClosedList)\n",
    "    activeNodes=list(tmpSt -set(OpenList))    \n",
    "    OpenList.extend(activeNodes)\n",
    "  #  OpenList=list(set(OpenList))\n",
    "    print(['OpenList(2)',OpenList])\n",
    "    print('')\n",
    "print('Completed') "
   ]
  },
  {
   "cell_type": "code",
   "execution_count": 35,
   "metadata": {},
   "outputs": [
    {
     "name": "stdout",
     "output_type": "stream",
     "text": [
      "['state', 'S']\n",
      "['OpenList(1)', []]\n",
      "['ClosedList', ['S']]\n",
      "['OpenList(2)', ['A', 'B']]\n",
      "\n",
      "['state', 'B']\n",
      "['OpenList(1)', ['A']]\n",
      "['ClosedList', ['B', 'S']]\n",
      "['OpenList(2)', ['C', 'A']]\n",
      "\n",
      "['state', 'A']\n",
      "['OpenList(1)', ['C']]\n",
      "['ClosedList', ['A', 'B', 'S']]\n",
      "['OpenList(2)', ['D', 'C']]\n",
      "\n",
      "['state', 'C']\n",
      "['OpenList(1)', ['D']]\n",
      "['ClosedList', ['A', 'C', 'B', 'S']]\n",
      "['OpenList(2)', ['D']]\n",
      "\n",
      "['state', 'D']\n",
      "['OpenList(1)', []]\n",
      "['ClosedList', ['D', 'S', 'B', 'C', 'A']]\n",
      "['OpenList(2)', []]\n",
      "\n",
      "Completed\n"
     ]
    }
   ],
   "source": [
    "# completed version of Depth-first search\n",
    "\n",
    "OpenList=['S']\n",
    "ClosedList=[]\n",
    "while OpenList:\n",
    "    state=OpenList[0]\n",
    "    del OpenList[0]\n",
    "    ClosedList.extend(state)\n",
    "    ClosedList=list(set(ClosedList))\n",
    "    print(['state',state])\n",
    "    print(['OpenList(1)',OpenList])\n",
    "    print(['ClosedList',ClosedList])\n",
    "    if state=='G':\n",
    "        break\n",
    "    tmpSt=set(TargetGraph[state]) -set(ClosedList)\n",
    "    activeNodes=list(tmpSt -set(OpenList))    \n",
    "    OpenList=activeNodes+OpenList\n",
    "  #  OpenList=list(set(OpenList))\n",
    "    print(['OpenList(2)',OpenList])\n",
    "    print('')\n",
    "print('Completed') "
   ]
  },
  {
   "cell_type": "code",
   "execution_count": 13,
   "metadata": {},
   "outputs": [
    {
     "name": "stdout",
     "output_type": "stream",
     "text": [
      "['state', 'S']\n",
      "['OpenList(1)', []]\n",
      "['ClosedList', ['S']]\n",
      "['OpenList(2)', ['A', 'B']]\n",
      "\n",
      "['state', 'A']\n",
      "['OpenList(1)', ['B']]\n",
      "['ClosedList', ['A', 'S']]\n",
      "['OpenList(2)', ['B', 'D', 'C']]\n",
      "\n",
      "['state', 'B']\n",
      "['OpenList(1)', ['D', 'C']]\n",
      "['ClosedList', ['A', 'B', 'S']]\n",
      "['OpenList(2)', ['D', 'C']]\n",
      "\n",
      "['state', 'D']\n",
      "['OpenList(1)', ['C']]\n",
      "['ClosedList', ['D', 'A', 'B', 'S']]\n",
      "['OpenList(2)', ['C']]\n",
      "\n",
      "['state', 'C']\n",
      "['OpenList(1)', []]\n",
      "['ClosedList', ['S', 'A', 'D', 'B', 'C']]\n",
      "['OpenList(2)', []]\n",
      "\n",
      "Completed\n"
     ]
    }
   ],
   "source": [
    "# completed version of Depth-first search\n",
    "\n",
    "OpenList=['S']\n",
    "ClosedList=[]\n",
    "while OpenList:\n",
    "    state=OpenList[0]\n",
    "    del OpenList[0]\n",
    "    ClosedList=[state]+ClosedList\n",
    "    ClosedList=list(set(ClosedList))\n",
    "    print(['state',state])\n",
    "    print(['OpenList(1)',OpenList])\n",
    "    print(['ClosedList',ClosedList])\n",
    "    if state=='G':\n",
    "        break\n",
    "    tmpSt=set(TargetGraph[state]) -set(ClosedList)\n",
    "    activeNodes=list(tmpSt -set(OpenList))    \n",
    "    OpenList.extend(activeNodes)\n",
    "  #  OpenList=list(set(OpenList))\n",
    "    print(['OpenList(2)',OpenList])\n",
    "    print('')\n",
    "print('Completed') "
   ]
  },
  {
   "cell_type": "code",
   "execution_count": 14,
   "metadata": {},
   "outputs": [
    {
     "name": "stdout",
     "output_type": "stream",
     "text": [
      "['state', 'S']\n",
      "['OpenList(1)', []]\n",
      "['ClosedList', ['S']]\n",
      "['OpenList(2)', ['A', 'B']]\n",
      "\n",
      "['state', 'A']\n",
      "['OpenList(1)', ['B']]\n",
      "['ClosedList', ['A', 'S']]\n",
      "['OpenList(2)', ['B', 'D', 'C']]\n",
      "\n",
      "['state', 'B']\n",
      "['OpenList(1)', ['D', 'C']]\n",
      "['ClosedList', ['A', 'B', 'S']]\n",
      "['OpenList(2)', ['D', 'C']]\n",
      "\n",
      "['state', 'D']\n",
      "['OpenList(1)', ['C']]\n",
      "['ClosedList', ['D', 'A', 'B', 'S']]\n",
      "['OpenList(2)', ['C']]\n",
      "\n",
      "['state', 'C']\n",
      "['OpenList(1)', []]\n",
      "['ClosedList', ['S', 'A', 'D', 'B', 'C']]\n",
      "['OpenList(2)', []]\n",
      "\n",
      "Completed\n"
     ]
    }
   ],
   "source": [
    "# completed version of Breadth-first search\n",
    "\n",
    "OpenList=['S']\n",
    "ClosedList=[]\n",
    "while OpenList:\n",
    "    state=OpenList[0]\n",
    "    del OpenList[0]\n",
    "    ClosedList=ClosedList+[state]\n",
    "    ClosedList=list(set(ClosedList))\n",
    "    print(['state',state])\n",
    "    print(['OpenList(1)',OpenList])\n",
    "    print(['ClosedList',ClosedList])\n",
    "    if state=='G':\n",
    "        break\n",
    "    tmpSt=set(TargetGraph[state]) -set(ClosedList)\n",
    "    activeNodes=list(tmpSt -set(OpenList))    \n",
    "    OpenList.extend(activeNodes)\n",
    "  #  OpenList=list(set(OpenList))\n",
    "    print(['OpenList(2)',OpenList])\n",
    "    print('')\n",
    "print('Completed') "
   ]
  },
  {
   "cell_type": "code",
   "execution_count": 16,
   "metadata": {},
   "outputs": [
    {
     "data": {
      "text/plain": [
       "[]"
      ]
     },
     "execution_count": 16,
     "metadata": {},
     "output_type": "execute_result"
    }
   ],
   "source": [
    "activeNodes"
   ]
  },
  {
   "cell_type": "code",
   "execution_count": 15,
   "metadata": {},
   "outputs": [
    {
     "name": "stdout",
     "output_type": "stream",
     "text": [
      "['state', 'S']\n",
      "['OpenList(1)', []]\n",
      "['ClosedList', ['S']]\n",
      "['OpenList(2)', ['A', 'B']]\n",
      "\n",
      "['state', 'A']\n",
      "['OpenList(1)', ['B']]\n",
      "['ClosedList', ['A', 'S']]\n",
      "['OpenList(2)', ['B', 'D', 'C']]\n",
      "\n",
      "['state', 'B']\n",
      "['OpenList(1)', ['D', 'C']]\n",
      "['ClosedList', ['A', 'B', 'S']]\n",
      "['OpenList(2)', ['D', 'C']]\n",
      "\n",
      "['state', 'D']\n",
      "['OpenList(1)', ['C']]\n",
      "['ClosedList', ['D', 'A', 'B', 'S']]\n",
      "['OpenList(2)', ['C']]\n",
      "\n",
      "['state', 'C']\n",
      "['OpenList(1)', []]\n",
      "['ClosedList', ['S', 'A', 'D', 'B', 'C']]\n",
      "['OpenList(2)', []]\n",
      "\n",
      "Completed\n"
     ]
    }
   ],
   "source": [
    "# completed version of Breadth-first search\n",
    "\n",
    "OpenList=['S']\n",
    "ClosedList=[]\n",
    "while OpenList:\n",
    "    state=OpenList[0]\n",
    "    del OpenList[0]\n",
    "    ClosedList.extend(state)\n",
    "    ClosedList=list(set(ClosedList))\n",
    "    print(['state',state])\n",
    "    print(['OpenList(1)',OpenList])\n",
    "    print(['ClosedList',ClosedList])\n",
    "    if state=='G':\n",
    "        break\n",
    "    tmpSt=set(TargetGraph[state]) -set(ClosedList)\n",
    "    activeNodes=list(tmpSt -set(OpenList))    \n",
    "    OpenList.extend(activeNodes)\n",
    "  #  OpenList=list(set(OpenList))\n",
    "    print(['OpenList(2)',OpenList])\n",
    "    print('')\n",
    "print('Completed') "
   ]
  },
  {
   "cell_type": "code",
   "execution_count": 138,
   "metadata": {},
   "outputs": [
    {
     "data": {
      "text/plain": [
       "['S', 'B', 'A', 'C']"
      ]
     },
     "execution_count": 138,
     "metadata": {},
     "output_type": "execute_result"
    }
   ],
   "source": [
    "tmpL= ['D', 'C',  'A', 'S', 'C', 'A', 'B', 'A', 'B']\n",
    "tmpL= [ 'A', 'S', 'C', 'A', 'B', 'B', 'A']\n",
    "list(set(tmpL))"
   ]
  },
  {
   "cell_type": "code",
   "execution_count": 120,
   "metadata": {},
   "outputs": [
    {
     "data": {
      "text/plain": [
       "{'A', 'B', 'C', 'D', 'S'}"
      ]
     },
     "execution_count": 120,
     "metadata": {},
     "output_type": "execute_result"
    }
   ],
   "source": [
    "ClosedList=['S', 'B', 'A', 'C', 'D', 'C', 'D']\n",
    "set(ClosedList)"
   ]
  },
  {
   "cell_type": "code",
   "execution_count": 116,
   "metadata": {},
   "outputs": [
    {
     "name": "stdout",
     "output_type": "stream",
     "text": [
      "S\n",
      "A\n",
      "C\n",
      "B\n",
      "D\n",
      "D\n",
      "B\n",
      "completed\n"
     ]
    }
   ],
   "source": [
    "OpenList=['S']\n",
    "ClosedList=[]\n",
    "while OpenList:\n",
    "    state=OpenList[-1]\n",
    "    del OpenList[-1]\n",
    "    ClosedList.extend(state)\n",
    "    print(state)\n",
    "    if state=='G':\n",
    "        break\n",
    " #   activeNodes=TargetGraph[state]\n",
    "    activeNodes=list(set(TargetGraph[state]) -set(ClosedList))\n",
    "    #print(state)\n",
    "    OpenList.extend(activeNodes)\n",
    "#    OpenList=[item for i in OpenList for item in i]\n",
    " #   OpenList=set(OpenList) -set(ClosedList)\n",
    "#    OpenList=[item for i in OpenList for item in i if item not in ClosedList]\n",
    "print('completed') "
   ]
  },
  {
   "cell_type": "code",
   "execution_count": 114,
   "metadata": {},
   "outputs": [
    {
     "name": "stdout",
     "output_type": "stream",
     "text": [
      "S\n",
      "['B', 'A']\n",
      "[]\n",
      "None\n"
     ]
    }
   ],
   "source": [
    "OpenList=['S']\n",
    "ClosedList=[]\n",
    "state=OpenList[0]\n",
    "del OpenList[0]\n",
    "ClosedList.extend(state)\n",
    "print(state)\n",
    "activeNodes=list(set(TargetGraph[state]) -set(ClosedList))\n",
    "print(activeNodes)\n",
    "print(OpenList)\n",
    "OpenList=activeNodes.extend(OpenList)\n",
    "print(OpenList)"
   ]
  },
  {
   "cell_type": "code",
   "execution_count": 103,
   "metadata": {},
   "outputs": [
    {
     "name": "stdout",
     "output_type": "stream",
     "text": [
      "S\n",
      "activeNodes\n",
      "['B', 'A']\n",
      "OpenList\n",
      "[]\n",
      "ClosedList\n",
      "['S']\n",
      "OpenList\n",
      "['B', 'A']\n"
     ]
    }
   ],
   "source": [
    "OpenList=['S']\n",
    "ClosedList=[]\n",
    "state=OpenList[0]\n",
    "del OpenList[0]\n",
    "ClosedList.extend(state)\n",
    "print(state)\n",
    "activeNodes=list(set(TargetGraph[state]) -set(ClosedList))\n",
    "\n",
    "print('activeNodes')\n",
    "print(activeNodes)\n",
    "print('OpenList')\n",
    "print(OpenList)\n",
    "print('ClosedList')\n",
    "print(ClosedList)\n",
    "OpenList.extend(activeNodes)\n",
    "print('OpenList')\n",
    "print(OpenList)"
   ]
  },
  {
   "cell_type": "code",
   "execution_count": 109,
   "metadata": {},
   "outputs": [
    {
     "name": "stdout",
     "output_type": "stream",
     "text": [
      "D\n",
      "activeNodes\n",
      "[]\n",
      "OpenList\n",
      "[]\n",
      "ClosedList\n",
      "['S', 'B', 'A', 'C', 'D', 'C', 'D']\n",
      "OpenList\n",
      "[]\n"
     ]
    }
   ],
   "source": [
    "state=OpenList[0]\n",
    "del OpenList[0]\n",
    "ClosedList.extend(state)\n",
    "print(state)\n",
    "activeNodes=list(set(TargetGraph[state]) -set(ClosedList))\n",
    "\n",
    "print('activeNodes')\n",
    "print(activeNodes)\n",
    "print('OpenList')\n",
    "print(OpenList)\n",
    "print('ClosedList')\n",
    "print(ClosedList)\n",
    "OpenList.extend(activeNodes)\n",
    "print('OpenList')\n",
    "print(OpenList)"
   ]
  },
  {
   "cell_type": "code",
   "execution_count": 88,
   "metadata": {},
   "outputs": [
    {
     "name": "stdout",
     "output_type": "stream",
     "text": [
      "['B', 'A']\n",
      "[]\n",
      "['B', 'A']\n",
      "[]\n",
      "None\n",
      "[]\n",
      "['B', 'A']\n"
     ]
    }
   ],
   "source": [
    "activeNodes=['B', 'A']\n",
    "print(activeNodes)\n",
    "OpenList=[]\n",
    "print(OpenList)\n",
    "activeNodes.extend(OpenList)\n",
    "print(activeNodes)\n",
    "print(OpenList)\n",
    "print(activeNodes.extend(OpenList))\n",
    "#OpenList=activeNodes.extend(OpenList)\n",
    "activeNodes.extend(OpenList)\n",
    "print(OpenList)\n",
    "print(activeNodes)\n",
    "activeNodes.extend(OpenList)"
   ]
  },
  {
   "cell_type": "code",
   "execution_count": 66,
   "metadata": {},
   "outputs": [
    {
     "ename": "TypeError",
     "evalue": "'NoneType' object is not subscriptable",
     "output_type": "error",
     "traceback": [
      "\u001b[0;31m---------------------------------------------------------------------------\u001b[0m",
      "\u001b[0;31mTypeError\u001b[0m                                 Traceback (most recent call last)",
      "\u001b[0;32m/var/folders/mg/w5t8lkhc8xj79f001s7kzpfh0000gp/T/ipykernel_45436/4057407122.py\u001b[0m in \u001b[0;36m<module>\u001b[0;34m\u001b[0m\n\u001b[0;32m----> 1\u001b[0;31m \u001b[0mstate\u001b[0m\u001b[0;34m=\u001b[0m\u001b[0mOpenList\u001b[0m\u001b[0;34m[\u001b[0m\u001b[0;36m0\u001b[0m\u001b[0;34m]\u001b[0m\u001b[0;34m\u001b[0m\u001b[0;34m\u001b[0m\u001b[0m\n\u001b[0m\u001b[1;32m      2\u001b[0m \u001b[0;32mdel\u001b[0m \u001b[0mOpenList\u001b[0m\u001b[0;34m[\u001b[0m\u001b[0;36m0\u001b[0m\u001b[0;34m]\u001b[0m\u001b[0;34m\u001b[0m\u001b[0;34m\u001b[0m\u001b[0m\n\u001b[1;32m      3\u001b[0m \u001b[0mClosedList\u001b[0m\u001b[0;34m.\u001b[0m\u001b[0mextend\u001b[0m\u001b[0;34m(\u001b[0m\u001b[0mstate\u001b[0m\u001b[0;34m)\u001b[0m\u001b[0;34m\u001b[0m\u001b[0;34m\u001b[0m\u001b[0m\n\u001b[1;32m      4\u001b[0m \u001b[0mprint\u001b[0m\u001b[0;34m(\u001b[0m\u001b[0mstate\u001b[0m\u001b[0;34m)\u001b[0m\u001b[0;34m\u001b[0m\u001b[0;34m\u001b[0m\u001b[0m\n\u001b[1;32m      5\u001b[0m \u001b[0mactiveNodes\u001b[0m\u001b[0;34m=\u001b[0m\u001b[0mlist\u001b[0m\u001b[0;34m(\u001b[0m\u001b[0mset\u001b[0m\u001b[0;34m(\u001b[0m\u001b[0mTargetGraph\u001b[0m\u001b[0;34m[\u001b[0m\u001b[0mstate\u001b[0m\u001b[0;34m]\u001b[0m\u001b[0;34m)\u001b[0m \u001b[0;34m-\u001b[0m\u001b[0mset\u001b[0m\u001b[0;34m(\u001b[0m\u001b[0mClosedList\u001b[0m\u001b[0;34m)\u001b[0m\u001b[0;34m)\u001b[0m\u001b[0;34m\u001b[0m\u001b[0;34m\u001b[0m\u001b[0m\n",
      "\u001b[0;31mTypeError\u001b[0m: 'NoneType' object is not subscriptable"
     ]
    }
   ],
   "source": [
    "state=OpenList[0]\n",
    "del OpenList[0]\n",
    "ClosedList.extend(state)\n",
    "print(state)\n",
    "activeNodes=list(set(TargetGraph[state]) -set(ClosedList))\n",
    "print(activeNodes)\n",
    "#OpenList.extend(activeNodes)\n",
    "OpenList=activeNodes.extend(OpenList)\n",
    "OpenList\n"
   ]
  },
  {
   "cell_type": "code",
   "execution_count": 57,
   "metadata": {},
   "outputs": [
    {
     "data": {
      "text/plain": [
       "{'C'}"
      ]
     },
     "execution_count": 57,
     "metadata": {},
     "output_type": "execute_result"
    }
   ],
   "source": [
    "OpenList\n",
    "activeNodes"
   ]
  },
  {
   "cell_type": "code",
   "execution_count": 51,
   "metadata": {},
   "outputs": [],
   "source": [
    "OpenList=['S']\n",
    "del OpenList[0]\n",
    "activeNodes\n",
    "OpenList=activeNodes.extend(OpenList)"
   ]
  },
  {
   "cell_type": "code",
   "execution_count": 44,
   "metadata": {},
   "outputs": [
    {
     "ename": "TypeError",
     "evalue": "'NoneType' object is not iterable",
     "output_type": "error",
     "traceback": [
      "\u001b[0;31m---------------------------------------------------------------------------\u001b[0m",
      "\u001b[0;31mTypeError\u001b[0m                                 Traceback (most recent call last)",
      "\u001b[0;32m/var/folders/mg/w5t8lkhc8xj79f001s7kzpfh0000gp/T/ipykernel_45436/4272406267.py\u001b[0m in \u001b[0;36m<module>\u001b[0;34m\u001b[0m\n\u001b[1;32m      1\u001b[0m \u001b[0mactiveNodes\u001b[0m\u001b[0;34m=\u001b[0m\u001b[0mlist\u001b[0m\u001b[0;34m(\u001b[0m\u001b[0mset\u001b[0m\u001b[0;34m(\u001b[0m\u001b[0mTargetGraph\u001b[0m\u001b[0;34m[\u001b[0m\u001b[0mstate\u001b[0m\u001b[0;34m]\u001b[0m\u001b[0;34m)\u001b[0m \u001b[0;34m-\u001b[0m\u001b[0mset\u001b[0m\u001b[0;34m(\u001b[0m\u001b[0mClosedList\u001b[0m\u001b[0;34m)\u001b[0m\u001b[0;34m)\u001b[0m\u001b[0;34m\u001b[0m\u001b[0;34m\u001b[0m\u001b[0m\n\u001b[1;32m      2\u001b[0m \u001b[0mactiveNodes\u001b[0m\u001b[0;34m\u001b[0m\u001b[0;34m\u001b[0m\u001b[0m\n\u001b[0;32m----> 3\u001b[0;31m \u001b[0mOpenList\u001b[0m\u001b[0;34m=\u001b[0m\u001b[0mactiveNodes\u001b[0m\u001b[0;34m.\u001b[0m\u001b[0mextend\u001b[0m\u001b[0;34m(\u001b[0m\u001b[0mOpenList\u001b[0m\u001b[0;34m)\u001b[0m\u001b[0;34m\u001b[0m\u001b[0;34m\u001b[0m\u001b[0m\n\u001b[0m\u001b[1;32m      4\u001b[0m \u001b[0mOpenList\u001b[0m\u001b[0;34m\u001b[0m\u001b[0;34m\u001b[0m\u001b[0m\n",
      "\u001b[0;31mTypeError\u001b[0m: 'NoneType' object is not iterable"
     ]
    }
   ],
   "source": [
    "activeNodes=list(set(TargetGraph[state]) -set(ClosedList))\n",
    "activeNodes\n",
    "OpenList=activeNodes.extend(OpenList)\n",
    "OpenList\n"
   ]
  },
  {
   "cell_type": "code",
   "execution_count": 25,
   "metadata": {},
   "outputs": [
    {
     "data": {
      "text/plain": [
       "[]"
      ]
     },
     "execution_count": 25,
     "metadata": {},
     "output_type": "execute_result"
    }
   ],
   "source": [
    "OpenList=['S']\n",
    "ClosedList=[]\n",
    "state=OpenList[0]\n",
    "del OpenList[0]\n",
    "ClosedList.extend(state)\n",
    "ClosedList\n",
    "TargetGraph[state]\n",
    "OpenList"
   ]
  },
  {
   "cell_type": "code",
   "execution_count": 29,
   "metadata": {},
   "outputs": [
    {
     "data": {
      "text/plain": [
       "{'S'}"
      ]
     },
     "execution_count": 29,
     "metadata": {},
     "output_type": "execute_result"
    }
   ],
   "source": [
    "set(['S','A','B'])-set(['C','A','B'])"
   ]
  },
  {
   "cell_type": "code",
   "execution_count": 28,
   "metadata": {},
   "outputs": [
    {
     "data": {
      "text/plain": [
       "{1, 3, 5}"
      ]
     },
     "execution_count": 28,
     "metadata": {},
     "output_type": "execute_result"
    }
   ],
   "source": [
    "set([1,2,3,4,5])-set([2,4])"
   ]
  },
  {
   "cell_type": "code",
   "execution_count": 136,
   "metadata": {},
   "outputs": [],
   "source": [
    "TargetGraph={\n",
    "    'A':['B','C'],\n",
    "    'B':['A','D','E'],\n",
    "    'C':['A','F','G','H'],\n",
    "    'D':['B','I'],\n",
    "    'E':['B'],\n",
    "    'F':['C'],\n",
    "    'G':['C','J'],\n",
    "    'H':['C'],\n",
    "    'I':['D'],\n",
    "    'J':['G']\n",
    "#    'G':'unknown now\n",
    "}"
   ]
  },
  {
   "cell_type": "code",
   "execution_count": 143,
   "metadata": {},
   "outputs": [
    {
     "name": "stdout",
     "output_type": "stream",
     "text": [
      "1: A\n",
      "2: B\n",
      "3: D\n",
      "4: I\n",
      "5: E\n",
      "6: C\n",
      "7: F\n",
      "8: G\n",
      "9: J\n",
      "10: H\n",
      "completed\n"
     ]
    }
   ],
   "source": [
    "OpenList=['A']\n",
    "ClosedList=[]\n",
    "k=1\n",
    "while OpenList:\n",
    "    state=OpenList[0]\n",
    "    del OpenList[0]\n",
    "    ClosedList.append(state)\n",
    "    print(str(k)+\": \"+state)\n",
    "    if state=='Goal':\n",
    "        break\n",
    " #   activeNodes=TargetGraph[state]\n",
    "    activeNodes=[item for item in TargetGraph[state] if item not in ClosedList]\n",
    "    OpenList.insert(0, activeNodes)\n",
    "#    OpenList=[item for i in OpenList for item in i]\n",
    "    OpenList=[item for i in OpenList for item in i if item not in ClosedList]\n",
    "    k=k+1\n",
    "print('completed') "
   ]
  },
  {
   "cell_type": "code",
   "execution_count": 140,
   "metadata": {},
   "outputs": [
    {
     "data": {
      "text/plain": [
       "[]"
      ]
     },
     "execution_count": 140,
     "metadata": {},
     "output_type": "execute_result"
    }
   ],
   "source": [
    "activeNodes=[item for item in TargetGraph[state] if item not in ClosedList]\n",
    "activeNodes"
   ]
  },
  {
   "cell_type": "code",
   "execution_count": 144,
   "metadata": {},
   "outputs": [
    {
     "name": "stdout",
     "output_type": "stream",
     "text": [
      "activeNodes ['A', 'B', 'D', 'E']\n",
      "OpenList [['A', 'B', 'D', 'E'], 'A']\n"
     ]
    }
   ],
   "source": [
    "TargetG=['A','B','C','D','E','F']\n",
    "ClosedList=['C','F']\n",
    "OpenList=['A']\n",
    "activeNodes=[item for item in TargetG if item not in ClosedList]\n",
    "activeNodes\n",
    "print('activeNodes',activeNodes) \n",
    "OpenList.insert(0, activeNodes)\n",
    "print('OpenList',OpenList) "
   ]
  },
  {
   "cell_type": "code",
   "execution_count": 145,
   "metadata": {},
   "outputs": [
    {
     "name": "stdout",
     "output_type": "stream",
     "text": [
      "activeNodes ['A', 'B', 'D', 'E']\n",
      "OpenList ['A', ['A', 'B', 'D', 'E']]\n"
     ]
    }
   ],
   "source": [
    "TargetG=['A','B','C','D','E','F']\n",
    "ClosedList=['C','F']\n",
    "OpenList=['A']\n",
    "activeNodes=[item for item in TargetG if item not in ClosedList]\n",
    "activeNodes\n",
    "print('activeNodes',activeNodes) \n",
    "OpenList.append(activeNodes)\n",
    "print('OpenList',OpenList) "
   ]
  },
  {
   "cell_type": "code",
   "execution_count": 146,
   "metadata": {},
   "outputs": [
    {
     "name": "stdout",
     "output_type": "stream",
     "text": [
      "activeNodes ['A', 'B', 'D', 'E']\n",
      "OpenList ['A', 'A', 'B', 'D', 'E']\n"
     ]
    }
   ],
   "source": [
    "TargetG=['A','B','C','D','E','F']\n",
    "ClosedList=['C','F']\n",
    "OpenList=['A']\n",
    "activeNodes=[item for item in TargetG if item not in ClosedList]\n",
    "activeNodes\n",
    "print('activeNodes',activeNodes) \n",
    "OpenList.extend(activeNodes)\n",
    "print('OpenList',OpenList) "
   ]
  },
  {
   "cell_type": "code",
   "execution_count": 148,
   "metadata": {},
   "outputs": [
    {
     "name": "stdout",
     "output_type": "stream",
     "text": [
      "activeNodes ['A', 'B', 'D', 'E']\n"
     ]
    }
   ],
   "source": [
    "TargetG=['A','B','C','D','E','F']\n",
    "ClosedList=['C','F']\n",
    "OpenList=['A']\n",
    "activeNodes=[item for item in TargetG if item not in ClosedList]\n",
    "print('activeNodes',activeNodes) \n"
   ]
  },
  {
   "cell_type": "code",
   "execution_count": 149,
   "metadata": {},
   "outputs": [
    {
     "name": "stdout",
     "output_type": "stream",
     "text": [
      "activeNodes ['D', 'B', 'A', 'E']\n"
     ]
    }
   ],
   "source": [
    "TargetG=['A','B','C','D','E','F']\n",
    "ClosedList=['C','F']\n",
    "OpenList=['A']\n",
    "activeNodes=list(set(TargetG)-set(ClosedList))\n",
    "print('activeNodes',activeNodes) "
   ]
  },
  {
   "cell_type": "code",
   "execution_count": 154,
   "metadata": {},
   "outputs": [
    {
     "name": "stdout",
     "output_type": "stream",
     "text": [
      "Elapsed time is 0.000015 seconds.\n"
     ]
    }
   ],
   "source": [
    "import numpy as np\n",
    "from pytictoc import TicToc \n",
    "t = TicToc() #create instance of class \n",
    "t.tic() #Start timer \n",
    "t.toc() #Time elapsed since t.tic() Elapsed time is 2.612231 seconds.\n"
   ]
  },
  {
   "cell_type": "code",
   "execution_count": 167,
   "metadata": {},
   "outputs": [
    {
     "name": "stdout",
     "output_type": "stream",
     "text": [
      "Elapsed time is 45.894154 seconds.\n"
     ]
    }
   ],
   "source": [
    "t = TicToc() #create instance of class \n",
    "loopN=100\n",
    "NofD_target=10000\n",
    "NofD_clist=5000\n",
    "t.tic() #Start timer \n",
    "for i in range(0,loopN):\n",
    "    rD_target=np.random.randint(0,NofD_target,size=NofD_target)\n",
    "    rD_clist=np.random.randint(0,NofD_target,size=NofD_clist)\n",
    "    rDL_target=rD_target.tolist()\n",
    "    rDL_clist=rD_clist.tolist()\n",
    "    activeNodes=[item for item in rDL_target if item not in rDL_clist]\n",
    "\n",
    "    # print(rDL_target)\n",
    "    # print(rDL_clist)\n",
    "    \n",
    "t.toc()"
   ]
  },
  {
   "cell_type": "code",
   "execution_count": 168,
   "metadata": {},
   "outputs": [
    {
     "name": "stdout",
     "output_type": "stream",
     "text": [
      "Elapsed time is 0.214059 seconds.\n"
     ]
    }
   ],
   "source": [
    "t = TicToc() #create instance of class \n",
    "loopN=100\n",
    "NofD_target=10000\n",
    "NofD_clist=5000\n",
    "t.tic() #Start timer \n",
    "for i in range(0,loopN):\n",
    "    rD_target=np.random.randint(0,NofD_target,size=NofD_target)\n",
    "    rD_clist=np.random.randint(0,NofD_target,size=NofD_clist)\n",
    "    rDL_target=rD_target.tolist()\n",
    "    rDL_clist=rD_clist.tolist()\n",
    "    activeNodes=list(set(rD_target)-set(rD_clist))\n",
    "    # print(rDL_target)\n",
    "    # print(rDL_clist)\n",
    "    \n",
    "t.toc()"
   ]
  },
  {
   "cell_type": "code",
   "execution_count": 171,
   "metadata": {},
   "outputs": [
    {
     "name": "stdout",
     "output_type": "stream",
     "text": [
      "[[0.  0.5 1.  1.5 2. ]\n",
      " [2.5 3.  3.5 4.  4.5]]\n"
     ]
    }
   ],
   "source": [
    "sD = np.arange(10).reshape(2, 5)\n",
    "sD = sD/2\n",
    "print(sD)\n",
    "np.savetxt('csv_data_d.csv', sD, delimiter=',', fmt='%d') \n",
    "np.savetxt('csv_data_f.csv', sD, delimiter=',', fmt='%.5f')\n"
   ]
  }
 ],
 "metadata": {
  "kernelspec": {
   "display_name": "Python 3 (ipykernel)",
   "language": "python",
   "name": "python3"
  },
  "language_info": {
   "codemirror_mode": {
    "name": "ipython",
    "version": 3
   },
   "file_extension": ".py",
   "mimetype": "text/x-python",
   "name": "python",
   "nbconvert_exporter": "python",
   "pygments_lexer": "ipython3",
   "version": "3.9.14"
  }
 },
 "nbformat": 4,
 "nbformat_minor": 2
}
