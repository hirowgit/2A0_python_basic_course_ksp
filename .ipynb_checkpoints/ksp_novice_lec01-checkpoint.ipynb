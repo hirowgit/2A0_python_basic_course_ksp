{
 "cells": [
  {
   "cell_type": "code",
   "execution_count": null,
   "id": "add04c2c",
   "metadata": {},
   "outputs": [],
   "source": [
    "## Python basics for novice data scientists, supported by Wagatsuma Lab@Kyutech \n",
    "#\n",
    "# The MIT License (MIT): Copyright (c) 2020 Hiroaki Wagatsuma and Wagatsuma Lab@Kyutech\n",
    "# \n",
    "# Permission is hereby granted, free of charge, to any person obtaining a copy of this software and associated documentation files (the \"Software\"), to deal in the Software without restriction, including without limitation the rights to use, copy, modify, merge, publish, distribute, sublicense, and/or sell copies of the Software, and to permit persons to whom the Software is furnished to do so, subject to the following conditions:\n",
    "# The above copyright notice and this permission notice shall be included in all copies or substantial portions of the Software.\n",
    "# THE SOFTWARE IS PROVIDED \"AS IS\", WITHOUT WARRANTY OF ANY KIND, EXPRESS OR IMPLIED, INCLUDING BUT NOT LIMITED TO THE WARRANTIES OF MERCHANTABILITY, FITNESS FOR A PARTICULAR PURPOSE AND NONINFRINGEMENT. IN NO EVENT SHALL THE AUTHORS OR COPYRIGHT HOLDERS BE LIABLE FOR ANY CLAIM, DAMAGES OR OTHER LIABILITY, WHETHER IN AN ACTION OF CONTRACT, TORT OR OTHERWISE, ARISING FROM, OUT OF OR IN CONNECTION WITH THE SOFTWARE OR THE USE OR OTHER DEALINGS IN THE SOFTWARE. */\n",
    "#\n",
    "# # @Time    : 2020-6-18 \n",
    "# # @Author  : Hiroaki Wagatsuma\n",
    "# # @Site    : https://github.com/hirowgit/2A_python_basic_course\n",
    "# # @IDE     : Python 3.10.9 (main, Dec 15 2022, 18:18:30) [Clang 14.0.0 (clang-1400.0.29.202)] on darwin\n",
    "# # @File    : ksp_novice_lec01.py "
   ]
  },
  {
   "cell_type": "code",
   "execution_count": 10,
   "id": "e6aca39e",
   "metadata": {},
   "outputs": [],
   "source": [
    "import numpy as np\n",
    "import numpy.matlib\n",
    "import os\n",
    "import sys\n",
    "import codecs\n",
    "import matplotlib.pyplot as plt\n",
    "import pandas as pd\n",
    "from openpyxl import Workbook\n",
    "import pprint"
   ]
  },
  {
   "cell_type": "markdown",
   "id": "159c51f4",
   "metadata": {},
   "source": [
    "## Example 1"
   ]
  },
  {
   "cell_type": "code",
   "execution_count": 2,
   "id": "e36191a7",
   "metadata": {},
   "outputs": [],
   "source": [
    "a=[0,1,2,3,4,5,6,7,8,9]"
   ]
  },
  {
   "cell_type": "code",
   "execution_count": 4,
   "id": "21ada316",
   "metadata": {},
   "outputs": [
    {
     "data": {
      "text/plain": [
       "[0, 1, 2, 3, 4, 5, 6, 7, 8, 9]"
      ]
     },
     "metadata": {},
     "output_type": "display_data"
    }
   ],
   "source": [
    "display(a)"
   ]
  },
  {
   "cell_type": "code",
   "execution_count": 3,
   "id": "9d4413a7",
   "metadata": {},
   "outputs": [
    {
     "name": "stdout",
     "output_type": "stream",
     "text": [
      "[0, 1, 2, 3, 4, 5, 6, 7, 8, 9]\n"
     ]
    }
   ],
   "source": [
    "print(a)"
   ]
  },
  {
   "cell_type": "code",
   "execution_count": 6,
   "id": "2ca45e11",
   "metadata": {},
   "outputs": [],
   "source": [
    "a_np=np.array(a)"
   ]
  },
  {
   "cell_type": "code",
   "execution_count": 7,
   "id": "2d22c33e",
   "metadata": {},
   "outputs": [
    {
     "data": {
      "text/plain": [
       "array([0, 1, 2, 3, 4, 5, 6, 7, 8, 9])"
      ]
     },
     "metadata": {},
     "output_type": "display_data"
    }
   ],
   "source": [
    "display(a_np)"
   ]
  },
  {
   "cell_type": "code",
   "execution_count": 8,
   "id": "821654e3",
   "metadata": {},
   "outputs": [
    {
     "name": "stdout",
     "output_type": "stream",
     "text": [
      "[0 1 2 3 4 5 6 7 8 9]\n"
     ]
    }
   ],
   "source": [
    "print(a_np)"
   ]
  },
  {
   "cell_type": "code",
   "execution_count": 9,
   "id": "63a8394d",
   "metadata": {},
   "outputs": [
    {
     "data": {
      "text/plain": [
       "45"
      ]
     },
     "execution_count": 9,
     "metadata": {},
     "output_type": "execute_result"
    }
   ],
   "source": [
    "sum(a_np)"
   ]
  },
  {
   "cell_type": "markdown",
   "id": "7b73570f",
   "metadata": {},
   "source": [
    "## Example 2"
   ]
  },
  {
   "cell_type": "code",
   "execution_count": 11,
   "id": "caff29e9",
   "metadata": {},
   "outputs": [],
   "source": [
    "A=[[1,4,7],[2,5,8],[3,6,9]]"
   ]
  },
  {
   "cell_type": "code",
   "execution_count": 12,
   "id": "18abb4ac",
   "metadata": {},
   "outputs": [
    {
     "data": {
      "text/plain": [
       "12"
      ]
     },
     "execution_count": 12,
     "metadata": {},
     "output_type": "execute_result"
    }
   ],
   "source": [
    "sum(A[0])"
   ]
  },
  {
   "cell_type": "code",
   "execution_count": 13,
   "id": "89b71bbf",
   "metadata": {},
   "outputs": [],
   "source": [
    "A=np.array([[1,4,7],[2,5,8],[3,6,9]])"
   ]
  },
  {
   "cell_type": "code",
   "execution_count": 14,
   "id": "a0df585f",
   "metadata": {},
   "outputs": [
    {
     "data": {
      "text/plain": [
       "12"
      ]
     },
     "execution_count": 14,
     "metadata": {},
     "output_type": "execute_result"
    }
   ],
   "source": [
    "np.sum(A[0,:])"
   ]
  },
  {
   "cell_type": "code",
   "execution_count": 15,
   "id": "0454c665",
   "metadata": {},
   "outputs": [
    {
     "data": {
      "text/plain": [
       "6"
      ]
     },
     "execution_count": 15,
     "metadata": {},
     "output_type": "execute_result"
    }
   ],
   "source": [
    "np.sum(A[:,0])"
   ]
  },
  {
   "cell_type": "code",
   "execution_count": 16,
   "id": "35b57ae7",
   "metadata": {},
   "outputs": [
    {
     "data": {
      "text/plain": [
       "45"
      ]
     },
     "execution_count": 16,
     "metadata": {},
     "output_type": "execute_result"
    }
   ],
   "source": [
    "np.sum(A)"
   ]
  },
  {
   "cell_type": "markdown",
   "id": "32e63dff",
   "metadata": {},
   "source": [
    "## Example 3"
   ]
  },
  {
   "cell_type": "code",
   "execution_count": 20,
   "id": "c53e3d63",
   "metadata": {},
   "outputs": [
    {
     "data": {
      "text/plain": [
       "array([[6],\n",
       "       [1],\n",
       "       [1],\n",
       "       [8],\n",
       "       [9],\n",
       "       [3],\n",
       "       [1],\n",
       "       [5],\n",
       "       [2],\n",
       "       [4],\n",
       "       [2],\n",
       "       [3],\n",
       "       [9],\n",
       "       [9],\n",
       "       [6],\n",
       "       [1],\n",
       "       [4],\n",
       "       [9]])"
      ]
     },
     "metadata": {},
     "output_type": "display_data"
    }
   ],
   "source": [
    "index=np.random.randint(1, 10, (18,1))\n",
    "display(index)"
   ]
  },
  {
   "cell_type": "code",
   "execution_count": 22,
   "id": "fc3cfe80",
   "metadata": {},
   "outputs": [
    {
     "data": {
      "text/plain": [
       "array([[51],\n",
       "       [46],\n",
       "       [63],\n",
       "       [ 2],\n",
       "       [ 9],\n",
       "       [39],\n",
       "       [77],\n",
       "       [80],\n",
       "       [43],\n",
       "       [44],\n",
       "       [60],\n",
       "       [43],\n",
       "       [93],\n",
       "       [16],\n",
       "       [79],\n",
       "       [73],\n",
       "       [49],\n",
       "       [90]])"
      ]
     },
     "metadata": {},
     "output_type": "display_data"
    }
   ],
   "source": [
    "score=np.random.randint(0, 100, (18,1))\n",
    "display(score)"
   ]
  },
  {
   "cell_type": "code",
   "execution_count": 28,
   "id": "2a26dcdd",
   "metadata": {},
   "outputs": [
    {
     "data": {
      "text/plain": [
       "array([[ 6, 51],\n",
       "       [ 1, 46],\n",
       "       [ 1, 63],\n",
       "       [ 8,  2],\n",
       "       [ 9,  9],\n",
       "       [ 3, 39],\n",
       "       [ 1, 77],\n",
       "       [ 5, 80],\n",
       "       [ 2, 43],\n",
       "       [ 4, 44],\n",
       "       [ 2, 60],\n",
       "       [ 3, 43],\n",
       "       [ 9, 93],\n",
       "       [ 9, 16],\n",
       "       [ 6, 79],\n",
       "       [ 1, 73],\n",
       "       [ 4, 49],\n",
       "       [ 9, 90]])"
      ]
     },
     "metadata": {},
     "output_type": "display_data"
    }
   ],
   "source": [
    "B=np.hstack([index,score])\n",
    "display(B)"
   ]
  },
  {
   "cell_type": "code",
   "execution_count": 33,
   "id": "31189db7",
   "metadata": {},
   "outputs": [
    {
     "data": {
      "text/plain": [
       "83"
      ]
     },
     "metadata": {},
     "output_type": "display_data"
    },
    {
     "data": {
      "text/plain": [
       "957"
      ]
     },
     "metadata": {},
     "output_type": "display_data"
    }
   ],
   "source": [
    "index_sum=np.sum(B[:,0])\n",
    "score_sum=np.sum(B[:,1])\n",
    "display(index_sum)\n",
    "display(score_sum)"
   ]
  },
  {
   "cell_type": "code",
   "execution_count": 42,
   "id": "ba523d22",
   "metadata": {},
   "outputs": [
    {
     "data": {
      "text/plain": [
       "array([ 1,  2,  5,  6,  8,  9, 10, 11, 15, 16])"
      ]
     },
     "metadata": {},
     "output_type": "display_data"
    },
    {
     "data": {
      "text/plain": [
       "array([[46],\n",
       "       [63],\n",
       "       [39],\n",
       "       [77],\n",
       "       [43],\n",
       "       [44],\n",
       "       [60],\n",
       "       [43],\n",
       "       [73],\n",
       "       [49]])"
      ]
     },
     "metadata": {},
     "output_type": "display_data"
    },
    {
     "data": {
      "text/plain": [
       "537"
      ]
     },
     "metadata": {},
     "output_type": "display_data"
    }
   ],
   "source": [
    "index1=np.where(index<5)[0]\n",
    "display(index1)\n",
    "value_less_than_five=score[index1]\n",
    "display(value_less_than_five)\n",
    "sum_value1=np.sum(value_less_than_five)\n",
    "display(sum_value1)\n"
   ]
  },
  {
   "cell_type": "code",
   "execution_count": 43,
   "id": "5ad0906c",
   "metadata": {},
   "outputs": [
    {
     "data": {
      "text/plain": [
       "array([ 0,  3,  4,  7, 12, 13, 14, 17])"
      ]
     },
     "metadata": {},
     "output_type": "display_data"
    },
    {
     "data": {
      "text/plain": [
       "array([[51],\n",
       "       [ 2],\n",
       "       [ 9],\n",
       "       [80],\n",
       "       [93],\n",
       "       [16],\n",
       "       [79],\n",
       "       [90]])"
      ]
     },
     "metadata": {},
     "output_type": "display_data"
    },
    {
     "data": {
      "text/plain": [
       "420"
      ]
     },
     "metadata": {},
     "output_type": "display_data"
    }
   ],
   "source": [
    "index2=np.where(index>=5)[0]\n",
    "display(index2)\n",
    "value_five_or_more=score[index2]\n",
    "display(value_five_or_more)\n",
    "sum_value2=np.sum(value_five_or_more)\n",
    "display(sum_value2)"
   ]
  },
  {
   "cell_type": "code",
   "execution_count": 44,
   "id": "c368e943",
   "metadata": {},
   "outputs": [
    {
     "data": {
      "text/plain": [
       "957"
      ]
     },
     "metadata": {},
     "output_type": "display_data"
    }
   ],
   "source": [
    "sum_all=sum_value1+sum_value2\n",
    "display(sum_all)"
   ]
  },
  {
   "cell_type": "markdown",
   "id": "661f8d8b",
   "metadata": {},
   "source": [
    "## ----------------- Summary-----------------"
   ]
  },
  {
   "cell_type": "code",
   "execution_count": 46,
   "id": "88104ed1",
   "metadata": {},
   "outputs": [
    {
     "data": {
      "text/plain": [
       "964"
      ]
     },
     "metadata": {},
     "output_type": "display_data"
    },
    {
     "data": {
      "text/plain": [
       "964"
      ]
     },
     "metadata": {},
     "output_type": "display_data"
    }
   ],
   "source": [
    "index=np.random.randint(1, 10, (18,1))\n",
    "score=np.random.randint(0, 100, (18,1))\n",
    "B=np.hstack([index,score])\n",
    "index_sum=np.sum(B[:,0])\n",
    "score_sum=np.sum(B[:,1])\n",
    "\n",
    "index1=np.where(index<5)[0]\n",
    "value_less_than_five=score[index1]\n",
    "sum_value1=np.sum(value_less_than_five)\n",
    "\n",
    "index2=np.where(index>=5)[0]\n",
    "value_five_or_more=score[index2]\n",
    "sum_value2=np.sum(value_five_or_more)\n",
    "\n",
    "sum_all=sum_value1+sum_value2\n",
    "\n",
    "display(score_sum)\n",
    "display(sum_all)"
   ]
  },
  {
   "cell_type": "markdown",
   "id": "14cd1947",
   "metadata": {},
   "source": [
    "## ----------------- Hints-----------------"
   ]
  },
  {
   "cell_type": "code",
   "execution_count": 53,
   "id": "fda0fc72",
   "metadata": {},
   "outputs": [],
   "source": [
    "A=[[1,4,7],[2,5,8],[3,6,9]]\n",
    "A_np=np.array(A)"
   ]
  },
  {
   "cell_type": "code",
   "execution_count": 52,
   "id": "33ce5172",
   "metadata": {},
   "outputs": [
    {
     "data": {
      "text/plain": [
       "15"
      ]
     },
     "execution_count": 52,
     "metadata": {},
     "output_type": "execute_result"
    }
   ],
   "source": [
    "A_np[0,0]+A_np[1,1]+A_np[2,2]"
   ]
  },
  {
   "cell_type": "code",
   "execution_count": null,
   "id": "e823fc93",
   "metadata": {},
   "outputs": [],
   "source": []
  }
 ],
 "metadata": {
  "kernelspec": {
   "display_name": "Python 3 (ipykernel)",
   "language": "python",
   "name": "python3"
  },
  "language_info": {
   "codemirror_mode": {
    "name": "ipython",
    "version": 3
   },
   "file_extension": ".py",
   "mimetype": "text/x-python",
   "name": "python",
   "nbconvert_exporter": "python",
   "pygments_lexer": "ipython3",
   "version": "3.9.16"
  }
 },
 "nbformat": 4,
 "nbformat_minor": 5
}
