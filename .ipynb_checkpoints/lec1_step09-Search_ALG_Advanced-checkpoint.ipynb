{
 "cells": [
  {
   "cell_type": "code",
   "execution_count": null,
   "metadata": {},
   "outputs": [],
   "source": [
    "## Python basics for novice data scientists, supported by Wagatsuma Lab@Kyutech \n",
    "#\n",
    "# The MIT License (MIT): Copyright (c) 2020 Hiroaki Wagatsuma and Wagatsuma Lab@Kyutech\n",
    "# \n",
    "# Permission is hereby granted, free of charge, to any person obtaining a copy of this software and associated documentation files (the \"Software\"), to deal in the Software without restriction, including without limitation the rights to use, copy, modify, merge, publish, distribute, sublicense, and/or sell copies of the Software, and to permit persons to whom the Software is furnished to do so, subject to the following conditions:\n",
    "# The above copyright notice and this permission notice shall be included in all copies or substantial portions of the Software.\n",
    "# THE SOFTWARE IS PROVIDED \"AS IS\", WITHOUT WARRANTY OF ANY KIND, EXPRESS OR IMPLIED, INCLUDING BUT NOT LIMITED TO THE WARRANTIES OF MERCHANTABILITY, FITNESS FOR A PARTICULAR PURPOSE AND NONINFRINGEMENT. IN NO EVENT SHALL THE AUTHORS OR COPYRIGHT HOLDERS BE LIABLE FOR ANY CLAIM, DAMAGES OR OTHER LIABILITY, WHETHER IN AN ACTION OF CONTRACT, TORT OR OTHERWISE, ARISING FROM, OUT OF OR IN CONNECTION WITH THE SOFTWARE OR THE USE OR OTHER DEALINGS IN THE SOFTWARE. */\n",
    "#\n",
    "# # @Time    : 2022-10-6 \n",
    "# # @Author  : Hiroaki Wagatsuma\n",
    "# # @Site    : https://github.com/hirowgit/2A_python_basic_course\n",
    "# # @IDE     : Python 3.9\n",
    "# # @File    : lec1_step9.py "
   ]
  },
  {
   "cell_type": "code",
   "execution_count": null,
   "metadata": {},
   "outputs": [],
   "source": [
    "# Practice 3-2 (page 11/29)\n",
    "# https://www.slideshare.net/tadahirotaniguchi0624/3-46861684"
   ]
  },
  {
   "cell_type": "code",
   "execution_count": 4,
   "metadata": {},
   "outputs": [],
   "source": [
    "TargetGraph={\n",
    "    'S':['A','B'],\n",
    "    'A':['S','B','C'],\n",
    "    'B':['S','A','E' ,'F'],\n",
    "    'C':['A','E','D'],\n",
    "    'D':['C','E' ,'G'],\n",
    "    'E':['B','C' ,'D' ,'G'],\n",
    "    'F':['B'],\n",
    "    'G':['D','E']\n",
    "}"
   ]
  },
  {
   "cell_type": "code",
   "execution_count": 5,
   "metadata": {},
   "outputs": [
    {
     "name": "stdout",
     "output_type": "stream",
     "text": [
      "['S', 'A', 'B', 'C', 'D', 'E', 'F', 'G']\n"
     ]
    }
   ],
   "source": [
    "N=7\n",
    "Node=[chr(i) for i in range(65,65+N)]\n",
    "Node=['S']+Node\n",
    "print(Node)"
   ]
  },
  {
   "cell_type": "code",
   "execution_count": 6,
   "metadata": {},
   "outputs": [],
   "source": [
    "C=[[0, 2, 6, 0, 0, 0, 0, 0],\n",
    "      [2, 0, 2, 1, 0, 0, 0, 0] ,\n",
    "      [6, 2, 0, 0, 0, 5, 4, 0] ,\n",
    "      [0, 1, 0, 0, 5, 2, 0, 0] ,\n",
    "      [0, 0, 0, 5, 0, 1, 0, 1] ,\n",
    "      [0, 0, 5, 2, 1, 0, 0, 5] ,\n",
    "      [0, 0, 4, 0, 0, 0, 0, 0] ,\n",
    "      [0, 0, 0, 0, 1, 5, 0, 0]\n",
    "]"
   ]
  },
  {
   "cell_type": "code",
   "execution_count": 15,
   "metadata": {},
   "outputs": [
    {
     "name": "stdout",
     "output_type": "stream",
     "text": [
      "[0, 1, 5, 6]\n",
      "[6, 2, 5, 4]\n"
     ]
    }
   ],
   "source": [
    "OpenList=['S','A','E','F']\n",
    "state='B'\n",
    "key=Node.index(state)\n",
    "Cost=C[key]\n",
    "indexList=[Node.index(L)  for L in OpenList]\n",
    "CList=[C[Node.index(state)][i] for i in indexList]\n",
    "print(indexList)\n",
    "print(CList)"
   ]
  },
  {
   "cell_type": "code",
   "execution_count": 11,
   "metadata": {},
   "outputs": [
    {
     "name": "stdout",
     "output_type": "stream",
     "text": [
      "['S', 'A', 'E', 'F']\n",
      "[6, 2, 5, 4]\n",
      " \n",
      "[{'node': 'S', 'cost': 6}, {'node': 'A', 'cost': 2}, {'node': 'E', 'cost': 5}, {'node': 'F', 'cost': 4}]\n",
      "[{'node': 'A', 'cost': 2}, {'node': 'F', 'cost': 4}, {'node': 'E', 'cost': 5}, {'node': 'S', 'cost': 6}]\n",
      "['A', 'F', 'E', 'S']\n"
     ]
    }
   ],
   "source": [
    "print(OpenList)\n",
    "print(CList)\n",
    "print(' ')\n",
    "keys = ['node','cost']\n",
    "# keys2 = ['node','cost','h']\n",
    "d_all=[]\n",
    "for i in range(len(OpenList)):\n",
    "    values=[OpenList[i],CList[i]]\n",
    "    d = {k: v for k, v in zip(keys, values)}\n",
    "    d_all.append(d)\n",
    "print(d_all)\n",
    "d_all.sort(key=lambda x: x['cost'])\n",
    "print(d_all)\n",
    "print([d['node'] for d in d_all])"
   ]
  },
  {
   "cell_type": "code",
   "execution_count": 16,
   "metadata": {},
   "outputs": [
    {
     "name": "stdout",
     "output_type": "stream",
     "text": [
      "['state', 'S']\n",
      "['OpenList(1)', []]\n",
      "['ClosedList', ['S']]\n",
      "['OpenList(2)', ['A', 'B']]\n",
      "\n",
      "['state', 'A']\n",
      "['OpenList(1)', ['B']]\n",
      "['ClosedList', ['S', 'A']]\n",
      "['OpenList(2)', ['C', 'B']]\n",
      "\n",
      "['state', 'C']\n",
      "['OpenList(1)', ['B']]\n",
      "['ClosedList', ['C', 'S', 'A']]\n",
      "['OpenList(2)', ['B', 'E', 'D']]\n",
      "\n",
      "['state', 'B']\n",
      "['OpenList(1)', ['E', 'D']]\n",
      "['ClosedList', ['C', 'B', 'S', 'A']]\n",
      "['OpenList(2)', ['D', 'F', 'E']]\n",
      "\n",
      "['state', 'D']\n",
      "['OpenList(1)', ['F', 'E']]\n",
      "['ClosedList', ['C', 'B', 'A', 'D', 'S']]\n",
      "['OpenList(2)', ['F', 'E', 'G']]\n",
      "\n",
      "['state', 'F']\n",
      "['OpenList(1)', ['E', 'G']]\n",
      "['ClosedList', ['C', 'F', 'B', 'A', 'D', 'S']]\n",
      "['OpenList(2)', ['E', 'G']]\n",
      "\n",
      "['state', 'E']\n",
      "['OpenList(1)', ['G']]\n",
      "['ClosedList', ['C', 'F', 'E', 'B', 'A', 'D', 'S']]\n",
      "['OpenList(2)', ['G']]\n",
      "\n",
      "['state', 'G']\n",
      "['OpenList(1)', []]\n",
      "['ClosedList', ['C', 'F', 'G', 'E', 'B', 'A', 'D', 'S']]\n",
      "Completed\n"
     ]
    }
   ],
   "source": [
    "# incompleted version of cost-first search (not summation)\n",
    "\n",
    "OpenList=['S']\n",
    "ClosedList=[]\n",
    "while OpenList:\n",
    "    state=OpenList[0]\n",
    "    del OpenList[0]\n",
    "    ClosedList=[state]+ClosedList\n",
    "    ClosedList=list(set(ClosedList))\n",
    "    print(['state',state])\n",
    "    print(['OpenList(1)',OpenList])\n",
    "    print(['ClosedList',ClosedList])\n",
    "    if state=='G':\n",
    "        break\n",
    "    tmpSt=set(TargetGraph[state]) -set(ClosedList)\n",
    "    activeNodes=list(tmpSt -set(OpenList))    \n",
    "    OpenList.extend(activeNodes)\n",
    "    \n",
    "    # cost-first sorting \n",
    "    indexList=[Node.index(L)  for L in OpenList]\n",
    "    CList=[C[Node.index(state)][i] for i in indexList]\n",
    "    \n",
    "    keys = ['node','cost']\n",
    "    d_all=[]\n",
    "    for i in range(len(OpenList)):\n",
    "        values=[OpenList[i],CList[i]]\n",
    "        d = {k: v for k, v in zip(keys, values)}\n",
    "        d_all.append(d)\n",
    "    d_all.sort(key=lambda x: x['cost'])\n",
    "    OpenList=[d['node'] for d in d_all]\n",
    "    # ---\n",
    "    \n",
    "    print(['OpenList(2)',OpenList])\n",
    "    print('')\n",
    "print('Completed') "
   ]
  },
  {
   "cell_type": "code",
   "execution_count": 23,
   "metadata": {},
   "outputs": [
    {
     "data": {
      "text/plain": [
       "0"
      ]
     },
     "execution_count": 23,
     "metadata": {},
     "output_type": "execute_result"
    }
   ],
   "source": [
    "CList=[]\n",
    "len(CList)"
   ]
  },
  {
   "cell_type": "code",
   "execution_count": 25,
   "metadata": {},
   "outputs": [
    {
     "name": "stdout",
     "output_type": "stream",
     "text": [
      "[0, 0, 0, 0, 0, 0, 0, 0]\n",
      "[0, 1, 0, 0, 0, 0, 0, 0]\n"
     ]
    }
   ],
   "source": [
    "CList=[]\n",
    "C2=[0]*len(C[0])\n",
    "print(C2)\n",
    "C2[1]=1\n",
    "print(C2)"
   ]
  },
  {
   "cell_type": "code",
   "execution_count": 28,
   "metadata": {},
   "outputs": [
    {
     "data": {
      "text/plain": [
       "2"
      ]
     },
     "execution_count": 28,
     "metadata": {},
     "output_type": "execute_result"
    }
   ],
   "source": [
    "C[Node.index(state)][i]+C[1][2]"
   ]
  },
  {
   "cell_type": "code",
   "execution_count": 29,
   "metadata": {},
   "outputs": [
    {
     "data": {
      "text/plain": [
       "[{'node': 'G', 'cost': 5}]"
      ]
     },
     "execution_count": 29,
     "metadata": {},
     "output_type": "execute_result"
    }
   ],
   "source": [
    "d_all"
   ]
  },
  {
   "cell_type": "code",
   "execution_count": 33,
   "metadata": {},
   "outputs": [
    {
     "data": {
      "text/plain": [
       "[0, 0, 0, 0, 0, 0, 0, 0]"
      ]
     },
     "execution_count": 33,
     "metadata": {},
     "output_type": "execute_result"
    }
   ],
   "source": [
    "CList=[0]*len(C[0])\n",
    "CList"
   ]
  },
  {
   "cell_type": "code",
   "execution_count": 47,
   "metadata": {},
   "outputs": [
    {
     "name": "stdout",
     "output_type": "stream",
     "text": [
      "[7]\n"
     ]
    },
    {
     "data": {
      "text/plain": [
       "7"
      ]
     },
     "execution_count": 47,
     "metadata": {},
     "output_type": "execute_result"
    }
   ],
   "source": [
    "print(indexList)\n",
    "# [CList[i]+C[Node.index(state)][i] for i in indexList]\n",
    "CList\n",
    "\n",
    "Node.index(state)"
   ]
  },
  {
   "cell_type": "code",
   "execution_count": 92,
   "metadata": {},
   "outputs": [
    {
     "data": {
      "text/plain": [
       "['', '', '', '', '', '', '', '']"
      ]
     },
     "execution_count": 92,
     "metadata": {},
     "output_type": "execute_result"
    }
   ],
   "source": [
    "connN"
   ]
  },
  {
   "cell_type": "code",
   "execution_count": 95,
   "metadata": {},
   "outputs": [
    {
     "name": "stdout",
     "output_type": "stream",
     "text": [
      "['state', 'S']\n",
      "['OpenList(1)', []]\n",
      "['ClosedList', ['S']]\n",
      "['A', 'B']\n",
      "[0, 2, 6, 0, 0, 0, 0, 0]\n",
      "['Path', ['S']]\n",
      "['OpenList(2)', ['A', 'B']]\n",
      "\n",
      "['state', 'A']\n",
      "['OpenList(1)', ['B']]\n",
      "['ClosedList', ['S', 'A']]\n",
      "[2, 3]\n",
      "['C', 'B']\n",
      "[0, 2, 4, 3, 0, 0, 0, 0]\n",
      "['Path', ['S', 'A']]\n",
      "['OpenList(2)', ['C', 'B']]\n",
      "\n",
      "['state', 'C']\n",
      "['OpenList(1)', ['B']]\n",
      "['ClosedList', ['C', 'S', 'A']]\n",
      "[2, 5, 4]\n",
      "['B', 'E', 'D']\n",
      "[0, 2, 4, 3, 8, 5, 0, 0]\n",
      "['Path', ['S', 'A', 'C']]\n",
      "['OpenList(2)', ['B', 'E', 'D']]\n",
      "\n",
      "['state', 'B']\n",
      "['OpenList(1)', ['E', 'D']]\n",
      "['ClosedList', ['C', 'B', 'S', 'A']]\n",
      "[5, 4, 6]\n",
      "['D', 'F', 'E']\n",
      "[0, 2, 4, 3, 8, 5, 8, 0]\n",
      "['Path', ['S', 'A', 'C']]\n",
      "['OpenList(2)', ['D', 'F', 'E']]\n",
      "\n",
      "['state', 'D']\n",
      "['OpenList(1)', ['F', 'E']]\n",
      "['ClosedList', ['C', 'B', 'A', 'D', 'S']]\n",
      "[6, 5, 7]\n",
      "['F', 'E', 'G']\n",
      "[0, 2, 4, 3, 8, 5, 8, 9]\n",
      "['Path', ['S', 'A', 'C']]\n",
      "['OpenList(2)', ['F', 'E', 'G']]\n",
      "\n",
      "['state', 'F']\n",
      "['OpenList(1)', ['E', 'G']]\n",
      "['ClosedList', ['C', 'F', 'B', 'A', 'D', 'S']]\n",
      "[5, 7]\n",
      "['E', 'G']\n",
      "[0, 2, 4, 3, 8, 5, 8, 9]\n",
      "['Path', ['S', 'A', 'C']]\n",
      "['OpenList(2)', ['E', 'G']]\n",
      "\n",
      "['state', 'E']\n",
      "['OpenList(1)', ['G']]\n",
      "['ClosedList', ['C', 'F', 'E', 'B', 'A', 'D', 'S']]\n",
      "[7]\n",
      "['G']\n",
      "[0, 2, 4, 3, 8, 5, 8, 9]\n",
      "['Path', ['S', 'A', 'C']]\n",
      "['OpenList(2)', ['G']]\n",
      "\n",
      "['state', 'G']\n",
      "['OpenList(1)', []]\n",
      "['ClosedList', ['C', 'F', 'G', 'E', 'B', 'A', 'D', 'S']]\n",
      "Completed\n",
      " \n",
      "[0, 2, 4, 3, 8, 5, 8, 9]\n",
      "['Path', ['S', 'A', 'C', 'E', 'G']]\n"
     ]
    },
    {
     "data": {
      "text/plain": [
       "[['', 'S', 'A', 'A', 'C', 'C', 'B', 'D'],\n",
       " ['S', 'A', 'B', 'C', 'D', 'E', 'F', 'G']]"
      ]
     },
     "execution_count": 95,
     "metadata": {},
     "output_type": "execute_result"
    }
   ],
   "source": [
    "# completed version of cost-first search ( summation)\n",
    "\n",
    "OpenList=['S']\n",
    "ClosedList=[]\n",
    "CList=[]\n",
    "C2=[0]*len(C[0])\n",
    "connN=['']*len(C[0])\n",
    "Path=[]\n",
    "\n",
    "while OpenList:\n",
    "    state=OpenList[0]\n",
    "    del OpenList[0]\n",
    "    ClosedList=[state]+ClosedList\n",
    "    ClosedList=list(set(ClosedList))\n",
    "    print(['state',state])\n",
    "    print(['OpenList(1)',OpenList])\n",
    "    print(['ClosedList',ClosedList])\n",
    "    if state=='G':\n",
    "        Path.append(pre_state)\n",
    "        Path.append('G')\n",
    "        break\n",
    "    tmpSt=set(TargetGraph[state]) -set(ClosedList)\n",
    "    activeNodes=list(tmpSt -set(OpenList))    \n",
    "    OpenList.extend(activeNodes)\n",
    "    \n",
    "    # cost-first sorting \n",
    "    indexList=[Node.index(L)  for L in OpenList]\n",
    "    if len(CList)==0:\n",
    "        CList=[C[Node.index(state)][i] for i in indexList]\n",
    "    else:\n",
    "        print(indexList)\n",
    "        CList=[C2[Node.index(state)]+C[Node.index(state)][i] for i in indexList]\n",
    "        \n",
    "    keys = ['node','cost']\n",
    "    d_all=[]\n",
    "    flagU1=False\n",
    "    flagU2=True\n",
    "    for i in range(len(OpenList)):\n",
    "        values=[OpenList[i],CList[i]]\n",
    "        d = {k: v for k, v in zip(keys, values)}\n",
    "        if (C[Node.index(state)][Node.index(values[0])]>0) and ( C2[Node.index(values[0])]>values[1] or C2[Node.index(values[0])]==0):\n",
    "            # connected node                                                        and  (not larger than before                           or    blank )\n",
    "            C2[Node.index(values[0])]=values[1]\n",
    "            connN[Node.index(values[0])]=state\n",
    "            flagU1=True\n",
    "        if   C2[Node.index(values[0])]<values[1]:\n",
    "            flagU2=False\n",
    "        d_all.append(d)\n",
    "    if flagU1 and flagU2:\n",
    "        Path.append(state)\n",
    "    d_all.sort(key=lambda x: x['cost'])\n",
    "    OpenList=[d['node'] for d in d_all]\n",
    "    print(OpenList)\n",
    "    print(C2) \n",
    "    print(['Path',Path])\n",
    "    # ---\n",
    "    pre_state=state\n",
    "    print(['OpenList(2)',OpenList])\n",
    "    print('')\n",
    "\n",
    "connN2=[connN,Node]\n",
    "print('Completed') \n",
    "print(' ') \n",
    "print(C2) \n",
    "print(['Path',Path])\n",
    "connN2"
   ]
  },
  {
   "cell_type": "code",
   "execution_count": 13,
   "metadata": {},
   "outputs": [
    {
     "data": {
      "text/plain": [
       "[5]"
      ]
     },
     "execution_count": 13,
     "metadata": {},
     "output_type": "execute_result"
    }
   ],
   "source": [
    "CList"
   ]
  },
  {
   "cell_type": "code",
   "execution_count": 20,
   "metadata": {},
   "outputs": [],
   "source": [
    "H =[4,4,2,3,1,1,0,0]"
   ]
  },
  {
   "cell_type": "code",
   "execution_count": 100,
   "metadata": {},
   "outputs": [
    {
     "name": "stdout",
     "output_type": "stream",
     "text": [
      "['state', 'S']\n",
      "['OpenList(1)', []]\n",
      "['ClosedList', ['S']]\n",
      "['OpenList(2)', ['B', 'A']]\n",
      "\n",
      "['state', 'B']\n",
      "['OpenList(1)', ['A']]\n",
      "['ClosedList', ['B', 'S']]\n",
      "['OpenList(2)', ['F', 'E', 'A']]\n",
      "\n",
      "['state', 'F']\n",
      "['OpenList(1)', ['E', 'A']]\n",
      "['ClosedList', ['B', 'S', 'F']]\n",
      "['OpenList(2)', ['E', 'A']]\n",
      "\n",
      "['state', 'E']\n",
      "['OpenList(1)', ['A']]\n",
      "['ClosedList', ['E', 'B', 'S', 'F']]\n",
      "['OpenList(2)', ['G', 'D', 'C', 'A']]\n",
      "\n",
      "['state', 'G']\n",
      "['OpenList(1)', ['D', 'C', 'A']]\n",
      "['ClosedList', ['F', 'G', 'E', 'B', 'S']]\n",
      "Completed\n",
      " \n",
      "['Path', ['S', 'B', 'F', 'E', 'G']]\n"
     ]
    }
   ],
   "source": [
    "# completed version of best-first search\n",
    "\n",
    "OpenList=['S']\n",
    "ClosedList=[]\n",
    "Path=[]\n",
    "\n",
    "while OpenList:\n",
    "    state=OpenList[0]\n",
    "    del OpenList[0]\n",
    "    ClosedList=[state]+ClosedList\n",
    "    ClosedList=list(set(ClosedList))\n",
    "    print(['state',state])\n",
    "    print(['OpenList(1)',OpenList])\n",
    "    print(['ClosedList',ClosedList])\n",
    "    if state=='G':\n",
    "        Path.append('G')\n",
    "        break\n",
    "    tmpSt=set(TargetGraph[state]) -set(ClosedList)\n",
    "    activeNodes=list(tmpSt -set(OpenList))    \n",
    "    OpenList.extend(activeNodes)\n",
    "    \n",
    "    # heuristic value sorting \n",
    "    indexList=[Node.index(L)  for L in OpenList]\n",
    "    HList=[H[i] for i in indexList]\n",
    "    \n",
    "    keys = ['node','h']\n",
    "    d_all=[]\n",
    "    for i in range(len(OpenList)):\n",
    "        values=[OpenList[i],HList[i]]\n",
    "        d = {k: v for k, v in zip(keys, values)}\n",
    "        d_all.append(d)\n",
    "    d_all.sort(key=lambda x: x['h'])\n",
    "    OpenList=[d['node'] for d in d_all]\n",
    "    Path.append(state)\n",
    "    # ---\n",
    "    \n",
    "    print(['OpenList(2)',OpenList])\n",
    "    print('')\n",
    "print('Completed') \n",
    "print(' ') \n",
    "print(['Path',Path])\n"
   ]
  },
  {
   "cell_type": "code",
   "execution_count": 99,
   "metadata": {},
   "outputs": [
    {
     "name": "stdout",
     "output_type": "stream",
     "text": [
      "['state', 'S']\n",
      "['OpenList(1)', []]\n",
      "['ClosedList', ['S']]\n",
      "['A', 'B']\n",
      "[0, 2, 6, 0, 0, 0, 0, 0]\n",
      "['Path', ['S']]\n",
      "['OpenList(2)', ['A', 'B']]\n",
      "\n",
      "['state', 'A']\n",
      "['OpenList(1)', ['B']]\n",
      "['ClosedList', ['S', 'A']]\n",
      "[2, 3]\n",
      "['B', 'C']\n",
      "[0, 2, 4, 3, 0, 0, 0, 0]\n",
      "['Path', ['S', 'A']]\n",
      "['OpenList(2)', ['B', 'C']]\n",
      "\n",
      "['state', 'B']\n",
      "['OpenList(1)', ['C']]\n",
      "['ClosedList', ['B', 'S', 'A']]\n",
      "[3, 5, 6]\n",
      "['C', 'F', 'E']\n",
      "[0, 2, 4, 3, 0, 9, 8, 0]\n",
      "['Path', ['S', 'A']]\n",
      "['OpenList(2)', ['C', 'F', 'E']]\n",
      "\n",
      "['state', 'C']\n",
      "['OpenList(1)', ['F', 'E']]\n",
      "['ClosedList', ['B', 'C', 'S', 'A']]\n",
      "[6, 5, 4]\n",
      "['F', 'E', 'D']\n",
      "[0, 2, 4, 3, 8, 5, 8, 0]\n",
      "['Path', ['S', 'A', 'C']]\n",
      "['OpenList(2)', ['F', 'E', 'D']]\n",
      "\n",
      "['state', 'F']\n",
      "['OpenList(1)', ['E', 'D']]\n",
      "['ClosedList', ['C', 'F', 'B', 'A', 'S']]\n",
      "[5, 4]\n",
      "['E', 'D']\n",
      "[0, 2, 4, 3, 8, 5, 8, 0]\n",
      "['Path', ['S', 'A', 'C']]\n",
      "['OpenList(2)', ['E', 'D']]\n",
      "\n",
      "['state', 'E']\n",
      "['OpenList(1)', ['D']]\n",
      "['ClosedList', ['C', 'F', 'E', 'B', 'A', 'S']]\n",
      "[4, 7]\n",
      "['D', 'G']\n",
      "[0, 2, 4, 3, 6, 5, 8, 10]\n",
      "['Path', ['S', 'A', 'C', 'E']]\n",
      "['OpenList(2)', ['D', 'G']]\n",
      "\n",
      "['state', 'D']\n",
      "['OpenList(1)', ['G']]\n",
      "['ClosedList', ['C', 'F', 'E', 'B', 'A', 'D', 'S']]\n",
      "[7]\n",
      "['G']\n",
      "[0, 2, 4, 3, 6, 5, 8, 7]\n",
      "['Path', ['S', 'A', 'C', 'E', 'D']]\n",
      "['OpenList(2)', ['G']]\n",
      "\n",
      "['state', 'G']\n",
      "['OpenList(1)', []]\n",
      "['ClosedList', ['C', 'F', 'G', 'E', 'B', 'A', 'D', 'S']]\n",
      "Completed\n",
      " \n",
      "[0, 2, 4, 3, 6, 5, 8, 7]\n",
      "['Path', ['S', 'A', 'C', 'E', 'D', 'G']]\n"
     ]
    },
    {
     "data": {
      "text/plain": [
       "[['', 'S', 'A', 'A', 'E', 'C', 'B', 'D'],\n",
       " ['S', 'A', 'B', 'C', 'D', 'E', 'F', 'G']]"
      ]
     },
     "execution_count": 99,
     "metadata": {},
     "output_type": "execute_result"
    }
   ],
   "source": [
    "# completed version of A* search \n",
    "\n",
    "OpenList=['S']\n",
    "ClosedList=[]\n",
    "CList=[]\n",
    "C2=[0]*len(C[0])\n",
    "connN=['']*len(C[0])\n",
    "Path=[]\n",
    "\n",
    "while OpenList:\n",
    "    state=OpenList[0]\n",
    "    del OpenList[0]\n",
    "    ClosedList=[state]+ClosedList\n",
    "    ClosedList=list(set(ClosedList))\n",
    "    print(['state',state])\n",
    "    print(['OpenList(1)',OpenList])\n",
    "    print(['ClosedList',ClosedList])\n",
    "    if state=='G':\n",
    "#         Path.append(pre_state)\n",
    "        Path.append('G')\n",
    "        break\n",
    "    tmpSt=set(TargetGraph[state]) -set(ClosedList)\n",
    "    activeNodes=list(tmpSt -set(OpenList))    \n",
    "    OpenList.extend(activeNodes)\n",
    "\n",
    "    # heuristic value sorting \n",
    "    indexList=[Node.index(L)  for L in OpenList]\n",
    "    HList=[H[i] for i in indexList]\n",
    "    \n",
    "    # cost-first sorting \n",
    "    if len(CList)==0:\n",
    "        CList=[C[Node.index(state)][i] for i in indexList]\n",
    "    else:\n",
    "        print(indexList)\n",
    "        CList=[C2[Node.index(state)]+C[Node.index(state)][i] for i in indexList]\n",
    "        \n",
    "    keys = ['node','cost','h','f']\n",
    "    d_all=[]\n",
    "    flagU1=False\n",
    "    flagU2=True\n",
    "    for i in range(len(OpenList)):\n",
    "        values=[OpenList[i],CList[i],HList[i],CList[i]+HList[i]]\n",
    "        d = {k: v for k, v in zip(keys, values)}\n",
    "        if (C[Node.index(state)][Node.index(values[0])]>0) and ( C2[Node.index(values[0])]>values[1] or C2[Node.index(values[0])]==0):\n",
    "            # connected node                                                        and  (not larger than before                           or    blank )\n",
    "            C2[Node.index(values[0])]=values[1]\n",
    "            connN[Node.index(values[0])]=state\n",
    "            flagU1=True\n",
    "        if   C2[Node.index(values[0])]<values[1]:\n",
    "            flagU2=False\n",
    "        d_all.append(d)\n",
    "    if flagU1 and flagU2:\n",
    "        Path.append(state)\n",
    "    d_all.sort(key=lambda x: x['f'])\n",
    "    OpenList=[d['node'] for d in d_all]\n",
    "    print(OpenList)\n",
    "    print(C2) \n",
    "    print(['Path',Path])\n",
    "    # ---\n",
    "    pre_state=state\n",
    "    print(['OpenList(2)',OpenList])\n",
    "    print('')\n",
    "\n",
    "connN2=[connN,Node]\n",
    "print('Completed') \n",
    "print(' ') \n",
    "print(C2) \n",
    "print(['Path',Path])\n",
    "connN2"
   ]
  }
 ],
 "metadata": {
  "kernelspec": {
   "display_name": "Python 3 (ipykernel)",
   "language": "python",
   "name": "python3"
  },
  "language_info": {
   "codemirror_mode": {
    "name": "ipython",
    "version": 3
   },
   "file_extension": ".py",
   "mimetype": "text/x-python",
   "name": "python",
   "nbconvert_exporter": "python",
   "pygments_lexer": "ipython3",
   "version": "3.9.16"
  }
 },
 "nbformat": 4,
 "nbformat_minor": 2
}
