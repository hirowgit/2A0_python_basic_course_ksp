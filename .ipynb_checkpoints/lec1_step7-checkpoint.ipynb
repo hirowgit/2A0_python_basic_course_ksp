{
 "cells": [
  {
   "cell_type": "code",
   "execution_count": null,
   "metadata": {},
   "outputs": [],
   "source": [
    "## Python basics for novice data scientists, supported by Wagatsuma Lab@Kyutech \n",
    "#\n",
    "# The MIT License (MIT): Copyright (c) 2020 Hiroaki Wagatsuma and Wagatsuma Lab@Kyutech\n",
    "# \n",
    "# Permission is hereby granted, free of charge, to any person obtaining a copy of this software and associated documentation files (the \"Software\"), to deal in the Software without restriction, including without limitation the rights to use, copy, modify, merge, publish, distribute, sublicense, and/or sell copies of the Software, and to permit persons to whom the Software is furnished to do so, subject to the following conditions:\n",
    "# The above copyright notice and this permission notice shall be included in all copies or substantial portions of the Software.\n",
    "# THE SOFTWARE IS PROVIDED \"AS IS\", WITHOUT WARRANTY OF ANY KIND, EXPRESS OR IMPLIED, INCLUDING BUT NOT LIMITED TO THE WARRANTIES OF MERCHANTABILITY, FITNESS FOR A PARTICULAR PURPOSE AND NONINFRINGEMENT. IN NO EVENT SHALL THE AUTHORS OR COPYRIGHT HOLDERS BE LIABLE FOR ANY CLAIM, DAMAGES OR OTHER LIABILITY, WHETHER IN AN ACTION OF CONTRACT, TORT OR OTHERWISE, ARISING FROM, OUT OF OR IN CONNECTION WITH THE SOFTWARE OR THE USE OR OTHER DEALINGS IN THE SOFTWARE. */\n",
    "#\n",
    "# # @Time    : 2020-10-14 \n",
    "# # @Author  : Hiroaki Wagatsuma\n",
    "# # @Site    : https://github.com/hirowgit/2A_python_basic_course\n",
    "# # @IDE     : Python 3.7.7 (default, Mar 10 2020, 15:43:27) [Clang 10.0.0 (clang-1000.11.45.5)] on darwin\n",
    "# # @File    : lec1_step7.py "
   ]
  },
  {
   "cell_type": "code",
   "execution_count": null,
   "metadata": {},
   "outputs": [],
   "source": [
    "# Practice 3-1 (page 13/29)\n",
    "# https://www.slideshare.net/tadahirotaniguchi0624/3-46861684"
   ]
  },
  {
   "cell_type": "code",
   "execution_count": null,
   "metadata": {},
   "outputs": [],
   "source": [
    "# https://note.nkmk.me/python-dict-list-sort/"
   ]
  },
  {
   "cell_type": "code",
   "execution_count": 7,
   "metadata": {},
   "outputs": [],
   "source": [
    "import pprint\n",
    "\n",
    "l = [{'Name': 'Australia', 'Population': 25680158, 'Capital City': 'Canberra','Points': [-35.28, 149.13]}, \n",
    "     {'Name': 'Bangladesh', 'Population': 169468990,'Capital City': 'Dhaka', 'Points': [23.71, 90.41]},\n",
    "     {'Name': 'Chile', 'Population': 17373831,'Capital City': 'Santiago', 'Points': [-27.37, -70.33]}]"
   ]
  },
  {
   "cell_type": "code",
   "execution_count": 19,
   "metadata": {},
   "outputs": [
    {
     "name": "stdout",
     "output_type": "stream",
     "text": [
      "[{'Capital City': 'Canberra',\n",
      "  'Name': 'Australia',\n",
      "  'Points': [-35.28, 149.13],\n",
      "  'Population': 25680158},\n",
      " {'Capital City': 'Dhaka',\n",
      "  'Name': 'Bangladesh',\n",
      "  'Points': [23.71, 90.41],\n",
      "  'Population': 169468990},\n",
      " {'Capital City': 'Santiago',\n",
      "  'Name': 'Chile',\n",
      "  'Points': [-27.37, -70.33],\n",
      "  'Population': 17373831}]\n"
     ]
    }
   ],
   "source": [
    "pprint.pprint(sorted(l, key=lambda x: x['Name']))"
   ]
  },
  {
   "cell_type": "code",
   "execution_count": 20,
   "metadata": {
    "scrolled": true
   },
   "outputs": [
    {
     "name": "stdout",
     "output_type": "stream",
     "text": [
      "[{'Capital City': 'Santiago',\n",
      "  'Name': 'Chile',\n",
      "  'Points': [-27.37, -70.33],\n",
      "  'Population': 17373831},\n",
      " {'Capital City': 'Canberra',\n",
      "  'Name': 'Australia',\n",
      "  'Points': [-35.28, 149.13],\n",
      "  'Population': 25680158},\n",
      " {'Capital City': 'Dhaka',\n",
      "  'Name': 'Bangladesh',\n",
      "  'Points': [23.71, 90.41],\n",
      "  'Population': 169468990}]\n"
     ]
    }
   ],
   "source": [
    "pprint.pprint(sorted(l, key=lambda x: x['Population']))"
   ]
  },
  {
   "cell_type": "code",
   "execution_count": 21,
   "metadata": {},
   "outputs": [
    {
     "name": "stdout",
     "output_type": "stream",
     "text": [
      "[{'Capital City': 'Dhaka',\n",
      "  'Name': 'Bangladesh',\n",
      "  'Points': [23.71, 90.41],\n",
      "  'Population': 169468990},\n",
      " {'Capital City': 'Canberra',\n",
      "  'Name': 'Australia',\n",
      "  'Points': [-35.28, 149.13],\n",
      "  'Population': 25680158},\n",
      " {'Capital City': 'Santiago',\n",
      "  'Name': 'Chile',\n",
      "  'Points': [-27.37, -70.33],\n",
      "  'Population': 17373831}]\n"
     ]
    }
   ],
   "source": [
    "pprint.pprint(sorted(l, key=lambda x: x['Population'], reverse=True))"
   ]
  },
  {
   "cell_type": "code",
   "execution_count": 8,
   "metadata": {},
   "outputs": [
    {
     "name": "stdout",
     "output_type": "stream",
     "text": [
      "{'k1': 1, 'k2': 2, 'k3': 3}\n"
     ]
    }
   ],
   "source": [
    "# https://note.nkmk.me/python-dict-create/\n",
    "keys = ['k1', 'k2', 'k3']\n",
    "values = [1, 2, 3]\n",
    "d = {k: v for k, v in zip(keys, values)}\n",
    "print(d)"
   ]
  },
  {
   "cell_type": "code",
   "execution_count": 10,
   "metadata": {},
   "outputs": [
    {
     "name": "stdout",
     "output_type": "stream",
     "text": [
      "{'cost': 1, 'h': 2, 'f': 3}\n",
      "{'cost': 1, 'h': 2, 'f': 3}\n",
      "{'cost': 1, 'h': 2, 'f': 3}\n"
     ]
    }
   ],
   "source": [
    "Node=[]\n",
    "keys = ['cost', 'h', 'f']\n",
    "values = [1, 2, 3]\n",
    "for i in range(len(keys)):\n",
    "    d = {k: v for k, v in zip(keys, values)}\n",
    "    print(d)"
   ]
  },
  {
   "cell_type": "code",
   "execution_count": 28,
   "metadata": {},
   "outputs": [
    {
     "data": {
      "text/plain": [
       "'A'"
      ]
     },
     "execution_count": 28,
     "metadata": {},
     "output_type": "execute_result"
    }
   ],
   "source": [
    "# A: ascii code 65\n",
    "chr(65)"
   ]
  },
  {
   "cell_type": "code",
   "execution_count": 32,
   "metadata": {},
   "outputs": [
    {
     "name": "stdout",
     "output_type": "stream",
     "text": [
      "A\n",
      "B\n",
      "C\n",
      "D\n",
      "E\n",
      "F\n",
      "G\n",
      "H\n",
      "I\n"
     ]
    }
   ],
   "source": [
    "# for i in range(1,10,1):\n",
    "for i in range(1,10):\n",
    "    s=chr(i+65-1)\n",
    "    print(s)"
   ]
  },
  {
   "cell_type": "code",
   "execution_count": 30,
   "metadata": {},
   "outputs": [
    {
     "name": "stdout",
     "output_type": "stream",
     "text": [
      "A\n",
      "B\n",
      "C\n",
      "D\n",
      "E\n",
      "F\n",
      "G\n",
      "H\n",
      "I\n",
      "J\n"
     ]
    }
   ],
   "source": [
    "# for i in range(1,10,1):\n",
    "for i in range(65,65+10):\n",
    "    s=chr(i)\n",
    "    print(s)"
   ]
  },
  {
   "cell_type": "code",
   "execution_count": 12,
   "metadata": {},
   "outputs": [
    {
     "name": "stdout",
     "output_type": "stream",
     "text": [
      "['A', 'B', 'C', 'D', 'E', 'F', 'G', 'H', 'I', 'J']\n"
     ]
    }
   ],
   "source": [
    "Node=[chr(i) for i in range(65,65+10)]\n",
    "print(Node)"
   ]
  },
  {
   "cell_type": "code",
   "execution_count": 13,
   "metadata": {},
   "outputs": [
    {
     "name": "stdout",
     "output_type": "stream",
     "text": [
      "[1, 2, 3, 4, 5, 6, 7, 8, 9]\n",
      "[1, 2, 3, 4, 5, 6, 7, 8, 9]\n",
      "[1, 2, 3, 4, 5, 6, 7, 8, 9, 1, 2, 3, 4, 5, 6, 7, 8, 9, 1, 2, 3, 4, 5, 6, 7, 8, 9]\n"
     ]
    }
   ],
   "source": [
    "H=list(range(1,len(Node)))\n",
    "print(H)\n",
    "H=list(range(1,len(Node)))\n",
    "print(H)\n",
    "F=3*list(range(1,len(Node)))\n",
    "print(F)"
   ]
  },
  {
   "cell_type": "code",
   "execution_count": 16,
   "metadata": {},
   "outputs": [
    {
     "name": "stdout",
     "output_type": "stream",
     "text": [
      "[1, 2, 3, 4, 5, 6, 7, 8, 9]\n",
      "[2, 4, 6, 8, 10, 12, 14, 16, 18]\n",
      "[3, 6, 9, 12, 15, 18, 21, 24, 27]\n"
     ]
    }
   ],
   "source": [
    "Cost =H\n",
    "print(Cost)\n",
    "H=list(map(lambda x: x * 2, Cost))\n",
    "print(H)\n",
    "F=list(map(lambda x: x * 3, Cost))\n",
    "print(F)"
   ]
  },
  {
   "cell_type": "code",
   "execution_count": 56,
   "metadata": {},
   "outputs": [
    {
     "name": "stdout",
     "output_type": "stream",
     "text": [
      "[1, 3, 6, 50, 5]\n",
      "[2, 6, 12, 100, 10]\n"
     ]
    }
   ],
   "source": [
    "data1 = [1, 3, 6, 50, 5]\n",
    "data2 = list(map(lambda x: x * 2, data1))\n",
    "print(data1)\n",
    "print(data2)"
   ]
  },
  {
   "cell_type": "code",
   "execution_count": 17,
   "metadata": {},
   "outputs": [
    {
     "name": "stdout",
     "output_type": "stream",
     "text": [
      "{'node': 1, 'cost': 2, 'h': 3}\n"
     ]
    }
   ],
   "source": [
    "keys = ['node','cost', 'h', 'f']\n",
    "values = [1, 2, 3]\n",
    "d = {k: v for k, v in zip(keys, values)}\n",
    "print(d)"
   ]
  },
  {
   "cell_type": "code",
   "execution_count": 18,
   "metadata": {},
   "outputs": [
    {
     "name": "stdout",
     "output_type": "stream",
     "text": [
      "[{'node': 'A', 'cost': 1, 'h': 2, 'f': 3}, {'node': 'B', 'cost': 2, 'h': 4, 'f': 6}, {'node': 'C', 'cost': 3, 'h': 6, 'f': 9}, {'node': 'D', 'cost': 4, 'h': 8, 'f': 12}, {'node': 'E', 'cost': 5, 'h': 10, 'f': 15}, {'node': 'F', 'cost': 6, 'h': 12, 'f': 18}, {'node': 'G', 'cost': 7, 'h': 14, 'f': 21}, {'node': 'H', 'cost': 8, 'h': 16, 'f': 24}, {'node': 'I', 'cost': 9, 'h': 18, 'f': 27}]\n"
     ]
    }
   ],
   "source": [
    "keys = ['node','cost', 'h', 'f']\n",
    "values = [1, 2, 3]\n",
    "d_all=[]\n",
    "for i in range(0,len(Node)-1):\n",
    "    values=[Node[i],Cost[i],H[i],F[i]]\n",
    "    d = {k: v for k, v in zip(keys, values)}\n",
    "    d_all.append(d)\n",
    "print(d_all)"
   ]
  },
  {
   "cell_type": "code",
   "execution_count": 19,
   "metadata": {},
   "outputs": [
    {
     "name": "stdout",
     "output_type": "stream",
     "text": [
      "[{'cost': 1, 'f': 3, 'h': 2, 'node': 'A'},\n",
      " {'cost': 2, 'f': 6, 'h': 4, 'node': 'B'},\n",
      " {'cost': 3, 'f': 9, 'h': 6, 'node': 'C'},\n",
      " {'cost': 4, 'f': 12, 'h': 8, 'node': 'D'},\n",
      " {'cost': 5, 'f': 15, 'h': 10, 'node': 'E'},\n",
      " {'cost': 6, 'f': 18, 'h': 12, 'node': 'F'},\n",
      " {'cost': 7, 'f': 21, 'h': 14, 'node': 'G'},\n",
      " {'cost': 8, 'f': 24, 'h': 16, 'node': 'H'},\n",
      " {'cost': 9, 'f': 27, 'h': 18, 'node': 'I'}]\n"
     ]
    }
   ],
   "source": [
    "pprint.pprint(sorted(d_all, key=lambda x: x['node']))"
   ]
  },
  {
   "cell_type": "code",
   "execution_count": 71,
   "metadata": {},
   "outputs": [
    {
     "name": "stdout",
     "output_type": "stream",
     "text": [
      "[{'cost': 1, 'f': 3, 'h': 2, 'node': 'A'},\n",
      " {'cost': 2, 'f': 6, 'h': 4, 'node': 'B'},\n",
      " {'cost': 3, 'f': 9, 'h': 6, 'node': 'C'},\n",
      " {'cost': 4, 'f': 12, 'h': 8, 'node': 'D'},\n",
      " {'cost': 5, 'f': 15, 'h': 10, 'node': 'E'},\n",
      " {'cost': 6, 'f': 18, 'h': 12, 'node': 'F'},\n",
      " {'cost': 7, 'f': 21, 'h': 14, 'node': 'G'},\n",
      " {'cost': 8, 'f': 24, 'h': 16, 'node': 'H'},\n",
      " {'cost': 9, 'f': 27, 'h': 18, 'node': 'I'}]\n"
     ]
    }
   ],
   "source": [
    "pprint.pprint(sorted(d_all, key=lambda x: x['cost']))"
   ]
  },
  {
   "cell_type": "code",
   "execution_count": 72,
   "metadata": {},
   "outputs": [
    {
     "name": "stdout",
     "output_type": "stream",
     "text": [
      "[{'cost': 1, 'f': 3, 'h': 2, 'node': 'A'},\n",
      " {'cost': 2, 'f': 6, 'h': 4, 'node': 'B'},\n",
      " {'cost': 3, 'f': 9, 'h': 6, 'node': 'C'},\n",
      " {'cost': 4, 'f': 12, 'h': 8, 'node': 'D'},\n",
      " {'cost': 5, 'f': 15, 'h': 10, 'node': 'E'},\n",
      " {'cost': 6, 'f': 18, 'h': 12, 'node': 'F'},\n",
      " {'cost': 7, 'f': 21, 'h': 14, 'node': 'G'},\n",
      " {'cost': 8, 'f': 24, 'h': 16, 'node': 'H'},\n",
      " {'cost': 9, 'f': 27, 'h': 18, 'node': 'I'}]\n"
     ]
    }
   ],
   "source": [
    "pprint.pprint(sorted(d_all, key=lambda x: x['h']))"
   ]
  },
  {
   "cell_type": "code",
   "execution_count": 73,
   "metadata": {},
   "outputs": [
    {
     "name": "stdout",
     "output_type": "stream",
     "text": [
      "[{'cost': 1, 'f': 3, 'h': 2, 'node': 'A'},\n",
      " {'cost': 2, 'f': 6, 'h': 4, 'node': 'B'},\n",
      " {'cost': 3, 'f': 9, 'h': 6, 'node': 'C'},\n",
      " {'cost': 4, 'f': 12, 'h': 8, 'node': 'D'},\n",
      " {'cost': 5, 'f': 15, 'h': 10, 'node': 'E'},\n",
      " {'cost': 6, 'f': 18, 'h': 12, 'node': 'F'},\n",
      " {'cost': 7, 'f': 21, 'h': 14, 'node': 'G'},\n",
      " {'cost': 8, 'f': 24, 'h': 16, 'node': 'H'},\n",
      " {'cost': 9, 'f': 27, 'h': 18, 'node': 'I'}]\n"
     ]
    }
   ],
   "source": [
    "pprint.pprint(sorted(d_all, key=lambda x: x['f']))"
   ]
  },
  {
   "cell_type": "code",
   "execution_count": 24,
   "metadata": {},
   "outputs": [
    {
     "name": "stdout",
     "output_type": "stream",
     "text": [
      "[1, 6, 5]\n",
      "[[0, 8, 3], [0, 3, 5], [1, 6, 5], [1, 4, 8], [1, 3, 1], [4, 9, 3], [4, 0, 6], [5, 2, 7], [9, 8, 5], [9, 0, 0]]\n"
     ]
    }
   ],
   "source": [
    "list_0 = [\n",
    "        [9, 8, 5],\n",
    "        [0, 8, 3],\n",
    "        [1, 6, 5],\n",
    "        [9, 0, 0],\n",
    "        [4, 9, 3],\n",
    "        [1, 4, 8],\n",
    "        [4, 0, 6],\n",
    "        [0, 3, 5],\n",
    "        [1, 3, 1],\n",
    "        [5, 2, 7],\n",
    "    ]\n",
    "print(list_0[2])\n",
    "list_0.sort(key=lambda x: x[:][0])\n",
    "print(list_0)"
   ]
  },
  {
   "cell_type": "code",
   "execution_count": 31,
   "metadata": {},
   "outputs": [
    {
     "name": "stdout",
     "output_type": "stream",
     "text": [
      "[1, 6, 5]\n",
      "[[9, 0, 0], [1, 3, 1], [0, 8, 3], [4, 9, 3], [9, 8, 5], [1, 6, 5], [0, 3, 5], [4, 0, 6], [5, 2, 7], [1, 4, 8]]\n"
     ]
    }
   ],
   "source": [
    "list_0 = [\n",
    "        [9, 8, 5],\n",
    "        [0, 8, 3],\n",
    "        [1, 6, 5],\n",
    "        [9, 0, 0],\n",
    "        [4, 9, 3],\n",
    "        [1, 4, 8],\n",
    "        [4, 0, 6],\n",
    "        [0, 3, 5],\n",
    "        [1, 3, 1],\n",
    "        [5, 2, 7],\n",
    "    ]\n",
    "print(list_0[2])\n",
    "list_0.sort(key=lambda x: x[0])\n",
    "print(list_0)"
   ]
  },
  {
   "cell_type": "code",
   "execution_count": 32,
   "metadata": {},
   "outputs": [
    {
     "name": "stdout",
     "output_type": "stream",
     "text": [
      "[3, 1, 3]\n",
      "[[1, 3, 2], [2, 2, 1], [3, 1, 3]]\n"
     ]
    }
   ],
   "source": [
    "list_0 = [\n",
    "        [1, 3, 2],\n",
    "        [2, 2, 1],\n",
    "        [3, 1, 3]\n",
    "    ]\n",
    "print(list_0[2])\n",
    "list_0.sort(key=lambda x: x[0])\n",
    "print(list_0)"
   ]
  },
  {
   "cell_type": "code",
   "execution_count": 26,
   "metadata": {},
   "outputs": [
    {
     "name": "stdout",
     "output_type": "stream",
     "text": [
      "[0, 8, 3]\n",
      "[[0, 8, 3], [9, 8, 5]]\n"
     ]
    }
   ],
   "source": [
    "list_0 = [\n",
    "        [9, 8, 5],\n",
    "        [0, 8, 3]\n",
    "    ]\n",
    "print(list_0[1])\n",
    "list_0.sort(key=lambda x: x[:][0])\n",
    "print(list_0)"
   ]
  }
 ],
 "metadata": {
  "kernelspec": {
   "display_name": "Python 3 (ipykernel)",
   "language": "python",
   "name": "python3"
  },
  "language_info": {
   "codemirror_mode": {
    "name": "ipython",
    "version": 3
   },
   "file_extension": ".py",
   "mimetype": "text/x-python",
   "name": "python",
   "nbconvert_exporter": "python",
   "pygments_lexer": "ipython3",
   "version": "3.10.6"
  }
 },
 "nbformat": 4,
 "nbformat_minor": 2
}
