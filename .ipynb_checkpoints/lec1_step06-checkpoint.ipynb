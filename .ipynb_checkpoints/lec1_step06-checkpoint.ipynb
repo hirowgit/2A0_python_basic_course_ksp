{
 "cells": [
  {
   "cell_type": "code",
   "execution_count": null,
   "metadata": {},
   "outputs": [],
   "source": [
    "## Python basics for novice data scientists, supported by Wagatsuma Lab@Kyutech \n",
    "#\n",
    "# The MIT License (MIT): Copyright (c) 2020 Hiroaki Wagatsuma and Wagatsuma Lab@Kyutech\n",
    "# \n",
    "# Permission is hereby granted, free of charge, to any person obtaining a copy of this software and associated documentation files (the \"Software\"), to deal in the Software without restriction, including without limitation the rights to use, copy, modify, merge, publish, distribute, sublicense, and/or sell copies of the Software, and to permit persons to whom the Software is furnished to do so, subject to the following conditions:\n",
    "# The above copyright notice and this permission notice shall be included in all copies or substantial portions of the Software.\n",
    "# THE SOFTWARE IS PROVIDED \"AS IS\", WITHOUT WARRANTY OF ANY KIND, EXPRESS OR IMPLIED, INCLUDING BUT NOT LIMITED TO THE WARRANTIES OF MERCHANTABILITY, FITNESS FOR A PARTICULAR PURPOSE AND NONINFRINGEMENT. IN NO EVENT SHALL THE AUTHORS OR COPYRIGHT HOLDERS BE LIABLE FOR ANY CLAIM, DAMAGES OR OTHER LIABILITY, WHETHER IN AN ACTION OF CONTRACT, TORT OR OTHERWISE, ARISING FROM, OUT OF OR IN CONNECTION WITH THE SOFTWARE OR THE USE OR OTHER DEALINGS IN THE SOFTWARE. */\n",
    "#\n",
    "# # @Time    : 2020-10-14 \n",
    "# # @Author  : Hiroaki Wagatsuma\n",
    "# # @Site    : https://github.com/hirowgit/2A_python_basic_course\n",
    "# # @IDE     : Python 3.7.7 (default, Mar 10 2020, 15:43:27) [Clang 10.0.0 (clang-1000.11.45.5)] on darwin\n",
    "# # @File    : lec1_step6.py "
   ]
  },
  {
   "cell_type": "code",
   "execution_count": null,
   "metadata": {},
   "outputs": [],
   "source": [
    "# Practice 2-3 (page 24/28)\n",
    "# https://www.slideshare.net/tadahirotaniguchi0624/2-46861654"
   ]
  },
  {
   "cell_type": "code",
   "execution_count": 2,
   "metadata": {},
   "outputs": [],
   "source": [
    "TargetGraph={\n",
    "    'S':['A','B'],\n",
    "    'A':['S','C','D'],\n",
    "    'B':['S','C'],\n",
    "    'C':['A','B','D'],\n",
    "    'D':['A','C']\n",
    "#    'G':'unknown now\n",
    "}"
   ]
  },
  {
   "cell_type": "code",
   "execution_count": 3,
   "metadata": {},
   "outputs": [
    {
     "name": "stdout",
     "output_type": "stream",
     "text": [
      "S\n",
      "A\n",
      "B\n",
      "C\n",
      "D\n",
      "completed\n"
     ]
    }
   ],
   "source": [
    "OpenList=['S']\n",
    "ClosedList=[]\n",
    "while OpenList:\n",
    "    state=OpenList[0]  \n",
    "    del OpenList[0]  \n",
    "    ClosedList.extend(state)\n",
    "    print(state)\n",
    "    if state=='G':\n",
    "        break\n",
    "    activeNodes=[item for item in TargetGraph[state] if item not in ClosedList]\n",
    " #   OpenList.insert(-1, activeNodes)  # the first item\n",
    "    OpenList.append(activeNodes)  # the last item\n",
    "    OpenList=[item for i in OpenList for item in i if item not in ClosedList]\n",
    "print('completed') "
   ]
  },
  {
   "cell_type": "code",
   "execution_count": 52,
   "metadata": {},
   "outputs": [],
   "source": [
    "TargetGraph={\n",
    "    'A':['B','C'],\n",
    "    'B':['A','D','E'],\n",
    "    'C':['A','F','G','H'],\n",
    "    'D':['B','I'],\n",
    "    'E':['B'],\n",
    "    'F':['C'],\n",
    "    'G':['C','J'],\n",
    "    'H':['C'],\n",
    "    'I':['D'],\n",
    "    'J':['G']\n",
    "#    'G':'unknown now\n",
    "}"
   ]
  },
  {
   "cell_type": "code",
   "execution_count": 49,
   "metadata": {},
   "outputs": [
    {
     "name": "stdout",
     "output_type": "stream",
     "text": [
      "1: A\n",
      "2: B\n",
      "3: C\n",
      "4: D\n",
      "5: E\n",
      "6: F\n",
      "7: G\n",
      "8: H\n",
      "9: I\n",
      "10: J\n",
      "completed\n"
     ]
    }
   ],
   "source": [
    "OpenList=['A']\n",
    "ClosedList=[]\n",
    "k=1\n",
    "while OpenList:\n",
    "    state=OpenList[0]  \n",
    "    del OpenList[0]  \n",
    "    ClosedList.append(state)\n",
    "    print(str(k)+\": \"+state)\n",
    "    if state=='Goal':\n",
    "        break\n",
    "    activeNodes=[item for item in TargetGraph[state] if item not in ClosedList]\n",
    "    OpenList.append(activeNodes)  # the last item\n",
    "    OpenList=[item for i in OpenList for item in i if item not in ClosedList]\n",
    "    k=k+1\n",
    "print('completed') "
   ]
  },
  {
   "cell_type": "code",
   "execution_count": null,
   "metadata": {},
   "outputs": [],
   "source": []
  }
 ],
 "metadata": {
  "kernelspec": {
   "display_name": "Python 3 (ipykernel)",
   "language": "python",
   "name": "python3"
  },
  "language_info": {
   "codemirror_mode": {
    "name": "ipython",
    "version": 3
   },
   "file_extension": ".py",
   "mimetype": "text/x-python",
   "name": "python",
   "nbconvert_exporter": "python",
   "pygments_lexer": "ipython3",
   "version": "3.9.14"
  }
 },
 "nbformat": 4,
 "nbformat_minor": 2
}
