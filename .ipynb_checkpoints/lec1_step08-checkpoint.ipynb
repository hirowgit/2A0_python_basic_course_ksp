{
 "cells": [
  {
   "cell_type": "code",
   "execution_count": null,
   "metadata": {},
   "outputs": [],
   "source": [
    "## Python basics for novice data scientists, supported by Wagatsuma Lab@Kyutech \n",
    "#\n",
    "# The MIT License (MIT): Copyright (c) 2020 Hiroaki Wagatsuma and Wagatsuma Lab@Kyutech\n",
    "# \n",
    "# Permission is hereby granted, free of charge, to any person obtaining a copy of this software and associated documentation files (the \"Software\"), to deal in the Software without restriction, including without limitation the rights to use, copy, modify, merge, publish, distribute, sublicense, and/or sell copies of the Software, and to permit persons to whom the Software is furnished to do so, subject to the following conditions:\n",
    "# The above copyright notice and this permission notice shall be included in all copies or substantial portions of the Software.\n",
    "# THE SOFTWARE IS PROVIDED \"AS IS\", WITHOUT WARRANTY OF ANY KIND, EXPRESS OR IMPLIED, INCLUDING BUT NOT LIMITED TO THE WARRANTIES OF MERCHANTABILITY, FITNESS FOR A PARTICULAR PURPOSE AND NONINFRINGEMENT. IN NO EVENT SHALL THE AUTHORS OR COPYRIGHT HOLDERS BE LIABLE FOR ANY CLAIM, DAMAGES OR OTHER LIABILITY, WHETHER IN AN ACTION OF CONTRACT, TORT OR OTHERWISE, ARISING FROM, OUT OF OR IN CONNECTION WITH THE SOFTWARE OR THE USE OR OTHER DEALINGS IN THE SOFTWARE. */\n",
    "#\n",
    "# # @Time    : 2020-10-14 \n",
    "# # @Author  : Hiroaki Wagatsuma\n",
    "# # @Site    : https://github.com/hirowgit/2A_python_basic_course\n",
    "# # @IDE     : Python 3.7.7 (default, Mar 10 2020, 15:43:27) [Clang 10.0.0 (clang-1000.11.45.5)] on darwin\n",
    "# # @File    : lec1_step8.py "
   ]
  },
  {
   "cell_type": "code",
   "execution_count": null,
   "metadata": {},
   "outputs": [],
   "source": [
    "# Practice 3-1 (page 13/29)\n",
    "# https://www.slideshare.net/tadahirotaniguchi0624/3-46861684"
   ]
  },
  {
   "cell_type": "code",
   "execution_count": 1,
   "metadata": {},
   "outputs": [],
   "source": [
    "TargetGraph={\n",
    "    'S':['A','B'],\n",
    "    'A':['S','B','C'],\n",
    "    'B':['S','A','E' ,'F'],\n",
    "    'C':['A','E','D'],\n",
    "    'D':['C','E' ,'G'],\n",
    "    'E':['B','C' ,'D' ,'G'],\n",
    "    'F':['B'],\n",
    "    'G':['D','E']\n",
    "}"
   ]
  },
  {
   "cell_type": "code",
   "execution_count": 39,
   "metadata": {},
   "outputs": [
    {
     "name": "stdout",
     "output_type": "stream",
     "text": [
      "[]\n",
      "OpenList(1):  [['A', 'B']]\n",
      "OpenList(2):  ['A', 'B']\n",
      "ClosedList:  ['S']\n",
      "S\n",
      "OpenList(1):  [['B', 'C'], 'B']\n",
      "OpenList(2):  ['B', 'C', 'B']\n",
      "ClosedList:  ['S', 'A']\n",
      "A\n",
      "OpenList(1):  [['E', 'F'], 'C', 'B']\n",
      "OpenList(2):  ['E', 'F', 'C']\n",
      "ClosedList:  ['S', 'A', 'B']\n",
      "B\n",
      "OpenList(1):  [['C', 'D', 'G'], 'F', 'C']\n",
      "OpenList(2):  ['C', 'D', 'G', 'F', 'C']\n",
      "ClosedList:  ['S', 'A', 'B', 'E']\n",
      "E\n",
      "OpenList(1):  [['D'], 'D', 'G', 'F', 'C']\n",
      "OpenList(2):  ['D', 'D', 'G', 'F']\n",
      "ClosedList:  ['S', 'A', 'B', 'E', 'C']\n",
      "C\n",
      "OpenList(1):  [['G'], 'D', 'G', 'F']\n",
      "OpenList(2):  ['G', 'G', 'F']\n",
      "ClosedList:  ['S', 'A', 'B', 'E', 'C', 'D']\n",
      "D\n",
      "completed\n"
     ]
    }
   ],
   "source": [
    "state=[]\n",
    "OpenList=['S']\n",
    "ClosedList=[]\n",
    "while OpenList:\n",
    "    print(state)\n",
    "    #print(OpenList)\n",
    "    state=OpenList[0]  \n",
    "    del OpenList[0]  \n",
    "    ClosedList.append(state)\n",
    "    if state=='G':\n",
    "        break\n",
    "    activeNodes=[item for item in TargetGraph[state] if item not in ClosedList]\n",
    "    OpenList.insert(0, activeNodes)  # the first item\n",
    "    #s1 = ','.join(OpenList); \n",
    "    print('OpenList(1): ',OpenList)\n",
    "    #pprint.pprint(OpenList)\n",
    "    OpenList=[item for i in OpenList for item in i if item not in ClosedList]\n",
    "    print('OpenList(2): ',OpenList)\n",
    "    print('ClosedList: ',ClosedList)    \n",
    "print('completed') "
   ]
  },
  {
   "cell_type": "code",
   "execution_count": 3,
   "metadata": {},
   "outputs": [
    {
     "name": "stdout",
     "output_type": "stream",
     "text": [
      "['A', 'B', 'C', 'D', 'E', 'S']\n",
      "{'S': 0, 'A': 5, 'B': 8, 'C': 1, 'D': 2, 'E': 6}\n"
     ]
    }
   ],
   "source": [
    "H = {'S': 0,'A': 5, 'B': 8, 'C': 1, 'D': 2, 'E': 6}\n",
    "H1=sorted(H)\n",
    "print(H1)\n",
    "print(H)"
   ]
  },
  {
   "cell_type": "code",
   "execution_count": 6,
   "metadata": {},
   "outputs": [
    {
     "name": "stdout",
     "output_type": "stream",
     "text": [
      "None\n",
      "[1, 2, 4, 5, 6]\n"
     ]
    }
   ],
   "source": [
    "L=[5,6,1,2,4]\n",
    "H1=L.sort()\n",
    "print(H1)\n",
    "print(L)"
   ]
  },
  {
   "cell_type": "code",
   "execution_count": 76,
   "metadata": {},
   "outputs": [
    {
     "data": {
      "text/plain": [
       "['A', 'B', 'C', 'D', 'E', 'S']"
      ]
     },
     "execution_count": 76,
     "metadata": {},
     "output_type": "execute_result"
    }
   ],
   "source": [
    "sorted(H.keys())"
   ]
  },
  {
   "cell_type": "code",
   "execution_count": 42,
   "metadata": {},
   "outputs": [
    {
     "data": {
      "text/plain": [
       "[0, 1, 2, 5, 6, 8]"
      ]
     },
     "execution_count": 42,
     "metadata": {},
     "output_type": "execute_result"
    }
   ],
   "source": [
    "sorted(H.values())"
   ]
  },
  {
   "cell_type": "code",
   "execution_count": 44,
   "metadata": {},
   "outputs": [
    {
     "data": {
      "text/plain": [
       "[('A', 5), ('B', 8), ('C', 1), ('D', 2), ('E', 6), ('S', 0)]"
      ]
     },
     "execution_count": 44,
     "metadata": {},
     "output_type": "execute_result"
    }
   ],
   "source": [
    "sorted(H.items(), key = lambda x:x[0])"
   ]
  },
  {
   "cell_type": "code",
   "execution_count": 74,
   "metadata": {},
   "outputs": [
    {
     "data": {
      "text/plain": [
       "[('S', 0), ('C', 1), ('D', 2), ('A', 5), ('E', 6), ('B', 8)]"
      ]
     },
     "execution_count": 74,
     "metadata": {},
     "output_type": "execute_result"
    }
   ],
   "source": [
    "sorted(H.items(), key = lambda x:x[1])"
   ]
  },
  {
   "cell_type": "code",
   "execution_count": 77,
   "metadata": {},
   "outputs": [
    {
     "name": "stdout",
     "output_type": "stream",
     "text": [
      "[('S', 0), ('C', 1), ('D', 2), ('A', 5), ('E', 6), ('B', 8)]\n"
     ]
    }
   ],
   "source": [
    "H2=sorted(H.items(), key = lambda x:x[1])\n",
    "print(H2)\n"
   ]
  },
  {
   "cell_type": "code",
   "execution_count": 78,
   "metadata": {},
   "outputs": [
    {
     "data": {
      "text/plain": [
       "[('S', 0), ('C', 1), ('D', 2), ('A', 5), ('E', 6), ('B', 8)]"
      ]
     },
     "execution_count": 78,
     "metadata": {},
     "output_type": "execute_result"
    }
   ],
   "source": [
    "sorted(H2, key = lambda x:x[1])"
   ]
  },
  {
   "cell_type": "code",
   "execution_count": 79,
   "metadata": {},
   "outputs": [
    {
     "data": {
      "text/plain": [
       "[('A', 5), ('B', 8), ('C', 1), ('D', 2), ('E', 6), ('S', 0)]"
      ]
     },
     "execution_count": 79,
     "metadata": {},
     "output_type": "execute_result"
    }
   ],
   "source": [
    "sorted(H2, key = lambda x:x[0])"
   ]
  },
  {
   "cell_type": "code",
   "execution_count": 80,
   "metadata": {},
   "outputs": [
    {
     "data": {
      "text/plain": [
       "['S', 'C', 'D', 'A', 'E', 'B']"
      ]
     },
     "execution_count": 80,
     "metadata": {},
     "output_type": "execute_result"
    }
   ],
   "source": [
    "[i[0] for i in H2 ]"
   ]
  },
  {
   "cell_type": "code",
   "execution_count": 69,
   "metadata": {},
   "outputs": [
    {
     "data": {
      "text/plain": [
       "[0, 1, 2, 5, 6, 8]"
      ]
     },
     "execution_count": 69,
     "metadata": {},
     "output_type": "execute_result"
    }
   ],
   "source": [
    "[i[1] for i in H2 ]"
   ]
  },
  {
   "cell_type": "code",
   "execution_count": 81,
   "metadata": {},
   "outputs": [],
   "source": [
    "hh1=[i[0] for i in H2 ]\n",
    "hh2=[i[1] for i in H2 ]"
   ]
  },
  {
   "cell_type": "code",
   "execution_count": 87,
   "metadata": {},
   "outputs": [
    {
     "data": {
      "text/plain": [
       "[('S', 0), ('C', 1), ('D', 2), ('A', 5), ('E', 6), ('B', 8)]"
      ]
     },
     "execution_count": 87,
     "metadata": {},
     "output_type": "execute_result"
    }
   ],
   "source": [
    "[(hh1[i],hh2[i]) for i in range(len(hh1)) ]"
   ]
  },
  {
   "cell_type": "code",
   "execution_count": 86,
   "metadata": {},
   "outputs": [
    {
     "data": {
      "text/plain": [
       "[('S', 0), ('C', 1), ('D', 2), ('A', 5), ('E', 6), ('B', 8)]"
      ]
     },
     "execution_count": 86,
     "metadata": {},
     "output_type": "execute_result"
    }
   ],
   "source": [
    "[(hh1[i],hh2[i]) for i in range(len(hh1)) ]"
   ]
  },
  {
   "cell_type": "code",
   "execution_count": 5,
   "metadata": {},
   "outputs": [
    {
     "data": {
      "text/plain": [
       "['S', 'A', 'B', 'C', 'D', 'E', 'F', 'G']"
      ]
     },
     "execution_count": 5,
     "metadata": {},
     "output_type": "execute_result"
    }
   ],
   "source": [
    "['S','A','B','C','D','E','F','G']"
   ]
  },
  {
   "cell_type": "code",
   "execution_count": 20,
   "metadata": {},
   "outputs": [],
   "source": [
    "C=[[0, 2, 6, 0, 0, 0, 0, 0],\n",
    "      [2, 0, 2, 1, 0, 0, 0, 0] ,\n",
    "      [6, 2, 0, 0, 0, 5, 4, 0] ,\n",
    "      [0, 1, 0, 0, 5, 2, 0, 0] ,\n",
    "      [0, 0, 0, 5, 0, 1, 0, 1] ,\n",
    "      [0, 0, 5, 2, 1, 0, 0, 5] ,\n",
    "      [0, 0, 4, 0, 0, 0, 0, 0] ,\n",
    "      [0, 0, 0, 0, 1, 5, 0, 0]\n",
    "]"
   ]
  },
  {
   "cell_type": "code",
   "execution_count": 91,
   "metadata": {},
   "outputs": [
    {
     "name": "stdout",
     "output_type": "stream",
     "text": [
      "[[0, 2, 6, 0, 0, 0, 0, 0], [2, 0, 2, 1, 0, 0, 0, 0], [6, 2, 0, 0, 0, 5, 4, 0], [0, 1, 0, 0, 5, 2, 0, 0], [0, 0, 0, 5, 0, 1, 0, 1], [0, 0, 5, 2, 1, 0, 0, 5], [0, 0, 4, 0, 0, 0, 0, 0], [0, 0, 0, 0, 1, 5, 0, 0]]\n"
     ]
    }
   ],
   "source": [
    "print(C)"
   ]
  },
  {
   "cell_type": "code",
   "execution_count": 92,
   "metadata": {},
   "outputs": [
    {
     "name": "stdout",
     "output_type": "stream",
     "text": [
      "[[0, 2, 6, 0, 0, 0, 0, 0],\n",
      " [2, 0, 2, 1, 0, 0, 0, 0],\n",
      " [6, 2, 0, 0, 0, 5, 4, 0],\n",
      " [0, 1, 0, 0, 5, 2, 0, 0],\n",
      " [0, 0, 0, 5, 0, 1, 0, 1],\n",
      " [0, 0, 5, 2, 1, 0, 0, 5],\n",
      " [0, 0, 4, 0, 0, 0, 0, 0],\n",
      " [0, 0, 0, 0, 1, 5, 0, 0]]\n"
     ]
    }
   ],
   "source": [
    "pprint.pprint(C)"
   ]
  },
  {
   "cell_type": "code",
   "execution_count": 7,
   "metadata": {},
   "outputs": [
    {
     "name": "stdout",
     "output_type": "stream",
     "text": [
      "['S', 'A', 'B', 'C', 'D', 'E', 'F', 'G']\n"
     ]
    }
   ],
   "source": [
    "N=7\n",
    "Node=[chr(i) for i in range(65,65+N)]\n",
    "Node=['S']+Node\n",
    "print(Node)"
   ]
  },
  {
   "cell_type": "code",
   "execution_count": 10,
   "metadata": {},
   "outputs": [
    {
     "data": {
      "text/plain": [
       "'E'"
      ]
     },
     "execution_count": 10,
     "metadata": {},
     "output_type": "execute_result"
    }
   ],
   "source": [
    "Node[5]"
   ]
  },
  {
   "cell_type": "code",
   "execution_count": 12,
   "metadata": {},
   "outputs": [
    {
     "data": {
      "text/plain": [
       "4"
      ]
     },
     "execution_count": 12,
     "metadata": {},
     "output_type": "execute_result"
    }
   ],
   "source": [
    "Node.index('D')"
   ]
  },
  {
   "cell_type": "code",
   "execution_count": 11,
   "metadata": {},
   "outputs": [
    {
     "data": {
      "text/plain": [
       "[2, 4]"
      ]
     },
     "execution_count": 11,
     "metadata": {},
     "output_type": "execute_result"
    }
   ],
   "source": [
    "OpenList=['B','D']\n",
    "# Node.index('B')\n",
    "indexList=[Node.index(L)  for L in OpenList]\n",
    "indexList"
   ]
  },
  {
   "cell_type": "code",
   "execution_count": 16,
   "metadata": {},
   "outputs": [],
   "source": [
    "state='E'"
   ]
  },
  {
   "cell_type": "code",
   "execution_count": 19,
   "metadata": {},
   "outputs": [
    {
     "data": {
      "text/plain": [
       "5"
      ]
     },
     "execution_count": 19,
     "metadata": {},
     "output_type": "execute_result"
    }
   ],
   "source": [
    "Node.index(state)"
   ]
  },
  {
   "cell_type": "code",
   "execution_count": 22,
   "metadata": {},
   "outputs": [
    {
     "data": {
      "text/plain": [
       "[0, 0, 5, 2, 1, 0, 0, 5]"
      ]
     },
     "execution_count": 22,
     "metadata": {},
     "output_type": "execute_result"
    }
   ],
   "source": [
    "key=Node.index(state)\n",
    "Cost=C[key]\n",
    "Cost"
   ]
  },
  {
   "cell_type": "code",
   "execution_count": 23,
   "metadata": {},
   "outputs": [
    {
     "name": "stdout",
     "output_type": "stream",
     "text": [
      "[6, 2, 0, 0, 0, 5, 4, 0]\n",
      " \n",
      "[0, 1, 5, 6]\n",
      "[6, 2, 0, 0, 0, 5, 4, 0]\n",
      "[6, 2, 5, 4]\n",
      "[2, 4, 5, 6]\n"
     ]
    }
   ],
   "source": [
    "OpenList=['S','A','E','F']\n",
    "state='B'\n",
    "key=Node.index(state)\n",
    "Cost=C[key]\n",
    "print(Cost)\n",
    "print(' ')\n",
    "indexList=[Node.index(L)  for L in OpenList]\n",
    "print(indexList)\n",
    "CList=[C[Node.index(state)][i] for i in indexList]\n",
    "# a[[0,1]]\n",
    "print(C[Node.index(state)])\n",
    "print(CList)\n",
    "print(sorted(CList))"
   ]
  },
  {
   "cell_type": "code",
   "execution_count": 71,
   "metadata": {},
   "outputs": [
    {
     "name": "stdout",
     "output_type": "stream",
     "text": [
      "[1, 2, 3, 4, 5, 6, 7]\n",
      "[1, 2, 3, 4, 5, 6, 7]\n"
     ]
    }
   ],
   "source": [
    "LL=[7,6,5,4,3,2,1]\n",
    "LL.sort(key=lambda x: x)\n",
    "print(LL)\n",
    "\n",
    "LL=[7,6,5,4,3,2,1]\n",
    "LL.sort()\n",
    "print(LL)"
   ]
  },
  {
   "cell_type": "code",
   "execution_count": 72,
   "metadata": {},
   "outputs": [
    {
     "ename": "TypeError",
     "evalue": "'list' object is not callable",
     "output_type": "error",
     "traceback": [
      "\u001b[0;31m---------------------------------------------------------------------------\u001b[0m",
      "\u001b[0;31mTypeError\u001b[0m                                 Traceback (most recent call last)",
      "Cell \u001b[0;32mIn [72], line 3\u001b[0m\n\u001b[1;32m      1\u001b[0m LL\u001b[38;5;241m=\u001b[39m[\u001b[38;5;241m7\u001b[39m,\u001b[38;5;241m6\u001b[39m,\u001b[38;5;241m5\u001b[39m,\u001b[38;5;241m4\u001b[39m,\u001b[38;5;241m3\u001b[39m,\u001b[38;5;241m2\u001b[39m,\u001b[38;5;241m1\u001b[39m]\n\u001b[1;32m      2\u001b[0m aa\u001b[38;5;241m=\u001b[39m[\u001b[38;5;124m'\u001b[39m\u001b[38;5;124ma\u001b[39m\u001b[38;5;124m'\u001b[39m,\u001b[38;5;124m'\u001b[39m\u001b[38;5;124mb\u001b[39m\u001b[38;5;124m'\u001b[39m,\u001b[38;5;124m'\u001b[39m\u001b[38;5;124mc\u001b[39m\u001b[38;5;124m'\u001b[39m,\u001b[38;5;124m'\u001b[39m\u001b[38;5;124md\u001b[39m\u001b[38;5;124m'\u001b[39m,\u001b[38;5;124m'\u001b[39m\u001b[38;5;124me\u001b[39m\u001b[38;5;124m'\u001b[39m,\u001b[38;5;124m'\u001b[39m\u001b[38;5;124mf\u001b[39m\u001b[38;5;124m'\u001b[39m,\u001b[38;5;124m'\u001b[39m\u001b[38;5;124mg\u001b[39m\u001b[38;5;124m'\u001b[39m]\n\u001b[0;32m----> 3\u001b[0m \u001b[43maa\u001b[49m\u001b[38;5;241;43m.\u001b[39;49m\u001b[43msort\u001b[49m\u001b[43m(\u001b[49m\u001b[43mkey\u001b[49m\u001b[38;5;241;43m=\u001b[39;49m\u001b[43mLL\u001b[49m\u001b[43m)\u001b[49m\n\u001b[1;32m      4\u001b[0m aa\n",
      "\u001b[0;31mTypeError\u001b[0m: 'list' object is not callable"
     ]
    }
   ],
   "source": [
    "LL=[7,6,5,4,3,2,1]\n",
    "aa=['a','b','c','d','e','f','g']\n",
    "aa.sort(key=LL)\n",
    "aa"
   ]
  },
  {
   "cell_type": "code",
   "execution_count": 73,
   "metadata": {},
   "outputs": [
    {
     "name": "stdout",
     "output_type": "stream",
     "text": [
      "[{'node': 'S', 'cost': 6}, {'node': 'A', 'cost': 2}, {'node': 'B', 'cost': 0}, {'node': 'C', 'cost': 0}, {'node': 'D', 'cost': 0}, {'node': 'E', 'cost': 5}, {'node': 'F', 'cost': 4}, {'node': 'G', 'cost': 0}]\n"
     ]
    },
    {
     "data": {
      "text/plain": [
       "[{'node': 'B', 'cost': 0},\n",
       " {'node': 'C', 'cost': 0},\n",
       " {'node': 'D', 'cost': 0},\n",
       " {'node': 'G', 'cost': 0},\n",
       " {'node': 'A', 'cost': 2},\n",
       " {'node': 'F', 'cost': 4},\n",
       " {'node': 'E', 'cost': 5},\n",
       " {'node': 'S', 'cost': 6}]"
      ]
     },
     "execution_count": 73,
     "metadata": {},
     "output_type": "execute_result"
    }
   ],
   "source": [
    "keys = ['node','cost']\n",
    "d_all=[]\n",
    "for i in range(len(Node)):\n",
    "    values=[Node[i],Cost[i]]\n",
    "    d = {k: v for k, v in zip(keys, values)}\n",
    "    d_all.append(d)\n",
    "print(d_all)\n",
    "d_all.sort(key=lambda x: x['cost'])\n",
    "d_all"
   ]
  },
  {
   "cell_type": "code",
   "execution_count": 75,
   "metadata": {},
   "outputs": [
    {
     "name": "stdout",
     "output_type": "stream",
     "text": [
      "[{'node': 'S', 'cost': 6}, {'node': 'A', 'cost': 2}, {'node': 'B', 'cost': 0}, {'node': 'C', 'cost': 0}, {'node': 'D', 'cost': 0}, {'node': 'E', 'cost': 5}, {'node': 'F', 'cost': 4}, {'node': 'G', 'cost': 0}]\n"
     ]
    },
    {
     "data": {
      "text/plain": [
       "[{'node': 'S', 'cost': 6},\n",
       " {'node': 'E', 'cost': 5},\n",
       " {'node': 'F', 'cost': 4},\n",
       " {'node': 'A', 'cost': 2},\n",
       " {'node': 'B', 'cost': 0},\n",
       " {'node': 'C', 'cost': 0},\n",
       " {'node': 'D', 'cost': 0},\n",
       " {'node': 'G', 'cost': 0}]"
      ]
     },
     "execution_count": 75,
     "metadata": {},
     "output_type": "execute_result"
    }
   ],
   "source": [
    "keys = ['node','cost']\n",
    "d_all=[]\n",
    "for i in range(len(Node)):\n",
    "    values=[Node[i],Cost[i]]\n",
    "    d = {k: v for k, v in zip(keys, values)}\n",
    "    d_all.append(d)\n",
    "print(d_all)\n",
    "d_all.sort(key=lambda x: x['cost'], reverse=True)\n",
    "d_all"
   ]
  },
  {
   "cell_type": "code",
   "execution_count": 77,
   "metadata": {},
   "outputs": [
    {
     "name": "stdout",
     "output_type": "stream",
     "text": [
      "['S', 'A', 'E', 'F']\n",
      "[6, 2, 5, 4]\n",
      " \n",
      "[{'node': 'S', 'cost': 6}, {'node': 'A', 'cost': 2}, {'node': 'E', 'cost': 5}, {'node': 'F', 'cost': 4}]\n",
      "[{'node': 'A', 'cost': 2}, {'node': 'F', 'cost': 4}, {'node': 'E', 'cost': 5}, {'node': 'S', 'cost': 6}]\n",
      "['A', 'F', 'E', 'S']\n"
     ]
    }
   ],
   "source": [
    "print(OpenList)\n",
    "print(CList)\n",
    "print(' ')\n",
    "keys = ['node','cost']\n",
    "# keys2 = ['node','cost','h']\n",
    "d_all=[]\n",
    "for i in range(len(OpenList)):\n",
    "    values=[OpenList[i],CList[i]]\n",
    "    d = {k: v for k, v in zip(keys, values)}\n",
    "    d_all.append(d)\n",
    "print(d_all)\n",
    "d_all.sort(key=lambda x: x['cost'])\n",
    "print(d_all)\n",
    "print([d['node'] for d in d_all])"
   ]
  },
  {
   "cell_type": "code",
   "execution_count": 122,
   "metadata": {},
   "outputs": [
    {
     "name": "stdout",
     "output_type": "stream",
     "text": [
      "[['S', 'A', 'E', 'F'], [0, 1, 5, 6], [6, 2, 5, 4]]\n",
      "4\n"
     ]
    }
   ],
   "source": [
    "mergedList[0]\n",
    "[mergedList[j][0] for j in range(len(mergedList))]\n",
    "print(mergedList)\n",
    "print(len(mergedList[0]))"
   ]
  },
  {
   "cell_type": "code",
   "execution_count": 125,
   "metadata": {},
   "outputs": [
    {
     "name": "stdout",
     "output_type": "stream",
     "text": [
      "[['S', 'A', 'E', 'F'], [0, 1, 5, 6], [6, 2, 5, 4]]\n",
      "[0]\n",
      "[['S', 0, 6]]\n",
      "[1]\n",
      "[['S', 0, 6], ['A', 1, 2]]\n",
      "[2]\n",
      "[['S', 0, 6], ['A', 1, 2], ['E', 5, 5]]\n",
      "[3]\n",
      "[['S', 0, 6], ['A', 1, 2], ['E', 5, 5], ['F', 6, 4]]\n",
      "[['S', 0, 6], ['A', 1, 2], ['E', 5, 5], ['F', 6, 4]]\n",
      " \n",
      "[['A', 1, 2], ['F', 6, 4], ['E', 5, 5], ['S', 0, 6]]\n"
     ]
    },
    {
     "data": {
      "text/plain": [
       "['A', 'F', 'E', 'S']"
      ]
     },
     "execution_count": 125,
     "metadata": {},
     "output_type": "execute_result"
    }
   ],
   "source": [
    "OpenList=['S','A','E','F']\n",
    "state='B'\n",
    "key=Node.index(state)\n",
    "Cost=C[key]\n",
    "indexList=[Node.index(L)  for L in OpenList]\n",
    "# print(Node[[0,1]])\n",
    "CList=[C[Node.index(state)][i] for i in indexList]\n",
    "mergedList=[OpenList,indexList,CList]\n",
    "print(mergedList)\n",
    "\n",
    "mergedList2=[]\n",
    "for i in range(len(mergedList[0])):\n",
    "    mergedList2.append([mergedList[j][i] for j in range(len(mergedList))])\n",
    "    \n",
    "    print([i])\n",
    "    print(mergedList2)\n",
    "\n",
    "\n",
    "print(mergedList2)\n",
    "print(' ')\n",
    "\n",
    "mergedList2.sort(key=lambda x: x[2])\n",
    "print(mergedList2)\n",
    "[mergedList2[i][0] for i in range(len(mergedList2))]\n"
   ]
  },
  {
   "cell_type": "code",
   "execution_count": 102,
   "metadata": {},
   "outputs": [
    {
     "name": "stdout",
     "output_type": "stream",
     "text": [
      "[['S', 'A', 'E', 'F'], [0, 1, 5, 6], [6, 2, 5, 4]]\n",
      "[['S' 'A' 'E' 'F']\n",
      " ['0' '1' '5' '6']\n",
      " ['6' '2' '5' '4']]\n",
      "[['S' '0' '6']\n",
      " ['A' '1' '2']\n",
      " ['E' '5' '5']\n",
      " ['F' '6' '4']]\n",
      " \n",
      "['S', '0', '6']\n",
      " \n",
      "[['A', '1', '2'], ['F', '6', '4'], ['E', '5', '5'], ['S', '0', '6']]\n"
     ]
    },
    {
     "data": {
      "text/plain": [
       "['A', 'F', 'E', 'S']"
      ]
     },
     "execution_count": 102,
     "metadata": {},
     "output_type": "execute_result"
    }
   ],
   "source": [
    "import numpy as np\n",
    "\n",
    "OpenList=['S','A','E','F']\n",
    "state='B'\n",
    "key=Node.index(state)\n",
    "Cost=C[key]\n",
    "indexList=[Node.index(L)  for L in OpenList]\n",
    "# print(Node[[0,1]])\n",
    "CList=[C[Node.index(state)][i] for i in indexList]\n",
    "mergedList=[OpenList,indexList,CList]\n",
    "print(mergedList)\n",
    "\n",
    "mergedList_np=np.array(mergedList)\n",
    "print(mergedList_np)\n",
    "# np.transpose(mergedList_np)\n",
    "print(mergedList_np.T)\n",
    "print(' ')\n",
    "mergedList2=(mergedList_np.T).tolist()\n",
    "print(mergedList2[0])\n",
    "print(' ')\n",
    "mergedList2.sort(key=lambda x: x[2])\n",
    "print(mergedList2)\n",
    "[mergedList2[i][0] for i in range(len(mergedList2))]\n"
   ]
  },
  {
   "cell_type": "code",
   "execution_count": null,
   "metadata": {},
   "outputs": [],
   "source": []
  },
  {
   "cell_type": "code",
   "execution_count": null,
   "metadata": {},
   "outputs": [],
   "source": [
    "# ============================="
   ]
  },
  {
   "cell_type": "code",
   "execution_count": 113,
   "metadata": {},
   "outputs": [
    {
     "data": {
      "text/plain": [
       "[('S', 'A')]"
      ]
     },
     "execution_count": 113,
     "metadata": {},
     "output_type": "execute_result"
    }
   ],
   "source": [
    "[('S','A')]"
   ]
  },
  {
   "cell_type": "code",
   "execution_count": 120,
   "metadata": {},
   "outputs": [
    {
     "name": "stdout",
     "output_type": "stream",
     "text": [
      "S\n",
      "A\n"
     ]
    }
   ],
   "source": [
    "g=('S', 'A')\n",
    "print(g[0])\n",
    "print(g[1])"
   ]
  },
  {
   "cell_type": "code",
   "execution_count": 118,
   "metadata": {},
   "outputs": [
    {
     "data": {
      "text/plain": [
       "2"
      ]
     },
     "execution_count": 118,
     "metadata": {},
     "output_type": "execute_result"
    }
   ],
   "source": [
    "C[1][2]"
   ]
  },
  {
   "cell_type": "code",
   "execution_count": 121,
   "metadata": {},
   "outputs": [
    {
     "data": {
      "text/plain": [
       "2"
      ]
     },
     "execution_count": 121,
     "metadata": {},
     "output_type": "execute_result"
    }
   ],
   "source": [
    "g=('S', 'A')\n",
    "i=[s for s in range(len(Node)) if g[0] in Node[s]][0]\n",
    "j=[s for s in range(len(Node)) if g[1] in Node[s]][0]\n",
    "C[i][j]"
   ]
  },
  {
   "cell_type": "code",
   "execution_count": 7,
   "metadata": {},
   "outputs": [
    {
     "name": "stdout",
     "output_type": "stream",
     "text": [
      "['S', 'A', 'B', 'C', 'D', 'E', 'F', 'G']\n"
     ]
    },
    {
     "data": {
      "text/plain": [
       "2"
      ]
     },
     "execution_count": 7,
     "metadata": {},
     "output_type": "execute_result"
    }
   ],
   "source": [
    "def eachCost(Pair,Node,C):\n",
    "    i=[s for s in range(len(Node)) if Pair[0] in Node[s]][0]\n",
    "    j=[s for s in range(len(Node)) if Pair[1] in Node[s]][0]\n",
    "    return C[i][j]\n",
    "\n",
    "C=[[0, 2, 6, 0, 0, 0, 0, 0],\n",
    "      [2, 0, 2, 1, 0, 0, 0, 0] ,\n",
    "      [6, 2, 0, 0, 0, 5, 4, 0] ,\n",
    "      [0, 1, 0, 0, 5, 2, 0, 0] ,\n",
    "      [0, 0, 0, 5, 0, 1, 0, 1] ,\n",
    "      [0, 0, 5, 2, 1, 0, 0, 5] ,\n",
    "      [0, 0, 4, 0, 0, 0, 0, 0] ,\n",
    "      [0, 0, 0, 0, 1, 5, 0, 0]\n",
    "]\n",
    "N=7\n",
    "Node=[chr(i) for i in range(65,65+N)]\n",
    "Node=['S']+Node\n",
    "print(Node)\n",
    "g=('S', 'A')\n",
    "eachCost(g,Node,C)\n",
    "\n"
   ]
  },
  {
   "cell_type": "code",
   "execution_count": 10,
   "metadata": {},
   "outputs": [
    {
     "name": "stdout",
     "output_type": "stream",
     "text": [
      "S\n",
      "[('A', 'S'), ('B', 'S')]\n",
      "('A', 'S')\n",
      "[2, 6]\n",
      "OpenList(1):  [['A', 'B']]\n",
      "key:  [0, 1]\n",
      "OpenList(2):  ['A', 'B']\n",
      "ClosedList:  ['S']\n",
      "A\n",
      "[('B', 'A'), ('C', 'A')]\n",
      "('B', 'A')\n",
      "[2, 1]\n",
      "OpenList(1):  [['B', 'C'], 'B']\n",
      "key:  [0, 1, 2]\n",
      "OpenList(2):  ['B', 'C', 'B']\n",
      "ClosedList:  ['S', 'A']\n",
      "B\n",
      "[('E', 'B'), ('F', 'B')]\n",
      "('E', 'B')\n",
      "[5, 4]\n",
      "OpenList(1):  [['E', 'F'], 'C', 'B']\n",
      "key:  [0, 1, 2]\n",
      "OpenList(2):  ['E', 'F', 'C', 'B']\n",
      "ClosedList:  ['S', 'A', 'B']\n",
      "E\n",
      "[('C', 'E'), ('D', 'E'), ('G', 'E')]\n",
      "('C', 'E')\n",
      "[2, 1, 5]\n",
      "OpenList(1):  [['C', 'D', 'G'], 'F', 'C', 'B']\n",
      "key:  [0, 1, 2, 3, 4]\n",
      "OpenList(2):  ['C', 'D', 'G', 'F', 'C', 'B']\n",
      "ClosedList:  ['S', 'A', 'B', 'E']\n",
      "C\n",
      "[('D', 'C')]\n",
      "('D', 'C')\n",
      "[5]\n",
      "OpenList(1):  [['D'], 'D', 'G', 'F', 'C', 'B']\n",
      "key:  [0, 1, 2, 3]\n",
      "OpenList(2):  ['D', 'D', 'G', 'F', 'C', 'B']\n",
      "ClosedList:  ['S', 'A', 'B', 'E', 'C']\n",
      "D\n",
      "[('G', 'D')]\n",
      "('G', 'D')\n",
      "[1]\n",
      "OpenList(1):  [['G'], 'D', 'G', 'F', 'C', 'B']\n",
      "key:  [0, 2, 3]\n",
      "OpenList(2):  ['G', 'D', 'G', 'F', 'C', 'B']\n",
      "ClosedList:  ['S', 'A', 'B', 'E', 'C', 'D']\n",
      "G\n",
      "completed\n"
     ]
    }
   ],
   "source": [
    "# New with the cost calculation\n",
    "CostList=[]\n",
    "state=[]\n",
    "OpenList=['S']\n",
    "ClosedList=[]\n",
    "while OpenList: \n",
    "    #print(OpenList)\n",
    "    state=OpenList[0]  \n",
    "    print(state)\n",
    "    del OpenList[0]  \n",
    "    ClosedList.append(state)\n",
    "    if state=='G':\n",
    "        break\n",
    "    activeNodes=[item for item in TargetGraph[state] if item not in ClosedList]\n",
    "    costM=[(s,state) for s in activeNodes]\n",
    "    print(costM)\n",
    "    print(costM[0])\n",
    "    costMat=[eachCost(costM[i],Node,C) for i in range(len(costM))]\n",
    "    print(costMat)\n",
    "    OpenList.insert(0, activeNodes)  # the first item\n",
    "    CostList.insert(0, costMat)  # the first item\n",
    "    print('OpenList(1): ',OpenList)\n",
    "    #OpenList=[item for i in OpenList for item in i if i not in ClosedList]\n",
    "    OpenList=[item for i in OpenList for item in i]\n",
    "    key=[k for k in range(len(OpenList)) if OpenList[k] not in ClosedList]\n",
    "    print('key: ',key)\n",
    "    print('OpenList(2): ',OpenList)\n",
    "    print('ClosedList: ',ClosedList)    \n",
    "print('completed') "
   ]
  },
  {
   "cell_type": "code",
   "execution_count": null,
   "metadata": {},
   "outputs": [],
   "source": [
    "# 2022/10/05\n",
    "# New with the cost calculation\n",
    "CostList=[]\n",
    "state=[]\n",
    "OpenList=['S']\n",
    "ClosedList=[]\n",
    "while OpenList: \n",
    "    #print(OpenList)\n",
    "    state=OpenList[0]  \n",
    "    print(state)\n",
    "    del OpenList[0]  \n",
    "    ClosedList.append(state)\n",
    "    if state=='G':\n",
    "        break\n",
    "    activeNodes=[item for item in TargetGraph[state] if item not in ClosedList]\n",
    "    costM=[(s,state) for s in activeNodes]\n",
    "    print(costM)\n",
    "    print(costM[0])\n",
    "    costMat=[eachCost(costM[i],Node,C) for i in range(len(costM))]\n",
    "    print(costMat)\n",
    "    OpenList.insert(0, activeNodes)  # the first item\n",
    "    CostList.insert(0, costMat)  # the first item\n",
    "    print('OpenList(1): ',OpenList)\n",
    "    #OpenList=[item for i in OpenList for item in i if i not in ClosedList]\n",
    "    OpenList=[item for i in OpenList for item in i]\n",
    "    key=[k for k in range(len(OpenList)) if OpenList[k] not in ClosedList]\n",
    "    print('key: ',key)\n",
    "    print('OpenList(2): ',OpenList)\n",
    "    print('ClosedList: ',ClosedList)    \n",
    "print('completed') "
   ]
  },
  {
   "cell_type": "code",
   "execution_count": 2,
   "metadata": {},
   "outputs": [
    {
     "name": "stdout",
     "output_type": "stream",
     "text": [
      "['state', 'S']\n",
      "['OpenList(1)', []]\n",
      "['ClosedList', ['S']]\n",
      "['OpenList(2)', ['A', 'B']]\n",
      "\n",
      "['state', 'A']\n",
      "['OpenList(1)', ['B']]\n",
      "['ClosedList', ['A', 'S']]\n",
      "['OpenList(2)', ['B', 'C']]\n",
      "\n",
      "['state', 'B']\n",
      "['OpenList(1)', ['C']]\n",
      "['ClosedList', ['B', 'A', 'S']]\n",
      "['OpenList(2)', ['C', 'F', 'E']]\n",
      "\n",
      "['state', 'C']\n",
      "['OpenList(1)', ['F', 'E']]\n",
      "['ClosedList', ['C', 'A', 'S', 'B']]\n",
      "['OpenList(2)', ['F', 'E', 'D']]\n",
      "\n",
      "['state', 'F']\n",
      "['OpenList(1)', ['E', 'D']]\n",
      "['ClosedList', ['F', 'A', 'S', 'C', 'B']]\n",
      "['OpenList(2)', ['E', 'D']]\n",
      "\n",
      "['state', 'E']\n",
      "['OpenList(1)', ['D']]\n",
      "['ClosedList', ['F', 'A', 'S', 'C', 'E', 'B']]\n",
      "['OpenList(2)', ['D', 'G']]\n",
      "\n",
      "['state', 'D']\n",
      "['OpenList(1)', ['G']]\n",
      "['ClosedList', ['F', 'A', 'S', 'D', 'C', 'E', 'B']]\n",
      "['OpenList(2)', ['G']]\n",
      "\n",
      "['state', 'G']\n",
      "['OpenList(1)', []]\n",
      "['ClosedList', ['F', 'A', 'S', 'G', 'D', 'C', 'E', 'B']]\n",
      "Completed\n"
     ]
    }
   ],
   "source": [
    "OpenList=['S']\n",
    "ClosedList=[]\n",
    "while OpenList:\n",
    "    state=OpenList[0]\n",
    "    del OpenList[0]\n",
    "    ClosedList=ClosedList+[state]\n",
    "    ClosedList=list(set(ClosedList))\n",
    "    print(['state',state])\n",
    "    print(['OpenList(1)',OpenList])\n",
    "    print(['ClosedList',ClosedList])\n",
    "    if state=='G':\n",
    "        break\n",
    "    tmpSt=set(TargetGraph[state]) -set(ClosedList)\n",
    "    activeNodes=list(tmpSt -set(OpenList))    \n",
    "    OpenList=OpenList+activeNodes\n",
    "  #  OpenList=list(set(OpenList))\n",
    "    print(['OpenList(2)',OpenList])\n",
    "    print('')\n",
    "print('Completed') "
   ]
  },
  {
   "cell_type": "code",
   "execution_count": null,
   "metadata": {},
   "outputs": [],
   "source": []
  },
  {
   "cell_type": "code",
   "execution_count": 208,
   "metadata": {},
   "outputs": [
    {
     "name": "stdout",
     "output_type": "stream",
     "text": [
      "S\n",
      "[('A', 'S'), ('B', 'S')]\n",
      "('A', 'S')\n",
      "[2, 6]\n",
      "OpenList(1):  [['A', 'B']]\n",
      "CostList(1):  [2, 6]\n",
      "key:  [0, 1]\n",
      "OpenList(2):  ['A', 'B']\n",
      "CostList(2):  [2, 6]\n",
      "ClosedList:  ['S']\n",
      "A\n",
      "[('B', 'A'), ('C', 'A')]\n",
      "('B', 'A')\n",
      "[2, 1]\n",
      "OpenList(1):  [['B', 'C'], 'B']\n",
      "CostList(1):  [2, 1, 2, 6]\n",
      "key:  [0, 1, 2]\n",
      "OpenList(2):  ['B', 'C', 'B']\n",
      "CostList(2):  [2, 1, 2, 6]\n",
      "ClosedList:  ['S', 'A']\n",
      "B\n",
      "[('E', 'B'), ('F', 'B')]\n",
      "('E', 'B')\n",
      "[5, 4]\n",
      "OpenList(1):  [['E', 'F'], 'C', 'B']\n",
      "CostList(1):  [5, 4, 2, 1, 2, 6]\n",
      "key:  [0, 1, 2]\n",
      "OpenList(2):  ['E', 'F', 'C']\n",
      "CostList(2):  [5, 4, 2, 1, 2, 6]\n",
      "ClosedList:  ['S', 'A', 'B']\n",
      "E\n",
      "[('C', 'E'), ('D', 'E'), ('G', 'E')]\n",
      "('C', 'E')\n",
      "[2, 1, 5]\n",
      "OpenList(1):  [['C', 'D', 'G'], 'F', 'C']\n",
      "CostList(1):  [2, 1, 5, 5, 4, 2, 1, 2, 6]\n",
      "key:  [0, 1, 2, 3, 4]\n",
      "OpenList(2):  ['C', 'D', 'G', 'F', 'C']\n",
      "CostList(2):  [2, 1, 5, 5, 4, 2, 1, 2, 6]\n",
      "ClosedList:  ['S', 'A', 'B', 'E']\n",
      "C\n",
      "[('D', 'C')]\n",
      "('D', 'C')\n",
      "[5]\n",
      "OpenList(1):  [['D'], 'D', 'G', 'F', 'C']\n",
      "CostList(1):  [5, 2, 1, 5, 5, 4, 2, 1, 2, 6]\n",
      "key:  [0, 1, 2, 3]\n",
      "OpenList(2):  ['D', 'D', 'G', 'F']\n",
      "CostList(2):  [5, 2, 1, 5, 5, 4, 2, 1, 2, 6]\n",
      "ClosedList:  ['S', 'A', 'B', 'E', 'C']\n",
      "D\n",
      "[('G', 'D')]\n",
      "('G', 'D')\n",
      "[1]\n",
      "OpenList(1):  [['G'], 'D', 'G', 'F']\n",
      "CostList(1):  [1, 5, 2, 1, 5, 5, 4, 2, 1, 2, 6]\n",
      "key:  [0, 2, 3]\n",
      "OpenList(2):  ['G', 'G', 'F']\n",
      "CostList(2):  [1, 5, 2, 1, 5, 5, 4, 2, 1, 2, 6]\n",
      "ClosedList:  ['S', 'A', 'B', 'E', 'C', 'D']\n",
      "G\n",
      "completed\n"
     ]
    }
   ],
   "source": [
    "# New with the cost calculation\n",
    "CostList=[]\n",
    "state=[]\n",
    "OpenList=['S']\n",
    "ClosedList=[]\n",
    "while OpenList: \n",
    "    #print(OpenList)\n",
    "    state=OpenList[0]  \n",
    "    print(state)\n",
    "    del OpenList[0]  \n",
    "    ClosedList.append(state)\n",
    "    if state=='G':\n",
    "        break\n",
    "    activeNodes=[item for item in TargetGraph[state] if item not in ClosedList]\n",
    "    costM=[(s,state) for s in activeNodes]\n",
    "    print(costM)\n",
    "    print(costM[0])\n",
    "    costMat=[eachCost(costM[i],Node,C) for i in range(len(costM))]\n",
    "    print(costMat)\n",
    "    OpenList.insert(0, activeNodes)  # the first item\n",
    "    CostList=costMat+CostList  # the first item\n",
    "    print('OpenList(1): ',OpenList)\n",
    "    print('CostList(1): ',CostList)\n",
    "    #OpenList=[item for i in OpenList for item in i if i not in ClosedList]\n",
    "    OpenList=[item for i in OpenList for item in i]\n",
    "    #CostList=[item for i in CostList for item in i]\n",
    "    key=[k for k in range(len(OpenList)) if OpenList[k] not in ClosedList]\n",
    "    OpenList=[OpenList[i] for i in key] \n",
    "    #CostList=[CostList[i] for i in key] \n",
    "    print('key: ',key)\n",
    "    print('OpenList(2): ',OpenList)\n",
    "    print('CostList(2): ',CostList)\n",
    "    print('ClosedList: ',ClosedList)    \n",
    "print('completed') "
   ]
  },
  {
   "cell_type": "code",
   "execution_count": 252,
   "metadata": {},
   "outputs": [
    {
     "name": "stdout",
     "output_type": "stream",
     "text": [
      "S\n",
      "OpenList(1):  ['A', 'B']\n",
      "CostList(1):  [2, 6]\n",
      "OpenList(2):  ['A', 'B']\n",
      "CostList(2):  [2, 6]\n",
      "OpenList(sorted):  ['A', 'B']\n",
      "CostList(sorted):  [2, 6]\n",
      "ClosedList:  ['S']\n",
      "A\n",
      "OpenList(1):  ['B', 'C', 'B']\n",
      "CostList(1):  [4, 3, 6]\n",
      "OpenList(2):  ['B', 'C', 'B']\n",
      "CostList(2):  [4, 3, 6]\n",
      "OpenList(sorted):  ['C', 'B', 'B']\n",
      "CostList(sorted):  [3, 4, 6]\n",
      "ClosedList:  ['S', 'A']\n",
      "C\n",
      "OpenList(1):  ['E', 'D', 'B', 'B']\n",
      "CostList(1):  [5, 8, 4, 6]\n",
      "OpenList(2):  ['E', 'D', 'B', 'B']\n",
      "CostList(2):  [5, 8, 4, 6]\n",
      "OpenList(sorted):  ['B', 'E', 'B', 'D']\n",
      "CostList(sorted):  [4, 5, 6, 8]\n",
      "ClosedList:  ['S', 'A', 'C']\n",
      "B\n",
      "OpenList(1):  ['E', 'F', 'E', 'B', 'D']\n",
      "CostList(1):  [9, 8, 5, 6, 8]\n",
      "OpenList(2):  ['E', 'F', 'E', 'D']\n",
      "CostList(2):  [9, 8, 5, 8]\n",
      "OpenList(sorted):  ['E', 'F', 'D', 'E']\n",
      "CostList(sorted):  [5, 8, 8, 9]\n",
      "ClosedList:  ['S', 'A', 'C', 'B']\n",
      "E\n",
      "OpenList(1):  ['D', 'G', 'F', 'D', 'E']\n",
      "CostList(1):  [6, 10, 8, 8, 9]\n",
      "OpenList(2):  ['D', 'G', 'F', 'D']\n",
      "CostList(2):  [6, 10, 8, 8]\n",
      "OpenList(sorted):  ['D', 'F', 'D', 'G']\n",
      "CostList(sorted):  [6, 8, 8, 10]\n",
      "ClosedList:  ['S', 'A', 'C', 'B', 'E']\n",
      "D\n",
      "OpenList(1):  ['G', 'F', 'D', 'G']\n",
      "CostList(1):  [7, 8, 8, 10]\n",
      "OpenList(2):  ['G', 'F', 'G']\n",
      "CostList(2):  [7, 8, 10]\n",
      "OpenList(sorted):  ['G', 'F', 'G']\n",
      "CostList(sorted):  [7, 8, 10]\n",
      "ClosedList:  ['S', 'A', 'C', 'B', 'E', 'D']\n",
      "G\n",
      "completed\n"
     ]
    }
   ],
   "source": [
    "# New version with sort\n",
    "CostList=[]\n",
    "state=[]\n",
    "stateC=[]\n",
    "OpenList=['S']\n",
    "CostList=[0]\n",
    "ClosedList=[]\n",
    "while OpenList: \n",
    "    #print(OpenList)\n",
    "    state=OpenList[0]  \n",
    "    stateC=CostList[0]\n",
    "    print(state)\n",
    "    del OpenList[0]  \n",
    "    del CostList[0]  \n",
    "    ClosedList.append(state)\n",
    "    if state=='G':\n",
    "        break\n",
    "    activeNodes=[item for item in TargetGraph[state] if item not in ClosedList]\n",
    "    costM=[(s,state) for s in activeNodes]\n",
    "    costMat=[eachCost(costM[i],Node,C) for i in range(len(costM))]\n",
    "    OpenList=activeNodes+OpenList  # the first item\n",
    "    CostList=list(map(lambda x: x + stateC, costMat))+CostList  # the first item\n",
    "    print('OpenList(1): ',OpenList)\n",
    "    print('CostList(1): ',CostList)\n",
    "    key=[k for k in range(len(OpenList)) if OpenList[k] not in ClosedList]\n",
    "    OpenList=[OpenList[i] for i in key] \n",
    "    CostList=[CostList[i] for i in key] \n",
    "    print('OpenList(2): ',OpenList)\n",
    "    print('CostList(2): ',CostList)\n",
    "    mergeM=[(OpenList[i],CostList[i]) for i in range(len(OpenList)) ]\n",
    "    mergeMs=sorted(mergeM, key = lambda x:x[1])\n",
    "    OpenList=[i[0] for i in mergeMs]\n",
    "    CostList=[i[1] for i in mergeMs]\n",
    "    print('OpenList(sorted): ',OpenList)\n",
    "    print('CostList(sorted): ',CostList)    \n",
    "    print('ClosedList: ',ClosedList)    \n",
    "print('completed') "
   ]
  },
  {
   "cell_type": "code",
   "execution_count": 214,
   "metadata": {},
   "outputs": [
    {
     "name": "stdout",
     "output_type": "stream",
     "text": [
      "S\n",
      "[2, 6]\n",
      "OpenList(1):  ['A', 'B']\n",
      "CostList(1):  [2, 6]\n",
      "OpenList(2):  ['A', 'B']\n",
      "CostList(2):  [2, 6]\n",
      "ClosedList:  ['S']\n",
      "A\n",
      "[2, 1]\n",
      "OpenList(1):  ['B', 'C', 'B']\n",
      "CostList(1):  [2, 1, 2, 6]\n",
      "OpenList(2):  ['B', 'C', 'B']\n",
      "CostList(2):  [2, 1, 2]\n",
      "ClosedList:  ['S', 'A']\n",
      "B\n",
      "[5, 4]\n",
      "OpenList(1):  ['E', 'F', 'C', 'B']\n",
      "CostList(1):  [5, 4, 2, 1, 2]\n",
      "OpenList(2):  ['E', 'F', 'C']\n",
      "CostList(2):  [5, 4, 2]\n",
      "ClosedList:  ['S', 'A', 'B']\n",
      "E\n",
      "[2, 1, 5]\n",
      "OpenList(1):  ['C', 'D', 'G', 'F', 'C']\n",
      "CostList(1):  [2, 1, 5, 5, 4, 2]\n",
      "OpenList(2):  ['C', 'D', 'G', 'F', 'C']\n",
      "CostList(2):  [2, 1, 5, 5, 4]\n",
      "ClosedList:  ['S', 'A', 'B', 'E']\n",
      "C\n",
      "[5]\n",
      "OpenList(1):  ['D', 'D', 'G', 'F', 'C']\n",
      "CostList(1):  [5, 2, 1, 5, 5, 4]\n",
      "OpenList(2):  ['D', 'D', 'G', 'F']\n",
      "CostList(2):  [5, 2, 1, 5]\n",
      "ClosedList:  ['S', 'A', 'B', 'E', 'C']\n",
      "D\n",
      "[1]\n",
      "OpenList(1):  ['G', 'D', 'G', 'F']\n",
      "CostList(1):  [1, 5, 2, 1, 5]\n",
      "OpenList(2):  ['G', 'G', 'F']\n",
      "CostList(2):  [1, 2, 1]\n",
      "ClosedList:  ['S', 'A', 'B', 'E', 'C', 'D']\n",
      "G\n",
      "completed\n"
     ]
    }
   ],
   "source": [
    "# New version \n",
    "CostList=[]\n",
    "state=[]\n",
    "OpenList=['S']\n",
    "ClosedList=[]\n",
    "while OpenList: \n",
    "    #print(OpenList)\n",
    "    state=OpenList[0]  \n",
    "    print(state)\n",
    "    del OpenList[0]  \n",
    "    ClosedList.append(state)\n",
    "    if state=='G':\n",
    "        break\n",
    "    activeNodes=[item for item in TargetGraph[state] if item not in ClosedList]\n",
    "    costM=[(s,state) for s in activeNodes]\n",
    "    #print(costM)\n",
    "    #print(costM[0])\n",
    "    costMat=[eachCost(costM[i],Node,C) for i in range(len(costM))]\n",
    "    print(costMat)\n",
    "    OpenList=activeNodes+OpenList  # the first item\n",
    "    CostList=costMat+CostList  # the first item\n",
    "    print('OpenList(1): ',OpenList)\n",
    "    print('CostList(1): ',CostList)\n",
    "    key=[k for k in range(len(OpenList)) if OpenList[k] not in ClosedList]\n",
    "    OpenList=[OpenList[i] for i in key] \n",
    "    CostList=[CostList[i] for i in key] \n",
    "    #print('key: ',key)\n",
    "    print('OpenList(2): ',OpenList)\n",
    "    print('CostList(2): ',CostList)\n",
    "    print('ClosedList: ',ClosedList)    \n",
    "print('completed') "
   ]
  },
  {
   "cell_type": "code",
   "execution_count": 3,
   "metadata": {
    "scrolled": false
   },
   "outputs": [
    {
     "name": "stdout",
     "output_type": "stream",
     "text": [
      "S\n",
      "[('A', 'S'), ('B', 'S')]\n"
     ]
    },
    {
     "ename": "NameError",
     "evalue": "name 'eachCost' is not defined",
     "output_type": "error",
     "traceback": [
      "\u001b[0;31m---------------------------------------------------------------------------\u001b[0m",
      "\u001b[0;31mNameError\u001b[0m                                 Traceback (most recent call last)",
      "\u001b[0;32m/var/folders/mg/w5t8lkhc8xj79f001s7kzpfh0000gp/T/ipykernel_29209/1580446706.py\u001b[0m in \u001b[0;36m<module>\u001b[0;34m\u001b[0m\n\u001b[1;32m     21\u001b[0m     \u001b[0mprint\u001b[0m\u001b[0;34m(\u001b[0m\u001b[0mcostM\u001b[0m\u001b[0;34m)\u001b[0m\u001b[0;34m\u001b[0m\u001b[0;34m\u001b[0m\u001b[0m\n\u001b[1;32m     22\u001b[0m     \u001b[0;31m#print(costM[0])\u001b[0m\u001b[0;34m\u001b[0m\u001b[0;34m\u001b[0m\u001b[0m\n\u001b[0;32m---> 23\u001b[0;31m     \u001b[0mcostMat\u001b[0m\u001b[0;34m=\u001b[0m\u001b[0;34m[\u001b[0m\u001b[0meachCost\u001b[0m\u001b[0;34m(\u001b[0m\u001b[0mcostM\u001b[0m\u001b[0;34m[\u001b[0m\u001b[0mi\u001b[0m\u001b[0;34m]\u001b[0m\u001b[0;34m,\u001b[0m\u001b[0mNode\u001b[0m\u001b[0;34m,\u001b[0m\u001b[0mC\u001b[0m\u001b[0;34m)\u001b[0m \u001b[0;32mfor\u001b[0m \u001b[0mi\u001b[0m \u001b[0;32min\u001b[0m \u001b[0mrange\u001b[0m\u001b[0;34m(\u001b[0m\u001b[0mlen\u001b[0m\u001b[0;34m(\u001b[0m\u001b[0mcostM\u001b[0m\u001b[0;34m)\u001b[0m\u001b[0;34m)\u001b[0m\u001b[0;34m]\u001b[0m\u001b[0;34m\u001b[0m\u001b[0;34m\u001b[0m\u001b[0m\n\u001b[0m\u001b[1;32m     24\u001b[0m     \u001b[0mprint\u001b[0m\u001b[0;34m(\u001b[0m\u001b[0mcostMat\u001b[0m\u001b[0;34m)\u001b[0m\u001b[0;34m\u001b[0m\u001b[0;34m\u001b[0m\u001b[0m\n\u001b[1;32m     25\u001b[0m     \u001b[0mOpenList\u001b[0m\u001b[0;34m=\u001b[0m\u001b[0mactiveNodes\u001b[0m\u001b[0;34m+\u001b[0m\u001b[0mOpenList\u001b[0m  \u001b[0;31m# the first item\u001b[0m\u001b[0;34m\u001b[0m\u001b[0;34m\u001b[0m\u001b[0m\n",
      "\u001b[0;32m/var/folders/mg/w5t8lkhc8xj79f001s7kzpfh0000gp/T/ipykernel_29209/1580446706.py\u001b[0m in \u001b[0;36m<listcomp>\u001b[0;34m(.0)\u001b[0m\n\u001b[1;32m     21\u001b[0m     \u001b[0mprint\u001b[0m\u001b[0;34m(\u001b[0m\u001b[0mcostM\u001b[0m\u001b[0;34m)\u001b[0m\u001b[0;34m\u001b[0m\u001b[0;34m\u001b[0m\u001b[0m\n\u001b[1;32m     22\u001b[0m     \u001b[0;31m#print(costM[0])\u001b[0m\u001b[0;34m\u001b[0m\u001b[0;34m\u001b[0m\u001b[0m\n\u001b[0;32m---> 23\u001b[0;31m     \u001b[0mcostMat\u001b[0m\u001b[0;34m=\u001b[0m\u001b[0;34m[\u001b[0m\u001b[0meachCost\u001b[0m\u001b[0;34m(\u001b[0m\u001b[0mcostM\u001b[0m\u001b[0;34m[\u001b[0m\u001b[0mi\u001b[0m\u001b[0;34m]\u001b[0m\u001b[0;34m,\u001b[0m\u001b[0mNode\u001b[0m\u001b[0;34m,\u001b[0m\u001b[0mC\u001b[0m\u001b[0;34m)\u001b[0m \u001b[0;32mfor\u001b[0m \u001b[0mi\u001b[0m \u001b[0;32min\u001b[0m \u001b[0mrange\u001b[0m\u001b[0;34m(\u001b[0m\u001b[0mlen\u001b[0m\u001b[0;34m(\u001b[0m\u001b[0mcostM\u001b[0m\u001b[0;34m)\u001b[0m\u001b[0;34m)\u001b[0m\u001b[0;34m]\u001b[0m\u001b[0;34m\u001b[0m\u001b[0;34m\u001b[0m\u001b[0m\n\u001b[0m\u001b[1;32m     24\u001b[0m     \u001b[0mprint\u001b[0m\u001b[0;34m(\u001b[0m\u001b[0mcostMat\u001b[0m\u001b[0;34m)\u001b[0m\u001b[0;34m\u001b[0m\u001b[0;34m\u001b[0m\u001b[0m\n\u001b[1;32m     25\u001b[0m     \u001b[0mOpenList\u001b[0m\u001b[0;34m=\u001b[0m\u001b[0mactiveNodes\u001b[0m\u001b[0;34m+\u001b[0m\u001b[0mOpenList\u001b[0m  \u001b[0;31m# the first item\u001b[0m\u001b[0;34m\u001b[0m\u001b[0;34m\u001b[0m\u001b[0m\n",
      "\u001b[0;31mNameError\u001b[0m: name 'eachCost' is not defined"
     ]
    }
   ],
   "source": [
    "# New version \n",
    "CostList=[]\n",
    "state=[]\n",
    "stateC=[]\n",
    "OpenList=['S']\n",
    "CostList=[0]\n",
    "ClosedList=[]\n",
    "while OpenList: \n",
    "    #print(OpenList)\n",
    "    state=OpenList[0]  \n",
    "    stateC=CostList[0]\n",
    "    print(state)\n",
    "    del OpenList[0]  \n",
    "    del CostList[0]  \n",
    "    ClosedList.append(state)\n",
    "    if state=='G':\n",
    "        break\n",
    "    activeNodes=[item for item in TargetGraph[state] if item not in ClosedList]\n",
    "    #activeNodes=[item for item in TargetGraph[state] ]\n",
    "    costM=[(s,state) for s in activeNodes]\n",
    "    print(costM)\n",
    "    #print(costM[0])\n",
    "    costMat=[eachCost(costM[i],Node,C) for i in range(len(costM))]\n",
    "    print(costMat)\n",
    "    OpenList=activeNodes+OpenList  # the first item\n",
    "    #print(stateC*costMat)\n",
    "    #CostList=stateC*costMat+CostList  # the first item\n",
    "    CostList=list(map(lambda x: x + stateC, costMat))+CostList  # the first item\n",
    "    print('OpenList(1): ',OpenList)\n",
    "    print('CostList(1): ',CostList)\n",
    "    key=[k for k in range(len(OpenList)) if OpenList[k] not in ClosedList]\n",
    "    OpenList=[OpenList[i] for i in key] \n",
    "    CostList=[CostList[i] for i in key] \n",
    "    #print('key: ',key)\n",
    "    print('OpenList(2): ',OpenList)\n",
    "    print('CostList(2): ',CostList)\n",
    "    print('ClosedList: ',ClosedList)    \n",
    "print('completed') "
   ]
  },
  {
   "cell_type": "code",
   "execution_count": 257,
   "metadata": {},
   "outputs": [
    {
     "name": "stdout",
     "output_type": "stream",
     "text": [
      "[2, 4, 2, 4]\n",
      "[2, 4, 2, 4, 1, 2, 3]\n"
     ]
    }
   ],
   "source": [
    "stateC=2\n",
    "costMat=[2,4]\n",
    "CostList=[1,2,3]\n",
    "CostList=stateC*costMat+CostList  # the first item\n",
    "print(stateC*costMat)\n",
    "print(CostList)"
   ]
  },
  {
   "cell_type": "code",
   "execution_count": 259,
   "metadata": {},
   "outputs": [
    {
     "name": "stdout",
     "output_type": "stream",
     "text": [
      "[4, 6]\n",
      "[4, 6, 1, 2, 3]\n"
     ]
    }
   ],
   "source": [
    "stateC=2\n",
    "costMat=[2,4]\n",
    "CostList=[1,2,3]\n",
    "CostList=list(map(lambda x: x + stateC, costMat))+CostList  # the first item\n",
    "print(list(map(lambda x: x + stateC, costMat)))\n",
    "print(CostList)"
   ]
  },
  {
   "cell_type": "code",
   "execution_count": 2,
   "metadata": {},
   "outputs": [
    {
     "name": "stdout",
     "output_type": "stream",
     "text": [
      "S\n"
     ]
    },
    {
     "ename": "NameError",
     "evalue": "name 'eachCost' is not defined",
     "output_type": "error",
     "traceback": [
      "\u001b[0;31m---------------------------------------------------------------------------\u001b[0m",
      "\u001b[0;31mNameError\u001b[0m                                 Traceback (most recent call last)",
      "\u001b[0;32m/var/folders/mg/w5t8lkhc8xj79f001s7kzpfh0000gp/T/ipykernel_29209/3817949483.py\u001b[0m in \u001b[0;36m<module>\u001b[0;34m\u001b[0m\n\u001b[1;32m     18\u001b[0m     \u001b[0mactiveNodes\u001b[0m\u001b[0;34m=\u001b[0m\u001b[0;34m[\u001b[0m\u001b[0mitem\u001b[0m \u001b[0;32mfor\u001b[0m \u001b[0mitem\u001b[0m \u001b[0;32min\u001b[0m \u001b[0mTargetGraph\u001b[0m\u001b[0;34m[\u001b[0m\u001b[0mstate\u001b[0m\u001b[0;34m]\u001b[0m \u001b[0;32mif\u001b[0m \u001b[0mitem\u001b[0m \u001b[0;32mnot\u001b[0m \u001b[0;32min\u001b[0m \u001b[0mClosedList\u001b[0m\u001b[0;34m]\u001b[0m\u001b[0;34m\u001b[0m\u001b[0;34m\u001b[0m\u001b[0m\n\u001b[1;32m     19\u001b[0m     \u001b[0mcostM\u001b[0m\u001b[0;34m=\u001b[0m\u001b[0;34m[\u001b[0m\u001b[0;34m(\u001b[0m\u001b[0ms\u001b[0m\u001b[0;34m,\u001b[0m\u001b[0mstate\u001b[0m\u001b[0;34m)\u001b[0m \u001b[0;32mfor\u001b[0m \u001b[0ms\u001b[0m \u001b[0;32min\u001b[0m \u001b[0mactiveNodes\u001b[0m\u001b[0;34m]\u001b[0m\u001b[0;34m\u001b[0m\u001b[0;34m\u001b[0m\u001b[0m\n\u001b[0;32m---> 20\u001b[0;31m     \u001b[0mcostMat\u001b[0m\u001b[0;34m=\u001b[0m\u001b[0;34m[\u001b[0m\u001b[0meachCost\u001b[0m\u001b[0;34m(\u001b[0m\u001b[0mcostM\u001b[0m\u001b[0;34m[\u001b[0m\u001b[0mi\u001b[0m\u001b[0;34m]\u001b[0m\u001b[0;34m,\u001b[0m\u001b[0mNode\u001b[0m\u001b[0;34m,\u001b[0m\u001b[0mC\u001b[0m\u001b[0;34m)\u001b[0m \u001b[0;32mfor\u001b[0m \u001b[0mi\u001b[0m \u001b[0;32min\u001b[0m \u001b[0mrange\u001b[0m\u001b[0;34m(\u001b[0m\u001b[0mlen\u001b[0m\u001b[0;34m(\u001b[0m\u001b[0mcostM\u001b[0m\u001b[0;34m)\u001b[0m\u001b[0;34m)\u001b[0m\u001b[0;34m]\u001b[0m\u001b[0;34m\u001b[0m\u001b[0;34m\u001b[0m\u001b[0m\n\u001b[0m\u001b[1;32m     21\u001b[0m     \u001b[0mOpenList\u001b[0m\u001b[0;34m=\u001b[0m\u001b[0mactiveNodes\u001b[0m\u001b[0;34m+\u001b[0m\u001b[0mOpenList\u001b[0m  \u001b[0;31m# the first item\u001b[0m\u001b[0;34m\u001b[0m\u001b[0;34m\u001b[0m\u001b[0m\n\u001b[1;32m     22\u001b[0m     \u001b[0mCostList\u001b[0m\u001b[0;34m=\u001b[0m\u001b[0mlist\u001b[0m\u001b[0;34m(\u001b[0m\u001b[0mmap\u001b[0m\u001b[0;34m(\u001b[0m\u001b[0;32mlambda\u001b[0m \u001b[0mx\u001b[0m\u001b[0;34m:\u001b[0m \u001b[0mx\u001b[0m \u001b[0;34m+\u001b[0m \u001b[0mstateC\u001b[0m\u001b[0;34m,\u001b[0m \u001b[0mcostMat\u001b[0m\u001b[0;34m)\u001b[0m\u001b[0;34m)\u001b[0m\u001b[0;34m+\u001b[0m\u001b[0mCostList\u001b[0m  \u001b[0;31m# the first item\u001b[0m\u001b[0;34m\u001b[0m\u001b[0;34m\u001b[0m\u001b[0m\n",
      "\u001b[0;32m/var/folders/mg/w5t8lkhc8xj79f001s7kzpfh0000gp/T/ipykernel_29209/3817949483.py\u001b[0m in \u001b[0;36m<listcomp>\u001b[0;34m(.0)\u001b[0m\n\u001b[1;32m     18\u001b[0m     \u001b[0mactiveNodes\u001b[0m\u001b[0;34m=\u001b[0m\u001b[0;34m[\u001b[0m\u001b[0mitem\u001b[0m \u001b[0;32mfor\u001b[0m \u001b[0mitem\u001b[0m \u001b[0;32min\u001b[0m \u001b[0mTargetGraph\u001b[0m\u001b[0;34m[\u001b[0m\u001b[0mstate\u001b[0m\u001b[0;34m]\u001b[0m \u001b[0;32mif\u001b[0m \u001b[0mitem\u001b[0m \u001b[0;32mnot\u001b[0m \u001b[0;32min\u001b[0m \u001b[0mClosedList\u001b[0m\u001b[0;34m]\u001b[0m\u001b[0;34m\u001b[0m\u001b[0;34m\u001b[0m\u001b[0m\n\u001b[1;32m     19\u001b[0m     \u001b[0mcostM\u001b[0m\u001b[0;34m=\u001b[0m\u001b[0;34m[\u001b[0m\u001b[0;34m(\u001b[0m\u001b[0ms\u001b[0m\u001b[0;34m,\u001b[0m\u001b[0mstate\u001b[0m\u001b[0;34m)\u001b[0m \u001b[0;32mfor\u001b[0m \u001b[0ms\u001b[0m \u001b[0;32min\u001b[0m \u001b[0mactiveNodes\u001b[0m\u001b[0;34m]\u001b[0m\u001b[0;34m\u001b[0m\u001b[0;34m\u001b[0m\u001b[0m\n\u001b[0;32m---> 20\u001b[0;31m     \u001b[0mcostMat\u001b[0m\u001b[0;34m=\u001b[0m\u001b[0;34m[\u001b[0m\u001b[0meachCost\u001b[0m\u001b[0;34m(\u001b[0m\u001b[0mcostM\u001b[0m\u001b[0;34m[\u001b[0m\u001b[0mi\u001b[0m\u001b[0;34m]\u001b[0m\u001b[0;34m,\u001b[0m\u001b[0mNode\u001b[0m\u001b[0;34m,\u001b[0m\u001b[0mC\u001b[0m\u001b[0;34m)\u001b[0m \u001b[0;32mfor\u001b[0m \u001b[0mi\u001b[0m \u001b[0;32min\u001b[0m \u001b[0mrange\u001b[0m\u001b[0;34m(\u001b[0m\u001b[0mlen\u001b[0m\u001b[0;34m(\u001b[0m\u001b[0mcostM\u001b[0m\u001b[0;34m)\u001b[0m\u001b[0;34m)\u001b[0m\u001b[0;34m]\u001b[0m\u001b[0;34m\u001b[0m\u001b[0;34m\u001b[0m\u001b[0m\n\u001b[0m\u001b[1;32m     21\u001b[0m     \u001b[0mOpenList\u001b[0m\u001b[0;34m=\u001b[0m\u001b[0mactiveNodes\u001b[0m\u001b[0;34m+\u001b[0m\u001b[0mOpenList\u001b[0m  \u001b[0;31m# the first item\u001b[0m\u001b[0;34m\u001b[0m\u001b[0;34m\u001b[0m\u001b[0m\n\u001b[1;32m     22\u001b[0m     \u001b[0mCostList\u001b[0m\u001b[0;34m=\u001b[0m\u001b[0mlist\u001b[0m\u001b[0;34m(\u001b[0m\u001b[0mmap\u001b[0m\u001b[0;34m(\u001b[0m\u001b[0;32mlambda\u001b[0m \u001b[0mx\u001b[0m\u001b[0;34m:\u001b[0m \u001b[0mx\u001b[0m \u001b[0;34m+\u001b[0m \u001b[0mstateC\u001b[0m\u001b[0;34m,\u001b[0m \u001b[0mcostMat\u001b[0m\u001b[0;34m)\u001b[0m\u001b[0;34m)\u001b[0m\u001b[0;34m+\u001b[0m\u001b[0mCostList\u001b[0m  \u001b[0;31m# the first item\u001b[0m\u001b[0;34m\u001b[0m\u001b[0;34m\u001b[0m\u001b[0m\n",
      "\u001b[0;31mNameError\u001b[0m: name 'eachCost' is not defined"
     ]
    }
   ],
   "source": [
    "# New version with sort\n",
    "CostList=[]\n",
    "state=[]\n",
    "stateC=[]\n",
    "OpenList=['S']\n",
    "CostList=[0]\n",
    "ClosedList=[]\n",
    "while OpenList: \n",
    "    #print(OpenList)\n",
    "    state=OpenList[0]  \n",
    "    stateC=CostList[0]\n",
    "    print(state)\n",
    "    del OpenList[0]  \n",
    "    del CostList[0]  \n",
    "    ClosedList.append(state)\n",
    "    if state=='G':\n",
    "        break\n",
    "    activeNodes=[item for item in TargetGraph[state] if item not in ClosedList]\n",
    "    costM=[(s,state) for s in activeNodes]\n",
    "    costMat=[eachCost(costM[i],Node,C) for i in range(len(costM))]\n",
    "    OpenList=activeNodes+OpenList  # the first item\n",
    "    CostList=list(map(lambda x: x + stateC, costMat))+CostList  # the first item\n",
    "    print('OpenList(1): ',OpenList)\n",
    "    print('CostList(1): ',CostList)\n",
    "    key=[k for k in range(len(OpenList)) if OpenList[k] not in ClosedList]\n",
    "    OpenList=[OpenList[i] for i in key] \n",
    "    CostList=[CostList[i] for i in key] \n",
    "    #print('OpenList(2): ',OpenList)\n",
    "    #print('CostList(2): ',CostList)\n",
    "    mergeM=[(OpenList[i],CostList[i]) for i in range(len(OpenList)) ]\n",
    "    mergeMs=sorted(mergeM, key = lambda x:x[1])\n",
    "    OpenList=[i[0] for i in mergeMs]\n",
    "    CostList=[i[1] for i in mergeMs]\n",
    "    print('OpenList(sorted): ',OpenList)\n",
    "    print('CostList(sorted): ',CostList)    \n",
    "    print('ClosedList: ',ClosedList)    \n",
    "print('completed') "
   ]
  },
  {
   "cell_type": "code",
   "execution_count": 246,
   "metadata": {
    "scrolled": false
   },
   "outputs": [
    {
     "name": "stdout",
     "output_type": "stream",
     "text": [
      "[[2, 1], [2, 6]]\n",
      "[[2, 1], [2, 6]]\n",
      "[2, 1, 2, 6]\n",
      "[]\n",
      "[[2, 1], [2, 6]]\n"
     ]
    }
   ],
   "source": [
    "import itertools\n",
    "\n",
    "CostList=[[2, 1], [2, 6]]\n",
    "print(CostList)\n",
    "print([item  for i in CostList for item in [i] ])\n",
    "print([item  for i in CostList for item in i if type(i)==list])\n",
    "print([item for i in CostList for item in [i] if type(i)!=list])\n",
    "\n",
    "\n",
    "#list(itertools.chain.from_iterable(CostList))\n",
    "print(CostList)\n"
   ]
  },
  {
   "cell_type": "code",
   "execution_count": 247,
   "metadata": {},
   "outputs": [
    {
     "ename": "TypeError",
     "evalue": "'int' object is not iterable",
     "output_type": "error",
     "traceback": [
      "\u001b[0;31m---------------------------------------------------------------------------\u001b[0m",
      "\u001b[0;31mTypeError\u001b[0m                                 Traceback (most recent call last)",
      "\u001b[0;32m<ipython-input-247-17c4a5d48cf1>\u001b[0m in \u001b[0;36m<module>\u001b[0;34m()\u001b[0m\n\u001b[1;32m      3\u001b[0m \u001b[0ml_2d\u001b[0m \u001b[0;34m=\u001b[0m \u001b[0;34m[\u001b[0m\u001b[0;34m[\u001b[0m\u001b[0;36m0\u001b[0m\u001b[0;34m,\u001b[0m \u001b[0;36m1\u001b[0m\u001b[0;34m]\u001b[0m\u001b[0;34m,\u001b[0m \u001b[0;36m2\u001b[0m\u001b[0;34m,\u001b[0m \u001b[0;36m3\u001b[0m\u001b[0;34m]\u001b[0m\u001b[0;34m\u001b[0m\u001b[0;34m\u001b[0m\u001b[0m\n\u001b[1;32m      4\u001b[0m \u001b[0;34m\u001b[0m\u001b[0m\n\u001b[0;32m----> 5\u001b[0;31m \u001b[0mprint\u001b[0m\u001b[0;34m(\u001b[0m\u001b[0mlist\u001b[0m\u001b[0;34m(\u001b[0m\u001b[0mitertools\u001b[0m\u001b[0;34m.\u001b[0m\u001b[0mchain\u001b[0m\u001b[0;34m.\u001b[0m\u001b[0mfrom_iterable\u001b[0m\u001b[0;34m(\u001b[0m\u001b[0ml_2d\u001b[0m\u001b[0;34m)\u001b[0m\u001b[0;34m)\u001b[0m\u001b[0;34m)\u001b[0m\u001b[0;34m\u001b[0m\u001b[0;34m\u001b[0m\u001b[0m\n\u001b[0m\u001b[1;32m      6\u001b[0m \u001b[0;31m# [0, 1, 2, 3]\u001b[0m\u001b[0;34m\u001b[0m\u001b[0;34m\u001b[0m\u001b[0;34m\u001b[0m\u001b[0m\n",
      "\u001b[0;31mTypeError\u001b[0m: 'int' object is not iterable"
     ]
    }
   ],
   "source": [
    "import itertools\n",
    "\n",
    "l_2d = [[0, 1], 2, 3]\n",
    "\n",
    "print(list(itertools.chain.from_iterable(l_2d)))\n",
    "# [0, 1, 2, 3]"
   ]
  },
  {
   "cell_type": "code",
   "execution_count": 151,
   "metadata": {},
   "outputs": [
    {
     "data": {
      "text/plain": [
       "['A', 'D', 'E']"
      ]
     },
     "execution_count": 151,
     "metadata": {},
     "output_type": "execute_result"
    }
   ],
   "source": [
    "keyT=[1,4,5]\n",
    "[Node[i] for i in keyT] "
   ]
  },
  {
   "cell_type": "code",
   "execution_count": 168,
   "metadata": {},
   "outputs": [
    {
     "data": {
      "text/plain": [
       "False"
      ]
     },
     "execution_count": 168,
     "metadata": {},
     "output_type": "execute_result"
    }
   ],
   "source": [
    "type(1)\n",
    "type([1])\n",
    "i=[1]\n",
    "type(i)==list\n",
    "type(i)!=list"
   ]
  },
  {
   "cell_type": "code",
   "execution_count": null,
   "metadata": {},
   "outputs": [],
   "source": []
  }
 ],
 "metadata": {
  "kernelspec": {
   "display_name": "Python 3 (ipykernel)",
   "language": "python",
   "name": "python3"
  },
  "language_info": {
   "codemirror_mode": {
    "name": "ipython",
    "version": 3
   },
   "file_extension": ".py",
   "mimetype": "text/x-python",
   "name": "python",
   "nbconvert_exporter": "python",
   "pygments_lexer": "ipython3",
   "version": "3.9.16"
  }
 },
 "nbformat": 4,
 "nbformat_minor": 2
}
