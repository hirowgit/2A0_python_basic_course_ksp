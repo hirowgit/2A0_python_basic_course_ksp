{
 "cells": [
  {
   "cell_type": "code",
   "execution_count": null,
   "id": "9a959537",
   "metadata": {},
   "outputs": [],
   "source": [
    "## Python basics for novice data scientists, supported by Wagatsuma Lab@Kyutech \n",
    "#\n",
    "# The MIT License (MIT): Copyright (c) 2020 Hiroaki Wagatsuma and Wagatsuma Lab@Kyutech\n",
    "# \n",
    "# Permission is hereby granted, free of charge, to any person obtaining a copy of this software and associated documentation files (the \"Software\"), to deal in the Software without restriction, including without limitation the rights to use, copy, modify, merge, publish, distribute, sublicense, and/or sell copies of the Software, and to permit persons to whom the Software is furnished to do so, subject to the following conditions:\n",
    "# The above copyright notice and this permission notice shall be included in all copies or substantial portions of the Software.\n",
    "# THE SOFTWARE IS PROVIDED \"AS IS\", WITHOUT WARRANTY OF ANY KIND, EXPRESS OR IMPLIED, INCLUDING BUT NOT LIMITED TO THE WARRANTIES OF MERCHANTABILITY, FITNESS FOR A PARTICULAR PURPOSE AND NONINFRINGEMENT. IN NO EVENT SHALL THE AUTHORS OR COPYRIGHT HOLDERS BE LIABLE FOR ANY CLAIM, DAMAGES OR OTHER LIABILITY, WHETHER IN AN ACTION OF CONTRACT, TORT OR OTHERWISE, ARISING FROM, OUT OF OR IN CONNECTION WITH THE SOFTWARE OR THE USE OR OTHER DEALINGS IN THE SOFTWARE. */\n",
    "#\n",
    "# # @Time    : 2023-7-1 \n",
    "# # @Author  : Hiroaki Wagatsuma\n",
    "# # @Site    : https://github.com/hirowgit/2A_python_basic_course\n",
    "# # @IDE     : Python 3.10.9 (main, Dec 15 2022, 18:18:30) [Clang 14.0.0 (clang-1400.0.29.202)] on darwin\n",
    "# # @File    : ksp_novice_lec101.py "
   ]
  },
  {
   "cell_type": "code",
   "execution_count": 1,
   "id": "acfa494a",
   "metadata": {},
   "outputs": [],
   "source": [
    "import numpy as np\n",
    "import numpy.matlib\n",
    "import os\n",
    "import sys\n",
    "import codecs\n",
    "import matplotlib.pyplot as plt\n",
    "import pandas as pd\n",
    "from openpyxl import Workbook\n",
    "import pprint"
   ]
  },
  {
   "cell_type": "markdown",
   "id": "fc899347",
   "metadata": {},
   "source": [
    "## Example 1A"
   ]
  },
  {
   "cell_type": "code",
   "execution_count": 815,
   "id": "198e875c",
   "metadata": {},
   "outputs": [
    {
     "data": {
      "text/plain": [
       "987"
      ]
     },
     "metadata": {},
     "output_type": "display_data"
    },
    {
     "data": {
      "text/plain": [
       "987"
      ]
     },
     "metadata": {},
     "output_type": "display_data"
    }
   ],
   "source": [
    "# 例３：インデックスによる集計 \n",
    "# KIP_bas_lec01_w6 \n",
    "\n",
    "index=np.random.randint(1, 10, (18,1))\n",
    "score=np.random.randint(0, 100, (18,1))\n",
    "B=np.hstack([index,score])\n",
    "index_sum=np.sum(B[:,0])\n",
    "score_sum=np.sum(B[:,1])\n",
    "index1=np.where(index<5)[0]\n",
    "value_less_than_five=score[index1]\n",
    "sum_value1=np.sum(value_less_than_five)\n",
    "index2=np.where(index>=5)[0]\n",
    "value_five_or_more=score[index2]\n",
    "sum_value2=np.sum(value_five_or_more)\n",
    "sum_all=sum_value1+sum_value2\n",
    "display(score_sum)\n",
    "display(sum_all)\n"
   ]
  },
  {
   "cell_type": "code",
   "execution_count": 843,
   "id": "0d51c05a",
   "metadata": {},
   "outputs": [
    {
     "name": "stdout",
     "output_type": "stream",
     "text": [
      "index: [[6], [2], [5], [2], [3], [6], [4], [6], [2], [9], [1], [9], [8], [6], [4], [8], [1], [5]]\n",
      "score: [[79], [32], [23], [36], [19], [18], [49], [58], [97], [75], [30], [51], [0], [31], [21], [64], [97], [10]]\n",
      "---\n",
      "key: 5, list: [[23], [10]], sum: 33\n"
     ]
    }
   ],
   "source": [
    "# 例３：インデックスによる集計 \n",
    "# KIP_bas_lec01_w6 \n",
    "# 単一key\n",
    "\n",
    "index=np.random.randint(1, 10, (18,1))\n",
    "score=np.random.randint(0, 100, (18,1))\n",
    "B=np.hstack([index,score])\n",
    "index_sum=np.sum(B[:,0])\n",
    "score_sum=np.sum(B[:,1])\n",
    "\n",
    "print('index: {0}'.format(index.tolist()))\n",
    "print('score: {0}'.format(score.tolist()))\n",
    "print('---')\n",
    "\n",
    "key=5\n",
    "\n",
    "index1=np.where(index==key)[0]\n",
    "value_less_than_five=score[index1]\n",
    "sum_value1=np.sum(value_less_than_five)\n",
    "# display(sum_value1)\n",
    "print('key: {0}, list: {1}, sum: {2}'.format(key, value_less_than_five.tolist(),sum_value1))\n"
   ]
  },
  {
   "cell_type": "code",
   "execution_count": 820,
   "id": "7cb02580",
   "metadata": {},
   "outputs": [
    {
     "data": {
      "text/plain": [
       "[5, 7, 4, 6, 8, 5, 5, 1, 3, 1, 8, 9, 3, 7, 7, 1, 1, 7]"
      ]
     },
     "execution_count": 820,
     "metadata": {},
     "output_type": "execute_result"
    }
   ],
   "source": [
    "sum(index.tolist(),[])"
   ]
  },
  {
   "cell_type": "code",
   "execution_count": 822,
   "id": "6e7cc154",
   "metadata": {},
   "outputs": [
    {
     "data": {
      "text/plain": [
       "{1, 3, 4, 5, 6, 7, 8, 9}"
      ]
     },
     "execution_count": 822,
     "metadata": {},
     "output_type": "execute_result"
    }
   ],
   "source": [
    "keyFull=set(index[:,0]) \n",
    "keyFull"
   ]
  },
  {
   "cell_type": "code",
   "execution_count": 823,
   "id": "79c2f79b",
   "metadata": {},
   "outputs": [
    {
     "data": {
      "text/plain": [
       "{1, 3, 4, 5, 6, 7, 8, 9}"
      ]
     },
     "execution_count": 823,
     "metadata": {},
     "output_type": "execute_result"
    }
   ],
   "source": [
    "keyFull=set(B[:,0])\n",
    "keyFull"
   ]
  },
  {
   "cell_type": "code",
   "execution_count": 824,
   "id": "5a22650c",
   "metadata": {},
   "outputs": [
    {
     "name": "stdout",
     "output_type": "stream",
     "text": [
      "1\n",
      "3\n",
      "4\n",
      "5\n",
      "6\n",
      "7\n",
      "8\n",
      "9\n"
     ]
    }
   ],
   "source": [
    "for key in set(index[:,0]):\n",
    "    print(key)"
   ]
  },
  {
   "cell_type": "code",
   "execution_count": 842,
   "id": "f3e46570",
   "metadata": {},
   "outputs": [
    {
     "name": "stdout",
     "output_type": "stream",
     "text": [
      "index: [[9], [1], [6], [2], [9], [3], [9], [8], [2], [5], [2], [3], [8], [3], [7], [1], [8], [9]]\n",
      "score: [[22], [42], [53], [96], [78], [49], [13], [42], [16], [58], [86], [92], [16], [49], [20], [60], [50], [25]]\n",
      "---\n",
      "key: 1, list: [[42], [60]], sum: 102\n",
      "key: 2, list: [[96], [16], [86]], sum: 198\n",
      "key: 3, list: [[49], [92], [49]], sum: 190\n",
      "key: 5, list: [[58]], sum: 58\n",
      "key: 6, list: [[53]], sum: 53\n",
      "key: 7, list: [[20]], sum: 20\n",
      "key: 8, list: [[42], [16], [50]], sum: 108\n",
      "key: 9, list: [[22], [78], [13], [25]], sum: 138\n"
     ]
    }
   ],
   "source": [
    "# 例３：インデックスによる集計 \n",
    "# KIP_bas_lec01_w6 \n",
    "# 複数key\n",
    "\n",
    "index=np.random.randint(1, 10, (18,1))\n",
    "score=np.random.randint(0, 100, (18,1))\n",
    "B=np.hstack([index,score])\n",
    "index_sum=np.sum(B[:,0])\n",
    "score_sum=np.sum(B[:,1])\n",
    "\n",
    "print('index: {0}'.format(index.tolist()))\n",
    "print('score: {0}'.format(score.tolist()))\n",
    "print('---')\n",
    "\n",
    "for key in set(index[:,0]):#  set(B[:,0]): でも良い\n",
    "    index1=np.where(index==key)[0]\n",
    "    value_less_than_five=score[index1]\n",
    "    sum_value1=np.sum(value_less_than_five)\n",
    "    print('key: {0}, list: {1}, sum: {2}'.format(key, value_less_than_five.tolist(),sum_value1))\n"
   ]
  },
  {
   "cell_type": "markdown",
   "id": "ae71ef3c",
   "metadata": {},
   "source": [
    "## Example 1B"
   ]
  },
  {
   "cell_type": "code",
   "execution_count": 23,
   "id": "33ef54c1",
   "metadata": {},
   "outputs": [
    {
     "data": {
      "text/plain": [
       "array([[7],\n",
       "       [8],\n",
       "       [8],\n",
       "       [7],\n",
       "       [1],\n",
       "       [5],\n",
       "       [6],\n",
       "       [6],\n",
       "       [5],\n",
       "       [5]])"
      ]
     },
     "metadata": {},
     "output_type": "display_data"
    },
    {
     "data": {
      "text/plain": [
       "array([[7, 7, 7, 7, 7, 7, 7, 7, 7, 7],\n",
       "       [8, 8, 8, 8, 8, 8, 8, 8, 8, 8],\n",
       "       [8, 8, 8, 8, 8, 8, 8, 8, 8, 8],\n",
       "       [7, 7, 7, 7, 7, 7, 7, 7, 7, 7],\n",
       "       [1, 1, 1, 1, 1, 1, 1, 1, 1, 1],\n",
       "       [5, 5, 5, 5, 5, 5, 5, 5, 5, 5],\n",
       "       [6, 6, 6, 6, 6, 6, 6, 6, 6, 6],\n",
       "       [6, 6, 6, 6, 6, 6, 6, 6, 6, 6],\n",
       "       [5, 5, 5, 5, 5, 5, 5, 5, 5, 5],\n",
       "       [5, 5, 5, 5, 5, 5, 5, 5, 5, 5]])"
      ]
     },
     "metadata": {},
     "output_type": "display_data"
    },
    {
     "data": {
      "text/plain": [
       "array([[ 1,  2,  3,  4,  5,  6,  7,  8,  9, 10],\n",
       "       [ 1,  2,  3,  4,  5,  6,  7,  8,  9, 10],\n",
       "       [ 1,  2,  3,  4,  5,  6,  7,  8,  9, 10],\n",
       "       [ 1,  2,  3,  4,  5,  6,  7,  8,  9, 10],\n",
       "       [ 1,  2,  3,  4,  5,  6,  7,  8,  9, 10],\n",
       "       [ 1,  2,  3,  4,  5,  6,  7,  8,  9, 10],\n",
       "       [ 1,  2,  3,  4,  5,  6,  7,  8,  9, 10],\n",
       "       [ 1,  2,  3,  4,  5,  6,  7,  8,  9, 10],\n",
       "       [ 1,  2,  3,  4,  5,  6,  7,  8,  9, 10],\n",
       "       [ 1,  2,  3,  4,  5,  6,  7,  8,  9, 10]])"
      ]
     },
     "metadata": {},
     "output_type": "display_data"
    },
    {
     "data": {
      "text/plain": [
       "array([[ 6,  5,  4,  3,  2,  1,  0, -1, -2, -3],\n",
       "       [ 7,  6,  5,  4,  3,  2,  1,  0, -1, -2],\n",
       "       [ 7,  6,  5,  4,  3,  2,  1,  0, -1, -2],\n",
       "       [ 6,  5,  4,  3,  2,  1,  0, -1, -2, -3],\n",
       "       [ 0, -1, -2, -3, -4, -5, -6, -7, -8, -9],\n",
       "       [ 4,  3,  2,  1,  0, -1, -2, -3, -4, -5],\n",
       "       [ 5,  4,  3,  2,  1,  0, -1, -2, -3, -4],\n",
       "       [ 5,  4,  3,  2,  1,  0, -1, -2, -3, -4],\n",
       "       [ 4,  3,  2,  1,  0, -1, -2, -3, -4, -5],\n",
       "       [ 4,  3,  2,  1,  0, -1, -2, -3, -4, -5]])"
      ]
     },
     "metadata": {},
     "output_type": "display_data"
    },
    {
     "data": {
      "text/plain": [
       "(array([0, 1, 2, 3, 4, 5, 6, 7, 8, 9]), array([6, 7, 7, 6, 0, 4, 5, 5, 4, 4]))"
      ]
     },
     "metadata": {},
     "output_type": "display_data"
    }
   ],
   "source": [
    "NofD=10\n",
    "nPat1D=np.random.randint(1,11,(NofD,1))\n",
    "nPat2D=np.tile(nPat1D,[1,NofD])\n",
    "baseN=np.tile(range(1,11),[NofD,1])\n",
    "key=np.where(nPat2D-baseN==0)\n",
    "\n",
    "display(nPat1D)\n",
    "display(nPat2D)\n",
    "display(baseN)\n",
    "display(nPat2D-baseN)\n",
    "display(key)"
   ]
  },
  {
   "cell_type": "code",
   "execution_count": 24,
   "id": "e24c3433",
   "metadata": {},
   "outputs": [
    {
     "data": {
      "text/plain": [
       "array([7, 8, 8, 7, 1, 5, 6, 6, 5, 5])"
      ]
     },
     "execution_count": 24,
     "metadata": {},
     "output_type": "execute_result"
    }
   ],
   "source": [
    "nPat2D[key]"
   ]
  },
  {
   "cell_type": "code",
   "execution_count": 25,
   "id": "8a28bd68",
   "metadata": {},
   "outputs": [
    {
     "data": {
      "text/plain": [
       "array([70, 80, 80, 70, 10, 50, 60, 60, 50, 50])"
      ]
     },
     "execution_count": 25,
     "metadata": {},
     "output_type": "execute_result"
    }
   ],
   "source": [
    "dPat2D=nPat2D*10\n",
    "dPat2D[key]"
   ]
  },
  {
   "cell_type": "code",
   "execution_count": 29,
   "id": "8bce53d7",
   "metadata": {},
   "outputs": [
    {
     "data": {
      "text/plain": [
       "array([[ 9,  3,  4,  4,  8,  2,  8,  1, 10,  1]])"
      ]
     },
     "metadata": {},
     "output_type": "display_data"
    },
    {
     "data": {
      "text/plain": [
       "array([ 90,  30,  40,  40,  80,  20,  80,  10, 100,  10])"
      ]
     },
     "execution_count": 29,
     "metadata": {},
     "output_type": "execute_result"
    }
   ],
   "source": [
    "nPat1D=np.random.randint(1,11,(NofD,1))\n",
    "nPat2D=np.tile(nPat1D,[1,NofD])\n",
    "dPat2D=nPat2D*10\n",
    "display(nPat1D.T)\n",
    "\n",
    "baseN=np.tile(range(1,11),[NofD,1])\n",
    "dPat2D[np.where(np.tile(nPat1D,[1,NofD])-np.tile(range(1,11),[NofD,1])==0)]"
   ]
  },
  {
   "cell_type": "code",
   "execution_count": 854,
   "id": "40e2fad9",
   "metadata": {},
   "outputs": [
    {
     "data": {
      "text/plain": [
       "{1, 2, 4, 5, 6, 7, 8, 9}"
      ]
     },
     "execution_count": 854,
     "metadata": {},
     "output_type": "execute_result"
    }
   ],
   "source": [
    "index=np.random.randint(1, 10, (18,1))\n",
    "\n",
    "set(index.T.tolist()[0])"
   ]
  },
  {
   "cell_type": "code",
   "execution_count": 860,
   "id": "33247b40",
   "metadata": {},
   "outputs": [
    {
     "data": {
      "text/plain": [
       "array([[ 1,  2,  3,  4,  5,  6,  7,  8,  9, 10],\n",
       "       [ 1,  2,  3,  4,  5,  6,  7,  8,  9, 10],\n",
       "       [ 1,  2,  3,  4,  5,  6,  7,  8,  9, 10],\n",
       "       [ 1,  2,  3,  4,  5,  6,  7,  8,  9, 10],\n",
       "       [ 1,  2,  3,  4,  5,  6,  7,  8,  9, 10],\n",
       "       [ 1,  2,  3,  4,  5,  6,  7,  8,  9, 10],\n",
       "       [ 1,  2,  3,  4,  5,  6,  7,  8,  9, 10],\n",
       "       [ 1,  2,  3,  4,  5,  6,  7,  8,  9, 10]])"
      ]
     },
     "execution_count": 860,
     "metadata": {},
     "output_type": "execute_result"
    }
   ],
   "source": [
    "baseN"
   ]
  },
  {
   "cell_type": "code",
   "execution_count": 863,
   "id": "cfff7b08",
   "metadata": {},
   "outputs": [
    {
     "data": {
      "text/plain": [
       "{1, 2, 4, 5, 6, 7, 8, 9}"
      ]
     },
     "execution_count": 863,
     "metadata": {},
     "output_type": "execute_result"
    }
   ],
   "source": [
    "uID=set(index.T.tolist()[0])\n",
    "NofD=len(uID)\n",
    "uID"
   ]
  },
  {
   "cell_type": "code",
   "execution_count": 869,
   "id": "fd207443",
   "metadata": {},
   "outputs": [
    {
     "data": {
      "text/plain": [
       "array([[1, 2, 3, 4, 5, 6, 8],\n",
       "       [1, 2, 3, 4, 5, 6, 8],\n",
       "       [1, 2, 3, 4, 5, 6, 8],\n",
       "       [1, 2, 3, 4, 5, 6, 8],\n",
       "       [1, 2, 3, 4, 5, 6, 8],\n",
       "       [1, 2, 3, 4, 5, 6, 8],\n",
       "       [1, 2, 3, 4, 5, 6, 8]])"
      ]
     },
     "execution_count": 869,
     "metadata": {},
     "output_type": "execute_result"
    }
   ],
   "source": [
    "baseN=np.tile(uID,[NofD,1])\n",
    "baseN"
   ]
  },
  {
   "cell_type": "code",
   "execution_count": 874,
   "id": "8b4447f6",
   "metadata": {},
   "outputs": [
    {
     "data": {
      "text/plain": [
       "(18, 1)"
      ]
     },
     "execution_count": 874,
     "metadata": {},
     "output_type": "execute_result"
    }
   ],
   "source": [
    "np.shape(score)"
   ]
  },
  {
   "cell_type": "code",
   "execution_count": 870,
   "id": "f42af862",
   "metadata": {},
   "outputs": [
    {
     "data": {
      "text/plain": [
       "array([[ 9,  9,  9,  9,  9,  9,  9],\n",
       "       [ 3,  3,  3,  3,  3,  3,  3],\n",
       "       [ 4,  4,  4,  4,  4,  4,  4],\n",
       "       [ 4,  4,  4,  4,  4,  4,  4],\n",
       "       [ 8,  8,  8,  8,  8,  8,  8],\n",
       "       [ 2,  2,  2,  2,  2,  2,  2],\n",
       "       [ 8,  8,  8,  8,  8,  8,  8],\n",
       "       [ 1,  1,  1,  1,  1,  1,  1],\n",
       "       [10, 10, 10, 10, 10, 10, 10],\n",
       "       [ 1,  1,  1,  1,  1,  1,  1]])"
      ]
     },
     "execution_count": 870,
     "metadata": {},
     "output_type": "execute_result"
    }
   ],
   "source": [
    "np.tile(nPat1D,[1,NofD])"
   ]
  },
  {
   "cell_type": "code",
   "execution_count": 914,
   "id": "7da31585",
   "metadata": {},
   "outputs": [
    {
     "data": {
      "text/plain": [
       "array([[5],\n",
       "       [7],\n",
       "       [6],\n",
       "       [1],\n",
       "       [9],\n",
       "       [8],\n",
       "       [8],\n",
       "       [7],\n",
       "       [9],\n",
       "       [9],\n",
       "       [9],\n",
       "       [5],\n",
       "       [9],\n",
       "       [7],\n",
       "       [5],\n",
       "       [5],\n",
       "       [6],\n",
       "       [1]])"
      ]
     },
     "execution_count": 914,
     "metadata": {},
     "output_type": "execute_result"
    }
   ],
   "source": [
    "index"
   ]
  },
  {
   "cell_type": "code",
   "execution_count": 915,
   "id": "66cc962b",
   "metadata": {},
   "outputs": [
    {
     "data": {
      "text/plain": [
       "array([[37],\n",
       "       [51],\n",
       "       [66],\n",
       "       [10],\n",
       "       [83],\n",
       "       [81],\n",
       "       [88],\n",
       "       [42],\n",
       "       [ 1],\n",
       "       [25],\n",
       "       [19],\n",
       "       [72],\n",
       "       [69],\n",
       "       [43],\n",
       "       [ 6],\n",
       "       [62],\n",
       "       [13],\n",
       "       [60]])"
      ]
     },
     "execution_count": 915,
     "metadata": {},
     "output_type": "execute_result"
    }
   ],
   "source": [
    "score"
   ]
  },
  {
   "cell_type": "code",
   "execution_count": 880,
   "id": "4a6d9fc1",
   "metadata": {},
   "outputs": [],
   "source": [
    "index=np.random.randint(1, 10, (18,1))\n",
    "score=np.random.randint(0, 100, (18,1))"
   ]
  },
  {
   "cell_type": "code",
   "execution_count": 883,
   "id": "9131c416",
   "metadata": {},
   "outputs": [
    {
     "name": "stdout",
     "output_type": "stream",
     "text": [
      "index: [[5], [7], [6], [1], [9], [8], [8], [7], [9], [9], [9], [5], [9], [7], [5], [5], [6], [1]]\n",
      "score: [[37], [51], [66], [10], [83], [81], [88], [42], [1], [25], [19], [72], [69], [43], [6], [62], [13], [60]]\n",
      "---\n",
      "key: 1, list: [[10], [60]], sum: 70\n",
      "key: 5, list: [[37], [72], [6], [62]], sum: 177\n",
      "key: 6, list: [[66], [13]], sum: 79\n",
      "key: 7, list: [[51], [42], [43]], sum: 136\n",
      "key: 8, list: [[81], [88]], sum: 169\n",
      "key: 9, list: [[83], [1], [25], [19], [69]], sum: 197\n"
     ]
    }
   ],
   "source": [
    "B=np.hstack([index,score])\n",
    "index_sum=np.sum(B[:,0])\n",
    "score_sum=np.sum(B[:,1])\n",
    "\n",
    "print('index: {0}'.format(index.tolist()))\n",
    "print('score: {0}'.format(score.tolist()))\n",
    "print('---')\n",
    "\n",
    "for key in set(index[:,0]):#  set(B[:,0]): でも良い\n",
    "    index1=np.where(index==key)[0]\n",
    "    value_less_than_five=score[index1]\n",
    "    sum_value1=np.sum(value_less_than_five)\n",
    "    print('key: {0}, list: {1}, sum: {2}'.format(key, value_less_than_five.tolist(),sum_value1))\n"
   ]
  },
  {
   "cell_type": "code",
   "execution_count": 910,
   "id": "11f74d1c",
   "metadata": {},
   "outputs": [
    {
     "data": {
      "text/plain": [
       "array([[  1,   5,   6,   7,   8,   9],\n",
       "       [ 70, 177,  79, 136, 169, 197]])"
      ]
     },
     "metadata": {},
     "output_type": "display_data"
    }
   ],
   "source": [
    "# index=np.random.randint(1, 10, (18,1))\n",
    "# score=np.random.randint(0, 100, (18,1))\n",
    "\n",
    "uID=list(set(index.T.tolist()[0]))\n",
    "NofD=len(uID)\n",
    "NofD2=len(index)\n",
    "dPat2D=np.tile(score,[1,NofD])\n",
    "\n",
    "ext2D=np.full(np.shape(dPat2D),0,dtype=int)\n",
    "ext2D[np.tile(index,[1,NofD])-np.tile(uID,[NofD2,1])==0]=dPat2D[np.tile(index,[1,NofD])-np.tile(uID,[NofD2,1])==0]\n",
    "display(np.vstack([np.array(uID),np.sum(ext2D,axis=0)]))"
   ]
  },
  {
   "cell_type": "code",
   "execution_count": 911,
   "id": "2af36c17",
   "metadata": {},
   "outputs": [
    {
     "data": {
      "text/plain": [
       "array([[  1,   5,   6,   7,   8,   9],\n",
       "       [ 70, 177,  79, 136, 169, 197]])"
      ]
     },
     "metadata": {},
     "output_type": "display_data"
    }
   ],
   "source": [
    "# index=np.random.randint(1, 10, (18,1))\n",
    "# score=np.random.randint(0, 100, (18,1))\n",
    "\n",
    "uID=list(set(index.T.tolist()[0]))\n",
    "NofD=len(uID)\n",
    "NofD2=len(index)\n",
    "nPat2D=np.tile(index,[1,NofD])\n",
    "dPat2D=np.tile(score,[1,NofD])\n",
    "\n",
    "ext2D=np.full(np.shape(dPat2D),0,dtype=int)\n",
    "ext2D[nPat2D-np.tile(uID,[NofD2,1])==0]=dPat2D[nPat2D-np.tile(uID,[NofD2,1])==0]\n",
    "display(np.vstack([np.array(uID),np.sum(ext2D,axis=0)]))"
   ]
  },
  {
   "cell_type": "code",
   "execution_count": 889,
   "id": "85ace2c9",
   "metadata": {},
   "outputs": [
    {
     "data": {
      "text/plain": [
       "[1, 5, 6, 7, 8, 9]"
      ]
     },
     "execution_count": 889,
     "metadata": {},
     "output_type": "execute_result"
    }
   ],
   "source": [
    "uID"
   ]
  },
  {
   "cell_type": "code",
   "execution_count": 909,
   "id": "4a4c5de1",
   "metadata": {},
   "outputs": [
    {
     "data": {
      "text/plain": [
       "array([[5, 5, 5, 5, 5, 5],\n",
       "       [7, 7, 7, 7, 7, 7],\n",
       "       [6, 6, 6, 6, 6, 6],\n",
       "       [1, 1, 1, 1, 1, 1],\n",
       "       [9, 9, 9, 9, 9, 9],\n",
       "       [8, 8, 8, 8, 8, 8],\n",
       "       [8, 8, 8, 8, 8, 8],\n",
       "       [7, 7, 7, 7, 7, 7],\n",
       "       [9, 9, 9, 9, 9, 9],\n",
       "       [9, 9, 9, 9, 9, 9],\n",
       "       [9, 9, 9, 9, 9, 9],\n",
       "       [5, 5, 5, 5, 5, 5],\n",
       "       [9, 9, 9, 9, 9, 9],\n",
       "       [7, 7, 7, 7, 7, 7],\n",
       "       [5, 5, 5, 5, 5, 5],\n",
       "       [5, 5, 5, 5, 5, 5],\n",
       "       [6, 6, 6, 6, 6, 6],\n",
       "       [1, 1, 1, 1, 1, 1]])"
      ]
     },
     "execution_count": 909,
     "metadata": {},
     "output_type": "execute_result"
    }
   ],
   "source": [
    "nPat2D"
   ]
  },
  {
   "cell_type": "code",
   "execution_count": 916,
   "id": "240c1bdd",
   "metadata": {},
   "outputs": [
    {
     "data": {
      "text/plain": [
       "array([[37, 37, 37, 37, 37, 37],\n",
       "       [51, 51, 51, 51, 51, 51],\n",
       "       [66, 66, 66, 66, 66, 66],\n",
       "       [10, 10, 10, 10, 10, 10],\n",
       "       [83, 83, 83, 83, 83, 83],\n",
       "       [81, 81, 81, 81, 81, 81],\n",
       "       [88, 88, 88, 88, 88, 88],\n",
       "       [42, 42, 42, 42, 42, 42],\n",
       "       [ 1,  1,  1,  1,  1,  1],\n",
       "       [25, 25, 25, 25, 25, 25],\n",
       "       [19, 19, 19, 19, 19, 19],\n",
       "       [72, 72, 72, 72, 72, 72],\n",
       "       [69, 69, 69, 69, 69, 69],\n",
       "       [43, 43, 43, 43, 43, 43],\n",
       "       [ 6,  6,  6,  6,  6,  6],\n",
       "       [62, 62, 62, 62, 62, 62],\n",
       "       [13, 13, 13, 13, 13, 13],\n",
       "       [60, 60, 60, 60, 60, 60]])"
      ]
     },
     "execution_count": 916,
     "metadata": {},
     "output_type": "execute_result"
    }
   ],
   "source": [
    "dPat2D"
   ]
  },
  {
   "cell_type": "code",
   "execution_count": 917,
   "id": "060402d7",
   "metadata": {},
   "outputs": [
    {
     "data": {
      "text/plain": [
       "array([[0, 0, 0, 0, 0, 0],\n",
       "       [0, 0, 0, 0, 0, 0],\n",
       "       [0, 0, 0, 0, 0, 0],\n",
       "       [0, 0, 0, 0, 0, 0],\n",
       "       [0, 0, 0, 0, 0, 0],\n",
       "       [0, 0, 0, 0, 0, 0],\n",
       "       [0, 0, 0, 0, 0, 0],\n",
       "       [0, 0, 0, 0, 0, 0],\n",
       "       [0, 0, 0, 0, 0, 0],\n",
       "       [0, 0, 0, 0, 0, 0],\n",
       "       [0, 0, 0, 0, 0, 0],\n",
       "       [0, 0, 0, 0, 0, 0],\n",
       "       [0, 0, 0, 0, 0, 0],\n",
       "       [0, 0, 0, 0, 0, 0],\n",
       "       [0, 0, 0, 0, 0, 0],\n",
       "       [0, 0, 0, 0, 0, 0],\n",
       "       [0, 0, 0, 0, 0, 0],\n",
       "       [0, 0, 0, 0, 0, 0]])"
      ]
     },
     "execution_count": 917,
     "metadata": {},
     "output_type": "execute_result"
    }
   ],
   "source": [
    "ext2D=np.full(np.shape(dPat2D),0,dtype=int)\n",
    "ext2D"
   ]
  },
  {
   "cell_type": "code",
   "execution_count": 921,
   "id": "db898b45",
   "metadata": {},
   "outputs": [
    {
     "data": {
      "text/plain": [
       "array([[1, 5, 6, 7, 8, 9],\n",
       "       [1, 5, 6, 7, 8, 9],\n",
       "       [1, 5, 6, 7, 8, 9],\n",
       "       [1, 5, 6, 7, 8, 9],\n",
       "       [1, 5, 6, 7, 8, 9],\n",
       "       [1, 5, 6, 7, 8, 9],\n",
       "       [1, 5, 6, 7, 8, 9],\n",
       "       [1, 5, 6, 7, 8, 9],\n",
       "       [1, 5, 6, 7, 8, 9],\n",
       "       [1, 5, 6, 7, 8, 9],\n",
       "       [1, 5, 6, 7, 8, 9],\n",
       "       [1, 5, 6, 7, 8, 9],\n",
       "       [1, 5, 6, 7, 8, 9],\n",
       "       [1, 5, 6, 7, 8, 9],\n",
       "       [1, 5, 6, 7, 8, 9],\n",
       "       [1, 5, 6, 7, 8, 9],\n",
       "       [1, 5, 6, 7, 8, 9],\n",
       "       [1, 5, 6, 7, 8, 9]])"
      ]
     },
     "execution_count": 921,
     "metadata": {},
     "output_type": "execute_result"
    }
   ],
   "source": [
    "np.tile(uID,[NofD2,1])"
   ]
  },
  {
   "cell_type": "code",
   "execution_count": 908,
   "id": "03b5680d",
   "metadata": {
    "scrolled": true
   },
   "outputs": [
    {
     "data": {
      "text/plain": [
       "array([[  1,   5,   6,   7,   8,   9],\n",
       "       [ 70, 177,  79, 136, 169, 197]])"
      ]
     },
     "metadata": {},
     "output_type": "display_data"
    }
   ],
   "source": [
    "# index=np.random.randint(1, 10, (18,1))\n",
    "# score=np.random.randint(0, 100, (18,1))\n",
    "\n",
    "uID=list(set(index.T.tolist()[0]))\n",
    "NofD=len(uID)\n",
    "NofD2=len(index)\n",
    "nPat2D=np.tile(index,[1,NofD])\n",
    "dPat2D=np.tile(score,[1,NofD])\n",
    "\n",
    "ext2D=np.full(np.shape(dPat2D),0,dtype=int)\n",
    "ext2D[np.tile(index,[1,NofD])-np.tile(uID,[NofD2,1])==0]=dPat2D[np.tile(index,[1,NofD])-np.tile(uID,[NofD2,1])==0]\n",
    "display(np.vstack([np.array(uID),np.sum(ext2D,axis=0)]))"
   ]
  },
  {
   "cell_type": "code",
   "execution_count": 907,
   "id": "24d22d68",
   "metadata": {},
   "outputs": [
    {
     "data": {
      "text/plain": [
       "array([[  1,   5,   6,   7,   8,   9],\n",
       "       [ 70, 177,  79, 136, 169, 197]])"
      ]
     },
     "metadata": {},
     "output_type": "display_data"
    }
   ],
   "source": [
    "display(np.vstack([np.array(uID),np.sum(ext2D,axis=0)]))"
   ]
  },
  {
   "cell_type": "code",
   "execution_count": 923,
   "id": "71f9f816",
   "metadata": {},
   "outputs": [
    {
     "data": {
      "text/plain": [
       "array([[0, 5, 0, 0, 0, 0],\n",
       "       [0, 0, 0, 7, 0, 0],\n",
       "       [0, 0, 6, 0, 0, 0],\n",
       "       [1, 0, 0, 0, 0, 0],\n",
       "       [0, 0, 0, 0, 0, 9],\n",
       "       [0, 0, 0, 0, 8, 0],\n",
       "       [0, 0, 0, 0, 8, 0],\n",
       "       [0, 0, 0, 7, 0, 0],\n",
       "       [0, 0, 0, 0, 0, 9],\n",
       "       [0, 0, 0, 0, 0, 9],\n",
       "       [0, 0, 0, 0, 0, 9],\n",
       "       [0, 5, 0, 0, 0, 0],\n",
       "       [0, 0, 0, 0, 0, 9],\n",
       "       [0, 0, 0, 7, 0, 0],\n",
       "       [0, 5, 0, 0, 0, 0],\n",
       "       [0, 5, 0, 0, 0, 0],\n",
       "       [0, 0, 6, 0, 0, 0],\n",
       "       [1, 0, 0, 0, 0, 0]])"
      ]
     },
     "metadata": {},
     "output_type": "display_data"
    },
    {
     "data": {
      "text/plain": [
       "array([[ 0, 37,  0,  0,  0,  0],\n",
       "       [ 0,  0,  0, 51,  0,  0],\n",
       "       [ 0,  0, 66,  0,  0,  0],\n",
       "       [10,  0,  0,  0,  0,  0],\n",
       "       [ 0,  0,  0,  0,  0, 83],\n",
       "       [ 0,  0,  0,  0, 81,  0],\n",
       "       [ 0,  0,  0,  0, 88,  0],\n",
       "       [ 0,  0,  0, 42,  0,  0],\n",
       "       [ 0,  0,  0,  0,  0,  1],\n",
       "       [ 0,  0,  0,  0,  0, 25],\n",
       "       [ 0,  0,  0,  0,  0, 19],\n",
       "       [ 0, 72,  0,  0,  0,  0],\n",
       "       [ 0,  0,  0,  0,  0, 69],\n",
       "       [ 0,  0,  0, 43,  0,  0],\n",
       "       [ 0,  6,  0,  0,  0,  0],\n",
       "       [ 0, 62,  0,  0,  0,  0],\n",
       "       [ 0,  0, 13,  0,  0,  0],\n",
       "       [60,  0,  0,  0,  0,  0]])"
      ]
     },
     "metadata": {},
     "output_type": "display_data"
    },
    {
     "data": {
      "text/plain": [
       "array([ 70, 177,  79, 136, 169, 197])"
      ]
     },
     "execution_count": 923,
     "metadata": {},
     "output_type": "execute_result"
    }
   ],
   "source": [
    "ext2D=np.full(np.shape(dPat2D),0,dtype=int)\n",
    "ext2D\n",
    "ext2D[np.tile(index,[1,NofD])-np.tile(uID,[NofD2,1])==0]=nPat2D[np.tile(index,[1,NofD])-np.tile(uID,[NofD2,1])==0]\n",
    "display(ext2D)\n",
    "\n",
    "ext2D=np.full(np.shape(dPat2D),0,dtype=int)\n",
    "ext2D\n",
    "ext2D[np.tile(index,[1,NofD])-np.tile(uID,[NofD2,1])==0]=dPat2D[np.tile(index,[1,NofD])-np.tile(uID,[NofD2,1])==0]\n",
    "display(ext2D)\n",
    "np.sum(ext2D,axis=0)"
   ]
  },
  {
   "cell_type": "code",
   "execution_count": 913,
   "id": "d19214ff",
   "metadata": {},
   "outputs": [
    {
     "name": "stdout",
     "output_type": "stream",
     "text": [
      "[[ 0 37  0  0  0  0]\n",
      " [ 0  0  0 51  0  0]\n",
      " [ 0  0 66  0  0  0]\n",
      " [10  0  0  0  0  0]\n",
      " [ 0  0  0  0  0 83]\n",
      " [ 0  0  0  0 81  0]\n",
      " [ 0  0  0  0 88  0]\n",
      " [ 0  0  0 42  0  0]\n",
      " [ 0  0  0  0  0  1]\n",
      " [ 0  0  0  0  0 25]\n",
      " [ 0  0  0  0  0 19]\n",
      " [ 0 72  0  0  0  0]\n",
      " [ 0  0  0  0  0 69]\n",
      " [ 0  0  0 43  0  0]\n",
      " [ 0  6  0  0  0  0]\n",
      " [ 0 62  0  0  0  0]\n",
      " [ 0  0 13  0  0  0]\n",
      " [60  0  0  0  0  0]]\n"
     ]
    }
   ],
   "source": [
    "print(ext2D)"
   ]
  },
  {
   "cell_type": "code",
   "execution_count": 922,
   "id": "8f5510ff",
   "metadata": {},
   "outputs": [
    {
     "data": {
      "text/plain": [
       "(array([ 0,  1,  2,  3,  4,  5,  6,  7,  8,  9, 10, 11, 12, 13, 14, 15, 16,\n",
       "        17]),\n",
       " array([1, 3, 2, 0, 5, 4, 4, 3, 5, 5, 5, 1, 5, 3, 1, 1, 2, 0]))"
      ]
     },
     "execution_count": 922,
     "metadata": {},
     "output_type": "execute_result"
    }
   ],
   "source": [
    "np.where(np.tile(index,[1,NofD])-np.tile(uID,[NofD2,1])==0)"
   ]
  },
  {
   "cell_type": "code",
   "execution_count": 919,
   "id": "af73225a",
   "metadata": {},
   "outputs": [
    {
     "data": {
      "text/plain": [
       "(array([[5, 5, 5, 5, 5, 5],\n",
       "        [7, 7, 7, 7, 7, 7],\n",
       "        [6, 6, 6, 6, 6, 6],\n",
       "        [1, 1, 1, 1, 1, 1],\n",
       "        [9, 9, 9, 9, 9, 9],\n",
       "        [8, 8, 8, 8, 8, 8],\n",
       "        [8, 8, 8, 8, 8, 8],\n",
       "        [7, 7, 7, 7, 7, 7],\n",
       "        [9, 9, 9, 9, 9, 9],\n",
       "        [9, 9, 9, 9, 9, 9],\n",
       "        [9, 9, 9, 9, 9, 9],\n",
       "        [5, 5, 5, 5, 5, 5],\n",
       "        [9, 9, 9, 9, 9, 9],\n",
       "        [7, 7, 7, 7, 7, 7],\n",
       "        [5, 5, 5, 5, 5, 5],\n",
       "        [5, 5, 5, 5, 5, 5],\n",
       "        [6, 6, 6, 6, 6, 6],\n",
       "        [1, 1, 1, 1, 1, 1]]),\n",
       " array([[37, 37, 37, 37, 37, 37],\n",
       "        [51, 51, 51, 51, 51, 51],\n",
       "        [66, 66, 66, 66, 66, 66],\n",
       "        [10, 10, 10, 10, 10, 10],\n",
       "        [83, 83, 83, 83, 83, 83],\n",
       "        [81, 81, 81, 81, 81, 81],\n",
       "        [88, 88, 88, 88, 88, 88],\n",
       "        [42, 42, 42, 42, 42, 42],\n",
       "        [ 1,  1,  1,  1,  1,  1],\n",
       "        [25, 25, 25, 25, 25, 25],\n",
       "        [19, 19, 19, 19, 19, 19],\n",
       "        [72, 72, 72, 72, 72, 72],\n",
       "        [69, 69, 69, 69, 69, 69],\n",
       "        [43, 43, 43, 43, 43, 43],\n",
       "        [ 6,  6,  6,  6,  6,  6],\n",
       "        [62, 62, 62, 62, 62, 62],\n",
       "        [13, 13, 13, 13, 13, 13],\n",
       "        [60, 60, 60, 60, 60, 60]]))"
      ]
     },
     "execution_count": 919,
     "metadata": {},
     "output_type": "execute_result"
    }
   ],
   "source": [
    "np.tile(index,[1,NofD]),dPat2D"
   ]
  },
  {
   "cell_type": "code",
   "execution_count": 901,
   "id": "18ca457e",
   "metadata": {},
   "outputs": [
    {
     "name": "stdout",
     "output_type": "stream",
     "text": [
      "index:\n"
     ]
    },
    {
     "data": {
      "text/plain": [
       "array([[5],\n",
       "       [7],\n",
       "       [6],\n",
       "       [1],\n",
       "       [9],\n",
       "       [8],\n",
       "       [8],\n",
       "       [7],\n",
       "       [9],\n",
       "       [9],\n",
       "       [9],\n",
       "       [5],\n",
       "       [9],\n",
       "       [7],\n",
       "       [5],\n",
       "       [5],\n",
       "       [6],\n",
       "       [1]])"
      ]
     },
     "metadata": {},
     "output_type": "display_data"
    },
    {
     "name": "stdout",
     "output_type": "stream",
     "text": [
      "index(unique):\n"
     ]
    },
    {
     "data": {
      "text/plain": [
       "[1, 5, 6, 7, 8, 9]"
      ]
     },
     "metadata": {},
     "output_type": "display_data"
    },
    {
     "name": "stdout",
     "output_type": "stream",
     "text": [
      "extended to 2D:\n"
     ]
    },
    {
     "data": {
      "text/plain": [
       "array([[5, 5, 5, 5, 5, 5],\n",
       "       [7, 7, 7, 7, 7, 7],\n",
       "       [6, 6, 6, 6, 6, 6],\n",
       "       [1, 1, 1, 1, 1, 1],\n",
       "       [9, 9, 9, 9, 9, 9],\n",
       "       [8, 8, 8, 8, 8, 8],\n",
       "       [8, 8, 8, 8, 8, 8],\n",
       "       [7, 7, 7, 7, 7, 7],\n",
       "       [9, 9, 9, 9, 9, 9],\n",
       "       [9, 9, 9, 9, 9, 9],\n",
       "       [9, 9, 9, 9, 9, 9],\n",
       "       [5, 5, 5, 5, 5, 5],\n",
       "       [9, 9, 9, 9, 9, 9],\n",
       "       [7, 7, 7, 7, 7, 7],\n",
       "       [5, 5, 5, 5, 5, 5],\n",
       "       [5, 5, 5, 5, 5, 5],\n",
       "       [6, 6, 6, 6, 6, 6],\n",
       "       [1, 1, 1, 1, 1, 1]])"
      ]
     },
     "metadata": {},
     "output_type": "display_data"
    },
    {
     "data": {
      "text/plain": [
       "array([[37, 37, 37, 37, 37, 37],\n",
       "       [51, 51, 51, 51, 51, 51],\n",
       "       [66, 66, 66, 66, 66, 66],\n",
       "       [10, 10, 10, 10, 10, 10],\n",
       "       [83, 83, 83, 83, 83, 83],\n",
       "       [81, 81, 81, 81, 81, 81],\n",
       "       [88, 88, 88, 88, 88, 88],\n",
       "       [42, 42, 42, 42, 42, 42],\n",
       "       [ 1,  1,  1,  1,  1,  1],\n",
       "       [25, 25, 25, 25, 25, 25],\n",
       "       [19, 19, 19, 19, 19, 19],\n",
       "       [72, 72, 72, 72, 72, 72],\n",
       "       [69, 69, 69, 69, 69, 69],\n",
       "       [43, 43, 43, 43, 43, 43],\n",
       "       [ 6,  6,  6,  6,  6,  6],\n",
       "       [62, 62, 62, 62, 62, 62],\n",
       "       [13, 13, 13, 13, 13, 13],\n",
       "       [60, 60, 60, 60, 60, 60]])"
      ]
     },
     "metadata": {},
     "output_type": "display_data"
    },
    {
     "data": {
      "text/plain": [
       "array([37, 51, 66, 10, 83, 81, 88, 42,  1, 25, 19, 72, 69, 43,  6, 62, 13,\n",
       "       60])"
      ]
     },
     "execution_count": 901,
     "metadata": {},
     "output_type": "execute_result"
    }
   ],
   "source": [
    "# index=np.random.randint(1, 10, (18,1))\n",
    "# score=np.random.randint(0, 100, (18,1))\n",
    "\n",
    "uID=list(set(index.T.tolist()[0]))\n",
    "NofD=len(uID)\n",
    "NofD2=len(index)\n",
    "nPat2D=np.tile(index,[1,NofD])\n",
    "print('index:')\n",
    "display(index)\n",
    "print('index(unique):')\n",
    "display(uID)\n",
    "print('extended to 2D:')\n",
    "display(nPat2D)\n",
    "\n",
    "dPat2D=np.tile(score,[1,NofD])\n",
    "display(dPat2D)\n",
    "\n",
    "baseN=np.tile(uID,[NofD,1])\n",
    "\n",
    "# np.where(np.tile(index,[1,NofD])-np.tile(uID,[NofD2,1])==0)]\n",
    "dPat2D[np.tile(index,[1,NofD])-np.tile(uID,[NofD2,1])==0]\n",
    "\n",
    "# dPat2D[np.where(np.tile(nPat1D,[1,NofD])-np.tile(uID,[NofD,1])==0)]"
   ]
  },
  {
   "cell_type": "code",
   "execution_count": 845,
   "id": "9af4cc29",
   "metadata": {},
   "outputs": [
    {
     "data": {
      "text/plain": [
       "array([[ 9],\n",
       "       [ 3],\n",
       "       [ 4],\n",
       "       [ 4],\n",
       "       [ 8],\n",
       "       [ 2],\n",
       "       [ 8],\n",
       "       [ 1],\n",
       "       [10],\n",
       "       [ 1]])"
      ]
     },
     "execution_count": 845,
     "metadata": {},
     "output_type": "execute_result"
    }
   ],
   "source": [
    "nPat1D"
   ]
  },
  {
   "cell_type": "markdown",
   "id": "0a042bb0",
   "metadata": {},
   "source": [
    "## Example 2"
   ]
  },
  {
   "cell_type": "code",
   "execution_count": 33,
   "id": "dd6aa332",
   "metadata": {},
   "outputs": [
    {
     "name": "stdout",
     "output_type": "stream",
     "text": [
      "9\n",
      "8\n",
      "7\n"
     ]
    }
   ],
   "source": [
    "for i in range(9,6,-1):\n",
    "    print(i)"
   ]
  },
  {
   "cell_type": "code",
   "execution_count": 36,
   "id": "4d6704e2",
   "metadata": {},
   "outputs": [
    {
     "data": {
      "text/plain": [
       "[9, 8, 7, 6, 5, 4, 3, 2, 1]"
      ]
     },
     "execution_count": 36,
     "metadata": {},
     "output_type": "execute_result"
    }
   ],
   "source": [
    "list(range(9,0,-1))"
   ]
  },
  {
   "cell_type": "code",
   "execution_count": 41,
   "id": "158fbc7c",
   "metadata": {},
   "outputs": [
    {
     "data": {
      "text/plain": [
       "[2, 5]"
      ]
     },
     "execution_count": 41,
     "metadata": {},
     "output_type": "execute_result"
    }
   ],
   "source": [
    "rd = list(range(9,0,-1))\n",
    "rn = []\n",
    "while len(rn) < 2:\n",
    "    key = np.random.randint(0,len(rd))\n",
    "    n=rd.pop(key)\n",
    "    rn.extend([n])\n",
    "rn"
   ]
  },
  {
   "cell_type": "code",
   "execution_count": 49,
   "id": "0301672b",
   "metadata": {},
   "outputs": [
    {
     "data": {
      "text/plain": [
       "[1, 2, 3, 4, 5, 6, 7, 8, 9]"
      ]
     },
     "execution_count": 49,
     "metadata": {},
     "output_type": "execute_result"
    }
   ],
   "source": [
    "rn=list(range(1,10))\n",
    "rn"
   ]
  },
  {
   "cell_type": "code",
   "execution_count": 52,
   "id": "d48387d8",
   "metadata": {},
   "outputs": [
    {
     "data": {
      "text/plain": [
       "[1, 2, 3, 6, 7, 8, 9]"
      ]
     },
     "metadata": {},
     "output_type": "display_data"
    },
    {
     "data": {
      "text/plain": [
       "[1, 2, 3, 7, 8, 9]"
      ]
     },
     "metadata": {},
     "output_type": "display_data"
    }
   ],
   "source": [
    "display(rn)\n",
    "k=4\n",
    "rn.pop(k-1)\n",
    "display(rn)"
   ]
  },
  {
   "cell_type": "code",
   "execution_count": 69,
   "id": "888390ba",
   "metadata": {},
   "outputs": [
    {
     "data": {
      "text/plain": [
       "{0, 1, 2, 3, 4, 5, 6, 7, 8}"
      ]
     },
     "execution_count": 69,
     "metadata": {},
     "output_type": "execute_result"
    }
   ],
   "source": [
    "ns=set(range(0,9))\n",
    "ns"
   ]
  },
  {
   "cell_type": "code",
   "execution_count": 61,
   "id": "b5dc0f65",
   "metadata": {},
   "outputs": [
    {
     "data": {
      "text/plain": [
       "set()"
      ]
     },
     "execution_count": 61,
     "metadata": {},
     "output_type": "execute_result"
    }
   ],
   "source": [
    "ns=ns-{1}\n",
    "ns"
   ]
  },
  {
   "cell_type": "code",
   "execution_count": 74,
   "id": "19de340f",
   "metadata": {},
   "outputs": [
    {
     "data": {
      "text/plain": [
       "<list_reverseiterator at 0x130b37910>"
      ]
     },
     "execution_count": 74,
     "metadata": {},
     "output_type": "execute_result"
    }
   ],
   "source": [
    "reversed(sorted(list(ns)))"
   ]
  },
  {
   "cell_type": "code",
   "execution_count": 71,
   "id": "39be0be2",
   "metadata": {},
   "outputs": [
    {
     "name": "stdout",
     "output_type": "stream",
     "text": [
      "None\n"
     ]
    }
   ],
   "source": [
    "a=list(ns).sort(reverse=True)\n",
    "print(a)"
   ]
  },
  {
   "cell_type": "code",
   "execution_count": 76,
   "id": "d7294856",
   "metadata": {},
   "outputs": [
    {
     "name": "stdout",
     "output_type": "stream",
     "text": [
      "{0, 1, 2, 3, 4, 5, 6, 7}\n",
      "8\n",
      "{0, 1, 2, 3, 4, 5, 6}\n",
      "7\n",
      "{0, 1, 2, 3, 4, 5}\n",
      "6\n",
      "{0, 1, 2, 3, 4}\n",
      "5\n",
      "{0, 1, 2, 3}\n",
      "4\n",
      "{0, 1, 2}\n",
      "3\n",
      "{0, 1}\n",
      "2\n",
      "{0}\n",
      "1\n",
      "set()\n",
      "0\n"
     ]
    }
   ],
   "source": [
    "ns=set(range(0,9))\n",
    "for i in reversed(sorted(list(ns))):\n",
    "    ns=ns-{i}\n",
    "    ns\n",
    "    print(ns)\n",
    "    print(i)"
   ]
  },
  {
   "cell_type": "code",
   "execution_count": 81,
   "id": "b8a63757",
   "metadata": {},
   "outputs": [
    {
     "name": "stdout",
     "output_type": "stream",
     "text": [
      "[15, 16, 17, 18, 19, 20, 21]\n",
      "[14, 15, 16, 17, 18, 19, 21]\n",
      "[13, 14, 15, 16, 17, 19, 20]\n",
      "[12, 13, 14, 15, 17, 18, 19]\n",
      "[11, 12, 13, 15, 16, 17, 18]\n",
      "[10, 11, 13, 14, 15, 16, 17]\n",
      "[9, 11, 12, 13, 14, 15, 16]\n",
      "[9, 10, 11, 12, 13, 14, 15]\n",
      "{0, 1, 2, 3, 4, 5, 6, 7}\n",
      "8\n",
      "[13, 14, 15, 16, 17, 18]\n",
      "[12, 13, 14, 15, 16, 18]\n",
      "[11, 12, 13, 14, 16, 17]\n",
      "[10, 11, 12, 14, 15, 16]\n",
      "[9, 10, 12, 13, 14, 15]\n",
      "[8, 10, 11, 12, 13, 14]\n",
      "[8, 9, 10, 11, 12, 13]\n",
      "{0, 1, 2, 3, 4, 5, 6}\n",
      "7\n",
      "[11, 12, 13, 14, 15]\n",
      "[10, 11, 12, 13, 15]\n",
      "[9, 10, 11, 13, 14]\n",
      "[8, 9, 11, 12, 13]\n",
      "[7, 9, 10, 11, 12]\n",
      "[7, 8, 9, 10, 11]\n",
      "{0, 1, 2, 3, 4, 5}\n",
      "6\n",
      "[9, 10, 11, 12]\n",
      "[8, 9, 10, 12]\n",
      "[7, 8, 10, 11]\n",
      "[6, 8, 9, 10]\n",
      "[6, 7, 8, 9]\n",
      "{0, 1, 2, 3, 4}\n",
      "5\n",
      "[7, 8, 9]\n",
      "[6, 7, 9]\n",
      "[5, 7, 8]\n",
      "[5, 6, 7]\n",
      "{0, 1, 2, 3}\n",
      "4\n",
      "[5, 6]\n",
      "[4, 6]\n",
      "[4, 5]\n",
      "{0, 1, 2}\n",
      "3\n",
      "[3]\n",
      "[3]\n",
      "{0, 1}\n",
      "2\n",
      "[]\n",
      "{0}\n",
      "1\n",
      "set()\n",
      "0\n"
     ]
    }
   ],
   "source": [
    "ns=set(range(0,9))\n",
    "for i in reversed(sorted(list(ns))):\n",
    "    ns=ns-{i}\n",
    "    for j in reversed(sorted(list(ns))):\n",
    "        a=map(lambda x: i+j+x, list(ns-{j}))\n",
    "        print(list(a))\n",
    "    print(ns)\n",
    "    print(i)"
   ]
  },
  {
   "cell_type": "code",
   "execution_count": 104,
   "id": "796c5447",
   "metadata": {},
   "outputs": [
    {
     "data": {
      "text/plain": [
       "{1, 2, 3, 4, 5, 6, 7, 8, 9}"
      ]
     },
     "execution_count": 104,
     "metadata": {},
     "output_type": "execute_result"
    }
   ],
   "source": [
    "ns=set(range(1,10))\n",
    "ns"
   ]
  },
  {
   "cell_type": "code",
   "execution_count": 106,
   "id": "2873f308",
   "metadata": {},
   "outputs": [
    {
     "data": {
      "text/plain": [
       "0"
      ]
     },
     "execution_count": 106,
     "metadata": {},
     "output_type": "execute_result"
    }
   ],
   "source": [
    "len(rItem)"
   ]
  },
  {
   "cell_type": "code",
   "execution_count": 115,
   "id": "b688a4b1",
   "metadata": {},
   "outputs": [
    {
     "data": {
      "text/plain": [
       "[1, 1, 1, 1, 1, 1, 1, 1, 1, [1, 1, 1]]"
      ]
     },
     "execution_count": 115,
     "metadata": {},
     "output_type": "execute_result"
    }
   ],
   "source": [
    "# sItem=[]\n",
    "sItem.append([1,1,1])\n",
    "sItem"
   ]
  },
  {
   "cell_type": "code",
   "execution_count": 131,
   "id": "d32a9291",
   "metadata": {},
   "outputs": [
    {
     "name": "stdout",
     "output_type": "stream",
     "text": [
      "[[1, 5, 9], [2, 4, 9], [2, 4, 9], [1, 5, 9], [1, 6, 8], [2, 5, 8], [3, 4, 8], [3, 4, 8], [2, 5, 8], [1, 6, 8], [2, 6, 7], [3, 5, 7], [3, 5, 7], [2, 6, 7], [4, 5, 6], [4, 5, 6]]\n",
      "15\n",
      "15\n",
      "15\n",
      "15\n",
      "15\n",
      "15\n",
      "15\n",
      "15\n",
      "15\n",
      "15\n",
      "15\n",
      "15\n",
      "15\n",
      "15\n",
      "15\n",
      "15\n"
     ]
    }
   ],
   "source": [
    "sItem=[]\n",
    "ns=set(range(1,10))\n",
    "for i in reversed(sorted(list(ns))):\n",
    "    ns=ns-{i}\n",
    "    ns2=ns.copy()\n",
    "    for j in reversed(sorted(list(ns2))):\n",
    "        tmpL=np.array(list(ns2-{j}))\n",
    "#         print(tmpL)\n",
    "        rItem=tmpL[np.where(tmpL+i+j==15)]\n",
    "        if len(rItem)>0:\n",
    "            [sItem.append(sorted([i,j,k])) for k in list(rItem)]\n",
    "#             ns=ns-{j}\n",
    "#             ns=ns-set(rItem)\n",
    "            ns2=ns2-set(rItem)\n",
    "            \n",
    "#         a=np.where(np.array(list(ns-{j}))+i+j==15)[0]\n",
    "#         a=map(lambda x: i+j+x, list(ns-{j}))\n",
    "#         print(a)\n",
    "#     print(ns)\n",
    "#     print(i)\n",
    "print(sItem)\n",
    "\n",
    "sItem.sort()\n",
    "\n",
    "for kk in sItem:\n",
    "    print(sum(kk))"
   ]
  },
  {
   "cell_type": "code",
   "execution_count": 679,
   "id": "452fbf71",
   "metadata": {},
   "outputs": [
    {
     "name": "stdout",
     "output_type": "stream",
     "text": [
      "9 5 1\n",
      "9 4 2\n",
      "8 6 1\n",
      "8 5 2\n",
      "8 4 3\n",
      "7 6 2\n",
      "7 5 3\n",
      "6 5 4\n"
     ]
    },
    {
     "data": {
      "text/plain": [
       "[[9, 5, 1],\n",
       " [9, 4, 2],\n",
       " [8, 6, 1],\n",
       " [8, 5, 2],\n",
       " [8, 4, 3],\n",
       " [7, 6, 2],\n",
       " [7, 5, 3],\n",
       " [6, 5, 4]]"
      ]
     },
     "metadata": {},
     "output_type": "display_data"
    },
    {
     "data": {
      "text/plain": [
       "[1, 1, 2, 2, 2, 3, 3, 4, 4, 4, 5, 5, 5, 5, 6, 6, 6, 7, 7, 8, 8, 8, 9, 9]"
      ]
     },
     "metadata": {},
     "output_type": "display_data"
    }
   ],
   "source": [
    "# 足したら15になる３つの数字の組み合わせ（数列）の全探索\n",
    "\n",
    "sItem=[]\n",
    "for i in range(9,2,-1):\n",
    "    for j in range(i-1,1,-1):\n",
    "        for k in range(j-1,0,-1):\n",
    "            if (i+j+k)==15:\n",
    "                print(i,j,k)\n",
    "                sItem.append([i,j,k])\n",
    "display(sItem) \n"
   ]
  },
  {
   "cell_type": "code",
   "execution_count": 677,
   "id": "7f59fec1",
   "metadata": {},
   "outputs": [
    {
     "data": {
      "text/plain": [
       "Counter({1: 2, 2: 3, 3: 2, 4: 3, 5: 4, 6: 3, 7: 2, 8: 3, 9: 2})"
      ]
     },
     "metadata": {},
     "output_type": "display_data"
    },
    {
     "name": "stdout",
     "output_type": "stream",
     "text": [
      "[(5, 4), (2, 3), (4, 3), (6, 3), (8, 3), (1, 2), (3, 2), (7, 2), (9, 2)]\n"
     ]
    }
   ],
   "source": [
    "# 同じ数が何個使われているか数える（ランキング）\n",
    "\n",
    "import collections\n",
    "\n",
    "sItem_flat=sorted(sum(sItem,[]))\n",
    "display(sItem_flat)\n",
    "\n",
    "countL = collections.Counter(sItem_flat)\n",
    "display(countL)\n",
    "rankList=countL.most_common()\n",
    "print(rankList)"
   ]
  },
  {
   "cell_type": "code",
   "execution_count": 678,
   "id": "b2222ef8",
   "metadata": {},
   "outputs": [
    {
     "data": {
      "text/plain": [
       "(array([0]),)"
      ]
     },
     "execution_count": 678,
     "metadata": {},
     "output_type": "execute_result"
    }
   ],
   "source": [
    "np.where(np.array(rankList)[:,1]>=4)"
   ]
  },
  {
   "cell_type": "code",
   "execution_count": 682,
   "id": "9820d023",
   "metadata": {},
   "outputs": [
    {
     "data": {
      "text/plain": [
       "array([5, 1])"
      ]
     },
     "execution_count": 682,
     "metadata": {},
     "output_type": "execute_result"
    }
   ],
   "source": [
    "targetID=np.array([5,1])\n",
    "targetID"
   ]
  },
  {
   "cell_type": "code",
   "execution_count": 688,
   "id": "508f069f",
   "metadata": {},
   "outputs": [
    {
     "data": {
      "text/plain": [
       "array([5])"
      ]
     },
     "metadata": {},
     "output_type": "display_data"
    },
    {
     "data": {
      "text/plain": [
       "[[9, 5, 1], [8, 5, 2], [7, 5, 3], [6, 5, 4]]"
      ]
     },
     "metadata": {},
     "output_type": "display_data"
    }
   ],
   "source": [
    "# 足して15になる数列に４回以上使われている数字を探す\n",
    "\n",
    "rankList_NP=np.array(rankList)\n",
    "targetID=rankList_NP[rankList_NP[:,1]>=4][:,0]\n",
    "display(targetID)\n",
    "\n",
    "# targetID=np.array([5,1])\n",
    "\n",
    "sVec=[]\n",
    "for v1 in targetID:\n",
    "    sVec=sVec+[v for v in sItem if v1 in v]\n",
    "    \n",
    "display(sVec)"
   ]
  },
  {
   "cell_type": "code",
   "execution_count": 684,
   "id": "c91fbd9b",
   "metadata": {},
   "outputs": [
    {
     "data": {
      "text/plain": [
       "array([5, 1])"
      ]
     },
     "execution_count": 684,
     "metadata": {},
     "output_type": "execute_result"
    }
   ],
   "source": [
    "targetID"
   ]
  },
  {
   "cell_type": "code",
   "execution_count": null,
   "id": "6abfb437",
   "metadata": {},
   "outputs": [],
   "source": []
  },
  {
   "cell_type": "code",
   "execution_count": 662,
   "id": "55eb7473",
   "metadata": {},
   "outputs": [
    {
     "data": {
      "text/plain": [
       "array([[5, 4],\n",
       "       [5, 4],\n",
       "       [2, 3],\n",
       "       [4, 3],\n",
       "       [6, 3],\n",
       "       [8, 3],\n",
       "       [1, 2],\n",
       "       [3, 2],\n",
       "       [7, 2],\n",
       "       [9, 2]])"
      ]
     },
     "metadata": {},
     "output_type": "display_data"
    },
    {
     "data": {
      "text/plain": [
       "array([5, 5])"
      ]
     },
     "execution_count": 662,
     "metadata": {},
     "output_type": "execute_result"
    }
   ],
   "source": [
    "rankList_NP=np.array(rankList)\n",
    "rankList_NP=np.vstack([rankList_NP[0],rankList_NP])\n",
    "display(rankList_NP)\n",
    "rankList_NP[rankList_NP[:,1]>=4][:,0]"
   ]
  },
  {
   "cell_type": "code",
   "execution_count": 640,
   "id": "8945857e",
   "metadata": {},
   "outputs": [
    {
     "data": {
      "text/plain": [
       "array([9, 5, 1])"
      ]
     },
     "metadata": {},
     "output_type": "display_data"
    },
    {
     "data": {
      "text/plain": [
       "array([[0, 0, 0],\n",
       "       [0, 0, 0],\n",
       "       [0, 0, 0]])"
      ]
     },
     "metadata": {},
     "output_type": "display_data"
    },
    {
     "data": {
      "text/plain": [
       "array([[0, 9, 0],\n",
       "       [0, 5, 0],\n",
       "       [0, 1, 0]])"
      ]
     },
     "metadata": {},
     "output_type": "display_data"
    },
    {
     "data": {
      "text/plain": [
       "array([0, 0])"
      ]
     },
     "metadata": {},
     "output_type": "display_data"
    },
    {
     "data": {
      "text/plain": [
       "array([9, 1])"
      ]
     },
     "metadata": {},
     "output_type": "display_data"
    }
   ],
   "source": [
    "sampleD=np.array([9, 5, 1])\n",
    "display(sampleD)\n",
    "baseM=np.full((3,3),0)\n",
    "# b([0,1,2],[0,1,2])\n",
    "np.where(b==0)\n",
    "# b[[0,1,2],[0,1,2]]=a\n",
    "display(baseM)\n",
    "# g=np.array([[0,1,2],[0,1,2]])\n",
    "# b[g]=a\n",
    "# b\n",
    "row=[[0,1,2],[0,1,2],[0,1,2],[1,1,1]]\n",
    "col=[[0,1,2],[2,1,0],[1,1,1],[0,1,2]]\n",
    "k=2\n",
    "baseM[row[k],col[k]]=a\n",
    "display(baseM)\n",
    "\n",
    "display(np.sum(b,axis=0)[[0,2]])\n",
    "display(np.sum(b,axis=1)[[0,2]])"
   ]
  },
  {
   "cell_type": "code",
   "execution_count": 543,
   "id": "3e2a20a7",
   "metadata": {},
   "outputs": [
    {
     "data": {
      "text/plain": [
       "array([False, False, False, False])"
      ]
     },
     "execution_count": 543,
     "metadata": {},
     "output_type": "execute_result"
    }
   ],
   "source": [
    "np.hstack([np.sum(baseM,axis=0)[[0,2]],np.sum(baseM,axis=1)[[0,2]]])==np.tile(15,4)"
   ]
  },
  {
   "cell_type": "code",
   "execution_count": 544,
   "id": "102d49bf",
   "metadata": {},
   "outputs": [
    {
     "data": {
      "text/plain": [
       "False"
      ]
     },
     "execution_count": 544,
     "metadata": {},
     "output_type": "execute_result"
    }
   ],
   "source": [
    "all(np.hstack([np.sum(baseM,axis=0)[[0,2]],np.sum(baseM,axis=1)[[0,2]]])==np.tile(15,4))"
   ]
  },
  {
   "cell_type": "code",
   "execution_count": 203,
   "id": "6bc24991",
   "metadata": {},
   "outputs": [
    {
     "data": {
      "text/plain": [
       "True"
      ]
     },
     "execution_count": 203,
     "metadata": {},
     "output_type": "execute_result"
    }
   ],
   "source": [
    "all([True,True,True,True])"
   ]
  },
  {
   "cell_type": "code",
   "execution_count": 204,
   "id": "74f9e06d",
   "metadata": {},
   "outputs": [
    {
     "data": {
      "text/plain": [
       "False"
      ]
     },
     "execution_count": 204,
     "metadata": {},
     "output_type": "execute_result"
    }
   ],
   "source": [
    "all([True,True,True,False])"
   ]
  },
  {
   "cell_type": "code",
   "execution_count": 547,
   "id": "abc14c52",
   "metadata": {},
   "outputs": [],
   "source": [
    "sVec=[[9, 5, 1],\n",
    " [8, 5, 2],\n",
    " [7, 5, 3],\n",
    " [6, 5, 4]]"
   ]
  },
  {
   "cell_type": "code",
   "execution_count": 545,
   "id": "5a0e9d3c",
   "metadata": {},
   "outputs": [
    {
     "data": {
      "text/plain": [
       "[[0, 0, 9], [0, 0, 5], [0, 0, 1]]"
      ]
     },
     "execution_count": 545,
     "metadata": {},
     "output_type": "execute_result"
    }
   ],
   "source": [
    "list(map(lambda x: sorted(x),baseM))"
   ]
  },
  {
   "cell_type": "code",
   "execution_count": 689,
   "id": "22db2566",
   "metadata": {},
   "outputs": [
    {
     "data": {
      "text/plain": [
       "[[9, 5, 1],\n",
       " [8, 5, 2],\n",
       " [7, 5, 3],\n",
       " [6, 5, 4],\n",
       " [1, 5, 9],\n",
       " [2, 5, 8],\n",
       " [3, 5, 7],\n",
       " [4, 5, 6]]"
      ]
     },
     "execution_count": 689,
     "metadata": {},
     "output_type": "execute_result"
    }
   ],
   "source": [
    "sVecFull=sVec+list(map(lambda x: sorted(x),sVec))\n",
    "sVecFull"
   ]
  },
  {
   "cell_type": "code",
   "execution_count": 549,
   "id": "3da0946e",
   "metadata": {},
   "outputs": [
    {
     "data": {
      "text/plain": [
       "array([[6, 1, 8],\n",
       "       [7, 5, 3],\n",
       "       [2, 9, 4]])"
      ]
     },
     "metadata": {},
     "output_type": "display_data"
    }
   ],
   "source": [
    "baseM=np.full((3,3),0)\n",
    "row=[[0,1,2],[0,1,2],[0,1,2],[1,1,1]]\n",
    "col=[[0,1,2],[2,1,0],[1,1,1],[0,1,2]]\n",
    "\n",
    "rn=[3, 1, 4, 2]\n",
    "for k in range(4):\n",
    "    baseM[row[k],col[k]]=sVecFull[rn[k]]\n",
    "# baseM       \n",
    "all(np.hstack([np.sum(baseM,axis=0)[[0,2]],np.sum(baseM,axis=1)[[0,2]]])==np.tile(15,4))\n",
    "display(baseM)"
   ]
  },
  {
   "cell_type": "code",
   "execution_count": 690,
   "id": "3a542d2d",
   "metadata": {},
   "outputs": [
    {
     "data": {
      "text/plain": [
       "array([[6, 7, 2],\n",
       "       [1, 5, 9],\n",
       "       [8, 3, 4]])"
      ]
     },
     "metadata": {},
     "output_type": "display_data"
    },
    {
     "data": {
      "text/plain": [
       "[3, 5, 2, 4]"
      ]
     },
     "metadata": {},
     "output_type": "display_data"
    }
   ],
   "source": [
    "baseM=np.full((3,3),0)\n",
    "row=[[0,1,2],[0,1,2],[0,1,2],[1,1,1]]\n",
    "col=[[0,1,2],[2,1,0],[1,1,1],[0,1,2]]\n",
    "\n",
    "# 受講生のアイディアをお借りしました ~~~\n",
    "LofD=8\n",
    "TofD=4\n",
    "rd =list(range(1,LofD))\n",
    "rn = []\n",
    "while len(rn) < TofD:\n",
    "    key = np.random.randint(0,len(rd))\n",
    "    n=rd.pop(key)\n",
    "    rn.extend([n])\n",
    "# ~~~ここまで~~~\n",
    "\n",
    "# rn=[3, 1, 4, 2]\n",
    "rn=[2, 3, 5, 7]\n",
    "rn=[6, 7, 1, 3]\n",
    "rn=[3, 5, 2, 4]\n",
    "for k in range(4):\n",
    "    baseM[row[k],col[k]]=sVecFull[rn[k]]\n",
    "baseM       \n",
    "if all(np.hstack([np.sum(baseM,axis=0)[[0,2]],np.sum(baseM,axis=1)[[0,2]]])==np.tile(15,4)):\n",
    "    display(baseM)\n",
    "    display(rn)"
   ]
  },
  {
   "cell_type": "code",
   "execution_count": 696,
   "id": "f847cb5f",
   "metadata": {},
   "outputs": [
    {
     "data": {
      "text/plain": [
       "array([[8, 1, 6],\n",
       "       [3, 5, 7],\n",
       "       [4, 9, 2]])"
      ]
     },
     "metadata": {},
     "output_type": "display_data"
    },
    {
     "data": {
      "text/plain": [
       "[1, 3, 4, 6]"
      ]
     },
     "metadata": {},
     "output_type": "display_data"
    },
    {
     "data": {
      "text/plain": [
       "56"
      ]
     },
     "metadata": {},
     "output_type": "display_data"
    }
   ],
   "source": [
    "baseM=np.full((3,3),0)\n",
    "row=[[0,1,2],[0,1,2],[0,1,2],[1,1,1]]\n",
    "col=[[0,1,2],[2,1,0],[1,1,1],[0,1,2]]\n",
    "\n",
    "LofD=7\n",
    "TofD=4\n",
    "    \n",
    "loopN=0\n",
    "\n",
    "while not all(np.hstack([np.sum(baseM,axis=0)[[0,2]],np.sum(baseM,axis=1)[[0,2]]])==np.tile(15,4)):\n",
    "    # ~~~受講生のアイディアをお借りしました ~~~\n",
    "    rd =list(range(LofD))\n",
    "    rn = []\n",
    "    while len(rn) < TofD:\n",
    "        key = np.random.randint(0,len(rd))\n",
    "        n=rd.pop(key)\n",
    "        rn.extend([n])\n",
    "    # ~~~ここまで~~~\n",
    "    \n",
    "    for k in range(4):\n",
    "        baseM[row[k],col[k]]=sVecFull[rn[k]]\n",
    "    loopN=loopN+1\n",
    "\n",
    "# baseM       \n",
    "# if all(np.hstack([np.sum(baseM,axis=0)[[0,2]],np.sum(baseM,axis=1)[[0,2]]])==np.tile(15,4)):\n",
    "display(baseM)\n",
    "display(rn)\n",
    "display(loopN)"
   ]
  },
  {
   "cell_type": "code",
   "execution_count": 697,
   "id": "43f18180",
   "metadata": {},
   "outputs": [
    {
     "data": {
      "text/plain": [
       "array([[8, 1, 6],\n",
       "       [3, 5, 7],\n",
       "       [4, 9, 2]])"
      ]
     },
     "metadata": {},
     "output_type": "display_data"
    },
    {
     "data": {
      "text/plain": [
       "[1, 3, 0, 2]"
      ]
     },
     "metadata": {},
     "output_type": "display_data"
    },
    {
     "data": {
      "text/plain": [
       "21"
      ]
     },
     "metadata": {},
     "output_type": "display_data"
    }
   ],
   "source": [
    "baseM=np.full((3,3),0)\n",
    "row=[[0,1,2],[0,1,2],[0,1,2],[1,1,1]]\n",
    "col=[[0,1,2],[2,1,0],[1,1,1],[0,1,2]]\n",
    "\n",
    "LofD=4\n",
    "TofD=4\n",
    "    \n",
    "loopN=0\n",
    "\n",
    "while not all(np.hstack([np.sum(baseM,axis=0)[[0,2]],np.sum(baseM,axis=1)[[0,2]]])==np.tile(15,4)):\n",
    "    # ~~~受講生のアイディアをお借りしました ~~~\n",
    "    rd =list(range(LofD))\n",
    "    rn = []\n",
    "    while len(rn) < TofD:\n",
    "        key = np.random.randint(0,len(rd))\n",
    "        n=rd.pop(key)\n",
    "        rn.extend([n])\n",
    "    # ~~~ここまで~~~\n",
    "    \n",
    "    for k in range(4):\n",
    "        if bool(np.random.randint(2)):\n",
    "            baseM[row[k],col[k]]=sVec[rn[k]]\n",
    "        else:\n",
    "            baseM[row[k],col[k]]=sVec[rn[k]][::-1]    \n",
    "    loopN=loopN+1\n",
    "\n",
    "# baseM       \n",
    "# if all(np.hstack([np.sum(baseM,axis=0)[[0,2]],np.sum(baseM,axis=1)[[0,2]]])==np.tile(15,4)):\n",
    "display(baseM)\n",
    "display(rn)\n",
    "display(loopN)"
   ]
  },
  {
   "cell_type": "code",
   "execution_count": 694,
   "id": "fbb07ff4",
   "metadata": {},
   "outputs": [
    {
     "data": {
      "text/plain": [
       "4"
      ]
     },
     "execution_count": 694,
     "metadata": {},
     "output_type": "execute_result"
    }
   ],
   "source": [
    "rn[k]"
   ]
  },
  {
   "cell_type": "code",
   "execution_count": 1179,
   "id": "359cb644",
   "metadata": {},
   "outputs": [
    {
     "name": "stdout",
     "output_type": "stream",
     "text": [
      "199.507\n",
      "Elapsed time is 7.667171 seconds.\n"
     ]
    },
    {
     "data": {
      "text/plain": [
       "0.002129784154999975"
      ]
     },
     "metadata": {},
     "output_type": "display_data"
    },
    {
     "data": {
      "text/plain": [
       "array([[2, 7, 6],\n",
       "       [9, 5, 1],\n",
       "       [4, 3, 8]])"
      ]
     },
     "metadata": {},
     "output_type": "display_data"
    }
   ],
   "source": [
    "# statistical analysis 1: 8*7*6*5 = 1680\n",
    "\n",
    "from pytictoc import TicToc\n",
    "t = TicToc() #create instance of class\n",
    "t.tic() #Start timer\n",
    "\n",
    "# baseM=np.full((3,3),0)\n",
    "row=[[0,1,2],[0,1,2],[0,1,2],[1,1,1]]\n",
    "col=[[0,1,2],[2,1,0],[1,1,1],[0,1,2]]\n",
    "\n",
    "LofD=7\n",
    "TofD=4\n",
    "    \n",
    "verifyD=[]    \n",
    "for verifyL in range(1000):\n",
    "    loopN=0\n",
    "    baseM=np.full((3,3),0)\n",
    "    while not all(np.hstack([np.sum(baseM,axis=0)[[0,2]],np.sum(baseM,axis=1)[[0,2]]])==np.tile(15,4)):\n",
    "        # ~~~受講生のアイディアをお借りしました ~~~\n",
    "        rd =list(range(LofD))\n",
    "        rn = []\n",
    "        while len(rn) < TofD:\n",
    "            key = np.random.randint(0,len(rd))\n",
    "            n=rd.pop(key)\n",
    "            rn.extend([n])\n",
    "        # ~~~ここまで~~~\n",
    "\n",
    "        for k in range(4):\n",
    "            baseM[row[k],col[k]]=sVecFull[rn[k]]\n",
    "        loopN=loopN+1\n",
    "    verifyD.extend([loopN])\n",
    "#     display(loopN)\n",
    "\n",
    "# display(baseM)\n",
    "# display(rn)\n",
    "# display(loopN)\n",
    "\n",
    "# np.mean(verifyD)\n",
    "# display(verifyD)\n",
    "\n",
    "print(np.mean(verifyD))\n",
    "t.toc() #Time elapsed since t.tic()\n",
    "etime=t.tocvalue()\n",
    "display(etime/3600)\n",
    "display(baseM)"
   ]
  },
  {
   "cell_type": "code",
   "execution_count": 636,
   "id": "e19ab4d7",
   "metadata": {},
   "outputs": [
    {
     "data": {
      "text/plain": [
       "1680"
      ]
     },
     "metadata": {},
     "output_type": "display_data"
    },
    {
     "data": {
      "text/plain": [
       "840.0"
      ]
     },
     "metadata": {},
     "output_type": "display_data"
    }
   ],
   "source": [
    "display(8*7*6*5)\n",
    "display(8*7*6*5/2)"
   ]
  },
  {
   "cell_type": "code",
   "execution_count": 1182,
   "id": "d892c68a",
   "metadata": {},
   "outputs": [
    {
     "name": "stdout",
     "output_type": "stream",
     "text": [
      "46.10137685510852\n",
      "Elapsed time is 2.258529 seconds.\n"
     ]
    },
    {
     "data": {
      "text/plain": [
       "0.0006273806711154369"
      ]
     },
     "metadata": {},
     "output_type": "display_data"
    },
    {
     "data": {
      "text/plain": [
       "array([[8, 3, 4],\n",
       "       [1, 5, 9],\n",
       "       [6, 7, 2]])"
      ]
     },
     "metadata": {},
     "output_type": "display_data"
    }
   ],
   "source": [
    "# statistical analysis 2: 4*3*3*1*2*2*2*2 = 576\n",
    "\n",
    "from pytictoc import TicToc\n",
    "t = TicToc() #create instance of class\n",
    "t.tic() #Start timer\n",
    "\n",
    "# baseM=np.full((3,3),0)\n",
    "row=[[0,1,2],[0,1,2],[0,1,2],[1,1,1]]\n",
    "col=[[0,1,2],[2,1,0],[1,1,1],[0,1,2]]\n",
    "\n",
    "\n",
    "LofD=4\n",
    "TofD=4\n",
    "    \n",
    "verifyD=[]    \n",
    "for verifyL in range(1000):\n",
    "    loopN=0\n",
    "    baseM=np.full((3,3),0)\n",
    "    while not all(np.hstack([np.sum(baseM,axis=0)[[0,2]],np.sum(baseM,axis=1)[[0,2]]])==np.tile(15,4)):\n",
    "        # ~~~受講生のアイディアをお借りしました ~~~\n",
    "        rd =list(range(LofD))\n",
    "        rn = []\n",
    "        while len(rn) < TofD:\n",
    "            key = np.random.randint(0,len(rd))\n",
    "            n=rd.pop(key)\n",
    "            rn.extend([n])\n",
    "        # ~~~ここまで~~~\n",
    "\n",
    "        for k in range(4):\n",
    "            if bool(np.random.randint(2)):\n",
    "                baseM[row[k],col[k]]=sVec[rn[k]]\n",
    "            else:\n",
    "                baseM[row[k],col[k]]=sVec[rn[k]][::-1]    \n",
    "        loopN=loopN+1\n",
    "        verifyD.extend([loopN])\n",
    "\n",
    "# display(baseM)\n",
    "# display(rn)\n",
    "# display(loopN)\n",
    "\n",
    "# np.mean(verifyD)\n",
    "\n",
    "print(np.mean(verifyD))\n",
    "t.toc() #Time elapsed since t.tic()\n",
    "etime=t.tocvalue()\n",
    "display(etime/3600)\n",
    "display(baseM)"
   ]
  },
  {
   "cell_type": "code",
   "execution_count": 927,
   "id": "5d66265d",
   "metadata": {},
   "outputs": [
    {
     "data": {
      "text/plain": [
       "362880"
      ]
     },
     "execution_count": 927,
     "metadata": {},
     "output_type": "execute_result"
    }
   ],
   "source": [
    "9*8*7*6*5*4*3*2*1"
   ]
  },
  {
   "cell_type": "code",
   "execution_count": 953,
   "id": "b093a7d5",
   "metadata": {},
   "outputs": [
    {
     "data": {
      "text/plain": [
       "array([[2, 7, 9],\n",
       "       [8, 6, 3],\n",
       "       [4, 1, 5]])"
      ]
     },
     "metadata": {},
     "output_type": "display_data"
    },
    {
     "data": {
      "text/plain": [
       "array([2, 6, 5])"
      ]
     },
     "metadata": {},
     "output_type": "display_data"
    },
    {
     "data": {
      "text/plain": [
       "array([9, 6, 4])"
      ]
     },
     "metadata": {},
     "output_type": "display_data"
    },
    {
     "data": {
      "text/plain": [
       "array([14, 14, 17, 18, 17, 10, 13, 19])"
      ]
     },
     "metadata": {},
     "output_type": "display_data"
    },
    {
     "name": "stdout",
     "output_type": "stream",
     "text": [
      "Elapsed time is 0.004395 seconds.\n"
     ]
    }
   ],
   "source": [
    "from pytictoc import TicToc\n",
    "t = TicToc() #create instance of class\n",
    "t.tic() #Start timer\n",
    "\n",
    "LofD=9\n",
    "TofD=9\n",
    "rd =list(range(1,LofD+1))\n",
    "rn = []\n",
    "while len(rn) < TofD:\n",
    "    key = np.random.randint(0,len(rd))\n",
    "    n=rd.pop(key)\n",
    "    rn.extend([n])\n",
    "\n",
    "baseM=np.reshape(rn, (3, 3))\n",
    "display(baseM)\n",
    "np.sum(baseM,axis=0)\n",
    "display(np.diag(baseM))\n",
    "display(np.diag(np.fliplr(baseM)))\n",
    "display(np.hstack([np.sum(baseM,axis=0),np.sum(baseM,axis=1),np.sum(np.diag(baseM)),np.sum(np.diag(np.fliplr(baseM)))]))\n",
    "all(np.hstack([np.sum(baseM,axis=0),np.sum(baseM,axis=1),np.sum(np.diag(baseM)),np.sum(np.diag(np.fliplr(baseM)))])==np.tile(15,8))\n",
    "\n",
    "# all(np.hstack([np.sum(baseM,axis=0)[[0,2]],np.sum(baseM,axis=1)[[0,2]]])==np.tile(15,4))\n",
    "\n",
    "t.toc() #Time elapsed since t.tic()"
   ]
  },
  {
   "cell_type": "code",
   "execution_count": 945,
   "id": "6f286f65",
   "metadata": {},
   "outputs": [
    {
     "data": {
      "text/plain": [
       "array([14, 20, 11,  9, 15, 21,  3,  9,  8,  1,  9,  7])"
      ]
     },
     "execution_count": 945,
     "metadata": {},
     "output_type": "execute_result"
    }
   ],
   "source": [
    "np.hstack([np.sum(baseM,axis=0),np.sum(baseM,axis=1),np.diag(baseM),np.diag(np.fliplr(baseM))])"
   ]
  },
  {
   "cell_type": "code",
   "execution_count": 1001,
   "id": "6ff54b49",
   "metadata": {},
   "outputs": [
    {
     "name": "stdout",
     "output_type": "stream",
     "text": [
      "Elapsed time is 0.000753 seconds.\n"
     ]
    }
   ],
   "source": [
    "from pytictoc import TicToc\n",
    "t = TicToc() #create instance of class\n",
    "t.tic() #Start timer\n",
    "\n",
    "rn=np.random.choice(range(1, 10), size=9, replace=False)\n",
    "\n",
    "t.toc() #Time elapsed since t.tic()\n"
   ]
  },
  {
   "cell_type": "code",
   "execution_count": 999,
   "id": "e70c8d15",
   "metadata": {},
   "outputs": [
    {
     "name": "stdout",
     "output_type": "stream",
     "text": [
      "Elapsed time is 0.000409 seconds.\n"
     ]
    }
   ],
   "source": [
    "from pytictoc import TicToc\n",
    "t = TicToc() #create instance of class\n",
    "t.tic() #Start timer\n",
    "\n",
    " # ~~~受講生のアイディアをお借りしました ~~~\n",
    "rd =list(range(LofD))\n",
    "rn = []\n",
    "while len(rn) < TofD:\n",
    "    key = np.random.randint(0,len(rd))\n",
    "    n=rd.pop(key)\n",
    "    rn.extend([n])\n",
    "# ~~~ここまで~~~\n",
    "rn\n",
    "\n",
    "t.toc() #Time elapsed since t.tic()\n"
   ]
  },
  {
   "cell_type": "code",
   "execution_count": 1000,
   "id": "93594796",
   "metadata": {},
   "outputs": [
    {
     "data": {
      "text/plain": [
       "0.9779951100244498"
      ]
     },
     "execution_count": 1000,
     "metadata": {},
     "output_type": "execute_result"
    }
   ],
   "source": [
    "0.000400/0.000409"
   ]
  },
  {
   "cell_type": "code",
   "execution_count": 1142,
   "id": "8786a305",
   "metadata": {},
   "outputs": [
    {
     "name": "stdout",
     "output_type": "stream",
     "text": [
      "0.02225[ms]\n"
     ]
    }
   ],
   "source": [
    "from pytictoc import TicToc\n",
    "t = TicToc() #create instance of class\n",
    "# t.tic() #Start timer\n",
    "\n",
    "verifyT=[] \n",
    "verifyD=[]    \n",
    "for i in range(1000):\n",
    "    t.tic()\n",
    "     # ~~~受講生のアイディアをお借りしました ~~~\n",
    "    rn=np.random.choice(range(1, 10), size=9, replace=False)\n",
    "    # ~~~ここまで~~~\n",
    "    etime=t.tocvalue()\n",
    "    verifyT.extend([etime])\n",
    "    verifyD.extend([rn])\n",
    "    \n",
    "# t.toc() #Time elapsed since t.tic()\n",
    "print('{:.5f}[ms]'.format(np.mean(verifyT)*1000))"
   ]
  },
  {
   "cell_type": "code",
   "execution_count": 1143,
   "id": "b2b893fa",
   "metadata": {},
   "outputs": [],
   "source": [
    "# vector based cosine_similarity function\n",
    "\n",
    "cosine_similarity=lambda M1,M2:  np.dot(M1,M2.T)/(np.tile(np.array([np.linalg.norm(M1,axis=1)]).T,[1,len(M2)])*np.tile(np.linalg.norm(M2,axis=1),[len(M1),1]))"
   ]
  },
  {
   "cell_type": "code",
   "execution_count": 1144,
   "id": "6b291f43",
   "metadata": {},
   "outputs": [
    {
     "data": {
      "text/plain": [
       "Counter({10.0: 11902, 7.0: 275704, 8.0: 474610, 9.0: 208648, 6.0: 29136})"
      ]
     },
     "metadata": {},
     "output_type": "display_data"
    },
    {
     "name": "stdout",
     "output_type": "stream",
     "text": [
      "[(8.0, 474610), (7.0, 275704), (9.0, 208648), (6.0, 29136), (10.0, 11902)]\n"
     ]
    }
   ],
   "source": [
    "verifyD_NP=np.array(verifyD)\n",
    "csVec=cosine_similarity(verifyD_NP,verifyD_NP)\n",
    "csVec2=csVec-np.eye(len(csVec))\n",
    "list(csVec2.flat)\n",
    "\n",
    "csVec2int=np.round(np.array(csVec.flat)*10)\n",
    "countL = collections.Counter(csVec2int)\n",
    "display(countL)\n",
    "rankList=countL.most_common()\n",
    "print(rankList)"
   ]
  },
  {
   "cell_type": "code",
   "execution_count": 1145,
   "id": "e52eff3e",
   "metadata": {},
   "outputs": [
    {
     "name": "stdout",
     "output_type": "stream",
     "text": [
      "0.02791[ms]\n"
     ]
    }
   ],
   "source": [
    "from pytictoc import TicToc\n",
    "t = TicToc() #create instance of class\n",
    "# t.tic() #Start timer\n",
    "\n",
    "verifyT=[] \n",
    "verifyD=[]    \n",
    "for i in range(1000):\n",
    "    t.tic()\n",
    "    # ~~~受講生のアイディアをお借りしました ~~~\n",
    "    rd =list(range(LofD))\n",
    "    rn = []\n",
    "    while len(rn) < TofD:\n",
    "        key = np.random.randint(0,len(rd))\n",
    "        n=rd.pop(key)\n",
    "        rn.extend([n])\n",
    "    # ~~~ここまで~~~\n",
    "#     rn\n",
    "    etime=t.tocvalue()\n",
    "    verifyT.extend([etime])\n",
    "    verifyD.extend([rn])\n",
    "    \n",
    "# t.toc() #Time elapsed since t.tic()\n",
    "print('{:.5f}[ms]'.format(np.mean(verifyT)*1000))"
   ]
  },
  {
   "cell_type": "code",
   "execution_count": 1146,
   "id": "b1d024d3",
   "metadata": {},
   "outputs": [],
   "source": [
    "# vector based cosine_similarity function\n",
    "\n",
    "cosine_similarity=lambda M1,M2:  np.dot(M1,M2.T)/(np.tile(np.array([np.linalg.norm(M1,axis=1)]).T,[1,len(M2)])*np.tile(np.linalg.norm(M2,axis=1),[len(M1),1]))"
   ]
  },
  {
   "cell_type": "code",
   "execution_count": 1147,
   "id": "22f498df",
   "metadata": {},
   "outputs": [
    {
     "data": {
      "text/plain": [
       "Counter({10.0: 5220,\n",
       "         5.0: 72872,\n",
       "         9.0: 84330,\n",
       "         6.0: 232954,\n",
       "         7.0: 353452,\n",
       "         8.0: 249716,\n",
       "         4.0: 1456})"
      ]
     },
     "metadata": {},
     "output_type": "display_data"
    },
    {
     "name": "stdout",
     "output_type": "stream",
     "text": [
      "[(7.0, 353452), (8.0, 249716), (6.0, 232954), (9.0, 84330), (5.0, 72872), (10.0, 5220), (4.0, 1456)]\n"
     ]
    }
   ],
   "source": [
    "verifyD_NP=np.array(verifyD)\n",
    "csVec=cosine_similarity(verifyD_NP,verifyD_NP)\n",
    "csVec2=csVec-np.eye(len(csVec))\n",
    "list(csVec2.flat)\n",
    "\n",
    "csVec2int=np.round(np.array(csVec.flat)*10)\n",
    "countL = collections.Counter(csVec2int)\n",
    "display(countL)\n",
    "rankList=countL.most_common()\n",
    "print(rankList)"
   ]
  },
  {
   "cell_type": "code",
   "execution_count": 1130,
   "id": "d7cd0fe8",
   "metadata": {},
   "outputs": [
    {
     "data": {
      "text/plain": [
       "array([10.,  8.,  8.,  6., 10.,  7.,  9.,  7.,  8.,  9.,  8., 10.,  7.,\n",
       "        7.,  7.,  9.,  8.,  8.,  8.,  8.,  8.,  7., 10.,  9.,  8.,  8.,\n",
       "        9.,  8.,  7.,  9.,  6.,  7.,  9., 10.,  6.,  9.,  8.,  8.,  8.,\n",
       "        7., 10.,  7.,  8.,  6., 10.,  7.,  9.,  8.,  8.,  9.,  7.,  9.,\n",
       "        8.,  9.,  7., 10.,  8.,  7.,  8.,  8.,  9.,  8.,  9.,  8.,  9.,\n",
       "        8., 10.,  7.,  7.,  9.,  7.,  8.,  8.,  8.,  8.,  7.,  7., 10.,\n",
       "        8.,  7.,  8.,  8.,  7.,  8.,  8.,  8.,  7.,  8., 10.,  8.,  9.,\n",
       "        8.,  9.,  7.,  9.,  8.,  9.,  7.,  8., 10.])"
      ]
     },
     "execution_count": 1130,
     "metadata": {},
     "output_type": "execute_result"
    }
   ],
   "source": [
    "np.round(np.array(csVec.flat)*10)"
   ]
  },
  {
   "cell_type": "code",
   "execution_count": 1137,
   "id": "87a1ac0e",
   "metadata": {},
   "outputs": [],
   "source": [
    "csVec2=csVec-np.eye(len(csVec))\n",
    "# csVec2"
   ]
  },
  {
   "cell_type": "code",
   "execution_count": 1138,
   "id": "6d9a4713",
   "metadata": {},
   "outputs": [
    {
     "data": {
      "text/plain": [
       "Counter({10.0: 12, 8.0: 40, 6.0: 4, 7.0: 24, 9.0: 20})"
      ]
     },
     "metadata": {},
     "output_type": "display_data"
    },
    {
     "name": "stdout",
     "output_type": "stream",
     "text": [
      "[(8.0, 40), (7.0, 24), (9.0, 20), (10.0, 12), (6.0, 4)]\n"
     ]
    }
   ],
   "source": [
    "verifyD_NP=np.array(verifyD)\n",
    "csVec=cosine_similarity(verifyD_NP,verifyD_NP)\n",
    "csVec2=csVec-np.eye(len(csVec))\n",
    "list(csVec2.flat)\n",
    "\n",
    "csVec2int=np.round(np.array(csVec.flat)*10)\n",
    "countL = collections.Counter(csVec2int)\n",
    "display(countL)\n",
    "rankList=countL.most_common()\n",
    "print(rankList)"
   ]
  },
  {
   "cell_type": "code",
   "execution_count": 1030,
   "id": "aeb645ac",
   "metadata": {},
   "outputs": [
    {
     "data": {
      "text/plain": [
       "array([[4, 5, 7, 6, 9, 2, 8, 1, 3],\n",
       "       [4, 3, 1, 7, 5, 8, 6, 2, 9],\n",
       "       [6, 1, 9, 8, 3, 5, 4, 7, 2],\n",
       "       [6, 4, 7, 2, 1, 9, 3, 8, 5],\n",
       "       [4, 7, 6, 8, 9, 1, 5, 2, 3],\n",
       "       [3, 2, 6, 5, 1, 9, 8, 4, 7],\n",
       "       [1, 3, 9, 8, 6, 7, 5, 4, 2],\n",
       "       [9, 8, 2, 7, 1, 5, 4, 6, 3],\n",
       "       [1, 9, 4, 6, 3, 2, 5, 7, 8],\n",
       "       [3, 2, 6, 8, 5, 1, 9, 7, 4]])"
      ]
     },
     "execution_count": 1030,
     "metadata": {},
     "output_type": "execute_result"
    }
   ],
   "source": [
    "np.array(verifyD)"
   ]
  },
  {
   "cell_type": "code",
   "execution_count": 1032,
   "id": "87dd5708",
   "metadata": {},
   "outputs": [],
   "source": [
    "verifyD_NP=np.array(verifyD)"
   ]
  },
  {
   "cell_type": "code",
   "execution_count": 1057,
   "id": "3dfd4bb4",
   "metadata": {},
   "outputs": [
    {
     "data": {
      "text/plain": [
       "array([[0.82699688, 0.31178071, 0.9542074 , 0.12212542, 0.60177326],\n",
       "       [0.5215083 , 0.75296476, 0.90302125, 0.98384758, 0.58769801],\n",
       "       [0.55196041, 0.5111711 , 0.77844217, 0.99133505, 0.00948876]])"
      ]
     },
     "execution_count": 1057,
     "metadata": {},
     "output_type": "execute_result"
    }
   ],
   "source": [
    "verifyD_NP=numpy.random.rand(3,5)\n",
    "verifyD_NP"
   ]
  },
  {
   "cell_type": "code",
   "execution_count": 1058,
   "id": "6b895648",
   "metadata": {},
   "outputs": [
    {
     "data": {
      "text/plain": [
       "array([[2.06868848, 2.00152893, 1.48541539],\n",
       "       [2.00152893, 2.96771924, 2.35659471],\n",
       "       [1.48541539, 2.35659471, 2.15476363]])"
      ]
     },
     "execution_count": 1058,
     "metadata": {},
     "output_type": "execute_result"
    }
   ],
   "source": [
    "np.dot(verifyD_NP,verifyD_NP.T) "
   ]
  },
  {
   "cell_type": "code",
   "execution_count": 1059,
   "id": "4fb8daa7",
   "metadata": {},
   "outputs": [
    {
     "data": {
      "text/plain": [
       "array([[0.82699688, 0.31178071, 0.9542074 , 0.12212542, 0.60177326],\n",
       "       [0.5215083 , 0.75296476, 0.90302125, 0.98384758, 0.58769801],\n",
       "       [0.55196041, 0.5111711 , 0.77844217, 0.99133505, 0.00948876]])"
      ]
     },
     "execution_count": 1059,
     "metadata": {},
     "output_type": "execute_result"
    }
   ],
   "source": [
    "verifyD_NP"
   ]
  },
  {
   "cell_type": "code",
   "execution_count": 1060,
   "id": "41d7f1a2",
   "metadata": {},
   "outputs": [
    {
     "data": {
      "text/plain": [
       "array([1.4382936 , 1.72270695, 1.46791131])"
      ]
     },
     "execution_count": 1060,
     "metadata": {},
     "output_type": "execute_result"
    }
   ],
   "source": [
    "vlen=np.linalg.norm(verifyD_NP,axis=1)\n",
    "vlen"
   ]
  },
  {
   "cell_type": "code",
   "execution_count": 1061,
   "id": "9bce52e1",
   "metadata": {},
   "outputs": [
    {
     "data": {
      "text/plain": [
       "array([[1.4382936 , 1.72270695, 1.46791131],\n",
       "       [1.4382936 , 1.72270695, 1.46791131],\n",
       "       [1.4382936 , 1.72270695, 1.46791131]])"
      ]
     },
     "execution_count": 1061,
     "metadata": {},
     "output_type": "execute_result"
    }
   ],
   "source": [
    "np.tile(vlen,[len(vlen),1])"
   ]
  },
  {
   "cell_type": "code",
   "execution_count": 1062,
   "id": "df728265",
   "metadata": {},
   "outputs": [
    {
     "data": {
      "text/plain": [
       "array([[1.4382936 , 1.4382936 , 1.4382936 ],\n",
       "       [1.72270695, 1.72270695, 1.72270695],\n",
       "       [1.46791131, 1.46791131, 1.46791131]])"
      ]
     },
     "execution_count": 1062,
     "metadata": {},
     "output_type": "execute_result"
    }
   ],
   "source": [
    "np.tile(np.array([vlen]).T,[1,len(vlen)])"
   ]
  },
  {
   "cell_type": "code",
   "execution_count": 1038,
   "id": "93ed5bba",
   "metadata": {},
   "outputs": [
    {
     "data": {
      "text/plain": [
       "(1, 100)"
      ]
     },
     "execution_count": 1038,
     "metadata": {},
     "output_type": "execute_result"
    }
   ],
   "source": [
    "np.shape(np.tile(vlen,[1,len(vlen)]))"
   ]
  },
  {
   "cell_type": "code",
   "execution_count": 1039,
   "id": "85defefb",
   "metadata": {},
   "outputs": [
    {
     "data": {
      "text/plain": [
       "(10, 10)"
      ]
     },
     "execution_count": 1039,
     "metadata": {},
     "output_type": "execute_result"
    }
   ],
   "source": [
    "np.shape(np.tile(vlen,[len(vlen),1]))"
   ]
  },
  {
   "cell_type": "code",
   "execution_count": 1046,
   "id": "814a9889",
   "metadata": {},
   "outputs": [
    {
     "data": {
      "text/plain": [
       "(10, 10)"
      ]
     },
     "execution_count": 1046,
     "metadata": {},
     "output_type": "execute_result"
    }
   ],
   "source": [
    "np.shape(np.tile(np.array([vlen]).T,[1,len(vlen)]))"
   ]
  },
  {
   "cell_type": "code",
   "execution_count": null,
   "id": "add88f83",
   "metadata": {},
   "outputs": [],
   "source": [
    "np.tile(vlen,[len(vlen),1]),np.tile(np.array([vlen]).T,[1,len(vlen)])"
   ]
  },
  {
   "cell_type": "code",
   "execution_count": 1072,
   "id": "4a146c67",
   "metadata": {},
   "outputs": [
    {
     "data": {
      "text/plain": [
       "array([[1.        , 0.80779827, 0.70355905],\n",
       "       [0.80779827, 1.        , 0.93190936],\n",
       "       [0.70355905, 0.93190936, 1.        ]])"
      ]
     },
     "execution_count": 1072,
     "metadata": {},
     "output_type": "execute_result"
    }
   ],
   "source": [
    "np.dot(verifyD_NP,verifyD_NP.T)/(np.tile(vlen,[len(vlen),1])*np.tile(np.array([vlen]).T,[1,len(vlen)]))"
   ]
  },
  {
   "cell_type": "code",
   "execution_count": 1121,
   "id": "c906cf29",
   "metadata": {},
   "outputs": [],
   "source": [
    "# vector based cosine_similarity function\n",
    "\n",
    "cosine_similarity=lambda M1,M2:  np.dot(M1,M2.T)/(np.tile(np.array([np.linalg.norm(M1,axis=1)]).T,[1,len(M2)])*np.tile(np.linalg.norm(M2,axis=1),[len(M1),1]))"
   ]
  },
  {
   "cell_type": "code",
   "execution_count": 1122,
   "id": "6f87b802",
   "metadata": {},
   "outputs": [
    {
     "data": {
      "text/plain": [
       "array([[1.        , 0.80779827, 0.70355905],\n",
       "       [0.80779827, 1.        , 0.93190936]])"
      ]
     },
     "execution_count": 1122,
     "metadata": {},
     "output_type": "execute_result"
    }
   ],
   "source": [
    "cosine_similarity(verifyD_NP[0:2],verifyD_NP[0:4])"
   ]
  },
  {
   "cell_type": "code",
   "execution_count": 1110,
   "id": "619f5793",
   "metadata": {},
   "outputs": [
    {
     "data": {
      "text/plain": [
       "(5, 7)"
      ]
     },
     "execution_count": 1110,
     "metadata": {},
     "output_type": "execute_result"
    }
   ],
   "source": [
    "M1=numpy.random.rand(5,3)\n",
    "M2=numpy.random.rand(7,3)\n",
    "np.dot(M1,M2.T)\n",
    "np.shape(np.dot(M1,M2.T))"
   ]
  },
  {
   "cell_type": "code",
   "execution_count": 1111,
   "id": "b0f7fbe3",
   "metadata": {},
   "outputs": [
    {
     "data": {
      "text/plain": [
       "array([[0.84384199, 0.8009228 , 0.39257249],\n",
       "       [0.79031776, 0.98292382, 0.43767086],\n",
       "       [0.29220044, 0.24592503, 0.58232287],\n",
       "       [0.55213454, 0.45078574, 0.81440339],\n",
       "       [0.66462433, 0.26148302, 0.09057613]])"
      ]
     },
     "execution_count": 1111,
     "metadata": {},
     "output_type": "execute_result"
    }
   ],
   "source": [
    "M1"
   ]
  },
  {
   "cell_type": "code",
   "execution_count": 1112,
   "id": "320350fa",
   "metadata": {},
   "outputs": [
    {
     "data": {
      "text/plain": [
       "array([[0.02421194, 0.00181157, 0.06451722],\n",
       "       [0.9671518 , 0.41938832, 0.07708402]])"
      ]
     },
     "execution_count": 1112,
     "metadata": {},
     "output_type": "execute_result"
    }
   ],
   "source": [
    "numpy.random.rand(2,3)"
   ]
  },
  {
   "cell_type": "code",
   "execution_count": 1083,
   "id": "7e9f77a5",
   "metadata": {},
   "outputs": [
    {
     "data": {
      "text/plain": [
       "array([[0.82699688, 0.31178071, 0.9542074 , 0.12212542, 0.60177326],\n",
       "       [0.5215083 , 0.75296476, 0.90302125, 0.98384758, 0.58769801]])"
      ]
     },
     "execution_count": 1083,
     "metadata": {},
     "output_type": "execute_result"
    }
   ],
   "source": [
    "M1"
   ]
  },
  {
   "cell_type": "code",
   "execution_count": 1093,
   "id": "cc98503f",
   "metadata": {},
   "outputs": [
    {
     "data": {
      "text/plain": [
       "array([1.4382936 , 1.72270695])"
      ]
     },
     "execution_count": 1093,
     "metadata": {},
     "output_type": "execute_result"
    }
   ],
   "source": [
    "np.linalg.norm(M1,axis=1)"
   ]
  },
  {
   "cell_type": "code",
   "execution_count": 1113,
   "id": "dba53b4e",
   "metadata": {},
   "outputs": [
    {
     "data": {
      "text/plain": [
       "array([[1.22786799, 1.22786799, 1.22786799, 1.22786799, 1.22786799,\n",
       "        1.22786799, 1.22786799],\n",
       "       [1.33502703, 1.33502703, 1.33502703, 1.33502703, 1.33502703,\n",
       "        1.33502703, 1.33502703],\n",
       "       [0.6963908 , 0.6963908 , 0.6963908 , 0.6963908 , 0.6963908 ,\n",
       "        0.6963908 , 0.6963908 ],\n",
       "       [1.08227224, 1.08227224, 1.08227224, 1.08227224, 1.08227224,\n",
       "        1.08227224, 1.08227224],\n",
       "       [0.71993257, 0.71993257, 0.71993257, 0.71993257, 0.71993257,\n",
       "        0.71993257, 0.71993257]])"
      ]
     },
     "execution_count": 1113,
     "metadata": {},
     "output_type": "execute_result"
    }
   ],
   "source": [
    "np.tile(np.array([np.linalg.norm(M1,axis=1)]).T,[1,len(M2)])"
   ]
  },
  {
   "cell_type": "code",
   "execution_count": 1114,
   "id": "7d629dd4",
   "metadata": {},
   "outputs": [
    {
     "data": {
      "text/plain": [
       "(5, 7)"
      ]
     },
     "execution_count": 1114,
     "metadata": {},
     "output_type": "execute_result"
    }
   ],
   "source": [
    "np.shape(np.tile(np.array([np.linalg.norm(M1,axis=1)]).T,[1,len(M2)]))"
   ]
  },
  {
   "cell_type": "code",
   "execution_count": 1116,
   "id": "7628b070",
   "metadata": {},
   "outputs": [
    {
     "data": {
      "text/plain": [
       "array([[1.321208  , 1.34957838, 1.09042003, 0.88291171, 0.7096706 ,\n",
       "        1.09861332, 1.05258783],\n",
       "       [1.321208  , 1.34957838, 1.09042003, 0.88291171, 0.7096706 ,\n",
       "        1.09861332, 1.05258783],\n",
       "       [1.321208  , 1.34957838, 1.09042003, 0.88291171, 0.7096706 ,\n",
       "        1.09861332, 1.05258783],\n",
       "       [1.321208  , 1.34957838, 1.09042003, 0.88291171, 0.7096706 ,\n",
       "        1.09861332, 1.05258783],\n",
       "       [1.321208  , 1.34957838, 1.09042003, 0.88291171, 0.7096706 ,\n",
       "        1.09861332, 1.05258783]])"
      ]
     },
     "execution_count": 1116,
     "metadata": {},
     "output_type": "execute_result"
    }
   ],
   "source": [
    "np.tile(np.linalg.norm(M2,axis=1),[len(M1),1])"
   ]
  },
  {
   "cell_type": "code",
   "execution_count": 1117,
   "id": "0aca31f1",
   "metadata": {},
   "outputs": [
    {
     "data": {
      "text/plain": [
       "(5, 7)"
      ]
     },
     "execution_count": 1117,
     "metadata": {},
     "output_type": "execute_result"
    }
   ],
   "source": [
    "np.shape(np.tile(np.linalg.norm(M2,axis=1),[len(M1),1]))"
   ]
  },
  {
   "cell_type": "code",
   "execution_count": 1120,
   "id": "1f7e0f36",
   "metadata": {},
   "outputs": [
    {
     "data": {
      "text/plain": [
       "array([[0.83671428, 0.83934186, 0.80948807, 0.74398869, 0.834386  ,\n",
       "        0.98210825, 0.94056478],\n",
       "       [0.78836219, 0.87849256, 0.81909335, 0.82281543, 0.84002848,\n",
       "        0.98859937, 0.9741625 ],\n",
       "       [0.92156765, 0.91847464, 0.99322973, 0.59881047, 0.99316465,\n",
       "        0.86726005, 0.80839492],\n",
       "       [0.94519539, 0.92778753, 0.9876446 , 0.63843628, 0.99372775,\n",
       "        0.92282888, 0.86081224],\n",
       "       [0.82728134, 0.56819577, 0.6079513 , 0.42038219, 0.64641762,\n",
       "        0.83018925, 0.71796446]])"
      ]
     },
     "execution_count": 1120,
     "metadata": {},
     "output_type": "execute_result"
    }
   ],
   "source": [
    "np.dot(M1,M2.T)/(np.tile(np.array([np.linalg.norm(M1,axis=1)]).T,[1,len(M2)])*np.tile(np.linalg.norm(M2,axis=1),[len(M1),1]))"
   ]
  },
  {
   "cell_type": "code",
   "execution_count": 1045,
   "id": "17745b19",
   "metadata": {},
   "outputs": [
    {
     "data": {
      "text/plain": [
       "array([[16.88194302],\n",
       "       [16.88194302],\n",
       "       [16.88194302],\n",
       "       [16.88194302],\n",
       "       [16.88194302],\n",
       "       [16.88194302],\n",
       "       [16.88194302],\n",
       "       [16.88194302],\n",
       "       [16.88194302],\n",
       "       [16.88194302]])"
      ]
     },
     "execution_count": 1045,
     "metadata": {},
     "output_type": "execute_result"
    }
   ],
   "source": [
    "np.array([vlen]).T"
   ]
  },
  {
   "cell_type": "code",
   "execution_count": 1028,
   "id": "72e51ddf",
   "metadata": {},
   "outputs": [
    {
     "data": {
      "text/plain": [
       "1000"
      ]
     },
     "execution_count": 1028,
     "metadata": {},
     "output_type": "execute_result"
    }
   ],
   "source": [
    "len(np.linalg.norm(verifyD_NP,axis=1))"
   ]
  },
  {
   "cell_type": "code",
   "execution_count": 1016,
   "id": "f853e893",
   "metadata": {},
   "outputs": [
    {
     "ename": "ValueError",
     "evalue": "shapes (1,9) and (1,9) not aligned: 9 (dim 1) != 1 (dim 0)",
     "output_type": "error",
     "traceback": [
      "\u001b[0;31m---------------------------------------------------------------------------\u001b[0m",
      "\u001b[0;31mValueError\u001b[0m                                Traceback (most recent call last)",
      "\u001b[0;32m/var/folders/mg/w5t8lkhc8xj79f001s7kzpfh0000gp/T/ipykernel_66915/156376223.py\u001b[0m in \u001b[0;36m<module>\u001b[0;34m\u001b[0m\n\u001b[1;32m      1\u001b[0m \u001b[0mcos_sim\u001b[0m\u001b[0;34m=\u001b[0m\u001b[0;32mlambda\u001b[0m \u001b[0mv1\u001b[0m\u001b[0;34m,\u001b[0m\u001b[0mv2\u001b[0m\u001b[0;34m:\u001b[0m \u001b[0mnp\u001b[0m\u001b[0;34m.\u001b[0m\u001b[0mdot\u001b[0m\u001b[0;34m(\u001b[0m\u001b[0mv1\u001b[0m\u001b[0;34m,\u001b[0m \u001b[0mv2\u001b[0m\u001b[0;34m)\u001b[0m \u001b[0;34m/\u001b[0m \u001b[0;34m(\u001b[0m\u001b[0mnp\u001b[0m\u001b[0;34m.\u001b[0m\u001b[0mlinalg\u001b[0m\u001b[0;34m.\u001b[0m\u001b[0mnorm\u001b[0m\u001b[0;34m(\u001b[0m\u001b[0mv1\u001b[0m\u001b[0;34m)\u001b[0m \u001b[0;34m*\u001b[0m \u001b[0mnp\u001b[0m\u001b[0;34m.\u001b[0m\u001b[0mlinalg\u001b[0m\u001b[0;34m.\u001b[0m\u001b[0mnorm\u001b[0m\u001b[0;34m(\u001b[0m\u001b[0mv2\u001b[0m\u001b[0;34m)\u001b[0m\u001b[0;34m)\u001b[0m\u001b[0;34m\u001b[0m\u001b[0;34m\u001b[0m\u001b[0m\n\u001b[0;32m----> 2\u001b[0;31m \u001b[0mcos_sim\u001b[0m\u001b[0;34m(\u001b[0m\u001b[0mverifyD\u001b[0m\u001b[0;34m[\u001b[0m\u001b[0;36m0\u001b[0m\u001b[0;34m:\u001b[0m\u001b[0;36m1\u001b[0m\u001b[0;34m]\u001b[0m\u001b[0;34m,\u001b[0m\u001b[0mverifyD\u001b[0m\u001b[0;34m[\u001b[0m\u001b[0;36m1\u001b[0m\u001b[0;34m:\u001b[0m\u001b[0;36m2\u001b[0m\u001b[0;34m]\u001b[0m\u001b[0;34m)\u001b[0m\u001b[0;34m\u001b[0m\u001b[0;34m\u001b[0m\u001b[0m\n\u001b[0m",
      "\u001b[0;32m/var/folders/mg/w5t8lkhc8xj79f001s7kzpfh0000gp/T/ipykernel_66915/156376223.py\u001b[0m in \u001b[0;36m<lambda>\u001b[0;34m(v1, v2)\u001b[0m\n\u001b[0;32m----> 1\u001b[0;31m \u001b[0mcos_sim\u001b[0m\u001b[0;34m=\u001b[0m\u001b[0;32mlambda\u001b[0m \u001b[0mv1\u001b[0m\u001b[0;34m,\u001b[0m\u001b[0mv2\u001b[0m\u001b[0;34m:\u001b[0m \u001b[0mnp\u001b[0m\u001b[0;34m.\u001b[0m\u001b[0mdot\u001b[0m\u001b[0;34m(\u001b[0m\u001b[0mv1\u001b[0m\u001b[0;34m,\u001b[0m \u001b[0mv2\u001b[0m\u001b[0;34m)\u001b[0m \u001b[0;34m/\u001b[0m \u001b[0;34m(\u001b[0m\u001b[0mnp\u001b[0m\u001b[0;34m.\u001b[0m\u001b[0mlinalg\u001b[0m\u001b[0;34m.\u001b[0m\u001b[0mnorm\u001b[0m\u001b[0;34m(\u001b[0m\u001b[0mv1\u001b[0m\u001b[0;34m)\u001b[0m \u001b[0;34m*\u001b[0m \u001b[0mnp\u001b[0m\u001b[0;34m.\u001b[0m\u001b[0mlinalg\u001b[0m\u001b[0;34m.\u001b[0m\u001b[0mnorm\u001b[0m\u001b[0;34m(\u001b[0m\u001b[0mv2\u001b[0m\u001b[0;34m)\u001b[0m\u001b[0;34m)\u001b[0m\u001b[0;34m\u001b[0m\u001b[0;34m\u001b[0m\u001b[0m\n\u001b[0m\u001b[1;32m      2\u001b[0m \u001b[0mcos_sim\u001b[0m\u001b[0;34m(\u001b[0m\u001b[0mverifyD\u001b[0m\u001b[0;34m[\u001b[0m\u001b[0;36m0\u001b[0m\u001b[0;34m:\u001b[0m\u001b[0;36m1\u001b[0m\u001b[0;34m]\u001b[0m\u001b[0;34m,\u001b[0m\u001b[0mverifyD\u001b[0m\u001b[0;34m[\u001b[0m\u001b[0;36m1\u001b[0m\u001b[0;34m:\u001b[0m\u001b[0;36m2\u001b[0m\u001b[0;34m]\u001b[0m\u001b[0;34m)\u001b[0m\u001b[0;34m\u001b[0m\u001b[0;34m\u001b[0m\u001b[0m\n",
      "\u001b[0;32m<__array_function__ internals>\u001b[0m in \u001b[0;36mdot\u001b[0;34m(*args, **kwargs)\u001b[0m\n",
      "\u001b[0;31mValueError\u001b[0m: shapes (1,9) and (1,9) not aligned: 9 (dim 1) != 1 (dim 0)"
     ]
    }
   ],
   "source": [
    "cos_sim=lambda v1,v2: np.dot(v1, v2) / (np.linalg.norm(v1) * np.linalg.norm(v2))\n",
    "cos_sim(verifyD[0:1],verifyD[1:2])"
   ]
  },
  {
   "cell_type": "code",
   "execution_count": null,
   "id": "cbce896a",
   "metadata": {},
   "outputs": [],
   "source": [
    "return np.dot(v1, v2) / (np.linalg.norm(v1) * np.linalg.norm(v2))"
   ]
  },
  {
   "cell_type": "code",
   "execution_count": 1011,
   "id": "efe56be7",
   "metadata": {},
   "outputs": [
    {
     "name": "stdout",
     "output_type": "stream",
     "text": [
      "0.02969[ms]\n"
     ]
    }
   ],
   "source": [
    "from pytictoc import TicToc\n",
    "t = TicToc() #create instance of class\n",
    "# t.tic() #Start timer\n",
    "\n",
    "verifyT=[] \n",
    "verifyD=[]    \n",
    "for i in range(1000):\n",
    "    t.tic()\n",
    "    # ~~~受講生のアイディアをお借りしました ~~~\n",
    "    rd =list(range(LofD))\n",
    "    rn = []\n",
    "    while len(rn) < TofD:\n",
    "        key = np.random.randint(0,len(rd))\n",
    "        n=rd.pop(key)\n",
    "        rn.extend([n])\n",
    "    # ~~~ここまで~~~\n",
    "#     rn\n",
    "    etime=t.tocvalue()\n",
    "    verifyT.extend([etime])\n",
    "    verifyD.extend([rn])\n",
    "    \n",
    "# t.toc() #Time elapsed since t.tic()\n",
    "print('{:.5f}[ms]'.format(np.mean(verifyT)*1000))"
   ]
  },
  {
   "cell_type": "code",
   "execution_count": 1191,
   "id": "693014ef",
   "metadata": {},
   "outputs": [
    {
     "data": {
      "text/plain": [
       "array([[4, 9, 2],\n",
       "       [3, 5, 7],\n",
       "       [8, 1, 6]])"
      ]
     },
     "execution_count": 1191,
     "metadata": {},
     "output_type": "execute_result"
    }
   ],
   "source": [
    "while not all(np.hstack([np.sum(baseM,axis=0),np.sum(baseM,axis=1), \\\n",
    "                         np.sum(np.diag(baseM)),np.sum(np.diag(np.fliplr(baseM)))])==np.tile(15,8)):\n",
    "    # ~~~受講生のアイディアをお借りしました ~~~\n",
    "    rd = list(range(1,10))\n",
    "    rn = []\n",
    "    while len(rn) < TofD:\n",
    "        key = np.random.randint(0,len(rd))\n",
    "        n=rd.pop(key)\n",
    "        rn.extend([n])\n",
    "    # ~~~ここまで~~~\n",
    "\n",
    "    baseM=np.reshape(rn, (3, 3))\n",
    "\n",
    "baseM    "
   ]
  },
  {
   "cell_type": "code",
   "execution_count": null,
   "id": "cc63444a",
   "metadata": {},
   "outputs": [],
   "source": []
  },
  {
   "cell_type": "code",
   "execution_count": 1189,
   "id": "7e12374c",
   "metadata": {},
   "outputs": [
    {
     "name": "stdout",
     "output_type": "stream",
     "text": [
      "35275.0\n",
      "Elapsed time is 3.670909 seconds.\n"
     ]
    },
    {
     "data": {
      "text/plain": [
       "0.0010197069908301475"
      ]
     },
     "metadata": {},
     "output_type": "display_data"
    },
    {
     "data": {
      "text/plain": [
       "array([[4, 9, 2],\n",
       "       [3, 5, 7],\n",
       "       [8, 1, 6]])"
      ]
     },
     "metadata": {},
     "output_type": "display_data"
    }
   ],
   "source": [
    "# statistical analysis 3: 9! = 362880\n",
    "\n",
    "from pytictoc import TicToc\n",
    "t = TicToc() #create instance of class\n",
    "t.tic() #Start timer\n",
    "\n",
    "baseM=np.full((3,3),0)\n",
    "LofD=9\n",
    "TofD=9\n",
    "    \n",
    "verifyD=[]    \n",
    "for verifyL in range(1000):\n",
    "    loopN=0\n",
    "    while not all(np.hstack([np.sum(baseM,axis=0),np.sum(baseM,axis=1),np.sum(np.diag(baseM)),np.sum(np.diag(np.fliplr(baseM)))])==np.tile(15,8)):\n",
    "        # ~~~受講生のアイディアをお借りしました ~~~\n",
    "        rd = list(range(1,10))\n",
    "        rn = []\n",
    "        while len(rn) < TofD:\n",
    "            key = np.random.randint(0,len(rd))\n",
    "            n=rd.pop(key)\n",
    "            rn.extend([n])\n",
    "        # ~~~ここまで~~~\n",
    "\n",
    "#         baseM=np.array([[8, 1, 6],[3, 5, 7],[4, 9, 2]])\n",
    "        baseM=np.reshape(rn, (3, 3))\n",
    "   \n",
    "        loopN=loopN+1\n",
    "        verifyD.extend([loopN])\n",
    "\n",
    "# display(baseM)\n",
    "# display(rn)\n",
    "# display(loopN)\n",
    "\n",
    "print(np.mean(verifyD))\n",
    "t.toc() #Time elapsed since t.tic()\n",
    "etime=t.tocvalue()\n",
    "display(etime/3600)\n",
    "display(baseM)\n"
   ]
  },
  {
   "cell_type": "code",
   "execution_count": 979,
   "id": "786bd35f",
   "metadata": {},
   "outputs": [
    {
     "name": "stdout",
     "output_type": "stream",
     "text": [
      "Elapsed time is 17037.956376 seconds.\n"
     ]
    },
    {
     "data": {
      "text/plain": [
       "4.732765999583337"
      ]
     },
     "metadata": {},
     "output_type": "display_data"
    },
    {
     "data": {
      "text/plain": [
       "array([[0, 5, 3],\n",
       "       [8, 1, 6],\n",
       "       [4, 7, 2]])"
      ]
     },
     "metadata": {},
     "output_type": "display_data"
    }
   ],
   "source": [
    "t.toc() #Time elapsed since t.tic()\n",
    "etime=t.tocvalue()\n",
    "display(etime/3600)\n",
    "display(baseM)\n"
   ]
  },
  {
   "cell_type": "code",
   "execution_count": 1188,
   "id": "709e8300",
   "metadata": {},
   "outputs": [
    {
     "name": "stdout",
     "output_type": "stream",
     "text": [
      "42715.5\n",
      "Elapsed time is 3.369578 seconds.\n"
     ]
    },
    {
     "data": {
      "text/plain": [
       "0.0009360040855568109"
      ]
     },
     "metadata": {},
     "output_type": "display_data"
    },
    {
     "data": {
      "text/plain": [
       "array([[2, 9, 4],\n",
       "       [7, 5, 3],\n",
       "       [6, 1, 8]])"
      ]
     },
     "metadata": {},
     "output_type": "display_data"
    }
   ],
   "source": [
    "# statistical analysis 3: 9! = 362880 (new2)\n",
    "\n",
    "from pytictoc import TicToc\n",
    "t = TicToc() #create instance of class\n",
    "t.tic() #Start timer\n",
    "\n",
    "baseM=np.full((3,3),0)\n",
    "LofD=9\n",
    "TofD=9\n",
    "    \n",
    "verifyD=[]    \n",
    "for verifyL in range(1000):\n",
    "    loopN=0\n",
    "    while not all(np.hstack([np.sum(baseM,axis=0),np.sum(baseM,axis=1),np.sum(np.diag(baseM)),np.sum(np.diag(np.fliplr(baseM)))])==np.tile(15,8)):\n",
    "        # ~~~受講生のアイディアをお借りしました ~~~\n",
    "        baseM = np.zeros((3, 3), dtype=int)\n",
    "        rn = np.random.choice(range(1, 10), size=9, replace=False)\n",
    "        baseM.flat = rn\n",
    "#         # ~~~ここまで~~~\n",
    "        \n",
    "#         baseM=np.array([[8, 1, 6],[3, 5, 7],[4, 9, 2]])\n",
    "   \n",
    "        loopN=loopN+1\n",
    "        verifyD.extend([loopN])\n",
    "\n",
    "# display(baseM)\n",
    "# display(rn)\n",
    "# display(loopN)\n",
    "\n",
    "print(np.mean(verifyD))\n",
    "t.toc() #Time elapsed since t.tic()\n",
    "etime=t.tocvalue()\n",
    "display(etime/3600)\n",
    "display(baseM)"
   ]
  },
  {
   "cell_type": "code",
   "execution_count": 972,
   "id": "1065074d",
   "metadata": {},
   "outputs": [
    {
     "data": {
      "text/plain": [
       "[]"
      ]
     },
     "execution_count": 972,
     "metadata": {},
     "output_type": "execute_result"
    }
   ],
   "source": [
    "# verifyD.extend([loopN])\n",
    "verifyD"
   ]
  },
  {
   "cell_type": "code",
   "execution_count": 960,
   "id": "6d730542",
   "metadata": {},
   "outputs": [
    {
     "name": "stdout",
     "output_type": "stream",
     "text": [
      "Elapsed time is 1969.624236 seconds.\n"
     ]
    },
    {
     "data": {
      "text/plain": [
       "0.5471180220138842"
      ]
     },
     "metadata": {},
     "output_type": "display_data"
    }
   ],
   "source": [
    "t.toc() #Time elapsed since t.tic()\n",
    "etime=t.tocvalue()\n",
    "display(etime/3600)"
   ]
  },
  {
   "cell_type": "code",
   "execution_count": 637,
   "id": "99867152",
   "metadata": {},
   "outputs": [
    {
     "data": {
      "text/plain": [
       "576"
      ]
     },
     "metadata": {},
     "output_type": "display_data"
    },
    {
     "data": {
      "text/plain": [
       "288.0"
      ]
     },
     "metadata": {},
     "output_type": "display_data"
    }
   ],
   "source": [
    "display(4*3*3*1*2*2*2*2)\n",
    "display(4*3*3*1*2*2*2*2/2)"
   ]
  },
  {
   "cell_type": "code",
   "execution_count": 612,
   "id": "edd34b3f",
   "metadata": {},
   "outputs": [
    {
     "data": {
      "text/plain": [
       "[1, 2, 3]"
      ]
     },
     "execution_count": 612,
     "metadata": {},
     "output_type": "execute_result"
    }
   ],
   "source": [
    "list(range(1,LofD))"
   ]
  },
  {
   "cell_type": "code",
   "execution_count": 561,
   "id": "62fe81dc",
   "metadata": {},
   "outputs": [
    {
     "data": {
      "text/plain": [
       "1680"
      ]
     },
     "execution_count": 561,
     "metadata": {},
     "output_type": "execute_result"
    }
   ],
   "source": [
    "8*7*6*5"
   ]
  },
  {
   "cell_type": "code",
   "execution_count": 562,
   "id": "22de5273",
   "metadata": {},
   "outputs": [
    {
     "data": {
      "text/plain": [
       "576"
      ]
     },
     "execution_count": 562,
     "metadata": {},
     "output_type": "execute_result"
    }
   ],
   "source": [
    "4*3*3*1*2*2*2*2"
   ]
  },
  {
   "cell_type": "code",
   "execution_count": 564,
   "id": "d85feed0",
   "metadata": {},
   "outputs": [
    {
     "data": {
      "text/plain": [
       "[1, 5, 9]"
      ]
     },
     "execution_count": 564,
     "metadata": {},
     "output_type": "execute_result"
    }
   ],
   "source": [
    "sVecFull[rn[k]]"
   ]
  },
  {
   "cell_type": "code",
   "execution_count": 567,
   "id": "54d72b7a",
   "metadata": {},
   "outputs": [
    {
     "data": {
      "text/plain": [
       "[4, 3, 1]"
      ]
     },
     "execution_count": 567,
     "metadata": {},
     "output_type": "execute_result"
    }
   ],
   "source": [
    "[1,3,4][::-1]"
   ]
  },
  {
   "cell_type": "code",
   "execution_count": 608,
   "id": "b56cea4a",
   "metadata": {},
   "outputs": [
    {
     "data": {
      "text/plain": [
       "False"
      ]
     },
     "execution_count": 608,
     "metadata": {},
     "output_type": "execute_result"
    }
   ],
   "source": [
    "bool(np.random.randint(2))"
   ]
  },
  {
   "cell_type": "code",
   "execution_count": 559,
   "id": "90f9e11a",
   "metadata": {},
   "outputs": [
    {
     "data": {
      "text/plain": [
       "True"
      ]
     },
     "execution_count": 559,
     "metadata": {},
     "output_type": "execute_result"
    }
   ],
   "source": [
    "all(np.hstack([np.sum(baseM,axis=0)[[0,2]],np.sum(baseM,axis=1)[[0,2]]])==np.tile(15,4))\n"
   ]
  },
  {
   "cell_type": "code",
   "execution_count": 560,
   "id": "677123b7",
   "metadata": {},
   "outputs": [
    {
     "data": {
      "text/plain": [
       "8"
      ]
     },
     "execution_count": 560,
     "metadata": {},
     "output_type": "execute_result"
    }
   ],
   "source": [
    "len(sVecFull)"
   ]
  },
  {
   "cell_type": "code",
   "execution_count": 385,
   "id": "d4de6526",
   "metadata": {},
   "outputs": [
    {
     "data": {
      "text/plain": [
       "[3, 1, 4, 2]"
      ]
     },
     "execution_count": 385,
     "metadata": {},
     "output_type": "execute_result"
    }
   ],
   "source": [
    "rn"
   ]
  },
  {
   "cell_type": "code",
   "execution_count": 295,
   "id": "6eac53e8",
   "metadata": {},
   "outputs": [
    {
     "name": "stdout",
     "output_type": "stream",
     "text": [
      "3\n",
      "2\n",
      "1\n",
      "0\n"
     ]
    },
    {
     "data": {
      "text/plain": [
       "[4, 3, 2, 1]"
      ]
     },
     "execution_count": 295,
     "metadata": {},
     "output_type": "execute_result"
    }
   ],
   "source": [
    "rd =list(range(1,5))\n",
    "rn = []\n",
    "while len(rn) < 4:\n",
    "    key = np.random.randint(0,len(rd))\n",
    "    print(key)\n",
    "    n=rd.pop(key)\n",
    "    rn.extend([n])\n",
    "rn"
   ]
  },
  {
   "cell_type": "code",
   "execution_count": 200,
   "id": "041451c5",
   "metadata": {},
   "outputs": [
    {
     "data": {
      "text/plain": [
       "array([15, 15, 15, 15])"
      ]
     },
     "execution_count": 200,
     "metadata": {},
     "output_type": "execute_result"
    }
   ],
   "source": [
    "np.tile(15,4)"
   ]
  },
  {
   "cell_type": "code",
   "execution_count": 132,
   "id": "d4f92187",
   "metadata": {},
   "outputs": [
    {
     "data": {
      "text/plain": [
       "[9, 8, 7, 6, 5, 4, 3, 2, 1]"
      ]
     },
     "execution_count": 132,
     "metadata": {},
     "output_type": "execute_result"
    }
   ],
   "source": [
    "list(range(9,0,-1))"
   ]
  },
  {
   "cell_type": "code",
   "execution_count": 97,
   "id": "7e0ee8b0",
   "metadata": {},
   "outputs": [
    {
     "name": "stdout",
     "output_type": "stream",
     "text": [
      "[0]\n"
     ]
    }
   ],
   "source": [
    "a=(np.where(tmpL+i+j==15))[0]\n",
    "print(tmpL[a])"
   ]
  },
  {
   "cell_type": "code",
   "execution_count": 98,
   "id": "95669760",
   "metadata": {},
   "outputs": [
    {
     "data": {
      "text/plain": [
       "array([0])"
      ]
     },
     "execution_count": 98,
     "metadata": {},
     "output_type": "execute_result"
    }
   ],
   "source": [
    "tmpL[np.where(tmpL+i+j==15)]"
   ]
  },
  {
   "cell_type": "code",
   "execution_count": 35,
   "id": "3077a48b",
   "metadata": {},
   "outputs": [
    {
     "name": "stdout",
     "output_type": "stream",
     "text": [
      "8\n",
      "7\n",
      "6\n",
      "5\n",
      "4\n",
      "3\n",
      "2\n",
      "1\n",
      "-\n",
      "7\n",
      "6\n",
      "5\n",
      "4\n",
      "3\n",
      "2\n",
      "1\n",
      "-\n",
      "6\n",
      "5\n",
      "4\n",
      "3\n",
      "2\n",
      "1\n",
      "-\n"
     ]
    }
   ],
   "source": [
    "for i in range(9,6,-1):\n",
    "    \n",
    "    for j in range(i-1,0,-1):\n",
    "        print(j)\n",
    "    print('-')"
   ]
  },
  {
   "cell_type": "markdown",
   "id": "3f741cdb",
   "metadata": {},
   "source": [
    "## Example 3"
   ]
  },
  {
   "cell_type": "code",
   "execution_count": 734,
   "id": "4838c7a4",
   "metadata": {},
   "outputs": [
    {
     "name": "stdout",
     "output_type": "stream",
     "text": [
      "変数の状態(処理前): []\n",
      "出力: None\n",
      "変数の状態(処理後　１回目): ['a1']\n",
      "---\n",
      "出力: None\n",
      "変数の状態(処理後　2回目): ['a1', 'a2']\n"
     ]
    }
   ],
   "source": [
    "L1=[]\n",
    "print('変数の状態(処理前): {0}'.format(L1))\n",
    "\n",
    "L2=L1.append('a1') # 破壊的メソッド / 出力なし\n",
    "print('出力: {0}'.format(L2))\n",
    "print('変数の状態(処理後　１回目): {0}'.format(L1))\n",
    "print('---')\n",
    "\n",
    "L2=L1.append('a2') # 破壊的メソッド / 出力なし\n",
    "print('出力: {0}'.format(L2))\n",
    "print('変数の状態(処理後　2回目): {0}'.format(L1))"
   ]
  },
  {
   "cell_type": "code",
   "execution_count": 736,
   "id": "5431aa19",
   "metadata": {},
   "outputs": [
    {
     "name": "stdout",
     "output_type": "stream",
     "text": [
      "変数の状態(処理前): [10, 2, 3, 1]\n",
      "出力: None\n",
      "変数の状態(処理後): [1, 2, 3, 10]\n"
     ]
    }
   ],
   "source": [
    "listD = [10, 2,3,1]\n",
    "print('変数の状態(処理前): {0}'.format(listD))\n",
    "\n",
    "listD2=listD.sort()  # 破壊的メソッド / 出力なし\n",
    "print('出力: {0}'.format(listD2))\n",
    "print('変数の状態(処理後): {0}'.format(listD))"
   ]
  },
  {
   "cell_type": "code",
   "execution_count": 737,
   "id": "e1b5b061",
   "metadata": {},
   "outputs": [
    {
     "name": "stdout",
     "output_type": "stream",
     "text": [
      "変数の状態(処理前): [10, 2, 3, 1]\n",
      "出力: [1, 2, 3, 10]\n",
      "変数の状態(処理後): [10, 2, 3, 1]\n"
     ]
    }
   ],
   "source": [
    "listD = [10, 2,3,1]\n",
    "print('変数の状態(処理前): {0}'.format(listD))\n",
    "\n",
    "listD2=sorted(listD)  # 非破壊関数 / 出力あり\n",
    "print('出力: {0}'.format(listD2))\n",
    "print('変数の状態(処理後): {0}'.format(listD))"
   ]
  },
  {
   "cell_type": "code",
   "execution_count": 739,
   "id": "36eb2474",
   "metadata": {},
   "outputs": [
    {
     "name": "stdout",
     "output_type": "stream",
     "text": [
      "変数の状態(処理前): Hello\n",
      "出力: こんにちは\n",
      "変数の状態(処理後): Hello\n"
     ]
    }
   ],
   "source": [
    "message1 = 'Hello'\n",
    "print('変数の状態(処理前): {0}'.format(message1))\n",
    "\n",
    "message2 = message1.replace('Hello', 'こんにちは') # 非破壊的メソッド / 出力あり\n",
    "print('出力: {0}'.format(message2))\n",
    "print('変数の状態(処理後): {0}'.format(message1))"
   ]
  },
  {
   "cell_type": "code",
   "execution_count": 744,
   "id": "477bbe90",
   "metadata": {},
   "outputs": [
    {
     "data": {
      "text/plain": [
       "array([10,  2,  3,  1])"
      ]
     },
     "metadata": {},
     "output_type": "display_data"
    },
    {
     "name": "stdout",
     "output_type": "stream",
     "text": [
      "変数の状態(処理前):\n"
     ]
    },
    {
     "data": {
      "text/plain": [
       "array([10,  2,  3,  1])"
      ]
     },
     "metadata": {},
     "output_type": "display_data"
    },
    {
     "name": "stdout",
     "output_type": "stream",
     "text": [
      "---\n",
      "出力:\n"
     ]
    },
    {
     "data": {
      "text/plain": [
       "[10, 2, 3, 1]"
      ]
     },
     "metadata": {},
     "output_type": "display_data"
    },
    {
     "name": "stdout",
     "output_type": "stream",
     "text": [
      "変数の状態(処理後)\n"
     ]
    },
    {
     "data": {
      "text/plain": [
       "array([10,  2,  3,  1])"
      ]
     },
     "metadata": {},
     "output_type": "display_data"
    }
   ],
   "source": [
    "listD_NP=np.array( [10, 2,3,1])\n",
    "display(listD_NP)\n",
    "print('変数の状態(処理前):')\n",
    "display(listD_NP)\n",
    "print('---')\n",
    "listD=listD_NP.tolist() # 非破壊的メソッド / 出力あり\n",
    "print('出力:')\n",
    "display(listD)\n",
    "print('変数の状態(処理後)')\n",
    "display(listD_NP)"
   ]
  },
  {
   "cell_type": "code",
   "execution_count": 785,
   "id": "27b0f9bb",
   "metadata": {},
   "outputs": [
    {
     "name": "stdout",
     "output_type": "stream",
     "text": [
      "変数の状態(処理前): [1, 2, 3, 4, 5, 6]\n",
      "出力: 4\n",
      "変数の状態(処理後　１回目): [1, 2, 3, 5, 6]\n",
      "---\n",
      "出力: 5\n",
      "変数の状態(処理後　2回目): [1, 2, 3, 6]\n"
     ]
    }
   ],
   "source": [
    "listD = [1,2,3,4,5,6]\n",
    "print('変数の状態(処理前): {0}'.format(listD))\n",
    "listD2=listD.pop(3) # 破壊的メソッド / 出力あり\n",
    "print('出力: {0}'.format(listD2))\n",
    "print('変数の状態(処理後　１回目): {0}'.format(listD))\n",
    "\n",
    "print('---')\n",
    "listD2=listD.pop(3) # 破壊的メソッド / 出力あり\n",
    "print('出力: {0}'.format(listD2))\n",
    "print('変数の状態(処理後　2回目): {0}'.format(listD))"
   ]
  },
  {
   "cell_type": "markdown",
   "id": "354d9e92",
   "metadata": {},
   "source": [
    "## ----------------- Summary-----------------"
   ]
  },
  {
   "cell_type": "code",
   "execution_count": 925,
   "id": "68fec727",
   "metadata": {},
   "outputs": [
    {
     "data": {
      "text/plain": [
       "[[8, 3, 9], [1, 5, 7], [6, 4, 2]]"
      ]
     },
     "metadata": {},
     "output_type": "display_data"
    },
    {
     "data": {
      "text/plain": [
       "array([[8, 3, 9],\n",
       "       [1, 5, 7],\n",
       "       [6, 4, 2]])"
      ]
     },
     "metadata": {},
     "output_type": "display_data"
    },
    {
     "data": {
      "text/plain": [
       "array([15, 12, 18])"
      ]
     },
     "metadata": {},
     "output_type": "display_data"
    },
    {
     "data": {
      "text/plain": [
       "array([20, 13, 12])"
      ]
     },
     "metadata": {},
     "output_type": "display_data"
    },
    {
     "ename": "NameError",
     "evalue": "name 'C_np' is not defined",
     "output_type": "error",
     "traceback": [
      "\u001b[0;31m---------------------------------------------------------------------------\u001b[0m",
      "\u001b[0;31mNameError\u001b[0m                                 Traceback (most recent call last)",
      "\u001b[0;32m/var/folders/mg/w5t8lkhc8xj79f001s7kzpfh0000gp/T/ipykernel_66915/3757703455.py\u001b[0m in \u001b[0;36m<module>\u001b[0;34m\u001b[0m\n\u001b[1;32m     20\u001b[0m \u001b[0mRSD\u001b[0m\u001b[0;34m=\u001b[0m\u001b[0;36m0\u001b[0m\u001b[0;34m\u001b[0m\u001b[0;34m\u001b[0m\u001b[0m\n\u001b[1;32m     21\u001b[0m \u001b[0mRR\u001b[0m\u001b[0;34m=\u001b[0m\u001b[0;36m0\u001b[0m\u001b[0;34m\u001b[0m\u001b[0;34m\u001b[0m\u001b[0m\n\u001b[0;32m---> 22\u001b[0;31m \u001b[0;32mfor\u001b[0m \u001b[0midx\u001b[0m \u001b[0;32min\u001b[0m \u001b[0mrange\u001b[0m\u001b[0;34m(\u001b[0m\u001b[0mlen\u001b[0m\u001b[0;34m(\u001b[0m\u001b[0mC_np\u001b[0m\u001b[0;34m)\u001b[0m\u001b[0;34m)\u001b[0m\u001b[0;34m:\u001b[0m\u001b[0;34m\u001b[0m\u001b[0;34m\u001b[0m\u001b[0m\n\u001b[0m\u001b[1;32m     23\u001b[0m     \u001b[0mRSD\u001b[0m\u001b[0;34m=\u001b[0m\u001b[0mRSD\u001b[0m\u001b[0;34m+\u001b[0m\u001b[0mC_np\u001b[0m\u001b[0;34m[\u001b[0m\u001b[0;36m0\u001b[0m\u001b[0;34m:\u001b[0m\u001b[0;34m,\u001b[0m\u001b[0midx\u001b[0m\u001b[0;34m:\u001b[0m\u001b[0midx\u001b[0m\u001b[0;34m+\u001b[0m\u001b[0;36m1\u001b[0m\u001b[0;34m]\u001b[0m\u001b[0;34m[\u001b[0m\u001b[0midx\u001b[0m\u001b[0;34m]\u001b[0m\u001b[0;34m\u001b[0m\u001b[0;34m\u001b[0m\u001b[0m\n\u001b[1;32m     24\u001b[0m     \u001b[0mRR\u001b[0m\u001b[0;34m=\u001b[0m\u001b[0mRR\u001b[0m\u001b[0;34m+\u001b[0m\u001b[0mC_np\u001b[0m\u001b[0;34m[\u001b[0m\u001b[0;36m0\u001b[0m\u001b[0;34m:\u001b[0m\u001b[0;34m,\u001b[0m\u001b[0midx\u001b[0m\u001b[0;34m:\u001b[0m\u001b[0midx\u001b[0m\u001b[0;34m+\u001b[0m\u001b[0;36m1\u001b[0m\u001b[0;34m]\u001b[0m\u001b[0;34m[\u001b[0m\u001b[0mlen\u001b[0m\u001b[0;34m(\u001b[0m\u001b[0mC_np\u001b[0m\u001b[0;34m)\u001b[0m\u001b[0;34m-\u001b[0m\u001b[0midx\u001b[0m\u001b[0;34m-\u001b[0m\u001b[0;36m1\u001b[0m\u001b[0;34m]\u001b[0m\u001b[0;34m\u001b[0m\u001b[0;34m\u001b[0m\u001b[0m\n",
      "\u001b[0;31mNameError\u001b[0m: name 'C_np' is not defined"
     ]
    }
   ],
   "source": [
    "import numpy as np\n",
    "magic_square = [[0 for _ in range(3)] for _ in range(3)]\n",
    "numbers = list(range(1,10))\n",
    "\n",
    "for row in range(3):\n",
    "    for col in range(3):\n",
    "        idx = np.random.randint(0,len(numbers))\n",
    "        magic_square[row][col] = numbers[idx]\n",
    "        numbers.pop(idx)\n",
    "\n",
    "display(magic_square)\n",
    "magic_square_array = np.array(magic_square)\n",
    "display(magic_square_array)\n",
    "\n",
    "col_sum=magic_square_array.sum(axis=0)\n",
    "display(col_sum)\n",
    "row_sum=magic_square_array.sum(axis=1)\n",
    "display(row_sum)\n",
    "\n",
    "RSD=0\n",
    "RR=0\n",
    "for idx in range(len(C_np)):\n",
    "    RSD=RSD+C_np[0:,idx:idx+1][idx]\n",
    "    RR=RR+C_np[0:,idx:idx+1][len(C_np)-idx-1]\n",
    "display(RSD)\n",
    "display(RR)\n"
   ]
  },
  {
   "cell_type": "markdown",
   "id": "bc8d9ad8",
   "metadata": {},
   "source": [
    "## ----------------- Hints-----------------"
   ]
  },
  {
   "cell_type": "code",
   "execution_count": 794,
   "id": "5eb4f3f9",
   "metadata": {},
   "outputs": [
    {
     "name": "stdout",
     "output_type": "stream",
     "text": [
      "変数の状態(処理前): [1, 2, 3, 4, 5, 6, 7, 8, 9]\n",
      "出力 n= 1\n",
      "変数の状態(処理後　1回目) rd:[2, 3, 4, 5, 6, 7, 8, 9], rn:[1]\n",
      "出力 n= 6\n",
      "変数の状態(処理後　2回目) rd:[2, 3, 4, 5, 7, 8, 9], rn:[1, 6]\n",
      "出力 n= 7\n",
      "変数の状態(処理後　3回目) rd:[2, 3, 4, 5, 8, 9], rn:[1, 6, 7]\n",
      "出力 n= 3\n",
      "変数の状態(処理後　4回目) rd:[2, 4, 5, 8, 9], rn:[1, 6, 7, 3]\n",
      "出力 n= 5\n",
      "変数の状態(処理後　5回目) rd:[2, 4, 8, 9], rn:[1, 6, 7, 3, 5]\n",
      "出力 n= 4\n",
      "変数の状態(処理後　6回目) rd:[2, 8, 9], rn:[1, 6, 7, 3, 5, 4]\n",
      "出力 n= 9\n",
      "変数の状態(処理後　7回目) rd:[2, 8], rn:[1, 6, 7, 3, 5, 4, 9]\n",
      "出力 n= 2\n",
      "変数の状態(処理後　8回目) rd:[8], rn:[1, 6, 7, 3, 5, 4, 9, 2]\n",
      "出力 n= 8\n",
      "変数の状態(処理後　9回目) rd:[], rn:[1, 6, 7, 3, 5, 4, 9, 2, 8]\n"
     ]
    }
   ],
   "source": [
    "# ~~~~受講生のアイディア（コードDとします）~~~~~\n",
    "\n",
    "rd = list(range(1,10))\n",
    "rn = []\n",
    "print('変数の状態(処理前): {0}'.format(rd))\n",
    "loopN=0\n",
    "while len(rn) < 9:\n",
    "    key = np.random.randint(0,len(rd))\n",
    "    n=rd.pop(key)\n",
    "    rn.extend([n])\n",
    "    loopN=loopN+1\n",
    "    print('出力 n= {0}'.format(n))\n",
    "    print('変数の状態(処理後　{0}回目) rd:{1}, rn:{2}'.format(loopN,rd,rn))"
   ]
  },
  {
   "cell_type": "code",
   "execution_count": 981,
   "id": "77894194",
   "metadata": {},
   "outputs": [
    {
     "name": "stdout",
     "output_type": "stream",
     "text": [
      "5543\n",
      "生成された魔法陣:\n",
      "[[8 1 6]\n",
      " [3 5 7]\n",
      " [4 9 2]]\n"
     ]
    }
   ],
   "source": [
    "import numpy as np\n",
    "\n",
    "def generate_magic_square():\n",
    "    k=1\n",
    "    while True:\n",
    "        matrix = np.zeros((3, 3), dtype=int)\n",
    "        numbers = np.random.choice(range(1, 10), size=9, replace=False)\n",
    "        matrix.flat = numbers\n",
    "\n",
    "        row_sums = np.sum(matrix, axis=1)\n",
    "        col_sums = np.sum(matrix, axis=0)\n",
    "        diag_sum1 = np.sum(np.diag(matrix))\n",
    "        diag_sum2 = np.sum(np.diag(np.fliplr(matrix)))\n",
    "        k=k+1\n",
    "        magic_sum = row_sums[0]\n",
    "        if np.all(row_sums == magic_sum) and np.all(col_sums == magic_sum) and \\\n",
    "           diag_sum1 == magic_sum and diag_sum2 == magic_sum:\n",
    "            break\n",
    "    print(k)\n",
    "    return matrix\n",
    "\n",
    "magic_square = generate_magic_square()\n",
    "\n",
    "print(\"生成された魔法陣:\")\n",
    "print(magic_square)"
   ]
  },
  {
   "cell_type": "code",
   "execution_count": 985,
   "id": "e0c3e490",
   "metadata": {},
   "outputs": [
    {
     "name": "stdout",
     "output_type": "stream",
     "text": [
      "29960\n"
     ]
    },
    {
     "data": {
      "text/plain": [
       "array([[4, 3, 8],\n",
       "       [9, 5, 1],\n",
       "       [2, 7, 6]])"
      ]
     },
     "metadata": {},
     "output_type": "display_data"
    }
   ],
   "source": [
    "k=1\n",
    "while True:\n",
    "    matrix = np.zeros((3, 3), dtype=int)\n",
    "    numbers = np.random.choice(range(1, 10), size=9, replace=False)\n",
    "    matrix.flat = numbers\n",
    "\n",
    "    row_sums = np.sum(matrix, axis=1)\n",
    "    col_sums = np.sum(matrix, axis=0)\n",
    "    diag_sum1 = np.sum(np.diag(matrix))\n",
    "    diag_sum2 = np.sum(np.diag(np.fliplr(matrix)))\n",
    "    k=k+1\n",
    "    magic_sum = row_sums[0]\n",
    "    if np.all(row_sums == magic_sum) and np.all(col_sums == magic_sum) and \\\n",
    "       diag_sum1 == magic_sum and diag_sum2 == magic_sum:\n",
    "        break\n",
    "print(k)\n",
    "display(matrix)\n",
    "# return matrix"
   ]
  },
  {
   "cell_type": "code",
   "execution_count": 1194,
   "id": "acea4dfd",
   "metadata": {},
   "outputs": [
    {
     "data": {
      "text/plain": [
       "array([[8, 1, 6],\n",
       "       [3, 5, 7],\n",
       "       [4, 9, 2]])"
      ]
     },
     "execution_count": 1194,
     "metadata": {},
     "output_type": "execute_result"
    }
   ],
   "source": [
    "# 受講生の解答例\n",
    "while True:\n",
    "    matrix = np.zeros((3, 3), dtype=int)\n",
    "    numbers = np.random.choice(range(1, 10), size=9, replace=False)\n",
    "    matrix.flat = numbers\n",
    "\n",
    "    row_sums = np.sum(matrix, axis=1)\n",
    "    col_sums = np.sum(matrix, axis=0)\n",
    "    diag_sum1 = np.sum(np.diag(matrix))\n",
    "    diag_sum2 = np.sum(np.diag(np.fliplr(matrix)))\n",
    "\n",
    "    magic_sum = row_sums[0]\n",
    "    if np.all(row_sums == magic_sum) and np.all(col_sums == magic_sum) and \\\n",
    "       diag_sum1 == magic_sum and diag_sum2 == magic_sum:\n",
    "        break\n",
    "\n",
    "matrix"
   ]
  },
  {
   "cell_type": "code",
   "execution_count": 1196,
   "id": "9c765f31",
   "metadata": {},
   "outputs": [
    {
     "data": {
      "text/plain": [
       "15"
      ]
     },
     "execution_count": 1196,
     "metadata": {},
     "output_type": "execute_result"
    }
   ],
   "source": [
    "row_sums[0]"
   ]
  },
  {
   "cell_type": "code",
   "execution_count": 1150,
   "id": "b4545a41",
   "metadata": {},
   "outputs": [
    {
     "name": "stdout",
     "output_type": "stream",
     "text": [
      "[9, 4, 6, 2, 8, 5, 7, 1, 3]\n"
     ]
    }
   ],
   "source": [
    "# 受講生の解答例\n",
    "rd = list(range(1,10))\n",
    "rn = []\n",
    "while len(rn) < 9:\n",
    "    key = np.random.randint(0,len(rd))\n",
    "    n=rd.pop(key)\n",
    "    rn.extend([n])\n",
    "\n",
    "print(rn)"
   ]
  },
  {
   "cell_type": "code",
   "execution_count": 1201,
   "id": "e7da3672",
   "metadata": {},
   "outputs": [
    {
     "data": {
      "text/plain": [
       "[11, 12, 13, 21, 22, 23, 31, 32, 33]"
      ]
     },
     "execution_count": 1201,
     "metadata": {},
     "output_type": "execute_result"
    }
   ],
   "source": [
    "a_np=np.array([[11,12,13],[21,22,23],[31,32,33]])\n",
    "list(a_np.flat)"
   ]
  },
  {
   "cell_type": "code",
   "execution_count": 1202,
   "id": "ec0f4326",
   "metadata": {},
   "outputs": [
    {
     "data": {
      "text/plain": [
       "array([[1, 2, 3],\n",
       "       [4, 5, 6],\n",
       "       [7, 8, 9]])"
      ]
     },
     "metadata": {},
     "output_type": "display_data"
    }
   ],
   "source": [
    "a_np=np.arange(1, 10).reshape(3, 3)\n",
    "display(a_np)f"
   ]
  },
  {
   "cell_type": "code",
   "execution_count": 1222,
   "id": "c94f9ff9",
   "metadata": {},
   "outputs": [
    {
     "data": {
      "text/plain": [
       "array([[1, 2, 3, 4],\n",
       "       [5, 6, 7, 8]])"
      ]
     },
     "metadata": {},
     "output_type": "display_data"
    }
   ],
   "source": [
    "a_np=np.arange(1, 9).reshape(2, 4)\n",
    "display(a_np)"
   ]
  },
  {
   "cell_type": "code",
   "execution_count": 1221,
   "id": "da952f71",
   "metadata": {},
   "outputs": [
    {
     "data": {
      "text/plain": [
       "array([[[ 0,  1],\n",
       "        [ 2,  3]],\n",
       "\n",
       "       [[ 4,  5],\n",
       "        [ 6,  7]],\n",
       "\n",
       "       [[ 8,  9],\n",
       "        [10, 11]]])"
      ]
     },
     "metadata": {},
     "output_type": "display_data"
    }
   ],
   "source": [
    "a_np=np.arange(2**2*3).reshape(3,2,2)\n",
    "display(a_np)"
   ]
  },
  {
   "cell_type": "code",
   "execution_count": 1211,
   "id": "a25d7996",
   "metadata": {},
   "outputs": [
    {
     "data": {
      "text/plain": [
       "array([1, 2, 3, 4, 5, 6, 7])"
      ]
     },
     "execution_count": 1211,
     "metadata": {},
     "output_type": "execute_result"
    }
   ],
   "source": [
    "np.arange(1, 4*2)"
   ]
  },
  {
   "cell_type": "code",
   "execution_count": 1213,
   "id": "0c710225",
   "metadata": {},
   "outputs": [
    {
     "data": {
      "text/plain": [
       "16"
      ]
     },
     "execution_count": 1213,
     "metadata": {},
     "output_type": "execute_result"
    }
   ],
   "source": [
    "2**4"
   ]
  },
  {
   "cell_type": "code",
   "execution_count": 1225,
   "id": "e93fc63a",
   "metadata": {},
   "outputs": [
    {
     "data": {
      "text/plain": [
       "array([[1, 2, 3],\n",
       "       [4, 5, 6],\n",
       "       [7, 8, 9]])"
      ]
     },
     "metadata": {},
     "output_type": "display_data"
    },
    {
     "data": {
      "text/plain": [
       "array([[3, 2, 1],\n",
       "       [6, 5, 4],\n",
       "       [9, 8, 7]])"
      ]
     },
     "metadata": {},
     "output_type": "display_data"
    }
   ],
   "source": [
    "a_np=np.arange(1, 10).reshape(3, 3)\n",
    "display(a_np)\n",
    "display(np.fliplr(a_np))"
   ]
  },
  {
   "cell_type": "code",
   "execution_count": 1228,
   "id": "48d669dd",
   "metadata": {},
   "outputs": [
    {
     "data": {
      "text/plain": [
       "array([[1, 2, 3],\n",
       "       [4, 5, 6],\n",
       "       [7, 8, 9]])"
      ]
     },
     "metadata": {},
     "output_type": "display_data"
    },
    {
     "data": {
      "text/plain": [
       "array([[7, 8, 9],\n",
       "       [4, 5, 6],\n",
       "       [1, 2, 3]])"
      ]
     },
     "metadata": {},
     "output_type": "display_data"
    }
   ],
   "source": [
    "a_np=np.arange(1, 10).reshape(3, 3)\n",
    "display(a_np)\n",
    "display(np.flipud(a_np))"
   ]
  },
  {
   "cell_type": "code",
   "execution_count": 1231,
   "id": "564fbfe3",
   "metadata": {},
   "outputs": [
    {
     "data": {
      "text/plain": [
       "array([1, 5, 9])"
      ]
     },
     "metadata": {},
     "output_type": "display_data"
    },
    {
     "data": {
      "text/plain": [
       "array([3, 5, 7])"
      ]
     },
     "metadata": {},
     "output_type": "display_data"
    }
   ],
   "source": [
    "display(np.diag(a_np))\n",
    "display(np.diag(np.fliplr(a_np)))"
   ]
  },
  {
   "cell_type": "code",
   "execution_count": 1240,
   "id": "17067de2",
   "metadata": {},
   "outputs": [
    {
     "data": {
      "text/plain": [
       "array([[1., 0., 0.],\n",
       "       [0., 1., 0.],\n",
       "       [0., 0., 1.]])"
      ]
     },
     "metadata": {},
     "output_type": "display_data"
    },
    {
     "data": {
      "text/plain": [
       "array([[1., 0., 0.],\n",
       "       [0., 5., 0.],\n",
       "       [0., 0., 9.]])"
      ]
     },
     "metadata": {},
     "output_type": "display_data"
    }
   ],
   "source": [
    "display(np.eye(len(a_np)))\n",
    "display(np.eye(len(a_np))*np.diag(a_np))"
   ]
  },
  {
   "cell_type": "code",
   "execution_count": 1238,
   "id": "5f92dacd",
   "metadata": {},
   "outputs": [
    {
     "data": {
      "text/plain": [
       "array([[1., 0., 0.],\n",
       "       [0., 5., 0.],\n",
       "       [0., 0., 9.]])"
      ]
     },
     "execution_count": 1238,
     "metadata": {},
     "output_type": "execute_result"
    }
   ],
   "source": [
    "np.eye(len(a_np))*np.diag(a_np)"
   ]
  },
  {
   "cell_type": "code",
   "execution_count": 1248,
   "id": "dd3017c2",
   "metadata": {},
   "outputs": [
    {
     "data": {
      "text/plain": [
       "(False, False, True)"
      ]
     },
     "execution_count": 1248,
     "metadata": {},
     "output_type": "execute_result"
    }
   ],
   "source": [
    "all([False,False]),all([True,False]),all([True,True])"
   ]
  },
  {
   "cell_type": "code",
   "execution_count": 1249,
   "id": "163c62a2",
   "metadata": {},
   "outputs": [
    {
     "data": {
      "text/plain": [
       "(False, True, True)"
      ]
     },
     "execution_count": 1249,
     "metadata": {},
     "output_type": "execute_result"
    }
   ],
   "source": [
    "any([False,False]),any([True,False]),any([True,True])"
   ]
  },
  {
   "cell_type": "code",
   "execution_count": 1247,
   "id": "75ff869a",
   "metadata": {},
   "outputs": [
    {
     "data": {
      "text/plain": [
       "(True, False, False)"
      ]
     },
     "execution_count": 1247,
     "metadata": {},
     "output_type": "execute_result"
    }
   ],
   "source": [
    "not any([False,False]),not any([True,False]),not any([True,True])"
   ]
  }
 ],
 "metadata": {
  "kernelspec": {
   "display_name": "Python 3 (ipykernel)",
   "language": "python",
   "name": "python3"
  },
  "language_info": {
   "codemirror_mode": {
    "name": "ipython",
    "version": 3
   },
   "file_extension": ".py",
   "mimetype": "text/x-python",
   "name": "python",
   "nbconvert_exporter": "python",
   "pygments_lexer": "ipython3",
   "version": "3.9.16"
  }
 },
 "nbformat": 4,
 "nbformat_minor": 5
}
