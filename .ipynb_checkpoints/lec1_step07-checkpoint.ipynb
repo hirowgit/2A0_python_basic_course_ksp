{
 "cells": [
  {
   "cell_type": "code",
   "execution_count": null,
   "metadata": {},
   "outputs": [],
   "source": [
    "## Python basics for novice data scientists, supported by Wagatsuma Lab@Kyutech \n",
    "#\n",
    "# The MIT License (MIT): Copyright (c) 2020 Hiroaki Wagatsuma and Wagatsuma Lab@Kyutech\n",
    "# \n",
    "# Permission is hereby granted, free of charge, to any person obtaining a copy of this software and associated documentation files (the \"Software\"), to deal in the Software without restriction, including without limitation the rights to use, copy, modify, merge, publish, distribute, sublicense, and/or sell copies of the Software, and to permit persons to whom the Software is furnished to do so, subject to the following conditions:\n",
    "# The above copyright notice and this permission notice shall be included in all copies or substantial portions of the Software.\n",
    "# THE SOFTWARE IS PROVIDED \"AS IS\", WITHOUT WARRANTY OF ANY KIND, EXPRESS OR IMPLIED, INCLUDING BUT NOT LIMITED TO THE WARRANTIES OF MERCHANTABILITY, FITNESS FOR A PARTICULAR PURPOSE AND NONINFRINGEMENT. IN NO EVENT SHALL THE AUTHORS OR COPYRIGHT HOLDERS BE LIABLE FOR ANY CLAIM, DAMAGES OR OTHER LIABILITY, WHETHER IN AN ACTION OF CONTRACT, TORT OR OTHERWISE, ARISING FROM, OUT OF OR IN CONNECTION WITH THE SOFTWARE OR THE USE OR OTHER DEALINGS IN THE SOFTWARE. */\n",
    "#\n",
    "# # @Time    : 2020-10-14 \n",
    "# # @Author  : Hiroaki Wagatsuma\n",
    "# # @Site    : https://github.com/hirowgit/2A_python_basic_course\n",
    "# # @IDE     : Python 3.7.7 (default, Mar 10 2020, 15:43:27) [Clang 10.0.0 (clang-1000.11.45.5)] on darwin\n",
    "# # @File    : lec1_step7.py "
   ]
  },
  {
   "cell_type": "code",
   "execution_count": null,
   "metadata": {},
   "outputs": [],
   "source": [
    "# Practice 3-1 (page 13/29)\n",
    "# https://www.slideshare.net/tadahirotaniguchi0624/3-46861684"
   ]
  },
  {
   "cell_type": "code",
   "execution_count": null,
   "metadata": {},
   "outputs": [],
   "source": [
    "# https://note.nkmk.me/python-dict-list-sort/"
   ]
  },
  {
   "cell_type": "code",
   "execution_count": 3,
   "metadata": {},
   "outputs": [],
   "source": [
    "import pprint\n",
    "\n",
    "l = [{'Name': 'Australia', 'Population': 25680158, 'Capital City': 'Canberra','Points': [-35.28, 149.13]}, \n",
    "     {'Name': 'Bangladesh', 'Population': 169468990,'Capital City': 'Dhaka', 'Points': [23.71, 90.41]},\n",
    "     {'Name': 'Chile', 'Population': 17373831,'Capital City': 'Santiago', 'Points': [-27.37, -70.33]}]"
   ]
  },
  {
   "cell_type": "code",
   "execution_count": 4,
   "metadata": {},
   "outputs": [
    {
     "name": "stdout",
     "output_type": "stream",
     "text": [
      "[{'Capital City': 'Canberra',\n",
      "  'Name': 'Australia',\n",
      "  'Points': [-35.28, 149.13],\n",
      "  'Population': 25680158},\n",
      " {'Capital City': 'Dhaka',\n",
      "  'Name': 'Bangladesh',\n",
      "  'Points': [23.71, 90.41],\n",
      "  'Population': 169468990},\n",
      " {'Capital City': 'Santiago',\n",
      "  'Name': 'Chile',\n",
      "  'Points': [-27.37, -70.33],\n",
      "  'Population': 17373831}]\n"
     ]
    }
   ],
   "source": [
    "pprint.pprint(sorted(l, key=lambda x: x['Name']))"
   ]
  },
  {
   "cell_type": "code",
   "execution_count": 5,
   "metadata": {
    "scrolled": true
   },
   "outputs": [
    {
     "name": "stdout",
     "output_type": "stream",
     "text": [
      "[{'Capital City': 'Santiago',\n",
      "  'Name': 'Chile',\n",
      "  'Points': [-27.37, -70.33],\n",
      "  'Population': 17373831},\n",
      " {'Capital City': 'Canberra',\n",
      "  'Name': 'Australia',\n",
      "  'Points': [-35.28, 149.13],\n",
      "  'Population': 25680158},\n",
      " {'Capital City': 'Dhaka',\n",
      "  'Name': 'Bangladesh',\n",
      "  'Points': [23.71, 90.41],\n",
      "  'Population': 169468990}]\n"
     ]
    }
   ],
   "source": [
    "pprint.pprint(sorted(l, key=lambda x: x['Population']))"
   ]
  },
  {
   "cell_type": "code",
   "execution_count": 21,
   "metadata": {
    "scrolled": true
   },
   "outputs": [
    {
     "name": "stdout",
     "output_type": "stream",
     "text": [
      "[{'Capital City': 'Dhaka',\n",
      "  'Name': 'Bangladesh',\n",
      "  'Points': [23.71, 90.41],\n",
      "  'Population': 169468990},\n",
      " {'Capital City': 'Canberra',\n",
      "  'Name': 'Australia',\n",
      "  'Points': [-35.28, 149.13],\n",
      "  'Population': 25680158},\n",
      " {'Capital City': 'Santiago',\n",
      "  'Name': 'Chile',\n",
      "  'Points': [-27.37, -70.33],\n",
      "  'Population': 17373831}]\n"
     ]
    }
   ],
   "source": [
    "pprint.pprint(sorted(l, key=lambda x: x['Population'], reverse=True))"
   ]
  },
  {
   "cell_type": "code",
   "execution_count": 6,
   "metadata": {},
   "outputs": [
    {
     "name": "stdout",
     "output_type": "stream",
     "text": [
      "{'k1': 1, 'k2': 2, 'k3': 3}\n"
     ]
    }
   ],
   "source": [
    "# https://note.nkmk.me/python-dict-create/\n",
    "keys = ['k1', 'k2', 'k3']\n",
    "values = [1, 2, 3]\n",
    "d = {k: v for k, v in zip(keys, values)}\n",
    "print(d)"
   ]
  },
  {
   "cell_type": "code",
   "execution_count": 10,
   "metadata": {},
   "outputs": [
    {
     "name": "stdout",
     "output_type": "stream",
     "text": [
      "{'cost': 1, 'h': 2, 'f': 3}\n",
      "{'cost': 1, 'h': 2, 'f': 3}\n",
      "{'cost': 1, 'h': 2, 'f': 3}\n"
     ]
    }
   ],
   "source": [
    "Node=[]\n",
    "keys = ['cost', 'h', 'f']\n",
    "values = [1, 2, 3]\n",
    "for i in range(len(keys)):\n",
    "    d = {k: v for k, v in zip(keys, values)}\n",
    "    print(d)"
   ]
  },
  {
   "cell_type": "code",
   "execution_count": 28,
   "metadata": {},
   "outputs": [
    {
     "data": {
      "text/plain": [
       "'A'"
      ]
     },
     "execution_count": 28,
     "metadata": {},
     "output_type": "execute_result"
    }
   ],
   "source": [
    "# A: ascii code 65\n",
    "chr(65)"
   ]
  },
  {
   "cell_type": "code",
   "execution_count": 32,
   "metadata": {},
   "outputs": [
    {
     "name": "stdout",
     "output_type": "stream",
     "text": [
      "A\n",
      "B\n",
      "C\n",
      "D\n",
      "E\n",
      "F\n",
      "G\n",
      "H\n",
      "I\n"
     ]
    }
   ],
   "source": [
    "# for i in range(1,10,1):\n",
    "for i in range(1,10):\n",
    "    s=chr(i+65-1)\n",
    "    print(s)"
   ]
  },
  {
   "cell_type": "code",
   "execution_count": 30,
   "metadata": {},
   "outputs": [
    {
     "name": "stdout",
     "output_type": "stream",
     "text": [
      "A\n",
      "B\n",
      "C\n",
      "D\n",
      "E\n",
      "F\n",
      "G\n",
      "H\n",
      "I\n",
      "J\n"
     ]
    }
   ],
   "source": [
    "# for i in range(1,10,1):\n",
    "for i in range(65,65+10):\n",
    "    s=chr(i)\n",
    "    print(s)"
   ]
  },
  {
   "cell_type": "code",
   "execution_count": 17,
   "metadata": {},
   "outputs": [
    {
     "name": "stdout",
     "output_type": "stream",
     "text": [
      "['A', 'B', 'C', 'D', 'E', 'F', 'G', 'H', 'I', 'J', 'K', 'L', 'M', 'N', 'O', 'P', 'Q', 'R', 'S', 'T']\n"
     ]
    }
   ],
   "source": [
    "Node=[chr(i) for i in range(65,65+20)]\n",
    "print(Node)"
   ]
  },
  {
   "cell_type": "code",
   "execution_count": 11,
   "metadata": {},
   "outputs": [
    {
     "name": "stdout",
     "output_type": "stream",
     "text": [
      "[0, 1, 2, 3, 4, 5, 6, 7, 8, 9, 10, 11, 12, 13, 14]\n",
      "[0, 1, 2, 3, 4, 5, 6, 7, 8, 9, 10, 11, 12, 13, 14]\n",
      "[0, 1, 2, 3, 4, 5, 6, 7, 8, 9, 10, 11, 12, 13, 14, 0, 1, 2, 3, 4, 5, 6, 7, 8, 9, 10, 11, 12, 13, 14, 0, 1, 2, 3, 4, 5, 6, 7, 8, 9, 10, 11, 12, 13, 14]\n"
     ]
    }
   ],
   "source": [
    "H=list(range(len(Node)))\n",
    "print(H)\n",
    "H=list(range(len(Node)))\n",
    "print(H)\n",
    "F=3*list(range(len(Node)))\n",
    "print(F)"
   ]
  },
  {
   "cell_type": "code",
   "execution_count": 13,
   "metadata": {},
   "outputs": [
    {
     "name": "stdout",
     "output_type": "stream",
     "text": [
      "[0, 1, 2, 3, 4, 5, 6, 7, 8, 9, 10, 11, 12, 13, 14]\n",
      "[0, 2, 4, 6, 8, 10, 12, 14, 16, 18, 20, 22, 24, 26, 28]\n",
      "[0, 3, 6, 9, 12, 15, 18, 21, 24, 27, 30, 33, 36, 39, 42]\n"
     ]
    }
   ],
   "source": [
    "Cost =H\n",
    "print(Cost)\n",
    "H=list(map(lambda x: x * 2, Cost))\n",
    "print(H)\n",
    "F=list(map(lambda x: x * 3, Cost))\n",
    "print(F)"
   ]
  },
  {
   "cell_type": "code",
   "execution_count": 14,
   "metadata": {},
   "outputs": [
    {
     "name": "stdout",
     "output_type": "stream",
     "text": [
      "[1, 3, 6, 50, 5]\n",
      "[2, 6, 12, 100, 10]\n"
     ]
    }
   ],
   "source": [
    "data1 = [1, 3, 6, 50, 5]\n",
    "data2 = list(map(lambda x: x * 2, data1))\n",
    "print(data1)\n",
    "print(data2)"
   ]
  },
  {
   "cell_type": "code",
   "execution_count": 15,
   "metadata": {},
   "outputs": [
    {
     "name": "stdout",
     "output_type": "stream",
     "text": [
      "{'node': 1, 'cost': 2, 'h': 3}\n"
     ]
    }
   ],
   "source": [
    "keys = ['node','cost', 'h', 'f']\n",
    "values = [1, 2, 3]\n",
    "d = {k: v for k, v in zip(keys, values)}\n",
    "print(d)"
   ]
  },
  {
   "cell_type": "code",
   "execution_count": 16,
   "metadata": {},
   "outputs": [
    {
     "name": "stdout",
     "output_type": "stream",
     "text": [
      "[{'node': 'A', 'cost': 0, 'h': 0, 'f': 0}, {'node': 'B', 'cost': 1, 'h': 2, 'f': 3}, {'node': 'C', 'cost': 2, 'h': 4, 'f': 6}, {'node': 'D', 'cost': 3, 'h': 6, 'f': 9}, {'node': 'E', 'cost': 4, 'h': 8, 'f': 12}, {'node': 'F', 'cost': 5, 'h': 10, 'f': 15}, {'node': 'G', 'cost': 6, 'h': 12, 'f': 18}, {'node': 'H', 'cost': 7, 'h': 14, 'f': 21}, {'node': 'I', 'cost': 8, 'h': 16, 'f': 24}, {'node': 'J', 'cost': 9, 'h': 18, 'f': 27}, {'node': 'K', 'cost': 10, 'h': 20, 'f': 30}, {'node': 'L', 'cost': 11, 'h': 22, 'f': 33}, {'node': 'M', 'cost': 12, 'h': 24, 'f': 36}, {'node': 'N', 'cost': 13, 'h': 26, 'f': 39}, {'node': 'O', 'cost': 14, 'h': 28, 'f': 42}]\n"
     ]
    }
   ],
   "source": [
    "keys = ['node','cost', 'h', 'f']\n",
    "d_all=[]\n",
    "for i in range(len(Node)):\n",
    "    values=[Node[i],Cost[i],H[i],F[i]]\n",
    "    d = {k: v for k, v in zip(keys, values)}\n",
    "    d_all.append(d)\n",
    "print(d_all)"
   ]
  },
  {
   "cell_type": "code",
   "execution_count": 18,
   "metadata": {},
   "outputs": [
    {
     "data": {
      "text/plain": [
       "['A',\n",
       " 'B',\n",
       " 'C',\n",
       " 'D',\n",
       " 'E',\n",
       " 'F',\n",
       " 'G',\n",
       " 'H',\n",
       " 'I',\n",
       " 'J',\n",
       " 'K',\n",
       " 'L',\n",
       " 'M',\n",
       " 'N',\n",
       " 'O',\n",
       " 'P',\n",
       " 'Q',\n",
       " 'R',\n",
       " 'S',\n",
       " 'T']"
      ]
     },
     "execution_count": 18,
     "metadata": {},
     "output_type": "execute_result"
    }
   ],
   "source": [
    "Node"
   ]
  },
  {
   "cell_type": "code",
   "execution_count": 19,
   "metadata": {},
   "outputs": [
    {
     "name": "stdout",
     "output_type": "stream",
     "text": [
      "[{'cost': 0, 'f': 0, 'h': 0, 'node': 'A'},\n",
      " {'cost': 1, 'f': 3, 'h': 2, 'node': 'B'},\n",
      " {'cost': 2, 'f': 6, 'h': 4, 'node': 'C'},\n",
      " {'cost': 3, 'f': 9, 'h': 6, 'node': 'D'},\n",
      " {'cost': 4, 'f': 12, 'h': 8, 'node': 'E'},\n",
      " {'cost': 5, 'f': 15, 'h': 10, 'node': 'F'},\n",
      " {'cost': 6, 'f': 18, 'h': 12, 'node': 'G'},\n",
      " {'cost': 7, 'f': 21, 'h': 14, 'node': 'H'},\n",
      " {'cost': 8, 'f': 24, 'h': 16, 'node': 'I'},\n",
      " {'cost': 9, 'f': 27, 'h': 18, 'node': 'J'},\n",
      " {'cost': 10, 'f': 30, 'h': 20, 'node': 'K'},\n",
      " {'cost': 11, 'f': 33, 'h': 22, 'node': 'L'},\n",
      " {'cost': 12, 'f': 36, 'h': 24, 'node': 'M'},\n",
      " {'cost': 13, 'f': 39, 'h': 26, 'node': 'N'},\n",
      " {'cost': 14, 'f': 42, 'h': 28, 'node': 'O'}]\n"
     ]
    }
   ],
   "source": [
    "pprint.pprint(sorted(d_all, key=lambda x: x['node']))"
   ]
  },
  {
   "cell_type": "code",
   "execution_count": 20,
   "metadata": {},
   "outputs": [
    {
     "name": "stdout",
     "output_type": "stream",
     "text": [
      "[{'cost': 0, 'f': 0, 'h': 0, 'node': 'A'},\n",
      " {'cost': 1, 'f': 3, 'h': 2, 'node': 'B'},\n",
      " {'cost': 2, 'f': 6, 'h': 4, 'node': 'C'},\n",
      " {'cost': 3, 'f': 9, 'h': 6, 'node': 'D'},\n",
      " {'cost': 4, 'f': 12, 'h': 8, 'node': 'E'},\n",
      " {'cost': 5, 'f': 15, 'h': 10, 'node': 'F'},\n",
      " {'cost': 6, 'f': 18, 'h': 12, 'node': 'G'},\n",
      " {'cost': 7, 'f': 21, 'h': 14, 'node': 'H'},\n",
      " {'cost': 8, 'f': 24, 'h': 16, 'node': 'I'},\n",
      " {'cost': 9, 'f': 27, 'h': 18, 'node': 'J'},\n",
      " {'cost': 10, 'f': 30, 'h': 20, 'node': 'K'},\n",
      " {'cost': 11, 'f': 33, 'h': 22, 'node': 'L'},\n",
      " {'cost': 12, 'f': 36, 'h': 24, 'node': 'M'},\n",
      " {'cost': 13, 'f': 39, 'h': 26, 'node': 'N'},\n",
      " {'cost': 14, 'f': 42, 'h': 28, 'node': 'O'}]\n"
     ]
    }
   ],
   "source": [
    "pprint.pprint(sorted(d_all, key=lambda x: x['cost']))"
   ]
  },
  {
   "cell_type": "code",
   "execution_count": 21,
   "metadata": {},
   "outputs": [
    {
     "name": "stdout",
     "output_type": "stream",
     "text": [
      "[{'cost': 0, 'f': 0, 'h': 0, 'node': 'A'},\n",
      " {'cost': 1, 'f': 3, 'h': 2, 'node': 'B'},\n",
      " {'cost': 2, 'f': 6, 'h': 4, 'node': 'C'},\n",
      " {'cost': 3, 'f': 9, 'h': 6, 'node': 'D'},\n",
      " {'cost': 4, 'f': 12, 'h': 8, 'node': 'E'},\n",
      " {'cost': 5, 'f': 15, 'h': 10, 'node': 'F'},\n",
      " {'cost': 6, 'f': 18, 'h': 12, 'node': 'G'},\n",
      " {'cost': 7, 'f': 21, 'h': 14, 'node': 'H'},\n",
      " {'cost': 8, 'f': 24, 'h': 16, 'node': 'I'},\n",
      " {'cost': 9, 'f': 27, 'h': 18, 'node': 'J'},\n",
      " {'cost': 10, 'f': 30, 'h': 20, 'node': 'K'},\n",
      " {'cost': 11, 'f': 33, 'h': 22, 'node': 'L'},\n",
      " {'cost': 12, 'f': 36, 'h': 24, 'node': 'M'},\n",
      " {'cost': 13, 'f': 39, 'h': 26, 'node': 'N'},\n",
      " {'cost': 14, 'f': 42, 'h': 28, 'node': 'O'}]\n"
     ]
    }
   ],
   "source": [
    "pprint.pprint(sorted(d_all, key=lambda x: x['h']))"
   ]
  },
  {
   "cell_type": "code",
   "execution_count": 22,
   "metadata": {},
   "outputs": [
    {
     "name": "stdout",
     "output_type": "stream",
     "text": [
      "[{'cost': 0, 'f': 0, 'h': 0, 'node': 'A'},\n",
      " {'cost': 1, 'f': 3, 'h': 2, 'node': 'B'},\n",
      " {'cost': 2, 'f': 6, 'h': 4, 'node': 'C'},\n",
      " {'cost': 3, 'f': 9, 'h': 6, 'node': 'D'},\n",
      " {'cost': 4, 'f': 12, 'h': 8, 'node': 'E'},\n",
      " {'cost': 5, 'f': 15, 'h': 10, 'node': 'F'},\n",
      " {'cost': 6, 'f': 18, 'h': 12, 'node': 'G'},\n",
      " {'cost': 7, 'f': 21, 'h': 14, 'node': 'H'},\n",
      " {'cost': 8, 'f': 24, 'h': 16, 'node': 'I'},\n",
      " {'cost': 9, 'f': 27, 'h': 18, 'node': 'J'},\n",
      " {'cost': 10, 'f': 30, 'h': 20, 'node': 'K'},\n",
      " {'cost': 11, 'f': 33, 'h': 22, 'node': 'L'},\n",
      " {'cost': 12, 'f': 36, 'h': 24, 'node': 'M'},\n",
      " {'cost': 13, 'f': 39, 'h': 26, 'node': 'N'},\n",
      " {'cost': 14, 'f': 42, 'h': 28, 'node': 'O'}]\n"
     ]
    }
   ],
   "source": [
    "pprint.pprint(sorted(d_all, key=lambda x: x['f']))"
   ]
  },
  {
   "cell_type": "code",
   "execution_count": 25,
   "metadata": {},
   "outputs": [
    {
     "name": "stdout",
     "output_type": "stream",
     "text": [
      "[1, 6, 5]\n",
      "[[0, 8, 3], [0, 3, 5], [1, 6, 5], [1, 4, 8], [1, 3, 1], [4, 9, 3], [4, 0, 6], [5, 2, 7], [9, 8, 5], [9, 0, 0]]\n"
     ]
    }
   ],
   "source": [
    "list_0 = [\n",
    "        [9, 8, 5],\n",
    "        [0, 8, 3],\n",
    "        [1, 6, 5],\n",
    "        [9, 0, 0],\n",
    "        [4, 9, 3],\n",
    "        [1, 4, 8],\n",
    "        [4, 0, 6],\n",
    "        [0, 3, 5],\n",
    "        [1, 3, 1],\n",
    "        [5, 2, 7],\n",
    "    ]\n",
    "print(list_0[2])\n",
    "list_0.sort(key=lambda x: x[0])\n",
    "print(list_0)"
   ]
  },
  {
   "cell_type": "code",
   "execution_count": 31,
   "metadata": {},
   "outputs": [
    {
     "name": "stdout",
     "output_type": "stream",
     "text": [
      "[1, 6, 5]\n",
      "[[9, 0, 0], [1, 3, 1], [0, 8, 3], [4, 9, 3], [9, 8, 5], [1, 6, 5], [0, 3, 5], [4, 0, 6], [5, 2, 7], [1, 4, 8]]\n"
     ]
    }
   ],
   "source": [
    "list_0 = [\n",
    "        [9, 8, 5],\n",
    "        [0, 8, 3],\n",
    "        [1, 6, 5],\n",
    "        [9, 0, 0],\n",
    "        [4, 9, 3],\n",
    "        [1, 4, 8],\n",
    "        [4, 0, 6],\n",
    "        [0, 3, 5],\n",
    "        [1, 3, 1],\n",
    "        [5, 2, 7],\n",
    "    ]\n",
    "print(list_0[2])\n",
    "list_0.sort(key=lambda x: x[0])\n",
    "print(list_0)"
   ]
  },
  {
   "cell_type": "code",
   "execution_count": 47,
   "metadata": {},
   "outputs": [
    {
     "name": "stdout",
     "output_type": "stream",
     "text": [
      "[2, 2, 1]\n",
      "[[3, 1, 3], [2, 2, 1], [1, 3, 2]]\n"
     ]
    }
   ],
   "source": [
    "list_0 = [\n",
    "        [1, 3, 2],\n",
    "        [2, 2, 1],\n",
    "        [3, 1, 3]\n",
    "    ]\n",
    "stag=1\n",
    "print(list_0[:][stag])\n",
    "list_0.sort(key=lambda x: x[stag])\n",
    "print(list_0)"
   ]
  },
  {
   "cell_type": "code",
   "execution_count": 26,
   "metadata": {},
   "outputs": [
    {
     "name": "stdout",
     "output_type": "stream",
     "text": [
      "[1, 4, 7]\n",
      "[1, 4, 7]\n",
      "[1, 4, 7]\n",
      " \n",
      "[[1, 4, 7], [2, 5, 8], [3, 6, 9]]\n"
     ]
    }
   ],
   "source": [
    "list_0 = [\n",
    "        [1, 4, 7],\n",
    "        [2, 5, 8],\n",
    "        [3, 6, 9]\n",
    "    ]\n",
    "stag=1\n",
    "print(list_0[:][0])\n",
    "print(list_0[0][:])\n",
    "print(list_0[0])\n",
    "print(' ')\n",
    "\n",
    "list_0.sort(key=lambda x: x[stag])\n",
    "print(list_0)"
   ]
  },
  {
   "cell_type": "code",
   "execution_count": 62,
   "metadata": {},
   "outputs": [
    {
     "data": {
      "text/plain": [
       "[1, 2, 3]"
      ]
     },
     "execution_count": 62,
     "metadata": {},
     "output_type": "execute_result"
    }
   ],
   "source": [
    "[list_0[i][0] for i in range(len(list_0))]"
   ]
  },
  {
   "cell_type": "code",
   "execution_count": 71,
   "metadata": {},
   "outputs": [
    {
     "name": "stdout",
     "output_type": "stream",
     "text": [
      "[0, 8, 3]\n",
      "[[0, 8, 3], [9, 8, 5]]\n"
     ]
    }
   ],
   "source": [
    "list_0 = [\n",
    "        [9, 8, 5],\n",
    "        [0, 8, 3]\n",
    "    ]\n",
    "print(list_0[1])\n",
    "list_0.sort(key=lambda x: x[2])\n",
    "print(list_0)"
   ]
  }
 ],
 "metadata": {
  "kernelspec": {
   "display_name": "Python 3 (ipykernel)",
   "language": "python",
   "name": "python3"
  },
  "language_info": {
   "codemirror_mode": {
    "name": "ipython",
    "version": 3
   },
   "file_extension": ".py",
   "mimetype": "text/x-python",
   "name": "python",
   "nbconvert_exporter": "python",
   "pygments_lexer": "ipython3",
   "version": "3.9.16"
  }
 },
 "nbformat": 4,
 "nbformat_minor": 2
}
