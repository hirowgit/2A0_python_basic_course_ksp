{
 "cells": [
  {
   "cell_type": "code",
   "execution_count": null,
   "id": "843e26ef",
   "metadata": {},
   "outputs": [],
   "source": [
    "## Python basics for novice data scientists, supported by Wagatsuma Lab@Kyutech \n",
    "#\n",
    "# The MIT License (MIT): Copyright (c) 2020 Hiroaki Wagatsuma and Wagatsuma Lab@Kyutech\n",
    "# \n",
    "# Permission is hereby granted, free of charge, to any person obtaining a copy of this software and associated documentation files (the \"Software\"), to deal in the Software without restriction, including without limitation the rights to use, copy, modify, merge, publish, distribute, sublicense, and/or sell copies of the Software, and to permit persons to whom the Software is furnished to do so, subject to the following conditions:\n",
    "# The above copyright notice and this permission notice shall be included in all copies or substantial portions of the Software.\n",
    "# THE SOFTWARE IS PROVIDED \"AS IS\", WITHOUT WARRANTY OF ANY KIND, EXPRESS OR IMPLIED, INCLUDING BUT NOT LIMITED TO THE WARRANTIES OF MERCHANTABILITY, FITNESS FOR A PARTICULAR PURPOSE AND NONINFRINGEMENT. IN NO EVENT SHALL THE AUTHORS OR COPYRIGHT HOLDERS BE LIABLE FOR ANY CLAIM, DAMAGES OR OTHER LIABILITY, WHETHER IN AN ACTION OF CONTRACT, TORT OR OTHERWISE, ARISING FROM, OUT OF OR IN CONNECTION WITH THE SOFTWARE OR THE USE OR OTHER DEALINGS IN THE SOFTWARE. */\n",
    "#\n",
    "# # @Time    : 2023-7-1 \n",
    "# # @Author  : Hiroaki Wagatsuma\n",
    "# # @Site    : https://github.com/hirowgit/2A_python_basic_course\n",
    "# # @IDE     : Python 3.10.9 (main, Dec 15 2022, 18:18:30) [Clang 14.0.0 (clang-1400.0.29.202)] on darwin\n",
    "# # @File    : ksp_novice_lec03.py "
   ]
  },
  {
   "cell_type": "code",
   "execution_count": null,
   "id": "7a25babd",
   "metadata": {},
   "outputs": [],
   "source": [
    "import numpy as np\n",
    "import numpy.matlib\n",
    "import os\n",
    "import sys\n",
    "import codecs\n",
    "import matplotlib.pyplot as plt\n",
    "import pandas as pd\n",
    "from openpyxl import Workbook\n",
    "import pprint\n",
    "import datetime"
   ]
  },
  {
   "cell_type": "code",
   "execution_count": 3,
   "id": "77a9bfbf",
   "metadata": {},
   "outputs": [],
   "source": [
    "import seaborn as sns "
   ]
  },
  {
   "cell_type": "code",
   "execution_count": 2,
   "id": "680de041",
   "metadata": {},
   "outputs": [],
   "source": [
    "import plotly.offline\n",
    "import plotly.express as px\n",
    "import plotly.graph_objects as go\n",
    "import plotly.subplots\n",
    "import squarify"
   ]
  },
  {
   "cell_type": "code",
   "execution_count": 23,
   "id": "ad6c2f47",
   "metadata": {},
   "outputs": [
    {
     "data": {
      "text/plain": [
       "(2, 5, 4, -5)"
      ]
     },
     "execution_count": 23,
     "metadata": {},
     "output_type": "execute_result"
    }
   ],
   "source": [
    "1+1,  2+3,  6-2,  4-9"
   ]
  },
  {
   "cell_type": "code",
   "execution_count": 7,
   "id": "26637ece",
   "metadata": {},
   "outputs": [
    {
     "ename": "NameError",
     "evalue": "name 'a' is not defined",
     "output_type": "error",
     "traceback": [
      "\u001b[0;31m---------------------------------------------------------------------------\u001b[0m",
      "\u001b[0;31mNameError\u001b[0m                                 Traceback (most recent call last)",
      "\u001b[0;32m/var/folders/mg/w5t8lkhc8xj79f001s7kzpfh0000gp/T/ipykernel_34130/2305151036.py\u001b[0m in \u001b[0;36m<module>\u001b[0;34m\u001b[0m\n\u001b[0;32m----> 1\u001b[0;31m \u001b[0ma\u001b[0m\u001b[0;34m+\u001b[0m\u001b[0;36m1\u001b[0m\u001b[0;34m,\u001b[0m\u001b[0;36m2\u001b[0m\u001b[0;34m+\u001b[0m\u001b[0mb\u001b[0m\u001b[0;34m\u001b[0m\u001b[0;34m\u001b[0m\u001b[0m\n\u001b[0m",
      "\u001b[0;31mNameError\u001b[0m: name 'a' is not defined"
     ]
    }
   ],
   "source": [
    "a+1,2+b"
   ]
  },
  {
   "cell_type": "code",
   "execution_count": 9,
   "id": "754d664f",
   "metadata": {
    "scrolled": true
   },
   "outputs": [
    {
     "data": {
      "text/plain": [
       "2"
      ]
     },
     "execution_count": 9,
     "metadata": {},
     "output_type": "execute_result"
    }
   ],
   "source": [
    "a=1\n",
    "a+1"
   ]
  },
  {
   "cell_type": "code",
   "execution_count": 10,
   "id": "392bc29e",
   "metadata": {},
   "outputs": [
    {
     "data": {
      "text/plain": [
       "5"
      ]
     },
     "execution_count": 10,
     "metadata": {},
     "output_type": "execute_result"
    }
   ],
   "source": [
    "b=3\n",
    "2+b"
   ]
  },
  {
   "cell_type": "code",
   "execution_count": 19,
   "id": "032d1ee5",
   "metadata": {},
   "outputs": [
    {
     "ename": "SyntaxError",
     "evalue": "cannot assign to operator (3779995746.py, line 2)",
     "output_type": "error",
     "traceback": [
      "\u001b[0;36m  File \u001b[0;32m\"/var/folders/mg/w5t8lkhc8xj79f001s7kzpfh0000gp/T/ipykernel_34130/3779995746.py\"\u001b[0;36m, line \u001b[0;32m2\u001b[0m\n\u001b[0;31m    6-2=c\u001b[0m\n\u001b[0m    ^\u001b[0m\n\u001b[0;31mSyntaxError\u001b[0m\u001b[0;31m:\u001b[0m cannot assign to operator\n"
     ]
    }
   ],
   "source": [
    "c=4\n",
    "6-2=c"
   ]
  },
  {
   "cell_type": "code",
   "execution_count": 20,
   "id": "63815d15",
   "metadata": {},
   "outputs": [
    {
     "data": {
      "text/plain": [
       "True"
      ]
     },
     "execution_count": 20,
     "metadata": {},
     "output_type": "execute_result"
    }
   ],
   "source": [
    "c=4\n",
    "6-2==c"
   ]
  },
  {
   "cell_type": "code",
   "execution_count": 22,
   "id": "a7897e3b",
   "metadata": {},
   "outputs": [
    {
     "data": {
      "text/plain": [
       "False"
      ]
     },
     "execution_count": 22,
     "metadata": {},
     "output_type": "execute_result"
    }
   ],
   "source": [
    "d=5\n",
    "4-9==d"
   ]
  },
  {
   "cell_type": "code",
   "execution_count": 25,
   "id": "1e9f922b",
   "metadata": {},
   "outputs": [
    {
     "data": {
      "text/plain": [
       "True"
      ]
     },
     "execution_count": 25,
     "metadata": {},
     "output_type": "execute_result"
    }
   ],
   "source": [
    "d=5\n",
    "4-9!=d"
   ]
  },
  {
   "cell_type": "code",
   "execution_count": 24,
   "id": "b2b2d694",
   "metadata": {},
   "outputs": [
    {
     "ename": "NameError",
     "evalue": "name 'e' is not defined",
     "output_type": "error",
     "traceback": [
      "\u001b[0;31m---------------------------------------------------------------------------\u001b[0m",
      "\u001b[0;31mNameError\u001b[0m                                 Traceback (most recent call last)",
      "\u001b[0;32m/var/folders/mg/w5t8lkhc8xj79f001s7kzpfh0000gp/T/ipykernel_34130/2740565805.py\u001b[0m in \u001b[0;36m<module>\u001b[0;34m\u001b[0m\n\u001b[0;32m----> 1\u001b[0;31m \u001b[0me\u001b[0m\u001b[0;34m\u001b[0m\u001b[0;34m\u001b[0m\u001b[0m\n\u001b[0m",
      "\u001b[0;31mNameError\u001b[0m: name 'e' is not defined"
     ]
    }
   ],
   "source": [
    "e"
   ]
  },
  {
   "cell_type": "code",
   "execution_count": 26,
   "id": "d0e6f647",
   "metadata": {},
   "outputs": [
    {
     "data": {
      "text/plain": [
       "['a', 'b', 'c', 'd', 'e', 'f', 'g', 'h', 'i', 'j']"
      ]
     },
     "execution_count": 26,
     "metadata": {},
     "output_type": "execute_result"
    }
   ],
   "source": [
    "['a', 'b', 'c', 'd', 'e', 'f', 'g', 'h', 'i', 'j']"
   ]
  },
  {
   "cell_type": "code",
   "execution_count": 33,
   "id": "3597bccc",
   "metadata": {},
   "outputs": [
    {
     "data": {
      "text/plain": [
       "[97, 98, 99, 100, 101, 102, 103, 104, 105, 106]"
      ]
     },
     "execution_count": 33,
     "metadata": {},
     "output_type": "execute_result"
    }
   ],
   "source": [
    "ss=['a', 'b', 'c', 'd', 'e', 'f', 'g', 'h', 'i', 'j']\n",
    "list(map(ord,ss))"
   ]
  },
  {
   "cell_type": "code",
   "execution_count": 38,
   "id": "9360f2c5",
   "metadata": {},
   "outputs": [
    {
     "data": {
      "text/plain": [
       "[1.0, 2.0, 3.0, 4.0, 5.0, 6.0, 7.0, 8.0, 9.0, 10.0]"
      ]
     },
     "execution_count": 38,
     "metadata": {},
     "output_type": "execute_result"
    }
   ],
   "source": [
    "nn=[1,2,3,4,5,6,7,8,9,10]\n",
    "list(map(float,nn))"
   ]
  },
  {
   "cell_type": "code",
   "execution_count": 39,
   "id": "68f20fad",
   "metadata": {},
   "outputs": [
    {
     "data": {
      "text/plain": [
       "10.0"
      ]
     },
     "execution_count": 39,
     "metadata": {},
     "output_type": "execute_result"
    }
   ],
   "source": [
    "float(10)"
   ]
  },
  {
   "cell_type": "code",
   "execution_count": 41,
   "id": "18a5144d",
   "metadata": {},
   "outputs": [
    {
     "data": {
      "text/plain": [
       "[1.0, 2.0, 3.0]"
      ]
     },
     "execution_count": 41,
     "metadata": {},
     "output_type": "execute_result"
    }
   ],
   "source": [
    "list(map(float,[1,2,3]))"
   ]
  },
  {
   "cell_type": "code",
   "execution_count": 44,
   "id": "84744881",
   "metadata": {},
   "outputs": [
    {
     "data": {
      "text/plain": [
       "97"
      ]
     },
     "execution_count": 44,
     "metadata": {},
     "output_type": "execute_result"
    }
   ],
   "source": [
    "ord('a')"
   ]
  },
  {
   "cell_type": "code",
   "execution_count": 42,
   "id": "a6234920",
   "metadata": {},
   "outputs": [
    {
     "data": {
      "text/plain": [
       "[97, 98, 99]"
      ]
     },
     "execution_count": 42,
     "metadata": {},
     "output_type": "execute_result"
    }
   ],
   "source": [
    "list(map(ord,['a', 'b', 'c']))"
   ]
  },
  {
   "cell_type": "code",
   "execution_count": 45,
   "id": "6f3c0a90",
   "metadata": {},
   "outputs": [
    {
     "data": {
      "text/plain": [
       "<map at 0x150e124c0>"
      ]
     },
     "execution_count": 45,
     "metadata": {},
     "output_type": "execute_result"
    }
   ],
   "source": [
    "map(ord,['a', 'b', 'c'])"
   ]
  },
  {
   "cell_type": "code",
   "execution_count": 48,
   "id": "ca7dfcf0",
   "metadata": {},
   "outputs": [
    {
     "data": {
      "text/plain": [
       "range(0, 10)"
      ]
     },
     "execution_count": 48,
     "metadata": {},
     "output_type": "execute_result"
    }
   ],
   "source": [
    "range(10)"
   ]
  },
  {
   "cell_type": "code",
   "execution_count": 43,
   "id": "c5c3e45f",
   "metadata": {},
   "outputs": [
    {
     "data": {
      "text/plain": [
       "[2, 3, 4]"
      ]
     },
     "execution_count": 43,
     "metadata": {},
     "output_type": "execute_result"
    }
   ],
   "source": [
    "f = lambda n: n+1\n",
    "list(map(f,[1,2,3]))"
   ]
  },
  {
   "cell_type": "code",
   "execution_count": 49,
   "id": "8d9c93cd",
   "metadata": {},
   "outputs": [
    {
     "data": {
      "text/plain": [
       "[1, 2, 3, 4, 5, 6]"
      ]
     },
     "execution_count": 49,
     "metadata": {},
     "output_type": "execute_result"
    }
   ],
   "source": [
    "[1,2,3]+[4,5,6]"
   ]
  },
  {
   "cell_type": "code",
   "execution_count": 62,
   "id": "dcfb2b1a",
   "metadata": {},
   "outputs": [
    {
     "data": {
      "text/plain": [
       "['a', 'b', 'c', 'd', 'e', 'f']"
      ]
     },
     "execution_count": 62,
     "metadata": {},
     "output_type": "execute_result"
    }
   ],
   "source": [
    "['a', 'b', 'c']+['d', 'e', 'f']"
   ]
  },
  {
   "cell_type": "code",
   "execution_count": 109,
   "id": "138ca346",
   "metadata": {
    "scrolled": true
   },
   "outputs": [
    {
     "name": "stdout",
     "output_type": "stream",
     "text": [
      "[1, 2, 5, 3]\n",
      "[5, 3, 2, 1]\n",
      "[1, 2, 3, 5]\n"
     ]
    }
   ],
   "source": [
    "aa=[1,2,5,3]\n",
    "print(aa)\n",
    "\n",
    "aa.sort(reverse=True)\n",
    "print(aa)\n",
    "\n",
    "aa.sort()\n",
    "print(aa)"
   ]
  },
  {
   "cell_type": "code",
   "execution_count": 110,
   "id": "732fa7fd",
   "metadata": {},
   "outputs": [
    {
     "data": {
      "text/plain": [
       "[3, 2, 1]"
      ]
     },
     "execution_count": 110,
     "metadata": {},
     "output_type": "execute_result"
    }
   ],
   "source": [
    "sorted([1,2,3],reverse=True)"
   ]
  },
  {
   "cell_type": "code",
   "execution_count": 112,
   "id": "733ad606",
   "metadata": {},
   "outputs": [
    {
     "name": "stdout",
     "output_type": "stream",
     "text": [
      "[1, 2, 3]\n",
      "[1, 2, 3, 7]\n",
      "[1, 2, 3, 7, [8, 10, 9]]\n"
     ]
    }
   ],
   "source": [
    "aa=[1,2,3]\n",
    "print(aa)\n",
    "\n",
    "aa.append(7)\n",
    "print(aa)\n",
    "\n",
    "aa.append([8,10,9])\n",
    "print(aa)"
   ]
  },
  {
   "cell_type": "code",
   "execution_count": 114,
   "id": "2dfc3c70",
   "metadata": {},
   "outputs": [
    {
     "name": "stdout",
     "output_type": "stream",
     "text": [
      "[1, 2, 3]\n",
      "[1, 2, 3, 7]\n",
      "[1, 2, 3, 7, 1, 2, 3]\n"
     ]
    }
   ],
   "source": [
    "aa=[1,2,3]\n",
    "print(aa)\n",
    "\n",
    "aa.extend([7])\n",
    "print(aa)\n",
    "\n",
    "aa.extend([1,2,3])\n",
    "print(aa)"
   ]
  },
  {
   "cell_type": "code",
   "execution_count": 69,
   "id": "06b8bbd4",
   "metadata": {},
   "outputs": [
    {
     "name": "stdout",
     "output_type": "stream",
     "text": [
      "[1, 2, 3]\n",
      "[1, 2, 5, 3]\n",
      "[1, 10, 2, 5, 3]\n"
     ]
    }
   ],
   "source": [
    "aa=[1,2,3]\n",
    "print(aa)\n",
    "\n",
    "aa.insert(2,5)\n",
    "print(aa)\n",
    "\n",
    "aa.insert(1,10)\n",
    "print(aa)"
   ]
  },
  {
   "cell_type": "code",
   "execution_count": 115,
   "id": "ec6fcac7",
   "metadata": {},
   "outputs": [
    {
     "name": "stdout",
     "output_type": "stream",
     "text": [
      "[1, 2, 3, 10, 9, 8]\n",
      "[]\n"
     ]
    }
   ],
   "source": [
    "aa=[1,2,3,10,9,8]\n",
    "print(aa)\n",
    "\n",
    "aa.clear()\n",
    "print(aa)"
   ]
  },
  {
   "cell_type": "code",
   "execution_count": 118,
   "id": "137a49d5",
   "metadata": {},
   "outputs": [
    {
     "name": "stdout",
     "output_type": "stream",
     "text": [
      "[1, 2, 3, 10, 9, 8]\n",
      "[1, 2, 3, 9, 8]\n",
      "[1, 2, 3, 8]\n",
      "[1, 2, 3]\n"
     ]
    }
   ],
   "source": [
    "aa=[1,2,3,10,9,8]\n",
    "print(aa)\n",
    "\n",
    "aa.pop(3)\n",
    "print(aa)\n",
    "\n",
    "aa.pop(-2)\n",
    "print(aa)\n",
    "\n",
    "aa.pop()\n",
    "print(aa)"
   ]
  },
  {
   "cell_type": "code",
   "execution_count": 120,
   "id": "92dc5240",
   "metadata": {},
   "outputs": [
    {
     "name": "stdout",
     "output_type": "stream",
     "text": [
      "[3, 1, 2, 3, 10, 9, 8]\n",
      "[1, 2, 3, 10, 9, 8]\n"
     ]
    }
   ],
   "source": [
    "aa=[3,1,2,3,10,9,8]\n",
    "print(aa)\n",
    "\n",
    "aa.remove(3)\n",
    "print(aa)"
   ]
  },
  {
   "cell_type": "code",
   "execution_count": 123,
   "id": "3c311a04",
   "metadata": {},
   "outputs": [
    {
     "name": "stdout",
     "output_type": "stream",
     "text": [
      "[3, 1, 2, 3, 10, 9, 8]\n",
      "[3, 2, 3, 10, 9, 8]\n",
      "[3, 2, 3, 10, 8]\n",
      "[3, 10, 8]\n"
     ]
    },
    {
     "ename": "NameError",
     "evalue": "name 'aa' is not defined",
     "output_type": "error",
     "traceback": [
      "\u001b[0;31m---------------------------------------------------------------------------\u001b[0m",
      "\u001b[0;31mNameError\u001b[0m                                 Traceback (most recent call last)",
      "\u001b[0;32m/var/folders/mg/w5t8lkhc8xj79f001s7kzpfh0000gp/T/ipykernel_34130/945582739.py\u001b[0m in \u001b[0;36m<module>\u001b[0;34m\u001b[0m\n\u001b[1;32m     13\u001b[0m \u001b[0;32mdel\u001b[0m \u001b[0maa\u001b[0m\u001b[0;34m\u001b[0m\u001b[0;34m\u001b[0m\u001b[0m\n\u001b[1;32m     14\u001b[0m \u001b[0;34m\u001b[0m\u001b[0m\n\u001b[0;32m---> 15\u001b[0;31m \u001b[0maa\u001b[0m\u001b[0;34m\u001b[0m\u001b[0;34m\u001b[0m\u001b[0m\n\u001b[0m",
      "\u001b[0;31mNameError\u001b[0m: name 'aa' is not defined"
     ]
    }
   ],
   "source": [
    "aa=[3,1,2,3,10,9,8]\n",
    "print(aa)\n",
    "\n",
    "del aa[1]\n",
    "print(aa)\n",
    "\n",
    "del aa[-2]\n",
    "print(aa)\n",
    "\n",
    "del aa[1:3]\n",
    "print(aa)\n",
    "\n",
    "del aa\n",
    "\n",
    "aa"
   ]
  },
  {
   "cell_type": "code",
   "execution_count": null,
   "id": "ab941aff",
   "metadata": {},
   "outputs": [],
   "source": [
    "aa=[1,2,3,10,9,8]\n",
    "print(aa)\n",
    "\n",
    "aa.reverse()\n",
    "print(aa)"
   ]
  },
  {
   "cell_type": "code",
   "execution_count": 71,
   "id": "95be4f5a",
   "metadata": {},
   "outputs": [
    {
     "name": "stdout",
     "output_type": "stream",
     "text": [
      "[[1, 2, 3], [8, 9, 10], [4, 5, 6]]\n",
      "[[1, 2, 3], [4, 5, 6], [8, 9, 10]]\n"
     ]
    }
   ],
   "source": [
    "aa = [[1,2,3],[8,9,10],[4,5,6]]\n",
    "print(aa)\n",
    "\n",
    "aa.sort(key=lambda x:x[0]) \n",
    "print(aa)"
   ]
  },
  {
   "cell_type": "code",
   "execution_count": 100,
   "id": "52980533",
   "metadata": {},
   "outputs": [
    {
     "data": {
      "text/plain": [
       "{'Name': 'Sam', 'Age': 35, 'Height': 170, 'Weight': 80}"
      ]
     },
     "execution_count": 100,
     "metadata": {},
     "output_type": "execute_result"
    }
   ],
   "source": [
    "dictS={'Name': 'Sam', 'Age': 35,  'Height': 170, 'Weight': 80}\n",
    "dictS"
   ]
  },
  {
   "cell_type": "code",
   "execution_count": 101,
   "id": "1e3c7959",
   "metadata": {},
   "outputs": [
    {
     "data": {
      "text/plain": [
       "dict_keys(['Name', 'Age', 'Height', 'Weight'])"
      ]
     },
     "execution_count": 101,
     "metadata": {},
     "output_type": "execute_result"
    }
   ],
   "source": [
    "dictS.keys()"
   ]
  },
  {
   "cell_type": "code",
   "execution_count": 102,
   "id": "f1856695",
   "metadata": {},
   "outputs": [
    {
     "data": {
      "text/plain": [
       "dict_values(['Sam', 35, 170, 80])"
      ]
     },
     "execution_count": 102,
     "metadata": {},
     "output_type": "execute_result"
    }
   ],
   "source": [
    "dictS.values()"
   ]
  },
  {
   "cell_type": "code",
   "execution_count": 103,
   "id": "2445a32a",
   "metadata": {},
   "outputs": [
    {
     "data": {
      "text/plain": [
       "dict_items([('Name', 'Sam'), ('Age', 35), ('Height', 170), ('Weight', 80)])"
      ]
     },
     "execution_count": 103,
     "metadata": {},
     "output_type": "execute_result"
    }
   ],
   "source": [
    "dictS.items()"
   ]
  },
  {
   "cell_type": "code",
   "execution_count": 104,
   "id": "72e64f7c",
   "metadata": {},
   "outputs": [
    {
     "data": {
      "text/plain": [
       "[('Name', 'Sam'), ('Age', 35), ('Height', 170), ('Weight', 80)]"
      ]
     },
     "execution_count": 104,
     "metadata": {},
     "output_type": "execute_result"
    }
   ],
   "source": [
    "s2=[s for s in dictS.items()]"
   ]
  },
  {
   "cell_type": "code",
   "execution_count": 107,
   "id": "dfe20c9d",
   "metadata": {},
   "outputs": [
    {
     "data": {
      "text/plain": [
       "[('Name', 'Sam'), ('Age', 35), ('Height', 170), ('Weight', 80)]"
      ]
     },
     "execution_count": 107,
     "metadata": {},
     "output_type": "execute_result"
    }
   ],
   "source": [
    "s2=[]\n",
    "for s in dictS.items():\n",
    "    s2=s2+[s]\n",
    "s2"
   ]
  },
  {
   "cell_type": "code",
   "execution_count": 98,
   "id": "42208acc",
   "metadata": {},
   "outputs": [
    {
     "data": {
      "text/plain": [
       "[{'Name': 'James', 'Height': 170, 'Weight': 65},\n",
       " {'Name': 'Angie', 'Height': 165, 'Weight': 80},\n",
       " {'Name': 'Willer', 'Height': 169, 'Weight': 101}]"
      ]
     },
     "execution_count": 98,
     "metadata": {},
     "output_type": "execute_result"
    }
   ],
   "source": [
    "dictData = [{'Name': 'James', 'Height': 170, 'Weight': 65},\n",
    "    {'Name': 'Angie', 'Height': 165, 'Weight': 80},\n",
    "    {'Name': 'Willer', 'Height': 169, 'Weight': 101},]\n",
    "\n",
    "dictData"
   ]
  },
  {
   "cell_type": "code",
   "execution_count": 87,
   "id": "319c4cab",
   "metadata": {},
   "outputs": [
    {
     "data": {
      "text/plain": [
       "{'Name': 'James', 'Height': 35, 'Weight': 65}"
      ]
     },
     "execution_count": 87,
     "metadata": {},
     "output_type": "execute_result"
    }
   ],
   "source": [
    "dictData[0]"
   ]
  },
  {
   "cell_type": "code",
   "execution_count": 88,
   "id": "64f5c4c1",
   "metadata": {},
   "outputs": [
    {
     "data": {
      "text/plain": [
       "'James'"
      ]
     },
     "execution_count": 88,
     "metadata": {},
     "output_type": "execute_result"
    }
   ],
   "source": [
    "dictData[0]['Name']"
   ]
  },
  {
   "cell_type": "code",
   "execution_count": 96,
   "id": "e9b9ea3a",
   "metadata": {},
   "outputs": [
    {
     "data": {
      "text/plain": [
       "dict_keys(['Name', 'Height', 'Weight'])"
      ]
     },
     "execution_count": 96,
     "metadata": {},
     "output_type": "execute_result"
    }
   ],
   "source": [
    "dictData[0].keys()"
   ]
  },
  {
   "cell_type": "code",
   "execution_count": 82,
   "id": "d7e88ae8",
   "metadata": {},
   "outputs": [
    {
     "data": {
      "text/plain": [
       "[{'Name': 'Angie', 'Height': 23, 'Weight': 80},\n",
       " {'Name': 'James', 'Height': 35, 'Weight': 65},\n",
       " {'Name': 'Willer', 'Height': 42, 'Weight': 101}]"
      ]
     },
     "execution_count": 82,
     "metadata": {},
     "output_type": "execute_result"
    }
   ],
   "source": [
    "sorted(dictData, key=lambda x: x['Height'])"
   ]
  },
  {
   "cell_type": "code",
   "execution_count": 81,
   "id": "0e6a8e33",
   "metadata": {},
   "outputs": [
    {
     "data": {
      "text/plain": [
       "[{'Name': 'Willer', 'Height': 42, 'Weight': 101},\n",
       " {'Name': 'Angie', 'Height': 23, 'Weight': 80},\n",
       " {'Name': 'James', 'Height': 35, 'Weight': 65}]"
      ]
     },
     "execution_count": 81,
     "metadata": {},
     "output_type": "execute_result"
    }
   ],
   "source": [
    "sorted(dictData, key=lambda x: x['Weight'], reverse=True)"
   ]
  },
  {
   "cell_type": "code",
   "execution_count": 125,
   "id": "fa38ddab",
   "metadata": {},
   "outputs": [
    {
     "data": {
      "text/plain": [
       "{1, 2, 3, 5}"
      ]
     },
     "execution_count": 125,
     "metadata": {},
     "output_type": "execute_result"
    }
   ],
   "source": [
    "{1,2,3,2,1,5} "
   ]
  },
  {
   "cell_type": "code",
   "execution_count": 126,
   "id": "11bace54",
   "metadata": {},
   "outputs": [
    {
     "data": {
      "text/plain": [
       "{1, 2, 3, 5}"
      ]
     },
     "execution_count": 126,
     "metadata": {},
     "output_type": "execute_result"
    }
   ],
   "source": [
    "set([1,2,3,2,1,5]) "
   ]
  },
  {
   "cell_type": "code",
   "execution_count": 133,
   "id": "d8fb0bd1",
   "metadata": {},
   "outputs": [
    {
     "data": {
      "text/plain": [
       "{4, 6, 7, 8, 9, 10}"
      ]
     },
     "execution_count": 133,
     "metadata": {},
     "output_type": "execute_result"
    }
   ],
   "source": [
    "{1,2,3,4,5,6,7,8,9,10} - {1,2,3,5,12,13} "
   ]
  },
  {
   "cell_type": "code",
   "execution_count": 134,
   "id": "37d15e3c",
   "metadata": {},
   "outputs": [
    {
     "data": {
      "text/plain": [
       "{4, 6, 7, 8, 9, 10}"
      ]
     },
     "execution_count": 134,
     "metadata": {},
     "output_type": "execute_result"
    }
   ],
   "source": [
    "{1,2,3,4,5,6,7,8,9,10}.difference({1,2,3,5,12,13} )"
   ]
  },
  {
   "cell_type": "code",
   "execution_count": 132,
   "id": "9ee96d01",
   "metadata": {},
   "outputs": [
    {
     "data": {
      "text/plain": [
       "{1, 2, 3, 4, 5, 6, 7, 8, 9, 10}"
      ]
     },
     "execution_count": 132,
     "metadata": {},
     "output_type": "execute_result"
    }
   ],
   "source": [
    "{1,2,3,4,5,6} | {5,6,7,8,9,10} "
   ]
  },
  {
   "cell_type": "code",
   "execution_count": 135,
   "id": "a69c66e5",
   "metadata": {},
   "outputs": [
    {
     "data": {
      "text/plain": [
       "{1, 2, 3, 4, 5, 6, 7, 8, 9, 10}"
      ]
     },
     "execution_count": 135,
     "metadata": {},
     "output_type": "execute_result"
    }
   ],
   "source": [
    "{1,2,3,4,5,6}.union( {5,6,7,8,9,10} )"
   ]
  },
  {
   "cell_type": "code",
   "execution_count": 136,
   "id": "ffb8202e",
   "metadata": {},
   "outputs": [
    {
     "data": {
      "text/plain": [
       "{5, 6}"
      ]
     },
     "execution_count": 136,
     "metadata": {},
     "output_type": "execute_result"
    }
   ],
   "source": [
    "{1,2,3,4,5,6} & {5,6,7,8,9,10} "
   ]
  },
  {
   "cell_type": "code",
   "execution_count": 137,
   "id": "f8ed5fd0",
   "metadata": {},
   "outputs": [
    {
     "data": {
      "text/plain": [
       "{5, 6}"
      ]
     },
     "execution_count": 137,
     "metadata": {},
     "output_type": "execute_result"
    }
   ],
   "source": [
    "{1,2,3,4,5,6}.intersection( {5,6,7,8,9,10} )"
   ]
  },
  {
   "cell_type": "code",
   "execution_count": 143,
   "id": "5ac8df14",
   "metadata": {},
   "outputs": [
    {
     "data": {
      "text/plain": [
       "{1, 2, 3, 4, 5, 6}"
      ]
     },
     "execution_count": 143,
     "metadata": {},
     "output_type": "execute_result"
    }
   ],
   "source": [
    "s1={1,2,3,4,5,6}\n",
    "s1-{7}\n",
    "s1"
   ]
  },
  {
   "cell_type": "code",
   "execution_count": 142,
   "id": "41b241d2",
   "metadata": {},
   "outputs": [
    {
     "ename": "KeyError",
     "evalue": "7",
     "output_type": "error",
     "traceback": [
      "\u001b[0;31m---------------------------------------------------------------------------\u001b[0m",
      "\u001b[0;31mKeyError\u001b[0m                                  Traceback (most recent call last)",
      "\u001b[0;32m/var/folders/mg/w5t8lkhc8xj79f001s7kzpfh0000gp/T/ipykernel_34130/690037572.py\u001b[0m in \u001b[0;36m<module>\u001b[0;34m\u001b[0m\n\u001b[1;32m      1\u001b[0m \u001b[0ms1\u001b[0m\u001b[0;34m=\u001b[0m\u001b[0;34m{\u001b[0m\u001b[0;36m1\u001b[0m\u001b[0;34m,\u001b[0m\u001b[0;36m2\u001b[0m\u001b[0;34m,\u001b[0m\u001b[0;36m3\u001b[0m\u001b[0;34m,\u001b[0m\u001b[0;36m4\u001b[0m\u001b[0;34m,\u001b[0m\u001b[0;36m5\u001b[0m\u001b[0;34m,\u001b[0m\u001b[0;36m6\u001b[0m\u001b[0;34m}\u001b[0m\u001b[0;34m\u001b[0m\u001b[0;34m\u001b[0m\u001b[0m\n\u001b[0;32m----> 2\u001b[0;31m \u001b[0ms1\u001b[0m\u001b[0;34m.\u001b[0m\u001b[0mremove\u001b[0m\u001b[0;34m(\u001b[0m\u001b[0;36m7\u001b[0m\u001b[0;34m)\u001b[0m\u001b[0;34m\u001b[0m\u001b[0;34m\u001b[0m\u001b[0m\n\u001b[0m\u001b[1;32m      3\u001b[0m \u001b[0ms1\u001b[0m\u001b[0;34m\u001b[0m\u001b[0;34m\u001b[0m\u001b[0m\n",
      "\u001b[0;31mKeyError\u001b[0m: 7"
     ]
    }
   ],
   "source": [
    "s1={1,2,3,4,5,6}\n",
    "s1.remove(7) \n",
    "s1"
   ]
  },
  {
   "cell_type": "code",
   "execution_count": 141,
   "id": "66d1fed4",
   "metadata": {},
   "outputs": [
    {
     "data": {
      "text/plain": [
       "{1, 2, 3, 4, 6}"
      ]
     },
     "execution_count": 141,
     "metadata": {},
     "output_type": "execute_result"
    }
   ],
   "source": [
    "s1={1,2,3,4,5,6}\n",
    "s1.remove(5) \n",
    "s1"
   ]
  },
  {
   "cell_type": "code",
   "execution_count": 145,
   "id": "f6145eb4",
   "metadata": {},
   "outputs": [
    {
     "data": {
      "text/plain": [
       "{2, 3, 4, 5, 6}"
      ]
     },
     "execution_count": 145,
     "metadata": {},
     "output_type": "execute_result"
    }
   ],
   "source": [
    "s1={1,2,3,4,5,6}\n",
    "s1.pop() \n",
    "s1"
   ]
  },
  {
   "cell_type": "code",
   "execution_count": 144,
   "id": "f65e779d",
   "metadata": {},
   "outputs": [
    {
     "data": {
      "text/plain": [
       "set()"
      ]
     },
     "execution_count": 144,
     "metadata": {},
     "output_type": "execute_result"
    }
   ],
   "source": [
    "s1={1,2,3,4,5,6}\n",
    "s1.clear()\n",
    "s1"
   ]
  },
  {
   "cell_type": "markdown",
   "id": "2e5d1561",
   "metadata": {},
   "source": [
    "## Example 1"
   ]
  },
  {
   "cell_type": "code",
   "execution_count": 146,
   "id": "423c9924",
   "metadata": {},
   "outputs": [
    {
     "ename": "SyntaxError",
     "evalue": "invalid syntax (2408504064.py, line 5)",
     "output_type": "error",
     "traceback": [
      "\u001b[0;36m  File \u001b[0;32m\"/var/folders/mg/w5t8lkhc8xj79f001s7kzpfh0000gp/T/ipykernel_34130/2408504064.py\"\u001b[0;36m, line \u001b[0;32m5\u001b[0m\n\u001b[0;31m    'S':'A','B',\u001b[0m\n\u001b[0m               ^\u001b[0m\n\u001b[0;31mSyntaxError\u001b[0m\u001b[0;31m:\u001b[0m invalid syntax\n"
     ]
    }
   ],
   "source": [
    "# As you see in Fig 2.9, open list and closed list should be defined at each node. \n",
    "# Therefore those lists require multiple open and closed lists for each node.\n",
    "# It implies dictionary is a good option.\n",
    "TargetGraph={\n",
    "    'S':'A','B',\n",
    "    'A':'S','C','D',\n",
    "    'B':'S','C',\n",
    "    'C':'A','B','D',\n",
    "    'D':'A','C',\n",
    "#    'G':'unknown now\n",
    "}"
   ]
  },
  {
   "cell_type": "code",
   "execution_count": 147,
   "id": "5107cc33",
   "metadata": {},
   "outputs": [],
   "source": [
    "TargetGraph={\n",
    "    'S':['A','B'],\n",
    "    'A':['S','C','D'],\n",
    "    'B':['S','C'],\n",
    "    'C':['A','B','D'],\n",
    "    'D':['A','C']\n",
    "#    'G':'unknown now\n",
    "}"
   ]
  },
  {
   "cell_type": "code",
   "execution_count": 148,
   "id": "19932036",
   "metadata": {},
   "outputs": [
    {
     "data": {
      "text/plain": [
       "['A', 'B']"
      ]
     },
     "execution_count": 148,
     "metadata": {},
     "output_type": "execute_result"
    }
   ],
   "source": [
    "TargetGraph['S']"
   ]
  },
  {
   "cell_type": "code",
   "execution_count": 149,
   "id": "d054951c",
   "metadata": {},
   "outputs": [
    {
     "data": {
      "text/plain": [
       "'A'"
      ]
     },
     "execution_count": 149,
     "metadata": {},
     "output_type": "execute_result"
    }
   ],
   "source": [
    "TargetGraph['S'][0]"
   ]
  },
  {
   "cell_type": "code",
   "execution_count": 150,
   "id": "1a0a7bac",
   "metadata": {},
   "outputs": [
    {
     "data": {
      "text/plain": [
       "['A', 'B', 'G']"
      ]
     },
     "execution_count": 150,
     "metadata": {},
     "output_type": "execute_result"
    }
   ],
   "source": [
    "TargetGraph['S'].append('G')\n",
    "\n",
    "TargetGraph['S']"
   ]
  },
  {
   "cell_type": "code",
   "execution_count": 152,
   "id": "aafb1690",
   "metadata": {},
   "outputs": [
    {
     "name": "stdout",
     "output_type": "stream",
     "text": [
      "{'S': ['A', 'B'], 'A': ['S', 'C', 'D'], 'B': ['S', 'C'], 'C': ['A', 'B', 'D'], 'D': ['A', 'C']}\n"
     ]
    }
   ],
   "source": [
    "print(TargetGraph)"
   ]
  },
  {
   "cell_type": "code",
   "execution_count": 151,
   "id": "ee9496ca",
   "metadata": {},
   "outputs": [
    {
     "name": "stdout",
     "output_type": "stream",
     "text": [
      "{'S': ['A', 'B'], 'A': ['S', 'C', 'D'], 'B': ['S', 'C'], 'C': ['A', 'B', 'D'], 'D': ['A', 'C']}\n"
     ]
    }
   ],
   "source": [
    "# If you want to delete the last item\n",
    "del TargetGraph['S'][-1]\n",
    "print(TargetGraph)"
   ]
  },
  {
   "cell_type": "code",
   "execution_count": 153,
   "id": "1062d2a0",
   "metadata": {},
   "outputs": [
    {
     "name": "stdout",
     "output_type": "stream",
     "text": [
      "Empty\n"
     ]
    }
   ],
   "source": [
    "tList=[]\n",
    "if tList: \n",
    "    print('Not Empty')\n",
    "else:\n",
    "    print('Empty') "
   ]
  },
  {
   "cell_type": "code",
   "execution_count": 154,
   "id": "f62ecbe9",
   "metadata": {},
   "outputs": [
    {
     "name": "stdout",
     "output_type": "stream",
     "text": [
      "[2, 3, 4, 5]\n",
      "[3, 4, 5]\n",
      "[4, 5]\n",
      "[5]\n",
      "[]\n",
      "completed\n"
     ]
    }
   ],
   "source": [
    "tList=[1,2,3,4,5]\n",
    "while tList:\n",
    "    del tList[0]\n",
    "    print(tList)\n",
    "print('completed') "
   ]
  },
  {
   "cell_type": "code",
   "execution_count": 155,
   "id": "23ab2937",
   "metadata": {},
   "outputs": [
    {
     "name": "stdout",
     "output_type": "stream",
     "text": [
      "[['A', 'B'], 'S']\n"
     ]
    }
   ],
   "source": [
    "OpenList=['S']\n",
    "OpenList.insert(0,['A','B']) \n",
    "print(OpenList)"
   ]
  },
  {
   "cell_type": "code",
   "execution_count": 156,
   "id": "42e55bbd",
   "metadata": {},
   "outputs": [
    {
     "name": "stdout",
     "output_type": "stream",
     "text": [
      "['S', ['A', 'B']]\n"
     ]
    }
   ],
   "source": [
    "OpenList=['S']\n",
    "OpenList.append(['A','B']) \n",
    "print(OpenList)"
   ]
  },
  {
   "cell_type": "code",
   "execution_count": 157,
   "id": "c8aa751c",
   "metadata": {},
   "outputs": [
    {
     "name": "stdout",
     "output_type": "stream",
     "text": [
      "['S', 'A', 'B']\n"
     ]
    }
   ],
   "source": [
    "OpenList=['S']\n",
    "OpenList.extend(['A','B']) \n",
    "print(OpenList)"
   ]
  },
  {
   "cell_type": "code",
   "execution_count": 158,
   "id": "476a1c9c",
   "metadata": {},
   "outputs": [
    {
     "name": "stdout",
     "output_type": "stream",
     "text": [
      "['S', 'A', 'B']\n"
     ]
    }
   ],
   "source": [
    "OpenList=['S']\n",
    "OpenList=OpenList+['A','B']\n",
    "print(OpenList)"
   ]
  },
  {
   "cell_type": "code",
   "execution_count": 159,
   "id": "43ce10e4",
   "metadata": {},
   "outputs": [
    {
     "name": "stdout",
     "output_type": "stream",
     "text": [
      "['A', 'B', 'S']\n"
     ]
    }
   ],
   "source": [
    "OpenList=['S']\n",
    "OpenList=['A','B']+OpenList\n",
    "print(OpenList)"
   ]
  },
  {
   "cell_type": "code",
   "execution_count": 160,
   "id": "aa59b2f6",
   "metadata": {},
   "outputs": [
    {
     "data": {
      "text/plain": [
       "['A', 'B']"
      ]
     },
     "execution_count": 160,
     "metadata": {},
     "output_type": "execute_result"
    }
   ],
   "source": [
    "sList=['A','B']\n",
    "[d for d in sList]"
   ]
  },
  {
   "cell_type": "code",
   "execution_count": 161,
   "id": "fbfed8d0",
   "metadata": {},
   "outputs": [
    {
     "data": {
      "text/plain": [
       "['A', 'B', 'C']"
      ]
     },
     "execution_count": 161,
     "metadata": {},
     "output_type": "execute_result"
    }
   ],
   "source": [
    "sList+['C']"
   ]
  },
  {
   "cell_type": "code",
   "execution_count": 162,
   "id": "a5dc377a",
   "metadata": {},
   "outputs": [
    {
     "data": {
      "text/plain": [
       "['AC', 'BC']"
      ]
     },
     "execution_count": 162,
     "metadata": {},
     "output_type": "execute_result"
    }
   ],
   "source": [
    "sList=['A','B']\n",
    "[d+'C' for d in sList]"
   ]
  },
  {
   "cell_type": "code",
   "execution_count": 163,
   "id": "bc14c79a",
   "metadata": {},
   "outputs": [
    {
     "data": {
      "text/plain": [
       "['S', 'C', 'D']"
      ]
     },
     "execution_count": 163,
     "metadata": {},
     "output_type": "execute_result"
    }
   ],
   "source": [
    "TargetGraph['A']"
   ]
  },
  {
   "cell_type": "code",
   "execution_count": 164,
   "id": "8f52dfa0",
   "metadata": {},
   "outputs": [
    {
     "name": "stdout",
     "output_type": "stream",
     "text": [
      "[['A', 'B'], 'S']\n",
      "['A', 'B', 'S']\n"
     ]
    }
   ],
   "source": [
    "OpenList=['S']\n",
    "sList=['A','B']\n",
    "OpenList.insert(0, sList[:]) \n",
    "OpenList=[d for d in OpenList]\n",
    "print(OpenList)\n",
    "OpenList=[item for i in OpenList for item in i]\n",
    "print(OpenList)"
   ]
  },
  {
   "cell_type": "code",
   "execution_count": 165,
   "id": "a8ec274d",
   "metadata": {},
   "outputs": [
    {
     "data": {
      "text/plain": [
       "['S', ['A', 'B']]"
      ]
     },
     "execution_count": 165,
     "metadata": {},
     "output_type": "execute_result"
    }
   ],
   "source": [
    "OpenList=['S']\n",
    "sList=['A','B']\n",
    "OpenList.append(sList)\n",
    "OpenList"
   ]
  },
  {
   "cell_type": "code",
   "execution_count": 166,
   "id": "c88c609b",
   "metadata": {},
   "outputs": [
    {
     "data": {
      "text/plain": [
       "[['A', 'B'], 'S']"
      ]
     },
     "execution_count": 166,
     "metadata": {},
     "output_type": "execute_result"
    }
   ],
   "source": [
    "OpenList=['S']\n",
    "sList=['A','B']\n",
    "OpenList.insert(0, sList)\n",
    "OpenList"
   ]
  },
  {
   "cell_type": "code",
   "execution_count": 167,
   "id": "20ac5808",
   "metadata": {},
   "outputs": [
    {
     "data": {
      "text/plain": [
       "['S', 'A', 'B']"
      ]
     },
     "execution_count": 167,
     "metadata": {},
     "output_type": "execute_result"
    }
   ],
   "source": [
    "OpenList=['S']\n",
    "sList=['A','B']\n",
    "OpenList.extend(sList)\n",
    "OpenList"
   ]
  },
  {
   "cell_type": "code",
   "execution_count": 168,
   "id": "39660931",
   "metadata": {},
   "outputs": [
    {
     "name": "stdout",
     "output_type": "stream",
     "text": [
      "Yes\n"
     ]
    }
   ],
   "source": [
    "if 'A' in ['A', 'B', 'S']: \n",
    "    print('Yes')"
   ]
  },
  {
   "cell_type": "code",
   "execution_count": 169,
   "id": "18e1c7ab",
   "metadata": {},
   "outputs": [],
   "source": [
    "if 'A' not in ['A', 'B', 'S']: \n",
    "    print('Yes')"
   ]
  },
  {
   "cell_type": "code",
   "execution_count": 171,
   "id": "b8cf1632",
   "metadata": {},
   "outputs": [
    {
     "data": {
      "text/plain": [
       "['A', 'B']"
      ]
     },
     "execution_count": 171,
     "metadata": {},
     "output_type": "execute_result"
    }
   ],
   "source": [
    "tList=[]\n",
    "addList=['A', 'B', 'S']\n",
    "ClosedList=['S']\n",
    "activeNode=[item for item in addList if item not in ClosedList]\n",
    "activeNode"
   ]
  },
  {
   "cell_type": "code",
   "execution_count": 170,
   "id": "8c0ea9b7",
   "metadata": {},
   "outputs": [
    {
     "name": "stdout",
     "output_type": "stream",
     "text": [
      "[['A', 'B'], 'S']\n",
      "['A', 'B']\n",
      "['A', 'B']\n"
     ]
    }
   ],
   "source": [
    "OpenList=['S']\n",
    "state='S'\n",
    "OpenList.insert(0, TargetGraph[state]) \n",
    "print(OpenList)\n",
    "\n",
    "OpenList=['S']\n",
    "ClosedList=['S']\n",
    "state='S'\n",
    "print(TargetGraph[state])\n",
    "activeNodes=[item for item in TargetGraph[state] if item not in ClosedList]\n",
    "OpenList.insert(0, activeNodes) \n",
    "OpenList=[item for i in OpenList for item in i if item not in ClosedList]\n",
    "print(OpenList)"
   ]
  },
  {
   "cell_type": "code",
   "execution_count": 175,
   "id": "403cb1d4",
   "metadata": {},
   "outputs": [
    {
     "name": "stdout",
     "output_type": "stream",
     "text": [
      "S\n",
      "B\n",
      "A\n",
      "C\n",
      "D\n",
      "completed\n"
     ]
    }
   ],
   "source": [
    "OpenList=['S']\n",
    "ClosedList=[]\n",
    "while OpenList:\n",
    "    state=OpenList.pop()\n",
    "    ClosedList.append(state)\n",
    "    print(state)\n",
    "    if state=='G':\n",
    "        break\n",
    "    tmpSt=set(TargetGraph[state]) -set(ClosedList)\n",
    "    activeNodes=list(tmpSt -set(OpenList))    \n",
    "    OpenList=activeNodes+OpenList\n",
    "print('completed') "
   ]
  },
  {
   "cell_type": "code",
   "execution_count": null,
   "id": "6c88a631",
   "metadata": {},
   "outputs": [],
   "source": [
    "OpenList=['S']\n",
    "ClosedList=[]\n",
    "while OpenList:\n",
    "    state=OpenList[0]\n",
    "    del OpenList[0]\n",
    "    ClosedList.append(state)\n",
    "    print(state)\n",
    "    if state=='G':\n",
    "        break\n",
    " #   activeNodes=TargetGraph[state]\n",
    "    activeNodes=[item for item in TargetGraph[state] if item not in ClosedList]\n",
    "    OpenList.insert(0, activeNodes)\n",
    "#    OpenList=[item for i in OpenList for item in i]\n",
    "    OpenList=[item for i in OpenList for item in i if item not in ClosedList]\n",
    "print('completed') "
   ]
  }
 ],
 "metadata": {
  "kernelspec": {
   "display_name": "Python 3 (ipykernel)",
   "language": "python",
   "name": "python3"
  },
  "language_info": {
   "codemirror_mode": {
    "name": "ipython",
    "version": 3
   },
   "file_extension": ".py",
   "mimetype": "text/x-python",
   "name": "python",
   "nbconvert_exporter": "python",
   "pygments_lexer": "ipython3",
   "version": "3.9.16"
  }
 },
 "nbformat": 4,
 "nbformat_minor": 5
}
