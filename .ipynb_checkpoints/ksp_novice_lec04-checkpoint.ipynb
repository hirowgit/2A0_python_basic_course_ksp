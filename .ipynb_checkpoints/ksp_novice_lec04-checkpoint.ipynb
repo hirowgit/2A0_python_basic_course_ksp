{
 "cells": [
  {
   "cell_type": "code",
   "execution_count": 1,
   "id": "843e26ef",
   "metadata": {},
   "outputs": [],
   "source": [
    "## Python basics for novice data scientists, supported by Wagatsuma Lab@Kyutech \n",
    "#\n",
    "# The MIT License (MIT): Copyright (c) 2020 Hiroaki Wagatsuma and Wagatsuma Lab@Kyutech\n",
    "# \n",
    "# Permission is hereby granted, free of charge, to any person obtaining a copy of this software and associated documentation files (the \"Software\"), to deal in the Software without restriction, including without limitation the rights to use, copy, modify, merge, publish, distribute, sublicense, and/or sell copies of the Software, and to permit persons to whom the Software is furnished to do so, subject to the following conditions:\n",
    "# The above copyright notice and this permission notice shall be included in all copies or substantial portions of the Software.\n",
    "# THE SOFTWARE IS PROVIDED \"AS IS\", WITHOUT WARRANTY OF ANY KIND, EXPRESS OR IMPLIED, INCLUDING BUT NOT LIMITED TO THE WARRANTIES OF MERCHANTABILITY, FITNESS FOR A PARTICULAR PURPOSE AND NONINFRINGEMENT. IN NO EVENT SHALL THE AUTHORS OR COPYRIGHT HOLDERS BE LIABLE FOR ANY CLAIM, DAMAGES OR OTHER LIABILITY, WHETHER IN AN ACTION OF CONTRACT, TORT OR OTHERWISE, ARISING FROM, OUT OF OR IN CONNECTION WITH THE SOFTWARE OR THE USE OR OTHER DEALINGS IN THE SOFTWARE. */\n",
    "#\n",
    "# # @Time    : 2023-7-1 \n",
    "# # @Author  : Hiroaki Wagatsuma\n",
    "# # @Site    : https://github.com/hirowgit/2A_python_basic_course\n",
    "# # @IDE     : Python 3.10.9 (main, Dec 15 2022, 18:18:30) [Clang 14.0.0 (clang-1400.0.29.202)] on darwin\n",
    "# # @File    : ksp_novice_lec03.py "
   ]
  },
  {
   "cell_type": "code",
   "execution_count": 1,
   "id": "7a25babd",
   "metadata": {},
   "outputs": [],
   "source": [
    "import numpy as np\n",
    "import numpy.matlib\n",
    "import os\n",
    "import sys\n",
    "import codecs\n",
    "import matplotlib.pyplot as plt\n",
    "import pandas as pd\n",
    "from openpyxl import Workbook\n",
    "import pprint\n",
    "import datetime"
   ]
  },
  {
   "cell_type": "code",
   "execution_count": 3,
   "id": "77a9bfbf",
   "metadata": {},
   "outputs": [],
   "source": [
    "import seaborn as sns "
   ]
  },
  {
   "cell_type": "code",
   "execution_count": 2,
   "id": "680de041",
   "metadata": {},
   "outputs": [],
   "source": [
    "import plotly.offline\n",
    "import plotly.express as px\n",
    "import plotly.graph_objects as go\n",
    "import plotly.subplots\n",
    "import squarify"
   ]
  },
  {
   "cell_type": "code",
   "execution_count": 23,
   "id": "516e10da",
   "metadata": {},
   "outputs": [
    {
     "data": {
      "text/plain": [
       "(2, 5, 4, -5)"
      ]
     },
     "execution_count": 23,
     "metadata": {},
     "output_type": "execute_result"
    }
   ],
   "source": [
    "1+1,  2+3,  6-2,  4-9"
   ]
  },
  {
   "cell_type": "code",
   "execution_count": 7,
   "id": "8854f98a",
   "metadata": {},
   "outputs": [
    {
     "ename": "NameError",
     "evalue": "name 'a' is not defined",
     "output_type": "error",
     "traceback": [
      "\u001b[0;31m---------------------------------------------------------------------------\u001b[0m",
      "\u001b[0;31mNameError\u001b[0m                                 Traceback (most recent call last)",
      "\u001b[0;32m/var/folders/mg/w5t8lkhc8xj79f001s7kzpfh0000gp/T/ipykernel_34130/2305151036.py\u001b[0m in \u001b[0;36m<module>\u001b[0;34m\u001b[0m\n\u001b[0;32m----> 1\u001b[0;31m \u001b[0ma\u001b[0m\u001b[0;34m+\u001b[0m\u001b[0;36m1\u001b[0m\u001b[0;34m,\u001b[0m\u001b[0;36m2\u001b[0m\u001b[0;34m+\u001b[0m\u001b[0mb\u001b[0m\u001b[0;34m\u001b[0m\u001b[0;34m\u001b[0m\u001b[0m\n\u001b[0m",
      "\u001b[0;31mNameError\u001b[0m: name 'a' is not defined"
     ]
    }
   ],
   "source": [
    "a+1,2+b"
   ]
  },
  {
   "cell_type": "code",
   "execution_count": 9,
   "id": "04965d05",
   "metadata": {
    "scrolled": true
   },
   "outputs": [
    {
     "data": {
      "text/plain": [
       "2"
      ]
     },
     "execution_count": 9,
     "metadata": {},
     "output_type": "execute_result"
    }
   ],
   "source": [
    "a=1\n",
    "a+1"
   ]
  },
  {
   "cell_type": "code",
   "execution_count": 10,
   "id": "82b09a67",
   "metadata": {},
   "outputs": [
    {
     "data": {
      "text/plain": [
       "5"
      ]
     },
     "execution_count": 10,
     "metadata": {},
     "output_type": "execute_result"
    }
   ],
   "source": [
    "b=3\n",
    "2+b"
   ]
  },
  {
   "cell_type": "code",
   "execution_count": 19,
   "id": "c1298d2e",
   "metadata": {},
   "outputs": [
    {
     "ename": "SyntaxError",
     "evalue": "cannot assign to operator (3779995746.py, line 2)",
     "output_type": "error",
     "traceback": [
      "\u001b[0;36m  File \u001b[0;32m\"/var/folders/mg/w5t8lkhc8xj79f001s7kzpfh0000gp/T/ipykernel_34130/3779995746.py\"\u001b[0;36m, line \u001b[0;32m2\u001b[0m\n\u001b[0;31m    6-2=c\u001b[0m\n\u001b[0m    ^\u001b[0m\n\u001b[0;31mSyntaxError\u001b[0m\u001b[0;31m:\u001b[0m cannot assign to operator\n"
     ]
    }
   ],
   "source": [
    "c=4\n",
    "6-2=c"
   ]
  },
  {
   "cell_type": "code",
   "execution_count": 20,
   "id": "09afc619",
   "metadata": {},
   "outputs": [
    {
     "data": {
      "text/plain": [
       "True"
      ]
     },
     "execution_count": 20,
     "metadata": {},
     "output_type": "execute_result"
    }
   ],
   "source": [
    "c=4\n",
    "6-2==c"
   ]
  },
  {
   "cell_type": "code",
   "execution_count": 22,
   "id": "0ec75bec",
   "metadata": {},
   "outputs": [
    {
     "data": {
      "text/plain": [
       "False"
      ]
     },
     "execution_count": 22,
     "metadata": {},
     "output_type": "execute_result"
    }
   ],
   "source": [
    "d=5\n",
    "4-9==d"
   ]
  },
  {
   "cell_type": "code",
   "execution_count": 25,
   "id": "da22cc86",
   "metadata": {},
   "outputs": [
    {
     "data": {
      "text/plain": [
       "True"
      ]
     },
     "execution_count": 25,
     "metadata": {},
     "output_type": "execute_result"
    }
   ],
   "source": [
    "d=5\n",
    "4-9!=d"
   ]
  },
  {
   "cell_type": "code",
   "execution_count": 24,
   "id": "982430e5",
   "metadata": {},
   "outputs": [
    {
     "ename": "NameError",
     "evalue": "name 'e' is not defined",
     "output_type": "error",
     "traceback": [
      "\u001b[0;31m---------------------------------------------------------------------------\u001b[0m",
      "\u001b[0;31mNameError\u001b[0m                                 Traceback (most recent call last)",
      "\u001b[0;32m/var/folders/mg/w5t8lkhc8xj79f001s7kzpfh0000gp/T/ipykernel_34130/2740565805.py\u001b[0m in \u001b[0;36m<module>\u001b[0;34m\u001b[0m\n\u001b[0;32m----> 1\u001b[0;31m \u001b[0me\u001b[0m\u001b[0;34m\u001b[0m\u001b[0;34m\u001b[0m\u001b[0m\n\u001b[0m",
      "\u001b[0;31mNameError\u001b[0m: name 'e' is not defined"
     ]
    }
   ],
   "source": [
    "e"
   ]
  },
  {
   "cell_type": "code",
   "execution_count": 26,
   "id": "a5e81e03",
   "metadata": {},
   "outputs": [
    {
     "data": {
      "text/plain": [
       "['a', 'b', 'c', 'd', 'e', 'f', 'g', 'h', 'i', 'j']"
      ]
     },
     "execution_count": 26,
     "metadata": {},
     "output_type": "execute_result"
    }
   ],
   "source": [
    "['a', 'b', 'c', 'd', 'e', 'f', 'g', 'h', 'i', 'j']"
   ]
  },
  {
   "cell_type": "code",
   "execution_count": 33,
   "id": "263f5595",
   "metadata": {},
   "outputs": [
    {
     "data": {
      "text/plain": [
       "[97, 98, 99, 100, 101, 102, 103, 104, 105, 106]"
      ]
     },
     "execution_count": 33,
     "metadata": {},
     "output_type": "execute_result"
    }
   ],
   "source": [
    "ss=['a', 'b', 'c', 'd', 'e', 'f', 'g', 'h', 'i', 'j']\n",
    "list(map(ord,ss))"
   ]
  },
  {
   "cell_type": "code",
   "execution_count": 38,
   "id": "e08d02fc",
   "metadata": {},
   "outputs": [
    {
     "data": {
      "text/plain": [
       "[1.0, 2.0, 3.0, 4.0, 5.0, 6.0, 7.0, 8.0, 9.0, 10.0]"
      ]
     },
     "execution_count": 38,
     "metadata": {},
     "output_type": "execute_result"
    }
   ],
   "source": [
    "nn=[1,2,3,4,5,6,7,8,9,10]\n",
    "list(map(float,nn))"
   ]
  },
  {
   "cell_type": "code",
   "execution_count": 39,
   "id": "2f7da840",
   "metadata": {},
   "outputs": [
    {
     "data": {
      "text/plain": [
       "10.0"
      ]
     },
     "execution_count": 39,
     "metadata": {},
     "output_type": "execute_result"
    }
   ],
   "source": [
    "float(10)"
   ]
  },
  {
   "cell_type": "code",
   "execution_count": 41,
   "id": "dbbdd283",
   "metadata": {},
   "outputs": [
    {
     "data": {
      "text/plain": [
       "[1.0, 2.0, 3.0]"
      ]
     },
     "execution_count": 41,
     "metadata": {},
     "output_type": "execute_result"
    }
   ],
   "source": [
    "list(map(float,[1,2,3]))"
   ]
  },
  {
   "cell_type": "code",
   "execution_count": 44,
   "id": "cd346089",
   "metadata": {},
   "outputs": [
    {
     "data": {
      "text/plain": [
       "97"
      ]
     },
     "execution_count": 44,
     "metadata": {},
     "output_type": "execute_result"
    }
   ],
   "source": [
    "ord('a')"
   ]
  },
  {
   "cell_type": "code",
   "execution_count": 42,
   "id": "ee923127",
   "metadata": {},
   "outputs": [
    {
     "data": {
      "text/plain": [
       "[97, 98, 99]"
      ]
     },
     "execution_count": 42,
     "metadata": {},
     "output_type": "execute_result"
    }
   ],
   "source": [
    "list(map(ord,['a', 'b', 'c']))"
   ]
  },
  {
   "cell_type": "code",
   "execution_count": 45,
   "id": "abc450ee",
   "metadata": {},
   "outputs": [
    {
     "data": {
      "text/plain": [
       "<map at 0x150e124c0>"
      ]
     },
     "execution_count": 45,
     "metadata": {},
     "output_type": "execute_result"
    }
   ],
   "source": [
    "map(ord,['a', 'b', 'c'])"
   ]
  },
  {
   "cell_type": "code",
   "execution_count": 48,
   "id": "bac5e751",
   "metadata": {},
   "outputs": [
    {
     "data": {
      "text/plain": [
       "range(0, 10)"
      ]
     },
     "execution_count": 48,
     "metadata": {},
     "output_type": "execute_result"
    }
   ],
   "source": [
    "range(10)"
   ]
  },
  {
   "cell_type": "code",
   "execution_count": 43,
   "id": "ad18c4f7",
   "metadata": {},
   "outputs": [
    {
     "data": {
      "text/plain": [
       "[2, 3, 4]"
      ]
     },
     "execution_count": 43,
     "metadata": {},
     "output_type": "execute_result"
    }
   ],
   "source": [
    "f = lambda n: n+1\n",
    "list(map(f,[1,2,3]))"
   ]
  },
  {
   "cell_type": "code",
   "execution_count": 49,
   "id": "cc56ca81",
   "metadata": {},
   "outputs": [
    {
     "data": {
      "text/plain": [
       "[1, 2, 3, 4, 5, 6]"
      ]
     },
     "execution_count": 49,
     "metadata": {},
     "output_type": "execute_result"
    }
   ],
   "source": [
    "[1,2,3]+[4,5,6]"
   ]
  },
  {
   "cell_type": "code",
   "execution_count": 62,
   "id": "4ea323a3",
   "metadata": {},
   "outputs": [
    {
     "data": {
      "text/plain": [
       "['a', 'b', 'c', 'd', 'e', 'f']"
      ]
     },
     "execution_count": 62,
     "metadata": {},
     "output_type": "execute_result"
    }
   ],
   "source": [
    "['a', 'b', 'c']+['d', 'e', 'f']"
   ]
  },
  {
   "cell_type": "code",
   "execution_count": 108,
   "id": "0f73f743",
   "metadata": {},
   "outputs": [
    {
     "name": "stdout",
     "output_type": "stream",
     "text": [
      "[5, 3, 2, 1]\n",
      "[1, 2, 3, 5]\n"
     ]
    }
   ],
   "source": [
    "aa=[1,2,5,3]\n",
    "print(aa)\n",
    "\n",
    "aa.sort(reverse=True)\n",
    "print(aa)\n",
    "\n",
    "aa.sort()\n",
    "print(aa)"
   ]
  },
  {
   "cell_type": "code",
   "execution_count": 54,
   "id": "d7517d50",
   "metadata": {},
   "outputs": [
    {
     "data": {
      "text/plain": [
       "[3, 2, 1]"
      ]
     },
     "execution_count": 54,
     "metadata": {},
     "output_type": "execute_result"
    }
   ],
   "source": [
    "sorted([1,2,3],reverse=True)"
   ]
  },
  {
   "cell_type": "code",
   "execution_count": 66,
   "id": "a231e4b5",
   "metadata": {},
   "outputs": [
    {
     "name": "stdout",
     "output_type": "stream",
     "text": [
      "[1, 2, 3]\n",
      "[1, 2, 3, 1]\n",
      "[1, 2, 3, 1, [1, 2, 3]]\n"
     ]
    }
   ],
   "source": [
    "aa=[1,2,3]\n",
    "print(aa)\n",
    "\n",
    "aa.append(1)\n",
    "print(aa)\n",
    "\n",
    "aa.append([1,2,3])\n",
    "print(aa)"
   ]
  },
  {
   "cell_type": "code",
   "execution_count": 67,
   "id": "c39b0ad1",
   "metadata": {},
   "outputs": [
    {
     "name": "stdout",
     "output_type": "stream",
     "text": [
      "[1, 2, 3]\n",
      "[1, 2, 3, 1]\n",
      "[1, 2, 3, 1, [1, 2, 3]]\n"
     ]
    }
   ],
   "source": [
    "aa=[1,2,3]\n",
    "print(aa)\n",
    "\n",
    "aa.append(1)\n",
    "print(aa)\n",
    "\n",
    "aa.append([1,2,3])\n",
    "print(aa)"
   ]
  },
  {
   "cell_type": "code",
   "execution_count": 68,
   "id": "e25410bb",
   "metadata": {},
   "outputs": [
    {
     "name": "stdout",
     "output_type": "stream",
     "text": [
      "[1, 2, 3]\n",
      "[1, 2, 3, 1]\n",
      "[1, 2, 3, 1, 1, 2, 3]\n"
     ]
    }
   ],
   "source": [
    "aa=[1,2,3]\n",
    "print(aa)\n",
    "\n",
    "aa.append(1)\n",
    "print(aa)\n",
    "\n",
    "aa.extend([1,2,3])\n",
    "print(aa)"
   ]
  },
  {
   "cell_type": "code",
   "execution_count": 69,
   "id": "92ac3e28",
   "metadata": {},
   "outputs": [
    {
     "name": "stdout",
     "output_type": "stream",
     "text": [
      "[1, 2, 3]\n",
      "[1, 2, 5, 3]\n",
      "[1, 10, 2, 5, 3]\n"
     ]
    }
   ],
   "source": [
    "aa=[1,2,3]\n",
    "print(aa)\n",
    "\n",
    "aa.insert(2,5)\n",
    "print(aa)\n",
    "\n",
    "aa.insert(1,10)\n",
    "print(aa)"
   ]
  },
  {
   "cell_type": "code",
   "execution_count": 70,
   "id": "79bb2dc3",
   "metadata": {},
   "outputs": [
    {
     "name": "stdout",
     "output_type": "stream",
     "text": [
      "[1, 2, 3, 10, 9, 8]\n",
      "[8, 9, 10, 3, 2, 1]\n"
     ]
    }
   ],
   "source": [
    "aa=[1,2,3,10,9,8]\n",
    "print(aa)\n",
    "\n",
    "aa.reverse()\n",
    "print(aa)"
   ]
  },
  {
   "cell_type": "code",
   "execution_count": 71,
   "id": "3d6a98a5",
   "metadata": {},
   "outputs": [
    {
     "name": "stdout",
     "output_type": "stream",
     "text": [
      "[[1, 2, 3], [8, 9, 10], [4, 5, 6]]\n",
      "[[1, 2, 3], [4, 5, 6], [8, 9, 10]]\n"
     ]
    }
   ],
   "source": [
    "aa = [[1,2,3],[8,9,10],[4,5,6]]\n",
    "print(aa)\n",
    "\n",
    "aa.sort(key=lambda x:x[0]) \n",
    "print(aa)"
   ]
  },
  {
   "cell_type": "code",
   "execution_count": 100,
   "id": "547d3e9e",
   "metadata": {},
   "outputs": [
    {
     "data": {
      "text/plain": [
       "{'Name': 'Sam', 'Age': 35, 'Height': 170, 'Weight': 80}"
      ]
     },
     "execution_count": 100,
     "metadata": {},
     "output_type": "execute_result"
    }
   ],
   "source": [
    "dictS={'Name': 'Sam', 'Age': 35,  'Height': 170, 'Weight': 80}\n",
    "dictS"
   ]
  },
  {
   "cell_type": "code",
   "execution_count": 101,
   "id": "14b57a06",
   "metadata": {},
   "outputs": [
    {
     "data": {
      "text/plain": [
       "dict_keys(['Name', 'Age', 'Height', 'Weight'])"
      ]
     },
     "execution_count": 101,
     "metadata": {},
     "output_type": "execute_result"
    }
   ],
   "source": [
    "dictS.keys()"
   ]
  },
  {
   "cell_type": "code",
   "execution_count": 102,
   "id": "82ef8bfe",
   "metadata": {},
   "outputs": [
    {
     "data": {
      "text/plain": [
       "dict_values(['Sam', 35, 170, 80])"
      ]
     },
     "execution_count": 102,
     "metadata": {},
     "output_type": "execute_result"
    }
   ],
   "source": [
    "dictS.values()"
   ]
  },
  {
   "cell_type": "code",
   "execution_count": 103,
   "id": "e9390cd9",
   "metadata": {},
   "outputs": [
    {
     "data": {
      "text/plain": [
       "dict_items([('Name', 'Sam'), ('Age', 35), ('Height', 170), ('Weight', 80)])"
      ]
     },
     "execution_count": 103,
     "metadata": {},
     "output_type": "execute_result"
    }
   ],
   "source": [
    "dictS.items()"
   ]
  },
  {
   "cell_type": "code",
   "execution_count": 104,
   "id": "92803f62",
   "metadata": {},
   "outputs": [
    {
     "data": {
      "text/plain": [
       "[('Name', 'Sam'), ('Age', 35), ('Height', 170), ('Weight', 80)]"
      ]
     },
     "execution_count": 104,
     "metadata": {},
     "output_type": "execute_result"
    }
   ],
   "source": [
    "s2=[s for s in dictS.items()]"
   ]
  },
  {
   "cell_type": "code",
   "execution_count": 107,
   "id": "1b64a7e6",
   "metadata": {},
   "outputs": [
    {
     "data": {
      "text/plain": [
       "[('Name', 'Sam'), ('Age', 35), ('Height', 170), ('Weight', 80)]"
      ]
     },
     "execution_count": 107,
     "metadata": {},
     "output_type": "execute_result"
    }
   ],
   "source": [
    "s2=[]\n",
    "for s in dictS.items():\n",
    "    s2=s2+[s]\n",
    "s2"
   ]
  },
  {
   "cell_type": "code",
   "execution_count": 98,
   "id": "276ffa6a",
   "metadata": {},
   "outputs": [
    {
     "data": {
      "text/plain": [
       "[{'Name': 'James', 'Height': 170, 'Weight': 65},\n",
       " {'Name': 'Angie', 'Height': 165, 'Weight': 80},\n",
       " {'Name': 'Willer', 'Height': 169, 'Weight': 101}]"
      ]
     },
     "execution_count": 98,
     "metadata": {},
     "output_type": "execute_result"
    }
   ],
   "source": [
    "dictData = [{'Name': 'James', 'Height': 170, 'Weight': 65},\n",
    "    {'Name': 'Angie', 'Height': 165, 'Weight': 80},\n",
    "    {'Name': 'Willer', 'Height': 169, 'Weight': 101},]\n",
    "\n",
    "dictData"
   ]
  },
  {
   "cell_type": "code",
   "execution_count": 87,
   "id": "8ffbcf01",
   "metadata": {},
   "outputs": [
    {
     "data": {
      "text/plain": [
       "{'Name': 'James', 'Height': 35, 'Weight': 65}"
      ]
     },
     "execution_count": 87,
     "metadata": {},
     "output_type": "execute_result"
    }
   ],
   "source": [
    "dictData[0]"
   ]
  },
  {
   "cell_type": "code",
   "execution_count": 88,
   "id": "99038e71",
   "metadata": {},
   "outputs": [
    {
     "data": {
      "text/plain": [
       "'James'"
      ]
     },
     "execution_count": 88,
     "metadata": {},
     "output_type": "execute_result"
    }
   ],
   "source": [
    "dictData[0]['Name']"
   ]
  },
  {
   "cell_type": "code",
   "execution_count": 96,
   "id": "fc7282b6",
   "metadata": {},
   "outputs": [
    {
     "data": {
      "text/plain": [
       "dict_keys(['Name', 'Height', 'Weight'])"
      ]
     },
     "execution_count": 96,
     "metadata": {},
     "output_type": "execute_result"
    }
   ],
   "source": [
    "dictData[0].keys()"
   ]
  },
  {
   "cell_type": "code",
   "execution_count": 82,
   "id": "0bface78",
   "metadata": {},
   "outputs": [
    {
     "data": {
      "text/plain": [
       "[{'Name': 'Angie', 'Height': 23, 'Weight': 80},\n",
       " {'Name': 'James', 'Height': 35, 'Weight': 65},\n",
       " {'Name': 'Willer', 'Height': 42, 'Weight': 101}]"
      ]
     },
     "execution_count": 82,
     "metadata": {},
     "output_type": "execute_result"
    }
   ],
   "source": [
    "sorted(dictData, key=lambda x: x['Height'])"
   ]
  },
  {
   "cell_type": "code",
   "execution_count": 81,
   "id": "3552ccdf",
   "metadata": {},
   "outputs": [
    {
     "data": {
      "text/plain": [
       "[{'Name': 'Willer', 'Height': 42, 'Weight': 101},\n",
       " {'Name': 'Angie', 'Height': 23, 'Weight': 80},\n",
       " {'Name': 'James', 'Height': 35, 'Weight': 65}]"
      ]
     },
     "execution_count": 81,
     "metadata": {},
     "output_type": "execute_result"
    }
   ],
   "source": [
    "sorted(dictData, key=lambda x: x['Weight'], reverse=True)"
   ]
  },
  {
   "cell_type": "markdown",
   "id": "2e5d1561",
   "metadata": {},
   "source": [
    "## Example 1"
   ]
  },
  {
   "cell_type": "code",
   "execution_count": 22,
   "id": "ce9a8cf8",
   "metadata": {},
   "outputs": [],
   "source": [
    "fpath = os.path.join('dataK', '401005_jyohokaanketochousahokoku_2019.csv')\n",
    "df_utf=pd.read_csv(fpath,encoding='utf8')"
   ]
  },
  {
   "cell_type": "code",
   "execution_count": 23,
   "id": "ee2ff27e",
   "metadata": {},
   "outputs": [
    {
     "data": {
      "text/html": [
       "<div>\n",
       "<style scoped>\n",
       "    .dataframe tbody tr th:only-of-type {\n",
       "        vertical-align: middle;\n",
       "    }\n",
       "\n",
       "    .dataframe tbody tr th {\n",
       "        vertical-align: top;\n",
       "    }\n",
       "\n",
       "    .dataframe thead th {\n",
       "        text-align: right;\n",
       "    }\n",
       "</style>\n",
       "<table border=\"1\" class=\"dataframe\">\n",
       "  <thead>\n",
       "    <tr style=\"text-align: right;\">\n",
       "      <th></th>\n",
       "      <th>Attribute</th>\n",
       "      <th>19歳以下</th>\n",
       "      <th>20歳代</th>\n",
       "      <th>30歳代</th>\n",
       "      <th>40歳代</th>\n",
       "      <th>50歳代</th>\n",
       "      <th>60歲代</th>\n",
       "      <th>70歲以上</th>\n",
       "    </tr>\n",
       "  </thead>\n",
       "  <tbody>\n",
       "    <tr>\n",
       "      <th>0</th>\n",
       "      <td>1ヶ月に5時間未満(1日10分未満)</td>\n",
       "      <td>0</td>\n",
       "      <td>0.9</td>\n",
       "      <td>5.5</td>\n",
       "      <td>5.7</td>\n",
       "      <td>11.0</td>\n",
       "      <td>22.1</td>\n",
       "      <td>26.1</td>\n",
       "    </tr>\n",
       "    <tr>\n",
       "      <th>1</th>\n",
       "      <td>1ヶ月に5時間以上15時間未満(1日10分~30分程度)</td>\n",
       "      <td>0</td>\n",
       "      <td>4.7</td>\n",
       "      <td>7.3</td>\n",
       "      <td>13.7</td>\n",
       "      <td>19.6</td>\n",
       "      <td>21.5</td>\n",
       "      <td>24.5</td>\n",
       "    </tr>\n",
       "    <tr>\n",
       "      <th>2</th>\n",
       "      <td>1ヶ月に15時間以上30時間未満(1日30分~60分程度)</td>\n",
       "      <td>5</td>\n",
       "      <td>7.5</td>\n",
       "      <td>18.2</td>\n",
       "      <td>14.5</td>\n",
       "      <td>20.1</td>\n",
       "      <td>16.4</td>\n",
       "      <td>17.9</td>\n",
       "    </tr>\n",
       "    <tr>\n",
       "      <th>3</th>\n",
       "      <td>1ヶ月に30時間以上60時間未満(1日1~2時間程度)</td>\n",
       "      <td>25</td>\n",
       "      <td>24.5</td>\n",
       "      <td>32.7</td>\n",
       "      <td>35.7</td>\n",
       "      <td>23.9</td>\n",
       "      <td>18.1</td>\n",
       "      <td>20.2</td>\n",
       "    </tr>\n",
       "    <tr>\n",
       "      <th>4</th>\n",
       "      <td>1ヶ月に60時間以上(1日2時間以上)</td>\n",
       "      <td>70</td>\n",
       "      <td>62.3</td>\n",
       "      <td>36.4</td>\n",
       "      <td>30.4</td>\n",
       "      <td>25.4</td>\n",
       "      <td>19.6</td>\n",
       "      <td>10.7</td>\n",
       "    </tr>\n",
       "    <tr>\n",
       "      <th>5</th>\n",
       "      <td>無回答</td>\n",
       "      <td>0</td>\n",
       "      <td>0.0</td>\n",
       "      <td>0.0</td>\n",
       "      <td>0.0</td>\n",
       "      <td>0.0</td>\n",
       "      <td>2.3</td>\n",
       "      <td>0.6</td>\n",
       "    </tr>\n",
       "  </tbody>\n",
       "</table>\n",
       "</div>"
      ],
      "text/plain": [
       "                       Attribute  19歳以下  20歳代  30歳代  40歳代  50歳代  60歲代  70歲以上\n",
       "0             1ヶ月に5時間未満(1日10分未満)      0   0.9   5.5   5.7  11.0  22.1   26.1\n",
       "1   1ヶ月に5時間以上15時間未満(1日10分~30分程度)      0   4.7   7.3  13.7  19.6  21.5   24.5\n",
       "2  1ヶ月に15時間以上30時間未満(1日30分~60分程度)      5   7.5  18.2  14.5  20.1  16.4   17.9\n",
       "3    1ヶ月に30時間以上60時間未満(1日1~2時間程度)     25  24.5  32.7  35.7  23.9  18.1   20.2\n",
       "4            1ヶ月に60時間以上(1日2時間以上)     70  62.3  36.4  30.4  25.4  19.6   10.7\n",
       "5                            無回答      0   0.0   0.0   0.0   0.0   2.3    0.6"
      ]
     },
     "metadata": {},
     "output_type": "display_data"
    }
   ],
   "source": [
    "display(df_utf)"
   ]
  },
  {
   "cell_type": "code",
   "execution_count": 24,
   "id": "6640d3a8",
   "metadata": {},
   "outputs": [
    {
     "data": {
      "text/plain": [
       "['1ヶ月に5時間未満(1日10分未満)',\n",
       " '1ヶ月に5時間以上15時間未満(1日10分~30分程度)',\n",
       " '1ヶ月に15時間以上30時間未満(1日30分~60分程度)',\n",
       " '1ヶ月に30時間以上60時間未満(1日1~2時間程度)',\n",
       " '1ヶ月に60時間以上(1日2時間以上)',\n",
       " '無回答']"
      ]
     },
     "metadata": {},
     "output_type": "display_data"
    },
    {
     "data": {
      "text/plain": [
       "[0, 0, 5, 25, 70, 0]"
      ]
     },
     "metadata": {},
     "output_type": "display_data"
    }
   ],
   "source": [
    "label_list=list(df_utf.iloc[:,0])\n",
    "value_list=list(df_utf.iloc[:,1])\n",
    "display(label_list)\n",
    "display(value_list)"
   ]
  },
  {
   "cell_type": "code",
   "execution_count": 25,
   "id": "cca5ec18",
   "metadata": {},
   "outputs": [
    {
     "data": {
      "text/plain": [
       "[{'label': '1ヶ月に5時間未満(1日10分未満)', 'value': 0},\n",
       " {'label': '1ヶ月に5時間以上15時間未満(1日10分~30分程度)', 'value': 0},\n",
       " {'label': '1ヶ月に15時間以上30時間未満(1日30分~60分程度)', 'value': 5},\n",
       " {'label': '1ヶ月に30時間以上60時間未満(1日1~2時間程度)', 'value': 25},\n",
       " {'label': '1ヶ月に60時間以上(1日2時間以上)', 'value': 70},\n",
       " {'label': '無回答', 'value': 0}]"
      ]
     },
     "metadata": {},
     "output_type": "display_data"
    }
   ],
   "source": [
    "#データ定義\n",
    "data=[{'label':k,'value':v} for k,v in zip(label_list,value_list)]\n",
    "display(data)"
   ]
  },
  {
   "cell_type": "markdown",
   "id": "8ea1eda5",
   "metadata": {},
   "source": [
    "## Example 2"
   ]
  },
  {
   "cell_type": "code",
   "execution_count": 26,
   "id": "b2c2cfa8",
   "metadata": {},
   "outputs": [
    {
     "data": {
      "text/plain": [
       "[{'label': '1ヶ月に5時間未満(1日10分未満)', 'value': 0},\n",
       " {'label': '1ヶ月に5時間以上15時間未満(1日10分~30分程度)', 'value': 0},\n",
       " {'label': '1ヶ月に15時間以上30時間未満(1日30分~60分程度)', 'value': 5},\n",
       " {'label': '1ヶ月に30時間以上60時間未満(1日1~2時間程度)', 'value': 25},\n",
       " {'label': '1ヶ月に60時間以上(1日2時間以上)', 'value': 70},\n",
       " {'label': '無回答', 'value': 0}]"
      ]
     },
     "execution_count": 26,
     "metadata": {},
     "output_type": "execute_result"
    }
   ],
   "source": [
    "data"
   ]
  },
  {
   "cell_type": "code",
   "execution_count": 27,
   "id": "72823502",
   "metadata": {},
   "outputs": [
    {
     "data": {
      "text/plain": [
       "['1ヶ月に5時間未満(1日10分未満)',\n",
       " '1ヶ月に5時間以上15時間未満(1日10分~30分程度)',\n",
       " '1ヶ月に15時間以上30時間未満(1日30分~60分程度)',\n",
       " '1ヶ月に30時間以上60時間未満(1日1~2時間程度)',\n",
       " '1ヶ月に60時間以上(1日2時間以上)',\n",
       " '無回答']"
      ]
     },
     "execution_count": 27,
     "metadata": {},
     "output_type": "execute_result"
    }
   ],
   "source": [
    "[record['label'] for record in data]"
   ]
  },
  {
   "cell_type": "code",
   "execution_count": 28,
   "id": "6b9ccdec",
   "metadata": {},
   "outputs": [
    {
     "data": {
      "text/html": [
       "<div>\n",
       "<style scoped>\n",
       "    .dataframe tbody tr th:only-of-type {\n",
       "        vertical-align: middle;\n",
       "    }\n",
       "\n",
       "    .dataframe tbody tr th {\n",
       "        vertical-align: top;\n",
       "    }\n",
       "\n",
       "    .dataframe thead th {\n",
       "        text-align: right;\n",
       "    }\n",
       "</style>\n",
       "<table border=\"1\" class=\"dataframe\">\n",
       "  <thead>\n",
       "    <tr style=\"text-align: right;\">\n",
       "      <th></th>\n",
       "      <th>label</th>\n",
       "      <th>value</th>\n",
       "    </tr>\n",
       "  </thead>\n",
       "  <tbody>\n",
       "    <tr>\n",
       "      <th>0</th>\n",
       "      <td>1ヶ月に5時間未満(1日10分未満)</td>\n",
       "      <td>0</td>\n",
       "    </tr>\n",
       "    <tr>\n",
       "      <th>1</th>\n",
       "      <td>1ヶ月に5時間以上15時間未満(1日10分~30分程度)</td>\n",
       "      <td>0</td>\n",
       "    </tr>\n",
       "    <tr>\n",
       "      <th>2</th>\n",
       "      <td>1ヶ月に15時間以上30時間未満(1日30分~60分程度)</td>\n",
       "      <td>5</td>\n",
       "    </tr>\n",
       "    <tr>\n",
       "      <th>3</th>\n",
       "      <td>1ヶ月に30時間以上60時間未満(1日1~2時間程度)</td>\n",
       "      <td>25</td>\n",
       "    </tr>\n",
       "    <tr>\n",
       "      <th>4</th>\n",
       "      <td>1ヶ月に60時間以上(1日2時間以上)</td>\n",
       "      <td>70</td>\n",
       "    </tr>\n",
       "    <tr>\n",
       "      <th>5</th>\n",
       "      <td>無回答</td>\n",
       "      <td>0</td>\n",
       "    </tr>\n",
       "  </tbody>\n",
       "</table>\n",
       "</div>"
      ],
      "text/plain": [
       "                           label  value\n",
       "0             1ヶ月に5時間未満(1日10分未満)      0\n",
       "1   1ヶ月に5時間以上15時間未満(1日10分~30分程度)      0\n",
       "2  1ヶ月に15時間以上30時間未満(1日30分~60分程度)      5\n",
       "3    1ヶ月に30時間以上60時間未満(1日1~2時間程度)     25\n",
       "4            1ヶ月に60時間以上(1日2時間以上)     70\n",
       "5                            無回答      0"
      ]
     },
     "metadata": {},
     "output_type": "display_data"
    }
   ],
   "source": [
    "df_graph=pd.DataFrame({'label':label_list,'value':value_list})\n",
    "display(df_graph)"
   ]
  },
  {
   "cell_type": "code",
   "execution_count": 29,
   "id": "458f3a18",
   "metadata": {},
   "outputs": [
    {
     "data": {
      "text/html": [
       "<div>\n",
       "<style scoped>\n",
       "    .dataframe tbody tr th:only-of-type {\n",
       "        vertical-align: middle;\n",
       "    }\n",
       "\n",
       "    .dataframe tbody tr th {\n",
       "        vertical-align: top;\n",
       "    }\n",
       "\n",
       "    .dataframe thead th {\n",
       "        text-align: right;\n",
       "    }\n",
       "</style>\n",
       "<table border=\"1\" class=\"dataframe\">\n",
       "  <thead>\n",
       "    <tr style=\"text-align: right;\">\n",
       "      <th></th>\n",
       "      <th>label</th>\n",
       "      <th>value</th>\n",
       "    </tr>\n",
       "  </thead>\n",
       "  <tbody>\n",
       "    <tr>\n",
       "      <th>0</th>\n",
       "      <td>1ヶ月に5時間未満(1日10分未満)</td>\n",
       "      <td>0</td>\n",
       "    </tr>\n",
       "    <tr>\n",
       "      <th>1</th>\n",
       "      <td>1ヶ月に5時間以上15時間未満(1日10分~30分程度)</td>\n",
       "      <td>0</td>\n",
       "    </tr>\n",
       "    <tr>\n",
       "      <th>2</th>\n",
       "      <td>1ヶ月に15時間以上30時間未満(1日30分~60分程度)</td>\n",
       "      <td>5</td>\n",
       "    </tr>\n",
       "    <tr>\n",
       "      <th>3</th>\n",
       "      <td>1ヶ月に30時間以上60時間未満(1日1~2時間程度)</td>\n",
       "      <td>25</td>\n",
       "    </tr>\n",
       "    <tr>\n",
       "      <th>4</th>\n",
       "      <td>1ヶ月に60時間以上(1日2時間以上)</td>\n",
       "      <td>70</td>\n",
       "    </tr>\n",
       "    <tr>\n",
       "      <th>5</th>\n",
       "      <td>無回答</td>\n",
       "      <td>0</td>\n",
       "    </tr>\n",
       "  </tbody>\n",
       "</table>\n",
       "</div>"
      ],
      "text/plain": [
       "                           label  value\n",
       "0             1ヶ月に5時間未満(1日10分未満)      0\n",
       "1   1ヶ月に5時間以上15時間未満(1日10分~30分程度)      0\n",
       "2  1ヶ月に15時間以上30時間未満(1日30分~60分程度)      5\n",
       "3    1ヶ月に30時間以上60時間未満(1日1~2時間程度)     25\n",
       "4            1ヶ月に60時間以上(1日2時間以上)     70\n",
       "5                            無回答      0"
      ]
     },
     "metadata": {},
     "output_type": "display_data"
    }
   ],
   "source": [
    "df_graph=pd.DataFrame({'label':[record['label'] for record in data],'value':[record['value'] for record in data]})\n",
    "display(df_graph)"
   ]
  },
  {
   "cell_type": "code",
   "execution_count": 30,
   "id": "fd579581",
   "metadata": {},
   "outputs": [
    {
     "name": "stderr",
     "output_type": "stream",
     "text": [
      "/usr/local/lib/python3.9/site-packages/plotly/express/_core.py:271: FutureWarning:\n",
      "\n",
      "The frame.append method is deprecated and will be removed from pandas in a future version. Use pandas.concat instead.\n",
      "\n"
     ]
    },
    {
     "data": {
      "application/vnd.plotly.v1+json": {
       "config": {
        "plotlyServerURL": "https://plot.ly"
       },
       "data": [
        {
         "fill": "toself",
         "hovertemplate": "value=%{r}<br>label=%{theta}<extra></extra>",
         "legendgroup": "",
         "line": {
          "color": "#636efa",
          "dash": "solid"
         },
         "marker": {
          "symbol": "circle"
         },
         "mode": "lines",
         "name": "",
         "r": [
          0,
          0,
          5,
          25,
          70,
          0,
          0
         ],
         "showlegend": false,
         "subplot": "polar",
         "theta": [
          "1ヶ月に5時間未満(1日10分未満)",
          "1ヶ月に5時間以上15時間未満(1日10分~30分程度)",
          "1ヶ月に15時間以上30時間未満(1日30分~60分程度)",
          "1ヶ月に30時間以上60時間未満(1日1~2時間程度)",
          "1ヶ月に60時間以上(1日2時間以上)",
          "無回答",
          "1ヶ月に5時間未満(1日10分未満)"
         ],
         "type": "scatterpolar"
        }
       ],
       "layout": {
        "legend": {
         "tracegroupgap": 0
        },
        "margin": {
         "t": 60
        },
        "polar": {
         "angularaxis": {
          "direction": "clockwise",
          "rotation": 90
         },
         "domain": {
          "x": [
           0,
           1
          ],
          "y": [
           0,
           1
          ]
         }
        },
        "template": {
         "data": {
          "bar": [
           {
            "error_x": {
             "color": "#2a3f5f"
            },
            "error_y": {
             "color": "#2a3f5f"
            },
            "marker": {
             "line": {
              "color": "#E5ECF6",
              "width": 0.5
             },
             "pattern": {
              "fillmode": "overlay",
              "size": 10,
              "solidity": 0.2
             }
            },
            "type": "bar"
           }
          ],
          "barpolar": [
           {
            "marker": {
             "line": {
              "color": "#E5ECF6",
              "width": 0.5
             },
             "pattern": {
              "fillmode": "overlay",
              "size": 10,
              "solidity": 0.2
             }
            },
            "type": "barpolar"
           }
          ],
          "carpet": [
           {
            "aaxis": {
             "endlinecolor": "#2a3f5f",
             "gridcolor": "white",
             "linecolor": "white",
             "minorgridcolor": "white",
             "startlinecolor": "#2a3f5f"
            },
            "baxis": {
             "endlinecolor": "#2a3f5f",
             "gridcolor": "white",
             "linecolor": "white",
             "minorgridcolor": "white",
             "startlinecolor": "#2a3f5f"
            },
            "type": "carpet"
           }
          ],
          "choropleth": [
           {
            "colorbar": {
             "outlinewidth": 0,
             "ticks": ""
            },
            "type": "choropleth"
           }
          ],
          "contour": [
           {
            "colorbar": {
             "outlinewidth": 0,
             "ticks": ""
            },
            "colorscale": [
             [
              0,
              "#0d0887"
             ],
             [
              0.1111111111111111,
              "#46039f"
             ],
             [
              0.2222222222222222,
              "#7201a8"
             ],
             [
              0.3333333333333333,
              "#9c179e"
             ],
             [
              0.4444444444444444,
              "#bd3786"
             ],
             [
              0.5555555555555556,
              "#d8576b"
             ],
             [
              0.6666666666666666,
              "#ed7953"
             ],
             [
              0.7777777777777778,
              "#fb9f3a"
             ],
             [
              0.8888888888888888,
              "#fdca26"
             ],
             [
              1,
              "#f0f921"
             ]
            ],
            "type": "contour"
           }
          ],
          "contourcarpet": [
           {
            "colorbar": {
             "outlinewidth": 0,
             "ticks": ""
            },
            "type": "contourcarpet"
           }
          ],
          "heatmap": [
           {
            "colorbar": {
             "outlinewidth": 0,
             "ticks": ""
            },
            "colorscale": [
             [
              0,
              "#0d0887"
             ],
             [
              0.1111111111111111,
              "#46039f"
             ],
             [
              0.2222222222222222,
              "#7201a8"
             ],
             [
              0.3333333333333333,
              "#9c179e"
             ],
             [
              0.4444444444444444,
              "#bd3786"
             ],
             [
              0.5555555555555556,
              "#d8576b"
             ],
             [
              0.6666666666666666,
              "#ed7953"
             ],
             [
              0.7777777777777778,
              "#fb9f3a"
             ],
             [
              0.8888888888888888,
              "#fdca26"
             ],
             [
              1,
              "#f0f921"
             ]
            ],
            "type": "heatmap"
           }
          ],
          "heatmapgl": [
           {
            "colorbar": {
             "outlinewidth": 0,
             "ticks": ""
            },
            "colorscale": [
             [
              0,
              "#0d0887"
             ],
             [
              0.1111111111111111,
              "#46039f"
             ],
             [
              0.2222222222222222,
              "#7201a8"
             ],
             [
              0.3333333333333333,
              "#9c179e"
             ],
             [
              0.4444444444444444,
              "#bd3786"
             ],
             [
              0.5555555555555556,
              "#d8576b"
             ],
             [
              0.6666666666666666,
              "#ed7953"
             ],
             [
              0.7777777777777778,
              "#fb9f3a"
             ],
             [
              0.8888888888888888,
              "#fdca26"
             ],
             [
              1,
              "#f0f921"
             ]
            ],
            "type": "heatmapgl"
           }
          ],
          "histogram": [
           {
            "marker": {
             "pattern": {
              "fillmode": "overlay",
              "size": 10,
              "solidity": 0.2
             }
            },
            "type": "histogram"
           }
          ],
          "histogram2d": [
           {
            "colorbar": {
             "outlinewidth": 0,
             "ticks": ""
            },
            "colorscale": [
             [
              0,
              "#0d0887"
             ],
             [
              0.1111111111111111,
              "#46039f"
             ],
             [
              0.2222222222222222,
              "#7201a8"
             ],
             [
              0.3333333333333333,
              "#9c179e"
             ],
             [
              0.4444444444444444,
              "#bd3786"
             ],
             [
              0.5555555555555556,
              "#d8576b"
             ],
             [
              0.6666666666666666,
              "#ed7953"
             ],
             [
              0.7777777777777778,
              "#fb9f3a"
             ],
             [
              0.8888888888888888,
              "#fdca26"
             ],
             [
              1,
              "#f0f921"
             ]
            ],
            "type": "histogram2d"
           }
          ],
          "histogram2dcontour": [
           {
            "colorbar": {
             "outlinewidth": 0,
             "ticks": ""
            },
            "colorscale": [
             [
              0,
              "#0d0887"
             ],
             [
              0.1111111111111111,
              "#46039f"
             ],
             [
              0.2222222222222222,
              "#7201a8"
             ],
             [
              0.3333333333333333,
              "#9c179e"
             ],
             [
              0.4444444444444444,
              "#bd3786"
             ],
             [
              0.5555555555555556,
              "#d8576b"
             ],
             [
              0.6666666666666666,
              "#ed7953"
             ],
             [
              0.7777777777777778,
              "#fb9f3a"
             ],
             [
              0.8888888888888888,
              "#fdca26"
             ],
             [
              1,
              "#f0f921"
             ]
            ],
            "type": "histogram2dcontour"
           }
          ],
          "mesh3d": [
           {
            "colorbar": {
             "outlinewidth": 0,
             "ticks": ""
            },
            "type": "mesh3d"
           }
          ],
          "parcoords": [
           {
            "line": {
             "colorbar": {
              "outlinewidth": 0,
              "ticks": ""
             }
            },
            "type": "parcoords"
           }
          ],
          "pie": [
           {
            "automargin": true,
            "type": "pie"
           }
          ],
          "scatter": [
           {
            "fillpattern": {
             "fillmode": "overlay",
             "size": 10,
             "solidity": 0.2
            },
            "type": "scatter"
           }
          ],
          "scatter3d": [
           {
            "line": {
             "colorbar": {
              "outlinewidth": 0,
              "ticks": ""
             }
            },
            "marker": {
             "colorbar": {
              "outlinewidth": 0,
              "ticks": ""
             }
            },
            "type": "scatter3d"
           }
          ],
          "scattercarpet": [
           {
            "marker": {
             "colorbar": {
              "outlinewidth": 0,
              "ticks": ""
             }
            },
            "type": "scattercarpet"
           }
          ],
          "scattergeo": [
           {
            "marker": {
             "colorbar": {
              "outlinewidth": 0,
              "ticks": ""
             }
            },
            "type": "scattergeo"
           }
          ],
          "scattergl": [
           {
            "marker": {
             "colorbar": {
              "outlinewidth": 0,
              "ticks": ""
             }
            },
            "type": "scattergl"
           }
          ],
          "scattermapbox": [
           {
            "marker": {
             "colorbar": {
              "outlinewidth": 0,
              "ticks": ""
             }
            },
            "type": "scattermapbox"
           }
          ],
          "scatterpolar": [
           {
            "marker": {
             "colorbar": {
              "outlinewidth": 0,
              "ticks": ""
             }
            },
            "type": "scatterpolar"
           }
          ],
          "scatterpolargl": [
           {
            "marker": {
             "colorbar": {
              "outlinewidth": 0,
              "ticks": ""
             }
            },
            "type": "scatterpolargl"
           }
          ],
          "scatterternary": [
           {
            "marker": {
             "colorbar": {
              "outlinewidth": 0,
              "ticks": ""
             }
            },
            "type": "scatterternary"
           }
          ],
          "surface": [
           {
            "colorbar": {
             "outlinewidth": 0,
             "ticks": ""
            },
            "colorscale": [
             [
              0,
              "#0d0887"
             ],
             [
              0.1111111111111111,
              "#46039f"
             ],
             [
              0.2222222222222222,
              "#7201a8"
             ],
             [
              0.3333333333333333,
              "#9c179e"
             ],
             [
              0.4444444444444444,
              "#bd3786"
             ],
             [
              0.5555555555555556,
              "#d8576b"
             ],
             [
              0.6666666666666666,
              "#ed7953"
             ],
             [
              0.7777777777777778,
              "#fb9f3a"
             ],
             [
              0.8888888888888888,
              "#fdca26"
             ],
             [
              1,
              "#f0f921"
             ]
            ],
            "type": "surface"
           }
          ],
          "table": [
           {
            "cells": {
             "fill": {
              "color": "#EBF0F8"
             },
             "line": {
              "color": "white"
             }
            },
            "header": {
             "fill": {
              "color": "#C8D4E3"
             },
             "line": {
              "color": "white"
             }
            },
            "type": "table"
           }
          ]
         },
         "layout": {
          "annotationdefaults": {
           "arrowcolor": "#2a3f5f",
           "arrowhead": 0,
           "arrowwidth": 1
          },
          "autotypenumbers": "strict",
          "coloraxis": {
           "colorbar": {
            "outlinewidth": 0,
            "ticks": ""
           }
          },
          "colorscale": {
           "diverging": [
            [
             0,
             "#8e0152"
            ],
            [
             0.1,
             "#c51b7d"
            ],
            [
             0.2,
             "#de77ae"
            ],
            [
             0.3,
             "#f1b6da"
            ],
            [
             0.4,
             "#fde0ef"
            ],
            [
             0.5,
             "#f7f7f7"
            ],
            [
             0.6,
             "#e6f5d0"
            ],
            [
             0.7,
             "#b8e186"
            ],
            [
             0.8,
             "#7fbc41"
            ],
            [
             0.9,
             "#4d9221"
            ],
            [
             1,
             "#276419"
            ]
           ],
           "sequential": [
            [
             0,
             "#0d0887"
            ],
            [
             0.1111111111111111,
             "#46039f"
            ],
            [
             0.2222222222222222,
             "#7201a8"
            ],
            [
             0.3333333333333333,
             "#9c179e"
            ],
            [
             0.4444444444444444,
             "#bd3786"
            ],
            [
             0.5555555555555556,
             "#d8576b"
            ],
            [
             0.6666666666666666,
             "#ed7953"
            ],
            [
             0.7777777777777778,
             "#fb9f3a"
            ],
            [
             0.8888888888888888,
             "#fdca26"
            ],
            [
             1,
             "#f0f921"
            ]
           ],
           "sequentialminus": [
            [
             0,
             "#0d0887"
            ],
            [
             0.1111111111111111,
             "#46039f"
            ],
            [
             0.2222222222222222,
             "#7201a8"
            ],
            [
             0.3333333333333333,
             "#9c179e"
            ],
            [
             0.4444444444444444,
             "#bd3786"
            ],
            [
             0.5555555555555556,
             "#d8576b"
            ],
            [
             0.6666666666666666,
             "#ed7953"
            ],
            [
             0.7777777777777778,
             "#fb9f3a"
            ],
            [
             0.8888888888888888,
             "#fdca26"
            ],
            [
             1,
             "#f0f921"
            ]
           ]
          },
          "colorway": [
           "#636efa",
           "#EF553B",
           "#00cc96",
           "#ab63fa",
           "#FFA15A",
           "#19d3f3",
           "#FF6692",
           "#B6E880",
           "#FF97FF",
           "#FECB52"
          ],
          "font": {
           "color": "#2a3f5f"
          },
          "geo": {
           "bgcolor": "white",
           "lakecolor": "white",
           "landcolor": "#E5ECF6",
           "showlakes": true,
           "showland": true,
           "subunitcolor": "white"
          },
          "hoverlabel": {
           "align": "left"
          },
          "hovermode": "closest",
          "mapbox": {
           "style": "light"
          },
          "paper_bgcolor": "white",
          "plot_bgcolor": "#E5ECF6",
          "polar": {
           "angularaxis": {
            "gridcolor": "white",
            "linecolor": "white",
            "ticks": ""
           },
           "bgcolor": "#E5ECF6",
           "radialaxis": {
            "gridcolor": "white",
            "linecolor": "white",
            "ticks": ""
           }
          },
          "scene": {
           "xaxis": {
            "backgroundcolor": "#E5ECF6",
            "gridcolor": "white",
            "gridwidth": 2,
            "linecolor": "white",
            "showbackground": true,
            "ticks": "",
            "zerolinecolor": "white"
           },
           "yaxis": {
            "backgroundcolor": "#E5ECF6",
            "gridcolor": "white",
            "gridwidth": 2,
            "linecolor": "white",
            "showbackground": true,
            "ticks": "",
            "zerolinecolor": "white"
           },
           "zaxis": {
            "backgroundcolor": "#E5ECF6",
            "gridcolor": "white",
            "gridwidth": 2,
            "linecolor": "white",
            "showbackground": true,
            "ticks": "",
            "zerolinecolor": "white"
           }
          },
          "shapedefaults": {
           "line": {
            "color": "#2a3f5f"
           }
          },
          "ternary": {
           "aaxis": {
            "gridcolor": "white",
            "linecolor": "white",
            "ticks": ""
           },
           "baxis": {
            "gridcolor": "white",
            "linecolor": "white",
            "ticks": ""
           },
           "bgcolor": "#E5ECF6",
           "caxis": {
            "gridcolor": "white",
            "linecolor": "white",
            "ticks": ""
           }
          },
          "title": {
           "x": 0.05
          },
          "xaxis": {
           "automargin": true,
           "gridcolor": "white",
           "linecolor": "white",
           "ticks": "",
           "title": {
            "standoff": 15
           },
           "zerolinecolor": "white",
           "zerolinewidth": 2
          },
          "yaxis": {
           "automargin": true,
           "gridcolor": "white",
           "linecolor": "white",
           "ticks": "",
           "title": {
            "standoff": 15
           },
           "zerolinecolor": "white",
           "zerolinewidth": 2
          }
         }
        }
       }
      },
      "text/html": [
       "<div>                            <div id=\"d4b41100-8625-47a2-a63d-d1926b478a8a\" class=\"plotly-graph-div\" style=\"height:525px; width:100%;\"></div>            <script type=\"text/javascript\">                require([\"plotly\"], function(Plotly) {                    window.PLOTLYENV=window.PLOTLYENV || {};                                    if (document.getElementById(\"d4b41100-8625-47a2-a63d-d1926b478a8a\")) {                    Plotly.newPlot(                        \"d4b41100-8625-47a2-a63d-d1926b478a8a\",                        [{\"hovertemplate\":\"value=%{r}<br>label=%{theta}<extra></extra>\",\"legendgroup\":\"\",\"line\":{\"color\":\"#636efa\",\"dash\":\"solid\"},\"marker\":{\"symbol\":\"circle\"},\"mode\":\"lines\",\"name\":\"\",\"r\":[0,0,5,25,70,0,0],\"showlegend\":false,\"subplot\":\"polar\",\"theta\":[\"1\\u30f6\\u6708\\u306b5\\u6642\\u9593\\u672a\\u6e80(1\\u65e510\\u5206\\u672a\\u6e80)\",\"1\\u30f6\\u6708\\u306b5\\u6642\\u9593\\u4ee5\\u4e0a15\\u6642\\u9593\\u672a\\u6e80(1\\u65e510\\u5206~30\\u5206\\u7a0b\\u5ea6)\",\"1\\u30f6\\u6708\\u306b15\\u6642\\u9593\\u4ee5\\u4e0a30\\u6642\\u9593\\u672a\\u6e80(1\\u65e530\\u5206~60\\u5206\\u7a0b\\u5ea6)\",\"1\\u30f6\\u6708\\u306b30\\u6642\\u9593\\u4ee5\\u4e0a60\\u6642\\u9593\\u672a\\u6e80(1\\u65e51~2\\u6642\\u9593\\u7a0b\\u5ea6)\",\"1\\u30f6\\u6708\\u306b60\\u6642\\u9593\\u4ee5\\u4e0a(1\\u65e52\\u6642\\u9593\\u4ee5\\u4e0a)\",\"\\u7121\\u56de\\u7b54\",\"1\\u30f6\\u6708\\u306b5\\u6642\\u9593\\u672a\\u6e80(1\\u65e510\\u5206\\u672a\\u6e80)\"],\"type\":\"scatterpolar\",\"fill\":\"toself\"}],                        {\"template\":{\"data\":{\"histogram2dcontour\":[{\"type\":\"histogram2dcontour\",\"colorbar\":{\"outlinewidth\":0,\"ticks\":\"\"},\"colorscale\":[[0.0,\"#0d0887\"],[0.1111111111111111,\"#46039f\"],[0.2222222222222222,\"#7201a8\"],[0.3333333333333333,\"#9c179e\"],[0.4444444444444444,\"#bd3786\"],[0.5555555555555556,\"#d8576b\"],[0.6666666666666666,\"#ed7953\"],[0.7777777777777778,\"#fb9f3a\"],[0.8888888888888888,\"#fdca26\"],[1.0,\"#f0f921\"]]}],\"choropleth\":[{\"type\":\"choropleth\",\"colorbar\":{\"outlinewidth\":0,\"ticks\":\"\"}}],\"histogram2d\":[{\"type\":\"histogram2d\",\"colorbar\":{\"outlinewidth\":0,\"ticks\":\"\"},\"colorscale\":[[0.0,\"#0d0887\"],[0.1111111111111111,\"#46039f\"],[0.2222222222222222,\"#7201a8\"],[0.3333333333333333,\"#9c179e\"],[0.4444444444444444,\"#bd3786\"],[0.5555555555555556,\"#d8576b\"],[0.6666666666666666,\"#ed7953\"],[0.7777777777777778,\"#fb9f3a\"],[0.8888888888888888,\"#fdca26\"],[1.0,\"#f0f921\"]]}],\"heatmap\":[{\"type\":\"heatmap\",\"colorbar\":{\"outlinewidth\":0,\"ticks\":\"\"},\"colorscale\":[[0.0,\"#0d0887\"],[0.1111111111111111,\"#46039f\"],[0.2222222222222222,\"#7201a8\"],[0.3333333333333333,\"#9c179e\"],[0.4444444444444444,\"#bd3786\"],[0.5555555555555556,\"#d8576b\"],[0.6666666666666666,\"#ed7953\"],[0.7777777777777778,\"#fb9f3a\"],[0.8888888888888888,\"#fdca26\"],[1.0,\"#f0f921\"]]}],\"heatmapgl\":[{\"type\":\"heatmapgl\",\"colorbar\":{\"outlinewidth\":0,\"ticks\":\"\"},\"colorscale\":[[0.0,\"#0d0887\"],[0.1111111111111111,\"#46039f\"],[0.2222222222222222,\"#7201a8\"],[0.3333333333333333,\"#9c179e\"],[0.4444444444444444,\"#bd3786\"],[0.5555555555555556,\"#d8576b\"],[0.6666666666666666,\"#ed7953\"],[0.7777777777777778,\"#fb9f3a\"],[0.8888888888888888,\"#fdca26\"],[1.0,\"#f0f921\"]]}],\"contourcarpet\":[{\"type\":\"contourcarpet\",\"colorbar\":{\"outlinewidth\":0,\"ticks\":\"\"}}],\"contour\":[{\"type\":\"contour\",\"colorbar\":{\"outlinewidth\":0,\"ticks\":\"\"},\"colorscale\":[[0.0,\"#0d0887\"],[0.1111111111111111,\"#46039f\"],[0.2222222222222222,\"#7201a8\"],[0.3333333333333333,\"#9c179e\"],[0.4444444444444444,\"#bd3786\"],[0.5555555555555556,\"#d8576b\"],[0.6666666666666666,\"#ed7953\"],[0.7777777777777778,\"#fb9f3a\"],[0.8888888888888888,\"#fdca26\"],[1.0,\"#f0f921\"]]}],\"surface\":[{\"type\":\"surface\",\"colorbar\":{\"outlinewidth\":0,\"ticks\":\"\"},\"colorscale\":[[0.0,\"#0d0887\"],[0.1111111111111111,\"#46039f\"],[0.2222222222222222,\"#7201a8\"],[0.3333333333333333,\"#9c179e\"],[0.4444444444444444,\"#bd3786\"],[0.5555555555555556,\"#d8576b\"],[0.6666666666666666,\"#ed7953\"],[0.7777777777777778,\"#fb9f3a\"],[0.8888888888888888,\"#fdca26\"],[1.0,\"#f0f921\"]]}],\"mesh3d\":[{\"type\":\"mesh3d\",\"colorbar\":{\"outlinewidth\":0,\"ticks\":\"\"}}],\"scatter\":[{\"fillpattern\":{\"fillmode\":\"overlay\",\"size\":10,\"solidity\":0.2},\"type\":\"scatter\"}],\"parcoords\":[{\"type\":\"parcoords\",\"line\":{\"colorbar\":{\"outlinewidth\":0,\"ticks\":\"\"}}}],\"scatterpolargl\":[{\"type\":\"scatterpolargl\",\"marker\":{\"colorbar\":{\"outlinewidth\":0,\"ticks\":\"\"}}}],\"bar\":[{\"error_x\":{\"color\":\"#2a3f5f\"},\"error_y\":{\"color\":\"#2a3f5f\"},\"marker\":{\"line\":{\"color\":\"#E5ECF6\",\"width\":0.5},\"pattern\":{\"fillmode\":\"overlay\",\"size\":10,\"solidity\":0.2}},\"type\":\"bar\"}],\"scattergeo\":[{\"type\":\"scattergeo\",\"marker\":{\"colorbar\":{\"outlinewidth\":0,\"ticks\":\"\"}}}],\"scatterpolar\":[{\"type\":\"scatterpolar\",\"marker\":{\"colorbar\":{\"outlinewidth\":0,\"ticks\":\"\"}}}],\"histogram\":[{\"marker\":{\"pattern\":{\"fillmode\":\"overlay\",\"size\":10,\"solidity\":0.2}},\"type\":\"histogram\"}],\"scattergl\":[{\"type\":\"scattergl\",\"marker\":{\"colorbar\":{\"outlinewidth\":0,\"ticks\":\"\"}}}],\"scatter3d\":[{\"type\":\"scatter3d\",\"line\":{\"colorbar\":{\"outlinewidth\":0,\"ticks\":\"\"}},\"marker\":{\"colorbar\":{\"outlinewidth\":0,\"ticks\":\"\"}}}],\"scattermapbox\":[{\"type\":\"scattermapbox\",\"marker\":{\"colorbar\":{\"outlinewidth\":0,\"ticks\":\"\"}}}],\"scatterternary\":[{\"type\":\"scatterternary\",\"marker\":{\"colorbar\":{\"outlinewidth\":0,\"ticks\":\"\"}}}],\"scattercarpet\":[{\"type\":\"scattercarpet\",\"marker\":{\"colorbar\":{\"outlinewidth\":0,\"ticks\":\"\"}}}],\"carpet\":[{\"aaxis\":{\"endlinecolor\":\"#2a3f5f\",\"gridcolor\":\"white\",\"linecolor\":\"white\",\"minorgridcolor\":\"white\",\"startlinecolor\":\"#2a3f5f\"},\"baxis\":{\"endlinecolor\":\"#2a3f5f\",\"gridcolor\":\"white\",\"linecolor\":\"white\",\"minorgridcolor\":\"white\",\"startlinecolor\":\"#2a3f5f\"},\"type\":\"carpet\"}],\"table\":[{\"cells\":{\"fill\":{\"color\":\"#EBF0F8\"},\"line\":{\"color\":\"white\"}},\"header\":{\"fill\":{\"color\":\"#C8D4E3\"},\"line\":{\"color\":\"white\"}},\"type\":\"table\"}],\"barpolar\":[{\"marker\":{\"line\":{\"color\":\"#E5ECF6\",\"width\":0.5},\"pattern\":{\"fillmode\":\"overlay\",\"size\":10,\"solidity\":0.2}},\"type\":\"barpolar\"}],\"pie\":[{\"automargin\":true,\"type\":\"pie\"}]},\"layout\":{\"autotypenumbers\":\"strict\",\"colorway\":[\"#636efa\",\"#EF553B\",\"#00cc96\",\"#ab63fa\",\"#FFA15A\",\"#19d3f3\",\"#FF6692\",\"#B6E880\",\"#FF97FF\",\"#FECB52\"],\"font\":{\"color\":\"#2a3f5f\"},\"hovermode\":\"closest\",\"hoverlabel\":{\"align\":\"left\"},\"paper_bgcolor\":\"white\",\"plot_bgcolor\":\"#E5ECF6\",\"polar\":{\"bgcolor\":\"#E5ECF6\",\"angularaxis\":{\"gridcolor\":\"white\",\"linecolor\":\"white\",\"ticks\":\"\"},\"radialaxis\":{\"gridcolor\":\"white\",\"linecolor\":\"white\",\"ticks\":\"\"}},\"ternary\":{\"bgcolor\":\"#E5ECF6\",\"aaxis\":{\"gridcolor\":\"white\",\"linecolor\":\"white\",\"ticks\":\"\"},\"baxis\":{\"gridcolor\":\"white\",\"linecolor\":\"white\",\"ticks\":\"\"},\"caxis\":{\"gridcolor\":\"white\",\"linecolor\":\"white\",\"ticks\":\"\"}},\"coloraxis\":{\"colorbar\":{\"outlinewidth\":0,\"ticks\":\"\"}},\"colorscale\":{\"sequential\":[[0.0,\"#0d0887\"],[0.1111111111111111,\"#46039f\"],[0.2222222222222222,\"#7201a8\"],[0.3333333333333333,\"#9c179e\"],[0.4444444444444444,\"#bd3786\"],[0.5555555555555556,\"#d8576b\"],[0.6666666666666666,\"#ed7953\"],[0.7777777777777778,\"#fb9f3a\"],[0.8888888888888888,\"#fdca26\"],[1.0,\"#f0f921\"]],\"sequentialminus\":[[0.0,\"#0d0887\"],[0.1111111111111111,\"#46039f\"],[0.2222222222222222,\"#7201a8\"],[0.3333333333333333,\"#9c179e\"],[0.4444444444444444,\"#bd3786\"],[0.5555555555555556,\"#d8576b\"],[0.6666666666666666,\"#ed7953\"],[0.7777777777777778,\"#fb9f3a\"],[0.8888888888888888,\"#fdca26\"],[1.0,\"#f0f921\"]],\"diverging\":[[0,\"#8e0152\"],[0.1,\"#c51b7d\"],[0.2,\"#de77ae\"],[0.3,\"#f1b6da\"],[0.4,\"#fde0ef\"],[0.5,\"#f7f7f7\"],[0.6,\"#e6f5d0\"],[0.7,\"#b8e186\"],[0.8,\"#7fbc41\"],[0.9,\"#4d9221\"],[1,\"#276419\"]]},\"xaxis\":{\"gridcolor\":\"white\",\"linecolor\":\"white\",\"ticks\":\"\",\"title\":{\"standoff\":15},\"zerolinecolor\":\"white\",\"automargin\":true,\"zerolinewidth\":2},\"yaxis\":{\"gridcolor\":\"white\",\"linecolor\":\"white\",\"ticks\":\"\",\"title\":{\"standoff\":15},\"zerolinecolor\":\"white\",\"automargin\":true,\"zerolinewidth\":2},\"scene\":{\"xaxis\":{\"backgroundcolor\":\"#E5ECF6\",\"gridcolor\":\"white\",\"linecolor\":\"white\",\"showbackground\":true,\"ticks\":\"\",\"zerolinecolor\":\"white\",\"gridwidth\":2},\"yaxis\":{\"backgroundcolor\":\"#E5ECF6\",\"gridcolor\":\"white\",\"linecolor\":\"white\",\"showbackground\":true,\"ticks\":\"\",\"zerolinecolor\":\"white\",\"gridwidth\":2},\"zaxis\":{\"backgroundcolor\":\"#E5ECF6\",\"gridcolor\":\"white\",\"linecolor\":\"white\",\"showbackground\":true,\"ticks\":\"\",\"zerolinecolor\":\"white\",\"gridwidth\":2}},\"shapedefaults\":{\"line\":{\"color\":\"#2a3f5f\"}},\"annotationdefaults\":{\"arrowcolor\":\"#2a3f5f\",\"arrowhead\":0,\"arrowwidth\":1},\"geo\":{\"bgcolor\":\"white\",\"landcolor\":\"#E5ECF6\",\"subunitcolor\":\"white\",\"showland\":true,\"showlakes\":true,\"lakecolor\":\"white\"},\"title\":{\"x\":0.05},\"mapbox\":{\"style\":\"light\"}}},\"polar\":{\"domain\":{\"x\":[0.0,1.0],\"y\":[0.0,1.0]},\"angularaxis\":{\"direction\":\"clockwise\",\"rotation\":90}},\"legend\":{\"tracegroupgap\":0},\"margin\":{\"t\":60}},                        {\"responsive\": true}                    ).then(function(){\n",
       "                            \n",
       "var gd = document.getElementById('d4b41100-8625-47a2-a63d-d1926b478a8a');\n",
       "var x = new MutationObserver(function (mutations, observer) {{\n",
       "        var display = window.getComputedStyle(gd).display;\n",
       "        if (!display || display === 'none') {{\n",
       "            console.log([gd, 'removed!']);\n",
       "            Plotly.purge(gd);\n",
       "            observer.disconnect();\n",
       "        }}\n",
       "}});\n",
       "\n",
       "// Listen for the removal of the full notebook cells\n",
       "var notebookContainer = gd.closest('#notebook-container');\n",
       "if (notebookContainer) {{\n",
       "    x.observe(notebookContainer, {childList: true});\n",
       "}}\n",
       "\n",
       "// Listen for the clearing of the current output cell\n",
       "var outputEl = gd.closest('.output');\n",
       "if (outputEl) {{\n",
       "    x.observe(outputEl, {childList: true});\n",
       "}}\n",
       "\n",
       "                        })                };                });            </script>        </div>"
      ]
     },
     "metadata": {},
     "output_type": "display_data"
    }
   ],
   "source": [
    "fig=px.line_polar(df_graph,r='value',theta='label',line_close=True)  #グラフの定義\n",
    "fig.update_traces(fill='toself')  #レイアウトの定義\n",
    "fig.show()  #グラフ描画"
   ]
  },
  {
   "cell_type": "code",
   "execution_count": 31,
   "id": "ec7f2369",
   "metadata": {},
   "outputs": [
    {
     "data": {
      "text/html": [
       "<div>\n",
       "<style scoped>\n",
       "    .dataframe tbody tr th:only-of-type {\n",
       "        vertical-align: middle;\n",
       "    }\n",
       "\n",
       "    .dataframe tbody tr th {\n",
       "        vertical-align: top;\n",
       "    }\n",
       "\n",
       "    .dataframe thead th {\n",
       "        text-align: right;\n",
       "    }\n",
       "</style>\n",
       "<table border=\"1\" class=\"dataframe\">\n",
       "  <thead>\n",
       "    <tr style=\"text-align: right;\">\n",
       "      <th></th>\n",
       "      <th>Attribute</th>\n",
       "      <th>19歳以下</th>\n",
       "    </tr>\n",
       "  </thead>\n",
       "  <tbody>\n",
       "    <tr>\n",
       "      <th>0</th>\n",
       "      <td>1ヶ月に5時間未満(1日10分未満)</td>\n",
       "      <td>0</td>\n",
       "    </tr>\n",
       "    <tr>\n",
       "      <th>1</th>\n",
       "      <td>1ヶ月に5時間以上15時間未満(1日10分~30分程度)</td>\n",
       "      <td>0</td>\n",
       "    </tr>\n",
       "    <tr>\n",
       "      <th>2</th>\n",
       "      <td>1ヶ月に15時間以上30時間未満(1日30分~60分程度)</td>\n",
       "      <td>5</td>\n",
       "    </tr>\n",
       "    <tr>\n",
       "      <th>3</th>\n",
       "      <td>1ヶ月に30時間以上60時間未満(1日1~2時間程度)</td>\n",
       "      <td>25</td>\n",
       "    </tr>\n",
       "    <tr>\n",
       "      <th>4</th>\n",
       "      <td>1ヶ月に60時間以上(1日2時間以上)</td>\n",
       "      <td>70</td>\n",
       "    </tr>\n",
       "    <tr>\n",
       "      <th>5</th>\n",
       "      <td>無回答</td>\n",
       "      <td>0</td>\n",
       "    </tr>\n",
       "  </tbody>\n",
       "</table>\n",
       "</div>"
      ],
      "text/plain": [
       "                       Attribute  19歳以下\n",
       "0             1ヶ月に5時間未満(1日10分未満)      0\n",
       "1   1ヶ月に5時間以上15時間未満(1日10分~30分程度)      0\n",
       "2  1ヶ月に15時間以上30時間未満(1日30分~60分程度)      5\n",
       "3    1ヶ月に30時間以上60時間未満(1日1~2時間程度)     25\n",
       "4            1ヶ月に60時間以上(1日2時間以上)     70\n",
       "5                            無回答      0"
      ]
     },
     "execution_count": 31,
     "metadata": {},
     "output_type": "execute_result"
    }
   ],
   "source": [
    "df_utf.iloc[:,:2]"
   ]
  },
  {
   "cell_type": "code",
   "execution_count": 32,
   "id": "ac111092",
   "metadata": {},
   "outputs": [
    {
     "name": "stderr",
     "output_type": "stream",
     "text": [
      "/usr/local/lib/python3.9/site-packages/plotly/express/_core.py:271: FutureWarning:\n",
      "\n",
      "The frame.append method is deprecated and will be removed from pandas in a future version. Use pandas.concat instead.\n",
      "\n"
     ]
    },
    {
     "data": {
      "application/vnd.plotly.v1+json": {
       "config": {
        "plotlyServerURL": "https://plot.ly"
       },
       "data": [
        {
         "fill": "toself",
         "hovertemplate": "19歳以下=%{r}<br>Attribute=%{theta}<extra></extra>",
         "legendgroup": "",
         "line": {
          "color": "#636efa",
          "dash": "solid"
         },
         "marker": {
          "symbol": "circle"
         },
         "mode": "lines",
         "name": "",
         "r": [
          0,
          0,
          5,
          25,
          70,
          0,
          0
         ],
         "showlegend": false,
         "subplot": "polar",
         "theta": [
          "1ヶ月に5時間未満(1日10分未満)",
          "1ヶ月に5時間以上15時間未満(1日10分~30分程度)",
          "1ヶ月に15時間以上30時間未満(1日30分~60分程度)",
          "1ヶ月に30時間以上60時間未満(1日1~2時間程度)",
          "1ヶ月に60時間以上(1日2時間以上)",
          "無回答",
          "1ヶ月に5時間未満(1日10分未満)"
         ],
         "type": "scatterpolar"
        }
       ],
       "layout": {
        "legend": {
         "tracegroupgap": 0
        },
        "margin": {
         "t": 60
        },
        "polar": {
         "angularaxis": {
          "direction": "clockwise",
          "rotation": 90
         },
         "domain": {
          "x": [
           0,
           1
          ],
          "y": [
           0,
           1
          ]
         }
        },
        "template": {
         "data": {
          "bar": [
           {
            "error_x": {
             "color": "#2a3f5f"
            },
            "error_y": {
             "color": "#2a3f5f"
            },
            "marker": {
             "line": {
              "color": "#E5ECF6",
              "width": 0.5
             },
             "pattern": {
              "fillmode": "overlay",
              "size": 10,
              "solidity": 0.2
             }
            },
            "type": "bar"
           }
          ],
          "barpolar": [
           {
            "marker": {
             "line": {
              "color": "#E5ECF6",
              "width": 0.5
             },
             "pattern": {
              "fillmode": "overlay",
              "size": 10,
              "solidity": 0.2
             }
            },
            "type": "barpolar"
           }
          ],
          "carpet": [
           {
            "aaxis": {
             "endlinecolor": "#2a3f5f",
             "gridcolor": "white",
             "linecolor": "white",
             "minorgridcolor": "white",
             "startlinecolor": "#2a3f5f"
            },
            "baxis": {
             "endlinecolor": "#2a3f5f",
             "gridcolor": "white",
             "linecolor": "white",
             "minorgridcolor": "white",
             "startlinecolor": "#2a3f5f"
            },
            "type": "carpet"
           }
          ],
          "choropleth": [
           {
            "colorbar": {
             "outlinewidth": 0,
             "ticks": ""
            },
            "type": "choropleth"
           }
          ],
          "contour": [
           {
            "colorbar": {
             "outlinewidth": 0,
             "ticks": ""
            },
            "colorscale": [
             [
              0,
              "#0d0887"
             ],
             [
              0.1111111111111111,
              "#46039f"
             ],
             [
              0.2222222222222222,
              "#7201a8"
             ],
             [
              0.3333333333333333,
              "#9c179e"
             ],
             [
              0.4444444444444444,
              "#bd3786"
             ],
             [
              0.5555555555555556,
              "#d8576b"
             ],
             [
              0.6666666666666666,
              "#ed7953"
             ],
             [
              0.7777777777777778,
              "#fb9f3a"
             ],
             [
              0.8888888888888888,
              "#fdca26"
             ],
             [
              1,
              "#f0f921"
             ]
            ],
            "type": "contour"
           }
          ],
          "contourcarpet": [
           {
            "colorbar": {
             "outlinewidth": 0,
             "ticks": ""
            },
            "type": "contourcarpet"
           }
          ],
          "heatmap": [
           {
            "colorbar": {
             "outlinewidth": 0,
             "ticks": ""
            },
            "colorscale": [
             [
              0,
              "#0d0887"
             ],
             [
              0.1111111111111111,
              "#46039f"
             ],
             [
              0.2222222222222222,
              "#7201a8"
             ],
             [
              0.3333333333333333,
              "#9c179e"
             ],
             [
              0.4444444444444444,
              "#bd3786"
             ],
             [
              0.5555555555555556,
              "#d8576b"
             ],
             [
              0.6666666666666666,
              "#ed7953"
             ],
             [
              0.7777777777777778,
              "#fb9f3a"
             ],
             [
              0.8888888888888888,
              "#fdca26"
             ],
             [
              1,
              "#f0f921"
             ]
            ],
            "type": "heatmap"
           }
          ],
          "heatmapgl": [
           {
            "colorbar": {
             "outlinewidth": 0,
             "ticks": ""
            },
            "colorscale": [
             [
              0,
              "#0d0887"
             ],
             [
              0.1111111111111111,
              "#46039f"
             ],
             [
              0.2222222222222222,
              "#7201a8"
             ],
             [
              0.3333333333333333,
              "#9c179e"
             ],
             [
              0.4444444444444444,
              "#bd3786"
             ],
             [
              0.5555555555555556,
              "#d8576b"
             ],
             [
              0.6666666666666666,
              "#ed7953"
             ],
             [
              0.7777777777777778,
              "#fb9f3a"
             ],
             [
              0.8888888888888888,
              "#fdca26"
             ],
             [
              1,
              "#f0f921"
             ]
            ],
            "type": "heatmapgl"
           }
          ],
          "histogram": [
           {
            "marker": {
             "pattern": {
              "fillmode": "overlay",
              "size": 10,
              "solidity": 0.2
             }
            },
            "type": "histogram"
           }
          ],
          "histogram2d": [
           {
            "colorbar": {
             "outlinewidth": 0,
             "ticks": ""
            },
            "colorscale": [
             [
              0,
              "#0d0887"
             ],
             [
              0.1111111111111111,
              "#46039f"
             ],
             [
              0.2222222222222222,
              "#7201a8"
             ],
             [
              0.3333333333333333,
              "#9c179e"
             ],
             [
              0.4444444444444444,
              "#bd3786"
             ],
             [
              0.5555555555555556,
              "#d8576b"
             ],
             [
              0.6666666666666666,
              "#ed7953"
             ],
             [
              0.7777777777777778,
              "#fb9f3a"
             ],
             [
              0.8888888888888888,
              "#fdca26"
             ],
             [
              1,
              "#f0f921"
             ]
            ],
            "type": "histogram2d"
           }
          ],
          "histogram2dcontour": [
           {
            "colorbar": {
             "outlinewidth": 0,
             "ticks": ""
            },
            "colorscale": [
             [
              0,
              "#0d0887"
             ],
             [
              0.1111111111111111,
              "#46039f"
             ],
             [
              0.2222222222222222,
              "#7201a8"
             ],
             [
              0.3333333333333333,
              "#9c179e"
             ],
             [
              0.4444444444444444,
              "#bd3786"
             ],
             [
              0.5555555555555556,
              "#d8576b"
             ],
             [
              0.6666666666666666,
              "#ed7953"
             ],
             [
              0.7777777777777778,
              "#fb9f3a"
             ],
             [
              0.8888888888888888,
              "#fdca26"
             ],
             [
              1,
              "#f0f921"
             ]
            ],
            "type": "histogram2dcontour"
           }
          ],
          "mesh3d": [
           {
            "colorbar": {
             "outlinewidth": 0,
             "ticks": ""
            },
            "type": "mesh3d"
           }
          ],
          "parcoords": [
           {
            "line": {
             "colorbar": {
              "outlinewidth": 0,
              "ticks": ""
             }
            },
            "type": "parcoords"
           }
          ],
          "pie": [
           {
            "automargin": true,
            "type": "pie"
           }
          ],
          "scatter": [
           {
            "fillpattern": {
             "fillmode": "overlay",
             "size": 10,
             "solidity": 0.2
            },
            "type": "scatter"
           }
          ],
          "scatter3d": [
           {
            "line": {
             "colorbar": {
              "outlinewidth": 0,
              "ticks": ""
             }
            },
            "marker": {
             "colorbar": {
              "outlinewidth": 0,
              "ticks": ""
             }
            },
            "type": "scatter3d"
           }
          ],
          "scattercarpet": [
           {
            "marker": {
             "colorbar": {
              "outlinewidth": 0,
              "ticks": ""
             }
            },
            "type": "scattercarpet"
           }
          ],
          "scattergeo": [
           {
            "marker": {
             "colorbar": {
              "outlinewidth": 0,
              "ticks": ""
             }
            },
            "type": "scattergeo"
           }
          ],
          "scattergl": [
           {
            "marker": {
             "colorbar": {
              "outlinewidth": 0,
              "ticks": ""
             }
            },
            "type": "scattergl"
           }
          ],
          "scattermapbox": [
           {
            "marker": {
             "colorbar": {
              "outlinewidth": 0,
              "ticks": ""
             }
            },
            "type": "scattermapbox"
           }
          ],
          "scatterpolar": [
           {
            "marker": {
             "colorbar": {
              "outlinewidth": 0,
              "ticks": ""
             }
            },
            "type": "scatterpolar"
           }
          ],
          "scatterpolargl": [
           {
            "marker": {
             "colorbar": {
              "outlinewidth": 0,
              "ticks": ""
             }
            },
            "type": "scatterpolargl"
           }
          ],
          "scatterternary": [
           {
            "marker": {
             "colorbar": {
              "outlinewidth": 0,
              "ticks": ""
             }
            },
            "type": "scatterternary"
           }
          ],
          "surface": [
           {
            "colorbar": {
             "outlinewidth": 0,
             "ticks": ""
            },
            "colorscale": [
             [
              0,
              "#0d0887"
             ],
             [
              0.1111111111111111,
              "#46039f"
             ],
             [
              0.2222222222222222,
              "#7201a8"
             ],
             [
              0.3333333333333333,
              "#9c179e"
             ],
             [
              0.4444444444444444,
              "#bd3786"
             ],
             [
              0.5555555555555556,
              "#d8576b"
             ],
             [
              0.6666666666666666,
              "#ed7953"
             ],
             [
              0.7777777777777778,
              "#fb9f3a"
             ],
             [
              0.8888888888888888,
              "#fdca26"
             ],
             [
              1,
              "#f0f921"
             ]
            ],
            "type": "surface"
           }
          ],
          "table": [
           {
            "cells": {
             "fill": {
              "color": "#EBF0F8"
             },
             "line": {
              "color": "white"
             }
            },
            "header": {
             "fill": {
              "color": "#C8D4E3"
             },
             "line": {
              "color": "white"
             }
            },
            "type": "table"
           }
          ]
         },
         "layout": {
          "annotationdefaults": {
           "arrowcolor": "#2a3f5f",
           "arrowhead": 0,
           "arrowwidth": 1
          },
          "autotypenumbers": "strict",
          "coloraxis": {
           "colorbar": {
            "outlinewidth": 0,
            "ticks": ""
           }
          },
          "colorscale": {
           "diverging": [
            [
             0,
             "#8e0152"
            ],
            [
             0.1,
             "#c51b7d"
            ],
            [
             0.2,
             "#de77ae"
            ],
            [
             0.3,
             "#f1b6da"
            ],
            [
             0.4,
             "#fde0ef"
            ],
            [
             0.5,
             "#f7f7f7"
            ],
            [
             0.6,
             "#e6f5d0"
            ],
            [
             0.7,
             "#b8e186"
            ],
            [
             0.8,
             "#7fbc41"
            ],
            [
             0.9,
             "#4d9221"
            ],
            [
             1,
             "#276419"
            ]
           ],
           "sequential": [
            [
             0,
             "#0d0887"
            ],
            [
             0.1111111111111111,
             "#46039f"
            ],
            [
             0.2222222222222222,
             "#7201a8"
            ],
            [
             0.3333333333333333,
             "#9c179e"
            ],
            [
             0.4444444444444444,
             "#bd3786"
            ],
            [
             0.5555555555555556,
             "#d8576b"
            ],
            [
             0.6666666666666666,
             "#ed7953"
            ],
            [
             0.7777777777777778,
             "#fb9f3a"
            ],
            [
             0.8888888888888888,
             "#fdca26"
            ],
            [
             1,
             "#f0f921"
            ]
           ],
           "sequentialminus": [
            [
             0,
             "#0d0887"
            ],
            [
             0.1111111111111111,
             "#46039f"
            ],
            [
             0.2222222222222222,
             "#7201a8"
            ],
            [
             0.3333333333333333,
             "#9c179e"
            ],
            [
             0.4444444444444444,
             "#bd3786"
            ],
            [
             0.5555555555555556,
             "#d8576b"
            ],
            [
             0.6666666666666666,
             "#ed7953"
            ],
            [
             0.7777777777777778,
             "#fb9f3a"
            ],
            [
             0.8888888888888888,
             "#fdca26"
            ],
            [
             1,
             "#f0f921"
            ]
           ]
          },
          "colorway": [
           "#636efa",
           "#EF553B",
           "#00cc96",
           "#ab63fa",
           "#FFA15A",
           "#19d3f3",
           "#FF6692",
           "#B6E880",
           "#FF97FF",
           "#FECB52"
          ],
          "font": {
           "color": "#2a3f5f"
          },
          "geo": {
           "bgcolor": "white",
           "lakecolor": "white",
           "landcolor": "#E5ECF6",
           "showlakes": true,
           "showland": true,
           "subunitcolor": "white"
          },
          "hoverlabel": {
           "align": "left"
          },
          "hovermode": "closest",
          "mapbox": {
           "style": "light"
          },
          "paper_bgcolor": "white",
          "plot_bgcolor": "#E5ECF6",
          "polar": {
           "angularaxis": {
            "gridcolor": "white",
            "linecolor": "white",
            "ticks": ""
           },
           "bgcolor": "#E5ECF6",
           "radialaxis": {
            "gridcolor": "white",
            "linecolor": "white",
            "ticks": ""
           }
          },
          "scene": {
           "xaxis": {
            "backgroundcolor": "#E5ECF6",
            "gridcolor": "white",
            "gridwidth": 2,
            "linecolor": "white",
            "showbackground": true,
            "ticks": "",
            "zerolinecolor": "white"
           },
           "yaxis": {
            "backgroundcolor": "#E5ECF6",
            "gridcolor": "white",
            "gridwidth": 2,
            "linecolor": "white",
            "showbackground": true,
            "ticks": "",
            "zerolinecolor": "white"
           },
           "zaxis": {
            "backgroundcolor": "#E5ECF6",
            "gridcolor": "white",
            "gridwidth": 2,
            "linecolor": "white",
            "showbackground": true,
            "ticks": "",
            "zerolinecolor": "white"
           }
          },
          "shapedefaults": {
           "line": {
            "color": "#2a3f5f"
           }
          },
          "ternary": {
           "aaxis": {
            "gridcolor": "white",
            "linecolor": "white",
            "ticks": ""
           },
           "baxis": {
            "gridcolor": "white",
            "linecolor": "white",
            "ticks": ""
           },
           "bgcolor": "#E5ECF6",
           "caxis": {
            "gridcolor": "white",
            "linecolor": "white",
            "ticks": ""
           }
          },
          "title": {
           "x": 0.05
          },
          "xaxis": {
           "automargin": true,
           "gridcolor": "white",
           "linecolor": "white",
           "ticks": "",
           "title": {
            "standoff": 15
           },
           "zerolinecolor": "white",
           "zerolinewidth": 2
          },
          "yaxis": {
           "automargin": true,
           "gridcolor": "white",
           "linecolor": "white",
           "ticks": "",
           "title": {
            "standoff": 15
           },
           "zerolinecolor": "white",
           "zerolinewidth": 2
          }
         }
        }
       }
      },
      "text/html": [
       "<div>                            <div id=\"9a862dc3-168e-408a-a2c5-bdf769b553a2\" class=\"plotly-graph-div\" style=\"height:525px; width:100%;\"></div>            <script type=\"text/javascript\">                require([\"plotly\"], function(Plotly) {                    window.PLOTLYENV=window.PLOTLYENV || {};                                    if (document.getElementById(\"9a862dc3-168e-408a-a2c5-bdf769b553a2\")) {                    Plotly.newPlot(                        \"9a862dc3-168e-408a-a2c5-bdf769b553a2\",                        [{\"hovertemplate\":\"19\\u6b73\\u4ee5\\u4e0b=%{r}<br>Attribute=%{theta}<extra></extra>\",\"legendgroup\":\"\",\"line\":{\"color\":\"#636efa\",\"dash\":\"solid\"},\"marker\":{\"symbol\":\"circle\"},\"mode\":\"lines\",\"name\":\"\",\"r\":[0,0,5,25,70,0,0],\"showlegend\":false,\"subplot\":\"polar\",\"theta\":[\"1\\u30f6\\u6708\\u306b5\\u6642\\u9593\\u672a\\u6e80(1\\u65e510\\u5206\\u672a\\u6e80)\",\"1\\u30f6\\u6708\\u306b5\\u6642\\u9593\\u4ee5\\u4e0a15\\u6642\\u9593\\u672a\\u6e80(1\\u65e510\\u5206~30\\u5206\\u7a0b\\u5ea6)\",\"1\\u30f6\\u6708\\u306b15\\u6642\\u9593\\u4ee5\\u4e0a30\\u6642\\u9593\\u672a\\u6e80(1\\u65e530\\u5206~60\\u5206\\u7a0b\\u5ea6)\",\"1\\u30f6\\u6708\\u306b30\\u6642\\u9593\\u4ee5\\u4e0a60\\u6642\\u9593\\u672a\\u6e80(1\\u65e51~2\\u6642\\u9593\\u7a0b\\u5ea6)\",\"1\\u30f6\\u6708\\u306b60\\u6642\\u9593\\u4ee5\\u4e0a(1\\u65e52\\u6642\\u9593\\u4ee5\\u4e0a)\",\"\\u7121\\u56de\\u7b54\",\"1\\u30f6\\u6708\\u306b5\\u6642\\u9593\\u672a\\u6e80(1\\u65e510\\u5206\\u672a\\u6e80)\"],\"type\":\"scatterpolar\",\"fill\":\"toself\"}],                        {\"template\":{\"data\":{\"histogram2dcontour\":[{\"type\":\"histogram2dcontour\",\"colorbar\":{\"outlinewidth\":0,\"ticks\":\"\"},\"colorscale\":[[0.0,\"#0d0887\"],[0.1111111111111111,\"#46039f\"],[0.2222222222222222,\"#7201a8\"],[0.3333333333333333,\"#9c179e\"],[0.4444444444444444,\"#bd3786\"],[0.5555555555555556,\"#d8576b\"],[0.6666666666666666,\"#ed7953\"],[0.7777777777777778,\"#fb9f3a\"],[0.8888888888888888,\"#fdca26\"],[1.0,\"#f0f921\"]]}],\"choropleth\":[{\"type\":\"choropleth\",\"colorbar\":{\"outlinewidth\":0,\"ticks\":\"\"}}],\"histogram2d\":[{\"type\":\"histogram2d\",\"colorbar\":{\"outlinewidth\":0,\"ticks\":\"\"},\"colorscale\":[[0.0,\"#0d0887\"],[0.1111111111111111,\"#46039f\"],[0.2222222222222222,\"#7201a8\"],[0.3333333333333333,\"#9c179e\"],[0.4444444444444444,\"#bd3786\"],[0.5555555555555556,\"#d8576b\"],[0.6666666666666666,\"#ed7953\"],[0.7777777777777778,\"#fb9f3a\"],[0.8888888888888888,\"#fdca26\"],[1.0,\"#f0f921\"]]}],\"heatmap\":[{\"type\":\"heatmap\",\"colorbar\":{\"outlinewidth\":0,\"ticks\":\"\"},\"colorscale\":[[0.0,\"#0d0887\"],[0.1111111111111111,\"#46039f\"],[0.2222222222222222,\"#7201a8\"],[0.3333333333333333,\"#9c179e\"],[0.4444444444444444,\"#bd3786\"],[0.5555555555555556,\"#d8576b\"],[0.6666666666666666,\"#ed7953\"],[0.7777777777777778,\"#fb9f3a\"],[0.8888888888888888,\"#fdca26\"],[1.0,\"#f0f921\"]]}],\"heatmapgl\":[{\"type\":\"heatmapgl\",\"colorbar\":{\"outlinewidth\":0,\"ticks\":\"\"},\"colorscale\":[[0.0,\"#0d0887\"],[0.1111111111111111,\"#46039f\"],[0.2222222222222222,\"#7201a8\"],[0.3333333333333333,\"#9c179e\"],[0.4444444444444444,\"#bd3786\"],[0.5555555555555556,\"#d8576b\"],[0.6666666666666666,\"#ed7953\"],[0.7777777777777778,\"#fb9f3a\"],[0.8888888888888888,\"#fdca26\"],[1.0,\"#f0f921\"]]}],\"contourcarpet\":[{\"type\":\"contourcarpet\",\"colorbar\":{\"outlinewidth\":0,\"ticks\":\"\"}}],\"contour\":[{\"type\":\"contour\",\"colorbar\":{\"outlinewidth\":0,\"ticks\":\"\"},\"colorscale\":[[0.0,\"#0d0887\"],[0.1111111111111111,\"#46039f\"],[0.2222222222222222,\"#7201a8\"],[0.3333333333333333,\"#9c179e\"],[0.4444444444444444,\"#bd3786\"],[0.5555555555555556,\"#d8576b\"],[0.6666666666666666,\"#ed7953\"],[0.7777777777777778,\"#fb9f3a\"],[0.8888888888888888,\"#fdca26\"],[1.0,\"#f0f921\"]]}],\"surface\":[{\"type\":\"surface\",\"colorbar\":{\"outlinewidth\":0,\"ticks\":\"\"},\"colorscale\":[[0.0,\"#0d0887\"],[0.1111111111111111,\"#46039f\"],[0.2222222222222222,\"#7201a8\"],[0.3333333333333333,\"#9c179e\"],[0.4444444444444444,\"#bd3786\"],[0.5555555555555556,\"#d8576b\"],[0.6666666666666666,\"#ed7953\"],[0.7777777777777778,\"#fb9f3a\"],[0.8888888888888888,\"#fdca26\"],[1.0,\"#f0f921\"]]}],\"mesh3d\":[{\"type\":\"mesh3d\",\"colorbar\":{\"outlinewidth\":0,\"ticks\":\"\"}}],\"scatter\":[{\"fillpattern\":{\"fillmode\":\"overlay\",\"size\":10,\"solidity\":0.2},\"type\":\"scatter\"}],\"parcoords\":[{\"type\":\"parcoords\",\"line\":{\"colorbar\":{\"outlinewidth\":0,\"ticks\":\"\"}}}],\"scatterpolargl\":[{\"type\":\"scatterpolargl\",\"marker\":{\"colorbar\":{\"outlinewidth\":0,\"ticks\":\"\"}}}],\"bar\":[{\"error_x\":{\"color\":\"#2a3f5f\"},\"error_y\":{\"color\":\"#2a3f5f\"},\"marker\":{\"line\":{\"color\":\"#E5ECF6\",\"width\":0.5},\"pattern\":{\"fillmode\":\"overlay\",\"size\":10,\"solidity\":0.2}},\"type\":\"bar\"}],\"scattergeo\":[{\"type\":\"scattergeo\",\"marker\":{\"colorbar\":{\"outlinewidth\":0,\"ticks\":\"\"}}}],\"scatterpolar\":[{\"type\":\"scatterpolar\",\"marker\":{\"colorbar\":{\"outlinewidth\":0,\"ticks\":\"\"}}}],\"histogram\":[{\"marker\":{\"pattern\":{\"fillmode\":\"overlay\",\"size\":10,\"solidity\":0.2}},\"type\":\"histogram\"}],\"scattergl\":[{\"type\":\"scattergl\",\"marker\":{\"colorbar\":{\"outlinewidth\":0,\"ticks\":\"\"}}}],\"scatter3d\":[{\"type\":\"scatter3d\",\"line\":{\"colorbar\":{\"outlinewidth\":0,\"ticks\":\"\"}},\"marker\":{\"colorbar\":{\"outlinewidth\":0,\"ticks\":\"\"}}}],\"scattermapbox\":[{\"type\":\"scattermapbox\",\"marker\":{\"colorbar\":{\"outlinewidth\":0,\"ticks\":\"\"}}}],\"scatterternary\":[{\"type\":\"scatterternary\",\"marker\":{\"colorbar\":{\"outlinewidth\":0,\"ticks\":\"\"}}}],\"scattercarpet\":[{\"type\":\"scattercarpet\",\"marker\":{\"colorbar\":{\"outlinewidth\":0,\"ticks\":\"\"}}}],\"carpet\":[{\"aaxis\":{\"endlinecolor\":\"#2a3f5f\",\"gridcolor\":\"white\",\"linecolor\":\"white\",\"minorgridcolor\":\"white\",\"startlinecolor\":\"#2a3f5f\"},\"baxis\":{\"endlinecolor\":\"#2a3f5f\",\"gridcolor\":\"white\",\"linecolor\":\"white\",\"minorgridcolor\":\"white\",\"startlinecolor\":\"#2a3f5f\"},\"type\":\"carpet\"}],\"table\":[{\"cells\":{\"fill\":{\"color\":\"#EBF0F8\"},\"line\":{\"color\":\"white\"}},\"header\":{\"fill\":{\"color\":\"#C8D4E3\"},\"line\":{\"color\":\"white\"}},\"type\":\"table\"}],\"barpolar\":[{\"marker\":{\"line\":{\"color\":\"#E5ECF6\",\"width\":0.5},\"pattern\":{\"fillmode\":\"overlay\",\"size\":10,\"solidity\":0.2}},\"type\":\"barpolar\"}],\"pie\":[{\"automargin\":true,\"type\":\"pie\"}]},\"layout\":{\"autotypenumbers\":\"strict\",\"colorway\":[\"#636efa\",\"#EF553B\",\"#00cc96\",\"#ab63fa\",\"#FFA15A\",\"#19d3f3\",\"#FF6692\",\"#B6E880\",\"#FF97FF\",\"#FECB52\"],\"font\":{\"color\":\"#2a3f5f\"},\"hovermode\":\"closest\",\"hoverlabel\":{\"align\":\"left\"},\"paper_bgcolor\":\"white\",\"plot_bgcolor\":\"#E5ECF6\",\"polar\":{\"bgcolor\":\"#E5ECF6\",\"angularaxis\":{\"gridcolor\":\"white\",\"linecolor\":\"white\",\"ticks\":\"\"},\"radialaxis\":{\"gridcolor\":\"white\",\"linecolor\":\"white\",\"ticks\":\"\"}},\"ternary\":{\"bgcolor\":\"#E5ECF6\",\"aaxis\":{\"gridcolor\":\"white\",\"linecolor\":\"white\",\"ticks\":\"\"},\"baxis\":{\"gridcolor\":\"white\",\"linecolor\":\"white\",\"ticks\":\"\"},\"caxis\":{\"gridcolor\":\"white\",\"linecolor\":\"white\",\"ticks\":\"\"}},\"coloraxis\":{\"colorbar\":{\"outlinewidth\":0,\"ticks\":\"\"}},\"colorscale\":{\"sequential\":[[0.0,\"#0d0887\"],[0.1111111111111111,\"#46039f\"],[0.2222222222222222,\"#7201a8\"],[0.3333333333333333,\"#9c179e\"],[0.4444444444444444,\"#bd3786\"],[0.5555555555555556,\"#d8576b\"],[0.6666666666666666,\"#ed7953\"],[0.7777777777777778,\"#fb9f3a\"],[0.8888888888888888,\"#fdca26\"],[1.0,\"#f0f921\"]],\"sequentialminus\":[[0.0,\"#0d0887\"],[0.1111111111111111,\"#46039f\"],[0.2222222222222222,\"#7201a8\"],[0.3333333333333333,\"#9c179e\"],[0.4444444444444444,\"#bd3786\"],[0.5555555555555556,\"#d8576b\"],[0.6666666666666666,\"#ed7953\"],[0.7777777777777778,\"#fb9f3a\"],[0.8888888888888888,\"#fdca26\"],[1.0,\"#f0f921\"]],\"diverging\":[[0,\"#8e0152\"],[0.1,\"#c51b7d\"],[0.2,\"#de77ae\"],[0.3,\"#f1b6da\"],[0.4,\"#fde0ef\"],[0.5,\"#f7f7f7\"],[0.6,\"#e6f5d0\"],[0.7,\"#b8e186\"],[0.8,\"#7fbc41\"],[0.9,\"#4d9221\"],[1,\"#276419\"]]},\"xaxis\":{\"gridcolor\":\"white\",\"linecolor\":\"white\",\"ticks\":\"\",\"title\":{\"standoff\":15},\"zerolinecolor\":\"white\",\"automargin\":true,\"zerolinewidth\":2},\"yaxis\":{\"gridcolor\":\"white\",\"linecolor\":\"white\",\"ticks\":\"\",\"title\":{\"standoff\":15},\"zerolinecolor\":\"white\",\"automargin\":true,\"zerolinewidth\":2},\"scene\":{\"xaxis\":{\"backgroundcolor\":\"#E5ECF6\",\"gridcolor\":\"white\",\"linecolor\":\"white\",\"showbackground\":true,\"ticks\":\"\",\"zerolinecolor\":\"white\",\"gridwidth\":2},\"yaxis\":{\"backgroundcolor\":\"#E5ECF6\",\"gridcolor\":\"white\",\"linecolor\":\"white\",\"showbackground\":true,\"ticks\":\"\",\"zerolinecolor\":\"white\",\"gridwidth\":2},\"zaxis\":{\"backgroundcolor\":\"#E5ECF6\",\"gridcolor\":\"white\",\"linecolor\":\"white\",\"showbackground\":true,\"ticks\":\"\",\"zerolinecolor\":\"white\",\"gridwidth\":2}},\"shapedefaults\":{\"line\":{\"color\":\"#2a3f5f\"}},\"annotationdefaults\":{\"arrowcolor\":\"#2a3f5f\",\"arrowhead\":0,\"arrowwidth\":1},\"geo\":{\"bgcolor\":\"white\",\"landcolor\":\"#E5ECF6\",\"subunitcolor\":\"white\",\"showland\":true,\"showlakes\":true,\"lakecolor\":\"white\"},\"title\":{\"x\":0.05},\"mapbox\":{\"style\":\"light\"}}},\"polar\":{\"domain\":{\"x\":[0.0,1.0],\"y\":[0.0,1.0]},\"angularaxis\":{\"direction\":\"clockwise\",\"rotation\":90}},\"legend\":{\"tracegroupgap\":0},\"margin\":{\"t\":60}},                        {\"responsive\": true}                    ).then(function(){\n",
       "                            \n",
       "var gd = document.getElementById('9a862dc3-168e-408a-a2c5-bdf769b553a2');\n",
       "var x = new MutationObserver(function (mutations, observer) {{\n",
       "        var display = window.getComputedStyle(gd).display;\n",
       "        if (!display || display === 'none') {{\n",
       "            console.log([gd, 'removed!']);\n",
       "            Plotly.purge(gd);\n",
       "            observer.disconnect();\n",
       "        }}\n",
       "}});\n",
       "\n",
       "// Listen for the removal of the full notebook cells\n",
       "var notebookContainer = gd.closest('#notebook-container');\n",
       "if (notebookContainer) {{\n",
       "    x.observe(notebookContainer, {childList: true});\n",
       "}}\n",
       "\n",
       "// Listen for the clearing of the current output cell\n",
       "var outputEl = gd.closest('.output');\n",
       "if (outputEl) {{\n",
       "    x.observe(outputEl, {childList: true});\n",
       "}}\n",
       "\n",
       "                        })                };                });            </script>        </div>"
      ]
     },
     "metadata": {},
     "output_type": "display_data"
    }
   ],
   "source": [
    "fig=px.line_polar(df_utf.iloc[:,:2],r='19歳以下',theta='Attribute',line_close=True)  #グラフの定義\n",
    "fig.update_traces(fill='toself')  #レイアウトの定義\n",
    "fig.show()  #グラフ描画"
   ]
  },
  {
   "cell_type": "markdown",
   "id": "6daa3def",
   "metadata": {},
   "source": [
    "## Example 3-1"
   ]
  },
  {
   "cell_type": "code",
   "execution_count": 33,
   "id": "8db7dc1b",
   "metadata": {},
   "outputs": [
    {
     "data": {
      "text/plain": [
       "Index(['Attribute', '19歳以下', '20歳代', '30歳代', '40歳代', '50歳代', '60歲代', '70歲以上'], dtype='object')"
      ]
     },
     "metadata": {},
     "output_type": "display_data"
    },
    {
     "data": {
      "text/html": [
       "<div>\n",
       "<style scoped>\n",
       "    .dataframe tbody tr th:only-of-type {\n",
       "        vertical-align: middle;\n",
       "    }\n",
       "\n",
       "    .dataframe tbody tr th {\n",
       "        vertical-align: top;\n",
       "    }\n",
       "\n",
       "    .dataframe thead th {\n",
       "        text-align: right;\n",
       "    }\n",
       "</style>\n",
       "<table border=\"1\" class=\"dataframe\">\n",
       "  <thead>\n",
       "    <tr style=\"text-align: right;\">\n",
       "      <th></th>\n",
       "      <th>Subject</th>\n",
       "      <th>19歳以下</th>\n",
       "      <th>20歳代</th>\n",
       "      <th>30歳代</th>\n",
       "      <th>40歳代</th>\n",
       "      <th>50歳代</th>\n",
       "      <th>60歲代</th>\n",
       "      <th>70歲以上</th>\n",
       "    </tr>\n",
       "  </thead>\n",
       "  <tbody>\n",
       "    <tr>\n",
       "      <th>0</th>\n",
       "      <td>1ヶ月に5時間未満(1日10分未満)</td>\n",
       "      <td>0</td>\n",
       "      <td>0.9</td>\n",
       "      <td>5.5</td>\n",
       "      <td>5.7</td>\n",
       "      <td>11.0</td>\n",
       "      <td>22.1</td>\n",
       "      <td>26.1</td>\n",
       "    </tr>\n",
       "    <tr>\n",
       "      <th>1</th>\n",
       "      <td>1ヶ月に5時間以上15時間未満(1日10分~30分程度)</td>\n",
       "      <td>0</td>\n",
       "      <td>4.7</td>\n",
       "      <td>7.3</td>\n",
       "      <td>13.7</td>\n",
       "      <td>19.6</td>\n",
       "      <td>21.5</td>\n",
       "      <td>24.5</td>\n",
       "    </tr>\n",
       "    <tr>\n",
       "      <th>2</th>\n",
       "      <td>1ヶ月に15時間以上30時間未満(1日30分~60分程度)</td>\n",
       "      <td>5</td>\n",
       "      <td>7.5</td>\n",
       "      <td>18.2</td>\n",
       "      <td>14.5</td>\n",
       "      <td>20.1</td>\n",
       "      <td>16.4</td>\n",
       "      <td>17.9</td>\n",
       "    </tr>\n",
       "    <tr>\n",
       "      <th>3</th>\n",
       "      <td>1ヶ月に30時間以上60時間未満(1日1~2時間程度)</td>\n",
       "      <td>25</td>\n",
       "      <td>24.5</td>\n",
       "      <td>32.7</td>\n",
       "      <td>35.7</td>\n",
       "      <td>23.9</td>\n",
       "      <td>18.1</td>\n",
       "      <td>20.2</td>\n",
       "    </tr>\n",
       "    <tr>\n",
       "      <th>4</th>\n",
       "      <td>1ヶ月に60時間以上(1日2時間以上)</td>\n",
       "      <td>70</td>\n",
       "      <td>62.3</td>\n",
       "      <td>36.4</td>\n",
       "      <td>30.4</td>\n",
       "      <td>25.4</td>\n",
       "      <td>19.6</td>\n",
       "      <td>10.7</td>\n",
       "    </tr>\n",
       "    <tr>\n",
       "      <th>5</th>\n",
       "      <td>無回答</td>\n",
       "      <td>0</td>\n",
       "      <td>0.0</td>\n",
       "      <td>0.0</td>\n",
       "      <td>0.0</td>\n",
       "      <td>0.0</td>\n",
       "      <td>2.3</td>\n",
       "      <td>0.6</td>\n",
       "    </tr>\n",
       "  </tbody>\n",
       "</table>\n",
       "</div>"
      ],
      "text/plain": [
       "                         Subject  19歳以下  20歳代  30歳代  40歳代  50歳代  60歲代  70歲以上\n",
       "0             1ヶ月に5時間未満(1日10分未満)      0   0.9   5.5   5.7  11.0  22.1   26.1\n",
       "1   1ヶ月に5時間以上15時間未満(1日10分~30分程度)      0   4.7   7.3  13.7  19.6  21.5   24.5\n",
       "2  1ヶ月に15時間以上30時間未満(1日30分~60分程度)      5   7.5  18.2  14.5  20.1  16.4   17.9\n",
       "3    1ヶ月に30時間以上60時間未満(1日1~2時間程度)     25  24.5  32.7  35.7  23.9  18.1   20.2\n",
       "4            1ヶ月に60時間以上(1日2時間以上)     70  62.3  36.4  30.4  25.4  19.6   10.7\n",
       "5                            無回答      0   0.0   0.0   0.0   0.0   2.3    0.6"
      ]
     },
     "metadata": {},
     "output_type": "display_data"
    },
    {
     "data": {
      "text/plain": [
       "['Subject', '19歳以下', '20歳代', '30歳代', '40歳代', '50歳代', '60歲代', '70歲以上']"
      ]
     },
     "metadata": {},
     "output_type": "display_data"
    }
   ],
   "source": [
    "display(df_utf.columns)\n",
    "df_utf=df_utf.rename(columns={'Attribute': 'Subject'})\n",
    "col_name=list(df_utf.columns)\n",
    "\n",
    "display(df_utf)\n",
    "display(col_name)"
   ]
  },
  {
   "cell_type": "code",
   "execution_count": 15,
   "id": "61dfee0d",
   "metadata": {},
   "outputs": [
    {
     "data": {
      "text/plain": [
       "8"
      ]
     },
     "execution_count": 15,
     "metadata": {},
     "output_type": "execute_result"
    }
   ],
   "source": [
    "len(df_utf.columns)"
   ]
  },
  {
   "cell_type": "code",
   "execution_count": 34,
   "id": "0c3c66bd",
   "metadata": {},
   "outputs": [
    {
     "data": {
      "text/plain": [
       "[{'Subject': '19歳以下',\n",
       "  '1ヶ月に5時間未満(1日10分未満)': 0,\n",
       "  '1ヶ月に5時間以上15時間未満(1日10分~30分程度)': 0,\n",
       "  '1ヶ月に15時間以上30時間未満(1日30分~60分程度)': 5,\n",
       "  '1ヶ月に30時間以上60時間未満(1日1~2時間程度)': 25,\n",
       "  '1ヶ月に60時間以上(1日2時間以上)': 70,\n",
       "  '無回答': 0},\n",
       " {'Subject': '20歳代',\n",
       "  '1ヶ月に5時間未満(1日10分未満)': 0.9,\n",
       "  '1ヶ月に5時間以上15時間未満(1日10分~30分程度)': 4.7,\n",
       "  '1ヶ月に15時間以上30時間未満(1日30分~60分程度)': 7.5,\n",
       "  '1ヶ月に30時間以上60時間未満(1日1~2時間程度)': 24.5,\n",
       "  '1ヶ月に60時間以上(1日2時間以上)': 62.3,\n",
       "  '無回答': 0.0},\n",
       " {'Subject': '30歳代',\n",
       "  '1ヶ月に5時間未満(1日10分未満)': 5.5,\n",
       "  '1ヶ月に5時間以上15時間未満(1日10分~30分程度)': 7.3,\n",
       "  '1ヶ月に15時間以上30時間未満(1日30分~60分程度)': 18.2,\n",
       "  '1ヶ月に30時間以上60時間未満(1日1~2時間程度)': 32.7,\n",
       "  '1ヶ月に60時間以上(1日2時間以上)': 36.4,\n",
       "  '無回答': 0.0},\n",
       " {'Subject': '40歳代',\n",
       "  '1ヶ月に5時間未満(1日10分未満)': 5.7,\n",
       "  '1ヶ月に5時間以上15時間未満(1日10分~30分程度)': 13.7,\n",
       "  '1ヶ月に15時間以上30時間未満(1日30分~60分程度)': 14.5,\n",
       "  '1ヶ月に30時間以上60時間未満(1日1~2時間程度)': 35.7,\n",
       "  '1ヶ月に60時間以上(1日2時間以上)': 30.4,\n",
       "  '無回答': 0.0},\n",
       " {'Subject': '50歳代',\n",
       "  '1ヶ月に5時間未満(1日10分未満)': 11.0,\n",
       "  '1ヶ月に5時間以上15時間未満(1日10分~30分程度)': 19.6,\n",
       "  '1ヶ月に15時間以上30時間未満(1日30分~60分程度)': 20.1,\n",
       "  '1ヶ月に30時間以上60時間未満(1日1~2時間程度)': 23.9,\n",
       "  '1ヶ月に60時間以上(1日2時間以上)': 25.4,\n",
       "  '無回答': 0.0},\n",
       " {'Subject': '60歲代',\n",
       "  '1ヶ月に5時間未満(1日10分未満)': 22.1,\n",
       "  '1ヶ月に5時間以上15時間未満(1日10分~30分程度)': 21.5,\n",
       "  '1ヶ月に15時間以上30時間未満(1日30分~60分程度)': 16.4,\n",
       "  '1ヶ月に30時間以上60時間未満(1日1~2時間程度)': 18.1,\n",
       "  '1ヶ月に60時間以上(1日2時間以上)': 19.6,\n",
       "  '無回答': 2.3},\n",
       " {'Subject': '70歲以上',\n",
       "  '1ヶ月に5時間未満(1日10分未満)': 26.1,\n",
       "  '1ヶ月に5時間以上15時間未満(1日10分~30分程度)': 24.5,\n",
       "  '1ヶ月に15時間以上30時間未満(1日30分~60分程度)': 17.9,\n",
       "  '1ヶ月に30時間以上60時間未満(1日1~2時間程度)': 20.2,\n",
       "  '1ヶ月に60時間以上(1日2時間以上)': 10.7,\n",
       "  '無回答': 0.6}]"
      ]
     },
     "metadata": {},
     "output_type": "display_data"
    }
   ],
   "source": [
    "data_full=[]\n",
    "for k in range(1,len(df_utf.columns)):\n",
    "    label_list=list(df_utf.iloc[:,0])\n",
    "    value_list=list(df_utf.iloc[:,k])\n",
    "    d1=dict([(col_name[0], col_name[k])])\n",
    "    d2=dict(zip(label_list, value_list))\n",
    "    d3=dict(**d1,**d2)\n",
    "    data_full=data_full+[d3]\n",
    "\n",
    "display(data_full)"
   ]
  },
  {
   "cell_type": "code",
   "execution_count": 35,
   "id": "22ad7f80",
   "metadata": {},
   "outputs": [
    {
     "data": {
      "text/html": [
       "<div>\n",
       "<style scoped>\n",
       "    .dataframe tbody tr th:only-of-type {\n",
       "        vertical-align: middle;\n",
       "    }\n",
       "\n",
       "    .dataframe tbody tr th {\n",
       "        vertical-align: top;\n",
       "    }\n",
       "\n",
       "    .dataframe thead th {\n",
       "        text-align: right;\n",
       "    }\n",
       "</style>\n",
       "<table border=\"1\" class=\"dataframe\">\n",
       "  <thead>\n",
       "    <tr style=\"text-align: right;\">\n",
       "      <th></th>\n",
       "      <th>1ヶ月に5時間未満(1日10分未満)</th>\n",
       "      <th>1ヶ月に5時間以上15時間未満(1日10分~30分程度)</th>\n",
       "      <th>1ヶ月に15時間以上30時間未満(1日30分~60分程度)</th>\n",
       "      <th>1ヶ月に30時間以上60時間未満(1日1~2時間程度)</th>\n",
       "      <th>1ヶ月に60時間以上(1日2時間以上)</th>\n",
       "      <th>無回答</th>\n",
       "    </tr>\n",
       "    <tr>\n",
       "      <th>Subject</th>\n",
       "      <th></th>\n",
       "      <th></th>\n",
       "      <th></th>\n",
       "      <th></th>\n",
       "      <th></th>\n",
       "      <th></th>\n",
       "    </tr>\n",
       "  </thead>\n",
       "  <tbody>\n",
       "    <tr>\n",
       "      <th>19歳以下</th>\n",
       "      <td>0.0</td>\n",
       "      <td>0.0</td>\n",
       "      <td>5.0</td>\n",
       "      <td>25.0</td>\n",
       "      <td>70.0</td>\n",
       "      <td>0.0</td>\n",
       "    </tr>\n",
       "    <tr>\n",
       "      <th>20歳代</th>\n",
       "      <td>0.9</td>\n",
       "      <td>4.7</td>\n",
       "      <td>7.5</td>\n",
       "      <td>24.5</td>\n",
       "      <td>62.3</td>\n",
       "      <td>0.0</td>\n",
       "    </tr>\n",
       "    <tr>\n",
       "      <th>30歳代</th>\n",
       "      <td>5.5</td>\n",
       "      <td>7.3</td>\n",
       "      <td>18.2</td>\n",
       "      <td>32.7</td>\n",
       "      <td>36.4</td>\n",
       "      <td>0.0</td>\n",
       "    </tr>\n",
       "    <tr>\n",
       "      <th>40歳代</th>\n",
       "      <td>5.7</td>\n",
       "      <td>13.7</td>\n",
       "      <td>14.5</td>\n",
       "      <td>35.7</td>\n",
       "      <td>30.4</td>\n",
       "      <td>0.0</td>\n",
       "    </tr>\n",
       "    <tr>\n",
       "      <th>50歳代</th>\n",
       "      <td>11.0</td>\n",
       "      <td>19.6</td>\n",
       "      <td>20.1</td>\n",
       "      <td>23.9</td>\n",
       "      <td>25.4</td>\n",
       "      <td>0.0</td>\n",
       "    </tr>\n",
       "    <tr>\n",
       "      <th>60歲代</th>\n",
       "      <td>22.1</td>\n",
       "      <td>21.5</td>\n",
       "      <td>16.4</td>\n",
       "      <td>18.1</td>\n",
       "      <td>19.6</td>\n",
       "      <td>2.3</td>\n",
       "    </tr>\n",
       "    <tr>\n",
       "      <th>70歲以上</th>\n",
       "      <td>26.1</td>\n",
       "      <td>24.5</td>\n",
       "      <td>17.9</td>\n",
       "      <td>20.2</td>\n",
       "      <td>10.7</td>\n",
       "      <td>0.6</td>\n",
       "    </tr>\n",
       "  </tbody>\n",
       "</table>\n",
       "</div>"
      ],
      "text/plain": [
       "         1ヶ月に5時間未満(1日10分未満)  1ヶ月に5時間以上15時間未満(1日10分~30分程度)  \\\n",
       "Subject                                                     \n",
       "19歳以下                   0.0                           0.0   \n",
       "20歳代                    0.9                           4.7   \n",
       "30歳代                    5.5                           7.3   \n",
       "40歳代                    5.7                          13.7   \n",
       "50歳代                   11.0                          19.6   \n",
       "60歲代                   22.1                          21.5   \n",
       "70歲以上                  26.1                          24.5   \n",
       "\n",
       "         1ヶ月に15時間以上30時間未満(1日30分~60分程度)  1ヶ月に30時間以上60時間未満(1日1~2時間程度)  \\\n",
       "Subject                                                               \n",
       "19歳以下                              5.0                         25.0   \n",
       "20歳代                               7.5                         24.5   \n",
       "30歳代                              18.2                         32.7   \n",
       "40歳代                              14.5                         35.7   \n",
       "50歳代                              20.1                         23.9   \n",
       "60歲代                              16.4                         18.1   \n",
       "70歲以上                             17.9                         20.2   \n",
       "\n",
       "         1ヶ月に60時間以上(1日2時間以上)  無回答  \n",
       "Subject                            \n",
       "19歳以下                   70.0  0.0  \n",
       "20歳代                    62.3  0.0  \n",
       "30歳代                    36.4  0.0  \n",
       "40歳代                    30.4  0.0  \n",
       "50歳代                    25.4  0.0  \n",
       "60歲代                    19.6  2.3  \n",
       "70歲以上                   10.7  0.6  "
      ]
     },
     "metadata": {},
     "output_type": "display_data"
    },
    {
     "data": {
      "text/html": [
       "<div>\n",
       "<style scoped>\n",
       "    .dataframe tbody tr th:only-of-type {\n",
       "        vertical-align: middle;\n",
       "    }\n",
       "\n",
       "    .dataframe tbody tr th {\n",
       "        vertical-align: top;\n",
       "    }\n",
       "\n",
       "    .dataframe thead th {\n",
       "        text-align: right;\n",
       "    }\n",
       "</style>\n",
       "<table border=\"1\" class=\"dataframe\">\n",
       "  <thead>\n",
       "    <tr style=\"text-align: right;\">\n",
       "      <th></th>\n",
       "      <th>Subject</th>\n",
       "      <th>label</th>\n",
       "      <th>value</th>\n",
       "    </tr>\n",
       "  </thead>\n",
       "  <tbody>\n",
       "    <tr>\n",
       "      <th>0</th>\n",
       "      <td>19歳以下</td>\n",
       "      <td>1ヶ月に5時間未満(1日10分未満)</td>\n",
       "      <td>0.0</td>\n",
       "    </tr>\n",
       "    <tr>\n",
       "      <th>1</th>\n",
       "      <td>19歳以下</td>\n",
       "      <td>1ヶ月に5時間以上15時間未満(1日10分~30分程度)</td>\n",
       "      <td>0.0</td>\n",
       "    </tr>\n",
       "    <tr>\n",
       "      <th>2</th>\n",
       "      <td>19歳以下</td>\n",
       "      <td>1ヶ月に15時間以上30時間未満(1日30分~60分程度)</td>\n",
       "      <td>5.0</td>\n",
       "    </tr>\n",
       "    <tr>\n",
       "      <th>3</th>\n",
       "      <td>19歳以下</td>\n",
       "      <td>1ヶ月に30時間以上60時間未満(1日1~2時間程度)</td>\n",
       "      <td>25.0</td>\n",
       "    </tr>\n",
       "    <tr>\n",
       "      <th>4</th>\n",
       "      <td>19歳以下</td>\n",
       "      <td>1ヶ月に60時間以上(1日2時間以上)</td>\n",
       "      <td>70.0</td>\n",
       "    </tr>\n",
       "    <tr>\n",
       "      <th>5</th>\n",
       "      <td>19歳以下</td>\n",
       "      <td>無回答</td>\n",
       "      <td>0.0</td>\n",
       "    </tr>\n",
       "    <tr>\n",
       "      <th>6</th>\n",
       "      <td>20歳代</td>\n",
       "      <td>1ヶ月に5時間未満(1日10分未満)</td>\n",
       "      <td>0.9</td>\n",
       "    </tr>\n",
       "    <tr>\n",
       "      <th>7</th>\n",
       "      <td>20歳代</td>\n",
       "      <td>1ヶ月に5時間以上15時間未満(1日10分~30分程度)</td>\n",
       "      <td>4.7</td>\n",
       "    </tr>\n",
       "    <tr>\n",
       "      <th>8</th>\n",
       "      <td>20歳代</td>\n",
       "      <td>1ヶ月に15時間以上30時間未満(1日30分~60分程度)</td>\n",
       "      <td>7.5</td>\n",
       "    </tr>\n",
       "    <tr>\n",
       "      <th>9</th>\n",
       "      <td>20歳代</td>\n",
       "      <td>1ヶ月に30時間以上60時間未満(1日1~2時間程度)</td>\n",
       "      <td>24.5</td>\n",
       "    </tr>\n",
       "    <tr>\n",
       "      <th>10</th>\n",
       "      <td>20歳代</td>\n",
       "      <td>1ヶ月に60時間以上(1日2時間以上)</td>\n",
       "      <td>62.3</td>\n",
       "    </tr>\n",
       "    <tr>\n",
       "      <th>11</th>\n",
       "      <td>20歳代</td>\n",
       "      <td>無回答</td>\n",
       "      <td>0.0</td>\n",
       "    </tr>\n",
       "    <tr>\n",
       "      <th>12</th>\n",
       "      <td>30歳代</td>\n",
       "      <td>1ヶ月に5時間未満(1日10分未満)</td>\n",
       "      <td>5.5</td>\n",
       "    </tr>\n",
       "    <tr>\n",
       "      <th>13</th>\n",
       "      <td>30歳代</td>\n",
       "      <td>1ヶ月に5時間以上15時間未満(1日10分~30分程度)</td>\n",
       "      <td>7.3</td>\n",
       "    </tr>\n",
       "    <tr>\n",
       "      <th>14</th>\n",
       "      <td>30歳代</td>\n",
       "      <td>1ヶ月に15時間以上30時間未満(1日30分~60分程度)</td>\n",
       "      <td>18.2</td>\n",
       "    </tr>\n",
       "    <tr>\n",
       "      <th>15</th>\n",
       "      <td>30歳代</td>\n",
       "      <td>1ヶ月に30時間以上60時間未満(1日1~2時間程度)</td>\n",
       "      <td>32.7</td>\n",
       "    </tr>\n",
       "    <tr>\n",
       "      <th>16</th>\n",
       "      <td>30歳代</td>\n",
       "      <td>1ヶ月に60時間以上(1日2時間以上)</td>\n",
       "      <td>36.4</td>\n",
       "    </tr>\n",
       "    <tr>\n",
       "      <th>17</th>\n",
       "      <td>30歳代</td>\n",
       "      <td>無回答</td>\n",
       "      <td>0.0</td>\n",
       "    </tr>\n",
       "    <tr>\n",
       "      <th>18</th>\n",
       "      <td>40歳代</td>\n",
       "      <td>1ヶ月に5時間未満(1日10分未満)</td>\n",
       "      <td>5.7</td>\n",
       "    </tr>\n",
       "    <tr>\n",
       "      <th>19</th>\n",
       "      <td>40歳代</td>\n",
       "      <td>1ヶ月に5時間以上15時間未満(1日10分~30分程度)</td>\n",
       "      <td>13.7</td>\n",
       "    </tr>\n",
       "    <tr>\n",
       "      <th>20</th>\n",
       "      <td>40歳代</td>\n",
       "      <td>1ヶ月に15時間以上30時間未満(1日30分~60分程度)</td>\n",
       "      <td>14.5</td>\n",
       "    </tr>\n",
       "    <tr>\n",
       "      <th>21</th>\n",
       "      <td>40歳代</td>\n",
       "      <td>1ヶ月に30時間以上60時間未満(1日1~2時間程度)</td>\n",
       "      <td>35.7</td>\n",
       "    </tr>\n",
       "    <tr>\n",
       "      <th>22</th>\n",
       "      <td>40歳代</td>\n",
       "      <td>1ヶ月に60時間以上(1日2時間以上)</td>\n",
       "      <td>30.4</td>\n",
       "    </tr>\n",
       "    <tr>\n",
       "      <th>23</th>\n",
       "      <td>40歳代</td>\n",
       "      <td>無回答</td>\n",
       "      <td>0.0</td>\n",
       "    </tr>\n",
       "    <tr>\n",
       "      <th>24</th>\n",
       "      <td>50歳代</td>\n",
       "      <td>1ヶ月に5時間未満(1日10分未満)</td>\n",
       "      <td>11.0</td>\n",
       "    </tr>\n",
       "    <tr>\n",
       "      <th>25</th>\n",
       "      <td>50歳代</td>\n",
       "      <td>1ヶ月に5時間以上15時間未満(1日10分~30分程度)</td>\n",
       "      <td>19.6</td>\n",
       "    </tr>\n",
       "    <tr>\n",
       "      <th>26</th>\n",
       "      <td>50歳代</td>\n",
       "      <td>1ヶ月に15時間以上30時間未満(1日30分~60分程度)</td>\n",
       "      <td>20.1</td>\n",
       "    </tr>\n",
       "    <tr>\n",
       "      <th>27</th>\n",
       "      <td>50歳代</td>\n",
       "      <td>1ヶ月に30時間以上60時間未満(1日1~2時間程度)</td>\n",
       "      <td>23.9</td>\n",
       "    </tr>\n",
       "    <tr>\n",
       "      <th>28</th>\n",
       "      <td>50歳代</td>\n",
       "      <td>1ヶ月に60時間以上(1日2時間以上)</td>\n",
       "      <td>25.4</td>\n",
       "    </tr>\n",
       "    <tr>\n",
       "      <th>29</th>\n",
       "      <td>50歳代</td>\n",
       "      <td>無回答</td>\n",
       "      <td>0.0</td>\n",
       "    </tr>\n",
       "    <tr>\n",
       "      <th>30</th>\n",
       "      <td>60歲代</td>\n",
       "      <td>1ヶ月に5時間未満(1日10分未満)</td>\n",
       "      <td>22.1</td>\n",
       "    </tr>\n",
       "    <tr>\n",
       "      <th>31</th>\n",
       "      <td>60歲代</td>\n",
       "      <td>1ヶ月に5時間以上15時間未満(1日10分~30分程度)</td>\n",
       "      <td>21.5</td>\n",
       "    </tr>\n",
       "    <tr>\n",
       "      <th>32</th>\n",
       "      <td>60歲代</td>\n",
       "      <td>1ヶ月に15時間以上30時間未満(1日30分~60分程度)</td>\n",
       "      <td>16.4</td>\n",
       "    </tr>\n",
       "    <tr>\n",
       "      <th>33</th>\n",
       "      <td>60歲代</td>\n",
       "      <td>1ヶ月に30時間以上60時間未満(1日1~2時間程度)</td>\n",
       "      <td>18.1</td>\n",
       "    </tr>\n",
       "    <tr>\n",
       "      <th>34</th>\n",
       "      <td>60歲代</td>\n",
       "      <td>1ヶ月に60時間以上(1日2時間以上)</td>\n",
       "      <td>19.6</td>\n",
       "    </tr>\n",
       "    <tr>\n",
       "      <th>35</th>\n",
       "      <td>60歲代</td>\n",
       "      <td>無回答</td>\n",
       "      <td>2.3</td>\n",
       "    </tr>\n",
       "    <tr>\n",
       "      <th>36</th>\n",
       "      <td>70歲以上</td>\n",
       "      <td>1ヶ月に5時間未満(1日10分未満)</td>\n",
       "      <td>26.1</td>\n",
       "    </tr>\n",
       "    <tr>\n",
       "      <th>37</th>\n",
       "      <td>70歲以上</td>\n",
       "      <td>1ヶ月に5時間以上15時間未満(1日10分~30分程度)</td>\n",
       "      <td>24.5</td>\n",
       "    </tr>\n",
       "    <tr>\n",
       "      <th>38</th>\n",
       "      <td>70歲以上</td>\n",
       "      <td>1ヶ月に15時間以上30時間未満(1日30分~60分程度)</td>\n",
       "      <td>17.9</td>\n",
       "    </tr>\n",
       "    <tr>\n",
       "      <th>39</th>\n",
       "      <td>70歲以上</td>\n",
       "      <td>1ヶ月に30時間以上60時間未満(1日1~2時間程度)</td>\n",
       "      <td>20.2</td>\n",
       "    </tr>\n",
       "    <tr>\n",
       "      <th>40</th>\n",
       "      <td>70歲以上</td>\n",
       "      <td>1ヶ月に60時間以上(1日2時間以上)</td>\n",
       "      <td>10.7</td>\n",
       "    </tr>\n",
       "    <tr>\n",
       "      <th>41</th>\n",
       "      <td>70歲以上</td>\n",
       "      <td>無回答</td>\n",
       "      <td>0.6</td>\n",
       "    </tr>\n",
       "  </tbody>\n",
       "</table>\n",
       "</div>"
      ],
      "text/plain": [
       "   Subject                          label  value\n",
       "0    19歳以下             1ヶ月に5時間未満(1日10分未満)    0.0\n",
       "1    19歳以下   1ヶ月に5時間以上15時間未満(1日10分~30分程度)    0.0\n",
       "2    19歳以下  1ヶ月に15時間以上30時間未満(1日30分~60分程度)    5.0\n",
       "3    19歳以下    1ヶ月に30時間以上60時間未満(1日1~2時間程度)   25.0\n",
       "4    19歳以下            1ヶ月に60時間以上(1日2時間以上)   70.0\n",
       "5    19歳以下                            無回答    0.0\n",
       "6     20歳代             1ヶ月に5時間未満(1日10分未満)    0.9\n",
       "7     20歳代   1ヶ月に5時間以上15時間未満(1日10分~30分程度)    4.7\n",
       "8     20歳代  1ヶ月に15時間以上30時間未満(1日30分~60分程度)    7.5\n",
       "9     20歳代    1ヶ月に30時間以上60時間未満(1日1~2時間程度)   24.5\n",
       "10    20歳代            1ヶ月に60時間以上(1日2時間以上)   62.3\n",
       "11    20歳代                            無回答    0.0\n",
       "12    30歳代             1ヶ月に5時間未満(1日10分未満)    5.5\n",
       "13    30歳代   1ヶ月に5時間以上15時間未満(1日10分~30分程度)    7.3\n",
       "14    30歳代  1ヶ月に15時間以上30時間未満(1日30分~60分程度)   18.2\n",
       "15    30歳代    1ヶ月に30時間以上60時間未満(1日1~2時間程度)   32.7\n",
       "16    30歳代            1ヶ月に60時間以上(1日2時間以上)   36.4\n",
       "17    30歳代                            無回答    0.0\n",
       "18    40歳代             1ヶ月に5時間未満(1日10分未満)    5.7\n",
       "19    40歳代   1ヶ月に5時間以上15時間未満(1日10分~30分程度)   13.7\n",
       "20    40歳代  1ヶ月に15時間以上30時間未満(1日30分~60分程度)   14.5\n",
       "21    40歳代    1ヶ月に30時間以上60時間未満(1日1~2時間程度)   35.7\n",
       "22    40歳代            1ヶ月に60時間以上(1日2時間以上)   30.4\n",
       "23    40歳代                            無回答    0.0\n",
       "24    50歳代             1ヶ月に5時間未満(1日10分未満)   11.0\n",
       "25    50歳代   1ヶ月に5時間以上15時間未満(1日10分~30分程度)   19.6\n",
       "26    50歳代  1ヶ月に15時間以上30時間未満(1日30分~60分程度)   20.1\n",
       "27    50歳代    1ヶ月に30時間以上60時間未満(1日1~2時間程度)   23.9\n",
       "28    50歳代            1ヶ月に60時間以上(1日2時間以上)   25.4\n",
       "29    50歳代                            無回答    0.0\n",
       "30    60歲代             1ヶ月に5時間未満(1日10分未満)   22.1\n",
       "31    60歲代   1ヶ月に5時間以上15時間未満(1日10分~30分程度)   21.5\n",
       "32    60歲代  1ヶ月に15時間以上30時間未満(1日30分~60分程度)   16.4\n",
       "33    60歲代    1ヶ月に30時間以上60時間未満(1日1~2時間程度)   18.1\n",
       "34    60歲代            1ヶ月に60時間以上(1日2時間以上)   19.6\n",
       "35    60歲代                            無回答    2.3\n",
       "36   70歲以上             1ヶ月に5時間未満(1日10分未満)   26.1\n",
       "37   70歲以上   1ヶ月に5時間以上15時間未満(1日10分~30分程度)   24.5\n",
       "38   70歲以上  1ヶ月に15時間以上30時間未満(1日30分~60分程度)   17.9\n",
       "39   70歲以上    1ヶ月に30時間以上60時間未満(1日1~2時間程度)   20.2\n",
       "40   70歲以上            1ヶ月に60時間以上(1日2時間以上)   10.7\n",
       "41   70歲以上                            無回答    0.6"
      ]
     },
     "metadata": {},
     "output_type": "display_data"
    }
   ],
   "source": [
    "#データフレーム生成\n",
    "df_graph2=pd.DataFrame(data_full).set_index('Subject')\n",
    "display(df_graph2)\n",
    "\n",
    "#データフレームの整形\n",
    "df_graph2=df_graph2.stack().rename_axis(['Subject','label']).reset_index().rename(columns={0:'value'})\n",
    "display(df_graph2)"
   ]
  },
  {
   "cell_type": "code",
   "execution_count": 36,
   "id": "f2f40c81",
   "metadata": {},
   "outputs": [
    {
     "name": "stderr",
     "output_type": "stream",
     "text": [
      "/usr/local/lib/python3.9/site-packages/plotly/express/_core.py:271: FutureWarning:\n",
      "\n",
      "The frame.append method is deprecated and will be removed from pandas in a future version. Use pandas.concat instead.\n",
      "\n",
      "/usr/local/lib/python3.9/site-packages/plotly/express/_core.py:271: FutureWarning:\n",
      "\n",
      "The frame.append method is deprecated and will be removed from pandas in a future version. Use pandas.concat instead.\n",
      "\n",
      "/usr/local/lib/python3.9/site-packages/plotly/express/_core.py:271: FutureWarning:\n",
      "\n",
      "The frame.append method is deprecated and will be removed from pandas in a future version. Use pandas.concat instead.\n",
      "\n",
      "/usr/local/lib/python3.9/site-packages/plotly/express/_core.py:271: FutureWarning:\n",
      "\n",
      "The frame.append method is deprecated and will be removed from pandas in a future version. Use pandas.concat instead.\n",
      "\n",
      "/usr/local/lib/python3.9/site-packages/plotly/express/_core.py:271: FutureWarning:\n",
      "\n",
      "The frame.append method is deprecated and will be removed from pandas in a future version. Use pandas.concat instead.\n",
      "\n",
      "/usr/local/lib/python3.9/site-packages/plotly/express/_core.py:271: FutureWarning:\n",
      "\n",
      "The frame.append method is deprecated and will be removed from pandas in a future version. Use pandas.concat instead.\n",
      "\n",
      "/usr/local/lib/python3.9/site-packages/plotly/express/_core.py:271: FutureWarning:\n",
      "\n",
      "The frame.append method is deprecated and will be removed from pandas in a future version. Use pandas.concat instead.\n",
      "\n"
     ]
    },
    {
     "data": {
      "application/vnd.plotly.v1+json": {
       "config": {
        "plotlyServerURL": "https://plot.ly"
       },
       "data": [
        {
         "hovertemplate": "Subject=19歳以下<br>value=%{r}<br>label=%{theta}<extra></extra>",
         "legendgroup": "19歳以下",
         "line": {
          "color": "#636efa",
          "dash": "solid"
         },
         "marker": {
          "symbol": "circle"
         },
         "mode": "lines",
         "name": "19歳以下",
         "r": [
          0,
          0,
          5,
          25,
          70,
          0,
          0
         ],
         "showlegend": true,
         "subplot": "polar",
         "theta": [
          "1ヶ月に5時間未満(1日10分未満)",
          "1ヶ月に5時間以上15時間未満(1日10分~30分程度)",
          "1ヶ月に15時間以上30時間未満(1日30分~60分程度)",
          "1ヶ月に30時間以上60時間未満(1日1~2時間程度)",
          "1ヶ月に60時間以上(1日2時間以上)",
          "無回答",
          "1ヶ月に5時間未満(1日10分未満)"
         ],
         "type": "scatterpolar"
        },
        {
         "hovertemplate": "Subject=20歳代<br>value=%{r}<br>label=%{theta}<extra></extra>",
         "legendgroup": "20歳代",
         "line": {
          "color": "#EF553B",
          "dash": "solid"
         },
         "marker": {
          "symbol": "circle"
         },
         "mode": "lines",
         "name": "20歳代",
         "r": [
          0.9,
          4.7,
          7.5,
          24.5,
          62.3,
          0,
          0.9
         ],
         "showlegend": true,
         "subplot": "polar",
         "theta": [
          "1ヶ月に5時間未満(1日10分未満)",
          "1ヶ月に5時間以上15時間未満(1日10分~30分程度)",
          "1ヶ月に15時間以上30時間未満(1日30分~60分程度)",
          "1ヶ月に30時間以上60時間未満(1日1~2時間程度)",
          "1ヶ月に60時間以上(1日2時間以上)",
          "無回答",
          "1ヶ月に5時間未満(1日10分未満)"
         ],
         "type": "scatterpolar"
        },
        {
         "hovertemplate": "Subject=30歳代<br>value=%{r}<br>label=%{theta}<extra></extra>",
         "legendgroup": "30歳代",
         "line": {
          "color": "#00cc96",
          "dash": "solid"
         },
         "marker": {
          "symbol": "circle"
         },
         "mode": "lines",
         "name": "30歳代",
         "r": [
          5.5,
          7.3,
          18.2,
          32.7,
          36.4,
          0,
          5.5
         ],
         "showlegend": true,
         "subplot": "polar",
         "theta": [
          "1ヶ月に5時間未満(1日10分未満)",
          "1ヶ月に5時間以上15時間未満(1日10分~30分程度)",
          "1ヶ月に15時間以上30時間未満(1日30分~60分程度)",
          "1ヶ月に30時間以上60時間未満(1日1~2時間程度)",
          "1ヶ月に60時間以上(1日2時間以上)",
          "無回答",
          "1ヶ月に5時間未満(1日10分未満)"
         ],
         "type": "scatterpolar"
        },
        {
         "hovertemplate": "Subject=40歳代<br>value=%{r}<br>label=%{theta}<extra></extra>",
         "legendgroup": "40歳代",
         "line": {
          "color": "#ab63fa",
          "dash": "solid"
         },
         "marker": {
          "symbol": "circle"
         },
         "mode": "lines",
         "name": "40歳代",
         "r": [
          5.7,
          13.7,
          14.5,
          35.7,
          30.4,
          0,
          5.7
         ],
         "showlegend": true,
         "subplot": "polar",
         "theta": [
          "1ヶ月に5時間未満(1日10分未満)",
          "1ヶ月に5時間以上15時間未満(1日10分~30分程度)",
          "1ヶ月に15時間以上30時間未満(1日30分~60分程度)",
          "1ヶ月に30時間以上60時間未満(1日1~2時間程度)",
          "1ヶ月に60時間以上(1日2時間以上)",
          "無回答",
          "1ヶ月に5時間未満(1日10分未満)"
         ],
         "type": "scatterpolar"
        },
        {
         "hovertemplate": "Subject=50歳代<br>value=%{r}<br>label=%{theta}<extra></extra>",
         "legendgroup": "50歳代",
         "line": {
          "color": "#FFA15A",
          "dash": "solid"
         },
         "marker": {
          "symbol": "circle"
         },
         "mode": "lines",
         "name": "50歳代",
         "r": [
          11,
          19.6,
          20.1,
          23.9,
          25.4,
          0,
          11
         ],
         "showlegend": true,
         "subplot": "polar",
         "theta": [
          "1ヶ月に5時間未満(1日10分未満)",
          "1ヶ月に5時間以上15時間未満(1日10分~30分程度)",
          "1ヶ月に15時間以上30時間未満(1日30分~60分程度)",
          "1ヶ月に30時間以上60時間未満(1日1~2時間程度)",
          "1ヶ月に60時間以上(1日2時間以上)",
          "無回答",
          "1ヶ月に5時間未満(1日10分未満)"
         ],
         "type": "scatterpolar"
        },
        {
         "hovertemplate": "Subject=60歲代<br>value=%{r}<br>label=%{theta}<extra></extra>",
         "legendgroup": "60歲代",
         "line": {
          "color": "#19d3f3",
          "dash": "solid"
         },
         "marker": {
          "symbol": "circle"
         },
         "mode": "lines",
         "name": "60歲代",
         "r": [
          22.1,
          21.5,
          16.4,
          18.1,
          19.6,
          2.3,
          22.1
         ],
         "showlegend": true,
         "subplot": "polar",
         "theta": [
          "1ヶ月に5時間未満(1日10分未満)",
          "1ヶ月に5時間以上15時間未満(1日10分~30分程度)",
          "1ヶ月に15時間以上30時間未満(1日30分~60分程度)",
          "1ヶ月に30時間以上60時間未満(1日1~2時間程度)",
          "1ヶ月に60時間以上(1日2時間以上)",
          "無回答",
          "1ヶ月に5時間未満(1日10分未満)"
         ],
         "type": "scatterpolar"
        },
        {
         "hovertemplate": "Subject=70歲以上<br>value=%{r}<br>label=%{theta}<extra></extra>",
         "legendgroup": "70歲以上",
         "line": {
          "color": "#FF6692",
          "dash": "solid"
         },
         "marker": {
          "symbol": "circle"
         },
         "mode": "lines",
         "name": "70歲以上",
         "r": [
          26.1,
          24.5,
          17.9,
          20.2,
          10.7,
          0.6,
          26.1
         ],
         "showlegend": true,
         "subplot": "polar",
         "theta": [
          "1ヶ月に5時間未満(1日10分未満)",
          "1ヶ月に5時間以上15時間未満(1日10分~30分程度)",
          "1ヶ月に15時間以上30時間未満(1日30分~60分程度)",
          "1ヶ月に30時間以上60時間未満(1日1~2時間程度)",
          "1ヶ月に60時間以上(1日2時間以上)",
          "無回答",
          "1ヶ月に5時間未満(1日10分未満)"
         ],
         "type": "scatterpolar"
        }
       ],
       "layout": {
        "legend": {
         "title": {
          "text": "Subject"
         },
         "tracegroupgap": 0
        },
        "margin": {
         "t": 60
        },
        "polar": {
         "angularaxis": {
          "direction": "clockwise",
          "rotation": 90
         },
         "domain": {
          "x": [
           0,
           1
          ],
          "y": [
           0,
           1
          ]
         }
        },
        "template": {
         "data": {
          "bar": [
           {
            "error_x": {
             "color": "#2a3f5f"
            },
            "error_y": {
             "color": "#2a3f5f"
            },
            "marker": {
             "line": {
              "color": "#E5ECF6",
              "width": 0.5
             },
             "pattern": {
              "fillmode": "overlay",
              "size": 10,
              "solidity": 0.2
             }
            },
            "type": "bar"
           }
          ],
          "barpolar": [
           {
            "marker": {
             "line": {
              "color": "#E5ECF6",
              "width": 0.5
             },
             "pattern": {
              "fillmode": "overlay",
              "size": 10,
              "solidity": 0.2
             }
            },
            "type": "barpolar"
           }
          ],
          "carpet": [
           {
            "aaxis": {
             "endlinecolor": "#2a3f5f",
             "gridcolor": "white",
             "linecolor": "white",
             "minorgridcolor": "white",
             "startlinecolor": "#2a3f5f"
            },
            "baxis": {
             "endlinecolor": "#2a3f5f",
             "gridcolor": "white",
             "linecolor": "white",
             "minorgridcolor": "white",
             "startlinecolor": "#2a3f5f"
            },
            "type": "carpet"
           }
          ],
          "choropleth": [
           {
            "colorbar": {
             "outlinewidth": 0,
             "ticks": ""
            },
            "type": "choropleth"
           }
          ],
          "contour": [
           {
            "colorbar": {
             "outlinewidth": 0,
             "ticks": ""
            },
            "colorscale": [
             [
              0,
              "#0d0887"
             ],
             [
              0.1111111111111111,
              "#46039f"
             ],
             [
              0.2222222222222222,
              "#7201a8"
             ],
             [
              0.3333333333333333,
              "#9c179e"
             ],
             [
              0.4444444444444444,
              "#bd3786"
             ],
             [
              0.5555555555555556,
              "#d8576b"
             ],
             [
              0.6666666666666666,
              "#ed7953"
             ],
             [
              0.7777777777777778,
              "#fb9f3a"
             ],
             [
              0.8888888888888888,
              "#fdca26"
             ],
             [
              1,
              "#f0f921"
             ]
            ],
            "type": "contour"
           }
          ],
          "contourcarpet": [
           {
            "colorbar": {
             "outlinewidth": 0,
             "ticks": ""
            },
            "type": "contourcarpet"
           }
          ],
          "heatmap": [
           {
            "colorbar": {
             "outlinewidth": 0,
             "ticks": ""
            },
            "colorscale": [
             [
              0,
              "#0d0887"
             ],
             [
              0.1111111111111111,
              "#46039f"
             ],
             [
              0.2222222222222222,
              "#7201a8"
             ],
             [
              0.3333333333333333,
              "#9c179e"
             ],
             [
              0.4444444444444444,
              "#bd3786"
             ],
             [
              0.5555555555555556,
              "#d8576b"
             ],
             [
              0.6666666666666666,
              "#ed7953"
             ],
             [
              0.7777777777777778,
              "#fb9f3a"
             ],
             [
              0.8888888888888888,
              "#fdca26"
             ],
             [
              1,
              "#f0f921"
             ]
            ],
            "type": "heatmap"
           }
          ],
          "heatmapgl": [
           {
            "colorbar": {
             "outlinewidth": 0,
             "ticks": ""
            },
            "colorscale": [
             [
              0,
              "#0d0887"
             ],
             [
              0.1111111111111111,
              "#46039f"
             ],
             [
              0.2222222222222222,
              "#7201a8"
             ],
             [
              0.3333333333333333,
              "#9c179e"
             ],
             [
              0.4444444444444444,
              "#bd3786"
             ],
             [
              0.5555555555555556,
              "#d8576b"
             ],
             [
              0.6666666666666666,
              "#ed7953"
             ],
             [
              0.7777777777777778,
              "#fb9f3a"
             ],
             [
              0.8888888888888888,
              "#fdca26"
             ],
             [
              1,
              "#f0f921"
             ]
            ],
            "type": "heatmapgl"
           }
          ],
          "histogram": [
           {
            "marker": {
             "pattern": {
              "fillmode": "overlay",
              "size": 10,
              "solidity": 0.2
             }
            },
            "type": "histogram"
           }
          ],
          "histogram2d": [
           {
            "colorbar": {
             "outlinewidth": 0,
             "ticks": ""
            },
            "colorscale": [
             [
              0,
              "#0d0887"
             ],
             [
              0.1111111111111111,
              "#46039f"
             ],
             [
              0.2222222222222222,
              "#7201a8"
             ],
             [
              0.3333333333333333,
              "#9c179e"
             ],
             [
              0.4444444444444444,
              "#bd3786"
             ],
             [
              0.5555555555555556,
              "#d8576b"
             ],
             [
              0.6666666666666666,
              "#ed7953"
             ],
             [
              0.7777777777777778,
              "#fb9f3a"
             ],
             [
              0.8888888888888888,
              "#fdca26"
             ],
             [
              1,
              "#f0f921"
             ]
            ],
            "type": "histogram2d"
           }
          ],
          "histogram2dcontour": [
           {
            "colorbar": {
             "outlinewidth": 0,
             "ticks": ""
            },
            "colorscale": [
             [
              0,
              "#0d0887"
             ],
             [
              0.1111111111111111,
              "#46039f"
             ],
             [
              0.2222222222222222,
              "#7201a8"
             ],
             [
              0.3333333333333333,
              "#9c179e"
             ],
             [
              0.4444444444444444,
              "#bd3786"
             ],
             [
              0.5555555555555556,
              "#d8576b"
             ],
             [
              0.6666666666666666,
              "#ed7953"
             ],
             [
              0.7777777777777778,
              "#fb9f3a"
             ],
             [
              0.8888888888888888,
              "#fdca26"
             ],
             [
              1,
              "#f0f921"
             ]
            ],
            "type": "histogram2dcontour"
           }
          ],
          "mesh3d": [
           {
            "colorbar": {
             "outlinewidth": 0,
             "ticks": ""
            },
            "type": "mesh3d"
           }
          ],
          "parcoords": [
           {
            "line": {
             "colorbar": {
              "outlinewidth": 0,
              "ticks": ""
             }
            },
            "type": "parcoords"
           }
          ],
          "pie": [
           {
            "automargin": true,
            "type": "pie"
           }
          ],
          "scatter": [
           {
            "fillpattern": {
             "fillmode": "overlay",
             "size": 10,
             "solidity": 0.2
            },
            "type": "scatter"
           }
          ],
          "scatter3d": [
           {
            "line": {
             "colorbar": {
              "outlinewidth": 0,
              "ticks": ""
             }
            },
            "marker": {
             "colorbar": {
              "outlinewidth": 0,
              "ticks": ""
             }
            },
            "type": "scatter3d"
           }
          ],
          "scattercarpet": [
           {
            "marker": {
             "colorbar": {
              "outlinewidth": 0,
              "ticks": ""
             }
            },
            "type": "scattercarpet"
           }
          ],
          "scattergeo": [
           {
            "marker": {
             "colorbar": {
              "outlinewidth": 0,
              "ticks": ""
             }
            },
            "type": "scattergeo"
           }
          ],
          "scattergl": [
           {
            "marker": {
             "colorbar": {
              "outlinewidth": 0,
              "ticks": ""
             }
            },
            "type": "scattergl"
           }
          ],
          "scattermapbox": [
           {
            "marker": {
             "colorbar": {
              "outlinewidth": 0,
              "ticks": ""
             }
            },
            "type": "scattermapbox"
           }
          ],
          "scatterpolar": [
           {
            "marker": {
             "colorbar": {
              "outlinewidth": 0,
              "ticks": ""
             }
            },
            "type": "scatterpolar"
           }
          ],
          "scatterpolargl": [
           {
            "marker": {
             "colorbar": {
              "outlinewidth": 0,
              "ticks": ""
             }
            },
            "type": "scatterpolargl"
           }
          ],
          "scatterternary": [
           {
            "marker": {
             "colorbar": {
              "outlinewidth": 0,
              "ticks": ""
             }
            },
            "type": "scatterternary"
           }
          ],
          "surface": [
           {
            "colorbar": {
             "outlinewidth": 0,
             "ticks": ""
            },
            "colorscale": [
             [
              0,
              "#0d0887"
             ],
             [
              0.1111111111111111,
              "#46039f"
             ],
             [
              0.2222222222222222,
              "#7201a8"
             ],
             [
              0.3333333333333333,
              "#9c179e"
             ],
             [
              0.4444444444444444,
              "#bd3786"
             ],
             [
              0.5555555555555556,
              "#d8576b"
             ],
             [
              0.6666666666666666,
              "#ed7953"
             ],
             [
              0.7777777777777778,
              "#fb9f3a"
             ],
             [
              0.8888888888888888,
              "#fdca26"
             ],
             [
              1,
              "#f0f921"
             ]
            ],
            "type": "surface"
           }
          ],
          "table": [
           {
            "cells": {
             "fill": {
              "color": "#EBF0F8"
             },
             "line": {
              "color": "white"
             }
            },
            "header": {
             "fill": {
              "color": "#C8D4E3"
             },
             "line": {
              "color": "white"
             }
            },
            "type": "table"
           }
          ]
         },
         "layout": {
          "annotationdefaults": {
           "arrowcolor": "#2a3f5f",
           "arrowhead": 0,
           "arrowwidth": 1
          },
          "autotypenumbers": "strict",
          "coloraxis": {
           "colorbar": {
            "outlinewidth": 0,
            "ticks": ""
           }
          },
          "colorscale": {
           "diverging": [
            [
             0,
             "#8e0152"
            ],
            [
             0.1,
             "#c51b7d"
            ],
            [
             0.2,
             "#de77ae"
            ],
            [
             0.3,
             "#f1b6da"
            ],
            [
             0.4,
             "#fde0ef"
            ],
            [
             0.5,
             "#f7f7f7"
            ],
            [
             0.6,
             "#e6f5d0"
            ],
            [
             0.7,
             "#b8e186"
            ],
            [
             0.8,
             "#7fbc41"
            ],
            [
             0.9,
             "#4d9221"
            ],
            [
             1,
             "#276419"
            ]
           ],
           "sequential": [
            [
             0,
             "#0d0887"
            ],
            [
             0.1111111111111111,
             "#46039f"
            ],
            [
             0.2222222222222222,
             "#7201a8"
            ],
            [
             0.3333333333333333,
             "#9c179e"
            ],
            [
             0.4444444444444444,
             "#bd3786"
            ],
            [
             0.5555555555555556,
             "#d8576b"
            ],
            [
             0.6666666666666666,
             "#ed7953"
            ],
            [
             0.7777777777777778,
             "#fb9f3a"
            ],
            [
             0.8888888888888888,
             "#fdca26"
            ],
            [
             1,
             "#f0f921"
            ]
           ],
           "sequentialminus": [
            [
             0,
             "#0d0887"
            ],
            [
             0.1111111111111111,
             "#46039f"
            ],
            [
             0.2222222222222222,
             "#7201a8"
            ],
            [
             0.3333333333333333,
             "#9c179e"
            ],
            [
             0.4444444444444444,
             "#bd3786"
            ],
            [
             0.5555555555555556,
             "#d8576b"
            ],
            [
             0.6666666666666666,
             "#ed7953"
            ],
            [
             0.7777777777777778,
             "#fb9f3a"
            ],
            [
             0.8888888888888888,
             "#fdca26"
            ],
            [
             1,
             "#f0f921"
            ]
           ]
          },
          "colorway": [
           "#636efa",
           "#EF553B",
           "#00cc96",
           "#ab63fa",
           "#FFA15A",
           "#19d3f3",
           "#FF6692",
           "#B6E880",
           "#FF97FF",
           "#FECB52"
          ],
          "font": {
           "color": "#2a3f5f"
          },
          "geo": {
           "bgcolor": "white",
           "lakecolor": "white",
           "landcolor": "#E5ECF6",
           "showlakes": true,
           "showland": true,
           "subunitcolor": "white"
          },
          "hoverlabel": {
           "align": "left"
          },
          "hovermode": "closest",
          "mapbox": {
           "style": "light"
          },
          "paper_bgcolor": "white",
          "plot_bgcolor": "#E5ECF6",
          "polar": {
           "angularaxis": {
            "gridcolor": "white",
            "linecolor": "white",
            "ticks": ""
           },
           "bgcolor": "#E5ECF6",
           "radialaxis": {
            "gridcolor": "white",
            "linecolor": "white",
            "ticks": ""
           }
          },
          "scene": {
           "xaxis": {
            "backgroundcolor": "#E5ECF6",
            "gridcolor": "white",
            "gridwidth": 2,
            "linecolor": "white",
            "showbackground": true,
            "ticks": "",
            "zerolinecolor": "white"
           },
           "yaxis": {
            "backgroundcolor": "#E5ECF6",
            "gridcolor": "white",
            "gridwidth": 2,
            "linecolor": "white",
            "showbackground": true,
            "ticks": "",
            "zerolinecolor": "white"
           },
           "zaxis": {
            "backgroundcolor": "#E5ECF6",
            "gridcolor": "white",
            "gridwidth": 2,
            "linecolor": "white",
            "showbackground": true,
            "ticks": "",
            "zerolinecolor": "white"
           }
          },
          "shapedefaults": {
           "line": {
            "color": "#2a3f5f"
           }
          },
          "ternary": {
           "aaxis": {
            "gridcolor": "white",
            "linecolor": "white",
            "ticks": ""
           },
           "baxis": {
            "gridcolor": "white",
            "linecolor": "white",
            "ticks": ""
           },
           "bgcolor": "#E5ECF6",
           "caxis": {
            "gridcolor": "white",
            "linecolor": "white",
            "ticks": ""
           }
          },
          "title": {
           "x": 0.05
          },
          "xaxis": {
           "automargin": true,
           "gridcolor": "white",
           "linecolor": "white",
           "ticks": "",
           "title": {
            "standoff": 15
           },
           "zerolinecolor": "white",
           "zerolinewidth": 2
          },
          "yaxis": {
           "automargin": true,
           "gridcolor": "white",
           "linecolor": "white",
           "ticks": "",
           "title": {
            "standoff": 15
           },
           "zerolinecolor": "white",
           "zerolinewidth": 2
          }
         }
        }
       }
      },
      "text/html": [
       "<div>                            <div id=\"01cbe439-cedb-4fda-a6ce-247e9aed81eb\" class=\"plotly-graph-div\" style=\"height:525px; width:100%;\"></div>            <script type=\"text/javascript\">                require([\"plotly\"], function(Plotly) {                    window.PLOTLYENV=window.PLOTLYENV || {};                                    if (document.getElementById(\"01cbe439-cedb-4fda-a6ce-247e9aed81eb\")) {                    Plotly.newPlot(                        \"01cbe439-cedb-4fda-a6ce-247e9aed81eb\",                        [{\"hovertemplate\":\"Subject=19\\u6b73\\u4ee5\\u4e0b<br>value=%{r}<br>label=%{theta}<extra></extra>\",\"legendgroup\":\"19\\u6b73\\u4ee5\\u4e0b\",\"line\":{\"color\":\"#636efa\",\"dash\":\"solid\"},\"marker\":{\"symbol\":\"circle\"},\"mode\":\"lines\",\"name\":\"19\\u6b73\\u4ee5\\u4e0b\",\"r\":[0.0,0.0,5.0,25.0,70.0,0.0,0.0],\"showlegend\":true,\"subplot\":\"polar\",\"theta\":[\"1\\u30f6\\u6708\\u306b5\\u6642\\u9593\\u672a\\u6e80(1\\u65e510\\u5206\\u672a\\u6e80)\",\"1\\u30f6\\u6708\\u306b5\\u6642\\u9593\\u4ee5\\u4e0a15\\u6642\\u9593\\u672a\\u6e80(1\\u65e510\\u5206~30\\u5206\\u7a0b\\u5ea6)\",\"1\\u30f6\\u6708\\u306b15\\u6642\\u9593\\u4ee5\\u4e0a30\\u6642\\u9593\\u672a\\u6e80(1\\u65e530\\u5206~60\\u5206\\u7a0b\\u5ea6)\",\"1\\u30f6\\u6708\\u306b30\\u6642\\u9593\\u4ee5\\u4e0a60\\u6642\\u9593\\u672a\\u6e80(1\\u65e51~2\\u6642\\u9593\\u7a0b\\u5ea6)\",\"1\\u30f6\\u6708\\u306b60\\u6642\\u9593\\u4ee5\\u4e0a(1\\u65e52\\u6642\\u9593\\u4ee5\\u4e0a)\",\"\\u7121\\u56de\\u7b54\",\"1\\u30f6\\u6708\\u306b5\\u6642\\u9593\\u672a\\u6e80(1\\u65e510\\u5206\\u672a\\u6e80)\"],\"type\":\"scatterpolar\"},{\"hovertemplate\":\"Subject=20\\u6b73\\u4ee3<br>value=%{r}<br>label=%{theta}<extra></extra>\",\"legendgroup\":\"20\\u6b73\\u4ee3\",\"line\":{\"color\":\"#EF553B\",\"dash\":\"solid\"},\"marker\":{\"symbol\":\"circle\"},\"mode\":\"lines\",\"name\":\"20\\u6b73\\u4ee3\",\"r\":[0.9,4.7,7.5,24.5,62.3,0.0,0.9],\"showlegend\":true,\"subplot\":\"polar\",\"theta\":[\"1\\u30f6\\u6708\\u306b5\\u6642\\u9593\\u672a\\u6e80(1\\u65e510\\u5206\\u672a\\u6e80)\",\"1\\u30f6\\u6708\\u306b5\\u6642\\u9593\\u4ee5\\u4e0a15\\u6642\\u9593\\u672a\\u6e80(1\\u65e510\\u5206~30\\u5206\\u7a0b\\u5ea6)\",\"1\\u30f6\\u6708\\u306b15\\u6642\\u9593\\u4ee5\\u4e0a30\\u6642\\u9593\\u672a\\u6e80(1\\u65e530\\u5206~60\\u5206\\u7a0b\\u5ea6)\",\"1\\u30f6\\u6708\\u306b30\\u6642\\u9593\\u4ee5\\u4e0a60\\u6642\\u9593\\u672a\\u6e80(1\\u65e51~2\\u6642\\u9593\\u7a0b\\u5ea6)\",\"1\\u30f6\\u6708\\u306b60\\u6642\\u9593\\u4ee5\\u4e0a(1\\u65e52\\u6642\\u9593\\u4ee5\\u4e0a)\",\"\\u7121\\u56de\\u7b54\",\"1\\u30f6\\u6708\\u306b5\\u6642\\u9593\\u672a\\u6e80(1\\u65e510\\u5206\\u672a\\u6e80)\"],\"type\":\"scatterpolar\"},{\"hovertemplate\":\"Subject=30\\u6b73\\u4ee3<br>value=%{r}<br>label=%{theta}<extra></extra>\",\"legendgroup\":\"30\\u6b73\\u4ee3\",\"line\":{\"color\":\"#00cc96\",\"dash\":\"solid\"},\"marker\":{\"symbol\":\"circle\"},\"mode\":\"lines\",\"name\":\"30\\u6b73\\u4ee3\",\"r\":[5.5,7.3,18.2,32.7,36.4,0.0,5.5],\"showlegend\":true,\"subplot\":\"polar\",\"theta\":[\"1\\u30f6\\u6708\\u306b5\\u6642\\u9593\\u672a\\u6e80(1\\u65e510\\u5206\\u672a\\u6e80)\",\"1\\u30f6\\u6708\\u306b5\\u6642\\u9593\\u4ee5\\u4e0a15\\u6642\\u9593\\u672a\\u6e80(1\\u65e510\\u5206~30\\u5206\\u7a0b\\u5ea6)\",\"1\\u30f6\\u6708\\u306b15\\u6642\\u9593\\u4ee5\\u4e0a30\\u6642\\u9593\\u672a\\u6e80(1\\u65e530\\u5206~60\\u5206\\u7a0b\\u5ea6)\",\"1\\u30f6\\u6708\\u306b30\\u6642\\u9593\\u4ee5\\u4e0a60\\u6642\\u9593\\u672a\\u6e80(1\\u65e51~2\\u6642\\u9593\\u7a0b\\u5ea6)\",\"1\\u30f6\\u6708\\u306b60\\u6642\\u9593\\u4ee5\\u4e0a(1\\u65e52\\u6642\\u9593\\u4ee5\\u4e0a)\",\"\\u7121\\u56de\\u7b54\",\"1\\u30f6\\u6708\\u306b5\\u6642\\u9593\\u672a\\u6e80(1\\u65e510\\u5206\\u672a\\u6e80)\"],\"type\":\"scatterpolar\"},{\"hovertemplate\":\"Subject=40\\u6b73\\u4ee3<br>value=%{r}<br>label=%{theta}<extra></extra>\",\"legendgroup\":\"40\\u6b73\\u4ee3\",\"line\":{\"color\":\"#ab63fa\",\"dash\":\"solid\"},\"marker\":{\"symbol\":\"circle\"},\"mode\":\"lines\",\"name\":\"40\\u6b73\\u4ee3\",\"r\":[5.7,13.7,14.5,35.7,30.4,0.0,5.7],\"showlegend\":true,\"subplot\":\"polar\",\"theta\":[\"1\\u30f6\\u6708\\u306b5\\u6642\\u9593\\u672a\\u6e80(1\\u65e510\\u5206\\u672a\\u6e80)\",\"1\\u30f6\\u6708\\u306b5\\u6642\\u9593\\u4ee5\\u4e0a15\\u6642\\u9593\\u672a\\u6e80(1\\u65e510\\u5206~30\\u5206\\u7a0b\\u5ea6)\",\"1\\u30f6\\u6708\\u306b15\\u6642\\u9593\\u4ee5\\u4e0a30\\u6642\\u9593\\u672a\\u6e80(1\\u65e530\\u5206~60\\u5206\\u7a0b\\u5ea6)\",\"1\\u30f6\\u6708\\u306b30\\u6642\\u9593\\u4ee5\\u4e0a60\\u6642\\u9593\\u672a\\u6e80(1\\u65e51~2\\u6642\\u9593\\u7a0b\\u5ea6)\",\"1\\u30f6\\u6708\\u306b60\\u6642\\u9593\\u4ee5\\u4e0a(1\\u65e52\\u6642\\u9593\\u4ee5\\u4e0a)\",\"\\u7121\\u56de\\u7b54\",\"1\\u30f6\\u6708\\u306b5\\u6642\\u9593\\u672a\\u6e80(1\\u65e510\\u5206\\u672a\\u6e80)\"],\"type\":\"scatterpolar\"},{\"hovertemplate\":\"Subject=50\\u6b73\\u4ee3<br>value=%{r}<br>label=%{theta}<extra></extra>\",\"legendgroup\":\"50\\u6b73\\u4ee3\",\"line\":{\"color\":\"#FFA15A\",\"dash\":\"solid\"},\"marker\":{\"symbol\":\"circle\"},\"mode\":\"lines\",\"name\":\"50\\u6b73\\u4ee3\",\"r\":[11.0,19.6,20.1,23.9,25.4,0.0,11.0],\"showlegend\":true,\"subplot\":\"polar\",\"theta\":[\"1\\u30f6\\u6708\\u306b5\\u6642\\u9593\\u672a\\u6e80(1\\u65e510\\u5206\\u672a\\u6e80)\",\"1\\u30f6\\u6708\\u306b5\\u6642\\u9593\\u4ee5\\u4e0a15\\u6642\\u9593\\u672a\\u6e80(1\\u65e510\\u5206~30\\u5206\\u7a0b\\u5ea6)\",\"1\\u30f6\\u6708\\u306b15\\u6642\\u9593\\u4ee5\\u4e0a30\\u6642\\u9593\\u672a\\u6e80(1\\u65e530\\u5206~60\\u5206\\u7a0b\\u5ea6)\",\"1\\u30f6\\u6708\\u306b30\\u6642\\u9593\\u4ee5\\u4e0a60\\u6642\\u9593\\u672a\\u6e80(1\\u65e51~2\\u6642\\u9593\\u7a0b\\u5ea6)\",\"1\\u30f6\\u6708\\u306b60\\u6642\\u9593\\u4ee5\\u4e0a(1\\u65e52\\u6642\\u9593\\u4ee5\\u4e0a)\",\"\\u7121\\u56de\\u7b54\",\"1\\u30f6\\u6708\\u306b5\\u6642\\u9593\\u672a\\u6e80(1\\u65e510\\u5206\\u672a\\u6e80)\"],\"type\":\"scatterpolar\"},{\"hovertemplate\":\"Subject=60\\u6b72\\u4ee3<br>value=%{r}<br>label=%{theta}<extra></extra>\",\"legendgroup\":\"60\\u6b72\\u4ee3\",\"line\":{\"color\":\"#19d3f3\",\"dash\":\"solid\"},\"marker\":{\"symbol\":\"circle\"},\"mode\":\"lines\",\"name\":\"60\\u6b72\\u4ee3\",\"r\":[22.1,21.5,16.4,18.1,19.6,2.3,22.1],\"showlegend\":true,\"subplot\":\"polar\",\"theta\":[\"1\\u30f6\\u6708\\u306b5\\u6642\\u9593\\u672a\\u6e80(1\\u65e510\\u5206\\u672a\\u6e80)\",\"1\\u30f6\\u6708\\u306b5\\u6642\\u9593\\u4ee5\\u4e0a15\\u6642\\u9593\\u672a\\u6e80(1\\u65e510\\u5206~30\\u5206\\u7a0b\\u5ea6)\",\"1\\u30f6\\u6708\\u306b15\\u6642\\u9593\\u4ee5\\u4e0a30\\u6642\\u9593\\u672a\\u6e80(1\\u65e530\\u5206~60\\u5206\\u7a0b\\u5ea6)\",\"1\\u30f6\\u6708\\u306b30\\u6642\\u9593\\u4ee5\\u4e0a60\\u6642\\u9593\\u672a\\u6e80(1\\u65e51~2\\u6642\\u9593\\u7a0b\\u5ea6)\",\"1\\u30f6\\u6708\\u306b60\\u6642\\u9593\\u4ee5\\u4e0a(1\\u65e52\\u6642\\u9593\\u4ee5\\u4e0a)\",\"\\u7121\\u56de\\u7b54\",\"1\\u30f6\\u6708\\u306b5\\u6642\\u9593\\u672a\\u6e80(1\\u65e510\\u5206\\u672a\\u6e80)\"],\"type\":\"scatterpolar\"},{\"hovertemplate\":\"Subject=70\\u6b72\\u4ee5\\u4e0a<br>value=%{r}<br>label=%{theta}<extra></extra>\",\"legendgroup\":\"70\\u6b72\\u4ee5\\u4e0a\",\"line\":{\"color\":\"#FF6692\",\"dash\":\"solid\"},\"marker\":{\"symbol\":\"circle\"},\"mode\":\"lines\",\"name\":\"70\\u6b72\\u4ee5\\u4e0a\",\"r\":[26.1,24.5,17.9,20.2,10.7,0.6,26.1],\"showlegend\":true,\"subplot\":\"polar\",\"theta\":[\"1\\u30f6\\u6708\\u306b5\\u6642\\u9593\\u672a\\u6e80(1\\u65e510\\u5206\\u672a\\u6e80)\",\"1\\u30f6\\u6708\\u306b5\\u6642\\u9593\\u4ee5\\u4e0a15\\u6642\\u9593\\u672a\\u6e80(1\\u65e510\\u5206~30\\u5206\\u7a0b\\u5ea6)\",\"1\\u30f6\\u6708\\u306b15\\u6642\\u9593\\u4ee5\\u4e0a30\\u6642\\u9593\\u672a\\u6e80(1\\u65e530\\u5206~60\\u5206\\u7a0b\\u5ea6)\",\"1\\u30f6\\u6708\\u306b30\\u6642\\u9593\\u4ee5\\u4e0a60\\u6642\\u9593\\u672a\\u6e80(1\\u65e51~2\\u6642\\u9593\\u7a0b\\u5ea6)\",\"1\\u30f6\\u6708\\u306b60\\u6642\\u9593\\u4ee5\\u4e0a(1\\u65e52\\u6642\\u9593\\u4ee5\\u4e0a)\",\"\\u7121\\u56de\\u7b54\",\"1\\u30f6\\u6708\\u306b5\\u6642\\u9593\\u672a\\u6e80(1\\u65e510\\u5206\\u672a\\u6e80)\"],\"type\":\"scatterpolar\"}],                        {\"template\":{\"data\":{\"histogram2dcontour\":[{\"type\":\"histogram2dcontour\",\"colorbar\":{\"outlinewidth\":0,\"ticks\":\"\"},\"colorscale\":[[0.0,\"#0d0887\"],[0.1111111111111111,\"#46039f\"],[0.2222222222222222,\"#7201a8\"],[0.3333333333333333,\"#9c179e\"],[0.4444444444444444,\"#bd3786\"],[0.5555555555555556,\"#d8576b\"],[0.6666666666666666,\"#ed7953\"],[0.7777777777777778,\"#fb9f3a\"],[0.8888888888888888,\"#fdca26\"],[1.0,\"#f0f921\"]]}],\"choropleth\":[{\"type\":\"choropleth\",\"colorbar\":{\"outlinewidth\":0,\"ticks\":\"\"}}],\"histogram2d\":[{\"type\":\"histogram2d\",\"colorbar\":{\"outlinewidth\":0,\"ticks\":\"\"},\"colorscale\":[[0.0,\"#0d0887\"],[0.1111111111111111,\"#46039f\"],[0.2222222222222222,\"#7201a8\"],[0.3333333333333333,\"#9c179e\"],[0.4444444444444444,\"#bd3786\"],[0.5555555555555556,\"#d8576b\"],[0.6666666666666666,\"#ed7953\"],[0.7777777777777778,\"#fb9f3a\"],[0.8888888888888888,\"#fdca26\"],[1.0,\"#f0f921\"]]}],\"heatmap\":[{\"type\":\"heatmap\",\"colorbar\":{\"outlinewidth\":0,\"ticks\":\"\"},\"colorscale\":[[0.0,\"#0d0887\"],[0.1111111111111111,\"#46039f\"],[0.2222222222222222,\"#7201a8\"],[0.3333333333333333,\"#9c179e\"],[0.4444444444444444,\"#bd3786\"],[0.5555555555555556,\"#d8576b\"],[0.6666666666666666,\"#ed7953\"],[0.7777777777777778,\"#fb9f3a\"],[0.8888888888888888,\"#fdca26\"],[1.0,\"#f0f921\"]]}],\"heatmapgl\":[{\"type\":\"heatmapgl\",\"colorbar\":{\"outlinewidth\":0,\"ticks\":\"\"},\"colorscale\":[[0.0,\"#0d0887\"],[0.1111111111111111,\"#46039f\"],[0.2222222222222222,\"#7201a8\"],[0.3333333333333333,\"#9c179e\"],[0.4444444444444444,\"#bd3786\"],[0.5555555555555556,\"#d8576b\"],[0.6666666666666666,\"#ed7953\"],[0.7777777777777778,\"#fb9f3a\"],[0.8888888888888888,\"#fdca26\"],[1.0,\"#f0f921\"]]}],\"contourcarpet\":[{\"type\":\"contourcarpet\",\"colorbar\":{\"outlinewidth\":0,\"ticks\":\"\"}}],\"contour\":[{\"type\":\"contour\",\"colorbar\":{\"outlinewidth\":0,\"ticks\":\"\"},\"colorscale\":[[0.0,\"#0d0887\"],[0.1111111111111111,\"#46039f\"],[0.2222222222222222,\"#7201a8\"],[0.3333333333333333,\"#9c179e\"],[0.4444444444444444,\"#bd3786\"],[0.5555555555555556,\"#d8576b\"],[0.6666666666666666,\"#ed7953\"],[0.7777777777777778,\"#fb9f3a\"],[0.8888888888888888,\"#fdca26\"],[1.0,\"#f0f921\"]]}],\"surface\":[{\"type\":\"surface\",\"colorbar\":{\"outlinewidth\":0,\"ticks\":\"\"},\"colorscale\":[[0.0,\"#0d0887\"],[0.1111111111111111,\"#46039f\"],[0.2222222222222222,\"#7201a8\"],[0.3333333333333333,\"#9c179e\"],[0.4444444444444444,\"#bd3786\"],[0.5555555555555556,\"#d8576b\"],[0.6666666666666666,\"#ed7953\"],[0.7777777777777778,\"#fb9f3a\"],[0.8888888888888888,\"#fdca26\"],[1.0,\"#f0f921\"]]}],\"mesh3d\":[{\"type\":\"mesh3d\",\"colorbar\":{\"outlinewidth\":0,\"ticks\":\"\"}}],\"scatter\":[{\"fillpattern\":{\"fillmode\":\"overlay\",\"size\":10,\"solidity\":0.2},\"type\":\"scatter\"}],\"parcoords\":[{\"type\":\"parcoords\",\"line\":{\"colorbar\":{\"outlinewidth\":0,\"ticks\":\"\"}}}],\"scatterpolargl\":[{\"type\":\"scatterpolargl\",\"marker\":{\"colorbar\":{\"outlinewidth\":0,\"ticks\":\"\"}}}],\"bar\":[{\"error_x\":{\"color\":\"#2a3f5f\"},\"error_y\":{\"color\":\"#2a3f5f\"},\"marker\":{\"line\":{\"color\":\"#E5ECF6\",\"width\":0.5},\"pattern\":{\"fillmode\":\"overlay\",\"size\":10,\"solidity\":0.2}},\"type\":\"bar\"}],\"scattergeo\":[{\"type\":\"scattergeo\",\"marker\":{\"colorbar\":{\"outlinewidth\":0,\"ticks\":\"\"}}}],\"scatterpolar\":[{\"type\":\"scatterpolar\",\"marker\":{\"colorbar\":{\"outlinewidth\":0,\"ticks\":\"\"}}}],\"histogram\":[{\"marker\":{\"pattern\":{\"fillmode\":\"overlay\",\"size\":10,\"solidity\":0.2}},\"type\":\"histogram\"}],\"scattergl\":[{\"type\":\"scattergl\",\"marker\":{\"colorbar\":{\"outlinewidth\":0,\"ticks\":\"\"}}}],\"scatter3d\":[{\"type\":\"scatter3d\",\"line\":{\"colorbar\":{\"outlinewidth\":0,\"ticks\":\"\"}},\"marker\":{\"colorbar\":{\"outlinewidth\":0,\"ticks\":\"\"}}}],\"scattermapbox\":[{\"type\":\"scattermapbox\",\"marker\":{\"colorbar\":{\"outlinewidth\":0,\"ticks\":\"\"}}}],\"scatterternary\":[{\"type\":\"scatterternary\",\"marker\":{\"colorbar\":{\"outlinewidth\":0,\"ticks\":\"\"}}}],\"scattercarpet\":[{\"type\":\"scattercarpet\",\"marker\":{\"colorbar\":{\"outlinewidth\":0,\"ticks\":\"\"}}}],\"carpet\":[{\"aaxis\":{\"endlinecolor\":\"#2a3f5f\",\"gridcolor\":\"white\",\"linecolor\":\"white\",\"minorgridcolor\":\"white\",\"startlinecolor\":\"#2a3f5f\"},\"baxis\":{\"endlinecolor\":\"#2a3f5f\",\"gridcolor\":\"white\",\"linecolor\":\"white\",\"minorgridcolor\":\"white\",\"startlinecolor\":\"#2a3f5f\"},\"type\":\"carpet\"}],\"table\":[{\"cells\":{\"fill\":{\"color\":\"#EBF0F8\"},\"line\":{\"color\":\"white\"}},\"header\":{\"fill\":{\"color\":\"#C8D4E3\"},\"line\":{\"color\":\"white\"}},\"type\":\"table\"}],\"barpolar\":[{\"marker\":{\"line\":{\"color\":\"#E5ECF6\",\"width\":0.5},\"pattern\":{\"fillmode\":\"overlay\",\"size\":10,\"solidity\":0.2}},\"type\":\"barpolar\"}],\"pie\":[{\"automargin\":true,\"type\":\"pie\"}]},\"layout\":{\"autotypenumbers\":\"strict\",\"colorway\":[\"#636efa\",\"#EF553B\",\"#00cc96\",\"#ab63fa\",\"#FFA15A\",\"#19d3f3\",\"#FF6692\",\"#B6E880\",\"#FF97FF\",\"#FECB52\"],\"font\":{\"color\":\"#2a3f5f\"},\"hovermode\":\"closest\",\"hoverlabel\":{\"align\":\"left\"},\"paper_bgcolor\":\"white\",\"plot_bgcolor\":\"#E5ECF6\",\"polar\":{\"bgcolor\":\"#E5ECF6\",\"angularaxis\":{\"gridcolor\":\"white\",\"linecolor\":\"white\",\"ticks\":\"\"},\"radialaxis\":{\"gridcolor\":\"white\",\"linecolor\":\"white\",\"ticks\":\"\"}},\"ternary\":{\"bgcolor\":\"#E5ECF6\",\"aaxis\":{\"gridcolor\":\"white\",\"linecolor\":\"white\",\"ticks\":\"\"},\"baxis\":{\"gridcolor\":\"white\",\"linecolor\":\"white\",\"ticks\":\"\"},\"caxis\":{\"gridcolor\":\"white\",\"linecolor\":\"white\",\"ticks\":\"\"}},\"coloraxis\":{\"colorbar\":{\"outlinewidth\":0,\"ticks\":\"\"}},\"colorscale\":{\"sequential\":[[0.0,\"#0d0887\"],[0.1111111111111111,\"#46039f\"],[0.2222222222222222,\"#7201a8\"],[0.3333333333333333,\"#9c179e\"],[0.4444444444444444,\"#bd3786\"],[0.5555555555555556,\"#d8576b\"],[0.6666666666666666,\"#ed7953\"],[0.7777777777777778,\"#fb9f3a\"],[0.8888888888888888,\"#fdca26\"],[1.0,\"#f0f921\"]],\"sequentialminus\":[[0.0,\"#0d0887\"],[0.1111111111111111,\"#46039f\"],[0.2222222222222222,\"#7201a8\"],[0.3333333333333333,\"#9c179e\"],[0.4444444444444444,\"#bd3786\"],[0.5555555555555556,\"#d8576b\"],[0.6666666666666666,\"#ed7953\"],[0.7777777777777778,\"#fb9f3a\"],[0.8888888888888888,\"#fdca26\"],[1.0,\"#f0f921\"]],\"diverging\":[[0,\"#8e0152\"],[0.1,\"#c51b7d\"],[0.2,\"#de77ae\"],[0.3,\"#f1b6da\"],[0.4,\"#fde0ef\"],[0.5,\"#f7f7f7\"],[0.6,\"#e6f5d0\"],[0.7,\"#b8e186\"],[0.8,\"#7fbc41\"],[0.9,\"#4d9221\"],[1,\"#276419\"]]},\"xaxis\":{\"gridcolor\":\"white\",\"linecolor\":\"white\",\"ticks\":\"\",\"title\":{\"standoff\":15},\"zerolinecolor\":\"white\",\"automargin\":true,\"zerolinewidth\":2},\"yaxis\":{\"gridcolor\":\"white\",\"linecolor\":\"white\",\"ticks\":\"\",\"title\":{\"standoff\":15},\"zerolinecolor\":\"white\",\"automargin\":true,\"zerolinewidth\":2},\"scene\":{\"xaxis\":{\"backgroundcolor\":\"#E5ECF6\",\"gridcolor\":\"white\",\"linecolor\":\"white\",\"showbackground\":true,\"ticks\":\"\",\"zerolinecolor\":\"white\",\"gridwidth\":2},\"yaxis\":{\"backgroundcolor\":\"#E5ECF6\",\"gridcolor\":\"white\",\"linecolor\":\"white\",\"showbackground\":true,\"ticks\":\"\",\"zerolinecolor\":\"white\",\"gridwidth\":2},\"zaxis\":{\"backgroundcolor\":\"#E5ECF6\",\"gridcolor\":\"white\",\"linecolor\":\"white\",\"showbackground\":true,\"ticks\":\"\",\"zerolinecolor\":\"white\",\"gridwidth\":2}},\"shapedefaults\":{\"line\":{\"color\":\"#2a3f5f\"}},\"annotationdefaults\":{\"arrowcolor\":\"#2a3f5f\",\"arrowhead\":0,\"arrowwidth\":1},\"geo\":{\"bgcolor\":\"white\",\"landcolor\":\"#E5ECF6\",\"subunitcolor\":\"white\",\"showland\":true,\"showlakes\":true,\"lakecolor\":\"white\"},\"title\":{\"x\":0.05},\"mapbox\":{\"style\":\"light\"}}},\"polar\":{\"domain\":{\"x\":[0.0,1.0],\"y\":[0.0,1.0]},\"angularaxis\":{\"direction\":\"clockwise\",\"rotation\":90}},\"legend\":{\"title\":{\"text\":\"Subject\"},\"tracegroupgap\":0},\"margin\":{\"t\":60}},                        {\"responsive\": true}                    ).then(function(){\n",
       "                            \n",
       "var gd = document.getElementById('01cbe439-cedb-4fda-a6ce-247e9aed81eb');\n",
       "var x = new MutationObserver(function (mutations, observer) {{\n",
       "        var display = window.getComputedStyle(gd).display;\n",
       "        if (!display || display === 'none') {{\n",
       "            console.log([gd, 'removed!']);\n",
       "            Plotly.purge(gd);\n",
       "            observer.disconnect();\n",
       "        }}\n",
       "}});\n",
       "\n",
       "// Listen for the removal of the full notebook cells\n",
       "var notebookContainer = gd.closest('#notebook-container');\n",
       "if (notebookContainer) {{\n",
       "    x.observe(notebookContainer, {childList: true});\n",
       "}}\n",
       "\n",
       "// Listen for the clearing of the current output cell\n",
       "var outputEl = gd.closest('.output');\n",
       "if (outputEl) {{\n",
       "    x.observe(outputEl, {childList: true});\n",
       "}}\n",
       "\n",
       "                        })                };                });            </script>        </div>"
      ]
     },
     "metadata": {},
     "output_type": "display_data"
    }
   ],
   "source": [
    "#グラフの定義\n",
    "fig=px.line_polar(df_graph2,r='value',theta='label',color='Subject',line_close=True)\n",
    "\n",
    "#グラフ描画\n",
    "fig.show()"
   ]
  },
  {
   "cell_type": "markdown",
   "id": "f8c87732",
   "metadata": {},
   "source": [
    "## Example 3-2"
   ]
  },
  {
   "cell_type": "code",
   "execution_count": 178,
   "id": "c37c7626",
   "metadata": {},
   "outputs": [
    {
     "data": {
      "text/html": [
       "<div>\n",
       "<style scoped>\n",
       "    .dataframe tbody tr th:only-of-type {\n",
       "        vertical-align: middle;\n",
       "    }\n",
       "\n",
       "    .dataframe tbody tr th {\n",
       "        vertical-align: top;\n",
       "    }\n",
       "\n",
       "    .dataframe thead th {\n",
       "        text-align: right;\n",
       "    }\n",
       "</style>\n",
       "<table border=\"1\" class=\"dataframe\">\n",
       "  <thead>\n",
       "    <tr style=\"text-align: right;\">\n",
       "      <th></th>\n",
       "      <th>Attribute</th>\n",
       "      <th>19歳以下</th>\n",
       "      <th>20歳代</th>\n",
       "      <th>30歳代</th>\n",
       "      <th>40歳代</th>\n",
       "      <th>50歳代</th>\n",
       "      <th>60歲代</th>\n",
       "      <th>70歲以上</th>\n",
       "    </tr>\n",
       "  </thead>\n",
       "  <tbody>\n",
       "    <tr>\n",
       "      <th>0</th>\n",
       "      <td>1ヶ月に5時間未満(1日10分未満)</td>\n",
       "      <td>0</td>\n",
       "      <td>0.9</td>\n",
       "      <td>5.5</td>\n",
       "      <td>5.7</td>\n",
       "      <td>11.0</td>\n",
       "      <td>22.1</td>\n",
       "      <td>26.1</td>\n",
       "    </tr>\n",
       "    <tr>\n",
       "      <th>1</th>\n",
       "      <td>1ヶ月に5時間以上15時間未満(1日10分~30分程度)</td>\n",
       "      <td>0</td>\n",
       "      <td>4.7</td>\n",
       "      <td>7.3</td>\n",
       "      <td>13.7</td>\n",
       "      <td>19.6</td>\n",
       "      <td>21.5</td>\n",
       "      <td>24.5</td>\n",
       "    </tr>\n",
       "    <tr>\n",
       "      <th>2</th>\n",
       "      <td>1ヶ月に15時間以上30時間未満(1日30分~60分程度)</td>\n",
       "      <td>5</td>\n",
       "      <td>7.5</td>\n",
       "      <td>18.2</td>\n",
       "      <td>14.5</td>\n",
       "      <td>20.1</td>\n",
       "      <td>16.4</td>\n",
       "      <td>17.9</td>\n",
       "    </tr>\n",
       "    <tr>\n",
       "      <th>3</th>\n",
       "      <td>1ヶ月に30時間以上60時間未満(1日1~2時間程度)</td>\n",
       "      <td>25</td>\n",
       "      <td>24.5</td>\n",
       "      <td>32.7</td>\n",
       "      <td>35.7</td>\n",
       "      <td>23.9</td>\n",
       "      <td>18.1</td>\n",
       "      <td>20.2</td>\n",
       "    </tr>\n",
       "    <tr>\n",
       "      <th>4</th>\n",
       "      <td>1ヶ月に60時間以上(1日2時間以上)</td>\n",
       "      <td>70</td>\n",
       "      <td>62.3</td>\n",
       "      <td>36.4</td>\n",
       "      <td>30.4</td>\n",
       "      <td>25.4</td>\n",
       "      <td>19.6</td>\n",
       "      <td>10.7</td>\n",
       "    </tr>\n",
       "    <tr>\n",
       "      <th>5</th>\n",
       "      <td>無回答</td>\n",
       "      <td>0</td>\n",
       "      <td>0.0</td>\n",
       "      <td>0.0</td>\n",
       "      <td>0.0</td>\n",
       "      <td>0.0</td>\n",
       "      <td>2.3</td>\n",
       "      <td>0.6</td>\n",
       "    </tr>\n",
       "  </tbody>\n",
       "</table>\n",
       "</div>"
      ],
      "text/plain": [
       "                       Attribute  19歳以下  20歳代  30歳代  40歳代  50歳代  60歲代  70歲以上\n",
       "0             1ヶ月に5時間未満(1日10分未満)      0   0.9   5.5   5.7  11.0  22.1   26.1\n",
       "1   1ヶ月に5時間以上15時間未満(1日10分~30分程度)      0   4.7   7.3  13.7  19.6  21.5   24.5\n",
       "2  1ヶ月に15時間以上30時間未満(1日30分~60分程度)      5   7.5  18.2  14.5  20.1  16.4   17.9\n",
       "3    1ヶ月に30時間以上60時間未満(1日1~2時間程度)     25  24.5  32.7  35.7  23.9  18.1   20.2\n",
       "4            1ヶ月に60時間以上(1日2時間以上)     70  62.3  36.4  30.4  25.4  19.6   10.7\n",
       "5                            無回答      0   0.0   0.0   0.0   0.0   2.3    0.6"
      ]
     },
     "metadata": {},
     "output_type": "display_data"
    }
   ],
   "source": [
    "display(df_utf)"
   ]
  },
  {
   "cell_type": "code",
   "execution_count": 177,
   "id": "26f2e444",
   "metadata": {
    "scrolled": false
   },
   "outputs": [
    {
     "data": {
      "text/html": [
       "<div>\n",
       "<style scoped>\n",
       "    .dataframe tbody tr th:only-of-type {\n",
       "        vertical-align: middle;\n",
       "    }\n",
       "\n",
       "    .dataframe tbody tr th {\n",
       "        vertical-align: top;\n",
       "    }\n",
       "\n",
       "    .dataframe thead th {\n",
       "        text-align: right;\n",
       "    }\n",
       "</style>\n",
       "<table border=\"1\" class=\"dataframe\">\n",
       "  <thead>\n",
       "    <tr style=\"text-align: right;\">\n",
       "      <th></th>\n",
       "      <th>0</th>\n",
       "      <th>1</th>\n",
       "      <th>2</th>\n",
       "      <th>3</th>\n",
       "      <th>4</th>\n",
       "      <th>5</th>\n",
       "    </tr>\n",
       "  </thead>\n",
       "  <tbody>\n",
       "    <tr>\n",
       "      <th>Attribute</th>\n",
       "      <td>1ヶ月に5時間未満(1日10分未満)</td>\n",
       "      <td>1ヶ月に5時間以上15時間未満(1日10分~30分程度)</td>\n",
       "      <td>1ヶ月に15時間以上30時間未満(1日30分~60分程度)</td>\n",
       "      <td>1ヶ月に30時間以上60時間未満(1日1~2時間程度)</td>\n",
       "      <td>1ヶ月に60時間以上(1日2時間以上)</td>\n",
       "      <td>無回答</td>\n",
       "    </tr>\n",
       "    <tr>\n",
       "      <th>19歳以下</th>\n",
       "      <td>0</td>\n",
       "      <td>0</td>\n",
       "      <td>5</td>\n",
       "      <td>25</td>\n",
       "      <td>70</td>\n",
       "      <td>0</td>\n",
       "    </tr>\n",
       "    <tr>\n",
       "      <th>20歳代</th>\n",
       "      <td>0.9</td>\n",
       "      <td>4.7</td>\n",
       "      <td>7.5</td>\n",
       "      <td>24.5</td>\n",
       "      <td>62.3</td>\n",
       "      <td>0.0</td>\n",
       "    </tr>\n",
       "    <tr>\n",
       "      <th>30歳代</th>\n",
       "      <td>5.5</td>\n",
       "      <td>7.3</td>\n",
       "      <td>18.2</td>\n",
       "      <td>32.7</td>\n",
       "      <td>36.4</td>\n",
       "      <td>0.0</td>\n",
       "    </tr>\n",
       "    <tr>\n",
       "      <th>40歳代</th>\n",
       "      <td>5.7</td>\n",
       "      <td>13.7</td>\n",
       "      <td>14.5</td>\n",
       "      <td>35.7</td>\n",
       "      <td>30.4</td>\n",
       "      <td>0.0</td>\n",
       "    </tr>\n",
       "    <tr>\n",
       "      <th>50歳代</th>\n",
       "      <td>11.0</td>\n",
       "      <td>19.6</td>\n",
       "      <td>20.1</td>\n",
       "      <td>23.9</td>\n",
       "      <td>25.4</td>\n",
       "      <td>0.0</td>\n",
       "    </tr>\n",
       "    <tr>\n",
       "      <th>60歲代</th>\n",
       "      <td>22.1</td>\n",
       "      <td>21.5</td>\n",
       "      <td>16.4</td>\n",
       "      <td>18.1</td>\n",
       "      <td>19.6</td>\n",
       "      <td>2.3</td>\n",
       "    </tr>\n",
       "    <tr>\n",
       "      <th>70歲以上</th>\n",
       "      <td>26.1</td>\n",
       "      <td>24.5</td>\n",
       "      <td>17.9</td>\n",
       "      <td>20.2</td>\n",
       "      <td>10.7</td>\n",
       "      <td>0.6</td>\n",
       "    </tr>\n",
       "  </tbody>\n",
       "</table>\n",
       "</div>"
      ],
      "text/plain": [
       "                            0                             1  \\\n",
       "Attribute  1ヶ月に5時間未満(1日10分未満)  1ヶ月に5時間以上15時間未満(1日10分~30分程度)   \n",
       "19歳以下                       0                             0   \n",
       "20歳代                      0.9                           4.7   \n",
       "30歳代                      5.5                           7.3   \n",
       "40歳代                      5.7                          13.7   \n",
       "50歳代                     11.0                          19.6   \n",
       "60歲代                     22.1                          21.5   \n",
       "70歲以上                    26.1                          24.5   \n",
       "\n",
       "                                       2                            3  \\\n",
       "Attribute  1ヶ月に15時間以上30時間未満(1日30分~60分程度)  1ヶ月に30時間以上60時間未満(1日1~2時間程度)   \n",
       "19歳以下                                  5                           25   \n",
       "20歳代                                 7.5                         24.5   \n",
       "30歳代                                18.2                         32.7   \n",
       "40歳代                                14.5                         35.7   \n",
       "50歳代                                20.1                         23.9   \n",
       "60歲代                                16.4                         18.1   \n",
       "70歲以上                               17.9                         20.2   \n",
       "\n",
       "                             4    5  \n",
       "Attribute  1ヶ月に60時間以上(1日2時間以上)  無回答  \n",
       "19歳以下                       70    0  \n",
       "20歳代                      62.3  0.0  \n",
       "30歳代                      36.4  0.0  \n",
       "40歳代                      30.4  0.0  \n",
       "50歳代                      25.4  0.0  \n",
       "60歲代                      19.6  2.3  \n",
       "70歲以上                     10.7  0.6  "
      ]
     },
     "metadata": {},
     "output_type": "display_data"
    }
   ],
   "source": [
    "df_utfT=df_utf.T\n",
    "display(df_utfT)"
   ]
  },
  {
   "cell_type": "code",
   "execution_count": 179,
   "id": "a908c3a9",
   "metadata": {
    "scrolled": true
   },
   "outputs": [
    {
     "data": {
      "text/html": [
       "<div>\n",
       "<style scoped>\n",
       "    .dataframe tbody tr th:only-of-type {\n",
       "        vertical-align: middle;\n",
       "    }\n",
       "\n",
       "    .dataframe tbody tr th {\n",
       "        vertical-align: top;\n",
       "    }\n",
       "\n",
       "    .dataframe thead th {\n",
       "        text-align: right;\n",
       "    }\n",
       "</style>\n",
       "<table border=\"1\" class=\"dataframe\">\n",
       "  <thead>\n",
       "    <tr style=\"text-align: right;\">\n",
       "      <th></th>\n",
       "      <th>1ヶ月に5時間未満(1日10分未満)</th>\n",
       "      <th>1ヶ月に5時間以上15時間未満(1日10分~30分程度)</th>\n",
       "      <th>1ヶ月に15時間以上30時間未満(1日30分~60分程度)</th>\n",
       "      <th>1ヶ月に30時間以上60時間未満(1日1~2時間程度)</th>\n",
       "      <th>1ヶ月に60時間以上(1日2時間以上)</th>\n",
       "      <th>無回答</th>\n",
       "    </tr>\n",
       "  </thead>\n",
       "  <tbody>\n",
       "    <tr>\n",
       "      <th>19歳以下</th>\n",
       "      <td>0</td>\n",
       "      <td>0</td>\n",
       "      <td>5</td>\n",
       "      <td>25</td>\n",
       "      <td>70</td>\n",
       "      <td>0</td>\n",
       "    </tr>\n",
       "    <tr>\n",
       "      <th>20歳代</th>\n",
       "      <td>0.9</td>\n",
       "      <td>4.7</td>\n",
       "      <td>7.5</td>\n",
       "      <td>24.5</td>\n",
       "      <td>62.3</td>\n",
       "      <td>0.0</td>\n",
       "    </tr>\n",
       "    <tr>\n",
       "      <th>30歳代</th>\n",
       "      <td>5.5</td>\n",
       "      <td>7.3</td>\n",
       "      <td>18.2</td>\n",
       "      <td>32.7</td>\n",
       "      <td>36.4</td>\n",
       "      <td>0.0</td>\n",
       "    </tr>\n",
       "    <tr>\n",
       "      <th>40歳代</th>\n",
       "      <td>5.7</td>\n",
       "      <td>13.7</td>\n",
       "      <td>14.5</td>\n",
       "      <td>35.7</td>\n",
       "      <td>30.4</td>\n",
       "      <td>0.0</td>\n",
       "    </tr>\n",
       "    <tr>\n",
       "      <th>50歳代</th>\n",
       "      <td>11.0</td>\n",
       "      <td>19.6</td>\n",
       "      <td>20.1</td>\n",
       "      <td>23.9</td>\n",
       "      <td>25.4</td>\n",
       "      <td>0.0</td>\n",
       "    </tr>\n",
       "    <tr>\n",
       "      <th>60歲代</th>\n",
       "      <td>22.1</td>\n",
       "      <td>21.5</td>\n",
       "      <td>16.4</td>\n",
       "      <td>18.1</td>\n",
       "      <td>19.6</td>\n",
       "      <td>2.3</td>\n",
       "    </tr>\n",
       "    <tr>\n",
       "      <th>70歲以上</th>\n",
       "      <td>26.1</td>\n",
       "      <td>24.5</td>\n",
       "      <td>17.9</td>\n",
       "      <td>20.2</td>\n",
       "      <td>10.7</td>\n",
       "      <td>0.6</td>\n",
       "    </tr>\n",
       "  </tbody>\n",
       "</table>\n",
       "</div>"
      ],
      "text/plain": [
       "      1ヶ月に5時間未満(1日10分未満) 1ヶ月に5時間以上15時間未満(1日10分~30分程度)  \\\n",
       "19歳以下                  0                            0   \n",
       "20歳代                 0.9                          4.7   \n",
       "30歳代                 5.5                          7.3   \n",
       "40歳代                 5.7                         13.7   \n",
       "50歳代                11.0                         19.6   \n",
       "60歲代                22.1                         21.5   \n",
       "70歲以上               26.1                         24.5   \n",
       "\n",
       "      1ヶ月に15時間以上30時間未満(1日30分~60分程度) 1ヶ月に30時間以上60時間未満(1日1~2時間程度)  \\\n",
       "19歳以下                             5                          25   \n",
       "20歳代                            7.5                        24.5   \n",
       "30歳代                           18.2                        32.7   \n",
       "40歳代                           14.5                        35.7   \n",
       "50歳代                           20.1                        23.9   \n",
       "60歲代                           16.4                        18.1   \n",
       "70歲以上                          17.9                        20.2   \n",
       "\n",
       "      1ヶ月に60時間以上(1日2時間以上)  無回答  \n",
       "19歳以下                  70    0  \n",
       "20歳代                 62.3  0.0  \n",
       "30歳代                 36.4  0.0  \n",
       "40歳代                 30.4  0.0  \n",
       "50歳代                 25.4  0.0  \n",
       "60歲代                 19.6  2.3  \n",
       "70歲以上                10.7  0.6  "
      ]
     },
     "metadata": {},
     "output_type": "display_data"
    }
   ],
   "source": [
    "new_col_name=list(df_utfT.iloc[0,:])\n",
    "df_utfT=df_utfT.set_axis(new_col_name, axis='columns')\n",
    "df_utfT2=df_utfT.iloc[1:,:]\n",
    "display(df_utfT2)"
   ]
  },
  {
   "cell_type": "code",
   "execution_count": 152,
   "id": "811d77ae",
   "metadata": {},
   "outputs": [
    {
     "data": {
      "text/html": [
       "<div>\n",
       "<style scoped>\n",
       "    .dataframe tbody tr th:only-of-type {\n",
       "        vertical-align: middle;\n",
       "    }\n",
       "\n",
       "    .dataframe tbody tr th {\n",
       "        vertical-align: top;\n",
       "    }\n",
       "\n",
       "    .dataframe thead th {\n",
       "        text-align: right;\n",
       "    }\n",
       "</style>\n",
       "<table border=\"1\" class=\"dataframe\">\n",
       "  <thead>\n",
       "    <tr style=\"text-align: right;\">\n",
       "      <th></th>\n",
       "      <th>Subject</th>\n",
       "      <th>label</th>\n",
       "      <th>value</th>\n",
       "    </tr>\n",
       "  </thead>\n",
       "  <tbody>\n",
       "    <tr>\n",
       "      <th>0</th>\n",
       "      <td>19歳以下</td>\n",
       "      <td>1ヶ月に5時間未満(1日10分未満)</td>\n",
       "      <td>0</td>\n",
       "    </tr>\n",
       "    <tr>\n",
       "      <th>1</th>\n",
       "      <td>19歳以下</td>\n",
       "      <td>1ヶ月に5時間以上15時間未満(1日10分~30分程度)</td>\n",
       "      <td>0</td>\n",
       "    </tr>\n",
       "    <tr>\n",
       "      <th>2</th>\n",
       "      <td>19歳以下</td>\n",
       "      <td>1ヶ月に15時間以上30時間未満(1日30分~60分程度)</td>\n",
       "      <td>5</td>\n",
       "    </tr>\n",
       "    <tr>\n",
       "      <th>3</th>\n",
       "      <td>19歳以下</td>\n",
       "      <td>1ヶ月に30時間以上60時間未満(1日1~2時間程度)</td>\n",
       "      <td>25</td>\n",
       "    </tr>\n",
       "    <tr>\n",
       "      <th>4</th>\n",
       "      <td>19歳以下</td>\n",
       "      <td>1ヶ月に60時間以上(1日2時間以上)</td>\n",
       "      <td>70</td>\n",
       "    </tr>\n",
       "    <tr>\n",
       "      <th>5</th>\n",
       "      <td>19歳以下</td>\n",
       "      <td>無回答</td>\n",
       "      <td>0</td>\n",
       "    </tr>\n",
       "    <tr>\n",
       "      <th>6</th>\n",
       "      <td>20歳代</td>\n",
       "      <td>1ヶ月に5時間未満(1日10分未満)</td>\n",
       "      <td>0.9</td>\n",
       "    </tr>\n",
       "    <tr>\n",
       "      <th>7</th>\n",
       "      <td>20歳代</td>\n",
       "      <td>1ヶ月に5時間以上15時間未満(1日10分~30分程度)</td>\n",
       "      <td>4.7</td>\n",
       "    </tr>\n",
       "    <tr>\n",
       "      <th>8</th>\n",
       "      <td>20歳代</td>\n",
       "      <td>1ヶ月に15時間以上30時間未満(1日30分~60分程度)</td>\n",
       "      <td>7.5</td>\n",
       "    </tr>\n",
       "    <tr>\n",
       "      <th>9</th>\n",
       "      <td>20歳代</td>\n",
       "      <td>1ヶ月に30時間以上60時間未満(1日1~2時間程度)</td>\n",
       "      <td>24.5</td>\n",
       "    </tr>\n",
       "    <tr>\n",
       "      <th>10</th>\n",
       "      <td>20歳代</td>\n",
       "      <td>1ヶ月に60時間以上(1日2時間以上)</td>\n",
       "      <td>62.3</td>\n",
       "    </tr>\n",
       "    <tr>\n",
       "      <th>11</th>\n",
       "      <td>20歳代</td>\n",
       "      <td>無回答</td>\n",
       "      <td>0.0</td>\n",
       "    </tr>\n",
       "    <tr>\n",
       "      <th>12</th>\n",
       "      <td>30歳代</td>\n",
       "      <td>1ヶ月に5時間未満(1日10分未満)</td>\n",
       "      <td>5.5</td>\n",
       "    </tr>\n",
       "    <tr>\n",
       "      <th>13</th>\n",
       "      <td>30歳代</td>\n",
       "      <td>1ヶ月に5時間以上15時間未満(1日10分~30分程度)</td>\n",
       "      <td>7.3</td>\n",
       "    </tr>\n",
       "    <tr>\n",
       "      <th>14</th>\n",
       "      <td>30歳代</td>\n",
       "      <td>1ヶ月に15時間以上30時間未満(1日30分~60分程度)</td>\n",
       "      <td>18.2</td>\n",
       "    </tr>\n",
       "    <tr>\n",
       "      <th>15</th>\n",
       "      <td>30歳代</td>\n",
       "      <td>1ヶ月に30時間以上60時間未満(1日1~2時間程度)</td>\n",
       "      <td>32.7</td>\n",
       "    </tr>\n",
       "    <tr>\n",
       "      <th>16</th>\n",
       "      <td>30歳代</td>\n",
       "      <td>1ヶ月に60時間以上(1日2時間以上)</td>\n",
       "      <td>36.4</td>\n",
       "    </tr>\n",
       "    <tr>\n",
       "      <th>17</th>\n",
       "      <td>30歳代</td>\n",
       "      <td>無回答</td>\n",
       "      <td>0.0</td>\n",
       "    </tr>\n",
       "    <tr>\n",
       "      <th>18</th>\n",
       "      <td>40歳代</td>\n",
       "      <td>1ヶ月に5時間未満(1日10分未満)</td>\n",
       "      <td>5.7</td>\n",
       "    </tr>\n",
       "    <tr>\n",
       "      <th>19</th>\n",
       "      <td>40歳代</td>\n",
       "      <td>1ヶ月に5時間以上15時間未満(1日10分~30分程度)</td>\n",
       "      <td>13.7</td>\n",
       "    </tr>\n",
       "    <tr>\n",
       "      <th>20</th>\n",
       "      <td>40歳代</td>\n",
       "      <td>1ヶ月に15時間以上30時間未満(1日30分~60分程度)</td>\n",
       "      <td>14.5</td>\n",
       "    </tr>\n",
       "    <tr>\n",
       "      <th>21</th>\n",
       "      <td>40歳代</td>\n",
       "      <td>1ヶ月に30時間以上60時間未満(1日1~2時間程度)</td>\n",
       "      <td>35.7</td>\n",
       "    </tr>\n",
       "    <tr>\n",
       "      <th>22</th>\n",
       "      <td>40歳代</td>\n",
       "      <td>1ヶ月に60時間以上(1日2時間以上)</td>\n",
       "      <td>30.4</td>\n",
       "    </tr>\n",
       "    <tr>\n",
       "      <th>23</th>\n",
       "      <td>40歳代</td>\n",
       "      <td>無回答</td>\n",
       "      <td>0.0</td>\n",
       "    </tr>\n",
       "    <tr>\n",
       "      <th>24</th>\n",
       "      <td>50歳代</td>\n",
       "      <td>1ヶ月に5時間未満(1日10分未満)</td>\n",
       "      <td>11.0</td>\n",
       "    </tr>\n",
       "    <tr>\n",
       "      <th>25</th>\n",
       "      <td>50歳代</td>\n",
       "      <td>1ヶ月に5時間以上15時間未満(1日10分~30分程度)</td>\n",
       "      <td>19.6</td>\n",
       "    </tr>\n",
       "    <tr>\n",
       "      <th>26</th>\n",
       "      <td>50歳代</td>\n",
       "      <td>1ヶ月に15時間以上30時間未満(1日30分~60分程度)</td>\n",
       "      <td>20.1</td>\n",
       "    </tr>\n",
       "    <tr>\n",
       "      <th>27</th>\n",
       "      <td>50歳代</td>\n",
       "      <td>1ヶ月に30時間以上60時間未満(1日1~2時間程度)</td>\n",
       "      <td>23.9</td>\n",
       "    </tr>\n",
       "    <tr>\n",
       "      <th>28</th>\n",
       "      <td>50歳代</td>\n",
       "      <td>1ヶ月に60時間以上(1日2時間以上)</td>\n",
       "      <td>25.4</td>\n",
       "    </tr>\n",
       "    <tr>\n",
       "      <th>29</th>\n",
       "      <td>50歳代</td>\n",
       "      <td>無回答</td>\n",
       "      <td>0.0</td>\n",
       "    </tr>\n",
       "    <tr>\n",
       "      <th>30</th>\n",
       "      <td>60歲代</td>\n",
       "      <td>1ヶ月に5時間未満(1日10分未満)</td>\n",
       "      <td>22.1</td>\n",
       "    </tr>\n",
       "    <tr>\n",
       "      <th>31</th>\n",
       "      <td>60歲代</td>\n",
       "      <td>1ヶ月に5時間以上15時間未満(1日10分~30分程度)</td>\n",
       "      <td>21.5</td>\n",
       "    </tr>\n",
       "    <tr>\n",
       "      <th>32</th>\n",
       "      <td>60歲代</td>\n",
       "      <td>1ヶ月に15時間以上30時間未満(1日30分~60分程度)</td>\n",
       "      <td>16.4</td>\n",
       "    </tr>\n",
       "    <tr>\n",
       "      <th>33</th>\n",
       "      <td>60歲代</td>\n",
       "      <td>1ヶ月に30時間以上60時間未満(1日1~2時間程度)</td>\n",
       "      <td>18.1</td>\n",
       "    </tr>\n",
       "    <tr>\n",
       "      <th>34</th>\n",
       "      <td>60歲代</td>\n",
       "      <td>1ヶ月に60時間以上(1日2時間以上)</td>\n",
       "      <td>19.6</td>\n",
       "    </tr>\n",
       "    <tr>\n",
       "      <th>35</th>\n",
       "      <td>60歲代</td>\n",
       "      <td>無回答</td>\n",
       "      <td>2.3</td>\n",
       "    </tr>\n",
       "    <tr>\n",
       "      <th>36</th>\n",
       "      <td>70歲以上</td>\n",
       "      <td>1ヶ月に5時間未満(1日10分未満)</td>\n",
       "      <td>26.1</td>\n",
       "    </tr>\n",
       "    <tr>\n",
       "      <th>37</th>\n",
       "      <td>70歲以上</td>\n",
       "      <td>1ヶ月に5時間以上15時間未満(1日10分~30分程度)</td>\n",
       "      <td>24.5</td>\n",
       "    </tr>\n",
       "    <tr>\n",
       "      <th>38</th>\n",
       "      <td>70歲以上</td>\n",
       "      <td>1ヶ月に15時間以上30時間未満(1日30分~60分程度)</td>\n",
       "      <td>17.9</td>\n",
       "    </tr>\n",
       "    <tr>\n",
       "      <th>39</th>\n",
       "      <td>70歲以上</td>\n",
       "      <td>1ヶ月に30時間以上60時間未満(1日1~2時間程度)</td>\n",
       "      <td>20.2</td>\n",
       "    </tr>\n",
       "    <tr>\n",
       "      <th>40</th>\n",
       "      <td>70歲以上</td>\n",
       "      <td>1ヶ月に60時間以上(1日2時間以上)</td>\n",
       "      <td>10.7</td>\n",
       "    </tr>\n",
       "    <tr>\n",
       "      <th>41</th>\n",
       "      <td>70歲以上</td>\n",
       "      <td>無回答</td>\n",
       "      <td>0.6</td>\n",
       "    </tr>\n",
       "  </tbody>\n",
       "</table>\n",
       "</div>"
      ],
      "text/plain": [
       "   Subject                          label value\n",
       "0    19歳以下             1ヶ月に5時間未満(1日10分未満)     0\n",
       "1    19歳以下   1ヶ月に5時間以上15時間未満(1日10分~30分程度)     0\n",
       "2    19歳以下  1ヶ月に15時間以上30時間未満(1日30分~60分程度)     5\n",
       "3    19歳以下    1ヶ月に30時間以上60時間未満(1日1~2時間程度)    25\n",
       "4    19歳以下            1ヶ月に60時間以上(1日2時間以上)    70\n",
       "5    19歳以下                            無回答     0\n",
       "6     20歳代             1ヶ月に5時間未満(1日10分未満)   0.9\n",
       "7     20歳代   1ヶ月に5時間以上15時間未満(1日10分~30分程度)   4.7\n",
       "8     20歳代  1ヶ月に15時間以上30時間未満(1日30分~60分程度)   7.5\n",
       "9     20歳代    1ヶ月に30時間以上60時間未満(1日1~2時間程度)  24.5\n",
       "10    20歳代            1ヶ月に60時間以上(1日2時間以上)  62.3\n",
       "11    20歳代                            無回答   0.0\n",
       "12    30歳代             1ヶ月に5時間未満(1日10分未満)   5.5\n",
       "13    30歳代   1ヶ月に5時間以上15時間未満(1日10分~30分程度)   7.3\n",
       "14    30歳代  1ヶ月に15時間以上30時間未満(1日30分~60分程度)  18.2\n",
       "15    30歳代    1ヶ月に30時間以上60時間未満(1日1~2時間程度)  32.7\n",
       "16    30歳代            1ヶ月に60時間以上(1日2時間以上)  36.4\n",
       "17    30歳代                            無回答   0.0\n",
       "18    40歳代             1ヶ月に5時間未満(1日10分未満)   5.7\n",
       "19    40歳代   1ヶ月に5時間以上15時間未満(1日10分~30分程度)  13.7\n",
       "20    40歳代  1ヶ月に15時間以上30時間未満(1日30分~60分程度)  14.5\n",
       "21    40歳代    1ヶ月に30時間以上60時間未満(1日1~2時間程度)  35.7\n",
       "22    40歳代            1ヶ月に60時間以上(1日2時間以上)  30.4\n",
       "23    40歳代                            無回答   0.0\n",
       "24    50歳代             1ヶ月に5時間未満(1日10分未満)  11.0\n",
       "25    50歳代   1ヶ月に5時間以上15時間未満(1日10分~30分程度)  19.6\n",
       "26    50歳代  1ヶ月に15時間以上30時間未満(1日30分~60分程度)  20.1\n",
       "27    50歳代    1ヶ月に30時間以上60時間未満(1日1~2時間程度)  23.9\n",
       "28    50歳代            1ヶ月に60時間以上(1日2時間以上)  25.4\n",
       "29    50歳代                            無回答   0.0\n",
       "30    60歲代             1ヶ月に5時間未満(1日10分未満)  22.1\n",
       "31    60歲代   1ヶ月に5時間以上15時間未満(1日10分~30分程度)  21.5\n",
       "32    60歲代  1ヶ月に15時間以上30時間未満(1日30分~60分程度)  16.4\n",
       "33    60歲代    1ヶ月に30時間以上60時間未満(1日1~2時間程度)  18.1\n",
       "34    60歲代            1ヶ月に60時間以上(1日2時間以上)  19.6\n",
       "35    60歲代                            無回答   2.3\n",
       "36   70歲以上             1ヶ月に5時間未満(1日10分未満)  26.1\n",
       "37   70歲以上   1ヶ月に5時間以上15時間未満(1日10分~30分程度)  24.5\n",
       "38   70歲以上  1ヶ月に15時間以上30時間未満(1日30分~60分程度)  17.9\n",
       "39   70歲以上    1ヶ月に30時間以上60時間未満(1日1~2時間程度)  20.2\n",
       "40   70歲以上            1ヶ月に60時間以上(1日2時間以上)  10.7\n",
       "41   70歲以上                            無回答   0.6"
      ]
     },
     "metadata": {},
     "output_type": "display_data"
    }
   ],
   "source": [
    "#データフレームの整形\n",
    "df_graph2=df_utfT2.stack().rename_axis(['Subject','label']).reset_index().rename(columns={0:'value'})\n",
    "display(df_graph2)\n"
   ]
  },
  {
   "cell_type": "code",
   "execution_count": 153,
   "id": "93d7d8ba",
   "metadata": {},
   "outputs": [
    {
     "name": "stderr",
     "output_type": "stream",
     "text": [
      "/usr/local/lib/python3.9/site-packages/plotly/express/_core.py:271: FutureWarning:\n",
      "\n",
      "The frame.append method is deprecated and will be removed from pandas in a future version. Use pandas.concat instead.\n",
      "\n",
      "/usr/local/lib/python3.9/site-packages/plotly/express/_core.py:271: FutureWarning:\n",
      "\n",
      "The frame.append method is deprecated and will be removed from pandas in a future version. Use pandas.concat instead.\n",
      "\n",
      "/usr/local/lib/python3.9/site-packages/plotly/express/_core.py:271: FutureWarning:\n",
      "\n",
      "The frame.append method is deprecated and will be removed from pandas in a future version. Use pandas.concat instead.\n",
      "\n",
      "/usr/local/lib/python3.9/site-packages/plotly/express/_core.py:271: FutureWarning:\n",
      "\n",
      "The frame.append method is deprecated and will be removed from pandas in a future version. Use pandas.concat instead.\n",
      "\n",
      "/usr/local/lib/python3.9/site-packages/plotly/express/_core.py:271: FutureWarning:\n",
      "\n",
      "The frame.append method is deprecated and will be removed from pandas in a future version. Use pandas.concat instead.\n",
      "\n",
      "/usr/local/lib/python3.9/site-packages/plotly/express/_core.py:271: FutureWarning:\n",
      "\n",
      "The frame.append method is deprecated and will be removed from pandas in a future version. Use pandas.concat instead.\n",
      "\n",
      "/usr/local/lib/python3.9/site-packages/plotly/express/_core.py:271: FutureWarning:\n",
      "\n",
      "The frame.append method is deprecated and will be removed from pandas in a future version. Use pandas.concat instead.\n",
      "\n"
     ]
    },
    {
     "data": {
      "application/vnd.plotly.v1+json": {
       "config": {
        "plotlyServerURL": "https://plot.ly"
       },
       "data": [
        {
         "hovertemplate": "Subject=19歳以下<br>value=%{r}<br>label=%{theta}<extra></extra>",
         "legendgroup": "19歳以下",
         "line": {
          "color": "#636efa",
          "dash": "solid"
         },
         "marker": {
          "symbol": "circle"
         },
         "mode": "lines",
         "name": "19歳以下",
         "r": [
          0,
          0,
          5,
          25,
          70,
          0,
          0
         ],
         "showlegend": true,
         "subplot": "polar",
         "theta": [
          "1ヶ月に5時間未満(1日10分未満)",
          "1ヶ月に5時間以上15時間未満(1日10分~30分程度)",
          "1ヶ月に15時間以上30時間未満(1日30分~60分程度)",
          "1ヶ月に30時間以上60時間未満(1日1~2時間程度)",
          "1ヶ月に60時間以上(1日2時間以上)",
          "無回答",
          "1ヶ月に5時間未満(1日10分未満)"
         ],
         "type": "scatterpolar"
        },
        {
         "hovertemplate": "Subject=20歳代<br>value=%{r}<br>label=%{theta}<extra></extra>",
         "legendgroup": "20歳代",
         "line": {
          "color": "#EF553B",
          "dash": "solid"
         },
         "marker": {
          "symbol": "circle"
         },
         "mode": "lines",
         "name": "20歳代",
         "r": [
          0.9,
          4.7,
          7.5,
          24.5,
          62.3,
          0,
          0.9
         ],
         "showlegend": true,
         "subplot": "polar",
         "theta": [
          "1ヶ月に5時間未満(1日10分未満)",
          "1ヶ月に5時間以上15時間未満(1日10分~30分程度)",
          "1ヶ月に15時間以上30時間未満(1日30分~60分程度)",
          "1ヶ月に30時間以上60時間未満(1日1~2時間程度)",
          "1ヶ月に60時間以上(1日2時間以上)",
          "無回答",
          "1ヶ月に5時間未満(1日10分未満)"
         ],
         "type": "scatterpolar"
        },
        {
         "hovertemplate": "Subject=30歳代<br>value=%{r}<br>label=%{theta}<extra></extra>",
         "legendgroup": "30歳代",
         "line": {
          "color": "#00cc96",
          "dash": "solid"
         },
         "marker": {
          "symbol": "circle"
         },
         "mode": "lines",
         "name": "30歳代",
         "r": [
          5.5,
          7.3,
          18.2,
          32.7,
          36.4,
          0,
          5.5
         ],
         "showlegend": true,
         "subplot": "polar",
         "theta": [
          "1ヶ月に5時間未満(1日10分未満)",
          "1ヶ月に5時間以上15時間未満(1日10分~30分程度)",
          "1ヶ月に15時間以上30時間未満(1日30分~60分程度)",
          "1ヶ月に30時間以上60時間未満(1日1~2時間程度)",
          "1ヶ月に60時間以上(1日2時間以上)",
          "無回答",
          "1ヶ月に5時間未満(1日10分未満)"
         ],
         "type": "scatterpolar"
        },
        {
         "hovertemplate": "Subject=40歳代<br>value=%{r}<br>label=%{theta}<extra></extra>",
         "legendgroup": "40歳代",
         "line": {
          "color": "#ab63fa",
          "dash": "solid"
         },
         "marker": {
          "symbol": "circle"
         },
         "mode": "lines",
         "name": "40歳代",
         "r": [
          5.7,
          13.7,
          14.5,
          35.7,
          30.4,
          0,
          5.7
         ],
         "showlegend": true,
         "subplot": "polar",
         "theta": [
          "1ヶ月に5時間未満(1日10分未満)",
          "1ヶ月に5時間以上15時間未満(1日10分~30分程度)",
          "1ヶ月に15時間以上30時間未満(1日30分~60分程度)",
          "1ヶ月に30時間以上60時間未満(1日1~2時間程度)",
          "1ヶ月に60時間以上(1日2時間以上)",
          "無回答",
          "1ヶ月に5時間未満(1日10分未満)"
         ],
         "type": "scatterpolar"
        },
        {
         "hovertemplate": "Subject=50歳代<br>value=%{r}<br>label=%{theta}<extra></extra>",
         "legendgroup": "50歳代",
         "line": {
          "color": "#FFA15A",
          "dash": "solid"
         },
         "marker": {
          "symbol": "circle"
         },
         "mode": "lines",
         "name": "50歳代",
         "r": [
          11,
          19.6,
          20.1,
          23.9,
          25.4,
          0,
          11
         ],
         "showlegend": true,
         "subplot": "polar",
         "theta": [
          "1ヶ月に5時間未満(1日10分未満)",
          "1ヶ月に5時間以上15時間未満(1日10分~30分程度)",
          "1ヶ月に15時間以上30時間未満(1日30分~60分程度)",
          "1ヶ月に30時間以上60時間未満(1日1~2時間程度)",
          "1ヶ月に60時間以上(1日2時間以上)",
          "無回答",
          "1ヶ月に5時間未満(1日10分未満)"
         ],
         "type": "scatterpolar"
        },
        {
         "hovertemplate": "Subject=60歲代<br>value=%{r}<br>label=%{theta}<extra></extra>",
         "legendgroup": "60歲代",
         "line": {
          "color": "#19d3f3",
          "dash": "solid"
         },
         "marker": {
          "symbol": "circle"
         },
         "mode": "lines",
         "name": "60歲代",
         "r": [
          22.1,
          21.5,
          16.4,
          18.1,
          19.6,
          2.3,
          22.1
         ],
         "showlegend": true,
         "subplot": "polar",
         "theta": [
          "1ヶ月に5時間未満(1日10分未満)",
          "1ヶ月に5時間以上15時間未満(1日10分~30分程度)",
          "1ヶ月に15時間以上30時間未満(1日30分~60分程度)",
          "1ヶ月に30時間以上60時間未満(1日1~2時間程度)",
          "1ヶ月に60時間以上(1日2時間以上)",
          "無回答",
          "1ヶ月に5時間未満(1日10分未満)"
         ],
         "type": "scatterpolar"
        },
        {
         "hovertemplate": "Subject=70歲以上<br>value=%{r}<br>label=%{theta}<extra></extra>",
         "legendgroup": "70歲以上",
         "line": {
          "color": "#FF6692",
          "dash": "solid"
         },
         "marker": {
          "symbol": "circle"
         },
         "mode": "lines",
         "name": "70歲以上",
         "r": [
          26.1,
          24.5,
          17.9,
          20.2,
          10.7,
          0.6,
          26.1
         ],
         "showlegend": true,
         "subplot": "polar",
         "theta": [
          "1ヶ月に5時間未満(1日10分未満)",
          "1ヶ月に5時間以上15時間未満(1日10分~30分程度)",
          "1ヶ月に15時間以上30時間未満(1日30分~60分程度)",
          "1ヶ月に30時間以上60時間未満(1日1~2時間程度)",
          "1ヶ月に60時間以上(1日2時間以上)",
          "無回答",
          "1ヶ月に5時間未満(1日10分未満)"
         ],
         "type": "scatterpolar"
        }
       ],
       "layout": {
        "legend": {
         "title": {
          "text": "Subject"
         },
         "tracegroupgap": 0
        },
        "margin": {
         "t": 60
        },
        "polar": {
         "angularaxis": {
          "direction": "clockwise",
          "rotation": 90
         },
         "domain": {
          "x": [
           0,
           1
          ],
          "y": [
           0,
           1
          ]
         }
        },
        "template": {
         "data": {
          "bar": [
           {
            "error_x": {
             "color": "#2a3f5f"
            },
            "error_y": {
             "color": "#2a3f5f"
            },
            "marker": {
             "line": {
              "color": "#E5ECF6",
              "width": 0.5
             },
             "pattern": {
              "fillmode": "overlay",
              "size": 10,
              "solidity": 0.2
             }
            },
            "type": "bar"
           }
          ],
          "barpolar": [
           {
            "marker": {
             "line": {
              "color": "#E5ECF6",
              "width": 0.5
             },
             "pattern": {
              "fillmode": "overlay",
              "size": 10,
              "solidity": 0.2
             }
            },
            "type": "barpolar"
           }
          ],
          "carpet": [
           {
            "aaxis": {
             "endlinecolor": "#2a3f5f",
             "gridcolor": "white",
             "linecolor": "white",
             "minorgridcolor": "white",
             "startlinecolor": "#2a3f5f"
            },
            "baxis": {
             "endlinecolor": "#2a3f5f",
             "gridcolor": "white",
             "linecolor": "white",
             "minorgridcolor": "white",
             "startlinecolor": "#2a3f5f"
            },
            "type": "carpet"
           }
          ],
          "choropleth": [
           {
            "colorbar": {
             "outlinewidth": 0,
             "ticks": ""
            },
            "type": "choropleth"
           }
          ],
          "contour": [
           {
            "colorbar": {
             "outlinewidth": 0,
             "ticks": ""
            },
            "colorscale": [
             [
              0,
              "#0d0887"
             ],
             [
              0.1111111111111111,
              "#46039f"
             ],
             [
              0.2222222222222222,
              "#7201a8"
             ],
             [
              0.3333333333333333,
              "#9c179e"
             ],
             [
              0.4444444444444444,
              "#bd3786"
             ],
             [
              0.5555555555555556,
              "#d8576b"
             ],
             [
              0.6666666666666666,
              "#ed7953"
             ],
             [
              0.7777777777777778,
              "#fb9f3a"
             ],
             [
              0.8888888888888888,
              "#fdca26"
             ],
             [
              1,
              "#f0f921"
             ]
            ],
            "type": "contour"
           }
          ],
          "contourcarpet": [
           {
            "colorbar": {
             "outlinewidth": 0,
             "ticks": ""
            },
            "type": "contourcarpet"
           }
          ],
          "heatmap": [
           {
            "colorbar": {
             "outlinewidth": 0,
             "ticks": ""
            },
            "colorscale": [
             [
              0,
              "#0d0887"
             ],
             [
              0.1111111111111111,
              "#46039f"
             ],
             [
              0.2222222222222222,
              "#7201a8"
             ],
             [
              0.3333333333333333,
              "#9c179e"
             ],
             [
              0.4444444444444444,
              "#bd3786"
             ],
             [
              0.5555555555555556,
              "#d8576b"
             ],
             [
              0.6666666666666666,
              "#ed7953"
             ],
             [
              0.7777777777777778,
              "#fb9f3a"
             ],
             [
              0.8888888888888888,
              "#fdca26"
             ],
             [
              1,
              "#f0f921"
             ]
            ],
            "type": "heatmap"
           }
          ],
          "heatmapgl": [
           {
            "colorbar": {
             "outlinewidth": 0,
             "ticks": ""
            },
            "colorscale": [
             [
              0,
              "#0d0887"
             ],
             [
              0.1111111111111111,
              "#46039f"
             ],
             [
              0.2222222222222222,
              "#7201a8"
             ],
             [
              0.3333333333333333,
              "#9c179e"
             ],
             [
              0.4444444444444444,
              "#bd3786"
             ],
             [
              0.5555555555555556,
              "#d8576b"
             ],
             [
              0.6666666666666666,
              "#ed7953"
             ],
             [
              0.7777777777777778,
              "#fb9f3a"
             ],
             [
              0.8888888888888888,
              "#fdca26"
             ],
             [
              1,
              "#f0f921"
             ]
            ],
            "type": "heatmapgl"
           }
          ],
          "histogram": [
           {
            "marker": {
             "pattern": {
              "fillmode": "overlay",
              "size": 10,
              "solidity": 0.2
             }
            },
            "type": "histogram"
           }
          ],
          "histogram2d": [
           {
            "colorbar": {
             "outlinewidth": 0,
             "ticks": ""
            },
            "colorscale": [
             [
              0,
              "#0d0887"
             ],
             [
              0.1111111111111111,
              "#46039f"
             ],
             [
              0.2222222222222222,
              "#7201a8"
             ],
             [
              0.3333333333333333,
              "#9c179e"
             ],
             [
              0.4444444444444444,
              "#bd3786"
             ],
             [
              0.5555555555555556,
              "#d8576b"
             ],
             [
              0.6666666666666666,
              "#ed7953"
             ],
             [
              0.7777777777777778,
              "#fb9f3a"
             ],
             [
              0.8888888888888888,
              "#fdca26"
             ],
             [
              1,
              "#f0f921"
             ]
            ],
            "type": "histogram2d"
           }
          ],
          "histogram2dcontour": [
           {
            "colorbar": {
             "outlinewidth": 0,
             "ticks": ""
            },
            "colorscale": [
             [
              0,
              "#0d0887"
             ],
             [
              0.1111111111111111,
              "#46039f"
             ],
             [
              0.2222222222222222,
              "#7201a8"
             ],
             [
              0.3333333333333333,
              "#9c179e"
             ],
             [
              0.4444444444444444,
              "#bd3786"
             ],
             [
              0.5555555555555556,
              "#d8576b"
             ],
             [
              0.6666666666666666,
              "#ed7953"
             ],
             [
              0.7777777777777778,
              "#fb9f3a"
             ],
             [
              0.8888888888888888,
              "#fdca26"
             ],
             [
              1,
              "#f0f921"
             ]
            ],
            "type": "histogram2dcontour"
           }
          ],
          "mesh3d": [
           {
            "colorbar": {
             "outlinewidth": 0,
             "ticks": ""
            },
            "type": "mesh3d"
           }
          ],
          "parcoords": [
           {
            "line": {
             "colorbar": {
              "outlinewidth": 0,
              "ticks": ""
             }
            },
            "type": "parcoords"
           }
          ],
          "pie": [
           {
            "automargin": true,
            "type": "pie"
           }
          ],
          "scatter": [
           {
            "fillpattern": {
             "fillmode": "overlay",
             "size": 10,
             "solidity": 0.2
            },
            "type": "scatter"
           }
          ],
          "scatter3d": [
           {
            "line": {
             "colorbar": {
              "outlinewidth": 0,
              "ticks": ""
             }
            },
            "marker": {
             "colorbar": {
              "outlinewidth": 0,
              "ticks": ""
             }
            },
            "type": "scatter3d"
           }
          ],
          "scattercarpet": [
           {
            "marker": {
             "colorbar": {
              "outlinewidth": 0,
              "ticks": ""
             }
            },
            "type": "scattercarpet"
           }
          ],
          "scattergeo": [
           {
            "marker": {
             "colorbar": {
              "outlinewidth": 0,
              "ticks": ""
             }
            },
            "type": "scattergeo"
           }
          ],
          "scattergl": [
           {
            "marker": {
             "colorbar": {
              "outlinewidth": 0,
              "ticks": ""
             }
            },
            "type": "scattergl"
           }
          ],
          "scattermapbox": [
           {
            "marker": {
             "colorbar": {
              "outlinewidth": 0,
              "ticks": ""
             }
            },
            "type": "scattermapbox"
           }
          ],
          "scatterpolar": [
           {
            "marker": {
             "colorbar": {
              "outlinewidth": 0,
              "ticks": ""
             }
            },
            "type": "scatterpolar"
           }
          ],
          "scatterpolargl": [
           {
            "marker": {
             "colorbar": {
              "outlinewidth": 0,
              "ticks": ""
             }
            },
            "type": "scatterpolargl"
           }
          ],
          "scatterternary": [
           {
            "marker": {
             "colorbar": {
              "outlinewidth": 0,
              "ticks": ""
             }
            },
            "type": "scatterternary"
           }
          ],
          "surface": [
           {
            "colorbar": {
             "outlinewidth": 0,
             "ticks": ""
            },
            "colorscale": [
             [
              0,
              "#0d0887"
             ],
             [
              0.1111111111111111,
              "#46039f"
             ],
             [
              0.2222222222222222,
              "#7201a8"
             ],
             [
              0.3333333333333333,
              "#9c179e"
             ],
             [
              0.4444444444444444,
              "#bd3786"
             ],
             [
              0.5555555555555556,
              "#d8576b"
             ],
             [
              0.6666666666666666,
              "#ed7953"
             ],
             [
              0.7777777777777778,
              "#fb9f3a"
             ],
             [
              0.8888888888888888,
              "#fdca26"
             ],
             [
              1,
              "#f0f921"
             ]
            ],
            "type": "surface"
           }
          ],
          "table": [
           {
            "cells": {
             "fill": {
              "color": "#EBF0F8"
             },
             "line": {
              "color": "white"
             }
            },
            "header": {
             "fill": {
              "color": "#C8D4E3"
             },
             "line": {
              "color": "white"
             }
            },
            "type": "table"
           }
          ]
         },
         "layout": {
          "annotationdefaults": {
           "arrowcolor": "#2a3f5f",
           "arrowhead": 0,
           "arrowwidth": 1
          },
          "autotypenumbers": "strict",
          "coloraxis": {
           "colorbar": {
            "outlinewidth": 0,
            "ticks": ""
           }
          },
          "colorscale": {
           "diverging": [
            [
             0,
             "#8e0152"
            ],
            [
             0.1,
             "#c51b7d"
            ],
            [
             0.2,
             "#de77ae"
            ],
            [
             0.3,
             "#f1b6da"
            ],
            [
             0.4,
             "#fde0ef"
            ],
            [
             0.5,
             "#f7f7f7"
            ],
            [
             0.6,
             "#e6f5d0"
            ],
            [
             0.7,
             "#b8e186"
            ],
            [
             0.8,
             "#7fbc41"
            ],
            [
             0.9,
             "#4d9221"
            ],
            [
             1,
             "#276419"
            ]
           ],
           "sequential": [
            [
             0,
             "#0d0887"
            ],
            [
             0.1111111111111111,
             "#46039f"
            ],
            [
             0.2222222222222222,
             "#7201a8"
            ],
            [
             0.3333333333333333,
             "#9c179e"
            ],
            [
             0.4444444444444444,
             "#bd3786"
            ],
            [
             0.5555555555555556,
             "#d8576b"
            ],
            [
             0.6666666666666666,
             "#ed7953"
            ],
            [
             0.7777777777777778,
             "#fb9f3a"
            ],
            [
             0.8888888888888888,
             "#fdca26"
            ],
            [
             1,
             "#f0f921"
            ]
           ],
           "sequentialminus": [
            [
             0,
             "#0d0887"
            ],
            [
             0.1111111111111111,
             "#46039f"
            ],
            [
             0.2222222222222222,
             "#7201a8"
            ],
            [
             0.3333333333333333,
             "#9c179e"
            ],
            [
             0.4444444444444444,
             "#bd3786"
            ],
            [
             0.5555555555555556,
             "#d8576b"
            ],
            [
             0.6666666666666666,
             "#ed7953"
            ],
            [
             0.7777777777777778,
             "#fb9f3a"
            ],
            [
             0.8888888888888888,
             "#fdca26"
            ],
            [
             1,
             "#f0f921"
            ]
           ]
          },
          "colorway": [
           "#636efa",
           "#EF553B",
           "#00cc96",
           "#ab63fa",
           "#FFA15A",
           "#19d3f3",
           "#FF6692",
           "#B6E880",
           "#FF97FF",
           "#FECB52"
          ],
          "font": {
           "color": "#2a3f5f"
          },
          "geo": {
           "bgcolor": "white",
           "lakecolor": "white",
           "landcolor": "#E5ECF6",
           "showlakes": true,
           "showland": true,
           "subunitcolor": "white"
          },
          "hoverlabel": {
           "align": "left"
          },
          "hovermode": "closest",
          "mapbox": {
           "style": "light"
          },
          "paper_bgcolor": "white",
          "plot_bgcolor": "#E5ECF6",
          "polar": {
           "angularaxis": {
            "gridcolor": "white",
            "linecolor": "white",
            "ticks": ""
           },
           "bgcolor": "#E5ECF6",
           "radialaxis": {
            "gridcolor": "white",
            "linecolor": "white",
            "ticks": ""
           }
          },
          "scene": {
           "xaxis": {
            "backgroundcolor": "#E5ECF6",
            "gridcolor": "white",
            "gridwidth": 2,
            "linecolor": "white",
            "showbackground": true,
            "ticks": "",
            "zerolinecolor": "white"
           },
           "yaxis": {
            "backgroundcolor": "#E5ECF6",
            "gridcolor": "white",
            "gridwidth": 2,
            "linecolor": "white",
            "showbackground": true,
            "ticks": "",
            "zerolinecolor": "white"
           },
           "zaxis": {
            "backgroundcolor": "#E5ECF6",
            "gridcolor": "white",
            "gridwidth": 2,
            "linecolor": "white",
            "showbackground": true,
            "ticks": "",
            "zerolinecolor": "white"
           }
          },
          "shapedefaults": {
           "line": {
            "color": "#2a3f5f"
           }
          },
          "ternary": {
           "aaxis": {
            "gridcolor": "white",
            "linecolor": "white",
            "ticks": ""
           },
           "baxis": {
            "gridcolor": "white",
            "linecolor": "white",
            "ticks": ""
           },
           "bgcolor": "#E5ECF6",
           "caxis": {
            "gridcolor": "white",
            "linecolor": "white",
            "ticks": ""
           }
          },
          "title": {
           "x": 0.05
          },
          "xaxis": {
           "automargin": true,
           "gridcolor": "white",
           "linecolor": "white",
           "ticks": "",
           "title": {
            "standoff": 15
           },
           "zerolinecolor": "white",
           "zerolinewidth": 2
          },
          "yaxis": {
           "automargin": true,
           "gridcolor": "white",
           "linecolor": "white",
           "ticks": "",
           "title": {
            "standoff": 15
           },
           "zerolinecolor": "white",
           "zerolinewidth": 2
          }
         }
        }
       }
      },
      "text/html": [
       "<div>                            <div id=\"0474749b-4e4d-4691-8cd5-cbb49b117708\" class=\"plotly-graph-div\" style=\"height:525px; width:100%;\"></div>            <script type=\"text/javascript\">                require([\"plotly\"], function(Plotly) {                    window.PLOTLYENV=window.PLOTLYENV || {};                                    if (document.getElementById(\"0474749b-4e4d-4691-8cd5-cbb49b117708\")) {                    Plotly.newPlot(                        \"0474749b-4e4d-4691-8cd5-cbb49b117708\",                        [{\"hovertemplate\":\"Subject=19\\u6b73\\u4ee5\\u4e0b<br>value=%{r}<br>label=%{theta}<extra></extra>\",\"legendgroup\":\"19\\u6b73\\u4ee5\\u4e0b\",\"line\":{\"color\":\"#636efa\",\"dash\":\"solid\"},\"marker\":{\"symbol\":\"circle\"},\"mode\":\"lines\",\"name\":\"19\\u6b73\\u4ee5\\u4e0b\",\"r\":[0,0,5,25,70,0,0],\"showlegend\":true,\"subplot\":\"polar\",\"theta\":[\"1\\u30f6\\u6708\\u306b5\\u6642\\u9593\\u672a\\u6e80(1\\u65e510\\u5206\\u672a\\u6e80)\",\"1\\u30f6\\u6708\\u306b5\\u6642\\u9593\\u4ee5\\u4e0a15\\u6642\\u9593\\u672a\\u6e80(1\\u65e510\\u5206~30\\u5206\\u7a0b\\u5ea6)\",\"1\\u30f6\\u6708\\u306b15\\u6642\\u9593\\u4ee5\\u4e0a30\\u6642\\u9593\\u672a\\u6e80(1\\u65e530\\u5206~60\\u5206\\u7a0b\\u5ea6)\",\"1\\u30f6\\u6708\\u306b30\\u6642\\u9593\\u4ee5\\u4e0a60\\u6642\\u9593\\u672a\\u6e80(1\\u65e51~2\\u6642\\u9593\\u7a0b\\u5ea6)\",\"1\\u30f6\\u6708\\u306b60\\u6642\\u9593\\u4ee5\\u4e0a(1\\u65e52\\u6642\\u9593\\u4ee5\\u4e0a)\",\"\\u7121\\u56de\\u7b54\",\"1\\u30f6\\u6708\\u306b5\\u6642\\u9593\\u672a\\u6e80(1\\u65e510\\u5206\\u672a\\u6e80)\"],\"type\":\"scatterpolar\"},{\"hovertemplate\":\"Subject=20\\u6b73\\u4ee3<br>value=%{r}<br>label=%{theta}<extra></extra>\",\"legendgroup\":\"20\\u6b73\\u4ee3\",\"line\":{\"color\":\"#EF553B\",\"dash\":\"solid\"},\"marker\":{\"symbol\":\"circle\"},\"mode\":\"lines\",\"name\":\"20\\u6b73\\u4ee3\",\"r\":[0.9,4.7,7.5,24.5,62.3,0.0,0.9],\"showlegend\":true,\"subplot\":\"polar\",\"theta\":[\"1\\u30f6\\u6708\\u306b5\\u6642\\u9593\\u672a\\u6e80(1\\u65e510\\u5206\\u672a\\u6e80)\",\"1\\u30f6\\u6708\\u306b5\\u6642\\u9593\\u4ee5\\u4e0a15\\u6642\\u9593\\u672a\\u6e80(1\\u65e510\\u5206~30\\u5206\\u7a0b\\u5ea6)\",\"1\\u30f6\\u6708\\u306b15\\u6642\\u9593\\u4ee5\\u4e0a30\\u6642\\u9593\\u672a\\u6e80(1\\u65e530\\u5206~60\\u5206\\u7a0b\\u5ea6)\",\"1\\u30f6\\u6708\\u306b30\\u6642\\u9593\\u4ee5\\u4e0a60\\u6642\\u9593\\u672a\\u6e80(1\\u65e51~2\\u6642\\u9593\\u7a0b\\u5ea6)\",\"1\\u30f6\\u6708\\u306b60\\u6642\\u9593\\u4ee5\\u4e0a(1\\u65e52\\u6642\\u9593\\u4ee5\\u4e0a)\",\"\\u7121\\u56de\\u7b54\",\"1\\u30f6\\u6708\\u306b5\\u6642\\u9593\\u672a\\u6e80(1\\u65e510\\u5206\\u672a\\u6e80)\"],\"type\":\"scatterpolar\"},{\"hovertemplate\":\"Subject=30\\u6b73\\u4ee3<br>value=%{r}<br>label=%{theta}<extra></extra>\",\"legendgroup\":\"30\\u6b73\\u4ee3\",\"line\":{\"color\":\"#00cc96\",\"dash\":\"solid\"},\"marker\":{\"symbol\":\"circle\"},\"mode\":\"lines\",\"name\":\"30\\u6b73\\u4ee3\",\"r\":[5.5,7.3,18.2,32.7,36.4,0.0,5.5],\"showlegend\":true,\"subplot\":\"polar\",\"theta\":[\"1\\u30f6\\u6708\\u306b5\\u6642\\u9593\\u672a\\u6e80(1\\u65e510\\u5206\\u672a\\u6e80)\",\"1\\u30f6\\u6708\\u306b5\\u6642\\u9593\\u4ee5\\u4e0a15\\u6642\\u9593\\u672a\\u6e80(1\\u65e510\\u5206~30\\u5206\\u7a0b\\u5ea6)\",\"1\\u30f6\\u6708\\u306b15\\u6642\\u9593\\u4ee5\\u4e0a30\\u6642\\u9593\\u672a\\u6e80(1\\u65e530\\u5206~60\\u5206\\u7a0b\\u5ea6)\",\"1\\u30f6\\u6708\\u306b30\\u6642\\u9593\\u4ee5\\u4e0a60\\u6642\\u9593\\u672a\\u6e80(1\\u65e51~2\\u6642\\u9593\\u7a0b\\u5ea6)\",\"1\\u30f6\\u6708\\u306b60\\u6642\\u9593\\u4ee5\\u4e0a(1\\u65e52\\u6642\\u9593\\u4ee5\\u4e0a)\",\"\\u7121\\u56de\\u7b54\",\"1\\u30f6\\u6708\\u306b5\\u6642\\u9593\\u672a\\u6e80(1\\u65e510\\u5206\\u672a\\u6e80)\"],\"type\":\"scatterpolar\"},{\"hovertemplate\":\"Subject=40\\u6b73\\u4ee3<br>value=%{r}<br>label=%{theta}<extra></extra>\",\"legendgroup\":\"40\\u6b73\\u4ee3\",\"line\":{\"color\":\"#ab63fa\",\"dash\":\"solid\"},\"marker\":{\"symbol\":\"circle\"},\"mode\":\"lines\",\"name\":\"40\\u6b73\\u4ee3\",\"r\":[5.7,13.7,14.5,35.7,30.4,0.0,5.7],\"showlegend\":true,\"subplot\":\"polar\",\"theta\":[\"1\\u30f6\\u6708\\u306b5\\u6642\\u9593\\u672a\\u6e80(1\\u65e510\\u5206\\u672a\\u6e80)\",\"1\\u30f6\\u6708\\u306b5\\u6642\\u9593\\u4ee5\\u4e0a15\\u6642\\u9593\\u672a\\u6e80(1\\u65e510\\u5206~30\\u5206\\u7a0b\\u5ea6)\",\"1\\u30f6\\u6708\\u306b15\\u6642\\u9593\\u4ee5\\u4e0a30\\u6642\\u9593\\u672a\\u6e80(1\\u65e530\\u5206~60\\u5206\\u7a0b\\u5ea6)\",\"1\\u30f6\\u6708\\u306b30\\u6642\\u9593\\u4ee5\\u4e0a60\\u6642\\u9593\\u672a\\u6e80(1\\u65e51~2\\u6642\\u9593\\u7a0b\\u5ea6)\",\"1\\u30f6\\u6708\\u306b60\\u6642\\u9593\\u4ee5\\u4e0a(1\\u65e52\\u6642\\u9593\\u4ee5\\u4e0a)\",\"\\u7121\\u56de\\u7b54\",\"1\\u30f6\\u6708\\u306b5\\u6642\\u9593\\u672a\\u6e80(1\\u65e510\\u5206\\u672a\\u6e80)\"],\"type\":\"scatterpolar\"},{\"hovertemplate\":\"Subject=50\\u6b73\\u4ee3<br>value=%{r}<br>label=%{theta}<extra></extra>\",\"legendgroup\":\"50\\u6b73\\u4ee3\",\"line\":{\"color\":\"#FFA15A\",\"dash\":\"solid\"},\"marker\":{\"symbol\":\"circle\"},\"mode\":\"lines\",\"name\":\"50\\u6b73\\u4ee3\",\"r\":[11.0,19.6,20.1,23.9,25.4,0.0,11.0],\"showlegend\":true,\"subplot\":\"polar\",\"theta\":[\"1\\u30f6\\u6708\\u306b5\\u6642\\u9593\\u672a\\u6e80(1\\u65e510\\u5206\\u672a\\u6e80)\",\"1\\u30f6\\u6708\\u306b5\\u6642\\u9593\\u4ee5\\u4e0a15\\u6642\\u9593\\u672a\\u6e80(1\\u65e510\\u5206~30\\u5206\\u7a0b\\u5ea6)\",\"1\\u30f6\\u6708\\u306b15\\u6642\\u9593\\u4ee5\\u4e0a30\\u6642\\u9593\\u672a\\u6e80(1\\u65e530\\u5206~60\\u5206\\u7a0b\\u5ea6)\",\"1\\u30f6\\u6708\\u306b30\\u6642\\u9593\\u4ee5\\u4e0a60\\u6642\\u9593\\u672a\\u6e80(1\\u65e51~2\\u6642\\u9593\\u7a0b\\u5ea6)\",\"1\\u30f6\\u6708\\u306b60\\u6642\\u9593\\u4ee5\\u4e0a(1\\u65e52\\u6642\\u9593\\u4ee5\\u4e0a)\",\"\\u7121\\u56de\\u7b54\",\"1\\u30f6\\u6708\\u306b5\\u6642\\u9593\\u672a\\u6e80(1\\u65e510\\u5206\\u672a\\u6e80)\"],\"type\":\"scatterpolar\"},{\"hovertemplate\":\"Subject=60\\u6b72\\u4ee3<br>value=%{r}<br>label=%{theta}<extra></extra>\",\"legendgroup\":\"60\\u6b72\\u4ee3\",\"line\":{\"color\":\"#19d3f3\",\"dash\":\"solid\"},\"marker\":{\"symbol\":\"circle\"},\"mode\":\"lines\",\"name\":\"60\\u6b72\\u4ee3\",\"r\":[22.1,21.5,16.4,18.1,19.6,2.3,22.1],\"showlegend\":true,\"subplot\":\"polar\",\"theta\":[\"1\\u30f6\\u6708\\u306b5\\u6642\\u9593\\u672a\\u6e80(1\\u65e510\\u5206\\u672a\\u6e80)\",\"1\\u30f6\\u6708\\u306b5\\u6642\\u9593\\u4ee5\\u4e0a15\\u6642\\u9593\\u672a\\u6e80(1\\u65e510\\u5206~30\\u5206\\u7a0b\\u5ea6)\",\"1\\u30f6\\u6708\\u306b15\\u6642\\u9593\\u4ee5\\u4e0a30\\u6642\\u9593\\u672a\\u6e80(1\\u65e530\\u5206~60\\u5206\\u7a0b\\u5ea6)\",\"1\\u30f6\\u6708\\u306b30\\u6642\\u9593\\u4ee5\\u4e0a60\\u6642\\u9593\\u672a\\u6e80(1\\u65e51~2\\u6642\\u9593\\u7a0b\\u5ea6)\",\"1\\u30f6\\u6708\\u306b60\\u6642\\u9593\\u4ee5\\u4e0a(1\\u65e52\\u6642\\u9593\\u4ee5\\u4e0a)\",\"\\u7121\\u56de\\u7b54\",\"1\\u30f6\\u6708\\u306b5\\u6642\\u9593\\u672a\\u6e80(1\\u65e510\\u5206\\u672a\\u6e80)\"],\"type\":\"scatterpolar\"},{\"hovertemplate\":\"Subject=70\\u6b72\\u4ee5\\u4e0a<br>value=%{r}<br>label=%{theta}<extra></extra>\",\"legendgroup\":\"70\\u6b72\\u4ee5\\u4e0a\",\"line\":{\"color\":\"#FF6692\",\"dash\":\"solid\"},\"marker\":{\"symbol\":\"circle\"},\"mode\":\"lines\",\"name\":\"70\\u6b72\\u4ee5\\u4e0a\",\"r\":[26.1,24.5,17.9,20.2,10.7,0.6,26.1],\"showlegend\":true,\"subplot\":\"polar\",\"theta\":[\"1\\u30f6\\u6708\\u306b5\\u6642\\u9593\\u672a\\u6e80(1\\u65e510\\u5206\\u672a\\u6e80)\",\"1\\u30f6\\u6708\\u306b5\\u6642\\u9593\\u4ee5\\u4e0a15\\u6642\\u9593\\u672a\\u6e80(1\\u65e510\\u5206~30\\u5206\\u7a0b\\u5ea6)\",\"1\\u30f6\\u6708\\u306b15\\u6642\\u9593\\u4ee5\\u4e0a30\\u6642\\u9593\\u672a\\u6e80(1\\u65e530\\u5206~60\\u5206\\u7a0b\\u5ea6)\",\"1\\u30f6\\u6708\\u306b30\\u6642\\u9593\\u4ee5\\u4e0a60\\u6642\\u9593\\u672a\\u6e80(1\\u65e51~2\\u6642\\u9593\\u7a0b\\u5ea6)\",\"1\\u30f6\\u6708\\u306b60\\u6642\\u9593\\u4ee5\\u4e0a(1\\u65e52\\u6642\\u9593\\u4ee5\\u4e0a)\",\"\\u7121\\u56de\\u7b54\",\"1\\u30f6\\u6708\\u306b5\\u6642\\u9593\\u672a\\u6e80(1\\u65e510\\u5206\\u672a\\u6e80)\"],\"type\":\"scatterpolar\"}],                        {\"template\":{\"data\":{\"histogram2dcontour\":[{\"type\":\"histogram2dcontour\",\"colorbar\":{\"outlinewidth\":0,\"ticks\":\"\"},\"colorscale\":[[0.0,\"#0d0887\"],[0.1111111111111111,\"#46039f\"],[0.2222222222222222,\"#7201a8\"],[0.3333333333333333,\"#9c179e\"],[0.4444444444444444,\"#bd3786\"],[0.5555555555555556,\"#d8576b\"],[0.6666666666666666,\"#ed7953\"],[0.7777777777777778,\"#fb9f3a\"],[0.8888888888888888,\"#fdca26\"],[1.0,\"#f0f921\"]]}],\"choropleth\":[{\"type\":\"choropleth\",\"colorbar\":{\"outlinewidth\":0,\"ticks\":\"\"}}],\"histogram2d\":[{\"type\":\"histogram2d\",\"colorbar\":{\"outlinewidth\":0,\"ticks\":\"\"},\"colorscale\":[[0.0,\"#0d0887\"],[0.1111111111111111,\"#46039f\"],[0.2222222222222222,\"#7201a8\"],[0.3333333333333333,\"#9c179e\"],[0.4444444444444444,\"#bd3786\"],[0.5555555555555556,\"#d8576b\"],[0.6666666666666666,\"#ed7953\"],[0.7777777777777778,\"#fb9f3a\"],[0.8888888888888888,\"#fdca26\"],[1.0,\"#f0f921\"]]}],\"heatmap\":[{\"type\":\"heatmap\",\"colorbar\":{\"outlinewidth\":0,\"ticks\":\"\"},\"colorscale\":[[0.0,\"#0d0887\"],[0.1111111111111111,\"#46039f\"],[0.2222222222222222,\"#7201a8\"],[0.3333333333333333,\"#9c179e\"],[0.4444444444444444,\"#bd3786\"],[0.5555555555555556,\"#d8576b\"],[0.6666666666666666,\"#ed7953\"],[0.7777777777777778,\"#fb9f3a\"],[0.8888888888888888,\"#fdca26\"],[1.0,\"#f0f921\"]]}],\"heatmapgl\":[{\"type\":\"heatmapgl\",\"colorbar\":{\"outlinewidth\":0,\"ticks\":\"\"},\"colorscale\":[[0.0,\"#0d0887\"],[0.1111111111111111,\"#46039f\"],[0.2222222222222222,\"#7201a8\"],[0.3333333333333333,\"#9c179e\"],[0.4444444444444444,\"#bd3786\"],[0.5555555555555556,\"#d8576b\"],[0.6666666666666666,\"#ed7953\"],[0.7777777777777778,\"#fb9f3a\"],[0.8888888888888888,\"#fdca26\"],[1.0,\"#f0f921\"]]}],\"contourcarpet\":[{\"type\":\"contourcarpet\",\"colorbar\":{\"outlinewidth\":0,\"ticks\":\"\"}}],\"contour\":[{\"type\":\"contour\",\"colorbar\":{\"outlinewidth\":0,\"ticks\":\"\"},\"colorscale\":[[0.0,\"#0d0887\"],[0.1111111111111111,\"#46039f\"],[0.2222222222222222,\"#7201a8\"],[0.3333333333333333,\"#9c179e\"],[0.4444444444444444,\"#bd3786\"],[0.5555555555555556,\"#d8576b\"],[0.6666666666666666,\"#ed7953\"],[0.7777777777777778,\"#fb9f3a\"],[0.8888888888888888,\"#fdca26\"],[1.0,\"#f0f921\"]]}],\"surface\":[{\"type\":\"surface\",\"colorbar\":{\"outlinewidth\":0,\"ticks\":\"\"},\"colorscale\":[[0.0,\"#0d0887\"],[0.1111111111111111,\"#46039f\"],[0.2222222222222222,\"#7201a8\"],[0.3333333333333333,\"#9c179e\"],[0.4444444444444444,\"#bd3786\"],[0.5555555555555556,\"#d8576b\"],[0.6666666666666666,\"#ed7953\"],[0.7777777777777778,\"#fb9f3a\"],[0.8888888888888888,\"#fdca26\"],[1.0,\"#f0f921\"]]}],\"mesh3d\":[{\"type\":\"mesh3d\",\"colorbar\":{\"outlinewidth\":0,\"ticks\":\"\"}}],\"scatter\":[{\"fillpattern\":{\"fillmode\":\"overlay\",\"size\":10,\"solidity\":0.2},\"type\":\"scatter\"}],\"parcoords\":[{\"type\":\"parcoords\",\"line\":{\"colorbar\":{\"outlinewidth\":0,\"ticks\":\"\"}}}],\"scatterpolargl\":[{\"type\":\"scatterpolargl\",\"marker\":{\"colorbar\":{\"outlinewidth\":0,\"ticks\":\"\"}}}],\"bar\":[{\"error_x\":{\"color\":\"#2a3f5f\"},\"error_y\":{\"color\":\"#2a3f5f\"},\"marker\":{\"line\":{\"color\":\"#E5ECF6\",\"width\":0.5},\"pattern\":{\"fillmode\":\"overlay\",\"size\":10,\"solidity\":0.2}},\"type\":\"bar\"}],\"scattergeo\":[{\"type\":\"scattergeo\",\"marker\":{\"colorbar\":{\"outlinewidth\":0,\"ticks\":\"\"}}}],\"scatterpolar\":[{\"type\":\"scatterpolar\",\"marker\":{\"colorbar\":{\"outlinewidth\":0,\"ticks\":\"\"}}}],\"histogram\":[{\"marker\":{\"pattern\":{\"fillmode\":\"overlay\",\"size\":10,\"solidity\":0.2}},\"type\":\"histogram\"}],\"scattergl\":[{\"type\":\"scattergl\",\"marker\":{\"colorbar\":{\"outlinewidth\":0,\"ticks\":\"\"}}}],\"scatter3d\":[{\"type\":\"scatter3d\",\"line\":{\"colorbar\":{\"outlinewidth\":0,\"ticks\":\"\"}},\"marker\":{\"colorbar\":{\"outlinewidth\":0,\"ticks\":\"\"}}}],\"scattermapbox\":[{\"type\":\"scattermapbox\",\"marker\":{\"colorbar\":{\"outlinewidth\":0,\"ticks\":\"\"}}}],\"scatterternary\":[{\"type\":\"scatterternary\",\"marker\":{\"colorbar\":{\"outlinewidth\":0,\"ticks\":\"\"}}}],\"scattercarpet\":[{\"type\":\"scattercarpet\",\"marker\":{\"colorbar\":{\"outlinewidth\":0,\"ticks\":\"\"}}}],\"carpet\":[{\"aaxis\":{\"endlinecolor\":\"#2a3f5f\",\"gridcolor\":\"white\",\"linecolor\":\"white\",\"minorgridcolor\":\"white\",\"startlinecolor\":\"#2a3f5f\"},\"baxis\":{\"endlinecolor\":\"#2a3f5f\",\"gridcolor\":\"white\",\"linecolor\":\"white\",\"minorgridcolor\":\"white\",\"startlinecolor\":\"#2a3f5f\"},\"type\":\"carpet\"}],\"table\":[{\"cells\":{\"fill\":{\"color\":\"#EBF0F8\"},\"line\":{\"color\":\"white\"}},\"header\":{\"fill\":{\"color\":\"#C8D4E3\"},\"line\":{\"color\":\"white\"}},\"type\":\"table\"}],\"barpolar\":[{\"marker\":{\"line\":{\"color\":\"#E5ECF6\",\"width\":0.5},\"pattern\":{\"fillmode\":\"overlay\",\"size\":10,\"solidity\":0.2}},\"type\":\"barpolar\"}],\"pie\":[{\"automargin\":true,\"type\":\"pie\"}]},\"layout\":{\"autotypenumbers\":\"strict\",\"colorway\":[\"#636efa\",\"#EF553B\",\"#00cc96\",\"#ab63fa\",\"#FFA15A\",\"#19d3f3\",\"#FF6692\",\"#B6E880\",\"#FF97FF\",\"#FECB52\"],\"font\":{\"color\":\"#2a3f5f\"},\"hovermode\":\"closest\",\"hoverlabel\":{\"align\":\"left\"},\"paper_bgcolor\":\"white\",\"plot_bgcolor\":\"#E5ECF6\",\"polar\":{\"bgcolor\":\"#E5ECF6\",\"angularaxis\":{\"gridcolor\":\"white\",\"linecolor\":\"white\",\"ticks\":\"\"},\"radialaxis\":{\"gridcolor\":\"white\",\"linecolor\":\"white\",\"ticks\":\"\"}},\"ternary\":{\"bgcolor\":\"#E5ECF6\",\"aaxis\":{\"gridcolor\":\"white\",\"linecolor\":\"white\",\"ticks\":\"\"},\"baxis\":{\"gridcolor\":\"white\",\"linecolor\":\"white\",\"ticks\":\"\"},\"caxis\":{\"gridcolor\":\"white\",\"linecolor\":\"white\",\"ticks\":\"\"}},\"coloraxis\":{\"colorbar\":{\"outlinewidth\":0,\"ticks\":\"\"}},\"colorscale\":{\"sequential\":[[0.0,\"#0d0887\"],[0.1111111111111111,\"#46039f\"],[0.2222222222222222,\"#7201a8\"],[0.3333333333333333,\"#9c179e\"],[0.4444444444444444,\"#bd3786\"],[0.5555555555555556,\"#d8576b\"],[0.6666666666666666,\"#ed7953\"],[0.7777777777777778,\"#fb9f3a\"],[0.8888888888888888,\"#fdca26\"],[1.0,\"#f0f921\"]],\"sequentialminus\":[[0.0,\"#0d0887\"],[0.1111111111111111,\"#46039f\"],[0.2222222222222222,\"#7201a8\"],[0.3333333333333333,\"#9c179e\"],[0.4444444444444444,\"#bd3786\"],[0.5555555555555556,\"#d8576b\"],[0.6666666666666666,\"#ed7953\"],[0.7777777777777778,\"#fb9f3a\"],[0.8888888888888888,\"#fdca26\"],[1.0,\"#f0f921\"]],\"diverging\":[[0,\"#8e0152\"],[0.1,\"#c51b7d\"],[0.2,\"#de77ae\"],[0.3,\"#f1b6da\"],[0.4,\"#fde0ef\"],[0.5,\"#f7f7f7\"],[0.6,\"#e6f5d0\"],[0.7,\"#b8e186\"],[0.8,\"#7fbc41\"],[0.9,\"#4d9221\"],[1,\"#276419\"]]},\"xaxis\":{\"gridcolor\":\"white\",\"linecolor\":\"white\",\"ticks\":\"\",\"title\":{\"standoff\":15},\"zerolinecolor\":\"white\",\"automargin\":true,\"zerolinewidth\":2},\"yaxis\":{\"gridcolor\":\"white\",\"linecolor\":\"white\",\"ticks\":\"\",\"title\":{\"standoff\":15},\"zerolinecolor\":\"white\",\"automargin\":true,\"zerolinewidth\":2},\"scene\":{\"xaxis\":{\"backgroundcolor\":\"#E5ECF6\",\"gridcolor\":\"white\",\"linecolor\":\"white\",\"showbackground\":true,\"ticks\":\"\",\"zerolinecolor\":\"white\",\"gridwidth\":2},\"yaxis\":{\"backgroundcolor\":\"#E5ECF6\",\"gridcolor\":\"white\",\"linecolor\":\"white\",\"showbackground\":true,\"ticks\":\"\",\"zerolinecolor\":\"white\",\"gridwidth\":2},\"zaxis\":{\"backgroundcolor\":\"#E5ECF6\",\"gridcolor\":\"white\",\"linecolor\":\"white\",\"showbackground\":true,\"ticks\":\"\",\"zerolinecolor\":\"white\",\"gridwidth\":2}},\"shapedefaults\":{\"line\":{\"color\":\"#2a3f5f\"}},\"annotationdefaults\":{\"arrowcolor\":\"#2a3f5f\",\"arrowhead\":0,\"arrowwidth\":1},\"geo\":{\"bgcolor\":\"white\",\"landcolor\":\"#E5ECF6\",\"subunitcolor\":\"white\",\"showland\":true,\"showlakes\":true,\"lakecolor\":\"white\"},\"title\":{\"x\":0.05},\"mapbox\":{\"style\":\"light\"}}},\"polar\":{\"domain\":{\"x\":[0.0,1.0],\"y\":[0.0,1.0]},\"angularaxis\":{\"direction\":\"clockwise\",\"rotation\":90}},\"legend\":{\"title\":{\"text\":\"Subject\"},\"tracegroupgap\":0},\"margin\":{\"t\":60}},                        {\"responsive\": true}                    ).then(function(){\n",
       "                            \n",
       "var gd = document.getElementById('0474749b-4e4d-4691-8cd5-cbb49b117708');\n",
       "var x = new MutationObserver(function (mutations, observer) {{\n",
       "        var display = window.getComputedStyle(gd).display;\n",
       "        if (!display || display === 'none') {{\n",
       "            console.log([gd, 'removed!']);\n",
       "            Plotly.purge(gd);\n",
       "            observer.disconnect();\n",
       "        }}\n",
       "}});\n",
       "\n",
       "// Listen for the removal of the full notebook cells\n",
       "var notebookContainer = gd.closest('#notebook-container');\n",
       "if (notebookContainer) {{\n",
       "    x.observe(notebookContainer, {childList: true});\n",
       "}}\n",
       "\n",
       "// Listen for the clearing of the current output cell\n",
       "var outputEl = gd.closest('.output');\n",
       "if (outputEl) {{\n",
       "    x.observe(outputEl, {childList: true});\n",
       "}}\n",
       "\n",
       "                        })                };                });            </script>        </div>"
      ]
     },
     "metadata": {},
     "output_type": "display_data"
    }
   ],
   "source": [
    "#グラフの定義\n",
    "fig=px.line_polar(df_graph2,r='value',theta='label',color='Subject',line_close=True)\n",
    "\n",
    "#グラフ描画\n",
    "fig.show()"
   ]
  },
  {
   "cell_type": "markdown",
   "id": "57a425dc",
   "metadata": {},
   "source": [
    "## ----------------- Summary-----------------"
   ]
  },
  {
   "cell_type": "code",
   "execution_count": 181,
   "id": "cff27852",
   "metadata": {},
   "outputs": [
    {
     "data": {
      "text/html": [
       "<div>\n",
       "<style scoped>\n",
       "    .dataframe tbody tr th:only-of-type {\n",
       "        vertical-align: middle;\n",
       "    }\n",
       "\n",
       "    .dataframe tbody tr th {\n",
       "        vertical-align: top;\n",
       "    }\n",
       "\n",
       "    .dataframe thead th {\n",
       "        text-align: right;\n",
       "    }\n",
       "</style>\n",
       "<table border=\"1\" class=\"dataframe\">\n",
       "  <thead>\n",
       "    <tr style=\"text-align: right;\">\n",
       "      <th></th>\n",
       "      <th>Attribute</th>\n",
       "      <th>19歳以下</th>\n",
       "      <th>20歳代</th>\n",
       "      <th>30歳代</th>\n",
       "      <th>40歳代</th>\n",
       "      <th>50歳代</th>\n",
       "      <th>60歲代</th>\n",
       "      <th>70歲以上</th>\n",
       "    </tr>\n",
       "  </thead>\n",
       "  <tbody>\n",
       "    <tr>\n",
       "      <th>0</th>\n",
       "      <td>1ヶ月に5時間未満(1日10分未満)</td>\n",
       "      <td>0</td>\n",
       "      <td>0.9</td>\n",
       "      <td>5.5</td>\n",
       "      <td>5.7</td>\n",
       "      <td>11.0</td>\n",
       "      <td>22.1</td>\n",
       "      <td>26.1</td>\n",
       "    </tr>\n",
       "    <tr>\n",
       "      <th>1</th>\n",
       "      <td>1ヶ月に5時間以上15時間未満(1日10分~30分程度)</td>\n",
       "      <td>0</td>\n",
       "      <td>4.7</td>\n",
       "      <td>7.3</td>\n",
       "      <td>13.7</td>\n",
       "      <td>19.6</td>\n",
       "      <td>21.5</td>\n",
       "      <td>24.5</td>\n",
       "    </tr>\n",
       "    <tr>\n",
       "      <th>2</th>\n",
       "      <td>1ヶ月に15時間以上30時間未満(1日30分~60分程度)</td>\n",
       "      <td>5</td>\n",
       "      <td>7.5</td>\n",
       "      <td>18.2</td>\n",
       "      <td>14.5</td>\n",
       "      <td>20.1</td>\n",
       "      <td>16.4</td>\n",
       "      <td>17.9</td>\n",
       "    </tr>\n",
       "    <tr>\n",
       "      <th>3</th>\n",
       "      <td>1ヶ月に30時間以上60時間未満(1日1~2時間程度)</td>\n",
       "      <td>25</td>\n",
       "      <td>24.5</td>\n",
       "      <td>32.7</td>\n",
       "      <td>35.7</td>\n",
       "      <td>23.9</td>\n",
       "      <td>18.1</td>\n",
       "      <td>20.2</td>\n",
       "    </tr>\n",
       "    <tr>\n",
       "      <th>4</th>\n",
       "      <td>1ヶ月に60時間以上(1日2時間以上)</td>\n",
       "      <td>70</td>\n",
       "      <td>62.3</td>\n",
       "      <td>36.4</td>\n",
       "      <td>30.4</td>\n",
       "      <td>25.4</td>\n",
       "      <td>19.6</td>\n",
       "      <td>10.7</td>\n",
       "    </tr>\n",
       "    <tr>\n",
       "      <th>5</th>\n",
       "      <td>無回答</td>\n",
       "      <td>0</td>\n",
       "      <td>0.0</td>\n",
       "      <td>0.0</td>\n",
       "      <td>0.0</td>\n",
       "      <td>0.0</td>\n",
       "      <td>2.3</td>\n",
       "      <td>0.6</td>\n",
       "    </tr>\n",
       "  </tbody>\n",
       "</table>\n",
       "</div>"
      ],
      "text/plain": [
       "                       Attribute  19歳以下  20歳代  30歳代  40歳代  50歳代  60歲代  70歲以上\n",
       "0             1ヶ月に5時間未満(1日10分未満)      0   0.9   5.5   5.7  11.0  22.1   26.1\n",
       "1   1ヶ月に5時間以上15時間未満(1日10分~30分程度)      0   4.7   7.3  13.7  19.6  21.5   24.5\n",
       "2  1ヶ月に15時間以上30時間未満(1日30分~60分程度)      5   7.5  18.2  14.5  20.1  16.4   17.9\n",
       "3    1ヶ月に30時間以上60時間未満(1日1~2時間程度)     25  24.5  32.7  35.7  23.9  18.1   20.2\n",
       "4            1ヶ月に60時間以上(1日2時間以上)     70  62.3  36.4  30.4  25.4  19.6   10.7\n",
       "5                            無回答      0   0.0   0.0   0.0   0.0   2.3    0.6"
      ]
     },
     "execution_count": 181,
     "metadata": {},
     "output_type": "execute_result"
    }
   ],
   "source": [
    "df_utf"
   ]
  },
  {
   "cell_type": "code",
   "execution_count": 180,
   "id": "59ed0688",
   "metadata": {},
   "outputs": [
    {
     "name": "stderr",
     "output_type": "stream",
     "text": [
      "/usr/local/lib/python3.9/site-packages/plotly/express/_core.py:271: FutureWarning:\n",
      "\n",
      "The frame.append method is deprecated and will be removed from pandas in a future version. Use pandas.concat instead.\n",
      "\n"
     ]
    },
    {
     "data": {
      "application/vnd.plotly.v1+json": {
       "config": {
        "plotlyServerURL": "https://plot.ly"
       },
       "data": [
        {
         "fill": "toself",
         "hovertemplate": "19歳以下=%{r}<br>Attribute=%{theta}<extra></extra>",
         "legendgroup": "",
         "line": {
          "color": "#636efa",
          "dash": "solid"
         },
         "marker": {
          "symbol": "circle"
         },
         "mode": "lines",
         "name": "",
         "r": [
          0,
          0,
          5,
          25,
          70,
          0,
          0
         ],
         "showlegend": false,
         "subplot": "polar",
         "theta": [
          "1ヶ月に5時間未満(1日10分未満)",
          "1ヶ月に5時間以上15時間未満(1日10分~30分程度)",
          "1ヶ月に15時間以上30時間未満(1日30分~60分程度)",
          "1ヶ月に30時間以上60時間未満(1日1~2時間程度)",
          "1ヶ月に60時間以上(1日2時間以上)",
          "無回答",
          "1ヶ月に5時間未満(1日10分未満)"
         ],
         "type": "scatterpolar"
        }
       ],
       "layout": {
        "legend": {
         "tracegroupgap": 0
        },
        "margin": {
         "t": 60
        },
        "polar": {
         "angularaxis": {
          "direction": "clockwise",
          "rotation": 90
         },
         "domain": {
          "x": [
           0,
           1
          ],
          "y": [
           0,
           1
          ]
         }
        },
        "template": {
         "data": {
          "bar": [
           {
            "error_x": {
             "color": "#2a3f5f"
            },
            "error_y": {
             "color": "#2a3f5f"
            },
            "marker": {
             "line": {
              "color": "#E5ECF6",
              "width": 0.5
             },
             "pattern": {
              "fillmode": "overlay",
              "size": 10,
              "solidity": 0.2
             }
            },
            "type": "bar"
           }
          ],
          "barpolar": [
           {
            "marker": {
             "line": {
              "color": "#E5ECF6",
              "width": 0.5
             },
             "pattern": {
              "fillmode": "overlay",
              "size": 10,
              "solidity": 0.2
             }
            },
            "type": "barpolar"
           }
          ],
          "carpet": [
           {
            "aaxis": {
             "endlinecolor": "#2a3f5f",
             "gridcolor": "white",
             "linecolor": "white",
             "minorgridcolor": "white",
             "startlinecolor": "#2a3f5f"
            },
            "baxis": {
             "endlinecolor": "#2a3f5f",
             "gridcolor": "white",
             "linecolor": "white",
             "minorgridcolor": "white",
             "startlinecolor": "#2a3f5f"
            },
            "type": "carpet"
           }
          ],
          "choropleth": [
           {
            "colorbar": {
             "outlinewidth": 0,
             "ticks": ""
            },
            "type": "choropleth"
           }
          ],
          "contour": [
           {
            "colorbar": {
             "outlinewidth": 0,
             "ticks": ""
            },
            "colorscale": [
             [
              0,
              "#0d0887"
             ],
             [
              0.1111111111111111,
              "#46039f"
             ],
             [
              0.2222222222222222,
              "#7201a8"
             ],
             [
              0.3333333333333333,
              "#9c179e"
             ],
             [
              0.4444444444444444,
              "#bd3786"
             ],
             [
              0.5555555555555556,
              "#d8576b"
             ],
             [
              0.6666666666666666,
              "#ed7953"
             ],
             [
              0.7777777777777778,
              "#fb9f3a"
             ],
             [
              0.8888888888888888,
              "#fdca26"
             ],
             [
              1,
              "#f0f921"
             ]
            ],
            "type": "contour"
           }
          ],
          "contourcarpet": [
           {
            "colorbar": {
             "outlinewidth": 0,
             "ticks": ""
            },
            "type": "contourcarpet"
           }
          ],
          "heatmap": [
           {
            "colorbar": {
             "outlinewidth": 0,
             "ticks": ""
            },
            "colorscale": [
             [
              0,
              "#0d0887"
             ],
             [
              0.1111111111111111,
              "#46039f"
             ],
             [
              0.2222222222222222,
              "#7201a8"
             ],
             [
              0.3333333333333333,
              "#9c179e"
             ],
             [
              0.4444444444444444,
              "#bd3786"
             ],
             [
              0.5555555555555556,
              "#d8576b"
             ],
             [
              0.6666666666666666,
              "#ed7953"
             ],
             [
              0.7777777777777778,
              "#fb9f3a"
             ],
             [
              0.8888888888888888,
              "#fdca26"
             ],
             [
              1,
              "#f0f921"
             ]
            ],
            "type": "heatmap"
           }
          ],
          "heatmapgl": [
           {
            "colorbar": {
             "outlinewidth": 0,
             "ticks": ""
            },
            "colorscale": [
             [
              0,
              "#0d0887"
             ],
             [
              0.1111111111111111,
              "#46039f"
             ],
             [
              0.2222222222222222,
              "#7201a8"
             ],
             [
              0.3333333333333333,
              "#9c179e"
             ],
             [
              0.4444444444444444,
              "#bd3786"
             ],
             [
              0.5555555555555556,
              "#d8576b"
             ],
             [
              0.6666666666666666,
              "#ed7953"
             ],
             [
              0.7777777777777778,
              "#fb9f3a"
             ],
             [
              0.8888888888888888,
              "#fdca26"
             ],
             [
              1,
              "#f0f921"
             ]
            ],
            "type": "heatmapgl"
           }
          ],
          "histogram": [
           {
            "marker": {
             "pattern": {
              "fillmode": "overlay",
              "size": 10,
              "solidity": 0.2
             }
            },
            "type": "histogram"
           }
          ],
          "histogram2d": [
           {
            "colorbar": {
             "outlinewidth": 0,
             "ticks": ""
            },
            "colorscale": [
             [
              0,
              "#0d0887"
             ],
             [
              0.1111111111111111,
              "#46039f"
             ],
             [
              0.2222222222222222,
              "#7201a8"
             ],
             [
              0.3333333333333333,
              "#9c179e"
             ],
             [
              0.4444444444444444,
              "#bd3786"
             ],
             [
              0.5555555555555556,
              "#d8576b"
             ],
             [
              0.6666666666666666,
              "#ed7953"
             ],
             [
              0.7777777777777778,
              "#fb9f3a"
             ],
             [
              0.8888888888888888,
              "#fdca26"
             ],
             [
              1,
              "#f0f921"
             ]
            ],
            "type": "histogram2d"
           }
          ],
          "histogram2dcontour": [
           {
            "colorbar": {
             "outlinewidth": 0,
             "ticks": ""
            },
            "colorscale": [
             [
              0,
              "#0d0887"
             ],
             [
              0.1111111111111111,
              "#46039f"
             ],
             [
              0.2222222222222222,
              "#7201a8"
             ],
             [
              0.3333333333333333,
              "#9c179e"
             ],
             [
              0.4444444444444444,
              "#bd3786"
             ],
             [
              0.5555555555555556,
              "#d8576b"
             ],
             [
              0.6666666666666666,
              "#ed7953"
             ],
             [
              0.7777777777777778,
              "#fb9f3a"
             ],
             [
              0.8888888888888888,
              "#fdca26"
             ],
             [
              1,
              "#f0f921"
             ]
            ],
            "type": "histogram2dcontour"
           }
          ],
          "mesh3d": [
           {
            "colorbar": {
             "outlinewidth": 0,
             "ticks": ""
            },
            "type": "mesh3d"
           }
          ],
          "parcoords": [
           {
            "line": {
             "colorbar": {
              "outlinewidth": 0,
              "ticks": ""
             }
            },
            "type": "parcoords"
           }
          ],
          "pie": [
           {
            "automargin": true,
            "type": "pie"
           }
          ],
          "scatter": [
           {
            "fillpattern": {
             "fillmode": "overlay",
             "size": 10,
             "solidity": 0.2
            },
            "type": "scatter"
           }
          ],
          "scatter3d": [
           {
            "line": {
             "colorbar": {
              "outlinewidth": 0,
              "ticks": ""
             }
            },
            "marker": {
             "colorbar": {
              "outlinewidth": 0,
              "ticks": ""
             }
            },
            "type": "scatter3d"
           }
          ],
          "scattercarpet": [
           {
            "marker": {
             "colorbar": {
              "outlinewidth": 0,
              "ticks": ""
             }
            },
            "type": "scattercarpet"
           }
          ],
          "scattergeo": [
           {
            "marker": {
             "colorbar": {
              "outlinewidth": 0,
              "ticks": ""
             }
            },
            "type": "scattergeo"
           }
          ],
          "scattergl": [
           {
            "marker": {
             "colorbar": {
              "outlinewidth": 0,
              "ticks": ""
             }
            },
            "type": "scattergl"
           }
          ],
          "scattermapbox": [
           {
            "marker": {
             "colorbar": {
              "outlinewidth": 0,
              "ticks": ""
             }
            },
            "type": "scattermapbox"
           }
          ],
          "scatterpolar": [
           {
            "marker": {
             "colorbar": {
              "outlinewidth": 0,
              "ticks": ""
             }
            },
            "type": "scatterpolar"
           }
          ],
          "scatterpolargl": [
           {
            "marker": {
             "colorbar": {
              "outlinewidth": 0,
              "ticks": ""
             }
            },
            "type": "scatterpolargl"
           }
          ],
          "scatterternary": [
           {
            "marker": {
             "colorbar": {
              "outlinewidth": 0,
              "ticks": ""
             }
            },
            "type": "scatterternary"
           }
          ],
          "surface": [
           {
            "colorbar": {
             "outlinewidth": 0,
             "ticks": ""
            },
            "colorscale": [
             [
              0,
              "#0d0887"
             ],
             [
              0.1111111111111111,
              "#46039f"
             ],
             [
              0.2222222222222222,
              "#7201a8"
             ],
             [
              0.3333333333333333,
              "#9c179e"
             ],
             [
              0.4444444444444444,
              "#bd3786"
             ],
             [
              0.5555555555555556,
              "#d8576b"
             ],
             [
              0.6666666666666666,
              "#ed7953"
             ],
             [
              0.7777777777777778,
              "#fb9f3a"
             ],
             [
              0.8888888888888888,
              "#fdca26"
             ],
             [
              1,
              "#f0f921"
             ]
            ],
            "type": "surface"
           }
          ],
          "table": [
           {
            "cells": {
             "fill": {
              "color": "#EBF0F8"
             },
             "line": {
              "color": "white"
             }
            },
            "header": {
             "fill": {
              "color": "#C8D4E3"
             },
             "line": {
              "color": "white"
             }
            },
            "type": "table"
           }
          ]
         },
         "layout": {
          "annotationdefaults": {
           "arrowcolor": "#2a3f5f",
           "arrowhead": 0,
           "arrowwidth": 1
          },
          "autotypenumbers": "strict",
          "coloraxis": {
           "colorbar": {
            "outlinewidth": 0,
            "ticks": ""
           }
          },
          "colorscale": {
           "diverging": [
            [
             0,
             "#8e0152"
            ],
            [
             0.1,
             "#c51b7d"
            ],
            [
             0.2,
             "#de77ae"
            ],
            [
             0.3,
             "#f1b6da"
            ],
            [
             0.4,
             "#fde0ef"
            ],
            [
             0.5,
             "#f7f7f7"
            ],
            [
             0.6,
             "#e6f5d0"
            ],
            [
             0.7,
             "#b8e186"
            ],
            [
             0.8,
             "#7fbc41"
            ],
            [
             0.9,
             "#4d9221"
            ],
            [
             1,
             "#276419"
            ]
           ],
           "sequential": [
            [
             0,
             "#0d0887"
            ],
            [
             0.1111111111111111,
             "#46039f"
            ],
            [
             0.2222222222222222,
             "#7201a8"
            ],
            [
             0.3333333333333333,
             "#9c179e"
            ],
            [
             0.4444444444444444,
             "#bd3786"
            ],
            [
             0.5555555555555556,
             "#d8576b"
            ],
            [
             0.6666666666666666,
             "#ed7953"
            ],
            [
             0.7777777777777778,
             "#fb9f3a"
            ],
            [
             0.8888888888888888,
             "#fdca26"
            ],
            [
             1,
             "#f0f921"
            ]
           ],
           "sequentialminus": [
            [
             0,
             "#0d0887"
            ],
            [
             0.1111111111111111,
             "#46039f"
            ],
            [
             0.2222222222222222,
             "#7201a8"
            ],
            [
             0.3333333333333333,
             "#9c179e"
            ],
            [
             0.4444444444444444,
             "#bd3786"
            ],
            [
             0.5555555555555556,
             "#d8576b"
            ],
            [
             0.6666666666666666,
             "#ed7953"
            ],
            [
             0.7777777777777778,
             "#fb9f3a"
            ],
            [
             0.8888888888888888,
             "#fdca26"
            ],
            [
             1,
             "#f0f921"
            ]
           ]
          },
          "colorway": [
           "#636efa",
           "#EF553B",
           "#00cc96",
           "#ab63fa",
           "#FFA15A",
           "#19d3f3",
           "#FF6692",
           "#B6E880",
           "#FF97FF",
           "#FECB52"
          ],
          "font": {
           "color": "#2a3f5f"
          },
          "geo": {
           "bgcolor": "white",
           "lakecolor": "white",
           "landcolor": "#E5ECF6",
           "showlakes": true,
           "showland": true,
           "subunitcolor": "white"
          },
          "hoverlabel": {
           "align": "left"
          },
          "hovermode": "closest",
          "mapbox": {
           "style": "light"
          },
          "paper_bgcolor": "white",
          "plot_bgcolor": "#E5ECF6",
          "polar": {
           "angularaxis": {
            "gridcolor": "white",
            "linecolor": "white",
            "ticks": ""
           },
           "bgcolor": "#E5ECF6",
           "radialaxis": {
            "gridcolor": "white",
            "linecolor": "white",
            "ticks": ""
           }
          },
          "scene": {
           "xaxis": {
            "backgroundcolor": "#E5ECF6",
            "gridcolor": "white",
            "gridwidth": 2,
            "linecolor": "white",
            "showbackground": true,
            "ticks": "",
            "zerolinecolor": "white"
           },
           "yaxis": {
            "backgroundcolor": "#E5ECF6",
            "gridcolor": "white",
            "gridwidth": 2,
            "linecolor": "white",
            "showbackground": true,
            "ticks": "",
            "zerolinecolor": "white"
           },
           "zaxis": {
            "backgroundcolor": "#E5ECF6",
            "gridcolor": "white",
            "gridwidth": 2,
            "linecolor": "white",
            "showbackground": true,
            "ticks": "",
            "zerolinecolor": "white"
           }
          },
          "shapedefaults": {
           "line": {
            "color": "#2a3f5f"
           }
          },
          "ternary": {
           "aaxis": {
            "gridcolor": "white",
            "linecolor": "white",
            "ticks": ""
           },
           "baxis": {
            "gridcolor": "white",
            "linecolor": "white",
            "ticks": ""
           },
           "bgcolor": "#E5ECF6",
           "caxis": {
            "gridcolor": "white",
            "linecolor": "white",
            "ticks": ""
           }
          },
          "title": {
           "x": 0.05
          },
          "xaxis": {
           "automargin": true,
           "gridcolor": "white",
           "linecolor": "white",
           "ticks": "",
           "title": {
            "standoff": 15
           },
           "zerolinecolor": "white",
           "zerolinewidth": 2
          },
          "yaxis": {
           "automargin": true,
           "gridcolor": "white",
           "linecolor": "white",
           "ticks": "",
           "title": {
            "standoff": 15
           },
           "zerolinecolor": "white",
           "zerolinewidth": 2
          }
         }
        }
       }
      },
      "text/html": [
       "<div>                            <div id=\"fa13571e-5947-4ac8-9f73-760d3d8ed235\" class=\"plotly-graph-div\" style=\"height:525px; width:100%;\"></div>            <script type=\"text/javascript\">                require([\"plotly\"], function(Plotly) {                    window.PLOTLYENV=window.PLOTLYENV || {};                                    if (document.getElementById(\"fa13571e-5947-4ac8-9f73-760d3d8ed235\")) {                    Plotly.newPlot(                        \"fa13571e-5947-4ac8-9f73-760d3d8ed235\",                        [{\"hovertemplate\":\"19\\u6b73\\u4ee5\\u4e0b=%{r}<br>Attribute=%{theta}<extra></extra>\",\"legendgroup\":\"\",\"line\":{\"color\":\"#636efa\",\"dash\":\"solid\"},\"marker\":{\"symbol\":\"circle\"},\"mode\":\"lines\",\"name\":\"\",\"r\":[0,0,5,25,70,0,0],\"showlegend\":false,\"subplot\":\"polar\",\"theta\":[\"1\\u30f6\\u6708\\u306b5\\u6642\\u9593\\u672a\\u6e80(1\\u65e510\\u5206\\u672a\\u6e80)\",\"1\\u30f6\\u6708\\u306b5\\u6642\\u9593\\u4ee5\\u4e0a15\\u6642\\u9593\\u672a\\u6e80(1\\u65e510\\u5206~30\\u5206\\u7a0b\\u5ea6)\",\"1\\u30f6\\u6708\\u306b15\\u6642\\u9593\\u4ee5\\u4e0a30\\u6642\\u9593\\u672a\\u6e80(1\\u65e530\\u5206~60\\u5206\\u7a0b\\u5ea6)\",\"1\\u30f6\\u6708\\u306b30\\u6642\\u9593\\u4ee5\\u4e0a60\\u6642\\u9593\\u672a\\u6e80(1\\u65e51~2\\u6642\\u9593\\u7a0b\\u5ea6)\",\"1\\u30f6\\u6708\\u306b60\\u6642\\u9593\\u4ee5\\u4e0a(1\\u65e52\\u6642\\u9593\\u4ee5\\u4e0a)\",\"\\u7121\\u56de\\u7b54\",\"1\\u30f6\\u6708\\u306b5\\u6642\\u9593\\u672a\\u6e80(1\\u65e510\\u5206\\u672a\\u6e80)\"],\"type\":\"scatterpolar\",\"fill\":\"toself\"}],                        {\"template\":{\"data\":{\"histogram2dcontour\":[{\"type\":\"histogram2dcontour\",\"colorbar\":{\"outlinewidth\":0,\"ticks\":\"\"},\"colorscale\":[[0.0,\"#0d0887\"],[0.1111111111111111,\"#46039f\"],[0.2222222222222222,\"#7201a8\"],[0.3333333333333333,\"#9c179e\"],[0.4444444444444444,\"#bd3786\"],[0.5555555555555556,\"#d8576b\"],[0.6666666666666666,\"#ed7953\"],[0.7777777777777778,\"#fb9f3a\"],[0.8888888888888888,\"#fdca26\"],[1.0,\"#f0f921\"]]}],\"choropleth\":[{\"type\":\"choropleth\",\"colorbar\":{\"outlinewidth\":0,\"ticks\":\"\"}}],\"histogram2d\":[{\"type\":\"histogram2d\",\"colorbar\":{\"outlinewidth\":0,\"ticks\":\"\"},\"colorscale\":[[0.0,\"#0d0887\"],[0.1111111111111111,\"#46039f\"],[0.2222222222222222,\"#7201a8\"],[0.3333333333333333,\"#9c179e\"],[0.4444444444444444,\"#bd3786\"],[0.5555555555555556,\"#d8576b\"],[0.6666666666666666,\"#ed7953\"],[0.7777777777777778,\"#fb9f3a\"],[0.8888888888888888,\"#fdca26\"],[1.0,\"#f0f921\"]]}],\"heatmap\":[{\"type\":\"heatmap\",\"colorbar\":{\"outlinewidth\":0,\"ticks\":\"\"},\"colorscale\":[[0.0,\"#0d0887\"],[0.1111111111111111,\"#46039f\"],[0.2222222222222222,\"#7201a8\"],[0.3333333333333333,\"#9c179e\"],[0.4444444444444444,\"#bd3786\"],[0.5555555555555556,\"#d8576b\"],[0.6666666666666666,\"#ed7953\"],[0.7777777777777778,\"#fb9f3a\"],[0.8888888888888888,\"#fdca26\"],[1.0,\"#f0f921\"]]}],\"heatmapgl\":[{\"type\":\"heatmapgl\",\"colorbar\":{\"outlinewidth\":0,\"ticks\":\"\"},\"colorscale\":[[0.0,\"#0d0887\"],[0.1111111111111111,\"#46039f\"],[0.2222222222222222,\"#7201a8\"],[0.3333333333333333,\"#9c179e\"],[0.4444444444444444,\"#bd3786\"],[0.5555555555555556,\"#d8576b\"],[0.6666666666666666,\"#ed7953\"],[0.7777777777777778,\"#fb9f3a\"],[0.8888888888888888,\"#fdca26\"],[1.0,\"#f0f921\"]]}],\"contourcarpet\":[{\"type\":\"contourcarpet\",\"colorbar\":{\"outlinewidth\":0,\"ticks\":\"\"}}],\"contour\":[{\"type\":\"contour\",\"colorbar\":{\"outlinewidth\":0,\"ticks\":\"\"},\"colorscale\":[[0.0,\"#0d0887\"],[0.1111111111111111,\"#46039f\"],[0.2222222222222222,\"#7201a8\"],[0.3333333333333333,\"#9c179e\"],[0.4444444444444444,\"#bd3786\"],[0.5555555555555556,\"#d8576b\"],[0.6666666666666666,\"#ed7953\"],[0.7777777777777778,\"#fb9f3a\"],[0.8888888888888888,\"#fdca26\"],[1.0,\"#f0f921\"]]}],\"surface\":[{\"type\":\"surface\",\"colorbar\":{\"outlinewidth\":0,\"ticks\":\"\"},\"colorscale\":[[0.0,\"#0d0887\"],[0.1111111111111111,\"#46039f\"],[0.2222222222222222,\"#7201a8\"],[0.3333333333333333,\"#9c179e\"],[0.4444444444444444,\"#bd3786\"],[0.5555555555555556,\"#d8576b\"],[0.6666666666666666,\"#ed7953\"],[0.7777777777777778,\"#fb9f3a\"],[0.8888888888888888,\"#fdca26\"],[1.0,\"#f0f921\"]]}],\"mesh3d\":[{\"type\":\"mesh3d\",\"colorbar\":{\"outlinewidth\":0,\"ticks\":\"\"}}],\"scatter\":[{\"fillpattern\":{\"fillmode\":\"overlay\",\"size\":10,\"solidity\":0.2},\"type\":\"scatter\"}],\"parcoords\":[{\"type\":\"parcoords\",\"line\":{\"colorbar\":{\"outlinewidth\":0,\"ticks\":\"\"}}}],\"scatterpolargl\":[{\"type\":\"scatterpolargl\",\"marker\":{\"colorbar\":{\"outlinewidth\":0,\"ticks\":\"\"}}}],\"bar\":[{\"error_x\":{\"color\":\"#2a3f5f\"},\"error_y\":{\"color\":\"#2a3f5f\"},\"marker\":{\"line\":{\"color\":\"#E5ECF6\",\"width\":0.5},\"pattern\":{\"fillmode\":\"overlay\",\"size\":10,\"solidity\":0.2}},\"type\":\"bar\"}],\"scattergeo\":[{\"type\":\"scattergeo\",\"marker\":{\"colorbar\":{\"outlinewidth\":0,\"ticks\":\"\"}}}],\"scatterpolar\":[{\"type\":\"scatterpolar\",\"marker\":{\"colorbar\":{\"outlinewidth\":0,\"ticks\":\"\"}}}],\"histogram\":[{\"marker\":{\"pattern\":{\"fillmode\":\"overlay\",\"size\":10,\"solidity\":0.2}},\"type\":\"histogram\"}],\"scattergl\":[{\"type\":\"scattergl\",\"marker\":{\"colorbar\":{\"outlinewidth\":0,\"ticks\":\"\"}}}],\"scatter3d\":[{\"type\":\"scatter3d\",\"line\":{\"colorbar\":{\"outlinewidth\":0,\"ticks\":\"\"}},\"marker\":{\"colorbar\":{\"outlinewidth\":0,\"ticks\":\"\"}}}],\"scattermapbox\":[{\"type\":\"scattermapbox\",\"marker\":{\"colorbar\":{\"outlinewidth\":0,\"ticks\":\"\"}}}],\"scatterternary\":[{\"type\":\"scatterternary\",\"marker\":{\"colorbar\":{\"outlinewidth\":0,\"ticks\":\"\"}}}],\"scattercarpet\":[{\"type\":\"scattercarpet\",\"marker\":{\"colorbar\":{\"outlinewidth\":0,\"ticks\":\"\"}}}],\"carpet\":[{\"aaxis\":{\"endlinecolor\":\"#2a3f5f\",\"gridcolor\":\"white\",\"linecolor\":\"white\",\"minorgridcolor\":\"white\",\"startlinecolor\":\"#2a3f5f\"},\"baxis\":{\"endlinecolor\":\"#2a3f5f\",\"gridcolor\":\"white\",\"linecolor\":\"white\",\"minorgridcolor\":\"white\",\"startlinecolor\":\"#2a3f5f\"},\"type\":\"carpet\"}],\"table\":[{\"cells\":{\"fill\":{\"color\":\"#EBF0F8\"},\"line\":{\"color\":\"white\"}},\"header\":{\"fill\":{\"color\":\"#C8D4E3\"},\"line\":{\"color\":\"white\"}},\"type\":\"table\"}],\"barpolar\":[{\"marker\":{\"line\":{\"color\":\"#E5ECF6\",\"width\":0.5},\"pattern\":{\"fillmode\":\"overlay\",\"size\":10,\"solidity\":0.2}},\"type\":\"barpolar\"}],\"pie\":[{\"automargin\":true,\"type\":\"pie\"}]},\"layout\":{\"autotypenumbers\":\"strict\",\"colorway\":[\"#636efa\",\"#EF553B\",\"#00cc96\",\"#ab63fa\",\"#FFA15A\",\"#19d3f3\",\"#FF6692\",\"#B6E880\",\"#FF97FF\",\"#FECB52\"],\"font\":{\"color\":\"#2a3f5f\"},\"hovermode\":\"closest\",\"hoverlabel\":{\"align\":\"left\"},\"paper_bgcolor\":\"white\",\"plot_bgcolor\":\"#E5ECF6\",\"polar\":{\"bgcolor\":\"#E5ECF6\",\"angularaxis\":{\"gridcolor\":\"white\",\"linecolor\":\"white\",\"ticks\":\"\"},\"radialaxis\":{\"gridcolor\":\"white\",\"linecolor\":\"white\",\"ticks\":\"\"}},\"ternary\":{\"bgcolor\":\"#E5ECF6\",\"aaxis\":{\"gridcolor\":\"white\",\"linecolor\":\"white\",\"ticks\":\"\"},\"baxis\":{\"gridcolor\":\"white\",\"linecolor\":\"white\",\"ticks\":\"\"},\"caxis\":{\"gridcolor\":\"white\",\"linecolor\":\"white\",\"ticks\":\"\"}},\"coloraxis\":{\"colorbar\":{\"outlinewidth\":0,\"ticks\":\"\"}},\"colorscale\":{\"sequential\":[[0.0,\"#0d0887\"],[0.1111111111111111,\"#46039f\"],[0.2222222222222222,\"#7201a8\"],[0.3333333333333333,\"#9c179e\"],[0.4444444444444444,\"#bd3786\"],[0.5555555555555556,\"#d8576b\"],[0.6666666666666666,\"#ed7953\"],[0.7777777777777778,\"#fb9f3a\"],[0.8888888888888888,\"#fdca26\"],[1.0,\"#f0f921\"]],\"sequentialminus\":[[0.0,\"#0d0887\"],[0.1111111111111111,\"#46039f\"],[0.2222222222222222,\"#7201a8\"],[0.3333333333333333,\"#9c179e\"],[0.4444444444444444,\"#bd3786\"],[0.5555555555555556,\"#d8576b\"],[0.6666666666666666,\"#ed7953\"],[0.7777777777777778,\"#fb9f3a\"],[0.8888888888888888,\"#fdca26\"],[1.0,\"#f0f921\"]],\"diverging\":[[0,\"#8e0152\"],[0.1,\"#c51b7d\"],[0.2,\"#de77ae\"],[0.3,\"#f1b6da\"],[0.4,\"#fde0ef\"],[0.5,\"#f7f7f7\"],[0.6,\"#e6f5d0\"],[0.7,\"#b8e186\"],[0.8,\"#7fbc41\"],[0.9,\"#4d9221\"],[1,\"#276419\"]]},\"xaxis\":{\"gridcolor\":\"white\",\"linecolor\":\"white\",\"ticks\":\"\",\"title\":{\"standoff\":15},\"zerolinecolor\":\"white\",\"automargin\":true,\"zerolinewidth\":2},\"yaxis\":{\"gridcolor\":\"white\",\"linecolor\":\"white\",\"ticks\":\"\",\"title\":{\"standoff\":15},\"zerolinecolor\":\"white\",\"automargin\":true,\"zerolinewidth\":2},\"scene\":{\"xaxis\":{\"backgroundcolor\":\"#E5ECF6\",\"gridcolor\":\"white\",\"linecolor\":\"white\",\"showbackground\":true,\"ticks\":\"\",\"zerolinecolor\":\"white\",\"gridwidth\":2},\"yaxis\":{\"backgroundcolor\":\"#E5ECF6\",\"gridcolor\":\"white\",\"linecolor\":\"white\",\"showbackground\":true,\"ticks\":\"\",\"zerolinecolor\":\"white\",\"gridwidth\":2},\"zaxis\":{\"backgroundcolor\":\"#E5ECF6\",\"gridcolor\":\"white\",\"linecolor\":\"white\",\"showbackground\":true,\"ticks\":\"\",\"zerolinecolor\":\"white\",\"gridwidth\":2}},\"shapedefaults\":{\"line\":{\"color\":\"#2a3f5f\"}},\"annotationdefaults\":{\"arrowcolor\":\"#2a3f5f\",\"arrowhead\":0,\"arrowwidth\":1},\"geo\":{\"bgcolor\":\"white\",\"landcolor\":\"#E5ECF6\",\"subunitcolor\":\"white\",\"showland\":true,\"showlakes\":true,\"lakecolor\":\"white\"},\"title\":{\"x\":0.05},\"mapbox\":{\"style\":\"light\"}}},\"polar\":{\"domain\":{\"x\":[0.0,1.0],\"y\":[0.0,1.0]},\"angularaxis\":{\"direction\":\"clockwise\",\"rotation\":90}},\"legend\":{\"tracegroupgap\":0},\"margin\":{\"t\":60}},                        {\"responsive\": true}                    ).then(function(){\n",
       "                            \n",
       "var gd = document.getElementById('fa13571e-5947-4ac8-9f73-760d3d8ed235');\n",
       "var x = new MutationObserver(function (mutations, observer) {{\n",
       "        var display = window.getComputedStyle(gd).display;\n",
       "        if (!display || display === 'none') {{\n",
       "            console.log([gd, 'removed!']);\n",
       "            Plotly.purge(gd);\n",
       "            observer.disconnect();\n",
       "        }}\n",
       "}});\n",
       "\n",
       "// Listen for the removal of the full notebook cells\n",
       "var notebookContainer = gd.closest('#notebook-container');\n",
       "if (notebookContainer) {{\n",
       "    x.observe(notebookContainer, {childList: true});\n",
       "}}\n",
       "\n",
       "// Listen for the clearing of the current output cell\n",
       "var outputEl = gd.closest('.output');\n",
       "if (outputEl) {{\n",
       "    x.observe(outputEl, {childList: true});\n",
       "}}\n",
       "\n",
       "                        })                };                });            </script>        </div>"
      ]
     },
     "metadata": {},
     "output_type": "display_data"
    }
   ],
   "source": [
    "fpath = os.path.join('dataK', '401005_jyohokaanketochousahokoku_2019.csv')\n",
    "df_utf=pd.read_csv(fpath,encoding='utf8')\n",
    "fig=px.line_polar(df_utf.iloc[:,:2],r='19歳以下',theta='Attribute',line_close=True)  #グラフの定義\n",
    "fig.update_traces(fill='toself')  #レイアウトの定義\n",
    "fig.show()  #グラフ描画"
   ]
  },
  {
   "cell_type": "code",
   "execution_count": null,
   "id": "527ea847",
   "metadata": {},
   "outputs": [],
   "source": [
    "fpath = os.path.join('dataK', '401005_jyohokaanketochousahokoku_2019.csv')\n",
    "df_utf=pd.read_csv(fpath,encoding='utf8')\n",
    "fig=px.line_polar(df_utf.iloc[:,:2],r='19歳以下',theta='Attribute',line_close=True)  #グラフの定義\n",
    "fig.update_traces(fill='toself')  #レイアウトの定義\n",
    "fig.show()  #グラフ描画"
   ]
  },
  {
   "cell_type": "markdown",
   "id": "c7a54163",
   "metadata": {},
   "source": [
    "## discussion"
   ]
  },
  {
   "cell_type": "code",
   "execution_count": 188,
   "id": "6654e057",
   "metadata": {},
   "outputs": [
    {
     "data": {
      "text/html": [
       "<div>\n",
       "<style scoped>\n",
       "    .dataframe tbody tr th:only-of-type {\n",
       "        vertical-align: middle;\n",
       "    }\n",
       "\n",
       "    .dataframe tbody tr th {\n",
       "        vertical-align: top;\n",
       "    }\n",
       "\n",
       "    .dataframe thead th {\n",
       "        text-align: right;\n",
       "    }\n",
       "</style>\n",
       "<table border=\"1\" class=\"dataframe\">\n",
       "  <thead>\n",
       "    <tr style=\"text-align: right;\">\n",
       "      <th></th>\n",
       "      <th>Attribute</th>\n",
       "      <th>19歳以下</th>\n",
       "      <th>20歳代</th>\n",
       "      <th>30歳代</th>\n",
       "      <th>40歳代</th>\n",
       "      <th>50歳代</th>\n",
       "      <th>60歲代</th>\n",
       "      <th>70歲以上</th>\n",
       "    </tr>\n",
       "  </thead>\n",
       "  <tbody>\n",
       "    <tr>\n",
       "      <th>0</th>\n",
       "      <td>1ヶ月に5時間未満(1日10分未満)</td>\n",
       "      <td>0</td>\n",
       "      <td>0.9</td>\n",
       "      <td>5.5</td>\n",
       "      <td>5.7</td>\n",
       "      <td>11.0</td>\n",
       "      <td>22.1</td>\n",
       "      <td>26.1</td>\n",
       "    </tr>\n",
       "    <tr>\n",
       "      <th>1</th>\n",
       "      <td>1ヶ月に5時間以上15時間未満(1日10分~30分程度)</td>\n",
       "      <td>0</td>\n",
       "      <td>4.7</td>\n",
       "      <td>7.3</td>\n",
       "      <td>13.7</td>\n",
       "      <td>19.6</td>\n",
       "      <td>21.5</td>\n",
       "      <td>24.5</td>\n",
       "    </tr>\n",
       "    <tr>\n",
       "      <th>2</th>\n",
       "      <td>1ヶ月に15時間以上30時間未満(1日30分~60分程度)</td>\n",
       "      <td>5</td>\n",
       "      <td>7.5</td>\n",
       "      <td>18.2</td>\n",
       "      <td>14.5</td>\n",
       "      <td>20.1</td>\n",
       "      <td>16.4</td>\n",
       "      <td>17.9</td>\n",
       "    </tr>\n",
       "    <tr>\n",
       "      <th>3</th>\n",
       "      <td>1ヶ月に30時間以上60時間未満(1日1~2時間程度)</td>\n",
       "      <td>25</td>\n",
       "      <td>24.5</td>\n",
       "      <td>32.7</td>\n",
       "      <td>35.7</td>\n",
       "      <td>23.9</td>\n",
       "      <td>18.1</td>\n",
       "      <td>20.2</td>\n",
       "    </tr>\n",
       "    <tr>\n",
       "      <th>4</th>\n",
       "      <td>1ヶ月に60時間以上(1日2時間以上)</td>\n",
       "      <td>70</td>\n",
       "      <td>62.3</td>\n",
       "      <td>36.4</td>\n",
       "      <td>30.4</td>\n",
       "      <td>25.4</td>\n",
       "      <td>19.6</td>\n",
       "      <td>10.7</td>\n",
       "    </tr>\n",
       "    <tr>\n",
       "      <th>5</th>\n",
       "      <td>無回答</td>\n",
       "      <td>0</td>\n",
       "      <td>0.0</td>\n",
       "      <td>0.0</td>\n",
       "      <td>0.0</td>\n",
       "      <td>0.0</td>\n",
       "      <td>2.3</td>\n",
       "      <td>0.6</td>\n",
       "    </tr>\n",
       "  </tbody>\n",
       "</table>\n",
       "</div>"
      ],
      "text/plain": [
       "                       Attribute  19歳以下  20歳代  30歳代  40歳代  50歳代  60歲代  70歲以上\n",
       "0             1ヶ月に5時間未満(1日10分未満)      0   0.9   5.5   5.7  11.0  22.1   26.1\n",
       "1   1ヶ月に5時間以上15時間未満(1日10分~30分程度)      0   4.7   7.3  13.7  19.6  21.5   24.5\n",
       "2  1ヶ月に15時間以上30時間未満(1日30分~60分程度)      5   7.5  18.2  14.5  20.1  16.4   17.9\n",
       "3    1ヶ月に30時間以上60時間未満(1日1~2時間程度)     25  24.5  32.7  35.7  23.9  18.1   20.2\n",
       "4            1ヶ月に60時間以上(1日2時間以上)     70  62.3  36.4  30.4  25.4  19.6   10.7\n",
       "5                            無回答      0   0.0   0.0   0.0   0.0   2.3    0.6"
      ]
     },
     "execution_count": 188,
     "metadata": {},
     "output_type": "execute_result"
    }
   ],
   "source": [
    "df_utf"
   ]
  },
  {
   "cell_type": "code",
   "execution_count": 203,
   "id": "38a6a1a7",
   "metadata": {},
   "outputs": [
    {
     "data": {
      "text/html": [
       "<div>\n",
       "<style scoped>\n",
       "    .dataframe tbody tr th:only-of-type {\n",
       "        vertical-align: middle;\n",
       "    }\n",
       "\n",
       "    .dataframe tbody tr th {\n",
       "        vertical-align: top;\n",
       "    }\n",
       "\n",
       "    .dataframe thead th {\n",
       "        text-align: right;\n",
       "    }\n",
       "</style>\n",
       "<table border=\"1\" class=\"dataframe\">\n",
       "  <thead>\n",
       "    <tr style=\"text-align: right;\">\n",
       "      <th></th>\n",
       "      <th>0</th>\n",
       "      <th>1</th>\n",
       "      <th>2</th>\n",
       "      <th>3</th>\n",
       "      <th>4</th>\n",
       "      <th>5</th>\n",
       "    </tr>\n",
       "  </thead>\n",
       "  <tbody>\n",
       "    <tr>\n",
       "      <th>19歳以下</th>\n",
       "      <td>0</td>\n",
       "      <td>0</td>\n",
       "      <td>5</td>\n",
       "      <td>25</td>\n",
       "      <td>70</td>\n",
       "      <td>0</td>\n",
       "    </tr>\n",
       "    <tr>\n",
       "      <th>20歳代</th>\n",
       "      <td>0.9</td>\n",
       "      <td>4.7</td>\n",
       "      <td>7.5</td>\n",
       "      <td>24.5</td>\n",
       "      <td>62.3</td>\n",
       "      <td>0.0</td>\n",
       "    </tr>\n",
       "    <tr>\n",
       "      <th>30歳代</th>\n",
       "      <td>5.5</td>\n",
       "      <td>7.3</td>\n",
       "      <td>18.2</td>\n",
       "      <td>32.7</td>\n",
       "      <td>36.4</td>\n",
       "      <td>0.0</td>\n",
       "    </tr>\n",
       "    <tr>\n",
       "      <th>40歳代</th>\n",
       "      <td>5.7</td>\n",
       "      <td>13.7</td>\n",
       "      <td>14.5</td>\n",
       "      <td>35.7</td>\n",
       "      <td>30.4</td>\n",
       "      <td>0.0</td>\n",
       "    </tr>\n",
       "    <tr>\n",
       "      <th>50歳代</th>\n",
       "      <td>11.0</td>\n",
       "      <td>19.6</td>\n",
       "      <td>20.1</td>\n",
       "      <td>23.9</td>\n",
       "      <td>25.4</td>\n",
       "      <td>0.0</td>\n",
       "    </tr>\n",
       "    <tr>\n",
       "      <th>60歲代</th>\n",
       "      <td>22.1</td>\n",
       "      <td>21.5</td>\n",
       "      <td>16.4</td>\n",
       "      <td>18.1</td>\n",
       "      <td>19.6</td>\n",
       "      <td>2.3</td>\n",
       "    </tr>\n",
       "    <tr>\n",
       "      <th>70歲以上</th>\n",
       "      <td>26.1</td>\n",
       "      <td>24.5</td>\n",
       "      <td>17.9</td>\n",
       "      <td>20.2</td>\n",
       "      <td>10.7</td>\n",
       "      <td>0.6</td>\n",
       "    </tr>\n",
       "  </tbody>\n",
       "</table>\n",
       "</div>"
      ],
      "text/plain": [
       "          0     1     2     3     4    5\n",
       "19歳以下     0     0     5    25    70    0\n",
       "20歳代    0.9   4.7   7.5  24.5  62.3  0.0\n",
       "30歳代    5.5   7.3  18.2  32.7  36.4  0.0\n",
       "40歳代    5.7  13.7  14.5  35.7  30.4  0.0\n",
       "50歳代   11.0  19.6  20.1  23.9  25.4  0.0\n",
       "60歲代   22.1  21.5  16.4  18.1  19.6  2.3\n",
       "70歲以上  26.1  24.5  17.9  20.2  10.7  0.6"
      ]
     },
     "execution_count": 203,
     "metadata": {},
     "output_type": "execute_result"
    }
   ],
   "source": [
    "(df_utf.T).iloc[1:,:]"
   ]
  },
  {
   "cell_type": "code",
   "execution_count": 196,
   "id": "3b5436ce",
   "metadata": {},
   "outputs": [
    {
     "data": {
      "text/plain": [
       "0               1ヶ月に5時間未満(1日10分未満)\n",
       "1     1ヶ月に5時間以上15時間未満(1日10分~30分程度)\n",
       "2    1ヶ月に15時間以上30時間未満(1日30分~60分程度)\n",
       "3      1ヶ月に30時間以上60時間未満(1日1~2時間程度)\n",
       "4              1ヶ月に60時間以上(1日2時間以上)\n",
       "5                              無回答\n",
       "Name: Attribute, dtype: object"
      ]
     },
     "execution_count": 196,
     "metadata": {},
     "output_type": "execute_result"
    }
   ],
   "source": [
    "list(df_utf['Attribute'])"
   ]
  },
  {
   "cell_type": "code",
   "execution_count": 197,
   "id": "03a6f56a",
   "metadata": {},
   "outputs": [
    {
     "data": {
      "text/html": [
       "<div>\n",
       "<style scoped>\n",
       "    .dataframe tbody tr th:only-of-type {\n",
       "        vertical-align: middle;\n",
       "    }\n",
       "\n",
       "    .dataframe tbody tr th {\n",
       "        vertical-align: top;\n",
       "    }\n",
       "\n",
       "    .dataframe thead th {\n",
       "        text-align: right;\n",
       "    }\n",
       "</style>\n",
       "<table border=\"1\" class=\"dataframe\">\n",
       "  <thead>\n",
       "    <tr style=\"text-align: right;\">\n",
       "      <th></th>\n",
       "      <th>1ヶ月に5時間未満(1日10分未満)</th>\n",
       "      <th>1ヶ月に5時間以上15時間未満(1日10分~30分程度)</th>\n",
       "      <th>1ヶ月に15時間以上30時間未満(1日30分~60分程度)</th>\n",
       "      <th>1ヶ月に30時間以上60時間未満(1日1~2時間程度)</th>\n",
       "      <th>1ヶ月に60時間以上(1日2時間以上)</th>\n",
       "      <th>無回答</th>\n",
       "    </tr>\n",
       "  </thead>\n",
       "  <tbody>\n",
       "    <tr>\n",
       "      <th>19歳以下</th>\n",
       "      <td>0</td>\n",
       "      <td>0</td>\n",
       "      <td>5</td>\n",
       "      <td>25</td>\n",
       "      <td>70</td>\n",
       "      <td>0</td>\n",
       "    </tr>\n",
       "    <tr>\n",
       "      <th>20歳代</th>\n",
       "      <td>0.9</td>\n",
       "      <td>4.7</td>\n",
       "      <td>7.5</td>\n",
       "      <td>24.5</td>\n",
       "      <td>62.3</td>\n",
       "      <td>0.0</td>\n",
       "    </tr>\n",
       "    <tr>\n",
       "      <th>30歳代</th>\n",
       "      <td>5.5</td>\n",
       "      <td>7.3</td>\n",
       "      <td>18.2</td>\n",
       "      <td>32.7</td>\n",
       "      <td>36.4</td>\n",
       "      <td>0.0</td>\n",
       "    </tr>\n",
       "    <tr>\n",
       "      <th>40歳代</th>\n",
       "      <td>5.7</td>\n",
       "      <td>13.7</td>\n",
       "      <td>14.5</td>\n",
       "      <td>35.7</td>\n",
       "      <td>30.4</td>\n",
       "      <td>0.0</td>\n",
       "    </tr>\n",
       "    <tr>\n",
       "      <th>50歳代</th>\n",
       "      <td>11.0</td>\n",
       "      <td>19.6</td>\n",
       "      <td>20.1</td>\n",
       "      <td>23.9</td>\n",
       "      <td>25.4</td>\n",
       "      <td>0.0</td>\n",
       "    </tr>\n",
       "    <tr>\n",
       "      <th>60歲代</th>\n",
       "      <td>22.1</td>\n",
       "      <td>21.5</td>\n",
       "      <td>16.4</td>\n",
       "      <td>18.1</td>\n",
       "      <td>19.6</td>\n",
       "      <td>2.3</td>\n",
       "    </tr>\n",
       "    <tr>\n",
       "      <th>70歲以上</th>\n",
       "      <td>26.1</td>\n",
       "      <td>24.5</td>\n",
       "      <td>17.9</td>\n",
       "      <td>20.2</td>\n",
       "      <td>10.7</td>\n",
       "      <td>0.6</td>\n",
       "    </tr>\n",
       "  </tbody>\n",
       "</table>\n",
       "</div>"
      ],
      "text/plain": [
       "      1ヶ月に5時間未満(1日10分未満) 1ヶ月に5時間以上15時間未満(1日10分~30分程度)  \\\n",
       "19歳以下                  0                            0   \n",
       "20歳代                 0.9                          4.7   \n",
       "30歳代                 5.5                          7.3   \n",
       "40歳代                 5.7                         13.7   \n",
       "50歳代                11.0                         19.6   \n",
       "60歲代                22.1                         21.5   \n",
       "70歲以上               26.1                         24.5   \n",
       "\n",
       "      1ヶ月に15時間以上30時間未満(1日30分~60分程度) 1ヶ月に30時間以上60時間未満(1日1~2時間程度)  \\\n",
       "19歳以下                             5                          25   \n",
       "20歳代                            7.5                        24.5   \n",
       "30歳代                           18.2                        32.7   \n",
       "40歳代                           14.5                        35.7   \n",
       "50歳代                           20.1                        23.9   \n",
       "60歲代                           16.4                        18.1   \n",
       "70歲以上                          17.9                        20.2   \n",
       "\n",
       "      1ヶ月に60時間以上(1日2時間以上)  無回答  \n",
       "19歳以下                  70    0  \n",
       "20歳代                 62.3  0.0  \n",
       "30歳代                 36.4  0.0  \n",
       "40歳代                 30.4  0.0  \n",
       "50歳代                 25.4  0.0  \n",
       "60歲代                 19.6  2.3  \n",
       "70歲以上                10.7  0.6  "
      ]
     },
     "execution_count": 197,
     "metadata": {},
     "output_type": "execute_result"
    }
   ],
   "source": [
    "(df_utf.T).iloc[1:,:].set_axis(list(df_utf['Attribute']), axis=1)"
   ]
  },
  {
   "cell_type": "code",
   "execution_count": 199,
   "id": "34faa4d3",
   "metadata": {},
   "outputs": [
    {
     "data": {
      "text/plain": [
       "19歳以下  1ヶ月に5時間未満(1日10分未満)                  0\n",
       "       1ヶ月に5時間以上15時間未満(1日10分~30分程度)        0\n",
       "       1ヶ月に15時間以上30時間未満(1日30分~60分程度)       5\n",
       "       1ヶ月に30時間以上60時間未満(1日1~2時間程度)        25\n",
       "       1ヶ月に60時間以上(1日2時間以上)                70\n",
       "       無回答                                 0\n",
       "20歳代   1ヶ月に5時間未満(1日10分未満)                0.9\n",
       "       1ヶ月に5時間以上15時間未満(1日10分~30分程度)      4.7\n",
       "       1ヶ月に15時間以上30時間未満(1日30分~60分程度)     7.5\n",
       "       1ヶ月に30時間以上60時間未満(1日1~2時間程度)      24.5\n",
       "       1ヶ月に60時間以上(1日2時間以上)              62.3\n",
       "       無回答                               0.0\n",
       "30歳代   1ヶ月に5時間未満(1日10分未満)                5.5\n",
       "       1ヶ月に5時間以上15時間未満(1日10分~30分程度)      7.3\n",
       "       1ヶ月に15時間以上30時間未満(1日30分~60分程度)    18.2\n",
       "       1ヶ月に30時間以上60時間未満(1日1~2時間程度)      32.7\n",
       "       1ヶ月に60時間以上(1日2時間以上)              36.4\n",
       "       無回答                               0.0\n",
       "40歳代   1ヶ月に5時間未満(1日10分未満)                5.7\n",
       "       1ヶ月に5時間以上15時間未満(1日10分~30分程度)     13.7\n",
       "       1ヶ月に15時間以上30時間未満(1日30分~60分程度)    14.5\n",
       "       1ヶ月に30時間以上60時間未満(1日1~2時間程度)      35.7\n",
       "       1ヶ月に60時間以上(1日2時間以上)              30.4\n",
       "       無回答                               0.0\n",
       "50歳代   1ヶ月に5時間未満(1日10分未満)               11.0\n",
       "       1ヶ月に5時間以上15時間未満(1日10分~30分程度)     19.6\n",
       "       1ヶ月に15時間以上30時間未満(1日30分~60分程度)    20.1\n",
       "       1ヶ月に30時間以上60時間未満(1日1~2時間程度)      23.9\n",
       "       1ヶ月に60時間以上(1日2時間以上)              25.4\n",
       "       無回答                               0.0\n",
       "60歲代   1ヶ月に5時間未満(1日10分未満)               22.1\n",
       "       1ヶ月に5時間以上15時間未満(1日10分~30分程度)     21.5\n",
       "       1ヶ月に15時間以上30時間未満(1日30分~60分程度)    16.4\n",
       "       1ヶ月に30時間以上60時間未満(1日1~2時間程度)      18.1\n",
       "       1ヶ月に60時間以上(1日2時間以上)              19.6\n",
       "       無回答                               2.3\n",
       "70歲以上  1ヶ月に5時間未満(1日10分未満)               26.1\n",
       "       1ヶ月に5時間以上15時間未満(1日10分~30分程度)     24.5\n",
       "       1ヶ月に15時間以上30時間未満(1日30分~60分程度)    17.9\n",
       "       1ヶ月に30時間以上60時間未満(1日1~2時間程度)      20.2\n",
       "       1ヶ月に60時間以上(1日2時間以上)              10.7\n",
       "       無回答                               0.6\n",
       "dtype: object"
      ]
     },
     "execution_count": 199,
     "metadata": {},
     "output_type": "execute_result"
    }
   ],
   "source": [
    "(df_utf.T).iloc[1:,:].set_axis(list(df_utf['Attribute']), axis=1).stack()"
   ]
  },
  {
   "cell_type": "code",
   "execution_count": 201,
   "id": "2ee83609",
   "metadata": {},
   "outputs": [
    {
     "data": {
      "text/html": [
       "<div>\n",
       "<style scoped>\n",
       "    .dataframe tbody tr th:only-of-type {\n",
       "        vertical-align: middle;\n",
       "    }\n",
       "\n",
       "    .dataframe tbody tr th {\n",
       "        vertical-align: top;\n",
       "    }\n",
       "\n",
       "    .dataframe thead th {\n",
       "        text-align: right;\n",
       "    }\n",
       "</style>\n",
       "<table border=\"1\" class=\"dataframe\">\n",
       "  <thead>\n",
       "    <tr style=\"text-align: right;\">\n",
       "      <th></th>\n",
       "      <th>Subject</th>\n",
       "      <th>label</th>\n",
       "      <th>value</th>\n",
       "    </tr>\n",
       "  </thead>\n",
       "  <tbody>\n",
       "    <tr>\n",
       "      <th>0</th>\n",
       "      <td>19歳以下</td>\n",
       "      <td>1ヶ月に5時間未満(1日10分未満)</td>\n",
       "      <td>0</td>\n",
       "    </tr>\n",
       "    <tr>\n",
       "      <th>1</th>\n",
       "      <td>19歳以下</td>\n",
       "      <td>1ヶ月に5時間以上15時間未満(1日10分~30分程度)</td>\n",
       "      <td>0</td>\n",
       "    </tr>\n",
       "    <tr>\n",
       "      <th>2</th>\n",
       "      <td>19歳以下</td>\n",
       "      <td>1ヶ月に15時間以上30時間未満(1日30分~60分程度)</td>\n",
       "      <td>5</td>\n",
       "    </tr>\n",
       "    <tr>\n",
       "      <th>3</th>\n",
       "      <td>19歳以下</td>\n",
       "      <td>1ヶ月に30時間以上60時間未満(1日1~2時間程度)</td>\n",
       "      <td>25</td>\n",
       "    </tr>\n",
       "    <tr>\n",
       "      <th>4</th>\n",
       "      <td>19歳以下</td>\n",
       "      <td>1ヶ月に60時間以上(1日2時間以上)</td>\n",
       "      <td>70</td>\n",
       "    </tr>\n",
       "    <tr>\n",
       "      <th>5</th>\n",
       "      <td>19歳以下</td>\n",
       "      <td>無回答</td>\n",
       "      <td>0</td>\n",
       "    </tr>\n",
       "    <tr>\n",
       "      <th>6</th>\n",
       "      <td>20歳代</td>\n",
       "      <td>1ヶ月に5時間未満(1日10分未満)</td>\n",
       "      <td>0.9</td>\n",
       "    </tr>\n",
       "    <tr>\n",
       "      <th>7</th>\n",
       "      <td>20歳代</td>\n",
       "      <td>1ヶ月に5時間以上15時間未満(1日10分~30分程度)</td>\n",
       "      <td>4.7</td>\n",
       "    </tr>\n",
       "    <tr>\n",
       "      <th>8</th>\n",
       "      <td>20歳代</td>\n",
       "      <td>1ヶ月に15時間以上30時間未満(1日30分~60分程度)</td>\n",
       "      <td>7.5</td>\n",
       "    </tr>\n",
       "    <tr>\n",
       "      <th>9</th>\n",
       "      <td>20歳代</td>\n",
       "      <td>1ヶ月に30時間以上60時間未満(1日1~2時間程度)</td>\n",
       "      <td>24.5</td>\n",
       "    </tr>\n",
       "    <tr>\n",
       "      <th>10</th>\n",
       "      <td>20歳代</td>\n",
       "      <td>1ヶ月に60時間以上(1日2時間以上)</td>\n",
       "      <td>62.3</td>\n",
       "    </tr>\n",
       "    <tr>\n",
       "      <th>11</th>\n",
       "      <td>20歳代</td>\n",
       "      <td>無回答</td>\n",
       "      <td>0.0</td>\n",
       "    </tr>\n",
       "    <tr>\n",
       "      <th>12</th>\n",
       "      <td>30歳代</td>\n",
       "      <td>1ヶ月に5時間未満(1日10分未満)</td>\n",
       "      <td>5.5</td>\n",
       "    </tr>\n",
       "    <tr>\n",
       "      <th>13</th>\n",
       "      <td>30歳代</td>\n",
       "      <td>1ヶ月に5時間以上15時間未満(1日10分~30分程度)</td>\n",
       "      <td>7.3</td>\n",
       "    </tr>\n",
       "    <tr>\n",
       "      <th>14</th>\n",
       "      <td>30歳代</td>\n",
       "      <td>1ヶ月に15時間以上30時間未満(1日30分~60分程度)</td>\n",
       "      <td>18.2</td>\n",
       "    </tr>\n",
       "    <tr>\n",
       "      <th>15</th>\n",
       "      <td>30歳代</td>\n",
       "      <td>1ヶ月に30時間以上60時間未満(1日1~2時間程度)</td>\n",
       "      <td>32.7</td>\n",
       "    </tr>\n",
       "    <tr>\n",
       "      <th>16</th>\n",
       "      <td>30歳代</td>\n",
       "      <td>1ヶ月に60時間以上(1日2時間以上)</td>\n",
       "      <td>36.4</td>\n",
       "    </tr>\n",
       "    <tr>\n",
       "      <th>17</th>\n",
       "      <td>30歳代</td>\n",
       "      <td>無回答</td>\n",
       "      <td>0.0</td>\n",
       "    </tr>\n",
       "    <tr>\n",
       "      <th>18</th>\n",
       "      <td>40歳代</td>\n",
       "      <td>1ヶ月に5時間未満(1日10分未満)</td>\n",
       "      <td>5.7</td>\n",
       "    </tr>\n",
       "    <tr>\n",
       "      <th>19</th>\n",
       "      <td>40歳代</td>\n",
       "      <td>1ヶ月に5時間以上15時間未満(1日10分~30分程度)</td>\n",
       "      <td>13.7</td>\n",
       "    </tr>\n",
       "    <tr>\n",
       "      <th>20</th>\n",
       "      <td>40歳代</td>\n",
       "      <td>1ヶ月に15時間以上30時間未満(1日30分~60分程度)</td>\n",
       "      <td>14.5</td>\n",
       "    </tr>\n",
       "    <tr>\n",
       "      <th>21</th>\n",
       "      <td>40歳代</td>\n",
       "      <td>1ヶ月に30時間以上60時間未満(1日1~2時間程度)</td>\n",
       "      <td>35.7</td>\n",
       "    </tr>\n",
       "    <tr>\n",
       "      <th>22</th>\n",
       "      <td>40歳代</td>\n",
       "      <td>1ヶ月に60時間以上(1日2時間以上)</td>\n",
       "      <td>30.4</td>\n",
       "    </tr>\n",
       "    <tr>\n",
       "      <th>23</th>\n",
       "      <td>40歳代</td>\n",
       "      <td>無回答</td>\n",
       "      <td>0.0</td>\n",
       "    </tr>\n",
       "    <tr>\n",
       "      <th>24</th>\n",
       "      <td>50歳代</td>\n",
       "      <td>1ヶ月に5時間未満(1日10分未満)</td>\n",
       "      <td>11.0</td>\n",
       "    </tr>\n",
       "    <tr>\n",
       "      <th>25</th>\n",
       "      <td>50歳代</td>\n",
       "      <td>1ヶ月に5時間以上15時間未満(1日10分~30分程度)</td>\n",
       "      <td>19.6</td>\n",
       "    </tr>\n",
       "    <tr>\n",
       "      <th>26</th>\n",
       "      <td>50歳代</td>\n",
       "      <td>1ヶ月に15時間以上30時間未満(1日30分~60分程度)</td>\n",
       "      <td>20.1</td>\n",
       "    </tr>\n",
       "    <tr>\n",
       "      <th>27</th>\n",
       "      <td>50歳代</td>\n",
       "      <td>1ヶ月に30時間以上60時間未満(1日1~2時間程度)</td>\n",
       "      <td>23.9</td>\n",
       "    </tr>\n",
       "    <tr>\n",
       "      <th>28</th>\n",
       "      <td>50歳代</td>\n",
       "      <td>1ヶ月に60時間以上(1日2時間以上)</td>\n",
       "      <td>25.4</td>\n",
       "    </tr>\n",
       "    <tr>\n",
       "      <th>29</th>\n",
       "      <td>50歳代</td>\n",
       "      <td>無回答</td>\n",
       "      <td>0.0</td>\n",
       "    </tr>\n",
       "    <tr>\n",
       "      <th>30</th>\n",
       "      <td>60歲代</td>\n",
       "      <td>1ヶ月に5時間未満(1日10分未満)</td>\n",
       "      <td>22.1</td>\n",
       "    </tr>\n",
       "    <tr>\n",
       "      <th>31</th>\n",
       "      <td>60歲代</td>\n",
       "      <td>1ヶ月に5時間以上15時間未満(1日10分~30分程度)</td>\n",
       "      <td>21.5</td>\n",
       "    </tr>\n",
       "    <tr>\n",
       "      <th>32</th>\n",
       "      <td>60歲代</td>\n",
       "      <td>1ヶ月に15時間以上30時間未満(1日30分~60分程度)</td>\n",
       "      <td>16.4</td>\n",
       "    </tr>\n",
       "    <tr>\n",
       "      <th>33</th>\n",
       "      <td>60歲代</td>\n",
       "      <td>1ヶ月に30時間以上60時間未満(1日1~2時間程度)</td>\n",
       "      <td>18.1</td>\n",
       "    </tr>\n",
       "    <tr>\n",
       "      <th>34</th>\n",
       "      <td>60歲代</td>\n",
       "      <td>1ヶ月に60時間以上(1日2時間以上)</td>\n",
       "      <td>19.6</td>\n",
       "    </tr>\n",
       "    <tr>\n",
       "      <th>35</th>\n",
       "      <td>60歲代</td>\n",
       "      <td>無回答</td>\n",
       "      <td>2.3</td>\n",
       "    </tr>\n",
       "    <tr>\n",
       "      <th>36</th>\n",
       "      <td>70歲以上</td>\n",
       "      <td>1ヶ月に5時間未満(1日10分未満)</td>\n",
       "      <td>26.1</td>\n",
       "    </tr>\n",
       "    <tr>\n",
       "      <th>37</th>\n",
       "      <td>70歲以上</td>\n",
       "      <td>1ヶ月に5時間以上15時間未満(1日10分~30分程度)</td>\n",
       "      <td>24.5</td>\n",
       "    </tr>\n",
       "    <tr>\n",
       "      <th>38</th>\n",
       "      <td>70歲以上</td>\n",
       "      <td>1ヶ月に15時間以上30時間未満(1日30分~60分程度)</td>\n",
       "      <td>17.9</td>\n",
       "    </tr>\n",
       "    <tr>\n",
       "      <th>39</th>\n",
       "      <td>70歲以上</td>\n",
       "      <td>1ヶ月に30時間以上60時間未満(1日1~2時間程度)</td>\n",
       "      <td>20.2</td>\n",
       "    </tr>\n",
       "    <tr>\n",
       "      <th>40</th>\n",
       "      <td>70歲以上</td>\n",
       "      <td>1ヶ月に60時間以上(1日2時間以上)</td>\n",
       "      <td>10.7</td>\n",
       "    </tr>\n",
       "    <tr>\n",
       "      <th>41</th>\n",
       "      <td>70歲以上</td>\n",
       "      <td>無回答</td>\n",
       "      <td>0.6</td>\n",
       "    </tr>\n",
       "  </tbody>\n",
       "</table>\n",
       "</div>"
      ],
      "text/plain": [
       "   Subject                          label value\n",
       "0    19歳以下             1ヶ月に5時間未満(1日10分未満)     0\n",
       "1    19歳以下   1ヶ月に5時間以上15時間未満(1日10分~30分程度)     0\n",
       "2    19歳以下  1ヶ月に15時間以上30時間未満(1日30分~60分程度)     5\n",
       "3    19歳以下    1ヶ月に30時間以上60時間未満(1日1~2時間程度)    25\n",
       "4    19歳以下            1ヶ月に60時間以上(1日2時間以上)    70\n",
       "5    19歳以下                            無回答     0\n",
       "6     20歳代             1ヶ月に5時間未満(1日10分未満)   0.9\n",
       "7     20歳代   1ヶ月に5時間以上15時間未満(1日10分~30分程度)   4.7\n",
       "8     20歳代  1ヶ月に15時間以上30時間未満(1日30分~60分程度)   7.5\n",
       "9     20歳代    1ヶ月に30時間以上60時間未満(1日1~2時間程度)  24.5\n",
       "10    20歳代            1ヶ月に60時間以上(1日2時間以上)  62.3\n",
       "11    20歳代                            無回答   0.0\n",
       "12    30歳代             1ヶ月に5時間未満(1日10分未満)   5.5\n",
       "13    30歳代   1ヶ月に5時間以上15時間未満(1日10分~30分程度)   7.3\n",
       "14    30歳代  1ヶ月に15時間以上30時間未満(1日30分~60分程度)  18.2\n",
       "15    30歳代    1ヶ月に30時間以上60時間未満(1日1~2時間程度)  32.7\n",
       "16    30歳代            1ヶ月に60時間以上(1日2時間以上)  36.4\n",
       "17    30歳代                            無回答   0.0\n",
       "18    40歳代             1ヶ月に5時間未満(1日10分未満)   5.7\n",
       "19    40歳代   1ヶ月に5時間以上15時間未満(1日10分~30分程度)  13.7\n",
       "20    40歳代  1ヶ月に15時間以上30時間未満(1日30分~60分程度)  14.5\n",
       "21    40歳代    1ヶ月に30時間以上60時間未満(1日1~2時間程度)  35.7\n",
       "22    40歳代            1ヶ月に60時間以上(1日2時間以上)  30.4\n",
       "23    40歳代                            無回答   0.0\n",
       "24    50歳代             1ヶ月に5時間未満(1日10分未満)  11.0\n",
       "25    50歳代   1ヶ月に5時間以上15時間未満(1日10分~30分程度)  19.6\n",
       "26    50歳代  1ヶ月に15時間以上30時間未満(1日30分~60分程度)  20.1\n",
       "27    50歳代    1ヶ月に30時間以上60時間未満(1日1~2時間程度)  23.9\n",
       "28    50歳代            1ヶ月に60時間以上(1日2時間以上)  25.4\n",
       "29    50歳代                            無回答   0.0\n",
       "30    60歲代             1ヶ月に5時間未満(1日10分未満)  22.1\n",
       "31    60歲代   1ヶ月に5時間以上15時間未満(1日10分~30分程度)  21.5\n",
       "32    60歲代  1ヶ月に15時間以上30時間未満(1日30分~60分程度)  16.4\n",
       "33    60歲代    1ヶ月に30時間以上60時間未満(1日1~2時間程度)  18.1\n",
       "34    60歲代            1ヶ月に60時間以上(1日2時間以上)  19.6\n",
       "35    60歲代                            無回答   2.3\n",
       "36   70歲以上             1ヶ月に5時間未満(1日10分未満)  26.1\n",
       "37   70歲以上   1ヶ月に5時間以上15時間未満(1日10分~30分程度)  24.5\n",
       "38   70歲以上  1ヶ月に15時間以上30時間未満(1日30分~60分程度)  17.9\n",
       "39   70歲以上    1ヶ月に30時間以上60時間未満(1日1~2時間程度)  20.2\n",
       "40   70歲以上            1ヶ月に60時間以上(1日2時間以上)  10.7\n",
       "41   70歲以上                            無回答   0.6"
      ]
     },
     "execution_count": 201,
     "metadata": {},
     "output_type": "execute_result"
    }
   ],
   "source": [
    "df_graph2=(df_utf.T).iloc[1:,:].set_axis(list(df_utf['Attribute']), axis=1).stack().rename_axis(['Subject','label']).reset_index().rename(columns={0:'value'})\n",
    "df_graph2"
   ]
  },
  {
   "cell_type": "code",
   "execution_count": 202,
   "id": "a4083d66",
   "metadata": {},
   "outputs": [
    {
     "name": "stderr",
     "output_type": "stream",
     "text": [
      "/usr/local/lib/python3.9/site-packages/plotly/express/_core.py:271: FutureWarning:\n",
      "\n",
      "The frame.append method is deprecated and will be removed from pandas in a future version. Use pandas.concat instead.\n",
      "\n",
      "/usr/local/lib/python3.9/site-packages/plotly/express/_core.py:271: FutureWarning:\n",
      "\n",
      "The frame.append method is deprecated and will be removed from pandas in a future version. Use pandas.concat instead.\n",
      "\n",
      "/usr/local/lib/python3.9/site-packages/plotly/express/_core.py:271: FutureWarning:\n",
      "\n",
      "The frame.append method is deprecated and will be removed from pandas in a future version. Use pandas.concat instead.\n",
      "\n",
      "/usr/local/lib/python3.9/site-packages/plotly/express/_core.py:271: FutureWarning:\n",
      "\n",
      "The frame.append method is deprecated and will be removed from pandas in a future version. Use pandas.concat instead.\n",
      "\n",
      "/usr/local/lib/python3.9/site-packages/plotly/express/_core.py:271: FutureWarning:\n",
      "\n",
      "The frame.append method is deprecated and will be removed from pandas in a future version. Use pandas.concat instead.\n",
      "\n",
      "/usr/local/lib/python3.9/site-packages/plotly/express/_core.py:271: FutureWarning:\n",
      "\n",
      "The frame.append method is deprecated and will be removed from pandas in a future version. Use pandas.concat instead.\n",
      "\n",
      "/usr/local/lib/python3.9/site-packages/plotly/express/_core.py:271: FutureWarning:\n",
      "\n",
      "The frame.append method is deprecated and will be removed from pandas in a future version. Use pandas.concat instead.\n",
      "\n"
     ]
    },
    {
     "data": {
      "application/vnd.plotly.v1+json": {
       "config": {
        "plotlyServerURL": "https://plot.ly"
       },
       "data": [
        {
         "hovertemplate": "Subject=19歳以下<br>value=%{r}<br>label=%{theta}<extra></extra>",
         "legendgroup": "19歳以下",
         "line": {
          "color": "#636efa",
          "dash": "solid"
         },
         "marker": {
          "symbol": "circle"
         },
         "mode": "lines",
         "name": "19歳以下",
         "r": [
          0,
          0,
          5,
          25,
          70,
          0,
          0
         ],
         "showlegend": true,
         "subplot": "polar",
         "theta": [
          "1ヶ月に5時間未満(1日10分未満)",
          "1ヶ月に5時間以上15時間未満(1日10分~30分程度)",
          "1ヶ月に15時間以上30時間未満(1日30分~60分程度)",
          "1ヶ月に30時間以上60時間未満(1日1~2時間程度)",
          "1ヶ月に60時間以上(1日2時間以上)",
          "無回答",
          "1ヶ月に5時間未満(1日10分未満)"
         ],
         "type": "scatterpolar"
        },
        {
         "hovertemplate": "Subject=20歳代<br>value=%{r}<br>label=%{theta}<extra></extra>",
         "legendgroup": "20歳代",
         "line": {
          "color": "#EF553B",
          "dash": "solid"
         },
         "marker": {
          "symbol": "circle"
         },
         "mode": "lines",
         "name": "20歳代",
         "r": [
          0.9,
          4.7,
          7.5,
          24.5,
          62.3,
          0,
          0.9
         ],
         "showlegend": true,
         "subplot": "polar",
         "theta": [
          "1ヶ月に5時間未満(1日10分未満)",
          "1ヶ月に5時間以上15時間未満(1日10分~30分程度)",
          "1ヶ月に15時間以上30時間未満(1日30分~60分程度)",
          "1ヶ月に30時間以上60時間未満(1日1~2時間程度)",
          "1ヶ月に60時間以上(1日2時間以上)",
          "無回答",
          "1ヶ月に5時間未満(1日10分未満)"
         ],
         "type": "scatterpolar"
        },
        {
         "hovertemplate": "Subject=30歳代<br>value=%{r}<br>label=%{theta}<extra></extra>",
         "legendgroup": "30歳代",
         "line": {
          "color": "#00cc96",
          "dash": "solid"
         },
         "marker": {
          "symbol": "circle"
         },
         "mode": "lines",
         "name": "30歳代",
         "r": [
          5.5,
          7.3,
          18.2,
          32.7,
          36.4,
          0,
          5.5
         ],
         "showlegend": true,
         "subplot": "polar",
         "theta": [
          "1ヶ月に5時間未満(1日10分未満)",
          "1ヶ月に5時間以上15時間未満(1日10分~30分程度)",
          "1ヶ月に15時間以上30時間未満(1日30分~60分程度)",
          "1ヶ月に30時間以上60時間未満(1日1~2時間程度)",
          "1ヶ月に60時間以上(1日2時間以上)",
          "無回答",
          "1ヶ月に5時間未満(1日10分未満)"
         ],
         "type": "scatterpolar"
        },
        {
         "hovertemplate": "Subject=40歳代<br>value=%{r}<br>label=%{theta}<extra></extra>",
         "legendgroup": "40歳代",
         "line": {
          "color": "#ab63fa",
          "dash": "solid"
         },
         "marker": {
          "symbol": "circle"
         },
         "mode": "lines",
         "name": "40歳代",
         "r": [
          5.7,
          13.7,
          14.5,
          35.7,
          30.4,
          0,
          5.7
         ],
         "showlegend": true,
         "subplot": "polar",
         "theta": [
          "1ヶ月に5時間未満(1日10分未満)",
          "1ヶ月に5時間以上15時間未満(1日10分~30分程度)",
          "1ヶ月に15時間以上30時間未満(1日30分~60分程度)",
          "1ヶ月に30時間以上60時間未満(1日1~2時間程度)",
          "1ヶ月に60時間以上(1日2時間以上)",
          "無回答",
          "1ヶ月に5時間未満(1日10分未満)"
         ],
         "type": "scatterpolar"
        },
        {
         "hovertemplate": "Subject=50歳代<br>value=%{r}<br>label=%{theta}<extra></extra>",
         "legendgroup": "50歳代",
         "line": {
          "color": "#FFA15A",
          "dash": "solid"
         },
         "marker": {
          "symbol": "circle"
         },
         "mode": "lines",
         "name": "50歳代",
         "r": [
          11,
          19.6,
          20.1,
          23.9,
          25.4,
          0,
          11
         ],
         "showlegend": true,
         "subplot": "polar",
         "theta": [
          "1ヶ月に5時間未満(1日10分未満)",
          "1ヶ月に5時間以上15時間未満(1日10分~30分程度)",
          "1ヶ月に15時間以上30時間未満(1日30分~60分程度)",
          "1ヶ月に30時間以上60時間未満(1日1~2時間程度)",
          "1ヶ月に60時間以上(1日2時間以上)",
          "無回答",
          "1ヶ月に5時間未満(1日10分未満)"
         ],
         "type": "scatterpolar"
        },
        {
         "hovertemplate": "Subject=60歲代<br>value=%{r}<br>label=%{theta}<extra></extra>",
         "legendgroup": "60歲代",
         "line": {
          "color": "#19d3f3",
          "dash": "solid"
         },
         "marker": {
          "symbol": "circle"
         },
         "mode": "lines",
         "name": "60歲代",
         "r": [
          22.1,
          21.5,
          16.4,
          18.1,
          19.6,
          2.3,
          22.1
         ],
         "showlegend": true,
         "subplot": "polar",
         "theta": [
          "1ヶ月に5時間未満(1日10分未満)",
          "1ヶ月に5時間以上15時間未満(1日10分~30分程度)",
          "1ヶ月に15時間以上30時間未満(1日30分~60分程度)",
          "1ヶ月に30時間以上60時間未満(1日1~2時間程度)",
          "1ヶ月に60時間以上(1日2時間以上)",
          "無回答",
          "1ヶ月に5時間未満(1日10分未満)"
         ],
         "type": "scatterpolar"
        },
        {
         "hovertemplate": "Subject=70歲以上<br>value=%{r}<br>label=%{theta}<extra></extra>",
         "legendgroup": "70歲以上",
         "line": {
          "color": "#FF6692",
          "dash": "solid"
         },
         "marker": {
          "symbol": "circle"
         },
         "mode": "lines",
         "name": "70歲以上",
         "r": [
          26.1,
          24.5,
          17.9,
          20.2,
          10.7,
          0.6,
          26.1
         ],
         "showlegend": true,
         "subplot": "polar",
         "theta": [
          "1ヶ月に5時間未満(1日10分未満)",
          "1ヶ月に5時間以上15時間未満(1日10分~30分程度)",
          "1ヶ月に15時間以上30時間未満(1日30分~60分程度)",
          "1ヶ月に30時間以上60時間未満(1日1~2時間程度)",
          "1ヶ月に60時間以上(1日2時間以上)",
          "無回答",
          "1ヶ月に5時間未満(1日10分未満)"
         ],
         "type": "scatterpolar"
        }
       ],
       "layout": {
        "legend": {
         "title": {
          "text": "Subject"
         },
         "tracegroupgap": 0
        },
        "margin": {
         "t": 60
        },
        "polar": {
         "angularaxis": {
          "direction": "clockwise",
          "rotation": 90
         },
         "domain": {
          "x": [
           0,
           1
          ],
          "y": [
           0,
           1
          ]
         }
        },
        "template": {
         "data": {
          "bar": [
           {
            "error_x": {
             "color": "#2a3f5f"
            },
            "error_y": {
             "color": "#2a3f5f"
            },
            "marker": {
             "line": {
              "color": "#E5ECF6",
              "width": 0.5
             },
             "pattern": {
              "fillmode": "overlay",
              "size": 10,
              "solidity": 0.2
             }
            },
            "type": "bar"
           }
          ],
          "barpolar": [
           {
            "marker": {
             "line": {
              "color": "#E5ECF6",
              "width": 0.5
             },
             "pattern": {
              "fillmode": "overlay",
              "size": 10,
              "solidity": 0.2
             }
            },
            "type": "barpolar"
           }
          ],
          "carpet": [
           {
            "aaxis": {
             "endlinecolor": "#2a3f5f",
             "gridcolor": "white",
             "linecolor": "white",
             "minorgridcolor": "white",
             "startlinecolor": "#2a3f5f"
            },
            "baxis": {
             "endlinecolor": "#2a3f5f",
             "gridcolor": "white",
             "linecolor": "white",
             "minorgridcolor": "white",
             "startlinecolor": "#2a3f5f"
            },
            "type": "carpet"
           }
          ],
          "choropleth": [
           {
            "colorbar": {
             "outlinewidth": 0,
             "ticks": ""
            },
            "type": "choropleth"
           }
          ],
          "contour": [
           {
            "colorbar": {
             "outlinewidth": 0,
             "ticks": ""
            },
            "colorscale": [
             [
              0,
              "#0d0887"
             ],
             [
              0.1111111111111111,
              "#46039f"
             ],
             [
              0.2222222222222222,
              "#7201a8"
             ],
             [
              0.3333333333333333,
              "#9c179e"
             ],
             [
              0.4444444444444444,
              "#bd3786"
             ],
             [
              0.5555555555555556,
              "#d8576b"
             ],
             [
              0.6666666666666666,
              "#ed7953"
             ],
             [
              0.7777777777777778,
              "#fb9f3a"
             ],
             [
              0.8888888888888888,
              "#fdca26"
             ],
             [
              1,
              "#f0f921"
             ]
            ],
            "type": "contour"
           }
          ],
          "contourcarpet": [
           {
            "colorbar": {
             "outlinewidth": 0,
             "ticks": ""
            },
            "type": "contourcarpet"
           }
          ],
          "heatmap": [
           {
            "colorbar": {
             "outlinewidth": 0,
             "ticks": ""
            },
            "colorscale": [
             [
              0,
              "#0d0887"
             ],
             [
              0.1111111111111111,
              "#46039f"
             ],
             [
              0.2222222222222222,
              "#7201a8"
             ],
             [
              0.3333333333333333,
              "#9c179e"
             ],
             [
              0.4444444444444444,
              "#bd3786"
             ],
             [
              0.5555555555555556,
              "#d8576b"
             ],
             [
              0.6666666666666666,
              "#ed7953"
             ],
             [
              0.7777777777777778,
              "#fb9f3a"
             ],
             [
              0.8888888888888888,
              "#fdca26"
             ],
             [
              1,
              "#f0f921"
             ]
            ],
            "type": "heatmap"
           }
          ],
          "heatmapgl": [
           {
            "colorbar": {
             "outlinewidth": 0,
             "ticks": ""
            },
            "colorscale": [
             [
              0,
              "#0d0887"
             ],
             [
              0.1111111111111111,
              "#46039f"
             ],
             [
              0.2222222222222222,
              "#7201a8"
             ],
             [
              0.3333333333333333,
              "#9c179e"
             ],
             [
              0.4444444444444444,
              "#bd3786"
             ],
             [
              0.5555555555555556,
              "#d8576b"
             ],
             [
              0.6666666666666666,
              "#ed7953"
             ],
             [
              0.7777777777777778,
              "#fb9f3a"
             ],
             [
              0.8888888888888888,
              "#fdca26"
             ],
             [
              1,
              "#f0f921"
             ]
            ],
            "type": "heatmapgl"
           }
          ],
          "histogram": [
           {
            "marker": {
             "pattern": {
              "fillmode": "overlay",
              "size": 10,
              "solidity": 0.2
             }
            },
            "type": "histogram"
           }
          ],
          "histogram2d": [
           {
            "colorbar": {
             "outlinewidth": 0,
             "ticks": ""
            },
            "colorscale": [
             [
              0,
              "#0d0887"
             ],
             [
              0.1111111111111111,
              "#46039f"
             ],
             [
              0.2222222222222222,
              "#7201a8"
             ],
             [
              0.3333333333333333,
              "#9c179e"
             ],
             [
              0.4444444444444444,
              "#bd3786"
             ],
             [
              0.5555555555555556,
              "#d8576b"
             ],
             [
              0.6666666666666666,
              "#ed7953"
             ],
             [
              0.7777777777777778,
              "#fb9f3a"
             ],
             [
              0.8888888888888888,
              "#fdca26"
             ],
             [
              1,
              "#f0f921"
             ]
            ],
            "type": "histogram2d"
           }
          ],
          "histogram2dcontour": [
           {
            "colorbar": {
             "outlinewidth": 0,
             "ticks": ""
            },
            "colorscale": [
             [
              0,
              "#0d0887"
             ],
             [
              0.1111111111111111,
              "#46039f"
             ],
             [
              0.2222222222222222,
              "#7201a8"
             ],
             [
              0.3333333333333333,
              "#9c179e"
             ],
             [
              0.4444444444444444,
              "#bd3786"
             ],
             [
              0.5555555555555556,
              "#d8576b"
             ],
             [
              0.6666666666666666,
              "#ed7953"
             ],
             [
              0.7777777777777778,
              "#fb9f3a"
             ],
             [
              0.8888888888888888,
              "#fdca26"
             ],
             [
              1,
              "#f0f921"
             ]
            ],
            "type": "histogram2dcontour"
           }
          ],
          "mesh3d": [
           {
            "colorbar": {
             "outlinewidth": 0,
             "ticks": ""
            },
            "type": "mesh3d"
           }
          ],
          "parcoords": [
           {
            "line": {
             "colorbar": {
              "outlinewidth": 0,
              "ticks": ""
             }
            },
            "type": "parcoords"
           }
          ],
          "pie": [
           {
            "automargin": true,
            "type": "pie"
           }
          ],
          "scatter": [
           {
            "fillpattern": {
             "fillmode": "overlay",
             "size": 10,
             "solidity": 0.2
            },
            "type": "scatter"
           }
          ],
          "scatter3d": [
           {
            "line": {
             "colorbar": {
              "outlinewidth": 0,
              "ticks": ""
             }
            },
            "marker": {
             "colorbar": {
              "outlinewidth": 0,
              "ticks": ""
             }
            },
            "type": "scatter3d"
           }
          ],
          "scattercarpet": [
           {
            "marker": {
             "colorbar": {
              "outlinewidth": 0,
              "ticks": ""
             }
            },
            "type": "scattercarpet"
           }
          ],
          "scattergeo": [
           {
            "marker": {
             "colorbar": {
              "outlinewidth": 0,
              "ticks": ""
             }
            },
            "type": "scattergeo"
           }
          ],
          "scattergl": [
           {
            "marker": {
             "colorbar": {
              "outlinewidth": 0,
              "ticks": ""
             }
            },
            "type": "scattergl"
           }
          ],
          "scattermapbox": [
           {
            "marker": {
             "colorbar": {
              "outlinewidth": 0,
              "ticks": ""
             }
            },
            "type": "scattermapbox"
           }
          ],
          "scatterpolar": [
           {
            "marker": {
             "colorbar": {
              "outlinewidth": 0,
              "ticks": ""
             }
            },
            "type": "scatterpolar"
           }
          ],
          "scatterpolargl": [
           {
            "marker": {
             "colorbar": {
              "outlinewidth": 0,
              "ticks": ""
             }
            },
            "type": "scatterpolargl"
           }
          ],
          "scatterternary": [
           {
            "marker": {
             "colorbar": {
              "outlinewidth": 0,
              "ticks": ""
             }
            },
            "type": "scatterternary"
           }
          ],
          "surface": [
           {
            "colorbar": {
             "outlinewidth": 0,
             "ticks": ""
            },
            "colorscale": [
             [
              0,
              "#0d0887"
             ],
             [
              0.1111111111111111,
              "#46039f"
             ],
             [
              0.2222222222222222,
              "#7201a8"
             ],
             [
              0.3333333333333333,
              "#9c179e"
             ],
             [
              0.4444444444444444,
              "#bd3786"
             ],
             [
              0.5555555555555556,
              "#d8576b"
             ],
             [
              0.6666666666666666,
              "#ed7953"
             ],
             [
              0.7777777777777778,
              "#fb9f3a"
             ],
             [
              0.8888888888888888,
              "#fdca26"
             ],
             [
              1,
              "#f0f921"
             ]
            ],
            "type": "surface"
           }
          ],
          "table": [
           {
            "cells": {
             "fill": {
              "color": "#EBF0F8"
             },
             "line": {
              "color": "white"
             }
            },
            "header": {
             "fill": {
              "color": "#C8D4E3"
             },
             "line": {
              "color": "white"
             }
            },
            "type": "table"
           }
          ]
         },
         "layout": {
          "annotationdefaults": {
           "arrowcolor": "#2a3f5f",
           "arrowhead": 0,
           "arrowwidth": 1
          },
          "autotypenumbers": "strict",
          "coloraxis": {
           "colorbar": {
            "outlinewidth": 0,
            "ticks": ""
           }
          },
          "colorscale": {
           "diverging": [
            [
             0,
             "#8e0152"
            ],
            [
             0.1,
             "#c51b7d"
            ],
            [
             0.2,
             "#de77ae"
            ],
            [
             0.3,
             "#f1b6da"
            ],
            [
             0.4,
             "#fde0ef"
            ],
            [
             0.5,
             "#f7f7f7"
            ],
            [
             0.6,
             "#e6f5d0"
            ],
            [
             0.7,
             "#b8e186"
            ],
            [
             0.8,
             "#7fbc41"
            ],
            [
             0.9,
             "#4d9221"
            ],
            [
             1,
             "#276419"
            ]
           ],
           "sequential": [
            [
             0,
             "#0d0887"
            ],
            [
             0.1111111111111111,
             "#46039f"
            ],
            [
             0.2222222222222222,
             "#7201a8"
            ],
            [
             0.3333333333333333,
             "#9c179e"
            ],
            [
             0.4444444444444444,
             "#bd3786"
            ],
            [
             0.5555555555555556,
             "#d8576b"
            ],
            [
             0.6666666666666666,
             "#ed7953"
            ],
            [
             0.7777777777777778,
             "#fb9f3a"
            ],
            [
             0.8888888888888888,
             "#fdca26"
            ],
            [
             1,
             "#f0f921"
            ]
           ],
           "sequentialminus": [
            [
             0,
             "#0d0887"
            ],
            [
             0.1111111111111111,
             "#46039f"
            ],
            [
             0.2222222222222222,
             "#7201a8"
            ],
            [
             0.3333333333333333,
             "#9c179e"
            ],
            [
             0.4444444444444444,
             "#bd3786"
            ],
            [
             0.5555555555555556,
             "#d8576b"
            ],
            [
             0.6666666666666666,
             "#ed7953"
            ],
            [
             0.7777777777777778,
             "#fb9f3a"
            ],
            [
             0.8888888888888888,
             "#fdca26"
            ],
            [
             1,
             "#f0f921"
            ]
           ]
          },
          "colorway": [
           "#636efa",
           "#EF553B",
           "#00cc96",
           "#ab63fa",
           "#FFA15A",
           "#19d3f3",
           "#FF6692",
           "#B6E880",
           "#FF97FF",
           "#FECB52"
          ],
          "font": {
           "color": "#2a3f5f"
          },
          "geo": {
           "bgcolor": "white",
           "lakecolor": "white",
           "landcolor": "#E5ECF6",
           "showlakes": true,
           "showland": true,
           "subunitcolor": "white"
          },
          "hoverlabel": {
           "align": "left"
          },
          "hovermode": "closest",
          "mapbox": {
           "style": "light"
          },
          "paper_bgcolor": "white",
          "plot_bgcolor": "#E5ECF6",
          "polar": {
           "angularaxis": {
            "gridcolor": "white",
            "linecolor": "white",
            "ticks": ""
           },
           "bgcolor": "#E5ECF6",
           "radialaxis": {
            "gridcolor": "white",
            "linecolor": "white",
            "ticks": ""
           }
          },
          "scene": {
           "xaxis": {
            "backgroundcolor": "#E5ECF6",
            "gridcolor": "white",
            "gridwidth": 2,
            "linecolor": "white",
            "showbackground": true,
            "ticks": "",
            "zerolinecolor": "white"
           },
           "yaxis": {
            "backgroundcolor": "#E5ECF6",
            "gridcolor": "white",
            "gridwidth": 2,
            "linecolor": "white",
            "showbackground": true,
            "ticks": "",
            "zerolinecolor": "white"
           },
           "zaxis": {
            "backgroundcolor": "#E5ECF6",
            "gridcolor": "white",
            "gridwidth": 2,
            "linecolor": "white",
            "showbackground": true,
            "ticks": "",
            "zerolinecolor": "white"
           }
          },
          "shapedefaults": {
           "line": {
            "color": "#2a3f5f"
           }
          },
          "ternary": {
           "aaxis": {
            "gridcolor": "white",
            "linecolor": "white",
            "ticks": ""
           },
           "baxis": {
            "gridcolor": "white",
            "linecolor": "white",
            "ticks": ""
           },
           "bgcolor": "#E5ECF6",
           "caxis": {
            "gridcolor": "white",
            "linecolor": "white",
            "ticks": ""
           }
          },
          "title": {
           "x": 0.05
          },
          "xaxis": {
           "automargin": true,
           "gridcolor": "white",
           "linecolor": "white",
           "ticks": "",
           "title": {
            "standoff": 15
           },
           "zerolinecolor": "white",
           "zerolinewidth": 2
          },
          "yaxis": {
           "automargin": true,
           "gridcolor": "white",
           "linecolor": "white",
           "ticks": "",
           "title": {
            "standoff": 15
           },
           "zerolinecolor": "white",
           "zerolinewidth": 2
          }
         }
        }
       }
      },
      "text/html": [
       "<div>                            <div id=\"e20f2f66-ac84-4f07-8d79-83ccef28ff68\" class=\"plotly-graph-div\" style=\"height:525px; width:100%;\"></div>            <script type=\"text/javascript\">                require([\"plotly\"], function(Plotly) {                    window.PLOTLYENV=window.PLOTLYENV || {};                                    if (document.getElementById(\"e20f2f66-ac84-4f07-8d79-83ccef28ff68\")) {                    Plotly.newPlot(                        \"e20f2f66-ac84-4f07-8d79-83ccef28ff68\",                        [{\"hovertemplate\":\"Subject=19\\u6b73\\u4ee5\\u4e0b<br>value=%{r}<br>label=%{theta}<extra></extra>\",\"legendgroup\":\"19\\u6b73\\u4ee5\\u4e0b\",\"line\":{\"color\":\"#636efa\",\"dash\":\"solid\"},\"marker\":{\"symbol\":\"circle\"},\"mode\":\"lines\",\"name\":\"19\\u6b73\\u4ee5\\u4e0b\",\"r\":[0,0,5,25,70,0,0],\"showlegend\":true,\"subplot\":\"polar\",\"theta\":[\"1\\u30f6\\u6708\\u306b5\\u6642\\u9593\\u672a\\u6e80(1\\u65e510\\u5206\\u672a\\u6e80)\",\"1\\u30f6\\u6708\\u306b5\\u6642\\u9593\\u4ee5\\u4e0a15\\u6642\\u9593\\u672a\\u6e80(1\\u65e510\\u5206~30\\u5206\\u7a0b\\u5ea6)\",\"1\\u30f6\\u6708\\u306b15\\u6642\\u9593\\u4ee5\\u4e0a30\\u6642\\u9593\\u672a\\u6e80(1\\u65e530\\u5206~60\\u5206\\u7a0b\\u5ea6)\",\"1\\u30f6\\u6708\\u306b30\\u6642\\u9593\\u4ee5\\u4e0a60\\u6642\\u9593\\u672a\\u6e80(1\\u65e51~2\\u6642\\u9593\\u7a0b\\u5ea6)\",\"1\\u30f6\\u6708\\u306b60\\u6642\\u9593\\u4ee5\\u4e0a(1\\u65e52\\u6642\\u9593\\u4ee5\\u4e0a)\",\"\\u7121\\u56de\\u7b54\",\"1\\u30f6\\u6708\\u306b5\\u6642\\u9593\\u672a\\u6e80(1\\u65e510\\u5206\\u672a\\u6e80)\"],\"type\":\"scatterpolar\"},{\"hovertemplate\":\"Subject=20\\u6b73\\u4ee3<br>value=%{r}<br>label=%{theta}<extra></extra>\",\"legendgroup\":\"20\\u6b73\\u4ee3\",\"line\":{\"color\":\"#EF553B\",\"dash\":\"solid\"},\"marker\":{\"symbol\":\"circle\"},\"mode\":\"lines\",\"name\":\"20\\u6b73\\u4ee3\",\"r\":[0.9,4.7,7.5,24.5,62.3,0.0,0.9],\"showlegend\":true,\"subplot\":\"polar\",\"theta\":[\"1\\u30f6\\u6708\\u306b5\\u6642\\u9593\\u672a\\u6e80(1\\u65e510\\u5206\\u672a\\u6e80)\",\"1\\u30f6\\u6708\\u306b5\\u6642\\u9593\\u4ee5\\u4e0a15\\u6642\\u9593\\u672a\\u6e80(1\\u65e510\\u5206~30\\u5206\\u7a0b\\u5ea6)\",\"1\\u30f6\\u6708\\u306b15\\u6642\\u9593\\u4ee5\\u4e0a30\\u6642\\u9593\\u672a\\u6e80(1\\u65e530\\u5206~60\\u5206\\u7a0b\\u5ea6)\",\"1\\u30f6\\u6708\\u306b30\\u6642\\u9593\\u4ee5\\u4e0a60\\u6642\\u9593\\u672a\\u6e80(1\\u65e51~2\\u6642\\u9593\\u7a0b\\u5ea6)\",\"1\\u30f6\\u6708\\u306b60\\u6642\\u9593\\u4ee5\\u4e0a(1\\u65e52\\u6642\\u9593\\u4ee5\\u4e0a)\",\"\\u7121\\u56de\\u7b54\",\"1\\u30f6\\u6708\\u306b5\\u6642\\u9593\\u672a\\u6e80(1\\u65e510\\u5206\\u672a\\u6e80)\"],\"type\":\"scatterpolar\"},{\"hovertemplate\":\"Subject=30\\u6b73\\u4ee3<br>value=%{r}<br>label=%{theta}<extra></extra>\",\"legendgroup\":\"30\\u6b73\\u4ee3\",\"line\":{\"color\":\"#00cc96\",\"dash\":\"solid\"},\"marker\":{\"symbol\":\"circle\"},\"mode\":\"lines\",\"name\":\"30\\u6b73\\u4ee3\",\"r\":[5.5,7.3,18.2,32.7,36.4,0.0,5.5],\"showlegend\":true,\"subplot\":\"polar\",\"theta\":[\"1\\u30f6\\u6708\\u306b5\\u6642\\u9593\\u672a\\u6e80(1\\u65e510\\u5206\\u672a\\u6e80)\",\"1\\u30f6\\u6708\\u306b5\\u6642\\u9593\\u4ee5\\u4e0a15\\u6642\\u9593\\u672a\\u6e80(1\\u65e510\\u5206~30\\u5206\\u7a0b\\u5ea6)\",\"1\\u30f6\\u6708\\u306b15\\u6642\\u9593\\u4ee5\\u4e0a30\\u6642\\u9593\\u672a\\u6e80(1\\u65e530\\u5206~60\\u5206\\u7a0b\\u5ea6)\",\"1\\u30f6\\u6708\\u306b30\\u6642\\u9593\\u4ee5\\u4e0a60\\u6642\\u9593\\u672a\\u6e80(1\\u65e51~2\\u6642\\u9593\\u7a0b\\u5ea6)\",\"1\\u30f6\\u6708\\u306b60\\u6642\\u9593\\u4ee5\\u4e0a(1\\u65e52\\u6642\\u9593\\u4ee5\\u4e0a)\",\"\\u7121\\u56de\\u7b54\",\"1\\u30f6\\u6708\\u306b5\\u6642\\u9593\\u672a\\u6e80(1\\u65e510\\u5206\\u672a\\u6e80)\"],\"type\":\"scatterpolar\"},{\"hovertemplate\":\"Subject=40\\u6b73\\u4ee3<br>value=%{r}<br>label=%{theta}<extra></extra>\",\"legendgroup\":\"40\\u6b73\\u4ee3\",\"line\":{\"color\":\"#ab63fa\",\"dash\":\"solid\"},\"marker\":{\"symbol\":\"circle\"},\"mode\":\"lines\",\"name\":\"40\\u6b73\\u4ee3\",\"r\":[5.7,13.7,14.5,35.7,30.4,0.0,5.7],\"showlegend\":true,\"subplot\":\"polar\",\"theta\":[\"1\\u30f6\\u6708\\u306b5\\u6642\\u9593\\u672a\\u6e80(1\\u65e510\\u5206\\u672a\\u6e80)\",\"1\\u30f6\\u6708\\u306b5\\u6642\\u9593\\u4ee5\\u4e0a15\\u6642\\u9593\\u672a\\u6e80(1\\u65e510\\u5206~30\\u5206\\u7a0b\\u5ea6)\",\"1\\u30f6\\u6708\\u306b15\\u6642\\u9593\\u4ee5\\u4e0a30\\u6642\\u9593\\u672a\\u6e80(1\\u65e530\\u5206~60\\u5206\\u7a0b\\u5ea6)\",\"1\\u30f6\\u6708\\u306b30\\u6642\\u9593\\u4ee5\\u4e0a60\\u6642\\u9593\\u672a\\u6e80(1\\u65e51~2\\u6642\\u9593\\u7a0b\\u5ea6)\",\"1\\u30f6\\u6708\\u306b60\\u6642\\u9593\\u4ee5\\u4e0a(1\\u65e52\\u6642\\u9593\\u4ee5\\u4e0a)\",\"\\u7121\\u56de\\u7b54\",\"1\\u30f6\\u6708\\u306b5\\u6642\\u9593\\u672a\\u6e80(1\\u65e510\\u5206\\u672a\\u6e80)\"],\"type\":\"scatterpolar\"},{\"hovertemplate\":\"Subject=50\\u6b73\\u4ee3<br>value=%{r}<br>label=%{theta}<extra></extra>\",\"legendgroup\":\"50\\u6b73\\u4ee3\",\"line\":{\"color\":\"#FFA15A\",\"dash\":\"solid\"},\"marker\":{\"symbol\":\"circle\"},\"mode\":\"lines\",\"name\":\"50\\u6b73\\u4ee3\",\"r\":[11.0,19.6,20.1,23.9,25.4,0.0,11.0],\"showlegend\":true,\"subplot\":\"polar\",\"theta\":[\"1\\u30f6\\u6708\\u306b5\\u6642\\u9593\\u672a\\u6e80(1\\u65e510\\u5206\\u672a\\u6e80)\",\"1\\u30f6\\u6708\\u306b5\\u6642\\u9593\\u4ee5\\u4e0a15\\u6642\\u9593\\u672a\\u6e80(1\\u65e510\\u5206~30\\u5206\\u7a0b\\u5ea6)\",\"1\\u30f6\\u6708\\u306b15\\u6642\\u9593\\u4ee5\\u4e0a30\\u6642\\u9593\\u672a\\u6e80(1\\u65e530\\u5206~60\\u5206\\u7a0b\\u5ea6)\",\"1\\u30f6\\u6708\\u306b30\\u6642\\u9593\\u4ee5\\u4e0a60\\u6642\\u9593\\u672a\\u6e80(1\\u65e51~2\\u6642\\u9593\\u7a0b\\u5ea6)\",\"1\\u30f6\\u6708\\u306b60\\u6642\\u9593\\u4ee5\\u4e0a(1\\u65e52\\u6642\\u9593\\u4ee5\\u4e0a)\",\"\\u7121\\u56de\\u7b54\",\"1\\u30f6\\u6708\\u306b5\\u6642\\u9593\\u672a\\u6e80(1\\u65e510\\u5206\\u672a\\u6e80)\"],\"type\":\"scatterpolar\"},{\"hovertemplate\":\"Subject=60\\u6b72\\u4ee3<br>value=%{r}<br>label=%{theta}<extra></extra>\",\"legendgroup\":\"60\\u6b72\\u4ee3\",\"line\":{\"color\":\"#19d3f3\",\"dash\":\"solid\"},\"marker\":{\"symbol\":\"circle\"},\"mode\":\"lines\",\"name\":\"60\\u6b72\\u4ee3\",\"r\":[22.1,21.5,16.4,18.1,19.6,2.3,22.1],\"showlegend\":true,\"subplot\":\"polar\",\"theta\":[\"1\\u30f6\\u6708\\u306b5\\u6642\\u9593\\u672a\\u6e80(1\\u65e510\\u5206\\u672a\\u6e80)\",\"1\\u30f6\\u6708\\u306b5\\u6642\\u9593\\u4ee5\\u4e0a15\\u6642\\u9593\\u672a\\u6e80(1\\u65e510\\u5206~30\\u5206\\u7a0b\\u5ea6)\",\"1\\u30f6\\u6708\\u306b15\\u6642\\u9593\\u4ee5\\u4e0a30\\u6642\\u9593\\u672a\\u6e80(1\\u65e530\\u5206~60\\u5206\\u7a0b\\u5ea6)\",\"1\\u30f6\\u6708\\u306b30\\u6642\\u9593\\u4ee5\\u4e0a60\\u6642\\u9593\\u672a\\u6e80(1\\u65e51~2\\u6642\\u9593\\u7a0b\\u5ea6)\",\"1\\u30f6\\u6708\\u306b60\\u6642\\u9593\\u4ee5\\u4e0a(1\\u65e52\\u6642\\u9593\\u4ee5\\u4e0a)\",\"\\u7121\\u56de\\u7b54\",\"1\\u30f6\\u6708\\u306b5\\u6642\\u9593\\u672a\\u6e80(1\\u65e510\\u5206\\u672a\\u6e80)\"],\"type\":\"scatterpolar\"},{\"hovertemplate\":\"Subject=70\\u6b72\\u4ee5\\u4e0a<br>value=%{r}<br>label=%{theta}<extra></extra>\",\"legendgroup\":\"70\\u6b72\\u4ee5\\u4e0a\",\"line\":{\"color\":\"#FF6692\",\"dash\":\"solid\"},\"marker\":{\"symbol\":\"circle\"},\"mode\":\"lines\",\"name\":\"70\\u6b72\\u4ee5\\u4e0a\",\"r\":[26.1,24.5,17.9,20.2,10.7,0.6,26.1],\"showlegend\":true,\"subplot\":\"polar\",\"theta\":[\"1\\u30f6\\u6708\\u306b5\\u6642\\u9593\\u672a\\u6e80(1\\u65e510\\u5206\\u672a\\u6e80)\",\"1\\u30f6\\u6708\\u306b5\\u6642\\u9593\\u4ee5\\u4e0a15\\u6642\\u9593\\u672a\\u6e80(1\\u65e510\\u5206~30\\u5206\\u7a0b\\u5ea6)\",\"1\\u30f6\\u6708\\u306b15\\u6642\\u9593\\u4ee5\\u4e0a30\\u6642\\u9593\\u672a\\u6e80(1\\u65e530\\u5206~60\\u5206\\u7a0b\\u5ea6)\",\"1\\u30f6\\u6708\\u306b30\\u6642\\u9593\\u4ee5\\u4e0a60\\u6642\\u9593\\u672a\\u6e80(1\\u65e51~2\\u6642\\u9593\\u7a0b\\u5ea6)\",\"1\\u30f6\\u6708\\u306b60\\u6642\\u9593\\u4ee5\\u4e0a(1\\u65e52\\u6642\\u9593\\u4ee5\\u4e0a)\",\"\\u7121\\u56de\\u7b54\",\"1\\u30f6\\u6708\\u306b5\\u6642\\u9593\\u672a\\u6e80(1\\u65e510\\u5206\\u672a\\u6e80)\"],\"type\":\"scatterpolar\"}],                        {\"template\":{\"data\":{\"histogram2dcontour\":[{\"type\":\"histogram2dcontour\",\"colorbar\":{\"outlinewidth\":0,\"ticks\":\"\"},\"colorscale\":[[0.0,\"#0d0887\"],[0.1111111111111111,\"#46039f\"],[0.2222222222222222,\"#7201a8\"],[0.3333333333333333,\"#9c179e\"],[0.4444444444444444,\"#bd3786\"],[0.5555555555555556,\"#d8576b\"],[0.6666666666666666,\"#ed7953\"],[0.7777777777777778,\"#fb9f3a\"],[0.8888888888888888,\"#fdca26\"],[1.0,\"#f0f921\"]]}],\"choropleth\":[{\"type\":\"choropleth\",\"colorbar\":{\"outlinewidth\":0,\"ticks\":\"\"}}],\"histogram2d\":[{\"type\":\"histogram2d\",\"colorbar\":{\"outlinewidth\":0,\"ticks\":\"\"},\"colorscale\":[[0.0,\"#0d0887\"],[0.1111111111111111,\"#46039f\"],[0.2222222222222222,\"#7201a8\"],[0.3333333333333333,\"#9c179e\"],[0.4444444444444444,\"#bd3786\"],[0.5555555555555556,\"#d8576b\"],[0.6666666666666666,\"#ed7953\"],[0.7777777777777778,\"#fb9f3a\"],[0.8888888888888888,\"#fdca26\"],[1.0,\"#f0f921\"]]}],\"heatmap\":[{\"type\":\"heatmap\",\"colorbar\":{\"outlinewidth\":0,\"ticks\":\"\"},\"colorscale\":[[0.0,\"#0d0887\"],[0.1111111111111111,\"#46039f\"],[0.2222222222222222,\"#7201a8\"],[0.3333333333333333,\"#9c179e\"],[0.4444444444444444,\"#bd3786\"],[0.5555555555555556,\"#d8576b\"],[0.6666666666666666,\"#ed7953\"],[0.7777777777777778,\"#fb9f3a\"],[0.8888888888888888,\"#fdca26\"],[1.0,\"#f0f921\"]]}],\"heatmapgl\":[{\"type\":\"heatmapgl\",\"colorbar\":{\"outlinewidth\":0,\"ticks\":\"\"},\"colorscale\":[[0.0,\"#0d0887\"],[0.1111111111111111,\"#46039f\"],[0.2222222222222222,\"#7201a8\"],[0.3333333333333333,\"#9c179e\"],[0.4444444444444444,\"#bd3786\"],[0.5555555555555556,\"#d8576b\"],[0.6666666666666666,\"#ed7953\"],[0.7777777777777778,\"#fb9f3a\"],[0.8888888888888888,\"#fdca26\"],[1.0,\"#f0f921\"]]}],\"contourcarpet\":[{\"type\":\"contourcarpet\",\"colorbar\":{\"outlinewidth\":0,\"ticks\":\"\"}}],\"contour\":[{\"type\":\"contour\",\"colorbar\":{\"outlinewidth\":0,\"ticks\":\"\"},\"colorscale\":[[0.0,\"#0d0887\"],[0.1111111111111111,\"#46039f\"],[0.2222222222222222,\"#7201a8\"],[0.3333333333333333,\"#9c179e\"],[0.4444444444444444,\"#bd3786\"],[0.5555555555555556,\"#d8576b\"],[0.6666666666666666,\"#ed7953\"],[0.7777777777777778,\"#fb9f3a\"],[0.8888888888888888,\"#fdca26\"],[1.0,\"#f0f921\"]]}],\"surface\":[{\"type\":\"surface\",\"colorbar\":{\"outlinewidth\":0,\"ticks\":\"\"},\"colorscale\":[[0.0,\"#0d0887\"],[0.1111111111111111,\"#46039f\"],[0.2222222222222222,\"#7201a8\"],[0.3333333333333333,\"#9c179e\"],[0.4444444444444444,\"#bd3786\"],[0.5555555555555556,\"#d8576b\"],[0.6666666666666666,\"#ed7953\"],[0.7777777777777778,\"#fb9f3a\"],[0.8888888888888888,\"#fdca26\"],[1.0,\"#f0f921\"]]}],\"mesh3d\":[{\"type\":\"mesh3d\",\"colorbar\":{\"outlinewidth\":0,\"ticks\":\"\"}}],\"scatter\":[{\"fillpattern\":{\"fillmode\":\"overlay\",\"size\":10,\"solidity\":0.2},\"type\":\"scatter\"}],\"parcoords\":[{\"type\":\"parcoords\",\"line\":{\"colorbar\":{\"outlinewidth\":0,\"ticks\":\"\"}}}],\"scatterpolargl\":[{\"type\":\"scatterpolargl\",\"marker\":{\"colorbar\":{\"outlinewidth\":0,\"ticks\":\"\"}}}],\"bar\":[{\"error_x\":{\"color\":\"#2a3f5f\"},\"error_y\":{\"color\":\"#2a3f5f\"},\"marker\":{\"line\":{\"color\":\"#E5ECF6\",\"width\":0.5},\"pattern\":{\"fillmode\":\"overlay\",\"size\":10,\"solidity\":0.2}},\"type\":\"bar\"}],\"scattergeo\":[{\"type\":\"scattergeo\",\"marker\":{\"colorbar\":{\"outlinewidth\":0,\"ticks\":\"\"}}}],\"scatterpolar\":[{\"type\":\"scatterpolar\",\"marker\":{\"colorbar\":{\"outlinewidth\":0,\"ticks\":\"\"}}}],\"histogram\":[{\"marker\":{\"pattern\":{\"fillmode\":\"overlay\",\"size\":10,\"solidity\":0.2}},\"type\":\"histogram\"}],\"scattergl\":[{\"type\":\"scattergl\",\"marker\":{\"colorbar\":{\"outlinewidth\":0,\"ticks\":\"\"}}}],\"scatter3d\":[{\"type\":\"scatter3d\",\"line\":{\"colorbar\":{\"outlinewidth\":0,\"ticks\":\"\"}},\"marker\":{\"colorbar\":{\"outlinewidth\":0,\"ticks\":\"\"}}}],\"scattermapbox\":[{\"type\":\"scattermapbox\",\"marker\":{\"colorbar\":{\"outlinewidth\":0,\"ticks\":\"\"}}}],\"scatterternary\":[{\"type\":\"scatterternary\",\"marker\":{\"colorbar\":{\"outlinewidth\":0,\"ticks\":\"\"}}}],\"scattercarpet\":[{\"type\":\"scattercarpet\",\"marker\":{\"colorbar\":{\"outlinewidth\":0,\"ticks\":\"\"}}}],\"carpet\":[{\"aaxis\":{\"endlinecolor\":\"#2a3f5f\",\"gridcolor\":\"white\",\"linecolor\":\"white\",\"minorgridcolor\":\"white\",\"startlinecolor\":\"#2a3f5f\"},\"baxis\":{\"endlinecolor\":\"#2a3f5f\",\"gridcolor\":\"white\",\"linecolor\":\"white\",\"minorgridcolor\":\"white\",\"startlinecolor\":\"#2a3f5f\"},\"type\":\"carpet\"}],\"table\":[{\"cells\":{\"fill\":{\"color\":\"#EBF0F8\"},\"line\":{\"color\":\"white\"}},\"header\":{\"fill\":{\"color\":\"#C8D4E3\"},\"line\":{\"color\":\"white\"}},\"type\":\"table\"}],\"barpolar\":[{\"marker\":{\"line\":{\"color\":\"#E5ECF6\",\"width\":0.5},\"pattern\":{\"fillmode\":\"overlay\",\"size\":10,\"solidity\":0.2}},\"type\":\"barpolar\"}],\"pie\":[{\"automargin\":true,\"type\":\"pie\"}]},\"layout\":{\"autotypenumbers\":\"strict\",\"colorway\":[\"#636efa\",\"#EF553B\",\"#00cc96\",\"#ab63fa\",\"#FFA15A\",\"#19d3f3\",\"#FF6692\",\"#B6E880\",\"#FF97FF\",\"#FECB52\"],\"font\":{\"color\":\"#2a3f5f\"},\"hovermode\":\"closest\",\"hoverlabel\":{\"align\":\"left\"},\"paper_bgcolor\":\"white\",\"plot_bgcolor\":\"#E5ECF6\",\"polar\":{\"bgcolor\":\"#E5ECF6\",\"angularaxis\":{\"gridcolor\":\"white\",\"linecolor\":\"white\",\"ticks\":\"\"},\"radialaxis\":{\"gridcolor\":\"white\",\"linecolor\":\"white\",\"ticks\":\"\"}},\"ternary\":{\"bgcolor\":\"#E5ECF6\",\"aaxis\":{\"gridcolor\":\"white\",\"linecolor\":\"white\",\"ticks\":\"\"},\"baxis\":{\"gridcolor\":\"white\",\"linecolor\":\"white\",\"ticks\":\"\"},\"caxis\":{\"gridcolor\":\"white\",\"linecolor\":\"white\",\"ticks\":\"\"}},\"coloraxis\":{\"colorbar\":{\"outlinewidth\":0,\"ticks\":\"\"}},\"colorscale\":{\"sequential\":[[0.0,\"#0d0887\"],[0.1111111111111111,\"#46039f\"],[0.2222222222222222,\"#7201a8\"],[0.3333333333333333,\"#9c179e\"],[0.4444444444444444,\"#bd3786\"],[0.5555555555555556,\"#d8576b\"],[0.6666666666666666,\"#ed7953\"],[0.7777777777777778,\"#fb9f3a\"],[0.8888888888888888,\"#fdca26\"],[1.0,\"#f0f921\"]],\"sequentialminus\":[[0.0,\"#0d0887\"],[0.1111111111111111,\"#46039f\"],[0.2222222222222222,\"#7201a8\"],[0.3333333333333333,\"#9c179e\"],[0.4444444444444444,\"#bd3786\"],[0.5555555555555556,\"#d8576b\"],[0.6666666666666666,\"#ed7953\"],[0.7777777777777778,\"#fb9f3a\"],[0.8888888888888888,\"#fdca26\"],[1.0,\"#f0f921\"]],\"diverging\":[[0,\"#8e0152\"],[0.1,\"#c51b7d\"],[0.2,\"#de77ae\"],[0.3,\"#f1b6da\"],[0.4,\"#fde0ef\"],[0.5,\"#f7f7f7\"],[0.6,\"#e6f5d0\"],[0.7,\"#b8e186\"],[0.8,\"#7fbc41\"],[0.9,\"#4d9221\"],[1,\"#276419\"]]},\"xaxis\":{\"gridcolor\":\"white\",\"linecolor\":\"white\",\"ticks\":\"\",\"title\":{\"standoff\":15},\"zerolinecolor\":\"white\",\"automargin\":true,\"zerolinewidth\":2},\"yaxis\":{\"gridcolor\":\"white\",\"linecolor\":\"white\",\"ticks\":\"\",\"title\":{\"standoff\":15},\"zerolinecolor\":\"white\",\"automargin\":true,\"zerolinewidth\":2},\"scene\":{\"xaxis\":{\"backgroundcolor\":\"#E5ECF6\",\"gridcolor\":\"white\",\"linecolor\":\"white\",\"showbackground\":true,\"ticks\":\"\",\"zerolinecolor\":\"white\",\"gridwidth\":2},\"yaxis\":{\"backgroundcolor\":\"#E5ECF6\",\"gridcolor\":\"white\",\"linecolor\":\"white\",\"showbackground\":true,\"ticks\":\"\",\"zerolinecolor\":\"white\",\"gridwidth\":2},\"zaxis\":{\"backgroundcolor\":\"#E5ECF6\",\"gridcolor\":\"white\",\"linecolor\":\"white\",\"showbackground\":true,\"ticks\":\"\",\"zerolinecolor\":\"white\",\"gridwidth\":2}},\"shapedefaults\":{\"line\":{\"color\":\"#2a3f5f\"}},\"annotationdefaults\":{\"arrowcolor\":\"#2a3f5f\",\"arrowhead\":0,\"arrowwidth\":1},\"geo\":{\"bgcolor\":\"white\",\"landcolor\":\"#E5ECF6\",\"subunitcolor\":\"white\",\"showland\":true,\"showlakes\":true,\"lakecolor\":\"white\"},\"title\":{\"x\":0.05},\"mapbox\":{\"style\":\"light\"}}},\"polar\":{\"domain\":{\"x\":[0.0,1.0],\"y\":[0.0,1.0]},\"angularaxis\":{\"direction\":\"clockwise\",\"rotation\":90}},\"legend\":{\"title\":{\"text\":\"Subject\"},\"tracegroupgap\":0},\"margin\":{\"t\":60}},                        {\"responsive\": true}                    ).then(function(){\n",
       "                            \n",
       "var gd = document.getElementById('e20f2f66-ac84-4f07-8d79-83ccef28ff68');\n",
       "var x = new MutationObserver(function (mutations, observer) {{\n",
       "        var display = window.getComputedStyle(gd).display;\n",
       "        if (!display || display === 'none') {{\n",
       "            console.log([gd, 'removed!']);\n",
       "            Plotly.purge(gd);\n",
       "            observer.disconnect();\n",
       "        }}\n",
       "}});\n",
       "\n",
       "// Listen for the removal of the full notebook cells\n",
       "var notebookContainer = gd.closest('#notebook-container');\n",
       "if (notebookContainer) {{\n",
       "    x.observe(notebookContainer, {childList: true});\n",
       "}}\n",
       "\n",
       "// Listen for the clearing of the current output cell\n",
       "var outputEl = gd.closest('.output');\n",
       "if (outputEl) {{\n",
       "    x.observe(outputEl, {childList: true});\n",
       "}}\n",
       "\n",
       "                        })                };                });            </script>        </div>"
      ]
     },
     "metadata": {},
     "output_type": "display_data"
    }
   ],
   "source": [
    "fig=px.line_polar(df_graph2,r='value',theta='label',color='Subject',line_close=True)\n",
    "\n",
    "#グラフ描画\n",
    "fig.show()"
   ]
  },
  {
   "cell_type": "code",
   "execution_count": 205,
   "id": "2e0616ae",
   "metadata": {},
   "outputs": [
    {
     "data": {
      "text/html": [
       "<div>\n",
       "<style scoped>\n",
       "    .dataframe tbody tr th:only-of-type {\n",
       "        vertical-align: middle;\n",
       "    }\n",
       "\n",
       "    .dataframe tbody tr th {\n",
       "        vertical-align: top;\n",
       "    }\n",
       "\n",
       "    .dataframe thead th {\n",
       "        text-align: right;\n",
       "    }\n",
       "</style>\n",
       "<table border=\"1\" class=\"dataframe\">\n",
       "  <thead>\n",
       "    <tr style=\"text-align: right;\">\n",
       "      <th></th>\n",
       "      <th>Attribute</th>\n",
       "      <th>19歳以下</th>\n",
       "      <th>20歳代</th>\n",
       "      <th>30歳代</th>\n",
       "      <th>40歳代</th>\n",
       "      <th>50歳代</th>\n",
       "      <th>60歲代</th>\n",
       "      <th>70歲以上</th>\n",
       "    </tr>\n",
       "  </thead>\n",
       "  <tbody>\n",
       "    <tr>\n",
       "      <th>0</th>\n",
       "      <td>1ヶ月に5時間未満(1日10分未満)</td>\n",
       "      <td>0</td>\n",
       "      <td>0.9</td>\n",
       "      <td>5.5</td>\n",
       "      <td>5.7</td>\n",
       "      <td>11.0</td>\n",
       "      <td>22.1</td>\n",
       "      <td>26.1</td>\n",
       "    </tr>\n",
       "    <tr>\n",
       "      <th>1</th>\n",
       "      <td>1ヶ月に5時間以上15時間未満(1日10分~30分程度)</td>\n",
       "      <td>0</td>\n",
       "      <td>4.7</td>\n",
       "      <td>7.3</td>\n",
       "      <td>13.7</td>\n",
       "      <td>19.6</td>\n",
       "      <td>21.5</td>\n",
       "      <td>24.5</td>\n",
       "    </tr>\n",
       "    <tr>\n",
       "      <th>2</th>\n",
       "      <td>1ヶ月に15時間以上30時間未満(1日30分~60分程度)</td>\n",
       "      <td>5</td>\n",
       "      <td>7.5</td>\n",
       "      <td>18.2</td>\n",
       "      <td>14.5</td>\n",
       "      <td>20.1</td>\n",
       "      <td>16.4</td>\n",
       "      <td>17.9</td>\n",
       "    </tr>\n",
       "    <tr>\n",
       "      <th>3</th>\n",
       "      <td>1ヶ月に30時間以上60時間未満(1日1~2時間程度)</td>\n",
       "      <td>25</td>\n",
       "      <td>24.5</td>\n",
       "      <td>32.7</td>\n",
       "      <td>35.7</td>\n",
       "      <td>23.9</td>\n",
       "      <td>18.1</td>\n",
       "      <td>20.2</td>\n",
       "    </tr>\n",
       "    <tr>\n",
       "      <th>4</th>\n",
       "      <td>1ヶ月に60時間以上(1日2時間以上)</td>\n",
       "      <td>70</td>\n",
       "      <td>62.3</td>\n",
       "      <td>36.4</td>\n",
       "      <td>30.4</td>\n",
       "      <td>25.4</td>\n",
       "      <td>19.6</td>\n",
       "      <td>10.7</td>\n",
       "    </tr>\n",
       "    <tr>\n",
       "      <th>5</th>\n",
       "      <td>無回答</td>\n",
       "      <td>0</td>\n",
       "      <td>0.0</td>\n",
       "      <td>0.0</td>\n",
       "      <td>0.0</td>\n",
       "      <td>0.0</td>\n",
       "      <td>2.3</td>\n",
       "      <td>0.6</td>\n",
       "    </tr>\n",
       "  </tbody>\n",
       "</table>\n",
       "</div>"
      ],
      "text/plain": [
       "                       Attribute  19歳以下  20歳代  30歳代  40歳代  50歳代  60歲代  70歲以上\n",
       "0             1ヶ月に5時間未満(1日10分未満)      0   0.9   5.5   5.7  11.0  22.1   26.1\n",
       "1   1ヶ月に5時間以上15時間未満(1日10分~30分程度)      0   4.7   7.3  13.7  19.6  21.5   24.5\n",
       "2  1ヶ月に15時間以上30時間未満(1日30分~60分程度)      5   7.5  18.2  14.5  20.1  16.4   17.9\n",
       "3    1ヶ月に30時間以上60時間未満(1日1~2時間程度)     25  24.5  32.7  35.7  23.9  18.1   20.2\n",
       "4            1ヶ月に60時間以上(1日2時間以上)     70  62.3  36.4  30.4  25.4  19.6   10.7\n",
       "5                            無回答      0   0.0   0.0   0.0   0.0   2.3    0.6"
      ]
     },
     "execution_count": 205,
     "metadata": {},
     "output_type": "execute_result"
    }
   ],
   "source": [
    "df_utf"
   ]
  },
  {
   "cell_type": "code",
   "execution_count": 206,
   "id": "0a967494",
   "metadata": {},
   "outputs": [
    {
     "data": {
      "application/vnd.plotly.v1+json": {
       "config": {
        "plotlyServerURL": "https://plot.ly"
       },
       "data": [
        {
         "alignmentgroup": "True",
         "hovertemplate": "Attribute=%{x}<br>19歳以下=%{y}<extra></extra>",
         "legendgroup": "",
         "marker": {
          "color": "#636efa",
          "pattern": {
           "shape": ""
          }
         },
         "name": "",
         "offsetgroup": "",
         "orientation": "v",
         "showlegend": false,
         "textposition": "auto",
         "type": "bar",
         "x": [
          "1ヶ月に5時間未満(1日10分未満)",
          "1ヶ月に5時間以上15時間未満(1日10分~30分程度)",
          "1ヶ月に15時間以上30時間未満(1日30分~60分程度)",
          "1ヶ月に30時間以上60時間未満(1日1~2時間程度)",
          "1ヶ月に60時間以上(1日2時間以上)",
          "無回答"
         ],
         "xaxis": "x",
         "y": [
          0,
          0,
          5,
          25,
          70,
          0
         ],
         "yaxis": "y"
        }
       ],
       "layout": {
        "barmode": "relative",
        "legend": {
         "tracegroupgap": 0
        },
        "margin": {
         "t": 60
        },
        "template": {
         "data": {
          "bar": [
           {
            "error_x": {
             "color": "#2a3f5f"
            },
            "error_y": {
             "color": "#2a3f5f"
            },
            "marker": {
             "line": {
              "color": "#E5ECF6",
              "width": 0.5
             },
             "pattern": {
              "fillmode": "overlay",
              "size": 10,
              "solidity": 0.2
             }
            },
            "type": "bar"
           }
          ],
          "barpolar": [
           {
            "marker": {
             "line": {
              "color": "#E5ECF6",
              "width": 0.5
             },
             "pattern": {
              "fillmode": "overlay",
              "size": 10,
              "solidity": 0.2
             }
            },
            "type": "barpolar"
           }
          ],
          "carpet": [
           {
            "aaxis": {
             "endlinecolor": "#2a3f5f",
             "gridcolor": "white",
             "linecolor": "white",
             "minorgridcolor": "white",
             "startlinecolor": "#2a3f5f"
            },
            "baxis": {
             "endlinecolor": "#2a3f5f",
             "gridcolor": "white",
             "linecolor": "white",
             "minorgridcolor": "white",
             "startlinecolor": "#2a3f5f"
            },
            "type": "carpet"
           }
          ],
          "choropleth": [
           {
            "colorbar": {
             "outlinewidth": 0,
             "ticks": ""
            },
            "type": "choropleth"
           }
          ],
          "contour": [
           {
            "colorbar": {
             "outlinewidth": 0,
             "ticks": ""
            },
            "colorscale": [
             [
              0,
              "#0d0887"
             ],
             [
              0.1111111111111111,
              "#46039f"
             ],
             [
              0.2222222222222222,
              "#7201a8"
             ],
             [
              0.3333333333333333,
              "#9c179e"
             ],
             [
              0.4444444444444444,
              "#bd3786"
             ],
             [
              0.5555555555555556,
              "#d8576b"
             ],
             [
              0.6666666666666666,
              "#ed7953"
             ],
             [
              0.7777777777777778,
              "#fb9f3a"
             ],
             [
              0.8888888888888888,
              "#fdca26"
             ],
             [
              1,
              "#f0f921"
             ]
            ],
            "type": "contour"
           }
          ],
          "contourcarpet": [
           {
            "colorbar": {
             "outlinewidth": 0,
             "ticks": ""
            },
            "type": "contourcarpet"
           }
          ],
          "heatmap": [
           {
            "colorbar": {
             "outlinewidth": 0,
             "ticks": ""
            },
            "colorscale": [
             [
              0,
              "#0d0887"
             ],
             [
              0.1111111111111111,
              "#46039f"
             ],
             [
              0.2222222222222222,
              "#7201a8"
             ],
             [
              0.3333333333333333,
              "#9c179e"
             ],
             [
              0.4444444444444444,
              "#bd3786"
             ],
             [
              0.5555555555555556,
              "#d8576b"
             ],
             [
              0.6666666666666666,
              "#ed7953"
             ],
             [
              0.7777777777777778,
              "#fb9f3a"
             ],
             [
              0.8888888888888888,
              "#fdca26"
             ],
             [
              1,
              "#f0f921"
             ]
            ],
            "type": "heatmap"
           }
          ],
          "heatmapgl": [
           {
            "colorbar": {
             "outlinewidth": 0,
             "ticks": ""
            },
            "colorscale": [
             [
              0,
              "#0d0887"
             ],
             [
              0.1111111111111111,
              "#46039f"
             ],
             [
              0.2222222222222222,
              "#7201a8"
             ],
             [
              0.3333333333333333,
              "#9c179e"
             ],
             [
              0.4444444444444444,
              "#bd3786"
             ],
             [
              0.5555555555555556,
              "#d8576b"
             ],
             [
              0.6666666666666666,
              "#ed7953"
             ],
             [
              0.7777777777777778,
              "#fb9f3a"
             ],
             [
              0.8888888888888888,
              "#fdca26"
             ],
             [
              1,
              "#f0f921"
             ]
            ],
            "type": "heatmapgl"
           }
          ],
          "histogram": [
           {
            "marker": {
             "pattern": {
              "fillmode": "overlay",
              "size": 10,
              "solidity": 0.2
             }
            },
            "type": "histogram"
           }
          ],
          "histogram2d": [
           {
            "colorbar": {
             "outlinewidth": 0,
             "ticks": ""
            },
            "colorscale": [
             [
              0,
              "#0d0887"
             ],
             [
              0.1111111111111111,
              "#46039f"
             ],
             [
              0.2222222222222222,
              "#7201a8"
             ],
             [
              0.3333333333333333,
              "#9c179e"
             ],
             [
              0.4444444444444444,
              "#bd3786"
             ],
             [
              0.5555555555555556,
              "#d8576b"
             ],
             [
              0.6666666666666666,
              "#ed7953"
             ],
             [
              0.7777777777777778,
              "#fb9f3a"
             ],
             [
              0.8888888888888888,
              "#fdca26"
             ],
             [
              1,
              "#f0f921"
             ]
            ],
            "type": "histogram2d"
           }
          ],
          "histogram2dcontour": [
           {
            "colorbar": {
             "outlinewidth": 0,
             "ticks": ""
            },
            "colorscale": [
             [
              0,
              "#0d0887"
             ],
             [
              0.1111111111111111,
              "#46039f"
             ],
             [
              0.2222222222222222,
              "#7201a8"
             ],
             [
              0.3333333333333333,
              "#9c179e"
             ],
             [
              0.4444444444444444,
              "#bd3786"
             ],
             [
              0.5555555555555556,
              "#d8576b"
             ],
             [
              0.6666666666666666,
              "#ed7953"
             ],
             [
              0.7777777777777778,
              "#fb9f3a"
             ],
             [
              0.8888888888888888,
              "#fdca26"
             ],
             [
              1,
              "#f0f921"
             ]
            ],
            "type": "histogram2dcontour"
           }
          ],
          "mesh3d": [
           {
            "colorbar": {
             "outlinewidth": 0,
             "ticks": ""
            },
            "type": "mesh3d"
           }
          ],
          "parcoords": [
           {
            "line": {
             "colorbar": {
              "outlinewidth": 0,
              "ticks": ""
             }
            },
            "type": "parcoords"
           }
          ],
          "pie": [
           {
            "automargin": true,
            "type": "pie"
           }
          ],
          "scatter": [
           {
            "fillpattern": {
             "fillmode": "overlay",
             "size": 10,
             "solidity": 0.2
            },
            "type": "scatter"
           }
          ],
          "scatter3d": [
           {
            "line": {
             "colorbar": {
              "outlinewidth": 0,
              "ticks": ""
             }
            },
            "marker": {
             "colorbar": {
              "outlinewidth": 0,
              "ticks": ""
             }
            },
            "type": "scatter3d"
           }
          ],
          "scattercarpet": [
           {
            "marker": {
             "colorbar": {
              "outlinewidth": 0,
              "ticks": ""
             }
            },
            "type": "scattercarpet"
           }
          ],
          "scattergeo": [
           {
            "marker": {
             "colorbar": {
              "outlinewidth": 0,
              "ticks": ""
             }
            },
            "type": "scattergeo"
           }
          ],
          "scattergl": [
           {
            "marker": {
             "colorbar": {
              "outlinewidth": 0,
              "ticks": ""
             }
            },
            "type": "scattergl"
           }
          ],
          "scattermapbox": [
           {
            "marker": {
             "colorbar": {
              "outlinewidth": 0,
              "ticks": ""
             }
            },
            "type": "scattermapbox"
           }
          ],
          "scatterpolar": [
           {
            "marker": {
             "colorbar": {
              "outlinewidth": 0,
              "ticks": ""
             }
            },
            "type": "scatterpolar"
           }
          ],
          "scatterpolargl": [
           {
            "marker": {
             "colorbar": {
              "outlinewidth": 0,
              "ticks": ""
             }
            },
            "type": "scatterpolargl"
           }
          ],
          "scatterternary": [
           {
            "marker": {
             "colorbar": {
              "outlinewidth": 0,
              "ticks": ""
             }
            },
            "type": "scatterternary"
           }
          ],
          "surface": [
           {
            "colorbar": {
             "outlinewidth": 0,
             "ticks": ""
            },
            "colorscale": [
             [
              0,
              "#0d0887"
             ],
             [
              0.1111111111111111,
              "#46039f"
             ],
             [
              0.2222222222222222,
              "#7201a8"
             ],
             [
              0.3333333333333333,
              "#9c179e"
             ],
             [
              0.4444444444444444,
              "#bd3786"
             ],
             [
              0.5555555555555556,
              "#d8576b"
             ],
             [
              0.6666666666666666,
              "#ed7953"
             ],
             [
              0.7777777777777778,
              "#fb9f3a"
             ],
             [
              0.8888888888888888,
              "#fdca26"
             ],
             [
              1,
              "#f0f921"
             ]
            ],
            "type": "surface"
           }
          ],
          "table": [
           {
            "cells": {
             "fill": {
              "color": "#EBF0F8"
             },
             "line": {
              "color": "white"
             }
            },
            "header": {
             "fill": {
              "color": "#C8D4E3"
             },
             "line": {
              "color": "white"
             }
            },
            "type": "table"
           }
          ]
         },
         "layout": {
          "annotationdefaults": {
           "arrowcolor": "#2a3f5f",
           "arrowhead": 0,
           "arrowwidth": 1
          },
          "autotypenumbers": "strict",
          "coloraxis": {
           "colorbar": {
            "outlinewidth": 0,
            "ticks": ""
           }
          },
          "colorscale": {
           "diverging": [
            [
             0,
             "#8e0152"
            ],
            [
             0.1,
             "#c51b7d"
            ],
            [
             0.2,
             "#de77ae"
            ],
            [
             0.3,
             "#f1b6da"
            ],
            [
             0.4,
             "#fde0ef"
            ],
            [
             0.5,
             "#f7f7f7"
            ],
            [
             0.6,
             "#e6f5d0"
            ],
            [
             0.7,
             "#b8e186"
            ],
            [
             0.8,
             "#7fbc41"
            ],
            [
             0.9,
             "#4d9221"
            ],
            [
             1,
             "#276419"
            ]
           ],
           "sequential": [
            [
             0,
             "#0d0887"
            ],
            [
             0.1111111111111111,
             "#46039f"
            ],
            [
             0.2222222222222222,
             "#7201a8"
            ],
            [
             0.3333333333333333,
             "#9c179e"
            ],
            [
             0.4444444444444444,
             "#bd3786"
            ],
            [
             0.5555555555555556,
             "#d8576b"
            ],
            [
             0.6666666666666666,
             "#ed7953"
            ],
            [
             0.7777777777777778,
             "#fb9f3a"
            ],
            [
             0.8888888888888888,
             "#fdca26"
            ],
            [
             1,
             "#f0f921"
            ]
           ],
           "sequentialminus": [
            [
             0,
             "#0d0887"
            ],
            [
             0.1111111111111111,
             "#46039f"
            ],
            [
             0.2222222222222222,
             "#7201a8"
            ],
            [
             0.3333333333333333,
             "#9c179e"
            ],
            [
             0.4444444444444444,
             "#bd3786"
            ],
            [
             0.5555555555555556,
             "#d8576b"
            ],
            [
             0.6666666666666666,
             "#ed7953"
            ],
            [
             0.7777777777777778,
             "#fb9f3a"
            ],
            [
             0.8888888888888888,
             "#fdca26"
            ],
            [
             1,
             "#f0f921"
            ]
           ]
          },
          "colorway": [
           "#636efa",
           "#EF553B",
           "#00cc96",
           "#ab63fa",
           "#FFA15A",
           "#19d3f3",
           "#FF6692",
           "#B6E880",
           "#FF97FF",
           "#FECB52"
          ],
          "font": {
           "color": "#2a3f5f"
          },
          "geo": {
           "bgcolor": "white",
           "lakecolor": "white",
           "landcolor": "#E5ECF6",
           "showlakes": true,
           "showland": true,
           "subunitcolor": "white"
          },
          "hoverlabel": {
           "align": "left"
          },
          "hovermode": "closest",
          "mapbox": {
           "style": "light"
          },
          "paper_bgcolor": "white",
          "plot_bgcolor": "#E5ECF6",
          "polar": {
           "angularaxis": {
            "gridcolor": "white",
            "linecolor": "white",
            "ticks": ""
           },
           "bgcolor": "#E5ECF6",
           "radialaxis": {
            "gridcolor": "white",
            "linecolor": "white",
            "ticks": ""
           }
          },
          "scene": {
           "xaxis": {
            "backgroundcolor": "#E5ECF6",
            "gridcolor": "white",
            "gridwidth": 2,
            "linecolor": "white",
            "showbackground": true,
            "ticks": "",
            "zerolinecolor": "white"
           },
           "yaxis": {
            "backgroundcolor": "#E5ECF6",
            "gridcolor": "white",
            "gridwidth": 2,
            "linecolor": "white",
            "showbackground": true,
            "ticks": "",
            "zerolinecolor": "white"
           },
           "zaxis": {
            "backgroundcolor": "#E5ECF6",
            "gridcolor": "white",
            "gridwidth": 2,
            "linecolor": "white",
            "showbackground": true,
            "ticks": "",
            "zerolinecolor": "white"
           }
          },
          "shapedefaults": {
           "line": {
            "color": "#2a3f5f"
           }
          },
          "ternary": {
           "aaxis": {
            "gridcolor": "white",
            "linecolor": "white",
            "ticks": ""
           },
           "baxis": {
            "gridcolor": "white",
            "linecolor": "white",
            "ticks": ""
           },
           "bgcolor": "#E5ECF6",
           "caxis": {
            "gridcolor": "white",
            "linecolor": "white",
            "ticks": ""
           }
          },
          "title": {
           "x": 0.05
          },
          "xaxis": {
           "automargin": true,
           "gridcolor": "white",
           "linecolor": "white",
           "ticks": "",
           "title": {
            "standoff": 15
           },
           "zerolinecolor": "white",
           "zerolinewidth": 2
          },
          "yaxis": {
           "automargin": true,
           "gridcolor": "white",
           "linecolor": "white",
           "ticks": "",
           "title": {
            "standoff": 15
           },
           "zerolinecolor": "white",
           "zerolinewidth": 2
          }
         }
        },
        "xaxis": {
         "anchor": "y",
         "domain": [
          0,
          1
         ],
         "title": {
          "text": "Attribute"
         }
        },
        "yaxis": {
         "anchor": "x",
         "domain": [
          0,
          1
         ],
         "title": {
          "text": "19歳以下"
         }
        }
       }
      },
      "text/html": [
       "<div>                            <div id=\"be1bcf0d-0b13-4329-92a3-c8795ca79bc6\" class=\"plotly-graph-div\" style=\"height:525px; width:100%;\"></div>            <script type=\"text/javascript\">                require([\"plotly\"], function(Plotly) {                    window.PLOTLYENV=window.PLOTLYENV || {};                                    if (document.getElementById(\"be1bcf0d-0b13-4329-92a3-c8795ca79bc6\")) {                    Plotly.newPlot(                        \"be1bcf0d-0b13-4329-92a3-c8795ca79bc6\",                        [{\"alignmentgroup\":\"True\",\"hovertemplate\":\"Attribute=%{x}<br>19\\u6b73\\u4ee5\\u4e0b=%{y}<extra></extra>\",\"legendgroup\":\"\",\"marker\":{\"color\":\"#636efa\",\"pattern\":{\"shape\":\"\"}},\"name\":\"\",\"offsetgroup\":\"\",\"orientation\":\"v\",\"showlegend\":false,\"textposition\":\"auto\",\"x\":[\"1\\u30f6\\u6708\\u306b5\\u6642\\u9593\\u672a\\u6e80(1\\u65e510\\u5206\\u672a\\u6e80)\",\"1\\u30f6\\u6708\\u306b5\\u6642\\u9593\\u4ee5\\u4e0a15\\u6642\\u9593\\u672a\\u6e80(1\\u65e510\\u5206~30\\u5206\\u7a0b\\u5ea6)\",\"1\\u30f6\\u6708\\u306b15\\u6642\\u9593\\u4ee5\\u4e0a30\\u6642\\u9593\\u672a\\u6e80(1\\u65e530\\u5206~60\\u5206\\u7a0b\\u5ea6)\",\"1\\u30f6\\u6708\\u306b30\\u6642\\u9593\\u4ee5\\u4e0a60\\u6642\\u9593\\u672a\\u6e80(1\\u65e51~2\\u6642\\u9593\\u7a0b\\u5ea6)\",\"1\\u30f6\\u6708\\u306b60\\u6642\\u9593\\u4ee5\\u4e0a(1\\u65e52\\u6642\\u9593\\u4ee5\\u4e0a)\",\"\\u7121\\u56de\\u7b54\"],\"xaxis\":\"x\",\"y\":[0,0,5,25,70,0],\"yaxis\":\"y\",\"type\":\"bar\"}],                        {\"template\":{\"data\":{\"histogram2dcontour\":[{\"type\":\"histogram2dcontour\",\"colorbar\":{\"outlinewidth\":0,\"ticks\":\"\"},\"colorscale\":[[0.0,\"#0d0887\"],[0.1111111111111111,\"#46039f\"],[0.2222222222222222,\"#7201a8\"],[0.3333333333333333,\"#9c179e\"],[0.4444444444444444,\"#bd3786\"],[0.5555555555555556,\"#d8576b\"],[0.6666666666666666,\"#ed7953\"],[0.7777777777777778,\"#fb9f3a\"],[0.8888888888888888,\"#fdca26\"],[1.0,\"#f0f921\"]]}],\"choropleth\":[{\"type\":\"choropleth\",\"colorbar\":{\"outlinewidth\":0,\"ticks\":\"\"}}],\"histogram2d\":[{\"type\":\"histogram2d\",\"colorbar\":{\"outlinewidth\":0,\"ticks\":\"\"},\"colorscale\":[[0.0,\"#0d0887\"],[0.1111111111111111,\"#46039f\"],[0.2222222222222222,\"#7201a8\"],[0.3333333333333333,\"#9c179e\"],[0.4444444444444444,\"#bd3786\"],[0.5555555555555556,\"#d8576b\"],[0.6666666666666666,\"#ed7953\"],[0.7777777777777778,\"#fb9f3a\"],[0.8888888888888888,\"#fdca26\"],[1.0,\"#f0f921\"]]}],\"heatmap\":[{\"type\":\"heatmap\",\"colorbar\":{\"outlinewidth\":0,\"ticks\":\"\"},\"colorscale\":[[0.0,\"#0d0887\"],[0.1111111111111111,\"#46039f\"],[0.2222222222222222,\"#7201a8\"],[0.3333333333333333,\"#9c179e\"],[0.4444444444444444,\"#bd3786\"],[0.5555555555555556,\"#d8576b\"],[0.6666666666666666,\"#ed7953\"],[0.7777777777777778,\"#fb9f3a\"],[0.8888888888888888,\"#fdca26\"],[1.0,\"#f0f921\"]]}],\"heatmapgl\":[{\"type\":\"heatmapgl\",\"colorbar\":{\"outlinewidth\":0,\"ticks\":\"\"},\"colorscale\":[[0.0,\"#0d0887\"],[0.1111111111111111,\"#46039f\"],[0.2222222222222222,\"#7201a8\"],[0.3333333333333333,\"#9c179e\"],[0.4444444444444444,\"#bd3786\"],[0.5555555555555556,\"#d8576b\"],[0.6666666666666666,\"#ed7953\"],[0.7777777777777778,\"#fb9f3a\"],[0.8888888888888888,\"#fdca26\"],[1.0,\"#f0f921\"]]}],\"contourcarpet\":[{\"type\":\"contourcarpet\",\"colorbar\":{\"outlinewidth\":0,\"ticks\":\"\"}}],\"contour\":[{\"type\":\"contour\",\"colorbar\":{\"outlinewidth\":0,\"ticks\":\"\"},\"colorscale\":[[0.0,\"#0d0887\"],[0.1111111111111111,\"#46039f\"],[0.2222222222222222,\"#7201a8\"],[0.3333333333333333,\"#9c179e\"],[0.4444444444444444,\"#bd3786\"],[0.5555555555555556,\"#d8576b\"],[0.6666666666666666,\"#ed7953\"],[0.7777777777777778,\"#fb9f3a\"],[0.8888888888888888,\"#fdca26\"],[1.0,\"#f0f921\"]]}],\"surface\":[{\"type\":\"surface\",\"colorbar\":{\"outlinewidth\":0,\"ticks\":\"\"},\"colorscale\":[[0.0,\"#0d0887\"],[0.1111111111111111,\"#46039f\"],[0.2222222222222222,\"#7201a8\"],[0.3333333333333333,\"#9c179e\"],[0.4444444444444444,\"#bd3786\"],[0.5555555555555556,\"#d8576b\"],[0.6666666666666666,\"#ed7953\"],[0.7777777777777778,\"#fb9f3a\"],[0.8888888888888888,\"#fdca26\"],[1.0,\"#f0f921\"]]}],\"mesh3d\":[{\"type\":\"mesh3d\",\"colorbar\":{\"outlinewidth\":0,\"ticks\":\"\"}}],\"scatter\":[{\"fillpattern\":{\"fillmode\":\"overlay\",\"size\":10,\"solidity\":0.2},\"type\":\"scatter\"}],\"parcoords\":[{\"type\":\"parcoords\",\"line\":{\"colorbar\":{\"outlinewidth\":0,\"ticks\":\"\"}}}],\"scatterpolargl\":[{\"type\":\"scatterpolargl\",\"marker\":{\"colorbar\":{\"outlinewidth\":0,\"ticks\":\"\"}}}],\"bar\":[{\"error_x\":{\"color\":\"#2a3f5f\"},\"error_y\":{\"color\":\"#2a3f5f\"},\"marker\":{\"line\":{\"color\":\"#E5ECF6\",\"width\":0.5},\"pattern\":{\"fillmode\":\"overlay\",\"size\":10,\"solidity\":0.2}},\"type\":\"bar\"}],\"scattergeo\":[{\"type\":\"scattergeo\",\"marker\":{\"colorbar\":{\"outlinewidth\":0,\"ticks\":\"\"}}}],\"scatterpolar\":[{\"type\":\"scatterpolar\",\"marker\":{\"colorbar\":{\"outlinewidth\":0,\"ticks\":\"\"}}}],\"histogram\":[{\"marker\":{\"pattern\":{\"fillmode\":\"overlay\",\"size\":10,\"solidity\":0.2}},\"type\":\"histogram\"}],\"scattergl\":[{\"type\":\"scattergl\",\"marker\":{\"colorbar\":{\"outlinewidth\":0,\"ticks\":\"\"}}}],\"scatter3d\":[{\"type\":\"scatter3d\",\"line\":{\"colorbar\":{\"outlinewidth\":0,\"ticks\":\"\"}},\"marker\":{\"colorbar\":{\"outlinewidth\":0,\"ticks\":\"\"}}}],\"scattermapbox\":[{\"type\":\"scattermapbox\",\"marker\":{\"colorbar\":{\"outlinewidth\":0,\"ticks\":\"\"}}}],\"scatterternary\":[{\"type\":\"scatterternary\",\"marker\":{\"colorbar\":{\"outlinewidth\":0,\"ticks\":\"\"}}}],\"scattercarpet\":[{\"type\":\"scattercarpet\",\"marker\":{\"colorbar\":{\"outlinewidth\":0,\"ticks\":\"\"}}}],\"carpet\":[{\"aaxis\":{\"endlinecolor\":\"#2a3f5f\",\"gridcolor\":\"white\",\"linecolor\":\"white\",\"minorgridcolor\":\"white\",\"startlinecolor\":\"#2a3f5f\"},\"baxis\":{\"endlinecolor\":\"#2a3f5f\",\"gridcolor\":\"white\",\"linecolor\":\"white\",\"minorgridcolor\":\"white\",\"startlinecolor\":\"#2a3f5f\"},\"type\":\"carpet\"}],\"table\":[{\"cells\":{\"fill\":{\"color\":\"#EBF0F8\"},\"line\":{\"color\":\"white\"}},\"header\":{\"fill\":{\"color\":\"#C8D4E3\"},\"line\":{\"color\":\"white\"}},\"type\":\"table\"}],\"barpolar\":[{\"marker\":{\"line\":{\"color\":\"#E5ECF6\",\"width\":0.5},\"pattern\":{\"fillmode\":\"overlay\",\"size\":10,\"solidity\":0.2}},\"type\":\"barpolar\"}],\"pie\":[{\"automargin\":true,\"type\":\"pie\"}]},\"layout\":{\"autotypenumbers\":\"strict\",\"colorway\":[\"#636efa\",\"#EF553B\",\"#00cc96\",\"#ab63fa\",\"#FFA15A\",\"#19d3f3\",\"#FF6692\",\"#B6E880\",\"#FF97FF\",\"#FECB52\"],\"font\":{\"color\":\"#2a3f5f\"},\"hovermode\":\"closest\",\"hoverlabel\":{\"align\":\"left\"},\"paper_bgcolor\":\"white\",\"plot_bgcolor\":\"#E5ECF6\",\"polar\":{\"bgcolor\":\"#E5ECF6\",\"angularaxis\":{\"gridcolor\":\"white\",\"linecolor\":\"white\",\"ticks\":\"\"},\"radialaxis\":{\"gridcolor\":\"white\",\"linecolor\":\"white\",\"ticks\":\"\"}},\"ternary\":{\"bgcolor\":\"#E5ECF6\",\"aaxis\":{\"gridcolor\":\"white\",\"linecolor\":\"white\",\"ticks\":\"\"},\"baxis\":{\"gridcolor\":\"white\",\"linecolor\":\"white\",\"ticks\":\"\"},\"caxis\":{\"gridcolor\":\"white\",\"linecolor\":\"white\",\"ticks\":\"\"}},\"coloraxis\":{\"colorbar\":{\"outlinewidth\":0,\"ticks\":\"\"}},\"colorscale\":{\"sequential\":[[0.0,\"#0d0887\"],[0.1111111111111111,\"#46039f\"],[0.2222222222222222,\"#7201a8\"],[0.3333333333333333,\"#9c179e\"],[0.4444444444444444,\"#bd3786\"],[0.5555555555555556,\"#d8576b\"],[0.6666666666666666,\"#ed7953\"],[0.7777777777777778,\"#fb9f3a\"],[0.8888888888888888,\"#fdca26\"],[1.0,\"#f0f921\"]],\"sequentialminus\":[[0.0,\"#0d0887\"],[0.1111111111111111,\"#46039f\"],[0.2222222222222222,\"#7201a8\"],[0.3333333333333333,\"#9c179e\"],[0.4444444444444444,\"#bd3786\"],[0.5555555555555556,\"#d8576b\"],[0.6666666666666666,\"#ed7953\"],[0.7777777777777778,\"#fb9f3a\"],[0.8888888888888888,\"#fdca26\"],[1.0,\"#f0f921\"]],\"diverging\":[[0,\"#8e0152\"],[0.1,\"#c51b7d\"],[0.2,\"#de77ae\"],[0.3,\"#f1b6da\"],[0.4,\"#fde0ef\"],[0.5,\"#f7f7f7\"],[0.6,\"#e6f5d0\"],[0.7,\"#b8e186\"],[0.8,\"#7fbc41\"],[0.9,\"#4d9221\"],[1,\"#276419\"]]},\"xaxis\":{\"gridcolor\":\"white\",\"linecolor\":\"white\",\"ticks\":\"\",\"title\":{\"standoff\":15},\"zerolinecolor\":\"white\",\"automargin\":true,\"zerolinewidth\":2},\"yaxis\":{\"gridcolor\":\"white\",\"linecolor\":\"white\",\"ticks\":\"\",\"title\":{\"standoff\":15},\"zerolinecolor\":\"white\",\"automargin\":true,\"zerolinewidth\":2},\"scene\":{\"xaxis\":{\"backgroundcolor\":\"#E5ECF6\",\"gridcolor\":\"white\",\"linecolor\":\"white\",\"showbackground\":true,\"ticks\":\"\",\"zerolinecolor\":\"white\",\"gridwidth\":2},\"yaxis\":{\"backgroundcolor\":\"#E5ECF6\",\"gridcolor\":\"white\",\"linecolor\":\"white\",\"showbackground\":true,\"ticks\":\"\",\"zerolinecolor\":\"white\",\"gridwidth\":2},\"zaxis\":{\"backgroundcolor\":\"#E5ECF6\",\"gridcolor\":\"white\",\"linecolor\":\"white\",\"showbackground\":true,\"ticks\":\"\",\"zerolinecolor\":\"white\",\"gridwidth\":2}},\"shapedefaults\":{\"line\":{\"color\":\"#2a3f5f\"}},\"annotationdefaults\":{\"arrowcolor\":\"#2a3f5f\",\"arrowhead\":0,\"arrowwidth\":1},\"geo\":{\"bgcolor\":\"white\",\"landcolor\":\"#E5ECF6\",\"subunitcolor\":\"white\",\"showland\":true,\"showlakes\":true,\"lakecolor\":\"white\"},\"title\":{\"x\":0.05},\"mapbox\":{\"style\":\"light\"}}},\"xaxis\":{\"anchor\":\"y\",\"domain\":[0.0,1.0],\"title\":{\"text\":\"Attribute\"}},\"yaxis\":{\"anchor\":\"x\",\"domain\":[0.0,1.0],\"title\":{\"text\":\"19\\u6b73\\u4ee5\\u4e0b\"}},\"legend\":{\"tracegroupgap\":0},\"margin\":{\"t\":60},\"barmode\":\"relative\"},                        {\"responsive\": true}                    ).then(function(){\n",
       "                            \n",
       "var gd = document.getElementById('be1bcf0d-0b13-4329-92a3-c8795ca79bc6');\n",
       "var x = new MutationObserver(function (mutations, observer) {{\n",
       "        var display = window.getComputedStyle(gd).display;\n",
       "        if (!display || display === 'none') {{\n",
       "            console.log([gd, 'removed!']);\n",
       "            Plotly.purge(gd);\n",
       "            observer.disconnect();\n",
       "        }}\n",
       "}});\n",
       "\n",
       "// Listen for the removal of the full notebook cells\n",
       "var notebookContainer = gd.closest('#notebook-container');\n",
       "if (notebookContainer) {{\n",
       "    x.observe(notebookContainer, {childList: true});\n",
       "}}\n",
       "\n",
       "// Listen for the clearing of the current output cell\n",
       "var outputEl = gd.closest('.output');\n",
       "if (outputEl) {{\n",
       "    x.observe(outputEl, {childList: true});\n",
       "}}\n",
       "\n",
       "                        })                };                });            </script>        </div>"
      ]
     },
     "metadata": {},
     "output_type": "display_data"
    }
   ],
   "source": [
    "fig = px.bar(df_utf, x='Attribute', y='19歳以下')\n",
    "fig.show()"
   ]
  },
  {
   "cell_type": "code",
   "execution_count": 210,
   "id": "9712cfb9",
   "metadata": {},
   "outputs": [
    {
     "data": {
      "application/vnd.plotly.v1+json": {
       "config": {
        "plotlyServerURL": "https://plot.ly"
       },
       "data": [
        {
         "alignmentgroup": "True",
         "hovertemplate": "Subject=19歳以下<br>label=%{x}<br>value=%{y}<extra></extra>",
         "legendgroup": "19歳以下",
         "marker": {
          "color": "#636efa",
          "pattern": {
           "shape": ""
          }
         },
         "name": "19歳以下",
         "offsetgroup": "19歳以下",
         "orientation": "v",
         "showlegend": true,
         "textposition": "auto",
         "type": "bar",
         "x": [
          "1ヶ月に5時間未満(1日10分未満)",
          "1ヶ月に5時間以上15時間未満(1日10分~30分程度)",
          "1ヶ月に15時間以上30時間未満(1日30分~60分程度)",
          "1ヶ月に30時間以上60時間未満(1日1~2時間程度)",
          "1ヶ月に60時間以上(1日2時間以上)",
          "無回答"
         ],
         "xaxis": "x",
         "y": [
          0,
          0,
          5,
          25,
          70,
          0
         ],
         "yaxis": "y"
        },
        {
         "alignmentgroup": "True",
         "hovertemplate": "Subject=20歳代<br>label=%{x}<br>value=%{y}<extra></extra>",
         "legendgroup": "20歳代",
         "marker": {
          "color": "#EF553B",
          "pattern": {
           "shape": ""
          }
         },
         "name": "20歳代",
         "offsetgroup": "20歳代",
         "orientation": "v",
         "showlegend": true,
         "textposition": "auto",
         "type": "bar",
         "x": [
          "1ヶ月に5時間未満(1日10分未満)",
          "1ヶ月に5時間以上15時間未満(1日10分~30分程度)",
          "1ヶ月に15時間以上30時間未満(1日30分~60分程度)",
          "1ヶ月に30時間以上60時間未満(1日1~2時間程度)",
          "1ヶ月に60時間以上(1日2時間以上)",
          "無回答"
         ],
         "xaxis": "x",
         "y": [
          0.9,
          4.7,
          7.5,
          24.5,
          62.3,
          0
         ],
         "yaxis": "y"
        },
        {
         "alignmentgroup": "True",
         "hovertemplate": "Subject=30歳代<br>label=%{x}<br>value=%{y}<extra></extra>",
         "legendgroup": "30歳代",
         "marker": {
          "color": "#00cc96",
          "pattern": {
           "shape": ""
          }
         },
         "name": "30歳代",
         "offsetgroup": "30歳代",
         "orientation": "v",
         "showlegend": true,
         "textposition": "auto",
         "type": "bar",
         "x": [
          "1ヶ月に5時間未満(1日10分未満)",
          "1ヶ月に5時間以上15時間未満(1日10分~30分程度)",
          "1ヶ月に15時間以上30時間未満(1日30分~60分程度)",
          "1ヶ月に30時間以上60時間未満(1日1~2時間程度)",
          "1ヶ月に60時間以上(1日2時間以上)",
          "無回答"
         ],
         "xaxis": "x",
         "y": [
          5.5,
          7.3,
          18.2,
          32.7,
          36.4,
          0
         ],
         "yaxis": "y"
        },
        {
         "alignmentgroup": "True",
         "hovertemplate": "Subject=40歳代<br>label=%{x}<br>value=%{y}<extra></extra>",
         "legendgroup": "40歳代",
         "marker": {
          "color": "#ab63fa",
          "pattern": {
           "shape": ""
          }
         },
         "name": "40歳代",
         "offsetgroup": "40歳代",
         "orientation": "v",
         "showlegend": true,
         "textposition": "auto",
         "type": "bar",
         "x": [
          "1ヶ月に5時間未満(1日10分未満)",
          "1ヶ月に5時間以上15時間未満(1日10分~30分程度)",
          "1ヶ月に15時間以上30時間未満(1日30分~60分程度)",
          "1ヶ月に30時間以上60時間未満(1日1~2時間程度)",
          "1ヶ月に60時間以上(1日2時間以上)",
          "無回答"
         ],
         "xaxis": "x",
         "y": [
          5.7,
          13.7,
          14.5,
          35.7,
          30.4,
          0
         ],
         "yaxis": "y"
        },
        {
         "alignmentgroup": "True",
         "hovertemplate": "Subject=50歳代<br>label=%{x}<br>value=%{y}<extra></extra>",
         "legendgroup": "50歳代",
         "marker": {
          "color": "#FFA15A",
          "pattern": {
           "shape": ""
          }
         },
         "name": "50歳代",
         "offsetgroup": "50歳代",
         "orientation": "v",
         "showlegend": true,
         "textposition": "auto",
         "type": "bar",
         "x": [
          "1ヶ月に5時間未満(1日10分未満)",
          "1ヶ月に5時間以上15時間未満(1日10分~30分程度)",
          "1ヶ月に15時間以上30時間未満(1日30分~60分程度)",
          "1ヶ月に30時間以上60時間未満(1日1~2時間程度)",
          "1ヶ月に60時間以上(1日2時間以上)",
          "無回答"
         ],
         "xaxis": "x",
         "y": [
          11,
          19.6,
          20.1,
          23.9,
          25.4,
          0
         ],
         "yaxis": "y"
        },
        {
         "alignmentgroup": "True",
         "hovertemplate": "Subject=60歲代<br>label=%{x}<br>value=%{y}<extra></extra>",
         "legendgroup": "60歲代",
         "marker": {
          "color": "#19d3f3",
          "pattern": {
           "shape": ""
          }
         },
         "name": "60歲代",
         "offsetgroup": "60歲代",
         "orientation": "v",
         "showlegend": true,
         "textposition": "auto",
         "type": "bar",
         "x": [
          "1ヶ月に5時間未満(1日10分未満)",
          "1ヶ月に5時間以上15時間未満(1日10分~30分程度)",
          "1ヶ月に15時間以上30時間未満(1日30分~60分程度)",
          "1ヶ月に30時間以上60時間未満(1日1~2時間程度)",
          "1ヶ月に60時間以上(1日2時間以上)",
          "無回答"
         ],
         "xaxis": "x",
         "y": [
          22.1,
          21.5,
          16.4,
          18.1,
          19.6,
          2.3
         ],
         "yaxis": "y"
        },
        {
         "alignmentgroup": "True",
         "hovertemplate": "Subject=70歲以上<br>label=%{x}<br>value=%{y}<extra></extra>",
         "legendgroup": "70歲以上",
         "marker": {
          "color": "#FF6692",
          "pattern": {
           "shape": ""
          }
         },
         "name": "70歲以上",
         "offsetgroup": "70歲以上",
         "orientation": "v",
         "showlegend": true,
         "textposition": "auto",
         "type": "bar",
         "x": [
          "1ヶ月に5時間未満(1日10分未満)",
          "1ヶ月に5時間以上15時間未満(1日10分~30分程度)",
          "1ヶ月に15時間以上30時間未満(1日30分~60分程度)",
          "1ヶ月に30時間以上60時間未満(1日1~2時間程度)",
          "1ヶ月に60時間以上(1日2時間以上)",
          "無回答"
         ],
         "xaxis": "x",
         "y": [
          26.1,
          24.5,
          17.9,
          20.2,
          10.7,
          0.6
         ],
         "yaxis": "y"
        }
       ],
       "layout": {
        "barmode": "group",
        "legend": {
         "title": {
          "text": "Subject"
         },
         "tracegroupgap": 0
        },
        "margin": {
         "t": 60
        },
        "template": {
         "data": {
          "bar": [
           {
            "error_x": {
             "color": "#2a3f5f"
            },
            "error_y": {
             "color": "#2a3f5f"
            },
            "marker": {
             "line": {
              "color": "#E5ECF6",
              "width": 0.5
             },
             "pattern": {
              "fillmode": "overlay",
              "size": 10,
              "solidity": 0.2
             }
            },
            "type": "bar"
           }
          ],
          "barpolar": [
           {
            "marker": {
             "line": {
              "color": "#E5ECF6",
              "width": 0.5
             },
             "pattern": {
              "fillmode": "overlay",
              "size": 10,
              "solidity": 0.2
             }
            },
            "type": "barpolar"
           }
          ],
          "carpet": [
           {
            "aaxis": {
             "endlinecolor": "#2a3f5f",
             "gridcolor": "white",
             "linecolor": "white",
             "minorgridcolor": "white",
             "startlinecolor": "#2a3f5f"
            },
            "baxis": {
             "endlinecolor": "#2a3f5f",
             "gridcolor": "white",
             "linecolor": "white",
             "minorgridcolor": "white",
             "startlinecolor": "#2a3f5f"
            },
            "type": "carpet"
           }
          ],
          "choropleth": [
           {
            "colorbar": {
             "outlinewidth": 0,
             "ticks": ""
            },
            "type": "choropleth"
           }
          ],
          "contour": [
           {
            "colorbar": {
             "outlinewidth": 0,
             "ticks": ""
            },
            "colorscale": [
             [
              0,
              "#0d0887"
             ],
             [
              0.1111111111111111,
              "#46039f"
             ],
             [
              0.2222222222222222,
              "#7201a8"
             ],
             [
              0.3333333333333333,
              "#9c179e"
             ],
             [
              0.4444444444444444,
              "#bd3786"
             ],
             [
              0.5555555555555556,
              "#d8576b"
             ],
             [
              0.6666666666666666,
              "#ed7953"
             ],
             [
              0.7777777777777778,
              "#fb9f3a"
             ],
             [
              0.8888888888888888,
              "#fdca26"
             ],
             [
              1,
              "#f0f921"
             ]
            ],
            "type": "contour"
           }
          ],
          "contourcarpet": [
           {
            "colorbar": {
             "outlinewidth": 0,
             "ticks": ""
            },
            "type": "contourcarpet"
           }
          ],
          "heatmap": [
           {
            "colorbar": {
             "outlinewidth": 0,
             "ticks": ""
            },
            "colorscale": [
             [
              0,
              "#0d0887"
             ],
             [
              0.1111111111111111,
              "#46039f"
             ],
             [
              0.2222222222222222,
              "#7201a8"
             ],
             [
              0.3333333333333333,
              "#9c179e"
             ],
             [
              0.4444444444444444,
              "#bd3786"
             ],
             [
              0.5555555555555556,
              "#d8576b"
             ],
             [
              0.6666666666666666,
              "#ed7953"
             ],
             [
              0.7777777777777778,
              "#fb9f3a"
             ],
             [
              0.8888888888888888,
              "#fdca26"
             ],
             [
              1,
              "#f0f921"
             ]
            ],
            "type": "heatmap"
           }
          ],
          "heatmapgl": [
           {
            "colorbar": {
             "outlinewidth": 0,
             "ticks": ""
            },
            "colorscale": [
             [
              0,
              "#0d0887"
             ],
             [
              0.1111111111111111,
              "#46039f"
             ],
             [
              0.2222222222222222,
              "#7201a8"
             ],
             [
              0.3333333333333333,
              "#9c179e"
             ],
             [
              0.4444444444444444,
              "#bd3786"
             ],
             [
              0.5555555555555556,
              "#d8576b"
             ],
             [
              0.6666666666666666,
              "#ed7953"
             ],
             [
              0.7777777777777778,
              "#fb9f3a"
             ],
             [
              0.8888888888888888,
              "#fdca26"
             ],
             [
              1,
              "#f0f921"
             ]
            ],
            "type": "heatmapgl"
           }
          ],
          "histogram": [
           {
            "marker": {
             "pattern": {
              "fillmode": "overlay",
              "size": 10,
              "solidity": 0.2
             }
            },
            "type": "histogram"
           }
          ],
          "histogram2d": [
           {
            "colorbar": {
             "outlinewidth": 0,
             "ticks": ""
            },
            "colorscale": [
             [
              0,
              "#0d0887"
             ],
             [
              0.1111111111111111,
              "#46039f"
             ],
             [
              0.2222222222222222,
              "#7201a8"
             ],
             [
              0.3333333333333333,
              "#9c179e"
             ],
             [
              0.4444444444444444,
              "#bd3786"
             ],
             [
              0.5555555555555556,
              "#d8576b"
             ],
             [
              0.6666666666666666,
              "#ed7953"
             ],
             [
              0.7777777777777778,
              "#fb9f3a"
             ],
             [
              0.8888888888888888,
              "#fdca26"
             ],
             [
              1,
              "#f0f921"
             ]
            ],
            "type": "histogram2d"
           }
          ],
          "histogram2dcontour": [
           {
            "colorbar": {
             "outlinewidth": 0,
             "ticks": ""
            },
            "colorscale": [
             [
              0,
              "#0d0887"
             ],
             [
              0.1111111111111111,
              "#46039f"
             ],
             [
              0.2222222222222222,
              "#7201a8"
             ],
             [
              0.3333333333333333,
              "#9c179e"
             ],
             [
              0.4444444444444444,
              "#bd3786"
             ],
             [
              0.5555555555555556,
              "#d8576b"
             ],
             [
              0.6666666666666666,
              "#ed7953"
             ],
             [
              0.7777777777777778,
              "#fb9f3a"
             ],
             [
              0.8888888888888888,
              "#fdca26"
             ],
             [
              1,
              "#f0f921"
             ]
            ],
            "type": "histogram2dcontour"
           }
          ],
          "mesh3d": [
           {
            "colorbar": {
             "outlinewidth": 0,
             "ticks": ""
            },
            "type": "mesh3d"
           }
          ],
          "parcoords": [
           {
            "line": {
             "colorbar": {
              "outlinewidth": 0,
              "ticks": ""
             }
            },
            "type": "parcoords"
           }
          ],
          "pie": [
           {
            "automargin": true,
            "type": "pie"
           }
          ],
          "scatter": [
           {
            "fillpattern": {
             "fillmode": "overlay",
             "size": 10,
             "solidity": 0.2
            },
            "type": "scatter"
           }
          ],
          "scatter3d": [
           {
            "line": {
             "colorbar": {
              "outlinewidth": 0,
              "ticks": ""
             }
            },
            "marker": {
             "colorbar": {
              "outlinewidth": 0,
              "ticks": ""
             }
            },
            "type": "scatter3d"
           }
          ],
          "scattercarpet": [
           {
            "marker": {
             "colorbar": {
              "outlinewidth": 0,
              "ticks": ""
             }
            },
            "type": "scattercarpet"
           }
          ],
          "scattergeo": [
           {
            "marker": {
             "colorbar": {
              "outlinewidth": 0,
              "ticks": ""
             }
            },
            "type": "scattergeo"
           }
          ],
          "scattergl": [
           {
            "marker": {
             "colorbar": {
              "outlinewidth": 0,
              "ticks": ""
             }
            },
            "type": "scattergl"
           }
          ],
          "scattermapbox": [
           {
            "marker": {
             "colorbar": {
              "outlinewidth": 0,
              "ticks": ""
             }
            },
            "type": "scattermapbox"
           }
          ],
          "scatterpolar": [
           {
            "marker": {
             "colorbar": {
              "outlinewidth": 0,
              "ticks": ""
             }
            },
            "type": "scatterpolar"
           }
          ],
          "scatterpolargl": [
           {
            "marker": {
             "colorbar": {
              "outlinewidth": 0,
              "ticks": ""
             }
            },
            "type": "scatterpolargl"
           }
          ],
          "scatterternary": [
           {
            "marker": {
             "colorbar": {
              "outlinewidth": 0,
              "ticks": ""
             }
            },
            "type": "scatterternary"
           }
          ],
          "surface": [
           {
            "colorbar": {
             "outlinewidth": 0,
             "ticks": ""
            },
            "colorscale": [
             [
              0,
              "#0d0887"
             ],
             [
              0.1111111111111111,
              "#46039f"
             ],
             [
              0.2222222222222222,
              "#7201a8"
             ],
             [
              0.3333333333333333,
              "#9c179e"
             ],
             [
              0.4444444444444444,
              "#bd3786"
             ],
             [
              0.5555555555555556,
              "#d8576b"
             ],
             [
              0.6666666666666666,
              "#ed7953"
             ],
             [
              0.7777777777777778,
              "#fb9f3a"
             ],
             [
              0.8888888888888888,
              "#fdca26"
             ],
             [
              1,
              "#f0f921"
             ]
            ],
            "type": "surface"
           }
          ],
          "table": [
           {
            "cells": {
             "fill": {
              "color": "#EBF0F8"
             },
             "line": {
              "color": "white"
             }
            },
            "header": {
             "fill": {
              "color": "#C8D4E3"
             },
             "line": {
              "color": "white"
             }
            },
            "type": "table"
           }
          ]
         },
         "layout": {
          "annotationdefaults": {
           "arrowcolor": "#2a3f5f",
           "arrowhead": 0,
           "arrowwidth": 1
          },
          "autotypenumbers": "strict",
          "coloraxis": {
           "colorbar": {
            "outlinewidth": 0,
            "ticks": ""
           }
          },
          "colorscale": {
           "diverging": [
            [
             0,
             "#8e0152"
            ],
            [
             0.1,
             "#c51b7d"
            ],
            [
             0.2,
             "#de77ae"
            ],
            [
             0.3,
             "#f1b6da"
            ],
            [
             0.4,
             "#fde0ef"
            ],
            [
             0.5,
             "#f7f7f7"
            ],
            [
             0.6,
             "#e6f5d0"
            ],
            [
             0.7,
             "#b8e186"
            ],
            [
             0.8,
             "#7fbc41"
            ],
            [
             0.9,
             "#4d9221"
            ],
            [
             1,
             "#276419"
            ]
           ],
           "sequential": [
            [
             0,
             "#0d0887"
            ],
            [
             0.1111111111111111,
             "#46039f"
            ],
            [
             0.2222222222222222,
             "#7201a8"
            ],
            [
             0.3333333333333333,
             "#9c179e"
            ],
            [
             0.4444444444444444,
             "#bd3786"
            ],
            [
             0.5555555555555556,
             "#d8576b"
            ],
            [
             0.6666666666666666,
             "#ed7953"
            ],
            [
             0.7777777777777778,
             "#fb9f3a"
            ],
            [
             0.8888888888888888,
             "#fdca26"
            ],
            [
             1,
             "#f0f921"
            ]
           ],
           "sequentialminus": [
            [
             0,
             "#0d0887"
            ],
            [
             0.1111111111111111,
             "#46039f"
            ],
            [
             0.2222222222222222,
             "#7201a8"
            ],
            [
             0.3333333333333333,
             "#9c179e"
            ],
            [
             0.4444444444444444,
             "#bd3786"
            ],
            [
             0.5555555555555556,
             "#d8576b"
            ],
            [
             0.6666666666666666,
             "#ed7953"
            ],
            [
             0.7777777777777778,
             "#fb9f3a"
            ],
            [
             0.8888888888888888,
             "#fdca26"
            ],
            [
             1,
             "#f0f921"
            ]
           ]
          },
          "colorway": [
           "#636efa",
           "#EF553B",
           "#00cc96",
           "#ab63fa",
           "#FFA15A",
           "#19d3f3",
           "#FF6692",
           "#B6E880",
           "#FF97FF",
           "#FECB52"
          ],
          "font": {
           "color": "#2a3f5f"
          },
          "geo": {
           "bgcolor": "white",
           "lakecolor": "white",
           "landcolor": "#E5ECF6",
           "showlakes": true,
           "showland": true,
           "subunitcolor": "white"
          },
          "hoverlabel": {
           "align": "left"
          },
          "hovermode": "closest",
          "mapbox": {
           "style": "light"
          },
          "paper_bgcolor": "white",
          "plot_bgcolor": "#E5ECF6",
          "polar": {
           "angularaxis": {
            "gridcolor": "white",
            "linecolor": "white",
            "ticks": ""
           },
           "bgcolor": "#E5ECF6",
           "radialaxis": {
            "gridcolor": "white",
            "linecolor": "white",
            "ticks": ""
           }
          },
          "scene": {
           "xaxis": {
            "backgroundcolor": "#E5ECF6",
            "gridcolor": "white",
            "gridwidth": 2,
            "linecolor": "white",
            "showbackground": true,
            "ticks": "",
            "zerolinecolor": "white"
           },
           "yaxis": {
            "backgroundcolor": "#E5ECF6",
            "gridcolor": "white",
            "gridwidth": 2,
            "linecolor": "white",
            "showbackground": true,
            "ticks": "",
            "zerolinecolor": "white"
           },
           "zaxis": {
            "backgroundcolor": "#E5ECF6",
            "gridcolor": "white",
            "gridwidth": 2,
            "linecolor": "white",
            "showbackground": true,
            "ticks": "",
            "zerolinecolor": "white"
           }
          },
          "shapedefaults": {
           "line": {
            "color": "#2a3f5f"
           }
          },
          "ternary": {
           "aaxis": {
            "gridcolor": "white",
            "linecolor": "white",
            "ticks": ""
           },
           "baxis": {
            "gridcolor": "white",
            "linecolor": "white",
            "ticks": ""
           },
           "bgcolor": "#E5ECF6",
           "caxis": {
            "gridcolor": "white",
            "linecolor": "white",
            "ticks": ""
           }
          },
          "title": {
           "x": 0.05
          },
          "xaxis": {
           "automargin": true,
           "gridcolor": "white",
           "linecolor": "white",
           "ticks": "",
           "title": {
            "standoff": 15
           },
           "zerolinecolor": "white",
           "zerolinewidth": 2
          },
          "yaxis": {
           "automargin": true,
           "gridcolor": "white",
           "linecolor": "white",
           "ticks": "",
           "title": {
            "standoff": 15
           },
           "zerolinecolor": "white",
           "zerolinewidth": 2
          }
         }
        },
        "xaxis": {
         "anchor": "y",
         "domain": [
          0,
          1
         ],
         "title": {
          "text": "label"
         }
        },
        "yaxis": {
         "anchor": "x",
         "domain": [
          0,
          1
         ],
         "title": {
          "text": "value"
         }
        }
       }
      },
      "text/html": [
       "<div>                            <div id=\"5ce36546-e4bd-4e47-ac71-8e8ee566abba\" class=\"plotly-graph-div\" style=\"height:525px; width:100%;\"></div>            <script type=\"text/javascript\">                require([\"plotly\"], function(Plotly) {                    window.PLOTLYENV=window.PLOTLYENV || {};                                    if (document.getElementById(\"5ce36546-e4bd-4e47-ac71-8e8ee566abba\")) {                    Plotly.newPlot(                        \"5ce36546-e4bd-4e47-ac71-8e8ee566abba\",                        [{\"alignmentgroup\":\"True\",\"hovertemplate\":\"Subject=19\\u6b73\\u4ee5\\u4e0b<br>label=%{x}<br>value=%{y}<extra></extra>\",\"legendgroup\":\"19\\u6b73\\u4ee5\\u4e0b\",\"marker\":{\"color\":\"#636efa\",\"pattern\":{\"shape\":\"\"}},\"name\":\"19\\u6b73\\u4ee5\\u4e0b\",\"offsetgroup\":\"19\\u6b73\\u4ee5\\u4e0b\",\"orientation\":\"v\",\"showlegend\":true,\"textposition\":\"auto\",\"x\":[\"1\\u30f6\\u6708\\u306b5\\u6642\\u9593\\u672a\\u6e80(1\\u65e510\\u5206\\u672a\\u6e80)\",\"1\\u30f6\\u6708\\u306b5\\u6642\\u9593\\u4ee5\\u4e0a15\\u6642\\u9593\\u672a\\u6e80(1\\u65e510\\u5206~30\\u5206\\u7a0b\\u5ea6)\",\"1\\u30f6\\u6708\\u306b15\\u6642\\u9593\\u4ee5\\u4e0a30\\u6642\\u9593\\u672a\\u6e80(1\\u65e530\\u5206~60\\u5206\\u7a0b\\u5ea6)\",\"1\\u30f6\\u6708\\u306b30\\u6642\\u9593\\u4ee5\\u4e0a60\\u6642\\u9593\\u672a\\u6e80(1\\u65e51~2\\u6642\\u9593\\u7a0b\\u5ea6)\",\"1\\u30f6\\u6708\\u306b60\\u6642\\u9593\\u4ee5\\u4e0a(1\\u65e52\\u6642\\u9593\\u4ee5\\u4e0a)\",\"\\u7121\\u56de\\u7b54\"],\"xaxis\":\"x\",\"y\":[0,0,5,25,70,0],\"yaxis\":\"y\",\"type\":\"bar\"},{\"alignmentgroup\":\"True\",\"hovertemplate\":\"Subject=20\\u6b73\\u4ee3<br>label=%{x}<br>value=%{y}<extra></extra>\",\"legendgroup\":\"20\\u6b73\\u4ee3\",\"marker\":{\"color\":\"#EF553B\",\"pattern\":{\"shape\":\"\"}},\"name\":\"20\\u6b73\\u4ee3\",\"offsetgroup\":\"20\\u6b73\\u4ee3\",\"orientation\":\"v\",\"showlegend\":true,\"textposition\":\"auto\",\"x\":[\"1\\u30f6\\u6708\\u306b5\\u6642\\u9593\\u672a\\u6e80(1\\u65e510\\u5206\\u672a\\u6e80)\",\"1\\u30f6\\u6708\\u306b5\\u6642\\u9593\\u4ee5\\u4e0a15\\u6642\\u9593\\u672a\\u6e80(1\\u65e510\\u5206~30\\u5206\\u7a0b\\u5ea6)\",\"1\\u30f6\\u6708\\u306b15\\u6642\\u9593\\u4ee5\\u4e0a30\\u6642\\u9593\\u672a\\u6e80(1\\u65e530\\u5206~60\\u5206\\u7a0b\\u5ea6)\",\"1\\u30f6\\u6708\\u306b30\\u6642\\u9593\\u4ee5\\u4e0a60\\u6642\\u9593\\u672a\\u6e80(1\\u65e51~2\\u6642\\u9593\\u7a0b\\u5ea6)\",\"1\\u30f6\\u6708\\u306b60\\u6642\\u9593\\u4ee5\\u4e0a(1\\u65e52\\u6642\\u9593\\u4ee5\\u4e0a)\",\"\\u7121\\u56de\\u7b54\"],\"xaxis\":\"x\",\"y\":[0.9,4.7,7.5,24.5,62.3,0.0],\"yaxis\":\"y\",\"type\":\"bar\"},{\"alignmentgroup\":\"True\",\"hovertemplate\":\"Subject=30\\u6b73\\u4ee3<br>label=%{x}<br>value=%{y}<extra></extra>\",\"legendgroup\":\"30\\u6b73\\u4ee3\",\"marker\":{\"color\":\"#00cc96\",\"pattern\":{\"shape\":\"\"}},\"name\":\"30\\u6b73\\u4ee3\",\"offsetgroup\":\"30\\u6b73\\u4ee3\",\"orientation\":\"v\",\"showlegend\":true,\"textposition\":\"auto\",\"x\":[\"1\\u30f6\\u6708\\u306b5\\u6642\\u9593\\u672a\\u6e80(1\\u65e510\\u5206\\u672a\\u6e80)\",\"1\\u30f6\\u6708\\u306b5\\u6642\\u9593\\u4ee5\\u4e0a15\\u6642\\u9593\\u672a\\u6e80(1\\u65e510\\u5206~30\\u5206\\u7a0b\\u5ea6)\",\"1\\u30f6\\u6708\\u306b15\\u6642\\u9593\\u4ee5\\u4e0a30\\u6642\\u9593\\u672a\\u6e80(1\\u65e530\\u5206~60\\u5206\\u7a0b\\u5ea6)\",\"1\\u30f6\\u6708\\u306b30\\u6642\\u9593\\u4ee5\\u4e0a60\\u6642\\u9593\\u672a\\u6e80(1\\u65e51~2\\u6642\\u9593\\u7a0b\\u5ea6)\",\"1\\u30f6\\u6708\\u306b60\\u6642\\u9593\\u4ee5\\u4e0a(1\\u65e52\\u6642\\u9593\\u4ee5\\u4e0a)\",\"\\u7121\\u56de\\u7b54\"],\"xaxis\":\"x\",\"y\":[5.5,7.3,18.2,32.7,36.4,0.0],\"yaxis\":\"y\",\"type\":\"bar\"},{\"alignmentgroup\":\"True\",\"hovertemplate\":\"Subject=40\\u6b73\\u4ee3<br>label=%{x}<br>value=%{y}<extra></extra>\",\"legendgroup\":\"40\\u6b73\\u4ee3\",\"marker\":{\"color\":\"#ab63fa\",\"pattern\":{\"shape\":\"\"}},\"name\":\"40\\u6b73\\u4ee3\",\"offsetgroup\":\"40\\u6b73\\u4ee3\",\"orientation\":\"v\",\"showlegend\":true,\"textposition\":\"auto\",\"x\":[\"1\\u30f6\\u6708\\u306b5\\u6642\\u9593\\u672a\\u6e80(1\\u65e510\\u5206\\u672a\\u6e80)\",\"1\\u30f6\\u6708\\u306b5\\u6642\\u9593\\u4ee5\\u4e0a15\\u6642\\u9593\\u672a\\u6e80(1\\u65e510\\u5206~30\\u5206\\u7a0b\\u5ea6)\",\"1\\u30f6\\u6708\\u306b15\\u6642\\u9593\\u4ee5\\u4e0a30\\u6642\\u9593\\u672a\\u6e80(1\\u65e530\\u5206~60\\u5206\\u7a0b\\u5ea6)\",\"1\\u30f6\\u6708\\u306b30\\u6642\\u9593\\u4ee5\\u4e0a60\\u6642\\u9593\\u672a\\u6e80(1\\u65e51~2\\u6642\\u9593\\u7a0b\\u5ea6)\",\"1\\u30f6\\u6708\\u306b60\\u6642\\u9593\\u4ee5\\u4e0a(1\\u65e52\\u6642\\u9593\\u4ee5\\u4e0a)\",\"\\u7121\\u56de\\u7b54\"],\"xaxis\":\"x\",\"y\":[5.7,13.7,14.5,35.7,30.4,0.0],\"yaxis\":\"y\",\"type\":\"bar\"},{\"alignmentgroup\":\"True\",\"hovertemplate\":\"Subject=50\\u6b73\\u4ee3<br>label=%{x}<br>value=%{y}<extra></extra>\",\"legendgroup\":\"50\\u6b73\\u4ee3\",\"marker\":{\"color\":\"#FFA15A\",\"pattern\":{\"shape\":\"\"}},\"name\":\"50\\u6b73\\u4ee3\",\"offsetgroup\":\"50\\u6b73\\u4ee3\",\"orientation\":\"v\",\"showlegend\":true,\"textposition\":\"auto\",\"x\":[\"1\\u30f6\\u6708\\u306b5\\u6642\\u9593\\u672a\\u6e80(1\\u65e510\\u5206\\u672a\\u6e80)\",\"1\\u30f6\\u6708\\u306b5\\u6642\\u9593\\u4ee5\\u4e0a15\\u6642\\u9593\\u672a\\u6e80(1\\u65e510\\u5206~30\\u5206\\u7a0b\\u5ea6)\",\"1\\u30f6\\u6708\\u306b15\\u6642\\u9593\\u4ee5\\u4e0a30\\u6642\\u9593\\u672a\\u6e80(1\\u65e530\\u5206~60\\u5206\\u7a0b\\u5ea6)\",\"1\\u30f6\\u6708\\u306b30\\u6642\\u9593\\u4ee5\\u4e0a60\\u6642\\u9593\\u672a\\u6e80(1\\u65e51~2\\u6642\\u9593\\u7a0b\\u5ea6)\",\"1\\u30f6\\u6708\\u306b60\\u6642\\u9593\\u4ee5\\u4e0a(1\\u65e52\\u6642\\u9593\\u4ee5\\u4e0a)\",\"\\u7121\\u56de\\u7b54\"],\"xaxis\":\"x\",\"y\":[11.0,19.6,20.1,23.9,25.4,0.0],\"yaxis\":\"y\",\"type\":\"bar\"},{\"alignmentgroup\":\"True\",\"hovertemplate\":\"Subject=60\\u6b72\\u4ee3<br>label=%{x}<br>value=%{y}<extra></extra>\",\"legendgroup\":\"60\\u6b72\\u4ee3\",\"marker\":{\"color\":\"#19d3f3\",\"pattern\":{\"shape\":\"\"}},\"name\":\"60\\u6b72\\u4ee3\",\"offsetgroup\":\"60\\u6b72\\u4ee3\",\"orientation\":\"v\",\"showlegend\":true,\"textposition\":\"auto\",\"x\":[\"1\\u30f6\\u6708\\u306b5\\u6642\\u9593\\u672a\\u6e80(1\\u65e510\\u5206\\u672a\\u6e80)\",\"1\\u30f6\\u6708\\u306b5\\u6642\\u9593\\u4ee5\\u4e0a15\\u6642\\u9593\\u672a\\u6e80(1\\u65e510\\u5206~30\\u5206\\u7a0b\\u5ea6)\",\"1\\u30f6\\u6708\\u306b15\\u6642\\u9593\\u4ee5\\u4e0a30\\u6642\\u9593\\u672a\\u6e80(1\\u65e530\\u5206~60\\u5206\\u7a0b\\u5ea6)\",\"1\\u30f6\\u6708\\u306b30\\u6642\\u9593\\u4ee5\\u4e0a60\\u6642\\u9593\\u672a\\u6e80(1\\u65e51~2\\u6642\\u9593\\u7a0b\\u5ea6)\",\"1\\u30f6\\u6708\\u306b60\\u6642\\u9593\\u4ee5\\u4e0a(1\\u65e52\\u6642\\u9593\\u4ee5\\u4e0a)\",\"\\u7121\\u56de\\u7b54\"],\"xaxis\":\"x\",\"y\":[22.1,21.5,16.4,18.1,19.6,2.3],\"yaxis\":\"y\",\"type\":\"bar\"},{\"alignmentgroup\":\"True\",\"hovertemplate\":\"Subject=70\\u6b72\\u4ee5\\u4e0a<br>label=%{x}<br>value=%{y}<extra></extra>\",\"legendgroup\":\"70\\u6b72\\u4ee5\\u4e0a\",\"marker\":{\"color\":\"#FF6692\",\"pattern\":{\"shape\":\"\"}},\"name\":\"70\\u6b72\\u4ee5\\u4e0a\",\"offsetgroup\":\"70\\u6b72\\u4ee5\\u4e0a\",\"orientation\":\"v\",\"showlegend\":true,\"textposition\":\"auto\",\"x\":[\"1\\u30f6\\u6708\\u306b5\\u6642\\u9593\\u672a\\u6e80(1\\u65e510\\u5206\\u672a\\u6e80)\",\"1\\u30f6\\u6708\\u306b5\\u6642\\u9593\\u4ee5\\u4e0a15\\u6642\\u9593\\u672a\\u6e80(1\\u65e510\\u5206~30\\u5206\\u7a0b\\u5ea6)\",\"1\\u30f6\\u6708\\u306b15\\u6642\\u9593\\u4ee5\\u4e0a30\\u6642\\u9593\\u672a\\u6e80(1\\u65e530\\u5206~60\\u5206\\u7a0b\\u5ea6)\",\"1\\u30f6\\u6708\\u306b30\\u6642\\u9593\\u4ee5\\u4e0a60\\u6642\\u9593\\u672a\\u6e80(1\\u65e51~2\\u6642\\u9593\\u7a0b\\u5ea6)\",\"1\\u30f6\\u6708\\u306b60\\u6642\\u9593\\u4ee5\\u4e0a(1\\u65e52\\u6642\\u9593\\u4ee5\\u4e0a)\",\"\\u7121\\u56de\\u7b54\"],\"xaxis\":\"x\",\"y\":[26.1,24.5,17.9,20.2,10.7,0.6],\"yaxis\":\"y\",\"type\":\"bar\"}],                        {\"template\":{\"data\":{\"histogram2dcontour\":[{\"type\":\"histogram2dcontour\",\"colorbar\":{\"outlinewidth\":0,\"ticks\":\"\"},\"colorscale\":[[0.0,\"#0d0887\"],[0.1111111111111111,\"#46039f\"],[0.2222222222222222,\"#7201a8\"],[0.3333333333333333,\"#9c179e\"],[0.4444444444444444,\"#bd3786\"],[0.5555555555555556,\"#d8576b\"],[0.6666666666666666,\"#ed7953\"],[0.7777777777777778,\"#fb9f3a\"],[0.8888888888888888,\"#fdca26\"],[1.0,\"#f0f921\"]]}],\"choropleth\":[{\"type\":\"choropleth\",\"colorbar\":{\"outlinewidth\":0,\"ticks\":\"\"}}],\"histogram2d\":[{\"type\":\"histogram2d\",\"colorbar\":{\"outlinewidth\":0,\"ticks\":\"\"},\"colorscale\":[[0.0,\"#0d0887\"],[0.1111111111111111,\"#46039f\"],[0.2222222222222222,\"#7201a8\"],[0.3333333333333333,\"#9c179e\"],[0.4444444444444444,\"#bd3786\"],[0.5555555555555556,\"#d8576b\"],[0.6666666666666666,\"#ed7953\"],[0.7777777777777778,\"#fb9f3a\"],[0.8888888888888888,\"#fdca26\"],[1.0,\"#f0f921\"]]}],\"heatmap\":[{\"type\":\"heatmap\",\"colorbar\":{\"outlinewidth\":0,\"ticks\":\"\"},\"colorscale\":[[0.0,\"#0d0887\"],[0.1111111111111111,\"#46039f\"],[0.2222222222222222,\"#7201a8\"],[0.3333333333333333,\"#9c179e\"],[0.4444444444444444,\"#bd3786\"],[0.5555555555555556,\"#d8576b\"],[0.6666666666666666,\"#ed7953\"],[0.7777777777777778,\"#fb9f3a\"],[0.8888888888888888,\"#fdca26\"],[1.0,\"#f0f921\"]]}],\"heatmapgl\":[{\"type\":\"heatmapgl\",\"colorbar\":{\"outlinewidth\":0,\"ticks\":\"\"},\"colorscale\":[[0.0,\"#0d0887\"],[0.1111111111111111,\"#46039f\"],[0.2222222222222222,\"#7201a8\"],[0.3333333333333333,\"#9c179e\"],[0.4444444444444444,\"#bd3786\"],[0.5555555555555556,\"#d8576b\"],[0.6666666666666666,\"#ed7953\"],[0.7777777777777778,\"#fb9f3a\"],[0.8888888888888888,\"#fdca26\"],[1.0,\"#f0f921\"]]}],\"contourcarpet\":[{\"type\":\"contourcarpet\",\"colorbar\":{\"outlinewidth\":0,\"ticks\":\"\"}}],\"contour\":[{\"type\":\"contour\",\"colorbar\":{\"outlinewidth\":0,\"ticks\":\"\"},\"colorscale\":[[0.0,\"#0d0887\"],[0.1111111111111111,\"#46039f\"],[0.2222222222222222,\"#7201a8\"],[0.3333333333333333,\"#9c179e\"],[0.4444444444444444,\"#bd3786\"],[0.5555555555555556,\"#d8576b\"],[0.6666666666666666,\"#ed7953\"],[0.7777777777777778,\"#fb9f3a\"],[0.8888888888888888,\"#fdca26\"],[1.0,\"#f0f921\"]]}],\"surface\":[{\"type\":\"surface\",\"colorbar\":{\"outlinewidth\":0,\"ticks\":\"\"},\"colorscale\":[[0.0,\"#0d0887\"],[0.1111111111111111,\"#46039f\"],[0.2222222222222222,\"#7201a8\"],[0.3333333333333333,\"#9c179e\"],[0.4444444444444444,\"#bd3786\"],[0.5555555555555556,\"#d8576b\"],[0.6666666666666666,\"#ed7953\"],[0.7777777777777778,\"#fb9f3a\"],[0.8888888888888888,\"#fdca26\"],[1.0,\"#f0f921\"]]}],\"mesh3d\":[{\"type\":\"mesh3d\",\"colorbar\":{\"outlinewidth\":0,\"ticks\":\"\"}}],\"scatter\":[{\"fillpattern\":{\"fillmode\":\"overlay\",\"size\":10,\"solidity\":0.2},\"type\":\"scatter\"}],\"parcoords\":[{\"type\":\"parcoords\",\"line\":{\"colorbar\":{\"outlinewidth\":0,\"ticks\":\"\"}}}],\"scatterpolargl\":[{\"type\":\"scatterpolargl\",\"marker\":{\"colorbar\":{\"outlinewidth\":0,\"ticks\":\"\"}}}],\"bar\":[{\"error_x\":{\"color\":\"#2a3f5f\"},\"error_y\":{\"color\":\"#2a3f5f\"},\"marker\":{\"line\":{\"color\":\"#E5ECF6\",\"width\":0.5},\"pattern\":{\"fillmode\":\"overlay\",\"size\":10,\"solidity\":0.2}},\"type\":\"bar\"}],\"scattergeo\":[{\"type\":\"scattergeo\",\"marker\":{\"colorbar\":{\"outlinewidth\":0,\"ticks\":\"\"}}}],\"scatterpolar\":[{\"type\":\"scatterpolar\",\"marker\":{\"colorbar\":{\"outlinewidth\":0,\"ticks\":\"\"}}}],\"histogram\":[{\"marker\":{\"pattern\":{\"fillmode\":\"overlay\",\"size\":10,\"solidity\":0.2}},\"type\":\"histogram\"}],\"scattergl\":[{\"type\":\"scattergl\",\"marker\":{\"colorbar\":{\"outlinewidth\":0,\"ticks\":\"\"}}}],\"scatter3d\":[{\"type\":\"scatter3d\",\"line\":{\"colorbar\":{\"outlinewidth\":0,\"ticks\":\"\"}},\"marker\":{\"colorbar\":{\"outlinewidth\":0,\"ticks\":\"\"}}}],\"scattermapbox\":[{\"type\":\"scattermapbox\",\"marker\":{\"colorbar\":{\"outlinewidth\":0,\"ticks\":\"\"}}}],\"scatterternary\":[{\"type\":\"scatterternary\",\"marker\":{\"colorbar\":{\"outlinewidth\":0,\"ticks\":\"\"}}}],\"scattercarpet\":[{\"type\":\"scattercarpet\",\"marker\":{\"colorbar\":{\"outlinewidth\":0,\"ticks\":\"\"}}}],\"carpet\":[{\"aaxis\":{\"endlinecolor\":\"#2a3f5f\",\"gridcolor\":\"white\",\"linecolor\":\"white\",\"minorgridcolor\":\"white\",\"startlinecolor\":\"#2a3f5f\"},\"baxis\":{\"endlinecolor\":\"#2a3f5f\",\"gridcolor\":\"white\",\"linecolor\":\"white\",\"minorgridcolor\":\"white\",\"startlinecolor\":\"#2a3f5f\"},\"type\":\"carpet\"}],\"table\":[{\"cells\":{\"fill\":{\"color\":\"#EBF0F8\"},\"line\":{\"color\":\"white\"}},\"header\":{\"fill\":{\"color\":\"#C8D4E3\"},\"line\":{\"color\":\"white\"}},\"type\":\"table\"}],\"barpolar\":[{\"marker\":{\"line\":{\"color\":\"#E5ECF6\",\"width\":0.5},\"pattern\":{\"fillmode\":\"overlay\",\"size\":10,\"solidity\":0.2}},\"type\":\"barpolar\"}],\"pie\":[{\"automargin\":true,\"type\":\"pie\"}]},\"layout\":{\"autotypenumbers\":\"strict\",\"colorway\":[\"#636efa\",\"#EF553B\",\"#00cc96\",\"#ab63fa\",\"#FFA15A\",\"#19d3f3\",\"#FF6692\",\"#B6E880\",\"#FF97FF\",\"#FECB52\"],\"font\":{\"color\":\"#2a3f5f\"},\"hovermode\":\"closest\",\"hoverlabel\":{\"align\":\"left\"},\"paper_bgcolor\":\"white\",\"plot_bgcolor\":\"#E5ECF6\",\"polar\":{\"bgcolor\":\"#E5ECF6\",\"angularaxis\":{\"gridcolor\":\"white\",\"linecolor\":\"white\",\"ticks\":\"\"},\"radialaxis\":{\"gridcolor\":\"white\",\"linecolor\":\"white\",\"ticks\":\"\"}},\"ternary\":{\"bgcolor\":\"#E5ECF6\",\"aaxis\":{\"gridcolor\":\"white\",\"linecolor\":\"white\",\"ticks\":\"\"},\"baxis\":{\"gridcolor\":\"white\",\"linecolor\":\"white\",\"ticks\":\"\"},\"caxis\":{\"gridcolor\":\"white\",\"linecolor\":\"white\",\"ticks\":\"\"}},\"coloraxis\":{\"colorbar\":{\"outlinewidth\":0,\"ticks\":\"\"}},\"colorscale\":{\"sequential\":[[0.0,\"#0d0887\"],[0.1111111111111111,\"#46039f\"],[0.2222222222222222,\"#7201a8\"],[0.3333333333333333,\"#9c179e\"],[0.4444444444444444,\"#bd3786\"],[0.5555555555555556,\"#d8576b\"],[0.6666666666666666,\"#ed7953\"],[0.7777777777777778,\"#fb9f3a\"],[0.8888888888888888,\"#fdca26\"],[1.0,\"#f0f921\"]],\"sequentialminus\":[[0.0,\"#0d0887\"],[0.1111111111111111,\"#46039f\"],[0.2222222222222222,\"#7201a8\"],[0.3333333333333333,\"#9c179e\"],[0.4444444444444444,\"#bd3786\"],[0.5555555555555556,\"#d8576b\"],[0.6666666666666666,\"#ed7953\"],[0.7777777777777778,\"#fb9f3a\"],[0.8888888888888888,\"#fdca26\"],[1.0,\"#f0f921\"]],\"diverging\":[[0,\"#8e0152\"],[0.1,\"#c51b7d\"],[0.2,\"#de77ae\"],[0.3,\"#f1b6da\"],[0.4,\"#fde0ef\"],[0.5,\"#f7f7f7\"],[0.6,\"#e6f5d0\"],[0.7,\"#b8e186\"],[0.8,\"#7fbc41\"],[0.9,\"#4d9221\"],[1,\"#276419\"]]},\"xaxis\":{\"gridcolor\":\"white\",\"linecolor\":\"white\",\"ticks\":\"\",\"title\":{\"standoff\":15},\"zerolinecolor\":\"white\",\"automargin\":true,\"zerolinewidth\":2},\"yaxis\":{\"gridcolor\":\"white\",\"linecolor\":\"white\",\"ticks\":\"\",\"title\":{\"standoff\":15},\"zerolinecolor\":\"white\",\"automargin\":true,\"zerolinewidth\":2},\"scene\":{\"xaxis\":{\"backgroundcolor\":\"#E5ECF6\",\"gridcolor\":\"white\",\"linecolor\":\"white\",\"showbackground\":true,\"ticks\":\"\",\"zerolinecolor\":\"white\",\"gridwidth\":2},\"yaxis\":{\"backgroundcolor\":\"#E5ECF6\",\"gridcolor\":\"white\",\"linecolor\":\"white\",\"showbackground\":true,\"ticks\":\"\",\"zerolinecolor\":\"white\",\"gridwidth\":2},\"zaxis\":{\"backgroundcolor\":\"#E5ECF6\",\"gridcolor\":\"white\",\"linecolor\":\"white\",\"showbackground\":true,\"ticks\":\"\",\"zerolinecolor\":\"white\",\"gridwidth\":2}},\"shapedefaults\":{\"line\":{\"color\":\"#2a3f5f\"}},\"annotationdefaults\":{\"arrowcolor\":\"#2a3f5f\",\"arrowhead\":0,\"arrowwidth\":1},\"geo\":{\"bgcolor\":\"white\",\"landcolor\":\"#E5ECF6\",\"subunitcolor\":\"white\",\"showland\":true,\"showlakes\":true,\"lakecolor\":\"white\"},\"title\":{\"x\":0.05},\"mapbox\":{\"style\":\"light\"}}},\"xaxis\":{\"anchor\":\"y\",\"domain\":[0.0,1.0],\"title\":{\"text\":\"label\"}},\"yaxis\":{\"anchor\":\"x\",\"domain\":[0.0,1.0],\"title\":{\"text\":\"value\"}},\"legend\":{\"title\":{\"text\":\"Subject\"},\"tracegroupgap\":0},\"margin\":{\"t\":60},\"barmode\":\"group\"},                        {\"responsive\": true}                    ).then(function(){\n",
       "                            \n",
       "var gd = document.getElementById('5ce36546-e4bd-4e47-ac71-8e8ee566abba');\n",
       "var x = new MutationObserver(function (mutations, observer) {{\n",
       "        var display = window.getComputedStyle(gd).display;\n",
       "        if (!display || display === 'none') {{\n",
       "            console.log([gd, 'removed!']);\n",
       "            Plotly.purge(gd);\n",
       "            observer.disconnect();\n",
       "        }}\n",
       "}});\n",
       "\n",
       "// Listen for the removal of the full notebook cells\n",
       "var notebookContainer = gd.closest('#notebook-container');\n",
       "if (notebookContainer) {{\n",
       "    x.observe(notebookContainer, {childList: true});\n",
       "}}\n",
       "\n",
       "// Listen for the clearing of the current output cell\n",
       "var outputEl = gd.closest('.output');\n",
       "if (outputEl) {{\n",
       "    x.observe(outputEl, {childList: true});\n",
       "}}\n",
       "\n",
       "                        })                };                });            </script>        </div>"
      ]
     },
     "metadata": {},
     "output_type": "display_data"
    }
   ],
   "source": [
    "fig = px.bar(df_graph2, x='label', y='value', color='Subject', barmode='group')\n",
    "fig.show()"
   ]
  },
  {
   "cell_type": "code",
   "execution_count": 211,
   "id": "da260766",
   "metadata": {},
   "outputs": [
    {
     "data": {
      "application/vnd.plotly.v1+json": {
       "config": {
        "plotlyServerURL": "https://plot.ly"
       },
       "data": [
        {
         "alignmentgroup": "True",
         "hovertemplate": "Subject=19歳以下<br>label=%{x}<br>value=%{y}<extra></extra>",
         "legendgroup": "19歳以下",
         "marker": {
          "color": "#636efa",
          "pattern": {
           "shape": ""
          }
         },
         "name": "19歳以下",
         "offsetgroup": "19歳以下",
         "orientation": "v",
         "showlegend": true,
         "textposition": "auto",
         "type": "bar",
         "x": [
          "1ヶ月に5時間未満(1日10分未満)",
          "1ヶ月に5時間以上15時間未満(1日10分~30分程度)",
          "1ヶ月に15時間以上30時間未満(1日30分~60分程度)",
          "1ヶ月に30時間以上60時間未満(1日1~2時間程度)",
          "1ヶ月に60時間以上(1日2時間以上)",
          "無回答"
         ],
         "xaxis": "x",
         "y": [
          0,
          0,
          5,
          25,
          70,
          0
         ],
         "yaxis": "y"
        },
        {
         "alignmentgroup": "True",
         "hovertemplate": "Subject=20歳代<br>label=%{x}<br>value=%{y}<extra></extra>",
         "legendgroup": "20歳代",
         "marker": {
          "color": "#EF553B",
          "pattern": {
           "shape": ""
          }
         },
         "name": "20歳代",
         "offsetgroup": "20歳代",
         "orientation": "v",
         "showlegend": true,
         "textposition": "auto",
         "type": "bar",
         "x": [
          "1ヶ月に5時間未満(1日10分未満)",
          "1ヶ月に5時間以上15時間未満(1日10分~30分程度)",
          "1ヶ月に15時間以上30時間未満(1日30分~60分程度)",
          "1ヶ月に30時間以上60時間未満(1日1~2時間程度)",
          "1ヶ月に60時間以上(1日2時間以上)",
          "無回答"
         ],
         "xaxis": "x",
         "y": [
          0.9,
          4.7,
          7.5,
          24.5,
          62.3,
          0
         ],
         "yaxis": "y"
        },
        {
         "alignmentgroup": "True",
         "hovertemplate": "Subject=30歳代<br>label=%{x}<br>value=%{y}<extra></extra>",
         "legendgroup": "30歳代",
         "marker": {
          "color": "#00cc96",
          "pattern": {
           "shape": ""
          }
         },
         "name": "30歳代",
         "offsetgroup": "30歳代",
         "orientation": "v",
         "showlegend": true,
         "textposition": "auto",
         "type": "bar",
         "x": [
          "1ヶ月に5時間未満(1日10分未満)",
          "1ヶ月に5時間以上15時間未満(1日10分~30分程度)",
          "1ヶ月に15時間以上30時間未満(1日30分~60分程度)",
          "1ヶ月に30時間以上60時間未満(1日1~2時間程度)",
          "1ヶ月に60時間以上(1日2時間以上)",
          "無回答"
         ],
         "xaxis": "x",
         "y": [
          5.5,
          7.3,
          18.2,
          32.7,
          36.4,
          0
         ],
         "yaxis": "y"
        },
        {
         "alignmentgroup": "True",
         "hovertemplate": "Subject=40歳代<br>label=%{x}<br>value=%{y}<extra></extra>",
         "legendgroup": "40歳代",
         "marker": {
          "color": "#ab63fa",
          "pattern": {
           "shape": ""
          }
         },
         "name": "40歳代",
         "offsetgroup": "40歳代",
         "orientation": "v",
         "showlegend": true,
         "textposition": "auto",
         "type": "bar",
         "x": [
          "1ヶ月に5時間未満(1日10分未満)",
          "1ヶ月に5時間以上15時間未満(1日10分~30分程度)",
          "1ヶ月に15時間以上30時間未満(1日30分~60分程度)",
          "1ヶ月に30時間以上60時間未満(1日1~2時間程度)",
          "1ヶ月に60時間以上(1日2時間以上)",
          "無回答"
         ],
         "xaxis": "x",
         "y": [
          5.7,
          13.7,
          14.5,
          35.7,
          30.4,
          0
         ],
         "yaxis": "y"
        },
        {
         "alignmentgroup": "True",
         "hovertemplate": "Subject=50歳代<br>label=%{x}<br>value=%{y}<extra></extra>",
         "legendgroup": "50歳代",
         "marker": {
          "color": "#FFA15A",
          "pattern": {
           "shape": ""
          }
         },
         "name": "50歳代",
         "offsetgroup": "50歳代",
         "orientation": "v",
         "showlegend": true,
         "textposition": "auto",
         "type": "bar",
         "x": [
          "1ヶ月に5時間未満(1日10分未満)",
          "1ヶ月に5時間以上15時間未満(1日10分~30分程度)",
          "1ヶ月に15時間以上30時間未満(1日30分~60分程度)",
          "1ヶ月に30時間以上60時間未満(1日1~2時間程度)",
          "1ヶ月に60時間以上(1日2時間以上)",
          "無回答"
         ],
         "xaxis": "x",
         "y": [
          11,
          19.6,
          20.1,
          23.9,
          25.4,
          0
         ],
         "yaxis": "y"
        },
        {
         "alignmentgroup": "True",
         "hovertemplate": "Subject=60歲代<br>label=%{x}<br>value=%{y}<extra></extra>",
         "legendgroup": "60歲代",
         "marker": {
          "color": "#19d3f3",
          "pattern": {
           "shape": ""
          }
         },
         "name": "60歲代",
         "offsetgroup": "60歲代",
         "orientation": "v",
         "showlegend": true,
         "textposition": "auto",
         "type": "bar",
         "x": [
          "1ヶ月に5時間未満(1日10分未満)",
          "1ヶ月に5時間以上15時間未満(1日10分~30分程度)",
          "1ヶ月に15時間以上30時間未満(1日30分~60分程度)",
          "1ヶ月に30時間以上60時間未満(1日1~2時間程度)",
          "1ヶ月に60時間以上(1日2時間以上)",
          "無回答"
         ],
         "xaxis": "x",
         "y": [
          22.1,
          21.5,
          16.4,
          18.1,
          19.6,
          2.3
         ],
         "yaxis": "y"
        },
        {
         "alignmentgroup": "True",
         "hovertemplate": "Subject=70歲以上<br>label=%{x}<br>value=%{y}<extra></extra>",
         "legendgroup": "70歲以上",
         "marker": {
          "color": "#FF6692",
          "pattern": {
           "shape": ""
          }
         },
         "name": "70歲以上",
         "offsetgroup": "70歲以上",
         "orientation": "v",
         "showlegend": true,
         "textposition": "auto",
         "type": "bar",
         "x": [
          "1ヶ月に5時間未満(1日10分未満)",
          "1ヶ月に5時間以上15時間未満(1日10分~30分程度)",
          "1ヶ月に15時間以上30時間未満(1日30分~60分程度)",
          "1ヶ月に30時間以上60時間未満(1日1~2時間程度)",
          "1ヶ月に60時間以上(1日2時間以上)",
          "無回答"
         ],
         "xaxis": "x",
         "y": [
          26.1,
          24.5,
          17.9,
          20.2,
          10.7,
          0.6
         ],
         "yaxis": "y"
        }
       ],
       "layout": {
        "barmode": "relative",
        "legend": {
         "title": {
          "text": "Subject"
         },
         "tracegroupgap": 0
        },
        "margin": {
         "t": 60
        },
        "template": {
         "data": {
          "bar": [
           {
            "error_x": {
             "color": "#2a3f5f"
            },
            "error_y": {
             "color": "#2a3f5f"
            },
            "marker": {
             "line": {
              "color": "#E5ECF6",
              "width": 0.5
             },
             "pattern": {
              "fillmode": "overlay",
              "size": 10,
              "solidity": 0.2
             }
            },
            "type": "bar"
           }
          ],
          "barpolar": [
           {
            "marker": {
             "line": {
              "color": "#E5ECF6",
              "width": 0.5
             },
             "pattern": {
              "fillmode": "overlay",
              "size": 10,
              "solidity": 0.2
             }
            },
            "type": "barpolar"
           }
          ],
          "carpet": [
           {
            "aaxis": {
             "endlinecolor": "#2a3f5f",
             "gridcolor": "white",
             "linecolor": "white",
             "minorgridcolor": "white",
             "startlinecolor": "#2a3f5f"
            },
            "baxis": {
             "endlinecolor": "#2a3f5f",
             "gridcolor": "white",
             "linecolor": "white",
             "minorgridcolor": "white",
             "startlinecolor": "#2a3f5f"
            },
            "type": "carpet"
           }
          ],
          "choropleth": [
           {
            "colorbar": {
             "outlinewidth": 0,
             "ticks": ""
            },
            "type": "choropleth"
           }
          ],
          "contour": [
           {
            "colorbar": {
             "outlinewidth": 0,
             "ticks": ""
            },
            "colorscale": [
             [
              0,
              "#0d0887"
             ],
             [
              0.1111111111111111,
              "#46039f"
             ],
             [
              0.2222222222222222,
              "#7201a8"
             ],
             [
              0.3333333333333333,
              "#9c179e"
             ],
             [
              0.4444444444444444,
              "#bd3786"
             ],
             [
              0.5555555555555556,
              "#d8576b"
             ],
             [
              0.6666666666666666,
              "#ed7953"
             ],
             [
              0.7777777777777778,
              "#fb9f3a"
             ],
             [
              0.8888888888888888,
              "#fdca26"
             ],
             [
              1,
              "#f0f921"
             ]
            ],
            "type": "contour"
           }
          ],
          "contourcarpet": [
           {
            "colorbar": {
             "outlinewidth": 0,
             "ticks": ""
            },
            "type": "contourcarpet"
           }
          ],
          "heatmap": [
           {
            "colorbar": {
             "outlinewidth": 0,
             "ticks": ""
            },
            "colorscale": [
             [
              0,
              "#0d0887"
             ],
             [
              0.1111111111111111,
              "#46039f"
             ],
             [
              0.2222222222222222,
              "#7201a8"
             ],
             [
              0.3333333333333333,
              "#9c179e"
             ],
             [
              0.4444444444444444,
              "#bd3786"
             ],
             [
              0.5555555555555556,
              "#d8576b"
             ],
             [
              0.6666666666666666,
              "#ed7953"
             ],
             [
              0.7777777777777778,
              "#fb9f3a"
             ],
             [
              0.8888888888888888,
              "#fdca26"
             ],
             [
              1,
              "#f0f921"
             ]
            ],
            "type": "heatmap"
           }
          ],
          "heatmapgl": [
           {
            "colorbar": {
             "outlinewidth": 0,
             "ticks": ""
            },
            "colorscale": [
             [
              0,
              "#0d0887"
             ],
             [
              0.1111111111111111,
              "#46039f"
             ],
             [
              0.2222222222222222,
              "#7201a8"
             ],
             [
              0.3333333333333333,
              "#9c179e"
             ],
             [
              0.4444444444444444,
              "#bd3786"
             ],
             [
              0.5555555555555556,
              "#d8576b"
             ],
             [
              0.6666666666666666,
              "#ed7953"
             ],
             [
              0.7777777777777778,
              "#fb9f3a"
             ],
             [
              0.8888888888888888,
              "#fdca26"
             ],
             [
              1,
              "#f0f921"
             ]
            ],
            "type": "heatmapgl"
           }
          ],
          "histogram": [
           {
            "marker": {
             "pattern": {
              "fillmode": "overlay",
              "size": 10,
              "solidity": 0.2
             }
            },
            "type": "histogram"
           }
          ],
          "histogram2d": [
           {
            "colorbar": {
             "outlinewidth": 0,
             "ticks": ""
            },
            "colorscale": [
             [
              0,
              "#0d0887"
             ],
             [
              0.1111111111111111,
              "#46039f"
             ],
             [
              0.2222222222222222,
              "#7201a8"
             ],
             [
              0.3333333333333333,
              "#9c179e"
             ],
             [
              0.4444444444444444,
              "#bd3786"
             ],
             [
              0.5555555555555556,
              "#d8576b"
             ],
             [
              0.6666666666666666,
              "#ed7953"
             ],
             [
              0.7777777777777778,
              "#fb9f3a"
             ],
             [
              0.8888888888888888,
              "#fdca26"
             ],
             [
              1,
              "#f0f921"
             ]
            ],
            "type": "histogram2d"
           }
          ],
          "histogram2dcontour": [
           {
            "colorbar": {
             "outlinewidth": 0,
             "ticks": ""
            },
            "colorscale": [
             [
              0,
              "#0d0887"
             ],
             [
              0.1111111111111111,
              "#46039f"
             ],
             [
              0.2222222222222222,
              "#7201a8"
             ],
             [
              0.3333333333333333,
              "#9c179e"
             ],
             [
              0.4444444444444444,
              "#bd3786"
             ],
             [
              0.5555555555555556,
              "#d8576b"
             ],
             [
              0.6666666666666666,
              "#ed7953"
             ],
             [
              0.7777777777777778,
              "#fb9f3a"
             ],
             [
              0.8888888888888888,
              "#fdca26"
             ],
             [
              1,
              "#f0f921"
             ]
            ],
            "type": "histogram2dcontour"
           }
          ],
          "mesh3d": [
           {
            "colorbar": {
             "outlinewidth": 0,
             "ticks": ""
            },
            "type": "mesh3d"
           }
          ],
          "parcoords": [
           {
            "line": {
             "colorbar": {
              "outlinewidth": 0,
              "ticks": ""
             }
            },
            "type": "parcoords"
           }
          ],
          "pie": [
           {
            "automargin": true,
            "type": "pie"
           }
          ],
          "scatter": [
           {
            "fillpattern": {
             "fillmode": "overlay",
             "size": 10,
             "solidity": 0.2
            },
            "type": "scatter"
           }
          ],
          "scatter3d": [
           {
            "line": {
             "colorbar": {
              "outlinewidth": 0,
              "ticks": ""
             }
            },
            "marker": {
             "colorbar": {
              "outlinewidth": 0,
              "ticks": ""
             }
            },
            "type": "scatter3d"
           }
          ],
          "scattercarpet": [
           {
            "marker": {
             "colorbar": {
              "outlinewidth": 0,
              "ticks": ""
             }
            },
            "type": "scattercarpet"
           }
          ],
          "scattergeo": [
           {
            "marker": {
             "colorbar": {
              "outlinewidth": 0,
              "ticks": ""
             }
            },
            "type": "scattergeo"
           }
          ],
          "scattergl": [
           {
            "marker": {
             "colorbar": {
              "outlinewidth": 0,
              "ticks": ""
             }
            },
            "type": "scattergl"
           }
          ],
          "scattermapbox": [
           {
            "marker": {
             "colorbar": {
              "outlinewidth": 0,
              "ticks": ""
             }
            },
            "type": "scattermapbox"
           }
          ],
          "scatterpolar": [
           {
            "marker": {
             "colorbar": {
              "outlinewidth": 0,
              "ticks": ""
             }
            },
            "type": "scatterpolar"
           }
          ],
          "scatterpolargl": [
           {
            "marker": {
             "colorbar": {
              "outlinewidth": 0,
              "ticks": ""
             }
            },
            "type": "scatterpolargl"
           }
          ],
          "scatterternary": [
           {
            "marker": {
             "colorbar": {
              "outlinewidth": 0,
              "ticks": ""
             }
            },
            "type": "scatterternary"
           }
          ],
          "surface": [
           {
            "colorbar": {
             "outlinewidth": 0,
             "ticks": ""
            },
            "colorscale": [
             [
              0,
              "#0d0887"
             ],
             [
              0.1111111111111111,
              "#46039f"
             ],
             [
              0.2222222222222222,
              "#7201a8"
             ],
             [
              0.3333333333333333,
              "#9c179e"
             ],
             [
              0.4444444444444444,
              "#bd3786"
             ],
             [
              0.5555555555555556,
              "#d8576b"
             ],
             [
              0.6666666666666666,
              "#ed7953"
             ],
             [
              0.7777777777777778,
              "#fb9f3a"
             ],
             [
              0.8888888888888888,
              "#fdca26"
             ],
             [
              1,
              "#f0f921"
             ]
            ],
            "type": "surface"
           }
          ],
          "table": [
           {
            "cells": {
             "fill": {
              "color": "#EBF0F8"
             },
             "line": {
              "color": "white"
             }
            },
            "header": {
             "fill": {
              "color": "#C8D4E3"
             },
             "line": {
              "color": "white"
             }
            },
            "type": "table"
           }
          ]
         },
         "layout": {
          "annotationdefaults": {
           "arrowcolor": "#2a3f5f",
           "arrowhead": 0,
           "arrowwidth": 1
          },
          "autotypenumbers": "strict",
          "coloraxis": {
           "colorbar": {
            "outlinewidth": 0,
            "ticks": ""
           }
          },
          "colorscale": {
           "diverging": [
            [
             0,
             "#8e0152"
            ],
            [
             0.1,
             "#c51b7d"
            ],
            [
             0.2,
             "#de77ae"
            ],
            [
             0.3,
             "#f1b6da"
            ],
            [
             0.4,
             "#fde0ef"
            ],
            [
             0.5,
             "#f7f7f7"
            ],
            [
             0.6,
             "#e6f5d0"
            ],
            [
             0.7,
             "#b8e186"
            ],
            [
             0.8,
             "#7fbc41"
            ],
            [
             0.9,
             "#4d9221"
            ],
            [
             1,
             "#276419"
            ]
           ],
           "sequential": [
            [
             0,
             "#0d0887"
            ],
            [
             0.1111111111111111,
             "#46039f"
            ],
            [
             0.2222222222222222,
             "#7201a8"
            ],
            [
             0.3333333333333333,
             "#9c179e"
            ],
            [
             0.4444444444444444,
             "#bd3786"
            ],
            [
             0.5555555555555556,
             "#d8576b"
            ],
            [
             0.6666666666666666,
             "#ed7953"
            ],
            [
             0.7777777777777778,
             "#fb9f3a"
            ],
            [
             0.8888888888888888,
             "#fdca26"
            ],
            [
             1,
             "#f0f921"
            ]
           ],
           "sequentialminus": [
            [
             0,
             "#0d0887"
            ],
            [
             0.1111111111111111,
             "#46039f"
            ],
            [
             0.2222222222222222,
             "#7201a8"
            ],
            [
             0.3333333333333333,
             "#9c179e"
            ],
            [
             0.4444444444444444,
             "#bd3786"
            ],
            [
             0.5555555555555556,
             "#d8576b"
            ],
            [
             0.6666666666666666,
             "#ed7953"
            ],
            [
             0.7777777777777778,
             "#fb9f3a"
            ],
            [
             0.8888888888888888,
             "#fdca26"
            ],
            [
             1,
             "#f0f921"
            ]
           ]
          },
          "colorway": [
           "#636efa",
           "#EF553B",
           "#00cc96",
           "#ab63fa",
           "#FFA15A",
           "#19d3f3",
           "#FF6692",
           "#B6E880",
           "#FF97FF",
           "#FECB52"
          ],
          "font": {
           "color": "#2a3f5f"
          },
          "geo": {
           "bgcolor": "white",
           "lakecolor": "white",
           "landcolor": "#E5ECF6",
           "showlakes": true,
           "showland": true,
           "subunitcolor": "white"
          },
          "hoverlabel": {
           "align": "left"
          },
          "hovermode": "closest",
          "mapbox": {
           "style": "light"
          },
          "paper_bgcolor": "white",
          "plot_bgcolor": "#E5ECF6",
          "polar": {
           "angularaxis": {
            "gridcolor": "white",
            "linecolor": "white",
            "ticks": ""
           },
           "bgcolor": "#E5ECF6",
           "radialaxis": {
            "gridcolor": "white",
            "linecolor": "white",
            "ticks": ""
           }
          },
          "scene": {
           "xaxis": {
            "backgroundcolor": "#E5ECF6",
            "gridcolor": "white",
            "gridwidth": 2,
            "linecolor": "white",
            "showbackground": true,
            "ticks": "",
            "zerolinecolor": "white"
           },
           "yaxis": {
            "backgroundcolor": "#E5ECF6",
            "gridcolor": "white",
            "gridwidth": 2,
            "linecolor": "white",
            "showbackground": true,
            "ticks": "",
            "zerolinecolor": "white"
           },
           "zaxis": {
            "backgroundcolor": "#E5ECF6",
            "gridcolor": "white",
            "gridwidth": 2,
            "linecolor": "white",
            "showbackground": true,
            "ticks": "",
            "zerolinecolor": "white"
           }
          },
          "shapedefaults": {
           "line": {
            "color": "#2a3f5f"
           }
          },
          "ternary": {
           "aaxis": {
            "gridcolor": "white",
            "linecolor": "white",
            "ticks": ""
           },
           "baxis": {
            "gridcolor": "white",
            "linecolor": "white",
            "ticks": ""
           },
           "bgcolor": "#E5ECF6",
           "caxis": {
            "gridcolor": "white",
            "linecolor": "white",
            "ticks": ""
           }
          },
          "title": {
           "x": 0.05
          },
          "xaxis": {
           "automargin": true,
           "gridcolor": "white",
           "linecolor": "white",
           "ticks": "",
           "title": {
            "standoff": 15
           },
           "zerolinecolor": "white",
           "zerolinewidth": 2
          },
          "yaxis": {
           "automargin": true,
           "gridcolor": "white",
           "linecolor": "white",
           "ticks": "",
           "title": {
            "standoff": 15
           },
           "zerolinecolor": "white",
           "zerolinewidth": 2
          }
         }
        },
        "xaxis": {
         "anchor": "y",
         "domain": [
          0,
          1
         ],
         "title": {
          "text": "label"
         }
        },
        "yaxis": {
         "anchor": "x",
         "domain": [
          0,
          1
         ],
         "title": {
          "text": "value"
         }
        }
       }
      },
      "text/html": [
       "<div>                            <div id=\"1b95e612-c1b6-4ae2-8a2b-d50552a81e26\" class=\"plotly-graph-div\" style=\"height:525px; width:100%;\"></div>            <script type=\"text/javascript\">                require([\"plotly\"], function(Plotly) {                    window.PLOTLYENV=window.PLOTLYENV || {};                                    if (document.getElementById(\"1b95e612-c1b6-4ae2-8a2b-d50552a81e26\")) {                    Plotly.newPlot(                        \"1b95e612-c1b6-4ae2-8a2b-d50552a81e26\",                        [{\"alignmentgroup\":\"True\",\"hovertemplate\":\"Subject=19\\u6b73\\u4ee5\\u4e0b<br>label=%{x}<br>value=%{y}<extra></extra>\",\"legendgroup\":\"19\\u6b73\\u4ee5\\u4e0b\",\"marker\":{\"color\":\"#636efa\",\"pattern\":{\"shape\":\"\"}},\"name\":\"19\\u6b73\\u4ee5\\u4e0b\",\"offsetgroup\":\"19\\u6b73\\u4ee5\\u4e0b\",\"orientation\":\"v\",\"showlegend\":true,\"textposition\":\"auto\",\"x\":[\"1\\u30f6\\u6708\\u306b5\\u6642\\u9593\\u672a\\u6e80(1\\u65e510\\u5206\\u672a\\u6e80)\",\"1\\u30f6\\u6708\\u306b5\\u6642\\u9593\\u4ee5\\u4e0a15\\u6642\\u9593\\u672a\\u6e80(1\\u65e510\\u5206~30\\u5206\\u7a0b\\u5ea6)\",\"1\\u30f6\\u6708\\u306b15\\u6642\\u9593\\u4ee5\\u4e0a30\\u6642\\u9593\\u672a\\u6e80(1\\u65e530\\u5206~60\\u5206\\u7a0b\\u5ea6)\",\"1\\u30f6\\u6708\\u306b30\\u6642\\u9593\\u4ee5\\u4e0a60\\u6642\\u9593\\u672a\\u6e80(1\\u65e51~2\\u6642\\u9593\\u7a0b\\u5ea6)\",\"1\\u30f6\\u6708\\u306b60\\u6642\\u9593\\u4ee5\\u4e0a(1\\u65e52\\u6642\\u9593\\u4ee5\\u4e0a)\",\"\\u7121\\u56de\\u7b54\"],\"xaxis\":\"x\",\"y\":[0,0,5,25,70,0],\"yaxis\":\"y\",\"type\":\"bar\"},{\"alignmentgroup\":\"True\",\"hovertemplate\":\"Subject=20\\u6b73\\u4ee3<br>label=%{x}<br>value=%{y}<extra></extra>\",\"legendgroup\":\"20\\u6b73\\u4ee3\",\"marker\":{\"color\":\"#EF553B\",\"pattern\":{\"shape\":\"\"}},\"name\":\"20\\u6b73\\u4ee3\",\"offsetgroup\":\"20\\u6b73\\u4ee3\",\"orientation\":\"v\",\"showlegend\":true,\"textposition\":\"auto\",\"x\":[\"1\\u30f6\\u6708\\u306b5\\u6642\\u9593\\u672a\\u6e80(1\\u65e510\\u5206\\u672a\\u6e80)\",\"1\\u30f6\\u6708\\u306b5\\u6642\\u9593\\u4ee5\\u4e0a15\\u6642\\u9593\\u672a\\u6e80(1\\u65e510\\u5206~30\\u5206\\u7a0b\\u5ea6)\",\"1\\u30f6\\u6708\\u306b15\\u6642\\u9593\\u4ee5\\u4e0a30\\u6642\\u9593\\u672a\\u6e80(1\\u65e530\\u5206~60\\u5206\\u7a0b\\u5ea6)\",\"1\\u30f6\\u6708\\u306b30\\u6642\\u9593\\u4ee5\\u4e0a60\\u6642\\u9593\\u672a\\u6e80(1\\u65e51~2\\u6642\\u9593\\u7a0b\\u5ea6)\",\"1\\u30f6\\u6708\\u306b60\\u6642\\u9593\\u4ee5\\u4e0a(1\\u65e52\\u6642\\u9593\\u4ee5\\u4e0a)\",\"\\u7121\\u56de\\u7b54\"],\"xaxis\":\"x\",\"y\":[0.9,4.7,7.5,24.5,62.3,0.0],\"yaxis\":\"y\",\"type\":\"bar\"},{\"alignmentgroup\":\"True\",\"hovertemplate\":\"Subject=30\\u6b73\\u4ee3<br>label=%{x}<br>value=%{y}<extra></extra>\",\"legendgroup\":\"30\\u6b73\\u4ee3\",\"marker\":{\"color\":\"#00cc96\",\"pattern\":{\"shape\":\"\"}},\"name\":\"30\\u6b73\\u4ee3\",\"offsetgroup\":\"30\\u6b73\\u4ee3\",\"orientation\":\"v\",\"showlegend\":true,\"textposition\":\"auto\",\"x\":[\"1\\u30f6\\u6708\\u306b5\\u6642\\u9593\\u672a\\u6e80(1\\u65e510\\u5206\\u672a\\u6e80)\",\"1\\u30f6\\u6708\\u306b5\\u6642\\u9593\\u4ee5\\u4e0a15\\u6642\\u9593\\u672a\\u6e80(1\\u65e510\\u5206~30\\u5206\\u7a0b\\u5ea6)\",\"1\\u30f6\\u6708\\u306b15\\u6642\\u9593\\u4ee5\\u4e0a30\\u6642\\u9593\\u672a\\u6e80(1\\u65e530\\u5206~60\\u5206\\u7a0b\\u5ea6)\",\"1\\u30f6\\u6708\\u306b30\\u6642\\u9593\\u4ee5\\u4e0a60\\u6642\\u9593\\u672a\\u6e80(1\\u65e51~2\\u6642\\u9593\\u7a0b\\u5ea6)\",\"1\\u30f6\\u6708\\u306b60\\u6642\\u9593\\u4ee5\\u4e0a(1\\u65e52\\u6642\\u9593\\u4ee5\\u4e0a)\",\"\\u7121\\u56de\\u7b54\"],\"xaxis\":\"x\",\"y\":[5.5,7.3,18.2,32.7,36.4,0.0],\"yaxis\":\"y\",\"type\":\"bar\"},{\"alignmentgroup\":\"True\",\"hovertemplate\":\"Subject=40\\u6b73\\u4ee3<br>label=%{x}<br>value=%{y}<extra></extra>\",\"legendgroup\":\"40\\u6b73\\u4ee3\",\"marker\":{\"color\":\"#ab63fa\",\"pattern\":{\"shape\":\"\"}},\"name\":\"40\\u6b73\\u4ee3\",\"offsetgroup\":\"40\\u6b73\\u4ee3\",\"orientation\":\"v\",\"showlegend\":true,\"textposition\":\"auto\",\"x\":[\"1\\u30f6\\u6708\\u306b5\\u6642\\u9593\\u672a\\u6e80(1\\u65e510\\u5206\\u672a\\u6e80)\",\"1\\u30f6\\u6708\\u306b5\\u6642\\u9593\\u4ee5\\u4e0a15\\u6642\\u9593\\u672a\\u6e80(1\\u65e510\\u5206~30\\u5206\\u7a0b\\u5ea6)\",\"1\\u30f6\\u6708\\u306b15\\u6642\\u9593\\u4ee5\\u4e0a30\\u6642\\u9593\\u672a\\u6e80(1\\u65e530\\u5206~60\\u5206\\u7a0b\\u5ea6)\",\"1\\u30f6\\u6708\\u306b30\\u6642\\u9593\\u4ee5\\u4e0a60\\u6642\\u9593\\u672a\\u6e80(1\\u65e51~2\\u6642\\u9593\\u7a0b\\u5ea6)\",\"1\\u30f6\\u6708\\u306b60\\u6642\\u9593\\u4ee5\\u4e0a(1\\u65e52\\u6642\\u9593\\u4ee5\\u4e0a)\",\"\\u7121\\u56de\\u7b54\"],\"xaxis\":\"x\",\"y\":[5.7,13.7,14.5,35.7,30.4,0.0],\"yaxis\":\"y\",\"type\":\"bar\"},{\"alignmentgroup\":\"True\",\"hovertemplate\":\"Subject=50\\u6b73\\u4ee3<br>label=%{x}<br>value=%{y}<extra></extra>\",\"legendgroup\":\"50\\u6b73\\u4ee3\",\"marker\":{\"color\":\"#FFA15A\",\"pattern\":{\"shape\":\"\"}},\"name\":\"50\\u6b73\\u4ee3\",\"offsetgroup\":\"50\\u6b73\\u4ee3\",\"orientation\":\"v\",\"showlegend\":true,\"textposition\":\"auto\",\"x\":[\"1\\u30f6\\u6708\\u306b5\\u6642\\u9593\\u672a\\u6e80(1\\u65e510\\u5206\\u672a\\u6e80)\",\"1\\u30f6\\u6708\\u306b5\\u6642\\u9593\\u4ee5\\u4e0a15\\u6642\\u9593\\u672a\\u6e80(1\\u65e510\\u5206~30\\u5206\\u7a0b\\u5ea6)\",\"1\\u30f6\\u6708\\u306b15\\u6642\\u9593\\u4ee5\\u4e0a30\\u6642\\u9593\\u672a\\u6e80(1\\u65e530\\u5206~60\\u5206\\u7a0b\\u5ea6)\",\"1\\u30f6\\u6708\\u306b30\\u6642\\u9593\\u4ee5\\u4e0a60\\u6642\\u9593\\u672a\\u6e80(1\\u65e51~2\\u6642\\u9593\\u7a0b\\u5ea6)\",\"1\\u30f6\\u6708\\u306b60\\u6642\\u9593\\u4ee5\\u4e0a(1\\u65e52\\u6642\\u9593\\u4ee5\\u4e0a)\",\"\\u7121\\u56de\\u7b54\"],\"xaxis\":\"x\",\"y\":[11.0,19.6,20.1,23.9,25.4,0.0],\"yaxis\":\"y\",\"type\":\"bar\"},{\"alignmentgroup\":\"True\",\"hovertemplate\":\"Subject=60\\u6b72\\u4ee3<br>label=%{x}<br>value=%{y}<extra></extra>\",\"legendgroup\":\"60\\u6b72\\u4ee3\",\"marker\":{\"color\":\"#19d3f3\",\"pattern\":{\"shape\":\"\"}},\"name\":\"60\\u6b72\\u4ee3\",\"offsetgroup\":\"60\\u6b72\\u4ee3\",\"orientation\":\"v\",\"showlegend\":true,\"textposition\":\"auto\",\"x\":[\"1\\u30f6\\u6708\\u306b5\\u6642\\u9593\\u672a\\u6e80(1\\u65e510\\u5206\\u672a\\u6e80)\",\"1\\u30f6\\u6708\\u306b5\\u6642\\u9593\\u4ee5\\u4e0a15\\u6642\\u9593\\u672a\\u6e80(1\\u65e510\\u5206~30\\u5206\\u7a0b\\u5ea6)\",\"1\\u30f6\\u6708\\u306b15\\u6642\\u9593\\u4ee5\\u4e0a30\\u6642\\u9593\\u672a\\u6e80(1\\u65e530\\u5206~60\\u5206\\u7a0b\\u5ea6)\",\"1\\u30f6\\u6708\\u306b30\\u6642\\u9593\\u4ee5\\u4e0a60\\u6642\\u9593\\u672a\\u6e80(1\\u65e51~2\\u6642\\u9593\\u7a0b\\u5ea6)\",\"1\\u30f6\\u6708\\u306b60\\u6642\\u9593\\u4ee5\\u4e0a(1\\u65e52\\u6642\\u9593\\u4ee5\\u4e0a)\",\"\\u7121\\u56de\\u7b54\"],\"xaxis\":\"x\",\"y\":[22.1,21.5,16.4,18.1,19.6,2.3],\"yaxis\":\"y\",\"type\":\"bar\"},{\"alignmentgroup\":\"True\",\"hovertemplate\":\"Subject=70\\u6b72\\u4ee5\\u4e0a<br>label=%{x}<br>value=%{y}<extra></extra>\",\"legendgroup\":\"70\\u6b72\\u4ee5\\u4e0a\",\"marker\":{\"color\":\"#FF6692\",\"pattern\":{\"shape\":\"\"}},\"name\":\"70\\u6b72\\u4ee5\\u4e0a\",\"offsetgroup\":\"70\\u6b72\\u4ee5\\u4e0a\",\"orientation\":\"v\",\"showlegend\":true,\"textposition\":\"auto\",\"x\":[\"1\\u30f6\\u6708\\u306b5\\u6642\\u9593\\u672a\\u6e80(1\\u65e510\\u5206\\u672a\\u6e80)\",\"1\\u30f6\\u6708\\u306b5\\u6642\\u9593\\u4ee5\\u4e0a15\\u6642\\u9593\\u672a\\u6e80(1\\u65e510\\u5206~30\\u5206\\u7a0b\\u5ea6)\",\"1\\u30f6\\u6708\\u306b15\\u6642\\u9593\\u4ee5\\u4e0a30\\u6642\\u9593\\u672a\\u6e80(1\\u65e530\\u5206~60\\u5206\\u7a0b\\u5ea6)\",\"1\\u30f6\\u6708\\u306b30\\u6642\\u9593\\u4ee5\\u4e0a60\\u6642\\u9593\\u672a\\u6e80(1\\u65e51~2\\u6642\\u9593\\u7a0b\\u5ea6)\",\"1\\u30f6\\u6708\\u306b60\\u6642\\u9593\\u4ee5\\u4e0a(1\\u65e52\\u6642\\u9593\\u4ee5\\u4e0a)\",\"\\u7121\\u56de\\u7b54\"],\"xaxis\":\"x\",\"y\":[26.1,24.5,17.9,20.2,10.7,0.6],\"yaxis\":\"y\",\"type\":\"bar\"}],                        {\"template\":{\"data\":{\"histogram2dcontour\":[{\"type\":\"histogram2dcontour\",\"colorbar\":{\"outlinewidth\":0,\"ticks\":\"\"},\"colorscale\":[[0.0,\"#0d0887\"],[0.1111111111111111,\"#46039f\"],[0.2222222222222222,\"#7201a8\"],[0.3333333333333333,\"#9c179e\"],[0.4444444444444444,\"#bd3786\"],[0.5555555555555556,\"#d8576b\"],[0.6666666666666666,\"#ed7953\"],[0.7777777777777778,\"#fb9f3a\"],[0.8888888888888888,\"#fdca26\"],[1.0,\"#f0f921\"]]}],\"choropleth\":[{\"type\":\"choropleth\",\"colorbar\":{\"outlinewidth\":0,\"ticks\":\"\"}}],\"histogram2d\":[{\"type\":\"histogram2d\",\"colorbar\":{\"outlinewidth\":0,\"ticks\":\"\"},\"colorscale\":[[0.0,\"#0d0887\"],[0.1111111111111111,\"#46039f\"],[0.2222222222222222,\"#7201a8\"],[0.3333333333333333,\"#9c179e\"],[0.4444444444444444,\"#bd3786\"],[0.5555555555555556,\"#d8576b\"],[0.6666666666666666,\"#ed7953\"],[0.7777777777777778,\"#fb9f3a\"],[0.8888888888888888,\"#fdca26\"],[1.0,\"#f0f921\"]]}],\"heatmap\":[{\"type\":\"heatmap\",\"colorbar\":{\"outlinewidth\":0,\"ticks\":\"\"},\"colorscale\":[[0.0,\"#0d0887\"],[0.1111111111111111,\"#46039f\"],[0.2222222222222222,\"#7201a8\"],[0.3333333333333333,\"#9c179e\"],[0.4444444444444444,\"#bd3786\"],[0.5555555555555556,\"#d8576b\"],[0.6666666666666666,\"#ed7953\"],[0.7777777777777778,\"#fb9f3a\"],[0.8888888888888888,\"#fdca26\"],[1.0,\"#f0f921\"]]}],\"heatmapgl\":[{\"type\":\"heatmapgl\",\"colorbar\":{\"outlinewidth\":0,\"ticks\":\"\"},\"colorscale\":[[0.0,\"#0d0887\"],[0.1111111111111111,\"#46039f\"],[0.2222222222222222,\"#7201a8\"],[0.3333333333333333,\"#9c179e\"],[0.4444444444444444,\"#bd3786\"],[0.5555555555555556,\"#d8576b\"],[0.6666666666666666,\"#ed7953\"],[0.7777777777777778,\"#fb9f3a\"],[0.8888888888888888,\"#fdca26\"],[1.0,\"#f0f921\"]]}],\"contourcarpet\":[{\"type\":\"contourcarpet\",\"colorbar\":{\"outlinewidth\":0,\"ticks\":\"\"}}],\"contour\":[{\"type\":\"contour\",\"colorbar\":{\"outlinewidth\":0,\"ticks\":\"\"},\"colorscale\":[[0.0,\"#0d0887\"],[0.1111111111111111,\"#46039f\"],[0.2222222222222222,\"#7201a8\"],[0.3333333333333333,\"#9c179e\"],[0.4444444444444444,\"#bd3786\"],[0.5555555555555556,\"#d8576b\"],[0.6666666666666666,\"#ed7953\"],[0.7777777777777778,\"#fb9f3a\"],[0.8888888888888888,\"#fdca26\"],[1.0,\"#f0f921\"]]}],\"surface\":[{\"type\":\"surface\",\"colorbar\":{\"outlinewidth\":0,\"ticks\":\"\"},\"colorscale\":[[0.0,\"#0d0887\"],[0.1111111111111111,\"#46039f\"],[0.2222222222222222,\"#7201a8\"],[0.3333333333333333,\"#9c179e\"],[0.4444444444444444,\"#bd3786\"],[0.5555555555555556,\"#d8576b\"],[0.6666666666666666,\"#ed7953\"],[0.7777777777777778,\"#fb9f3a\"],[0.8888888888888888,\"#fdca26\"],[1.0,\"#f0f921\"]]}],\"mesh3d\":[{\"type\":\"mesh3d\",\"colorbar\":{\"outlinewidth\":0,\"ticks\":\"\"}}],\"scatter\":[{\"fillpattern\":{\"fillmode\":\"overlay\",\"size\":10,\"solidity\":0.2},\"type\":\"scatter\"}],\"parcoords\":[{\"type\":\"parcoords\",\"line\":{\"colorbar\":{\"outlinewidth\":0,\"ticks\":\"\"}}}],\"scatterpolargl\":[{\"type\":\"scatterpolargl\",\"marker\":{\"colorbar\":{\"outlinewidth\":0,\"ticks\":\"\"}}}],\"bar\":[{\"error_x\":{\"color\":\"#2a3f5f\"},\"error_y\":{\"color\":\"#2a3f5f\"},\"marker\":{\"line\":{\"color\":\"#E5ECF6\",\"width\":0.5},\"pattern\":{\"fillmode\":\"overlay\",\"size\":10,\"solidity\":0.2}},\"type\":\"bar\"}],\"scattergeo\":[{\"type\":\"scattergeo\",\"marker\":{\"colorbar\":{\"outlinewidth\":0,\"ticks\":\"\"}}}],\"scatterpolar\":[{\"type\":\"scatterpolar\",\"marker\":{\"colorbar\":{\"outlinewidth\":0,\"ticks\":\"\"}}}],\"histogram\":[{\"marker\":{\"pattern\":{\"fillmode\":\"overlay\",\"size\":10,\"solidity\":0.2}},\"type\":\"histogram\"}],\"scattergl\":[{\"type\":\"scattergl\",\"marker\":{\"colorbar\":{\"outlinewidth\":0,\"ticks\":\"\"}}}],\"scatter3d\":[{\"type\":\"scatter3d\",\"line\":{\"colorbar\":{\"outlinewidth\":0,\"ticks\":\"\"}},\"marker\":{\"colorbar\":{\"outlinewidth\":0,\"ticks\":\"\"}}}],\"scattermapbox\":[{\"type\":\"scattermapbox\",\"marker\":{\"colorbar\":{\"outlinewidth\":0,\"ticks\":\"\"}}}],\"scatterternary\":[{\"type\":\"scatterternary\",\"marker\":{\"colorbar\":{\"outlinewidth\":0,\"ticks\":\"\"}}}],\"scattercarpet\":[{\"type\":\"scattercarpet\",\"marker\":{\"colorbar\":{\"outlinewidth\":0,\"ticks\":\"\"}}}],\"carpet\":[{\"aaxis\":{\"endlinecolor\":\"#2a3f5f\",\"gridcolor\":\"white\",\"linecolor\":\"white\",\"minorgridcolor\":\"white\",\"startlinecolor\":\"#2a3f5f\"},\"baxis\":{\"endlinecolor\":\"#2a3f5f\",\"gridcolor\":\"white\",\"linecolor\":\"white\",\"minorgridcolor\":\"white\",\"startlinecolor\":\"#2a3f5f\"},\"type\":\"carpet\"}],\"table\":[{\"cells\":{\"fill\":{\"color\":\"#EBF0F8\"},\"line\":{\"color\":\"white\"}},\"header\":{\"fill\":{\"color\":\"#C8D4E3\"},\"line\":{\"color\":\"white\"}},\"type\":\"table\"}],\"barpolar\":[{\"marker\":{\"line\":{\"color\":\"#E5ECF6\",\"width\":0.5},\"pattern\":{\"fillmode\":\"overlay\",\"size\":10,\"solidity\":0.2}},\"type\":\"barpolar\"}],\"pie\":[{\"automargin\":true,\"type\":\"pie\"}]},\"layout\":{\"autotypenumbers\":\"strict\",\"colorway\":[\"#636efa\",\"#EF553B\",\"#00cc96\",\"#ab63fa\",\"#FFA15A\",\"#19d3f3\",\"#FF6692\",\"#B6E880\",\"#FF97FF\",\"#FECB52\"],\"font\":{\"color\":\"#2a3f5f\"},\"hovermode\":\"closest\",\"hoverlabel\":{\"align\":\"left\"},\"paper_bgcolor\":\"white\",\"plot_bgcolor\":\"#E5ECF6\",\"polar\":{\"bgcolor\":\"#E5ECF6\",\"angularaxis\":{\"gridcolor\":\"white\",\"linecolor\":\"white\",\"ticks\":\"\"},\"radialaxis\":{\"gridcolor\":\"white\",\"linecolor\":\"white\",\"ticks\":\"\"}},\"ternary\":{\"bgcolor\":\"#E5ECF6\",\"aaxis\":{\"gridcolor\":\"white\",\"linecolor\":\"white\",\"ticks\":\"\"},\"baxis\":{\"gridcolor\":\"white\",\"linecolor\":\"white\",\"ticks\":\"\"},\"caxis\":{\"gridcolor\":\"white\",\"linecolor\":\"white\",\"ticks\":\"\"}},\"coloraxis\":{\"colorbar\":{\"outlinewidth\":0,\"ticks\":\"\"}},\"colorscale\":{\"sequential\":[[0.0,\"#0d0887\"],[0.1111111111111111,\"#46039f\"],[0.2222222222222222,\"#7201a8\"],[0.3333333333333333,\"#9c179e\"],[0.4444444444444444,\"#bd3786\"],[0.5555555555555556,\"#d8576b\"],[0.6666666666666666,\"#ed7953\"],[0.7777777777777778,\"#fb9f3a\"],[0.8888888888888888,\"#fdca26\"],[1.0,\"#f0f921\"]],\"sequentialminus\":[[0.0,\"#0d0887\"],[0.1111111111111111,\"#46039f\"],[0.2222222222222222,\"#7201a8\"],[0.3333333333333333,\"#9c179e\"],[0.4444444444444444,\"#bd3786\"],[0.5555555555555556,\"#d8576b\"],[0.6666666666666666,\"#ed7953\"],[0.7777777777777778,\"#fb9f3a\"],[0.8888888888888888,\"#fdca26\"],[1.0,\"#f0f921\"]],\"diverging\":[[0,\"#8e0152\"],[0.1,\"#c51b7d\"],[0.2,\"#de77ae\"],[0.3,\"#f1b6da\"],[0.4,\"#fde0ef\"],[0.5,\"#f7f7f7\"],[0.6,\"#e6f5d0\"],[0.7,\"#b8e186\"],[0.8,\"#7fbc41\"],[0.9,\"#4d9221\"],[1,\"#276419\"]]},\"xaxis\":{\"gridcolor\":\"white\",\"linecolor\":\"white\",\"ticks\":\"\",\"title\":{\"standoff\":15},\"zerolinecolor\":\"white\",\"automargin\":true,\"zerolinewidth\":2},\"yaxis\":{\"gridcolor\":\"white\",\"linecolor\":\"white\",\"ticks\":\"\",\"title\":{\"standoff\":15},\"zerolinecolor\":\"white\",\"automargin\":true,\"zerolinewidth\":2},\"scene\":{\"xaxis\":{\"backgroundcolor\":\"#E5ECF6\",\"gridcolor\":\"white\",\"linecolor\":\"white\",\"showbackground\":true,\"ticks\":\"\",\"zerolinecolor\":\"white\",\"gridwidth\":2},\"yaxis\":{\"backgroundcolor\":\"#E5ECF6\",\"gridcolor\":\"white\",\"linecolor\":\"white\",\"showbackground\":true,\"ticks\":\"\",\"zerolinecolor\":\"white\",\"gridwidth\":2},\"zaxis\":{\"backgroundcolor\":\"#E5ECF6\",\"gridcolor\":\"white\",\"linecolor\":\"white\",\"showbackground\":true,\"ticks\":\"\",\"zerolinecolor\":\"white\",\"gridwidth\":2}},\"shapedefaults\":{\"line\":{\"color\":\"#2a3f5f\"}},\"annotationdefaults\":{\"arrowcolor\":\"#2a3f5f\",\"arrowhead\":0,\"arrowwidth\":1},\"geo\":{\"bgcolor\":\"white\",\"landcolor\":\"#E5ECF6\",\"subunitcolor\":\"white\",\"showland\":true,\"showlakes\":true,\"lakecolor\":\"white\"},\"title\":{\"x\":0.05},\"mapbox\":{\"style\":\"light\"}}},\"xaxis\":{\"anchor\":\"y\",\"domain\":[0.0,1.0],\"title\":{\"text\":\"label\"}},\"yaxis\":{\"anchor\":\"x\",\"domain\":[0.0,1.0],\"title\":{\"text\":\"value\"}},\"legend\":{\"title\":{\"text\":\"Subject\"},\"tracegroupgap\":0},\"margin\":{\"t\":60},\"barmode\":\"relative\"},                        {\"responsive\": true}                    ).then(function(){\n",
       "                            \n",
       "var gd = document.getElementById('1b95e612-c1b6-4ae2-8a2b-d50552a81e26');\n",
       "var x = new MutationObserver(function (mutations, observer) {{\n",
       "        var display = window.getComputedStyle(gd).display;\n",
       "        if (!display || display === 'none') {{\n",
       "            console.log([gd, 'removed!']);\n",
       "            Plotly.purge(gd);\n",
       "            observer.disconnect();\n",
       "        }}\n",
       "}});\n",
       "\n",
       "// Listen for the removal of the full notebook cells\n",
       "var notebookContainer = gd.closest('#notebook-container');\n",
       "if (notebookContainer) {{\n",
       "    x.observe(notebookContainer, {childList: true});\n",
       "}}\n",
       "\n",
       "// Listen for the clearing of the current output cell\n",
       "var outputEl = gd.closest('.output');\n",
       "if (outputEl) {{\n",
       "    x.observe(outputEl, {childList: true});\n",
       "}}\n",
       "\n",
       "                        })                };                });            </script>        </div>"
      ]
     },
     "metadata": {},
     "output_type": "display_data"
    }
   ],
   "source": [
    "fig = px.bar(df_graph2, x='label', y='value', color='Subject', barmode='relative')\n",
    "fig.show()"
   ]
  },
  {
   "cell_type": "code",
   "execution_count": 219,
   "id": "7670b175",
   "metadata": {},
   "outputs": [],
   "source": [
    "import json\n",
    "fpath = os.path.join('dataG', 'clipping_boundary.geojson')\n",
    "\n",
    "\n",
    "with open(fpath) as f:\n",
    "    geojson = json.load(f) # 辞書型で取得\n",
    "    \n",
    "    # https://qiita.com/HidKamiya/items/5e7240f8f66c9af8b10e"
   ]
  },
  {
   "cell_type": "code",
   "execution_count": 225,
   "id": "f7600ec6",
   "metadata": {},
   "outputs": [],
   "source": [
    "# HOTOSM Lao People's Democratic Republic Sea Ports (OpenStreetMap Export)\n",
    "# https://data.humdata.org/dataset/hotosm_lao_sea_ports\n",
    "\n",
    "#     HOTOSM Lao People's Democratic Republic Sea Ports\n",
    "# https://data.world/hot/a27ae824-b4b2-43e0-bb2f-6fc80511b799"
   ]
  },
  {
   "cell_type": "code",
   "execution_count": null,
   "id": "cb40cdb3",
   "metadata": {},
   "outputs": [],
   "source": [
    "# !pip install folium\n",
    "# !pip install geopandas\n",
    "# !pip install contextily"
   ]
  },
  {
   "cell_type": "code",
   "execution_count": 218,
   "id": "2b7e6526",
   "metadata": {},
   "outputs": [],
   "source": [
    "import folium\n",
    "import geopandas as gpd\n",
    "import contextily as cx"
   ]
  },
  {
   "cell_type": "code",
   "execution_count": 227,
   "id": "3cb732bb",
   "metadata": {},
   "outputs": [
    {
     "data": {
      "text/html": [
       "<div style=\"width:100%;\"><div style=\"position:relative;width:100%;height:0;padding-bottom:60%;\"><span style=\"color:#565656\">Make this Notebook Trusted to load map: File -> Trust Notebook</span><iframe srcdoc=\"&lt;!DOCTYPE html&gt;\n",
       "&lt;html&gt;\n",
       "&lt;head&gt;\n",
       "    \n",
       "    &lt;meta http-equiv=&quot;content-type&quot; content=&quot;text/html; charset=UTF-8&quot; /&gt;\n",
       "    \n",
       "        &lt;script&gt;\n",
       "            L_NO_TOUCH = false;\n",
       "            L_DISABLE_3D = false;\n",
       "        &lt;/script&gt;\n",
       "    \n",
       "    &lt;style&gt;html, body {width: 100%;height: 100%;margin: 0;padding: 0;}&lt;/style&gt;\n",
       "    &lt;style&gt;#map {position:absolute;top:0;bottom:0;right:0;left:0;}&lt;/style&gt;\n",
       "    &lt;script src=&quot;https://cdn.jsdelivr.net/npm/leaflet@1.9.3/dist/leaflet.js&quot;&gt;&lt;/script&gt;\n",
       "    &lt;script src=&quot;https://code.jquery.com/jquery-1.12.4.min.js&quot;&gt;&lt;/script&gt;\n",
       "    &lt;script src=&quot;https://cdn.jsdelivr.net/npm/bootstrap@5.2.2/dist/js/bootstrap.bundle.min.js&quot;&gt;&lt;/script&gt;\n",
       "    &lt;script src=&quot;https://cdnjs.cloudflare.com/ajax/libs/Leaflet.awesome-markers/2.0.2/leaflet.awesome-markers.js&quot;&gt;&lt;/script&gt;\n",
       "    &lt;link rel=&quot;stylesheet&quot; href=&quot;https://cdn.jsdelivr.net/npm/leaflet@1.9.3/dist/leaflet.css&quot;/&gt;\n",
       "    &lt;link rel=&quot;stylesheet&quot; href=&quot;https://cdn.jsdelivr.net/npm/bootstrap@5.2.2/dist/css/bootstrap.min.css&quot;/&gt;\n",
       "    &lt;link rel=&quot;stylesheet&quot; href=&quot;https://netdna.bootstrapcdn.com/bootstrap/3.0.0/css/bootstrap.min.css&quot;/&gt;\n",
       "    &lt;link rel=&quot;stylesheet&quot; href=&quot;https://cdn.jsdelivr.net/npm/@fortawesome/fontawesome-free@6.2.0/css/all.min.css&quot;/&gt;\n",
       "    &lt;link rel=&quot;stylesheet&quot; href=&quot;https://cdnjs.cloudflare.com/ajax/libs/Leaflet.awesome-markers/2.0.2/leaflet.awesome-markers.css&quot;/&gt;\n",
       "    &lt;link rel=&quot;stylesheet&quot; href=&quot;https://cdn.jsdelivr.net/gh/python-visualization/folium/folium/templates/leaflet.awesome.rotate.min.css&quot;/&gt;\n",
       "    \n",
       "            &lt;meta name=&quot;viewport&quot; content=&quot;width=device-width,\n",
       "                initial-scale=1.0, maximum-scale=1.0, user-scalable=no&quot; /&gt;\n",
       "            &lt;style&gt;\n",
       "                #map_4af9854d9522427fe18a7a0ecb314c92 {\n",
       "                    position: relative;\n",
       "                    width: 100.0%;\n",
       "                    height: 100.0%;\n",
       "                    left: 0.0%;\n",
       "                    top: 0.0%;\n",
       "                }\n",
       "                .leaflet-container { font-size: 1rem; }\n",
       "            &lt;/style&gt;\n",
       "        \n",
       "&lt;/head&gt;\n",
       "&lt;body&gt;\n",
       "    \n",
       "    \n",
       "            &lt;div class=&quot;folium-map&quot; id=&quot;map_4af9854d9522427fe18a7a0ecb314c92&quot; &gt;&lt;/div&gt;\n",
       "        \n",
       "&lt;/body&gt;\n",
       "&lt;script&gt;\n",
       "    \n",
       "    \n",
       "            var map_4af9854d9522427fe18a7a0ecb314c92 = L.map(\n",
       "                &quot;map_4af9854d9522427fe18a7a0ecb314c92&quot;,\n",
       "                {\n",
       "                    center: [14.9728, 105.9212],\n",
       "                    crs: L.CRS.EPSG3857,\n",
       "                    zoom: 5,\n",
       "                    zoomControl: true,\n",
       "                    preferCanvas: false,\n",
       "                }\n",
       "            );\n",
       "\n",
       "            \n",
       "\n",
       "        \n",
       "    \n",
       "            var tile_layer_0d649c040b63963364901c96d3f980e5 = L.tileLayer(\n",
       "                &quot;https://{s}.tile.openstreetmap.org/{z}/{x}/{y}.png&quot;,\n",
       "                {&quot;attribution&quot;: &quot;Data by \\u0026copy; \\u003ca target=\\&quot;_blank\\&quot; href=\\&quot;http://openstreetmap.org\\&quot;\\u003eOpenStreetMap\\u003c/a\\u003e, under \\u003ca target=\\&quot;_blank\\&quot; href=\\&quot;http://www.openstreetmap.org/copyright\\&quot;\\u003eODbL\\u003c/a\\u003e.&quot;, &quot;detectRetina&quot;: false, &quot;maxNativeZoom&quot;: 18, &quot;maxZoom&quot;: 18, &quot;minZoom&quot;: 0, &quot;noWrap&quot;: false, &quot;opacity&quot;: 1, &quot;subdomains&quot;: &quot;abc&quot;, &quot;tms&quot;: false}\n",
       "            ).addTo(map_4af9854d9522427fe18a7a0ecb314c92);\n",
       "        \n",
       "    \n",
       "            var choropleth_65153010268ff3e0e43d6d5eb543aad4 = L.featureGroup(\n",
       "                {}\n",
       "            ).addTo(map_4af9854d9522427fe18a7a0ecb314c92);\n",
       "        \n",
       "    \n",
       "        function geo_json_518f4cda2ca2a56de667d4d8fc61fc14_styler(feature) {\n",
       "            switch(feature.id) {\n",
       "                default:\n",
       "                    return {&quot;color&quot;: &quot;black&quot;, &quot;fillColor&quot;: &quot;blue&quot;, &quot;fillOpacity&quot;: 0.6, &quot;opacity&quot;: 1, &quot;weight&quot;: 1};\n",
       "            }\n",
       "        }\n",
       "\n",
       "        function geo_json_518f4cda2ca2a56de667d4d8fc61fc14_onEachFeature(feature, layer) {\n",
       "            layer.on({\n",
       "            });\n",
       "        };\n",
       "        var geo_json_518f4cda2ca2a56de667d4d8fc61fc14 = L.geoJson(null, {\n",
       "                onEachFeature: geo_json_518f4cda2ca2a56de667d4d8fc61fc14_onEachFeature,\n",
       "            \n",
       "                style: geo_json_518f4cda2ca2a56de667d4d8fc61fc14_styler,\n",
       "        });\n",
       "\n",
       "        function geo_json_518f4cda2ca2a56de667d4d8fc61fc14_add (data) {\n",
       "            geo_json_518f4cda2ca2a56de667d4d8fc61fc14\n",
       "                .addData(data)\n",
       "                .addTo(choropleth_65153010268ff3e0e43d6d5eb543aad4);\n",
       "        }\n",
       "            geo_json_518f4cda2ca2a56de667d4d8fc61fc14_add({&quot;features&quot;: [{&quot;geometry&quot;: {&quot;coordinates&quot;: [[[105.19477844238281, 14.352208714914282], [105.19889831542969, 14.336242974455658], [105.19958496093749, 14.3069694978258], [105.21400451660156, 14.28235021221402], [105.2387237548828, 14.243086862716888], [105.25657653808594, 14.181183312878293], [105.29502868652344, 14.149226475115066], [105.36026000976562, 14.097287033045351], [105.41175842285156, 14.095289125751052], [105.45913696289062, 14.097952998255668], [105.50239562988281, 14.126587662130191], [105.55526733398438, 14.1525555222226], [105.58616638183594, 14.131914644334728], [105.64796447753906, 14.09262522214733], [105.70426940917969, 14.080637271223901], [105.77362060546875, 14.079305237831093], [105.77636718749999, 14.028682219962159], [105.86700439453125, 13.950727579161244], [105.88897705078125, 13.94273073886049], [105.90682983398438, 13.924736835233936], [105.93292236328124, 13.921404477043424], [105.99472045898436, 13.916739094869909], [106.11419677734375, 13.899409708608937], [106.10801696777344, 13.982712166370877], [106.14234924316405, 14.00669768999448], [106.17942810058594, 14.019355706886051], [106.19590759277344, 14.063986295753368], [106.12724304199217, 14.115933323814625], [106.11831665039062, 14.187840420899674], [106.09771728515625, 14.197160043603724], [106.06544494628905, 14.204482335282046], [106.03179931640625, 14.257728233326104], [106.04141235351561, 14.269041368611902], [106.02287292480469, 14.330920808224132], [106.07643127441406, 14.329590246930028], [106.09085083007812, 14.33757349627395], [106.0956573486328, 14.36218672475432], [106.17874145507812, 14.341565014343121], [106.21650695800781, 14.36085634914227], [106.23641967773436, 14.377485475623596], [106.26251220703125, 14.463936962155316], [106.31332397460938, 14.432685296972322], [106.336669921875, 14.434015244508695], [106.37374877929688, 14.446649349716095], [106.41220092773438, 14.445319477691228], [106.48155212402344, 14.508479605579423], [106.48635864257811, 14.525762398955914], [106.47125244140625, 14.54703167500033], [106.53717041015625, 14.580260816495427], [106.55296325683594, 14.498508149446216], [106.63124084472656, 14.438669998308951], [106.73149108886719, 14.412070094596348], [106.80015563964844, 14.305638794557652], [106.85028076171875, 14.279023075062167], [106.91619873046875, 14.312957564986203], [106.94847106933594, 14.304308083408431], [106.97250366210938, 14.308965537949545], [107.05833435058594, 14.4207154116971], [107.07275390625, 14.392783179432286], [107.09266662597656, 14.377485475623596], [107.17781066894531, 14.41074001605191], [107.21214294433594, 14.471250547113467], [107.24853515625, 14.473909972825156], [107.26982116699219, 14.498508149446216], [107.2657012939453, 14.531744589750675], [107.28904724121092, 14.543043841708997], [107.30690002441406, 14.575609038170498], [107.33573913574217, 14.572950835033037], [107.36595153808594, 14.53839127853098], [107.44285583496094, 14.519780046326085], [107.45864868164062, 14.530415228007362], [107.457275390625, 14.549025564638553], [107.47581481933592, 14.614149377380892], [107.49504089355469, 14.618800340893397], [107.52388000488281, 14.652682958143942], [107.55477905273436, 14.701172488789036], [107.54653930664061, 14.73105793444659], [107.54653930664061, 14.750979288703963], [107.52044677734375, 14.794135964114949], [107.59735107421875, 14.867150772062557], [107.58773803710938, 14.898340485503253], [107.48199462890625, 14.982596458066164], [107.48405456542967, 15.012442992173048], [107.54104614257812, 15.042948473518178], [107.58567810058592, 15.02106454842152], [107.62619018554688, 15.05024261622183], [107.60971069335938, 15.08803553604297], [107.6275634765625, 15.107923848482166], [107.62344360351562, 15.129798839652203], [107.63099670410156, 15.150346017071188], [107.60009765625, 15.196735527225155], [107.62893676757812, 15.217938764883565], [107.63648986816406, 15.231852229864769], [107.6220703125, 15.27491188298406], [107.6392364501953, 15.31597593426845], [107.61314392089844, 15.364315211533489], [107.62825012207031, 15.417938829976249], [107.60627746582031, 15.42786761250782], [107.58018493652344, 15.417938829976249], [107.56095886230469, 15.402051791032589], [107.52731323242188, 15.418600763577677], [107.53280639648438, 15.447723752900227], [107.51358032226562, 15.47948962170733], [107.47512817382812, 15.500002487463068], [107.4462890625, 15.511250613922734], [107.38723754882812, 15.501987495468498], [107.37213134765625, 15.572773625363597], [107.33917236328125, 15.625681922266882], [107.30278015136719, 15.632294499683288], [107.28424072265625, 15.640229310707543], [107.27737426757812, 15.666676458207187], [107.28218078613281, 15.708323771618494], [107.25540161132812, 15.750623437360193], [107.22038269042969, 15.751945160133326], [107.237548828125, 15.79027137686381], [107.22381591796875, 15.825947890665166], [107.26844787597656, 15.843123226714201], [107.33573913574217, 15.87746951450011], [107.35359191894531, 15.884073898923964], [107.391357421875, 15.878129962688062], [107.41539001464844, 15.903225388482383], [107.43461608886719, 15.932939605788489], [107.45658874511719, 15.984433825038296], [107.47238159179688, 16.02535567498033], [107.45384216308594, 16.048453014179177], [107.46620178222656, 16.076826078531088], [107.45384216308594, 16.094639654746622], [107.43804931640625, 16.097278567218588], [107.40646362304686, 16.09002147353776], [107.39479064941406, 16.07286728920488], [107.37693786621094, 16.080125009420794], [107.33642578124999, 16.0649494741364], [107.28904724121092, 16.123006124904855], [107.25128173828125, 16.149389894954428], [107.23274230957031, 16.154006693205467], [107.22175598144531, 16.149389894954428], [107.20184326171875, 16.15334715719471], [107.17506408691406, 16.16719695151244], [107.15858459472656, 16.192256016642585], [107.15240478515625, 16.21863054208692], [107.16270446777344, 16.23313502630596], [107.15927124023438, 16.261481612633045], [107.14897155761717, 16.275323808198852], [107.08854675292969, 16.32079843021884], [107.05833435058594, 16.312890558554873], [107.02674865722656, 16.318162508498965], [107.00546264648438, 16.31882149225755], [106.9683837890625, 16.3082774858912], [106.973876953125, 16.35506217947102], [106.96220397949217, 16.36889775921193], [106.92855834960938, 16.372850601795864], [106.907958984375, 16.401835664857224], [106.90589904785156, 16.430816412465084], [106.88667297363281, 16.43674376041456], [106.89491271972656, 16.454524718662547], [106.88873291015625, 16.47757168333068], [106.89697265625, 16.507857809458777], [106.88667297363281, 16.52760707563096], [106.86264038085938, 16.548012528742372], [106.84135437011719, 16.556569011827854], [106.82350158691406, 16.551961721972525], [106.80015563964844, 16.482839176122983], [106.76994323730469, 16.47493788321538], [106.76376342773438, 16.46901170204806], [106.7596435546875, 16.436085175129964], [106.7438507080078, 16.430816412465084], [106.73629760742188, 16.445305165857828], [106.71707153320312, 16.440036653336893], [106.68617248535156, 16.46769474828897], [106.65802001953124, 16.53353146171968], [106.67861938476562, 16.561834351084485], [106.67106628417969, 16.591449202097333], [106.64085388183594, 16.60197782834907], [106.60240173339842, 16.62171744763398], [106.57699584960938, 16.645402311013026], [106.56051635742188, 16.703286314536903], [106.55639648437499, 17.013454344753303], [106.5399169921875, 17.006888277600524], [106.51931762695312, 16.978651567155758], [106.48635864257811, 16.987188695497732], [106.46438598632812, 17.001635258159684], [106.44378662109375, 17.00229189364401], [106.41426086425781, 17.05744105186644], [106.42318725585936, 17.08172778014219], [106.32293701171874, 17.20901714139178], [106.33872985839844, 17.23131658819748], [106.33323669433594, 17.24508843156491], [106.31401062011717, 17.26541641749757], [106.3092041015625, 17.299509940317378], [106.26388549804688, 17.299509940317378], [106.27212524414062, 17.26935060757661], [106.23985290527344, 17.252957595077618], [106.0400390625, 17.42795942354203], [105.86494445800781, 17.632243444131635], [105.78323364257812, 17.683932609723982], [105.75233459472656, 17.682624206472997], [105.73997497558594, 17.746724751690945], [105.68778991699219, 17.796419586939358], [105.68916320800781, 17.829106016272977], [105.67062377929688, 17.8617864493131], [105.61431884765625, 17.884005713834206], [105.65071105957031, 17.97089551285456], [105.64453124999999, 17.99963161491187], [105.6122589111328, 18.019221727766823], [105.5738067626953, 18.09038078505329], [105.49758911132812, 18.205218854047093], [105.43853759765625, 18.211741476968246], [105.40557861328125, 18.17586402976841], [105.36712646484375, 18.179125920916775], [105.33760070800781, 18.20260973649283], [105.33828735351562, 18.267173900767588], [105.31768798828125, 18.2743462162743], [105.26481628417969, 18.267173900767588], [105.25245666503906, 18.30368441867933], [105.19477844238281, 18.329758649967484], [105.18997192382812, 18.391669187688766], [105.17005920410156, 18.4020940396098], [105.1171875, 18.44834670293207], [105.15357971191406, 18.596141254941326], [105.19683837890625, 18.600696763689516], [105.20645141601562, 18.64884753847907], [105.18173217773438, 18.6690147530808], [105.14671325683594, 18.689179569521436], [105.15151977539062, 18.70999234611759], [105.13298034667969, 18.724949948084582], [105.06500244140625, 18.716495813884176], [105.06568908691406, 18.729501999072138], [105.029296875, 18.741206709942034], [105.02723693847656, 18.754861180652938], [104.95033264160155, 18.74900939987892], [104.94483947753906, 18.776966076213117], [104.91119384765624, 18.794517898837615], [104.853515625, 18.788667494517373], [104.80064392089844, 18.788667494517373], [104.78622436523436, 18.806218097544654], [104.75669860839844, 18.80881803122752], [104.71412658691406, 18.845212881450536], [104.63584899902344, 18.890045686468973], [104.53765869140625, 18.987466871730568], [104.49577331542969, 19.01668213079985], [104.45320129394531, 18.995907362349577], [104.40376281738281, 19.058872885080714], [104.34814453125, 19.08742669114898], [104.29458618164062, 19.12505827595722], [104.23004150390625, 19.130896892173755], [104.23278808593749, 19.159438266274226], [104.18540954589844, 19.20353794572967], [104.073486328125, 19.25670124894847], [103.99383544921875, 19.267072569005542], [103.919677734375, 19.32410309199337], [104.04052734375, 19.41220201468123], [104.0899658203125, 19.417382820241254], [104.10369873046875, 19.476950206488414], [104.13116455078124, 19.520964205879825], [104.09271240234374, 19.64776095569737], [104.24652099609375, 19.681384130000946], [104.32891845703125, 19.663280219987662], [104.40582275390625, 19.681384130000946], [104.52667236328125, 19.6037815593266], [104.65576171875, 19.61671792534097], [104.72442626953124, 19.74085399284272], [104.8480224609375, 19.777042202225964], [104.8699951171875, 19.91913050246103], [105.018310546875, 20.09978555125988], [104.930419921875, 20.184879384574106], [104.85626220703124, 20.16425483433661], [104.64202880859375, 20.267350272759373], [104.64202880859375, 20.35235248844008], [104.72442626953124, 20.390974413170618], [104.73541259765625, 20.424438922512042], [104.66949462890624, 20.50420952245688], [104.46624755859374, 20.41156881800431], [104.4305419921875, 20.470762381715577], [104.5733642578125, 20.58136735381002], [104.65576171875, 20.64306554672647], [104.64202880859375, 20.694461597907797], [104.5184326171875, 20.74840871329924], [104.33990478515625, 20.915265785641992], [104.27398681640625, 20.956309891986706], [104.11468505859375, 21.002471054356725], [104.04327392578125, 20.992214250886114], [104.00482177734375, 20.94604992010052], [103.85101318359374, 20.90500300215911], [103.7713623046875, 20.863944849076905], [103.69720458984375, 20.691892208546093], [103.46649169921875, 20.848545148787238], [103.41705322265625, 20.815173724636878], [103.26599121093749, 20.8588117908677], [103.22753906249999, 20.915265785641992], [103.13415527343749, 20.94604992010052], [103.018798828125, 21.097313035028538], [102.89245605468749, 21.27657804234913], [102.92266845703124, 21.373802072095938], [102.9583740234375, 21.450512318828103], [103.01055908203125, 21.59870432924491], [102.9913330078125, 21.77480421168288], [102.8814697265625, 21.739091217718574], [102.8704833984375, 21.869145728216193], [102.79083251953124, 21.848752834673718], [102.79083251953124, 21.728885873951494], [102.6837158203125, 21.6778482933475], [102.67547607421875, 21.80030805097259], [102.62603759765625, 21.930306923001126], [102.5244140625, 22.004174972902003], [102.5299072265625, 22.037275756536538], [102.17010498046875, 22.403410892712124], [102.1343994140625, 22.464340223177107], [102.03277587890625, 22.479568373763772], [101.876220703125, 22.456725520188897], [101.7828369140625, 22.517631421923767], [101.678466796875, 22.507482299898438], [101.62078857421874, 22.418645732760517], [101.51641845703125, 22.25859674097572], [101.55487060546875, 22.12381042563998], [101.6070556640625, 21.958330359927047], [101.75262451171875, 21.63445213470879], [101.700439453125, 21.36868662446068], [101.7388916015625, 21.238182425982313], [101.68395996093749, 21.220261047755002], [101.57409667968749, 21.268899719967695], [101.4642333984375, 21.268899719967695], [101.30218505859375, 21.217700673132317], [101.27197265625, 21.30216955583029], [101.29119873046875, 21.373802072095938], [101.22390747070311, 21.570610571132665], [101.20468139648438, 21.58465813140257], [101.12228393554686, 21.574441859009664], [101.14700317382812, 21.537401835046932], [100.80093383789062, 21.3124049136927], [100.733642578125, 21.37124437061831], [100.6787109375, 21.294492569503646], [100.4644775390625, 20.981956742832327], [100.2557373046875, 20.797201434307], [100.1568603515625, 20.689322775663335], [100.0469970703125, 20.365227537412434], [100.074462890625, 20.20034600649375], [100.2227783203125, 20.21581109239457], [100.30517578125, 20.34462694382967], [100.51391601562499, 20.081729389971592], [100.360107421875, 19.766703551716976], [100.469970703125, 19.51319789966427], [100.5908203125, 19.4303341116379], [100.78857421875, 19.456233596018], [100.975341796875, 19.564966221479995], [101.22802734375, 19.539084135509334], [101.1785888671875, 19.46141299683288], [101.173095703125, 19.264479800497103], [101.282958984375, 19.036156118717336], [101.2225341796875, 18.916679786648565], [101.1785888671875, 18.6670631919266], [101.0357666015625, 18.510865709091377], [101.0357666015625, 18.364952626539175], [101.10717773437499, 18.302380604025146], [101.1346435546875, 18.145851771694467], [101.0797119140625, 17.99963161491187], [100.95886230468749, 17.800996047666967], [100.909423828125, 17.59166687838161], [100.9808349609375, 17.5078670964508], [101.09069824218749, 17.4187874493387], [101.20056152343749, 17.444991866993263], [101.35986328125, 17.58119402650602], [101.524658203125, 17.71729367227373], [102.12890625, 18.140631722312715], [102.63427734374999, 17.753918280036018], [102.8485107421875, 17.889886818625325], [103.040771484375, 17.926475979176438], [103.260498046875, 18.22413378742241], [103.4197998046875, 18.37016593904468], [103.8922119140625, 18.2397859708389], [104.0020751953125, 18.18238775108558], [104.051513671875, 18.109308155101445], [104.23278808593749, 17.889886818625325], [104.3701171875, 17.675427818339383], [104.7216796875, 17.424028633877878], [104.7491455078125, 17.18277905643184], [104.6832275390625, 16.99900869321349], [104.710693359375, 16.74142754700361], [104.69970703125, 16.45715879614139], [104.8040771484375, 16.372850601795864], [104.974365234375, 16.140815555276024], [105.14465332031249, 15.987734284909871], [105.27099609375, 15.971891580928983], [105.3314208984375, 15.818680962879602], [105.413818359375, 15.712950725807477], [105.556640625, 15.64948620141212], [105.5621337890625, 15.50661910663357], [105.44677734375, 15.40602366459229], [105.435791015625, 15.273587102218679], [105.4302978515625, 15.14636929963884], [105.5181884765625, 14.992545765529064], [105.49621582031249, 14.870469041106201], [105.457763671875, 14.727073444965137], [105.4632568359375, 14.57826720924045], [105.3753662109375, 14.455958231194037], [105.2325439453125, 14.424040444354699], [105.19477844238281, 14.352208714914282]]], &quot;type&quot;: &quot;Polygon&quot;}, &quot;id&quot;: &quot;0&quot;, &quot;type&quot;: &quot;Feature&quot;}], &quot;type&quot;: &quot;FeatureCollection&quot;});\n",
       "\n",
       "        \n",
       "&lt;/script&gt;\n",
       "&lt;/html&gt;\" style=\"position:absolute;width:100%;height:100%;left:0;top:0;border:none !important;\" allowfullscreen webkitallowfullscreen mozallowfullscreen></iframe></div></div>"
      ],
      "text/plain": [
       "<folium.folium.Map at 0x15b4568b0>"
      ]
     },
     "execution_count": 227,
     "metadata": {},
     "output_type": "execute_result"
    }
   ],
   "source": [
    "map = folium.Map(location=[14.9728, 105.9212],zoom_start = 5) \n",
    "\n",
    "ch = folium.Choropleth(geo_data=geojson )\n",
    "ch.add_to(map)\n",
    "\n",
    "map"
   ]
  }
 ],
 "metadata": {
  "kernelspec": {
   "display_name": "Python 3 (ipykernel)",
   "language": "python",
   "name": "python3"
  },
  "language_info": {
   "codemirror_mode": {
    "name": "ipython",
    "version": 3
   },
   "file_extension": ".py",
   "mimetype": "text/x-python",
   "name": "python",
   "nbconvert_exporter": "python",
   "pygments_lexer": "ipython3",
   "version": "3.9.16"
  }
 },
 "nbformat": 4,
 "nbformat_minor": 5
}
