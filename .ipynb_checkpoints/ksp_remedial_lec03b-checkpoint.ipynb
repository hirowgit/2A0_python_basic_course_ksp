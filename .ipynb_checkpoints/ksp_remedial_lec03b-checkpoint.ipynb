{
 "cells": [
  {
   "cell_type": "code",
   "execution_count": 1,
   "id": "d1a6df14",
   "metadata": {},
   "outputs": [],
   "source": [
    "## Python basics for novice data scientists, supported by Wagatsuma Lab@Kyutech \n",
    "#\n",
    "# The MIT License (MIT): Copyright (c) 2020 Hiroaki Wagatsuma and Wagatsuma Lab@Kyutech\n",
    "# \n",
    "# Permission is hereby granted, free of charge, to any person obtaining a copy of this software and associated documentation files (the \"Software\"), to deal in the Software without restriction, including without limitation the rights to use, copy, modify, merge, publish, distribute, sublicense, and/or sell copies of the Software, and to permit persons to whom the Software is furnished to do so, subject to the following conditions:\n",
    "# The above copyright notice and this permission notice shall be included in all copies or substantial portions of the Software.\n",
    "# THE SOFTWARE IS PROVIDED \"AS IS\", WITHOUT WARRANTY OF ANY KIND, EXPRESS OR IMPLIED, INCLUDING BUT NOT LIMITED TO THE WARRANTIES OF MERCHANTABILITY, FITNESS FOR A PARTICULAR PURPOSE AND NONINFRINGEMENT. IN NO EVENT SHALL THE AUTHORS OR COPYRIGHT HOLDERS BE LIABLE FOR ANY CLAIM, DAMAGES OR OTHER LIABILITY, WHETHER IN AN ACTION OF CONTRACT, TORT OR OTHERWISE, ARISING FROM, OUT OF OR IN CONNECTION WITH THE SOFTWARE OR THE USE OR OTHER DEALINGS IN THE SOFTWARE. */\n",
    "#\n",
    "# # @Time    : 2023-7-1 \n",
    "# # @Author  : Hiroaki Wagatsuma\n",
    "# # @Site    : https://github.com/hirowgit/2A_python_basic_course\n",
    "# # @IDE     : Python 3.10.9 (main, Dec 15 2022, 18:18:30) [Clang 14.0.0 (clang-1400.0.29.202)] on darwin\n",
    "# # @File    : ksp_novice_lec03.py "
   ]
  },
  {
   "cell_type": "code",
   "execution_count": 4,
   "id": "4a1d963e",
   "metadata": {},
   "outputs": [],
   "source": [
    "import numpy as np\n",
    "import numpy.matlib\n",
    "import math\n",
    "import os\n",
    "import sys\n",
    "import codecs\n",
    "import matplotlib.pyplot as plt\n",
    "import pandas as pd\n",
    "from openpyxl import Workbook\n",
    "import pprint\n",
    "\n",
    "from dateutil.parser import parse\n",
    "from datetime import timedelta, timezone\n",
    "import calendar\n",
    "\n",
    "\n",
    "import datetime\n",
    "import dateutil.parser\n",
    "import dateutil\n",
    "from dateutil.relativedelta import relativedelta"
   ]
  },
  {
   "cell_type": "code",
   "execution_count": 5,
   "id": "90e2b6ce",
   "metadata": {},
   "outputs": [
    {
     "data": {
      "text/plain": [
       "['01サンプル', '02サンプル', '03サンプル']"
      ]
     },
     "metadata": {},
     "output_type": "display_data"
    },
    {
     "data": {
      "text/plain": [
       "['01_logs.csv']"
      ]
     },
     "metadata": {},
     "output_type": "display_data"
    },
    {
     "data": {
      "text/plain": [
       "['02_logs.csv']"
      ]
     },
     "metadata": {},
     "output_type": "display_data"
    },
    {
     "data": {
      "text/plain": [
       "['03_logs.csv']"
      ]
     },
     "metadata": {},
     "output_type": "display_data"
    }
   ],
   "source": [
    "datafol='dataFolder'\n",
    "datafol='dataFolder_csv'\n",
    "\n",
    "# folSelF=lambda F: sorted([v for v in F if not('.' in v)])\n",
    "folSelF=lambda F: sorted([v for v in F if not('.' == v[0])])\n",
    "\n",
    "listFol=os.listdir(path=datafol)\n",
    "listFol=folSelF(listFol)\n",
    "# listFol=sorted(listFol)\n",
    "\n",
    "fnameNP=np.empty(len(listFol),dtype=object)\n",
    "\n",
    "for k in range(len(listFol)):\n",
    "    fv=listFol[k]\n",
    "    ftmp=folSelF(os.listdir(path=os.path.join(datafol, fv)))\n",
    "    fnameNP[k]=ftmp\n",
    "    display(fnameNP[k])\n",
    "    fnameNP_sub=np.empty([len(listFol),len(ftmp)],dtype=object)\n",
    "    for k2 in range(len(ftmp)):\n",
    "        fv2=ftmp[k2]\n",
    "        fnameNP_sub[k,k2]=folSelF(os.listdir(path=os.path.join(datafol, fv,fv2)))\n",
    "        display(fnameNP_sub[k,k2])"
   ]
  },
  {
   "cell_type": "code",
   "execution_count": 29,
   "id": "3689fc0c",
   "metadata": {},
   "outputs": [
    {
     "data": {
      "text/plain": [
       "['data']"
      ]
     },
     "execution_count": 29,
     "metadata": {},
     "output_type": "execute_result"
    }
   ],
   "source": [
    "listFol"
   ]
  },
  {
   "cell_type": "code",
   "execution_count": 6,
   "id": "45218b70",
   "metadata": {},
   "outputs": [
    {
     "data": {
      "text/plain": [
       "1"
      ]
     },
     "execution_count": 6,
     "metadata": {},
     "output_type": "execute_result"
    }
   ],
   "source": [
    "npSize=np.shape(fnameNP_sub)\n",
    "npSize[0]"
   ]
  },
  {
   "cell_type": "code",
   "execution_count": 7,
   "id": "867bc3e9",
   "metadata": {},
   "outputs": [
    {
     "data": {
      "text/plain": [
       "(1, 3)"
      ]
     },
     "execution_count": 7,
     "metadata": {},
     "output_type": "execute_result"
    }
   ],
   "source": [
    "npSize"
   ]
  },
  {
   "cell_type": "code",
   "execution_count": 9,
   "id": "bbe35696",
   "metadata": {},
   "outputs": [
    {
     "data": {
      "text/plain": [
       "(1,)"
      ]
     },
     "execution_count": 9,
     "metadata": {},
     "output_type": "execute_result"
    }
   ],
   "source": [
    "tmp=fnameNP_sub[k,k2]\n",
    "npSize2=np.shape(tmp)\n",
    "npSize2"
   ]
  },
  {
   "cell_type": "code",
   "execution_count": 32,
   "id": "6112874e",
   "metadata": {},
   "outputs": [
    {
     "data": {
      "text/plain": [
       "['dataFolder_csv/data/01サンプル/01_logs.csv']"
      ]
     },
     "metadata": {},
     "output_type": "display_data"
    },
    {
     "data": {
      "text/plain": [
       "['dataFolder_csv/data/02サンプル/02_logs.csv']"
      ]
     },
     "metadata": {},
     "output_type": "display_data"
    },
    {
     "data": {
      "text/plain": [
       "['dataFolder_csv/data/03サンプル/03_logs.csv']"
      ]
     },
     "metadata": {},
     "output_type": "display_data"
    },
    {
     "name": "stdout",
     "output_type": "stream",
     "text": [
      "[['dataFolder_csv/data/01サンプル/01_logs.csv'], ['dataFolder_csv/data/02サンプル/02_logs.csv'], ['dataFolder_csv/data/03サンプル/03_logs.csv']]\n"
     ]
    },
    {
     "data": {
      "text/plain": [
       "array([['dataFolder_csv/data/01サンプル/01_logs.csv'],\n",
       "       ['dataFolder_csv/data/02サンプル/02_logs.csv'],\n",
       "       ['dataFolder_csv/data/03サンプル/03_logs.csv']], dtype='<U39')"
      ]
     },
     "execution_count": 32,
     "metadata": {},
     "output_type": "execute_result"
    }
   ],
   "source": [
    "### listing of log files \n",
    "npSize=np.shape(fnameNP_sub)\n",
    "\n",
    "rfilenameFull=[]\n",
    "\n",
    "for k in range(npSize[0]):\n",
    "    for k2 in range(npSize[1]):\n",
    "        tmp=fnameNP_sub[k,k2]\n",
    "        npSize2=np.shape(tmp)[0]\n",
    "\n",
    "        rfilenameAC=[]\n",
    "        for k3 in range(npSize2):\n",
    "            fnameD=fnameNP_sub[k,k2][k3]\n",
    "            if 'logs' in fnameD:\n",
    "                rfilenameTmp=os.path.join(datafol, listFol[k],fnameNP[k][k2],fnameD)\n",
    "                rfilenameAC=rfilenameAC+[rfilenameTmp]\n",
    "\n",
    "        display(rfilenameAC)\n",
    "        rfilenameFull.append(rfilenameAC)\n",
    "\n",
    "print(rfilenameFull)\n",
    "rfilenameFull_np=np.array(rfilenameFull)\n",
    "rfilenameFull_np"
   ]
  },
  {
   "cell_type": "code",
   "execution_count": 31,
   "id": "b1ce6b2e",
   "metadata": {},
   "outputs": [
    {
     "data": {
      "text/plain": [
       "['01サンプル', '02サンプル', '03サンプル']"
      ]
     },
     "execution_count": 31,
     "metadata": {},
     "output_type": "execute_result"
    }
   ],
   "source": [
    "fnameNP[0]\n"
   ]
  },
  {
   "cell_type": "code",
   "execution_count": 6,
   "id": "1eb469d1",
   "metadata": {},
   "outputs": [
    {
     "data": {
      "text/plain": [
       "[['dataFolder_csv/data/01サンプル/01_logs.csv'],\n",
       " ['dataFolder_csv/data/02サンプル/02_logs.csv'],\n",
       " ['dataFolder_csv/data/03サンプル/03_logs.csv']]"
      ]
     },
     "execution_count": 6,
     "metadata": {},
     "output_type": "execute_result"
    }
   ],
   "source": [
    "rfilenameFull"
   ]
  },
  {
   "cell_type": "code",
   "execution_count": 13,
   "id": "5944f4bc",
   "metadata": {},
   "outputs": [
    {
     "name": "stdout",
     "output_type": "stream",
     "text": [
      "dataFolder_csv/data/01サンプル/01_logs.csv\n"
     ]
    }
   ],
   "source": [
    "rfilenameATT=rfilenameFull[0][0]\n",
    "print(rfilenameATT)\n"
   ]
  },
  {
   "cell_type": "code",
   "execution_count": 14,
   "id": "1a55c152",
   "metadata": {},
   "outputs": [],
   "source": [
    "\n",
    "  #  1 ... 顧客全体リストの確認\n",
    "  #  2 ... 担当客リストの確認\n",
    "  #  3 ... チーム連絡帳の確認\n",
    "\n",
    "  # 12 ... 資料作成\n",
    "  # 13 ... 仮報告書の提出\n",
    "  # 14 ... チェックリスト作成\n",
    "\n",
    "  # 20 ... 報告書の提出\n",
    "  # 21 ... 修正依頼\n",
    "  # 22 ... 注意項目の追加\n",
    "\n",
    "  # 31 ... 顧客面談\n",
    "\n",
    "  # 40 ... 契約\n",
    "  # 41 ... 仮契約\n",
    "  # 42 ... 課題分析\n",
    "  # 46 ... 課題解決\n"
   ]
  },
  {
   "cell_type": "code",
   "execution_count": 15,
   "id": "46a33890",
   "metadata": {},
   "outputs": [],
   "source": [
    "dict_ID={1:'顧客全体リストの確認', 2:'担当客リストの確認', 3:'チーム連絡帳の確認',  12:'資料作成', 13:'仮報告書の提出', 14:'チェックリスト作成', 20:'報告書の提出', \n",
    "        21:'修正依頼', 22:'注意項目の追加', 31:'顧客面談', \n",
    "        40:'契約', 41:'仮契約', 42:'課題分析', 43:'質疑記入', 46:'課題解決'}"
   ]
  },
  {
   "cell_type": "code",
   "execution_count": 12,
   "id": "4c20b5c8",
   "metadata": {},
   "outputs": [
    {
     "data": {
      "text/plain": [
       "{1: '顧客全体リストの確認',\n",
       " 2: '担当客リストの確認',\n",
       " 3: 'チーム連絡帳の確認',\n",
       " 12: '資料作成',\n",
       " 13: '仮報告書の提出',\n",
       " 14: 'チェックリスト作成',\n",
       " 20: '報告書の提出',\n",
       " 21: '修正依頼',\n",
       " 22: '注意項目の追加',\n",
       " 31: '顧客面談',\n",
       " 40: '契約',\n",
       " 41: '仮契約',\n",
       " 42: '課題分析',\n",
       " 43: '質疑記入',\n",
       " 46: '課題解決'}"
      ]
     },
     "metadata": {},
     "output_type": "display_data"
    }
   ],
   "source": [
    "display(dict_ID)\n"
   ]
  },
  {
   "cell_type": "code",
   "execution_count": 16,
   "id": "a0eb0f23",
   "metadata": {},
   "outputs": [
    {
     "data": {
      "text/plain": [
       "'dataFolder_csv/data/01サンプル/01_logs.csv'"
      ]
     },
     "execution_count": 16,
     "metadata": {},
     "output_type": "execute_result"
    }
   ],
   "source": [
    "rfilenameATT"
   ]
  },
  {
   "cell_type": "code",
   "execution_count": 36,
   "id": "54c2364a",
   "metadata": {},
   "outputs": [
    {
     "data": {
      "text/html": [
       "<div>\n",
       "<style scoped>\n",
       "    .dataframe tbody tr th:only-of-type {\n",
       "        vertical-align: middle;\n",
       "    }\n",
       "\n",
       "    .dataframe tbody tr th {\n",
       "        vertical-align: top;\n",
       "    }\n",
       "\n",
       "    .dataframe thead th {\n",
       "        text-align: right;\n",
       "    }\n",
       "</style>\n",
       "<table border=\"1\" class=\"dataframe\">\n",
       "  <thead>\n",
       "    <tr style=\"text-align: right;\">\n",
       "      <th></th>\n",
       "      <th>ID</th>\n",
       "      <th>Activity</th>\n",
       "      <th>Date</th>\n",
       "    </tr>\n",
       "  </thead>\n",
       "  <tbody>\n",
       "    <tr>\n",
       "      <th>0</th>\n",
       "      <td>101</td>\n",
       "      <td>21</td>\n",
       "      <td>2023-06-30 18:09:29</td>\n",
       "    </tr>\n",
       "    <tr>\n",
       "      <th>1</th>\n",
       "      <td>101</td>\n",
       "      <td>21</td>\n",
       "      <td>2023-06-30 18:10:42</td>\n",
       "    </tr>\n",
       "    <tr>\n",
       "      <th>2</th>\n",
       "      <td>75</td>\n",
       "      <td>21</td>\n",
       "      <td>2023-06-30 22:24:30</td>\n",
       "    </tr>\n",
       "    <tr>\n",
       "      <th>3</th>\n",
       "      <td>75</td>\n",
       "      <td>21</td>\n",
       "      <td>2023-06-30 22:26:54</td>\n",
       "    </tr>\n",
       "    <tr>\n",
       "      <th>4</th>\n",
       "      <td>75</td>\n",
       "      <td>21</td>\n",
       "      <td>2023-06-30 22:32:25</td>\n",
       "    </tr>\n",
       "    <tr>\n",
       "      <th>...</th>\n",
       "      <td>...</td>\n",
       "      <td>...</td>\n",
       "      <td>...</td>\n",
       "    </tr>\n",
       "    <tr>\n",
       "      <th>318</th>\n",
       "      <td>83</td>\n",
       "      <td>3</td>\n",
       "      <td>2023-08-01 17:09:12</td>\n",
       "    </tr>\n",
       "    <tr>\n",
       "      <th>319</th>\n",
       "      <td>83</td>\n",
       "      <td>1</td>\n",
       "      <td>2023-08-01 17:09:28</td>\n",
       "    </tr>\n",
       "    <tr>\n",
       "      <th>320</th>\n",
       "      <td>83</td>\n",
       "      <td>3</td>\n",
       "      <td>2023-08-01 17:10:52</td>\n",
       "    </tr>\n",
       "    <tr>\n",
       "      <th>321</th>\n",
       "      <td>83</td>\n",
       "      <td>1</td>\n",
       "      <td>2023-08-01 17:10:59</td>\n",
       "    </tr>\n",
       "    <tr>\n",
       "      <th>322</th>\n",
       "      <td>115</td>\n",
       "      <td>3</td>\n",
       "      <td>2023-10-31 11:04:53</td>\n",
       "    </tr>\n",
       "  </tbody>\n",
       "</table>\n",
       "<p>323 rows × 3 columns</p>\n",
       "</div>"
      ],
      "text/plain": [
       "      ID  Activity                 Date\n",
       "0    101        21  2023-06-30 18:09:29\n",
       "1    101        21  2023-06-30 18:10:42\n",
       "2     75        21  2023-06-30 22:24:30\n",
       "3     75        21  2023-06-30 22:26:54\n",
       "4     75        21  2023-06-30 22:32:25\n",
       "..   ...       ...                  ...\n",
       "318   83         3  2023-08-01 17:09:12\n",
       "319   83         1  2023-08-01 17:09:28\n",
       "320   83         3  2023-08-01 17:10:52\n",
       "321   83         1  2023-08-01 17:10:59\n",
       "322  115         3  2023-10-31 11:04:53\n",
       "\n",
       "[323 rows x 3 columns]"
      ]
     },
     "metadata": {},
     "output_type": "display_data"
    }
   ],
   "source": [
    "XLSdatATT = pd.read_table(rfilenameATT, delimiter=',',encoding=\"UTF-8\")\n",
    "# XLSdatATT = pd.read_excel(rfilenameATT)\n",
    "display(XLSdatATT)"
   ]
  },
  {
   "cell_type": "code",
   "execution_count": 19,
   "id": "3bdb9275",
   "metadata": {},
   "outputs": [
    {
     "data": {
      "text/plain": [
       "'2023-06-30 18:09:29'"
      ]
     },
     "execution_count": 19,
     "metadata": {},
     "output_type": "execute_result"
    }
   ],
   "source": [
    "XLSdatATT['Date'][0]"
   ]
  },
  {
   "cell_type": "code",
   "execution_count": 20,
   "id": "696367f1",
   "metadata": {
    "scrolled": true
   },
   "outputs": [
    {
     "ename": "TypeError",
     "evalue": "unsupported operand type(s) for -: 'str' and 'str'",
     "output_type": "error",
     "traceback": [
      "\u001b[0;31m---------------------------------------------------------------------------\u001b[0m",
      "\u001b[0;31mTypeError\u001b[0m                                 Traceback (most recent call last)",
      "\u001b[0;32m/var/folders/mg/w5t8lkhc8xj79f001s7kzpfh0000gp/T/ipykernel_93334/2923430650.py\u001b[0m in \u001b[0;36m<module>\u001b[0;34m\u001b[0m\n\u001b[0;32m----> 1\u001b[0;31m \u001b[0mXLSdatATT\u001b[0m\u001b[0;34m[\u001b[0m\u001b[0;34m'Date'\u001b[0m\u001b[0;34m]\u001b[0m\u001b[0;34m[\u001b[0m\u001b[0;36m0\u001b[0m\u001b[0;34m]\u001b[0m\u001b[0;34m-\u001b[0m\u001b[0mXLSdatATT\u001b[0m\u001b[0;34m[\u001b[0m\u001b[0;34m'Date'\u001b[0m\u001b[0;34m]\u001b[0m\u001b[0;34m[\u001b[0m\u001b[0;36m1\u001b[0m\u001b[0;34m]\u001b[0m\u001b[0;34m\u001b[0m\u001b[0;34m\u001b[0m\u001b[0m\n\u001b[0m",
      "\u001b[0;31mTypeError\u001b[0m: unsupported operand type(s) for -: 'str' and 'str'"
     ]
    }
   ],
   "source": [
    "XLSdatATT['Date'][0]-XLSdatATT['Date'][1]"
   ]
  },
  {
   "cell_type": "code",
   "execution_count": 20,
   "id": "98148f80",
   "metadata": {},
   "outputs": [
    {
     "name": "stdout",
     "output_type": "stream",
     "text": [
      "2023-06-30 18:09:29 / 2023-07-01 20:22:07\n",
      "2023-06-30 18:09:29 / 2023-07-01 20:22:07\n",
      "-2 days, 21:47:22\n"
     ]
    }
   ],
   "source": [
    "d1=XLSdatATT['Date'][0]\n",
    "d2=XLSdatATT['Date'][10]\n",
    "d1_dt=parse(d1, fuzzy=True)\n",
    "d2_dt=parse(d2, fuzzy=True)\n",
    "print(d1,\"/\",d2)\n",
    "print(d1_dt,\"/\",d2_dt)\n",
    "print(d1_dt-d2_dt)"
   ]
  },
  {
   "cell_type": "code",
   "execution_count": 21,
   "id": "369cec52",
   "metadata": {},
   "outputs": [
    {
     "data": {
      "text/plain": [
       "datetime.datetime(2023, 6, 30, 18, 9, 29)"
      ]
     },
     "execution_count": 21,
     "metadata": {},
     "output_type": "execute_result"
    }
   ],
   "source": [
    "d1_dt"
   ]
  },
  {
   "cell_type": "code",
   "execution_count": 22,
   "id": "ad806143",
   "metadata": {},
   "outputs": [
    {
     "name": "stdout",
     "output_type": "stream",
     "text": [
      "2023-06-30 18:09:29\n"
     ]
    }
   ],
   "source": [
    "print(d1_dt)"
   ]
  },
  {
   "cell_type": "code",
   "execution_count": 23,
   "id": "0ac7f749",
   "metadata": {},
   "outputs": [
    {
     "data": {
      "text/plain": [
       "0      2023-06-30 18:09:29\n",
       "1      2023-06-30 18:10:42\n",
       "2      2023-06-30 22:24:30\n",
       "3      2023-06-30 22:26:54\n",
       "4      2023-06-30 22:32:25\n",
       "              ...         \n",
       "318    2023-08-01 17:09:12\n",
       "319    2023-08-01 17:09:28\n",
       "320    2023-08-01 17:10:52\n",
       "321    2023-08-01 17:10:59\n",
       "322    2023-10-31 11:04:53\n",
       "Name: Date, Length: 323, dtype: object"
      ]
     },
     "metadata": {},
     "output_type": "display_data"
    }
   ],
   "source": [
    "dTimeL_ATT=XLSdatATT['Date']\n",
    "display(dTimeL_ATT)"
   ]
  },
  {
   "cell_type": "code",
   "execution_count": 37,
   "id": "53e75179",
   "metadata": {},
   "outputs": [
    {
     "data": {
      "text/plain": [
       "[101,\n",
       " 101,\n",
       " 75,\n",
       " 75,\n",
       " 75,\n",
       " 79,\n",
       " 70,\n",
       " 70,\n",
       " 70,\n",
       " 70,\n",
       " 79,\n",
       " 75,\n",
       " 72,\n",
       " 72,\n",
       " 77,\n",
       " 77,\n",
       " 77,\n",
       " 77,\n",
       " 83,\n",
       " 77,\n",
       " 77,\n",
       " 77,\n",
       " 83,\n",
       " 83,\n",
       " 73,\n",
       " 73,\n",
       " 73,\n",
       " 73,\n",
       " 73,\n",
       " 83,\n",
       " 74,\n",
       " 74,\n",
       " 77,\n",
       " 77,\n",
       " 69,\n",
       " 69,\n",
       " 111,\n",
       " 111,\n",
       " 111,\n",
       " 69,\n",
       " 75,\n",
       " 75,\n",
       " 75,\n",
       " 83,\n",
       " 83,\n",
       " 77,\n",
       " 77,\n",
       " 77,\n",
       " 77,\n",
       " 84,\n",
       " 77,\n",
       " 116,\n",
       " 84,\n",
       " 77,\n",
       " 77,\n",
       " 84,\n",
       " 70,\n",
       " 116,\n",
       " 79,\n",
       " 79,\n",
       " 79,\n",
       " 79,\n",
       " 65,\n",
       " 65,\n",
       " 75,\n",
       " 65,\n",
       " 83,\n",
       " 83,\n",
       " 75,\n",
       " 83,\n",
       " 83,\n",
       " 83,\n",
       " 67,\n",
       " 78,\n",
       " 75,\n",
       " 102,\n",
       " 77,\n",
       " 83,\n",
       " 83,\n",
       " 75,\n",
       " 75,\n",
       " 75,\n",
       " 79,\n",
       " 73,\n",
       " 75,\n",
       " 75,\n",
       " 111,\n",
       " 111,\n",
       " 111,\n",
       " 79,\n",
       " 72,\n",
       " 83,\n",
       " 65,\n",
       " 69,\n",
       " 69,\n",
       " 69,\n",
       " 69,\n",
       " 69,\n",
       " 69,\n",
       " 69,\n",
       " 77,\n",
       " 77,\n",
       " 77,\n",
       " 77,\n",
       " 77,\n",
       " 77,\n",
       " 77,\n",
       " 72,\n",
       " 79,\n",
       " 79,\n",
       " 67,\n",
       " 67,\n",
       " 67,\n",
       " 101,\n",
       " 101,\n",
       " 101,\n",
       " 107,\n",
       " 79,\n",
       " 69,\n",
       " 69,\n",
       " 79,\n",
       " 79,\n",
       " 70,\n",
       " 70,\n",
       " 116,\n",
       " 116,\n",
       " 116,\n",
       " 65,\n",
       " 79,\n",
       " 101,\n",
       " 79,\n",
       " 79,\n",
       " 79,\n",
       " 79,\n",
       " 79,\n",
       " 79,\n",
       " 79,\n",
       " 79,\n",
       " 79,\n",
       " 79,\n",
       " 73,\n",
       " 73,\n",
       " 73,\n",
       " 73,\n",
       " 73,\n",
       " 73,\n",
       " 73,\n",
       " 83,\n",
       " 83,\n",
       " 83,\n",
       " 83,\n",
       " 75,\n",
       " 75,\n",
       " 75,\n",
       " 75,\n",
       " 79,\n",
       " 79,\n",
       " 79,\n",
       " 116,\n",
       " 65,\n",
       " 79,\n",
       " 116,\n",
       " 79,\n",
       " 79,\n",
       " 79,\n",
       " 79,\n",
       " 79,\n",
       " 67,\n",
       " 79,\n",
       " 70,\n",
       " 70,\n",
       " 69,\n",
       " 79,\n",
       " 79,\n",
       " 79,\n",
       " 79,\n",
       " 69,\n",
       " 69,\n",
       " 65,\n",
       " 65,\n",
       " 65,\n",
       " 79,\n",
       " 79,\n",
       " 79,\n",
       " 79,\n",
       " 79,\n",
       " 79,\n",
       " 75,\n",
       " 75,\n",
       " 75,\n",
       " 83,\n",
       " 115,\n",
       " 115,\n",
       " 115,\n",
       " 83,\n",
       " 83,\n",
       " 83,\n",
       " 111,\n",
       " 83,\n",
       " 83,\n",
       " 83,\n",
       " 83,\n",
       " 111,\n",
       " 111,\n",
       " 83,\n",
       " 83,\n",
       " 83,\n",
       " 83,\n",
       " 79,\n",
       " 79,\n",
       " 79,\n",
       " 79,\n",
       " 77,\n",
       " 77,\n",
       " 77,\n",
       " 75,\n",
       " 75,\n",
       " 115,\n",
       " 115,\n",
       " 69,\n",
       " 77,\n",
       " 77,\n",
       " 110,\n",
       " 65,\n",
       " 65,\n",
       " 65,\n",
       " 107,\n",
       " 107,\n",
       " 65,\n",
       " 65,\n",
       " 79,\n",
       " 83,\n",
       " 83,\n",
       " 83,\n",
       " 83,\n",
       " 110,\n",
       " 110,\n",
       " 110,\n",
       " 110,\n",
       " 77,\n",
       " 77,\n",
       " 77,\n",
       " 77,\n",
       " 77,\n",
       " 110,\n",
       " 65,\n",
       " 65,\n",
       " 65,\n",
       " 65,\n",
       " 65,\n",
       " 65,\n",
       " 75,\n",
       " 75,\n",
       " 75,\n",
       " 75,\n",
       " 83,\n",
       " 83,\n",
       " 84,\n",
       " 84,\n",
       " 84,\n",
       " 84,\n",
       " 78,\n",
       " 78,\n",
       " 78,\n",
       " 75,\n",
       " 75,\n",
       " 75,\n",
       " 65,\n",
       " 69,\n",
       " 69,\n",
       " 102,\n",
       " 102,\n",
       " 77,\n",
       " 77,\n",
       " 79,\n",
       " 79,\n",
       " 75,\n",
       " 75,\n",
       " 78,\n",
       " 77,\n",
       " 77,\n",
       " 75,\n",
       " 79,\n",
       " 73,\n",
       " 116,\n",
       " 75,\n",
       " 111,\n",
       " 75,\n",
       " 75,\n",
       " 73,\n",
       " 79,\n",
       " 116,\n",
       " 79,\n",
       " 111,\n",
       " 79,\n",
       " 116,\n",
       " 83,\n",
       " 77,\n",
       " 89,\n",
       " 75,\n",
       " 79,\n",
       " 77,\n",
       " 111,\n",
       " 75,\n",
       " 89,\n",
       " 83,\n",
       " 83,\n",
       " 89,\n",
       " 111,\n",
       " 83,\n",
       " 79,\n",
       " 79,\n",
       " 79,\n",
       " 111,\n",
       " 111,\n",
       " 111,\n",
       " 65,\n",
       " 111,\n",
       " 83,\n",
       " 83,\n",
       " 83,\n",
       " 83,\n",
       " 115]"
      ]
     },
     "metadata": {},
     "output_type": "display_data"
    },
    {
     "data": {
      "text/plain": [
       "[21,\n",
       " 21,\n",
       " 21,\n",
       " 21,\n",
       " 21,\n",
       " 21,\n",
       " 21,\n",
       " 21,\n",
       " 12,\n",
       " 21,\n",
       " 21,\n",
       " 21,\n",
       " 21,\n",
       " 21,\n",
       " 21,\n",
       " 21,\n",
       " 12,\n",
       " 12,\n",
       " 21,\n",
       " 22,\n",
       " 12,\n",
       " 12,\n",
       " 21,\n",
       " 21,\n",
       " 21,\n",
       " 21,\n",
       " 21,\n",
       " 21,\n",
       " 21,\n",
       " 21,\n",
       " 21,\n",
       " 21,\n",
       " 22,\n",
       " 21,\n",
       " 21,\n",
       " 21,\n",
       " 21,\n",
       " 21,\n",
       " 21,\n",
       " 21,\n",
       " 21,\n",
       " 21,\n",
       " 21,\n",
       " 21,\n",
       " 21,\n",
       " 21,\n",
       " 21,\n",
       " 21,\n",
       " 21,\n",
       " 21,\n",
       " 21,\n",
       " 21,\n",
       " 21,\n",
       " 12,\n",
       " 12,\n",
       " 12,\n",
       " 12,\n",
       " 12,\n",
       " 21,\n",
       " 21,\n",
       " 21,\n",
       " 21,\n",
       " 21,\n",
       " 12,\n",
       " 21,\n",
       " 21,\n",
       " 21,\n",
       " 21,\n",
       " 21,\n",
       " 21,\n",
       " 12,\n",
       " 21,\n",
       " 21,\n",
       " 21,\n",
       " 21,\n",
       " 21,\n",
       " 21,\n",
       " 12,\n",
       " 12,\n",
       " 31,\n",
       " 40,\n",
       " 46,\n",
       " 13,\n",
       " 13,\n",
       " 13,\n",
       " 13,\n",
       " 31,\n",
       " 40,\n",
       " 46,\n",
       " 22,\n",
       " 22,\n",
       " 22,\n",
       " 22,\n",
       " 13,\n",
       " 31,\n",
       " 40,\n",
       " 46,\n",
       " 2,\n",
       " 1,\n",
       " 2,\n",
       " 13,\n",
       " 13,\n",
       " 31,\n",
       " 40,\n",
       " 42,\n",
       " 43,\n",
       " 46,\n",
       " 22,\n",
       " 13,\n",
       " 13,\n",
       " 31,\n",
       " 40,\n",
       " 46,\n",
       " 31,\n",
       " 40,\n",
       " 46,\n",
       " 13,\n",
       " 13,\n",
       " 1,\n",
       " 1,\n",
       " 13,\n",
       " 13,\n",
       " 31,\n",
       " 46,\n",
       " 31,\n",
       " 40,\n",
       " 46,\n",
       " 13,\n",
       " 13,\n",
       " 3,\n",
       " 31,\n",
       " 40,\n",
       " 46,\n",
       " 3,\n",
       " 1,\n",
       " 1,\n",
       " 3,\n",
       " 1,\n",
       " 1,\n",
       " 3,\n",
       " 13,\n",
       " 13,\n",
       " 14,\n",
       " 31,\n",
       " 40,\n",
       " 41,\n",
       " 3,\n",
       " 31,\n",
       " 40,\n",
       " 41,\n",
       " 46,\n",
       " 13,\n",
       " 31,\n",
       " 40,\n",
       " 41,\n",
       " 31,\n",
       " 40,\n",
       " 46,\n",
       " 2,\n",
       " 31,\n",
       " 46,\n",
       " 3,\n",
       " 31,\n",
       " 40,\n",
       " 41,\n",
       " 43,\n",
       " 46,\n",
       " 2,\n",
       " 3,\n",
       " 31,\n",
       " 46,\n",
       " 2,\n",
       " 3,\n",
       " 3,\n",
       " 14,\n",
       " 3,\n",
       " 1,\n",
       " 3,\n",
       " 31,\n",
       " 40,\n",
       " 46,\n",
       " 2,\n",
       " 1,\n",
       " 20,\n",
       " 1,\n",
       " 3,\n",
       " 2,\n",
       " 31,\n",
       " 40,\n",
       " 46,\n",
       " 13,\n",
       " 31,\n",
       " 40,\n",
       " 46,\n",
       " 31,\n",
       " 40,\n",
       " 46,\n",
       " 2,\n",
       " 2,\n",
       " 3,\n",
       " 1,\n",
       " 2,\n",
       " 1,\n",
       " 2,\n",
       " 1,\n",
       " 3,\n",
       " 2,\n",
       " 1,\n",
       " 2,\n",
       " 2,\n",
       " 1,\n",
       " 3,\n",
       " 31,\n",
       " 40,\n",
       " 46,\n",
       " 3,\n",
       " 1,\n",
       " 2,\n",
       " 3,\n",
       " 3,\n",
       " 31,\n",
       " 40,\n",
       " 13,\n",
       " 2,\n",
       " 3,\n",
       " 1,\n",
       " 31,\n",
       " 40,\n",
       " 1,\n",
       " 2,\n",
       " 31,\n",
       " 40,\n",
       " 46,\n",
       " 3,\n",
       " 1,\n",
       " 31,\n",
       " 40,\n",
       " 41,\n",
       " 46,\n",
       " 2,\n",
       " 1,\n",
       " 20,\n",
       " 1,\n",
       " 3,\n",
       " 2,\n",
       " 3,\n",
       " 1,\n",
       " 13,\n",
       " 31,\n",
       " 40,\n",
       " 46,\n",
       " 31,\n",
       " 46,\n",
       " 3,\n",
       " 1,\n",
       " 2,\n",
       " 1,\n",
       " 31,\n",
       " 40,\n",
       " 46,\n",
       " 3,\n",
       " 13,\n",
       " 31,\n",
       " 40,\n",
       " 2,\n",
       " 3,\n",
       " 1,\n",
       " 2,\n",
       " 3,\n",
       " 2,\n",
       " 31,\n",
       " 46,\n",
       " 31,\n",
       " 46,\n",
       " 2,\n",
       " 2,\n",
       " 1,\n",
       " 3,\n",
       " 22,\n",
       " 2,\n",
       " 2,\n",
       " 1,\n",
       " 1,\n",
       " 1,\n",
       " 1,\n",
       " 3,\n",
       " 1,\n",
       " 3,\n",
       " 2,\n",
       " 3,\n",
       " 20,\n",
       " 3,\n",
       " 3,\n",
       " 3,\n",
       " 3,\n",
       " 1,\n",
       " 3,\n",
       " 2,\n",
       " 2,\n",
       " 3,\n",
       " 3,\n",
       " 3,\n",
       " 2,\n",
       " 2,\n",
       " 3,\n",
       " 3,\n",
       " 2,\n",
       " 1,\n",
       " 2,\n",
       " 1,\n",
       " 3,\n",
       " 2,\n",
       " 1,\n",
       " 2,\n",
       " 3,\n",
       " 1,\n",
       " 2,\n",
       " 3,\n",
       " 3,\n",
       " 1,\n",
       " 3,\n",
       " 1,\n",
       " 3]"
      ]
     },
     "metadata": {},
     "output_type": "display_data"
    },
    {
     "data": {
      "text/plain": [
       "['修正依頼',\n",
       " '修正依頼',\n",
       " '修正依頼',\n",
       " '修正依頼',\n",
       " '修正依頼',\n",
       " '修正依頼',\n",
       " '修正依頼',\n",
       " '修正依頼',\n",
       " '資料作成',\n",
       " '修正依頼',\n",
       " '修正依頼',\n",
       " '修正依頼',\n",
       " '修正依頼',\n",
       " '修正依頼',\n",
       " '修正依頼',\n",
       " '修正依頼',\n",
       " '資料作成',\n",
       " '資料作成',\n",
       " '修正依頼',\n",
       " '注意項目の追加',\n",
       " '資料作成',\n",
       " '資料作成',\n",
       " '修正依頼',\n",
       " '修正依頼',\n",
       " '修正依頼',\n",
       " '修正依頼',\n",
       " '修正依頼',\n",
       " '修正依頼',\n",
       " '修正依頼',\n",
       " '修正依頼',\n",
       " '修正依頼',\n",
       " '修正依頼',\n",
       " '注意項目の追加',\n",
       " '修正依頼',\n",
       " '修正依頼',\n",
       " '修正依頼',\n",
       " '修正依頼',\n",
       " '修正依頼',\n",
       " '修正依頼',\n",
       " '修正依頼',\n",
       " '修正依頼',\n",
       " '修正依頼',\n",
       " '修正依頼',\n",
       " '修正依頼',\n",
       " '修正依頼',\n",
       " '修正依頼',\n",
       " '修正依頼',\n",
       " '修正依頼',\n",
       " '修正依頼',\n",
       " '修正依頼',\n",
       " '修正依頼',\n",
       " '修正依頼',\n",
       " '修正依頼',\n",
       " '資料作成',\n",
       " '資料作成',\n",
       " '資料作成',\n",
       " '資料作成',\n",
       " '資料作成',\n",
       " '修正依頼',\n",
       " '修正依頼',\n",
       " '修正依頼',\n",
       " '修正依頼',\n",
       " '修正依頼',\n",
       " '資料作成',\n",
       " '修正依頼',\n",
       " '修正依頼',\n",
       " '修正依頼',\n",
       " '修正依頼',\n",
       " '修正依頼',\n",
       " '修正依頼',\n",
       " '資料作成',\n",
       " '修正依頼',\n",
       " '修正依頼',\n",
       " '修正依頼',\n",
       " '修正依頼',\n",
       " '修正依頼',\n",
       " '修正依頼',\n",
       " '資料作成',\n",
       " '資料作成',\n",
       " '顧客面談',\n",
       " '契約',\n",
       " '課題解決',\n",
       " '仮報告書の提出',\n",
       " '仮報告書の提出',\n",
       " '仮報告書の提出',\n",
       " '仮報告書の提出',\n",
       " '顧客面談',\n",
       " '契約',\n",
       " '課題解決',\n",
       " '注意項目の追加',\n",
       " '注意項目の追加',\n",
       " '注意項目の追加',\n",
       " '注意項目の追加',\n",
       " '仮報告書の提出',\n",
       " '顧客面談',\n",
       " '契約',\n",
       " '課題解決',\n",
       " '担当客リストの確認',\n",
       " '顧客全体リストの確認',\n",
       " '担当客リストの確認',\n",
       " '仮報告書の提出',\n",
       " '仮報告書の提出',\n",
       " '顧客面談',\n",
       " '契約',\n",
       " '課題分析',\n",
       " '質疑記入',\n",
       " '課題解決',\n",
       " '注意項目の追加',\n",
       " '仮報告書の提出',\n",
       " '仮報告書の提出',\n",
       " '顧客面談',\n",
       " '契約',\n",
       " '課題解決',\n",
       " '顧客面談',\n",
       " '契約',\n",
       " '課題解決',\n",
       " '仮報告書の提出',\n",
       " '仮報告書の提出',\n",
       " '顧客全体リストの確認',\n",
       " '顧客全体リストの確認',\n",
       " '仮報告書の提出',\n",
       " '仮報告書の提出',\n",
       " '顧客面談',\n",
       " '課題解決',\n",
       " '顧客面談',\n",
       " '契約',\n",
       " '課題解決',\n",
       " '仮報告書の提出',\n",
       " '仮報告書の提出',\n",
       " 'チーム連絡帳の確認',\n",
       " '顧客面談',\n",
       " '契約',\n",
       " '課題解決',\n",
       " 'チーム連絡帳の確認',\n",
       " '顧客全体リストの確認',\n",
       " '顧客全体リストの確認',\n",
       " 'チーム連絡帳の確認',\n",
       " '顧客全体リストの確認',\n",
       " '顧客全体リストの確認',\n",
       " 'チーム連絡帳の確認',\n",
       " '仮報告書の提出',\n",
       " '仮報告書の提出',\n",
       " 'チェックリスト作成',\n",
       " '顧客面談',\n",
       " '契約',\n",
       " '仮契約',\n",
       " 'チーム連絡帳の確認',\n",
       " '顧客面談',\n",
       " '契約',\n",
       " '仮契約',\n",
       " '課題解決',\n",
       " '仮報告書の提出',\n",
       " '顧客面談',\n",
       " '契約',\n",
       " '仮契約',\n",
       " '顧客面談',\n",
       " '契約',\n",
       " '課題解決',\n",
       " '担当客リストの確認',\n",
       " '顧客面談',\n",
       " '課題解決',\n",
       " 'チーム連絡帳の確認',\n",
       " '顧客面談',\n",
       " '契約',\n",
       " '仮契約',\n",
       " '質疑記入',\n",
       " '課題解決',\n",
       " '担当客リストの確認',\n",
       " 'チーム連絡帳の確認',\n",
       " '顧客面談',\n",
       " '課題解決',\n",
       " '担当客リストの確認',\n",
       " 'チーム連絡帳の確認',\n",
       " 'チーム連絡帳の確認',\n",
       " 'チェックリスト作成',\n",
       " 'チーム連絡帳の確認',\n",
       " '顧客全体リストの確認',\n",
       " 'チーム連絡帳の確認',\n",
       " '顧客面談',\n",
       " '契約',\n",
       " '課題解決',\n",
       " '担当客リストの確認',\n",
       " '顧客全体リストの確認',\n",
       " '報告書の提出',\n",
       " '顧客全体リストの確認',\n",
       " 'チーム連絡帳の確認',\n",
       " '担当客リストの確認',\n",
       " '顧客面談',\n",
       " '契約',\n",
       " '課題解決',\n",
       " '仮報告書の提出',\n",
       " '顧客面談',\n",
       " '契約',\n",
       " '課題解決',\n",
       " '顧客面談',\n",
       " '契約',\n",
       " '課題解決',\n",
       " '担当客リストの確認',\n",
       " '担当客リストの確認',\n",
       " 'チーム連絡帳の確認',\n",
       " '顧客全体リストの確認',\n",
       " '担当客リストの確認',\n",
       " '顧客全体リストの確認',\n",
       " '担当客リストの確認',\n",
       " '顧客全体リストの確認',\n",
       " 'チーム連絡帳の確認',\n",
       " '担当客リストの確認',\n",
       " '顧客全体リストの確認',\n",
       " '担当客リストの確認',\n",
       " '担当客リストの確認',\n",
       " '顧客全体リストの確認',\n",
       " 'チーム連絡帳の確認',\n",
       " '顧客面談',\n",
       " '契約',\n",
       " '課題解決',\n",
       " 'チーム連絡帳の確認',\n",
       " '顧客全体リストの確認',\n",
       " '担当客リストの確認',\n",
       " 'チーム連絡帳の確認',\n",
       " 'チーム連絡帳の確認',\n",
       " '顧客面談',\n",
       " '契約',\n",
       " '仮報告書の提出',\n",
       " '担当客リストの確認',\n",
       " 'チーム連絡帳の確認',\n",
       " '顧客全体リストの確認',\n",
       " '顧客面談',\n",
       " '契約',\n",
       " '顧客全体リストの確認',\n",
       " '担当客リストの確認',\n",
       " '顧客面談',\n",
       " '契約',\n",
       " '課題解決',\n",
       " 'チーム連絡帳の確認',\n",
       " '顧客全体リストの確認',\n",
       " '顧客面談',\n",
       " '契約',\n",
       " '仮契約',\n",
       " '課題解決',\n",
       " '担当客リストの確認',\n",
       " '顧客全体リストの確認',\n",
       " '報告書の提出',\n",
       " '顧客全体リストの確認',\n",
       " 'チーム連絡帳の確認',\n",
       " '担当客リストの確認',\n",
       " 'チーム連絡帳の確認',\n",
       " '顧客全体リストの確認',\n",
       " '仮報告書の提出',\n",
       " '顧客面談',\n",
       " '契約',\n",
       " '課題解決',\n",
       " '顧客面談',\n",
       " '課題解決',\n",
       " 'チーム連絡帳の確認',\n",
       " '顧客全体リストの確認',\n",
       " '担当客リストの確認',\n",
       " '顧客全体リストの確認',\n",
       " '顧客面談',\n",
       " '契約',\n",
       " '課題解決',\n",
       " 'チーム連絡帳の確認',\n",
       " '仮報告書の提出',\n",
       " '顧客面談',\n",
       " '契約',\n",
       " '担当客リストの確認',\n",
       " 'チーム連絡帳の確認',\n",
       " '顧客全体リストの確認',\n",
       " '担当客リストの確認',\n",
       " 'チーム連絡帳の確認',\n",
       " '担当客リストの確認',\n",
       " '顧客面談',\n",
       " '課題解決',\n",
       " '顧客面談',\n",
       " '課題解決',\n",
       " '担当客リストの確認',\n",
       " '担当客リストの確認',\n",
       " '顧客全体リストの確認',\n",
       " 'チーム連絡帳の確認',\n",
       " '注意項目の追加',\n",
       " '担当客リストの確認',\n",
       " '担当客リストの確認',\n",
       " '顧客全体リストの確認',\n",
       " '顧客全体リストの確認',\n",
       " '顧客全体リストの確認',\n",
       " '顧客全体リストの確認',\n",
       " 'チーム連絡帳の確認',\n",
       " '顧客全体リストの確認',\n",
       " 'チーム連絡帳の確認',\n",
       " '担当客リストの確認',\n",
       " 'チーム連絡帳の確認',\n",
       " '報告書の提出',\n",
       " 'チーム連絡帳の確認',\n",
       " 'チーム連絡帳の確認',\n",
       " 'チーム連絡帳の確認',\n",
       " 'チーム連絡帳の確認',\n",
       " '顧客全体リストの確認',\n",
       " 'チーム連絡帳の確認',\n",
       " '担当客リストの確認',\n",
       " '担当客リストの確認',\n",
       " 'チーム連絡帳の確認',\n",
       " 'チーム連絡帳の確認',\n",
       " 'チーム連絡帳の確認',\n",
       " '担当客リストの確認',\n",
       " '担当客リストの確認',\n",
       " 'チーム連絡帳の確認',\n",
       " 'チーム連絡帳の確認',\n",
       " '担当客リストの確認',\n",
       " '顧客全体リストの確認',\n",
       " '担当客リストの確認',\n",
       " '顧客全体リストの確認',\n",
       " 'チーム連絡帳の確認',\n",
       " '担当客リストの確認',\n",
       " '顧客全体リストの確認',\n",
       " '担当客リストの確認',\n",
       " 'チーム連絡帳の確認',\n",
       " '顧客全体リストの確認',\n",
       " '担当客リストの確認',\n",
       " 'チーム連絡帳の確認',\n",
       " 'チーム連絡帳の確認',\n",
       " '顧客全体リストの確認',\n",
       " 'チーム連絡帳の確認',\n",
       " '顧客全体リストの確認',\n",
       " 'チーム連絡帳の確認']"
      ]
     },
     "metadata": {},
     "output_type": "display_data"
    },
    {
     "data": {
      "text/plain": [
       "['101:修正依頼',\n",
       " '101:修正依頼',\n",
       " '75:修正依頼',\n",
       " '75:修正依頼',\n",
       " '75:修正依頼',\n",
       " '79:修正依頼',\n",
       " '70:修正依頼',\n",
       " '70:修正依頼',\n",
       " '70:資料作成',\n",
       " '70:修正依頼',\n",
       " '79:修正依頼',\n",
       " '75:修正依頼',\n",
       " '72:修正依頼',\n",
       " '72:修正依頼',\n",
       " '77:修正依頼',\n",
       " '77:修正依頼',\n",
       " '77:資料作成',\n",
       " '77:資料作成',\n",
       " '83:修正依頼',\n",
       " '77:注意項目の追加',\n",
       " '77:資料作成',\n",
       " '77:資料作成',\n",
       " '83:修正依頼',\n",
       " '83:修正依頼',\n",
       " '73:修正依頼',\n",
       " '73:修正依頼',\n",
       " '73:修正依頼',\n",
       " '73:修正依頼',\n",
       " '73:修正依頼',\n",
       " '83:修正依頼',\n",
       " '74:修正依頼',\n",
       " '74:修正依頼',\n",
       " '77:注意項目の追加',\n",
       " '77:修正依頼',\n",
       " '69:修正依頼',\n",
       " '69:修正依頼',\n",
       " '111:修正依頼',\n",
       " '111:修正依頼',\n",
       " '111:修正依頼',\n",
       " '69:修正依頼',\n",
       " '75:修正依頼',\n",
       " '75:修正依頼',\n",
       " '75:修正依頼',\n",
       " '83:修正依頼',\n",
       " '83:修正依頼',\n",
       " '77:修正依頼',\n",
       " '77:修正依頼',\n",
       " '77:修正依頼',\n",
       " '77:修正依頼',\n",
       " '84:修正依頼',\n",
       " '77:修正依頼',\n",
       " '116:修正依頼',\n",
       " '84:修正依頼',\n",
       " '77:資料作成',\n",
       " '77:資料作成',\n",
       " '84:資料作成',\n",
       " '70:資料作成',\n",
       " '116:資料作成',\n",
       " '79:修正依頼',\n",
       " '79:修正依頼',\n",
       " '79:修正依頼',\n",
       " '79:修正依頼',\n",
       " '65:修正依頼',\n",
       " '65:資料作成',\n",
       " '75:修正依頼',\n",
       " '65:修正依頼',\n",
       " '83:修正依頼',\n",
       " '83:修正依頼',\n",
       " '75:修正依頼',\n",
       " '83:修正依頼',\n",
       " '83:資料作成',\n",
       " '83:修正依頼',\n",
       " '67:修正依頼',\n",
       " '78:修正依頼',\n",
       " '75:修正依頼',\n",
       " '102:修正依頼',\n",
       " '77:修正依頼',\n",
       " '83:資料作成',\n",
       " '83:資料作成',\n",
       " '75:顧客面談',\n",
       " '75:契約',\n",
       " '75:課題解決',\n",
       " '79:仮報告書の提出',\n",
       " '73:仮報告書の提出',\n",
       " '75:仮報告書の提出',\n",
       " '75:仮報告書の提出',\n",
       " '111:顧客面談',\n",
       " '111:契約',\n",
       " '111:課題解決',\n",
       " '79:注意項目の追加',\n",
       " '72:注意項目の追加',\n",
       " '83:注意項目の追加',\n",
       " '65:注意項目の追加',\n",
       " '69:仮報告書の提出',\n",
       " '69:顧客面談',\n",
       " '69:契約',\n",
       " '69:課題解決',\n",
       " '69:担当客リストの確認',\n",
       " '69:顧客全体リストの確認',\n",
       " '69:担当客リストの確認',\n",
       " '77:仮報告書の提出',\n",
       " '77:仮報告書の提出',\n",
       " '77:顧客面談',\n",
       " '77:契約',\n",
       " '77:課題分析',\n",
       " '77:質疑記入',\n",
       " '77:課題解決',\n",
       " '72:注意項目の追加',\n",
       " '79:仮報告書の提出',\n",
       " '79:仮報告書の提出',\n",
       " '67:顧客面談',\n",
       " '67:契約',\n",
       " '67:課題解決',\n",
       " '101:顧客面談',\n",
       " '101:契約',\n",
       " '101:課題解決',\n",
       " '107:仮報告書の提出',\n",
       " '79:仮報告書の提出',\n",
       " '69:顧客全体リストの確認',\n",
       " '69:顧客全体リストの確認',\n",
       " '79:仮報告書の提出',\n",
       " '79:仮報告書の提出',\n",
       " '70:顧客面談',\n",
       " '70:課題解決',\n",
       " '116:顧客面談',\n",
       " '116:契約',\n",
       " '116:課題解決',\n",
       " '65:仮報告書の提出',\n",
       " '79:仮報告書の提出',\n",
       " '101:チーム連絡帳の確認',\n",
       " '79:顧客面談',\n",
       " '79:契約',\n",
       " '79:課題解決',\n",
       " '79:チーム連絡帳の確認',\n",
       " '79:顧客全体リストの確認',\n",
       " '79:顧客全体リストの確認',\n",
       " '79:チーム連絡帳の確認',\n",
       " '79:顧客全体リストの確認',\n",
       " '79:顧客全体リストの確認',\n",
       " '79:チーム連絡帳の確認',\n",
       " '73:仮報告書の提出',\n",
       " '73:仮報告書の提出',\n",
       " '73:チェックリスト作成',\n",
       " '73:顧客面談',\n",
       " '73:契約',\n",
       " '73:仮契約',\n",
       " '73:チーム連絡帳の確認',\n",
       " '83:顧客面談',\n",
       " '83:契約',\n",
       " '83:仮契約',\n",
       " '83:課題解決',\n",
       " '75:仮報告書の提出',\n",
       " '75:顧客面談',\n",
       " '75:契約',\n",
       " '75:仮契約',\n",
       " '79:顧客面談',\n",
       " '79:契約',\n",
       " '79:課題解決',\n",
       " '116:担当客リストの確認',\n",
       " '65:顧客面談',\n",
       " '79:課題解決',\n",
       " '116:チーム連絡帳の確認',\n",
       " '79:顧客面談',\n",
       " '79:契約',\n",
       " '79:仮契約',\n",
       " '79:質疑記入',\n",
       " '79:課題解決',\n",
       " '67:担当客リストの確認',\n",
       " '79:チーム連絡帳の確認',\n",
       " '70:顧客面談',\n",
       " '70:課題解決',\n",
       " '69:担当客リストの確認',\n",
       " '79:チーム連絡帳の確認',\n",
       " '79:チーム連絡帳の確認',\n",
       " '79:チェックリスト作成',\n",
       " '79:チーム連絡帳の確認',\n",
       " '69:顧客全体リストの確認',\n",
       " '69:チーム連絡帳の確認',\n",
       " '65:顧客面談',\n",
       " '65:契約',\n",
       " '65:課題解決',\n",
       " '79:担当客リストの確認',\n",
       " '79:顧客全体リストの確認',\n",
       " '79:報告書の提出',\n",
       " '79:顧客全体リストの確認',\n",
       " '79:チーム連絡帳の確認',\n",
       " '79:担当客リストの確認',\n",
       " '75:顧客面談',\n",
       " '75:契約',\n",
       " '75:課題解決',\n",
       " '83:仮報告書の提出',\n",
       " '115:顧客面談',\n",
       " '115:契約',\n",
       " '115:課題解決',\n",
       " '83:顧客面談',\n",
       " '83:契約',\n",
       " '83:課題解決',\n",
       " '111:担当客リストの確認',\n",
       " '83:担当客リストの確認',\n",
       " '83:チーム連絡帳の確認',\n",
       " '83:顧客全体リストの確認',\n",
       " '83:担当客リストの確認',\n",
       " '111:顧客全体リストの確認',\n",
       " '111:担当客リストの確認',\n",
       " '83:顧客全体リストの確認',\n",
       " '83:チーム連絡帳の確認',\n",
       " '83:担当客リストの確認',\n",
       " '83:顧客全体リストの確認',\n",
       " '79:担当客リストの確認',\n",
       " '79:担当客リストの確認',\n",
       " '79:顧客全体リストの確認',\n",
       " '79:チーム連絡帳の確認',\n",
       " '77:顧客面談',\n",
       " '77:契約',\n",
       " '77:課題解決',\n",
       " '75:チーム連絡帳の確認',\n",
       " '75:顧客全体リストの確認',\n",
       " '115:担当客リストの確認',\n",
       " '115:チーム連絡帳の確認',\n",
       " '69:チーム連絡帳の確認',\n",
       " '77:顧客面談',\n",
       " '77:契約',\n",
       " '110:仮報告書の提出',\n",
       " '65:担当客リストの確認',\n",
       " '65:チーム連絡帳の確認',\n",
       " '65:顧客全体リストの確認',\n",
       " '107:顧客面談',\n",
       " '107:契約',\n",
       " '65:顧客全体リストの確認',\n",
       " '65:担当客リストの確認',\n",
       " '79:顧客面談',\n",
       " '83:契約',\n",
       " '83:課題解決',\n",
       " '83:チーム連絡帳の確認',\n",
       " '83:顧客全体リストの確認',\n",
       " '110:顧客面談',\n",
       " '110:契約',\n",
       " '110:仮契約',\n",
       " '110:課題解決',\n",
       " '77:担当客リストの確認',\n",
       " '77:顧客全体リストの確認',\n",
       " '77:報告書の提出',\n",
       " '77:顧客全体リストの確認',\n",
       " '77:チーム連絡帳の確認',\n",
       " '110:担当客リストの確認',\n",
       " '65:チーム連絡帳の確認',\n",
       " '65:顧客全体リストの確認',\n",
       " '65:仮報告書の提出',\n",
       " '65:顧客面談',\n",
       " '65:契約',\n",
       " '65:課題解決',\n",
       " '75:顧客面談',\n",
       " '75:課題解決',\n",
       " '75:チーム連絡帳の確認',\n",
       " '75:顧客全体リストの確認',\n",
       " '83:担当客リストの確認',\n",
       " '83:顧客全体リストの確認',\n",
       " '84:顧客面談',\n",
       " '84:契約',\n",
       " '84:課題解決',\n",
       " '84:チーム連絡帳の確認',\n",
       " '78:仮報告書の提出',\n",
       " '78:顧客面談',\n",
       " '78:契約',\n",
       " '75:担当客リストの確認',\n",
       " '75:チーム連絡帳の確認',\n",
       " '75:顧客全体リストの確認',\n",
       " '65:担当客リストの確認',\n",
       " '69:チーム連絡帳の確認',\n",
       " '69:担当客リストの確認',\n",
       " '102:顧客面談',\n",
       " '102:課題解決',\n",
       " '77:顧客面談',\n",
       " '77:課題解決',\n",
       " '79:担当客リストの確認',\n",
       " '79:担当客リストの確認',\n",
       " '75:顧客全体リストの確認',\n",
       " '75:チーム連絡帳の確認',\n",
       " '78:注意項目の追加',\n",
       " '77:担当客リストの確認',\n",
       " '77:担当客リストの確認',\n",
       " '75:顧客全体リストの確認',\n",
       " '79:顧客全体リストの確認',\n",
       " '73:顧客全体リストの確認',\n",
       " '116:顧客全体リストの確認',\n",
       " '75:チーム連絡帳の確認',\n",
       " '111:顧客全体リストの確認',\n",
       " '75:チーム連絡帳の確認',\n",
       " '75:担当客リストの確認',\n",
       " '73:チーム連絡帳の確認',\n",
       " '79:報告書の提出',\n",
       " '116:チーム連絡帳の確認',\n",
       " '79:チーム連絡帳の確認',\n",
       " '111:チーム連絡帳の確認',\n",
       " '79:チーム連絡帳の確認',\n",
       " '116:顧客全体リストの確認',\n",
       " '83:チーム連絡帳の確認',\n",
       " '77:担当客リストの確認',\n",
       " '89:担当客リストの確認',\n",
       " '75:チーム連絡帳の確認',\n",
       " '79:チーム連絡帳の確認',\n",
       " '77:チーム連絡帳の確認',\n",
       " '111:担当客リストの確認',\n",
       " '75:担当客リストの確認',\n",
       " '89:チーム連絡帳の確認',\n",
       " '83:チーム連絡帳の確認',\n",
       " '83:担当客リストの確認',\n",
       " '89:顧客全体リストの確認',\n",
       " '111:担当客リストの確認',\n",
       " '83:顧客全体リストの確認',\n",
       " '79:チーム連絡帳の確認',\n",
       " '79:担当客リストの確認',\n",
       " '79:顧客全体リストの確認',\n",
       " '111:担当客リストの確認',\n",
       " '111:チーム連絡帳の確認',\n",
       " '111:顧客全体リストの確認',\n",
       " '65:担当客リストの確認',\n",
       " '111:チーム連絡帳の確認',\n",
       " '83:チーム連絡帳の確認',\n",
       " '83:顧客全体リストの確認',\n",
       " '83:チーム連絡帳の確認',\n",
       " '83:顧客全体リストの確認',\n",
       " '115:チーム連絡帳の確認']"
      ]
     },
     "metadata": {},
     "output_type": "display_data"
    }
   ],
   "source": [
    "# list(XLSdat['Name']).split(',')\n",
    "NameL_ATT=[v for v in XLSdatATT['ID']]\n",
    "display(NameL_ATT)\n",
    "\n",
    "actID_ATT=list(XLSdatATT['Activity'])\n",
    "actIDL_ATT=[dict_ID[k] for k in actID_ATT]\n",
    "display(actID_ATT)\n",
    "display(actIDL_ATT)\n",
    "\n",
    "NameAct_ATT=[str(k)+':'+v for k,v in zip(NameL_ATT,actIDL_ATT)]\n",
    "\n",
    "display(NameAct_ATT)\n"
   ]
  },
  {
   "cell_type": "code",
   "execution_count": 25,
   "id": "ce74052d",
   "metadata": {},
   "outputs": [
    {
     "data": {
      "text/plain": [
       "0        0\n",
       "1        1\n",
       "2        2\n",
       "3        3\n",
       "4        4\n",
       "      ... \n",
       "318    318\n",
       "319    319\n",
       "320    320\n",
       "321    321\n",
       "322    322\n",
       "Name: Date, Length: 323, dtype: int64"
      ]
     },
     "metadata": {},
     "output_type": "display_data"
    }
   ],
   "source": [
    "ikey_ATT=np.argsort(dTimeL_ATT)\n",
    "display(ikey_ATT)\n"
   ]
  },
  {
   "cell_type": "code",
   "execution_count": 26,
   "id": "75809bdd",
   "metadata": {},
   "outputs": [],
   "source": [
    "dList_ATT = [parse(tx, fuzzy=True) for tx in XLSdatATT['Date']]\n",
    "dListNP_ATT=np.array(dList_ATT)\n"
   ]
  },
  {
   "cell_type": "code",
   "execution_count": 27,
   "id": "f803877a",
   "metadata": {
    "scrolled": true
   },
   "outputs": [
    {
     "data": {
      "text/plain": [
       "datetime.date(2023, 6, 30)"
      ]
     },
     "metadata": {},
     "output_type": "display_data"
    }
   ],
   "source": [
    "dList_ATT = [parse(tx, fuzzy=True) for tx in dTimeL_ATT]\n",
    "dListNP_ATT=np.array(dList_ATT)\n",
    "display(dListNP_ATT[0].date())\n",
    "\n"
   ]
  },
  {
   "cell_type": "code",
   "execution_count": 38,
   "id": "9b1e8cae",
   "metadata": {},
   "outputs": [
    {
     "data": {
      "text/plain": [
       "['Fri',\n",
       " 'Fri',\n",
       " 'Fri',\n",
       " 'Fri',\n",
       " 'Fri',\n",
       " 'Sat',\n",
       " 'Sat',\n",
       " 'Sat',\n",
       " 'Sat',\n",
       " 'Sat',\n",
       " 'Sat',\n",
       " 'Sun',\n",
       " 'Sun',\n",
       " 'Sun',\n",
       " 'Mon',\n",
       " 'Mon',\n",
       " 'Mon',\n",
       " 'Mon',\n",
       " 'Mon',\n",
       " 'Mon',\n",
       " 'Mon',\n",
       " 'Mon',\n",
       " 'Mon',\n",
       " 'Mon',\n",
       " 'Mon',\n",
       " 'Mon',\n",
       " 'Mon',\n",
       " 'Mon',\n",
       " 'Mon',\n",
       " 'Mon',\n",
       " 'Mon',\n",
       " 'Mon',\n",
       " 'Mon',\n",
       " 'Mon',\n",
       " 'Mon',\n",
       " 'Mon',\n",
       " 'Mon',\n",
       " 'Mon',\n",
       " 'Mon',\n",
       " 'Mon',\n",
       " 'Mon',\n",
       " 'Mon',\n",
       " 'Mon',\n",
       " 'Tue',\n",
       " 'Tue',\n",
       " 'Tue',\n",
       " 'Tue',\n",
       " 'Tue',\n",
       " 'Tue',\n",
       " 'Tue',\n",
       " 'Tue',\n",
       " 'Tue',\n",
       " 'Tue',\n",
       " 'Tue',\n",
       " 'Tue',\n",
       " 'Tue',\n",
       " 'Tue',\n",
       " 'Tue',\n",
       " 'Tue',\n",
       " 'Tue',\n",
       " 'Tue',\n",
       " 'Tue',\n",
       " 'Tue',\n",
       " 'Tue',\n",
       " 'Tue',\n",
       " 'Tue',\n",
       " 'Tue',\n",
       " 'Tue',\n",
       " 'Tue',\n",
       " 'Tue',\n",
       " 'Tue',\n",
       " 'Tue',\n",
       " 'Tue',\n",
       " 'Tue',\n",
       " 'Tue',\n",
       " 'Tue',\n",
       " 'Tue',\n",
       " 'Tue',\n",
       " 'Tue',\n",
       " 'Tue',\n",
       " 'Tue',\n",
       " 'Tue',\n",
       " 'Tue',\n",
       " 'Tue',\n",
       " 'Tue',\n",
       " 'Tue',\n",
       " 'Tue',\n",
       " 'Tue',\n",
       " 'Tue',\n",
       " 'Wed',\n",
       " 'Wed',\n",
       " 'Wed',\n",
       " 'Wed',\n",
       " 'Wed',\n",
       " 'Wed',\n",
       " 'Wed',\n",
       " 'Wed',\n",
       " 'Thur',\n",
       " 'Thur',\n",
       " 'Thur',\n",
       " 'Thur',\n",
       " 'Thur',\n",
       " 'Thur',\n",
       " 'Thur',\n",
       " 'Thur',\n",
       " 'Thur',\n",
       " 'Thur',\n",
       " 'Thur',\n",
       " 'Thur',\n",
       " 'Thur',\n",
       " 'Fri',\n",
       " 'Fri',\n",
       " 'Fri',\n",
       " 'Fri',\n",
       " 'Fri',\n",
       " 'Fri',\n",
       " 'Fri',\n",
       " 'Fri',\n",
       " 'Fri',\n",
       " 'Fri',\n",
       " 'Fri',\n",
       " 'Fri',\n",
       " 'Fri',\n",
       " 'Fri',\n",
       " 'Fri',\n",
       " 'Fri',\n",
       " 'Fri',\n",
       " 'Fri',\n",
       " 'Fri',\n",
       " 'Sat',\n",
       " 'Sun',\n",
       " 'Sun',\n",
       " 'Sun',\n",
       " 'Sun',\n",
       " 'Sun',\n",
       " 'Sun',\n",
       " 'Sun',\n",
       " 'Sun',\n",
       " 'Sun',\n",
       " 'Sun',\n",
       " 'Sun',\n",
       " 'Sun',\n",
       " 'Sun',\n",
       " 'Sun',\n",
       " 'Sun',\n",
       " 'Sun',\n",
       " 'Sun',\n",
       " 'Sun',\n",
       " 'Sun',\n",
       " 'Sun',\n",
       " 'Sun',\n",
       " 'Sun',\n",
       " 'Sun',\n",
       " 'Sun',\n",
       " 'Sun',\n",
       " 'Sun',\n",
       " 'Sun',\n",
       " 'Sun',\n",
       " 'Mon',\n",
       " 'Mon',\n",
       " 'Mon',\n",
       " 'Mon',\n",
       " 'Mon',\n",
       " 'Mon',\n",
       " 'Mon',\n",
       " 'Mon',\n",
       " 'Mon',\n",
       " 'Mon',\n",
       " 'Mon',\n",
       " 'Mon',\n",
       " 'Mon',\n",
       " 'Mon',\n",
       " 'Tue',\n",
       " 'Tue',\n",
       " 'Tue',\n",
       " 'Tue',\n",
       " 'Tue',\n",
       " 'Tue',\n",
       " 'Tue',\n",
       " 'Tue',\n",
       " 'Tue',\n",
       " 'Wed',\n",
       " 'Wed',\n",
       " 'Wed',\n",
       " 'Wed',\n",
       " 'Wed',\n",
       " 'Wed',\n",
       " 'Wed',\n",
       " 'Wed',\n",
       " 'Wed',\n",
       " 'Wed',\n",
       " 'Wed',\n",
       " 'Wed',\n",
       " 'Wed',\n",
       " 'Wed',\n",
       " 'Wed',\n",
       " 'Wed',\n",
       " 'Wed',\n",
       " 'Wed',\n",
       " 'Wed',\n",
       " 'Wed',\n",
       " 'Wed',\n",
       " 'Wed',\n",
       " 'Wed',\n",
       " 'Wed',\n",
       " 'Wed',\n",
       " 'Wed',\n",
       " 'Wed',\n",
       " 'Wed',\n",
       " 'Wed',\n",
       " 'Wed',\n",
       " 'Wed',\n",
       " 'Wed',\n",
       " 'Wed',\n",
       " 'Wed',\n",
       " 'Wed',\n",
       " 'Wed',\n",
       " 'Thur',\n",
       " 'Thur',\n",
       " 'Thur',\n",
       " 'Thur',\n",
       " 'Thur',\n",
       " 'Thur',\n",
       " 'Fri',\n",
       " 'Fri',\n",
       " 'Fri',\n",
       " 'Fri',\n",
       " 'Fri',\n",
       " 'Fri',\n",
       " 'Fri',\n",
       " 'Fri',\n",
       " 'Fri',\n",
       " 'Fri',\n",
       " 'Fri',\n",
       " 'Fri',\n",
       " 'Fri',\n",
       " 'Fri',\n",
       " 'Fri',\n",
       " 'Fri',\n",
       " 'Sat',\n",
       " 'Sat',\n",
       " 'Sat',\n",
       " 'Sat',\n",
       " 'Sat',\n",
       " 'Sun',\n",
       " 'Sun',\n",
       " 'Sun',\n",
       " 'Sun',\n",
       " 'Sun',\n",
       " 'Sun',\n",
       " 'Sun',\n",
       " 'Mon',\n",
       " 'Mon',\n",
       " 'Mon',\n",
       " 'Mon',\n",
       " 'Tue',\n",
       " 'Tue',\n",
       " 'Tue',\n",
       " 'Tue',\n",
       " 'Tue',\n",
       " 'Tue',\n",
       " 'Tue',\n",
       " 'Tue',\n",
       " 'Tue',\n",
       " 'Tue',\n",
       " 'Tue',\n",
       " 'Tue',\n",
       " 'Tue',\n",
       " 'Tue',\n",
       " 'Tue',\n",
       " 'Tue',\n",
       " 'Tue',\n",
       " 'Tue',\n",
       " 'Tue',\n",
       " 'Tue',\n",
       " 'Tue',\n",
       " 'Tue',\n",
       " 'Tue',\n",
       " 'Tue',\n",
       " 'Tue',\n",
       " 'Tue',\n",
       " 'Tue',\n",
       " 'Tue',\n",
       " 'Tue',\n",
       " 'Tue',\n",
       " 'Tue',\n",
       " 'Tue',\n",
       " 'Tue',\n",
       " 'Tue',\n",
       " 'Tue',\n",
       " 'Tue',\n",
       " 'Tue',\n",
       " 'Tue',\n",
       " 'Tue',\n",
       " 'Tue',\n",
       " 'Tue',\n",
       " 'Tue',\n",
       " 'Tue',\n",
       " 'Tue',\n",
       " 'Tue',\n",
       " 'Tue',\n",
       " 'Tue',\n",
       " 'Tue',\n",
       " 'Tue',\n",
       " 'Tue',\n",
       " 'Tue',\n",
       " 'Tue',\n",
       " 'Tue',\n",
       " 'Tue',\n",
       " 'Tue',\n",
       " 'Tue',\n",
       " 'Tue',\n",
       " 'Tue',\n",
       " 'Tue',\n",
       " 'Tue',\n",
       " 'Tue',\n",
       " 'Fri',\n",
       " 'Thur',\n",
       " 'Tue',\n",
       " 'Tue',\n",
       " 'Tue',\n",
       " 'Tue',\n",
       " 'Tue']"
      ]
     },
     "metadata": {},
     "output_type": "display_data"
    }
   ],
   "source": [
    "EngWL=['Mon','Tue','Wed','Thur','Fri','Sat','Sun']\n",
    "JpnWL=['月曜日','火曜日','水曜日','木曜日','金曜日','土曜日','日曜日']\n",
    "\n",
    "convWK=dict(zip(range(7),EngWL))\n",
    "convWKnum_ATT=[v.weekday() for v in dListNP_ATT[ikey_ATT]]\n",
    "convWKLabel_ATT=[convWK[v.weekday()] for v in dListNP_ATT[ikey_ATT]]\n",
    "display(convWKLabel_ATT)\n"
   ]
  },
  {
   "cell_type": "code",
   "execution_count": 39,
   "id": "1adbfeac",
   "metadata": {},
   "outputs": [
    {
     "name": "stdout",
     "output_type": "stream",
     "text": [
      "2023-06-30\n",
      "4\n",
      "Fri\n"
     ]
    }
   ],
   "source": [
    "print(dListNP_ATT[0].date())\n",
    "print(dListNP_ATT[0].weekday())\n",
    "print(convWK[dListNP_ATT[0].weekday()])"
   ]
  },
  {
   "cell_type": "code",
   "execution_count": 50,
   "id": "26b396e0",
   "metadata": {},
   "outputs": [
    {
     "name": "stdout",
     "output_type": "stream",
     "text": [
      "2023-10-31\n",
      "1\n",
      "Tue\n"
     ]
    }
   ],
   "source": [
    "print(dListNP_ATT[-1].date())\n",
    "print(dListNP_ATT[-1].weekday())\n",
    "print(convWK[dListNP_ATT[-1].weekday()])"
   ]
  },
  {
   "cell_type": "code",
   "execution_count": 51,
   "id": "c625acbb",
   "metadata": {},
   "outputs": [
    {
     "data": {
      "text/plain": [
       "{0: 'Mon', 1: 'Tue', 2: 'Wed', 3: 'Thur', 4: 'Fri', 5: 'Sat', 6: 'Sun'}"
      ]
     },
     "execution_count": 51,
     "metadata": {},
     "output_type": "execute_result"
    }
   ],
   "source": [
    "convWK"
   ]
  },
  {
   "cell_type": "code",
   "execution_count": 40,
   "id": "8db14f35",
   "metadata": {},
   "outputs": [
    {
     "data": {
      "text/plain": [
       "datetime.datetime(2023, 6, 30, 18, 9, 29)"
      ]
     },
     "metadata": {},
     "output_type": "display_data"
    }
   ],
   "source": [
    "dayinc_ATT=6-convWKnum_ATT[-1]\n",
    "display(dListNP_ATT[0])\n",
    "Firstday_ATT=dListNP_ATT[0]-datetime.timedelta(days=convWKnum_ATT[0])\n",
    "Lastday_ATT=dListNP_ATT[-1]+datetime.timedelta(days=dayinc_ATT)\n",
    "Lastday_mon_ATT=Lastday_ATT-datetime.timedelta(days=6)\n"
   ]
  },
  {
   "cell_type": "code",
   "execution_count": 41,
   "id": "a54c1ac8",
   "metadata": {},
   "outputs": [
    {
     "name": "stdout",
     "output_type": "stream",
     "text": [
      "2023-06-30\n",
      "4\n",
      "Fri\n",
      "2023-06-26\n",
      "0\n",
      "Mon\n"
     ]
    }
   ],
   "source": [
    "print(dListNP_ATT[0].date())\n",
    "print(dListNP_ATT[0].weekday())\n",
    "print(convWK[dListNP_ATT[0].weekday()])\n",
    "\n",
    "print(Firstday_ATT.date())\n",
    "print(Firstday_ATT.weekday())\n",
    "print(convWK[Firstday_ATT.weekday()])"
   ]
  },
  {
   "cell_type": "code",
   "execution_count": 57,
   "id": "c5373496",
   "metadata": {},
   "outputs": [
    {
     "data": {
      "text/plain": [
       "4"
      ]
     },
     "execution_count": 57,
     "metadata": {},
     "output_type": "execute_result"
    }
   ],
   "source": [
    "datetime.timedelta(days=convWKnum_ATT[0])\n",
    "convWKnum_ATT[0]"
   ]
  },
  {
   "cell_type": "code",
   "execution_count": 42,
   "id": "48284a47",
   "metadata": {},
   "outputs": [
    {
     "name": "stdout",
     "output_type": "stream",
     "text": [
      "2023-06-30 18:09:29\n",
      "2023-07-01 18:09:29\n"
     ]
    }
   ],
   "source": [
    "d1=dListNP_ATT[0]\n",
    "d2=dListNP_ATT[0]+datetime.timedelta(days=1)\n",
    "print(d1)\n",
    "print(d2)"
   ]
  },
  {
   "cell_type": "code",
   "execution_count": 59,
   "id": "66c0e3cc",
   "metadata": {},
   "outputs": [
    {
     "name": "stdout",
     "output_type": "stream",
     "text": [
      "2023-06-30 18:09:29\n"
     ]
    }
   ],
   "source": [
    "print(dListNP_ATT[0])\n"
   ]
  },
  {
   "cell_type": "code",
   "execution_count": 43,
   "id": "96caf8fb",
   "metadata": {},
   "outputs": [
    {
     "name": "stdout",
     "output_type": "stream",
     "text": [
      "2023-06-26 18:09:29\n",
      "Mon\n",
      "2023-11-05 11:04:53\n",
      "Sun\n",
      "2023-10-30 11:04:53\n",
      "Mon\n"
     ]
    }
   ],
   "source": [
    "print(Firstday_ATT)\n",
    "print(convWK[Firstday_ATT.weekday()])\n",
    "print(Lastday_ATT)\n",
    "print(convWK[Lastday_ATT.weekday()])\n",
    "print(Lastday_mon_ATT)\n",
    "print(convWK[Lastday_mon_ATT.weekday()])"
   ]
  },
  {
   "cell_type": "code",
   "execution_count": 28,
   "id": "b6111de8",
   "metadata": {},
   "outputs": [
    {
     "data": {
      "text/plain": [
       "datetime.datetime(2016, 2, 21, 14, 19, 28)"
      ]
     },
     "execution_count": 28,
     "metadata": {},
     "output_type": "execute_result"
    }
   ],
   "source": [
    "Lastday_ATT"
   ]
  },
  {
   "cell_type": "code",
   "execution_count": 27,
   "id": "b2ee3ef7",
   "metadata": {},
   "outputs": [
    {
     "data": {
      "text/plain": [
       "datetime.datetime(2016, 2, 15, 14, 19, 28)"
      ]
     },
     "execution_count": 27,
     "metadata": {},
     "output_type": "execute_result"
    }
   ],
   "source": [
    "Lastday_ATT-datetime.timedelta(days=6)"
   ]
  },
  {
   "cell_type": "code",
   "execution_count": 44,
   "id": "6f218a2e",
   "metadata": {},
   "outputs": [
    {
     "name": "stdout",
     "output_type": "stream",
     "text": [
      "TotalDays.days\n"
     ]
    },
    {
     "data": {
      "text/plain": [
       "132"
      ]
     },
     "metadata": {},
     "output_type": "display_data"
    },
    {
     "name": "stdout",
     "output_type": "stream",
     "text": [
      "(TotalDays.days+1)/7\n"
     ]
    },
    {
     "data": {
      "text/plain": [
       "19.0"
      ]
     },
     "metadata": {},
     "output_type": "display_data"
    },
    {
     "name": "stdout",
     "output_type": "stream",
     "text": [
      "TotalWeeks\n"
     ]
    },
    {
     "data": {
      "text/plain": [
       "2.5714285714285716"
      ]
     },
     "metadata": {},
     "output_type": "display_data"
    },
    {
     "data": {
      "text/plain": [
       "19"
      ]
     },
     "metadata": {},
     "output_type": "display_data"
    },
    {
     "name": "stdout",
     "output_type": "stream",
     "text": [
      "月曜日\n",
      "日曜日\n"
     ]
    }
   ],
   "source": [
    "\n",
    "    \n",
    "Firstday=Firstday_ATT\n",
    "Lastday=Lastday_ATT\n",
    "Last_monday=Lastday-datetime.timedelta(days=6)\n",
    "\n",
    "TotalDays=Lastday.date()-Firstday.date()\n",
    "TotalWeeks=Last_monday.date()-Firstday.date()\n",
    "\n",
    "TotalWeeks=int((TotalDays.days+1)/7)\n",
    "print('TotalDays.days')\n",
    "display(TotalDays.days)\n",
    "print('(TotalDays.days+1)/7')\n",
    "display((TotalDays.days+1)/7)\n",
    "print('TotalWeeks')\n",
    "display((TotalWeeks-1)/7)\n",
    "display(TotalWeeks)\n",
    "\n",
    "SunD=Firstday.date()+datetime.timedelta(days=6)\n",
    "print(JpnWL[Firstday.weekday()])\n",
    "print(JpnWL[SunD.weekday()])"
   ]
  },
  {
   "cell_type": "code",
   "execution_count": 63,
   "id": "36675936",
   "metadata": {},
   "outputs": [
    {
     "name": "stdout",
     "output_type": "stream",
     "text": [
      "2023-06-26 18:09:29\n",
      "2023-11-05 11:04:53\n"
     ]
    }
   ],
   "source": [
    "print(Firstday)\n",
    "print(Lastday)"
   ]
  },
  {
   "cell_type": "code",
   "execution_count": 64,
   "id": "fb4c02cf",
   "metadata": {},
   "outputs": [
    {
     "data": {
      "text/plain": [
       "2555"
      ]
     },
     "execution_count": 64,
     "metadata": {},
     "output_type": "execute_result"
    }
   ],
   "source": [
    "2022-2015\n",
    "7*365"
   ]
  },
  {
   "cell_type": "code",
   "execution_count": 66,
   "id": "658e3fee",
   "metadata": {},
   "outputs": [
    {
     "data": {
      "text/plain": [
       "[0, 7, 14, 21, 28, 35, 42, 49, 56, 63, 70, 77, 84, 91, 98, 105, 112, 119, 126]"
      ]
     },
     "execution_count": 66,
     "metadata": {},
     "output_type": "execute_result"
    }
   ],
   "source": [
    "list(range(0,TotalDays.days,7))"
   ]
  },
  {
   "cell_type": "code",
   "execution_count": 45,
   "id": "b1fbb747",
   "metadata": {},
   "outputs": [
    {
     "data": {
      "text/plain": [
       "[0,\n",
       " 7,\n",
       " 14,\n",
       " 21,\n",
       " 28,\n",
       " 35,\n",
       " 42,\n",
       " 49,\n",
       " 56,\n",
       " 63,\n",
       " 70,\n",
       " 77,\n",
       " 84,\n",
       " 91,\n",
       " 98,\n",
       " 105,\n",
       " 112,\n",
       " 119,\n",
       " 126,\n",
       " 132]"
      ]
     },
     "metadata": {},
     "output_type": "display_data"
    }
   ],
   "source": [
    "# keyWK=np.array(list(range(0,TotalDays.days,7))+[TotalDays.days])\n",
    "keyWK=list(range(0,TotalDays.days,7))+[TotalDays.days]\n",
    "display(keyWK)\n",
    "\n",
    "WKst=[Firstday+datetime.timedelta(days=d) for d in keyWK]\n",
    "WKst\n",
    "\n",
    "NPdataMat=np.empty([len(WKst),7],dtype=object)\n",
    "\n",
    "wkL=[d.timetuple() for d in WKst]\n",
    "wkL2=np.array([d2[0:3:1] for d2 in wkL])\n",
    "\n"
   ]
  },
  {
   "cell_type": "code",
   "execution_count": 70,
   "id": "b1dd13f8",
   "metadata": {},
   "outputs": [
    {
     "name": "stdout",
     "output_type": "stream",
     "text": [
      "time.struct_time(tm_year=2023, tm_mon=6, tm_mday=26, tm_hour=18, tm_min=9, tm_sec=29, tm_wday=0, tm_yday=177, tm_isdst=-1)\n",
      "[2023    6   26]\n"
     ]
    }
   ],
   "source": [
    "print(wkL[0])\n",
    "print(wkL2[0])"
   ]
  },
  {
   "cell_type": "code",
   "execution_count": 71,
   "id": "9f9f08e2",
   "metadata": {},
   "outputs": [
    {
     "data": {
      "text/plain": [
       "[0,\n",
       " 7,\n",
       " 14,\n",
       " 21,\n",
       " 28,\n",
       " 35,\n",
       " 42,\n",
       " 49,\n",
       " 56,\n",
       " 63,\n",
       " 70,\n",
       " 77,\n",
       " 84,\n",
       " 91,\n",
       " 98,\n",
       " 105,\n",
       " 112,\n",
       " 119,\n",
       " 126,\n",
       " 132]"
      ]
     },
     "execution_count": 71,
     "metadata": {},
     "output_type": "execute_result"
    }
   ],
   "source": [
    "keyWK"
   ]
  },
  {
   "cell_type": "code",
   "execution_count": 72,
   "id": "0ccbc708",
   "metadata": {},
   "outputs": [
    {
     "data": {
      "text/plain": [
       "array([[None, None, None, None, None, None, None],\n",
       "       [None, None, None, None, None, None, None],\n",
       "       [None, None, None, None, None, None, None],\n",
       "       [None, None, None, None, None, None, None],\n",
       "       [None, None, None, None, None, None, None],\n",
       "       [None, None, None, None, None, None, None],\n",
       "       [None, None, None, None, None, None, None],\n",
       "       [None, None, None, None, None, None, None],\n",
       "       [None, None, None, None, None, None, None],\n",
       "       [None, None, None, None, None, None, None],\n",
       "       [None, None, None, None, None, None, None],\n",
       "       [None, None, None, None, None, None, None],\n",
       "       [None, None, None, None, None, None, None],\n",
       "       [None, None, None, None, None, None, None],\n",
       "       [None, None, None, None, None, None, None],\n",
       "       [None, None, None, None, None, None, None],\n",
       "       [None, None, None, None, None, None, None],\n",
       "       [None, None, None, None, None, None, None],\n",
       "       [None, None, None, None, None, None, None],\n",
       "       [None, None, None, None, None, None, None]], dtype=object)"
      ]
     },
     "execution_count": 72,
     "metadata": {},
     "output_type": "execute_result"
    }
   ],
   "source": [
    "NPdataMat"
   ]
  },
  {
   "cell_type": "code",
   "execution_count": 46,
   "id": "93422aeb",
   "metadata": {},
   "outputs": [
    {
     "data": {
      "text/plain": [
       "datetime.datetime(2023, 6, 30, 18, 9, 29)"
      ]
     },
     "metadata": {},
     "output_type": "display_data"
    },
    {
     "data": {
      "text/plain": [
       "datetime.datetime(2023, 6, 30, 18, 10, 42)"
      ]
     },
     "metadata": {},
     "output_type": "display_data"
    },
    {
     "data": {
      "text/plain": [
       "datetime.datetime(2023, 6, 30, 22, 24, 30)"
      ]
     },
     "metadata": {},
     "output_type": "display_data"
    },
    {
     "data": {
      "text/plain": [
       "datetime.datetime(2023, 6, 30, 22, 26, 54)"
      ]
     },
     "metadata": {},
     "output_type": "display_data"
    },
    {
     "data": {
      "text/plain": [
       "datetime.datetime(2023, 6, 30, 22, 32, 25)"
      ]
     },
     "metadata": {},
     "output_type": "display_data"
    },
    {
     "data": {
      "text/plain": [
       "datetime.datetime(2023, 7, 1, 13, 24, 6)"
      ]
     },
     "metadata": {},
     "output_type": "display_data"
    },
    {
     "name": "stderr",
     "output_type": "stream",
     "text": [
      "/var/folders/mg/w5t8lkhc8xj79f001s7kzpfh0000gp/T/ipykernel_65633/2415801037.py:17: DeprecationWarning: The truth value of an empty array is ambiguous. Returning False, but in future this will result in an error. Use `array.size > 0` to check that an array is not empty.\n",
      "  if NPdataMatL[i2,j2]==['0']:\n"
     ]
    },
    {
     "data": {
      "text/plain": [
       "datetime.datetime(2023, 7, 1, 13, 43, 11)"
      ]
     },
     "metadata": {},
     "output_type": "display_data"
    },
    {
     "data": {
      "text/plain": [
       "datetime.datetime(2023, 7, 1, 13, 43, 52)"
      ]
     },
     "metadata": {},
     "output_type": "display_data"
    },
    {
     "data": {
      "text/plain": [
       "datetime.datetime(2023, 7, 1, 13, 48, 19)"
      ]
     },
     "metadata": {},
     "output_type": "display_data"
    },
    {
     "data": {
      "text/plain": [
       "datetime.datetime(2023, 7, 1, 13, 48, 28)"
      ]
     },
     "metadata": {},
     "output_type": "display_data"
    },
    {
     "data": {
      "text/plain": [
       "datetime.datetime(2023, 7, 1, 20, 22, 7)"
      ]
     },
     "metadata": {},
     "output_type": "display_data"
    },
    {
     "data": {
      "text/plain": [
       "datetime.datetime(2023, 7, 2, 19, 4, 26)"
      ]
     },
     "metadata": {},
     "output_type": "display_data"
    },
    {
     "data": {
      "text/plain": [
       "datetime.datetime(2023, 7, 2, 20, 24, 22)"
      ]
     },
     "metadata": {},
     "output_type": "display_data"
    },
    {
     "data": {
      "text/plain": [
       "datetime.datetime(2023, 7, 2, 20, 29, 26)"
      ]
     },
     "metadata": {},
     "output_type": "display_data"
    },
    {
     "data": {
      "text/plain": [
       "datetime.datetime(2023, 7, 3, 8, 46, 51)"
      ]
     },
     "metadata": {},
     "output_type": "display_data"
    },
    {
     "data": {
      "text/plain": [
       "datetime.datetime(2023, 7, 3, 8, 48, 27)"
      ]
     },
     "metadata": {},
     "output_type": "display_data"
    },
    {
     "data": {
      "text/plain": [
       "datetime.datetime(2023, 7, 3, 8, 52)"
      ]
     },
     "metadata": {},
     "output_type": "display_data"
    },
    {
     "data": {
      "text/plain": [
       "datetime.datetime(2023, 7, 3, 8, 52, 4)"
      ]
     },
     "metadata": {},
     "output_type": "display_data"
    },
    {
     "data": {
      "text/plain": [
       "datetime.datetime(2023, 7, 3, 8, 55, 39)"
      ]
     },
     "metadata": {},
     "output_type": "display_data"
    },
    {
     "data": {
      "text/plain": [
       "datetime.datetime(2023, 7, 3, 9, 16, 40)"
      ]
     },
     "metadata": {},
     "output_type": "display_data"
    },
    {
     "data": {
      "text/plain": [
       "datetime.datetime(2023, 7, 3, 9, 16, 50)"
      ]
     },
     "metadata": {},
     "output_type": "display_data"
    },
    {
     "data": {
      "text/plain": [
       "datetime.datetime(2023, 7, 3, 9, 16, 54)"
      ]
     },
     "metadata": {},
     "output_type": "display_data"
    },
    {
     "data": {
      "text/plain": [
       "datetime.datetime(2023, 7, 3, 9, 33, 17)"
      ]
     },
     "metadata": {},
     "output_type": "display_data"
    },
    {
     "data": {
      "text/plain": [
       "datetime.datetime(2023, 7, 3, 9, 35, 44)"
      ]
     },
     "metadata": {},
     "output_type": "display_data"
    },
    {
     "data": {
      "text/plain": [
       "datetime.datetime(2023, 7, 3, 9, 38, 37)"
      ]
     },
     "metadata": {},
     "output_type": "display_data"
    },
    {
     "data": {
      "text/plain": [
       "datetime.datetime(2023, 7, 3, 9, 39, 22)"
      ]
     },
     "metadata": {},
     "output_type": "display_data"
    },
    {
     "data": {
      "text/plain": [
       "datetime.datetime(2023, 7, 3, 9, 44, 42)"
      ]
     },
     "metadata": {},
     "output_type": "display_data"
    },
    {
     "data": {
      "text/plain": [
       "datetime.datetime(2023, 7, 3, 9, 45, 12)"
      ]
     },
     "metadata": {},
     "output_type": "display_data"
    },
    {
     "data": {
      "text/plain": [
       "datetime.datetime(2023, 7, 3, 9, 46, 36)"
      ]
     },
     "metadata": {},
     "output_type": "display_data"
    },
    {
     "data": {
      "text/plain": [
       "datetime.datetime(2023, 7, 3, 9, 49, 34)"
      ]
     },
     "metadata": {},
     "output_type": "display_data"
    },
    {
     "data": {
      "text/plain": [
       "datetime.datetime(2023, 7, 3, 10, 41, 35)"
      ]
     },
     "metadata": {},
     "output_type": "display_data"
    },
    {
     "data": {
      "text/plain": [
       "datetime.datetime(2023, 7, 3, 10, 55, 8)"
      ]
     },
     "metadata": {},
     "output_type": "display_data"
    },
    {
     "data": {
      "text/plain": [
       "datetime.datetime(2023, 7, 3, 11, 16, 43)"
      ]
     },
     "metadata": {},
     "output_type": "display_data"
    },
    {
     "data": {
      "text/plain": [
       "datetime.datetime(2023, 7, 3, 12, 33, 5)"
      ]
     },
     "metadata": {},
     "output_type": "display_data"
    },
    {
     "data": {
      "text/plain": [
       "datetime.datetime(2023, 7, 3, 13, 17, 23)"
      ]
     },
     "metadata": {},
     "output_type": "display_data"
    },
    {
     "data": {
      "text/plain": [
       "datetime.datetime(2023, 7, 3, 13, 18, 18)"
      ]
     },
     "metadata": {},
     "output_type": "display_data"
    },
    {
     "data": {
      "text/plain": [
       "datetime.datetime(2023, 7, 3, 13, 32)"
      ]
     },
     "metadata": {},
     "output_type": "display_data"
    },
    {
     "data": {
      "text/plain": [
       "datetime.datetime(2023, 7, 3, 13, 32, 21)"
      ]
     },
     "metadata": {},
     "output_type": "display_data"
    },
    {
     "data": {
      "text/plain": [
       "datetime.datetime(2023, 7, 3, 13, 32, 40)"
      ]
     },
     "metadata": {},
     "output_type": "display_data"
    },
    {
     "data": {
      "text/plain": [
       "datetime.datetime(2023, 7, 3, 15, 56, 36)"
      ]
     },
     "metadata": {},
     "output_type": "display_data"
    },
    {
     "data": {
      "text/plain": [
       "datetime.datetime(2023, 7, 3, 17, 53, 44)"
      ]
     },
     "metadata": {},
     "output_type": "display_data"
    },
    {
     "data": {
      "text/plain": [
       "datetime.datetime(2023, 7, 3, 17, 54, 47)"
      ]
     },
     "metadata": {},
     "output_type": "display_data"
    },
    {
     "data": {
      "text/plain": [
       "datetime.datetime(2023, 7, 3, 17, 55, 8)"
      ]
     },
     "metadata": {},
     "output_type": "display_data"
    },
    {
     "data": {
      "text/plain": [
       "datetime.datetime(2023, 7, 4, 1, 56, 58)"
      ]
     },
     "metadata": {},
     "output_type": "display_data"
    },
    {
     "data": {
      "text/plain": [
       "datetime.datetime(2023, 7, 4, 2, 15, 55)"
      ]
     },
     "metadata": {},
     "output_type": "display_data"
    },
    {
     "data": {
      "text/plain": [
       "datetime.datetime(2023, 7, 4, 9, 2, 50)"
      ]
     },
     "metadata": {},
     "output_type": "display_data"
    },
    {
     "data": {
      "text/plain": [
       "datetime.datetime(2023, 7, 4, 9, 8, 20)"
      ]
     },
     "metadata": {},
     "output_type": "display_data"
    },
    {
     "data": {
      "text/plain": [
       "datetime.datetime(2023, 7, 4, 9, 8, 55)"
      ]
     },
     "metadata": {},
     "output_type": "display_data"
    },
    {
     "data": {
      "text/plain": [
       "datetime.datetime(2023, 7, 4, 9, 44, 31)"
      ]
     },
     "metadata": {},
     "output_type": "display_data"
    },
    {
     "data": {
      "text/plain": [
       "datetime.datetime(2023, 7, 4, 9, 45, 29)"
      ]
     },
     "metadata": {},
     "output_type": "display_data"
    },
    {
     "data": {
      "text/plain": [
       "datetime.datetime(2023, 7, 4, 9, 45, 53)"
      ]
     },
     "metadata": {},
     "output_type": "display_data"
    },
    {
     "data": {
      "text/plain": [
       "datetime.datetime(2023, 7, 4, 9, 45, 55)"
      ]
     },
     "metadata": {},
     "output_type": "display_data"
    },
    {
     "data": {
      "text/plain": [
       "datetime.datetime(2023, 7, 4, 9, 46, 1)"
      ]
     },
     "metadata": {},
     "output_type": "display_data"
    },
    {
     "data": {
      "text/plain": [
       "datetime.datetime(2023, 7, 4, 10, 1, 22)"
      ]
     },
     "metadata": {},
     "output_type": "display_data"
    },
    {
     "data": {
      "text/plain": [
       "datetime.datetime(2023, 7, 4, 10, 1, 45)"
      ]
     },
     "metadata": {},
     "output_type": "display_data"
    },
    {
     "data": {
      "text/plain": [
       "datetime.datetime(2023, 7, 4, 10, 6, 5)"
      ]
     },
     "metadata": {},
     "output_type": "display_data"
    },
    {
     "data": {
      "text/plain": [
       "datetime.datetime(2023, 7, 4, 10, 6, 5)"
      ]
     },
     "metadata": {},
     "output_type": "display_data"
    },
    {
     "data": {
      "text/plain": [
       "datetime.datetime(2023, 7, 4, 10, 6, 20)"
      ]
     },
     "metadata": {},
     "output_type": "display_data"
    },
    {
     "data": {
      "text/plain": [
       "datetime.datetime(2023, 7, 4, 11, 9, 38)"
      ]
     },
     "metadata": {},
     "output_type": "display_data"
    },
    {
     "data": {
      "text/plain": [
       "datetime.datetime(2023, 7, 4, 11, 10, 9)"
      ]
     },
     "metadata": {},
     "output_type": "display_data"
    },
    {
     "data": {
      "text/plain": [
       "datetime.datetime(2023, 7, 4, 11, 10, 20)"
      ]
     },
     "metadata": {},
     "output_type": "display_data"
    },
    {
     "data": {
      "text/plain": [
       "datetime.datetime(2023, 7, 4, 11, 10, 25)"
      ]
     },
     "metadata": {},
     "output_type": "display_data"
    },
    {
     "data": {
      "text/plain": [
       "datetime.datetime(2023, 7, 4, 11, 41, 21)"
      ]
     },
     "metadata": {},
     "output_type": "display_data"
    },
    {
     "data": {
      "text/plain": [
       "datetime.datetime(2023, 7, 4, 11, 45, 40)"
      ]
     },
     "metadata": {},
     "output_type": "display_data"
    },
    {
     "data": {
      "text/plain": [
       "datetime.datetime(2023, 7, 4, 13, 34, 27)"
      ]
     },
     "metadata": {},
     "output_type": "display_data"
    },
    {
     "data": {
      "text/plain": [
       "datetime.datetime(2023, 7, 4, 13, 40, 8)"
      ]
     },
     "metadata": {},
     "output_type": "display_data"
    },
    {
     "data": {
      "text/plain": [
       "datetime.datetime(2023, 7, 4, 13, 49, 8)"
      ]
     },
     "metadata": {},
     "output_type": "display_data"
    },
    {
     "data": {
      "text/plain": [
       "datetime.datetime(2023, 7, 4, 13, 54, 12)"
      ]
     },
     "metadata": {},
     "output_type": "display_data"
    },
    {
     "data": {
      "text/plain": [
       "datetime.datetime(2023, 7, 4, 14, 16, 38)"
      ]
     },
     "metadata": {},
     "output_type": "display_data"
    },
    {
     "data": {
      "text/plain": [
       "datetime.datetime(2023, 7, 4, 15, 44, 34)"
      ]
     },
     "metadata": {},
     "output_type": "display_data"
    },
    {
     "data": {
      "text/plain": [
       "datetime.datetime(2023, 7, 4, 15, 45, 18)"
      ]
     },
     "metadata": {},
     "output_type": "display_data"
    },
    {
     "data": {
      "text/plain": [
       "datetime.datetime(2023, 7, 4, 15, 45, 41)"
      ]
     },
     "metadata": {},
     "output_type": "display_data"
    },
    {
     "data": {
      "text/plain": [
       "datetime.datetime(2023, 7, 4, 16, 24, 36)"
      ]
     },
     "metadata": {},
     "output_type": "display_data"
    },
    {
     "data": {
      "text/plain": [
       "datetime.datetime(2023, 7, 4, 16, 49, 28)"
      ]
     },
     "metadata": {},
     "output_type": "display_data"
    },
    {
     "data": {
      "text/plain": [
       "datetime.datetime(2023, 7, 4, 17, 14, 8)"
      ]
     },
     "metadata": {},
     "output_type": "display_data"
    },
    {
     "data": {
      "text/plain": [
       "datetime.datetime(2023, 7, 4, 17, 27, 52)"
      ]
     },
     "metadata": {},
     "output_type": "display_data"
    },
    {
     "data": {
      "text/plain": [
       "datetime.datetime(2023, 7, 4, 17, 28, 18)"
      ]
     },
     "metadata": {},
     "output_type": "display_data"
    },
    {
     "data": {
      "text/plain": [
       "datetime.datetime(2023, 7, 4, 17, 29, 52)"
      ]
     },
     "metadata": {},
     "output_type": "display_data"
    },
    {
     "data": {
      "text/plain": [
       "datetime.datetime(2023, 7, 4, 17, 29, 59)"
      ]
     },
     "metadata": {},
     "output_type": "display_data"
    },
    {
     "data": {
      "text/plain": [
       "datetime.datetime(2023, 7, 4, 20, 36, 16)"
      ]
     },
     "metadata": {},
     "output_type": "display_data"
    },
    {
     "data": {
      "text/plain": [
       "datetime.datetime(2023, 7, 4, 20, 36, 16)"
      ]
     },
     "metadata": {},
     "output_type": "display_data"
    },
    {
     "data": {
      "text/plain": [
       "datetime.datetime(2023, 7, 4, 20, 36, 16)"
      ]
     },
     "metadata": {},
     "output_type": "display_data"
    },
    {
     "data": {
      "text/plain": [
       "datetime.datetime(2023, 7, 4, 21, 2, 17)"
      ]
     },
     "metadata": {},
     "output_type": "display_data"
    },
    {
     "data": {
      "text/plain": [
       "datetime.datetime(2023, 7, 4, 21, 18, 3)"
      ]
     },
     "metadata": {},
     "output_type": "display_data"
    },
    {
     "data": {
      "text/plain": [
       "datetime.datetime(2023, 7, 4, 21, 31, 12)"
      ]
     },
     "metadata": {},
     "output_type": "display_data"
    },
    {
     "data": {
      "text/plain": [
       "datetime.datetime(2023, 7, 4, 21, 43, 17)"
      ]
     },
     "metadata": {},
     "output_type": "display_data"
    },
    {
     "data": {
      "text/plain": [
       "datetime.datetime(2023, 7, 4, 23, 8, 3)"
      ]
     },
     "metadata": {},
     "output_type": "display_data"
    },
    {
     "data": {
      "text/plain": [
       "datetime.datetime(2023, 7, 4, 23, 8, 3)"
      ]
     },
     "metadata": {},
     "output_type": "display_data"
    },
    {
     "data": {
      "text/plain": [
       "datetime.datetime(2023, 7, 4, 23, 8, 3)"
      ]
     },
     "metadata": {},
     "output_type": "display_data"
    },
    {
     "data": {
      "text/plain": [
       "datetime.datetime(2023, 7, 5, 8, 32, 22)"
      ]
     },
     "metadata": {},
     "output_type": "display_data"
    },
    {
     "data": {
      "text/plain": [
       "datetime.datetime(2023, 7, 5, 8, 44, 31)"
      ]
     },
     "metadata": {},
     "output_type": "display_data"
    },
    {
     "data": {
      "text/plain": [
       "datetime.datetime(2023, 7, 5, 8, 45, 39)"
      ]
     },
     "metadata": {},
     "output_type": "display_data"
    },
    {
     "data": {
      "text/plain": [
       "datetime.datetime(2023, 7, 5, 9, 23, 15)"
      ]
     },
     "metadata": {},
     "output_type": "display_data"
    },
    {
     "data": {
      "text/plain": [
       "datetime.datetime(2023, 7, 5, 13, 30, 28)"
      ]
     },
     "metadata": {},
     "output_type": "display_data"
    },
    {
     "data": {
      "text/plain": [
       "datetime.datetime(2023, 7, 5, 13, 52, 38)"
      ]
     },
     "metadata": {},
     "output_type": "display_data"
    },
    {
     "data": {
      "text/plain": [
       "datetime.datetime(2023, 7, 5, 13, 52, 38)"
      ]
     },
     "metadata": {},
     "output_type": "display_data"
    },
    {
     "data": {
      "text/plain": [
       "datetime.datetime(2023, 7, 5, 13, 52, 38)"
      ]
     },
     "metadata": {},
     "output_type": "display_data"
    },
    {
     "data": {
      "text/plain": [
       "datetime.datetime(2023, 7, 6, 8, 41, 35)"
      ]
     },
     "metadata": {},
     "output_type": "display_data"
    },
    {
     "data": {
      "text/plain": [
       "datetime.datetime(2023, 7, 6, 8, 50, 32)"
      ]
     },
     "metadata": {},
     "output_type": "display_data"
    },
    {
     "data": {
      "text/plain": [
       "datetime.datetime(2023, 7, 6, 8, 50, 43)"
      ]
     },
     "metadata": {},
     "output_type": "display_data"
    },
    {
     "data": {
      "text/plain": [
       "datetime.datetime(2023, 7, 6, 16, 27, 8)"
      ]
     },
     "metadata": {},
     "output_type": "display_data"
    },
    {
     "data": {
      "text/plain": [
       "datetime.datetime(2023, 7, 6, 16, 27, 17)"
      ]
     },
     "metadata": {},
     "output_type": "display_data"
    },
    {
     "data": {
      "text/plain": [
       "datetime.datetime(2023, 7, 6, 16, 34, 19)"
      ]
     },
     "metadata": {},
     "output_type": "display_data"
    },
    {
     "data": {
      "text/plain": [
       "datetime.datetime(2023, 7, 6, 16, 34, 19)"
      ]
     },
     "metadata": {},
     "output_type": "display_data"
    },
    {
     "data": {
      "text/plain": [
       "datetime.datetime(2023, 7, 6, 16, 34, 19)"
      ]
     },
     "metadata": {},
     "output_type": "display_data"
    },
    {
     "data": {
      "text/plain": [
       "datetime.datetime(2023, 7, 6, 16, 34, 19)"
      ]
     },
     "metadata": {},
     "output_type": "display_data"
    },
    {
     "data": {
      "text/plain": [
       "datetime.datetime(2023, 7, 6, 16, 34, 19)"
      ]
     },
     "metadata": {},
     "output_type": "display_data"
    },
    {
     "data": {
      "text/plain": [
       "datetime.datetime(2023, 7, 6, 17, 12)"
      ]
     },
     "metadata": {},
     "output_type": "display_data"
    },
    {
     "data": {
      "text/plain": [
       "datetime.datetime(2023, 7, 6, 18, 3, 9)"
      ]
     },
     "metadata": {},
     "output_type": "display_data"
    },
    {
     "data": {
      "text/plain": [
       "datetime.datetime(2023, 7, 6, 18, 34, 15)"
      ]
     },
     "metadata": {},
     "output_type": "display_data"
    },
    {
     "data": {
      "text/plain": [
       "datetime.datetime(2023, 7, 7, 9, 14, 2)"
      ]
     },
     "metadata": {},
     "output_type": "display_data"
    },
    {
     "data": {
      "text/plain": [
       "datetime.datetime(2023, 7, 7, 9, 14, 2)"
      ]
     },
     "metadata": {},
     "output_type": "display_data"
    },
    {
     "data": {
      "text/plain": [
       "datetime.datetime(2023, 7, 7, 9, 14, 2)"
      ]
     },
     "metadata": {},
     "output_type": "display_data"
    },
    {
     "data": {
      "text/plain": [
       "datetime.datetime(2023, 7, 7, 11, 19, 20)"
      ]
     },
     "metadata": {},
     "output_type": "display_data"
    },
    {
     "data": {
      "text/plain": [
       "datetime.datetime(2023, 7, 7, 11, 19, 20)"
      ]
     },
     "metadata": {},
     "output_type": "display_data"
    },
    {
     "data": {
      "text/plain": [
       "datetime.datetime(2023, 7, 7, 11, 19, 20)"
      ]
     },
     "metadata": {},
     "output_type": "display_data"
    },
    {
     "data": {
      "text/plain": [
       "datetime.datetime(2023, 7, 7, 13, 1, 6)"
      ]
     },
     "metadata": {},
     "output_type": "display_data"
    },
    {
     "data": {
      "text/plain": [
       "datetime.datetime(2023, 7, 7, 15, 17, 59)"
      ]
     },
     "metadata": {},
     "output_type": "display_data"
    },
    {
     "data": {
      "text/plain": [
       "datetime.datetime(2023, 7, 7, 15, 36, 44)"
      ]
     },
     "metadata": {},
     "output_type": "display_data"
    },
    {
     "data": {
      "text/plain": [
       "datetime.datetime(2023, 7, 7, 15, 36, 52)"
      ]
     },
     "metadata": {},
     "output_type": "display_data"
    },
    {
     "data": {
      "text/plain": [
       "datetime.datetime(2023, 7, 7, 16, 17)"
      ]
     },
     "metadata": {},
     "output_type": "display_data"
    },
    {
     "data": {
      "text/plain": [
       "datetime.datetime(2023, 7, 7, 16, 41, 46)"
      ]
     },
     "metadata": {},
     "output_type": "display_data"
    },
    {
     "data": {
      "text/plain": [
       "datetime.datetime(2023, 7, 7, 18, 2, 39)"
      ]
     },
     "metadata": {},
     "output_type": "display_data"
    },
    {
     "data": {
      "text/plain": [
       "datetime.datetime(2023, 7, 7, 18, 2, 39)"
      ]
     },
     "metadata": {},
     "output_type": "display_data"
    },
    {
     "data": {
      "text/plain": [
       "datetime.datetime(2023, 7, 7, 18, 3, 59)"
      ]
     },
     "metadata": {},
     "output_type": "display_data"
    },
    {
     "data": {
      "text/plain": [
       "datetime.datetime(2023, 7, 7, 18, 3, 59)"
      ]
     },
     "metadata": {},
     "output_type": "display_data"
    },
    {
     "data": {
      "text/plain": [
       "datetime.datetime(2023, 7, 7, 18, 3, 59)"
      ]
     },
     "metadata": {},
     "output_type": "display_data"
    },
    {
     "data": {
      "text/plain": [
       "datetime.datetime(2023, 7, 7, 18, 15, 53)"
      ]
     },
     "metadata": {},
     "output_type": "display_data"
    },
    {
     "data": {
      "text/plain": [
       "datetime.datetime(2023, 7, 7, 18, 49, 43)"
      ]
     },
     "metadata": {},
     "output_type": "display_data"
    },
    {
     "data": {
      "text/plain": [
       "datetime.datetime(2023, 7, 8, 10, 55, 34)"
      ]
     },
     "metadata": {},
     "output_type": "display_data"
    },
    {
     "data": {
      "text/plain": [
       "datetime.datetime(2023, 7, 9, 12, 19, 52)"
      ]
     },
     "metadata": {},
     "output_type": "display_data"
    },
    {
     "data": {
      "text/plain": [
       "datetime.datetime(2023, 7, 9, 12, 19, 52)"
      ]
     },
     "metadata": {},
     "output_type": "display_data"
    },
    {
     "data": {
      "text/plain": [
       "datetime.datetime(2023, 7, 9, 12, 19, 52)"
      ]
     },
     "metadata": {},
     "output_type": "display_data"
    },
    {
     "data": {
      "text/plain": [
       "datetime.datetime(2023, 7, 9, 12, 20, 52)"
      ]
     },
     "metadata": {},
     "output_type": "display_data"
    },
    {
     "data": {
      "text/plain": [
       "datetime.datetime(2023, 7, 9, 12, 21, 16)"
      ]
     },
     "metadata": {},
     "output_type": "display_data"
    },
    {
     "data": {
      "text/plain": [
       "datetime.datetime(2023, 7, 9, 12, 25)"
      ]
     },
     "metadata": {},
     "output_type": "display_data"
    },
    {
     "data": {
      "text/plain": [
       "datetime.datetime(2023, 7, 9, 12, 41, 42)"
      ]
     },
     "metadata": {},
     "output_type": "display_data"
    },
    {
     "data": {
      "text/plain": [
       "datetime.datetime(2023, 7, 9, 12, 42, 48)"
      ]
     },
     "metadata": {},
     "output_type": "display_data"
    },
    {
     "data": {
      "text/plain": [
       "datetime.datetime(2023, 7, 9, 12, 42, 53)"
      ]
     },
     "metadata": {},
     "output_type": "display_data"
    },
    {
     "data": {
      "text/plain": [
       "datetime.datetime(2023, 7, 9, 12, 43, 12)"
      ]
     },
     "metadata": {},
     "output_type": "display_data"
    },
    {
     "data": {
      "text/plain": [
       "datetime.datetime(2023, 7, 9, 13, 31, 40)"
      ]
     },
     "metadata": {},
     "output_type": "display_data"
    },
    {
     "data": {
      "text/plain": [
       "datetime.datetime(2023, 7, 9, 13, 32, 1)"
      ]
     },
     "metadata": {},
     "output_type": "display_data"
    },
    {
     "data": {
      "text/plain": [
       "datetime.datetime(2023, 7, 9, 13, 33, 51)"
      ]
     },
     "metadata": {},
     "output_type": "display_data"
    },
    {
     "data": {
      "text/plain": [
       "datetime.datetime(2023, 7, 9, 13, 34, 52)"
      ]
     },
     "metadata": {},
     "output_type": "display_data"
    },
    {
     "data": {
      "text/plain": [
       "datetime.datetime(2023, 7, 9, 13, 34, 52)"
      ]
     },
     "metadata": {},
     "output_type": "display_data"
    },
    {
     "data": {
      "text/plain": [
       "datetime.datetime(2023, 7, 9, 13, 34, 52)"
      ]
     },
     "metadata": {},
     "output_type": "display_data"
    },
    {
     "data": {
      "text/plain": [
       "datetime.datetime(2023, 7, 9, 13, 36, 39)"
      ]
     },
     "metadata": {},
     "output_type": "display_data"
    },
    {
     "data": {
      "text/plain": [
       "datetime.datetime(2023, 7, 9, 15, 54, 27)"
      ]
     },
     "metadata": {},
     "output_type": "display_data"
    },
    {
     "data": {
      "text/plain": [
       "datetime.datetime(2023, 7, 9, 15, 54, 27)"
      ]
     },
     "metadata": {},
     "output_type": "display_data"
    },
    {
     "data": {
      "text/plain": [
       "datetime.datetime(2023, 7, 9, 15, 54, 27)"
      ]
     },
     "metadata": {},
     "output_type": "display_data"
    },
    {
     "data": {
      "text/plain": [
       "datetime.datetime(2023, 7, 9, 15, 54, 27)"
      ]
     },
     "metadata": {},
     "output_type": "display_data"
    },
    {
     "data": {
      "text/plain": [
       "datetime.datetime(2023, 7, 9, 21, 42, 29)"
      ]
     },
     "metadata": {},
     "output_type": "display_data"
    },
    {
     "data": {
      "text/plain": [
       "datetime.datetime(2023, 7, 9, 21, 46, 7)"
      ]
     },
     "metadata": {},
     "output_type": "display_data"
    },
    {
     "data": {
      "text/plain": [
       "datetime.datetime(2023, 7, 9, 21, 46, 7)"
      ]
     },
     "metadata": {},
     "output_type": "display_data"
    },
    {
     "data": {
      "text/plain": [
       "datetime.datetime(2023, 7, 9, 21, 46, 7)"
      ]
     },
     "metadata": {},
     "output_type": "display_data"
    },
    {
     "data": {
      "text/plain": [
       "datetime.datetime(2023, 7, 9, 22, 2, 2)"
      ]
     },
     "metadata": {},
     "output_type": "display_data"
    },
    {
     "data": {
      "text/plain": [
       "datetime.datetime(2023, 7, 9, 22, 2, 2)"
      ]
     },
     "metadata": {},
     "output_type": "display_data"
    },
    {
     "data": {
      "text/plain": [
       "datetime.datetime(2023, 7, 9, 22, 2, 2)"
      ]
     },
     "metadata": {},
     "output_type": "display_data"
    },
    {
     "data": {
      "text/plain": [
       "datetime.datetime(2023, 7, 10, 8, 17, 41)"
      ]
     },
     "metadata": {},
     "output_type": "display_data"
    },
    {
     "data": {
      "text/plain": [
       "datetime.datetime(2023, 7, 10, 8, 48, 1)"
      ]
     },
     "metadata": {},
     "output_type": "display_data"
    },
    {
     "data": {
      "text/plain": [
       "datetime.datetime(2023, 7, 10, 8, 48, 1)"
      ]
     },
     "metadata": {},
     "output_type": "display_data"
    },
    {
     "data": {
      "text/plain": [
       "datetime.datetime(2023, 7, 10, 9, 15, 46)"
      ]
     },
     "metadata": {},
     "output_type": "display_data"
    },
    {
     "data": {
      "text/plain": [
       "datetime.datetime(2023, 7, 10, 9, 27, 12)"
      ]
     },
     "metadata": {},
     "output_type": "display_data"
    },
    {
     "data": {
      "text/plain": [
       "datetime.datetime(2023, 7, 10, 9, 27, 12)"
      ]
     },
     "metadata": {},
     "output_type": "display_data"
    },
    {
     "data": {
      "text/plain": [
       "datetime.datetime(2023, 7, 10, 9, 27, 12)"
      ]
     },
     "metadata": {},
     "output_type": "display_data"
    },
    {
     "data": {
      "text/plain": [
       "datetime.datetime(2023, 7, 10, 9, 27, 12)"
      ]
     },
     "metadata": {},
     "output_type": "display_data"
    },
    {
     "data": {
      "text/plain": [
       "datetime.datetime(2023, 7, 10, 9, 27, 12)"
      ]
     },
     "metadata": {},
     "output_type": "display_data"
    },
    {
     "data": {
      "text/plain": [
       "datetime.datetime(2023, 7, 10, 9, 37, 3)"
      ]
     },
     "metadata": {},
     "output_type": "display_data"
    },
    {
     "data": {
      "text/plain": [
       "datetime.datetime(2023, 7, 10, 10, 20, 12)"
      ]
     },
     "metadata": {},
     "output_type": "display_data"
    },
    {
     "data": {
      "text/plain": [
       "datetime.datetime(2023, 7, 10, 10, 42, 49)"
      ]
     },
     "metadata": {},
     "output_type": "display_data"
    },
    {
     "data": {
      "text/plain": [
       "datetime.datetime(2023, 7, 10, 10, 42, 49)"
      ]
     },
     "metadata": {},
     "output_type": "display_data"
    },
    {
     "data": {
      "text/plain": [
       "datetime.datetime(2023, 7, 10, 13, 27, 32)"
      ]
     },
     "metadata": {},
     "output_type": "display_data"
    },
    {
     "data": {
      "text/plain": [
       "datetime.datetime(2023, 7, 11, 10, 20, 27)"
      ]
     },
     "metadata": {},
     "output_type": "display_data"
    },
    {
     "data": {
      "text/plain": [
       "datetime.datetime(2023, 7, 11, 10, 20, 36)"
      ]
     },
     "metadata": {},
     "output_type": "display_data"
    },
    {
     "data": {
      "text/plain": [
       "datetime.datetime(2023, 7, 11, 10, 29, 23)"
      ]
     },
     "metadata": {},
     "output_type": "display_data"
    },
    {
     "data": {
      "text/plain": [
       "datetime.datetime(2023, 7, 11, 10, 29, 32)"
      ]
     },
     "metadata": {},
     "output_type": "display_data"
    },
    {
     "data": {
      "text/plain": [
       "datetime.datetime(2023, 7, 11, 11, 4, 11)"
      ]
     },
     "metadata": {},
     "output_type": "display_data"
    },
    {
     "data": {
      "text/plain": [
       "datetime.datetime(2023, 7, 11, 11, 23, 15)"
      ]
     },
     "metadata": {},
     "output_type": "display_data"
    },
    {
     "data": {
      "text/plain": [
       "datetime.datetime(2023, 7, 11, 15, 21, 14)"
      ]
     },
     "metadata": {},
     "output_type": "display_data"
    },
    {
     "data": {
      "text/plain": [
       "datetime.datetime(2023, 7, 11, 15, 21, 14)"
      ]
     },
     "metadata": {},
     "output_type": "display_data"
    },
    {
     "data": {
      "text/plain": [
       "datetime.datetime(2023, 7, 11, 15, 21, 14)"
      ]
     },
     "metadata": {},
     "output_type": "display_data"
    },
    {
     "data": {
      "text/plain": [
       "datetime.datetime(2023, 7, 12, 8, 43, 54)"
      ]
     },
     "metadata": {},
     "output_type": "display_data"
    },
    {
     "data": {
      "text/plain": [
       "datetime.datetime(2023, 7, 12, 8, 44, 29)"
      ]
     },
     "metadata": {},
     "output_type": "display_data"
    },
    {
     "data": {
      "text/plain": [
       "datetime.datetime(2023, 7, 12, 8, 52, 31)"
      ]
     },
     "metadata": {},
     "output_type": "display_data"
    },
    {
     "data": {
      "text/plain": [
       "datetime.datetime(2023, 7, 12, 8, 56, 53)"
      ]
     },
     "metadata": {},
     "output_type": "display_data"
    },
    {
     "data": {
      "text/plain": [
       "datetime.datetime(2023, 7, 12, 9, 7, 20)"
      ]
     },
     "metadata": {},
     "output_type": "display_data"
    },
    {
     "data": {
      "text/plain": [
       "datetime.datetime(2023, 7, 12, 9, 7, 46)"
      ]
     },
     "metadata": {},
     "output_type": "display_data"
    },
    {
     "data": {
      "text/plain": [
       "datetime.datetime(2023, 7, 12, 9, 50, 51)"
      ]
     },
     "metadata": {},
     "output_type": "display_data"
    },
    {
     "data": {
      "text/plain": [
       "datetime.datetime(2023, 7, 12, 9, 50, 51)"
      ]
     },
     "metadata": {},
     "output_type": "display_data"
    },
    {
     "data": {
      "text/plain": [
       "datetime.datetime(2023, 7, 12, 9, 50, 51)"
      ]
     },
     "metadata": {},
     "output_type": "display_data"
    },
    {
     "data": {
      "text/plain": [
       "datetime.datetime(2023, 7, 12, 10, 23, 14)"
      ]
     },
     "metadata": {},
     "output_type": "display_data"
    },
    {
     "data": {
      "text/plain": [
       "datetime.datetime(2023, 7, 12, 11, 38, 41)"
      ]
     },
     "metadata": {},
     "output_type": "display_data"
    },
    {
     "data": {
      "text/plain": [
       "datetime.datetime(2023, 7, 12, 11, 38, 41)"
      ]
     },
     "metadata": {},
     "output_type": "display_data"
    },
    {
     "data": {
      "text/plain": [
       "datetime.datetime(2023, 7, 12, 11, 38, 41)"
      ]
     },
     "metadata": {},
     "output_type": "display_data"
    },
    {
     "data": {
      "text/plain": [
       "datetime.datetime(2023, 7, 12, 11, 49, 27)"
      ]
     },
     "metadata": {},
     "output_type": "display_data"
    },
    {
     "data": {
      "text/plain": [
       "datetime.datetime(2023, 7, 12, 11, 49, 27)"
      ]
     },
     "metadata": {},
     "output_type": "display_data"
    },
    {
     "data": {
      "text/plain": [
       "datetime.datetime(2023, 7, 12, 11, 49, 27)"
      ]
     },
     "metadata": {},
     "output_type": "display_data"
    },
    {
     "data": {
      "text/plain": [
       "datetime.datetime(2023, 7, 12, 13, 15, 3)"
      ]
     },
     "metadata": {},
     "output_type": "display_data"
    },
    {
     "data": {
      "text/plain": [
       "datetime.datetime(2023, 7, 12, 13, 16, 13)"
      ]
     },
     "metadata": {},
     "output_type": "display_data"
    },
    {
     "data": {
      "text/plain": [
       "datetime.datetime(2023, 7, 12, 13, 16, 18)"
      ]
     },
     "metadata": {},
     "output_type": "display_data"
    },
    {
     "data": {
      "text/plain": [
       "datetime.datetime(2023, 7, 12, 13, 16, 38)"
      ]
     },
     "metadata": {},
     "output_type": "display_data"
    },
    {
     "data": {
      "text/plain": [
       "datetime.datetime(2023, 7, 12, 13, 17, 7)"
      ]
     },
     "metadata": {},
     "output_type": "display_data"
    },
    {
     "data": {
      "text/plain": [
       "datetime.datetime(2023, 7, 12, 13, 17, 11)"
      ]
     },
     "metadata": {},
     "output_type": "display_data"
    },
    {
     "data": {
      "text/plain": [
       "datetime.datetime(2023, 7, 12, 13, 18, 24)"
      ]
     },
     "metadata": {},
     "output_type": "display_data"
    },
    {
     "data": {
      "text/plain": [
       "datetime.datetime(2023, 7, 12, 13, 22, 10)"
      ]
     },
     "metadata": {},
     "output_type": "display_data"
    },
    {
     "data": {
      "text/plain": [
       "datetime.datetime(2023, 7, 12, 13, 22, 33)"
      ]
     },
     "metadata": {},
     "output_type": "display_data"
    },
    {
     "data": {
      "text/plain": [
       "datetime.datetime(2023, 7, 12, 13, 22, 47)"
      ]
     },
     "metadata": {},
     "output_type": "display_data"
    },
    {
     "data": {
      "text/plain": [
       "datetime.datetime(2023, 7, 12, 13, 23, 12)"
      ]
     },
     "metadata": {},
     "output_type": "display_data"
    },
    {
     "data": {
      "text/plain": [
       "datetime.datetime(2023, 7, 12, 13, 58)"
      ]
     },
     "metadata": {},
     "output_type": "display_data"
    },
    {
     "data": {
      "text/plain": [
       "datetime.datetime(2023, 7, 12, 13, 58, 33)"
      ]
     },
     "metadata": {},
     "output_type": "display_data"
    },
    {
     "data": {
      "text/plain": [
       "datetime.datetime(2023, 7, 12, 14, 7, 41)"
      ]
     },
     "metadata": {},
     "output_type": "display_data"
    },
    {
     "data": {
      "text/plain": [
       "datetime.datetime(2023, 7, 12, 14, 7, 50)"
      ]
     },
     "metadata": {},
     "output_type": "display_data"
    },
    {
     "data": {
      "text/plain": [
       "datetime.datetime(2023, 7, 12, 16, 39, 21)"
      ]
     },
     "metadata": {},
     "output_type": "display_data"
    },
    {
     "data": {
      "text/plain": [
       "datetime.datetime(2023, 7, 12, 16, 39, 21)"
      ]
     },
     "metadata": {},
     "output_type": "display_data"
    },
    {
     "data": {
      "text/plain": [
       "datetime.datetime(2023, 7, 12, 16, 39, 21)"
      ]
     },
     "metadata": {},
     "output_type": "display_data"
    },
    {
     "data": {
      "text/plain": [
       "datetime.datetime(2023, 7, 12, 21, 45, 15)"
      ]
     },
     "metadata": {},
     "output_type": "display_data"
    },
    {
     "data": {
      "text/plain": [
       "datetime.datetime(2023, 7, 12, 21, 45, 26)"
      ]
     },
     "metadata": {},
     "output_type": "display_data"
    },
    {
     "data": {
      "text/plain": [
       "datetime.datetime(2023, 7, 13, 9, 14, 55)"
      ]
     },
     "metadata": {},
     "output_type": "display_data"
    },
    {
     "data": {
      "text/plain": [
       "datetime.datetime(2023, 7, 13, 9, 15, 39)"
      ]
     },
     "metadata": {},
     "output_type": "display_data"
    },
    {
     "data": {
      "text/plain": [
       "datetime.datetime(2023, 7, 13, 11, 38, 7)"
      ]
     },
     "metadata": {},
     "output_type": "display_data"
    },
    {
     "data": {
      "text/plain": [
       "datetime.datetime(2023, 7, 13, 13, 36, 6)"
      ]
     },
     "metadata": {},
     "output_type": "display_data"
    },
    {
     "data": {
      "text/plain": [
       "datetime.datetime(2023, 7, 13, 13, 36, 6)"
      ]
     },
     "metadata": {},
     "output_type": "display_data"
    },
    {
     "data": {
      "text/plain": [
       "datetime.datetime(2023, 7, 13, 17, 49, 55)"
      ]
     },
     "metadata": {},
     "output_type": "display_data"
    },
    {
     "data": {
      "text/plain": [
       "datetime.datetime(2023, 7, 14, 11, 3)"
      ]
     },
     "metadata": {},
     "output_type": "display_data"
    },
    {
     "data": {
      "text/plain": [
       "datetime.datetime(2023, 7, 14, 11, 3, 35)"
      ]
     },
     "metadata": {},
     "output_type": "display_data"
    },
    {
     "data": {
      "text/plain": [
       "datetime.datetime(2023, 7, 14, 13, 39, 58)"
      ]
     },
     "metadata": {},
     "output_type": "display_data"
    },
    {
     "data": {
      "text/plain": [
       "datetime.datetime(2023, 7, 14, 14, 40, 52)"
      ]
     },
     "metadata": {},
     "output_type": "display_data"
    },
    {
     "data": {
      "text/plain": [
       "datetime.datetime(2023, 7, 14, 14, 40, 52)"
      ]
     },
     "metadata": {},
     "output_type": "display_data"
    },
    {
     "data": {
      "text/plain": [
       "datetime.datetime(2023, 7, 14, 15, 21, 37)"
      ]
     },
     "metadata": {},
     "output_type": "display_data"
    },
    {
     "data": {
      "text/plain": [
       "datetime.datetime(2023, 7, 14, 15, 21, 59)"
      ]
     },
     "metadata": {},
     "output_type": "display_data"
    },
    {
     "data": {
      "text/plain": [
       "datetime.datetime(2023, 7, 14, 15, 32, 10)"
      ]
     },
     "metadata": {},
     "output_type": "display_data"
    },
    {
     "data": {
      "text/plain": [
       "datetime.datetime(2023, 7, 14, 15, 32, 10)"
      ]
     },
     "metadata": {},
     "output_type": "display_data"
    },
    {
     "data": {
      "text/plain": [
       "datetime.datetime(2023, 7, 14, 15, 32, 10)"
      ]
     },
     "metadata": {},
     "output_type": "display_data"
    },
    {
     "data": {
      "text/plain": [
       "datetime.datetime(2023, 7, 14, 15, 32, 19)"
      ]
     },
     "metadata": {},
     "output_type": "display_data"
    },
    {
     "data": {
      "text/plain": [
       "datetime.datetime(2023, 7, 14, 15, 38, 30)"
      ]
     },
     "metadata": {},
     "output_type": "display_data"
    },
    {
     "data": {
      "text/plain": [
       "datetime.datetime(2023, 7, 14, 17, 25, 40)"
      ]
     },
     "metadata": {},
     "output_type": "display_data"
    },
    {
     "data": {
      "text/plain": [
       "datetime.datetime(2023, 7, 14, 17, 25, 40)"
      ]
     },
     "metadata": {},
     "output_type": "display_data"
    },
    {
     "data": {
      "text/plain": [
       "datetime.datetime(2023, 7, 14, 17, 25, 40)"
      ]
     },
     "metadata": {},
     "output_type": "display_data"
    },
    {
     "data": {
      "text/plain": [
       "datetime.datetime(2023, 7, 14, 17, 25, 40)"
      ]
     },
     "metadata": {},
     "output_type": "display_data"
    },
    {
     "data": {
      "text/plain": [
       "datetime.datetime(2023, 7, 15, 14, 43, 33)"
      ]
     },
     "metadata": {},
     "output_type": "display_data"
    },
    {
     "data": {
      "text/plain": [
       "datetime.datetime(2023, 7, 15, 14, 46, 11)"
      ]
     },
     "metadata": {},
     "output_type": "display_data"
    },
    {
     "data": {
      "text/plain": [
       "datetime.datetime(2023, 7, 15, 14, 46, 54)"
      ]
     },
     "metadata": {},
     "output_type": "display_data"
    },
    {
     "data": {
      "text/plain": [
       "datetime.datetime(2023, 7, 15, 14, 47, 5)"
      ]
     },
     "metadata": {},
     "output_type": "display_data"
    },
    {
     "data": {
      "text/plain": [
       "datetime.datetime(2023, 7, 15, 14, 47, 15)"
      ]
     },
     "metadata": {},
     "output_type": "display_data"
    },
    {
     "data": {
      "text/plain": [
       "datetime.datetime(2023, 7, 16, 11, 47, 55)"
      ]
     },
     "metadata": {},
     "output_type": "display_data"
    },
    {
     "data": {
      "text/plain": [
       "datetime.datetime(2023, 7, 16, 13, 11, 15)"
      ]
     },
     "metadata": {},
     "output_type": "display_data"
    },
    {
     "data": {
      "text/plain": [
       "datetime.datetime(2023, 7, 16, 13, 11, 45)"
      ]
     },
     "metadata": {},
     "output_type": "display_data"
    },
    {
     "data": {
      "text/plain": [
       "datetime.datetime(2023, 7, 16, 14, 16, 20)"
      ]
     },
     "metadata": {},
     "output_type": "display_data"
    },
    {
     "data": {
      "text/plain": [
       "datetime.datetime(2023, 7, 16, 14, 22, 7)"
      ]
     },
     "metadata": {},
     "output_type": "display_data"
    },
    {
     "data": {
      "text/plain": [
       "datetime.datetime(2023, 7, 16, 14, 22, 7)"
      ]
     },
     "metadata": {},
     "output_type": "display_data"
    },
    {
     "data": {
      "text/plain": [
       "datetime.datetime(2023, 7, 16, 14, 22, 7)"
      ]
     },
     "metadata": {},
     "output_type": "display_data"
    },
    {
     "data": {
      "text/plain": [
       "datetime.datetime(2023, 7, 17, 12, 2, 18)"
      ]
     },
     "metadata": {},
     "output_type": "display_data"
    },
    {
     "data": {
      "text/plain": [
       "datetime.datetime(2023, 7, 17, 12, 2, 18)"
      ]
     },
     "metadata": {},
     "output_type": "display_data"
    },
    {
     "data": {
      "text/plain": [
       "datetime.datetime(2023, 7, 17, 12, 3, 14)"
      ]
     },
     "metadata": {},
     "output_type": "display_data"
    },
    {
     "data": {
      "text/plain": [
       "datetime.datetime(2023, 7, 17, 12, 8, 23)"
      ]
     },
     "metadata": {},
     "output_type": "display_data"
    },
    {
     "data": {
      "text/plain": [
       "datetime.datetime(2023, 7, 18, 10, 21, 8)"
      ]
     },
     "metadata": {},
     "output_type": "display_data"
    },
    {
     "data": {
      "text/plain": [
       "datetime.datetime(2023, 7, 18, 10, 22, 19)"
      ]
     },
     "metadata": {},
     "output_type": "display_data"
    },
    {
     "data": {
      "text/plain": [
       "datetime.datetime(2023, 7, 18, 13, 37, 33)"
      ]
     },
     "metadata": {},
     "output_type": "display_data"
    },
    {
     "data": {
      "text/plain": [
       "datetime.datetime(2023, 7, 18, 13, 37, 33)"
      ]
     },
     "metadata": {},
     "output_type": "display_data"
    },
    {
     "data": {
      "text/plain": [
       "datetime.datetime(2023, 7, 18, 13, 37, 33)"
      ]
     },
     "metadata": {},
     "output_type": "display_data"
    },
    {
     "data": {
      "text/plain": [
       "datetime.datetime(2023, 7, 18, 13, 37, 41)"
      ]
     },
     "metadata": {},
     "output_type": "display_data"
    },
    {
     "data": {
      "text/plain": [
       "datetime.datetime(2023, 7, 18, 14, 39, 19)"
      ]
     },
     "metadata": {},
     "output_type": "display_data"
    },
    {
     "data": {
      "text/plain": [
       "datetime.datetime(2023, 7, 18, 14, 40, 27)"
      ]
     },
     "metadata": {},
     "output_type": "display_data"
    },
    {
     "data": {
      "text/plain": [
       "datetime.datetime(2023, 7, 18, 14, 40, 27)"
      ]
     },
     "metadata": {},
     "output_type": "display_data"
    },
    {
     "data": {
      "text/plain": [
       "datetime.datetime(2023, 7, 18, 14, 56, 15)"
      ]
     },
     "metadata": {},
     "output_type": "display_data"
    },
    {
     "data": {
      "text/plain": [
       "datetime.datetime(2023, 7, 18, 14, 57, 10)"
      ]
     },
     "metadata": {},
     "output_type": "display_data"
    },
    {
     "data": {
      "text/plain": [
       "datetime.datetime(2023, 7, 18, 14, 57, 16)"
      ]
     },
     "metadata": {},
     "output_type": "display_data"
    },
    {
     "data": {
      "text/plain": [
       "datetime.datetime(2023, 7, 18, 15, 17, 37)"
      ]
     },
     "metadata": {},
     "output_type": "display_data"
    },
    {
     "data": {
      "text/plain": [
       "datetime.datetime(2023, 7, 18, 15, 31, 40)"
      ]
     },
     "metadata": {},
     "output_type": "display_data"
    },
    {
     "data": {
      "text/plain": [
       "datetime.datetime(2023, 7, 18, 15, 31, 45)"
      ]
     },
     "metadata": {},
     "output_type": "display_data"
    },
    {
     "data": {
      "text/plain": [
       "datetime.datetime(2023, 7, 18, 15, 39, 9)"
      ]
     },
     "metadata": {},
     "output_type": "display_data"
    },
    {
     "data": {
      "text/plain": [
       "datetime.datetime(2023, 7, 18, 15, 39, 9)"
      ]
     },
     "metadata": {},
     "output_type": "display_data"
    },
    {
     "data": {
      "text/plain": [
       "datetime.datetime(2023, 7, 18, 15, 41, 11)"
      ]
     },
     "metadata": {},
     "output_type": "display_data"
    },
    {
     "data": {
      "text/plain": [
       "datetime.datetime(2023, 7, 18, 15, 41, 11)"
      ]
     },
     "metadata": {},
     "output_type": "display_data"
    },
    {
     "data": {
      "text/plain": [
       "datetime.datetime(2023, 7, 18, 16, 25, 55)"
      ]
     },
     "metadata": {},
     "output_type": "display_data"
    },
    {
     "data": {
      "text/plain": [
       "datetime.datetime(2023, 7, 18, 16, 27, 31)"
      ]
     },
     "metadata": {},
     "output_type": "display_data"
    },
    {
     "data": {
      "text/plain": [
       "datetime.datetime(2023, 7, 18, 16, 32, 55)"
      ]
     },
     "metadata": {},
     "output_type": "display_data"
    },
    {
     "data": {
      "text/plain": [
       "datetime.datetime(2023, 7, 18, 16, 33, 38)"
      ]
     },
     "metadata": {},
     "output_type": "display_data"
    },
    {
     "data": {
      "text/plain": [
       "datetime.datetime(2023, 7, 18, 16, 43, 24)"
      ]
     },
     "metadata": {},
     "output_type": "display_data"
    },
    {
     "data": {
      "text/plain": [
       "datetime.datetime(2023, 7, 18, 17, 36, 57)"
      ]
     },
     "metadata": {},
     "output_type": "display_data"
    },
    {
     "data": {
      "text/plain": [
       "datetime.datetime(2023, 7, 18, 17, 36, 57)"
      ]
     },
     "metadata": {},
     "output_type": "display_data"
    },
    {
     "data": {
      "text/plain": [
       "datetime.datetime(2023, 7, 18, 17, 43, 21)"
      ]
     },
     "metadata": {},
     "output_type": "display_data"
    },
    {
     "data": {
      "text/plain": [
       "datetime.datetime(2023, 7, 18, 17, 43, 29)"
      ]
     },
     "metadata": {},
     "output_type": "display_data"
    },
    {
     "data": {
      "text/plain": [
       "datetime.datetime(2023, 7, 18, 17, 44, 4)"
      ]
     },
     "metadata": {},
     "output_type": "display_data"
    },
    {
     "data": {
      "text/plain": [
       "datetime.datetime(2023, 7, 18, 17, 44, 11)"
      ]
     },
     "metadata": {},
     "output_type": "display_data"
    },
    {
     "data": {
      "text/plain": [
       "datetime.datetime(2023, 7, 18, 17, 44, 19)"
      ]
     },
     "metadata": {},
     "output_type": "display_data"
    },
    {
     "data": {
      "text/plain": [
       "datetime.datetime(2023, 7, 18, 17, 44, 24)"
      ]
     },
     "metadata": {},
     "output_type": "display_data"
    },
    {
     "data": {
      "text/plain": [
       "datetime.datetime(2023, 7, 18, 17, 44, 28)"
      ]
     },
     "metadata": {},
     "output_type": "display_data"
    },
    {
     "data": {
      "text/plain": [
       "datetime.datetime(2023, 7, 18, 17, 44, 30)"
      ]
     },
     "metadata": {},
     "output_type": "display_data"
    },
    {
     "data": {
      "text/plain": [
       "datetime.datetime(2023, 7, 18, 17, 44, 30)"
      ]
     },
     "metadata": {},
     "output_type": "display_data"
    },
    {
     "data": {
      "text/plain": [
       "datetime.datetime(2023, 7, 18, 17, 44, 30)"
      ]
     },
     "metadata": {},
     "output_type": "display_data"
    },
    {
     "data": {
      "text/plain": [
       "datetime.datetime(2023, 7, 18, 17, 44, 33)"
      ]
     },
     "metadata": {},
     "output_type": "display_data"
    },
    {
     "data": {
      "text/plain": [
       "datetime.datetime(2023, 7, 18, 17, 44, 37)"
      ]
     },
     "metadata": {},
     "output_type": "display_data"
    },
    {
     "data": {
      "text/plain": [
       "datetime.datetime(2023, 7, 18, 17, 44, 43)"
      ]
     },
     "metadata": {},
     "output_type": "display_data"
    },
    {
     "data": {
      "text/plain": [
       "datetime.datetime(2023, 7, 18, 17, 44, 48)"
      ]
     },
     "metadata": {},
     "output_type": "display_data"
    },
    {
     "data": {
      "text/plain": [
       "datetime.datetime(2023, 7, 18, 17, 45, 11)"
      ]
     },
     "metadata": {},
     "output_type": "display_data"
    },
    {
     "data": {
      "text/plain": [
       "datetime.datetime(2023, 7, 18, 17, 45, 46)"
      ]
     },
     "metadata": {},
     "output_type": "display_data"
    },
    {
     "data": {
      "text/plain": [
       "datetime.datetime(2023, 7, 18, 17, 46, 11)"
      ]
     },
     "metadata": {},
     "output_type": "display_data"
    },
    {
     "data": {
      "text/plain": [
       "datetime.datetime(2023, 7, 18, 17, 46, 15)"
      ]
     },
     "metadata": {},
     "output_type": "display_data"
    },
    {
     "data": {
      "text/plain": [
       "datetime.datetime(2023, 7, 18, 17, 46, 19)"
      ]
     },
     "metadata": {},
     "output_type": "display_data"
    },
    {
     "data": {
      "text/plain": [
       "datetime.datetime(2023, 7, 18, 17, 46, 26)"
      ]
     },
     "metadata": {},
     "output_type": "display_data"
    },
    {
     "data": {
      "text/plain": [
       "datetime.datetime(2023, 7, 18, 17, 46, 31)"
      ]
     },
     "metadata": {},
     "output_type": "display_data"
    },
    {
     "data": {
      "text/plain": [
       "datetime.datetime(2023, 7, 18, 17, 46, 35)"
      ]
     },
     "metadata": {},
     "output_type": "display_data"
    },
    {
     "data": {
      "text/plain": [
       "datetime.datetime(2023, 7, 18, 17, 47, 3)"
      ]
     },
     "metadata": {},
     "output_type": "display_data"
    },
    {
     "data": {
      "text/plain": [
       "datetime.datetime(2023, 7, 18, 17, 47, 34)"
      ]
     },
     "metadata": {},
     "output_type": "display_data"
    },
    {
     "data": {
      "text/plain": [
       "datetime.datetime(2023, 7, 18, 17, 49, 18)"
      ]
     },
     "metadata": {},
     "output_type": "display_data"
    },
    {
     "data": {
      "text/plain": [
       "datetime.datetime(2023, 7, 18, 17, 49, 30)"
      ]
     },
     "metadata": {},
     "output_type": "display_data"
    },
    {
     "data": {
      "text/plain": [
       "datetime.datetime(2023, 7, 18, 17, 50, 2)"
      ]
     },
     "metadata": {},
     "output_type": "display_data"
    },
    {
     "data": {
      "text/plain": [
       "datetime.datetime(2023, 7, 18, 17, 53, 3)"
      ]
     },
     "metadata": {},
     "output_type": "display_data"
    },
    {
     "data": {
      "text/plain": [
       "datetime.datetime(2023, 7, 18, 18, 20, 20)"
      ]
     },
     "metadata": {},
     "output_type": "display_data"
    },
    {
     "data": {
      "text/plain": [
       "datetime.datetime(2023, 7, 18, 18, 41, 40)"
      ]
     },
     "metadata": {},
     "output_type": "display_data"
    },
    {
     "data": {
      "text/plain": [
       "datetime.datetime(2023, 7, 18, 18, 43, 32)"
      ]
     },
     "metadata": {},
     "output_type": "display_data"
    },
    {
     "data": {
      "text/plain": [
       "datetime.datetime(2023, 7, 18, 18, 43, 57)"
      ]
     },
     "metadata": {},
     "output_type": "display_data"
    },
    {
     "data": {
      "text/plain": [
       "datetime.datetime(2023, 7, 18, 21, 24)"
      ]
     },
     "metadata": {},
     "output_type": "display_data"
    },
    {
     "data": {
      "text/plain": [
       "datetime.datetime(2023, 7, 18, 21, 24, 19)"
      ]
     },
     "metadata": {},
     "output_type": "display_data"
    },
    {
     "data": {
      "text/plain": [
       "datetime.datetime(2023, 7, 18, 21, 26)"
      ]
     },
     "metadata": {},
     "output_type": "display_data"
    },
    {
     "data": {
      "text/plain": [
       "datetime.datetime(2023, 7, 21, 14, 59, 56)"
      ]
     },
     "metadata": {},
     "output_type": "display_data"
    },
    {
     "data": {
      "text/plain": [
       "datetime.datetime(2023, 7, 27, 8, 20, 20)"
      ]
     },
     "metadata": {},
     "output_type": "display_data"
    },
    {
     "data": {
      "text/plain": [
       "datetime.datetime(2023, 8, 1, 17, 9, 12)"
      ]
     },
     "metadata": {},
     "output_type": "display_data"
    },
    {
     "data": {
      "text/plain": [
       "datetime.datetime(2023, 8, 1, 17, 9, 28)"
      ]
     },
     "metadata": {},
     "output_type": "display_data"
    },
    {
     "data": {
      "text/plain": [
       "datetime.datetime(2023, 8, 1, 17, 10, 52)"
      ]
     },
     "metadata": {},
     "output_type": "display_data"
    },
    {
     "data": {
      "text/plain": [
       "datetime.datetime(2023, 8, 1, 17, 10, 59)"
      ]
     },
     "metadata": {},
     "output_type": "display_data"
    },
    {
     "data": {
      "text/plain": [
       "datetime.datetime(2023, 10, 31, 11, 4, 53)"
      ]
     },
     "metadata": {},
     "output_type": "display_data"
    },
    {
     "data": {
      "text/plain": [
       "array([[ 0,  0,  0,  0,  5,  0,  0],\n",
       "       [29, 46,  8, 13, 19,  1, 28],\n",
       "       [14,  9, 36,  6, 16,  5,  7],\n",
       "       [ 4, 61,  0,  0,  1,  0,  0],\n",
       "       [ 0,  0,  0,  1,  0,  0,  0],\n",
       "       [ 0,  0,  0,  0,  0,  0,  0],\n",
       "       [ 0,  0,  0,  0,  0,  0,  0],\n",
       "       [ 0,  0,  0,  0,  0,  0,  0],\n",
       "       [ 0,  0,  0,  0,  0,  0,  0],\n",
       "       [ 0,  0,  0,  0,  0,  0,  0],\n",
       "       [ 0,  0,  0,  0,  0,  0,  0],\n",
       "       [ 0,  0,  0,  0,  0,  0,  0],\n",
       "       [ 0,  0,  0,  0,  0,  0,  0],\n",
       "       [ 0,  0,  0,  0,  0,  0,  0],\n",
       "       [ 0,  0,  0,  0,  0,  0,  0],\n",
       "       [ 0,  0,  0,  0,  0,  0,  0],\n",
       "       [ 0,  0,  0,  0,  0,  0,  0],\n",
       "       [ 0,  0,  0,  0,  0,  0,  0],\n",
       "       [ 0,  1,  0,  0,  0,  0,  0],\n",
       "       [ 0,  0,  0,  0,  0,  0,  0]])"
      ]
     },
     "metadata": {},
     "output_type": "display_data"
    },
    {
     "data": {
      "text/plain": [
       "array([['0', '0', '0', '0',\n",
       "        '101:修正依頼(18:09:29),101:修正依頼(18:10:42),75:修正依頼(22:24:30),75:修正依頼(22:26:54),75:修正依頼(22:32:25)',\n",
       "        '0', '0'],\n",
       "       ['77:修正依頼(08:46:51),77:修正依頼(08:48:27),77:資料作成(08:52:00),77:資料作成(08:52:04),83:修正依頼(08:55:39),77:注意項目の追加(09:16:40),77:資料作成(09:16:50),77:資料作成(09:16:54),83:修正依頼(09:33:17),83:修正依頼(09:35:44),73:修正依頼(09:38:37),73:修正依頼(09:39:22),73:修正依頼(09:44:42),73:修正依頼(09:45:12),73:修正依頼(09:46:36),83:修正依頼(09:49:34),74:修正依頼(10:41:35),74:修正依頼(10:55:08),77:注意項目の追加(11:16:43),77:修正依頼(12:33:05),69:修正依頼(13:17:23),69:修正依頼(13:18:18),111:修正依頼(13:32:00),111:修正依頼(13:32:21),111:修正依頼(13:32:40),69:修正依頼(15:56:36),75:修正依頼(17:53:44),75:修正依頼(17:54:47),75:修正依頼(17:55:08)',\n",
       "        '83:修正依頼(01:56:58),83:修正依頼(02:15:55),77:修正依頼(09:02:50),77:修正依頼(09:08:20),77:修正依頼(09:08:55),77:修正依頼(09:44:31),84:修正依頼(09:45:29),77:修正依頼(09:45:53),116:修正依頼(09:45:55),84:修正依頼(09:46:01),77:資料作成(10:01:22),77:資料作成(10:01:45),84:資料作成(10:06:05),70:資料作成(10:06:05),116:資料作成(10:06:20),79:修正依頼(11:09:38),79:修正依頼(11:10:09),79:修正依頼(11:10:20),79:修正依頼(11:10:25),65:修正依頼(11:41:21),65:資料作成(11:45:40),75:修正依頼(13:34:27),65:修正依頼(13:40:08),83:修正依頼(13:49:08),83:修正依頼(13:54:12),75:修正依頼(14:16:38),83:修正依頼(15:44:34),83:資料作成(15:45:18),83:修正依頼(15:45:41),67:修正依頼(16:24:36),78:修正依頼(16:49:28),75:修正依頼(17:14:08),102:修正依頼(17:27:52),77:修正依頼(17:28:18),83:資料作成(17:29:52),83:資料作成(17:29:59),75:顧客面談(20:36:16),75:契約(20:36:16),75:課題解決(20:36:16),79:仮報告書の提出(21:02:17),73:仮報告書の提出(21:18:03),75:仮報告書の提出(21:31:12),75:仮報告書の提出(21:43:17),111:顧客面談(23:08:03),111:契約(23:08:03),111:課題解決(23:08:03)',\n",
       "        '79:注意項目の追加(08:32:22),72:注意項目の追加(08:44:31),83:注意項目の追加(08:45:39),65:注意項目の追加(09:23:15),69:仮報告書の提出(13:30:28),69:顧客面談(13:52:38),69:契約(13:52:38),69:課題解決(13:52:38)',\n",
       "        '69:担当客リストの確認(08:41:35),69:顧客全体リストの確認(08:50:32),69:担当客リストの確認(08:50:43),77:仮報告書の提出(16:27:08),77:仮報告書の提出(16:27:17),77:顧客面談(16:34:19),77:契約(16:34:19),77:課題分析(16:34:19),77:質疑記入(16:34:19),77:課題解決(16:34:19),72:注意項目の追加(17:12:00),79:仮報告書の提出(18:03:09),79:仮報告書の提出(18:34:15)',\n",
       "        '67:顧客面談(09:14:02),67:契約(09:14:02),67:課題解決(09:14:02),101:顧客面談(11:19:20),101:契約(11:19:20),101:課題解決(11:19:20),107:仮報告書の提出(13:01:06),79:仮報告書の提出(15:17:59),69:顧客全体リストの確認(15:36:44),69:顧客全体リストの確認(15:36:52),79:仮報告書の提出(16:17:00),79:仮報告書の提出(16:41:46),70:顧客面談(18:02:39),70:課題解決(18:02:39),116:顧客面談(18:03:59),116:契約(18:03:59),116:課題解決(18:03:59),65:仮報告書の提出(18:15:53),79:仮報告書の提出(18:49:43)',\n",
       "        '101:チーム連絡帳の確認(10:55:34)',\n",
       "        '79:顧客面談(12:19:52),79:契約(12:19:52),79:課題解決(12:19:52),79:チーム連絡帳の確認(12:20:52),79:顧客全体リストの確認(12:21:16),79:顧客全体リストの確認(12:25:00),79:チーム連絡帳の確認(12:41:42),79:顧客全体リストの確認(12:42:48),79:顧客全体リストの確認(12:42:53),79:チーム連絡帳の確認(12:43:12),73:仮報告書の提出(13:31:40),73:仮報告書の提出(13:32:01),73:チェックリスト作成(13:33:51),73:顧客面談(13:34:52),73:契約(13:34:52),73:仮契約(13:34:52),73:チーム連絡帳の確認(13:36:39),83:顧客面談(15:54:27),83:契約(15:54:27),83:仮契約(15:54:27),83:課題解決(15:54:27),75:仮報告書の提出(21:42:29),75:顧客面談(21:46:07),75:契約(21:46:07),75:仮契約(21:46:07),79:顧客面談(22:02:02),79:契約(22:02:02),79:課題解決(22:02:02)'],\n",
       "       ['116:担当客リストの確認(08:17:41),65:顧客面談(08:48:01),79:課題解決(08:48:01),116:チーム連絡帳の確認(09:15:46),79:顧客面談(09:27:12),79:契約(09:27:12),79:仮契約(09:27:12),79:質疑記入(09:27:12),79:課題解決(09:27:12),67:担当客リストの確認(09:37:03),79:チーム連絡帳の確認(10:20:12),70:顧客面談(10:42:49),70:課題解決(10:42:49),69:担当客リストの確認(13:27:32)',\n",
       "        '79:チーム連絡帳の確認(10:20:27),79:チーム連絡帳の確認(10:20:36),79:チェックリスト作成(10:29:23),79:チーム連絡帳の確認(10:29:32),69:顧客全体リストの確認(11:04:11),69:チーム連絡帳の確認(11:23:15),65:顧客面談(15:21:14),65:契約(15:21:14),65:課題解決(15:21:14)',\n",
       "        '79:担当客リストの確認(08:43:54),79:顧客全体リストの確認(08:44:29),79:報告書の提出(08:52:31),79:顧客全体リストの確認(08:56:53),79:チーム連絡帳の確認(09:07:20),79:担当客リストの確認(09:07:46),75:顧客面談(09:50:51),75:契約(09:50:51),75:課題解決(09:50:51),83:仮報告書の提出(10:23:14),115:顧客面談(11:38:41),115:契約(11:38:41),115:課題解決(11:38:41),83:顧客面談(11:49:27),83:契約(11:49:27),83:課題解決(11:49:27),111:担当客リストの確認(13:15:03),83:担当客リストの確認(13:16:13),83:チーム連絡帳の確認(13:16:18),83:顧客全体リストの確認(13:16:38),83:担当客リストの確認(13:17:07),111:顧客全体リストの確認(13:17:11),111:担当客リストの確認(13:18:24),83:顧客全体リストの確認(13:22:10),83:チーム連絡帳の確認(13:22:33),83:担当客リストの確認(13:22:47),83:顧客全体リストの確認(13:23:12),79:担当客リストの確認(13:58:00),79:担当客リストの確認(13:58:33),79:顧客全体リストの確認(14:07:41),79:チーム連絡帳の確認(14:07:50),77:顧客面談(16:39:21),77:契約(16:39:21),77:課題解決(16:39:21),75:チーム連絡帳の確認(21:45:15),75:顧客全体リストの確認(21:45:26)',\n",
       "        '115:担当客リストの確認(09:14:55),115:チーム連絡帳の確認(09:15:39),69:チーム連絡帳の確認(11:38:07),77:顧客面談(13:36:06),77:契約(13:36:06),110:仮報告書の提出(17:49:55)',\n",
       "        '65:担当客リストの確認(11:03:00),65:チーム連絡帳の確認(11:03:35),65:顧客全体リストの確認(13:39:58),107:顧客面談(14:40:52),107:契約(14:40:52),65:顧客全体リストの確認(15:21:37),65:担当客リストの確認(15:21:59),79:顧客面談(15:32:10),83:契約(15:32:10),83:課題解決(15:32:10),83:チーム連絡帳の確認(15:32:19),83:顧客全体リストの確認(15:38:30),110:顧客面談(17:25:40),110:契約(17:25:40),110:仮契約(17:25:40),110:課題解決(17:25:40)',\n",
       "        '77:担当客リストの確認(14:43:33),77:顧客全体リストの確認(14:46:11),77:報告書の提出(14:46:54),77:顧客全体リストの確認(14:47:05),77:チーム連絡帳の確認(14:47:15)',\n",
       "        '110:担当客リストの確認(11:47:55),65:チーム連絡帳の確認(13:11:15),65:顧客全体リストの確認(13:11:45),65:仮報告書の提出(14:16:20),65:顧客面談(14:22:07),65:契約(14:22:07),65:課題解決(14:22:07)'],\n",
       "       ['75:顧客面談(12:02:18),75:課題解決(12:02:18),75:チーム連絡帳の確認(12:03:14),75:顧客全体リストの確認(12:08:23)',\n",
       "        '83:担当客リストの確認(10:21:08),83:顧客全体リストの確認(10:22:19),84:顧客面談(13:37:33),84:契約(13:37:33),84:課題解決(13:37:33),84:チーム連絡帳の確認(13:37:41),78:仮報告書の提出(14:39:19),78:顧客面談(14:40:27),78:契約(14:40:27),75:担当客リストの確認(14:56:15),75:チーム連絡帳の確認(14:57:10),75:顧客全体リストの確認(14:57:16),65:担当客リストの確認(15:17:37),69:チーム連絡帳の確認(15:31:40),69:担当客リストの確認(15:31:45),102:顧客面談(15:39:09),102:課題解決(15:39:09),77:顧客面談(15:41:11),77:課題解決(15:41:11),79:担当客リストの確認(16:25:55),79:担当客リストの確認(16:27:31),75:顧客全体リストの確認(16:32:55),75:チーム連絡帳の確認(16:33:38),78:注意項目の追加(16:43:24),77:担当客リストの確認(17:36:57),77:担当客リストの確認(17:36:57),75:顧客全体リストの確認(17:43:21),79:顧客全体リストの確認(17:43:29),73:顧客全体リストの確認(17:44:04),116:顧客全体リストの確認(17:44:11),75:チーム連絡帳の確認(17:44:19),111:顧客全体リストの確認(17:44:24),75:チーム連絡帳の確認(17:44:28),75:担当客リストの確認(17:44:30),73:チーム連絡帳の確認(17:44:30),79:報告書の提出(17:44:30),116:チーム連絡帳の確認(17:44:33),79:チーム連絡帳の確認(17:44:37),111:チーム連絡帳の確認(17:44:43),79:チーム連絡帳の確認(17:44:48),116:顧客全体リストの確認(17:45:11),83:チーム連絡帳の確認(17:45:46),77:担当客リストの確認(17:46:11),89:担当客リストの確認(17:46:15),75:チーム連絡帳の確認(17:46:19),79:チーム連絡帳の確認(17:46:26),77:チーム連絡帳の確認(17:46:31),111:担当客リストの確認(17:46:35),75:担当客リストの確認(17:47:03),89:チーム連絡帳の確認(17:47:34),83:チーム連絡帳の確認(17:49:18),83:担当客リストの確認(17:49:30),89:顧客全体リストの確認(17:50:02),111:担当客リストの確認(17:53:03),83:顧客全体リストの確認(18:20:20),79:チーム連絡帳の確認(18:41:40),79:担当客リストの確認(18:43:32),79:顧客全体リストの確認(18:43:57),111:担当客リストの確認(21:24:00),111:チーム連絡帳の確認(21:24:19),111:顧客全体リストの確認(21:26:00)',\n",
       "        '0', '0', '65:担当客リストの確認(14:59:56)', '0', '0'],\n",
       "       ['0', '0', '0', '111:チーム連絡帳の確認(08:20:20)', '0', '0', '0'],\n",
       "       ['0', '0', '0', '0', '0', '0', '0'],\n",
       "       ['0', '0', '0', '0', '0', '0', '0'],\n",
       "       ['0', '0', '0', '0', '0', '0', '0'],\n",
       "       ['0', '0', '0', '0', '0', '0', '0'],\n",
       "       ['0', '0', '0', '0', '0', '0', '0'],\n",
       "       ['0', '0', '0', '0', '0', '0', '0'],\n",
       "       ['0', '0', '0', '0', '0', '0', '0'],\n",
       "       ['0', '0', '0', '0', '0', '0', '0'],\n",
       "       ['0', '0', '0', '0', '0', '0', '0'],\n",
       "       ['0', '0', '0', '0', '0', '0', '0'],\n",
       "       ['0', '0', '0', '0', '0', '0', '0'],\n",
       "       ['0', '0', '0', '0', '0', '0', '0'],\n",
       "       ['0', '0', '0', '0', '0', '0', '0'],\n",
       "       ['0', '115:チーム連絡帳の確認(11:04:53)', '0', '0', '0', '0', '0'],\n",
       "       ['0', '0', '0', '0', '0', '0', '0']], dtype=object)"
      ]
     },
     "metadata": {},
     "output_type": "display_data"
    }
   ],
   "source": [
    "# keyWK=np.array(list(range(0,TotalDays.days,7))+[TotalDays.days])\n",
    "keyWK=list(range(0,TotalDays.days,7))+[TotalDays.days]\n",
    "WKst=[Firstday+datetime.timedelta(days=d) for d in keyWK]\n",
    "\n",
    "NPdataMatL=np.full([len(WKst),7],['0'],dtype=object)\n",
    "NPdataMat=np.full([len(WKst),7],0,dtype=int)\n",
    "\n",
    "wkL=[d.timetuple() for d in WKst]\n",
    "wkL2=np.array([d2[0:3:1] for d2 in wkL])\n",
    "\n",
    "dList=dList_ATT.copy()\n",
    "NameAct=NameAct_ATT.copy()\n",
    "for k in range(len(dList)):\n",
    "    display(dList[k])\n",
    "    i2=np.where((dList[k].year==wkL2[:,0]) & (dList[k].month==wkL2[:,1]) & (dList[k].day-wkL2[:,2]<=6) & (dList[k].day-wkL2[:,2]>=0))[0]\n",
    "    j2=dList[k].weekday()\n",
    "    if NPdataMatL[i2,j2]==['0']:\n",
    "        NPdataMatL[i2,j2]=NameAct[k]+'('+str(dList[k].time())+')'\n",
    "    else:\n",
    "        NPdataMatL[i2,j2]=NPdataMatL[i2,j2]+','+NameAct[k]+'('+str(dList[k].time())+')'\n",
    "    NPdataMat[i2,j2]=NPdataMat[i2,j2]+1    \n",
    "\n",
    "    \n",
    "display(NPdataMat)\n",
    "display(NPdataMatL)"
   ]
  },
  {
   "cell_type": "code",
   "execution_count": 107,
   "id": "6399a414",
   "metadata": {},
   "outputs": [
    {
     "data": {
      "text/plain": [
       "array([[ 0,  0,  0, ..., 16, 36,  0],\n",
       "       [ 0,  0,  0, ...,  0,  0,  0],\n",
       "       [ 0,  0,  0, ...,  0,  0,  0],\n",
       "       ...,\n",
       "       [ 0,  0,  0, ...,  0,  0,  0],\n",
       "       [ 0,  0,  0, ...,  1,  0,  0],\n",
       "       [ 0,  0,  0, ...,  0,  0,  0]])"
      ]
     },
     "execution_count": 107,
     "metadata": {},
     "output_type": "execute_result"
    }
   ],
   "source": [
    "NPdataMat"
   ]
  },
  {
   "cell_type": "code",
   "execution_count": 47,
   "id": "881f33b7",
   "metadata": {},
   "outputs": [
    {
     "name": "stdout",
     "output_type": "stream",
     "text": [
      "['101:修正依頼(18:09:29),101:修正依頼(18:10:42),75:修正依頼(22:24:30),75:修正依頼(22:26:54),75:修正依頼(22:32:25)'\n",
      " '77:修正依頼(08:46:51),77:修正依頼(08:48:27),77:資料作成(08:52:00),77:資料作成(08:52:04),83:修正依頼(08:55:39),77:注意項目の追加(09:16:40),77:資料作成(09:16:50),77:資料作成(09:16:54),83:修正依頼(09:33:17),83:修正依頼(09:35:44),73:修正依頼(09:38:37),73:修正依頼(09:39:22),73:修正依頼(09:44:42),73:修正依頼(09:45:12),73:修正依頼(09:46:36),83:修正依頼(09:49:34),74:修正依頼(10:41:35),74:修正依頼(10:55:08),77:注意項目の追加(11:16:43),77:修正依頼(12:33:05),69:修正依頼(13:17:23),69:修正依頼(13:18:18),111:修正依頼(13:32:00),111:修正依頼(13:32:21),111:修正依頼(13:32:40),69:修正依頼(15:56:36),75:修正依頼(17:53:44),75:修正依頼(17:54:47),75:修正依頼(17:55:08)'\n",
      " '83:修正依頼(01:56:58),83:修正依頼(02:15:55),77:修正依頼(09:02:50),77:修正依頼(09:08:20),77:修正依頼(09:08:55),77:修正依頼(09:44:31),84:修正依頼(09:45:29),77:修正依頼(09:45:53),116:修正依頼(09:45:55),84:修正依頼(09:46:01),77:資料作成(10:01:22),77:資料作成(10:01:45),84:資料作成(10:06:05),70:資料作成(10:06:05),116:資料作成(10:06:20),79:修正依頼(11:09:38),79:修正依頼(11:10:09),79:修正依頼(11:10:20),79:修正依頼(11:10:25),65:修正依頼(11:41:21),65:資料作成(11:45:40),75:修正依頼(13:34:27),65:修正依頼(13:40:08),83:修正依頼(13:49:08),83:修正依頼(13:54:12),75:修正依頼(14:16:38),83:修正依頼(15:44:34),83:資料作成(15:45:18),83:修正依頼(15:45:41),67:修正依頼(16:24:36),78:修正依頼(16:49:28),75:修正依頼(17:14:08),102:修正依頼(17:27:52),77:修正依頼(17:28:18),83:資料作成(17:29:52),83:資料作成(17:29:59),75:顧客面談(20:36:16),75:契約(20:36:16),75:課題解決(20:36:16),79:仮報告書の提出(21:02:17),73:仮報告書の提出(21:18:03),75:仮報告書の提出(21:31:12),75:仮報告書の提出(21:43:17),111:顧客面談(23:08:03),111:契約(23:08:03),111:課題解決(23:08:03)'\n",
      " '79:注意項目の追加(08:32:22),72:注意項目の追加(08:44:31),83:注意項目の追加(08:45:39),65:注意項目の追加(09:23:15),69:仮報告書の提出(13:30:28),69:顧客面談(13:52:38),69:契約(13:52:38),69:課題解決(13:52:38)'\n",
      " '69:担当客リストの確認(08:41:35),69:顧客全体リストの確認(08:50:32),69:担当客リストの確認(08:50:43),77:仮報告書の提出(16:27:08),77:仮報告書の提出(16:27:17),77:顧客面談(16:34:19),77:契約(16:34:19),77:課題分析(16:34:19),77:質疑記入(16:34:19),77:課題解決(16:34:19),72:注意項目の追加(17:12:00),79:仮報告書の提出(18:03:09),79:仮報告書の提出(18:34:15)'\n",
      " '67:顧客面談(09:14:02),67:契約(09:14:02),67:課題解決(09:14:02),101:顧客面談(11:19:20),101:契約(11:19:20),101:課題解決(11:19:20),107:仮報告書の提出(13:01:06),79:仮報告書の提出(15:17:59),69:顧客全体リストの確認(15:36:44),69:顧客全体リストの確認(15:36:52),79:仮報告書の提出(16:17:00),79:仮報告書の提出(16:41:46),70:顧客面談(18:02:39),70:課題解決(18:02:39),116:顧客面談(18:03:59),116:契約(18:03:59),116:課題解決(18:03:59),65:仮報告書の提出(18:15:53),79:仮報告書の提出(18:49:43)'\n",
      " '101:チーム連絡帳の確認(10:55:34)'\n",
      " '79:顧客面談(12:19:52),79:契約(12:19:52),79:課題解決(12:19:52),79:チーム連絡帳の確認(12:20:52),79:顧客全体リストの確認(12:21:16),79:顧客全体リストの確認(12:25:00),79:チーム連絡帳の確認(12:41:42),79:顧客全体リストの確認(12:42:48),79:顧客全体リストの確認(12:42:53),79:チーム連絡帳の確認(12:43:12),73:仮報告書の提出(13:31:40),73:仮報告書の提出(13:32:01),73:チェックリスト作成(13:33:51),73:顧客面談(13:34:52),73:契約(13:34:52),73:仮契約(13:34:52),73:チーム連絡帳の確認(13:36:39),83:顧客面談(15:54:27),83:契約(15:54:27),83:仮契約(15:54:27),83:課題解決(15:54:27),75:仮報告書の提出(21:42:29),75:顧客面談(21:46:07),75:契約(21:46:07),75:仮契約(21:46:07),79:顧客面談(22:02:02),79:契約(22:02:02),79:課題解決(22:02:02)'\n",
      " '116:担当客リストの確認(08:17:41),65:顧客面談(08:48:01),79:課題解決(08:48:01),116:チーム連絡帳の確認(09:15:46),79:顧客面談(09:27:12),79:契約(09:27:12),79:仮契約(09:27:12),79:質疑記入(09:27:12),79:課題解決(09:27:12),67:担当客リストの確認(09:37:03),79:チーム連絡帳の確認(10:20:12),70:顧客面談(10:42:49),70:課題解決(10:42:49),69:担当客リストの確認(13:27:32)'\n",
      " '79:チーム連絡帳の確認(10:20:27),79:チーム連絡帳の確認(10:20:36),79:チェックリスト作成(10:29:23),79:チーム連絡帳の確認(10:29:32),69:顧客全体リストの確認(11:04:11),69:チーム連絡帳の確認(11:23:15),65:顧客面談(15:21:14),65:契約(15:21:14),65:課題解決(15:21:14)'\n",
      " '79:担当客リストの確認(08:43:54),79:顧客全体リストの確認(08:44:29),79:報告書の提出(08:52:31),79:顧客全体リストの確認(08:56:53),79:チーム連絡帳の確認(09:07:20),79:担当客リストの確認(09:07:46),75:顧客面談(09:50:51),75:契約(09:50:51),75:課題解決(09:50:51),83:仮報告書の提出(10:23:14),115:顧客面談(11:38:41),115:契約(11:38:41),115:課題解決(11:38:41),83:顧客面談(11:49:27),83:契約(11:49:27),83:課題解決(11:49:27),111:担当客リストの確認(13:15:03),83:担当客リストの確認(13:16:13),83:チーム連絡帳の確認(13:16:18),83:顧客全体リストの確認(13:16:38),83:担当客リストの確認(13:17:07),111:顧客全体リストの確認(13:17:11),111:担当客リストの確認(13:18:24),83:顧客全体リストの確認(13:22:10),83:チーム連絡帳の確認(13:22:33),83:担当客リストの確認(13:22:47),83:顧客全体リストの確認(13:23:12),79:担当客リストの確認(13:58:00),79:担当客リストの確認(13:58:33),79:顧客全体リストの確認(14:07:41),79:チーム連絡帳の確認(14:07:50),77:顧客面談(16:39:21),77:契約(16:39:21),77:課題解決(16:39:21),75:チーム連絡帳の確認(21:45:15),75:顧客全体リストの確認(21:45:26)'\n",
      " '115:担当客リストの確認(09:14:55),115:チーム連絡帳の確認(09:15:39),69:チーム連絡帳の確認(11:38:07),77:顧客面談(13:36:06),77:契約(13:36:06),110:仮報告書の提出(17:49:55)'\n",
      " '65:担当客リストの確認(11:03:00),65:チーム連絡帳の確認(11:03:35),65:顧客全体リストの確認(13:39:58),107:顧客面談(14:40:52),107:契約(14:40:52),65:顧客全体リストの確認(15:21:37),65:担当客リストの確認(15:21:59),79:顧客面談(15:32:10),83:契約(15:32:10),83:課題解決(15:32:10),83:チーム連絡帳の確認(15:32:19),83:顧客全体リストの確認(15:38:30),110:顧客面談(17:25:40),110:契約(17:25:40),110:仮契約(17:25:40),110:課題解決(17:25:40)'\n",
      " '77:担当客リストの確認(14:43:33),77:顧客全体リストの確認(14:46:11),77:報告書の提出(14:46:54),77:顧客全体リストの確認(14:47:05),77:チーム連絡帳の確認(14:47:15)'\n",
      " '110:担当客リストの確認(11:47:55),65:チーム連絡帳の確認(13:11:15),65:顧客全体リストの確認(13:11:45),65:仮報告書の提出(14:16:20),65:顧客面談(14:22:07),65:契約(14:22:07),65:課題解決(14:22:07)'\n",
      " '75:顧客面談(12:02:18),75:課題解決(12:02:18),75:チーム連絡帳の確認(12:03:14),75:顧客全体リストの確認(12:08:23)'\n",
      " '83:担当客リストの確認(10:21:08),83:顧客全体リストの確認(10:22:19),84:顧客面談(13:37:33),84:契約(13:37:33),84:課題解決(13:37:33),84:チーム連絡帳の確認(13:37:41),78:仮報告書の提出(14:39:19),78:顧客面談(14:40:27),78:契約(14:40:27),75:担当客リストの確認(14:56:15),75:チーム連絡帳の確認(14:57:10),75:顧客全体リストの確認(14:57:16),65:担当客リストの確認(15:17:37),69:チーム連絡帳の確認(15:31:40),69:担当客リストの確認(15:31:45),102:顧客面談(15:39:09),102:課題解決(15:39:09),77:顧客面談(15:41:11),77:課題解決(15:41:11),79:担当客リストの確認(16:25:55),79:担当客リストの確認(16:27:31),75:顧客全体リストの確認(16:32:55),75:チーム連絡帳の確認(16:33:38),78:注意項目の追加(16:43:24),77:担当客リストの確認(17:36:57),77:担当客リストの確認(17:36:57),75:顧客全体リストの確認(17:43:21),79:顧客全体リストの確認(17:43:29),73:顧客全体リストの確認(17:44:04),116:顧客全体リストの確認(17:44:11),75:チーム連絡帳の確認(17:44:19),111:顧客全体リストの確認(17:44:24),75:チーム連絡帳の確認(17:44:28),75:担当客リストの確認(17:44:30),73:チーム連絡帳の確認(17:44:30),79:報告書の提出(17:44:30),116:チーム連絡帳の確認(17:44:33),79:チーム連絡帳の確認(17:44:37),111:チーム連絡帳の確認(17:44:43),79:チーム連絡帳の確認(17:44:48),116:顧客全体リストの確認(17:45:11),83:チーム連絡帳の確認(17:45:46),77:担当客リストの確認(17:46:11),89:担当客リストの確認(17:46:15),75:チーム連絡帳の確認(17:46:19),79:チーム連絡帳の確認(17:46:26),77:チーム連絡帳の確認(17:46:31),111:担当客リストの確認(17:46:35),75:担当客リストの確認(17:47:03),89:チーム連絡帳の確認(17:47:34),83:チーム連絡帳の確認(17:49:18),83:担当客リストの確認(17:49:30),89:顧客全体リストの確認(17:50:02),111:担当客リストの確認(17:53:03),83:顧客全体リストの確認(18:20:20),79:チーム連絡帳の確認(18:41:40),79:担当客リストの確認(18:43:32),79:顧客全体リストの確認(18:43:57),111:担当客リストの確認(21:24:00),111:チーム連絡帳の確認(21:24:19),111:顧客全体リストの確認(21:26:00)'\n",
      " '65:担当客リストの確認(14:59:56)' '111:チーム連絡帳の確認(08:20:20)'\n",
      " '115:チーム連絡帳の確認(11:04:53)']\n",
      "101:修正依頼(18:09:29),101:修正依頼(18:10:42),75:修正依頼(22:24:30),75:修正依頼(22:26:54),75:修正依頼(22:32:25)\n",
      "0: イベント  5件\n",
      "77:修正依頼(08:46:51),77:修正依頼(08:48:27),77:資料作成(08:52:00),77:資料作成(08:52:04),83:修正依頼(08:55:39),77:注意項目の追加(09:16:40),77:資料作成(09:16:50),77:資料作成(09:16:54),83:修正依頼(09:33:17),83:修正依頼(09:35:44),73:修正依頼(09:38:37),73:修正依頼(09:39:22),73:修正依頼(09:44:42),73:修正依頼(09:45:12),73:修正依頼(09:46:36),83:修正依頼(09:49:34),74:修正依頼(10:41:35),74:修正依頼(10:55:08),77:注意項目の追加(11:16:43),77:修正依頼(12:33:05),69:修正依頼(13:17:23),69:修正依頼(13:18:18),111:修正依頼(13:32:00),111:修正依頼(13:32:21),111:修正依頼(13:32:40),69:修正依頼(15:56:36),75:修正依頼(17:53:44),75:修正依頼(17:54:47),75:修正依頼(17:55:08)\n",
      "1: イベント  29件\n",
      "83:修正依頼(01:56:58),83:修正依頼(02:15:55),77:修正依頼(09:02:50),77:修正依頼(09:08:20),77:修正依頼(09:08:55),77:修正依頼(09:44:31),84:修正依頼(09:45:29),77:修正依頼(09:45:53),116:修正依頼(09:45:55),84:修正依頼(09:46:01),77:資料作成(10:01:22),77:資料作成(10:01:45),84:資料作成(10:06:05),70:資料作成(10:06:05),116:資料作成(10:06:20),79:修正依頼(11:09:38),79:修正依頼(11:10:09),79:修正依頼(11:10:20),79:修正依頼(11:10:25),65:修正依頼(11:41:21),65:資料作成(11:45:40),75:修正依頼(13:34:27),65:修正依頼(13:40:08),83:修正依頼(13:49:08),83:修正依頼(13:54:12),75:修正依頼(14:16:38),83:修正依頼(15:44:34),83:資料作成(15:45:18),83:修正依頼(15:45:41),67:修正依頼(16:24:36),78:修正依頼(16:49:28),75:修正依頼(17:14:08),102:修正依頼(17:27:52),77:修正依頼(17:28:18),83:資料作成(17:29:52),83:資料作成(17:29:59),75:顧客面談(20:36:16),75:契約(20:36:16),75:課題解決(20:36:16),79:仮報告書の提出(21:02:17),73:仮報告書の提出(21:18:03),75:仮報告書の提出(21:31:12),75:仮報告書の提出(21:43:17),111:顧客面談(23:08:03),111:契約(23:08:03),111:課題解決(23:08:03)\n",
      "2: イベント  46件\n",
      "79:注意項目の追加(08:32:22),72:注意項目の追加(08:44:31),83:注意項目の追加(08:45:39),65:注意項目の追加(09:23:15),69:仮報告書の提出(13:30:28),69:顧客面談(13:52:38),69:契約(13:52:38),69:課題解決(13:52:38)\n",
      "3: イベント  8件\n",
      "69:担当客リストの確認(08:41:35),69:顧客全体リストの確認(08:50:32),69:担当客リストの確認(08:50:43),77:仮報告書の提出(16:27:08),77:仮報告書の提出(16:27:17),77:顧客面談(16:34:19),77:契約(16:34:19),77:課題分析(16:34:19),77:質疑記入(16:34:19),77:課題解決(16:34:19),72:注意項目の追加(17:12:00),79:仮報告書の提出(18:03:09),79:仮報告書の提出(18:34:15)\n",
      "4: イベント  13件\n",
      "67:顧客面談(09:14:02),67:契約(09:14:02),67:課題解決(09:14:02),101:顧客面談(11:19:20),101:契約(11:19:20),101:課題解決(11:19:20),107:仮報告書の提出(13:01:06),79:仮報告書の提出(15:17:59),69:顧客全体リストの確認(15:36:44),69:顧客全体リストの確認(15:36:52),79:仮報告書の提出(16:17:00),79:仮報告書の提出(16:41:46),70:顧客面談(18:02:39),70:課題解決(18:02:39),116:顧客面談(18:03:59),116:契約(18:03:59),116:課題解決(18:03:59),65:仮報告書の提出(18:15:53),79:仮報告書の提出(18:49:43)\n",
      "5: イベント  19件\n",
      "101:チーム連絡帳の確認(10:55:34)\n",
      "6: イベント  1件\n",
      "79:顧客面談(12:19:52),79:契約(12:19:52),79:課題解決(12:19:52),79:チーム連絡帳の確認(12:20:52),79:顧客全体リストの確認(12:21:16),79:顧客全体リストの確認(12:25:00),79:チーム連絡帳の確認(12:41:42),79:顧客全体リストの確認(12:42:48),79:顧客全体リストの確認(12:42:53),79:チーム連絡帳の確認(12:43:12),73:仮報告書の提出(13:31:40),73:仮報告書の提出(13:32:01),73:チェックリスト作成(13:33:51),73:顧客面談(13:34:52),73:契約(13:34:52),73:仮契約(13:34:52),73:チーム連絡帳の確認(13:36:39),83:顧客面談(15:54:27),83:契約(15:54:27),83:仮契約(15:54:27),83:課題解決(15:54:27),75:仮報告書の提出(21:42:29),75:顧客面談(21:46:07),75:契約(21:46:07),75:仮契約(21:46:07),79:顧客面談(22:02:02),79:契約(22:02:02),79:課題解決(22:02:02)\n",
      "7: イベント  28件\n",
      "116:担当客リストの確認(08:17:41),65:顧客面談(08:48:01),79:課題解決(08:48:01),116:チーム連絡帳の確認(09:15:46),79:顧客面談(09:27:12),79:契約(09:27:12),79:仮契約(09:27:12),79:質疑記入(09:27:12),79:課題解決(09:27:12),67:担当客リストの確認(09:37:03),79:チーム連絡帳の確認(10:20:12),70:顧客面談(10:42:49),70:課題解決(10:42:49),69:担当客リストの確認(13:27:32)\n",
      "8: イベント  14件\n",
      "79:チーム連絡帳の確認(10:20:27),79:チーム連絡帳の確認(10:20:36),79:チェックリスト作成(10:29:23),79:チーム連絡帳の確認(10:29:32),69:顧客全体リストの確認(11:04:11),69:チーム連絡帳の確認(11:23:15),65:顧客面談(15:21:14),65:契約(15:21:14),65:課題解決(15:21:14)\n",
      "9: イベント  9件\n",
      "79:担当客リストの確認(08:43:54),79:顧客全体リストの確認(08:44:29),79:報告書の提出(08:52:31),79:顧客全体リストの確認(08:56:53),79:チーム連絡帳の確認(09:07:20),79:担当客リストの確認(09:07:46),75:顧客面談(09:50:51),75:契約(09:50:51),75:課題解決(09:50:51),83:仮報告書の提出(10:23:14),115:顧客面談(11:38:41),115:契約(11:38:41),115:課題解決(11:38:41),83:顧客面談(11:49:27),83:契約(11:49:27),83:課題解決(11:49:27),111:担当客リストの確認(13:15:03),83:担当客リストの確認(13:16:13),83:チーム連絡帳の確認(13:16:18),83:顧客全体リストの確認(13:16:38),83:担当客リストの確認(13:17:07),111:顧客全体リストの確認(13:17:11),111:担当客リストの確認(13:18:24),83:顧客全体リストの確認(13:22:10),83:チーム連絡帳の確認(13:22:33),83:担当客リストの確認(13:22:47),83:顧客全体リストの確認(13:23:12),79:担当客リストの確認(13:58:00),79:担当客リストの確認(13:58:33),79:顧客全体リストの確認(14:07:41),79:チーム連絡帳の確認(14:07:50),77:顧客面談(16:39:21),77:契約(16:39:21),77:課題解決(16:39:21),75:チーム連絡帳の確認(21:45:15),75:顧客全体リストの確認(21:45:26)\n",
      "10: イベント  36件\n",
      "115:担当客リストの確認(09:14:55),115:チーム連絡帳の確認(09:15:39),69:チーム連絡帳の確認(11:38:07),77:顧客面談(13:36:06),77:契約(13:36:06),110:仮報告書の提出(17:49:55)\n",
      "11: イベント  6件\n",
      "65:担当客リストの確認(11:03:00),65:チーム連絡帳の確認(11:03:35),65:顧客全体リストの確認(13:39:58),107:顧客面談(14:40:52),107:契約(14:40:52),65:顧客全体リストの確認(15:21:37),65:担当客リストの確認(15:21:59),79:顧客面談(15:32:10),83:契約(15:32:10),83:課題解決(15:32:10),83:チーム連絡帳の確認(15:32:19),83:顧客全体リストの確認(15:38:30),110:顧客面談(17:25:40),110:契約(17:25:40),110:仮契約(17:25:40),110:課題解決(17:25:40)\n",
      "12: イベント  16件\n",
      "77:担当客リストの確認(14:43:33),77:顧客全体リストの確認(14:46:11),77:報告書の提出(14:46:54),77:顧客全体リストの確認(14:47:05),77:チーム連絡帳の確認(14:47:15)\n",
      "13: イベント  5件\n",
      "110:担当客リストの確認(11:47:55),65:チーム連絡帳の確認(13:11:15),65:顧客全体リストの確認(13:11:45),65:仮報告書の提出(14:16:20),65:顧客面談(14:22:07),65:契約(14:22:07),65:課題解決(14:22:07)\n",
      "14: イベント  7件\n",
      "75:顧客面談(12:02:18),75:課題解決(12:02:18),75:チーム連絡帳の確認(12:03:14),75:顧客全体リストの確認(12:08:23)\n",
      "15: イベント  4件\n",
      "83:担当客リストの確認(10:21:08),83:顧客全体リストの確認(10:22:19),84:顧客面談(13:37:33),84:契約(13:37:33),84:課題解決(13:37:33),84:チーム連絡帳の確認(13:37:41),78:仮報告書の提出(14:39:19),78:顧客面談(14:40:27),78:契約(14:40:27),75:担当客リストの確認(14:56:15),75:チーム連絡帳の確認(14:57:10),75:顧客全体リストの確認(14:57:16),65:担当客リストの確認(15:17:37),69:チーム連絡帳の確認(15:31:40),69:担当客リストの確認(15:31:45),102:顧客面談(15:39:09),102:課題解決(15:39:09),77:顧客面談(15:41:11),77:課題解決(15:41:11),79:担当客リストの確認(16:25:55),79:担当客リストの確認(16:27:31),75:顧客全体リストの確認(16:32:55),75:チーム連絡帳の確認(16:33:38),78:注意項目の追加(16:43:24),77:担当客リストの確認(17:36:57),77:担当客リストの確認(17:36:57),75:顧客全体リストの確認(17:43:21),79:顧客全体リストの確認(17:43:29),73:顧客全体リストの確認(17:44:04),116:顧客全体リストの確認(17:44:11),75:チーム連絡帳の確認(17:44:19),111:顧客全体リストの確認(17:44:24),75:チーム連絡帳の確認(17:44:28),75:担当客リストの確認(17:44:30),73:チーム連絡帳の確認(17:44:30),79:報告書の提出(17:44:30),116:チーム連絡帳の確認(17:44:33),79:チーム連絡帳の確認(17:44:37),111:チーム連絡帳の確認(17:44:43),79:チーム連絡帳の確認(17:44:48),116:顧客全体リストの確認(17:45:11),83:チーム連絡帳の確認(17:45:46),77:担当客リストの確認(17:46:11),89:担当客リストの確認(17:46:15),75:チーム連絡帳の確認(17:46:19),79:チーム連絡帳の確認(17:46:26),77:チーム連絡帳の確認(17:46:31),111:担当客リストの確認(17:46:35),75:担当客リストの確認(17:47:03),89:チーム連絡帳の確認(17:47:34),83:チーム連絡帳の確認(17:49:18),83:担当客リストの確認(17:49:30),89:顧客全体リストの確認(17:50:02),111:担当客リストの確認(17:53:03),83:顧客全体リストの確認(18:20:20),79:チーム連絡帳の確認(18:41:40),79:担当客リストの確認(18:43:32),79:顧客全体リストの確認(18:43:57),111:担当客リストの確認(21:24:00),111:チーム連絡帳の確認(21:24:19),111:顧客全体リストの確認(21:26:00)\n",
      "16: イベント  61件\n",
      "65:担当客リストの確認(14:59:56)\n",
      "17: イベント  1件\n",
      "111:チーム連絡帳の確認(08:20:20)\n",
      "18: イベント  1件\n",
      "115:チーム連絡帳の確認(11:04:53)\n",
      "19: イベント  1件\n"
     ]
    }
   ],
   "source": [
    "key=np.where(NPdataMatL!='0')\n",
    "print(NPdataMatL[key])\n",
    "\n",
    "for k in range(len(NPdataMatL[key])):\n",
    "    print(NPdataMatL[key][k])\n",
    "    print(r'%d: イベント  %d件' % (k, NPdataMat[key][k]))"
   ]
  },
  {
   "cell_type": "code",
   "execution_count": 82,
   "id": "8629fe7f",
   "metadata": {},
   "outputs": [
    {
     "data": {
      "text/plain": [
       "(array([ 0,  1,  1,  1,  1,  1,  1,  1,  2,  2,  2,  2,  2,  2,  2,  3,  3,\n",
       "         3,  4, 18]),\n",
       " array([4, 0, 1, 2, 3, 4, 5, 6, 0, 1, 2, 3, 4, 5, 6, 0, 1, 4, 3, 1]))"
      ]
     },
     "execution_count": 82,
     "metadata": {},
     "output_type": "execute_result"
    }
   ],
   "source": [
    "key"
   ]
  },
  {
   "cell_type": "code",
   "execution_count": 83,
   "id": "2c09c991",
   "metadata": {},
   "outputs": [
    {
     "data": {
      "text/plain": [
       "(20, 7)"
      ]
     },
     "execution_count": 83,
     "metadata": {},
     "output_type": "execute_result"
    }
   ],
   "source": [
    "NPdataMat.shape"
   ]
  },
  {
   "cell_type": "code",
   "execution_count": 50,
   "id": "39a9bee3",
   "metadata": {},
   "outputs": [
    {
     "data": {
      "text/plain": [
       "['101', '修正依頼', '18', '09', '29', '']"
      ]
     },
     "execution_count": 50,
     "metadata": {},
     "output_type": "execute_result"
    }
   ],
   "source": [
    "import re\n",
    "\n",
    "re.split(':|\\(|\\)',eSt2[0])"
   ]
  },
  {
   "cell_type": "code",
   "execution_count": 51,
   "id": "0cddfd3d",
   "metadata": {},
   "outputs": [
    {
     "ename": "NameError",
     "evalue": "name 'eSt3_np' is not defined",
     "output_type": "error",
     "traceback": [
      "\u001b[0;31m---------------------------------------------------------------------------\u001b[0m",
      "\u001b[0;31mNameError\u001b[0m                                 Traceback (most recent call last)",
      "\u001b[0;32m/var/folders/mg/w5t8lkhc8xj79f001s7kzpfh0000gp/T/ipykernel_65633/2127184558.py\u001b[0m in \u001b[0;36m<module>\u001b[0;34m\u001b[0m\n\u001b[0;32m----> 1\u001b[0;31m \u001b[0meSt3_np\u001b[0m\u001b[0;34m[\u001b[0m\u001b[0;36m0\u001b[0m\u001b[0;34m]\u001b[0m\u001b[0;34m[\u001b[0m\u001b[0;36m2\u001b[0m\u001b[0;34m:\u001b[0m\u001b[0;34m]\u001b[0m\u001b[0;34m\u001b[0m\u001b[0;34m\u001b[0m\u001b[0m\n\u001b[0m\u001b[1;32m      2\u001b[0m \u001b[0;34m\u001b[0m\u001b[0m\n\u001b[1;32m      3\u001b[0m \u001b[0mmakeT\u001b[0m\u001b[0;34m=\u001b[0m\u001b[0;32mlambda\u001b[0m \u001b[0mv\u001b[0m\u001b[0;34m:\u001b[0m \u001b[0mv\u001b[0m\u001b[0;34m[\u001b[0m\u001b[0;36m0\u001b[0m\u001b[0;34m]\u001b[0m\u001b[0;34m+\u001b[0m\u001b[0;34m':'\u001b[0m\u001b[0;34m+\u001b[0m\u001b[0mv\u001b[0m\u001b[0;34m[\u001b[0m\u001b[0;36m1\u001b[0m\u001b[0;34m]\u001b[0m\u001b[0;34m+\u001b[0m\u001b[0;34m':'\u001b[0m\u001b[0;34m+\u001b[0m\u001b[0mv\u001b[0m\u001b[0;34m[\u001b[0m\u001b[0;36m2\u001b[0m\u001b[0;34m]\u001b[0m\u001b[0;34m\u001b[0m\u001b[0;34m\u001b[0m\u001b[0m\n\u001b[1;32m      4\u001b[0m \u001b[0mmakeT\u001b[0m\u001b[0;34m(\u001b[0m\u001b[0meSt3_np\u001b[0m\u001b[0;34m[\u001b[0m\u001b[0;36m0\u001b[0m\u001b[0;34m]\u001b[0m\u001b[0;34m[\u001b[0m\u001b[0;36m2\u001b[0m\u001b[0;34m:\u001b[0m\u001b[0;34m]\u001b[0m\u001b[0;34m)\u001b[0m\u001b[0;34m\u001b[0m\u001b[0;34m\u001b[0m\u001b[0m\n",
      "\u001b[0;31mNameError\u001b[0m: name 'eSt3_np' is not defined"
     ]
    }
   ],
   "source": [
    "eSt3_np[0][2:]\n",
    "\n",
    "makeT=lambda v: v[0]+':'+v[1]+':'+v[2]\n",
    "makeT(eSt3_np[0][2:])"
   ]
  },
  {
   "cell_type": "code",
   "execution_count": 102,
   "id": "2ba6f34d",
   "metadata": {},
   "outputs": [
    {
     "data": {
      "text/plain": [
       "array([None, None], dtype=object)"
      ]
     },
     "execution_count": 102,
     "metadata": {},
     "output_type": "execute_result"
    }
   ],
   "source": [
    "eList=np.empty(len(idSet_np),dtype=object)\n",
    "eList"
   ]
  },
  {
   "cell_type": "code",
   "execution_count": 100,
   "id": "64565511",
   "metadata": {},
   "outputs": [
    {
     "data": {
      "text/plain": [
       "array([list(['75:修正依頼']), list(['101:修正依頼'])], dtype=object)"
      ]
     },
     "execution_count": 100,
     "metadata": {},
     "output_type": "execute_result"
    }
   ],
   "source": [
    "eList"
   ]
  },
  {
   "cell_type": "code",
   "execution_count": 101,
   "id": "44f994bf",
   "metadata": {},
   "outputs": [
    {
     "ename": "TypeError",
     "evalue": "can only concatenate list (not \"str\") to list",
     "output_type": "error",
     "traceback": [
      "\u001b[0;31m---------------------------------------------------------------------------\u001b[0m",
      "\u001b[0;31mTypeError\u001b[0m                                 Traceback (most recent call last)",
      "\u001b[0;32m/var/folders/mg/w5t8lkhc8xj79f001s7kzpfh0000gp/T/ipykernel_62274/3385549358.py\u001b[0m in \u001b[0;36m<module>\u001b[0;34m\u001b[0m\n\u001b[1;32m      1\u001b[0m \u001b[0;31m# eList=[]\u001b[0m\u001b[0;34m\u001b[0m\u001b[0;34m\u001b[0m\u001b[0m\n\u001b[0;32m----> 2\u001b[0;31m \u001b[0meList\u001b[0m\u001b[0;34m=\u001b[0m\u001b[0meList\u001b[0m\u001b[0;34m+\u001b[0m\u001b[0;34m[\u001b[0m\u001b[0mstr\u001b[0m\u001b[0;34m(\u001b[0m\u001b[0midSet_np\u001b[0m\u001b[0;34m[\u001b[0m\u001b[0mk\u001b[0m\u001b[0;34m]\u001b[0m\u001b[0;34m)\u001b[0m\u001b[0;34m+\u001b[0m\u001b[0;34m':'\u001b[0m\u001b[0;34m+\u001b[0m\u001b[0mv\u001b[0m \u001b[0;32mfor\u001b[0m \u001b[0mv\u001b[0m \u001b[0;32min\u001b[0m \u001b[0mlist\u001b[0m\u001b[0;34m(\u001b[0m\u001b[0mset\u001b[0m\u001b[0;34m(\u001b[0m\u001b[0meventList\u001b[0m\u001b[0;34m[\u001b[0m\u001b[0mkey\u001b[0m\u001b[0;34m]\u001b[0m\u001b[0;34m)\u001b[0m\u001b[0;34m)\u001b[0m\u001b[0;34m]\u001b[0m\u001b[0;34m\u001b[0m\u001b[0;34m\u001b[0m\u001b[0m\n\u001b[0m\u001b[1;32m      3\u001b[0m \u001b[0meList\u001b[0m\u001b[0;34m\u001b[0m\u001b[0;34m\u001b[0m\u001b[0m\n",
      "\u001b[0;31mTypeError\u001b[0m: can only concatenate list (not \"str\") to list"
     ]
    }
   ],
   "source": [
    "# eList=[]\n",
    "eList=eList+[str(idSet_np[k])+':'+v for v in list(set(eventList[key]))]\n",
    "eList"
   ]
  },
  {
   "cell_type": "code",
   "execution_count": 52,
   "id": "0523fb53",
   "metadata": {},
   "outputs": [
    {
     "ename": "NameError",
     "evalue": "name 'eSt3_np' is not defined",
     "output_type": "error",
     "traceback": [
      "\u001b[0;31m---------------------------------------------------------------------------\u001b[0m",
      "\u001b[0;31mNameError\u001b[0m                                 Traceback (most recent call last)",
      "\u001b[0;32m/var/folders/mg/w5t8lkhc8xj79f001s7kzpfh0000gp/T/ipykernel_65633/1357889857.py\u001b[0m in \u001b[0;36m<module>\u001b[0;34m\u001b[0m\n\u001b[0;32m----> 1\u001b[0;31m \u001b[0midList\u001b[0m\u001b[0;34m=\u001b[0m\u001b[0;34m[\u001b[0m\u001b[0mint\u001b[0m\u001b[0;34m(\u001b[0m\u001b[0md\u001b[0m\u001b[0;34m)\u001b[0m \u001b[0;32mfor\u001b[0m \u001b[0md\u001b[0m \u001b[0;32min\u001b[0m \u001b[0meSt3_np\u001b[0m\u001b[0;34m[\u001b[0m\u001b[0;34m:\u001b[0m\u001b[0;34m,\u001b[0m\u001b[0;36m0\u001b[0m\u001b[0;34m]\u001b[0m\u001b[0;34m]\u001b[0m\u001b[0;34m\u001b[0m\u001b[0;34m\u001b[0m\u001b[0m\n\u001b[0m\u001b[1;32m      2\u001b[0m \u001b[0midSet\u001b[0m\u001b[0;34m=\u001b[0m\u001b[0mset\u001b[0m\u001b[0;34m(\u001b[0m\u001b[0midList\u001b[0m\u001b[0;34m)\u001b[0m\u001b[0;34m\u001b[0m\u001b[0;34m\u001b[0m\u001b[0m\n\u001b[1;32m      3\u001b[0m \u001b[0meventList\u001b[0m\u001b[0;34m=\u001b[0m\u001b[0meSt3_np\u001b[0m\u001b[0;34m[\u001b[0m\u001b[0;34m:\u001b[0m\u001b[0;34m,\u001b[0m\u001b[0;36m1\u001b[0m\u001b[0;34m]\u001b[0m\u001b[0;34m\u001b[0m\u001b[0;34m\u001b[0m\u001b[0m\n\u001b[1;32m      4\u001b[0m \u001b[0mstT\u001b[0m\u001b[0;34m=\u001b[0m\u001b[0mparse\u001b[0m\u001b[0;34m(\u001b[0m\u001b[0meSt3_np\u001b[0m\u001b[0;34m[\u001b[0m\u001b[0;36m0\u001b[0m\u001b[0;34m,\u001b[0m\u001b[0;36m2\u001b[0m\u001b[0;34m]\u001b[0m\u001b[0;34m,\u001b[0m\u001b[0mfuzzy\u001b[0m\u001b[0;34m=\u001b[0m\u001b[0;32mTrue\u001b[0m\u001b[0;34m)\u001b[0m\u001b[0;34m\u001b[0m\u001b[0;34m\u001b[0m\u001b[0m\n\u001b[1;32m      5\u001b[0m \u001b[0mtimeList\u001b[0m\u001b[0;34m=\u001b[0m\u001b[0;34m[\u001b[0m\u001b[0mparse\u001b[0m\u001b[0;34m(\u001b[0m\u001b[0mv\u001b[0m\u001b[0;34m,\u001b[0m\u001b[0mfuzzy\u001b[0m\u001b[0;34m=\u001b[0m\u001b[0;32mTrue\u001b[0m\u001b[0;34m)\u001b[0m\u001b[0;34m-\u001b[0m\u001b[0mstT\u001b[0m \u001b[0;32mfor\u001b[0m \u001b[0mv\u001b[0m \u001b[0;32min\u001b[0m \u001b[0meSt3_np\u001b[0m\u001b[0;34m[\u001b[0m\u001b[0;34m:\u001b[0m\u001b[0;34m,\u001b[0m\u001b[0;36m2\u001b[0m\u001b[0;34m]\u001b[0m\u001b[0;34m]\u001b[0m\u001b[0;34m\u001b[0m\u001b[0;34m\u001b[0m\u001b[0m\n",
      "\u001b[0;31mNameError\u001b[0m: name 'eSt3_np' is not defined"
     ]
    }
   ],
   "source": [
    "idList=[int(d) for d in eSt3_np[:,0]]\n",
    "idSet=set(idList)\n",
    "eventList=eSt3_np[:,1]\n",
    "stT=parse(eSt3_np[0,2],fuzzy=True)\n",
    "timeList=[parse(v,fuzzy=True)-stT for v in eSt3_np[:,2]]\n",
    "\n",
    "print(idList)\n",
    "print(idSet)\n",
    "idSet_np=np.array(list(idSet))\n",
    "eList=[]\n",
    "for k in range(len(idSet_np)):\n",
    "    key2=np.where(np.array(idList)==idSet_np[k])\n",
    "    eList=eList+[str(idSet_np[k])+':'+v for v in list(set(eventList[key2]))]\n",
    "\n",
    "# eList2=np.array(eList)\n",
    "print(eList)"
   ]
  },
  {
   "cell_type": "code",
   "execution_count": 53,
   "id": "5b0acc04",
   "metadata": {},
   "outputs": [
    {
     "ename": "ValueError",
     "evalue": "could not broadcast input array from shape (2,) into shape (20,7)",
     "output_type": "error",
     "traceback": [
      "\u001b[0;31m---------------------------------------------------------------------------\u001b[0m",
      "\u001b[0;31mValueError\u001b[0m                                Traceback (most recent call last)",
      "\u001b[0;32m/var/folders/mg/w5t8lkhc8xj79f001s7kzpfh0000gp/T/ipykernel_65633/1383356897.py\u001b[0m in \u001b[0;36m<module>\u001b[0;34m\u001b[0m\n\u001b[1;32m     28\u001b[0m         \u001b[0meList\u001b[0m\u001b[0;34m=\u001b[0m\u001b[0meList\u001b[0m\u001b[0;34m+\u001b[0m\u001b[0;34m[\u001b[0m\u001b[0;34m(\u001b[0m\u001b[0midSet_np\u001b[0m\u001b[0;34m[\u001b[0m\u001b[0mk\u001b[0m\u001b[0;34m]\u001b[0m\u001b[0;34m)\u001b[0m\u001b[0;34m+\u001b[0m\u001b[0;34m':'\u001b[0m\u001b[0;34m+\u001b[0m\u001b[0mv\u001b[0m \u001b[0;32mfor\u001b[0m \u001b[0mv\u001b[0m \u001b[0;32min\u001b[0m \u001b[0mlist\u001b[0m\u001b[0;34m(\u001b[0m\u001b[0mset\u001b[0m\u001b[0;34m(\u001b[0m\u001b[0meventList\u001b[0m\u001b[0;34m[\u001b[0m\u001b[0mkey2\u001b[0m\u001b[0;34m]\u001b[0m\u001b[0;34m)\u001b[0m\u001b[0;34m)\u001b[0m\u001b[0;34m]\u001b[0m\u001b[0;34m\u001b[0m\u001b[0;34m\u001b[0m\u001b[0m\n\u001b[1;32m     29\u001b[0m \u001b[0;34m\u001b[0m\u001b[0m\n\u001b[0;32m---> 30\u001b[0;31m     \u001b[0mNPdataMatL2\u001b[0m\u001b[0;34m[\u001b[0m\u001b[0mkey\u001b[0m\u001b[0;34m[\u001b[0m\u001b[0mk2\u001b[0m\u001b[0;34m]\u001b[0m\u001b[0;34m]\u001b[0m\u001b[0;34m=\u001b[0m\u001b[0meList\u001b[0m\u001b[0;34m\u001b[0m\u001b[0;34m\u001b[0m\u001b[0m\n\u001b[0m\u001b[1;32m     31\u001b[0m     \u001b[0mNPdataMat2\u001b[0m\u001b[0;34m[\u001b[0m\u001b[0mkey\u001b[0m\u001b[0;34m[\u001b[0m\u001b[0mk2\u001b[0m\u001b[0;34m]\u001b[0m\u001b[0;34m]\u001b[0m\u001b[0;34m=\u001b[0m\u001b[0mlen\u001b[0m\u001b[0;34m(\u001b[0m\u001b[0midSet_np\u001b[0m\u001b[0;34m)\u001b[0m\u001b[0;34m\u001b[0m\u001b[0;34m\u001b[0m\u001b[0m\n\u001b[1;32m     32\u001b[0m     \u001b[0;31m# eList2=np.array(eList)\u001b[0m\u001b[0;34m\u001b[0m\u001b[0;34m\u001b[0m\u001b[0m\n",
      "\u001b[0;31mValueError\u001b[0m: could not broadcast input array from shape (2,) into shape (20,7)"
     ]
    }
   ],
   "source": [
    "NPdataMatL2=np.full([len(WKst),7],['0'],dtype=object)\n",
    "NPdataMat2=np.full([len(WKst),7],0,dtype=int)\n",
    "\n",
    "makeT=lambda v: v[0]+':'+v[1]+':'+v[2]\n",
    "\n",
    "key=np.where(NPdataMatL!='0')\n",
    "# print(NPdataMatL[key])\n",
    "\n",
    "# eSt1=NPdataMatL[key][6]\n",
    "for k2 in range(len(key)):\n",
    "    eSt1=NPdataMatL[key][k2]\n",
    "    eSt2=eSt1.split(',')\n",
    "    eSt3=[re.split(':|\\(|\\)',v)[:2] +[makeT(re.split(':|\\(|\\)',v)[2:-1])] for v in eSt2]\n",
    "    eSt3_np=np.array(eSt3)\n",
    "\n",
    "    idList=[d for d in eSt3_np[:,0]]\n",
    "    idSet=set(idList)\n",
    "    eventList=eSt3_np[:,1]\n",
    "    stT=parse(eSt3_np[0,2],fuzzy=True)\n",
    "    timeList=[parse(v,fuzzy=True)-stT for v in eSt3_np[:,2]]\n",
    "\n",
    "#     print(idList)\n",
    "#     print(idSet)\n",
    "    idSet_np=np.array(list(idSet))\n",
    "    eList=[]\n",
    "    for k in range(len(idSet_np)):\n",
    "        key2=np.where(np.array(idList)==idSet_np[k])\n",
    "        eList=eList+[(idSet_np[k])+':'+v for v in list(set(eventList[key2]))]\n",
    "\n",
    "    NPdataMatL2[key[k2]]=eList\n",
    "    NPdataMat2[key[k2]]=len(idSet_np)\n",
    "    # eList2=np.array(eList)\n",
    "#     print(eList)\n",
    "NPdataMatL2"
   ]
  },
  {
   "cell_type": "code",
   "execution_count": 239,
   "id": "8fc5f963",
   "metadata": {},
   "outputs": [
    {
     "data": {
      "text/plain": [
       "(array([  0,   0,   3,   3,   3,   3,   4,   4,  17,  26,  35,  39, 223,\n",
       "        385]),\n",
       " array([4, 5, 2, 4, 5, 6, 0, 5, 2, 0, 1, 3, 4, 4]))"
      ]
     },
     "execution_count": 239,
     "metadata": {},
     "output_type": "execute_result"
    }
   ],
   "source": [
    "key"
   ]
  },
  {
   "cell_type": "code",
   "execution_count": 234,
   "id": "ac6b52a9",
   "metadata": {},
   "outputs": [
    {
     "data": {
      "text/plain": [
       "array(['0', '0', '0', '0', '0', '0', '0'], dtype=object)"
      ]
     },
     "execution_count": 234,
     "metadata": {},
     "output_type": "execute_result"
    }
   ],
   "source": [
    "k2\n",
    "NPdataMatL2[k2]"
   ]
  },
  {
   "cell_type": "code",
   "execution_count": 92,
   "id": "2d92f4c6",
   "metadata": {},
   "outputs": [
    {
     "data": {
      "text/plain": [
       "['101:修正依頼', '75:修正依頼']"
      ]
     },
     "execution_count": 92,
     "metadata": {},
     "output_type": "execute_result"
    }
   ],
   "source": [
    "eList"
   ]
  },
  {
   "cell_type": "code",
   "execution_count": 54,
   "id": "00a2f324",
   "metadata": {},
   "outputs": [
    {
     "name": "stdout",
     "output_type": "stream",
     "text": [
      "[101, 101, 75, 75, 75]\n",
      "{75, 101}\n",
      "[list(['75:修正依頼']) list(['101:修正依頼'])]\n"
     ]
    }
   ],
   "source": [
    "idList=[int(d) for d in eSt3_np[:,0]]\n",
    "idSet=set(idList)\n",
    "eventList=eSt3_np[:,1]\n",
    "stT=parse(eSt3_np[0,2],fuzzy=True)\n",
    "timeList=[parse(v,fuzzy=True)-stT for v in eSt3_np[:,2]]\n",
    "\n",
    "print(idList)\n",
    "print(idSet)\n",
    "idSet_np=np.array(list(idSet))\n",
    "eList=np.empty(len(idSet),dtype=object)\n",
    "for k in range(len(idSet_np)):\n",
    "    key=np.where(np.array(idList)==idSet_np[k])\n",
    "    eList[k]=[str(idSet_np[k])+':'+v for v in list(set(eventList[key]))]\n",
    "\n",
    "eList2=np.array(eList)\n",
    "print(eList2)"
   ]
  },
  {
   "cell_type": "code",
   "execution_count": 94,
   "id": "58546fed",
   "metadata": {},
   "outputs": [
    {
     "name": "stdout",
     "output_type": "stream",
     "text": [
      "['修正依頼' '修正依頼' '修正依頼' '修正依頼' '修正依頼']\n"
     ]
    }
   ],
   "source": [
    "eventList=eSt3_np[:,1]\n",
    "print(eventList)"
   ]
  },
  {
   "cell_type": "code",
   "execution_count": 95,
   "id": "44b724a9",
   "metadata": {},
   "outputs": [
    {
     "name": "stdout",
     "output_type": "stream",
     "text": [
      "[datetime.timedelta(0), datetime.timedelta(seconds=73), datetime.timedelta(seconds=15301), datetime.timedelta(seconds=15445), datetime.timedelta(seconds=15776)]\n"
     ]
    }
   ],
   "source": [
    "stT=parse(eSt3_np[0,2],fuzzy=True)\n",
    "timeList=[parse(v,fuzzy=True)-stT for v in eSt3_np[:,2]]\n",
    "print(timeList)\n",
    "# list(map(parse,eSt3_np[0,2]))\n",
    "# datetime.datetime(eSt3_np[:,2])"
   ]
  },
  {
   "cell_type": "code",
   "execution_count": 96,
   "id": "f904b58f",
   "metadata": {},
   "outputs": [
    {
     "ename": "IndexError",
     "evalue": "index 6 is out of bounds for axis 0 with size 2",
     "output_type": "error",
     "traceback": [
      "\u001b[0;31m---------------------------------------------------------------------------\u001b[0m",
      "\u001b[0;31mIndexError\u001b[0m                                Traceback (most recent call last)",
      "\u001b[0;32m/var/folders/mg/w5t8lkhc8xj79f001s7kzpfh0000gp/T/ipykernel_62274/1407831457.py\u001b[0m in \u001b[0;36m<module>\u001b[0;34m\u001b[0m\n\u001b[0;32m----> 1\u001b[0;31m \u001b[0meSt1\u001b[0m\u001b[0;34m=\u001b[0m\u001b[0mNPdataMatL\u001b[0m\u001b[0;34m[\u001b[0m\u001b[0mkey\u001b[0m\u001b[0;34m]\u001b[0m\u001b[0;34m[\u001b[0m\u001b[0;36m6\u001b[0m\u001b[0;34m]\u001b[0m\u001b[0;34m\u001b[0m\u001b[0;34m\u001b[0m\u001b[0m\n\u001b[0m\u001b[1;32m      2\u001b[0m \u001b[0meSt2\u001b[0m\u001b[0;34m=\u001b[0m\u001b[0meSt1\u001b[0m\u001b[0;34m.\u001b[0m\u001b[0msplit\u001b[0m\u001b[0;34m(\u001b[0m\u001b[0;34m','\u001b[0m\u001b[0;34m)\u001b[0m\u001b[0;34m\u001b[0m\u001b[0;34m\u001b[0m\u001b[0m\n\u001b[1;32m      3\u001b[0m \u001b[0;34m\u001b[0m\u001b[0m\n\u001b[1;32m      4\u001b[0m \u001b[0mmakeT\u001b[0m\u001b[0;34m=\u001b[0m\u001b[0;32mlambda\u001b[0m \u001b[0mv\u001b[0m\u001b[0;34m:\u001b[0m \u001b[0mv\u001b[0m\u001b[0;34m[\u001b[0m\u001b[0;36m0\u001b[0m\u001b[0;34m]\u001b[0m\u001b[0;34m+\u001b[0m\u001b[0;34m':'\u001b[0m\u001b[0;34m+\u001b[0m\u001b[0mv\u001b[0m\u001b[0;34m[\u001b[0m\u001b[0;36m1\u001b[0m\u001b[0;34m]\u001b[0m\u001b[0;34m+\u001b[0m\u001b[0;34m':'\u001b[0m\u001b[0;34m+\u001b[0m\u001b[0mv\u001b[0m\u001b[0;34m[\u001b[0m\u001b[0;36m2\u001b[0m\u001b[0;34m]\u001b[0m\u001b[0;34m\u001b[0m\u001b[0;34m\u001b[0m\u001b[0m\n\u001b[1;32m      5\u001b[0m \u001b[0;34m\u001b[0m\u001b[0m\n",
      "\u001b[0;31mIndexError\u001b[0m: index 6 is out of bounds for axis 0 with size 2"
     ]
    }
   ],
   "source": [
    "eSt1=NPdataMatL[key][6]\n",
    "eSt2=eSt1.split(',')\n",
    "\n",
    "makeT=lambda v: v[0]+':'+v[1]+':'+v[2]\n",
    "\n",
    "eSt3=[re.split(':|\\(|\\)',v)[:2] +[makeT(re.split(':|\\(|\\)',v)[2:-1])] for v in eSt2]\n",
    "eSt3_np=np.array(eSt3)\n",
    "eSt3_np"
   ]
  },
  {
   "cell_type": "code",
   "execution_count": 97,
   "id": "892f8945",
   "metadata": {},
   "outputs": [
    {
     "data": {
      "text/plain": [
       "False"
      ]
     },
     "execution_count": 97,
     "metadata": {},
     "output_type": "execute_result"
    }
   ],
   "source": [
    "NPdataMatL[0,1]!='0'"
   ]
  },
  {
   "cell_type": "code",
   "execution_count": 98,
   "id": "40977077",
   "metadata": {},
   "outputs": [
    {
     "data": {
      "text/plain": [
       "array([[ 0,  0,  0,  0,  5,  0,  0],\n",
       "       [29, 46,  8, 13, 19,  1, 28],\n",
       "       [14,  9, 36,  6, 16,  5,  7],\n",
       "       [ 4, 61,  0,  0,  1,  0,  0],\n",
       "       [ 0,  0,  0,  1,  0,  0,  0],\n",
       "       [ 0,  0,  0,  0,  0,  0,  0],\n",
       "       [ 0,  0,  0,  0,  0,  0,  0],\n",
       "       [ 0,  0,  0,  0,  0,  0,  0],\n",
       "       [ 0,  0,  0,  0,  0,  0,  0],\n",
       "       [ 0,  0,  0,  0,  0,  0,  0],\n",
       "       [ 0,  0,  0,  0,  0,  0,  0],\n",
       "       [ 0,  0,  0,  0,  0,  0,  0],\n",
       "       [ 0,  0,  0,  0,  0,  0,  0],\n",
       "       [ 0,  0,  0,  0,  0,  0,  0],\n",
       "       [ 0,  0,  0,  0,  0,  0,  0],\n",
       "       [ 0,  0,  0,  0,  0,  0,  0],\n",
       "       [ 0,  0,  0,  0,  0,  0,  0],\n",
       "       [ 0,  0,  0,  0,  0,  0,  0],\n",
       "       [ 0,  1,  0,  0,  0,  0,  0],\n",
       "       [ 0,  0,  0,  0,  0,  0,  0]])"
      ]
     },
     "execution_count": 98,
     "metadata": {},
     "output_type": "execute_result"
    }
   ],
   "source": [
    "NPdataMat"
   ]
  },
  {
   "cell_type": "code",
   "execution_count": null,
   "id": "954c6c83",
   "metadata": {},
   "outputs": [],
   "source": []
  },
  {
   "cell_type": "code",
   "execution_count": 55,
   "id": "6b4bf766",
   "metadata": {},
   "outputs": [
    {
     "data": {
      "text/html": [
       "<div>\n",
       "<style scoped>\n",
       "    .dataframe tbody tr th:only-of-type {\n",
       "        vertical-align: middle;\n",
       "    }\n",
       "\n",
       "    .dataframe tbody tr th {\n",
       "        vertical-align: top;\n",
       "    }\n",
       "\n",
       "    .dataframe thead th {\n",
       "        text-align: right;\n",
       "    }\n",
       "</style>\n",
       "<table border=\"1\" class=\"dataframe\">\n",
       "  <thead>\n",
       "    <tr style=\"text-align: right;\">\n",
       "      <th></th>\n",
       "      <th>Mon</th>\n",
       "      <th>Tue</th>\n",
       "      <th>Wed</th>\n",
       "      <th>Thu</th>\n",
       "      <th>Fri</th>\n",
       "      <th>Sat</th>\n",
       "      <th>Sun</th>\n",
       "    </tr>\n",
       "  </thead>\n",
       "  <tbody>\n",
       "    <tr>\n",
       "      <th>2023_6_26</th>\n",
       "      <td>0</td>\n",
       "      <td>0</td>\n",
       "      <td>0</td>\n",
       "      <td>0</td>\n",
       "      <td>101:修正依頼(18:09:29),101:修正依頼(18:10:42),75:修正依頼(...</td>\n",
       "      <td>0</td>\n",
       "      <td>0</td>\n",
       "    </tr>\n",
       "    <tr>\n",
       "      <th>2023_7_3</th>\n",
       "      <td>77:修正依頼(08:46:51),77:修正依頼(08:48:27),77:資料作成(08...</td>\n",
       "      <td>83:修正依頼(01:56:58),83:修正依頼(02:15:55),77:修正依頼(09...</td>\n",
       "      <td>79:注意項目の追加(08:32:22),72:注意項目の追加(08:44:31),83:注...</td>\n",
       "      <td>69:担当客リストの確認(08:41:35),69:顧客全体リストの確認(08:50:32)...</td>\n",
       "      <td>67:顧客面談(09:14:02),67:契約(09:14:02),67:課題解決(09:1...</td>\n",
       "      <td>101:チーム連絡帳の確認(10:55:34)</td>\n",
       "      <td>79:顧客面談(12:19:52),79:契約(12:19:52),79:課題解決(12:1...</td>\n",
       "    </tr>\n",
       "    <tr>\n",
       "      <th>2023_7_10</th>\n",
       "      <td>116:担当客リストの確認(08:17:41),65:顧客面談(08:48:01),79:課...</td>\n",
       "      <td>79:チーム連絡帳の確認(10:20:27),79:チーム連絡帳の確認(10:20:36),...</td>\n",
       "      <td>79:担当客リストの確認(08:43:54),79:顧客全体リストの確認(08:44:29)...</td>\n",
       "      <td>115:担当客リストの確認(09:14:55),115:チーム連絡帳の確認(09:15:39...</td>\n",
       "      <td>65:担当客リストの確認(11:03:00),65:チーム連絡帳の確認(11:03:35),...</td>\n",
       "      <td>77:担当客リストの確認(14:43:33),77:顧客全体リストの確認(14:46:11)...</td>\n",
       "      <td>110:担当客リストの確認(11:47:55),65:チーム連絡帳の確認(13:11:15)...</td>\n",
       "    </tr>\n",
       "    <tr>\n",
       "      <th>2023_7_17</th>\n",
       "      <td>75:顧客面談(12:02:18),75:課題解決(12:02:18),75:チーム連絡帳の...</td>\n",
       "      <td>83:担当客リストの確認(10:21:08),83:顧客全体リストの確認(10:22:19)...</td>\n",
       "      <td>0</td>\n",
       "      <td>0</td>\n",
       "      <td>65:担当客リストの確認(14:59:56)</td>\n",
       "      <td>0</td>\n",
       "      <td>0</td>\n",
       "    </tr>\n",
       "    <tr>\n",
       "      <th>2023_7_24</th>\n",
       "      <td>0</td>\n",
       "      <td>0</td>\n",
       "      <td>0</td>\n",
       "      <td>111:チーム連絡帳の確認(08:20:20)</td>\n",
       "      <td>0</td>\n",
       "      <td>0</td>\n",
       "      <td>0</td>\n",
       "    </tr>\n",
       "    <tr>\n",
       "      <th>2023_7_31</th>\n",
       "      <td>0</td>\n",
       "      <td>0</td>\n",
       "      <td>0</td>\n",
       "      <td>0</td>\n",
       "      <td>0</td>\n",
       "      <td>0</td>\n",
       "      <td>0</td>\n",
       "    </tr>\n",
       "    <tr>\n",
       "      <th>2023_8_7</th>\n",
       "      <td>0</td>\n",
       "      <td>0</td>\n",
       "      <td>0</td>\n",
       "      <td>0</td>\n",
       "      <td>0</td>\n",
       "      <td>0</td>\n",
       "      <td>0</td>\n",
       "    </tr>\n",
       "    <tr>\n",
       "      <th>2023_8_14</th>\n",
       "      <td>0</td>\n",
       "      <td>0</td>\n",
       "      <td>0</td>\n",
       "      <td>0</td>\n",
       "      <td>0</td>\n",
       "      <td>0</td>\n",
       "      <td>0</td>\n",
       "    </tr>\n",
       "    <tr>\n",
       "      <th>2023_8_21</th>\n",
       "      <td>0</td>\n",
       "      <td>0</td>\n",
       "      <td>0</td>\n",
       "      <td>0</td>\n",
       "      <td>0</td>\n",
       "      <td>0</td>\n",
       "      <td>0</td>\n",
       "    </tr>\n",
       "    <tr>\n",
       "      <th>2023_8_28</th>\n",
       "      <td>0</td>\n",
       "      <td>0</td>\n",
       "      <td>0</td>\n",
       "      <td>0</td>\n",
       "      <td>0</td>\n",
       "      <td>0</td>\n",
       "      <td>0</td>\n",
       "    </tr>\n",
       "    <tr>\n",
       "      <th>2023_9_4</th>\n",
       "      <td>0</td>\n",
       "      <td>0</td>\n",
       "      <td>0</td>\n",
       "      <td>0</td>\n",
       "      <td>0</td>\n",
       "      <td>0</td>\n",
       "      <td>0</td>\n",
       "    </tr>\n",
       "    <tr>\n",
       "      <th>2023_9_11</th>\n",
       "      <td>0</td>\n",
       "      <td>0</td>\n",
       "      <td>0</td>\n",
       "      <td>0</td>\n",
       "      <td>0</td>\n",
       "      <td>0</td>\n",
       "      <td>0</td>\n",
       "    </tr>\n",
       "    <tr>\n",
       "      <th>2023_9_18</th>\n",
       "      <td>0</td>\n",
       "      <td>0</td>\n",
       "      <td>0</td>\n",
       "      <td>0</td>\n",
       "      <td>0</td>\n",
       "      <td>0</td>\n",
       "      <td>0</td>\n",
       "    </tr>\n",
       "    <tr>\n",
       "      <th>2023_9_25</th>\n",
       "      <td>0</td>\n",
       "      <td>0</td>\n",
       "      <td>0</td>\n",
       "      <td>0</td>\n",
       "      <td>0</td>\n",
       "      <td>0</td>\n",
       "      <td>0</td>\n",
       "    </tr>\n",
       "    <tr>\n",
       "      <th>2023_10_2</th>\n",
       "      <td>0</td>\n",
       "      <td>0</td>\n",
       "      <td>0</td>\n",
       "      <td>0</td>\n",
       "      <td>0</td>\n",
       "      <td>0</td>\n",
       "      <td>0</td>\n",
       "    </tr>\n",
       "    <tr>\n",
       "      <th>2023_10_9</th>\n",
       "      <td>0</td>\n",
       "      <td>0</td>\n",
       "      <td>0</td>\n",
       "      <td>0</td>\n",
       "      <td>0</td>\n",
       "      <td>0</td>\n",
       "      <td>0</td>\n",
       "    </tr>\n",
       "    <tr>\n",
       "      <th>2023_10_16</th>\n",
       "      <td>0</td>\n",
       "      <td>0</td>\n",
       "      <td>0</td>\n",
       "      <td>0</td>\n",
       "      <td>0</td>\n",
       "      <td>0</td>\n",
       "      <td>0</td>\n",
       "    </tr>\n",
       "    <tr>\n",
       "      <th>2023_10_23</th>\n",
       "      <td>0</td>\n",
       "      <td>0</td>\n",
       "      <td>0</td>\n",
       "      <td>0</td>\n",
       "      <td>0</td>\n",
       "      <td>0</td>\n",
       "      <td>0</td>\n",
       "    </tr>\n",
       "    <tr>\n",
       "      <th>2023_10_30</th>\n",
       "      <td>0</td>\n",
       "      <td>115:チーム連絡帳の確認(11:04:53)</td>\n",
       "      <td>0</td>\n",
       "      <td>0</td>\n",
       "      <td>0</td>\n",
       "      <td>0</td>\n",
       "      <td>0</td>\n",
       "    </tr>\n",
       "    <tr>\n",
       "      <th>2023_11_5</th>\n",
       "      <td>0</td>\n",
       "      <td>0</td>\n",
       "      <td>0</td>\n",
       "      <td>0</td>\n",
       "      <td>0</td>\n",
       "      <td>0</td>\n",
       "      <td>0</td>\n",
       "    </tr>\n",
       "  </tbody>\n",
       "</table>\n",
       "</div>"
      ],
      "text/plain": [
       "                                                          Mon  \\\n",
       "2023_6_26                                                   0   \n",
       "2023_7_3    77:修正依頼(08:46:51),77:修正依頼(08:48:27),77:資料作成(08...   \n",
       "2023_7_10   116:担当客リストの確認(08:17:41),65:顧客面談(08:48:01),79:課...   \n",
       "2023_7_17   75:顧客面談(12:02:18),75:課題解決(12:02:18),75:チーム連絡帳の...   \n",
       "2023_7_24                                                   0   \n",
       "2023_7_31                                                   0   \n",
       "2023_8_7                                                    0   \n",
       "2023_8_14                                                   0   \n",
       "2023_8_21                                                   0   \n",
       "2023_8_28                                                   0   \n",
       "2023_9_4                                                    0   \n",
       "2023_9_11                                                   0   \n",
       "2023_9_18                                                   0   \n",
       "2023_9_25                                                   0   \n",
       "2023_10_2                                                   0   \n",
       "2023_10_9                                                   0   \n",
       "2023_10_16                                                  0   \n",
       "2023_10_23                                                  0   \n",
       "2023_10_30                                                  0   \n",
       "2023_11_5                                                   0   \n",
       "\n",
       "                                                          Tue  \\\n",
       "2023_6_26                                                   0   \n",
       "2023_7_3    83:修正依頼(01:56:58),83:修正依頼(02:15:55),77:修正依頼(09...   \n",
       "2023_7_10   79:チーム連絡帳の確認(10:20:27),79:チーム連絡帳の確認(10:20:36),...   \n",
       "2023_7_17   83:担当客リストの確認(10:21:08),83:顧客全体リストの確認(10:22:19)...   \n",
       "2023_7_24                                                   0   \n",
       "2023_7_31                                                   0   \n",
       "2023_8_7                                                    0   \n",
       "2023_8_14                                                   0   \n",
       "2023_8_21                                                   0   \n",
       "2023_8_28                                                   0   \n",
       "2023_9_4                                                    0   \n",
       "2023_9_11                                                   0   \n",
       "2023_9_18                                                   0   \n",
       "2023_9_25                                                   0   \n",
       "2023_10_2                                                   0   \n",
       "2023_10_9                                                   0   \n",
       "2023_10_16                                                  0   \n",
       "2023_10_23                                                  0   \n",
       "2023_10_30                            115:チーム連絡帳の確認(11:04:53)   \n",
       "2023_11_5                                                   0   \n",
       "\n",
       "                                                          Wed  \\\n",
       "2023_6_26                                                   0   \n",
       "2023_7_3    79:注意項目の追加(08:32:22),72:注意項目の追加(08:44:31),83:注...   \n",
       "2023_7_10   79:担当客リストの確認(08:43:54),79:顧客全体リストの確認(08:44:29)...   \n",
       "2023_7_17                                                   0   \n",
       "2023_7_24                                                   0   \n",
       "2023_7_31                                                   0   \n",
       "2023_8_7                                                    0   \n",
       "2023_8_14                                                   0   \n",
       "2023_8_21                                                   0   \n",
       "2023_8_28                                                   0   \n",
       "2023_9_4                                                    0   \n",
       "2023_9_11                                                   0   \n",
       "2023_9_18                                                   0   \n",
       "2023_9_25                                                   0   \n",
       "2023_10_2                                                   0   \n",
       "2023_10_9                                                   0   \n",
       "2023_10_16                                                  0   \n",
       "2023_10_23                                                  0   \n",
       "2023_10_30                                                  0   \n",
       "2023_11_5                                                   0   \n",
       "\n",
       "                                                          Thu  \\\n",
       "2023_6_26                                                   0   \n",
       "2023_7_3    69:担当客リストの確認(08:41:35),69:顧客全体リストの確認(08:50:32)...   \n",
       "2023_7_10   115:担当客リストの確認(09:14:55),115:チーム連絡帳の確認(09:15:39...   \n",
       "2023_7_17                                                   0   \n",
       "2023_7_24                             111:チーム連絡帳の確認(08:20:20)   \n",
       "2023_7_31                                                   0   \n",
       "2023_8_7                                                    0   \n",
       "2023_8_14                                                   0   \n",
       "2023_8_21                                                   0   \n",
       "2023_8_28                                                   0   \n",
       "2023_9_4                                                    0   \n",
       "2023_9_11                                                   0   \n",
       "2023_9_18                                                   0   \n",
       "2023_9_25                                                   0   \n",
       "2023_10_2                                                   0   \n",
       "2023_10_9                                                   0   \n",
       "2023_10_16                                                  0   \n",
       "2023_10_23                                                  0   \n",
       "2023_10_30                                                  0   \n",
       "2023_11_5                                                   0   \n",
       "\n",
       "                                                          Fri  \\\n",
       "2023_6_26   101:修正依頼(18:09:29),101:修正依頼(18:10:42),75:修正依頼(...   \n",
       "2023_7_3    67:顧客面談(09:14:02),67:契約(09:14:02),67:課題解決(09:1...   \n",
       "2023_7_10   65:担当客リストの確認(11:03:00),65:チーム連絡帳の確認(11:03:35),...   \n",
       "2023_7_17                              65:担当客リストの確認(14:59:56)   \n",
       "2023_7_24                                                   0   \n",
       "2023_7_31                                                   0   \n",
       "2023_8_7                                                    0   \n",
       "2023_8_14                                                   0   \n",
       "2023_8_21                                                   0   \n",
       "2023_8_28                                                   0   \n",
       "2023_9_4                                                    0   \n",
       "2023_9_11                                                   0   \n",
       "2023_9_18                                                   0   \n",
       "2023_9_25                                                   0   \n",
       "2023_10_2                                                   0   \n",
       "2023_10_9                                                   0   \n",
       "2023_10_16                                                  0   \n",
       "2023_10_23                                                  0   \n",
       "2023_10_30                                                  0   \n",
       "2023_11_5                                                   0   \n",
       "\n",
       "                                                          Sat  \\\n",
       "2023_6_26                                                   0   \n",
       "2023_7_3                              101:チーム連絡帳の確認(10:55:34)   \n",
       "2023_7_10   77:担当客リストの確認(14:43:33),77:顧客全体リストの確認(14:46:11)...   \n",
       "2023_7_17                                                   0   \n",
       "2023_7_24                                                   0   \n",
       "2023_7_31                                                   0   \n",
       "2023_8_7                                                    0   \n",
       "2023_8_14                                                   0   \n",
       "2023_8_21                                                   0   \n",
       "2023_8_28                                                   0   \n",
       "2023_9_4                                                    0   \n",
       "2023_9_11                                                   0   \n",
       "2023_9_18                                                   0   \n",
       "2023_9_25                                                   0   \n",
       "2023_10_2                                                   0   \n",
       "2023_10_9                                                   0   \n",
       "2023_10_16                                                  0   \n",
       "2023_10_23                                                  0   \n",
       "2023_10_30                                                  0   \n",
       "2023_11_5                                                   0   \n",
       "\n",
       "                                                          Sun  \n",
       "2023_6_26                                                   0  \n",
       "2023_7_3    79:顧客面談(12:19:52),79:契約(12:19:52),79:課題解決(12:1...  \n",
       "2023_7_10   110:担当客リストの確認(11:47:55),65:チーム連絡帳の確認(13:11:15)...  \n",
       "2023_7_17                                                   0  \n",
       "2023_7_24                                                   0  \n",
       "2023_7_31                                                   0  \n",
       "2023_8_7                                                    0  \n",
       "2023_8_14                                                   0  \n",
       "2023_8_21                                                   0  \n",
       "2023_8_28                                                   0  \n",
       "2023_9_4                                                    0  \n",
       "2023_9_11                                                   0  \n",
       "2023_9_18                                                   0  \n",
       "2023_9_25                                                   0  \n",
       "2023_10_2                                                   0  \n",
       "2023_10_9                                                   0  \n",
       "2023_10_16                                                  0  \n",
       "2023_10_23                                                  0  \n",
       "2023_10_30                                                  0  \n",
       "2023_11_5                                                   0  "
      ]
     },
     "metadata": {},
     "output_type": "display_data"
    }
   ],
   "source": [
    "MondayList=[str(d.year)+'_'+str(d.month)+'_'+str(d.day) for d in WKst]\n",
    "\n",
    "df_CEP = pd.DataFrame(NPdataMatL, index=MondayList,columns = ['Mon','Tue','Wed','Thu','Fri','Sat','Sun'])\n",
    "display(df_CEP)\n",
    "df_CEP.to_csv('df_CEP.csv',encoding='shift-jis')"
   ]
  },
  {
   "cell_type": "code",
   "execution_count": null,
   "id": "ae2e5552",
   "metadata": {},
   "outputs": [],
   "source": []
  },
  {
   "cell_type": "code",
   "execution_count": 39,
   "id": "3cf02762",
   "metadata": {},
   "outputs": [
    {
     "data": {
      "text/plain": [
       "387"
      ]
     },
     "execution_count": 39,
     "metadata": {},
     "output_type": "execute_result"
    }
   ],
   "source": [
    "len(keyWK)"
   ]
  },
  {
   "cell_type": "code",
   "execution_count": 40,
   "id": "f08c8713",
   "metadata": {},
   "outputs": [
    {
     "data": {
      "text/plain": [
       "datetime.timedelta(days=2701)"
      ]
     },
     "execution_count": 40,
     "metadata": {},
     "output_type": "execute_result"
    }
   ],
   "source": [
    "TotalDays"
   ]
  },
  {
   "cell_type": "code",
   "execution_count": 54,
   "id": "4e0b3f80",
   "metadata": {},
   "outputs": [
    {
     "data": {
      "text/plain": [
       "'2015_5_25'"
      ]
     },
     "execution_count": 54,
     "metadata": {},
     "output_type": "execute_result"
    }
   ],
   "source": [
    "a=str(WKst[1].year)+'_'+str(WKst[1].month)+'_'+str(WKst[1].day)\n",
    "a\n",
    "# a[1]"
   ]
  },
  {
   "cell_type": "code",
   "execution_count": 55,
   "id": "089927aa",
   "metadata": {},
   "outputs": [
    {
     "data": {
      "text/plain": [
       "['2015_5_18',\n",
       " '2015_5_25',\n",
       " '2015_6_1',\n",
       " '2015_6_8',\n",
       " '2015_6_15',\n",
       " '2015_6_22',\n",
       " '2015_6_29',\n",
       " '2015_7_6',\n",
       " '2015_7_13',\n",
       " '2015_7_20',\n",
       " '2015_7_27',\n",
       " '2015_8_3',\n",
       " '2015_8_10',\n",
       " '2015_8_17',\n",
       " '2015_8_24',\n",
       " '2015_8_31',\n",
       " '2015_9_7',\n",
       " '2015_9_14',\n",
       " '2015_9_21',\n",
       " '2015_9_28',\n",
       " '2015_10_5',\n",
       " '2015_10_12',\n",
       " '2015_10_19',\n",
       " '2015_10_26',\n",
       " '2015_11_2',\n",
       " '2015_11_9',\n",
       " '2015_11_16',\n",
       " '2015_11_23',\n",
       " '2015_11_30',\n",
       " '2015_12_7',\n",
       " '2015_12_14',\n",
       " '2015_12_21',\n",
       " '2015_12_28',\n",
       " '2016_1_4',\n",
       " '2016_1_11',\n",
       " '2016_1_18',\n",
       " '2016_1_25',\n",
       " '2016_2_1',\n",
       " '2016_2_8',\n",
       " '2016_2_15',\n",
       " '2016_2_22',\n",
       " '2016_2_29',\n",
       " '2016_3_7',\n",
       " '2016_3_14',\n",
       " '2016_3_21',\n",
       " '2016_3_28',\n",
       " '2016_4_4',\n",
       " '2016_4_11',\n",
       " '2016_4_18',\n",
       " '2016_4_25',\n",
       " '2016_5_2',\n",
       " '2016_5_9',\n",
       " '2016_5_16',\n",
       " '2016_5_23',\n",
       " '2016_5_30',\n",
       " '2016_6_6',\n",
       " '2016_6_13',\n",
       " '2016_6_20',\n",
       " '2016_6_27',\n",
       " '2016_7_4',\n",
       " '2016_7_11',\n",
       " '2016_7_18',\n",
       " '2016_7_25',\n",
       " '2016_8_1',\n",
       " '2016_8_8',\n",
       " '2016_8_15',\n",
       " '2016_8_22',\n",
       " '2016_8_29',\n",
       " '2016_9_5',\n",
       " '2016_9_12',\n",
       " '2016_9_19',\n",
       " '2016_9_26',\n",
       " '2016_10_3',\n",
       " '2016_10_10',\n",
       " '2016_10_17',\n",
       " '2016_10_24',\n",
       " '2016_10_31',\n",
       " '2016_11_7',\n",
       " '2016_11_14',\n",
       " '2016_11_21',\n",
       " '2016_11_28',\n",
       " '2016_12_5',\n",
       " '2016_12_12',\n",
       " '2016_12_19',\n",
       " '2016_12_26',\n",
       " '2017_1_2',\n",
       " '2017_1_9',\n",
       " '2017_1_16',\n",
       " '2017_1_23',\n",
       " '2017_1_30',\n",
       " '2017_2_6',\n",
       " '2017_2_13',\n",
       " '2017_2_20',\n",
       " '2017_2_27',\n",
       " '2017_3_6',\n",
       " '2017_3_13',\n",
       " '2017_3_20',\n",
       " '2017_3_27',\n",
       " '2017_4_3',\n",
       " '2017_4_10',\n",
       " '2017_4_17',\n",
       " '2017_4_24',\n",
       " '2017_5_1',\n",
       " '2017_5_8',\n",
       " '2017_5_15',\n",
       " '2017_5_22',\n",
       " '2017_5_29',\n",
       " '2017_6_5',\n",
       " '2017_6_12',\n",
       " '2017_6_19',\n",
       " '2017_6_26',\n",
       " '2017_7_3',\n",
       " '2017_7_10',\n",
       " '2017_7_17',\n",
       " '2017_7_24',\n",
       " '2017_7_31',\n",
       " '2017_8_7',\n",
       " '2017_8_14',\n",
       " '2017_8_21',\n",
       " '2017_8_28',\n",
       " '2017_9_4',\n",
       " '2017_9_11',\n",
       " '2017_9_18',\n",
       " '2017_9_25',\n",
       " '2017_10_2',\n",
       " '2017_10_9',\n",
       " '2017_10_16',\n",
       " '2017_10_23',\n",
       " '2017_10_30',\n",
       " '2017_11_6',\n",
       " '2017_11_13',\n",
       " '2017_11_20',\n",
       " '2017_11_27',\n",
       " '2017_12_4',\n",
       " '2017_12_11',\n",
       " '2017_12_18',\n",
       " '2017_12_25',\n",
       " '2018_1_1',\n",
       " '2018_1_8',\n",
       " '2018_1_15',\n",
       " '2018_1_22',\n",
       " '2018_1_29',\n",
       " '2018_2_5',\n",
       " '2018_2_12',\n",
       " '2018_2_19',\n",
       " '2018_2_26',\n",
       " '2018_3_5',\n",
       " '2018_3_12',\n",
       " '2018_3_19',\n",
       " '2018_3_26',\n",
       " '2018_4_2',\n",
       " '2018_4_9',\n",
       " '2018_4_16',\n",
       " '2018_4_23',\n",
       " '2018_4_30',\n",
       " '2018_5_7',\n",
       " '2018_5_14',\n",
       " '2018_5_21',\n",
       " '2018_5_28',\n",
       " '2018_6_4',\n",
       " '2018_6_11',\n",
       " '2018_6_18',\n",
       " '2018_6_25',\n",
       " '2018_7_2',\n",
       " '2018_7_9',\n",
       " '2018_7_16',\n",
       " '2018_7_23',\n",
       " '2018_7_30',\n",
       " '2018_8_6',\n",
       " '2018_8_13',\n",
       " '2018_8_20',\n",
       " '2018_8_27',\n",
       " '2018_9_3',\n",
       " '2018_9_10',\n",
       " '2018_9_17',\n",
       " '2018_9_24',\n",
       " '2018_10_1',\n",
       " '2018_10_8',\n",
       " '2018_10_15',\n",
       " '2018_10_22',\n",
       " '2018_10_29',\n",
       " '2018_11_5',\n",
       " '2018_11_12',\n",
       " '2018_11_19',\n",
       " '2018_11_26',\n",
       " '2018_12_3',\n",
       " '2018_12_10',\n",
       " '2018_12_17',\n",
       " '2018_12_24',\n",
       " '2018_12_31',\n",
       " '2019_1_7',\n",
       " '2019_1_14',\n",
       " '2019_1_21',\n",
       " '2019_1_28',\n",
       " '2019_2_4',\n",
       " '2019_2_11',\n",
       " '2019_2_18',\n",
       " '2019_2_25',\n",
       " '2019_3_4',\n",
       " '2019_3_11',\n",
       " '2019_3_18',\n",
       " '2019_3_25',\n",
       " '2019_4_1',\n",
       " '2019_4_8',\n",
       " '2019_4_15',\n",
       " '2019_4_22',\n",
       " '2019_4_29',\n",
       " '2019_5_6',\n",
       " '2019_5_13',\n",
       " '2019_5_20',\n",
       " '2019_5_27',\n",
       " '2019_6_3',\n",
       " '2019_6_10',\n",
       " '2019_6_17',\n",
       " '2019_6_24',\n",
       " '2019_7_1',\n",
       " '2019_7_8',\n",
       " '2019_7_15',\n",
       " '2019_7_22',\n",
       " '2019_7_29',\n",
       " '2019_8_5',\n",
       " '2019_8_12',\n",
       " '2019_8_19',\n",
       " '2019_8_26',\n",
       " '2019_9_2',\n",
       " '2019_9_9',\n",
       " '2019_9_16',\n",
       " '2019_9_23',\n",
       " '2019_9_30',\n",
       " '2019_10_7',\n",
       " '2019_10_14',\n",
       " '2019_10_21',\n",
       " '2019_10_28',\n",
       " '2019_11_4',\n",
       " '2019_11_11',\n",
       " '2019_11_18',\n",
       " '2019_11_25',\n",
       " '2019_12_2',\n",
       " '2019_12_9',\n",
       " '2019_12_16',\n",
       " '2019_12_23',\n",
       " '2019_12_30',\n",
       " '2020_1_6',\n",
       " '2020_1_13',\n",
       " '2020_1_20',\n",
       " '2020_1_27',\n",
       " '2020_2_3',\n",
       " '2020_2_10',\n",
       " '2020_2_17',\n",
       " '2020_2_24',\n",
       " '2020_3_2',\n",
       " '2020_3_9',\n",
       " '2020_3_16',\n",
       " '2020_3_23',\n",
       " '2020_3_30',\n",
       " '2020_4_6',\n",
       " '2020_4_13',\n",
       " '2020_4_20',\n",
       " '2020_4_27',\n",
       " '2020_5_4',\n",
       " '2020_5_11',\n",
       " '2020_5_18',\n",
       " '2020_5_25',\n",
       " '2020_6_1',\n",
       " '2020_6_8',\n",
       " '2020_6_15',\n",
       " '2020_6_22',\n",
       " '2020_6_29',\n",
       " '2020_7_6',\n",
       " '2020_7_13',\n",
       " '2020_7_20',\n",
       " '2020_7_27',\n",
       " '2020_8_3',\n",
       " '2020_8_10',\n",
       " '2020_8_17',\n",
       " '2020_8_24',\n",
       " '2020_8_31',\n",
       " '2020_9_7',\n",
       " '2020_9_14',\n",
       " '2020_9_21',\n",
       " '2020_9_28',\n",
       " '2020_10_5',\n",
       " '2020_10_12',\n",
       " '2020_10_19',\n",
       " '2020_10_26',\n",
       " '2020_11_2',\n",
       " '2020_11_9',\n",
       " '2020_11_16',\n",
       " '2020_11_23',\n",
       " '2020_11_30',\n",
       " '2020_12_7',\n",
       " '2020_12_14',\n",
       " '2020_12_21',\n",
       " '2020_12_28',\n",
       " '2021_1_4',\n",
       " '2021_1_11',\n",
       " '2021_1_18',\n",
       " '2021_1_25',\n",
       " '2021_2_1',\n",
       " '2021_2_8',\n",
       " '2021_2_15',\n",
       " '2021_2_22',\n",
       " '2021_3_1',\n",
       " '2021_3_8',\n",
       " '2021_3_15',\n",
       " '2021_3_22',\n",
       " '2021_3_29',\n",
       " '2021_4_5',\n",
       " '2021_4_12',\n",
       " '2021_4_19',\n",
       " '2021_4_26',\n",
       " '2021_5_3',\n",
       " '2021_5_10',\n",
       " '2021_5_17',\n",
       " '2021_5_24',\n",
       " '2021_5_31',\n",
       " '2021_6_7',\n",
       " '2021_6_14',\n",
       " '2021_6_21',\n",
       " '2021_6_28',\n",
       " '2021_7_5',\n",
       " '2021_7_12',\n",
       " '2021_7_19',\n",
       " '2021_7_26',\n",
       " '2021_8_2',\n",
       " '2021_8_9',\n",
       " '2021_8_16',\n",
       " '2021_8_23',\n",
       " '2021_8_30',\n",
       " '2021_9_6',\n",
       " '2021_9_13',\n",
       " '2021_9_20',\n",
       " '2021_9_27',\n",
       " '2021_10_4',\n",
       " '2021_10_11',\n",
       " '2021_10_18',\n",
       " '2021_10_25',\n",
       " '2021_11_1',\n",
       " '2021_11_8',\n",
       " '2021_11_15',\n",
       " '2021_11_22',\n",
       " '2021_11_29',\n",
       " '2021_12_6',\n",
       " '2021_12_13',\n",
       " '2021_12_20',\n",
       " '2021_12_27',\n",
       " '2022_1_3',\n",
       " '2022_1_10',\n",
       " '2022_1_17',\n",
       " '2022_1_24',\n",
       " '2022_1_31',\n",
       " '2022_2_7',\n",
       " '2022_2_14',\n",
       " '2022_2_21',\n",
       " '2022_2_28',\n",
       " '2022_3_7',\n",
       " '2022_3_14',\n",
       " '2022_3_21',\n",
       " '2022_3_28',\n",
       " '2022_4_4',\n",
       " '2022_4_11',\n",
       " '2022_4_18',\n",
       " '2022_4_25',\n",
       " '2022_5_2',\n",
       " '2022_5_9',\n",
       " '2022_5_16',\n",
       " '2022_5_23',\n",
       " '2022_5_30',\n",
       " '2022_6_6',\n",
       " '2022_6_13',\n",
       " '2022_6_20',\n",
       " '2022_6_27',\n",
       " '2022_7_4',\n",
       " '2022_7_11',\n",
       " '2022_7_18',\n",
       " '2022_7_25',\n",
       " '2022_8_1',\n",
       " '2022_8_8',\n",
       " '2022_8_15',\n",
       " '2022_8_22',\n",
       " '2022_8_29',\n",
       " '2022_9_5',\n",
       " '2022_9_12',\n",
       " '2022_9_19',\n",
       " '2022_9_26',\n",
       " '2022_10_3',\n",
       " '2022_10_9']"
      ]
     },
     "execution_count": 55,
     "metadata": {},
     "output_type": "execute_result"
    }
   ],
   "source": [
    "[str(d.year)+'_'+str(d.month)+'_'+str(d.day) for d in WKst]"
   ]
  },
  {
   "cell_type": "code",
   "execution_count": 57,
   "id": "eae7ba52",
   "metadata": {},
   "outputs": [
    {
     "data": {
      "text/plain": [
       "datetime.datetime(2015, 6, 10, 14, 46, 9)"
      ]
     },
     "metadata": {},
     "output_type": "display_data"
    },
    {
     "data": {
      "text/plain": [
       "datetime.datetime(2015, 6, 10, 14, 46, 9)"
      ]
     },
     "metadata": {},
     "output_type": "display_data"
    },
    {
     "data": {
      "text/plain": [
       "datetime.datetime(2015, 6, 10, 14, 46, 9)"
      ]
     },
     "metadata": {},
     "output_type": "display_data"
    },
    {
     "data": {
      "text/plain": [
       "datetime.datetime(2015, 6, 10, 14, 46, 9)"
      ]
     },
     "metadata": {},
     "output_type": "display_data"
    },
    {
     "data": {
      "text/plain": [
       "datetime.datetime(2015, 6, 10, 14, 46, 9)"
      ]
     },
     "metadata": {},
     "output_type": "display_data"
    },
    {
     "data": {
      "text/plain": [
       "datetime.datetime(2015, 6, 10, 14, 46, 12)"
      ]
     },
     "metadata": {},
     "output_type": "display_data"
    },
    {
     "data": {
      "text/plain": [
       "datetime.datetime(2015, 6, 10, 14, 46, 12)"
      ]
     },
     "metadata": {},
     "output_type": "display_data"
    },
    {
     "data": {
      "text/plain": [
       "datetime.datetime(2015, 6, 10, 14, 46, 14)"
      ]
     },
     "metadata": {},
     "output_type": "display_data"
    },
    {
     "data": {
      "text/plain": [
       "datetime.datetime(2015, 6, 10, 14, 46, 14)"
      ]
     },
     "metadata": {},
     "output_type": "display_data"
    },
    {
     "data": {
      "text/plain": [
       "datetime.datetime(2015, 6, 10, 14, 46, 14)"
      ]
     },
     "metadata": {},
     "output_type": "display_data"
    },
    {
     "data": {
      "text/plain": [
       "datetime.datetime(2015, 6, 10, 14, 46, 16)"
      ]
     },
     "metadata": {},
     "output_type": "display_data"
    },
    {
     "data": {
      "text/plain": [
       "datetime.datetime(2015, 6, 10, 14, 46, 16)"
      ]
     },
     "metadata": {},
     "output_type": "display_data"
    },
    {
     "data": {
      "text/plain": [
       "datetime.datetime(2015, 6, 10, 14, 46, 16)"
      ]
     },
     "metadata": {},
     "output_type": "display_data"
    },
    {
     "data": {
      "text/plain": [
       "datetime.datetime(2015, 6, 10, 14, 46, 18)"
      ]
     },
     "metadata": {},
     "output_type": "display_data"
    },
    {
     "data": {
      "text/plain": [
       "datetime.datetime(2015, 6, 10, 14, 46, 18)"
      ]
     },
     "metadata": {},
     "output_type": "display_data"
    },
    {
     "data": {
      "text/plain": [
       "datetime.datetime(2015, 6, 10, 14, 46, 19)"
      ]
     },
     "metadata": {},
     "output_type": "display_data"
    },
    {
     "data": {
      "text/plain": [
       "datetime.datetime(2015, 6, 10, 14, 46, 19)"
      ]
     },
     "metadata": {},
     "output_type": "display_data"
    },
    {
     "data": {
      "text/plain": [
       "datetime.datetime(2015, 6, 10, 14, 46, 19)"
      ]
     },
     "metadata": {},
     "output_type": "display_data"
    },
    {
     "data": {
      "text/plain": [
       "datetime.datetime(2015, 6, 10, 14, 46, 19)"
      ]
     },
     "metadata": {},
     "output_type": "display_data"
    },
    {
     "data": {
      "text/plain": [
       "datetime.datetime(2015, 6, 10, 14, 46, 19)"
      ]
     },
     "metadata": {},
     "output_type": "display_data"
    },
    {
     "data": {
      "text/plain": [
       "datetime.datetime(2015, 6, 10, 14, 46, 19)"
      ]
     },
     "metadata": {},
     "output_type": "display_data"
    },
    {
     "data": {
      "text/plain": [
       "datetime.datetime(2015, 6, 10, 14, 46, 19)"
      ]
     },
     "metadata": {},
     "output_type": "display_data"
    },
    {
     "data": {
      "text/plain": [
       "datetime.datetime(2015, 6, 10, 14, 46, 19)"
      ]
     },
     "metadata": {},
     "output_type": "display_data"
    },
    {
     "data": {
      "text/plain": [
       "datetime.datetime(2015, 6, 10, 14, 46, 19)"
      ]
     },
     "metadata": {},
     "output_type": "display_data"
    },
    {
     "data": {
      "text/plain": [
       "datetime.datetime(2015, 6, 10, 14, 46, 19)"
      ]
     },
     "metadata": {},
     "output_type": "display_data"
    },
    {
     "data": {
      "text/plain": [
       "datetime.datetime(2015, 6, 10, 14, 46, 19)"
      ]
     },
     "metadata": {},
     "output_type": "display_data"
    },
    {
     "data": {
      "text/plain": [
       "datetime.datetime(2015, 6, 10, 14, 46, 19)"
      ]
     },
     "metadata": {},
     "output_type": "display_data"
    },
    {
     "data": {
      "text/plain": [
       "datetime.datetime(2015, 6, 10, 14, 46, 19)"
      ]
     },
     "metadata": {},
     "output_type": "display_data"
    },
    {
     "data": {
      "text/plain": [
       "datetime.datetime(2015, 6, 10, 14, 46, 20)"
      ]
     },
     "metadata": {},
     "output_type": "display_data"
    },
    {
     "data": {
      "text/plain": [
       "datetime.datetime(2015, 6, 10, 14, 46, 20)"
      ]
     },
     "metadata": {},
     "output_type": "display_data"
    },
    {
     "data": {
      "text/plain": [
       "datetime.datetime(2015, 6, 10, 14, 46, 21)"
      ]
     },
     "metadata": {},
     "output_type": "display_data"
    },
    {
     "data": {
      "text/plain": [
       "datetime.datetime(2015, 6, 10, 14, 46, 21)"
      ]
     },
     "metadata": {},
     "output_type": "display_data"
    },
    {
     "data": {
      "text/plain": [
       "datetime.datetime(2015, 6, 10, 14, 46, 21)"
      ]
     },
     "metadata": {},
     "output_type": "display_data"
    },
    {
     "data": {
      "text/plain": [
       "datetime.datetime(2015, 6, 10, 14, 46, 21)"
      ]
     },
     "metadata": {},
     "output_type": "display_data"
    },
    {
     "data": {
      "text/plain": [
       "datetime.datetime(2015, 6, 10, 14, 46, 21)"
      ]
     },
     "metadata": {},
     "output_type": "display_data"
    },
    {
     "data": {
      "text/plain": [
       "datetime.datetime(2015, 6, 10, 14, 46, 21)"
      ]
     },
     "metadata": {},
     "output_type": "display_data"
    },
    {
     "data": {
      "text/plain": [
       "datetime.datetime(2015, 6, 10, 14, 46, 23)"
      ]
     },
     "metadata": {},
     "output_type": "display_data"
    },
    {
     "data": {
      "text/plain": [
       "datetime.datetime(2015, 6, 10, 14, 46, 23)"
      ]
     },
     "metadata": {},
     "output_type": "display_data"
    },
    {
     "data": {
      "text/plain": [
       "datetime.datetime(2015, 6, 10, 14, 46, 23)"
      ]
     },
     "metadata": {},
     "output_type": "display_data"
    },
    {
     "data": {
      "text/plain": [
       "datetime.datetime(2015, 6, 10, 14, 46, 23)"
      ]
     },
     "metadata": {},
     "output_type": "display_data"
    },
    {
     "data": {
      "text/plain": [
       "datetime.datetime(2015, 6, 10, 14, 46, 23)"
      ]
     },
     "metadata": {},
     "output_type": "display_data"
    },
    {
     "data": {
      "text/plain": [
       "datetime.datetime(2015, 6, 10, 14, 46, 23)"
      ]
     },
     "metadata": {},
     "output_type": "display_data"
    },
    {
     "data": {
      "text/plain": [
       "datetime.datetime(2015, 6, 10, 14, 46, 24)"
      ]
     },
     "metadata": {},
     "output_type": "display_data"
    },
    {
     "data": {
      "text/plain": [
       "datetime.datetime(2015, 6, 10, 14, 46, 24)"
      ]
     },
     "metadata": {},
     "output_type": "display_data"
    },
    {
     "data": {
      "text/plain": [
       "datetime.datetime(2015, 6, 10, 14, 46, 24)"
      ]
     },
     "metadata": {},
     "output_type": "display_data"
    },
    {
     "data": {
      "text/plain": [
       "datetime.datetime(2015, 6, 10, 14, 46, 24)"
      ]
     },
     "metadata": {},
     "output_type": "display_data"
    },
    {
     "data": {
      "text/plain": [
       "datetime.datetime(2015, 6, 10, 14, 46, 24)"
      ]
     },
     "metadata": {},
     "output_type": "display_data"
    },
    {
     "data": {
      "text/plain": [
       "datetime.datetime(2015, 6, 10, 14, 46, 31)"
      ]
     },
     "metadata": {},
     "output_type": "display_data"
    },
    {
     "data": {
      "text/plain": [
       "datetime.datetime(2015, 6, 10, 14, 46, 31)"
      ]
     },
     "metadata": {},
     "output_type": "display_data"
    },
    {
     "data": {
      "text/plain": [
       "datetime.datetime(2015, 6, 10, 14, 46, 31)"
      ]
     },
     "metadata": {},
     "output_type": "display_data"
    },
    {
     "data": {
      "text/plain": [
       "datetime.datetime(2015, 6, 10, 14, 46, 36)"
      ]
     },
     "metadata": {},
     "output_type": "display_data"
    },
    {
     "data": {
      "text/plain": [
       "datetime.datetime(2015, 6, 10, 14, 46, 36)"
      ]
     },
     "metadata": {},
     "output_type": "display_data"
    },
    {
     "data": {
      "text/plain": [
       "datetime.datetime(2015, 6, 10, 14, 46, 36)"
      ]
     },
     "metadata": {},
     "output_type": "display_data"
    },
    {
     "data": {
      "text/plain": [
       "datetime.datetime(2015, 6, 10, 14, 46, 38)"
      ]
     },
     "metadata": {},
     "output_type": "display_data"
    },
    {
     "data": {
      "text/plain": [
       "datetime.datetime(2015, 6, 10, 14, 46, 38)"
      ]
     },
     "metadata": {},
     "output_type": "display_data"
    },
    {
     "data": {
      "text/plain": [
       "datetime.datetime(2015, 6, 10, 14, 46, 38)"
      ]
     },
     "metadata": {},
     "output_type": "display_data"
    },
    {
     "data": {
      "text/plain": [
       "datetime.datetime(2015, 6, 10, 14, 46, 41)"
      ]
     },
     "metadata": {},
     "output_type": "display_data"
    },
    {
     "data": {
      "text/plain": [
       "datetime.datetime(2015, 6, 10, 14, 46, 41)"
      ]
     },
     "metadata": {},
     "output_type": "display_data"
    },
    {
     "data": {
      "text/plain": [
       "datetime.datetime(2015, 6, 10, 14, 46, 50)"
      ]
     },
     "metadata": {},
     "output_type": "display_data"
    },
    {
     "data": {
      "text/plain": [
       "datetime.datetime(2015, 6, 10, 14, 46, 50)"
      ]
     },
     "metadata": {},
     "output_type": "display_data"
    },
    {
     "data": {
      "text/plain": [
       "datetime.datetime(2015, 6, 10, 14, 46, 50)"
      ]
     },
     "metadata": {},
     "output_type": "display_data"
    },
    {
     "data": {
      "text/plain": [
       "datetime.datetime(2015, 6, 10, 14, 50, 22)"
      ]
     },
     "metadata": {},
     "output_type": "display_data"
    },
    {
     "data": {
      "text/plain": [
       "datetime.datetime(2015, 6, 10, 14, 50, 22)"
      ]
     },
     "metadata": {},
     "output_type": "display_data"
    },
    {
     "data": {
      "text/plain": [
       "datetime.datetime(2015, 6, 10, 14, 50, 22)"
      ]
     },
     "metadata": {},
     "output_type": "display_data"
    },
    {
     "data": {
      "text/plain": [
       "datetime.datetime(2015, 6, 10, 14, 56, 38)"
      ]
     },
     "metadata": {},
     "output_type": "display_data"
    },
    {
     "data": {
      "text/plain": [
       "datetime.datetime(2015, 6, 10, 14, 56, 38)"
      ]
     },
     "metadata": {},
     "output_type": "display_data"
    },
    {
     "data": {
      "text/plain": [
       "datetime.datetime(2015, 6, 10, 14, 56, 38)"
      ]
     },
     "metadata": {},
     "output_type": "display_data"
    },
    {
     "data": {
      "text/plain": [
       "datetime.datetime(2015, 6, 13, 20, 3, 4)"
      ]
     },
     "metadata": {},
     "output_type": "display_data"
    },
    {
     "data": {
      "text/plain": [
       "datetime.datetime(2015, 6, 14, 0, 28, 49)"
      ]
     },
     "metadata": {},
     "output_type": "display_data"
    },
    {
     "data": {
      "text/plain": [
       "datetime.datetime(2015, 6, 14, 0, 28, 50)"
      ]
     },
     "metadata": {},
     "output_type": "display_data"
    },
    {
     "data": {
      "text/plain": [
       "datetime.datetime(2015, 6, 14, 0, 28, 50)"
      ]
     },
     "metadata": {},
     "output_type": "display_data"
    },
    {
     "data": {
      "text/plain": [
       "datetime.datetime(2015, 6, 14, 0, 28, 50)"
      ]
     },
     "metadata": {},
     "output_type": "display_data"
    },
    {
     "data": {
      "text/plain": [
       "datetime.datetime(2015, 6, 14, 0, 28, 50)"
      ]
     },
     "metadata": {},
     "output_type": "display_data"
    },
    {
     "data": {
      "text/plain": [
       "datetime.datetime(2015, 6, 14, 0, 28, 50)"
      ]
     },
     "metadata": {},
     "output_type": "display_data"
    },
    {
     "data": {
      "text/plain": [
       "datetime.datetime(2015, 6, 14, 0, 28, 50)"
      ]
     },
     "metadata": {},
     "output_type": "display_data"
    },
    {
     "data": {
      "text/plain": [
       "datetime.datetime(2015, 6, 14, 0, 28, 50)"
      ]
     },
     "metadata": {},
     "output_type": "display_data"
    },
    {
     "data": {
      "text/plain": [
       "datetime.datetime(2015, 6, 14, 0, 28, 50)"
      ]
     },
     "metadata": {},
     "output_type": "display_data"
    },
    {
     "data": {
      "text/plain": [
       "datetime.datetime(2015, 6, 14, 0, 28, 51)"
      ]
     },
     "metadata": {},
     "output_type": "display_data"
    },
    {
     "data": {
      "text/plain": [
       "datetime.datetime(2015, 6, 14, 0, 29, 33)"
      ]
     },
     "metadata": {},
     "output_type": "display_data"
    },
    {
     "data": {
      "text/plain": [
       "datetime.datetime(2015, 6, 14, 0, 29, 39)"
      ]
     },
     "metadata": {},
     "output_type": "display_data"
    },
    {
     "data": {
      "text/plain": [
       "datetime.datetime(2015, 6, 14, 0, 29, 43)"
      ]
     },
     "metadata": {},
     "output_type": "display_data"
    },
    {
     "data": {
      "text/plain": [
       "datetime.datetime(2015, 6, 14, 0, 29, 46)"
      ]
     },
     "metadata": {},
     "output_type": "display_data"
    },
    {
     "data": {
      "text/plain": [
       "datetime.datetime(2015, 6, 14, 0, 30, 3)"
      ]
     },
     "metadata": {},
     "output_type": "display_data"
    },
    {
     "data": {
      "text/plain": [
       "datetime.datetime(2015, 6, 14, 0, 30, 6)"
      ]
     },
     "metadata": {},
     "output_type": "display_data"
    },
    {
     "data": {
      "text/plain": [
       "datetime.datetime(2015, 6, 14, 0, 30, 10)"
      ]
     },
     "metadata": {},
     "output_type": "display_data"
    },
    {
     "data": {
      "text/plain": [
       "datetime.datetime(2015, 6, 14, 0, 30, 13)"
      ]
     },
     "metadata": {},
     "output_type": "display_data"
    },
    {
     "data": {
      "text/plain": [
       "datetime.datetime(2015, 6, 15, 13, 41, 46)"
      ]
     },
     "metadata": {},
     "output_type": "display_data"
    },
    {
     "data": {
      "text/plain": [
       "datetime.datetime(2015, 6, 15, 13, 41, 46)"
      ]
     },
     "metadata": {},
     "output_type": "display_data"
    },
    {
     "data": {
      "text/plain": [
       "datetime.datetime(2015, 6, 15, 13, 41, 46)"
      ]
     },
     "metadata": {},
     "output_type": "display_data"
    },
    {
     "data": {
      "text/plain": [
       "datetime.datetime(2015, 6, 15, 13, 41, 46)"
      ]
     },
     "metadata": {},
     "output_type": "display_data"
    },
    {
     "data": {
      "text/plain": [
       "datetime.datetime(2015, 6, 15, 13, 41, 47)"
      ]
     },
     "metadata": {},
     "output_type": "display_data"
    },
    {
     "data": {
      "text/plain": [
       "datetime.datetime(2015, 6, 15, 13, 41, 47)"
      ]
     },
     "metadata": {},
     "output_type": "display_data"
    },
    {
     "data": {
      "text/plain": [
       "datetime.datetime(2015, 6, 15, 13, 41, 47)"
      ]
     },
     "metadata": {},
     "output_type": "display_data"
    },
    {
     "data": {
      "text/plain": [
       "datetime.datetime(2015, 6, 15, 13, 41, 47)"
      ]
     },
     "metadata": {},
     "output_type": "display_data"
    },
    {
     "data": {
      "text/plain": [
       "datetime.datetime(2015, 6, 15, 13, 41, 47)"
      ]
     },
     "metadata": {},
     "output_type": "display_data"
    },
    {
     "data": {
      "text/plain": [
       "datetime.datetime(2015, 6, 15, 13, 41, 47)"
      ]
     },
     "metadata": {},
     "output_type": "display_data"
    },
    {
     "data": {
      "text/plain": [
       "datetime.datetime(2015, 6, 15, 13, 42, 22)"
      ]
     },
     "metadata": {},
     "output_type": "display_data"
    },
    {
     "data": {
      "text/plain": [
       "datetime.datetime(2015, 6, 15, 13, 42, 23)"
      ]
     },
     "metadata": {},
     "output_type": "display_data"
    },
    {
     "data": {
      "text/plain": [
       "datetime.datetime(2015, 6, 15, 13, 42, 24)"
      ]
     },
     "metadata": {},
     "output_type": "display_data"
    },
    {
     "data": {
      "text/plain": [
       "datetime.datetime(2015, 6, 15, 13, 43, 29)"
      ]
     },
     "metadata": {},
     "output_type": "display_data"
    },
    {
     "data": {
      "text/plain": [
       "datetime.datetime(2015, 6, 15, 13, 43, 44)"
      ]
     },
     "metadata": {},
     "output_type": "display_data"
    },
    {
     "data": {
      "text/plain": [
       "datetime.datetime(2015, 6, 15, 13, 43, 44)"
      ]
     },
     "metadata": {},
     "output_type": "display_data"
    },
    {
     "data": {
      "text/plain": [
       "datetime.datetime(2015, 6, 15, 13, 43, 44)"
      ]
     },
     "metadata": {},
     "output_type": "display_data"
    },
    {
     "data": {
      "text/plain": [
       "datetime.datetime(2015, 6, 15, 13, 43, 45)"
      ]
     },
     "metadata": {},
     "output_type": "display_data"
    },
    {
     "data": {
      "text/plain": [
       "datetime.datetime(2015, 6, 15, 13, 43, 45)"
      ]
     },
     "metadata": {},
     "output_type": "display_data"
    },
    {
     "data": {
      "text/plain": [
       "datetime.datetime(2015, 6, 15, 13, 43, 45)"
      ]
     },
     "metadata": {},
     "output_type": "display_data"
    },
    {
     "data": {
      "text/plain": [
       "datetime.datetime(2015, 6, 15, 13, 43, 45)"
      ]
     },
     "metadata": {},
     "output_type": "display_data"
    },
    {
     "data": {
      "text/plain": [
       "datetime.datetime(2015, 6, 15, 13, 43, 45)"
      ]
     },
     "metadata": {},
     "output_type": "display_data"
    },
    {
     "data": {
      "text/plain": [
       "datetime.datetime(2015, 6, 15, 13, 43, 45)"
      ]
     },
     "metadata": {},
     "output_type": "display_data"
    },
    {
     "data": {
      "text/plain": [
       "datetime.datetime(2015, 6, 15, 13, 43, 45)"
      ]
     },
     "metadata": {},
     "output_type": "display_data"
    },
    {
     "data": {
      "text/plain": [
       "datetime.datetime(2015, 6, 15, 13, 44, 17)"
      ]
     },
     "metadata": {},
     "output_type": "display_data"
    },
    {
     "data": {
      "text/plain": [
       "datetime.datetime(2015, 6, 15, 13, 47, 49)"
      ]
     },
     "metadata": {},
     "output_type": "display_data"
    },
    {
     "data": {
      "text/plain": [
       "datetime.datetime(2015, 6, 15, 13, 47, 49)"
      ]
     },
     "metadata": {},
     "output_type": "display_data"
    },
    {
     "data": {
      "text/plain": [
       "datetime.datetime(2015, 6, 15, 13, 47, 50)"
      ]
     },
     "metadata": {},
     "output_type": "display_data"
    },
    {
     "data": {
      "text/plain": [
       "datetime.datetime(2015, 6, 15, 13, 47, 50)"
      ]
     },
     "metadata": {},
     "output_type": "display_data"
    },
    {
     "data": {
      "text/plain": [
       "datetime.datetime(2015, 6, 15, 13, 47, 50)"
      ]
     },
     "metadata": {},
     "output_type": "display_data"
    },
    {
     "data": {
      "text/plain": [
       "datetime.datetime(2015, 6, 15, 13, 47, 50)"
      ]
     },
     "metadata": {},
     "output_type": "display_data"
    },
    {
     "data": {
      "text/plain": [
       "datetime.datetime(2015, 6, 15, 13, 47, 50)"
      ]
     },
     "metadata": {},
     "output_type": "display_data"
    },
    {
     "data": {
      "text/plain": [
       "datetime.datetime(2015, 6, 15, 13, 47, 50)"
      ]
     },
     "metadata": {},
     "output_type": "display_data"
    },
    {
     "data": {
      "text/plain": [
       "datetime.datetime(2015, 6, 15, 13, 47, 50)"
      ]
     },
     "metadata": {},
     "output_type": "display_data"
    },
    {
     "data": {
      "text/plain": [
       "datetime.datetime(2015, 6, 15, 13, 47, 50)"
      ]
     },
     "metadata": {},
     "output_type": "display_data"
    },
    {
     "data": {
      "text/plain": [
       "datetime.datetime(2015, 6, 15, 13, 48, 13)"
      ]
     },
     "metadata": {},
     "output_type": "display_data"
    },
    {
     "data": {
      "text/plain": [
       "datetime.datetime(2015, 6, 15, 13, 48, 13)"
      ]
     },
     "metadata": {},
     "output_type": "display_data"
    },
    {
     "data": {
      "text/plain": [
       "datetime.datetime(2015, 6, 15, 13, 48, 14)"
      ]
     },
     "metadata": {},
     "output_type": "display_data"
    },
    {
     "data": {
      "text/plain": [
       "datetime.datetime(2015, 6, 15, 13, 48, 14)"
      ]
     },
     "metadata": {},
     "output_type": "display_data"
    },
    {
     "data": {
      "text/plain": [
       "datetime.datetime(2015, 6, 15, 13, 48, 17)"
      ]
     },
     "metadata": {},
     "output_type": "display_data"
    },
    {
     "data": {
      "text/plain": [
       "datetime.datetime(2015, 6, 15, 13, 48, 19)"
      ]
     },
     "metadata": {},
     "output_type": "display_data"
    },
    {
     "data": {
      "text/plain": [
       "datetime.datetime(2015, 6, 15, 13, 48, 20)"
      ]
     },
     "metadata": {},
     "output_type": "display_data"
    },
    {
     "data": {
      "text/plain": [
       "datetime.datetime(2015, 6, 15, 13, 48, 28)"
      ]
     },
     "metadata": {},
     "output_type": "display_data"
    },
    {
     "data": {
      "text/plain": [
       "datetime.datetime(2015, 6, 15, 13, 48, 29)"
      ]
     },
     "metadata": {},
     "output_type": "display_data"
    },
    {
     "data": {
      "text/plain": [
       "datetime.datetime(2015, 6, 15, 13, 48, 57)"
      ]
     },
     "metadata": {},
     "output_type": "display_data"
    },
    {
     "data": {
      "text/plain": [
       "datetime.datetime(2015, 6, 15, 13, 49, 27)"
      ]
     },
     "metadata": {},
     "output_type": "display_data"
    },
    {
     "data": {
      "text/plain": [
       "datetime.datetime(2015, 6, 15, 13, 49, 28)"
      ]
     },
     "metadata": {},
     "output_type": "display_data"
    },
    {
     "data": {
      "text/plain": [
       "datetime.datetime(2015, 6, 15, 13, 49, 28)"
      ]
     },
     "metadata": {},
     "output_type": "display_data"
    },
    {
     "data": {
      "text/plain": [
       "datetime.datetime(2015, 6, 15, 13, 49, 28)"
      ]
     },
     "metadata": {},
     "output_type": "display_data"
    },
    {
     "data": {
      "text/plain": [
       "datetime.datetime(2015, 6, 15, 13, 49, 30)"
      ]
     },
     "metadata": {},
     "output_type": "display_data"
    },
    {
     "data": {
      "text/plain": [
       "datetime.datetime(2015, 6, 15, 13, 49, 47)"
      ]
     },
     "metadata": {},
     "output_type": "display_data"
    },
    {
     "data": {
      "text/plain": [
       "datetime.datetime(2015, 6, 15, 13, 50, 53)"
      ]
     },
     "metadata": {},
     "output_type": "display_data"
    },
    {
     "data": {
      "text/plain": [
       "datetime.datetime(2015, 6, 15, 13, 56, 41)"
      ]
     },
     "metadata": {},
     "output_type": "display_data"
    },
    {
     "data": {
      "text/plain": [
       "datetime.datetime(2015, 6, 15, 13, 56, 41)"
      ]
     },
     "metadata": {},
     "output_type": "display_data"
    },
    {
     "data": {
      "text/plain": [
       "datetime.datetime(2015, 6, 15, 13, 56, 41)"
      ]
     },
     "metadata": {},
     "output_type": "display_data"
    },
    {
     "data": {
      "text/plain": [
       "datetime.datetime(2015, 6, 15, 13, 56, 41)"
      ]
     },
     "metadata": {},
     "output_type": "display_data"
    },
    {
     "data": {
      "text/plain": [
       "datetime.datetime(2015, 6, 15, 13, 56, 42)"
      ]
     },
     "metadata": {},
     "output_type": "display_data"
    },
    {
     "data": {
      "text/plain": [
       "datetime.datetime(2015, 6, 15, 13, 56, 42)"
      ]
     },
     "metadata": {},
     "output_type": "display_data"
    },
    {
     "data": {
      "text/plain": [
       "datetime.datetime(2015, 6, 15, 13, 56, 42)"
      ]
     },
     "metadata": {},
     "output_type": "display_data"
    },
    {
     "data": {
      "text/plain": [
       "datetime.datetime(2015, 6, 15, 13, 56, 42)"
      ]
     },
     "metadata": {},
     "output_type": "display_data"
    },
    {
     "data": {
      "text/plain": [
       "datetime.datetime(2015, 6, 15, 13, 56, 42)"
      ]
     },
     "metadata": {},
     "output_type": "display_data"
    },
    {
     "data": {
      "text/plain": [
       "datetime.datetime(2015, 6, 15, 13, 56, 42)"
      ]
     },
     "metadata": {},
     "output_type": "display_data"
    },
    {
     "data": {
      "text/plain": [
       "datetime.datetime(2015, 9, 16, 12, 12, 16)"
      ]
     },
     "metadata": {},
     "output_type": "display_data"
    },
    {
     "data": {
      "text/plain": [
       "datetime.datetime(2015, 9, 16, 12, 12, 36)"
      ]
     },
     "metadata": {},
     "output_type": "display_data"
    },
    {
     "data": {
      "text/plain": [
       "datetime.datetime(2015, 9, 16, 12, 12, 37)"
      ]
     },
     "metadata": {},
     "output_type": "display_data"
    },
    {
     "data": {
      "text/plain": [
       "datetime.datetime(2015, 11, 16, 9, 11, 11)"
      ]
     },
     "metadata": {},
     "output_type": "display_data"
    },
    {
     "data": {
      "text/plain": [
       "datetime.datetime(2015, 11, 16, 9, 11, 48)"
      ]
     },
     "metadata": {},
     "output_type": "display_data"
    },
    {
     "data": {
      "text/plain": [
       "datetime.datetime(2015, 11, 16, 9, 11, 48)"
      ]
     },
     "metadata": {},
     "output_type": "display_data"
    },
    {
     "data": {
      "text/plain": [
       "datetime.datetime(2015, 11, 16, 9, 11, 48)"
      ]
     },
     "metadata": {},
     "output_type": "display_data"
    },
    {
     "data": {
      "text/plain": [
       "datetime.datetime(2015, 11, 16, 9, 11, 48)"
      ]
     },
     "metadata": {},
     "output_type": "display_data"
    },
    {
     "data": {
      "text/plain": [
       "datetime.datetime(2015, 11, 16, 9, 11, 48)"
      ]
     },
     "metadata": {},
     "output_type": "display_data"
    },
    {
     "data": {
      "text/plain": [
       "datetime.datetime(2015, 11, 16, 9, 11, 49)"
      ]
     },
     "metadata": {},
     "output_type": "display_data"
    },
    {
     "data": {
      "text/plain": [
       "datetime.datetime(2015, 11, 16, 9, 11, 49)"
      ]
     },
     "metadata": {},
     "output_type": "display_data"
    },
    {
     "data": {
      "text/plain": [
       "datetime.datetime(2015, 11, 16, 9, 11, 49)"
      ]
     },
     "metadata": {},
     "output_type": "display_data"
    },
    {
     "data": {
      "text/plain": [
       "datetime.datetime(2015, 11, 16, 9, 11, 49)"
      ]
     },
     "metadata": {},
     "output_type": "display_data"
    },
    {
     "data": {
      "text/plain": [
       "datetime.datetime(2015, 11, 16, 9, 11, 49)"
      ]
     },
     "metadata": {},
     "output_type": "display_data"
    },
    {
     "data": {
      "text/plain": [
       "datetime.datetime(2015, 11, 16, 9, 11, 59)"
      ]
     },
     "metadata": {},
     "output_type": "display_data"
    },
    {
     "data": {
      "text/plain": [
       "datetime.datetime(2015, 11, 16, 9, 11, 59)"
      ]
     },
     "metadata": {},
     "output_type": "display_data"
    },
    {
     "data": {
      "text/plain": [
       "datetime.datetime(2015, 11, 16, 9, 11, 59)"
      ]
     },
     "metadata": {},
     "output_type": "display_data"
    },
    {
     "data": {
      "text/plain": [
       "datetime.datetime(2015, 11, 16, 9, 11, 59)"
      ]
     },
     "metadata": {},
     "output_type": "display_data"
    },
    {
     "data": {
      "text/plain": [
       "datetime.datetime(2015, 11, 16, 9, 11, 59)"
      ]
     },
     "metadata": {},
     "output_type": "display_data"
    },
    {
     "data": {
      "text/plain": [
       "datetime.datetime(2015, 11, 16, 9, 11, 59)"
      ]
     },
     "metadata": {},
     "output_type": "display_data"
    },
    {
     "data": {
      "text/plain": [
       "datetime.datetime(2015, 11, 16, 9, 11, 59)"
      ]
     },
     "metadata": {},
     "output_type": "display_data"
    },
    {
     "data": {
      "text/plain": [
       "datetime.datetime(2015, 11, 16, 9, 11, 59)"
      ]
     },
     "metadata": {},
     "output_type": "display_data"
    },
    {
     "data": {
      "text/plain": [
       "datetime.datetime(2015, 11, 16, 9, 12)"
      ]
     },
     "metadata": {},
     "output_type": "display_data"
    },
    {
     "data": {
      "text/plain": [
       "datetime.datetime(2015, 11, 16, 9, 12)"
      ]
     },
     "metadata": {},
     "output_type": "display_data"
    },
    {
     "data": {
      "text/plain": [
       "datetime.datetime(2015, 11, 16, 9, 12, 42)"
      ]
     },
     "metadata": {},
     "output_type": "display_data"
    },
    {
     "data": {
      "text/plain": [
       "datetime.datetime(2015, 11, 16, 9, 12, 52)"
      ]
     },
     "metadata": {},
     "output_type": "display_data"
    },
    {
     "data": {
      "text/plain": [
       "datetime.datetime(2015, 11, 16, 9, 14, 40)"
      ]
     },
     "metadata": {},
     "output_type": "display_data"
    },
    {
     "data": {
      "text/plain": [
       "datetime.datetime(2015, 11, 16, 9, 18, 11)"
      ]
     },
     "metadata": {},
     "output_type": "display_data"
    },
    {
     "data": {
      "text/plain": [
       "datetime.datetime(2016, 1, 19, 12, 21, 44)"
      ]
     },
     "metadata": {},
     "output_type": "display_data"
    },
    {
     "data": {
      "text/plain": [
       "datetime.datetime(2016, 2, 18, 14, 19, 27)"
      ]
     },
     "metadata": {},
     "output_type": "display_data"
    },
    {
     "data": {
      "text/plain": [
       "datetime.datetime(2016, 2, 18, 14, 19, 27)"
      ]
     },
     "metadata": {},
     "output_type": "display_data"
    },
    {
     "data": {
      "text/plain": [
       "datetime.datetime(2016, 2, 18, 14, 19, 27)"
      ]
     },
     "metadata": {},
     "output_type": "display_data"
    },
    {
     "data": {
      "text/plain": [
       "datetime.datetime(2016, 2, 18, 14, 19, 27)"
      ]
     },
     "metadata": {},
     "output_type": "display_data"
    },
    {
     "data": {
      "text/plain": [
       "datetime.datetime(2016, 2, 18, 14, 19, 27)"
      ]
     },
     "metadata": {},
     "output_type": "display_data"
    },
    {
     "data": {
      "text/plain": [
       "datetime.datetime(2016, 2, 18, 14, 19, 28)"
      ]
     },
     "metadata": {},
     "output_type": "display_data"
    },
    {
     "data": {
      "text/plain": [
       "datetime.datetime(2016, 2, 18, 14, 19, 28)"
      ]
     },
     "metadata": {},
     "output_type": "display_data"
    },
    {
     "data": {
      "text/plain": [
       "datetime.datetime(2016, 2, 18, 14, 19, 28)"
      ]
     },
     "metadata": {},
     "output_type": "display_data"
    },
    {
     "data": {
      "text/plain": [
       "datetime.datetime(2016, 2, 18, 14, 19, 28)"
      ]
     },
     "metadata": {},
     "output_type": "display_data"
    },
    {
     "data": {
      "text/plain": [
       "datetime.datetime(2016, 2, 18, 14, 19, 28)"
      ]
     },
     "metadata": {},
     "output_type": "display_data"
    },
    {
     "data": {
      "text/plain": [
       "datetime.datetime(2015, 5, 22, 20, 55, 20)"
      ]
     },
     "metadata": {},
     "output_type": "display_data"
    },
    {
     "data": {
      "text/plain": [
       "datetime.datetime(2015, 5, 22, 21, 37, 22)"
      ]
     },
     "metadata": {},
     "output_type": "display_data"
    },
    {
     "data": {
      "text/plain": [
       "datetime.datetime(2015, 5, 22, 21, 37, 25)"
      ]
     },
     "metadata": {},
     "output_type": "display_data"
    },
    {
     "data": {
      "text/plain": [
       "datetime.datetime(2015, 5, 22, 21, 37, 58)"
      ]
     },
     "metadata": {},
     "output_type": "display_data"
    },
    {
     "data": {
      "text/plain": [
       "datetime.datetime(2015, 5, 22, 21, 38)"
      ]
     },
     "metadata": {},
     "output_type": "display_data"
    },
    {
     "data": {
      "text/plain": [
       "datetime.datetime(2015, 5, 22, 21, 38, 36)"
      ]
     },
     "metadata": {},
     "output_type": "display_data"
    },
    {
     "data": {
      "text/plain": [
       "datetime.datetime(2015, 5, 22, 21, 38, 38)"
      ]
     },
     "metadata": {},
     "output_type": "display_data"
    },
    {
     "data": {
      "text/plain": [
       "datetime.datetime(2015, 5, 22, 21, 39, 41)"
      ]
     },
     "metadata": {},
     "output_type": "display_data"
    },
    {
     "data": {
      "text/plain": [
       "datetime.datetime(2015, 5, 22, 21, 39, 42)"
      ]
     },
     "metadata": {},
     "output_type": "display_data"
    },
    {
     "data": {
      "text/plain": [
       "datetime.datetime(2015, 5, 22, 21, 40, 48)"
      ]
     },
     "metadata": {},
     "output_type": "display_data"
    },
    {
     "data": {
      "text/plain": [
       "datetime.datetime(2015, 5, 22, 21, 40, 50)"
      ]
     },
     "metadata": {},
     "output_type": "display_data"
    },
    {
     "data": {
      "text/plain": [
       "datetime.datetime(2015, 5, 22, 21, 41, 25)"
      ]
     },
     "metadata": {},
     "output_type": "display_data"
    },
    {
     "data": {
      "text/plain": [
       "datetime.datetime(2015, 5, 22, 21, 41, 27)"
      ]
     },
     "metadata": {},
     "output_type": "display_data"
    },
    {
     "data": {
      "text/plain": [
       "datetime.datetime(2015, 5, 22, 21, 48, 37)"
      ]
     },
     "metadata": {},
     "output_type": "display_data"
    },
    {
     "data": {
      "text/plain": [
       "datetime.datetime(2015, 5, 22, 21, 48, 40)"
      ]
     },
     "metadata": {},
     "output_type": "display_data"
    },
    {
     "data": {
      "text/plain": [
       "datetime.datetime(2015, 5, 22, 21, 49, 4)"
      ]
     },
     "metadata": {},
     "output_type": "display_data"
    },
    {
     "data": {
      "text/plain": [
       "datetime.datetime(2015, 5, 23, 20, 16, 9)"
      ]
     },
     "metadata": {},
     "output_type": "display_data"
    },
    {
     "data": {
      "text/plain": [
       "datetime.datetime(2015, 5, 23, 20, 16, 46)"
      ]
     },
     "metadata": {},
     "output_type": "display_data"
    },
    {
     "data": {
      "text/plain": [
       "datetime.datetime(2015, 5, 23, 20, 16, 59)"
      ]
     },
     "metadata": {},
     "output_type": "display_data"
    },
    {
     "data": {
      "text/plain": [
       "datetime.datetime(2015, 5, 23, 20, 17, 1)"
      ]
     },
     "metadata": {},
     "output_type": "display_data"
    },
    {
     "data": {
      "text/plain": [
       "datetime.datetime(2015, 5, 23, 20, 17, 8)"
      ]
     },
     "metadata": {},
     "output_type": "display_data"
    },
    {
     "data": {
      "text/plain": [
       "datetime.datetime(2015, 5, 23, 20, 18, 7)"
      ]
     },
     "metadata": {},
     "output_type": "display_data"
    },
    {
     "data": {
      "text/plain": [
       "datetime.datetime(2015, 5, 23, 20, 18, 19)"
      ]
     },
     "metadata": {},
     "output_type": "display_data"
    },
    {
     "data": {
      "text/plain": [
       "datetime.datetime(2015, 5, 23, 20, 18, 34)"
      ]
     },
     "metadata": {},
     "output_type": "display_data"
    },
    {
     "data": {
      "text/plain": [
       "datetime.datetime(2015, 5, 23, 20, 19, 36)"
      ]
     },
     "metadata": {},
     "output_type": "display_data"
    },
    {
     "data": {
      "text/plain": [
       "datetime.datetime(2015, 5, 23, 20, 20)"
      ]
     },
     "metadata": {},
     "output_type": "display_data"
    },
    {
     "data": {
      "text/plain": [
       "datetime.datetime(2015, 5, 23, 20, 21, 38)"
      ]
     },
     "metadata": {},
     "output_type": "display_data"
    },
    {
     "data": {
      "text/plain": [
       "datetime.datetime(2015, 5, 23, 20, 21, 51)"
      ]
     },
     "metadata": {},
     "output_type": "display_data"
    },
    {
     "data": {
      "text/plain": [
       "datetime.datetime(2015, 5, 23, 20, 21, 56)"
      ]
     },
     "metadata": {},
     "output_type": "display_data"
    },
    {
     "data": {
      "text/plain": [
       "datetime.datetime(2015, 5, 23, 20, 22, 1)"
      ]
     },
     "metadata": {},
     "output_type": "display_data"
    },
    {
     "data": {
      "text/plain": [
       "datetime.datetime(2015, 5, 23, 20, 22, 9)"
      ]
     },
     "metadata": {},
     "output_type": "display_data"
    },
    {
     "data": {
      "text/plain": [
       "datetime.datetime(2015, 5, 23, 20, 22, 53)"
      ]
     },
     "metadata": {},
     "output_type": "display_data"
    },
    {
     "data": {
      "text/plain": [
       "datetime.datetime(2015, 5, 23, 20, 24, 6)"
      ]
     },
     "metadata": {},
     "output_type": "display_data"
    },
    {
     "data": {
      "text/plain": [
       "datetime.datetime(2015, 5, 23, 20, 24, 11)"
      ]
     },
     "metadata": {},
     "output_type": "display_data"
    },
    {
     "data": {
      "text/plain": [
       "datetime.datetime(2015, 5, 23, 20, 25, 33)"
      ]
     },
     "metadata": {},
     "output_type": "display_data"
    },
    {
     "data": {
      "text/plain": [
       "datetime.datetime(2015, 5, 23, 20, 25, 37)"
      ]
     },
     "metadata": {},
     "output_type": "display_data"
    },
    {
     "data": {
      "text/plain": [
       "datetime.datetime(2015, 5, 23, 20, 25, 42)"
      ]
     },
     "metadata": {},
     "output_type": "display_data"
    },
    {
     "data": {
      "text/plain": [
       "datetime.datetime(2015, 5, 23, 20, 25, 44)"
      ]
     },
     "metadata": {},
     "output_type": "display_data"
    },
    {
     "data": {
      "text/plain": [
       "datetime.datetime(2015, 5, 23, 20, 25, 49)"
      ]
     },
     "metadata": {},
     "output_type": "display_data"
    },
    {
     "data": {
      "text/plain": [
       "datetime.datetime(2015, 5, 23, 20, 25, 52)"
      ]
     },
     "metadata": {},
     "output_type": "display_data"
    },
    {
     "data": {
      "text/plain": [
       "datetime.datetime(2015, 5, 23, 20, 25, 58)"
      ]
     },
     "metadata": {},
     "output_type": "display_data"
    },
    {
     "data": {
      "text/plain": [
       "datetime.datetime(2015, 5, 23, 20, 26, 2)"
      ]
     },
     "metadata": {},
     "output_type": "display_data"
    },
    {
     "data": {
      "text/plain": [
       "datetime.datetime(2015, 5, 23, 20, 31, 7)"
      ]
     },
     "metadata": {},
     "output_type": "display_data"
    },
    {
     "data": {
      "text/plain": [
       "datetime.datetime(2015, 5, 23, 20, 31, 24)"
      ]
     },
     "metadata": {},
     "output_type": "display_data"
    },
    {
     "data": {
      "text/plain": [
       "datetime.datetime(2015, 5, 23, 20, 32, 7)"
      ]
     },
     "metadata": {},
     "output_type": "display_data"
    },
    {
     "data": {
      "text/plain": [
       "datetime.datetime(2015, 5, 23, 20, 32, 11)"
      ]
     },
     "metadata": {},
     "output_type": "display_data"
    },
    {
     "data": {
      "text/plain": [
       "datetime.datetime(2015, 5, 23, 20, 37, 18)"
      ]
     },
     "metadata": {},
     "output_type": "display_data"
    },
    {
     "data": {
      "text/plain": [
       "datetime.datetime(2015, 5, 23, 20, 39, 19)"
      ]
     },
     "metadata": {},
     "output_type": "display_data"
    },
    {
     "data": {
      "text/plain": [
       "datetime.datetime(2015, 5, 23, 20, 39, 25)"
      ]
     },
     "metadata": {},
     "output_type": "display_data"
    },
    {
     "data": {
      "text/plain": [
       "datetime.datetime(2015, 5, 23, 20, 39, 36)"
      ]
     },
     "metadata": {},
     "output_type": "display_data"
    },
    {
     "data": {
      "text/plain": [
       "datetime.datetime(2015, 5, 23, 20, 40, 56)"
      ]
     },
     "metadata": {},
     "output_type": "display_data"
    },
    {
     "data": {
      "text/plain": [
       "datetime.datetime(2015, 5, 23, 20, 42, 6)"
      ]
     },
     "metadata": {},
     "output_type": "display_data"
    },
    {
     "data": {
      "text/plain": [
       "datetime.datetime(2015, 6, 10, 15, 38, 12)"
      ]
     },
     "metadata": {},
     "output_type": "display_data"
    },
    {
     "data": {
      "text/plain": [
       "datetime.datetime(2015, 6, 10, 15, 38, 48)"
      ]
     },
     "metadata": {},
     "output_type": "display_data"
    },
    {
     "data": {
      "text/plain": [
       "datetime.datetime(2015, 6, 10, 15, 40, 8)"
      ]
     },
     "metadata": {},
     "output_type": "display_data"
    },
    {
     "data": {
      "text/plain": [
       "datetime.datetime(2015, 6, 10, 15, 42, 35)"
      ]
     },
     "metadata": {},
     "output_type": "display_data"
    },
    {
     "data": {
      "text/plain": [
       "datetime.datetime(2015, 6, 10, 15, 44, 41)"
      ]
     },
     "metadata": {},
     "output_type": "display_data"
    },
    {
     "data": {
      "text/plain": [
       "datetime.datetime(2015, 6, 12, 13, 19, 43)"
      ]
     },
     "metadata": {},
     "output_type": "display_data"
    },
    {
     "data": {
      "text/plain": [
       "datetime.datetime(2015, 6, 12, 13, 19, 59)"
      ]
     },
     "metadata": {},
     "output_type": "display_data"
    },
    {
     "data": {
      "text/plain": [
       "datetime.datetime(2015, 6, 12, 13, 20, 9)"
      ]
     },
     "metadata": {},
     "output_type": "display_data"
    },
    {
     "data": {
      "text/plain": [
       "datetime.datetime(2015, 6, 12, 13, 20, 15)"
      ]
     },
     "metadata": {},
     "output_type": "display_data"
    },
    {
     "data": {
      "text/plain": [
       "datetime.datetime(2015, 6, 12, 13, 20, 28)"
      ]
     },
     "metadata": {},
     "output_type": "display_data"
    },
    {
     "data": {
      "text/plain": [
       "datetime.datetime(2015, 6, 12, 13, 20, 39)"
      ]
     },
     "metadata": {},
     "output_type": "display_data"
    },
    {
     "data": {
      "text/plain": [
       "datetime.datetime(2015, 6, 12, 15, 2, 3)"
      ]
     },
     "metadata": {},
     "output_type": "display_data"
    },
    {
     "data": {
      "text/plain": [
       "datetime.datetime(2015, 6, 12, 15, 2, 16)"
      ]
     },
     "metadata": {},
     "output_type": "display_data"
    },
    {
     "data": {
      "text/plain": [
       "datetime.datetime(2015, 6, 12, 15, 2, 22)"
      ]
     },
     "metadata": {},
     "output_type": "display_data"
    },
    {
     "data": {
      "text/plain": [
       "datetime.datetime(2015, 6, 12, 15, 2, 33)"
      ]
     },
     "metadata": {},
     "output_type": "display_data"
    },
    {
     "data": {
      "text/plain": [
       "datetime.datetime(2015, 6, 12, 15, 2, 43)"
      ]
     },
     "metadata": {},
     "output_type": "display_data"
    },
    {
     "data": {
      "text/plain": [
       "datetime.datetime(2015, 6, 12, 15, 2, 56)"
      ]
     },
     "metadata": {},
     "output_type": "display_data"
    },
    {
     "data": {
      "text/plain": [
       "datetime.datetime(2015, 6, 12, 15, 3, 5)"
      ]
     },
     "metadata": {},
     "output_type": "display_data"
    },
    {
     "data": {
      "text/plain": [
       "datetime.datetime(2015, 6, 12, 15, 3, 9)"
      ]
     },
     "metadata": {},
     "output_type": "display_data"
    },
    {
     "data": {
      "text/plain": [
       "datetime.datetime(2015, 6, 12, 15, 3, 13)"
      ]
     },
     "metadata": {},
     "output_type": "display_data"
    },
    {
     "data": {
      "text/plain": [
       "datetime.datetime(2015, 6, 12, 15, 3, 17)"
      ]
     },
     "metadata": {},
     "output_type": "display_data"
    },
    {
     "data": {
      "text/plain": [
       "datetime.datetime(2015, 6, 12, 15, 3, 26)"
      ]
     },
     "metadata": {},
     "output_type": "display_data"
    },
    {
     "data": {
      "text/plain": [
       "datetime.datetime(2015, 6, 12, 15, 3, 40)"
      ]
     },
     "metadata": {},
     "output_type": "display_data"
    },
    {
     "data": {
      "text/plain": [
       "datetime.datetime(2015, 6, 12, 15, 3, 56)"
      ]
     },
     "metadata": {},
     "output_type": "display_data"
    },
    {
     "data": {
      "text/plain": [
       "datetime.datetime(2015, 6, 12, 15, 4, 12)"
      ]
     },
     "metadata": {},
     "output_type": "display_data"
    },
    {
     "data": {
      "text/plain": [
       "datetime.datetime(2015, 6, 12, 15, 4, 20)"
      ]
     },
     "metadata": {},
     "output_type": "display_data"
    },
    {
     "data": {
      "text/plain": [
       "datetime.datetime(2015, 6, 12, 15, 4, 31)"
      ]
     },
     "metadata": {},
     "output_type": "display_data"
    },
    {
     "data": {
      "text/plain": [
       "datetime.datetime(2015, 6, 12, 15, 4, 37)"
      ]
     },
     "metadata": {},
     "output_type": "display_data"
    },
    {
     "data": {
      "text/plain": [
       "datetime.datetime(2015, 6, 12, 15, 4, 50)"
      ]
     },
     "metadata": {},
     "output_type": "display_data"
    },
    {
     "data": {
      "text/plain": [
       "datetime.datetime(2015, 6, 12, 15, 4, 58)"
      ]
     },
     "metadata": {},
     "output_type": "display_data"
    },
    {
     "data": {
      "text/plain": [
       "datetime.datetime(2015, 6, 12, 15, 5, 58)"
      ]
     },
     "metadata": {},
     "output_type": "display_data"
    },
    {
     "data": {
      "text/plain": [
       "datetime.datetime(2015, 6, 13, 15, 40, 57)"
      ]
     },
     "metadata": {},
     "output_type": "display_data"
    },
    {
     "data": {
      "text/plain": [
       "datetime.datetime(2015, 6, 13, 15, 40, 57)"
      ]
     },
     "metadata": {},
     "output_type": "display_data"
    },
    {
     "data": {
      "text/plain": [
       "datetime.datetime(2015, 6, 13, 15, 40, 57)"
      ]
     },
     "metadata": {},
     "output_type": "display_data"
    },
    {
     "data": {
      "text/plain": [
       "datetime.datetime(2015, 6, 13, 15, 40, 58)"
      ]
     },
     "metadata": {},
     "output_type": "display_data"
    },
    {
     "data": {
      "text/plain": [
       "datetime.datetime(2015, 6, 13, 15, 40, 58)"
      ]
     },
     "metadata": {},
     "output_type": "display_data"
    },
    {
     "data": {
      "text/plain": [
       "datetime.datetime(2015, 6, 13, 15, 40, 58)"
      ]
     },
     "metadata": {},
     "output_type": "display_data"
    },
    {
     "data": {
      "text/plain": [
       "datetime.datetime(2015, 6, 13, 15, 40, 58)"
      ]
     },
     "metadata": {},
     "output_type": "display_data"
    },
    {
     "data": {
      "text/plain": [
       "datetime.datetime(2015, 6, 13, 15, 40, 58)"
      ]
     },
     "metadata": {},
     "output_type": "display_data"
    },
    {
     "data": {
      "text/plain": [
       "datetime.datetime(2015, 6, 20, 10, 54, 4)"
      ]
     },
     "metadata": {},
     "output_type": "display_data"
    },
    {
     "data": {
      "text/plain": [
       "datetime.datetime(2015, 6, 20, 10, 54, 4)"
      ]
     },
     "metadata": {},
     "output_type": "display_data"
    },
    {
     "data": {
      "text/plain": [
       "datetime.datetime(2015, 6, 20, 10, 54, 4)"
      ]
     },
     "metadata": {},
     "output_type": "display_data"
    },
    {
     "data": {
      "text/plain": [
       "datetime.datetime(2015, 6, 20, 10, 54, 4)"
      ]
     },
     "metadata": {},
     "output_type": "display_data"
    },
    {
     "data": {
      "text/plain": [
       "datetime.datetime(2015, 6, 20, 10, 54, 4)"
      ]
     },
     "metadata": {},
     "output_type": "display_data"
    },
    {
     "data": {
      "text/plain": [
       "datetime.datetime(2015, 6, 20, 10, 54, 4)"
      ]
     },
     "metadata": {},
     "output_type": "display_data"
    },
    {
     "data": {
      "text/plain": [
       "datetime.datetime(2015, 6, 20, 10, 54, 4)"
      ]
     },
     "metadata": {},
     "output_type": "display_data"
    },
    {
     "data": {
      "text/plain": [
       "datetime.datetime(2015, 6, 20, 10, 54, 4)"
      ]
     },
     "metadata": {},
     "output_type": "display_data"
    },
    {
     "data": {
      "text/plain": [
       "datetime.datetime(2015, 6, 20, 10, 54, 4)"
      ]
     },
     "metadata": {},
     "output_type": "display_data"
    },
    {
     "data": {
      "text/plain": [
       "datetime.datetime(2019, 8, 30, 12, 44, 2)"
      ]
     },
     "metadata": {},
     "output_type": "display_data"
    },
    {
     "data": {
      "text/plain": [
       "datetime.datetime(2022, 10, 7, 16, 58, 39)"
      ]
     },
     "metadata": {},
     "output_type": "display_data"
    },
    {
     "data": {
      "text/plain": [
       "array([[ 0,  0,  0, ..., 16, 36,  0],\n",
       "       [ 0,  0,  0, ...,  0,  0,  0],\n",
       "       [ 0,  0,  0, ...,  0,  0,  0],\n",
       "       ...,\n",
       "       [ 0,  0,  0, ...,  0,  0,  0],\n",
       "       [ 0,  0,  0, ...,  1,  0,  0],\n",
       "       [ 0,  0,  0, ...,  0,  0,  0]])"
      ]
     },
     "metadata": {},
     "output_type": "display_data"
    },
    {
     "data": {
      "text/plain": [
       "array([['0', '0', '0', ...,\n",
       "        'COM_5:KW設置(20:55:20),COM_5:KW設置,COM_5:KW設置,COM_5:KW設置,COM_5:KW設置,COM_5:KW設置,COM_5:KW設置,COM_5:KW設置,COM_5:KW設置,COM_5:KW設置,COM_5:KW設置,COM_5:KW設置,COM_5:KW設置,COM_5:KW設置,COM_5:KW設置,COM_5:KW設置',\n",
       "        'COM_5:KW設置(20:16:09),COM_5:KW設置,COM_5:KW設置,COM_5:KW設置,COM_5:KW設置,COM_5:KW設置,COM_5:KW設置,COM_5:KW設置,COM_5:KW設置,COM_5:KW設置,COM_5:KW設置,COM_5:KW設置,COM_5:KW設置,COM_5:KW設置,COM_5:KW設置,COM_5:KW設置,COM_5:KW設置,COM_5:KW設置,COM_5:KW設置,COM_5:KW設置,COM_5:KW設置,COM_5:KW設置,COM_5:KW設置,COM_5:KW設置,COM_5:KW設置,COM_5:KW設置,COM_5:KW設置,COM_5:KW設置,COM_5:KW設置,COM_5:KW設置,COM_5:KW設置,COM_5:KW設置,COM_5:KW設置,COM_5:KW設置,COM_5:KW設置,COM_5:KW設置',\n",
       "        '0'],\n",
       "       ['0', '0', '0', ..., '0', '0', '0'],\n",
       "       ['0', '0', '0', ..., '0', '0', '0'],\n",
       "       ...,\n",
       "       ['0', '0', '0', ..., '0', '0', '0'],\n",
       "       ['0', '0', '0', ..., 'COM_LEE:KW設置(16:58:39)', '0', '0'],\n",
       "       ['0', '0', '0', ..., '0', '0', '0']], dtype=object)"
      ]
     },
     "metadata": {},
     "output_type": "display_data"
    }
   ],
   "source": [
    "# keyWK=np.array(list(range(0,TotalDays.days,7))+[TotalDays.days])\n",
    "keyWK=list(range(0,TotalDays.days,7))+[TotalDays.days]\n",
    "# display(keyWK)\n",
    "\n",
    "WKst=[Firstday+datetime.timedelta(days=d) for d in keyWK]\n",
    "WKst\n",
    "\n",
    "MondayList=[str(d.year)+'_'+str(d.month)+'_'+str(d.day) for d in WKst]\n",
    "\n",
    "NPdataMatL=np.full([len(WKst),7],['0'],dtype=object)\n",
    "NPdataMat=np.full([len(WKst),7],0,dtype=int)\n",
    "\n",
    "\n",
    "wkL=[d.timetuple() for d in WKst]\n",
    "wkL2=np.array([d2[0:3:1] for d2 in wkL])\n",
    "\n",
    "# dtimeL2[1][1]\n",
    "\n",
    "dList=dList_ATT.copy()\n",
    "NameAct=NameAct_ATT.copy()\n",
    "for k in range(len(dList)):\n",
    "    display(dList[k])\n",
    "    i2=np.where((dList[k].year==wkL2[:,0]) & (dList[k].month==wkL2[:,1]) & (dList[k].day-wkL2[:,2]<=6) & (dList[k].day-wkL2[:,2]>=0))[0]\n",
    "#     i2=int(i2)\n",
    "    j2=dList[k].weekday()\n",
    "    if NPdataMatL[i2,j2]==['0']:\n",
    "        NPdataMatL[i2,j2]=NameAct[k]+'('+str(dList[k].time())+')'\n",
    "#         NPdataMatL[i2,j2]=NPdataMatL[i2,j2].tolist()+[NameAct[k]]\n",
    "#     elif len(NPdataMatL[i2,j2])==1:\n",
    "#         NPdataMatL[i2,j2]=NPdataMatL[i2,j2]+','+NameAct[k]\n",
    "    else:\n",
    "#         NPdataMatL[i2,j2]=[np.hstack([NPdataMatL[i2,j2],[NameAct[k]]]).tolist()]\n",
    "#         NPdataMatL[i2,j2]=sum(NPdataMatL[i2,j2].tolist(),[])+NameAct[k]\n",
    "        NPdataMatL[i2,j2]=NPdataMatL[i2,j2]+','+NameAct[k]\n",
    "    NPdataMat[i2,j2]=NPdataMat[i2,j2]+1    \n",
    "\n",
    "dList=dList_COM.copy()\n",
    "NameAct=NameAct_COM.copy()\n",
    "for k in range(len(dList)):\n",
    "    display(dList[k])\n",
    "    i2=np.where((dList[k].year==wkL2[:,0]) & (dList[k].month==wkL2[:,1]) & (dList[k].day-wkL2[:,2]<=6) & (dList[k].day-wkL2[:,2]>=0))[0]\n",
    "#     i2=int(i2)\n",
    "    j2=dList[k].weekday()\n",
    "    if NPdataMatL[i2,j2]==['0']:\n",
    "        NPdataMatL[i2,j2]=NameAct[k]+'('+str(dList[k].time())+')'\n",
    "#         NPdataMatL[i2,j2]=NPdataMatL[i2,j2].tolist()+[NameAct[k]]\n",
    "#     elif len(NPdataMatL[i2,j2])==1:\n",
    "#         NPdataMatL[i2,j2]=NPdataMatL[i2,j2]+','+NameAct[k]\n",
    "    else:\n",
    "#         NPdataMatL[i2,j2]=[np.hstack([NPdataMatL[i2,j2],[NameAct[k]]]).tolist()]\n",
    "#         NPdataMatL[i2,j2]=sum(NPdataMatL[i2,j2].tolist(),[])+NameAct[k]\n",
    "        NPdataMatL[i2,j2]=NPdataMatL[i2,j2]+','+NameAct[k]\n",
    "    NPdataMat[i2,j2]=NPdataMat[i2,j2]+1    \n",
    "    \n",
    "display(NPdataMat)\n",
    "\n",
    "display(NPdataMatL)"
   ]
  },
  {
   "cell_type": "code",
   "execution_count": null,
   "id": "c3963e3e",
   "metadata": {},
   "outputs": [],
   "source": []
  },
  {
   "cell_type": "code",
   "execution_count": 24,
   "id": "37385533",
   "metadata": {},
   "outputs": [
    {
     "data": {
      "text/plain": [
       "102"
      ]
     },
     "execution_count": 24,
     "metadata": {},
     "output_type": "execute_result"
    }
   ],
   "source": [
    "len(dList)"
   ]
  },
  {
   "cell_type": "code",
   "execution_count": 19,
   "id": "9493e2f8",
   "metadata": {},
   "outputs": [
    {
     "data": {
      "text/plain": [
       "(387, 7)"
      ]
     },
     "execution_count": 19,
     "metadata": {},
     "output_type": "execute_result"
    }
   ],
   "source": [
    "np.shape(NPdataMatL)"
   ]
  },
  {
   "cell_type": "code",
   "execution_count": 60,
   "id": "42121887",
   "metadata": {},
   "outputs": [
    {
     "data": {
      "text/html": [
       "<div>\n",
       "<style scoped>\n",
       "    .dataframe tbody tr th:only-of-type {\n",
       "        vertical-align: middle;\n",
       "    }\n",
       "\n",
       "    .dataframe tbody tr th {\n",
       "        vertical-align: top;\n",
       "    }\n",
       "\n",
       "    .dataframe thead th {\n",
       "        text-align: right;\n",
       "    }\n",
       "</style>\n",
       "<table border=\"1\" class=\"dataframe\">\n",
       "  <thead>\n",
       "    <tr style=\"text-align: right;\">\n",
       "      <th></th>\n",
       "      <th>Mon</th>\n",
       "      <th>Tue</th>\n",
       "      <th>Wed</th>\n",
       "      <th>Thu</th>\n",
       "      <th>Fri</th>\n",
       "      <th>Sat</th>\n",
       "      <th>Sun</th>\n",
       "    </tr>\n",
       "  </thead>\n",
       "  <tbody>\n",
       "    <tr>\n",
       "      <th>2015_5_18</th>\n",
       "      <td>0</td>\n",
       "      <td>0</td>\n",
       "      <td>0</td>\n",
       "      <td>0</td>\n",
       "      <td>COM_5:KW設置(20:55:20),COM_5:KW設置,COM_5:KW設置,COM...</td>\n",
       "      <td>COM_5:KW設置(20:16:09),COM_5:KW設置,COM_5:KW設置,COM...</td>\n",
       "      <td>0</td>\n",
       "    </tr>\n",
       "    <tr>\n",
       "      <th>2015_5_25</th>\n",
       "      <td>0</td>\n",
       "      <td>0</td>\n",
       "      <td>0</td>\n",
       "      <td>0</td>\n",
       "      <td>0</td>\n",
       "      <td>0</td>\n",
       "      <td>0</td>\n",
       "    </tr>\n",
       "    <tr>\n",
       "      <th>2015_6_1</th>\n",
       "      <td>0</td>\n",
       "      <td>0</td>\n",
       "      <td>0</td>\n",
       "      <td>0</td>\n",
       "      <td>0</td>\n",
       "      <td>0</td>\n",
       "      <td>0</td>\n",
       "    </tr>\n",
       "    <tr>\n",
       "      <th>2015_6_8</th>\n",
       "      <td>0</td>\n",
       "      <td>0</td>\n",
       "      <td>462:KW提出した(14:46:09),462:KWチェックあり,483:KW提出した,4...</td>\n",
       "      <td>0</td>\n",
       "      <td>COM_5:KW設置(13:19:43),COM_5:KW設置,COM_5:KW設置,COM...</td>\n",
       "      <td>487:質疑応答・追加説明ページ閲覧(20:03:04),COM_5:わかった・わからなかっ...</td>\n",
       "      <td>479:質疑応答・追加説明ページ閲覧(00:28:49),479:わかった・わからなかったを...</td>\n",
       "    </tr>\n",
       "    <tr>\n",
       "      <th>2015_6_15</th>\n",
       "      <td>468:わかった・わからなかったをクリックした(13:41:46),468:わかった・わから...</td>\n",
       "      <td>0</td>\n",
       "      <td>0</td>\n",
       "      <td>0</td>\n",
       "      <td>0</td>\n",
       "      <td>COM_6:わかった・わからなかったに関する操作(10:54:04),COM_6:わかった・...</td>\n",
       "      <td>0</td>\n",
       "    </tr>\n",
       "    <tr>\n",
       "      <th>...</th>\n",
       "      <td>...</td>\n",
       "      <td>...</td>\n",
       "      <td>...</td>\n",
       "      <td>...</td>\n",
       "      <td>...</td>\n",
       "      <td>...</td>\n",
       "      <td>...</td>\n",
       "    </tr>\n",
       "    <tr>\n",
       "      <th>2022_9_12</th>\n",
       "      <td>0</td>\n",
       "      <td>0</td>\n",
       "      <td>0</td>\n",
       "      <td>0</td>\n",
       "      <td>0</td>\n",
       "      <td>0</td>\n",
       "      <td>0</td>\n",
       "    </tr>\n",
       "    <tr>\n",
       "      <th>2022_9_19</th>\n",
       "      <td>0</td>\n",
       "      <td>0</td>\n",
       "      <td>0</td>\n",
       "      <td>0</td>\n",
       "      <td>0</td>\n",
       "      <td>0</td>\n",
       "      <td>0</td>\n",
       "    </tr>\n",
       "    <tr>\n",
       "      <th>2022_9_26</th>\n",
       "      <td>0</td>\n",
       "      <td>0</td>\n",
       "      <td>0</td>\n",
       "      <td>0</td>\n",
       "      <td>0</td>\n",
       "      <td>0</td>\n",
       "      <td>0</td>\n",
       "    </tr>\n",
       "    <tr>\n",
       "      <th>2022_10_3</th>\n",
       "      <td>0</td>\n",
       "      <td>0</td>\n",
       "      <td>0</td>\n",
       "      <td>0</td>\n",
       "      <td>COM_LEE:KW設置(16:58:39)</td>\n",
       "      <td>0</td>\n",
       "      <td>0</td>\n",
       "    </tr>\n",
       "    <tr>\n",
       "      <th>2022_10_9</th>\n",
       "      <td>0</td>\n",
       "      <td>0</td>\n",
       "      <td>0</td>\n",
       "      <td>0</td>\n",
       "      <td>0</td>\n",
       "      <td>0</td>\n",
       "      <td>0</td>\n",
       "    </tr>\n",
       "  </tbody>\n",
       "</table>\n",
       "<p>387 rows × 7 columns</p>\n",
       "</div>"
      ],
      "text/plain": [
       "                                                         Mon Tue  \\\n",
       "2015_5_18                                                  0   0   \n",
       "2015_5_25                                                  0   0   \n",
       "2015_6_1                                                   0   0   \n",
       "2015_6_8                                                   0   0   \n",
       "2015_6_15  468:わかった・わからなかったをクリックした(13:41:46),468:わかった・わから...   0   \n",
       "...                                                      ...  ..   \n",
       "2022_9_12                                                  0   0   \n",
       "2022_9_19                                                  0   0   \n",
       "2022_9_26                                                  0   0   \n",
       "2022_10_3                                                  0   0   \n",
       "2022_10_9                                                  0   0   \n",
       "\n",
       "                                                         Wed Thu  \\\n",
       "2015_5_18                                                  0   0   \n",
       "2015_5_25                                                  0   0   \n",
       "2015_6_1                                                   0   0   \n",
       "2015_6_8   462:KW提出した(14:46:09),462:KWチェックあり,483:KW提出した,4...   0   \n",
       "2015_6_15                                                  0   0   \n",
       "...                                                      ...  ..   \n",
       "2022_9_12                                                  0   0   \n",
       "2022_9_19                                                  0   0   \n",
       "2022_9_26                                                  0   0   \n",
       "2022_10_3                                                  0   0   \n",
       "2022_10_9                                                  0   0   \n",
       "\n",
       "                                                         Fri  \\\n",
       "2015_5_18  COM_5:KW設置(20:55:20),COM_5:KW設置,COM_5:KW設置,COM...   \n",
       "2015_5_25                                                  0   \n",
       "2015_6_1                                                   0   \n",
       "2015_6_8   COM_5:KW設置(13:19:43),COM_5:KW設置,COM_5:KW設置,COM...   \n",
       "2015_6_15                                                  0   \n",
       "...                                                      ...   \n",
       "2022_9_12                                                  0   \n",
       "2022_9_19                                                  0   \n",
       "2022_9_26                                                  0   \n",
       "2022_10_3                             COM_LEE:KW設置(16:58:39)   \n",
       "2022_10_9                                                  0   \n",
       "\n",
       "                                                         Sat  \\\n",
       "2015_5_18  COM_5:KW設置(20:16:09),COM_5:KW設置,COM_5:KW設置,COM...   \n",
       "2015_5_25                                                  0   \n",
       "2015_6_1                                                   0   \n",
       "2015_6_8   487:質疑応答・追加説明ページ閲覧(20:03:04),COM_5:わかった・わからなかっ...   \n",
       "2015_6_15  COM_6:わかった・わからなかったに関する操作(10:54:04),COM_6:わかった・...   \n",
       "...                                                      ...   \n",
       "2022_9_12                                                  0   \n",
       "2022_9_19                                                  0   \n",
       "2022_9_26                                                  0   \n",
       "2022_10_3                                                  0   \n",
       "2022_10_9                                                  0   \n",
       "\n",
       "                                                         Sun  \n",
       "2015_5_18                                                  0  \n",
       "2015_5_25                                                  0  \n",
       "2015_6_1                                                   0  \n",
       "2015_6_8   479:質疑応答・追加説明ページ閲覧(00:28:49),479:わかった・わからなかったを...  \n",
       "2015_6_15                                                  0  \n",
       "...                                                      ...  \n",
       "2022_9_12                                                  0  \n",
       "2022_9_19                                                  0  \n",
       "2022_9_26                                                  0  \n",
       "2022_10_3                                                  0  \n",
       "2022_10_9                                                  0  \n",
       "\n",
       "[387 rows x 7 columns]"
      ]
     },
     "metadata": {},
     "output_type": "display_data"
    }
   ],
   "source": [
    "df_CEP = pd.DataFrame(NPdataMatL, index=MondayList,columns = ['Mon','Tue','Wed','Thu','Fri','Sat','Sun'])\n",
    "display(df_CEP)\n",
    "df_CEP.to_csv('df_CEP.csv')"
   ]
  },
  {
   "cell_type": "code",
   "execution_count": 106,
   "id": "0ff3ac20",
   "metadata": {},
   "outputs": [
    {
     "data": {
      "text/html": [
       "<div>\n",
       "<style scoped>\n",
       "    .dataframe tbody tr th:only-of-type {\n",
       "        vertical-align: middle;\n",
       "    }\n",
       "\n",
       "    .dataframe tbody tr th {\n",
       "        vertical-align: top;\n",
       "    }\n",
       "\n",
       "    .dataframe thead th {\n",
       "        text-align: right;\n",
       "    }\n",
       "</style>\n",
       "<table border=\"1\" class=\"dataframe\">\n",
       "  <thead>\n",
       "    <tr style=\"text-align: right;\">\n",
       "      <th></th>\n",
       "      <th>Mon</th>\n",
       "      <th>Tue</th>\n",
       "      <th>Wed</th>\n",
       "      <th>Thu</th>\n",
       "      <th>Fri</th>\n",
       "      <th>Sat</th>\n",
       "      <th>Sun</th>\n",
       "    </tr>\n",
       "  </thead>\n",
       "  <tbody>\n",
       "    <tr>\n",
       "      <th>2023_6_26</th>\n",
       "      <td>0</td>\n",
       "      <td>0</td>\n",
       "      <td>0</td>\n",
       "      <td>0</td>\n",
       "      <td>101:修正依頼(18:09:29),101:修正依頼(18:10:42),75:修正依頼(...</td>\n",
       "      <td>0</td>\n",
       "      <td>0</td>\n",
       "    </tr>\n",
       "    <tr>\n",
       "      <th>2023_7_3</th>\n",
       "      <td>77:修正依頼(08:46:51),77:修正依頼(08:48:27),77:資料作成(08...</td>\n",
       "      <td>83:修正依頼(01:56:58),83:修正依頼(02:15:55),77:修正依頼(09...</td>\n",
       "      <td>79:注意項目の追加(08:32:22),72:注意項目の追加(08:44:31),83:注...</td>\n",
       "      <td>69:担当客リストの確認(08:41:35),69:顧客全体リストの確認(08:50:32)...</td>\n",
       "      <td>67:顧客面談(09:14:02),67:契約(09:14:02),67:課題解決(09:1...</td>\n",
       "      <td>101:チーム連絡帳の確認(10:55:34)</td>\n",
       "      <td>79:顧客面談(12:19:52),79:契約(12:19:52),79:課題解決(12:1...</td>\n",
       "    </tr>\n",
       "    <tr>\n",
       "      <th>2023_7_10</th>\n",
       "      <td>116:担当客リストの確認(08:17:41),65:顧客面談(08:48:01),79:課...</td>\n",
       "      <td>79:チーム連絡帳の確認(10:20:27),79:チーム連絡帳の確認(10:20:36),...</td>\n",
       "      <td>79:担当客リストの確認(08:43:54),79:顧客全体リストの確認(08:44:29)...</td>\n",
       "      <td>115:担当客リストの確認(09:14:55),115:チーム連絡帳の確認(09:15:39...</td>\n",
       "      <td>65:担当客リストの確認(11:03:00),65:チーム連絡帳の確認(11:03:35),...</td>\n",
       "      <td>77:担当客リストの確認(14:43:33),77:顧客全体リストの確認(14:46:11)...</td>\n",
       "      <td>110:担当客リストの確認(11:47:55),65:チーム連絡帳の確認(13:11:15)...</td>\n",
       "    </tr>\n",
       "    <tr>\n",
       "      <th>2023_7_17</th>\n",
       "      <td>75:顧客面談(12:02:18),75:課題解決(12:02:18),75:チーム連絡帳の...</td>\n",
       "      <td>83:担当客リストの確認(10:21:08),83:顧客全体リストの確認(10:22:19)...</td>\n",
       "      <td>0</td>\n",
       "      <td>0</td>\n",
       "      <td>65:担当客リストの確認(14:59:56)</td>\n",
       "      <td>0</td>\n",
       "      <td>0</td>\n",
       "    </tr>\n",
       "    <tr>\n",
       "      <th>2023_7_24</th>\n",
       "      <td>0</td>\n",
       "      <td>0</td>\n",
       "      <td>0</td>\n",
       "      <td>111:チーム連絡帳の確認(08:20:20)</td>\n",
       "      <td>0</td>\n",
       "      <td>0</td>\n",
       "      <td>0</td>\n",
       "    </tr>\n",
       "    <tr>\n",
       "      <th>2023_7_31</th>\n",
       "      <td>0</td>\n",
       "      <td>0</td>\n",
       "      <td>0</td>\n",
       "      <td>0</td>\n",
       "      <td>0</td>\n",
       "      <td>0</td>\n",
       "      <td>0</td>\n",
       "    </tr>\n",
       "    <tr>\n",
       "      <th>2023_8_7</th>\n",
       "      <td>0</td>\n",
       "      <td>0</td>\n",
       "      <td>0</td>\n",
       "      <td>0</td>\n",
       "      <td>0</td>\n",
       "      <td>0</td>\n",
       "      <td>0</td>\n",
       "    </tr>\n",
       "    <tr>\n",
       "      <th>2023_8_14</th>\n",
       "      <td>0</td>\n",
       "      <td>0</td>\n",
       "      <td>0</td>\n",
       "      <td>0</td>\n",
       "      <td>0</td>\n",
       "      <td>0</td>\n",
       "      <td>0</td>\n",
       "    </tr>\n",
       "    <tr>\n",
       "      <th>2023_8_21</th>\n",
       "      <td>0</td>\n",
       "      <td>0</td>\n",
       "      <td>0</td>\n",
       "      <td>0</td>\n",
       "      <td>0</td>\n",
       "      <td>0</td>\n",
       "      <td>0</td>\n",
       "    </tr>\n",
       "    <tr>\n",
       "      <th>2023_8_28</th>\n",
       "      <td>0</td>\n",
       "      <td>0</td>\n",
       "      <td>0</td>\n",
       "      <td>0</td>\n",
       "      <td>0</td>\n",
       "      <td>0</td>\n",
       "      <td>0</td>\n",
       "    </tr>\n",
       "    <tr>\n",
       "      <th>2023_9_4</th>\n",
       "      <td>0</td>\n",
       "      <td>0</td>\n",
       "      <td>0</td>\n",
       "      <td>0</td>\n",
       "      <td>0</td>\n",
       "      <td>0</td>\n",
       "      <td>0</td>\n",
       "    </tr>\n",
       "    <tr>\n",
       "      <th>2023_9_11</th>\n",
       "      <td>0</td>\n",
       "      <td>0</td>\n",
       "      <td>0</td>\n",
       "      <td>0</td>\n",
       "      <td>0</td>\n",
       "      <td>0</td>\n",
       "      <td>0</td>\n",
       "    </tr>\n",
       "    <tr>\n",
       "      <th>2023_9_18</th>\n",
       "      <td>0</td>\n",
       "      <td>0</td>\n",
       "      <td>0</td>\n",
       "      <td>0</td>\n",
       "      <td>0</td>\n",
       "      <td>0</td>\n",
       "      <td>0</td>\n",
       "    </tr>\n",
       "    <tr>\n",
       "      <th>2023_9_25</th>\n",
       "      <td>0</td>\n",
       "      <td>0</td>\n",
       "      <td>0</td>\n",
       "      <td>0</td>\n",
       "      <td>0</td>\n",
       "      <td>0</td>\n",
       "      <td>0</td>\n",
       "    </tr>\n",
       "    <tr>\n",
       "      <th>2023_10_2</th>\n",
       "      <td>0</td>\n",
       "      <td>0</td>\n",
       "      <td>0</td>\n",
       "      <td>0</td>\n",
       "      <td>0</td>\n",
       "      <td>0</td>\n",
       "      <td>0</td>\n",
       "    </tr>\n",
       "    <tr>\n",
       "      <th>2023_10_9</th>\n",
       "      <td>0</td>\n",
       "      <td>0</td>\n",
       "      <td>0</td>\n",
       "      <td>0</td>\n",
       "      <td>0</td>\n",
       "      <td>0</td>\n",
       "      <td>0</td>\n",
       "    </tr>\n",
       "    <tr>\n",
       "      <th>2023_10_16</th>\n",
       "      <td>0</td>\n",
       "      <td>0</td>\n",
       "      <td>0</td>\n",
       "      <td>0</td>\n",
       "      <td>0</td>\n",
       "      <td>0</td>\n",
       "      <td>0</td>\n",
       "    </tr>\n",
       "    <tr>\n",
       "      <th>2023_10_23</th>\n",
       "      <td>0</td>\n",
       "      <td>0</td>\n",
       "      <td>0</td>\n",
       "      <td>0</td>\n",
       "      <td>0</td>\n",
       "      <td>0</td>\n",
       "      <td>0</td>\n",
       "    </tr>\n",
       "    <tr>\n",
       "      <th>2023_10_30</th>\n",
       "      <td>0</td>\n",
       "      <td>115:チーム連絡帳の確認(11:04:53)</td>\n",
       "      <td>0</td>\n",
       "      <td>0</td>\n",
       "      <td>0</td>\n",
       "      <td>0</td>\n",
       "      <td>0</td>\n",
       "    </tr>\n",
       "    <tr>\n",
       "      <th>2023_11_5</th>\n",
       "      <td>0</td>\n",
       "      <td>0</td>\n",
       "      <td>0</td>\n",
       "      <td>0</td>\n",
       "      <td>0</td>\n",
       "      <td>0</td>\n",
       "      <td>0</td>\n",
       "    </tr>\n",
       "  </tbody>\n",
       "</table>\n",
       "</div>"
      ],
      "text/plain": [
       "                                                          Mon  \\\n",
       "2023_6_26                                                   0   \n",
       "2023_7_3    77:修正依頼(08:46:51),77:修正依頼(08:48:27),77:資料作成(08...   \n",
       "2023_7_10   116:担当客リストの確認(08:17:41),65:顧客面談(08:48:01),79:課...   \n",
       "2023_7_17   75:顧客面談(12:02:18),75:課題解決(12:02:18),75:チーム連絡帳の...   \n",
       "2023_7_24                                                   0   \n",
       "2023_7_31                                                   0   \n",
       "2023_8_7                                                    0   \n",
       "2023_8_14                                                   0   \n",
       "2023_8_21                                                   0   \n",
       "2023_8_28                                                   0   \n",
       "2023_9_4                                                    0   \n",
       "2023_9_11                                                   0   \n",
       "2023_9_18                                                   0   \n",
       "2023_9_25                                                   0   \n",
       "2023_10_2                                                   0   \n",
       "2023_10_9                                                   0   \n",
       "2023_10_16                                                  0   \n",
       "2023_10_23                                                  0   \n",
       "2023_10_30                                                  0   \n",
       "2023_11_5                                                   0   \n",
       "\n",
       "                                                          Tue  \\\n",
       "2023_6_26                                                   0   \n",
       "2023_7_3    83:修正依頼(01:56:58),83:修正依頼(02:15:55),77:修正依頼(09...   \n",
       "2023_7_10   79:チーム連絡帳の確認(10:20:27),79:チーム連絡帳の確認(10:20:36),...   \n",
       "2023_7_17   83:担当客リストの確認(10:21:08),83:顧客全体リストの確認(10:22:19)...   \n",
       "2023_7_24                                                   0   \n",
       "2023_7_31                                                   0   \n",
       "2023_8_7                                                    0   \n",
       "2023_8_14                                                   0   \n",
       "2023_8_21                                                   0   \n",
       "2023_8_28                                                   0   \n",
       "2023_9_4                                                    0   \n",
       "2023_9_11                                                   0   \n",
       "2023_9_18                                                   0   \n",
       "2023_9_25                                                   0   \n",
       "2023_10_2                                                   0   \n",
       "2023_10_9                                                   0   \n",
       "2023_10_16                                                  0   \n",
       "2023_10_23                                                  0   \n",
       "2023_10_30                            115:チーム連絡帳の確認(11:04:53)   \n",
       "2023_11_5                                                   0   \n",
       "\n",
       "                                                          Wed  \\\n",
       "2023_6_26                                                   0   \n",
       "2023_7_3    79:注意項目の追加(08:32:22),72:注意項目の追加(08:44:31),83:注...   \n",
       "2023_7_10   79:担当客リストの確認(08:43:54),79:顧客全体リストの確認(08:44:29)...   \n",
       "2023_7_17                                                   0   \n",
       "2023_7_24                                                   0   \n",
       "2023_7_31                                                   0   \n",
       "2023_8_7                                                    0   \n",
       "2023_8_14                                                   0   \n",
       "2023_8_21                                                   0   \n",
       "2023_8_28                                                   0   \n",
       "2023_9_4                                                    0   \n",
       "2023_9_11                                                   0   \n",
       "2023_9_18                                                   0   \n",
       "2023_9_25                                                   0   \n",
       "2023_10_2                                                   0   \n",
       "2023_10_9                                                   0   \n",
       "2023_10_16                                                  0   \n",
       "2023_10_23                                                  0   \n",
       "2023_10_30                                                  0   \n",
       "2023_11_5                                                   0   \n",
       "\n",
       "                                                          Thu  \\\n",
       "2023_6_26                                                   0   \n",
       "2023_7_3    69:担当客リストの確認(08:41:35),69:顧客全体リストの確認(08:50:32)...   \n",
       "2023_7_10   115:担当客リストの確認(09:14:55),115:チーム連絡帳の確認(09:15:39...   \n",
       "2023_7_17                                                   0   \n",
       "2023_7_24                             111:チーム連絡帳の確認(08:20:20)   \n",
       "2023_7_31                                                   0   \n",
       "2023_8_7                                                    0   \n",
       "2023_8_14                                                   0   \n",
       "2023_8_21                                                   0   \n",
       "2023_8_28                                                   0   \n",
       "2023_9_4                                                    0   \n",
       "2023_9_11                                                   0   \n",
       "2023_9_18                                                   0   \n",
       "2023_9_25                                                   0   \n",
       "2023_10_2                                                   0   \n",
       "2023_10_9                                                   0   \n",
       "2023_10_16                                                  0   \n",
       "2023_10_23                                                  0   \n",
       "2023_10_30                                                  0   \n",
       "2023_11_5                                                   0   \n",
       "\n",
       "                                                          Fri  \\\n",
       "2023_6_26   101:修正依頼(18:09:29),101:修正依頼(18:10:42),75:修正依頼(...   \n",
       "2023_7_3    67:顧客面談(09:14:02),67:契約(09:14:02),67:課題解決(09:1...   \n",
       "2023_7_10   65:担当客リストの確認(11:03:00),65:チーム連絡帳の確認(11:03:35),...   \n",
       "2023_7_17                              65:担当客リストの確認(14:59:56)   \n",
       "2023_7_24                                                   0   \n",
       "2023_7_31                                                   0   \n",
       "2023_8_7                                                    0   \n",
       "2023_8_14                                                   0   \n",
       "2023_8_21                                                   0   \n",
       "2023_8_28                                                   0   \n",
       "2023_9_4                                                    0   \n",
       "2023_9_11                                                   0   \n",
       "2023_9_18                                                   0   \n",
       "2023_9_25                                                   0   \n",
       "2023_10_2                                                   0   \n",
       "2023_10_9                                                   0   \n",
       "2023_10_16                                                  0   \n",
       "2023_10_23                                                  0   \n",
       "2023_10_30                                                  0   \n",
       "2023_11_5                                                   0   \n",
       "\n",
       "                                                          Sat  \\\n",
       "2023_6_26                                                   0   \n",
       "2023_7_3                              101:チーム連絡帳の確認(10:55:34)   \n",
       "2023_7_10   77:担当客リストの確認(14:43:33),77:顧客全体リストの確認(14:46:11)...   \n",
       "2023_7_17                                                   0   \n",
       "2023_7_24                                                   0   \n",
       "2023_7_31                                                   0   \n",
       "2023_8_7                                                    0   \n",
       "2023_8_14                                                   0   \n",
       "2023_8_21                                                   0   \n",
       "2023_8_28                                                   0   \n",
       "2023_9_4                                                    0   \n",
       "2023_9_11                                                   0   \n",
       "2023_9_18                                                   0   \n",
       "2023_9_25                                                   0   \n",
       "2023_10_2                                                   0   \n",
       "2023_10_9                                                   0   \n",
       "2023_10_16                                                  0   \n",
       "2023_10_23                                                  0   \n",
       "2023_10_30                                                  0   \n",
       "2023_11_5                                                   0   \n",
       "\n",
       "                                                          Sun  \n",
       "2023_6_26                                                   0  \n",
       "2023_7_3    79:顧客面談(12:19:52),79:契約(12:19:52),79:課題解決(12:1...  \n",
       "2023_7_10   110:担当客リストの確認(11:47:55),65:チーム連絡帳の確認(13:11:15)...  \n",
       "2023_7_17                                                   0  \n",
       "2023_7_24                                                   0  \n",
       "2023_7_31                                                   0  \n",
       "2023_8_7                                                    0  \n",
       "2023_8_14                                                   0  \n",
       "2023_8_21                                                   0  \n",
       "2023_8_28                                                   0  \n",
       "2023_9_4                                                    0  \n",
       "2023_9_11                                                   0  \n",
       "2023_9_18                                                   0  \n",
       "2023_9_25                                                   0  \n",
       "2023_10_2                                                   0  \n",
       "2023_10_9                                                   0  \n",
       "2023_10_16                                                  0  \n",
       "2023_10_23                                                  0  \n",
       "2023_10_30                                                  0  \n",
       "2023_11_5                                                   0  "
      ]
     },
     "metadata": {},
     "output_type": "display_data"
    }
   ],
   "source": [
    "df_CEP = pd.DataFrame(NPdataMatL, index=MondayList,columns = ['Mon','Tue','Wed','Thu','Fri','Sat','Sun'])\n",
    "display(df_CEP)\n",
    "df_CEP.to_csv('df_CEP.csv',encoding='shift-jis')"
   ]
  },
  {
   "cell_type": "code",
   "execution_count": null,
   "id": "67e0bf16",
   "metadata": {},
   "outputs": [],
   "source": [
    "df_CEP = pd.DataFrame(NPdataMatL, columns = ['Mon','Tue','Wed','Thu','Fri','Sat','Sun'])"
   ]
  },
  {
   "cell_type": "code",
   "execution_count": 22,
   "id": "5660885c",
   "metadata": {},
   "outputs": [
    {
     "data": {
      "text/html": [
       "<div>\n",
       "<style scoped>\n",
       "    .dataframe tbody tr th:only-of-type {\n",
       "        vertical-align: middle;\n",
       "    }\n",
       "\n",
       "    .dataframe tbody tr th {\n",
       "        vertical-align: top;\n",
       "    }\n",
       "\n",
       "    .dataframe thead th {\n",
       "        text-align: right;\n",
       "    }\n",
       "</style>\n",
       "<table border=\"1\" class=\"dataframe\">\n",
       "  <thead>\n",
       "    <tr style=\"text-align: right;\">\n",
       "      <th></th>\n",
       "      <th>Mon</th>\n",
       "      <th>Tue</th>\n",
       "      <th>Wed</th>\n",
       "      <th>Thu</th>\n",
       "      <th>Fri</th>\n",
       "      <th>Sat</th>\n",
       "      <th>Sun</th>\n",
       "    </tr>\n",
       "  </thead>\n",
       "  <tbody>\n",
       "    <tr>\n",
       "      <th>0</th>\n",
       "      <td>0</td>\n",
       "      <td>0</td>\n",
       "      <td>0</td>\n",
       "      <td>0</td>\n",
       "      <td>COM_5:KW設置(20:55:20),COM_5:KW設置,COM_5:KW設置,COM...</td>\n",
       "      <td>COM_5:KW設置(20:16:09),COM_5:KW設置,COM_5:KW設置,COM...</td>\n",
       "      <td>0</td>\n",
       "    </tr>\n",
       "    <tr>\n",
       "      <th>1</th>\n",
       "      <td>0</td>\n",
       "      <td>0</td>\n",
       "      <td>0</td>\n",
       "      <td>0</td>\n",
       "      <td>0</td>\n",
       "      <td>0</td>\n",
       "      <td>0</td>\n",
       "    </tr>\n",
       "    <tr>\n",
       "      <th>2</th>\n",
       "      <td>0</td>\n",
       "      <td>0</td>\n",
       "      <td>0</td>\n",
       "      <td>0</td>\n",
       "      <td>0</td>\n",
       "      <td>0</td>\n",
       "      <td>0</td>\n",
       "    </tr>\n",
       "    <tr>\n",
       "      <th>3</th>\n",
       "      <td>0</td>\n",
       "      <td>0</td>\n",
       "      <td>462:KW提出した(14:46:09),462:KWチェックあり,483:KW提出した,4...</td>\n",
       "      <td>0</td>\n",
       "      <td>COM_5:KW設置(13:19:43),COM_5:KW設置,COM_5:KW設置,COM...</td>\n",
       "      <td>487:質疑応答・追加説明ページ閲覧(20:03:04),COM_5:わかった・わからなかっ...</td>\n",
       "      <td>479:質疑応答・追加説明ページ閲覧(00:28:49),479:わかった・わからなかったを...</td>\n",
       "    </tr>\n",
       "    <tr>\n",
       "      <th>4</th>\n",
       "      <td>468:わかった・わからなかったをクリックした(13:41:46),468:わかった・わから...</td>\n",
       "      <td>0</td>\n",
       "      <td>0</td>\n",
       "      <td>0</td>\n",
       "      <td>0</td>\n",
       "      <td>COM_6:わかった・わからなかったに関する操作(10:54:04),COM_6:わかった・...</td>\n",
       "      <td>0</td>\n",
       "    </tr>\n",
       "    <tr>\n",
       "      <th>...</th>\n",
       "      <td>...</td>\n",
       "      <td>...</td>\n",
       "      <td>...</td>\n",
       "      <td>...</td>\n",
       "      <td>...</td>\n",
       "      <td>...</td>\n",
       "      <td>...</td>\n",
       "    </tr>\n",
       "    <tr>\n",
       "      <th>382</th>\n",
       "      <td>0</td>\n",
       "      <td>0</td>\n",
       "      <td>0</td>\n",
       "      <td>0</td>\n",
       "      <td>0</td>\n",
       "      <td>0</td>\n",
       "      <td>0</td>\n",
       "    </tr>\n",
       "    <tr>\n",
       "      <th>383</th>\n",
       "      <td>0</td>\n",
       "      <td>0</td>\n",
       "      <td>0</td>\n",
       "      <td>0</td>\n",
       "      <td>0</td>\n",
       "      <td>0</td>\n",
       "      <td>0</td>\n",
       "    </tr>\n",
       "    <tr>\n",
       "      <th>384</th>\n",
       "      <td>0</td>\n",
       "      <td>0</td>\n",
       "      <td>0</td>\n",
       "      <td>0</td>\n",
       "      <td>0</td>\n",
       "      <td>0</td>\n",
       "      <td>0</td>\n",
       "    </tr>\n",
       "    <tr>\n",
       "      <th>385</th>\n",
       "      <td>0</td>\n",
       "      <td>0</td>\n",
       "      <td>0</td>\n",
       "      <td>0</td>\n",
       "      <td>COM_LEE:KW設置(16:58:39)</td>\n",
       "      <td>0</td>\n",
       "      <td>0</td>\n",
       "    </tr>\n",
       "    <tr>\n",
       "      <th>386</th>\n",
       "      <td>0</td>\n",
       "      <td>0</td>\n",
       "      <td>0</td>\n",
       "      <td>0</td>\n",
       "      <td>0</td>\n",
       "      <td>0</td>\n",
       "      <td>0</td>\n",
       "    </tr>\n",
       "  </tbody>\n",
       "</table>\n",
       "<p>387 rows × 7 columns</p>\n",
       "</div>"
      ],
      "text/plain": [
       "                                                   Mon Tue  \\\n",
       "0                                                    0   0   \n",
       "1                                                    0   0   \n",
       "2                                                    0   0   \n",
       "3                                                    0   0   \n",
       "4    468:わかった・わからなかったをクリックした(13:41:46),468:わかった・わから...   0   \n",
       "..                                                 ...  ..   \n",
       "382                                                  0   0   \n",
       "383                                                  0   0   \n",
       "384                                                  0   0   \n",
       "385                                                  0   0   \n",
       "386                                                  0   0   \n",
       "\n",
       "                                                   Wed Thu  \\\n",
       "0                                                    0   0   \n",
       "1                                                    0   0   \n",
       "2                                                    0   0   \n",
       "3    462:KW提出した(14:46:09),462:KWチェックあり,483:KW提出した,4...   0   \n",
       "4                                                    0   0   \n",
       "..                                                 ...  ..   \n",
       "382                                                  0   0   \n",
       "383                                                  0   0   \n",
       "384                                                  0   0   \n",
       "385                                                  0   0   \n",
       "386                                                  0   0   \n",
       "\n",
       "                                                   Fri  \\\n",
       "0    COM_5:KW設置(20:55:20),COM_5:KW設置,COM_5:KW設置,COM...   \n",
       "1                                                    0   \n",
       "2                                                    0   \n",
       "3    COM_5:KW設置(13:19:43),COM_5:KW設置,COM_5:KW設置,COM...   \n",
       "4                                                    0   \n",
       "..                                                 ...   \n",
       "382                                                  0   \n",
       "383                                                  0   \n",
       "384                                                  0   \n",
       "385                             COM_LEE:KW設置(16:58:39)   \n",
       "386                                                  0   \n",
       "\n",
       "                                                   Sat  \\\n",
       "0    COM_5:KW設置(20:16:09),COM_5:KW設置,COM_5:KW設置,COM...   \n",
       "1                                                    0   \n",
       "2                                                    0   \n",
       "3    487:質疑応答・追加説明ページ閲覧(20:03:04),COM_5:わかった・わからなかっ...   \n",
       "4    COM_6:わかった・わからなかったに関する操作(10:54:04),COM_6:わかった・...   \n",
       "..                                                 ...   \n",
       "382                                                  0   \n",
       "383                                                  0   \n",
       "384                                                  0   \n",
       "385                                                  0   \n",
       "386                                                  0   \n",
       "\n",
       "                                                   Sun  \n",
       "0                                                    0  \n",
       "1                                                    0  \n",
       "2                                                    0  \n",
       "3    479:質疑応答・追加説明ページ閲覧(00:28:49),479:わかった・わからなかったを...  \n",
       "4                                                    0  \n",
       "..                                                 ...  \n",
       "382                                                  0  \n",
       "383                                                  0  \n",
       "384                                                  0  \n",
       "385                                                  0  \n",
       "386                                                  0  \n",
       "\n",
       "[387 rows x 7 columns]"
      ]
     },
     "metadata": {},
     "output_type": "display_data"
    }
   ],
   "source": [
    "display(df_CEP)"
   ]
  },
  {
   "cell_type": "code",
   "execution_count": null,
   "id": "cc1adfe1",
   "metadata": {},
   "outputs": [],
   "source": []
  },
  {
   "cell_type": "code",
   "execution_count": null,
   "id": "566416b3",
   "metadata": {},
   "outputs": [],
   "source": []
  },
  {
   "cell_type": "code",
   "execution_count": 284,
   "id": "5b8378a2",
   "metadata": {},
   "outputs": [
    {
     "data": {
      "text/plain": [
       "[['462:KW提出した'], ['462:KWチェックあり']]"
      ]
     },
     "execution_count": 284,
     "metadata": {},
     "output_type": "execute_result"
    }
   ],
   "source": [
    "[NPdataMatL[i2,j2].tolist(),[NameAct[k]]]"
   ]
  },
  {
   "cell_type": "code",
   "execution_count": 273,
   "id": "518fb47d",
   "metadata": {},
   "outputs": [
    {
     "data": {
      "text/plain": [
       "['462:KW提出した', '462:KWチェックあり']"
      ]
     },
     "execution_count": 273,
     "metadata": {},
     "output_type": "execute_result"
    }
   ],
   "source": [
    "NPdataMatL[i2,j2]\n",
    "np.hstack([NPdataMatL[i2,j2],[NameAct[k]]]).tolist()"
   ]
  },
  {
   "cell_type": "code",
   "execution_count": 248,
   "id": "beb4df50",
   "metadata": {},
   "outputs": [],
   "source": [
    "NPdataMatL[i2,j2]={'0', '462:KW提出した'}"
   ]
  },
  {
   "cell_type": "code",
   "execution_count": 245,
   "id": "06e80092",
   "metadata": {},
   "outputs": [
    {
     "data": {
      "text/plain": [
       "['0', '462:KW提出した']"
      ]
     },
     "execution_count": 245,
     "metadata": {},
     "output_type": "execute_result"
    }
   ],
   "source": [
    "NPdataMatL[i2,j2].tolist()+[NameAct[k]]"
   ]
  },
  {
   "cell_type": "code",
   "execution_count": 239,
   "id": "120012dc",
   "metadata": {},
   "outputs": [
    {
     "data": {
      "text/plain": [
       "array(['462:KW提出した'], dtype=object)"
      ]
     },
     "execution_count": 239,
     "metadata": {},
     "output_type": "execute_result"
    }
   ],
   "source": [
    "NPdataMatL[i2,j2]"
   ]
  },
  {
   "cell_type": "code",
   "execution_count": 235,
   "id": "543b96d5",
   "metadata": {},
   "outputs": [
    {
     "data": {
      "text/plain": [
       "array(['462:KW提出した'], dtype=object)"
      ]
     },
     "execution_count": 235,
     "metadata": {},
     "output_type": "execute_result"
    }
   ],
   "source": [
    "NPdataMatL[i2,j2]"
   ]
  },
  {
   "cell_type": "code",
   "execution_count": 242,
   "id": "592bdab8",
   "metadata": {},
   "outputs": [
    {
     "data": {
      "text/plain": [
       "['462:KW提出した', '462:KWチェックあり']"
      ]
     },
     "execution_count": 242,
     "metadata": {},
     "output_type": "execute_result"
    }
   ],
   "source": [
    "NPdataMatL[i2,j2].tolist()+[NameAct[k]]"
   ]
  },
  {
   "cell_type": "code",
   "execution_count": 229,
   "id": "1a877582",
   "metadata": {},
   "outputs": [
    {
     "data": {
      "text/plain": [
       "['462:KW提出した', '462:KWチェックあり']"
      ]
     },
     "execution_count": 229,
     "metadata": {},
     "output_type": "execute_result"
    }
   ],
   "source": [
    "NPdataMatL[i2,j2].tolist()+[NameAct[k]]"
   ]
  },
  {
   "cell_type": "code",
   "execution_count": 228,
   "id": "5ce53a7a",
   "metadata": {},
   "outputs": [
    {
     "data": {
      "text/plain": [
       "array(['462:KW提出した'], dtype=object)"
      ]
     },
     "execution_count": 228,
     "metadata": {},
     "output_type": "execute_result"
    }
   ],
   "source": [
    "NPdataMatL[i2,j2]"
   ]
  },
  {
   "cell_type": "code",
   "execution_count": 227,
   "id": "9c0eabe5",
   "metadata": {},
   "outputs": [
    {
     "data": {
      "text/plain": [
       "['462:KW提出した', '462:KWチェックあり']"
      ]
     },
     "execution_count": 227,
     "metadata": {},
     "output_type": "execute_result"
    }
   ],
   "source": [
    "NPdataMatL[i2,j2].tolist()+[NameAct[k]]\n",
    "# [NameAct[k]]"
   ]
  },
  {
   "cell_type": "code",
   "execution_count": 222,
   "id": "48fc1be2",
   "metadata": {},
   "outputs": [
    {
     "data": {
      "text/plain": [
       "['462:KW提出した']"
      ]
     },
     "execution_count": 222,
     "metadata": {},
     "output_type": "execute_result"
    }
   ],
   "source": [
    "len(NPdataMatL[i2,j2])\n",
    "NPdataMatL[i2,j2]\n",
    "NPdataMatL[i2,j2].tolist()"
   ]
  },
  {
   "cell_type": "code",
   "execution_count": 211,
   "id": "4d6a53b1",
   "metadata": {},
   "outputs": [
    {
     "data": {
      "text/plain": [
       "array(['470:わかった・わからなかったをクリックした470:わかった・わからなかったをクリックした470:わかった・わからなかったをクリックした470:わかった・わからなかったをクリックした470:質疑応答・追加説明ページ閲覧470:わかった・わからなかったをクリックした470:わかった・わからなかったをクリックした470:わかった・わからなかったをクリックした470:わかった・わからなかったをクリックした470:わかった・わからなかったをクリックした'],\n",
       "      dtype=object)"
      ]
     },
     "execution_count": 211,
     "metadata": {},
     "output_type": "execute_result"
    }
   ],
   "source": [
    "NPdataMatL[i2,j2]"
   ]
  },
  {
   "cell_type": "code",
   "execution_count": 205,
   "id": "2d4963c4",
   "metadata": {},
   "outputs": [
    {
     "data": {
      "text/plain": [
       "['470:わかった・わからなかったをクリックした', '470:わかった・わからなかったをクリックした']"
      ]
     },
     "execution_count": 205,
     "metadata": {},
     "output_type": "execute_result"
    }
   ],
   "source": [
    "g=[NameAct[k]]\n",
    "g+[NameAct[k]]"
   ]
  },
  {
   "cell_type": "code",
   "execution_count": 184,
   "id": "76f862dd",
   "metadata": {},
   "outputs": [
    {
     "data": {
      "text/plain": [
       "array([0])"
      ]
     },
     "metadata": {},
     "output_type": "display_data"
    },
    {
     "data": {
      "text/plain": [
       "6"
      ]
     },
     "execution_count": 184,
     "metadata": {},
     "output_type": "execute_result"
    }
   ],
   "source": [
    "k=73\n",
    "dList[k]\n",
    "i2=np.where((dList[k].year==wkL2[:,0]) & (dList[k].month==wkL2[:,1]) & (dList[k].day-wkL2[:,2]<=6) & (dList[k].day-wkL2[:,2]>=0))[0]\n",
    "display(i2)\n",
    "\n",
    "dList[k].day\n",
    "\n",
    "dList[k].day-wkL2[0,2]"
   ]
  },
  {
   "cell_type": "code",
   "execution_count": 150,
   "id": "51bfa614",
   "metadata": {},
   "outputs": [
    {
     "data": {
      "text/plain": [
       "True"
      ]
     },
     "execution_count": 150,
     "metadata": {},
     "output_type": "execute_result"
    }
   ],
   "source": [
    "np.shape(NPdataMatL)\n",
    "NPdataMatL[0,0]==''"
   ]
  },
  {
   "cell_type": "code",
   "execution_count": 138,
   "id": "be9b1483",
   "metadata": {},
   "outputs": [
    {
     "data": {
      "text/plain": [
       "36"
      ]
     },
     "execution_count": 138,
     "metadata": {},
     "output_type": "execute_result"
    }
   ],
   "source": [
    "int(i2)"
   ]
  },
  {
   "cell_type": "code",
   "execution_count": 137,
   "id": "a53012a5",
   "metadata": {},
   "outputs": [
    {
     "data": {
      "text/plain": [
       "3"
      ]
     },
     "execution_count": 137,
     "metadata": {},
     "output_type": "execute_result"
    }
   ],
   "source": [
    "i2\n",
    "j2"
   ]
  },
  {
   "cell_type": "code",
   "execution_count": 135,
   "id": "fb4de63f",
   "metadata": {},
   "outputs": [
    {
     "data": {
      "text/plain": [
       "(38, 7)"
      ]
     },
     "execution_count": 135,
     "metadata": {},
     "output_type": "execute_result"
    }
   ],
   "source": [
    "np.shape(NPdataMat)"
   ]
  },
  {
   "cell_type": "code",
   "execution_count": 129,
   "id": "cec70e19",
   "metadata": {},
   "outputs": [
    {
     "ename": "TypeError",
     "evalue": "object of type 'NoneType' has no len()",
     "output_type": "error",
     "traceback": [
      "\u001b[0;31m---------------------------------------------------------------------------\u001b[0m",
      "\u001b[0;31mTypeError\u001b[0m                                 Traceback (most recent call last)",
      "\u001b[0;32m/var/folders/mg/w5t8lkhc8xj79f001s7kzpfh0000gp/T/ipykernel_50484/3130521752.py\u001b[0m in \u001b[0;36m<module>\u001b[0;34m\u001b[0m\n\u001b[0;32m----> 1\u001b[0;31m \u001b[0mlen\u001b[0m\u001b[0;34m(\u001b[0m\u001b[0mNPdataMat\u001b[0m\u001b[0;34m[\u001b[0m\u001b[0;36m0\u001b[0m\u001b[0;34m,\u001b[0m\u001b[0;36m0\u001b[0m\u001b[0;34m]\u001b[0m\u001b[0;34m)\u001b[0m\u001b[0;34m\u001b[0m\u001b[0;34m\u001b[0m\u001b[0m\n\u001b[0m",
      "\u001b[0;31mTypeError\u001b[0m: object of type 'NoneType' has no len()"
     ]
    }
   ],
   "source": [
    "len(NPdataMat[0,0])"
   ]
  },
  {
   "cell_type": "code",
   "execution_count": 46,
   "id": "640f0bc2",
   "metadata": {},
   "outputs": [
    {
     "data": {
      "text/plain": [
       "True"
      ]
     },
     "execution_count": 46,
     "metadata": {},
     "output_type": "execute_result"
    }
   ],
   "source": [
    "(WKst[0]-dList[0]).days<6"
   ]
  },
  {
   "cell_type": "code",
   "execution_count": 51,
   "id": "ab377805",
   "metadata": {},
   "outputs": [
    {
     "data": {
      "text/plain": [
       "[datetime.datetime(2015, 6, 8, 14, 46, 9),\n",
       " datetime.datetime(2015, 6, 15, 14, 46, 9),\n",
       " datetime.datetime(2015, 6, 22, 14, 46, 9),\n",
       " datetime.datetime(2015, 6, 29, 14, 46, 9),\n",
       " datetime.datetime(2015, 7, 6, 14, 46, 9),\n",
       " datetime.datetime(2015, 7, 13, 14, 46, 9),\n",
       " datetime.datetime(2015, 7, 20, 14, 46, 9),\n",
       " datetime.datetime(2015, 7, 27, 14, 46, 9),\n",
       " datetime.datetime(2015, 8, 3, 14, 46, 9),\n",
       " datetime.datetime(2015, 8, 10, 14, 46, 9),\n",
       " datetime.datetime(2015, 8, 17, 14, 46, 9),\n",
       " datetime.datetime(2015, 8, 24, 14, 46, 9),\n",
       " datetime.datetime(2015, 8, 31, 14, 46, 9),\n",
       " datetime.datetime(2015, 9, 7, 14, 46, 9),\n",
       " datetime.datetime(2015, 9, 14, 14, 46, 9),\n",
       " datetime.datetime(2015, 9, 21, 14, 46, 9),\n",
       " datetime.datetime(2015, 9, 28, 14, 46, 9),\n",
       " datetime.datetime(2015, 10, 5, 14, 46, 9),\n",
       " datetime.datetime(2015, 10, 12, 14, 46, 9),\n",
       " datetime.datetime(2015, 10, 19, 14, 46, 9),\n",
       " datetime.datetime(2015, 10, 26, 14, 46, 9),\n",
       " datetime.datetime(2015, 11, 2, 14, 46, 9),\n",
       " datetime.datetime(2015, 11, 9, 14, 46, 9),\n",
       " datetime.datetime(2015, 11, 16, 14, 46, 9),\n",
       " datetime.datetime(2015, 11, 23, 14, 46, 9),\n",
       " datetime.datetime(2015, 11, 30, 14, 46, 9),\n",
       " datetime.datetime(2015, 12, 7, 14, 46, 9),\n",
       " datetime.datetime(2015, 12, 14, 14, 46, 9),\n",
       " datetime.datetime(2015, 12, 21, 14, 46, 9),\n",
       " datetime.datetime(2015, 12, 28, 14, 46, 9),\n",
       " datetime.datetime(2016, 1, 4, 14, 46, 9),\n",
       " datetime.datetime(2016, 1, 11, 14, 46, 9),\n",
       " datetime.datetime(2016, 1, 18, 14, 46, 9),\n",
       " datetime.datetime(2016, 1, 25, 14, 46, 9),\n",
       " datetime.datetime(2016, 2, 1, 14, 46, 9),\n",
       " datetime.datetime(2016, 2, 8, 14, 46, 9),\n",
       " datetime.datetime(2016, 2, 15, 14, 46, 9),\n",
       " datetime.datetime(2016, 2, 21, 14, 46, 9)]"
      ]
     },
     "execution_count": 51,
     "metadata": {},
     "output_type": "execute_result"
    }
   ],
   "source": [
    "WKst"
   ]
  },
  {
   "cell_type": "code",
   "execution_count": 50,
   "id": "408aa54a",
   "metadata": {},
   "outputs": [
    {
     "data": {
      "text/plain": [
       "5"
      ]
     },
     "execution_count": 50,
     "metadata": {},
     "output_type": "execute_result"
    }
   ],
   "source": [
    "(-dList[0]).days"
   ]
  },
  {
   "cell_type": "code",
   "execution_count": null,
   "id": "1ac4031d",
   "metadata": {},
   "outputs": [],
   "source": [
    "np.arange(0,TotalDays,7)"
   ]
  },
  {
   "cell_type": "code",
   "execution_count": 45,
   "id": "f88f353a",
   "metadata": {},
   "outputs": [
    {
     "data": {
      "text/plain": [
       "[datetime.datetime(2015, 6, 10, 14, 46, 9),\n",
       " datetime.datetime(2015, 6, 10, 14, 46, 9),\n",
       " datetime.datetime(2015, 6, 10, 14, 46, 9),\n",
       " datetime.datetime(2015, 6, 10, 14, 46, 9),\n",
       " datetime.datetime(2015, 6, 10, 14, 46, 9),\n",
       " datetime.datetime(2015, 6, 10, 14, 46, 12),\n",
       " datetime.datetime(2015, 6, 10, 14, 46, 12),\n",
       " datetime.datetime(2015, 6, 10, 14, 46, 14),\n",
       " datetime.datetime(2015, 6, 10, 14, 46, 14),\n",
       " datetime.datetime(2015, 6, 10, 14, 46, 14),\n",
       " datetime.datetime(2015, 6, 10, 14, 46, 16),\n",
       " datetime.datetime(2015, 6, 10, 14, 46, 16),\n",
       " datetime.datetime(2015, 6, 10, 14, 46, 16),\n",
       " datetime.datetime(2015, 6, 10, 14, 46, 18),\n",
       " datetime.datetime(2015, 6, 10, 14, 46, 18),\n",
       " datetime.datetime(2015, 6, 10, 14, 46, 19),\n",
       " datetime.datetime(2015, 6, 10, 14, 46, 19),\n",
       " datetime.datetime(2015, 6, 10, 14, 46, 19),\n",
       " datetime.datetime(2015, 6, 10, 14, 46, 19),\n",
       " datetime.datetime(2015, 6, 10, 14, 46, 19),\n",
       " datetime.datetime(2015, 6, 10, 14, 46, 19),\n",
       " datetime.datetime(2015, 6, 10, 14, 46, 19),\n",
       " datetime.datetime(2015, 6, 10, 14, 46, 19),\n",
       " datetime.datetime(2015, 6, 10, 14, 46, 19),\n",
       " datetime.datetime(2015, 6, 10, 14, 46, 19),\n",
       " datetime.datetime(2015, 6, 10, 14, 46, 19),\n",
       " datetime.datetime(2015, 6, 10, 14, 46, 19),\n",
       " datetime.datetime(2015, 6, 10, 14, 46, 19),\n",
       " datetime.datetime(2015, 6, 10, 14, 46, 20),\n",
       " datetime.datetime(2015, 6, 10, 14, 46, 20),\n",
       " datetime.datetime(2015, 6, 10, 14, 46, 21),\n",
       " datetime.datetime(2015, 6, 10, 14, 46, 21),\n",
       " datetime.datetime(2015, 6, 10, 14, 46, 21),\n",
       " datetime.datetime(2015, 6, 10, 14, 46, 21),\n",
       " datetime.datetime(2015, 6, 10, 14, 46, 21),\n",
       " datetime.datetime(2015, 6, 10, 14, 46, 21),\n",
       " datetime.datetime(2015, 6, 10, 14, 46, 23),\n",
       " datetime.datetime(2015, 6, 10, 14, 46, 23),\n",
       " datetime.datetime(2015, 6, 10, 14, 46, 23),\n",
       " datetime.datetime(2015, 6, 10, 14, 46, 23),\n",
       " datetime.datetime(2015, 6, 10, 14, 46, 23),\n",
       " datetime.datetime(2015, 6, 10, 14, 46, 23),\n",
       " datetime.datetime(2015, 6, 10, 14, 46, 24),\n",
       " datetime.datetime(2015, 6, 10, 14, 46, 24),\n",
       " datetime.datetime(2015, 6, 10, 14, 46, 24),\n",
       " datetime.datetime(2015, 6, 10, 14, 46, 24),\n",
       " datetime.datetime(2015, 6, 10, 14, 46, 24),\n",
       " datetime.datetime(2015, 6, 10, 14, 46, 31),\n",
       " datetime.datetime(2015, 6, 10, 14, 46, 31),\n",
       " datetime.datetime(2015, 6, 10, 14, 46, 31),\n",
       " datetime.datetime(2015, 6, 10, 14, 46, 36),\n",
       " datetime.datetime(2015, 6, 10, 14, 46, 36),\n",
       " datetime.datetime(2015, 6, 10, 14, 46, 36),\n",
       " datetime.datetime(2015, 6, 10, 14, 46, 38),\n",
       " datetime.datetime(2015, 6, 10, 14, 46, 38),\n",
       " datetime.datetime(2015, 6, 10, 14, 46, 38),\n",
       " datetime.datetime(2015, 6, 10, 14, 46, 41),\n",
       " datetime.datetime(2015, 6, 10, 14, 46, 41),\n",
       " datetime.datetime(2015, 6, 10, 14, 46, 50),\n",
       " datetime.datetime(2015, 6, 10, 14, 46, 50),\n",
       " datetime.datetime(2015, 6, 10, 14, 46, 50),\n",
       " datetime.datetime(2015, 6, 10, 14, 50, 22),\n",
       " datetime.datetime(2015, 6, 10, 14, 50, 22),\n",
       " datetime.datetime(2015, 6, 10, 14, 50, 22),\n",
       " datetime.datetime(2015, 6, 10, 14, 56, 38),\n",
       " datetime.datetime(2015, 6, 10, 14, 56, 38),\n",
       " datetime.datetime(2015, 6, 10, 14, 56, 38),\n",
       " datetime.datetime(2015, 6, 13, 20, 3, 4),\n",
       " datetime.datetime(2015, 6, 14, 0, 28, 49),\n",
       " datetime.datetime(2015, 6, 14, 0, 28, 50),\n",
       " datetime.datetime(2015, 6, 14, 0, 28, 50),\n",
       " datetime.datetime(2015, 6, 14, 0, 28, 50),\n",
       " datetime.datetime(2015, 6, 14, 0, 28, 50),\n",
       " datetime.datetime(2015, 6, 14, 0, 28, 50),\n",
       " datetime.datetime(2015, 6, 14, 0, 28, 50),\n",
       " datetime.datetime(2015, 6, 14, 0, 28, 50),\n",
       " datetime.datetime(2015, 6, 14, 0, 28, 50),\n",
       " datetime.datetime(2015, 6, 14, 0, 28, 51),\n",
       " datetime.datetime(2015, 6, 14, 0, 29, 33),\n",
       " datetime.datetime(2015, 6, 14, 0, 29, 39),\n",
       " datetime.datetime(2015, 6, 14, 0, 29, 43),\n",
       " datetime.datetime(2015, 6, 14, 0, 29, 46),\n",
       " datetime.datetime(2015, 6, 14, 0, 30, 3),\n",
       " datetime.datetime(2015, 6, 14, 0, 30, 6),\n",
       " datetime.datetime(2015, 6, 14, 0, 30, 10),\n",
       " datetime.datetime(2015, 6, 14, 0, 30, 13),\n",
       " datetime.datetime(2015, 6, 15, 13, 41, 46),\n",
       " datetime.datetime(2015, 6, 15, 13, 41, 46),\n",
       " datetime.datetime(2015, 6, 15, 13, 41, 46),\n",
       " datetime.datetime(2015, 6, 15, 13, 41, 46),\n",
       " datetime.datetime(2015, 6, 15, 13, 41, 47),\n",
       " datetime.datetime(2015, 6, 15, 13, 41, 47),\n",
       " datetime.datetime(2015, 6, 15, 13, 41, 47),\n",
       " datetime.datetime(2015, 6, 15, 13, 41, 47),\n",
       " datetime.datetime(2015, 6, 15, 13, 41, 47),\n",
       " datetime.datetime(2015, 6, 15, 13, 41, 47),\n",
       " datetime.datetime(2015, 6, 15, 13, 42, 22),\n",
       " datetime.datetime(2015, 6, 15, 13, 42, 23),\n",
       " datetime.datetime(2015, 6, 15, 13, 42, 24),\n",
       " datetime.datetime(2015, 6, 15, 13, 43, 29),\n",
       " datetime.datetime(2015, 6, 15, 13, 43, 44),\n",
       " datetime.datetime(2015, 6, 15, 13, 43, 44),\n",
       " datetime.datetime(2015, 6, 15, 13, 43, 44),\n",
       " datetime.datetime(2015, 6, 15, 13, 43, 45),\n",
       " datetime.datetime(2015, 6, 15, 13, 43, 45),\n",
       " datetime.datetime(2015, 6, 15, 13, 43, 45),\n",
       " datetime.datetime(2015, 6, 15, 13, 43, 45),\n",
       " datetime.datetime(2015, 6, 15, 13, 43, 45),\n",
       " datetime.datetime(2015, 6, 15, 13, 43, 45),\n",
       " datetime.datetime(2015, 6, 15, 13, 43, 45),\n",
       " datetime.datetime(2015, 6, 15, 13, 44, 17),\n",
       " datetime.datetime(2015, 6, 15, 13, 47, 49),\n",
       " datetime.datetime(2015, 6, 15, 13, 47, 49),\n",
       " datetime.datetime(2015, 6, 15, 13, 47, 50),\n",
       " datetime.datetime(2015, 6, 15, 13, 47, 50),\n",
       " datetime.datetime(2015, 6, 15, 13, 47, 50),\n",
       " datetime.datetime(2015, 6, 15, 13, 47, 50),\n",
       " datetime.datetime(2015, 6, 15, 13, 47, 50),\n",
       " datetime.datetime(2015, 6, 15, 13, 47, 50),\n",
       " datetime.datetime(2015, 6, 15, 13, 47, 50),\n",
       " datetime.datetime(2015, 6, 15, 13, 47, 50),\n",
       " datetime.datetime(2015, 6, 15, 13, 48, 13),\n",
       " datetime.datetime(2015, 6, 15, 13, 48, 13),\n",
       " datetime.datetime(2015, 6, 15, 13, 48, 14),\n",
       " datetime.datetime(2015, 6, 15, 13, 48, 14),\n",
       " datetime.datetime(2015, 6, 15, 13, 48, 17),\n",
       " datetime.datetime(2015, 6, 15, 13, 48, 19),\n",
       " datetime.datetime(2015, 6, 15, 13, 48, 20),\n",
       " datetime.datetime(2015, 6, 15, 13, 48, 28),\n",
       " datetime.datetime(2015, 6, 15, 13, 48, 29),\n",
       " datetime.datetime(2015, 6, 15, 13, 48, 57),\n",
       " datetime.datetime(2015, 6, 15, 13, 49, 27),\n",
       " datetime.datetime(2015, 6, 15, 13, 49, 28),\n",
       " datetime.datetime(2015, 6, 15, 13, 49, 28),\n",
       " datetime.datetime(2015, 6, 15, 13, 49, 28),\n",
       " datetime.datetime(2015, 6, 15, 13, 49, 30),\n",
       " datetime.datetime(2015, 6, 15, 13, 49, 47),\n",
       " datetime.datetime(2015, 6, 15, 13, 50, 53),\n",
       " datetime.datetime(2015, 6, 15, 13, 56, 41),\n",
       " datetime.datetime(2015, 6, 15, 13, 56, 41),\n",
       " datetime.datetime(2015, 6, 15, 13, 56, 41),\n",
       " datetime.datetime(2015, 6, 15, 13, 56, 41),\n",
       " datetime.datetime(2015, 6, 15, 13, 56, 42),\n",
       " datetime.datetime(2015, 6, 15, 13, 56, 42),\n",
       " datetime.datetime(2015, 6, 15, 13, 56, 42),\n",
       " datetime.datetime(2015, 6, 15, 13, 56, 42),\n",
       " datetime.datetime(2015, 6, 15, 13, 56, 42),\n",
       " datetime.datetime(2015, 6, 15, 13, 56, 42),\n",
       " datetime.datetime(2015, 9, 16, 12, 12, 16),\n",
       " datetime.datetime(2015, 9, 16, 12, 12, 36),\n",
       " datetime.datetime(2015, 9, 16, 12, 12, 37),\n",
       " datetime.datetime(2015, 11, 16, 9, 11, 11),\n",
       " datetime.datetime(2015, 11, 16, 9, 11, 48),\n",
       " datetime.datetime(2015, 11, 16, 9, 11, 48),\n",
       " datetime.datetime(2015, 11, 16, 9, 11, 48),\n",
       " datetime.datetime(2015, 11, 16, 9, 11, 48),\n",
       " datetime.datetime(2015, 11, 16, 9, 11, 48),\n",
       " datetime.datetime(2015, 11, 16, 9, 11, 49),\n",
       " datetime.datetime(2015, 11, 16, 9, 11, 49),\n",
       " datetime.datetime(2015, 11, 16, 9, 11, 49),\n",
       " datetime.datetime(2015, 11, 16, 9, 11, 49),\n",
       " datetime.datetime(2015, 11, 16, 9, 11, 49),\n",
       " datetime.datetime(2015, 11, 16, 9, 11, 59),\n",
       " datetime.datetime(2015, 11, 16, 9, 11, 59),\n",
       " datetime.datetime(2015, 11, 16, 9, 11, 59),\n",
       " datetime.datetime(2015, 11, 16, 9, 11, 59),\n",
       " datetime.datetime(2015, 11, 16, 9, 11, 59),\n",
       " datetime.datetime(2015, 11, 16, 9, 11, 59),\n",
       " datetime.datetime(2015, 11, 16, 9, 11, 59),\n",
       " datetime.datetime(2015, 11, 16, 9, 11, 59),\n",
       " datetime.datetime(2015, 11, 16, 9, 12),\n",
       " datetime.datetime(2015, 11, 16, 9, 12),\n",
       " datetime.datetime(2015, 11, 16, 9, 12, 42),\n",
       " datetime.datetime(2015, 11, 16, 9, 12, 52),\n",
       " datetime.datetime(2015, 11, 16, 9, 14, 40),\n",
       " datetime.datetime(2015, 11, 16, 9, 18, 11),\n",
       " datetime.datetime(2016, 1, 19, 12, 21, 44),\n",
       " datetime.datetime(2016, 2, 18, 14, 19, 27),\n",
       " datetime.datetime(2016, 2, 18, 14, 19, 27),\n",
       " datetime.datetime(2016, 2, 18, 14, 19, 27),\n",
       " datetime.datetime(2016, 2, 18, 14, 19, 27),\n",
       " datetime.datetime(2016, 2, 18, 14, 19, 27),\n",
       " datetime.datetime(2016, 2, 18, 14, 19, 28),\n",
       " datetime.datetime(2016, 2, 18, 14, 19, 28),\n",
       " datetime.datetime(2016, 2, 18, 14, 19, 28),\n",
       " datetime.datetime(2016, 2, 18, 14, 19, 28),\n",
       " datetime.datetime(2016, 2, 18, 14, 19, 28)]"
      ]
     },
     "execution_count": 45,
     "metadata": {},
     "output_type": "execute_result"
    }
   ],
   "source": [
    "dList = [parse(tx, fuzzy=True) for tx in dTimeL]\n",
    "dList"
   ]
  },
  {
   "cell_type": "code",
   "execution_count": 60,
   "id": "50efad11",
   "metadata": {},
   "outputs": [
    {
     "data": {
      "text/plain": [
       "10"
      ]
     },
     "execution_count": 60,
     "metadata": {},
     "output_type": "execute_result"
    }
   ],
   "source": [
    "dtimeL=[d.timetuple() for d in dList]\n",
    "dtimeL2=[d2[0:6:2] for d2 in dtimeL]\n",
    "\n",
    "dtimeL2[1][1]"
   ]
  },
  {
   "cell_type": "code",
   "execution_count": 96,
   "id": "ea787382",
   "metadata": {},
   "outputs": [
    {
     "data": {
      "text/plain": [
       "time.struct_time(tm_year=2015, tm_mon=6, tm_mday=10, tm_hour=14, tm_min=46, tm_sec=9, tm_wday=2, tm_yday=161, tm_isdst=-1)"
      ]
     },
     "metadata": {},
     "output_type": "display_data"
    },
    {
     "data": {
      "text/plain": [
       "time.struct_time(tm_year=2016, tm_mon=2, tm_mday=18, tm_hour=14, tm_min=19, tm_sec=28, tm_wday=3, tm_yday=49, tm_isdst=-1)"
      ]
     },
     "metadata": {},
     "output_type": "display_data"
    },
    {
     "data": {
      "text/plain": [
       "[2015, 10, 46]"
      ]
     },
     "metadata": {},
     "output_type": "display_data"
    },
    {
     "data": {
      "text/plain": [
       "[2016, 18, 19]"
      ]
     },
     "metadata": {},
     "output_type": "display_data"
    },
    {
     "data": {
      "text/plain": [
       "array([  1,   8, -27])"
      ]
     },
     "execution_count": 96,
     "metadata": {},
     "output_type": "execute_result"
    }
   ],
   "source": [
    "dList[1].minute\n",
    "dStruDst=dList[0].timetuple()\n",
    "dStruDed=dList[-1].timetuple()\n",
    "display(dStruDst)\n",
    "display(dStruDed)\n",
    "Dst=np.array(dStruDst[0:6:2])\n",
    "Ded=np.array(dStruDed[0:6:2])\n",
    "\n",
    "display(list(dStruDst[0:6:2]))\n",
    "display(list(dStruDed[0:6:2]))\n",
    "\n",
    "Ded-Dst"
   ]
  },
  {
   "cell_type": "code",
   "execution_count": 70,
   "id": "0d37d113",
   "metadata": {},
   "outputs": [
    {
     "data": {
      "text/plain": [
       "array([datetime.datetime(2015, 6, 10, 14, 46, 9),\n",
       "       datetime.datetime(2015, 6, 10, 14, 46, 9),\n",
       "       datetime.datetime(2015, 6, 10, 14, 46, 9),\n",
       "       datetime.datetime(2015, 6, 10, 14, 46, 9),\n",
       "       datetime.datetime(2015, 6, 10, 14, 46, 9),\n",
       "       datetime.datetime(2015, 6, 10, 14, 46, 12),\n",
       "       datetime.datetime(2015, 6, 10, 14, 46, 12),\n",
       "       datetime.datetime(2015, 6, 10, 14, 46, 14),\n",
       "       datetime.datetime(2015, 6, 10, 14, 46, 14),\n",
       "       datetime.datetime(2015, 6, 10, 14, 46, 14),\n",
       "       datetime.datetime(2015, 6, 10, 14, 46, 16),\n",
       "       datetime.datetime(2015, 6, 10, 14, 46, 16),\n",
       "       datetime.datetime(2015, 6, 10, 14, 46, 16),\n",
       "       datetime.datetime(2015, 6, 10, 14, 46, 18),\n",
       "       datetime.datetime(2015, 6, 10, 14, 46, 18),\n",
       "       datetime.datetime(2015, 6, 10, 14, 46, 19),\n",
       "       datetime.datetime(2015, 6, 10, 14, 46, 19),\n",
       "       datetime.datetime(2015, 6, 10, 14, 46, 19),\n",
       "       datetime.datetime(2015, 6, 10, 14, 46, 19),\n",
       "       datetime.datetime(2015, 6, 10, 14, 46, 19),\n",
       "       datetime.datetime(2015, 6, 10, 14, 46, 19),\n",
       "       datetime.datetime(2015, 6, 10, 14, 46, 19),\n",
       "       datetime.datetime(2015, 6, 10, 14, 46, 19),\n",
       "       datetime.datetime(2015, 6, 10, 14, 46, 19),\n",
       "       datetime.datetime(2015, 6, 10, 14, 46, 19),\n",
       "       datetime.datetime(2015, 6, 10, 14, 46, 19),\n",
       "       datetime.datetime(2015, 6, 10, 14, 46, 19),\n",
       "       datetime.datetime(2015, 6, 10, 14, 46, 19),\n",
       "       datetime.datetime(2015, 6, 10, 14, 46, 20),\n",
       "       datetime.datetime(2015, 6, 10, 14, 46, 20),\n",
       "       datetime.datetime(2015, 6, 10, 14, 46, 21),\n",
       "       datetime.datetime(2015, 6, 10, 14, 46, 21),\n",
       "       datetime.datetime(2015, 6, 10, 14, 46, 21),\n",
       "       datetime.datetime(2015, 6, 10, 14, 46, 21),\n",
       "       datetime.datetime(2015, 6, 10, 14, 46, 21),\n",
       "       datetime.datetime(2015, 6, 10, 14, 46, 21),\n",
       "       datetime.datetime(2015, 6, 10, 14, 46, 23),\n",
       "       datetime.datetime(2015, 6, 10, 14, 46, 23),\n",
       "       datetime.datetime(2015, 6, 10, 14, 46, 23),\n",
       "       datetime.datetime(2015, 6, 10, 14, 46, 23),\n",
       "       datetime.datetime(2015, 6, 10, 14, 46, 23),\n",
       "       datetime.datetime(2015, 6, 10, 14, 46, 23),\n",
       "       datetime.datetime(2015, 6, 10, 14, 46, 24),\n",
       "       datetime.datetime(2015, 6, 10, 14, 46, 24),\n",
       "       datetime.datetime(2015, 6, 10, 14, 46, 24),\n",
       "       datetime.datetime(2015, 6, 10, 14, 46, 24),\n",
       "       datetime.datetime(2015, 6, 10, 14, 46, 24),\n",
       "       datetime.datetime(2015, 6, 10, 14, 46, 31),\n",
       "       datetime.datetime(2015, 6, 10, 14, 46, 31),\n",
       "       datetime.datetime(2015, 6, 10, 14, 46, 31),\n",
       "       datetime.datetime(2015, 6, 10, 14, 46, 36),\n",
       "       datetime.datetime(2015, 6, 10, 14, 46, 36),\n",
       "       datetime.datetime(2015, 6, 10, 14, 46, 36),\n",
       "       datetime.datetime(2015, 6, 10, 14, 46, 38),\n",
       "       datetime.datetime(2015, 6, 10, 14, 46, 38),\n",
       "       datetime.datetime(2015, 6, 10, 14, 46, 38),\n",
       "       datetime.datetime(2015, 6, 10, 14, 46, 41),\n",
       "       datetime.datetime(2015, 6, 10, 14, 46, 41),\n",
       "       datetime.datetime(2015, 6, 10, 14, 46, 50),\n",
       "       datetime.datetime(2015, 6, 10, 14, 46, 50),\n",
       "       datetime.datetime(2015, 6, 10, 14, 46, 50),\n",
       "       datetime.datetime(2015, 6, 10, 14, 50, 22),\n",
       "       datetime.datetime(2015, 6, 10, 14, 50, 22),\n",
       "       datetime.datetime(2015, 6, 10, 14, 50, 22),\n",
       "       datetime.datetime(2015, 6, 10, 14, 56, 38),\n",
       "       datetime.datetime(2015, 6, 10, 14, 56, 38),\n",
       "       datetime.datetime(2015, 6, 10, 14, 56, 38),\n",
       "       datetime.datetime(2015, 6, 13, 20, 3, 4),\n",
       "       datetime.datetime(2015, 6, 14, 0, 28, 49),\n",
       "       datetime.datetime(2015, 6, 14, 0, 28, 50),\n",
       "       datetime.datetime(2015, 6, 14, 0, 28, 50),\n",
       "       datetime.datetime(2015, 6, 14, 0, 28, 50),\n",
       "       datetime.datetime(2015, 6, 14, 0, 28, 50),\n",
       "       datetime.datetime(2015, 6, 14, 0, 28, 50),\n",
       "       datetime.datetime(2015, 6, 14, 0, 28, 50),\n",
       "       datetime.datetime(2015, 6, 14, 0, 28, 50),\n",
       "       datetime.datetime(2015, 6, 14, 0, 28, 50),\n",
       "       datetime.datetime(2015, 6, 14, 0, 28, 51),\n",
       "       datetime.datetime(2015, 6, 14, 0, 29, 33),\n",
       "       datetime.datetime(2015, 6, 14, 0, 29, 39),\n",
       "       datetime.datetime(2015, 6, 14, 0, 29, 43),\n",
       "       datetime.datetime(2015, 6, 14, 0, 29, 46),\n",
       "       datetime.datetime(2015, 6, 14, 0, 30, 3),\n",
       "       datetime.datetime(2015, 6, 14, 0, 30, 6),\n",
       "       datetime.datetime(2015, 6, 14, 0, 30, 10),\n",
       "       datetime.datetime(2015, 6, 14, 0, 30, 13),\n",
       "       datetime.datetime(2015, 6, 15, 13, 41, 46),\n",
       "       datetime.datetime(2015, 6, 15, 13, 41, 46),\n",
       "       datetime.datetime(2015, 6, 15, 13, 41, 46),\n",
       "       datetime.datetime(2015, 6, 15, 13, 41, 46),\n",
       "       datetime.datetime(2015, 6, 15, 13, 41, 47),\n",
       "       datetime.datetime(2015, 6, 15, 13, 41, 47),\n",
       "       datetime.datetime(2015, 6, 15, 13, 41, 47),\n",
       "       datetime.datetime(2015, 6, 15, 13, 41, 47),\n",
       "       datetime.datetime(2015, 6, 15, 13, 41, 47),\n",
       "       datetime.datetime(2015, 6, 15, 13, 41, 47),\n",
       "       datetime.datetime(2015, 6, 15, 13, 42, 22),\n",
       "       datetime.datetime(2015, 6, 15, 13, 42, 23),\n",
       "       datetime.datetime(2015, 6, 15, 13, 42, 24),\n",
       "       datetime.datetime(2015, 6, 15, 13, 43, 29),\n",
       "       datetime.datetime(2015, 6, 15, 13, 43, 44),\n",
       "       datetime.datetime(2015, 6, 15, 13, 43, 44),\n",
       "       datetime.datetime(2015, 6, 15, 13, 43, 44),\n",
       "       datetime.datetime(2015, 6, 15, 13, 43, 45),\n",
       "       datetime.datetime(2015, 6, 15, 13, 43, 45),\n",
       "       datetime.datetime(2015, 6, 15, 13, 43, 45),\n",
       "       datetime.datetime(2015, 6, 15, 13, 43, 45),\n",
       "       datetime.datetime(2015, 6, 15, 13, 43, 45),\n",
       "       datetime.datetime(2015, 6, 15, 13, 43, 45),\n",
       "       datetime.datetime(2015, 6, 15, 13, 43, 45),\n",
       "       datetime.datetime(2015, 6, 15, 13, 44, 17),\n",
       "       datetime.datetime(2015, 6, 15, 13, 47, 49),\n",
       "       datetime.datetime(2015, 6, 15, 13, 47, 49),\n",
       "       datetime.datetime(2015, 6, 15, 13, 47, 50),\n",
       "       datetime.datetime(2015, 6, 15, 13, 47, 50),\n",
       "       datetime.datetime(2015, 6, 15, 13, 47, 50),\n",
       "       datetime.datetime(2015, 6, 15, 13, 47, 50),\n",
       "       datetime.datetime(2015, 6, 15, 13, 47, 50),\n",
       "       datetime.datetime(2015, 6, 15, 13, 47, 50),\n",
       "       datetime.datetime(2015, 6, 15, 13, 47, 50),\n",
       "       datetime.datetime(2015, 6, 15, 13, 47, 50),\n",
       "       datetime.datetime(2015, 6, 15, 13, 48, 13),\n",
       "       datetime.datetime(2015, 6, 15, 13, 48, 13),\n",
       "       datetime.datetime(2015, 6, 15, 13, 48, 14),\n",
       "       datetime.datetime(2015, 6, 15, 13, 48, 14),\n",
       "       datetime.datetime(2015, 6, 15, 13, 48, 17),\n",
       "       datetime.datetime(2015, 6, 15, 13, 48, 19),\n",
       "       datetime.datetime(2015, 6, 15, 13, 48, 20),\n",
       "       datetime.datetime(2015, 6, 15, 13, 48, 28),\n",
       "       datetime.datetime(2015, 6, 15, 13, 48, 29),\n",
       "       datetime.datetime(2015, 6, 15, 13, 48, 57),\n",
       "       datetime.datetime(2015, 6, 15, 13, 49, 27),\n",
       "       datetime.datetime(2015, 6, 15, 13, 49, 28),\n",
       "       datetime.datetime(2015, 6, 15, 13, 49, 28),\n",
       "       datetime.datetime(2015, 6, 15, 13, 49, 28),\n",
       "       datetime.datetime(2015, 6, 15, 13, 49, 30),\n",
       "       datetime.datetime(2015, 6, 15, 13, 49, 47),\n",
       "       datetime.datetime(2015, 6, 15, 13, 50, 53),\n",
       "       datetime.datetime(2015, 6, 15, 13, 56, 41),\n",
       "       datetime.datetime(2015, 6, 15, 13, 56, 41),\n",
       "       datetime.datetime(2015, 6, 15, 13, 56, 41),\n",
       "       datetime.datetime(2015, 6, 15, 13, 56, 41),\n",
       "       datetime.datetime(2015, 6, 15, 13, 56, 42),\n",
       "       datetime.datetime(2015, 6, 15, 13, 56, 42),\n",
       "       datetime.datetime(2015, 6, 15, 13, 56, 42),\n",
       "       datetime.datetime(2015, 6, 15, 13, 56, 42),\n",
       "       datetime.datetime(2015, 6, 15, 13, 56, 42),\n",
       "       datetime.datetime(2015, 6, 15, 13, 56, 42),\n",
       "       datetime.datetime(2015, 9, 16, 12, 12, 16),\n",
       "       datetime.datetime(2015, 9, 16, 12, 12, 36),\n",
       "       datetime.datetime(2015, 9, 16, 12, 12, 37),\n",
       "       datetime.datetime(2015, 11, 16, 9, 11, 11),\n",
       "       datetime.datetime(2015, 11, 16, 9, 11, 48),\n",
       "       datetime.datetime(2015, 11, 16, 9, 11, 48),\n",
       "       datetime.datetime(2015, 11, 16, 9, 11, 48),\n",
       "       datetime.datetime(2015, 11, 16, 9, 11, 48),\n",
       "       datetime.datetime(2015, 11, 16, 9, 11, 48),\n",
       "       datetime.datetime(2015, 11, 16, 9, 11, 49),\n",
       "       datetime.datetime(2015, 11, 16, 9, 11, 49),\n",
       "       datetime.datetime(2015, 11, 16, 9, 11, 49),\n",
       "       datetime.datetime(2015, 11, 16, 9, 11, 49),\n",
       "       datetime.datetime(2015, 11, 16, 9, 11, 49),\n",
       "       datetime.datetime(2015, 11, 16, 9, 11, 59),\n",
       "       datetime.datetime(2015, 11, 16, 9, 11, 59),\n",
       "       datetime.datetime(2015, 11, 16, 9, 11, 59),\n",
       "       datetime.datetime(2015, 11, 16, 9, 11, 59),\n",
       "       datetime.datetime(2015, 11, 16, 9, 11, 59),\n",
       "       datetime.datetime(2015, 11, 16, 9, 11, 59),\n",
       "       datetime.datetime(2015, 11, 16, 9, 11, 59),\n",
       "       datetime.datetime(2015, 11, 16, 9, 11, 59),\n",
       "       datetime.datetime(2015, 11, 16, 9, 12),\n",
       "       datetime.datetime(2015, 11, 16, 9, 12),\n",
       "       datetime.datetime(2015, 11, 16, 9, 12, 42),\n",
       "       datetime.datetime(2015, 11, 16, 9, 12, 52),\n",
       "       datetime.datetime(2015, 11, 16, 9, 14, 40),\n",
       "       datetime.datetime(2015, 11, 16, 9, 18, 11),\n",
       "       datetime.datetime(2016, 1, 19, 12, 21, 44),\n",
       "       datetime.datetime(2016, 2, 18, 14, 19, 27),\n",
       "       datetime.datetime(2016, 2, 18, 14, 19, 27),\n",
       "       datetime.datetime(2016, 2, 18, 14, 19, 27),\n",
       "       datetime.datetime(2016, 2, 18, 14, 19, 27),\n",
       "       datetime.datetime(2016, 2, 18, 14, 19, 27),\n",
       "       datetime.datetime(2016, 2, 18, 14, 19, 28),\n",
       "       datetime.datetime(2016, 2, 18, 14, 19, 28),\n",
       "       datetime.datetime(2016, 2, 18, 14, 19, 28),\n",
       "       datetime.datetime(2016, 2, 18, 14, 19, 28),\n",
       "       datetime.datetime(2016, 2, 18, 14, 19, 28)], dtype=object)"
      ]
     },
     "execution_count": 70,
     "metadata": {},
     "output_type": "execute_result"
    }
   ],
   "source": [
    "dListNP=np.array(dList)\n",
    "dListNP"
   ]
  }
 ],
 "metadata": {
  "kernelspec": {
   "display_name": "Python 3 (ipykernel)",
   "language": "python",
   "name": "python3"
  },
  "language_info": {
   "codemirror_mode": {
    "name": "ipython",
    "version": 3
   },
   "file_extension": ".py",
   "mimetype": "text/x-python",
   "name": "python",
   "nbconvert_exporter": "python",
   "pygments_lexer": "ipython3",
   "version": "3.9.18"
  }
 },
 "nbformat": 4,
 "nbformat_minor": 5
}
