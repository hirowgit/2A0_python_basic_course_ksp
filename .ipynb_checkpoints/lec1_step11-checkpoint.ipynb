{
 "cells": [
  {
   "cell_type": "code",
   "execution_count": 17,
   "id": "5df6372e",
   "metadata": {},
   "outputs": [],
   "source": [
    "import numpy as np\n",
    "import math\n",
    "import pprint"
   ]
  },
  {
   "cell_type": "code",
   "execution_count": 7,
   "id": "49b270b7",
   "metadata": {},
   "outputs": [
    {
     "data": {
      "text/plain": [
       "array([array([[0, 0, 0],\n",
       "              [0, 0, 0],\n",
       "              [0, 0, 0]]), array([[0, 0, 0],\n",
       "                                  [0, 0, 0],\n",
       "                                  [0, 0, 0]]), array([[0, 0, 0],\n",
       "                                                      [0, 0, 0],\n",
       "                                                      [0, 0, 0]]),\n",
       "       array([[0, 0, 0],\n",
       "              [0, 0, 0],\n",
       "              [0, 0, 0]]), array([[0, 0, 0],\n",
       "                                  [0, 0, 0],\n",
       "                                  [0, 0, 0]])], dtype=object)"
      ]
     },
     "execution_count": 7,
     "metadata": {},
     "output_type": "execute_result"
    }
   ],
   "source": [
    "NofS=3\n",
    "T=5\n",
    "h=np.empty(T,dtype=object)\n",
    "h_sub=np.full((NofS,NofS),0,dtype=np.int64)\n",
    "# h_sub=np.full((NofS,NofS),0,dtype=np.double)\n",
    "for i in range(T):\n",
    "    h[i]=h_sub\n",
    "h"
   ]
  },
  {
   "cell_type": "code",
   "execution_count": 84,
   "id": "97e68996",
   "metadata": {},
   "outputs": [
    {
     "name": "stdout",
     "output_type": "stream",
     "text": [
      "[array([[5, 0, 3],\n",
      "        [5, 0, 3],\n",
      "        [5, 0, 3]]) array([[0, 0, 0],\n",
      "                           [4, 0, 3],\n",
      "                           [0, 0, 0]]) array([[0, 0, 0],\n",
      "                                              [3, 0, 3],\n",
      "                                              [0, 0, 0]])\n",
      " array([[0, 0, 0],\n",
      "        [2, 0, 3],\n",
      "        [0, 0, 0]]) array([[ 0,  0,  0],\n",
      "                           [-5, -5, -5],\n",
      "                           [-5, -5, -5]])]\n"
     ]
    }
   ],
   "source": [
    "h[0]=np.array([[5,0,3],[5,0,3],[5,0,3]])\n",
    "h[1]=np.array([[0,0,0],[4,0,3],[0,0,0]])\n",
    "h[2]=np.array([[0,0,0],[3,0,3],[0,0,0]])\n",
    "h[3]=np.array([[0,0,0],[2,0,3],[0,0,0]])\n",
    "h[4]=np.array([[0,0,0],[-5,-5,-5],[-5,-5,-5]])\n",
    "print(h)"
   ]
  },
  {
   "cell_type": "code",
   "execution_count": 203,
   "id": "987b42b0",
   "metadata": {},
   "outputs": [
    {
     "name": "stdout",
     "output_type": "stream",
     "text": [
      "[array([[  5,   0,   3],\n",
      "        [-99, -99, -99],\n",
      "        [-99, -99, -99]]) array([[  0, -99, -99],\n",
      "                                 [  4,   0,   3],\n",
      "                                 [-99,   0, -99]])\n",
      " array([[  0, -99, -99],\n",
      "        [  3,   0,   3],\n",
      "        [-99,   0, -99]]) array([[  0, -99, -99],\n",
      "                                 [  2,   0,   3],\n",
      "                                 [-99,   0, -99]])\n",
      " array([[  0, -99, -99],\n",
      "        [ -5, -99, -99],\n",
      "        [ -5, -99, -99]])]\n"
     ]
    }
   ],
   "source": [
    "h[0]=np.array([[5,0,3],[-99,-99,-99],[-99,-99,-99]])\n",
    "h[1]=np.array([[0,-99,-99],[4,0,3],[-99,0,-99]])\n",
    "h[2]=np.array([[0,-99,-99],[3,0,3],[-99,0,-99]])\n",
    "h[3]=np.array([[0,-99,-99],[2,0,3],[-99,0,-99]])\n",
    "h[4]=np.array([[0,-99,-99],[-5,-99,-99],[-5,-99,-99]])\n",
    "print(h)"
   ]
  },
  {
   "cell_type": "code",
   "execution_count": 147,
   "id": "a6ee1bdd",
   "metadata": {},
   "outputs": [
    {
     "data": {
      "text/plain": [
       "array([0, 0, 0])"
      ]
     },
     "execution_count": 147,
     "metadata": {},
     "output_type": "execute_result"
    }
   ],
   "source": [
    "h[2][2,:]"
   ]
  },
  {
   "cell_type": "code",
   "execution_count": 146,
   "id": "3a478c83",
   "metadata": {},
   "outputs": [
    {
     "data": {
      "text/plain": [
       "0"
      ]
     },
     "execution_count": 146,
     "metadata": {},
     "output_type": "execute_result"
    }
   ],
   "source": [
    "h[2][2,0]"
   ]
  },
  {
   "cell_type": "code",
   "execution_count": 13,
   "id": "17d0e551",
   "metadata": {},
   "outputs": [
    {
     "data": {
      "text/plain": [
       "243"
      ]
     },
     "execution_count": 13,
     "metadata": {},
     "output_type": "execute_result"
    }
   ],
   "source": [
    "cycleT=np.power(NofS,T)\n",
    "cycleT"
   ]
  },
  {
   "cell_type": "code",
   "execution_count": 21,
   "id": "b6ad22c7",
   "metadata": {},
   "outputs": [
    {
     "name": "stdout",
     "output_type": "stream",
     "text": [
      "array([0, 0, 0])\n",
      "array([1, 1, 1])\n",
      "array([2, 2, 2])\n",
      "array([0, 3, 3])\n",
      "array([1, 4, 4])\n",
      "array([2, 5, 5])\n",
      "array([0, 6, 6])\n",
      "array([1, 7, 7])\n",
      "array([2, 8, 8])\n",
      "array([0, 0, 9])\n",
      "array([ 1,  1, 10])\n",
      "array([ 2,  2, 11])\n",
      "array([ 0,  3, 12])\n",
      "array([ 1,  4, 13])\n",
      "array([ 2,  5, 14])\n",
      "array([ 0,  6, 15])\n",
      "array([ 1,  7, 16])\n",
      "array([ 2,  8, 17])\n",
      "array([ 0,  0, 18])\n",
      "array([ 1,  1, 19])\n",
      "array([ 2,  2, 20])\n",
      "array([ 0,  3, 21])\n",
      "array([ 1,  4, 22])\n",
      "array([ 2,  5, 23])\n",
      "array([ 0,  6, 24])\n",
      "array([ 1,  7, 25])\n",
      "array([ 2,  8, 26])\n",
      "array([0, 0, 0])\n",
      "array([1, 1, 1])\n",
      "array([2, 2, 2])\n",
      "array([0, 3, 3])\n",
      "array([1, 4, 4])\n",
      "array([2, 5, 5])\n",
      "array([0, 6, 6])\n",
      "array([1, 7, 7])\n",
      "array([2, 8, 8])\n",
      "array([0, 0, 9])\n",
      "array([ 1,  1, 10])\n",
      "array([ 2,  2, 11])\n",
      "array([ 0,  3, 12])\n",
      "array([ 1,  4, 13])\n",
      "array([ 2,  5, 14])\n",
      "array([ 0,  6, 15])\n",
      "array([ 1,  7, 16])\n",
      "array([ 2,  8, 17])\n",
      "array([ 0,  0, 18])\n",
      "array([ 1,  1, 19])\n",
      "array([ 2,  2, 20])\n",
      "array([ 0,  3, 21])\n",
      "array([ 1,  4, 22])\n"
     ]
    }
   ],
   "source": [
    "digitD=np.full(NofS,0,dtype=np.int64)\n",
    "for i in range(50):\n",
    "    digitD[0]=np.mod(i,NofS)\n",
    "    digitD[1]=np.mod(i,NofS*NofS)\n",
    "    digitD[2]=np.mod(i,NofS*NofS*NofS)\n",
    "    pprint.pprint(digitD)"
   ]
  },
  {
   "cell_type": "code",
   "execution_count": 68,
   "id": "c6dcff05",
   "metadata": {},
   "outputs": [
    {
     "name": "stdout",
     "output_type": "stream",
     "text": [
      "array([0, 0, 0])\n",
      "array([1, 0, 0])\n",
      "array([2, 0, 0])\n",
      "array([0, 1, 0])\n",
      "array([1, 1, 0])\n",
      "array([2, 1, 0])\n",
      "array([0, 2, 0])\n",
      "array([1, 2, 0])\n",
      "array([2, 2, 0])\n",
      "array([0, 0, 1])\n",
      "array([1, 0, 1])\n",
      "array([2, 0, 1])\n",
      "array([0, 1, 1])\n",
      "array([1, 1, 1])\n",
      "array([2, 1, 1])\n",
      "array([0, 2, 1])\n",
      "array([1, 2, 1])\n",
      "array([2, 2, 1])\n",
      "array([0, 0, 2])\n",
      "array([1, 0, 2])\n"
     ]
    }
   ],
   "source": [
    "digitD=np.full(NofS,0,dtype=np.int64)\n",
    "for i in range(20):\n",
    "    digitD[0]=np.mod(i,NofS)\n",
    "    digitD[1]=np.mod(np.floor(i/(NofS)),NofS)\n",
    "    digitD[2]=np.mod(np.floor(i/(NofS*NofS)),NofS)\n",
    "    pprint.pprint(digitD)"
   ]
  },
  {
   "cell_type": "code",
   "execution_count": 76,
   "id": "64c26537",
   "metadata": {},
   "outputs": [
    {
     "name": "stdout",
     "output_type": "stream",
     "text": [
      "array([0, 0, 0, 0, 0])\n",
      "array([1, 0, 0, 0, 0])\n",
      "array([2, 0, 0, 0, 0])\n",
      "array([0, 1, 0, 0, 0])\n",
      "array([1, 1, 0, 0, 0])\n",
      "array([2, 1, 0, 0, 0])\n",
      "array([0, 2, 0, 0, 0])\n",
      "array([1, 2, 0, 0, 0])\n",
      "array([2, 2, 0, 0, 0])\n",
      "array([0, 0, 1, 0, 0])\n",
      "array([1, 0, 1, 0, 0])\n",
      "array([2, 0, 1, 0, 0])\n",
      "array([0, 1, 1, 0, 0])\n",
      "array([1, 1, 1, 0, 0])\n",
      "array([2, 1, 1, 0, 0])\n",
      "array([0, 2, 1, 0, 0])\n",
      "array([1, 2, 1, 0, 0])\n",
      "array([2, 2, 1, 0, 0])\n",
      "array([0, 0, 2, 0, 0])\n",
      "array([1, 0, 2, 0, 0])\n",
      "array([2, 0, 2, 0, 0])\n",
      "array([0, 1, 2, 0, 0])\n",
      "array([1, 1, 2, 0, 0])\n",
      "array([2, 1, 2, 0, 0])\n",
      "array([0, 2, 2, 0, 0])\n",
      "array([1, 2, 2, 0, 0])\n",
      "array([2, 2, 2, 0, 0])\n",
      "array([0, 0, 0, 1, 0])\n",
      "array([1, 0, 0, 1, 0])\n",
      "array([2, 0, 0, 1, 0])\n",
      "array([0, 1, 0, 1, 0])\n",
      "array([1, 1, 0, 1, 0])\n",
      "array([2, 1, 0, 1, 0])\n",
      "array([0, 2, 0, 1, 0])\n",
      "array([1, 2, 0, 1, 0])\n",
      "array([2, 2, 0, 1, 0])\n",
      "array([0, 0, 1, 1, 0])\n",
      "array([1, 0, 1, 1, 0])\n",
      "array([2, 0, 1, 1, 0])\n",
      "array([0, 1, 1, 1, 0])\n",
      "array([1, 1, 1, 1, 0])\n",
      "array([2, 1, 1, 1, 0])\n",
      "array([0, 2, 1, 1, 0])\n",
      "array([1, 2, 1, 1, 0])\n",
      "array([2, 2, 1, 1, 0])\n",
      "array([0, 0, 2, 1, 0])\n",
      "array([1, 0, 2, 1, 0])\n",
      "array([2, 0, 2, 1, 0])\n",
      "array([0, 1, 2, 1, 0])\n",
      "array([1, 1, 2, 1, 0])\n",
      "array([2, 1, 2, 1, 0])\n",
      "array([0, 2, 2, 1, 0])\n",
      "array([1, 2, 2, 1, 0])\n",
      "array([2, 2, 2, 1, 0])\n",
      "array([0, 0, 0, 2, 0])\n",
      "array([1, 0, 0, 2, 0])\n",
      "array([2, 0, 0, 2, 0])\n",
      "array([0, 1, 0, 2, 0])\n",
      "array([1, 1, 0, 2, 0])\n",
      "array([2, 1, 0, 2, 0])\n",
      "array([0, 2, 0, 2, 0])\n",
      "array([1, 2, 0, 2, 0])\n",
      "array([2, 2, 0, 2, 0])\n",
      "array([0, 0, 1, 2, 0])\n",
      "array([1, 0, 1, 2, 0])\n",
      "array([2, 0, 1, 2, 0])\n",
      "array([0, 1, 1, 2, 0])\n",
      "array([1, 1, 1, 2, 0])\n",
      "array([2, 1, 1, 2, 0])\n",
      "array([0, 2, 1, 2, 0])\n",
      "array([1, 2, 1, 2, 0])\n",
      "array([2, 2, 1, 2, 0])\n",
      "array([0, 0, 2, 2, 0])\n",
      "array([1, 0, 2, 2, 0])\n",
      "array([2, 0, 2, 2, 0])\n",
      "array([0, 1, 2, 2, 0])\n",
      "array([1, 1, 2, 2, 0])\n",
      "array([2, 1, 2, 2, 0])\n",
      "array([0, 2, 2, 2, 0])\n",
      "array([1, 2, 2, 2, 0])\n",
      "array([2, 2, 2, 2, 0])\n",
      "array([0, 0, 0, 0, 1])\n",
      "array([1, 0, 0, 0, 1])\n",
      "array([2, 0, 0, 0, 1])\n",
      "array([0, 1, 0, 0, 1])\n",
      "array([1, 1, 0, 0, 1])\n",
      "array([2, 1, 0, 0, 1])\n",
      "array([0, 2, 0, 0, 1])\n",
      "array([1, 2, 0, 0, 1])\n",
      "array([2, 2, 0, 0, 1])\n",
      "array([0, 0, 1, 0, 1])\n",
      "array([1, 0, 1, 0, 1])\n",
      "array([2, 0, 1, 0, 1])\n",
      "array([0, 1, 1, 0, 1])\n",
      "array([1, 1, 1, 0, 1])\n",
      "array([2, 1, 1, 0, 1])\n",
      "array([0, 2, 1, 0, 1])\n",
      "array([1, 2, 1, 0, 1])\n",
      "array([2, 2, 1, 0, 1])\n",
      "array([0, 0, 2, 0, 1])\n",
      "array([1, 0, 2, 0, 1])\n",
      "array([2, 0, 2, 0, 1])\n",
      "array([0, 1, 2, 0, 1])\n",
      "array([1, 1, 2, 0, 1])\n",
      "array([2, 1, 2, 0, 1])\n",
      "array([0, 2, 2, 0, 1])\n",
      "array([1, 2, 2, 0, 1])\n",
      "array([2, 2, 2, 0, 1])\n",
      "array([0, 0, 0, 1, 1])\n",
      "array([1, 0, 0, 1, 1])\n",
      "array([2, 0, 0, 1, 1])\n",
      "array([0, 1, 0, 1, 1])\n",
      "array([1, 1, 0, 1, 1])\n",
      "array([2, 1, 0, 1, 1])\n",
      "array([0, 2, 0, 1, 1])\n",
      "array([1, 2, 0, 1, 1])\n",
      "array([2, 2, 0, 1, 1])\n",
      "array([0, 0, 1, 1, 1])\n",
      "array([1, 0, 1, 1, 1])\n",
      "array([2, 0, 1, 1, 1])\n",
      "array([0, 1, 1, 1, 1])\n",
      "array([1, 1, 1, 1, 1])\n",
      "array([2, 1, 1, 1, 1])\n",
      "array([0, 2, 1, 1, 1])\n",
      "array([1, 2, 1, 1, 1])\n",
      "array([2, 2, 1, 1, 1])\n",
      "array([0, 0, 2, 1, 1])\n",
      "array([1, 0, 2, 1, 1])\n",
      "array([2, 0, 2, 1, 1])\n",
      "array([0, 1, 2, 1, 1])\n",
      "array([1, 1, 2, 1, 1])\n",
      "array([2, 1, 2, 1, 1])\n",
      "array([0, 2, 2, 1, 1])\n",
      "array([1, 2, 2, 1, 1])\n",
      "array([2, 2, 2, 1, 1])\n",
      "array([0, 0, 0, 2, 1])\n",
      "array([1, 0, 0, 2, 1])\n",
      "array([2, 0, 0, 2, 1])\n",
      "array([0, 1, 0, 2, 1])\n",
      "array([1, 1, 0, 2, 1])\n",
      "array([2, 1, 0, 2, 1])\n",
      "array([0, 2, 0, 2, 1])\n",
      "array([1, 2, 0, 2, 1])\n",
      "array([2, 2, 0, 2, 1])\n",
      "array([0, 0, 1, 2, 1])\n",
      "array([1, 0, 1, 2, 1])\n",
      "array([2, 0, 1, 2, 1])\n",
      "array([0, 1, 1, 2, 1])\n",
      "array([1, 1, 1, 2, 1])\n",
      "array([2, 1, 1, 2, 1])\n",
      "array([0, 2, 1, 2, 1])\n",
      "array([1, 2, 1, 2, 1])\n",
      "array([2, 2, 1, 2, 1])\n",
      "array([0, 0, 2, 2, 1])\n",
      "array([1, 0, 2, 2, 1])\n",
      "array([2, 0, 2, 2, 1])\n",
      "array([0, 1, 2, 2, 1])\n",
      "array([1, 1, 2, 2, 1])\n",
      "array([2, 1, 2, 2, 1])\n",
      "array([0, 2, 2, 2, 1])\n",
      "array([1, 2, 2, 2, 1])\n",
      "array([2, 2, 2, 2, 1])\n",
      "array([0, 0, 0, 0, 2])\n",
      "array([1, 0, 0, 0, 2])\n",
      "array([2, 0, 0, 0, 2])\n",
      "array([0, 1, 0, 0, 2])\n",
      "array([1, 1, 0, 0, 2])\n",
      "array([2, 1, 0, 0, 2])\n",
      "array([0, 2, 0, 0, 2])\n",
      "array([1, 2, 0, 0, 2])\n",
      "array([2, 2, 0, 0, 2])\n",
      "array([0, 0, 1, 0, 2])\n",
      "array([1, 0, 1, 0, 2])\n",
      "array([2, 0, 1, 0, 2])\n",
      "array([0, 1, 1, 0, 2])\n",
      "array([1, 1, 1, 0, 2])\n",
      "array([2, 1, 1, 0, 2])\n",
      "array([0, 2, 1, 0, 2])\n",
      "array([1, 2, 1, 0, 2])\n",
      "array([2, 2, 1, 0, 2])\n",
      "array([0, 0, 2, 0, 2])\n",
      "array([1, 0, 2, 0, 2])\n",
      "array([2, 0, 2, 0, 2])\n",
      "array([0, 1, 2, 0, 2])\n",
      "array([1, 1, 2, 0, 2])\n",
      "array([2, 1, 2, 0, 2])\n",
      "array([0, 2, 2, 0, 2])\n",
      "array([1, 2, 2, 0, 2])\n",
      "array([2, 2, 2, 0, 2])\n",
      "array([0, 0, 0, 1, 2])\n",
      "array([1, 0, 0, 1, 2])\n",
      "array([2, 0, 0, 1, 2])\n",
      "array([0, 1, 0, 1, 2])\n",
      "array([1, 1, 0, 1, 2])\n",
      "array([2, 1, 0, 1, 2])\n",
      "array([0, 2, 0, 1, 2])\n",
      "array([1, 2, 0, 1, 2])\n",
      "array([2, 2, 0, 1, 2])\n",
      "array([0, 0, 1, 1, 2])\n",
      "array([1, 0, 1, 1, 2])\n",
      "array([2, 0, 1, 1, 2])\n",
      "array([0, 1, 1, 1, 2])\n",
      "array([1, 1, 1, 1, 2])\n",
      "array([2, 1, 1, 1, 2])\n",
      "array([0, 2, 1, 1, 2])\n",
      "array([1, 2, 1, 1, 2])\n",
      "array([2, 2, 1, 1, 2])\n",
      "array([0, 0, 2, 1, 2])\n",
      "array([1, 0, 2, 1, 2])\n",
      "array([2, 0, 2, 1, 2])\n",
      "array([0, 1, 2, 1, 2])\n",
      "array([1, 1, 2, 1, 2])\n",
      "array([2, 1, 2, 1, 2])\n",
      "array([0, 2, 2, 1, 2])\n",
      "array([1, 2, 2, 1, 2])\n",
      "array([2, 2, 2, 1, 2])\n",
      "array([0, 0, 0, 2, 2])\n",
      "array([1, 0, 0, 2, 2])\n",
      "array([2, 0, 0, 2, 2])\n",
      "array([0, 1, 0, 2, 2])\n",
      "array([1, 1, 0, 2, 2])\n",
      "array([2, 1, 0, 2, 2])\n",
      "array([0, 2, 0, 2, 2])\n",
      "array([1, 2, 0, 2, 2])\n",
      "array([2, 2, 0, 2, 2])\n",
      "array([0, 0, 1, 2, 2])\n",
      "array([1, 0, 1, 2, 2])\n",
      "array([2, 0, 1, 2, 2])\n",
      "array([0, 1, 1, 2, 2])\n",
      "array([1, 1, 1, 2, 2])\n",
      "array([2, 1, 1, 2, 2])\n",
      "array([0, 2, 1, 2, 2])\n",
      "array([1, 2, 1, 2, 2])\n",
      "array([2, 2, 1, 2, 2])\n",
      "array([0, 0, 2, 2, 2])\n",
      "array([1, 0, 2, 2, 2])\n",
      "array([2, 0, 2, 2, 2])\n",
      "array([0, 1, 2, 2, 2])\n",
      "array([1, 1, 2, 2, 2])\n",
      "array([2, 1, 2, 2, 2])\n",
      "array([0, 2, 2, 2, 2])\n",
      "array([1, 2, 2, 2, 2])\n",
      "array([2, 2, 2, 2, 2])\n"
     ]
    },
    {
     "data": {
      "text/plain": [
       "243"
      ]
     },
     "execution_count": 76,
     "metadata": {},
     "output_type": "execute_result"
    }
   ],
   "source": [
    "digitD=np.full(T,0,dtype=np.int64)\n",
    "for i in range(np.power(NofS,T)):\n",
    "    for j in range(T):    \n",
    "        digitD[j]=np.mod(np.floor(i/np.power(NofS,j)),NofS)\n",
    "    pprint.pprint(digitD)   \n",
    "np.power(NofS,T)"
   ]
  },
  {
   "cell_type": "code",
   "execution_count": 133,
   "id": "58fe727f",
   "metadata": {},
   "outputs": [
    {
     "name": "stdout",
     "output_type": "stream",
     "text": [
      "array([[0, 0, 0, 0, 0, 0],\n",
      "       [1, 0, 0, 0, 0, 0],\n",
      "       [2, 0, 0, 0, 0, 0],\n",
      "       ...,\n",
      "       [0, 2, 2, 2, 2, 2],\n",
      "       [1, 2, 2, 2, 2, 2],\n",
      "       [2, 2, 2, 2, 2, 2]])\n"
     ]
    },
    {
     "data": {
      "text/plain": [
       "(729, 6)"
      ]
     },
     "execution_count": 133,
     "metadata": {},
     "output_type": "execute_result"
    }
   ],
   "source": [
    "digitD=np.full((np.power(NofS,T+1),T+1),0,dtype=np.int64)\n",
    "for i in range(np.power(NofS,T+1)):\n",
    "    for j in range(T+1):    \n",
    "        digitD[i][j]=np.mod(np.floor(i/np.power(NofS,j)),NofS)\n",
    "#     pprint.pprint(digitD)   \n",
    "pprint.pprint(digitD)   \n",
    "np.shape(digitD)"
   ]
  },
  {
   "cell_type": "code",
   "execution_count": 134,
   "id": "1ede473d",
   "metadata": {},
   "outputs": [
    {
     "name": "stdout",
     "output_type": "stream",
     "text": [
      "5\n",
      "-99\n",
      "-99\n",
      "4\n",
      "-95\n",
      "-95\n",
      "-96\n",
      "-198\n",
      "-198\n",
      "-91\n",
      "-195\n",
      "-195\n",
      "3\n",
      "-96\n",
      "-96\n",
      "-93\n",
      "-195\n",
      "-195\n",
      "-94\n",
      "-198\n",
      "-198\n",
      "3\n",
      "-96\n",
      "-96\n",
      "3\n",
      "-99\n",
      "-99\n",
      "-92\n",
      "-196\n",
      "-196\n",
      "-93\n",
      "-192\n",
      "-192\n",
      "-193\n",
      "-295\n",
      "-295\n",
      "-92\n",
      "-196\n",
      "-196\n",
      "2\n",
      "-97\n",
      "-97\n",
      "-94\n",
      "-196\n",
      "-196\n",
      "-92\n",
      "-196\n",
      "-196\n",
      "5\n",
      "-94\n",
      "-94\n",
      "5\n",
      "-97\n",
      "-97\n",
      "-94\n",
      "-198\n",
      "-198\n",
      "-95\n",
      "-194\n",
      "-194\n",
      "-195\n",
      "-297\n",
      "-297\n",
      "-91\n",
      "-195\n",
      "-195\n",
      "3\n",
      "-96\n",
      "-96\n",
      "-93\n",
      "-195\n",
      "-195\n",
      "-94\n",
      "-198\n",
      "-198\n",
      "3\n",
      "-96\n",
      "-96\n",
      "3\n",
      "-99\n",
      "-99\n",
      "-99\n",
      "-203\n",
      "-203\n",
      "-100\n",
      "-199\n",
      "-199\n",
      "-200\n",
      "-302\n",
      "-302\n",
      "-195\n",
      "-299\n",
      "-299\n",
      "-101\n",
      "-200\n",
      "-200\n",
      "-197\n",
      "-299\n",
      "-299\n",
      "-198\n",
      "-302\n",
      "-302\n",
      "-101\n",
      "-200\n",
      "-200\n",
      "-101\n",
      "-203\n",
      "-203\n",
      "-99\n",
      "-203\n",
      "-203\n",
      "-100\n",
      "-199\n",
      "-199\n",
      "-200\n",
      "-302\n",
      "-302\n",
      "-99\n",
      "-203\n",
      "-203\n",
      "-5\n",
      "-104\n",
      "-104\n",
      "-101\n",
      "-203\n",
      "-203\n",
      "-99\n",
      "-203\n",
      "-203\n",
      "-2\n",
      "-101\n",
      "-101\n",
      "-2\n",
      "-104\n",
      "-104\n",
      "-99\n",
      "-203\n",
      "-203\n",
      "-100\n",
      "-199\n",
      "-199\n",
      "-200\n",
      "-302\n",
      "-302\n",
      "-96\n",
      "-200\n",
      "-200\n",
      "-2\n",
      "-101\n",
      "-101\n",
      "-98\n",
      "-200\n",
      "-200\n",
      "-99\n",
      "-203\n",
      "-203\n",
      "-2\n",
      "-101\n",
      "-101\n",
      "-2\n",
      "-104\n",
      "-104\n",
      "-99\n",
      "-203\n",
      "-203\n",
      "-100\n",
      "-199\n",
      "-199\n",
      "-200\n",
      "-302\n",
      "-302\n",
      "-195\n",
      "-299\n",
      "-299\n",
      "-101\n",
      "-200\n",
      "-200\n",
      "-197\n",
      "-299\n",
      "-299\n",
      "-198\n",
      "-302\n",
      "-302\n",
      "-101\n",
      "-200\n",
      "-200\n",
      "-101\n",
      "-203\n",
      "-203\n",
      "-96\n",
      "-200\n",
      "-200\n",
      "-97\n",
      "-196\n",
      "-196\n",
      "-197\n",
      "-299\n",
      "-299\n",
      "-96\n",
      "-200\n",
      "-200\n",
      "-2\n",
      "-101\n",
      "-101\n",
      "-98\n",
      "-200\n",
      "-200\n",
      "-96\n",
      "-200\n",
      "-200\n",
      "1\n",
      "-98\n",
      "-98\n",
      "1\n",
      "-101\n",
      "-101\n",
      "-99\n",
      "-203\n",
      "-203\n",
      "-100\n",
      "-199\n",
      "-199\n",
      "-200\n",
      "-302\n",
      "-302\n",
      "-96\n",
      "-200\n",
      "-200\n",
      "-2\n",
      "-101\n",
      "-101\n",
      "-98\n",
      "-200\n",
      "-200\n",
      "-99\n",
      "-203\n",
      "-203\n",
      "-2\n",
      "-101\n",
      "-101\n",
      "-2\n",
      "-104\n",
      "-104\n"
     ]
    }
   ],
   "source": [
    "for i in range(np.power(NofS,T)):\n",
    "    rewardD=0\n",
    "    for j in range(T):    \n",
    "        rewardD=rewardD+h[j][digitD[i][j],digitD[i][j+1]]\n",
    "    print(rewardD)    "
   ]
  },
  {
   "cell_type": "code",
   "execution_count": 153,
   "id": "277e5dc0",
   "metadata": {},
   "outputs": [
    {
     "name": "stdout",
     "output_type": "stream",
     "text": [
      "[   5  -99  -99    4  -95  -95  -96 -198 -198  -91 -195 -195    3  -96\n",
      "  -96    6  -96  -96 -193 -297 -297  -96 -195 -195 -195 -297 -297  -92\n",
      " -196 -196  -93 -192 -192 -193 -295 -295  -92 -196 -196    2  -97  -97\n",
      "    5  -97  -97  -92 -196 -196    5  -94  -94  -94 -196 -196 -193 -297\n",
      " -297 -194 -293 -293 -294 -396 -396 -190 -294 -294  -96 -195 -195  -93\n",
      " -195 -195 -292 -396 -396 -195 -294 -294 -294 -396 -396  -99 -203 -203\n",
      " -100 -199 -199 -200 -302 -302 -195 -299 -299 -101 -200 -200  -98 -200\n",
      " -200 -297 -401 -401 -200 -299 -299 -299 -401 -401  -99 -203 -203 -100\n",
      " -199 -199 -200 -302 -302  -99 -203 -203   -5 -104 -104   -2 -104 -104\n",
      "  -99 -203 -203   -2 -101 -101 -101 -203 -203  -99 -203 -203 -100 -199\n",
      " -199 -200 -302 -302  -96 -200 -200   -2 -101 -101    1 -101 -101 -198\n",
      " -302 -302 -101 -200 -200 -200 -302 -302  -99 -203 -203 -100 -199 -199\n",
      " -200 -302 -302 -195 -299 -299 -101 -200 -200  -98 -200 -200 -297 -401\n",
      " -401 -200 -299 -299 -299 -401 -401  -96 -200 -200  -97 -196 -196 -197\n",
      " -299 -299  -96 -200 -200   -2 -101 -101    1 -101 -101  -96 -200 -200\n",
      "    1  -98  -98  -98 -200 -200 -198 -302 -302 -199 -298 -298 -299 -401\n",
      " -401 -195 -299 -299 -101 -200 -200  -98 -200 -200 -297 -401 -401 -200\n",
      " -299 -299 -299 -401 -401  -94 -198 -198  -95 -194 -194 -195 -297 -297\n",
      " -190 -294 -294  -96 -195 -195  -93 -195 -195 -292 -396 -396 -195 -294\n",
      " -294 -294 -396 -396 -191 -295 -295 -192 -291 -291 -292 -394 -394 -191\n",
      " -295 -295  -97 -196 -196  -94 -196 -196 -191 -295 -295  -94 -193 -193\n",
      " -193 -295 -295 -292 -396 -396 -293 -392 -392 -393 -495 -495 -289 -393\n",
      " -393 -195 -294 -294 -192 -294 -294 -391 -495 -495 -294 -393 -393 -393\n",
      " -495 -495 -193 -297 -297 -194 -293 -293 -294 -396 -396 -289 -393 -393\n",
      " -195 -294 -294 -192 -294 -294 -391 -495 -495 -294 -393 -393 -393 -495\n",
      " -495 -193 -297 -297 -194 -293 -293 -294 -396 -396 -193 -297 -297  -99\n",
      " -198 -198  -96 -198 -198 -193 -297 -297  -96 -195 -195 -195 -297 -297\n",
      " -193 -297 -297 -194 -293 -293 -294 -396 -396 -190 -294 -294  -96 -195\n",
      " -195  -93 -195 -195 -292 -396 -396 -195 -294 -294 -294 -396 -396 -193\n",
      " -297 -297 -194 -293 -293 -294 -396 -396 -289 -393 -393 -195 -294 -294\n",
      " -192 -294 -294 -391 -495 -495 -294 -393 -393 -393 -495 -495 -190 -294\n",
      " -294 -191 -290 -290 -291 -393 -393 -190 -294 -294  -96 -195 -195  -93\n",
      " -195 -195 -190 -294 -294  -93 -192 -192 -192 -294 -294 -292 -396 -396\n",
      " -293 -392 -392 -393 -495 -495 -289 -393 -393 -195 -294 -294 -192 -294\n",
      " -294 -391 -495 -495 -294 -393 -393 -393 -495 -495  -94 -198 -198  -95\n",
      " -194 -194 -195 -297 -297 -190 -294 -294  -96 -195 -195  -93 -195 -195\n",
      " -292 -396 -396 -195 -294 -294 -294 -396 -396 -191 -295 -295 -192 -291\n",
      " -291 -292 -394 -394 -191 -295 -295  -97 -196 -196  -94 -196 -196 -191\n",
      " -295 -295  -94 -193 -193 -193 -295 -295 -292 -396 -396 -293 -392 -392\n",
      " -393 -495 -495 -289 -393 -393 -195 -294 -294 -192 -294 -294 -391 -495\n",
      " -495 -294 -393 -393 -393 -495 -495 -193 -297 -297 -194 -293 -293 -294\n",
      " -396 -396 -289 -393 -393 -195 -294 -294 -192 -294 -294 -391 -495 -495\n",
      " -294 -393 -393 -393 -495 -495 -193 -297 -297 -194 -293 -293 -294 -396\n",
      " -396 -193 -297 -297  -99 -198 -198  -96 -198 -198 -193 -297 -297  -96\n",
      " -195 -195 -195 -297 -297 -193 -297 -297 -194 -293 -293 -294 -396 -396\n",
      " -190 -294 -294  -96 -195 -195  -93 -195 -195 -292 -396 -396 -195 -294\n",
      " -294 -294 -396 -396 -193 -297 -297 -194 -293 -293 -294 -396 -396 -289\n",
      " -393 -393 -195 -294 -294 -192 -294 -294 -391 -495 -495 -294 -393 -393\n",
      " -393 -495 -495 -190 -294 -294 -191 -290 -290 -291 -393 -393 -190 -294\n",
      " -294  -96 -195 -195  -93 -195 -195 -190 -294 -294  -93 -192 -192 -192\n",
      " -294 -294 -292 -396 -396 -293 -392 -392 -393 -495 -495 -289 -393 -393\n",
      " -195 -294 -294 -192 -294 -294 -391 -495 -495 -294 -393 -393 -393 -495\n",
      " -495]\n",
      "6\n",
      "15\n",
      "[0 2 1 0 0 0]\n"
     ]
    }
   ],
   "source": [
    "# - all combinations\n",
    "rewardD=np.full(np.power(NofS,T+1),0,dtype=np.int64)\n",
    "for i in range(np.power(NofS,T+1)):\n",
    "    for j in range(T):    \n",
    "#         print(j)\n",
    "        rewardD[i]=rewardD[i]+h[j][digitD[i][j],digitD[i][j+1]]\n",
    "print(rewardD)  \n",
    "print(max(rewardD))\n",
    "print(np.argmax(rewardD))\n",
    "print(digitD[np.argmax(rewardD)])"
   ]
  },
  {
   "cell_type": "code",
   "execution_count": 139,
   "id": "3d8120ef",
   "metadata": {},
   "outputs": [
    {
     "data": {
      "text/plain": [
       "(array([  0,   3,  12,  21,  24,  39,  48,  51,  66,  75,  78, 210, 213]),)"
      ]
     },
     "execution_count": 139,
     "metadata": {},
     "output_type": "execute_result"
    }
   ],
   "source": [
    "np.where(rewardD>0)"
   ]
  },
  {
   "cell_type": "code",
   "execution_count": 154,
   "id": "e651ebe8",
   "metadata": {},
   "outputs": [
    {
     "name": "stdout",
     "output_type": "stream",
     "text": [
      "(array([  0,   3,  12,  15,  39,  42,  48, 150, 204, 210]),)\n",
      "array([5, 4, 3, 6, 2, 5, 5, 1, 1, 1])\n",
      "array([[0, 0, 0, 0, 0, 0],\n",
      "       [0, 1, 0, 0, 0, 0],\n",
      "       [0, 1, 1, 0, 0, 0],\n",
      "       [0, 2, 1, 0, 0, 0],\n",
      "       [0, 1, 1, 1, 0, 0],\n",
      "       [0, 2, 1, 1, 0, 0],\n",
      "       [0, 1, 2, 1, 0, 0],\n",
      "       [0, 2, 1, 2, 1, 0],\n",
      "       [0, 2, 1, 1, 2, 0],\n",
      "       [0, 1, 2, 1, 2, 0]])\n"
     ]
    }
   ],
   "source": [
    "key=np.where(rewardD>0)\n",
    "print(key)\n",
    "pprint.pprint(rewardD[key])\n",
    "pprint.pprint(digitD[key])"
   ]
  },
  {
   "cell_type": "code",
   "execution_count": 155,
   "id": "05244c4f",
   "metadata": {},
   "outputs": [
    {
     "name": "stdout",
     "output_type": "stream",
     "text": [
      "3\n",
      "3\n",
      "6\n",
      "6\n",
      "6\n"
     ]
    }
   ],
   "source": [
    "rewardD_check=0\n",
    "rewardD_check=rewardD_check+h[0][0,2]\n",
    "print(rewardD_check)\n",
    "rewardD_check=rewardD_check+h[1][2,1]\n",
    "print(rewardD_check)\n",
    "rewardD_check=rewardD_check+h[2][1,0]\n",
    "print(rewardD_check)\n",
    "rewardD_check=rewardD_check+h[3][0,0]\n",
    "print(rewardD_check)\n",
    "rewardD_check=rewardD_check+h[4][0,0]\n",
    "print(rewardD_check)\n"
   ]
  },
  {
   "cell_type": "code",
   "execution_count": 272,
   "id": "857dc026",
   "metadata": {},
   "outputs": [
    {
     "name": "stdout",
     "output_type": "stream",
     "text": [
      "goal= 0  reward= 6\n",
      "[0, 2, 1, 0, 0]\n"
     ]
    }
   ],
   "source": [
    "#----- dynamic programming\n",
    "F=np.full((T+1,NofS),0,dtype=np.int64)\n",
    "sh=np.full((T+1,NofS),0,dtype=np.int64)\n",
    "F[0,:]=h[0][0,:]\n",
    "for t in range(1,T):\n",
    "    F[t,:]=np.max(np.tile(np.transpose([F[t-1,:]]),NofS)+h[t],axis=0)\n",
    "    sh[t,:]=np.argmax(np.tile(np.transpose([F[t-1,:]]),NofS)+h[t],axis=0)\n",
    "\n",
    "gp=np.argmax(F[T-1,:])\n",
    "print('goal=',str(gp),' reward=',str(np.max(F[T-1,:])))\n",
    "path=[gp]\n",
    "st=gp\n",
    "for t in reversed(range(T-1)):\n",
    "    st=sh[t,st]\n",
    "    path=[st]+path\n",
    "print(path)"
   ]
  },
  {
   "cell_type": "code",
   "execution_count": 273,
   "id": "f7a6cb68",
   "metadata": {},
   "outputs": [
    {
     "name": "stdout",
     "output_type": "stream",
     "text": [
      "t=1\n",
      "[[  5 -94 -94]\n",
      " [  4   0   3]\n",
      " [-96   3 -96]]\n",
      "[5 3 3]\n",
      "[0 2 1]\n",
      "t=2\n",
      "[[  5 -94 -94]\n",
      " [  6   3   6]\n",
      " [-96   3 -96]]\n",
      "[6 3 6]\n",
      "[1 1 1]\n",
      "t=3\n",
      "[[  6 -93 -93]\n",
      " [  5   3   6]\n",
      " [-93   6 -93]]\n",
      "[6 6 6]\n",
      "[0 2 1]\n",
      "t=4\n",
      "[[  6 -93 -93]\n",
      " [  1 -93 -93]\n",
      " [  1 -93 -93]]\n",
      "[  6 -93 -93]\n",
      "[0 0 0]\n",
      "[[  5   0   3]\n",
      " [  5   3   3]\n",
      " [  6   3   6]\n",
      " [  6   6   6]\n",
      " [  6 -93 -93]\n",
      " [  0   0   0]]\n",
      "[[0 0 0]\n",
      " [0 2 1]\n",
      " [1 1 1]\n",
      " [0 2 1]\n",
      " [0 0 0]\n",
      " [0 0 0]]\n",
      "6\n",
      "0\n",
      "4\n",
      "goal= 0\n",
      "[0, 0]\n",
      "[1, 0, 0]\n",
      "[2, 1, 0, 0]\n",
      "[0, 2, 1, 0, 0]\n"
     ]
    }
   ],
   "source": [
    "#----- dynamic programming\n",
    "F=np.full((T+1,NofS),0,dtype=np.int64)\n",
    "sh=np.full((T+1,NofS),0,dtype=np.int64)\n",
    "F[0,:]=h[0][0,:]\n",
    "for t in range(1,T):\n",
    "    print('t='+str(t))\n",
    "    F[t,:]=np.max(np.tile(np.transpose([F[t-1,:]]),NofS)+h[t],axis=0)\n",
    "    sh[t,:]=np.argmax(np.tile(np.transpose([F[t-1,:]]),NofS)+h[t],axis=0)\n",
    "    print(np.tile(np.transpose([F[t-1,:]]),NofS)+h[t])\n",
    "    print(F[t,:])\n",
    "    print(np.argmax(np.tile(np.transpose([F[t-1,:]]),NofS)+h[t],axis=0))\n",
    "\n",
    "print(F)\n",
    "print(sh)\n",
    "print(np.max(F[T-1,:]))\n",
    "print(np.argmax(F[T-1,:]))\n",
    "print(T-1)\n",
    "gp=np.argmax(F[T-1,:])\n",
    "print('goal=',str(gp))\n",
    "path=[gp]\n",
    "st=gp\n",
    "for t in reversed(range(T-1)):\n",
    "    st=sh[t,st]\n",
    "    path=[st]+path\n",
    "    print(path)"
   ]
  },
  {
   "cell_type": "code",
   "execution_count": 263,
   "id": "a7ba39e7",
   "metadata": {},
   "outputs": [
    {
     "data": {
      "text/plain": [
       "0"
      ]
     },
     "execution_count": 263,
     "metadata": {},
     "output_type": "execute_result"
    }
   ],
   "source": [
    "sh[3,st]\n",
    "sh[2,0]\n",
    "sh[1,1]\n",
    "sh[0,2]"
   ]
  },
  {
   "cell_type": "code",
   "execution_count": 219,
   "id": "ec8609f7",
   "metadata": {},
   "outputs": [
    {
     "name": "stdout",
     "output_type": "stream",
     "text": [
      "[5 0 3]\n",
      "[5 3 3]\n",
      "[6 3 6]\n",
      "[6 6 6]\n",
      "[  6 -93 -93]\n"
     ]
    }
   ],
   "source": [
    "# F[t,:]=h[t][s(t-1),s(t)]\n",
    "F[0,:]=h[0][0,:]\n",
    "print(F[0,:])\n",
    "F[1,:]=np.max(np.tile(np.transpose([F[0,:]]),NofS)+h[1],axis=0)\n",
    "print(F[1,:])\n",
    "F[2,:]=np.max(np.tile(np.transpose([F[1,:]]),NofS)+h[2],axis=0)\n",
    "print(F[2,:])\n",
    "F[3,:]=np.max(np.tile(np.transpose([F[2,:]]),NofS)+h[3],axis=0)\n",
    "print(F[3,:])\n",
    "F[4,:]=np.max(np.tile(np.transpose([F[3,:]]),NofS)+h[4],axis=0)\n",
    "print(F[4,:])"
   ]
  },
  {
   "cell_type": "code",
   "execution_count": 192,
   "id": "9dd47690",
   "metadata": {},
   "outputs": [
    {
     "data": {
      "text/plain": [
       "array([[5, 5, 5],\n",
       "       [0, 0, 0],\n",
       "       [3, 3, 3]])"
      ]
     },
     "execution_count": 192,
     "metadata": {},
     "output_type": "execute_result"
    }
   ],
   "source": [
    "np.tile(np.transpose([F[0,:]]),NofS)\n"
   ]
  },
  {
   "cell_type": "code",
   "execution_count": 194,
   "id": "515f2977",
   "metadata": {},
   "outputs": [
    {
     "data": {
      "text/plain": [
       "array([[5, 0, 3],\n",
       "       [5, 0, 3],\n",
       "       [5, 0, 3]])"
      ]
     },
     "execution_count": 194,
     "metadata": {},
     "output_type": "execute_result"
    }
   ],
   "source": [
    "np.tile(F[0,:],[NofS,1])\n"
   ]
  },
  {
   "cell_type": "code",
   "execution_count": 179,
   "id": "538c4200",
   "metadata": {},
   "outputs": [
    {
     "data": {
      "text/plain": [
       "array([[  0, -99, -99],\n",
       "       [  4,   0,   3],\n",
       "       [-99,   0, -99]])"
      ]
     },
     "execution_count": 179,
     "metadata": {},
     "output_type": "execute_result"
    }
   ],
   "source": [
    "h[1]"
   ]
  },
  {
   "cell_type": "code",
   "execution_count": 200,
   "id": "f6035229",
   "metadata": {},
   "outputs": [
    {
     "data": {
      "text/plain": [
       "array([[  5, -94, -94],\n",
       "       [  4,   0,   3],\n",
       "       [-96,   3, -96]])"
      ]
     },
     "execution_count": 200,
     "metadata": {},
     "output_type": "execute_result"
    }
   ],
   "source": [
    "np.tile(np.transpose([F[0,:]]),NofS)+h[1]"
   ]
  },
  {
   "cell_type": "code",
   "execution_count": 199,
   "id": "4a060530",
   "metadata": {},
   "outputs": [
    {
     "data": {
      "text/plain": [
       "array([5, 3, 3])"
      ]
     },
     "execution_count": 199,
     "metadata": {},
     "output_type": "execute_result"
    }
   ],
   "source": [
    "np.max(np.tile(np.transpose([F[0,:]]),NofS)+h[1],axis=0)"
   ]
  }
 ],
 "metadata": {
  "kernelspec": {
   "display_name": "Python 3 (ipykernel)",
   "language": "python",
   "name": "python3"
  },
  "language_info": {
   "codemirror_mode": {
    "name": "ipython",
    "version": 3
   },
   "file_extension": ".py",
   "mimetype": "text/x-python",
   "name": "python",
   "nbconvert_exporter": "python",
   "pygments_lexer": "ipython3",
   "version": "3.10.6"
  }
 },
 "nbformat": 4,
 "nbformat_minor": 5
}
