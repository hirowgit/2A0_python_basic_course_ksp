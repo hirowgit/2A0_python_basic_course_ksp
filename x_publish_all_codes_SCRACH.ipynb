{
 "cells": [
  {
   "cell_type": "code",
   "execution_count": 52,
   "metadata": {},
   "outputs": [
    {
     "name": "stdout",
     "output_type": "stream",
     "text": [
      "['lec1_step2', 'lec1_step1']\n",
      "lec1_step2\n",
      "jupyter nbconvert --to asciidoc lec1_step2.ipynb\n",
      "jupyter nbconvert --to html lec1_step2.ipynb\n",
      "jupyter nbconvert --to latex lec1_step2.ipynb\n",
      "jupyter nbconvert --to markdown lec1_step2.ipynb\n",
      "jupyter nbconvert --to pdf lec1_step2.ipynb\n",
      "jupyter nbconvert --to python lec1_step2.ipynb\n",
      "jupyter nbconvert --to slides lec1_step2.ipynb\n",
      "There exists lec1_step2\n",
      "lec1_step2.asciidoc\n",
      "lec1_step2.html\n",
      "lec1_step2.tex\n",
      "lec1_step2.md\n",
      "lec1_step2.pdf\n",
      "lec1_step2.slides.html\n",
      "lec1_step2.asciidoc\n",
      "lec1_step2.html\n",
      "lec1_step2.tex\n",
      "lec1_step2.md\n",
      "lec1_step2.pdf\n",
      "lec1_step2.slides.html\n",
      "lec1_step1\n",
      "jupyter nbconvert --to asciidoc lec1_step1.ipynb\n",
      "jupyter nbconvert --to html lec1_step1.ipynb\n",
      "jupyter nbconvert --to latex lec1_step1.ipynb\n",
      "jupyter nbconvert --to markdown lec1_step1.ipynb\n",
      "jupyter nbconvert --to pdf lec1_step1.ipynb\n",
      "jupyter nbconvert --to python lec1_step1.ipynb\n",
      "jupyter nbconvert --to slides lec1_step1.ipynb\n",
      "There exists lec1_step1\n",
      "lec1_step1.asciidoc\n",
      "lec1_step1.html\n",
      "lec1_step1.tex\n",
      "lec1_step1.md\n",
      "lec1_step1.pdf\n",
      "lec1_step1.slides.html\n",
      "lec1_step1.asciidoc\n",
      "lec1_step1.html\n",
      "lec1_step1.tex\n",
      "lec1_step1.md\n",
      "lec1_step1.pdf\n",
      "lec1_step1.slides.html\n",
      "\n",
      " All processes were completed!\n"
     ]
    }
   ],
   "source": [
    "import subprocess\n",
    "import shutil\n",
    "import os\n",
    "import time\n",
    "ftypes_ori=['asciidoc', 'html', 'latex', 'markdown', 'notebook', 'pdf', 'python','slides'];\n",
    "ptypes_ori=['asciidoc', 'html', 'tex', 'md', 'ipynb', 'pdf', 'py','slides.html']; \n",
    "\n",
    "originalF='lec1_step1.ipynb';\n",
    "# originalF='x_publish_all_codes_sub.ipynb';\n",
    "def subF(originalF):\n",
    "\n",
    "        #ftypes=['asciidoc', 'html', 'latex', 'markdown', 'notebook', 'pdf', 'python','slides'];\n",
    "        #ptypes=['asciidoc', 'html', 'tex', 'md', 'ipynb', 'pdf', 'py','slides.html'];\n",
    "        ftypes=['asciidoc', 'html', 'latex', 'markdown', 'pdf', 'python','slides'];\n",
    "        ptypes=['asciidoc', 'html', 'tex', 'md', 'pdf','slides.html'];\n",
    "\n",
    "        cmd0=['jupyter','nbconvert','--to'];\n",
    "        ftag=originalF.split('.')[0];\n",
    "\n",
    "        print(ftag)\n",
    "\n",
    "        for key in ftypes:\n",
    "          cmd=cmd0+[key]+[originalF];\n",
    "          Pcmd=' '.join(cmd)\n",
    "          print(Pcmd)\n",
    "          subprocess.Popen(cmd)\n",
    "\n",
    "        if  not os.path.isdir(ftag):\n",
    "            print(' '.join(['The target folder \\\"',ftag,'\\\" does not exist...']))\n",
    "            os.mkdir(ftag);\n",
    "        else:\n",
    "            print(' '.join(['There exists',ftag]));  \n",
    "            \n",
    "        time.sleep(10);\n",
    "        for key in ptypes:\n",
    "            target='.'.join([ftag,key]);\n",
    "            print(target);\n",
    "            if os.path.isfile(target):\n",
    "                shutil.move(target,os.path.join(ftag,target));\n",
    "\n",
    "        time.sleep(10);\n",
    "        for key in ptypes:\n",
    "            target='.'.join([ftag,key]);\n",
    "            print(target);\n",
    "            if os.path.isfile(target):\n",
    "                os.remove(target);\n",
    "\n",
    "        target='.'.join([ftag,ptypes[0]]);\n",
    "        target2='.'.join([ftag,'txt']);\n",
    "        shutil.copy(os.path.join(ftag,target),os.path.join(ftag,target2));\n",
    "\n",
    "flist=os.listdir(path='.')\n",
    "flist1= [key for key in flist if '.py'  in key or '.ipy'  in key ]\n",
    "flist2= [key for key in flist1 if 'x_'  not in key and '.ipynb_'  not in key ]\n",
    "flist3= [key for key in flist2 if '.py'  in key ]\n",
    "ftaglist=[key.split('.')[0] for key in flist3]\n",
    "print(ftaglist)\n",
    "\n",
    "for key in ftaglist:\n",
    "    subF(\".\".join([key,ptypes_ori[4]])) # + 'ipynb'\n",
    "\n",
    "# subF(originalF)\n",
    "print(\"\\n All processes were completed!\")"
   ]
  },
  {
   "cell_type": "code",
   "execution_count": 43,
   "metadata": {},
   "outputs": [
    {
     "name": "stdout",
     "output_type": "stream",
     "text": [
      "['x_publish_all_codes_SCRACH.ipynb', '.DS_Store', 'lec1_step1.ipynb', 'LICENSE', 'lec1_step2.py', 'gitattributes', 'lec1_step2', 'lec1_step2.ipynb', 'README.md', '.gitignore', 'GUI_python_platform', '.ipynb_checkpoints', 'x_publish_all_codes_sub.py', 'lec1_step1.py', 'x_publish_all_codes_sub', '.git', 'lec1_step1', 'x_publish_each_codes_SCRATCH.ipynb', 'gitignore', 'x_publish_each_codes.ipynb']\n"
     ]
    }
   ],
   "source": [
    "flist=os.listdir(path='.')\n",
    "print(flist)"
   ]
  },
  {
   "cell_type": "code",
   "execution_count": 8,
   "metadata": {},
   "outputs": [
    {
     "data": {
      "text/plain": [
       "28"
      ]
     },
     "execution_count": 8,
     "metadata": {},
     "output_type": "execute_result"
    }
   ],
   "source": [
    "flist[0].find('py')"
   ]
  },
  {
   "cell_type": "code",
   "execution_count": 11,
   "metadata": {},
   "outputs": [
    {
     "data": {
      "text/plain": [
       "['x_publish_all_codes_SCRACH.ipynb',\n",
       " '.DS_Store',\n",
       " 'lec1_step1.ipynb',\n",
       " 'LICENSE',\n",
       " 'gitattributes',\n",
       " 'README.md',\n",
       " '.gitignore',\n",
       " 'GUI_python_platform',\n",
       " '.ipynb_checkpoints',\n",
       " 'x_publish_all_codes_sub.py',\n",
       " 'lec1_step1.py',\n",
       " 'x_publish_all_codes_sub',\n",
       " '.git',\n",
       " 'lec1_step1',\n",
       " 'x_publish_each_codes_SCRATCH.ipynb',\n",
       " 'gitignore',\n",
       " 'x_publish_each_codes.ipynb']"
      ]
     },
     "execution_count": 11,
     "metadata": {},
     "output_type": "execute_result"
    }
   ],
   "source": [
    " [key for key in flist if 'py' or 'ipynb' in key]\n"
   ]
  },
  {
   "cell_type": "code",
   "execution_count": 41,
   "metadata": {},
   "outputs": [
    {
     "name": "stdout",
     "output_type": "stream",
     "text": [
      "['x_publish_all_codes_SCRACH.ipynb', 'lec1_step1.ipynb', 'lec1_step2.py', '.ipynb_checkpoints', 'x_publish_all_codes_sub.py', 'lec1_step1.py', 'x_publish_each_codes_SCRATCH.ipynb', 'x_publish_each_codes.ipynb']\n",
      " \n",
      "['lec1_step1.ipynb', 'lec1_step2.py', 'lec1_step1.py']\n",
      "['lec1_step2.py', 'lec1_step1.py']\n",
      "['lec1_step2', 'lec1_step1']\n"
     ]
    }
   ],
   "source": [
    "flist=os.listdir(path='.')\n",
    "flist1= [key for key in flist if '.py'  in key or '.ipy'  in key ]\n",
    "print(flist1)\n",
    "print(' ')\n",
    "flist2= [key for key in flist1 if 'x_'  not in key and '.ipynb_'  not in key ]\n",
    "print(flist2)\n",
    "flist3= [key for key in flist2 if '.py'  in key ]\n",
    "print(flist3)\n",
    "ftaglist=[key.split('.')[0] for key in flist3]\n",
    "print(ftaglist)"
   ]
  },
  {
   "cell_type": "code",
   "execution_count": 26,
   "metadata": {},
   "outputs": [
    {
     "data": {
      "text/plain": [
       "['.DS_Store',\n",
       " 'lec1_step1.ipynb',\n",
       " 'LICENSE',\n",
       " 'gitattributes',\n",
       " 'README.md',\n",
       " '.gitignore',\n",
       " 'GUI_python_platform',\n",
       " '.ipynb_checkpoints',\n",
       " 'lec1_step1.py',\n",
       " '.git',\n",
       " 'lec1_step1',\n",
       " 'gitignore']"
      ]
     },
     "execution_count": 26,
     "metadata": {},
     "output_type": "execute_result"
    }
   ],
   "source": [
    " [key for key in flist if 'x_' not in key ]\n",
    "\n"
   ]
  },
  {
   "cell_type": "code",
   "execution_count": 49,
   "metadata": {},
   "outputs": [
    {
     "data": {
      "text/plain": [
       "'lec1_step2.ipynb'"
      ]
     },
     "execution_count": 49,
     "metadata": {},
     "output_type": "execute_result"
    }
   ],
   "source": [
    "\".\".join([key,ptypes_ori[4]])"
   ]
  },
  {
   "cell_type": "code",
   "execution_count": null,
   "metadata": {},
   "outputs": [],
   "source": []
  }
 ],
 "metadata": {
  "kernelspec": {
   "display_name": "Python 3",
   "language": "python",
   "name": "python3"
  },
  "language_info": {
   "codemirror_mode": {
    "name": "ipython",
    "version": 3
   },
   "file_extension": ".py",
   "mimetype": "text/x-python",
   "name": "python",
   "nbconvert_exporter": "python",
   "pygments_lexer": "ipython3",
   "version": "3.7.7"
  }
 },
 "nbformat": 4,
 "nbformat_minor": 2
}
